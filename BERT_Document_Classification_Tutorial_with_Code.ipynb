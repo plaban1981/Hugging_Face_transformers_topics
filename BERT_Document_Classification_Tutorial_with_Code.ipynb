{
  "nbformat": 4,
  "nbformat_minor": 0,
  "metadata": {
    "colab": {
      "provenance": [],
      "toc_visible": true,
      "include_colab_link": true
    },
    "kernelspec": {
      "name": "python3",
      "display_name": "Python 3"
    },
    "accelerator": "GPU",
    "widgets": {
      "application/vnd.jupyter.widget-state+json": {
        "2a60f97a027542409607e6befad8d402": {
          "model_module": "@jupyter-widgets/controls",
          "model_name": "HBoxModel",
          "model_module_version": "1.5.0",
          "state": {
            "_view_name": "HBoxView",
            "_dom_classes": [],
            "_model_name": "HBoxModel",
            "_view_module": "@jupyter-widgets/controls",
            "_model_module_version": "1.5.0",
            "_view_count": null,
            "_view_module_version": "1.5.0",
            "box_style": "",
            "layout": "IPY_MODEL_6be9464fc3cf4102ad9247be2ac4b4c6",
            "_model_module": "@jupyter-widgets/controls",
            "children": [
              "IPY_MODEL_5e744d7a66624b7f8968f4acb05a570b",
              "IPY_MODEL_9a17f5f07dc24d889d488d1f20028c36"
            ]
          }
        },
        "6be9464fc3cf4102ad9247be2ac4b4c6": {
          "model_module": "@jupyter-widgets/base",
          "model_name": "LayoutModel",
          "model_module_version": "1.2.0",
          "state": {
            "_view_name": "LayoutView",
            "grid_template_rows": null,
            "right": null,
            "justify_content": null,
            "_view_module": "@jupyter-widgets/base",
            "overflow": null,
            "_model_module_version": "1.2.0",
            "_view_count": null,
            "flex_flow": null,
            "width": null,
            "min_width": null,
            "border": null,
            "align_items": null,
            "bottom": null,
            "_model_module": "@jupyter-widgets/base",
            "top": null,
            "grid_column": null,
            "overflow_y": null,
            "overflow_x": null,
            "grid_auto_flow": null,
            "grid_area": null,
            "grid_template_columns": null,
            "flex": null,
            "_model_name": "LayoutModel",
            "justify_items": null,
            "grid_row": null,
            "max_height": null,
            "align_content": null,
            "visibility": null,
            "align_self": null,
            "height": null,
            "min_height": null,
            "padding": null,
            "grid_auto_rows": null,
            "grid_gap": null,
            "max_width": null,
            "order": null,
            "_view_module_version": "1.2.0",
            "grid_template_areas": null,
            "object_position": null,
            "object_fit": null,
            "grid_auto_columns": null,
            "margin": null,
            "display": null,
            "left": null
          }
        },
        "5e744d7a66624b7f8968f4acb05a570b": {
          "model_module": "@jupyter-widgets/controls",
          "model_name": "FloatProgressModel",
          "model_module_version": "1.5.0",
          "state": {
            "_view_name": "ProgressView",
            "style": "IPY_MODEL_8f117dc3eddf46d09b9d688006260c7c",
            "_dom_classes": [],
            "description": "Downloading: 100%",
            "_model_name": "FloatProgressModel",
            "bar_style": "success",
            "max": 231508,
            "_view_module": "@jupyter-widgets/controls",
            "_model_module_version": "1.5.0",
            "value": 231508,
            "_view_count": null,
            "_view_module_version": "1.5.0",
            "orientation": "horizontal",
            "min": 0,
            "description_tooltip": null,
            "_model_module": "@jupyter-widgets/controls",
            "layout": "IPY_MODEL_b9eb0445ee82431abe2d33bf11dfc3ec"
          }
        },
        "9a17f5f07dc24d889d488d1f20028c36": {
          "model_module": "@jupyter-widgets/controls",
          "model_name": "HTMLModel",
          "model_module_version": "1.5.0",
          "state": {
            "_view_name": "HTMLView",
            "style": "IPY_MODEL_75027c1ea6994d8ba143544bd29bc009",
            "_dom_classes": [],
            "description": "",
            "_model_name": "HTMLModel",
            "placeholder": "​",
            "_view_module": "@jupyter-widgets/controls",
            "_model_module_version": "1.5.0",
            "value": " 232k/232k [00:00&lt;00:00, 640kB/s]",
            "_view_count": null,
            "_view_module_version": "1.5.0",
            "description_tooltip": null,
            "_model_module": "@jupyter-widgets/controls",
            "layout": "IPY_MODEL_b2bbd9866684488e893f97593f93930e"
          }
        },
        "8f117dc3eddf46d09b9d688006260c7c": {
          "model_module": "@jupyter-widgets/controls",
          "model_name": "ProgressStyleModel",
          "model_module_version": "1.5.0",
          "state": {
            "_view_name": "StyleView",
            "_model_name": "ProgressStyleModel",
            "description_width": "initial",
            "_view_module": "@jupyter-widgets/base",
            "_model_module_version": "1.5.0",
            "_view_count": null,
            "_view_module_version": "1.2.0",
            "bar_color": null,
            "_model_module": "@jupyter-widgets/controls"
          }
        },
        "b9eb0445ee82431abe2d33bf11dfc3ec": {
          "model_module": "@jupyter-widgets/base",
          "model_name": "LayoutModel",
          "model_module_version": "1.2.0",
          "state": {
            "_view_name": "LayoutView",
            "grid_template_rows": null,
            "right": null,
            "justify_content": null,
            "_view_module": "@jupyter-widgets/base",
            "overflow": null,
            "_model_module_version": "1.2.0",
            "_view_count": null,
            "flex_flow": null,
            "width": null,
            "min_width": null,
            "border": null,
            "align_items": null,
            "bottom": null,
            "_model_module": "@jupyter-widgets/base",
            "top": null,
            "grid_column": null,
            "overflow_y": null,
            "overflow_x": null,
            "grid_auto_flow": null,
            "grid_area": null,
            "grid_template_columns": null,
            "flex": null,
            "_model_name": "LayoutModel",
            "justify_items": null,
            "grid_row": null,
            "max_height": null,
            "align_content": null,
            "visibility": null,
            "align_self": null,
            "height": null,
            "min_height": null,
            "padding": null,
            "grid_auto_rows": null,
            "grid_gap": null,
            "max_width": null,
            "order": null,
            "_view_module_version": "1.2.0",
            "grid_template_areas": null,
            "object_position": null,
            "object_fit": null,
            "grid_auto_columns": null,
            "margin": null,
            "display": null,
            "left": null
          }
        },
        "75027c1ea6994d8ba143544bd29bc009": {
          "model_module": "@jupyter-widgets/controls",
          "model_name": "DescriptionStyleModel",
          "model_module_version": "1.5.0",
          "state": {
            "_view_name": "StyleView",
            "_model_name": "DescriptionStyleModel",
            "description_width": "",
            "_view_module": "@jupyter-widgets/base",
            "_model_module_version": "1.5.0",
            "_view_count": null,
            "_view_module_version": "1.2.0",
            "_model_module": "@jupyter-widgets/controls"
          }
        },
        "b2bbd9866684488e893f97593f93930e": {
          "model_module": "@jupyter-widgets/base",
          "model_name": "LayoutModel",
          "model_module_version": "1.2.0",
          "state": {
            "_view_name": "LayoutView",
            "grid_template_rows": null,
            "right": null,
            "justify_content": null,
            "_view_module": "@jupyter-widgets/base",
            "overflow": null,
            "_model_module_version": "1.2.0",
            "_view_count": null,
            "flex_flow": null,
            "width": null,
            "min_width": null,
            "border": null,
            "align_items": null,
            "bottom": null,
            "_model_module": "@jupyter-widgets/base",
            "top": null,
            "grid_column": null,
            "overflow_y": null,
            "overflow_x": null,
            "grid_auto_flow": null,
            "grid_area": null,
            "grid_template_columns": null,
            "flex": null,
            "_model_name": "LayoutModel",
            "justify_items": null,
            "grid_row": null,
            "max_height": null,
            "align_content": null,
            "visibility": null,
            "align_self": null,
            "height": null,
            "min_height": null,
            "padding": null,
            "grid_auto_rows": null,
            "grid_gap": null,
            "max_width": null,
            "order": null,
            "_view_module_version": "1.2.0",
            "grid_template_areas": null,
            "object_position": null,
            "object_fit": null,
            "grid_auto_columns": null,
            "margin": null,
            "display": null,
            "left": null
          }
        },
        "32dfe8d4c48743388d085103f1e9212a": {
          "model_module": "@jupyter-widgets/controls",
          "model_name": "HBoxModel",
          "model_module_version": "1.5.0",
          "state": {
            "_view_name": "HBoxView",
            "_dom_classes": [],
            "_model_name": "HBoxModel",
            "_view_module": "@jupyter-widgets/controls",
            "_model_module_version": "1.5.0",
            "_view_count": null,
            "_view_module_version": "1.5.0",
            "box_style": "",
            "layout": "IPY_MODEL_2b8a8dabb9f043739a5511d4bca99e29",
            "_model_module": "@jupyter-widgets/controls",
            "children": [
              "IPY_MODEL_1e484e76d41a43f19e8f7b7765d67bfa",
              "IPY_MODEL_16f85038542c47f987142d60db8f4488"
            ]
          }
        },
        "2b8a8dabb9f043739a5511d4bca99e29": {
          "model_module": "@jupyter-widgets/base",
          "model_name": "LayoutModel",
          "model_module_version": "1.2.0",
          "state": {
            "_view_name": "LayoutView",
            "grid_template_rows": null,
            "right": null,
            "justify_content": null,
            "_view_module": "@jupyter-widgets/base",
            "overflow": null,
            "_model_module_version": "1.2.0",
            "_view_count": null,
            "flex_flow": null,
            "width": null,
            "min_width": null,
            "border": null,
            "align_items": null,
            "bottom": null,
            "_model_module": "@jupyter-widgets/base",
            "top": null,
            "grid_column": null,
            "overflow_y": null,
            "overflow_x": null,
            "grid_auto_flow": null,
            "grid_area": null,
            "grid_template_columns": null,
            "flex": null,
            "_model_name": "LayoutModel",
            "justify_items": null,
            "grid_row": null,
            "max_height": null,
            "align_content": null,
            "visibility": null,
            "align_self": null,
            "height": null,
            "min_height": null,
            "padding": null,
            "grid_auto_rows": null,
            "grid_gap": null,
            "max_width": null,
            "order": null,
            "_view_module_version": "1.2.0",
            "grid_template_areas": null,
            "object_position": null,
            "object_fit": null,
            "grid_auto_columns": null,
            "margin": null,
            "display": null,
            "left": null
          }
        },
        "1e484e76d41a43f19e8f7b7765d67bfa": {
          "model_module": "@jupyter-widgets/controls",
          "model_name": "FloatProgressModel",
          "model_module_version": "1.5.0",
          "state": {
            "_view_name": "ProgressView",
            "style": "IPY_MODEL_8acc13d0dd4f4a4495523ea749f37ce9",
            "_dom_classes": [],
            "description": "Downloading: 100%",
            "_model_name": "FloatProgressModel",
            "bar_style": "success",
            "max": 433,
            "_view_module": "@jupyter-widgets/controls",
            "_model_module_version": "1.5.0",
            "value": 433,
            "_view_count": null,
            "_view_module_version": "1.5.0",
            "orientation": "horizontal",
            "min": 0,
            "description_tooltip": null,
            "_model_module": "@jupyter-widgets/controls",
            "layout": "IPY_MODEL_e1a59ad47b4b460789ed151d7a690a88"
          }
        },
        "16f85038542c47f987142d60db8f4488": {
          "model_module": "@jupyter-widgets/controls",
          "model_name": "HTMLModel",
          "model_module_version": "1.5.0",
          "state": {
            "_view_name": "HTMLView",
            "style": "IPY_MODEL_7a5ddb5790fa449ca7ea7bcdbf10dcea",
            "_dom_classes": [],
            "description": "",
            "_model_name": "HTMLModel",
            "placeholder": "​",
            "_view_module": "@jupyter-widgets/controls",
            "_model_module_version": "1.5.0",
            "value": " 433/433 [00:20&lt;00:00, 20.6B/s]",
            "_view_count": null,
            "_view_module_version": "1.5.0",
            "description_tooltip": null,
            "_model_module": "@jupyter-widgets/controls",
            "layout": "IPY_MODEL_0f879e16aefb4f19b011df7ec7baab49"
          }
        },
        "8acc13d0dd4f4a4495523ea749f37ce9": {
          "model_module": "@jupyter-widgets/controls",
          "model_name": "ProgressStyleModel",
          "model_module_version": "1.5.0",
          "state": {
            "_view_name": "StyleView",
            "_model_name": "ProgressStyleModel",
            "description_width": "initial",
            "_view_module": "@jupyter-widgets/base",
            "_model_module_version": "1.5.0",
            "_view_count": null,
            "_view_module_version": "1.2.0",
            "bar_color": null,
            "_model_module": "@jupyter-widgets/controls"
          }
        },
        "e1a59ad47b4b460789ed151d7a690a88": {
          "model_module": "@jupyter-widgets/base",
          "model_name": "LayoutModel",
          "model_module_version": "1.2.0",
          "state": {
            "_view_name": "LayoutView",
            "grid_template_rows": null,
            "right": null,
            "justify_content": null,
            "_view_module": "@jupyter-widgets/base",
            "overflow": null,
            "_model_module_version": "1.2.0",
            "_view_count": null,
            "flex_flow": null,
            "width": null,
            "min_width": null,
            "border": null,
            "align_items": null,
            "bottom": null,
            "_model_module": "@jupyter-widgets/base",
            "top": null,
            "grid_column": null,
            "overflow_y": null,
            "overflow_x": null,
            "grid_auto_flow": null,
            "grid_area": null,
            "grid_template_columns": null,
            "flex": null,
            "_model_name": "LayoutModel",
            "justify_items": null,
            "grid_row": null,
            "max_height": null,
            "align_content": null,
            "visibility": null,
            "align_self": null,
            "height": null,
            "min_height": null,
            "padding": null,
            "grid_auto_rows": null,
            "grid_gap": null,
            "max_width": null,
            "order": null,
            "_view_module_version": "1.2.0",
            "grid_template_areas": null,
            "object_position": null,
            "object_fit": null,
            "grid_auto_columns": null,
            "margin": null,
            "display": null,
            "left": null
          }
        },
        "7a5ddb5790fa449ca7ea7bcdbf10dcea": {
          "model_module": "@jupyter-widgets/controls",
          "model_name": "DescriptionStyleModel",
          "model_module_version": "1.5.0",
          "state": {
            "_view_name": "StyleView",
            "_model_name": "DescriptionStyleModel",
            "description_width": "",
            "_view_module": "@jupyter-widgets/base",
            "_model_module_version": "1.5.0",
            "_view_count": null,
            "_view_module_version": "1.2.0",
            "_model_module": "@jupyter-widgets/controls"
          }
        },
        "0f879e16aefb4f19b011df7ec7baab49": {
          "model_module": "@jupyter-widgets/base",
          "model_name": "LayoutModel",
          "model_module_version": "1.2.0",
          "state": {
            "_view_name": "LayoutView",
            "grid_template_rows": null,
            "right": null,
            "justify_content": null,
            "_view_module": "@jupyter-widgets/base",
            "overflow": null,
            "_model_module_version": "1.2.0",
            "_view_count": null,
            "flex_flow": null,
            "width": null,
            "min_width": null,
            "border": null,
            "align_items": null,
            "bottom": null,
            "_model_module": "@jupyter-widgets/base",
            "top": null,
            "grid_column": null,
            "overflow_y": null,
            "overflow_x": null,
            "grid_auto_flow": null,
            "grid_area": null,
            "grid_template_columns": null,
            "flex": null,
            "_model_name": "LayoutModel",
            "justify_items": null,
            "grid_row": null,
            "max_height": null,
            "align_content": null,
            "visibility": null,
            "align_self": null,
            "height": null,
            "min_height": null,
            "padding": null,
            "grid_auto_rows": null,
            "grid_gap": null,
            "max_width": null,
            "order": null,
            "_view_module_version": "1.2.0",
            "grid_template_areas": null,
            "object_position": null,
            "object_fit": null,
            "grid_auto_columns": null,
            "margin": null,
            "display": null,
            "left": null
          }
        },
        "807a02fb3ed34c60a8a18801c3e7f82b": {
          "model_module": "@jupyter-widgets/controls",
          "model_name": "HBoxModel",
          "model_module_version": "1.5.0",
          "state": {
            "_view_name": "HBoxView",
            "_dom_classes": [],
            "_model_name": "HBoxModel",
            "_view_module": "@jupyter-widgets/controls",
            "_model_module_version": "1.5.0",
            "_view_count": null,
            "_view_module_version": "1.5.0",
            "box_style": "",
            "layout": "IPY_MODEL_cc59e01f586b4dc2865570890310c16a",
            "_model_module": "@jupyter-widgets/controls",
            "children": [
              "IPY_MODEL_cd52dcd0b75e4e2b93e30c34896fdf3e",
              "IPY_MODEL_4449fc1273ba4838b38368f62dc53259"
            ]
          }
        },
        "cc59e01f586b4dc2865570890310c16a": {
          "model_module": "@jupyter-widgets/base",
          "model_name": "LayoutModel",
          "model_module_version": "1.2.0",
          "state": {
            "_view_name": "LayoutView",
            "grid_template_rows": null,
            "right": null,
            "justify_content": null,
            "_view_module": "@jupyter-widgets/base",
            "overflow": null,
            "_model_module_version": "1.2.0",
            "_view_count": null,
            "flex_flow": null,
            "width": null,
            "min_width": null,
            "border": null,
            "align_items": null,
            "bottom": null,
            "_model_module": "@jupyter-widgets/base",
            "top": null,
            "grid_column": null,
            "overflow_y": null,
            "overflow_x": null,
            "grid_auto_flow": null,
            "grid_area": null,
            "grid_template_columns": null,
            "flex": null,
            "_model_name": "LayoutModel",
            "justify_items": null,
            "grid_row": null,
            "max_height": null,
            "align_content": null,
            "visibility": null,
            "align_self": null,
            "height": null,
            "min_height": null,
            "padding": null,
            "grid_auto_rows": null,
            "grid_gap": null,
            "max_width": null,
            "order": null,
            "_view_module_version": "1.2.0",
            "grid_template_areas": null,
            "object_position": null,
            "object_fit": null,
            "grid_auto_columns": null,
            "margin": null,
            "display": null,
            "left": null
          }
        },
        "cd52dcd0b75e4e2b93e30c34896fdf3e": {
          "model_module": "@jupyter-widgets/controls",
          "model_name": "FloatProgressModel",
          "model_module_version": "1.5.0",
          "state": {
            "_view_name": "ProgressView",
            "style": "IPY_MODEL_550d0bc02a404142bf61b92184fd40e2",
            "_dom_classes": [],
            "description": "Downloading: 100%",
            "_model_name": "FloatProgressModel",
            "bar_style": "success",
            "max": 440473133,
            "_view_module": "@jupyter-widgets/controls",
            "_model_module_version": "1.5.0",
            "value": 440473133,
            "_view_count": null,
            "_view_module_version": "1.5.0",
            "orientation": "horizontal",
            "min": 0,
            "description_tooltip": null,
            "_model_module": "@jupyter-widgets/controls",
            "layout": "IPY_MODEL_337c5eb7ceca4ba5a1022a151bb92b5b"
          }
        },
        "4449fc1273ba4838b38368f62dc53259": {
          "model_module": "@jupyter-widgets/controls",
          "model_name": "HTMLModel",
          "model_module_version": "1.5.0",
          "state": {
            "_view_name": "HTMLView",
            "style": "IPY_MODEL_163b85a18123493e9ee686c5b49bd5be",
            "_dom_classes": [],
            "description": "",
            "_model_name": "HTMLModel",
            "placeholder": "​",
            "_view_module": "@jupyter-widgets/controls",
            "_model_module_version": "1.5.0",
            "value": " 440M/440M [00:09&lt;00:00, 47.6MB/s]",
            "_view_count": null,
            "_view_module_version": "1.5.0",
            "description_tooltip": null,
            "_model_module": "@jupyter-widgets/controls",
            "layout": "IPY_MODEL_e52d1efe84da4689b4444c873caaa3ba"
          }
        },
        "550d0bc02a404142bf61b92184fd40e2": {
          "model_module": "@jupyter-widgets/controls",
          "model_name": "ProgressStyleModel",
          "model_module_version": "1.5.0",
          "state": {
            "_view_name": "StyleView",
            "_model_name": "ProgressStyleModel",
            "description_width": "initial",
            "_view_module": "@jupyter-widgets/base",
            "_model_module_version": "1.5.0",
            "_view_count": null,
            "_view_module_version": "1.2.0",
            "bar_color": null,
            "_model_module": "@jupyter-widgets/controls"
          }
        },
        "337c5eb7ceca4ba5a1022a151bb92b5b": {
          "model_module": "@jupyter-widgets/base",
          "model_name": "LayoutModel",
          "model_module_version": "1.2.0",
          "state": {
            "_view_name": "LayoutView",
            "grid_template_rows": null,
            "right": null,
            "justify_content": null,
            "_view_module": "@jupyter-widgets/base",
            "overflow": null,
            "_model_module_version": "1.2.0",
            "_view_count": null,
            "flex_flow": null,
            "width": null,
            "min_width": null,
            "border": null,
            "align_items": null,
            "bottom": null,
            "_model_module": "@jupyter-widgets/base",
            "top": null,
            "grid_column": null,
            "overflow_y": null,
            "overflow_x": null,
            "grid_auto_flow": null,
            "grid_area": null,
            "grid_template_columns": null,
            "flex": null,
            "_model_name": "LayoutModel",
            "justify_items": null,
            "grid_row": null,
            "max_height": null,
            "align_content": null,
            "visibility": null,
            "align_self": null,
            "height": null,
            "min_height": null,
            "padding": null,
            "grid_auto_rows": null,
            "grid_gap": null,
            "max_width": null,
            "order": null,
            "_view_module_version": "1.2.0",
            "grid_template_areas": null,
            "object_position": null,
            "object_fit": null,
            "grid_auto_columns": null,
            "margin": null,
            "display": null,
            "left": null
          }
        },
        "163b85a18123493e9ee686c5b49bd5be": {
          "model_module": "@jupyter-widgets/controls",
          "model_name": "DescriptionStyleModel",
          "model_module_version": "1.5.0",
          "state": {
            "_view_name": "StyleView",
            "_model_name": "DescriptionStyleModel",
            "description_width": "",
            "_view_module": "@jupyter-widgets/base",
            "_model_module_version": "1.5.0",
            "_view_count": null,
            "_view_module_version": "1.2.0",
            "_model_module": "@jupyter-widgets/controls"
          }
        },
        "e52d1efe84da4689b4444c873caaa3ba": {
          "model_module": "@jupyter-widgets/base",
          "model_name": "LayoutModel",
          "model_module_version": "1.2.0",
          "state": {
            "_view_name": "LayoutView",
            "grid_template_rows": null,
            "right": null,
            "justify_content": null,
            "_view_module": "@jupyter-widgets/base",
            "overflow": null,
            "_model_module_version": "1.2.0",
            "_view_count": null,
            "flex_flow": null,
            "width": null,
            "min_width": null,
            "border": null,
            "align_items": null,
            "bottom": null,
            "_model_module": "@jupyter-widgets/base",
            "top": null,
            "grid_column": null,
            "overflow_y": null,
            "overflow_x": null,
            "grid_auto_flow": null,
            "grid_area": null,
            "grid_template_columns": null,
            "flex": null,
            "_model_name": "LayoutModel",
            "justify_items": null,
            "grid_row": null,
            "max_height": null,
            "align_content": null,
            "visibility": null,
            "align_self": null,
            "height": null,
            "min_height": null,
            "padding": null,
            "grid_auto_rows": null,
            "grid_gap": null,
            "max_width": null,
            "order": null,
            "_view_module_version": "1.2.0",
            "grid_template_areas": null,
            "object_position": null,
            "object_fit": null,
            "grid_auto_columns": null,
            "margin": null,
            "display": null,
            "left": null
          }
        }
      }
    }
  },
  "cells": [
    {
      "cell_type": "markdown",
      "metadata": {
        "id": "view-in-github",
        "colab_type": "text"
      },
      "source": [
        "<a href=\"https://colab.research.google.com/github/plaban1981/Hugging_Face_transformers_topics/blob/main/BERT_Document_Classification_Tutorial_with_Code.ipynb\" target=\"_parent\"><img src=\"https://colab.research.google.com/assets/colab-badge.svg\" alt=\"Open In Colab\"/></a>"
      ]
    },
    {
      "cell_type": "markdown",
      "metadata": {
        "id": "EKOTlwcmxmej"
      },
      "source": [
        "# Classifying Wikipedia Comments with BERT\n",
        "\n",
        "By Chris McCormick\n",
        "\n"
      ]
    },
    {
      "cell_type": "markdown",
      "metadata": {
        "id": "BJR6t_gCQe_x"
      },
      "source": [
        "\n",
        "This Notebook will show you how to fine-tune BERT for *document* classification tasks using the Wikipedia Personal Attacks dataset as an example. As a bonus, in part 3, we'll also look briefly at how we can apply BERT to search for \"semantically similar\" comments in the dataset.\n",
        "\n",
        "In a previous Notebook, [BERT Fine-Tuning Tutorial with PyTorch](https://colab.research.google.com/drive/1Y4o3jh3ZH70tl6mCd76vz_IxX23biCPP#scrollTo=EKOTlwcmxmej) \\(with YouTube [video](https://youtu.be/x66kkDnbzi4)\\), we looked at the basics of \"fine-tuning\" BERT, specifically for a *sentence* classification task. The emphasis in this Notebook will be on the changes needed in order to apply BERT to longer pieces of text; so, if you are new to fine-tuning BERT with PyTorch, you might find it helpful to start with that Notebook first.\n",
        "\n",
        "Some of this Notebook is copied directly from the sentence classification Notebook. In particular the following sections are completely unchanged (so you don't need to read through them again!)\n",
        "* 1. Setup\n",
        "* 4. Train Our Classification Model"
      ]
    },
    {
      "cell_type": "markdown",
      "metadata": {
        "id": "uVa5S9z0OIjf"
      },
      "source": [
        "## Notebook Access"
      ]
    },
    {
      "cell_type": "markdown",
      "metadata": {
        "id": "SCFXYdbIXguc"
      },
      "source": [
        "\n",
        "-------------------------------------\n",
        "\n",
        "[![Notebook Access](https://drive.google.com/uc?export=view&id=1yPJapK5X9kXLDhtuDJm3Hw4-ZlxMwcsa)](https://www.chrismccormick.ai/membership)\n",
        "\n",
        "<sup>\\*</sup>Notify me [here](team@chrismccormick.ai)\n",
        "\n",
        "<sup>\\*\\*</sup>Join my site [here](https://www.chrismccormick.ai/membership) \n",
        "\n",
        "---------------------------------------\n",
        "\n"
      ]
    },
    {
      "cell_type": "markdown",
      "metadata": {
        "id": "jrC9__lXxTJz"
      },
      "source": [
        "# Contents"
      ]
    },
    {
      "cell_type": "markdown",
      "metadata": {
        "id": "p9MCBOq4xUpr"
      },
      "source": [
        "See \"Table of contents\" in the sidebar to the left."
      ]
    },
    {
      "cell_type": "markdown",
      "metadata": {
        "id": "Lj_eBt3G3bo6"
      },
      "source": [
        "# Part I - Setup & Dataset Prep\n",
        "-------------------------------"
      ]
    },
    {
      "cell_type": "markdown",
      "metadata": {
        "id": "RX_ZDhicpHkV"
      },
      "source": [
        "## 1. Setup\n"
      ]
    },
    {
      "cell_type": "markdown",
      "metadata": {
        "id": "nSU7yERLP_66"
      },
      "source": [
        "### 1.1. Using Colab GPU for Training\n"
      ]
    },
    {
      "cell_type": "markdown",
      "metadata": {
        "id": "GI0iOY8zvZzL"
      },
      "source": [
        "\n",
        "Google Colab offers free GPUs and TPUs! Since we'll be training a large neural network it's best to take advantage of this (in this case we'll attach a GPU), otherwise training will take a very long time.\n",
        "\n",
        "A GPU can be added by going to the menu and selecting:\n",
        "\n",
        "`Edit 🡒 Notebook Settings 🡒 Hardware accelerator 🡒 (GPU)`\n",
        "\n",
        "Then run the following cell to confirm that the GPU is detected."
      ]
    },
    {
      "cell_type": "code",
      "metadata": {
        "id": "DEfSbAA4QHas",
        "colab": {
          "base_uri": "https://localhost:8080/"
        },
        "outputId": "9e5e545a-8c0a-47b1-a857-9d286ab1973a"
      },
      "source": [
        "import tensorflow as tf\n",
        "\n",
        "# Get the GPU device name.\n",
        "device_name = tf.test.gpu_device_name()\n",
        "\n",
        "# The device name should look like the following:\n",
        "if device_name == '/device:GPU:0':\n",
        "    print('Found GPU at: {}'.format(device_name))\n",
        "else:\n",
        "    raise SystemError('GPU device not found')"
      ],
      "execution_count": null,
      "outputs": [
        {
          "output_type": "stream",
          "text": [
            "Found GPU at: /device:GPU:0\n"
          ],
          "name": "stdout"
        }
      ]
    },
    {
      "cell_type": "markdown",
      "metadata": {
        "id": "cqG7FzRVFEIv"
      },
      "source": [
        "In order for torch to use the GPU, we need to identify and specify the GPU as the device. Later, in our training loop, we will load data onto the device. "
      ]
    },
    {
      "cell_type": "code",
      "metadata": {
        "id": "oYsV4H8fCpZ-",
        "colab": {
          "base_uri": "https://localhost:8080/"
        },
        "outputId": "f294b28c-8945-4f29-99da-59fc7532264a"
      },
      "source": [
        "import torch\n",
        "\n",
        "# If there's a GPU available...\n",
        "if torch.cuda.is_available():    \n",
        "\n",
        "    # Tell PyTorch to use the GPU.    \n",
        "    device = torch.device(\"cuda\")\n",
        "\n",
        "    print('There are %d GPU(s) available.' % torch.cuda.device_count())\n",
        "\n",
        "    print('We will use the GPU:', torch.cuda.get_device_name(0))\n",
        "\n",
        "# If not...\n",
        "else:\n",
        "    print('No GPU available, using the CPU instead.')\n",
        "    device = torch.device(\"cpu\")"
      ],
      "execution_count": null,
      "outputs": [
        {
          "output_type": "stream",
          "text": [
            "There are 1 GPU(s) available.\n",
            "We will use the GPU: Tesla V100-SXM2-16GB\n"
          ],
          "name": "stdout"
        }
      ]
    },
    {
      "cell_type": "markdown",
      "metadata": {
        "id": "2ElsnSNUridI"
      },
      "source": [
        "### 1.2. Installing the Hugging Face Library\n"
      ]
    },
    {
      "cell_type": "markdown",
      "metadata": {
        "id": "G_N2UDLevYWn"
      },
      "source": [
        "\n",
        "Next, let's install the [transformers](https://github.com/huggingface/transformers) package from Hugging Face which will give us a pytorch interface for working with BERT. "
      ]
    },
    {
      "cell_type": "code",
      "metadata": {
        "id": "0NmMdkZO8R6q",
        "colab": {
          "base_uri": "https://localhost:8080/"
        },
        "outputId": "32f633a9-b669-4b0c-c2ee-d489889557c4"
      },
      "source": [
        "!pip install transformers"
      ],
      "execution_count": null,
      "outputs": [
        {
          "output_type": "stream",
          "text": [
            "Collecting transformers\n",
            "\u001b[?25l  Downloading https://files.pythonhosted.org/packages/88/b1/41130a228dd656a1a31ba281598a968320283f48d42782845f6ba567f00b/transformers-4.2.2-py3-none-any.whl (1.8MB)\n",
            "\r\u001b[K     |▏                               | 10kB 22.4MB/s eta 0:00:01\r\u001b[K     |▍                               | 20kB 30.1MB/s eta 0:00:01\r\u001b[K     |▋                               | 30kB 25.2MB/s eta 0:00:01\r\u001b[K     |▊                               | 40kB 19.4MB/s eta 0:00:01\r\u001b[K     |█                               | 51kB 15.4MB/s eta 0:00:01\r\u001b[K     |█▏                              | 61kB 13.9MB/s eta 0:00:01\r\u001b[K     |█▎                              | 71kB 13.9MB/s eta 0:00:01\r\u001b[K     |█▌                              | 81kB 13.6MB/s eta 0:00:01\r\u001b[K     |█▊                              | 92kB 13.6MB/s eta 0:00:01\r\u001b[K     |█▉                              | 102kB 12.4MB/s eta 0:00:01\r\u001b[K     |██                              | 112kB 12.4MB/s eta 0:00:01\r\u001b[K     |██▎                             | 122kB 12.4MB/s eta 0:00:01\r\u001b[K     |██▍                             | 133kB 12.4MB/s eta 0:00:01\r\u001b[K     |██▋                             | 143kB 12.4MB/s eta 0:00:01\r\u001b[K     |██▉                             | 153kB 12.4MB/s eta 0:00:01\r\u001b[K     |███                             | 163kB 12.4MB/s eta 0:00:01\r\u001b[K     |███▏                            | 174kB 12.4MB/s eta 0:00:01\r\u001b[K     |███▍                            | 184kB 12.4MB/s eta 0:00:01\r\u001b[K     |███▌                            | 194kB 12.4MB/s eta 0:00:01\r\u001b[K     |███▊                            | 204kB 12.4MB/s eta 0:00:01\r\u001b[K     |████                            | 215kB 12.4MB/s eta 0:00:01\r\u001b[K     |████                            | 225kB 12.4MB/s eta 0:00:01\r\u001b[K     |████▎                           | 235kB 12.4MB/s eta 0:00:01\r\u001b[K     |████▌                           | 245kB 12.4MB/s eta 0:00:01\r\u001b[K     |████▋                           | 256kB 12.4MB/s eta 0:00:01\r\u001b[K     |████▉                           | 266kB 12.4MB/s eta 0:00:01\r\u001b[K     |█████                           | 276kB 12.4MB/s eta 0:00:01\r\u001b[K     |█████▏                          | 286kB 12.4MB/s eta 0:00:01\r\u001b[K     |█████▍                          | 296kB 12.4MB/s eta 0:00:01\r\u001b[K     |█████▋                          | 307kB 12.4MB/s eta 0:00:01\r\u001b[K     |█████▊                          | 317kB 12.4MB/s eta 0:00:01\r\u001b[K     |██████                          | 327kB 12.4MB/s eta 0:00:01\r\u001b[K     |██████▏                         | 337kB 12.4MB/s eta 0:00:01\r\u001b[K     |██████▎                         | 348kB 12.4MB/s eta 0:00:01\r\u001b[K     |██████▌                         | 358kB 12.4MB/s eta 0:00:01\r\u001b[K     |██████▊                         | 368kB 12.4MB/s eta 0:00:01\r\u001b[K     |██████▉                         | 378kB 12.4MB/s eta 0:00:01\r\u001b[K     |███████                         | 389kB 12.4MB/s eta 0:00:01\r\u001b[K     |███████▎                        | 399kB 12.4MB/s eta 0:00:01\r\u001b[K     |███████▍                        | 409kB 12.4MB/s eta 0:00:01\r\u001b[K     |███████▋                        | 419kB 12.4MB/s eta 0:00:01\r\u001b[K     |███████▉                        | 430kB 12.4MB/s eta 0:00:01\r\u001b[K     |████████                        | 440kB 12.4MB/s eta 0:00:01\r\u001b[K     |████████▏                       | 450kB 12.4MB/s eta 0:00:01\r\u001b[K     |████████▍                       | 460kB 12.4MB/s eta 0:00:01\r\u001b[K     |████████▌                       | 471kB 12.4MB/s eta 0:00:01\r\u001b[K     |████████▊                       | 481kB 12.4MB/s eta 0:00:01\r\u001b[K     |█████████                       | 491kB 12.4MB/s eta 0:00:01\r\u001b[K     |█████████                       | 501kB 12.4MB/s eta 0:00:01\r\u001b[K     |█████████▎                      | 512kB 12.4MB/s eta 0:00:01\r\u001b[K     |█████████▌                      | 522kB 12.4MB/s eta 0:00:01\r\u001b[K     |█████████▋                      | 532kB 12.4MB/s eta 0:00:01\r\u001b[K     |█████████▉                      | 542kB 12.4MB/s eta 0:00:01\r\u001b[K     |██████████                      | 552kB 12.4MB/s eta 0:00:01\r\u001b[K     |██████████▏                     | 563kB 12.4MB/s eta 0:00:01\r\u001b[K     |██████████▍                     | 573kB 12.4MB/s eta 0:00:01\r\u001b[K     |██████████▋                     | 583kB 12.4MB/s eta 0:00:01\r\u001b[K     |██████████▊                     | 593kB 12.4MB/s eta 0:00:01\r\u001b[K     |███████████                     | 604kB 12.4MB/s eta 0:00:01\r\u001b[K     |███████████▏                    | 614kB 12.4MB/s eta 0:00:01\r\u001b[K     |███████████▎                    | 624kB 12.4MB/s eta 0:00:01\r\u001b[K     |███████████▌                    | 634kB 12.4MB/s eta 0:00:01\r\u001b[K     |███████████▊                    | 645kB 12.4MB/s eta 0:00:01\r\u001b[K     |███████████▉                    | 655kB 12.4MB/s eta 0:00:01\r\u001b[K     |████████████                    | 665kB 12.4MB/s eta 0:00:01\r\u001b[K     |████████████▎                   | 675kB 12.4MB/s eta 0:00:01\r\u001b[K     |████████████▍                   | 686kB 12.4MB/s eta 0:00:01\r\u001b[K     |████████████▋                   | 696kB 12.4MB/s eta 0:00:01\r\u001b[K     |████████████▉                   | 706kB 12.4MB/s eta 0:00:01\r\u001b[K     |█████████████                   | 716kB 12.4MB/s eta 0:00:01\r\u001b[K     |█████████████▏                  | 727kB 12.4MB/s eta 0:00:01\r\u001b[K     |█████████████▍                  | 737kB 12.4MB/s eta 0:00:01\r\u001b[K     |█████████████▌                  | 747kB 12.4MB/s eta 0:00:01\r\u001b[K     |█████████████▊                  | 757kB 12.4MB/s eta 0:00:01\r\u001b[K     |██████████████                  | 768kB 12.4MB/s eta 0:00:01\r\u001b[K     |██████████████                  | 778kB 12.4MB/s eta 0:00:01\r\u001b[K     |██████████████▎                 | 788kB 12.4MB/s eta 0:00:01\r\u001b[K     |██████████████▌                 | 798kB 12.4MB/s eta 0:00:01\r\u001b[K     |██████████████▋                 | 808kB 12.4MB/s eta 0:00:01\r\u001b[K     |██████████████▉                 | 819kB 12.4MB/s eta 0:00:01\r\u001b[K     |███████████████                 | 829kB 12.4MB/s eta 0:00:01\r\u001b[K     |███████████████▏                | 839kB 12.4MB/s eta 0:00:01\r\u001b[K     |███████████████▍                | 849kB 12.4MB/s eta 0:00:01\r\u001b[K     |███████████████▋                | 860kB 12.4MB/s eta 0:00:01\r\u001b[K     |███████████████▊                | 870kB 12.4MB/s eta 0:00:01\r\u001b[K     |████████████████                | 880kB 12.4MB/s eta 0:00:01\r\u001b[K     |████████████████▏               | 890kB 12.4MB/s eta 0:00:01\r\u001b[K     |████████████████▎               | 901kB 12.4MB/s eta 0:00:01\r\u001b[K     |████████████████▌               | 911kB 12.4MB/s eta 0:00:01\r\u001b[K     |████████████████▊               | 921kB 12.4MB/s eta 0:00:01\r\u001b[K     |████████████████▉               | 931kB 12.4MB/s eta 0:00:01\r\u001b[K     |█████████████████               | 942kB 12.4MB/s eta 0:00:01\r\u001b[K     |█████████████████▎              | 952kB 12.4MB/s eta 0:00:01\r\u001b[K     |█████████████████▍              | 962kB 12.4MB/s eta 0:00:01\r\u001b[K     |█████████████████▋              | 972kB 12.4MB/s eta 0:00:01\r\u001b[K     |█████████████████▉              | 983kB 12.4MB/s eta 0:00:01\r\u001b[K     |██████████████████              | 993kB 12.4MB/s eta 0:00:01\r\u001b[K     |██████████████████▏             | 1.0MB 12.4MB/s eta 0:00:01\r\u001b[K     |██████████████████▍             | 1.0MB 12.4MB/s eta 0:00:01\r\u001b[K     |██████████████████▌             | 1.0MB 12.4MB/s eta 0:00:01\r\u001b[K     |██████████████████▊             | 1.0MB 12.4MB/s eta 0:00:01\r\u001b[K     |███████████████████             | 1.0MB 12.4MB/s eta 0:00:01\r\u001b[K     |███████████████████             | 1.1MB 12.4MB/s eta 0:00:01\r\u001b[K     |███████████████████▎            | 1.1MB 12.4MB/s eta 0:00:01\r\u001b[K     |███████████████████▌            | 1.1MB 12.4MB/s eta 0:00:01\r\u001b[K     |███████████████████▋            | 1.1MB 12.4MB/s eta 0:00:01\r\u001b[K     |███████████████████▉            | 1.1MB 12.4MB/s eta 0:00:01\r\u001b[K     |████████████████████            | 1.1MB 12.4MB/s eta 0:00:01\r\u001b[K     |████████████████████▏           | 1.1MB 12.4MB/s eta 0:00:01\r\u001b[K     |████████████████████▍           | 1.1MB 12.4MB/s eta 0:00:01\r\u001b[K     |████████████████████▋           | 1.1MB 12.4MB/s eta 0:00:01\r\u001b[K     |████████████████████▊           | 1.1MB 12.4MB/s eta 0:00:01\r\u001b[K     |█████████████████████           | 1.2MB 12.4MB/s eta 0:00:01\r\u001b[K     |█████████████████████▏          | 1.2MB 12.4MB/s eta 0:00:01\r\u001b[K     |█████████████████████▎          | 1.2MB 12.4MB/s eta 0:00:01\r\u001b[K     |█████████████████████▌          | 1.2MB 12.4MB/s eta 0:00:01\r\u001b[K     |█████████████████████▊          | 1.2MB 12.4MB/s eta 0:00:01\r\u001b[K     |█████████████████████▉          | 1.2MB 12.4MB/s eta 0:00:01\r\u001b[K     |██████████████████████          | 1.2MB 12.4MB/s eta 0:00:01\r\u001b[K     |██████████████████████▎         | 1.2MB 12.4MB/s eta 0:00:01\r\u001b[K     |██████████████████████▍         | 1.2MB 12.4MB/s eta 0:00:01\r\u001b[K     |██████████████████████▋         | 1.2MB 12.4MB/s eta 0:00:01\r\u001b[K     |██████████████████████▉         | 1.3MB 12.4MB/s eta 0:00:01\r\u001b[K     |███████████████████████         | 1.3MB 12.4MB/s eta 0:00:01\r\u001b[K     |███████████████████████▏        | 1.3MB 12.4MB/s eta 0:00:01\r\u001b[K     |███████████████████████▍        | 1.3MB 12.4MB/s eta 0:00:01\r\u001b[K     |███████████████████████▌        | 1.3MB 12.4MB/s eta 0:00:01\r\u001b[K     |███████████████████████▊        | 1.3MB 12.4MB/s eta 0:00:01\r\u001b[K     |████████████████████████        | 1.3MB 12.4MB/s eta 0:00:01\r\u001b[K     |████████████████████████        | 1.3MB 12.4MB/s eta 0:00:01\r\u001b[K     |████████████████████████▎       | 1.3MB 12.4MB/s eta 0:00:01\r\u001b[K     |████████████████████████▌       | 1.4MB 12.4MB/s eta 0:00:01\r\u001b[K     |████████████████████████▊       | 1.4MB 12.4MB/s eta 0:00:01\r\u001b[K     |████████████████████████▉       | 1.4MB 12.4MB/s eta 0:00:01\r\u001b[K     |█████████████████████████       | 1.4MB 12.4MB/s eta 0:00:01\r\u001b[K     |█████████████████████████▎      | 1.4MB 12.4MB/s eta 0:00:01\r\u001b[K     |█████████████████████████▍      | 1.4MB 12.4MB/s eta 0:00:01\r\u001b[K     |█████████████████████████▋      | 1.4MB 12.4MB/s eta 0:00:01\r\u001b[K     |█████████████████████████▉      | 1.4MB 12.4MB/s eta 0:00:01\r\u001b[K     |██████████████████████████      | 1.4MB 12.4MB/s eta 0:00:01\r\u001b[K     |██████████████████████████▏     | 1.4MB 12.4MB/s eta 0:00:01\r\u001b[K     |██████████████████████████▍     | 1.5MB 12.4MB/s eta 0:00:01\r\u001b[K     |██████████████████████████▌     | 1.5MB 12.4MB/s eta 0:00:01\r\u001b[K     |██████████████████████████▊     | 1.5MB 12.4MB/s eta 0:00:01\r\u001b[K     |███████████████████████████     | 1.5MB 12.4MB/s eta 0:00:01\r\u001b[K     |███████████████████████████     | 1.5MB 12.4MB/s eta 0:00:01\r\u001b[K     |███████████████████████████▎    | 1.5MB 12.4MB/s eta 0:00:01\r\u001b[K     |███████████████████████████▌    | 1.5MB 12.4MB/s eta 0:00:01\r\u001b[K     |███████████████████████████▋    | 1.5MB 12.4MB/s eta 0:00:01\r\u001b[K     |███████████████████████████▉    | 1.5MB 12.4MB/s eta 0:00:01\r\u001b[K     |████████████████████████████    | 1.5MB 12.4MB/s eta 0:00:01\r\u001b[K     |████████████████████████████▏   | 1.6MB 12.4MB/s eta 0:00:01\r\u001b[K     |████████████████████████████▍   | 1.6MB 12.4MB/s eta 0:00:01\r\u001b[K     |████████████████████████████▋   | 1.6MB 12.4MB/s eta 0:00:01\r\u001b[K     |████████████████████████████▊   | 1.6MB 12.4MB/s eta 0:00:01\r\u001b[K     |█████████████████████████████   | 1.6MB 12.4MB/s eta 0:00:01\r\u001b[K     |█████████████████████████████▏  | 1.6MB 12.4MB/s eta 0:00:01\r\u001b[K     |█████████████████████████████▎  | 1.6MB 12.4MB/s eta 0:00:01\r\u001b[K     |█████████████████████████████▌  | 1.6MB 12.4MB/s eta 0:00:01\r\u001b[K     |█████████████████████████████▊  | 1.6MB 12.4MB/s eta 0:00:01\r\u001b[K     |█████████████████████████████▉  | 1.6MB 12.4MB/s eta 0:00:01\r\u001b[K     |██████████████████████████████  | 1.7MB 12.4MB/s eta 0:00:01\r\u001b[K     |██████████████████████████████▎ | 1.7MB 12.4MB/s eta 0:00:01\r\u001b[K     |██████████████████████████████▍ | 1.7MB 12.4MB/s eta 0:00:01\r\u001b[K     |██████████████████████████████▋ | 1.7MB 12.4MB/s eta 0:00:01\r\u001b[K     |██████████████████████████████▉ | 1.7MB 12.4MB/s eta 0:00:01\r\u001b[K     |███████████████████████████████ | 1.7MB 12.4MB/s eta 0:00:01\r\u001b[K     |███████████████████████████████▏| 1.7MB 12.4MB/s eta 0:00:01\r\u001b[K     |███████████████████████████████▍| 1.7MB 12.4MB/s eta 0:00:01\r\u001b[K     |███████████████████████████████▌| 1.7MB 12.4MB/s eta 0:00:01\r\u001b[K     |███████████████████████████████▊| 1.8MB 12.4MB/s eta 0:00:01\r\u001b[K     |████████████████████████████████| 1.8MB 12.4MB/s eta 0:00:01\r\u001b[K     |████████████████████████████████| 1.8MB 12.4MB/s \n",
            "\u001b[?25hRequirement already satisfied: filelock in /usr/local/lib/python3.6/dist-packages (from transformers) (3.0.12)\n",
            "Requirement already satisfied: requests in /usr/local/lib/python3.6/dist-packages (from transformers) (2.23.0)\n",
            "Requirement already satisfied: regex!=2019.12.17 in /usr/local/lib/python3.6/dist-packages (from transformers) (2019.12.20)\n",
            "Requirement already satisfied: dataclasses; python_version < \"3.7\" in /usr/local/lib/python3.6/dist-packages (from transformers) (0.8)\n",
            "Requirement already satisfied: packaging in /usr/local/lib/python3.6/dist-packages (from transformers) (20.8)\n",
            "Requirement already satisfied: importlib-metadata; python_version < \"3.8\" in /usr/local/lib/python3.6/dist-packages (from transformers) (3.4.0)\n",
            "Requirement already satisfied: numpy in /usr/local/lib/python3.6/dist-packages (from transformers) (1.19.5)\n",
            "Collecting sacremoses\n",
            "\u001b[?25l  Downloading https://files.pythonhosted.org/packages/7d/34/09d19aff26edcc8eb2a01bed8e98f13a1537005d31e95233fd48216eed10/sacremoses-0.0.43.tar.gz (883kB)\n",
            "\u001b[K     |████████████████████████████████| 890kB 49.4MB/s \n",
            "\u001b[?25hRequirement already satisfied: tqdm>=4.27 in /usr/local/lib/python3.6/dist-packages (from transformers) (4.41.1)\n",
            "Collecting tokenizers==0.9.4\n",
            "\u001b[?25l  Downloading https://files.pythonhosted.org/packages/0f/1c/e789a8b12e28be5bc1ce2156cf87cb522b379be9cadc7ad8091a4cc107c4/tokenizers-0.9.4-cp36-cp36m-manylinux2010_x86_64.whl (2.9MB)\n",
            "\u001b[K     |████████████████████████████████| 2.9MB 45.0MB/s \n",
            "\u001b[?25hRequirement already satisfied: urllib3!=1.25.0,!=1.25.1,<1.26,>=1.21.1 in /usr/local/lib/python3.6/dist-packages (from requests->transformers) (1.24.3)\n",
            "Requirement already satisfied: certifi>=2017.4.17 in /usr/local/lib/python3.6/dist-packages (from requests->transformers) (2020.12.5)\n",
            "Requirement already satisfied: chardet<4,>=3.0.2 in /usr/local/lib/python3.6/dist-packages (from requests->transformers) (3.0.4)\n",
            "Requirement already satisfied: idna<3,>=2.5 in /usr/local/lib/python3.6/dist-packages (from requests->transformers) (2.10)\n",
            "Requirement already satisfied: pyparsing>=2.0.2 in /usr/local/lib/python3.6/dist-packages (from packaging->transformers) (2.4.7)\n",
            "Requirement already satisfied: zipp>=0.5 in /usr/local/lib/python3.6/dist-packages (from importlib-metadata; python_version < \"3.8\"->transformers) (3.4.0)\n",
            "Requirement already satisfied: typing-extensions>=3.6.4; python_version < \"3.8\" in /usr/local/lib/python3.6/dist-packages (from importlib-metadata; python_version < \"3.8\"->transformers) (3.7.4.3)\n",
            "Requirement already satisfied: six in /usr/local/lib/python3.6/dist-packages (from sacremoses->transformers) (1.15.0)\n",
            "Requirement already satisfied: click in /usr/local/lib/python3.6/dist-packages (from sacremoses->transformers) (7.1.2)\n",
            "Requirement already satisfied: joblib in /usr/local/lib/python3.6/dist-packages (from sacremoses->transformers) (1.0.0)\n",
            "Building wheels for collected packages: sacremoses\n",
            "  Building wheel for sacremoses (setup.py) ... \u001b[?25l\u001b[?25hdone\n",
            "  Created wheel for sacremoses: filename=sacremoses-0.0.43-cp36-none-any.whl size=893261 sha256=c3f3c029fa8f51f17a9d2e1abed939325a3e7762174d1439dcaf04025bea479b\n",
            "  Stored in directory: /root/.cache/pip/wheels/29/3c/fd/7ce5c3f0666dab31a50123635e6fb5e19ceb42ce38d4e58f45\n",
            "Successfully built sacremoses\n",
            "Installing collected packages: sacremoses, tokenizers, transformers\n",
            "Successfully installed sacremoses-0.0.43 tokenizers-0.9.4 transformers-4.2.2\n"
          ],
          "name": "stdout"
        }
      ]
    },
    {
      "cell_type": "markdown",
      "metadata": {
        "id": "Bt3HTo7LLMtj"
      },
      "source": [
        "## 2. Retrieve & Inspect Dataset\n",
        "\n"
      ]
    },
    {
      "cell_type": "markdown",
      "metadata": {
        "id": "JMx3Wd3K3B2q"
      },
      "source": [
        "\n",
        "This notebook will download and tokenize a text dataset comprised of comments on Wikipedia which contain \"attacks\" on other users (plus counter-examples). \n",
        "\n",
        "We'll use `pandas` to parse the dataset `.tsv` file, and we'll use the gensim function `gensim.utils.simple_preprocess` for tokenizing the sentences.\n",
        "\n",
        "We'll save the processed dataset back to disk for use in other notebooks.\n",
        "\n",
        "**About the Dataset**\n",
        "\n",
        "* wikimedia page describing the dataset [here](https://figshare.com/articles/Wikipedia_Talk_Labels_Personal_Attacks/4054689).\n",
        "* Dataset download page on figshare.com for the personal attack comments [here](https://figshare.com/articles/Wikipedia_Talk_Labels_Personal_Attacks/4054689).\n",
        "    * `attack_annotated_comments.tsv  -  ` contains the comment text and some properties.\n",
        "    * `attack_annotations.tsv  -  ` contains the labels (whether the comment contains an attack).\n",
        "* Example notebook (from the authors) for getting started with the dataset [here](https://github.com/ewulczyn/wiki-detox/blob/master/src/figshare/Wikipedia%20Talk%20Data%20-%20Getting%20Started.ipynb)."
      ]
    },
    {
      "cell_type": "markdown",
      "metadata": {
        "id": "HAjyraFG4Abp"
      },
      "source": [
        "### 2.1. Download\n",
        "--------------------------------------\n",
        "Download the text."
      ]
    },
    {
      "cell_type": "code",
      "metadata": {
        "id": "Q-LF9NXd4Abp",
        "colab": {
          "base_uri": "https://localhost:8080/"
        },
        "outputId": "5a98b1c5-2d6c-491f-ff24-c79a9afe6c9c"
      },
      "source": [
        "import urllib\n",
        "import os\n",
        "\n",
        "# Create the data subdirectory if not there.\n",
        "if not os.path.exists('./data/'):\n",
        "    os.mkdir('./data/')\n",
        "\n",
        "files = [\n",
        "    ('./data/attack_annotated_comments.tsv',  'https://ndownloader.figshare.com/files/7554634'),\n",
        "    ('./data/attack_annotations.tsv',         'https://ndownloader.figshare.com/files/7554637')   \n",
        "]    \n",
        "    \n",
        "for (filename, url) in files:\n",
        "    # Download download if we already have it!\n",
        "    if not os.path.exists(filename):\n",
        "\n",
        "        # Download the dataset.\n",
        "        print('Downloading', filename)\n",
        "        \n",
        "        urllib.request.urlretrieve(url, filename)\n",
        "\n",
        "        print('  DONE.')\n",
        "\n"
      ],
      "execution_count": null,
      "outputs": [
        {
          "output_type": "stream",
          "text": [
            "Downloading ./data/attack_annotated_comments.tsv\n",
            "  DONE.\n",
            "Downloading ./data/attack_annotations.tsv\n",
            "  DONE.\n"
          ],
          "name": "stdout"
        }
      ]
    },
    {
      "cell_type": "markdown",
      "metadata": {
        "id": "02NmUilP4Abs"
      },
      "source": [
        "### 2.2. Parse & Inspect\n",
        "-------------------\n",
        "We'll use `pandas` just to help us parse the tab-separated `.tsv` file. \n"
      ]
    },
    {
      "cell_type": "code",
      "metadata": {
        "id": "hkYdBEK44Abs",
        "colab": {
          "base_uri": "https://localhost:8080/"
        },
        "outputId": "de5cea7c-5a84-4f90-efc6-bb013d41a808"
      },
      "source": [
        "import pandas as pd\n",
        "\n",
        "print('Parsing the dataset .tsv file...')\n",
        "comments = pd.read_csv('./data/attack_annotated_comments.tsv', sep = '\\t', index_col = 0)\n",
        "annotations = pd.read_csv('./data/attack_annotations.tsv', sep = '\\t')\n",
        "\n",
        "print('    Done.')"
      ],
      "execution_count": null,
      "outputs": [
        {
          "output_type": "stream",
          "text": [
            "Parsing the dataset .tsv file...\n",
            "    Done.\n"
          ],
          "name": "stdout"
        }
      ]
    },
    {
      "cell_type": "markdown",
      "metadata": {
        "id": "4g_N5y3i-Mep"
      },
      "source": [
        "Let's take a look at the first few rows of the table just to see what's in there."
      ]
    },
    {
      "cell_type": "code",
      "metadata": {
        "id": "R5J0EPDh-DBZ",
        "colab": {
          "base_uri": "https://localhost:8080/",
          "height": 225
        },
        "outputId": "c7152181-3641-4ef6-831a-358d6c46b36d"
      },
      "source": [
        "# Display the first five rows of the table.\n",
        "comments.head()"
      ],
      "execution_count": null,
      "outputs": [
        {
          "output_type": "execute_result",
          "data": {
            "text/html": [
              "<div>\n",
              "<style scoped>\n",
              "    .dataframe tbody tr th:only-of-type {\n",
              "        vertical-align: middle;\n",
              "    }\n",
              "\n",
              "    .dataframe tbody tr th {\n",
              "        vertical-align: top;\n",
              "    }\n",
              "\n",
              "    .dataframe thead th {\n",
              "        text-align: right;\n",
              "    }\n",
              "</style>\n",
              "<table border=\"1\" class=\"dataframe\">\n",
              "  <thead>\n",
              "    <tr style=\"text-align: right;\">\n",
              "      <th></th>\n",
              "      <th>comment</th>\n",
              "      <th>year</th>\n",
              "      <th>logged_in</th>\n",
              "      <th>ns</th>\n",
              "      <th>sample</th>\n",
              "      <th>split</th>\n",
              "    </tr>\n",
              "    <tr>\n",
              "      <th>rev_id</th>\n",
              "      <th></th>\n",
              "      <th></th>\n",
              "      <th></th>\n",
              "      <th></th>\n",
              "      <th></th>\n",
              "      <th></th>\n",
              "    </tr>\n",
              "  </thead>\n",
              "  <tbody>\n",
              "    <tr>\n",
              "      <th>37675</th>\n",
              "      <td>`-NEWLINE_TOKENThis is not ``creative``.  Thos...</td>\n",
              "      <td>2002</td>\n",
              "      <td>False</td>\n",
              "      <td>article</td>\n",
              "      <td>random</td>\n",
              "      <td>train</td>\n",
              "    </tr>\n",
              "    <tr>\n",
              "      <th>44816</th>\n",
              "      <td>`NEWLINE_TOKENNEWLINE_TOKEN:: the term ``stand...</td>\n",
              "      <td>2002</td>\n",
              "      <td>False</td>\n",
              "      <td>article</td>\n",
              "      <td>random</td>\n",
              "      <td>train</td>\n",
              "    </tr>\n",
              "    <tr>\n",
              "      <th>49851</th>\n",
              "      <td>NEWLINE_TOKENNEWLINE_TOKENTrue or false, the s...</td>\n",
              "      <td>2002</td>\n",
              "      <td>False</td>\n",
              "      <td>article</td>\n",
              "      <td>random</td>\n",
              "      <td>train</td>\n",
              "    </tr>\n",
              "    <tr>\n",
              "      <th>89320</th>\n",
              "      <td>Next, maybe you could work on being less cond...</td>\n",
              "      <td>2002</td>\n",
              "      <td>True</td>\n",
              "      <td>article</td>\n",
              "      <td>random</td>\n",
              "      <td>dev</td>\n",
              "    </tr>\n",
              "    <tr>\n",
              "      <th>93890</th>\n",
              "      <td>This page will need disambiguation.</td>\n",
              "      <td>2002</td>\n",
              "      <td>True</td>\n",
              "      <td>article</td>\n",
              "      <td>random</td>\n",
              "      <td>train</td>\n",
              "    </tr>\n",
              "  </tbody>\n",
              "</table>\n",
              "</div>"
            ],
            "text/plain": [
              "                                                  comment  year  ...  sample  split\n",
              "rev_id                                                           ...               \n",
              "37675   `-NEWLINE_TOKENThis is not ``creative``.  Thos...  2002  ...  random  train\n",
              "44816   `NEWLINE_TOKENNEWLINE_TOKEN:: the term ``stand...  2002  ...  random  train\n",
              "49851   NEWLINE_TOKENNEWLINE_TOKENTrue or false, the s...  2002  ...  random  train\n",
              "89320    Next, maybe you could work on being less cond...  2002  ...  random    dev\n",
              "93890                This page will need disambiguation.   2002  ...  random  train\n",
              "\n",
              "[5 rows x 6 columns]"
            ]
          },
          "metadata": {
            "tags": []
          },
          "execution_count": 6
        }
      ]
    },
    {
      "cell_type": "markdown",
      "metadata": {
        "id": "ds8e2hmtoMHe"
      },
      "source": [
        "The dataset is split into 'train', 'test', and 'dev'--how big are each of these?"
      ]
    },
    {
      "cell_type": "code",
      "metadata": {
        "id": "ON6STifKn_UW",
        "colab": {
          "base_uri": "https://localhost:8080/",
          "height": 166
        },
        "outputId": "da0b35ba-eec3-4b01-903a-da2b4129e093"
      },
      "source": [
        "comments[['comment', 'split']].groupby('split').count()"
      ],
      "execution_count": null,
      "outputs": [
        {
          "output_type": "execute_result",
          "data": {
            "text/html": [
              "<div>\n",
              "<style scoped>\n",
              "    .dataframe tbody tr th:only-of-type {\n",
              "        vertical-align: middle;\n",
              "    }\n",
              "\n",
              "    .dataframe tbody tr th {\n",
              "        vertical-align: top;\n",
              "    }\n",
              "\n",
              "    .dataframe thead th {\n",
              "        text-align: right;\n",
              "    }\n",
              "</style>\n",
              "<table border=\"1\" class=\"dataframe\">\n",
              "  <thead>\n",
              "    <tr style=\"text-align: right;\">\n",
              "      <th></th>\n",
              "      <th>comment</th>\n",
              "    </tr>\n",
              "    <tr>\n",
              "      <th>split</th>\n",
              "      <th></th>\n",
              "    </tr>\n",
              "  </thead>\n",
              "  <tbody>\n",
              "    <tr>\n",
              "      <th>dev</th>\n",
              "      <td>23160</td>\n",
              "    </tr>\n",
              "    <tr>\n",
              "      <th>test</th>\n",
              "      <td>23178</td>\n",
              "    </tr>\n",
              "    <tr>\n",
              "      <th>train</th>\n",
              "      <td>69526</td>\n",
              "    </tr>\n",
              "  </tbody>\n",
              "</table>\n",
              "</div>"
            ],
            "text/plain": [
              "       comment\n",
              "split         \n",
              "dev      23160\n",
              "test     23178\n",
              "train    69526"
            ]
          },
          "metadata": {
            "tags": []
          },
          "execution_count": 7
        }
      ]
    },
    {
      "cell_type": "code",
      "metadata": {
        "id": "1sc-53u0D9l2",
        "colab": {
          "base_uri": "https://localhost:8080/",
          "height": 195
        },
        "outputId": "61f9e32c-8df0-4bf6-c91e-1714ce621fea"
      },
      "source": [
        "annotations.head()"
      ],
      "execution_count": null,
      "outputs": [
        {
          "output_type": "execute_result",
          "data": {
            "text/html": [
              "<div>\n",
              "<style scoped>\n",
              "    .dataframe tbody tr th:only-of-type {\n",
              "        vertical-align: middle;\n",
              "    }\n",
              "\n",
              "    .dataframe tbody tr th {\n",
              "        vertical-align: top;\n",
              "    }\n",
              "\n",
              "    .dataframe thead th {\n",
              "        text-align: right;\n",
              "    }\n",
              "</style>\n",
              "<table border=\"1\" class=\"dataframe\">\n",
              "  <thead>\n",
              "    <tr style=\"text-align: right;\">\n",
              "      <th></th>\n",
              "      <th>rev_id</th>\n",
              "      <th>worker_id</th>\n",
              "      <th>quoting_attack</th>\n",
              "      <th>recipient_attack</th>\n",
              "      <th>third_party_attack</th>\n",
              "      <th>other_attack</th>\n",
              "      <th>attack</th>\n",
              "    </tr>\n",
              "  </thead>\n",
              "  <tbody>\n",
              "    <tr>\n",
              "      <th>0</th>\n",
              "      <td>37675</td>\n",
              "      <td>1362</td>\n",
              "      <td>0.0</td>\n",
              "      <td>0.0</td>\n",
              "      <td>0.0</td>\n",
              "      <td>0.0</td>\n",
              "      <td>0.0</td>\n",
              "    </tr>\n",
              "    <tr>\n",
              "      <th>1</th>\n",
              "      <td>37675</td>\n",
              "      <td>2408</td>\n",
              "      <td>0.0</td>\n",
              "      <td>0.0</td>\n",
              "      <td>0.0</td>\n",
              "      <td>0.0</td>\n",
              "      <td>0.0</td>\n",
              "    </tr>\n",
              "    <tr>\n",
              "      <th>2</th>\n",
              "      <td>37675</td>\n",
              "      <td>1493</td>\n",
              "      <td>0.0</td>\n",
              "      <td>0.0</td>\n",
              "      <td>0.0</td>\n",
              "      <td>0.0</td>\n",
              "      <td>0.0</td>\n",
              "    </tr>\n",
              "    <tr>\n",
              "      <th>3</th>\n",
              "      <td>37675</td>\n",
              "      <td>1439</td>\n",
              "      <td>0.0</td>\n",
              "      <td>0.0</td>\n",
              "      <td>0.0</td>\n",
              "      <td>0.0</td>\n",
              "      <td>0.0</td>\n",
              "    </tr>\n",
              "    <tr>\n",
              "      <th>4</th>\n",
              "      <td>37675</td>\n",
              "      <td>170</td>\n",
              "      <td>0.0</td>\n",
              "      <td>0.0</td>\n",
              "      <td>0.0</td>\n",
              "      <td>0.0</td>\n",
              "      <td>0.0</td>\n",
              "    </tr>\n",
              "  </tbody>\n",
              "</table>\n",
              "</div>"
            ],
            "text/plain": [
              "   rev_id  worker_id  quoting_attack  ...  third_party_attack  other_attack  attack\n",
              "0   37675       1362             0.0  ...                 0.0           0.0     0.0\n",
              "1   37675       2408             0.0  ...                 0.0           0.0     0.0\n",
              "2   37675       1493             0.0  ...                 0.0           0.0     0.0\n",
              "3   37675       1439             0.0  ...                 0.0           0.0     0.0\n",
              "4   37675        170             0.0  ...                 0.0           0.0     0.0\n",
              "\n",
              "[5 rows x 7 columns]"
            ]
          },
          "metadata": {
            "tags": []
          },
          "execution_count": 8
        }
      ]
    },
    {
      "cell_type": "markdown",
      "metadata": {
        "id": "HWGVLwpiEBBq"
      },
      "source": [
        "Label the comments."
      ]
    },
    {
      "cell_type": "code",
      "metadata": {
        "id": "yzjfgDSvD_e_"
      },
      "source": [
        "# Label a comment as an atack if the majority of annoatators did so\n",
        "# The comments are uniquely identified by their 'rev_id'. The annotations table\n",
        "# has multiple rows for each comment because there were multiple labelers.\n",
        "labels = annotations.groupby('rev_id')['attack'].mean() > 0.5\n",
        "\n",
        "# Join labels and comments\n",
        "comments['attack'] = labels"
      ],
      "execution_count": null,
      "outputs": []
    },
    {
      "cell_type": "code",
      "metadata": {
        "id": "h3VGly4EFu-V"
      },
      "source": [
        "# Remove newline and tab tokens\n",
        "comments['comment'] = comments['comment'].apply(lambda x: x.replace(\"NEWLINE_TOKEN\", \" \"))\n",
        "comments['comment'] = comments['comment'].apply(lambda x: x.replace(\"TAB_TOKEN\", \" \"))"
      ],
      "execution_count": null,
      "outputs": []
    },
    {
      "cell_type": "markdown",
      "metadata": {
        "id": "OuXNkX_AENH3"
      },
      "source": [
        "Divide the dataset into training and test comments."
      ]
    },
    {
      "cell_type": "code",
      "metadata": {
        "id": "dB-QUstREMro"
      },
      "source": [
        "# fit a simple text classifier\n",
        "train_comments = comments.query(\"split=='train'\")\n",
        "test_comments = comments.query(\"split=='test'\")"
      ],
      "execution_count": null,
      "outputs": []
    },
    {
      "cell_type": "markdown",
      "metadata": {
        "id": "kSsYUW3kFcBg"
      },
      "source": [
        "Display some of the comments labeled as containing an attack. Be prepared to see some terrible human behavior... "
      ]
    },
    {
      "cell_type": "code",
      "metadata": {
        "id": "CS94rpSbIUVg",
        "colab": {
          "base_uri": "https://localhost:8080/"
        },
        "outputId": "90dfe941-5eed-448f-88e9-335483e5fd14"
      },
      "source": [
        "import textwrap\n",
        "import random\n",
        "\n",
        "# Wrap text to 80 characters.\n",
        "wrapper = textwrap.TextWrapper(width=80) \n",
        "\n",
        "# Filter to just the \"attack\" comments.\n",
        "attack_examples = train_comments.query('attack')['comment']\n",
        "\n",
        "# Randomly choose some examples.\n",
        "for i in range(10):\n",
        "    j = random.choice(attack_examples.index)\n",
        "    \n",
        "    print('')\n",
        "    print(wrapper.fill(attack_examples[j]))\n",
        "    print('')\n"
      ],
      "execution_count": null,
      "outputs": [
        {
          "output_type": "stream",
          "text": [
            "\n",
            "`  == Hey f**king swine ==  Doing bad? Suffering a lot?  — Preceding unsigned\n",
            "comment added by    `\n",
            "\n",
            "\n",
            "    == STILL DONT GIVE A FUHK == == GET OFF MY PAGE BRO==\n",
            "\n",
            "\n",
            "  == Cesc Fabregas ==  You're a fucking idiot. Cesc Fabregas signed for Chelsea\n",
            "today you moron. It's been confirmed by both Barcelona and Chelsea. The transfer\n",
            "window for England opened on June 10th, not July 1st, get your facts straight.\n",
            "There's even pictures of him holding a Chelsea jersey. Get your facts right,\n",
            "Fabregas is officially a Chelsea player now you fucking retard.\n",
            "\n",
            "\n",
            "   Well,Goodbuy ISIS Terrorist.You will be block by 1 minute.\n",
            "\n",
            "\n",
            "  == I will not participate! ==   is part of the  sockpuppet ring.  You cannot\n",
            "convince me otherwise. The fact that this ring gets away with it has once again\n",
            "soured me to the point of getting the hell of this insane merry-go-round. Good\n",
            "luck, the assholes have won. I have given up trying to undo their madness. If\n",
            "you can't see that this is the Brown ring changing tactics because  and  have\n",
            "openly discussed what the tactics are of the vandal and the vandal was smart\n",
            "enough to change tactics you are blind. Hope you all have fun cleaning up the\n",
            "big Brown mess.\n",
            "\n",
            "\n",
            "What the f*** do you want at my talk page. I got no time to spend with you\n",
            "kiddo.\n",
            "\n",
            "\n",
            "  ==Why now== Why did you revert it now. By78 is not doing because something\n",
            "need to be clarified, but it's deliberate. All links with detailed explanation\n",
            "exists but still act like a dumb person. This is deliberate. And why did you\n",
            "admin revert this edit. This is unacceptable. Do you have any source to claim\n",
            "the contrary whatever edits have been made with sources. If yes provide it or\n",
            "else please don't revert and support vandalism. If this is the case, I am going\n",
            "to remove anything I like from the pages in any article with just one link and\n",
            "then say I am not satisfied with any explanation and going in circle. This is\n",
            "stupid.\n",
            "\n",
            "\n",
            "  ::You moron—I did no such thing. I reverted the addition of scare quotes to\n",
            "the article. And I'm about to do it again. —  /\n",
            "\n",
            "\n",
            "`  == nai caste ka veer ==  fuck you all motherfuckers pakistani janjua  muslims\n",
            "you pigs either lock this talk page too or unlock the talk page of my caste\n",
            "``i am become death, the destroyer of pakistani muslims`` , note my ip and\n",
            "locate me and send terrorists to kill me......if you are a true muslim    i have\n",
            "lost the fear of death  fuck you pig 'sitush', you born out of shit of a pig..\n",
            "teri ma chodu behnchod musalman janjue rajput  bhaag behnchod`\n",
            "\n",
            "\n",
            "`  :::You removed phrases like ``boom, headshot!`` and ``über micro``, silly\n",
            "man.  ] `\n",
            "\n"
          ],
          "name": "stdout"
        }
      ]
    },
    {
      "cell_type": "markdown",
      "metadata": {
        "id": "nIpMl_JOLVyJ"
      },
      "source": [
        "What percentage of the comments are attacks?"
      ]
    },
    {
      "cell_type": "code",
      "metadata": {
        "id": "uXeWYWkGI8wQ",
        "colab": {
          "base_uri": "https://localhost:8080/"
        },
        "outputId": "791128a8-8450-49e9-a248-a4839f842646"
      },
      "source": [
        "total_comments = len(comments)\n",
        "num_attacks = len(comments.query('attack'))\n",
        "\n",
        "print('{:,} of {:,} comments are attacks ({:.2%})'.format(num_attacks, total_comments, num_attacks/total_comments))"
      ],
      "execution_count": null,
      "outputs": [
        {
          "output_type": "stream",
          "text": [
            "13,590 of 115,864 comments are attacks (11.73%)\n"
          ],
          "name": "stdout"
        }
      ]
    },
    {
      "cell_type": "markdown",
      "metadata": {
        "id": "AyFH45voLOqh"
      },
      "source": [
        "The classes are very imbalanced, so we have to be careful interpreting our accuracy..."
      ]
    },
    {
      "cell_type": "code",
      "metadata": {
        "id": "HFuMqCuYI-hA",
        "colab": {
          "base_uri": "https://localhost:8080/"
        },
        "outputId": "530c966a-d6bc-4d79-b931-cf95b5a427fd"
      },
      "source": [
        "prcnt_non_attack = 1 - (len(test_comments.query('attack')) / len(test_comments))\n",
        "\n",
        "print('Always predicting \"not attack\" will yield {:.2%} accuracy on the test set.'.format(prcnt_non_attack))"
      ],
      "execution_count": null,
      "outputs": [
        {
          "output_type": "stream",
          "text": [
            "Always predicting \"not attack\" will yield 88.11% accuracy on the test set.\n"
          ],
          "name": "stdout"
        }
      ]
    },
    {
      "cell_type": "markdown",
      "metadata": {
        "id": "2_HzeZqLFWeh"
      },
      "source": [
        "## 3. BERT Input Length Limitation"
      ]
    },
    {
      "cell_type": "markdown",
      "metadata": {
        "id": "k_qjYE4eFciL"
      },
      "source": [
        "BERT has a maximum input length of 512 tokens. In this section, we'll look at how this limitation affects us in practice, and some possible approaches for addressing it."
      ]
    },
    {
      "cell_type": "markdown",
      "metadata": {
        "id": "LtLgezLbFu2j"
      },
      "source": [
        "### 3.1. Examples of 512 Tokens"
      ]
    },
    {
      "cell_type": "markdown",
      "metadata": {
        "id": "DHMWrcA0F2gr"
      },
      "source": [
        "Let's look at an example comment which gets split into more than 512 tokens, so that we can get a sense for how much text fits within this limit.\n",
        "\n",
        "First we'll need to load the BERT tokenizer."
      ]
    },
    {
      "cell_type": "code",
      "metadata": {
        "id": "Z474sSC6oe7A",
        "colab": {
          "base_uri": "https://localhost:8080/",
          "height": 84,
          "referenced_widgets": [
            "2a60f97a027542409607e6befad8d402",
            "6be9464fc3cf4102ad9247be2ac4b4c6",
            "5e744d7a66624b7f8968f4acb05a570b",
            "9a17f5f07dc24d889d488d1f20028c36",
            "8f117dc3eddf46d09b9d688006260c7c",
            "b9eb0445ee82431abe2d33bf11dfc3ec",
            "75027c1ea6994d8ba143544bd29bc009",
            "b2bbd9866684488e893f97593f93930e"
          ]
        },
        "outputId": "c120a46b-44be-4544-d019-ec85e60ad9c8"
      },
      "source": [
        "from transformers import BertTokenizer\n",
        "\n",
        "# Load the BERT tokenizer.\n",
        "print('Loading BERT tokenizer...')\n",
        "tokenizer = BertTokenizer.from_pretrained('bert-base-uncased', do_lower_case=True)"
      ],
      "execution_count": null,
      "outputs": [
        {
          "output_type": "stream",
          "text": [
            "Loading BERT tokenizer...\n"
          ],
          "name": "stdout"
        },
        {
          "output_type": "display_data",
          "data": {
            "application/vnd.jupyter.widget-view+json": {
              "model_id": "2a60f97a027542409607e6befad8d402",
              "version_minor": 0,
              "version_major": 2
            },
            "text/plain": [
              "HBox(children=(FloatProgress(value=0.0, description='Downloading', max=231508.0, style=ProgressStyle(descripti…"
            ]
          },
          "metadata": {
            "tags": []
          }
        },
        {
          "output_type": "stream",
          "text": [
            "\n"
          ],
          "name": "stdout"
        }
      ]
    },
    {
      "cell_type": "markdown",
      "metadata": {
        "id": "5MNbG8YcLVc7"
      },
      "source": [
        "The first comment in the training set happens to be longer than 512 tokens, and doesn't contain an attack (so we don't have to spend any more time than necessary looking at hateful garbage!). \n",
        "\n",
        "As a side note on this benchmark, it's interesting to see that this comment is certainly argumentative, and the author is in conflict with another user, but it *does not* contain a personal attack."
      ]
    },
    {
      "cell_type": "code",
      "metadata": {
        "id": "YCLWTdIbGN6b",
        "colab": {
          "base_uri": "https://localhost:8080/"
        },
        "outputId": "daf3c0bb-a2e2-4501-e795-ad9d1b0cd871"
      },
      "source": [
        "# Retrieve the text of the first comment.\n",
        "text = train_comments.iloc[0].comment\n",
        "\n",
        "# Run the tokenizer to count up the number of tokens. The tokenizer will split\n",
        "# the text into words, punctuation, and subwords as needed. \n",
        "tokens = tokenizer.tokenize(text)\n",
        "\n",
        "print('Comment 0 (not an attack) contains {:,} WordPiece tokens.'.format(len(tokens)))\n",
        "print('\\nOriginal comment text:\\n')\n",
        "print(wrapper.fill(text))\n"
      ],
      "execution_count": null,
      "outputs": [
        {
          "output_type": "stream",
          "text": [
            "Comment 0 (not an attack) contains 591 WordPiece tokens.\n",
            "\n",
            "Original comment text:\n",
            "\n",
            "`- This is not ``creative``.  Those are the dictionary definitions of the terms\n",
            "``insurance`` and ``ensurance`` as properly applied to ``destruction``.  If you\n",
            "don't understand that, fine, legitimate criticism, I'll write up ``three man\n",
            "cell`` and ``bounty hunter`` and then it will be easy to understand why\n",
            "``ensured`` and ``insured`` are different - and why both differ from\n",
            "``assured``.  The sentence you quote is absolutely neutral.  You just aren't\n",
            "familiar with the underlying theory of strike-back (e.g. submarines as employed\n",
            "in nuclear warfare) guiding the insurance, nor likely the three man cell\n",
            "structure that kept the IRA from being broken by the British.  If that's my\n",
            "fault, fine, I can fix that to explain.  But ther'es nothing ``personal`` or\n",
            "``creative`` about it.  I'm tired of arguing with you.  Re: the other article,\n",
            "``multi-party`` turns up plenty, and there is more use of ``mutually`` than\n",
            "``mutual``.  If I were to apply your standard I'd be moving ``Mutual Assured\n",
            "Destruction`` to ``talk`` for not appealing to a Reagan voter's biases about its\n",
            "effectiveness, and for dropping the ``ly``.  There is a double standard in your\n",
            "edits.  If it comes from some US history book, like ``peace movement`` or\n",
            "'M.A.D.' as defined in 1950, you like it, even if the definition is totally\n",
            "useless in 2002 and only of historical interest.    If it makes any even-obvious\n",
            "connection or implication from the language chosen in multiple profession-\n",
            "specific terms, you consider it somehow non-neutral...  Gandhi thinks ``eye for\n",
            "an eye`` describes riots, death penalty, and war all at once, but you don't.\n",
            "What do you know that Gandhi doesn't?  Guess what:  reality is not neutral.\n",
            "Current use of terms is slightly more controversial.  Neutrality requires\n",
            "negotiation, and some willingness to learn.  This is your problem not mine.  You\n",
            "may dislike the writing, fine, that can be fixed.  But disregarding fundamental\n",
            "axioms of philosphy with names that recur in multiple phrases, or failing to\n",
            "make critical distinctions like 'insurance' versus 'assurance' versus\n",
            "'ensurance' (which are made in one quote by an Air Force general in an in-\n",
            "context quote), is just a disservice to the reader.  If someone comes here to\n",
            "research a topic like MAD, they want some context, beyond history.  If this is a\n",
            "history book, fine, it's a history book.  But that wasn't what it was claimed to\n",
            "be... `\n"
          ],
          "name": "stdout"
        }
      ]
    },
    {
      "cell_type": "markdown",
      "metadata": {
        "id": "ZMOatOiUJ2nb"
      },
      "source": [
        "Let's see how this text looks broken into tokens. We'll separate the first 512 tokens from the balance, in order to see how much text we'd lose by truncating."
      ]
    },
    {
      "cell_type": "code",
      "metadata": {
        "id": "UsLEUFvbJ58m",
        "colab": {
          "base_uri": "https://localhost:8080/"
        },
        "outputId": "53149bac-578c-4f9b-d301-064ea323b3e2"
      },
      "source": [
        "# Print out the list of tokens\n",
        "print('==== First 512 tokens: ====\\n')\n",
        "print(wrapper.fill(str(' '.join(tokens[0:512]))))\n",
        "\n",
        "print('')\n",
        "\n",
        "print('\\n==== Remaining {:,} tokens: ====\\n'.format(len(tokens) - 512))\n",
        "print(wrapper.fill(str(' '.join(tokens[512:]))))"
      ],
      "execution_count": null,
      "outputs": [
        {
          "output_type": "stream",
          "text": [
            "==== First 512 tokens: ====\n",
            "\n",
            "` - this is not ` ` creative ` ` . those are the dictionary definitions of the\n",
            "terms ` ` insurance ` ` and ` ` en ##sur ##ance ` ` as properly applied to ` `\n",
            "destruction ` ` . if you don ' t understand that , fine , legitimate criticism ,\n",
            "i ' ll write up ` ` three man cell ` ` and ` ` bounty hunter ` ` and then it\n",
            "will be easy to understand why ` ` ensured ` ` and ` ` ins ##ured ` ` are\n",
            "different - and why both differ from ` ` assured ` ` . the sentence you quote is\n",
            "absolutely neutral . you just aren ' t familiar with the underlying theory of\n",
            "strike - back ( e . g . submarines as employed in nuclear warfare ) guiding the\n",
            "insurance , nor likely the three man cell structure that kept the ira from being\n",
            "broken by the british . if that ' s my fault , fine , i can fix that to explain\n",
            ". but the ##r ' es nothing ` ` personal ` ` or ` ` creative ` ` about it . i ' m\n",
            "tired of arguing with you . re : the other article , ` ` multi - party ` ` turns\n",
            "up plenty , and there is more use of ` ` mutually ` ` than ` ` mutual ` ` . if i\n",
            "were to apply your standard i ' d be moving ` ` mutual assured destruction ` `\n",
            "to ` ` talk ` ` for not appealing to a reagan voter ' s bias ##es about its\n",
            "effectiveness , and for dropping the ` ` l ##y ` ` . there is a double standard\n",
            "in your edit ##s . if it comes from some us history book , like ` ` peace\n",
            "movement ` ` or ' m . a . d . ' as defined in 1950 , you like it , even if the\n",
            "definition is totally useless in 2002 and only of historical interest . if it\n",
            "makes any even - obvious connection or implication from the language chosen in\n",
            "multiple profession - specific terms , you consider it somehow non - neutral . .\n",
            ". gandhi thinks ` ` eye for an eye ` ` describes riots , death penalty , and war\n",
            "all at once , but you don ' t . what do you know that gandhi doesn ' t ? guess\n",
            "what : reality is not neutral . current use of terms is slightly more\n",
            "controversial . neutrality requires negotiation , and some willingness to learn\n",
            ". this is your problem not mine . you may dislike the writing , fine , that can\n",
            "be fixed . but disregard ##ing fundamental ax ##ioms of phil ##os ##phy with\n",
            "names that rec ##ur in multiple phrases , or failing to make critical\n",
            "distinctions like ' insurance ' versus ' assurance ' versus ' en ##sur ##ance '\n",
            "( which\n",
            "\n",
            "\n",
            "==== Remaining 79 tokens: ====\n",
            "\n",
            "are made in one quote by an air force general in an in - context quote ) , is\n",
            "just a di ##sser ##vic ##e to the reader . if someone comes here to research a\n",
            "topic like mad , they want some context , beyond history . if this is a history\n",
            "book , fine , it ' s a history book . but that wasn ' t what it was claimed to\n",
            "be . . . `\n"
          ],
          "name": "stdout"
        }
      ]
    },
    {
      "cell_type": "markdown",
      "metadata": {
        "id": "PgDXdOCkMqsq"
      },
      "source": [
        "This comment contains a lot of punctuation (many quotes and some parentheses) which each end up as a separate token for BERT. \n",
        "\n",
        "Out of curiosity, let's look at how many actual words and sentences this text contains versus tokens. "
      ]
    },
    {
      "cell_type": "code",
      "metadata": {
        "id": "Zl8_SY3LIEAw",
        "colab": {
          "base_uri": "https://localhost:8080/"
        },
        "outputId": "f44f8575-d101-4d9e-c686-e87d454a1796"
      },
      "source": [
        "# First truncate the text to remove the last 79 tokens (which begin with the \n",
        "# words \"are made in\").\n",
        "last_char = text.find('are made in')\n",
        "\n",
        "# Truncate the text to only what fits in the 512 tokens.\n",
        "text = text[0:last_char]\n",
        "\n",
        "# Estimate the number of words in the comment by splitting it on whitespace.\n",
        "# First remove all double spaces.\n",
        "text = text.replace('  ', ' ')\n",
        "num_words = len(text.split(' '))\n",
        "\n",
        "print('Comment contains ~{:,} words.'.format(num_words))\n",
        "\n",
        "# Estimate the number of sentences by counting up the periods.\n",
        "num_sens = text.count('. ')\n",
        "\n",
        "print('Comment contains ~{:,} sentences.'.format(num_sens))"
      ],
      "execution_count": null,
      "outputs": [
        {
          "output_type": "stream",
          "text": [
            "Comment contains ~330 words.\n",
            "Comment contains ~20 sentences.\n"
          ],
          "name": "stdout"
        }
      ]
    },
    {
      "cell_type": "markdown",
      "metadata": {
        "id": "gMtJGHOZOVIA"
      },
      "source": [
        "### 3.2. Strategies for Longer Text\n",
        "\n",
        "Key points:\n",
        "* There's no *obvious* solution, but we'll cover a number of ideas to try.\n",
        "* Looking at the statistics of your dataset should help when choosing your strategy. We'll do this in section 3.3.\n",
        "\n",
        "There was a [paper published](https://arxiv.org/pdf/1905.05583.pdf) recently that investigated this problem and experimented with a few approaches.  Check out section 5.3. specifically. \n",
        "\n",
        "[![BERT Text Classification Paper](https://drive.google.com/uc?export=view&id=1d9p_Ks5RUtFdKr_Fv5Oaie4HywRS4Zzg)](https://drive.google.com/uc?export=view&id=1d9p_Ks5RUtFdKr_Fv5Oaie4HywRS4Zzg)\n",
        "\n"
      ]
    },
    {
      "cell_type": "markdown",
      "metadata": {
        "id": "eVdyb7BXkMz8"
      },
      "source": [
        "\n",
        "**Truncation**\n",
        "\n",
        "The simplest approach is just to drop some of the tokens, and hope that the remaining text is enough to perform the task well.\n",
        "\n",
        "You could drop tokens:\n",
        "* From the beginning of the text.\n",
        "* At the end of the text.\n",
        "* In the middle of the text.\n",
        "\n",
        "In the above paper, their experiments on the IMDb movie review dataset showed that keeping the first 128 tokens and the last 382 tokens performed best. (Note: This adds up to 510 tokens, leaving room for the special `[CLS]` and `[SEP]` tokens that we have to append to the beginning and the end of the text, respectively). \n",
        "\n",
        "Perhaps this is because, when writing something like a movie review, we tend to put our high-level points in the introduction and conclusion?\n"
      ]
    },
    {
      "cell_type": "markdown",
      "metadata": {
        "id": "J6jNPuLHkPRU"
      },
      "source": [
        "\n",
        "**Chunking**\n",
        "\n",
        "Another approach attempted by the authors (and also proposed in [this thread](https://github.com/google-research/bert/issues/650) in the BERT GitHub repo) would be to divide the text into 512-token chunks and generate embeddings for these chunks separately. \n",
        "\n",
        "The authors of the paper combined the embeddings for the different chunks before performing the final classification. They tried several \"pooling\" strategies, such as averaging the embeddings together. None of these approaches outperformed the simple truncation approach, however.\n",
        "\n",
        "In the GitHub discussion above, the user suggested instead classifying the chunks separately and then averaging together the predictions. \n",
        "\n",
        "Mariano Kamp, in a comment on my YouTube video, also made the insightful observation that these \"chunking\" approaches could be computationly expensive when dealing with lengthy documents. \n",
        "\n",
        "I've included another Notebook in this tutorial which employs the chunking strategy, [Wikipedia Comments - Chunking Approach.ipynb](https://colab.research.google.com/drive/1A-Cq9OZZ6DcU2iy328DWGWlBWx96K5jo?usp=sharing).\n"
      ]
    },
    {
      "cell_type": "markdown",
      "metadata": {
        "id": "RLQN-3Y95R1p"
      },
      "source": [
        "**Update: BERT Variants**\n",
        "\n",
        "*(Added 6/15/21)*\n",
        "\n",
        "Various research groups have also tried modifying BERT's architecture to enable it to support longer input sequences. \n",
        "\n",
        "Two of the most practical examples are *Longformer* (from Allen AI) and *BigBird* (from Google), which can handle up to 8x longer sequences than BERT. These two models are very similar, with BigBird being the slightly more recent model intended to improve over Longformer.\n",
        "\n",
        "BigBird largely retains BERT's architecture, but uses a technique called \"Sparse Attention\" to trade off accuracy for longer sequence length. \n",
        "\n",
        "_NLP Base Camp Members_ can learn more with my BigBird and Longformer video course and eBook [here](https://www.chrismccormick.ai/products/longer-text-with-bigbird-longformer). If you're not a member, [join now](https://www.chrismccormick.ai/membership?utm_source=colab&utm_medium=link&utm_campaign=membership&utm_content=colab1)! \n",
        "\n",
        "\n"
      ]
    },
    {
      "cell_type": "markdown",
      "metadata": {
        "id": "-8kEDRvShcU5"
      },
      "source": [
        "### 3.3. Comment Length Distribution"
      ]
    },
    {
      "cell_type": "markdown",
      "metadata": {
        "id": "OGkq8hQJfqZY"
      },
      "source": [
        "To decide on a truncation strategy for this dataset, let's first look at the distribution of comment lenghts.\n",
        "\n",
        "To do this, our first step is to tokenize all of the comments in the training set."
      ]
    },
    {
      "cell_type": "markdown",
      "metadata": {
        "id": "1M296yz577fV"
      },
      "source": [
        "**Tokenize All Comments**\n",
        "\n",
        "The `tokenizer.encode` function combines multiple steps for us:\n",
        "1. Split the sentence into tokens.\n",
        "2. Add the special `[CLS]` and `[SEP]` tokens.\n",
        "3. Map the tokens to their IDs.\n",
        "\n",
        "In order to explore the distribution of comment lengths, we will not perform any truncation here. Unfortunately, this results in the tokenizer spitting out a warning for every comment that's longer than 512 tokens. We'll just have to ignore those for now!"
      ]
    },
    {
      "cell_type": "code",
      "metadata": {
        "id": "2bBdb3pt8LuQ",
        "colab": {
          "base_uri": "https://localhost:8080/"
        },
        "outputId": "5b072a53-9c70-49fe-f19c-486738b18846"
      },
      "source": [
        "import numpy as np\n",
        "\n",
        "# Tokenize all of the sentences and map the tokens to thier word IDs.\n",
        "input_ids = []\n",
        "\n",
        "# Record the length of each sequence (after truncating to 512).\n",
        "lengths = []\n",
        "\n",
        "print('Tokenizing comments...')\n",
        "\n",
        "# For every sentence...\n",
        "for sen in train_comments.comment:\n",
        "    \n",
        "    # Report progress.\n",
        "    if ((len(input_ids) % 20000) == 0):\n",
        "        print('  Read {:,} comments.'.format(len(input_ids)))\n",
        "    \n",
        "    # `encode` will:\n",
        "    #   (1) Tokenize the sentence.\n",
        "    #   (2) Prepend the `[CLS]` token to the start.\n",
        "    #   (3) Append the `[SEP]` token to the end.\n",
        "    #   (4) Map tokens to their IDs.\n",
        "    encoded_sent = tokenizer.encode(\n",
        "                        sen,                      # Sentence to encode.\n",
        "                        add_special_tokens = True, # Add '[CLS]' and '[SEP]'\n",
        "                        #max_length = 512,          # Truncate all sentences.                        \n",
        "                        #return_tensors = 'pt',     # Return pytorch tensors.\n",
        "                   )\n",
        "    \n",
        "    # Add the encoded sentence to the list.\n",
        "    input_ids.append(encoded_sent)\n",
        "\n",
        "    # Record the truncated length.\n",
        "    lengths.append(len(encoded_sent))\n",
        "\n",
        "print('DONE.')\n",
        "print('{:>10,} comments'.format(len(input_ids)))"
      ],
      "execution_count": null,
      "outputs": [
        {
          "output_type": "stream",
          "text": [
            "Token indices sequence length is longer than the specified maximum sequence length for this model (593 > 512). Running this sequence through the model will result in indexing errors\n"
          ],
          "name": "stderr"
        },
        {
          "output_type": "stream",
          "text": [
            "Tokenizing comments...\n",
            "  Read 0 comments.\n",
            "  Read 20,000 comments.\n",
            "  Read 40,000 comments.\n",
            "  Read 60,000 comments.\n",
            "DONE.\n",
            "    69,526 comments\n"
          ],
          "name": "stdout"
        }
      ]
    },
    {
      "cell_type": "markdown",
      "metadata": {
        "id": "UH5qOkWMgrg0"
      },
      "source": [
        "Before we continue, let's also retrieve the comment labels, and check out the class distribution for this dataset."
      ]
    },
    {
      "cell_type": "code",
      "metadata": {
        "id": "se0cC1GD2ZCa",
        "colab": {
          "base_uri": "https://localhost:8080/"
        },
        "outputId": "5cdc5612-bd9e-41d2-ab06-be98fc96973e"
      },
      "source": [
        "# Also retrieve the labels as a list.\n",
        "\n",
        "# Get the labels from the DataFrame, and convert from booleans to ints.\n",
        "labels = train_comments.attack.to_numpy().astype(int)\n",
        "\n",
        "print('{:>7,} positive (contains attack)'.format(np.sum(labels)))\n",
        "print('{:>7,} negative (not an attack)'.format(len(labels) - np.sum(labels)))"
      ],
      "execution_count": null,
      "outputs": [
        {
          "output_type": "stream",
          "text": [
            "  8,079 positive (contains attack)\n",
            " 61,447 negative (not an attack)\n"
          ],
          "name": "stdout"
        }
      ]
    },
    {
      "cell_type": "markdown",
      "metadata": {
        "id": "X_erWZU7hDTB"
      },
      "source": [
        "Let's grab some quick statistics--what are the min, max and median comment lenghts?"
      ]
    },
    {
      "cell_type": "code",
      "metadata": {
        "id": "qmrQVSsjg6By",
        "colab": {
          "base_uri": "https://localhost:8080/"
        },
        "outputId": "e1f7f9d1-f083-4ca8-fed5-e7fdc3c722c7"
      },
      "source": [
        "print('   Min length: {:,} tokens'.format(min(lengths)))\n",
        "print('   Max length: {:,} tokens'.format(max(lengths)))\n",
        "print('Median length: {:,} tokens'.format(np.median(lengths)))"
      ],
      "execution_count": null,
      "outputs": [
        {
          "output_type": "stream",
          "text": [
            "   Min length: 2 tokens\n",
            "   Max length: 9,861 tokens\n",
            "Median length: 52.0 tokens\n"
          ],
          "name": "stdout"
        }
      ]
    },
    {
      "cell_type": "markdown",
      "metadata": {
        "id": "xytsw1oIfnX0"
      },
      "source": [
        "To further analyze it, let's plot the distribution. To keep the scale of the x-axis reasonable, *we'll clip the lengths to 512.*\n"
      ]
    },
    {
      "cell_type": "code",
      "metadata": {
        "id": "iLhi9A49zmsy",
        "colab": {
          "base_uri": "https://localhost:8080/",
          "height": 445
        },
        "outputId": "ea08df4a-f46e-47cc-e8d2-c6544afd11a6"
      },
      "source": [
        "import matplotlib.pyplot as plt\n",
        "import seaborn as sns\n",
        "import numpy as np\n",
        "\n",
        "sns.set(style='darkgrid')\n",
        "\n",
        "# Increase the plot size and font size.\n",
        "sns.set(font_scale=1.5)\n",
        "plt.rcParams[\"figure.figsize\"] = (10,5)\n",
        "\n",
        "# Truncate any comment lengths greater than 512.\n",
        "lengths = [min(l, 512) for l in lengths]\n",
        "\n",
        "# Plot the distribution of comment lengths.\n",
        "sns.distplot(lengths, kde=False, rug=False)\n",
        "\n",
        "# Alternatively, you might try using a log scale on the x-axis, but this is \n",
        "# tricky. See here for one approach:\n",
        "# https://stackoverflow.com/questions/47850202/plotting-a-histogram-on-a-log-scale-with-matplotlib?rq=1\n",
        "#plt.xscale('log')\n",
        "\n",
        "plt.title('Comment Lengths')\n",
        "plt.xlabel('Comment Length')\n",
        "plt.ylabel('# of Comments')\n"
      ],
      "execution_count": null,
      "outputs": [
        {
          "output_type": "stream",
          "text": [
            "/usr/local/lib/python3.6/dist-packages/seaborn/distributions.py:2557: FutureWarning: `distplot` is a deprecated function and will be removed in a future version. Please adapt your code to use either `displot` (a figure-level function with similar flexibility) or `histplot` (an axes-level function for histograms).\n",
            "  warnings.warn(msg, FutureWarning)\n"
          ],
          "name": "stderr"
        },
        {
          "output_type": "execute_result",
          "data": {
            "text/plain": [
              "Text(0, 0.5, '# of Comments')"
            ]
          },
          "metadata": {
            "tags": []
          },
          "execution_count": 22
        },
        {
          "output_type": "display_data",
          "data": {
            "image/png": "[encoded data removed]",
            "text/plain": [
              "<Figure size 720x360 with 1 Axes>"
            ]
          },
          "metadata": {
            "tags": []
          }
        }
      ]
    },
    {
      "cell_type": "markdown",
      "metadata": {
        "id": "hvs9RvI2dLNE"
      },
      "source": [
        "Clearly most comments are \"short\", and there's a long tail of longer comments. \n",
        "\n",
        "Just how many of the examples run into the 512-token limit?"
      ]
    },
    {
      "cell_type": "code",
      "metadata": {
        "id": "SGd5i3ZvaWXu",
        "colab": {
          "base_uri": "https://localhost:8080/"
        },
        "outputId": "247ad37b-726a-49a6-c39e-9ccc51b46582"
      },
      "source": [
        "# Count the number of sentences that had to be truncated to 512 tokens.\n",
        "num_truncated = lengths.count(512)\n",
        "\n",
        "# Compare this to the total number of training sentences.\n",
        "num_sentences = len(lengths)\n",
        "prcnt = float(num_truncated) / float(num_sentences)\n",
        "\n",
        "print('{:,} of {:,} sentences ({:.1%}) in the training set are longer than 512 tokens.'.format(num_truncated, num_sentences, prcnt))"
      ],
      "execution_count": null,
      "outputs": [
        {
          "output_type": "stream",
          "text": [
            "1,668 of 69,526 sentences (2.4%) in the training set are longer than 512 tokens.\n"
          ],
          "name": "stdout"
        }
      ]
    },
    {
      "cell_type": "markdown",
      "metadata": {
        "id": "45Ej0qXsdaSL"
      },
      "source": [
        "And of those, how many contain personal attacks?"
      ]
    },
    {
      "cell_type": "code",
      "metadata": {
        "id": "B2MwV9oGNF3A",
        "colab": {
          "base_uri": "https://localhost:8080/"
        },
        "outputId": "ca977a76-95d5-406e-b482-6c1c3d6711d6"
      },
      "source": [
        "# Tally up how many of the truncated sentences are positive vs. negative examples.\n",
        "num_pos = 0\n",
        "num_neg = 0\n",
        "\n",
        "# Iterate through the comment lengths...\n",
        "for i, l in enumerate(lengths):\n",
        "    \n",
        "    # If the sentence was truncated...\n",
        "    if l == 512:\n",
        "\n",
        "        # Tally up whether it contains a personal attack or not.\n",
        "        if labels[i] == 1:\n",
        "            num_pos += 1\n",
        "        else:\n",
        "            num_neg += 1\n",
        "\n",
        "# Report the total.\n",
        "print('{:,} ({:.1%}) of the truncated examples contain a personal attack.'.format(num_pos, num_pos / (num_neg + num_pos)))"
      ],
      "execution_count": null,
      "outputs": [
        {
          "output_type": "stream",
          "text": [
            "202 (12.1%) of the truncated examples contain a personal attack.\n"
          ],
          "name": "stdout"
        }
      ]
    },
    {
      "cell_type": "markdown",
      "metadata": {
        "id": "RM8rJXDzdqfk"
      },
      "source": [
        "Interesting! I think this makes sense, given that you wouldn't typically expect for hateful comments to be long and well-reasoned :)."
      ]
    },
    {
      "cell_type": "markdown",
      "metadata": {
        "id": "PNJJ2n6qeqBz"
      },
      "source": [
        "### 3.4. Pad & Truncate the Comments"
      ]
    },
    {
      "cell_type": "markdown",
      "metadata": {
        "id": "hp-54FcQ_p3h"
      },
      "source": [
        "I think it seems safe to truncate our comments to 512 tokens. \n",
        "\n",
        "Not only that, but I think we can get away with an even shorter sequence length to speed things up. I've picked a max length of 128, since this is around the \"elbow\" of the distribution. \n",
        "\n",
        "We can always try longer lengths later to see how much this improves our results."
      ]
    },
    {
      "cell_type": "code",
      "metadata": {
        "id": "Cp9BPRd1tMIo",
        "colab": {
          "base_uri": "https://localhost:8080/"
        },
        "outputId": "ac32ead5-4372-4d93-dd24-28366f5f4519"
      },
      "source": [
        "# We'll borrow the `pad_sequences` utility function to do this.\n",
        "from keras.preprocessing.sequence import pad_sequences\n",
        "\n",
        "# Set the required sequence length.\n",
        "MAX_LEN = 128\n",
        "\n",
        "print('\\nPadding/truncating all sentences to %d values...' % MAX_LEN)\n",
        "\n",
        "print('\\nPadding token: \"{:}\", ID: {:}'.format(tokenizer.pad_token, tokenizer.pad_token_id))\n",
        "\n",
        "# Pad our input tokens with value 0.\n",
        "input_ids = pad_sequences(input_ids, maxlen=MAX_LEN, dtype=\"long\", \n",
        "                          value=0, truncating=\"post\", padding=\"post\")\n",
        "\n",
        "print('\\nDone.')"
      ],
      "execution_count": null,
      "outputs": [
        {
          "output_type": "stream",
          "text": [
            "\n",
            "Padding/truncating all sentences to 128 values...\n",
            "\n",
            "Padding token: \"[PAD]\", ID: 0\n",
            "\n",
            "Done.\n"
          ],
          "name": "stdout"
        }
      ]
    },
    {
      "cell_type": "markdown",
      "metadata": {
        "id": "kDs-MYtYH8sL"
      },
      "source": [
        "**Attention Masks**"
      ]
    },
    {
      "cell_type": "markdown",
      "metadata": {
        "id": "KhGulL1pExCT"
      },
      "source": [
        "The attention mask simply makes it explicit which tokens are actual words versus which are padding. \n",
        "\n",
        "The BERT vocabulary does not use the ID 0, so if a token ID is 0, then it's padding, and otherwise it's a real token."
      ]
    },
    {
      "cell_type": "code",
      "metadata": {
        "id": "cDoC24LeEv3N"
      },
      "source": [
        "# Create attention masks\n",
        "attention_masks = []\n",
        "\n",
        "# For each sentence...\n",
        "for sent in input_ids:\n",
        "    \n",
        "    # Create the attention mask.\n",
        "    #   - If a token ID is 0, then it's padding, set the mask to 0.\n",
        "    #   - If a token ID is > 0, then it's a real token, set the mask to 1.\n",
        "    att_mask = [int(token_id > 0) for token_id in sent]\n",
        "    \n",
        "    # Store the attention mask for this sentence.\n",
        "    attention_masks.append(att_mask)"
      ],
      "execution_count": null,
      "outputs": []
    },
    {
      "cell_type": "markdown",
      "metadata": {
        "id": "aRp4O7D295d_"
      },
      "source": [
        "### 3.5. Final Data Prep\n"
      ]
    },
    {
      "cell_type": "markdown",
      "metadata": {
        "id": "M7H2mkr0kFng"
      },
      "source": [
        "We a few small data preparation steps to complete before we can move on to training and test."
      ]
    },
    {
      "cell_type": "markdown",
      "metadata": {
        "id": "qu0ao7p8rb06"
      },
      "source": [
        "(1) Divide up our training set to use 90% for training and 10% for validation."
      ]
    },
    {
      "cell_type": "code",
      "metadata": {
        "id": "aFbE-UHvsb7-"
      },
      "source": [
        "# Use train_test_split to split our data into train and validation sets for\n",
        "# training\n",
        "from sklearn.model_selection import train_test_split\n",
        "\n",
        "# Use 90% for training and 10% for validation.\n",
        "train_inputs, validation_inputs, train_labels, validation_labels = train_test_split(input_ids, labels, \n",
        "                                                            random_state=2018, test_size=0.1)\n",
        "# Do the same for the masks.\n",
        "train_masks, validation_masks, _, _ = train_test_split(attention_masks, labels,\n",
        "                                             random_state=2018, test_size=0.1)"
      ],
      "execution_count": null,
      "outputs": []
    },
    {
      "cell_type": "markdown",
      "metadata": {
        "id": "6p1uXczp-Je4"
      },
      "source": [
        "(2) Our model expects PyTorch tensors rather than numpy.ndarrays, so convert all of our dataset variables."
      ]
    },
    {
      "cell_type": "code",
      "metadata": {
        "id": "jw5K2A5Ko1RF"
      },
      "source": [
        "# Convert all inputs and labels into torch tensors, the required datatype \n",
        "# for our model.\n",
        "train_inputs = torch.tensor(train_inputs)\n",
        "validation_inputs = torch.tensor(validation_inputs)\n",
        "\n",
        "train_labels = torch.tensor(train_labels)\n",
        "validation_labels = torch.tensor(validation_labels)\n",
        "\n",
        "train_masks = torch.tensor(train_masks)\n",
        "validation_masks = torch.tensor(validation_masks)"
      ],
      "execution_count": null,
      "outputs": []
    },
    {
      "cell_type": "markdown",
      "metadata": {
        "id": "dD9i6Z2pG-sN"
      },
      "source": [
        "(3) We'll also create an iterator for our dataset using the torch DataLoader class. This helps save on memory during training because, unlike a for loop, with an iterator the entire dataset does not need to be loaded into memory."
      ]
    },
    {
      "cell_type": "code",
      "metadata": {
        "id": "GEgLpFVlo1Z-"
      },
      "source": [
        "from torch.utils.data import TensorDataset, DataLoader, RandomSampler, SequentialSampler\n",
        "\n",
        "# The DataLoader needs to know our batch size for training, so we specify it \n",
        "# here.\n",
        "# For fine-tuning BERT on a specific task, the authors recommend a batch size of\n",
        "# 16 or 32.\n",
        "\n",
        "batch_size = 32\n",
        "\n",
        "# Create the DataLoader for our training set.\n",
        "train_data = TensorDataset(train_inputs, train_masks, train_labels)\n",
        "train_sampler = RandomSampler(train_data)\n",
        "train_dataloader = DataLoader(train_data, sampler=train_sampler, batch_size=batch_size)\n",
        "\n",
        "# Create the DataLoader for our validation set.\n",
        "validation_data = TensorDataset(validation_inputs, validation_masks, validation_labels)\n",
        "validation_sampler = SequentialSampler(validation_data)\n",
        "validation_dataloader = DataLoader(validation_data, sampler=validation_sampler, batch_size=batch_size)\n"
      ],
      "execution_count": null,
      "outputs": []
    },
    {
      "cell_type": "markdown",
      "metadata": {
        "id": "Wl12-BD637Ty"
      },
      "source": [
        "# Part II - BERT Fine-Tuning"
      ]
    },
    {
      "cell_type": "markdown",
      "metadata": {
        "id": "8bwa6Rts-02-"
      },
      "source": [
        "## 4. Train Our Classification Model"
      ]
    },
    {
      "cell_type": "markdown",
      "metadata": {
        "id": "3xYQ3iLO08SX"
      },
      "source": [
        "Now that our input data is properly formatted, it's time to fine tune the BERT model. "
      ]
    },
    {
      "cell_type": "markdown",
      "metadata": {
        "id": "D6TKgyUzPIQc"
      },
      "source": [
        "### 4.1. BertForSequenceClassification"
      ]
    },
    {
      "cell_type": "markdown",
      "metadata": {
        "id": "1sjzRT1V0zwm"
      },
      "source": [
        "For this task, we first want to modify the pre-trained BERT model to give outputs for classification, and then we want to continue training the model on our dataset until that the entire model, end-to-end, is well-suited for our task. \n",
        "\n",
        "Thankfully, the huggingface pytorch implementation includes a set of interfaces designed for a variety of NLP tasks. Though these interfaces are all built on top of a trained BERT model, each has different top layers and output types designed to accomodate their specific NLP task.  \n",
        "\n",
        "Here is the current list of classes provided for fine-tuning:\n",
        "* BertModel\n",
        "* BertForPreTraining\n",
        "* BertForMaskedLM\n",
        "* BertForNextSentencePrediction\n",
        "* **BertForSequenceClassification** - The one we'll use.\n",
        "* BertForTokenClassification\n",
        "* BertForQuestionAnswering\n",
        "\n",
        "The documentation for these can be found under [here](https://huggingface.co/transformers/v2.2.0/model_doc/bert.html)."
      ]
    },
    {
      "cell_type": "markdown",
      "metadata": {
        "id": "BXYitPoE-cjH"
      },
      "source": [
        "\n",
        "\n",
        "We'll be using [BertForSequenceClassification](https://huggingface.co/transformers/v2.2.0/model_doc/bert.html#bertforsequenceclassification). This is the normal BERT model with an added single linear layer on top for classification that we will use as a sentence classifier. As we feed input data, the entire pre-trained BERT model and the additional untrained classification layer is trained on our specific task. \n"
      ]
    },
    {
      "cell_type": "markdown",
      "metadata": {
        "id": "WnQW9E-bBCRt"
      },
      "source": [
        "OK, let's load BERT! There are a few different pre-trained BERT models available. \"bert-base-uncased\" means the version that has only lowercase letters (\"uncased\") and is the smaller version of the two (\"base\" vs \"large\").\n",
        "\n",
        "The documentation for `from_pretrained` can be found [here](https://huggingface.co/transformers/v2.2.0/main_classes/model.html#transformers.PreTrainedModel.from_pretrained), with the additional parameters defined [here](https://huggingface.co/transformers/v2.2.0/main_classes/configuration.html#transformers.PretrainedConfig)."
      ]
    },
    {
      "cell_type": "code",
      "metadata": {
        "id": "gFsCTp_mporB",
        "colab": {
          "base_uri": "https://localhost:8080/",
          "height": 1000,
          "referenced_widgets": [
            "32dfe8d4c48743388d085103f1e9212a",
            "2b8a8dabb9f043739a5511d4bca99e29",
            "1e484e76d41a43f19e8f7b7765d67bfa",
            "16f85038542c47f987142d60db8f4488",
            "8acc13d0dd4f4a4495523ea749f37ce9",
            "e1a59ad47b4b460789ed151d7a690a88",
            "7a5ddb5790fa449ca7ea7bcdbf10dcea",
            "0f879e16aefb4f19b011df7ec7baab49",
            "807a02fb3ed34c60a8a18801c3e7f82b",
            "cc59e01f586b4dc2865570890310c16a",
            "cd52dcd0b75e4e2b93e30c34896fdf3e",
            "4449fc1273ba4838b38368f62dc53259",
            "550d0bc02a404142bf61b92184fd40e2",
            "337c5eb7ceca4ba5a1022a151bb92b5b",
            "163b85a18123493e9ee686c5b49bd5be",
            "e52d1efe84da4689b4444c873caaa3ba"
          ]
        },
        "outputId": "f41521b9-2327-4660-af33-23dcbc00f6a1"
      },
      "source": [
        "from transformers import BertForSequenceClassification, AdamW, BertConfig\n",
        "\n",
        "# Load BertForSequenceClassification, the pretrained BERT model with a single \n",
        "# linear classification layer on top. \n",
        "model = BertForSequenceClassification.from_pretrained(\n",
        "    \"bert-base-uncased\", # Use the 12-layer BERT model, with an uncased vocab.\n",
        "    num_labels = 2, # The number of output labels--2 for binary classification.\n",
        "                    # You can increase this for multi-class tasks.   \n",
        "    output_attentions = False, # Whether the model returns attentions weights.\n",
        "    output_hidden_states = False, # Whether the model returns all hidden-states.\n",
        ")\n",
        "\n",
        "# Tell pytorch to run this model on the GPU.\n",
        "model.cuda()"
      ],
      "execution_count": null,
      "outputs": [
        {
          "output_type": "display_data",
          "data": {
            "application/vnd.jupyter.widget-view+json": {
              "model_id": "32dfe8d4c48743388d085103f1e9212a",
              "version_minor": 0,
              "version_major": 2
            },
            "text/plain": [
              "HBox(children=(FloatProgress(value=0.0, description='Downloading', max=433.0, style=ProgressStyle(description_…"
            ]
          },
          "metadata": {
            "tags": []
          }
        },
        {
          "output_type": "stream",
          "text": [
            "\n"
          ],
          "name": "stdout"
        },
        {
          "output_type": "display_data",
          "data": {
            "application/vnd.jupyter.widget-view+json": {
              "model_id": "807a02fb3ed34c60a8a18801c3e7f82b",
              "version_minor": 0,
              "version_major": 2
            },
            "text/plain": [
              "HBox(children=(FloatProgress(value=0.0, description='Downloading', max=440473133.0, style=ProgressStyle(descri…"
            ]
          },
          "metadata": {
            "tags": []
          }
        },
        {
          "output_type": "stream",
          "text": [
            "\n"
          ],
          "name": "stdout"
        },
        {
          "output_type": "stream",
          "text": [
            "Some weights of the model checkpoint at bert-base-uncased were not used when initializing BertForSequenceClassification: ['cls.predictions.bias', 'cls.predictions.transform.dense.weight', 'cls.predictions.transform.dense.bias', 'cls.predictions.decoder.weight', 'cls.seq_relationship.weight', 'cls.seq_relationship.bias', 'cls.predictions.transform.LayerNorm.weight', 'cls.predictions.transform.LayerNorm.bias']\n",
            "- This IS expected if you are initializing BertForSequenceClassification from the checkpoint of a model trained on another task or with another architecture (e.g. initializing a BertForSequenceClassification model from a BertForPreTraining model).\n",
            "- This IS NOT expected if you are initializing BertForSequenceClassification from the checkpoint of a model that you expect to be exactly identical (initializing a BertForSequenceClassification model from a BertForSequenceClassification model).\n",
            "Some weights of BertForSequenceClassification were not initialized from the model checkpoint at bert-base-uncased and are newly initialized: ['classifier.weight', 'classifier.bias']\n",
            "You should probably TRAIN this model on a down-stream task to be able to use it for predictions and inference.\n"
          ],
          "name": "stderr"
        },
        {
          "output_type": "execute_result",
          "data": {
            "text/plain": [
              "BertForSequenceClassification(\n",
              "  (bert): BertModel(\n",
              "    (embeddings): BertEmbeddings(\n",
              "      (word_embeddings): Embedding(30522, 768, padding_idx=0)\n",
              "      (position_embeddings): Embedding(512, 768)\n",
              "      (token_type_embeddings): Embedding(2, 768)\n",
              "      (LayerNorm): LayerNorm((768,), eps=1e-12, elementwise_affine=True)\n",
              "      (dropout): Dropout(p=0.1, inplace=False)\n",
              "    )\n",
              "    (encoder): BertEncoder(\n",
              "      (layer): ModuleList(\n",
              "        (0): BertLayer(\n",
              "          (attention): BertAttention(\n",
              "            (self): BertSelfAttention(\n",
              "              (query): Linear(in_features=768, out_features=768, bias=True)\n",
              "              (key): Linear(in_features=768, out_features=768, bias=True)\n",
              "              (value): Linear(in_features=768, out_features=768, bias=True)\n",
              "              (dropout): Dropout(p=0.1, inplace=False)\n",
              "            )\n",
              "            (output): BertSelfOutput(\n",
              "              (dense): Linear(in_features=768, out_features=768, bias=True)\n",
              "              (LayerNorm): LayerNorm((768,), eps=1e-12, elementwise_affine=True)\n",
              "              (dropout): Dropout(p=0.1, inplace=False)\n",
              "            )\n",
              "          )\n",
              "          (intermediate): BertIntermediate(\n",
              "            (dense): Linear(in_features=768, out_features=3072, bias=True)\n",
              "          )\n",
              "          (output): BertOutput(\n",
              "            (dense): Linear(in_features=3072, out_features=768, bias=True)\n",
              "            (LayerNorm): LayerNorm((768,), eps=1e-12, elementwise_affine=True)\n",
              "            (dropout): Dropout(p=0.1, inplace=False)\n",
              "          )\n",
              "        )\n",
              "        (1): BertLayer(\n",
              "          (attention): BertAttention(\n",
              "            (self): BertSelfAttention(\n",
              "              (query): Linear(in_features=768, out_features=768, bias=True)\n",
              "              (key): Linear(in_features=768, out_features=768, bias=True)\n",
              "              (value): Linear(in_features=768, out_features=768, bias=True)\n",
              "              (dropout): Dropout(p=0.1, inplace=False)\n",
              "            )\n",
              "            (output): BertSelfOutput(\n",
              "              (dense): Linear(in_features=768, out_features=768, bias=True)\n",
              "              (LayerNorm): LayerNorm((768,), eps=1e-12, elementwise_affine=True)\n",
              "              (dropout): Dropout(p=0.1, inplace=False)\n",
              "            )\n",
              "          )\n",
              "          (intermediate): BertIntermediate(\n",
              "            (dense): Linear(in_features=768, out_features=3072, bias=True)\n",
              "          )\n",
              "          (output): BertOutput(\n",
              "            (dense): Linear(in_features=3072, out_features=768, bias=True)\n",
              "            (LayerNorm): LayerNorm((768,), eps=1e-12, elementwise_affine=True)\n",
              "            (dropout): Dropout(p=0.1, inplace=False)\n",
              "          )\n",
              "        )\n",
              "        (2): BertLayer(\n",
              "          (attention): BertAttention(\n",
              "            (self): BertSelfAttention(\n",
              "              (query): Linear(in_features=768, out_features=768, bias=True)\n",
              "              (key): Linear(in_features=768, out_features=768, bias=True)\n",
              "              (value): Linear(in_features=768, out_features=768, bias=True)\n",
              "              (dropout): Dropout(p=0.1, inplace=False)\n",
              "            )\n",
              "            (output): BertSelfOutput(\n",
              "              (dense): Linear(in_features=768, out_features=768, bias=True)\n",
              "              (LayerNorm): LayerNorm((768,), eps=1e-12, elementwise_affine=True)\n",
              "              (dropout): Dropout(p=0.1, inplace=False)\n",
              "            )\n",
              "          )\n",
              "          (intermediate): BertIntermediate(\n",
              "            (dense): Linear(in_features=768, out_features=3072, bias=True)\n",
              "          )\n",
              "          (output): BertOutput(\n",
              "            (dense): Linear(in_features=3072, out_features=768, bias=True)\n",
              "            (LayerNorm): LayerNorm((768,), eps=1e-12, elementwise_affine=True)\n",
              "            (dropout): Dropout(p=0.1, inplace=False)\n",
              "          )\n",
              "        )\n",
              "        (3): BertLayer(\n",
              "          (attention): BertAttention(\n",
              "            (self): BertSelfAttention(\n",
              "              (query): Linear(in_features=768, out_features=768, bias=True)\n",
              "              (key): Linear(in_features=768, out_features=768, bias=True)\n",
              "              (value): Linear(in_features=768, out_features=768, bias=True)\n",
              "              (dropout): Dropout(p=0.1, inplace=False)\n",
              "            )\n",
              "            (output): BertSelfOutput(\n",
              "              (dense): Linear(in_features=768, out_features=768, bias=True)\n",
              "              (LayerNorm): LayerNorm((768,), eps=1e-12, elementwise_affine=True)\n",
              "              (dropout): Dropout(p=0.1, inplace=False)\n",
              "            )\n",
              "          )\n",
              "          (intermediate): BertIntermediate(\n",
              "            (dense): Linear(in_features=768, out_features=3072, bias=True)\n",
              "          )\n",
              "          (output): BertOutput(\n",
              "            (dense): Linear(in_features=3072, out_features=768, bias=True)\n",
              "            (LayerNorm): LayerNorm((768,), eps=1e-12, elementwise_affine=True)\n",
              "            (dropout): Dropout(p=0.1, inplace=False)\n",
              "          )\n",
              "        )\n",
              "        (4): BertLayer(\n",
              "          (attention): BertAttention(\n",
              "            (self): BertSelfAttention(\n",
              "              (query): Linear(in_features=768, out_features=768, bias=True)\n",
              "              (key): Linear(in_features=768, out_features=768, bias=True)\n",
              "              (value): Linear(in_features=768, out_features=768, bias=True)\n",
              "              (dropout): Dropout(p=0.1, inplace=False)\n",
              "            )\n",
              "            (output): BertSelfOutput(\n",
              "              (dense): Linear(in_features=768, out_features=768, bias=True)\n",
              "              (LayerNorm): LayerNorm((768,), eps=1e-12, elementwise_affine=True)\n",
              "              (dropout): Dropout(p=0.1, inplace=False)\n",
              "            )\n",
              "          )\n",
              "          (intermediate): BertIntermediate(\n",
              "            (dense): Linear(in_features=768, out_features=3072, bias=True)\n",
              "          )\n",
              "          (output): BertOutput(\n",
              "            (dense): Linear(in_features=3072, out_features=768, bias=True)\n",
              "            (LayerNorm): LayerNorm((768,), eps=1e-12, elementwise_affine=True)\n",
              "            (dropout): Dropout(p=0.1, inplace=False)\n",
              "          )\n",
              "        )\n",
              "        (5): BertLayer(\n",
              "          (attention): BertAttention(\n",
              "            (self): BertSelfAttention(\n",
              "              (query): Linear(in_features=768, out_features=768, bias=True)\n",
              "              (key): Linear(in_features=768, out_features=768, bias=True)\n",
              "              (value): Linear(in_features=768, out_features=768, bias=True)\n",
              "              (dropout): Dropout(p=0.1, inplace=False)\n",
              "            )\n",
              "            (output): BertSelfOutput(\n",
              "              (dense): Linear(in_features=768, out_features=768, bias=True)\n",
              "              (LayerNorm): LayerNorm((768,), eps=1e-12, elementwise_affine=True)\n",
              "              (dropout): Dropout(p=0.1, inplace=False)\n",
              "            )\n",
              "          )\n",
              "          (intermediate): BertIntermediate(\n",
              "            (dense): Linear(in_features=768, out_features=3072, bias=True)\n",
              "          )\n",
              "          (output): BertOutput(\n",
              "            (dense): Linear(in_features=3072, out_features=768, bias=True)\n",
              "            (LayerNorm): LayerNorm((768,), eps=1e-12, elementwise_affine=True)\n",
              "            (dropout): Dropout(p=0.1, inplace=False)\n",
              "          )\n",
              "        )\n",
              "        (6): BertLayer(\n",
              "          (attention): BertAttention(\n",
              "            (self): BertSelfAttention(\n",
              "              (query): Linear(in_features=768, out_features=768, bias=True)\n",
              "              (key): Linear(in_features=768, out_features=768, bias=True)\n",
              "              (value): Linear(in_features=768, out_features=768, bias=True)\n",
              "              (dropout): Dropout(p=0.1, inplace=False)\n",
              "            )\n",
              "            (output): BertSelfOutput(\n",
              "              (dense): Linear(in_features=768, out_features=768, bias=True)\n",
              "              (LayerNorm): LayerNorm((768,), eps=1e-12, elementwise_affine=True)\n",
              "              (dropout): Dropout(p=0.1, inplace=False)\n",
              "            )\n",
              "          )\n",
              "          (intermediate): BertIntermediate(\n",
              "            (dense): Linear(in_features=768, out_features=3072, bias=True)\n",
              "          )\n",
              "          (output): BertOutput(\n",
              "            (dense): Linear(in_features=3072, out_features=768, bias=True)\n",
              "            (LayerNorm): LayerNorm((768,), eps=1e-12, elementwise_affine=True)\n",
              "            (dropout): Dropout(p=0.1, inplace=False)\n",
              "          )\n",
              "        )\n",
              "        (7): BertLayer(\n",
              "          (attention): BertAttention(\n",
              "            (self): BertSelfAttention(\n",
              "              (query): Linear(in_features=768, out_features=768, bias=True)\n",
              "              (key): Linear(in_features=768, out_features=768, bias=True)\n",
              "              (value): Linear(in_features=768, out_features=768, bias=True)\n",
              "              (dropout): Dropout(p=0.1, inplace=False)\n",
              "            )\n",
              "            (output): BertSelfOutput(\n",
              "              (dense): Linear(in_features=768, out_features=768, bias=True)\n",
              "              (LayerNorm): LayerNorm((768,), eps=1e-12, elementwise_affine=True)\n",
              "              (dropout): Dropout(p=0.1, inplace=False)\n",
              "            )\n",
              "          )\n",
              "          (intermediate): BertIntermediate(\n",
              "            (dense): Linear(in_features=768, out_features=3072, bias=True)\n",
              "          )\n",
              "          (output): BertOutput(\n",
              "            (dense): Linear(in_features=3072, out_features=768, bias=True)\n",
              "            (LayerNorm): LayerNorm((768,), eps=1e-12, elementwise_affine=True)\n",
              "            (dropout): Dropout(p=0.1, inplace=False)\n",
              "          )\n",
              "        )\n",
              "        (8): BertLayer(\n",
              "          (attention): BertAttention(\n",
              "            (self): BertSelfAttention(\n",
              "              (query): Linear(in_features=768, out_features=768, bias=True)\n",
              "              (key): Linear(in_features=768, out_features=768, bias=True)\n",
              "              (value): Linear(in_features=768, out_features=768, bias=True)\n",
              "              (dropout): Dropout(p=0.1, inplace=False)\n",
              "            )\n",
              "            (output): BertSelfOutput(\n",
              "              (dense): Linear(in_features=768, out_features=768, bias=True)\n",
              "              (LayerNorm): LayerNorm((768,), eps=1e-12, elementwise_affine=True)\n",
              "              (dropout): Dropout(p=0.1, inplace=False)\n",
              "            )\n",
              "          )\n",
              "          (intermediate): BertIntermediate(\n",
              "            (dense): Linear(in_features=768, out_features=3072, bias=True)\n",
              "          )\n",
              "          (output): BertOutput(\n",
              "            (dense): Linear(in_features=3072, out_features=768, bias=True)\n",
              "            (LayerNorm): LayerNorm((768,), eps=1e-12, elementwise_affine=True)\n",
              "            (dropout): Dropout(p=0.1, inplace=False)\n",
              "          )\n",
              "        )\n",
              "        (9): BertLayer(\n",
              "          (attention): BertAttention(\n",
              "            (self): BertSelfAttention(\n",
              "              (query): Linear(in_features=768, out_features=768, bias=True)\n",
              "              (key): Linear(in_features=768, out_features=768, bias=True)\n",
              "              (value): Linear(in_features=768, out_features=768, bias=True)\n",
              "              (dropout): Dropout(p=0.1, inplace=False)\n",
              "            )\n",
              "            (output): BertSelfOutput(\n",
              "              (dense): Linear(in_features=768, out_features=768, bias=True)\n",
              "              (LayerNorm): LayerNorm((768,), eps=1e-12, elementwise_affine=True)\n",
              "              (dropout): Dropout(p=0.1, inplace=False)\n",
              "            )\n",
              "          )\n",
              "          (intermediate): BertIntermediate(\n",
              "            (dense): Linear(in_features=768, out_features=3072, bias=True)\n",
              "          )\n",
              "          (output): BertOutput(\n",
              "            (dense): Linear(in_features=3072, out_features=768, bias=True)\n",
              "            (LayerNorm): LayerNorm((768,), eps=1e-12, elementwise_affine=True)\n",
              "            (dropout): Dropout(p=0.1, inplace=False)\n",
              "          )\n",
              "        )\n",
              "        (10): BertLayer(\n",
              "          (attention): BertAttention(\n",
              "            (self): BertSelfAttention(\n",
              "              (query): Linear(in_features=768, out_features=768, bias=True)\n",
              "              (key): Linear(in_features=768, out_features=768, bias=True)\n",
              "              (value): Linear(in_features=768, out_features=768, bias=True)\n",
              "              (dropout): Dropout(p=0.1, inplace=False)\n",
              "            )\n",
              "            (output): BertSelfOutput(\n",
              "              (dense): Linear(in_features=768, out_features=768, bias=True)\n",
              "              (LayerNorm): LayerNorm((768,), eps=1e-12, elementwise_affine=True)\n",
              "              (dropout): Dropout(p=0.1, inplace=False)\n",
              "            )\n",
              "          )\n",
              "          (intermediate): BertIntermediate(\n",
              "            (dense): Linear(in_features=768, out_features=3072, bias=True)\n",
              "          )\n",
              "          (output): BertOutput(\n",
              "            (dense): Linear(in_features=3072, out_features=768, bias=True)\n",
              "            (LayerNorm): LayerNorm((768,), eps=1e-12, elementwise_affine=True)\n",
              "            (dropout): Dropout(p=0.1, inplace=False)\n",
              "          )\n",
              "        )\n",
              "        (11): BertLayer(\n",
              "          (attention): BertAttention(\n",
              "            (self): BertSelfAttention(\n",
              "              (query): Linear(in_features=768, out_features=768, bias=True)\n",
              "              (key): Linear(in_features=768, out_features=768, bias=True)\n",
              "              (value): Linear(in_features=768, out_features=768, bias=True)\n",
              "              (dropout): Dropout(p=0.1, inplace=False)\n",
              "            )\n",
              "            (output): BertSelfOutput(\n",
              "              (dense): Linear(in_features=768, out_features=768, bias=True)\n",
              "              (LayerNorm): LayerNorm((768,), eps=1e-12, elementwise_affine=True)\n",
              "              (dropout): Dropout(p=0.1, inplace=False)\n",
              "            )\n",
              "          )\n",
              "          (intermediate): BertIntermediate(\n",
              "            (dense): Linear(in_features=768, out_features=3072, bias=True)\n",
              "          )\n",
              "          (output): BertOutput(\n",
              "            (dense): Linear(in_features=3072, out_features=768, bias=True)\n",
              "            (LayerNorm): LayerNorm((768,), eps=1e-12, elementwise_affine=True)\n",
              "            (dropout): Dropout(p=0.1, inplace=False)\n",
              "          )\n",
              "        )\n",
              "      )\n",
              "    )\n",
              "    (pooler): BertPooler(\n",
              "      (dense): Linear(in_features=768, out_features=768, bias=True)\n",
              "      (activation): Tanh()\n",
              "    )\n",
              "  )\n",
              "  (dropout): Dropout(p=0.1, inplace=False)\n",
              "  (classifier): Linear(in_features=768, out_features=2, bias=True)\n",
              ")"
            ]
          },
          "metadata": {
            "tags": []
          },
          "execution_count": 30
        }
      ]
    },
    {
      "cell_type": "markdown",
      "metadata": {
        "id": "qRWT-D4U_Pvx"
      },
      "source": [
        "### 4.2. Optimizer & Learning Rate Scheduler"
      ]
    },
    {
      "cell_type": "markdown",
      "metadata": {
        "id": "8o-VEBobKwHk"
      },
      "source": [
        "Now that we have our model loaded we need to grab the training hyperparameters from within the stored model.\n",
        "\n",
        "For the purposes of fine-tuning, the authors recommend choosing from the following values:\n",
        "- Batch size: 16, 32  (We chose 32 when creating our DataLoaders).\n",
        "- Learning rate (Adam): 5e-5, 3e-5, 2e-5  (We'll use 2e-5).\n",
        "- Number of epochs: 2, 3, 4  (We'll use 4).\n",
        "\n",
        "The epsilon parameter `eps = 1e-8` is \"a very small number to prevent any division by zero in the implementation\" (from [here](https://machinelearningmastery.com/adam-optimization-algorithm-for-deep-learning/)).\n",
        "\n",
        "You can find the creation of the AdamW optimizer in `run_glue.py` [here](https://github.com/huggingface/transformers/blob/5bfcd0485ece086ebcbed2d008813037968a9e58/examples/run_glue.py#L109)."
      ]
    },
    {
      "cell_type": "code",
      "metadata": {
        "id": "GLs72DuMODJO"
      },
      "source": [
        "# Note: AdamW is a class from the huggingface library (as opposed to pytorch) \n",
        "# I believe the 'W' stands for 'Weight Decay fix\"\n",
        "optimizer = AdamW(model.parameters(),\n",
        "                  lr = 2e-5, # args.learning_rate - default is 5e-5, our notebook had 2e-5\n",
        "                  eps = 1e-8 # args.adam_epsilon  - default is 1e-8.\n",
        "                )"
      ],
      "execution_count": null,
      "outputs": []
    },
    {
      "cell_type": "code",
      "metadata": {
        "id": "-p0upAhhRiIx"
      },
      "source": [
        "from transformers import get_linear_schedule_with_warmup\n",
        "\n",
        "# Number of training epochs (authors recommend between 2 and 4)\n",
        "epochs = 4\n",
        "\n",
        "# Total number of training steps is number of batches * number of epochs.\n",
        "total_steps = len(train_dataloader) * epochs\n",
        "\n",
        "# Create the learning rate scheduler.\n",
        "scheduler = get_linear_schedule_with_warmup(optimizer, \n",
        "                                            num_warmup_steps = 0, # Default value in run_glue.py\n",
        "                                            num_training_steps = total_steps)"
      ],
      "execution_count": null,
      "outputs": []
    },
    {
      "cell_type": "markdown",
      "metadata": {
        "id": "RqfmWwUR_Sox"
      },
      "source": [
        "### 4.3. Training Loop"
      ]
    },
    {
      "cell_type": "markdown",
      "metadata": {
        "id": "_QXZhFb4LnV5"
      },
      "source": [
        "In each pass, we will train the model on our full training set, and then measure it's accuracy on our 10% holdout validation set."
      ]
    },
    {
      "cell_type": "markdown",
      "metadata": {
        "id": "pE5B99H5H2-W"
      },
      "source": [
        "Define a helper function for calculating accuracy."
      ]
    },
    {
      "cell_type": "code",
      "metadata": {
        "id": "9cQNvaZ9bnyy"
      },
      "source": [
        "import numpy as np\n",
        "\n",
        "# Function to calculate the accuracy of our predictions vs labels\n",
        "def flat_accuracy(preds, labels):\n",
        "    pred_flat = np.argmax(preds, axis=1).flatten()\n",
        "    labels_flat = labels.flatten()\n",
        "    return np.sum(pred_flat == labels_flat) / len(labels_flat)"
      ],
      "execution_count": null,
      "outputs": []
    },
    {
      "cell_type": "markdown",
      "metadata": {
        "id": "KNhRtWPXH9C3"
      },
      "source": [
        "Helper function for formatting elapsed times.\n"
      ]
    },
    {
      "cell_type": "code",
      "metadata": {
        "id": "gpt6tR83keZD"
      },
      "source": [
        "import time\n",
        "import datetime\n",
        "\n",
        "def format_time(elapsed):\n",
        "    '''\n",
        "    Takes a time in seconds and returns a string hh:mm:ss\n",
        "    '''\n",
        "    # Round to the nearest second.\n",
        "    elapsed_rounded = int(round((elapsed)))\n",
        "    \n",
        "    # Format as hh:mm:ss\n",
        "    return str(datetime.timedelta(seconds=elapsed_rounded))\n"
      ],
      "execution_count": null,
      "outputs": []
    },
    {
      "cell_type": "markdown",
      "metadata": {
        "id": "cfNIhN19te3N"
      },
      "source": [
        "We're ready to kick off the training!"
      ]
    },
    {
      "cell_type": "code",
      "metadata": {
        "id": "6J-FYdx6nFE_",
        "colab": {
          "base_uri": "https://localhost:8080/"
        },
        "outputId": "2727606e-101b-4450-ee34-72d25af70587"
      },
      "source": [
        "import random\n",
        "\n",
        "# This training code is based on the `run_glue.py` script here:\n",
        "# https://github.com/huggingface/transformers/blob/5bfcd0485ece086ebcbed2d008813037968a9e58/examples/run_glue.py#L128\n",
        "\n",
        "\n",
        "# Set the seed value all over the place to make this reproducible.\n",
        "seed_val = 42\n",
        "\n",
        "random.seed(seed_val)\n",
        "np.random.seed(seed_val)\n",
        "torch.manual_seed(seed_val)\n",
        "torch.cuda.manual_seed_all(seed_val)\n",
        "\n",
        "# Store the average loss after each epoch so we can plot them.\n",
        "loss_values = []\n",
        "\n",
        "# For each epoch...\n",
        "for epoch_i in range(0, epochs):\n",
        "    \n",
        "    # ========================================\n",
        "    #               Training\n",
        "    # ========================================\n",
        "    \n",
        "    # Perform one full pass over the training set.\n",
        "\n",
        "    print(\"\")\n",
        "    print('======== Epoch {:} / {:} ========'.format(epoch_i + 1, epochs))\n",
        "    print('Training...')\n",
        "\n",
        "    # Measure how long the training epoch takes.\n",
        "    t0 = time.time()\n",
        "\n",
        "    # Reset the total loss for this epoch.\n",
        "    total_loss = 0\n",
        "\n",
        "    # Put the model into training mode. Don't be mislead--the call to \n",
        "    # `train` just changes the *mode*, it doesn't *perform* the training.\n",
        "    # `dropout` and `batchnorm` layers behave differently during training\n",
        "    # vs. test (source: https://stackoverflow.com/questions/51433378/what-does-model-train-do-in-pytorch)\n",
        "    model.train()\n",
        "\n",
        "    # For each batch of training data...\n",
        "    for step, batch in enumerate(train_dataloader):\n",
        "\n",
        "        # Progress update every 100 batches.\n",
        "        if step % 100 == 0 and not step == 0:\n",
        "            # Calculate elapsed time in minutes.\n",
        "            elapsed = format_time(time.time() - t0)\n",
        "            \n",
        "            # Report progress.\n",
        "            print('  Batch {:>5,}  of  {:>5,}.    Elapsed: {:}.'.format(step, len(train_dataloader), elapsed))\n",
        "\n",
        "        # Unpack this training batch from our dataloader. \n",
        "        #\n",
        "        # As we unpack the batch, we'll also copy each tensor to the GPU using the \n",
        "        # `to` method.\n",
        "        #\n",
        "        # `batch` contains three pytorch tensors:\n",
        "        #   [0]: input ids \n",
        "        #   [1]: attention masks\n",
        "        #   [2]: labels \n",
        "        b_input_ids = batch[0].to(device)\n",
        "        b_input_mask = batch[1].to(device)\n",
        "        b_labels = batch[2].to(device)\n",
        "\n",
        "        # Always clear any previously calculated gradients before performing a\n",
        "        # backward pass. PyTorch doesn't do this automatically because \n",
        "        # accumulating the gradients is \"convenient while training RNNs\". \n",
        "        # (source: https://stackoverflow.com/questions/48001598/why-do-we-need-to-call-zero-grad-in-pytorch)\n",
        "        model.zero_grad()        \n",
        "\n",
        "        # Perform a forward pass (evaluate the model on this training batch).\n",
        "        # In PyTorch, calling `model` will in turn call the model's `forward` \n",
        "        # function and pass down the arguments. The `forward` function is \n",
        "        # documented here: \n",
        "        # https://huggingface.co/transformers/model_doc/bert.html#bertforsequenceclassification\n",
        "        # The results are returned in a results object, documented here:\n",
        "        # https://huggingface.co/transformers/main_classes/output.html#transformers.modeling_outputs.SequenceClassifierOutput\n",
        "        result = model(b_input_ids, \n",
        "                       token_type_ids=None, \n",
        "                       attention_mask=b_input_mask, \n",
        "                       labels=b_labels,\n",
        "                       return_dict=True)\n",
        "\n",
        "        loss = result.loss\n",
        "\n",
        "        # Accumulate the training loss over all of the batches so that we can\n",
        "        # calculate the average loss at the end. `loss` is a Tensor containing a\n",
        "        # single value; the `.item()` function just returns the Python value \n",
        "        # from the tensor.\n",
        "        total_loss += loss.item()\n",
        "\n",
        "        # Perform a backward pass to calculate the gradients.\n",
        "        loss.backward()\n",
        "\n",
        "        # Clip the norm of the gradients to 1.0.\n",
        "        # This is to help prevent the \"exploding gradients\" problem.\n",
        "        torch.nn.utils.clip_grad_norm_(model.parameters(), 1.0)\n",
        "\n",
        "        # Update parameters and take a step using the computed gradient.\n",
        "        # The optimizer dictates the \"update rule\"--how the parameters are\n",
        "        # modified based on their gradients, the learning rate, etc.\n",
        "        optimizer.step()\n",
        "\n",
        "        # Update the learning rate.\n",
        "        scheduler.step()\n",
        "\n",
        "    # Calculate the average loss over the training data.\n",
        "    avg_train_loss = total_loss / len(train_dataloader)            \n",
        "    \n",
        "    # Store the loss value for plotting the learning curve.\n",
        "    loss_values.append(avg_train_loss)\n",
        "\n",
        "    print(\"\")\n",
        "    print(\"  Average training loss: {0:.2f}\".format(avg_train_loss))\n",
        "    print(\"  Training epcoh took: {:}\".format(format_time(time.time() - t0)))\n",
        "        \n",
        "    # ========================================\n",
        "    #               Validation\n",
        "    # ========================================\n",
        "    # After the completion of each training epoch, measure our performance on\n",
        "    # our validation set.\n",
        "\n",
        "    print(\"\")\n",
        "    print(\"Running Validation...\")\n",
        "\n",
        "    t0 = time.time()\n",
        "\n",
        "    # Put the model in evaluation mode--the dropout layers behave differently\n",
        "    # during evaluation.\n",
        "    model.eval()\n",
        "\n",
        "    # Tracking variables \n",
        "    eval_loss, eval_accuracy = 0, 0\n",
        "    nb_eval_steps, nb_eval_examples = 0, 0\n",
        "\n",
        "    # Evaluate data for one epoch\n",
        "    for batch in validation_dataloader:\n",
        "        \n",
        "        # Add batch to GPU\n",
        "        batch = tuple(t.to(device) for t in batch)\n",
        "        \n",
        "        # Unpack the inputs from our dataloader\n",
        "        b_input_ids, b_input_mask, b_labels = batch\n",
        "        \n",
        "        # Telling the model not to compute or store gradients, saving memory and\n",
        "        # speeding up validation\n",
        "        with torch.no_grad():        \n",
        "\n",
        "            # Forward pass, calculate logit predictions.\n",
        "            # token_type_ids is the same as the \"segment ids\", which \n",
        "            # differentiates sentence 1 and 2 in 2-sentence tasks.\n",
        "            result = model(b_input_ids, \n",
        "                           token_type_ids=None, \n",
        "                           attention_mask=b_input_mask,\n",
        "                           labels=b_labels,\n",
        "                           return_dict=True)\n",
        "\n",
        "        # Get the loss and \"logits\" output by the model. The \"logits\" are the \n",
        "        # output values prior to applying an activation function like the \n",
        "        # softmax.\n",
        "        loss = result.loss\n",
        "        logits = result.logits\n",
        "\n",
        "        # Move logits and labels to CPU\n",
        "        logits = logits.detach().cpu().numpy()\n",
        "        label_ids = b_labels.to('cpu').numpy()\n",
        "        \n",
        "        # Calculate the accuracy for this batch of test sentences.\n",
        "        tmp_eval_accuracy = flat_accuracy(logits, label_ids)\n",
        "        \n",
        "        # Accumulate the total accuracy.\n",
        "        eval_accuracy += tmp_eval_accuracy\n",
        "\n",
        "        # Track the number of batches\n",
        "        nb_eval_steps += 1\n",
        "\n",
        "    # Report the final accuracy for this validation run.\n",
        "    print(\"  Accuracy: {0:.2f}\".format(eval_accuracy/nb_eval_steps))\n",
        "    print(\"  Validation took: {:}\".format(format_time(time.time() - t0)))\n",
        "\n",
        "print(\"\")\n",
        "print(\"Training complete!\")"
      ],
      "execution_count": null,
      "outputs": [
        {
          "output_type": "stream",
          "text": [
            "\n",
            "======== Epoch 1 / 4 ========\n",
            "Training...\n",
            "  Batch   100  of  1,956.    Elapsed: 0:00:24.\n",
            "  Batch   200  of  1,956.    Elapsed: 0:00:48.\n",
            "  Batch   300  of  1,956.    Elapsed: 0:01:12.\n",
            "  Batch   400  of  1,956.    Elapsed: 0:01:36.\n",
            "  Batch   500  of  1,956.    Elapsed: 0:02:01.\n",
            "  Batch   600  of  1,956.    Elapsed: 0:02:25.\n",
            "  Batch   700  of  1,956.    Elapsed: 0:02:49.\n",
            "  Batch   800  of  1,956.    Elapsed: 0:03:13.\n",
            "  Batch   900  of  1,956.    Elapsed: 0:03:37.\n",
            "  Batch 1,000  of  1,956.    Elapsed: 0:04:01.\n",
            "  Batch 1,100  of  1,956.    Elapsed: 0:04:25.\n",
            "  Batch 1,200  of  1,956.    Elapsed: 0:04:49.\n",
            "  Batch 1,300  of  1,956.    Elapsed: 0:05:13.\n",
            "  Batch 1,400  of  1,956.    Elapsed: 0:05:37.\n",
            "  Batch 1,500  of  1,956.    Elapsed: 0:06:01.\n",
            "  Batch 1,600  of  1,956.    Elapsed: 0:06:25.\n",
            "  Batch 1,700  of  1,956.    Elapsed: 0:06:49.\n",
            "  Batch 1,800  of  1,956.    Elapsed: 0:07:14.\n",
            "  Batch 1,900  of  1,956.    Elapsed: 0:07:37.\n",
            "\n",
            "  Average training loss: 0.14\n",
            "  Training epcoh took: 0:07:51\n",
            "\n",
            "Running Validation...\n",
            "  Accuracy: 0.95\n",
            "  Validation took: 0:00:15\n",
            "\n",
            "======== Epoch 2 / 4 ========\n",
            "Training...\n",
            "  Batch   100  of  1,956.    Elapsed: 0:00:24.\n",
            "  Batch   200  of  1,956.    Elapsed: 0:00:48.\n",
            "  Batch   300  of  1,956.    Elapsed: 0:01:12.\n",
            "  Batch   400  of  1,956.    Elapsed: 0:01:36.\n",
            "  Batch   500  of  1,956.    Elapsed: 0:02:00.\n",
            "  Batch   600  of  1,956.    Elapsed: 0:02:24.\n",
            "  Batch   700  of  1,956.    Elapsed: 0:02:48.\n",
            "  Batch   800  of  1,956.    Elapsed: 0:03:12.\n",
            "  Batch   900  of  1,956.    Elapsed: 0:03:36.\n",
            "  Batch 1,000  of  1,956.    Elapsed: 0:04:00.\n",
            "  Batch 1,100  of  1,956.    Elapsed: 0:04:24.\n",
            "  Batch 1,200  of  1,956.    Elapsed: 0:04:48.\n",
            "  Batch 1,300  of  1,956.    Elapsed: 0:05:12.\n",
            "  Batch 1,400  of  1,956.    Elapsed: 0:05:36.\n",
            "  Batch 1,500  of  1,956.    Elapsed: 0:06:00.\n",
            "  Batch 1,600  of  1,956.    Elapsed: 0:06:24.\n",
            "  Batch 1,700  of  1,956.    Elapsed: 0:06:48.\n",
            "  Batch 1,800  of  1,956.    Elapsed: 0:07:12.\n",
            "  Batch 1,900  of  1,956.    Elapsed: 0:07:36.\n",
            "\n",
            "  Average training loss: 0.09\n",
            "  Training epcoh took: 0:07:49\n",
            "\n",
            "Running Validation...\n",
            "  Accuracy: 0.95\n",
            "  Validation took: 0:00:15\n",
            "\n",
            "======== Epoch 3 / 4 ========\n",
            "Training...\n",
            "  Batch   100  of  1,956.    Elapsed: 0:00:24.\n",
            "  Batch   200  of  1,956.    Elapsed: 0:00:48.\n",
            "  Batch   300  of  1,956.    Elapsed: 0:01:11.\n",
            "  Batch   400  of  1,956.    Elapsed: 0:01:35.\n",
            "  Batch   500  of  1,956.    Elapsed: 0:01:59.\n",
            "  Batch   600  of  1,956.    Elapsed: 0:02:23.\n",
            "  Batch   700  of  1,956.    Elapsed: 0:02:47.\n",
            "  Batch   800  of  1,956.    Elapsed: 0:03:10.\n",
            "  Batch   900  of  1,956.    Elapsed: 0:03:34.\n",
            "  Batch 1,000  of  1,956.    Elapsed: 0:03:58.\n",
            "  Batch 1,100  of  1,956.    Elapsed: 0:04:22.\n",
            "  Batch 1,200  of  1,956.    Elapsed: 0:04:46.\n",
            "  Batch 1,300  of  1,956.    Elapsed: 0:05:09.\n",
            "  Batch 1,400  of  1,956.    Elapsed: 0:05:33.\n",
            "  Batch 1,500  of  1,956.    Elapsed: 0:05:57.\n",
            "  Batch 1,600  of  1,956.    Elapsed: 0:06:21.\n",
            "  Batch 1,700  of  1,956.    Elapsed: 0:06:44.\n",
            "  Batch 1,800  of  1,956.    Elapsed: 0:07:08.\n",
            "  Batch 1,900  of  1,956.    Elapsed: 0:07:32.\n",
            "\n",
            "  Average training loss: 0.06\n",
            "  Training epcoh took: 0:07:45\n",
            "\n",
            "Running Validation...\n",
            "  Accuracy: 0.95\n",
            "  Validation took: 0:00:15\n",
            "\n",
            "======== Epoch 4 / 4 ========\n",
            "Training...\n",
            "  Batch   100  of  1,956.    Elapsed: 0:00:24.\n",
            "  Batch   200  of  1,956.    Elapsed: 0:00:47.\n",
            "  Batch   300  of  1,956.    Elapsed: 0:01:11.\n",
            "  Batch   400  of  1,956.    Elapsed: 0:01:35.\n",
            "  Batch   500  of  1,956.    Elapsed: 0:01:58.\n",
            "  Batch   600  of  1,956.    Elapsed: 0:02:22.\n",
            "  Batch   700  of  1,956.    Elapsed: 0:02:46.\n",
            "  Batch   800  of  1,956.    Elapsed: 0:03:09.\n",
            "  Batch   900  of  1,956.    Elapsed: 0:03:33.\n",
            "  Batch 1,000  of  1,956.    Elapsed: 0:03:56.\n",
            "  Batch 1,100  of  1,956.    Elapsed: 0:04:20.\n",
            "  Batch 1,200  of  1,956.    Elapsed: 0:04:44.\n",
            "  Batch 1,300  of  1,956.    Elapsed: 0:05:07.\n",
            "  Batch 1,400  of  1,956.    Elapsed: 0:05:31.\n",
            "  Batch 1,500  of  1,956.    Elapsed: 0:05:55.\n",
            "  Batch 1,600  of  1,956.    Elapsed: 0:06:18.\n",
            "  Batch 1,700  of  1,956.    Elapsed: 0:06:42.\n",
            "  Batch 1,800  of  1,956.    Elapsed: 0:07:06.\n",
            "  Batch 1,900  of  1,956.    Elapsed: 0:07:30.\n",
            "\n",
            "  Average training loss: 0.03\n",
            "  Training epcoh took: 0:07:43\n",
            "\n",
            "Running Validation...\n",
            "  Accuracy: 0.95\n",
            "  Validation took: 0:00:15\n",
            "\n",
            "Training complete!\n"
          ],
          "name": "stdout"
        }
      ]
    },
    {
      "cell_type": "markdown",
      "metadata": {
        "id": "1-G03mmwH3aI"
      },
      "source": [
        "Let's take a look at our training loss over all batches:"
      ]
    },
    {
      "cell_type": "code",
      "metadata": {
        "id": "68xreA9JAmG5",
        "colab": {
          "base_uri": "https://localhost:8080/",
          "height": 427
        },
        "outputId": "9aa876c3-4eb2-42ee-f25f-d1ed1639f275"
      },
      "source": [
        "import matplotlib.pyplot as plt\n",
        "% matplotlib inline\n",
        "\n",
        "import seaborn as sns\n",
        "\n",
        "# Use plot styling from seaborn.\n",
        "sns.set(style='darkgrid')\n",
        "\n",
        "# Increase the plot size and font size.\n",
        "sns.set(font_scale=1.5)\n",
        "plt.rcParams[\"figure.figsize\"] = (12,6)\n",
        "\n",
        "# Plot the learning curve.\n",
        "plt.plot(loss_values, 'b-o')\n",
        "\n",
        "# Label the plot.\n",
        "plt.title(\"Training loss\")\n",
        "plt.xlabel(\"Epoch\")\n",
        "plt.ylabel(\"Loss\")\n",
        "\n",
        "plt.show()"
      ],
      "execution_count": null,
      "outputs": [
        {
          "output_type": "display_data",
          "data": {
            "image/png": "[encoded data removed]",
            "text/plain": [
              "<Figure size 864x432 with 1 Axes>"
            ]
          },
          "metadata": {
            "tags": []
          }
        }
      ]
    },
    {
      "cell_type": "markdown",
      "metadata": {
        "id": "mkyubuJSOzg3"
      },
      "source": [
        "## 5. Performance On Test Set"
      ]
    },
    {
      "cell_type": "markdown",
      "metadata": {
        "id": "DosV94BYIYxg"
      },
      "source": [
        "Now we'll load the holdout dataset and prepare inputs just as we did with the training set."
      ]
    },
    {
      "cell_type": "markdown",
      "metadata": {
        "id": "Tg42jJqqM68F"
      },
      "source": [
        "### 5.1. Data Preparation\n"
      ]
    },
    {
      "cell_type": "markdown",
      "metadata": {
        "id": "xWe0_JW21MyV"
      },
      "source": [
        "\n",
        "We'll need to apply all of the same steps that we did for the training data to prepare our test data set."
      ]
    },
    {
      "cell_type": "code",
      "metadata": {
        "id": "mAN0LZBOOPVh",
        "colab": {
          "base_uri": "https://localhost:8080/"
        },
        "outputId": "e23ac960-0e28-42d6-c69c-b469bd4b532a"
      },
      "source": [
        "# Tokenize all of the sentences and map the tokens to thier word IDs.\n",
        "test_input_ids = []\n",
        "\n",
        "# For every sentence...\n",
        "for sen in test_comments.comment:\n",
        "    \n",
        "    # Report progress.\n",
        "    if ((len(input_ids) % 20000) == 0):\n",
        "        print('  Read {:,} comments.'.format(len(input_ids)))\n",
        "    \n",
        "    # `encode` will:\n",
        "    #   (1) Tokenize the sentence.\n",
        "    #   (2) Prepend the `[CLS]` token to the start.\n",
        "    #   (3) Append the `[SEP]` token to the end.\n",
        "    #   (4) Map tokens to their IDs.\n",
        "    encoded_sent = tokenizer.encode(\n",
        "                        sen,                      # Sentence to encode.\n",
        "                        add_special_tokens = True, # Add '[CLS]' and '[SEP]'\n",
        "                        max_length = MAX_LEN,          # Truncate all sentences.                        \n",
        "                   )\n",
        "    \n",
        "    # Add the encoded sentence to the list.\n",
        "    test_input_ids.append(encoded_sent)\n",
        "\n",
        "print('DONE.')\n",
        "print('')\n",
        "print('{:>10,} test comments'.format(len(test_input_ids)))\n",
        "\n",
        "# Also retrieve the labels as a list.\n",
        "\n",
        "# Get the labels from the DataFrame, and convert from booleans to ints.\n",
        "test_labels = test_comments.attack.to_numpy().astype(int)\n",
        "\n",
        "print('{:>10,} positive (contains attack)'.format(np.sum(test_labels)))\n",
        "print('{:>10,} negative (not an attack)'.format(len(test_labels) - np.sum(test_labels)))\n",
        "\n",
        "# Pad our input tokens\n",
        "test_input_ids = pad_sequences(test_input_ids, maxlen=MAX_LEN, \n",
        "                               dtype=\"long\", truncating=\"post\", padding=\"post\")\n",
        "\n",
        "# Create attention masks\n",
        "test_attention_masks = []\n",
        "\n",
        "# Create a mask of 1s for each token followed by 0s for padding\n",
        "for seq in test_input_ids:\n",
        "  seq_mask = [float(i>0) for i in seq]\n",
        "  test_attention_masks.append(seq_mask) \n",
        "\n",
        "# Convert to tensors.\n",
        "test_inputs = torch.tensor(test_input_ids)\n",
        "test_masks = torch.tensor(test_attention_masks)\n",
        "test_labels = torch.tensor(test_labels)\n",
        "\n",
        "# Set the batch size.  \n",
        "batch_size = 32  \n",
        "\n",
        "# Create the DataLoader.\n",
        "test_data = TensorDataset(test_inputs, test_masks, test_labels)\n",
        "test_sampler = SequentialSampler(test_data)\n",
        "test_dataloader = DataLoader(test_data, sampler=test_sampler, batch_size=batch_size)"
      ],
      "execution_count": null,
      "outputs": [
        {
          "output_type": "stream",
          "text": [
            "Truncation was not explicitly activated but `max_length` is provided a specific value, please use `truncation=True` to explicitly truncate examples to max length. Defaulting to 'longest_first' truncation strategy. If you encode pairs of sequences (GLUE-style) with the tokenizer you can select this strategy more precisely by providing a specific strategy to `truncation`.\n"
          ],
          "name": "stderr"
        },
        {
          "output_type": "stream",
          "text": [
            "DONE.\n",
            "\n",
            "    23,178 test comments\n",
            "     2,756 positive (contains attack)\n",
            "    20,422 negative (not an attack)\n"
          ],
          "name": "stdout"
        }
      ]
    },
    {
      "cell_type": "markdown",
      "metadata": {
        "id": "16lctEOyNFik"
      },
      "source": [
        "### 5.2. Evaluate on Test Set\n"
      ]
    },
    {
      "cell_type": "markdown",
      "metadata": {
        "id": "rhR99IISNMg9"
      },
      "source": [
        "\n",
        "With the test set prepared, we can apply our fine-tuned model to generate predictions on the test set."
      ]
    },
    {
      "cell_type": "code",
      "metadata": {
        "id": "Hba10sXR7Xi6",
        "colab": {
          "base_uri": "https://localhost:8080/"
        },
        "outputId": "8578ca7f-21eb-4c15-e744-42649056fb6d"
      },
      "source": [
        "# Prediction on test set\n",
        "\n",
        "print('Predicting labels for {:,} test sentences...'.format(len(test_inputs)))\n",
        "\n",
        "# Put model in evaluation mode\n",
        "model.eval()\n",
        "\n",
        "# Tracking variables \n",
        "predictions , true_labels = [], []\n",
        "\n",
        "# Measure elapsed time.\n",
        "t0 = time.time()\n",
        "\n",
        "# Predict \n",
        "for (step, batch) in enumerate(test_dataloader):\n",
        "    \n",
        "    # Add batch to GPU\n",
        "    batch = tuple(t.to(device) for t in batch)\n",
        "  \n",
        "    # Progress update every 100 batches.\n",
        "    if step % 100 == 0 and not step == 0:\n",
        "        # Calculate elapsed time in minutes.\n",
        "        elapsed = format_time(time.time() - t0)\n",
        "        \n",
        "        # Report progress.\n",
        "        print('  Batch {:>5,}  of  {:>5,}.    Elapsed: {:}.'.format(step, len(test_dataloader), elapsed))\n",
        "\n",
        "\n",
        "    # Unpack the inputs from our dataloader\n",
        "    b_input_ids, b_input_mask, b_labels = batch\n",
        "  \n",
        "    # Telling the model not to compute or store gradients, saving memory and \n",
        "    # speeding up prediction\n",
        "    with torch.no_grad():\n",
        "        # Forward pass, calculate logit predictions.\n",
        "        result = model(b_input_ids, \n",
        "                       token_type_ids=None, \n",
        "                       attention_mask=b_input_mask,\n",
        "                       return_dict=True)\n",
        "\n",
        "    logits = result.logits\n",
        "\n",
        "    # Move logits and labels to CPU\n",
        "    logits = logits.detach().cpu().numpy()\n",
        "    label_ids = b_labels.to('cpu').numpy()\n",
        "  \n",
        "    # Store predictions and true labels\n",
        "    predictions.append(logits)\n",
        "    true_labels.append(label_ids)\n",
        "\n",
        "print('    DONE.')"
      ],
      "execution_count": null,
      "outputs": [
        {
          "output_type": "stream",
          "text": [
            "Predicting labels for 23,178 test sentences...\n",
            "  Batch   100  of    725.    Elapsed: 0:00:07.\n",
            "  Batch   200  of    725.    Elapsed: 0:00:13.\n",
            "  Batch   300  of    725.    Elapsed: 0:00:20.\n",
            "  Batch   400  of    725.    Elapsed: 0:00:27.\n",
            "  Batch   500  of    725.    Elapsed: 0:00:33.\n",
            "  Batch   600  of    725.    Elapsed: 0:00:40.\n",
            "  Batch   700  of    725.    Elapsed: 0:00:47.\n",
            "    DONE.\n"
          ],
          "name": "stdout"
        }
      ]
    },
    {
      "cell_type": "code",
      "metadata": {
        "id": "WlBi2hc-IuVu"
      },
      "source": [
        "# Combine the results across the batches.\n",
        "predictions = np.concatenate(predictions, axis=0)\n",
        "true_labels = np.concatenate(true_labels, axis=0)"
      ],
      "execution_count": null,
      "outputs": []
    },
    {
      "cell_type": "markdown",
      "metadata": {
        "id": "yMVyXXHlr2pt"
      },
      "source": [
        "Let's peek at the model's outputs for the first 10 test samples, along with the correct labels for each."
      ]
    },
    {
      "cell_type": "code",
      "metadata": {
        "id": "_mjLBPw_LIE0",
        "colab": {
          "base_uri": "https://localhost:8080/"
        },
        "outputId": "ff0a3811-c773-448e-f38d-e1695e2c83df"
      },
      "source": [
        "predictions[0:10]"
      ],
      "execution_count": null,
      "outputs": [
        {
          "output_type": "execute_result",
          "data": {
            "text/plain": [
              "array([[ 4.0102625, -3.4926848],\n",
              "       [ 5.0003037, -4.488814 ],\n",
              "       [ 5.1976566, -4.645539 ],\n",
              "       [ 5.118821 , -4.530514 ],\n",
              "       [ 5.134087 , -4.4190693],\n",
              "       [ 5.199086 , -4.6167655],\n",
              "       [ 5.1910515, -4.69039  ],\n",
              "       [ 5.10618  , -4.576322 ],\n",
              "       [ 4.9593077, -4.5154076],\n",
              "       [ 5.15761  , -4.6341615]], dtype=float32)"
            ]
          },
          "metadata": {
            "tags": []
          },
          "execution_count": 40
        }
      ]
    },
    {
      "cell_type": "code",
      "metadata": {
        "id": "OjALaZFeLNrV",
        "colab": {
          "base_uri": "https://localhost:8080/"
        },
        "outputId": "ac68fbe5-8f14-43f2-8145-717abf05f015"
      },
      "source": [
        "true_labels[0:10]"
      ],
      "execution_count": null,
      "outputs": [
        {
          "output_type": "execute_result",
          "data": {
            "text/plain": [
              "array([0, 0, 0, 0, 0, 0, 0, 0, 0, 0])"
            ]
          },
          "metadata": {
            "tags": []
          },
          "execution_count": 41
        }
      ]
    },
    {
      "cell_type": "markdown",
      "metadata": {
        "id": "Rdo4rF6ePd6d"
      },
      "source": [
        "These first ten examples all look correct (high confidence for label 0 and low confidence for label 1)! Let's see how we did on the full test set.\n",
        "\n",
        "The accuracy metric chosen by the authors for this dataset is the \"ROC AUC\" (Receiver Operating Characteristic, Area Under the Curve) rather than straight accuracy (number right / total examples).\n",
        "\n",
        "*ROC AUC*\n",
        "\n",
        "To illustrate the purpose of this metric, let's say that you were going to deploy this comment classifier on your website to automatically flag bad comments. In order to do that, you would have to make a decision about how confident you needed the classifier to be before flagging a comment as a personal attack.\n",
        "* If it was critical that no bad comments be missed, then you might choose to set a fairly low threshold, and then have a human review what the classifier flags. This would help ensure that bad comments would be caught, but at the cost of getting more false positives that the moderator would have to deal with.\n",
        "* If it wasn't critical to catch them all, and you wanted as few as possible to manually review, then you might you set a higher threshold so that you don't have as many flagged comments to review (at the risk of missing some attacks). \n",
        "\n",
        "The ROC AUC takes into account the fact that you can adjust the threshold to trade off false positives and false negatives, and yields a score which tries to capture overall accuracy independent of where you choose to put that threshold."
      ]
    },
    {
      "cell_type": "code",
      "metadata": {
        "id": "TzOXklXZOpi-",
        "colab": {
          "base_uri": "https://localhost:8080/"
        },
        "outputId": "8a24081a-84ae-4ed4-a4b5-5b30eb18c005"
      },
      "source": [
        "# Our performance metric for the test set.\n",
        "from sklearn.metrics import roc_auc_score\n",
        "\n",
        "# Use the model output for label 1 as our predictions.\n",
        "p1 = predictions[:,1]\n",
        "\n",
        "# Calculate the ROC AUC.\n",
        "auc = roc_auc_score(true_labels, p1)\n",
        "\n",
        "print('Test ROC AUC: %.3f' %auc)"
      ],
      "execution_count": null,
      "outputs": [
        {
          "output_type": "stream",
          "text": [
            "Test ROC AUC: 0.974\n"
          ],
          "name": "stdout"
        }
      ]
    },
    {
      "cell_type": "markdown",
      "metadata": {
        "id": "tcA8f9eORpSW"
      },
      "source": [
        "This is a great score!\n",
        "\n",
        "The baseline performance from the [original notebook](https://github.com/ewulczyn/wiki-detox/blob/master/src/figshare/Wikipedia%20Talk%20Data%20-%20Getting%20Started.ipynb) using tf-idf + Logistic Regression is 0.957.\n",
        "\n",
        "In a previous experiment (in my [word2vec course](https://www.chrismccormick.ai/word2vec-the-course)), I trained a word2vec model on this dataset and then used it as the embeddings for an LSTM classifier. That approach achieved a score of 0.966. \n",
        "\n",
        "We've beaten both with minimal effort using BERT!"
      ]
    },
    {
      "cell_type": "markdown",
      "metadata": {
        "id": "YUmsUOIv8EUO"
      },
      "source": [
        "## 6. Save Trained Model\n"
      ]
    },
    {
      "cell_type": "markdown",
      "metadata": {
        "id": "4PcMRYop8bHl"
      },
      "source": [
        "### 6.1. Saving to Disk"
      ]
    },
    {
      "cell_type": "markdown",
      "metadata": {
        "id": "q2079Qyn8Mt8"
      },
      "source": [
        "This first cell (taken from `run_glue.py` [here](https://github.com/huggingface/transformers/blob/35ff345fc9df9e777b27903f11fa213e4052595b/examples/run_glue.py#L495)) writes the model and tokenizer out to disk."
      ]
    },
    {
      "cell_type": "code",
      "metadata": {
        "id": "6ulTWaOr8QNY",
        "colab": {
          "base_uri": "https://localhost:8080/",
          "height": 84
        },
        "outputId": "379f7543-7c2d-4ad3-96a7-7e85230ede50"
      },
      "source": [
        "import os\n",
        "\n",
        "# Saving best-practices: if you use defaults names for the model, you can reload it using from_pretrained()\n",
        "output_dir = './model_save/'\n",
        "\n",
        "# Create output directory if needed\n",
        "if not os.path.exists(output_dir):\n",
        "    os.makedirs(output_dir)\n",
        "\n",
        "print(\"Saving model to %s\" % output_dir)\n",
        "\n",
        "# Save a trained model, configuration and tokenizer using `save_pretrained()`.\n",
        "# They can then be reloaded using `from_pretrained()`\n",
        "model_to_save = model.module if hasattr(model, 'module') else model  # Take care of distributed/parallel training\n",
        "model_to_save.save_pretrained(output_dir)\n",
        "tokenizer.save_pretrained(output_dir)\n",
        "\n",
        "# Good practice: save your training arguments together with the trained model\n",
        "# torch.save(args, os.path.join(output_dir, 'training_args.bin'))"
      ],
      "execution_count": null,
      "outputs": [
        {
          "output_type": "stream",
          "text": [
            "Saving model to ./model_save/\n"
          ],
          "name": "stdout"
        },
        {
          "output_type": "execute_result",
          "data": {
            "text/plain": [
              "('./model_save/vocab.txt',\n",
              " './model_save/special_tokens_map.json',\n",
              " './model_save/added_tokens.json')"
            ]
          },
          "metadata": {
            "tags": []
          },
          "execution_count": 46
        }
      ]
    },
    {
      "cell_type": "markdown",
      "metadata": {
        "id": "MS6oWRqxs8s7"
      },
      "source": [
        "### 6.2. Backing Up to Google Drive"
      ]
    },
    {
      "cell_type": "markdown",
      "metadata": {
        "id": "dzGKvOFAll_e"
      },
      "source": [
        "To save your model across Colab Notebook sessions, download it to your local machine, or ideally copy it to your Google Drive."
      ]
    },
    {
      "cell_type": "code",
      "metadata": {
        "id": "Trr-A-POC18_",
        "colab": {
          "base_uri": "https://localhost:8080/",
          "height": 121
        },
        "outputId": "737a2579-6d1e-454f-bdb8-ea7bbc8e3ac4"
      },
      "source": [
        "# Mount Google Drive to this Notebook instance.\n",
        "from google.colab import drive\n",
        "drive.mount('/content/drive')"
      ],
      "execution_count": null,
      "outputs": [
        {
          "output_type": "stream",
          "text": [
            "Go to this URL in a browser: https://accounts.google.com/o/oauth2/auth?client_id=947318989803-6bn6qk8qdgf4n4g3pfee6491hc0brc4i.apps.googleusercontent.com&redirect_uri=urn%3aietf%3awg%3aoauth%3a2.0%3aoob&response_type=code&scope=email%20https%3a%2f%2fwww.googleapis.com%2fauth%2fdocs.test%20https%3a%2f%2fwww.googleapis.com%2fauth%2fdrive%20https%3a%2f%2fwww.googleapis.com%2fauth%2fdrive.photos.readonly%20https%3a%2f%2fwww.googleapis.com%2fauth%2fpeopleapi.readonly\n",
            "\n",
            "Enter your authorization code:\n",
            "··········\n",
            "Mounted at /content/drive\n"
          ],
          "name": "stdout"
        }
      ]
    },
    {
      "cell_type": "code",
      "metadata": {
        "id": "NxlZsafTC-V5"
      },
      "source": [
        "gdrive_path = \"./drive/My Drive/BERT Document Classification Tutorial/model_save/\"\n",
        "\n",
        "# Create output directory if needed\n",
        "if not os.path.exists(gdrive_path):\n",
        "    os.makedirs(gdrive_path)\n",
        "\n",
        "# Copy the model files to a directory in your Google Drive.\n",
        "!cp -r ./model_save/ \"./drive/My Drive/BERT Document Classification Tutorial/model_save/\""
      ],
      "execution_count": null,
      "outputs": []
    },
    {
      "cell_type": "markdown",
      "metadata": {
        "id": "TdfKzHZNRSQ2"
      },
      "source": [
        "# Part III - Semantic Similarity"
      ]
    },
    {
      "cell_type": "markdown",
      "metadata": {
        "id": "Q4Xu6y27RWS2"
      },
      "source": [
        "In Part III, we'll walk through an example of using BERT to measure the \"semantic similarity\" of two pieces of text. \"Semantic similarity\" refers to how close in meaning the pieces of text are.\n",
        "\n",
        "As a demonstration of this capability, we'll implement code to compare an arbitrary piece of input text (it could be from the dataset or one we supply ourselves) with all of the comments in the dataset and return the comments that are most similar in meaning to the input text."
      ]
    },
    {
      "cell_type": "markdown",
      "metadata": {
        "id": "eW52Ipwf9vN1"
      },
      "source": [
        "## 7. Vectorize Comments "
      ]
    },
    {
      "cell_type": "markdown",
      "metadata": {
        "id": "X6PT_j2o90E-"
      },
      "source": [
        "In this section, we will use our fine-tuned BERT model to extract sentence embeddings for all of the training comments.\n",
        "\n",
        "To create these embeddings, we'll simply run the comments through the model the same way we did for training, but we'll take the embedding corresponding to the `[CLS]` token from the final BERT Transformer layer. It's the blue rectangle at the top left of the following illustration:\n",
        "\n",
        "[![Illustration of CLS token purpose](https://drive.google.com/uc?export=view&id=1ck4mvGkznVJfW3hv6GUqcdGepVTOx7HE)](https://drive.google.com/uc?export=view&id=1ck4mvGkznVJfW3hv6GUqcdGepVTOx7HE)\n"
      ]
    },
    {
      "cell_type": "markdown",
      "metadata": {
        "id": "lrIeVcCB8iu1"
      },
      "source": [
        "### 7.1. Modifying Our Model to Output Embeddings"
      ]
    },
    {
      "cell_type": "markdown",
      "metadata": {
        "id": "W0vstijw85SZ"
      },
      "source": [
        "Important: Before we can use our fine-tuned model for extracting embeddings, we first need to reload the model from disk with the `output_hidden_states` flag set to `True`.\n",
        "\n",
        "(TODO - You can try setting `model.output_hidden_states = True`, but I'm not sure if this will work, haven't tried it...)\n",
        "\n"
      ]
    },
    {
      "cell_type": "markdown",
      "metadata": {
        "id": "gFiRlyL-kokW"
      },
      "source": [
        "**Load from Google Drive**\n",
        "\n",
        "If you need to restore your model from Google Drive, the following two cells demonstrate how to do this."
      ]
    },
    {
      "cell_type": "code",
      "metadata": {
        "id": "3fodXxaLtlP-"
      },
      "source": [
        "model.output_hidden_states = True"
      ],
      "execution_count": null,
      "outputs": []
    },
    {
      "cell_type": "code",
      "metadata": {
        "id": "akUxcVFt8V6f",
        "colab": {
          "base_uri": "https://localhost:8080/",
          "height": 121
        },
        "outputId": "22b10b0a-3ed5-41b3-eb7e-910170221a7a"
      },
      "source": [
        "# Mount Google Drive to this Notebook instance.\n",
        "from google.colab import drive\n",
        "drive.mount('/content/drive')"
      ],
      "execution_count": null,
      "outputs": [
        {
          "output_type": "stream",
          "text": [
            "Go to this URL in a browser: https://accounts.google.com/o/oauth2/auth?client_id=947318989803-6bn6qk8qdgf4n4g3pfee6491hc0brc4i.apps.googleusercontent.com&redirect_uri=urn%3aietf%3awg%3aoauth%3a2.0%3aoob&response_type=code&scope=email%20https%3a%2f%2fwww.googleapis.com%2fauth%2fdocs.test%20https%3a%2f%2fwww.googleapis.com%2fauth%2fdrive%20https%3a%2f%2fwww.googleapis.com%2fauth%2fdrive.photos.readonly%20https%3a%2f%2fwww.googleapis.com%2fauth%2fpeopleapi.readonly\n",
            "\n",
            "Enter your authorization code:\n",
            "··········\n",
            "Mounted at /content/drive\n"
          ],
          "name": "stdout"
        }
      ]
    },
    {
      "cell_type": "code",
      "metadata": {
        "id": "2riZBxW38lV8"
      },
      "source": [
        "# Copy the model files back from Google Drive to the Colab instance. \n",
        "!cp -r \"./drive/My Drive/BERT Document Classification Tutorial/model_save/\" ./model_save/"
      ],
      "execution_count": null,
      "outputs": []
    },
    {
      "cell_type": "markdown",
      "metadata": {
        "id": "n2aA0Eo5lov-"
      },
      "source": [
        "Now we can load our model's weights, this time enabling the `output_hidden_states` flag. \n",
        "\n",
        "This cell also demonstrates how to load the tokenizer from disk,though we haven't made any changes to it."
      ]
    },
    {
      "cell_type": "code",
      "metadata": {
        "id": "nskPzUM084zL",
        "colab": {
          "base_uri": "https://localhost:8080/",
          "height": 1000
        },
        "outputId": "47e7d77d-0973-435c-cdf0-2a6f31421d7d"
      },
      "source": [
        "from transformers import BertForSequenceClassification, BertTokenizer\n",
        "\n",
        "# The name of the folder containing the model files.\n",
        "output_dir = './model_save/'\n",
        "\n",
        "# Load our fine-tuned model, and configure it to return the \"hidden states\", \n",
        "# from which we will be taking our text embeddings.\n",
        "model = BertForSequenceClassification.from_pretrained(\n",
        "    output_dir,\n",
        "    output_hidden_states = True, # Whether the model returns all hidden-states.\n",
        ") \n",
        "\n",
        "# Load the tokenizer.\n",
        "tokenizer = BertTokenizer.from_pretrained(output_dir)\n",
        "\n",
        "# Copy the model to the GPU.\n",
        "model.to(device)"
      ],
      "execution_count": null,
      "outputs": [
        {
          "output_type": "execute_result",
          "data": {
            "text/plain": [
              "BertForSequenceClassification(\n",
              "  (bert): BertModel(\n",
              "    (embeddings): BertEmbeddings(\n",
              "      (word_embeddings): Embedding(30522, 768, padding_idx=0)\n",
              "      (position_embeddings): Embedding(512, 768)\n",
              "      (token_type_embeddings): Embedding(2, 768)\n",
              "      (LayerNorm): LayerNorm((768,), eps=1e-12, elementwise_affine=True)\n",
              "      (dropout): Dropout(p=0.1, inplace=False)\n",
              "    )\n",
              "    (encoder): BertEncoder(\n",
              "      (layer): ModuleList(\n",
              "        (0): BertLayer(\n",
              "          (attention): BertAttention(\n",
              "            (self): BertSelfAttention(\n",
              "              (query): Linear(in_features=768, out_features=768, bias=True)\n",
              "              (key): Linear(in_features=768, out_features=768, bias=True)\n",
              "              (value): Linear(in_features=768, out_features=768, bias=True)\n",
              "              (dropout): Dropout(p=0.1, inplace=False)\n",
              "            )\n",
              "            (output): BertSelfOutput(\n",
              "              (dense): Linear(in_features=768, out_features=768, bias=True)\n",
              "              (LayerNorm): LayerNorm((768,), eps=1e-12, elementwise_affine=True)\n",
              "              (dropout): Dropout(p=0.1, inplace=False)\n",
              "            )\n",
              "          )\n",
              "          (intermediate): BertIntermediate(\n",
              "            (dense): Linear(in_features=768, out_features=3072, bias=True)\n",
              "          )\n",
              "          (output): BertOutput(\n",
              "            (dense): Linear(in_features=3072, out_features=768, bias=True)\n",
              "            (LayerNorm): LayerNorm((768,), eps=1e-12, elementwise_affine=True)\n",
              "            (dropout): Dropout(p=0.1, inplace=False)\n",
              "          )\n",
              "        )\n",
              "        (1): BertLayer(\n",
              "          (attention): BertAttention(\n",
              "            (self): BertSelfAttention(\n",
              "              (query): Linear(in_features=768, out_features=768, bias=True)\n",
              "              (key): Linear(in_features=768, out_features=768, bias=True)\n",
              "              (value): Linear(in_features=768, out_features=768, bias=True)\n",
              "              (dropout): Dropout(p=0.1, inplace=False)\n",
              "            )\n",
              "            (output): BertSelfOutput(\n",
              "              (dense): Linear(in_features=768, out_features=768, bias=True)\n",
              "              (LayerNorm): LayerNorm((768,), eps=1e-12, elementwise_affine=True)\n",
              "              (dropout): Dropout(p=0.1, inplace=False)\n",
              "            )\n",
              "          )\n",
              "          (intermediate): BertIntermediate(\n",
              "            (dense): Linear(in_features=768, out_features=3072, bias=True)\n",
              "          )\n",
              "          (output): BertOutput(\n",
              "            (dense): Linear(in_features=3072, out_features=768, bias=True)\n",
              "            (LayerNorm): LayerNorm((768,), eps=1e-12, elementwise_affine=True)\n",
              "            (dropout): Dropout(p=0.1, inplace=False)\n",
              "          )\n",
              "        )\n",
              "        (2): BertLayer(\n",
              "          (attention): BertAttention(\n",
              "            (self): BertSelfAttention(\n",
              "              (query): Linear(in_features=768, out_features=768, bias=True)\n",
              "              (key): Linear(in_features=768, out_features=768, bias=True)\n",
              "              (value): Linear(in_features=768, out_features=768, bias=True)\n",
              "              (dropout): Dropout(p=0.1, inplace=False)\n",
              "            )\n",
              "            (output): BertSelfOutput(\n",
              "              (dense): Linear(in_features=768, out_features=768, bias=True)\n",
              "              (LayerNorm): LayerNorm((768,), eps=1e-12, elementwise_affine=True)\n",
              "              (dropout): Dropout(p=0.1, inplace=False)\n",
              "            )\n",
              "          )\n",
              "          (intermediate): BertIntermediate(\n",
              "            (dense): Linear(in_features=768, out_features=3072, bias=True)\n",
              "          )\n",
              "          (output): BertOutput(\n",
              "            (dense): Linear(in_features=3072, out_features=768, bias=True)\n",
              "            (LayerNorm): LayerNorm((768,), eps=1e-12, elementwise_affine=True)\n",
              "            (dropout): Dropout(p=0.1, inplace=False)\n",
              "          )\n",
              "        )\n",
              "        (3): BertLayer(\n",
              "          (attention): BertAttention(\n",
              "            (self): BertSelfAttention(\n",
              "              (query): Linear(in_features=768, out_features=768, bias=True)\n",
              "              (key): Linear(in_features=768, out_features=768, bias=True)\n",
              "              (value): Linear(in_features=768, out_features=768, bias=True)\n",
              "              (dropout): Dropout(p=0.1, inplace=False)\n",
              "            )\n",
              "            (output): BertSelfOutput(\n",
              "              (dense): Linear(in_features=768, out_features=768, bias=True)\n",
              "              (LayerNorm): LayerNorm((768,), eps=1e-12, elementwise_affine=True)\n",
              "              (dropout): Dropout(p=0.1, inplace=False)\n",
              "            )\n",
              "          )\n",
              "          (intermediate): BertIntermediate(\n",
              "            (dense): Linear(in_features=768, out_features=3072, bias=True)\n",
              "          )\n",
              "          (output): BertOutput(\n",
              "            (dense): Linear(in_features=3072, out_features=768, bias=True)\n",
              "            (LayerNorm): LayerNorm((768,), eps=1e-12, elementwise_affine=True)\n",
              "            (dropout): Dropout(p=0.1, inplace=False)\n",
              "          )\n",
              "        )\n",
              "        (4): BertLayer(\n",
              "          (attention): BertAttention(\n",
              "            (self): BertSelfAttention(\n",
              "              (query): Linear(in_features=768, out_features=768, bias=True)\n",
              "              (key): Linear(in_features=768, out_features=768, bias=True)\n",
              "              (value): Linear(in_features=768, out_features=768, bias=True)\n",
              "              (dropout): Dropout(p=0.1, inplace=False)\n",
              "            )\n",
              "            (output): BertSelfOutput(\n",
              "              (dense): Linear(in_features=768, out_features=768, bias=True)\n",
              "              (LayerNorm): LayerNorm((768,), eps=1e-12, elementwise_affine=True)\n",
              "              (dropout): Dropout(p=0.1, inplace=False)\n",
              "            )\n",
              "          )\n",
              "          (intermediate): BertIntermediate(\n",
              "            (dense): Linear(in_features=768, out_features=3072, bias=True)\n",
              "          )\n",
              "          (output): BertOutput(\n",
              "            (dense): Linear(in_features=3072, out_features=768, bias=True)\n",
              "            (LayerNorm): LayerNorm((768,), eps=1e-12, elementwise_affine=True)\n",
              "            (dropout): Dropout(p=0.1, inplace=False)\n",
              "          )\n",
              "        )\n",
              "        (5): BertLayer(\n",
              "          (attention): BertAttention(\n",
              "            (self): BertSelfAttention(\n",
              "              (query): Linear(in_features=768, out_features=768, bias=True)\n",
              "              (key): Linear(in_features=768, out_features=768, bias=True)\n",
              "              (value): Linear(in_features=768, out_features=768, bias=True)\n",
              "              (dropout): Dropout(p=0.1, inplace=False)\n",
              "            )\n",
              "            (output): BertSelfOutput(\n",
              "              (dense): Linear(in_features=768, out_features=768, bias=True)\n",
              "              (LayerNorm): LayerNorm((768,), eps=1e-12, elementwise_affine=True)\n",
              "              (dropout): Dropout(p=0.1, inplace=False)\n",
              "            )\n",
              "          )\n",
              "          (intermediate): BertIntermediate(\n",
              "            (dense): Linear(in_features=768, out_features=3072, bias=True)\n",
              "          )\n",
              "          (output): BertOutput(\n",
              "            (dense): Linear(in_features=3072, out_features=768, bias=True)\n",
              "            (LayerNorm): LayerNorm((768,), eps=1e-12, elementwise_affine=True)\n",
              "            (dropout): Dropout(p=0.1, inplace=False)\n",
              "          )\n",
              "        )\n",
              "        (6): BertLayer(\n",
              "          (attention): BertAttention(\n",
              "            (self): BertSelfAttention(\n",
              "              (query): Linear(in_features=768, out_features=768, bias=True)\n",
              "              (key): Linear(in_features=768, out_features=768, bias=True)\n",
              "              (value): Linear(in_features=768, out_features=768, bias=True)\n",
              "              (dropout): Dropout(p=0.1, inplace=False)\n",
              "            )\n",
              "            (output): BertSelfOutput(\n",
              "              (dense): Linear(in_features=768, out_features=768, bias=True)\n",
              "              (LayerNorm): LayerNorm((768,), eps=1e-12, elementwise_affine=True)\n",
              "              (dropout): Dropout(p=0.1, inplace=False)\n",
              "            )\n",
              "          )\n",
              "          (intermediate): BertIntermediate(\n",
              "            (dense): Linear(in_features=768, out_features=3072, bias=True)\n",
              "          )\n",
              "          (output): BertOutput(\n",
              "            (dense): Linear(in_features=3072, out_features=768, bias=True)\n",
              "            (LayerNorm): LayerNorm((768,), eps=1e-12, elementwise_affine=True)\n",
              "            (dropout): Dropout(p=0.1, inplace=False)\n",
              "          )\n",
              "        )\n",
              "        (7): BertLayer(\n",
              "          (attention): BertAttention(\n",
              "            (self): BertSelfAttention(\n",
              "              (query): Linear(in_features=768, out_features=768, bias=True)\n",
              "              (key): Linear(in_features=768, out_features=768, bias=True)\n",
              "              (value): Linear(in_features=768, out_features=768, bias=True)\n",
              "              (dropout): Dropout(p=0.1, inplace=False)\n",
              "            )\n",
              "            (output): BertSelfOutput(\n",
              "              (dense): Linear(in_features=768, out_features=768, bias=True)\n",
              "              (LayerNorm): LayerNorm((768,), eps=1e-12, elementwise_affine=True)\n",
              "              (dropout): Dropout(p=0.1, inplace=False)\n",
              "            )\n",
              "          )\n",
              "          (intermediate): BertIntermediate(\n",
              "            (dense): Linear(in_features=768, out_features=3072, bias=True)\n",
              "          )\n",
              "          (output): BertOutput(\n",
              "            (dense): Linear(in_features=3072, out_features=768, bias=True)\n",
              "            (LayerNorm): LayerNorm((768,), eps=1e-12, elementwise_affine=True)\n",
              "            (dropout): Dropout(p=0.1, inplace=False)\n",
              "          )\n",
              "        )\n",
              "        (8): BertLayer(\n",
              "          (attention): BertAttention(\n",
              "            (self): BertSelfAttention(\n",
              "              (query): Linear(in_features=768, out_features=768, bias=True)\n",
              "              (key): Linear(in_features=768, out_features=768, bias=True)\n",
              "              (value): Linear(in_features=768, out_features=768, bias=True)\n",
              "              (dropout): Dropout(p=0.1, inplace=False)\n",
              "            )\n",
              "            (output): BertSelfOutput(\n",
              "              (dense): Linear(in_features=768, out_features=768, bias=True)\n",
              "              (LayerNorm): LayerNorm((768,), eps=1e-12, elementwise_affine=True)\n",
              "              (dropout): Dropout(p=0.1, inplace=False)\n",
              "            )\n",
              "          )\n",
              "          (intermediate): BertIntermediate(\n",
              "            (dense): Linear(in_features=768, out_features=3072, bias=True)\n",
              "          )\n",
              "          (output): BertOutput(\n",
              "            (dense): Linear(in_features=3072, out_features=768, bias=True)\n",
              "            (LayerNorm): LayerNorm((768,), eps=1e-12, elementwise_affine=True)\n",
              "            (dropout): Dropout(p=0.1, inplace=False)\n",
              "          )\n",
              "        )\n",
              "        (9): BertLayer(\n",
              "          (attention): BertAttention(\n",
              "            (self): BertSelfAttention(\n",
              "              (query): Linear(in_features=768, out_features=768, bias=True)\n",
              "              (key): Linear(in_features=768, out_features=768, bias=True)\n",
              "              (value): Linear(in_features=768, out_features=768, bias=True)\n",
              "              (dropout): Dropout(p=0.1, inplace=False)\n",
              "            )\n",
              "            (output): BertSelfOutput(\n",
              "              (dense): Linear(in_features=768, out_features=768, bias=True)\n",
              "              (LayerNorm): LayerNorm((768,), eps=1e-12, elementwise_affine=True)\n",
              "              (dropout): Dropout(p=0.1, inplace=False)\n",
              "            )\n",
              "          )\n",
              "          (intermediate): BertIntermediate(\n",
              "            (dense): Linear(in_features=768, out_features=3072, bias=True)\n",
              "          )\n",
              "          (output): BertOutput(\n",
              "            (dense): Linear(in_features=3072, out_features=768, bias=True)\n",
              "            (LayerNorm): LayerNorm((768,), eps=1e-12, elementwise_affine=True)\n",
              "            (dropout): Dropout(p=0.1, inplace=False)\n",
              "          )\n",
              "        )\n",
              "        (10): BertLayer(\n",
              "          (attention): BertAttention(\n",
              "            (self): BertSelfAttention(\n",
              "              (query): Linear(in_features=768, out_features=768, bias=True)\n",
              "              (key): Linear(in_features=768, out_features=768, bias=True)\n",
              "              (value): Linear(in_features=768, out_features=768, bias=True)\n",
              "              (dropout): Dropout(p=0.1, inplace=False)\n",
              "            )\n",
              "            (output): BertSelfOutput(\n",
              "              (dense): Linear(in_features=768, out_features=768, bias=True)\n",
              "              (LayerNorm): LayerNorm((768,), eps=1e-12, elementwise_affine=True)\n",
              "              (dropout): Dropout(p=0.1, inplace=False)\n",
              "            )\n",
              "          )\n",
              "          (intermediate): BertIntermediate(\n",
              "            (dense): Linear(in_features=768, out_features=3072, bias=True)\n",
              "          )\n",
              "          (output): BertOutput(\n",
              "            (dense): Linear(in_features=3072, out_features=768, bias=True)\n",
              "            (LayerNorm): LayerNorm((768,), eps=1e-12, elementwise_affine=True)\n",
              "            (dropout): Dropout(p=0.1, inplace=False)\n",
              "          )\n",
              "        )\n",
              "        (11): BertLayer(\n",
              "          (attention): BertAttention(\n",
              "            (self): BertSelfAttention(\n",
              "              (query): Linear(in_features=768, out_features=768, bias=True)\n",
              "              (key): Linear(in_features=768, out_features=768, bias=True)\n",
              "              (value): Linear(in_features=768, out_features=768, bias=True)\n",
              "              (dropout): Dropout(p=0.1, inplace=False)\n",
              "            )\n",
              "            (output): BertSelfOutput(\n",
              "              (dense): Linear(in_features=768, out_features=768, bias=True)\n",
              "              (LayerNorm): LayerNorm((768,), eps=1e-12, elementwise_affine=True)\n",
              "              (dropout): Dropout(p=0.1, inplace=False)\n",
              "            )\n",
              "          )\n",
              "          (intermediate): BertIntermediate(\n",
              "            (dense): Linear(in_features=768, out_features=3072, bias=True)\n",
              "          )\n",
              "          (output): BertOutput(\n",
              "            (dense): Linear(in_features=3072, out_features=768, bias=True)\n",
              "            (LayerNorm): LayerNorm((768,), eps=1e-12, elementwise_affine=True)\n",
              "            (dropout): Dropout(p=0.1, inplace=False)\n",
              "          )\n",
              "        )\n",
              "      )\n",
              "    )\n",
              "    (pooler): BertPooler(\n",
              "      (dense): Linear(in_features=768, out_features=768, bias=True)\n",
              "      (activation): Tanh()\n",
              "    )\n",
              "  )\n",
              "  (dropout): Dropout(p=0.1, inplace=False)\n",
              "  (classifier): Linear(in_features=768, out_features=2, bias=True)\n",
              ")"
            ]
          },
          "metadata": {
            "tags": []
          },
          "execution_count": 49
        }
      ]
    },
    {
      "cell_type": "markdown",
      "metadata": {
        "id": "gSYYkkdn_RnB"
      },
      "source": [
        "### 7.2. text_to_embedding function"
      ]
    },
    {
      "cell_type": "markdown",
      "metadata": {
        "id": "S_eSAG9V_bEN"
      },
      "source": [
        "Here we'll define a function which can take an arbitrary piece of text and use our fine-tuned BERT model to compute a feature vector (aka \"embedding\") for the text.\n",
        "\n",
        "Again, we'll be using the 768-feature vector corresponding to the special `[CLS]` token, taken from the final transformer layer.\n",
        "\n",
        "Note that, for converting large amounts of text, we could improve our performance by modifying this function to accept multiple input texts at once. GPUs (and CPUs) are most efficient when they are given a *batch* of inputs to work on."
      ]
    },
    {
      "cell_type": "code",
      "metadata": {
        "id": "bqr6kC1Z_aOj"
      },
      "source": [
        "import torch\n",
        "from keras.preprocessing.sequence import pad_sequences\n",
        "\n",
        "def text_to_embedding(tokenizer, model, in_text):\n",
        "    '''\n",
        "    Uses the provided BERT `model` and `tokenizer` to generate a vector \n",
        "    representation of the input string, `in_text`.\n",
        "\n",
        "    Returns the vector stored as a numpy ndarray.\n",
        "    '''\n",
        "\n",
        "    # ===========================\n",
        "    #    STEP 1: Tokenization\n",
        "    # ===========================\n",
        "\n",
        "    MAX_LEN = 128\n",
        "\n",
        "    # `encode` will:\n",
        "    #   (1) Tokenize the sentence.\n",
        "    #   (2) Truncate the sentence to MAX_LEN if necessary.\n",
        "    #   (2) Prepend the `[CLS]` token to the start.\n",
        "    #   (3) Append the `[SEP]` token to the end. (After truncating!)\n",
        "    #   (4) Map tokens to their IDs.\n",
        "    input_ids = tokenizer.encode(\n",
        "                        in_text,                    # Sentence to encode.\n",
        "                        add_special_tokens = True,  # Add '[CLS]' and '[SEP]'\n",
        "                        max_length = MAX_LEN,       # Truncate all sentences.                        \n",
        "                   )    \n",
        "\n",
        "    # Pad our input tokens. Truncation was handled above by the `encode`\n",
        "    # function, which also makes sure that the `[SEP]` token is placed at the\n",
        "    # end *after* truncating.\n",
        "    # Note: `pad_sequences` expects a list of lists, but we only have one\n",
        "    # piece of text, so we surround `input_ids` with an extra set of brackets.\n",
        "    results = pad_sequences([input_ids], maxlen=MAX_LEN, dtype=\"long\", \n",
        "                              truncating=\"post\", padding=\"post\")\n",
        "    \n",
        "    # Remove the outer list.\n",
        "    input_ids = results[0]\n",
        "\n",
        "    # Create attention masks    \n",
        "    attn_mask = [int(i>0) for i in input_ids]\n",
        "    \n",
        "    # Cast to tensors.\n",
        "    input_ids = torch.tensor(input_ids)\n",
        "    attn_mask = torch.tensor(attn_mask)\n",
        "\n",
        "    # Add an extra dimension for the \"batch\" (even though there is only one \n",
        "    # input in this batch.)\n",
        "    input_ids = input_ids.unsqueeze(0)\n",
        "    attn_mask = attn_mask.unsqueeze(0)\n",
        "\n",
        "    # ===========================\n",
        "    #    STEP 2: BERT Model\n",
        "    # ===========================\n",
        "\n",
        "    # Put the model in evaluation mode--the dropout layers behave differently\n",
        "    # during evaluation.\n",
        "    model.eval()\n",
        "\n",
        "    # Copy the inputs to the GPU\n",
        "    # Note -- I got stuck here for a while because I didn't assign the result \n",
        "    # back to the variable! Geez!\n",
        "    input_ids = input_ids.to(device)\n",
        "    attn_mask = attn_mask.to(device)\n",
        "    \n",
        "    # Telling the model not to build the backwards graph will make this \n",
        "    # a little quicker.\n",
        "    with torch.no_grad():        \n",
        "\n",
        "        # Forward pass, return hidden states and predictions.\n",
        "        # This will return the logits rather than the loss because we have\n",
        "        # not provided labels.\n",
        "        logits, encoded_layers = model(\n",
        "                                    input_ids = input_ids, \n",
        "                                    token_type_ids = None, \n",
        "                                    attention_mask = attn_mask,\n",
        "                                    return_dict=False)\n",
        "        \n",
        "    # Retrieve our sentence embedding--take the `[CLS]` embedding from the final\n",
        "    # layer.\n",
        "    layer_i = 12 # The last BERT layer before the classifier.\n",
        "    batch_i = 0 # Only one input in the batch.\n",
        "    token_i = 0 # The first token, corresponding to [CLS]\n",
        "        \n",
        "    # Grab the embedding.\n",
        "    vec = encoded_layers[layer_i][batch_i][token_i]\n",
        "\n",
        "    # Move to the CPU and convert to numpy ndarray.\n",
        "    vec = vec.detach().cpu().numpy()\n",
        "\n",
        "    return(vec)\n"
      ],
      "execution_count": null,
      "outputs": []
    },
    {
      "cell_type": "markdown",
      "metadata": {
        "id": "GOBMr3hq_TeQ"
      },
      "source": [
        "### 7.3. Vectorize Dataset"
      ]
    },
    {
      "cell_type": "markdown",
      "metadata": {
        "id": "eF7d524nB3XF"
      },
      "source": [
        "We'll go back to the original dataset here. It should still be in memory as a pandas dataframe named `comments`.\n",
        "\n",
        "Let's start by vectorizing a single comment."
      ]
    },
    {
      "cell_type": "code",
      "metadata": {
        "id": "Cl-cH23CCMnX",
        "colab": {
          "base_uri": "https://localhost:8080/",
          "height": 151
        },
        "outputId": "ea092be5-0a9b-4043-d1e5-3d9d39690060"
      },
      "source": [
        "# Get the text from one of the comments.\n",
        "input_text = comments.iloc[10].comment\n",
        "\n",
        "# Use `textwrap` to print the sentence nicely.\n",
        "wrapper = textwrap.TextWrapper(initial_indent=\"    \", subsequent_indent=\"    \", \n",
        "                               width = 80)\n",
        "\n",
        "print('Getting embedding for sentence:\\n\\n', wrapper.fill(input_text))\n",
        "\n",
        "# Use the BERT model and tokenizer to generate an embedding for `input_text`.\n",
        "vec = text_to_embedding(tokenizer, model, input_text)\n",
        "\n",
        "print('\\nDone. Embedding shape:', str(vec.shape))"
      ],
      "execution_count": null,
      "outputs": [
        {
          "output_type": "stream",
          "text": [
            "Getting embedding for sentence:\n",
            "\n",
            "       :Correct. Full biographical details will put down his birth details, etc.\n",
            "    It is just a marker to me at the moment to detail the WR aspect. He\n",
            "    certainly wasn't Belarus; as a geo-political entity it had no real existence\n",
            "    at the time. I have put a tbc marker on this article for now.\n",
            "\n",
            "Done. Embedding shape: (768,)\n"
          ],
          "name": "stdout"
        }
      ]
    },
    {
      "cell_type": "markdown",
      "metadata": {
        "id": "9vFLKwGLEW2q"
      },
      "source": [
        "It's working! In order to perform similarity search against this comments dataset, we now need to vectorize *all* of the comments."
      ]
    },
    {
      "cell_type": "markdown",
      "metadata": {
        "id": "V1AWLUKYFkKc"
      },
      "source": [
        "Define a small helper function for formatting elapsed times.\n"
      ]
    },
    {
      "cell_type": "code",
      "metadata": {
        "id": "Hef0tafhFkKe"
      },
      "source": [
        "import time\n",
        "import datetime\n",
        "\n",
        "def format_time(elapsed):\n",
        "    '''\n",
        "    Takes a time in seconds and returns a string hh:mm:ss\n",
        "    '''\n",
        "    # Round to the nearest second.\n",
        "    elapsed_rounded = int(round((elapsed)))\n",
        "    \n",
        "    # Format as hh:mm:ss\n",
        "    return str(datetime.timedelta(seconds=elapsed_rounded))\n"
      ],
      "execution_count": null,
      "outputs": []
    },
    {
      "cell_type": "markdown",
      "metadata": {
        "id": "DGwN9hBQpRD3"
      },
      "source": [
        "Loop over all of the comments in the dataset, converting each one. Prints progress periodically. This took just under 1 hour for me to run in Colab with a T4 GPU."
      ]
    },
    {
      "cell_type": "code",
      "metadata": {
        "id": "Xg-mOiN_Ebmj",
        "colab": {
          "base_uri": "https://localhost:8080/",
          "height": 991
        },
        "outputId": "db8991f4-afd6-4c53-fc36-d08209ee5df7"
      },
      "source": [
        "import time\n",
        "\n",
        "# Track the time.\n",
        "t0 = time.time()\n",
        "\n",
        "# Store the set of embeddings.\n",
        "embeddings = []\n",
        "\n",
        "num_comments = len(comments)\n",
        "\n",
        "print('Generating sentence embeddings for all {:,} comments...'.format(num_comments))\n",
        "\n",
        "row_num = 0\n",
        "\n",
        "# For each row of the dataframe...\n",
        "for index, row in comments.iterrows():\n",
        "\n",
        "    # Progress update every 2,000 comments.\n",
        "    if row_num % 2000 == 0 and not row_num == 0:\n",
        "\n",
        "        # Calculate elapsed time and format it.\n",
        "        elapsed = format_time(time.time() - t0)\n",
        "        \n",
        "        # Calculate the time remaining based on our progress.\n",
        "        rows_per_sec = (time.time() - t0) / row_num\n",
        "        remaining_sec = rows_per_sec * (num_comments - row_num)\n",
        "        remaining = format_time(remaining_sec)\n",
        "\n",
        "        # Report progress.\n",
        "        print('  Comment {:>7,}  of  {:>7,}.    Elapsed: {:}. Remaining: {:}'.format(row_num, num_comments, elapsed, remaining))\n",
        "\n",
        "    # Vectorize this comment.\n",
        "    vec = text_to_embedding(tokenizer, model, row.comment)\n",
        "\n",
        "    # Store the embeddings.\n",
        "    embeddings.append(vec) \n",
        "\n",
        "    row_num += 1\n"
      ],
      "execution_count": null,
      "outputs": [
        {
          "output_type": "stream",
          "text": [
            "Generating sentence embeddings for all 115,864 comments...\n",
            "  Comment   2,000  of  115,864.    Elapsed: 0:00:58. Remaining: 0:55:07\n",
            "  Comment   4,000  of  115,864.    Elapsed: 0:01:57. Remaining: 0:54:38\n",
            "  Comment   6,000  of  115,864.    Elapsed: 0:02:56. Remaining: 0:53:45\n",
            "  Comment   8,000  of  115,864.    Elapsed: 0:03:54. Remaining: 0:52:41\n",
            "  Comment  10,000  of  115,864.    Elapsed: 0:04:52. Remaining: 0:51:33\n",
            "  Comment  12,000  of  115,864.    Elapsed: 0:05:50. Remaining: 0:50:32\n",
            "  Comment  14,000  of  115,864.    Elapsed: 0:06:49. Remaining: 0:49:36\n",
            "  Comment  16,000  of  115,864.    Elapsed: 0:07:47. Remaining: 0:48:36\n",
            "  Comment  18,000  of  115,864.    Elapsed: 0:08:46. Remaining: 0:47:41\n",
            "  Comment  20,000  of  115,864.    Elapsed: 0:09:45. Remaining: 0:46:42\n",
            "  Comment  22,000  of  115,864.    Elapsed: 0:10:43. Remaining: 0:45:43\n",
            "  Comment  24,000  of  115,864.    Elapsed: 0:11:41. Remaining: 0:44:45\n",
            "  Comment  26,000  of  115,864.    Elapsed: 0:12:40. Remaining: 0:43:46\n",
            "  Comment  28,000  of  115,864.    Elapsed: 0:13:38. Remaining: 0:42:48\n",
            "  Comment  30,000  of  115,864.    Elapsed: 0:14:37. Remaining: 0:41:49\n",
            "  Comment  32,000  of  115,864.    Elapsed: 0:15:35. Remaining: 0:40:50\n",
            "  Comment  34,000  of  115,864.    Elapsed: 0:16:33. Remaining: 0:39:50\n",
            "  Comment  36,000  of  115,864.    Elapsed: 0:17:32. Remaining: 0:38:53\n",
            "  Comment  38,000  of  115,864.    Elapsed: 0:18:31. Remaining: 0:37:56\n",
            "  Comment  40,000  of  115,864.    Elapsed: 0:19:29. Remaining: 0:36:58\n",
            "  Comment  42,000  of  115,864.    Elapsed: 0:20:28. Remaining: 0:35:59\n",
            "  Comment  44,000  of  115,864.    Elapsed: 0:21:26. Remaining: 0:35:00\n",
            "  Comment  46,000  of  115,864.    Elapsed: 0:22:24. Remaining: 0:34:02\n",
            "  Comment  48,000  of  115,864.    Elapsed: 0:23:23. Remaining: 0:33:03\n",
            "  Comment  50,000  of  115,864.    Elapsed: 0:24:22. Remaining: 0:32:05\n",
            "  Comment  52,000  of  115,864.    Elapsed: 0:25:20. Remaining: 0:31:07\n",
            "  Comment  54,000  of  115,864.    Elapsed: 0:26:19. Remaining: 0:30:09\n",
            "  Comment  56,000  of  115,864.    Elapsed: 0:27:17. Remaining: 0:29:10\n",
            "  Comment  58,000  of  115,864.    Elapsed: 0:28:16. Remaining: 0:28:12\n",
            "  Comment  60,000  of  115,864.    Elapsed: 0:29:14. Remaining: 0:27:13\n",
            "  Comment  62,000  of  115,864.    Elapsed: 0:30:12. Remaining: 0:26:14\n",
            "  Comment  64,000  of  115,864.    Elapsed: 0:31:10. Remaining: 0:25:15\n",
            "  Comment  66,000  of  115,864.    Elapsed: 0:32:08. Remaining: 0:24:17\n",
            "  Comment  68,000  of  115,864.    Elapsed: 0:33:07. Remaining: 0:23:18\n",
            "  Comment  70,000  of  115,864.    Elapsed: 0:34:05. Remaining: 0:22:20\n",
            "  Comment  72,000  of  115,864.    Elapsed: 0:35:03. Remaining: 0:21:21\n",
            "  Comment  74,000  of  115,864.    Elapsed: 0:36:02. Remaining: 0:20:23\n",
            "  Comment  76,000  of  115,864.    Elapsed: 0:37:00. Remaining: 0:19:24\n",
            "  Comment  78,000  of  115,864.    Elapsed: 0:37:58. Remaining: 0:18:26\n",
            "  Comment  80,000  of  115,864.    Elapsed: 0:38:56. Remaining: 0:17:27\n",
            "  Comment  82,000  of  115,864.    Elapsed: 0:39:54. Remaining: 0:16:29\n",
            "  Comment  84,000  of  115,864.    Elapsed: 0:40:53. Remaining: 0:15:30\n",
            "  Comment  86,000  of  115,864.    Elapsed: 0:41:51. Remaining: 0:14:32\n",
            "  Comment  88,000  of  115,864.    Elapsed: 0:42:49. Remaining: 0:13:33\n",
            "  Comment  90,000  of  115,864.    Elapsed: 0:43:47. Remaining: 0:12:35\n",
            "  Comment  92,000  of  115,864.    Elapsed: 0:44:46. Remaining: 0:11:37\n",
            "  Comment  94,000  of  115,864.    Elapsed: 0:45:44. Remaining: 0:10:38\n",
            "  Comment  96,000  of  115,864.    Elapsed: 0:46:42. Remaining: 0:09:40\n",
            "  Comment  98,000  of  115,864.    Elapsed: 0:47:41. Remaining: 0:08:41\n",
            "  Comment 100,000  of  115,864.    Elapsed: 0:48:39. Remaining: 0:07:43\n",
            "  Comment 102,000  of  115,864.    Elapsed: 0:49:37. Remaining: 0:06:45\n",
            "  Comment 104,000  of  115,864.    Elapsed: 0:50:36. Remaining: 0:05:46\n",
            "  Comment 106,000  of  115,864.    Elapsed: 0:51:34. Remaining: 0:04:48\n",
            "  Comment 108,000  of  115,864.    Elapsed: 0:52:33. Remaining: 0:03:50\n",
            "  Comment 110,000  of  115,864.    Elapsed: 0:53:31. Remaining: 0:02:51\n",
            "  Comment 112,000  of  115,864.    Elapsed: 0:54:28. Remaining: 0:01:53\n",
            "  Comment 114,000  of  115,864.    Elapsed: 0:55:26. Remaining: 0:00:54\n"
          ],
          "name": "stdout"
        }
      ]
    },
    {
      "cell_type": "code",
      "metadata": {
        "id": "WZTbbMgvHBok",
        "colab": {
          "base_uri": "https://localhost:8080/",
          "height": 34
        },
        "outputId": "98a6f782-bd04-46b0-ab79-09b9dd397e26"
      },
      "source": [
        "import numpy as np\n",
        "\n",
        "# Convert the list of vectors into a 2D array.\n",
        "vecs = np.stack(embeddings)\n",
        "\n",
        "vecs.shape"
      ],
      "execution_count": null,
      "outputs": [
        {
          "output_type": "execute_result",
          "data": {
            "text/plain": [
              "(115864, 768)"
            ]
          },
          "metadata": {
            "tags": []
          },
          "execution_count": 61
        }
      ]
    },
    {
      "cell_type": "markdown",
      "metadata": {
        "id": "ktEWnGazakNx"
      },
      "source": [
        "Since creating those embeddings was such a lengthy process, let's be sure to save the embeddings to disk in case we want to reload them another time."
      ]
    },
    {
      "cell_type": "code",
      "metadata": {
        "id": "9pIraz41Kluu",
        "colab": {
          "base_uri": "https://localhost:8080/",
          "height": 34
        },
        "outputId": "5c982492-20fe-4e97-ad30-31dd3766c883"
      },
      "source": [
        "import os\n",
        "\n",
        "output_dir = './model_save/'\n",
        "\n",
        "# Create output directory if needed\n",
        "if not os.path.exists(output_dir):\n",
        "    os.makedirs(output_dir)\n",
        "\n",
        "# Use numpy to write out the matrix of embeddings.\n",
        "print(\"Saving embeddings to: ./model_save/embeddings.npy\")\n",
        "np.save('./model_save/embeddings.npy', vecs)\n",
        "\n",
        "# Copy the embeddings to a directory in your Google Drive.\n",
        "!cp -r ./model_save/embeddings.npy \"./drive/My Drive/BERT Document Classification Tutorial/model_save/\""
      ],
      "execution_count": null,
      "outputs": [
        {
          "output_type": "stream",
          "text": [
            "Saving embeddings to ./model_save/\n"
          ],
          "name": "stdout"
        }
      ]
    },
    {
      "cell_type": "markdown",
      "metadata": {
        "id": "W_Vb5B6gIrmm"
      },
      "source": [
        "## 8. Semantic Similarity Search"
      ]
    },
    {
      "cell_type": "markdown",
      "metadata": {
        "id": "-MDi2C_LK21z"
      },
      "source": [
        "Now that we have our comments all vectorized, we are ready to make them \"searchable\".\n",
        "\n",
        "We do this using a technique called \"k-Nearest Neighbor Search\" or \"k-NN\". Simply put, we use a distance metric such as Euclidean distance, calculate that distance between our \"query\" vector and all of the vectors to be searched, then sort the distances to find the closest matches.\n",
        "\n",
        "All of those distance calculations can make k-NN search computationally expensive and slow. There are a number of libraries out there for accelerating k-NN using carefully optimized code and / or approximation techniques.\n",
        "\n",
        "I personally like the FAISS (Facebook AI Similarity Search) library, in part because it has a really excellent GPU implementation.\n",
        "\n",
        "Using the GPU, we can perform \"brute-force\" k-NN search (meaning no approximation techniques which compromise on accuracy) on this dataset quickly."
      ]
    },
    {
      "cell_type": "markdown",
      "metadata": {
        "id": "4_HvvrKhKuf1"
      },
      "source": [
        "### 8.1. k-NN with FAISS and GPU\n",
        "\n",
        "First we'll need to install FAISS."
      ]
    },
    {
      "cell_type": "code",
      "metadata": {
        "id": "US3rrCQdKiUU",
        "colab": {
          "base_uri": "https://localhost:8080/",
          "height": 138
        },
        "outputId": "6f487e62-4c7c-4f1e-e415-fa16563ac1c4"
      },
      "source": [
        "!pip install faiss"
      ],
      "execution_count": null,
      "outputs": [
        {
          "output_type": "stream",
          "text": [
            "Collecting faiss\n",
            "\u001b[?25l  Downloading https://files.pythonhosted.org/packages/bd/1c/4ae6cb87cf0c09c25561ea48db11e25713b25c580909902a92c090b377c0/faiss-1.5.3-cp36-cp36m-manylinux1_x86_64.whl (4.7MB)\n",
            "\u001b[K     |████████████████████████████████| 4.7MB 6.4MB/s \n",
            "\u001b[?25hRequirement already satisfied: numpy in /usr/local/lib/python3.6/dist-packages (from faiss) (1.17.5)\n",
            "Installing collected packages: faiss\n",
            "Successfully installed faiss-1.5.3\n"
          ],
          "name": "stdout"
        }
      ]
    },
    {
      "cell_type": "code",
      "metadata": {
        "id": "TZ97wBOMLRDc",
        "colab": {
          "base_uri": "https://localhost:8080/",
          "height": 138
        },
        "outputId": "99aa9802-cbb1-40cf-eb0b-8fba02df4b45"
      },
      "source": [
        "!pip install faiss-gpu"
      ],
      "execution_count": null,
      "outputs": [
        {
          "output_type": "stream",
          "text": [
            "Collecting faiss-gpu\n",
            "\u001b[?25l  Downloading https://files.pythonhosted.org/packages/0a/8d/d630c7ec7ad93feed005994c9849843d33bed08cf621ffb74fe9f81a45e2/faiss_gpu-1.6.1-cp36-cp36m-manylinux2010_x86_64.whl (41.0MB)\n",
            "\u001b[K     |████████████████████████████████| 41.0MB 73kB/s \n",
            "\u001b[?25hRequirement already satisfied: numpy in /usr/local/lib/python3.6/dist-packages (from faiss-gpu) (1.17.5)\n",
            "Installing collected packages: faiss-gpu\n",
            "Successfully installed faiss-gpu-1.6.1\n"
          ],
          "name": "stdout"
        }
      ]
    },
    {
      "cell_type": "markdown",
      "metadata": {
        "id": "DsML_e7bq7FD"
      },
      "source": [
        "To create a GPU index with FAISS, you first create it on the CPU, then copy it over.\n",
        "\n",
        "A \"Flat\" index means that it's brute-force, with no approximation tricks."
      ]
    },
    {
      "cell_type": "code",
      "metadata": {
        "id": "1RHCpXjaJDHT",
        "colab": {
          "base_uri": "https://localhost:8080/",
          "height": 67
        },
        "outputId": "b0e6b68d-94c9-4b67-dd27-f92ff28adefe"
      },
      "source": [
        "import faiss\n",
        "\n",
        "# =====================================\n",
        "#            FAISS Setup\n",
        "# =====================================\n",
        "\n",
        "# Build a flat (CPU) index\n",
        "cpu_index = faiss.IndexFlatL2(vecs.shape[1])\n",
        "\n",
        "# Use 1 GPU.\n",
        "n_gpu = 1\n",
        "\n",
        "# Print the number of available GPUs. \n",
        "print('Number of available GPUs: %d    Using: %d' % (faiss.get_num_gpus(), n_gpu))\n",
        "\n",
        "# If using multiple GPUs, enable sharding so that the dataset is divided across \n",
        "# the GPUs rather than replicated.\n",
        "co = faiss.GpuMultipleClonerOptions()\n",
        "co.shard = True\n",
        "\n",
        "# Make it into a gpu index\n",
        "gpu_index = faiss.index_cpu_to_all_gpus(cpu_index, co=co, ngpu=n_gpu)\n",
        "\n",
        "# Add vecs to our GPU index\n",
        "print('Adding dataset to index...')\n",
        "t0 = time.time()    \n",
        "\n",
        "gpu_index.add(vecs)\n",
        "\n",
        "elapsed = time.time() - t0\n",
        "print('Building index took %.2f seconds' % (elapsed))\n"
      ],
      "execution_count": null,
      "outputs": [
        {
          "output_type": "stream",
          "text": [
            "Number of available GPUs: 1    Using: 1\n",
            "Adding dataset to index...\n",
            "Building index took 0.05 seconds\n"
          ],
          "name": "stdout"
        }
      ]
    },
    {
      "cell_type": "markdown",
      "metadata": {
        "id": "CzDN81GyNqrl"
      },
      "source": [
        "Now let's try taking one of the comments from the dataset, and searching for the most semantically similar comments."
      ]
    },
    {
      "cell_type": "code",
      "metadata": {
        "id": "dea74vcZKgAe",
        "colab": {
          "base_uri": "https://localhost:8080/",
          "height": 454
        },
        "outputId": "6d292541-5293-4c30-99a3-d5d7877067d0"
      },
      "source": [
        "# Comment number 4 is short and sweet.\n",
        "print('==== Input Comment =====')\n",
        "print('Comment #4:')\n",
        "print(wrapper.fill(comments.iloc[4].comment))\n",
        "\n",
        "# Let's find the 5 most similar comments.\n",
        "D, I = gpu_index.search(vecs[4].reshape(1, 768), k=5) \n",
        "\n",
        "print('')\n",
        "print('==== Top 5 Results ====')\n",
        "\n",
        "# For each result...\n",
        "for i in range(I.shape[1]):\n",
        "\n",
        "    # Look up the comment row number for this result.\n",
        "    result_i = I[0, i]\n",
        "\n",
        "    # Look up the text for this comment.\n",
        "    text = comments.iloc[result_i].comment\n",
        "\n",
        "    print('Comment #{:,}:'.format(result_i))\n",
        "    print('L2 Distance: %.2f' % D[0, i])\n",
        "    print(wrapper.fill('\"' + text + '\"'))\n",
        "    print('')\n",
        "\n"
      ],
      "execution_count": null,
      "outputs": [
        {
          "output_type": "stream",
          "text": [
            "==== Input Comment =====\n",
            "Comment #4:\n",
            "    This page will need disambiguation.\n",
            "\n",
            "==== Top 5 Results ====\n",
            "Comment #4:\n",
            "L2 Distance: 0.00\n",
            "    \"This page will need disambiguation. \"\n",
            "\n",
            "Comment #39,578:\n",
            "L2 Distance: 13.38\n",
            "    \"  This page needs to be expand.   \"\n",
            "\n",
            "Comment #48,854:\n",
            "L2 Distance: 14.63\n",
            "    \"This page's history is completely not neutral It needs to be revamped.\"\n",
            "\n",
            "Comment #100,779:\n",
            "L2 Distance: 16.01\n",
            "    \" Description on image page is confusing about this.   \"\n",
            "\n",
            "Comment #31,644:\n",
            "L2 Distance: 16.07\n",
            "    \"   :::: This image is not Orphaned, it WILL be placed back in the article\n",
            "    soon.    \"\n",
            "\n"
          ],
          "name": "stdout"
        }
      ]
    },
    {
      "cell_type": "markdown",
      "metadata": {
        "id": "z_xIiJpePMx-"
      },
      "source": [
        "Using our `text_to_embedding` function, we can also define new text to use as our query. Let's try writing a new sentence that's similar in meaning to comment #4, but uses different language. The word \"disambiguate\" means \"remove uncertainty of meaning from\", so I've written \"The meaning of this page needs to be clarified.\"\n",
        "\n"
      ]
    },
    {
      "cell_type": "code",
      "metadata": {
        "id": "5g4L36oHOF7w",
        "colab": {
          "base_uri": "https://localhost:8080/",
          "height": 386
        },
        "outputId": "4c84c959-31b2-4460-fa10-ce3b044ec7cd"
      },
      "source": [
        "query_text = \"The meaning of this page needs to be clarified.\"\n",
        "\n",
        "# Vectorize a new piece of text.\n",
        "query_vec = text_to_embedding(tokenizer, model, query_text)\n",
        "\n",
        "# Let's find the 5 most similar comments.\n",
        "D, I = gpu_index.search(query_vec.reshape(1, 768), k=5) \n",
        "\n",
        "print('')\n",
        "print('==== Top 5 Results ====')\n",
        "\n",
        "# For each result...\n",
        "for i in range(I.shape[1]):\n",
        "\n",
        "    # Look up the comment row number for this result.\n",
        "    result_i = I[0, i]\n",
        "\n",
        "    # Look up the text for this comment.\n",
        "    text = comments.iloc[result_i].comment\n",
        "\n",
        "    print('Comment #{:,}:'.format(result_i))\n",
        "    print('L2 Distance: %.2f' % D[0, i])\n",
        "    print(wrapper.fill('\"' + text + '\"'))\n",
        "    print('')\n",
        "\n"
      ],
      "execution_count": null,
      "outputs": [
        {
          "output_type": "stream",
          "text": [
            "\n",
            "==== Top 5 Results ====\n",
            "Comment #4:\n",
            "L2 Distance: 12.24\n",
            "    \"This page will need disambiguation. \"\n",
            "\n",
            "Comment #48,854:\n",
            "L2 Distance: 14.91\n",
            "    \"This page's history is completely not neutral It needs to be revamped.\"\n",
            "\n",
            "Comment #39,578:\n",
            "L2 Distance: 15.11\n",
            "    \"  This page needs to be expand.   \"\n",
            "\n",
            "Comment #8,612:\n",
            "L2 Distance: 15.97\n",
            "    \"why can't i edit this page?\"\n",
            "\n",
            "Comment #100,224:\n",
            "L2 Distance: 16.45\n",
            "    \"please add more information on this topic.\"\n",
            "\n"
          ],
          "name": "stdout"
        }
      ]
    },
    {
      "cell_type": "markdown",
      "metadata": {
        "id": "wy_7yycXaRAD"
      },
      "source": [
        "The results look pretty good! \n",
        "\n",
        "Let's try another query, this time with a different intent."
      ]
    },
    {
      "cell_type": "code",
      "metadata": {
        "id": "X6Edlz0iMrVe",
        "colab": {
          "base_uri": "https://localhost:8080/",
          "height": 403
        },
        "outputId": "95deccf3-c251-4294-dceb-2a1327108f09"
      },
      "source": [
        "query_text = \"This article really needs more citations.\"\n",
        "\n",
        "# Vectorize a new piece of text.\n",
        "query_vec = text_to_embedding(tokenizer, model, query_text)\n",
        "\n",
        "# Let's find the 5 most similar comments.\n",
        "D, I = gpu_index.search(query_vec.reshape(1, 768), k=5) \n",
        "\n",
        "print('')\n",
        "print('==== Top 5 Results ====')\n",
        "\n",
        "# For each result...\n",
        "for i in range(I.shape[1]):\n",
        "\n",
        "    # Look up the comment row number for this result.\n",
        "    result_i = I[0, i]\n",
        "\n",
        "    # Look up the text for this comment.\n",
        "    text = comments.iloc[result_i].comment\n",
        "\n",
        "    print('Comment #{:,}:'.format(result_i))\n",
        "    print('L2 Distance: %.2f' % D[0, i])\n",
        "    print(wrapper.fill('\"' + text + '\"'))\n",
        "    print('')\n",
        "\n"
      ],
      "execution_count": null,
      "outputs": [
        {
          "output_type": "stream",
          "text": [
            "\n",
            "==== Top 5 Results ====\n",
            "Comment #88,451:\n",
            "L2 Distance: 16.71\n",
            "    \"  I intend to expand the article so it will be more complete. [  ]\"\n",
            "\n",
            "Comment #18,864:\n",
            "L2 Distance: 17.63\n",
            "    \"  I, of all people, ahouldn't be saying this, but the article needs\n",
            "    citations. \"\n",
            "\n",
            "Comment #18,370:\n",
            "L2 Distance: 17.95\n",
            "    \"This Article created September 16, 2006.  Please EXPAND if possible!   \"\n",
            "\n",
            "Comment #15,196:\n",
            "L2 Distance: 18.28\n",
            "    \"  This article are necessary? \"\n",
            "\n",
            "Comment #102,270:\n",
            "L2 Distance: 18.57\n",
            "    \" ::::No.  The comments are completely relevant to this article.\"\n",
            "\n"
          ],
          "name": "stdout"
        }
      ]
    },
    {
      "cell_type": "markdown",
      "metadata": {
        "id": "YHV9MsPtacUm"
      },
      "source": [
        "Try another query for yourself!\n"
      ]
    },
    {
      "cell_type": "markdown",
      "metadata": {
        "id": "ti_s30nB7QQm"
      },
      "source": [
        "# Change Log"
      ]
    },
    {
      "cell_type": "markdown",
      "metadata": {
        "id": "k6xa8eaR7RWN"
      },
      "source": [
        "**2021-02-02**\n",
        "* Updated all calls to model (fine-tuning and evaluation) to use the `SequenceClassifierOutput` class for return values.\n",
        "* Moved illustration images to Google Drive--Colab appears to no longer support displaying images from external URLs."
      ]
    }
  ]
}
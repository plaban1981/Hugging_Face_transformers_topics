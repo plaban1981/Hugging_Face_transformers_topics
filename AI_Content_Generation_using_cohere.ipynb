{
  "nbformat": 4,
  "nbformat_minor": 0,
  "metadata": {
    "colab": {
      "provenance": [],
      "authorship_tag": "ABX9TyOUz5G4VQ3xzvpTdoMk+KfF",
      "include_colab_link": true
    },
    "kernelspec": {
      "name": "python3",
      "display_name": "Python 3"
    },
    "language_info": {
      "name": "python"
    },
    "accelerator": "GPU",
    "gpuClass": "standard"
  },
  "cells": [
    {
      "cell_type": "markdown",
      "metadata": {
        "id": "view-in-github",
        "colab_type": "text"
      },
      "source": [
        "<a href=\"https://colab.research.google.com/github/plaban1981/Hugging_Face_transformers_topics/blob/main/AI_Content_Generation_using_cohere.ipynb\" target=\"_parent\"><img src=\"https://colab.research.google.com/assets/colab-badge.svg\" alt=\"Open In Colab\"/></a>"
      ]
    },
    {
      "cell_type": "code",
      "execution_count": 1,
      "metadata": {
        "colab": {
          "base_uri": "https://localhost:8080/"
        },
        "id": "uf2jKaUmIOuw",
        "outputId": "d91e9fda-4237-43ef-8dfb-6d8ea9faa36b"
      },
      "outputs": [
        {
          "output_type": "stream",
          "name": "stdout",
          "text": [
            "Looking in indexes: https://pypi.org/simple, https://us-python.pkg.dev/colab-wheels/public/simple/\n",
            "Collecting cohere\n",
            "  Downloading cohere-3.3.2.tar.gz (12 kB)\n",
            "  Preparing metadata (setup.py) ... \u001b[?25l\u001b[?25hdone\n",
            "Requirement already satisfied: requests in /usr/local/lib/python3.8/dist-packages (from cohere) (2.25.1)\n",
            "Collecting urllib3~=1.26\n",
            "  Downloading urllib3-1.26.14-py2.py3-none-any.whl (140 kB)\n",
            "\u001b[2K     \u001b[90m━━━━━━━━━━━━━━━━━━━━━━━━━━━━━━━━━━━━━━━\u001b[0m \u001b[32m140.6/140.6 KB\u001b[0m \u001b[31m8.6 MB/s\u001b[0m eta \u001b[36m0:00:00\u001b[0m\n",
            "\u001b[?25hRequirement already satisfied: idna<3,>=2.5 in /usr/local/lib/python3.8/dist-packages (from requests->cohere) (2.10)\n",
            "Requirement already satisfied: certifi>=2017.4.17 in /usr/local/lib/python3.8/dist-packages (from requests->cohere) (2022.12.7)\n",
            "Requirement already satisfied: chardet<5,>=3.0.2 in /usr/local/lib/python3.8/dist-packages (from requests->cohere) (4.0.0)\n",
            "Building wheels for collected packages: cohere\n",
            "  Building wheel for cohere (setup.py) ... \u001b[?25l\u001b[?25hdone\n",
            "  Created wheel for cohere: filename=cohere-3.3.2-cp38-cp38-linux_x86_64.whl size=15691 sha256=0405cf3f0cfbc3eda3e6242417ec5c3fa8a9bd604241f400b887c01cf15bcc61\n",
            "  Stored in directory: /root/.cache/pip/wheels/b5/e9/5f/3bb45881f18598535b297e45e50bab371e8f4b2078572668c2\n",
            "Successfully built cohere\n",
            "Installing collected packages: urllib3, cohere\n",
            "  Attempting uninstall: urllib3\n",
            "    Found existing installation: urllib3 1.24.3\n",
            "    Uninstalling urllib3-1.24.3:\n",
            "      Successfully uninstalled urllib3-1.24.3\n",
            "Successfully installed cohere-3.3.2 urllib3-1.26.14\n"
          ]
        }
      ],
      "source": [
        "!pip install cohere"
      ]
    },
    {
      "cell_type": "code",
      "source": [
        "import cohere\n",
        "co = cohere.Client('nHgu9HiTRoiJnlEIpUJQxJwcv5zoZMdTq7yymzpw') # This is your trial API key\n",
        "response = co.generate(\n",
        "  model='xlarge',\n",
        "  prompt='Write a LinkedIn post about starting a career in Data Science:',\n",
        "  max_tokens=1024,\n",
        "  temperature=0.9,\n",
        "  k=0,\n",
        "  p=0.75,\n",
        "  frequency_penalty=0,\n",
        "  presence_penalty=0,\n",
        "  stop_sequences=[],\n",
        "  return_likelihoods='NONE')\n",
        "print('Prediction: {}'.format(response.generations[0].text))"
      ],
      "metadata": {
        "colab": {
          "base_uri": "https://localhost:8080/"
        },
        "id": "I8VdRGKduc74",
        "outputId": "039ef0d2-137c-4d67-ad46-37385b6a73da"
      },
      "execution_count": 9,
      "outputs": [
        {
          "output_type": "stream",
          "name": "stdout",
          "text": [
            "Prediction:  talk about why you love the field, the challenges you have overcome, and why you are passionate about your current role.\n",
            "\n",
            "Talk to your colleagues and try to identify some problems you are having with the current data analysis process. Try to find a way to solve these problems.\n",
            "\n",
            "Start thinking about what type of data science project you would like to build, and what the goal of the project would be.\n",
            "\n",
            "Think about what you would do to increase data science adoption within your company. How would you get other teams to understand how data science can help them?\n",
            "\n",
            "Choose an algorithm and explain how it works to someone who doesn't know anything about data science.\n",
            "\n",
            "Share the story of a data science project you worked on and how you overcame challenges you faced while working on it.\n",
            "\n",
            "Send a cold email to someone you have never met, asking them for advice on the best ways to prepare for a data science job.\n",
            "\n",
            "Share your LinkedIn profile on social media and ask for recommendations on the skills you should learn next.\n",
            "\n",
            "Write a LinkedIn post about what you've learned while studying data science. Share what your career goals are and what you plan to do to achieve them.\n",
            "\n",
            "Schedule an informational interview with someone who works at a company you are interested in working for.\n",
            "\n",
            "Build a project you are passionate about. Think about the problems you want to solve, the data you need, and how you plan to use it.\n",
            "\n",
            "Schedule a 1:1 meeting with your manager to talk about the skills you need to develop to get to the next level in your career.\n",
            "\n",
            "Get up early and spend the first hour of your day working on data science. It's the best way to start your day.\n",
            "\n",
            "Make a list of companies you are interested in working for. Look for data scientists who work there and try to find out what skills they have.\n",
            "\n",
            "Build a simple data visualization using your favorite library. It doesn't have to be fancy, just something you can share with others.\n",
            "\n",
            "Send a cold email to someone you admire in data science. Ask them how they got to where they are, what their current projects are, and what advice they have for you.\n",
            "\n",
            "Make a list of people who inspire you and send them an email thanking them for being a part of your journey.\n",
            "\n",
            "Make a list of companies you would like to work for and look at their job descriptions to see what skills they are looking for.\n",
            "\n",
            "Write a LinkedIn post about what you are learning and what your goals are. Share it with your friends and ask them for feedback.\n",
            "\n",
            "Create a Twitter list of data science influencers and check it regularly to see what they are talking about.\n",
            "\n",
            "Send a cold email to someone you have never met, asking them for advice on how to land your first data science job.\n",
            "\n",
            "Send a cold email to someone you have never met, asking them for advice on how to improve your data science skills.\n",
            "\n",
            "Start thinking about the skills you need to land your first data science job. What do you need to know to be successful?\n",
            "\n",
            "Read a book about data science and summarize it in a blog post. You can write about what you learned or share your favorite parts.\n",
            "\n",
            "Make a list of companies you are interested in working for and look at their job descriptions to see what skills they are looking for.\n",
            "\n",
            "Send a cold email to someone you admire in data science. Ask them how they got to where they are, what their current projects are, and what advice they have for you.\n",
            "\n",
            "Build a project you are passionate about. Think about the problems you want to solve, the data you need, and how you plan to use it.\n",
            "\n",
            "Schedule a 1:1 meeting with your manager to talk about the skills you need to develop to get to the next level in your career.\n",
            "\n",
            "If you have a LinkedIn account, add the data science skills section to your profile and fill it out.\n",
            "\n",
            "If you have a GitHub account, start a data science project and post it there. Make sure to add some documentation so others can learn from it.\n",
            "\n",
            "Create a LinkedIn post about what you are learning and what your goals are. Share it with your friends and ask them for feedback.\n",
            "\n",
            "Create a blog post about your favorite data science project and share it on social media. Ask your friends for feedback and suggestions on how to improve it.\n",
            "\n",
            "Create a Twitter list of data science influencers and check it regularly to see what they are talking about.\n",
            "\n",
            "Schedule a 1:1 meeting with your manager to talk about the skills you need to develop to get to the next level in your career.\n",
            "\n",
            "If you have a LinkedIn account, add the data science skills section to your profile and fill it out.\n",
            "\n",
            "Send a cold email to someone you admire in data science. Ask them how they got to where they are, what their current projects are, and what advice they have for you\n"
          ]
        }
      ]
    },
    {
      "cell_type": "code",
      "source": [],
      "metadata": {
        "id": "GF4dVR5GwXyb"
      },
      "execution_count": null,
      "outputs": []
    }
  ]
}
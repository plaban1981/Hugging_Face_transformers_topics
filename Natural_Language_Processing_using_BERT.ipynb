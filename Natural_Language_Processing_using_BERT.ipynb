{
  "nbformat": 4,
  "nbformat_minor": 0,
  "metadata": {
    "colab": {
      "provenance": [],
      "machine_shape": "hm",
      "authorship_tag": "ABX9TyPzlPxx77io9EOt/cl38gBU",
      "include_colab_link": true
    },
    "kernelspec": {
      "name": "python3",
      "display_name": "Python 3"
    },
    "language_info": {
      "name": "python"
    },
    "gpuClass": "standard",
    "widgets": {
      "application/vnd.jupyter.widget-state+json": {
        "a76d37d35d06481fbb30064b20e15847": {
          "model_module": "@jupyter-widgets/controls",
          "model_name": "HBoxModel",
          "model_module_version": "1.5.0",
          "state": {
            "_dom_classes": [],
            "_model_module": "@jupyter-widgets/controls",
            "_model_module_version": "1.5.0",
            "_model_name": "HBoxModel",
            "_view_count": null,
            "_view_module": "@jupyter-widgets/controls",
            "_view_module_version": "1.5.0",
            "_view_name": "HBoxView",
            "box_style": "",
            "children": [
              "IPY_MODEL_75b03d85f6c64f8ebe53a0ec16a3100f",
              "IPY_MODEL_4682d8d5356c437487065b0c5000e82f",
              "IPY_MODEL_910dfc66f5a641a7b6701fafce340018"
            ],
            "layout": "IPY_MODEL_f4827f76e57845a7869a4108df003974"
          }
        },
        "75b03d85f6c64f8ebe53a0ec16a3100f": {
          "model_module": "@jupyter-widgets/controls",
          "model_name": "HTMLModel",
          "model_module_version": "1.5.0",
          "state": {
            "_dom_classes": [],
            "_model_module": "@jupyter-widgets/controls",
            "_model_module_version": "1.5.0",
            "_model_name": "HTMLModel",
            "_view_count": null,
            "_view_module": "@jupyter-widgets/controls",
            "_view_module_version": "1.5.0",
            "_view_name": "HTMLView",
            "description": "",
            "description_tooltip": null,
            "layout": "IPY_MODEL_029c5ebc29774144b633a8da2bf63bfb",
            "placeholder": "​",
            "style": "IPY_MODEL_c744ca4d9c684f3a8c917f0b672a56c4",
            "value": "Downloading: 100%"
          }
        },
        "4682d8d5356c437487065b0c5000e82f": {
          "model_module": "@jupyter-widgets/controls",
          "model_name": "FloatProgressModel",
          "model_module_version": "1.5.0",
          "state": {
            "_dom_classes": [],
            "_model_module": "@jupyter-widgets/controls",
            "_model_module_version": "1.5.0",
            "_model_name": "FloatProgressModel",
            "_view_count": null,
            "_view_module": "@jupyter-widgets/controls",
            "_view_module_version": "1.5.0",
            "_view_name": "ProgressView",
            "bar_style": "success",
            "description": "",
            "description_tooltip": null,
            "layout": "IPY_MODEL_1360a698bd684c159aacccc5e96b3f80",
            "max": 231508,
            "min": 0,
            "orientation": "horizontal",
            "style": "IPY_MODEL_a58872e47c5845ff8d09aa4a21167a12",
            "value": 231508
          }
        },
        "910dfc66f5a641a7b6701fafce340018": {
          "model_module": "@jupyter-widgets/controls",
          "model_name": "HTMLModel",
          "model_module_version": "1.5.0",
          "state": {
            "_dom_classes": [],
            "_model_module": "@jupyter-widgets/controls",
            "_model_module_version": "1.5.0",
            "_model_name": "HTMLModel",
            "_view_count": null,
            "_view_module": "@jupyter-widgets/controls",
            "_view_module_version": "1.5.0",
            "_view_name": "HTMLView",
            "description": "",
            "description_tooltip": null,
            "layout": "IPY_MODEL_23fd88f322cc4019b334025aed121213",
            "placeholder": "​",
            "style": "IPY_MODEL_e89047bc50a844e5b826284d2cad5082",
            "value": " 232k/232k [00:00&lt;00:00, 616kB/s]"
          }
        },
        "f4827f76e57845a7869a4108df003974": {
          "model_module": "@jupyter-widgets/base",
          "model_name": "LayoutModel",
          "model_module_version": "1.2.0",
          "state": {
            "_model_module": "@jupyter-widgets/base",
            "_model_module_version": "1.2.0",
            "_model_name": "LayoutModel",
            "_view_count": null,
            "_view_module": "@jupyter-widgets/base",
            "_view_module_version": "1.2.0",
            "_view_name": "LayoutView",
            "align_content": null,
            "align_items": null,
            "align_self": null,
            "border": null,
            "bottom": null,
            "display": null,
            "flex": null,
            "flex_flow": null,
            "grid_area": null,
            "grid_auto_columns": null,
            "grid_auto_flow": null,
            "grid_auto_rows": null,
            "grid_column": null,
            "grid_gap": null,
            "grid_row": null,
            "grid_template_areas": null,
            "grid_template_columns": null,
            "grid_template_rows": null,
            "height": null,
            "justify_content": null,
            "justify_items": null,
            "left": null,
            "margin": null,
            "max_height": null,
            "max_width": null,
            "min_height": null,
            "min_width": null,
            "object_fit": null,
            "object_position": null,
            "order": null,
            "overflow": null,
            "overflow_x": null,
            "overflow_y": null,
            "padding": null,
            "right": null,
            "top": null,
            "visibility": null,
            "width": null
          }
        },
        "029c5ebc29774144b633a8da2bf63bfb": {
          "model_module": "@jupyter-widgets/base",
          "model_name": "LayoutModel",
          "model_module_version": "1.2.0",
          "state": {
            "_model_module": "@jupyter-widgets/base",
            "_model_module_version": "1.2.0",
            "_model_name": "LayoutModel",
            "_view_count": null,
            "_view_module": "@jupyter-widgets/base",
            "_view_module_version": "1.2.0",
            "_view_name": "LayoutView",
            "align_content": null,
            "align_items": null,
            "align_self": null,
            "border": null,
            "bottom": null,
            "display": null,
            "flex": null,
            "flex_flow": null,
            "grid_area": null,
            "grid_auto_columns": null,
            "grid_auto_flow": null,
            "grid_auto_rows": null,
            "grid_column": null,
            "grid_gap": null,
            "grid_row": null,
            "grid_template_areas": null,
            "grid_template_columns": null,
            "grid_template_rows": null,
            "height": null,
            "justify_content": null,
            "justify_items": null,
            "left": null,
            "margin": null,
            "max_height": null,
            "max_width": null,
            "min_height": null,
            "min_width": null,
            "object_fit": null,
            "object_position": null,
            "order": null,
            "overflow": null,
            "overflow_x": null,
            "overflow_y": null,
            "padding": null,
            "right": null,
            "top": null,
            "visibility": null,
            "width": null
          }
        },
        "c744ca4d9c684f3a8c917f0b672a56c4": {
          "model_module": "@jupyter-widgets/controls",
          "model_name": "DescriptionStyleModel",
          "model_module_version": "1.5.0",
          "state": {
            "_model_module": "@jupyter-widgets/controls",
            "_model_module_version": "1.5.0",
            "_model_name": "DescriptionStyleModel",
            "_view_count": null,
            "_view_module": "@jupyter-widgets/base",
            "_view_module_version": "1.2.0",
            "_view_name": "StyleView",
            "description_width": ""
          }
        },
        "1360a698bd684c159aacccc5e96b3f80": {
          "model_module": "@jupyter-widgets/base",
          "model_name": "LayoutModel",
          "model_module_version": "1.2.0",
          "state": {
            "_model_module": "@jupyter-widgets/base",
            "_model_module_version": "1.2.0",
            "_model_name": "LayoutModel",
            "_view_count": null,
            "_view_module": "@jupyter-widgets/base",
            "_view_module_version": "1.2.0",
            "_view_name": "LayoutView",
            "align_content": null,
            "align_items": null,
            "align_self": null,
            "border": null,
            "bottom": null,
            "display": null,
            "flex": null,
            "flex_flow": null,
            "grid_area": null,
            "grid_auto_columns": null,
            "grid_auto_flow": null,
            "grid_auto_rows": null,
            "grid_column": null,
            "grid_gap": null,
            "grid_row": null,
            "grid_template_areas": null,
            "grid_template_columns": null,
            "grid_template_rows": null,
            "height": null,
            "justify_content": null,
            "justify_items": null,
            "left": null,
            "margin": null,
            "max_height": null,
            "max_width": null,
            "min_height": null,
            "min_width": null,
            "object_fit": null,
            "object_position": null,
            "order": null,
            "overflow": null,
            "overflow_x": null,
            "overflow_y": null,
            "padding": null,
            "right": null,
            "top": null,
            "visibility": null,
            "width": null
          }
        },
        "a58872e47c5845ff8d09aa4a21167a12": {
          "model_module": "@jupyter-widgets/controls",
          "model_name": "ProgressStyleModel",
          "model_module_version": "1.5.0",
          "state": {
            "_model_module": "@jupyter-widgets/controls",
            "_model_module_version": "1.5.0",
            "_model_name": "ProgressStyleModel",
            "_view_count": null,
            "_view_module": "@jupyter-widgets/base",
            "_view_module_version": "1.2.0",
            "_view_name": "StyleView",
            "bar_color": null,
            "description_width": ""
          }
        },
        "23fd88f322cc4019b334025aed121213": {
          "model_module": "@jupyter-widgets/base",
          "model_name": "LayoutModel",
          "model_module_version": "1.2.0",
          "state": {
            "_model_module": "@jupyter-widgets/base",
            "_model_module_version": "1.2.0",
            "_model_name": "LayoutModel",
            "_view_count": null,
            "_view_module": "@jupyter-widgets/base",
            "_view_module_version": "1.2.0",
            "_view_name": "LayoutView",
            "align_content": null,
            "align_items": null,
            "align_self": null,
            "border": null,
            "bottom": null,
            "display": null,
            "flex": null,
            "flex_flow": null,
            "grid_area": null,
            "grid_auto_columns": null,
            "grid_auto_flow": null,
            "grid_auto_rows": null,
            "grid_column": null,
            "grid_gap": null,
            "grid_row": null,
            "grid_template_areas": null,
            "grid_template_columns": null,
            "grid_template_rows": null,
            "height": null,
            "justify_content": null,
            "justify_items": null,
            "left": null,
            "margin": null,
            "max_height": null,
            "max_width": null,
            "min_height": null,
            "min_width": null,
            "object_fit": null,
            "object_position": null,
            "order": null,
            "overflow": null,
            "overflow_x": null,
            "overflow_y": null,
            "padding": null,
            "right": null,
            "top": null,
            "visibility": null,
            "width": null
          }
        },
        "e89047bc50a844e5b826284d2cad5082": {
          "model_module": "@jupyter-widgets/controls",
          "model_name": "DescriptionStyleModel",
          "model_module_version": "1.5.0",
          "state": {
            "_model_module": "@jupyter-widgets/controls",
            "_model_module_version": "1.5.0",
            "_model_name": "DescriptionStyleModel",
            "_view_count": null,
            "_view_module": "@jupyter-widgets/base",
            "_view_module_version": "1.2.0",
            "_view_name": "StyleView",
            "description_width": ""
          }
        },
        "685d1e330c9143ac8ceda1aa2ad79cc7": {
          "model_module": "@jupyter-widgets/controls",
          "model_name": "HBoxModel",
          "model_module_version": "1.5.0",
          "state": {
            "_dom_classes": [],
            "_model_module": "@jupyter-widgets/controls",
            "_model_module_version": "1.5.0",
            "_model_name": "HBoxModel",
            "_view_count": null,
            "_view_module": "@jupyter-widgets/controls",
            "_view_module_version": "1.5.0",
            "_view_name": "HBoxView",
            "box_style": "",
            "children": [
              "IPY_MODEL_24c5dda4285f4b7aa9805c18c9ec6bda",
              "IPY_MODEL_154d3a27b42f4ad5a3afb102bf6bdb63",
              "IPY_MODEL_e2aba05e09174e4a9dee433611a63fbd"
            ],
            "layout": "IPY_MODEL_84175c87cb8f4d6dba88cb9ebc0e3c96"
          }
        },
        "24c5dda4285f4b7aa9805c18c9ec6bda": {
          "model_module": "@jupyter-widgets/controls",
          "model_name": "HTMLModel",
          "model_module_version": "1.5.0",
          "state": {
            "_dom_classes": [],
            "_model_module": "@jupyter-widgets/controls",
            "_model_module_version": "1.5.0",
            "_model_name": "HTMLModel",
            "_view_count": null,
            "_view_module": "@jupyter-widgets/controls",
            "_view_module_version": "1.5.0",
            "_view_name": "HTMLView",
            "description": "",
            "description_tooltip": null,
            "layout": "IPY_MODEL_6e18520d523042f1a64eace0b6408878",
            "placeholder": "​",
            "style": "IPY_MODEL_9513c9e753ac4f09979755596894725f",
            "value": "Downloading: 100%"
          }
        },
        "154d3a27b42f4ad5a3afb102bf6bdb63": {
          "model_module": "@jupyter-widgets/controls",
          "model_name": "FloatProgressModel",
          "model_module_version": "1.5.0",
          "state": {
            "_dom_classes": [],
            "_model_module": "@jupyter-widgets/controls",
            "_model_module_version": "1.5.0",
            "_model_name": "FloatProgressModel",
            "_view_count": null,
            "_view_module": "@jupyter-widgets/controls",
            "_view_module_version": "1.5.0",
            "_view_name": "ProgressView",
            "bar_style": "success",
            "description": "",
            "description_tooltip": null,
            "layout": "IPY_MODEL_541566cf9fc145ffa338d4f316de053d",
            "max": 28,
            "min": 0,
            "orientation": "horizontal",
            "style": "IPY_MODEL_0c316c0d49f7452d9c91a1c81390b76e",
            "value": 28
          }
        },
        "e2aba05e09174e4a9dee433611a63fbd": {
          "model_module": "@jupyter-widgets/controls",
          "model_name": "HTMLModel",
          "model_module_version": "1.5.0",
          "state": {
            "_dom_classes": [],
            "_model_module": "@jupyter-widgets/controls",
            "_model_module_version": "1.5.0",
            "_model_name": "HTMLModel",
            "_view_count": null,
            "_view_module": "@jupyter-widgets/controls",
            "_view_module_version": "1.5.0",
            "_view_name": "HTMLView",
            "description": "",
            "description_tooltip": null,
            "layout": "IPY_MODEL_6b0a181ff18b49d7b0d9409bce3c567d",
            "placeholder": "​",
            "style": "IPY_MODEL_a92aca5996494679a54921663f548565",
            "value": " 28.0/28.0 [00:00&lt;00:00, 965B/s]"
          }
        },
        "84175c87cb8f4d6dba88cb9ebc0e3c96": {
          "model_module": "@jupyter-widgets/base",
          "model_name": "LayoutModel",
          "model_module_version": "1.2.0",
          "state": {
            "_model_module": "@jupyter-widgets/base",
            "_model_module_version": "1.2.0",
            "_model_name": "LayoutModel",
            "_view_count": null,
            "_view_module": "@jupyter-widgets/base",
            "_view_module_version": "1.2.0",
            "_view_name": "LayoutView",
            "align_content": null,
            "align_items": null,
            "align_self": null,
            "border": null,
            "bottom": null,
            "display": null,
            "flex": null,
            "flex_flow": null,
            "grid_area": null,
            "grid_auto_columns": null,
            "grid_auto_flow": null,
            "grid_auto_rows": null,
            "grid_column": null,
            "grid_gap": null,
            "grid_row": null,
            "grid_template_areas": null,
            "grid_template_columns": null,
            "grid_template_rows": null,
            "height": null,
            "justify_content": null,
            "justify_items": null,
            "left": null,
            "margin": null,
            "max_height": null,
            "max_width": null,
            "min_height": null,
            "min_width": null,
            "object_fit": null,
            "object_position": null,
            "order": null,
            "overflow": null,
            "overflow_x": null,
            "overflow_y": null,
            "padding": null,
            "right": null,
            "top": null,
            "visibility": null,
            "width": null
          }
        },
        "6e18520d523042f1a64eace0b6408878": {
          "model_module": "@jupyter-widgets/base",
          "model_name": "LayoutModel",
          "model_module_version": "1.2.0",
          "state": {
            "_model_module": "@jupyter-widgets/base",
            "_model_module_version": "1.2.0",
            "_model_name": "LayoutModel",
            "_view_count": null,
            "_view_module": "@jupyter-widgets/base",
            "_view_module_version": "1.2.0",
            "_view_name": "LayoutView",
            "align_content": null,
            "align_items": null,
            "align_self": null,
            "border": null,
            "bottom": null,
            "display": null,
            "flex": null,
            "flex_flow": null,
            "grid_area": null,
            "grid_auto_columns": null,
            "grid_auto_flow": null,
            "grid_auto_rows": null,
            "grid_column": null,
            "grid_gap": null,
            "grid_row": null,
            "grid_template_areas": null,
            "grid_template_columns": null,
            "grid_template_rows": null,
            "height": null,
            "justify_content": null,
            "justify_items": null,
            "left": null,
            "margin": null,
            "max_height": null,
            "max_width": null,
            "min_height": null,
            "min_width": null,
            "object_fit": null,
            "object_position": null,
            "order": null,
            "overflow": null,
            "overflow_x": null,
            "overflow_y": null,
            "padding": null,
            "right": null,
            "top": null,
            "visibility": null,
            "width": null
          }
        },
        "9513c9e753ac4f09979755596894725f": {
          "model_module": "@jupyter-widgets/controls",
          "model_name": "DescriptionStyleModel",
          "model_module_version": "1.5.0",
          "state": {
            "_model_module": "@jupyter-widgets/controls",
            "_model_module_version": "1.5.0",
            "_model_name": "DescriptionStyleModel",
            "_view_count": null,
            "_view_module": "@jupyter-widgets/base",
            "_view_module_version": "1.2.0",
            "_view_name": "StyleView",
            "description_width": ""
          }
        },
        "541566cf9fc145ffa338d4f316de053d": {
          "model_module": "@jupyter-widgets/base",
          "model_name": "LayoutModel",
          "model_module_version": "1.2.0",
          "state": {
            "_model_module": "@jupyter-widgets/base",
            "_model_module_version": "1.2.0",
            "_model_name": "LayoutModel",
            "_view_count": null,
            "_view_module": "@jupyter-widgets/base",
            "_view_module_version": "1.2.0",
            "_view_name": "LayoutView",
            "align_content": null,
            "align_items": null,
            "align_self": null,
            "border": null,
            "bottom": null,
            "display": null,
            "flex": null,
            "flex_flow": null,
            "grid_area": null,
            "grid_auto_columns": null,
            "grid_auto_flow": null,
            "grid_auto_rows": null,
            "grid_column": null,
            "grid_gap": null,
            "grid_row": null,
            "grid_template_areas": null,
            "grid_template_columns": null,
            "grid_template_rows": null,
            "height": null,
            "justify_content": null,
            "justify_items": null,
            "left": null,
            "margin": null,
            "max_height": null,
            "max_width": null,
            "min_height": null,
            "min_width": null,
            "object_fit": null,
            "object_position": null,
            "order": null,
            "overflow": null,
            "overflow_x": null,
            "overflow_y": null,
            "padding": null,
            "right": null,
            "top": null,
            "visibility": null,
            "width": null
          }
        },
        "0c316c0d49f7452d9c91a1c81390b76e": {
          "model_module": "@jupyter-widgets/controls",
          "model_name": "ProgressStyleModel",
          "model_module_version": "1.5.0",
          "state": {
            "_model_module": "@jupyter-widgets/controls",
            "_model_module_version": "1.5.0",
            "_model_name": "ProgressStyleModel",
            "_view_count": null,
            "_view_module": "@jupyter-widgets/base",
            "_view_module_version": "1.2.0",
            "_view_name": "StyleView",
            "bar_color": null,
            "description_width": ""
          }
        },
        "6b0a181ff18b49d7b0d9409bce3c567d": {
          "model_module": "@jupyter-widgets/base",
          "model_name": "LayoutModel",
          "model_module_version": "1.2.0",
          "state": {
            "_model_module": "@jupyter-widgets/base",
            "_model_module_version": "1.2.0",
            "_model_name": "LayoutModel",
            "_view_count": null,
            "_view_module": "@jupyter-widgets/base",
            "_view_module_version": "1.2.0",
            "_view_name": "LayoutView",
            "align_content": null,
            "align_items": null,
            "align_self": null,
            "border": null,
            "bottom": null,
            "display": null,
            "flex": null,
            "flex_flow": null,
            "grid_area": null,
            "grid_auto_columns": null,
            "grid_auto_flow": null,
            "grid_auto_rows": null,
            "grid_column": null,
            "grid_gap": null,
            "grid_row": null,
            "grid_template_areas": null,
            "grid_template_columns": null,
            "grid_template_rows": null,
            "height": null,
            "justify_content": null,
            "justify_items": null,
            "left": null,
            "margin": null,
            "max_height": null,
            "max_width": null,
            "min_height": null,
            "min_width": null,
            "object_fit": null,
            "object_position": null,
            "order": null,
            "overflow": null,
            "overflow_x": null,
            "overflow_y": null,
            "padding": null,
            "right": null,
            "top": null,
            "visibility": null,
            "width": null
          }
        },
        "a92aca5996494679a54921663f548565": {
          "model_module": "@jupyter-widgets/controls",
          "model_name": "DescriptionStyleModel",
          "model_module_version": "1.5.0",
          "state": {
            "_model_module": "@jupyter-widgets/controls",
            "_model_module_version": "1.5.0",
            "_model_name": "DescriptionStyleModel",
            "_view_count": null,
            "_view_module": "@jupyter-widgets/base",
            "_view_module_version": "1.2.0",
            "_view_name": "StyleView",
            "description_width": ""
          }
        },
        "83cb22ab12e24f72aeabe38b97b48f48": {
          "model_module": "@jupyter-widgets/controls",
          "model_name": "HBoxModel",
          "model_module_version": "1.5.0",
          "state": {
            "_dom_classes": [],
            "_model_module": "@jupyter-widgets/controls",
            "_model_module_version": "1.5.0",
            "_model_name": "HBoxModel",
            "_view_count": null,
            "_view_module": "@jupyter-widgets/controls",
            "_view_module_version": "1.5.0",
            "_view_name": "HBoxView",
            "box_style": "",
            "children": [
              "IPY_MODEL_b14e0b52c8ff4bc9ba21bf49731ad380",
              "IPY_MODEL_dfa4a3547f7e46cba2491b2278ddcbc1",
              "IPY_MODEL_7c8ce1ac087b402fb5014eb1f0f7e6ae"
            ],
            "layout": "IPY_MODEL_b3c8fb690da349ff9e320a0817922b54"
          }
        },
        "b14e0b52c8ff4bc9ba21bf49731ad380": {
          "model_module": "@jupyter-widgets/controls",
          "model_name": "HTMLModel",
          "model_module_version": "1.5.0",
          "state": {
            "_dom_classes": [],
            "_model_module": "@jupyter-widgets/controls",
            "_model_module_version": "1.5.0",
            "_model_name": "HTMLModel",
            "_view_count": null,
            "_view_module": "@jupyter-widgets/controls",
            "_view_module_version": "1.5.0",
            "_view_name": "HTMLView",
            "description": "",
            "description_tooltip": null,
            "layout": "IPY_MODEL_ec3e59b074b14445b8425a2afa538feb",
            "placeholder": "​",
            "style": "IPY_MODEL_e2429914f67f48208b010da5476e53ba",
            "value": "Downloading: 100%"
          }
        },
        "dfa4a3547f7e46cba2491b2278ddcbc1": {
          "model_module": "@jupyter-widgets/controls",
          "model_name": "FloatProgressModel",
          "model_module_version": "1.5.0",
          "state": {
            "_dom_classes": [],
            "_model_module": "@jupyter-widgets/controls",
            "_model_module_version": "1.5.0",
            "_model_name": "FloatProgressModel",
            "_view_count": null,
            "_view_module": "@jupyter-widgets/controls",
            "_view_module_version": "1.5.0",
            "_view_name": "ProgressView",
            "bar_style": "success",
            "description": "",
            "description_tooltip": null,
            "layout": "IPY_MODEL_59c8ec11cc1c47c2a24c29165cbdf6ec",
            "max": 570,
            "min": 0,
            "orientation": "horizontal",
            "style": "IPY_MODEL_1ab5f4b36ce44a139940cb578c7cd914",
            "value": 570
          }
        },
        "7c8ce1ac087b402fb5014eb1f0f7e6ae": {
          "model_module": "@jupyter-widgets/controls",
          "model_name": "HTMLModel",
          "model_module_version": "1.5.0",
          "state": {
            "_dom_classes": [],
            "_model_module": "@jupyter-widgets/controls",
            "_model_module_version": "1.5.0",
            "_model_name": "HTMLModel",
            "_view_count": null,
            "_view_module": "@jupyter-widgets/controls",
            "_view_module_version": "1.5.0",
            "_view_name": "HTMLView",
            "description": "",
            "description_tooltip": null,
            "layout": "IPY_MODEL_7a91772d7b4b4e079d7bf5f3c12ecbb7",
            "placeholder": "​",
            "style": "IPY_MODEL_e59fcb13defc47edb063da17ccfe28f4",
            "value": " 570/570 [00:00&lt;00:00, 16.3kB/s]"
          }
        },
        "b3c8fb690da349ff9e320a0817922b54": {
          "model_module": "@jupyter-widgets/base",
          "model_name": "LayoutModel",
          "model_module_version": "1.2.0",
          "state": {
            "_model_module": "@jupyter-widgets/base",
            "_model_module_version": "1.2.0",
            "_model_name": "LayoutModel",
            "_view_count": null,
            "_view_module": "@jupyter-widgets/base",
            "_view_module_version": "1.2.0",
            "_view_name": "LayoutView",
            "align_content": null,
            "align_items": null,
            "align_self": null,
            "border": null,
            "bottom": null,
            "display": null,
            "flex": null,
            "flex_flow": null,
            "grid_area": null,
            "grid_auto_columns": null,
            "grid_auto_flow": null,
            "grid_auto_rows": null,
            "grid_column": null,
            "grid_gap": null,
            "grid_row": null,
            "grid_template_areas": null,
            "grid_template_columns": null,
            "grid_template_rows": null,
            "height": null,
            "justify_content": null,
            "justify_items": null,
            "left": null,
            "margin": null,
            "max_height": null,
            "max_width": null,
            "min_height": null,
            "min_width": null,
            "object_fit": null,
            "object_position": null,
            "order": null,
            "overflow": null,
            "overflow_x": null,
            "overflow_y": null,
            "padding": null,
            "right": null,
            "top": null,
            "visibility": null,
            "width": null
          }
        },
        "ec3e59b074b14445b8425a2afa538feb": {
          "model_module": "@jupyter-widgets/base",
          "model_name": "LayoutModel",
          "model_module_version": "1.2.0",
          "state": {
            "_model_module": "@jupyter-widgets/base",
            "_model_module_version": "1.2.0",
            "_model_name": "LayoutModel",
            "_view_count": null,
            "_view_module": "@jupyter-widgets/base",
            "_view_module_version": "1.2.0",
            "_view_name": "LayoutView",
            "align_content": null,
            "align_items": null,
            "align_self": null,
            "border": null,
            "bottom": null,
            "display": null,
            "flex": null,
            "flex_flow": null,
            "grid_area": null,
            "grid_auto_columns": null,
            "grid_auto_flow": null,
            "grid_auto_rows": null,
            "grid_column": null,
            "grid_gap": null,
            "grid_row": null,
            "grid_template_areas": null,
            "grid_template_columns": null,
            "grid_template_rows": null,
            "height": null,
            "justify_content": null,
            "justify_items": null,
            "left": null,
            "margin": null,
            "max_height": null,
            "max_width": null,
            "min_height": null,
            "min_width": null,
            "object_fit": null,
            "object_position": null,
            "order": null,
            "overflow": null,
            "overflow_x": null,
            "overflow_y": null,
            "padding": null,
            "right": null,
            "top": null,
            "visibility": null,
            "width": null
          }
        },
        "e2429914f67f48208b010da5476e53ba": {
          "model_module": "@jupyter-widgets/controls",
          "model_name": "DescriptionStyleModel",
          "model_module_version": "1.5.0",
          "state": {
            "_model_module": "@jupyter-widgets/controls",
            "_model_module_version": "1.5.0",
            "_model_name": "DescriptionStyleModel",
            "_view_count": null,
            "_view_module": "@jupyter-widgets/base",
            "_view_module_version": "1.2.0",
            "_view_name": "StyleView",
            "description_width": ""
          }
        },
        "59c8ec11cc1c47c2a24c29165cbdf6ec": {
          "model_module": "@jupyter-widgets/base",
          "model_name": "LayoutModel",
          "model_module_version": "1.2.0",
          "state": {
            "_model_module": "@jupyter-widgets/base",
            "_model_module_version": "1.2.0",
            "_model_name": "LayoutModel",
            "_view_count": null,
            "_view_module": "@jupyter-widgets/base",
            "_view_module_version": "1.2.0",
            "_view_name": "LayoutView",
            "align_content": null,
            "align_items": null,
            "align_self": null,
            "border": null,
            "bottom": null,
            "display": null,
            "flex": null,
            "flex_flow": null,
            "grid_area": null,
            "grid_auto_columns": null,
            "grid_auto_flow": null,
            "grid_auto_rows": null,
            "grid_column": null,
            "grid_gap": null,
            "grid_row": null,
            "grid_template_areas": null,
            "grid_template_columns": null,
            "grid_template_rows": null,
            "height": null,
            "justify_content": null,
            "justify_items": null,
            "left": null,
            "margin": null,
            "max_height": null,
            "max_width": null,
            "min_height": null,
            "min_width": null,
            "object_fit": null,
            "object_position": null,
            "order": null,
            "overflow": null,
            "overflow_x": null,
            "overflow_y": null,
            "padding": null,
            "right": null,
            "top": null,
            "visibility": null,
            "width": null
          }
        },
        "1ab5f4b36ce44a139940cb578c7cd914": {
          "model_module": "@jupyter-widgets/controls",
          "model_name": "ProgressStyleModel",
          "model_module_version": "1.5.0",
          "state": {
            "_model_module": "@jupyter-widgets/controls",
            "_model_module_version": "1.5.0",
            "_model_name": "ProgressStyleModel",
            "_view_count": null,
            "_view_module": "@jupyter-widgets/base",
            "_view_module_version": "1.2.0",
            "_view_name": "StyleView",
            "bar_color": null,
            "description_width": ""
          }
        },
        "7a91772d7b4b4e079d7bf5f3c12ecbb7": {
          "model_module": "@jupyter-widgets/base",
          "model_name": "LayoutModel",
          "model_module_version": "1.2.0",
          "state": {
            "_model_module": "@jupyter-widgets/base",
            "_model_module_version": "1.2.0",
            "_model_name": "LayoutModel",
            "_view_count": null,
            "_view_module": "@jupyter-widgets/base",
            "_view_module_version": "1.2.0",
            "_view_name": "LayoutView",
            "align_content": null,
            "align_items": null,
            "align_self": null,
            "border": null,
            "bottom": null,
            "display": null,
            "flex": null,
            "flex_flow": null,
            "grid_area": null,
            "grid_auto_columns": null,
            "grid_auto_flow": null,
            "grid_auto_rows": null,
            "grid_column": null,
            "grid_gap": null,
            "grid_row": null,
            "grid_template_areas": null,
            "grid_template_columns": null,
            "grid_template_rows": null,
            "height": null,
            "justify_content": null,
            "justify_items": null,
            "left": null,
            "margin": null,
            "max_height": null,
            "max_width": null,
            "min_height": null,
            "min_width": null,
            "object_fit": null,
            "object_position": null,
            "order": null,
            "overflow": null,
            "overflow_x": null,
            "overflow_y": null,
            "padding": null,
            "right": null,
            "top": null,
            "visibility": null,
            "width": null
          }
        },
        "e59fcb13defc47edb063da17ccfe28f4": {
          "model_module": "@jupyter-widgets/controls",
          "model_name": "DescriptionStyleModel",
          "model_module_version": "1.5.0",
          "state": {
            "_model_module": "@jupyter-widgets/controls",
            "_model_module_version": "1.5.0",
            "_model_name": "DescriptionStyleModel",
            "_view_count": null,
            "_view_module": "@jupyter-widgets/base",
            "_view_module_version": "1.2.0",
            "_view_name": "StyleView",
            "description_width": ""
          }
        },
        "e012ebaddb3f4ec58423053cc7e0abc1": {
          "model_module": "@jupyter-widgets/controls",
          "model_name": "HBoxModel",
          "model_module_version": "1.5.0",
          "state": {
            "_dom_classes": [],
            "_model_module": "@jupyter-widgets/controls",
            "_model_module_version": "1.5.0",
            "_model_name": "HBoxModel",
            "_view_count": null,
            "_view_module": "@jupyter-widgets/controls",
            "_view_module_version": "1.5.0",
            "_view_name": "HBoxView",
            "box_style": "",
            "children": [
              "IPY_MODEL_6f43a117f2d1449687b67cbe89b5d013",
              "IPY_MODEL_0e81b7960b3344609b3c4c95e049567c",
              "IPY_MODEL_92671c5644b841139cd15196d11e9de7"
            ],
            "layout": "IPY_MODEL_a19f752314aa4691ab42ae1976225e99"
          }
        },
        "6f43a117f2d1449687b67cbe89b5d013": {
          "model_module": "@jupyter-widgets/controls",
          "model_name": "HTMLModel",
          "model_module_version": "1.5.0",
          "state": {
            "_dom_classes": [],
            "_model_module": "@jupyter-widgets/controls",
            "_model_module_version": "1.5.0",
            "_model_name": "HTMLModel",
            "_view_count": null,
            "_view_module": "@jupyter-widgets/controls",
            "_view_module_version": "1.5.0",
            "_view_name": "HTMLView",
            "description": "",
            "description_tooltip": null,
            "layout": "IPY_MODEL_f67fb22209934ce38e05a484785bd9ea",
            "placeholder": "​",
            "style": "IPY_MODEL_d2ab0dcf6ef94b609e37343f3560da9b",
            "value": "Downloading: 100%"
          }
        },
        "0e81b7960b3344609b3c4c95e049567c": {
          "model_module": "@jupyter-widgets/controls",
          "model_name": "FloatProgressModel",
          "model_module_version": "1.5.0",
          "state": {
            "_dom_classes": [],
            "_model_module": "@jupyter-widgets/controls",
            "_model_module_version": "1.5.0",
            "_model_name": "FloatProgressModel",
            "_view_count": null,
            "_view_module": "@jupyter-widgets/controls",
            "_view_module_version": "1.5.0",
            "_view_name": "ProgressView",
            "bar_style": "success",
            "description": "",
            "description_tooltip": null,
            "layout": "IPY_MODEL_ccbaa560fd124368b56d77e9662a8c9f",
            "max": 440473133,
            "min": 0,
            "orientation": "horizontal",
            "style": "IPY_MODEL_8ba2ef086101459ba7a1f63e6b722c2c",
            "value": 440473133
          }
        },
        "92671c5644b841139cd15196d11e9de7": {
          "model_module": "@jupyter-widgets/controls",
          "model_name": "HTMLModel",
          "model_module_version": "1.5.0",
          "state": {
            "_dom_classes": [],
            "_model_module": "@jupyter-widgets/controls",
            "_model_module_version": "1.5.0",
            "_model_name": "HTMLModel",
            "_view_count": null,
            "_view_module": "@jupyter-widgets/controls",
            "_view_module_version": "1.5.0",
            "_view_name": "HTMLView",
            "description": "",
            "description_tooltip": null,
            "layout": "IPY_MODEL_cb5fa7fb460d415199187bd8713927c7",
            "placeholder": "​",
            "style": "IPY_MODEL_6f52237baefc43a5b669af78de5479f3",
            "value": " 440M/440M [00:07&lt;00:00, 57.9MB/s]"
          }
        },
        "a19f752314aa4691ab42ae1976225e99": {
          "model_module": "@jupyter-widgets/base",
          "model_name": "LayoutModel",
          "model_module_version": "1.2.0",
          "state": {
            "_model_module": "@jupyter-widgets/base",
            "_model_module_version": "1.2.0",
            "_model_name": "LayoutModel",
            "_view_count": null,
            "_view_module": "@jupyter-widgets/base",
            "_view_module_version": "1.2.0",
            "_view_name": "LayoutView",
            "align_content": null,
            "align_items": null,
            "align_self": null,
            "border": null,
            "bottom": null,
            "display": null,
            "flex": null,
            "flex_flow": null,
            "grid_area": null,
            "grid_auto_columns": null,
            "grid_auto_flow": null,
            "grid_auto_rows": null,
            "grid_column": null,
            "grid_gap": null,
            "grid_row": null,
            "grid_template_areas": null,
            "grid_template_columns": null,
            "grid_template_rows": null,
            "height": null,
            "justify_content": null,
            "justify_items": null,
            "left": null,
            "margin": null,
            "max_height": null,
            "max_width": null,
            "min_height": null,
            "min_width": null,
            "object_fit": null,
            "object_position": null,
            "order": null,
            "overflow": null,
            "overflow_x": null,
            "overflow_y": null,
            "padding": null,
            "right": null,
            "top": null,
            "visibility": null,
            "width": null
          }
        },
        "f67fb22209934ce38e05a484785bd9ea": {
          "model_module": "@jupyter-widgets/base",
          "model_name": "LayoutModel",
          "model_module_version": "1.2.0",
          "state": {
            "_model_module": "@jupyter-widgets/base",
            "_model_module_version": "1.2.0",
            "_model_name": "LayoutModel",
            "_view_count": null,
            "_view_module": "@jupyter-widgets/base",
            "_view_module_version": "1.2.0",
            "_view_name": "LayoutView",
            "align_content": null,
            "align_items": null,
            "align_self": null,
            "border": null,
            "bottom": null,
            "display": null,
            "flex": null,
            "flex_flow": null,
            "grid_area": null,
            "grid_auto_columns": null,
            "grid_auto_flow": null,
            "grid_auto_rows": null,
            "grid_column": null,
            "grid_gap": null,
            "grid_row": null,
            "grid_template_areas": null,
            "grid_template_columns": null,
            "grid_template_rows": null,
            "height": null,
            "justify_content": null,
            "justify_items": null,
            "left": null,
            "margin": null,
            "max_height": null,
            "max_width": null,
            "min_height": null,
            "min_width": null,
            "object_fit": null,
            "object_position": null,
            "order": null,
            "overflow": null,
            "overflow_x": null,
            "overflow_y": null,
            "padding": null,
            "right": null,
            "top": null,
            "visibility": null,
            "width": null
          }
        },
        "d2ab0dcf6ef94b609e37343f3560da9b": {
          "model_module": "@jupyter-widgets/controls",
          "model_name": "DescriptionStyleModel",
          "model_module_version": "1.5.0",
          "state": {
            "_model_module": "@jupyter-widgets/controls",
            "_model_module_version": "1.5.0",
            "_model_name": "DescriptionStyleModel",
            "_view_count": null,
            "_view_module": "@jupyter-widgets/base",
            "_view_module_version": "1.2.0",
            "_view_name": "StyleView",
            "description_width": ""
          }
        },
        "ccbaa560fd124368b56d77e9662a8c9f": {
          "model_module": "@jupyter-widgets/base",
          "model_name": "LayoutModel",
          "model_module_version": "1.2.0",
          "state": {
            "_model_module": "@jupyter-widgets/base",
            "_model_module_version": "1.2.0",
            "_model_name": "LayoutModel",
            "_view_count": null,
            "_view_module": "@jupyter-widgets/base",
            "_view_module_version": "1.2.0",
            "_view_name": "LayoutView",
            "align_content": null,
            "align_items": null,
            "align_self": null,
            "border": null,
            "bottom": null,
            "display": null,
            "flex": null,
            "flex_flow": null,
            "grid_area": null,
            "grid_auto_columns": null,
            "grid_auto_flow": null,
            "grid_auto_rows": null,
            "grid_column": null,
            "grid_gap": null,
            "grid_row": null,
            "grid_template_areas": null,
            "grid_template_columns": null,
            "grid_template_rows": null,
            "height": null,
            "justify_content": null,
            "justify_items": null,
            "left": null,
            "margin": null,
            "max_height": null,
            "max_width": null,
            "min_height": null,
            "min_width": null,
            "object_fit": null,
            "object_position": null,
            "order": null,
            "overflow": null,
            "overflow_x": null,
            "overflow_y": null,
            "padding": null,
            "right": null,
            "top": null,
            "visibility": null,
            "width": null
          }
        },
        "8ba2ef086101459ba7a1f63e6b722c2c": {
          "model_module": "@jupyter-widgets/controls",
          "model_name": "ProgressStyleModel",
          "model_module_version": "1.5.0",
          "state": {
            "_model_module": "@jupyter-widgets/controls",
            "_model_module_version": "1.5.0",
            "_model_name": "ProgressStyleModel",
            "_view_count": null,
            "_view_module": "@jupyter-widgets/base",
            "_view_module_version": "1.2.0",
            "_view_name": "StyleView",
            "bar_color": null,
            "description_width": ""
          }
        },
        "cb5fa7fb460d415199187bd8713927c7": {
          "model_module": "@jupyter-widgets/base",
          "model_name": "LayoutModel",
          "model_module_version": "1.2.0",
          "state": {
            "_model_module": "@jupyter-widgets/base",
            "_model_module_version": "1.2.0",
            "_model_name": "LayoutModel",
            "_view_count": null,
            "_view_module": "@jupyter-widgets/base",
            "_view_module_version": "1.2.0",
            "_view_name": "LayoutView",
            "align_content": null,
            "align_items": null,
            "align_self": null,
            "border": null,
            "bottom": null,
            "display": null,
            "flex": null,
            "flex_flow": null,
            "grid_area": null,
            "grid_auto_columns": null,
            "grid_auto_flow": null,
            "grid_auto_rows": null,
            "grid_column": null,
            "grid_gap": null,
            "grid_row": null,
            "grid_template_areas": null,
            "grid_template_columns": null,
            "grid_template_rows": null,
            "height": null,
            "justify_content": null,
            "justify_items": null,
            "left": null,
            "margin": null,
            "max_height": null,
            "max_width": null,
            "min_height": null,
            "min_width": null,
            "object_fit": null,
            "object_position": null,
            "order": null,
            "overflow": null,
            "overflow_x": null,
            "overflow_y": null,
            "padding": null,
            "right": null,
            "top": null,
            "visibility": null,
            "width": null
          }
        },
        "6f52237baefc43a5b669af78de5479f3": {
          "model_module": "@jupyter-widgets/controls",
          "model_name": "DescriptionStyleModel",
          "model_module_version": "1.5.0",
          "state": {
            "_model_module": "@jupyter-widgets/controls",
            "_model_module_version": "1.5.0",
            "_model_name": "DescriptionStyleModel",
            "_view_count": null,
            "_view_module": "@jupyter-widgets/base",
            "_view_module_version": "1.2.0",
            "_view_name": "StyleView",
            "description_width": ""
          }
        }
      }
    }
  },
  "cells": [
    {
      "cell_type": "markdown",
      "metadata": {
        "id": "view-in-github",
        "colab_type": "text"
      },
      "source": [
        "<a href=\"https://colab.research.google.com/github/plaban1981/Hugging_Face_transformers_topics/blob/main/Natural_Language_Processing_using_BERT.ipynb\" target=\"_parent\"><img src=\"https://colab.research.google.com/assets/colab-badge.svg\" alt=\"Open In Colab\"/></a>"
      ]
    },
    {
      "cell_type": "markdown",
      "source": [
        "## Agenda\n",
        "\n",
        "* Introduction to the transformer\n",
        "* Understanding the encoder of the transformer\n",
        "* Understanding the decoder of the transformer\n",
        "* Putting the encoder and decoder together\n",
        "* Training the transformer"
      ],
      "metadata": {
        "id": "qErWsayZoxv8"
      }
    },
    {
      "cell_type": "markdown",
      "source": [
        "## Introduction to the transformer\n",
        "RNN and LSTM networks are widely used in sequential tasks such as next word\n",
        "prediction, machine translation, text generation, and more. However one of the **major\n",
        "challenges with the recurrent model is capturing the long-term dependency**"
      ],
      "metadata": {
        "id": "OlGdRNNopIvR"
      }
    },
    {
      "cell_type": "markdown",
      "source": [
        "Transformers overcome this limitation using **Self Attention Mechanishm**\n",
        "\n",
        "Consider the following two sentences:\n",
        "* Sentence A: He got bit by Python.\n",
        "* Sentence B: Python is my favorite programming language.\n",
        "\n",
        "\n",
        "* Self Attention Mechanism : Here model relates each word with all other words in the sentences to understand the context of the word better\n",
        "\n",
        "![image.png](data:image/png;base64,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)"
      ],
      "metadata": {
        "id": "Xs7T6J4Hq6ZR"
      }
    },
    {
      "cell_type": "markdown",
      "source": [
        "* Here python in sentence 1 referes to a snake while python in sentence 2 refers to a programming language\n",
        "\n",
        "* Now,if we get embeddings for the word 'Python' in the preceding two sentences using an **embedding model such as word2vec**, the embedding of the word **'Python'** would be the **same** in both sentences, and so this renders the meaning of the word 'Python' the same in\n",
        "both sentences.\n",
        "\n",
        "* This is because word2vec is the context-free model, so it will ignore the context and always give the same embedding for the word 'Python' irrespective of the context."
      ],
      "metadata": {
        "id": "nRMqHv_jxIEP"
      }
    },
    {
      "cell_type": "markdown",
      "source": [
        "* Transformers, on the other hand, is a context-based model. \n",
        "* It will understand the context and then\n",
        "generate the embedding for the word based on the context. \n",
        "* So, for the preceding two\n",
        "sentences, it will give different embeddings for the word **'Python'** based on the context."
      ],
      "metadata": {
        "id": "mVb8t5cw0Sir"
      }
    },
    {
      "cell_type": "code",
      "execution_count": null,
      "metadata": {
        "id": "LrcuSgyZoe8O"
      },
      "outputs": [],
      "source": [
        " "
      ]
    },
    {
      "cell_type": "markdown",
      "source": [
        "## Fine Tune Transformers Model like BERT on Custom Dataset."
      ],
      "metadata": {
        "id": "N3TYhbBtgFxf"
      }
    },
    {
      "cell_type": "code",
      "source": [
        "!pip install transformers -U"
      ],
      "metadata": {
        "colab": {
          "base_uri": "https://localhost:8080/"
        },
        "id": "nQpvuw4XgIf7",
        "outputId": "49100942-224f-43e8-c3f9-e541f6a9e368"
      },
      "execution_count": null,
      "outputs": [
        {
          "output_type": "stream",
          "name": "stdout",
          "text": [
            "Looking in indexes: https://pypi.org/simple, https://us-python.pkg.dev/colab-wheels/public/simple/\n",
            "Collecting transformers\n",
            "  Downloading transformers-4.22.2-py3-none-any.whl (4.9 MB)\n",
            "\u001b[K     |████████████████████████████████| 4.9 MB 15.7 MB/s \n",
            "\u001b[?25hCollecting huggingface-hub<1.0,>=0.9.0\n",
            "  Downloading huggingface_hub-0.10.0-py3-none-any.whl (163 kB)\n",
            "\u001b[K     |████████████████████████████████| 163 kB 61.4 MB/s \n",
            "\u001b[?25hRequirement already satisfied: packaging>=20.0 in /usr/local/lib/python3.7/dist-packages (from transformers) (21.3)\n",
            "Collecting tokenizers!=0.11.3,<0.13,>=0.11.1\n",
            "  Downloading tokenizers-0.12.1-cp37-cp37m-manylinux_2_12_x86_64.manylinux2010_x86_64.whl (6.6 MB)\n",
            "\u001b[K     |████████████████████████████████| 6.6 MB 58.5 MB/s \n",
            "\u001b[?25hRequirement already satisfied: filelock in /usr/local/lib/python3.7/dist-packages (from transformers) (3.8.0)\n",
            "Requirement already satisfied: importlib-metadata in /usr/local/lib/python3.7/dist-packages (from transformers) (4.12.0)\n",
            "Requirement already satisfied: regex!=2019.12.17 in /usr/local/lib/python3.7/dist-packages (from transformers) (2022.6.2)\n",
            "Requirement already satisfied: requests in /usr/local/lib/python3.7/dist-packages (from transformers) (2.23.0)\n",
            "Requirement already satisfied: pyyaml>=5.1 in /usr/local/lib/python3.7/dist-packages (from transformers) (6.0)\n",
            "Requirement already satisfied: numpy>=1.17 in /usr/local/lib/python3.7/dist-packages (from transformers) (1.21.6)\n",
            "Requirement already satisfied: tqdm>=4.27 in /usr/local/lib/python3.7/dist-packages (from transformers) (4.64.1)\n",
            "Requirement already satisfied: typing-extensions>=3.7.4.3 in /usr/local/lib/python3.7/dist-packages (from huggingface-hub<1.0,>=0.9.0->transformers) (4.1.1)\n",
            "Requirement already satisfied: pyparsing!=3.0.5,>=2.0.2 in /usr/local/lib/python3.7/dist-packages (from packaging>=20.0->transformers) (3.0.9)\n",
            "Requirement already satisfied: zipp>=0.5 in /usr/local/lib/python3.7/dist-packages (from importlib-metadata->transformers) (3.8.1)\n",
            "Requirement already satisfied: certifi>=2017.4.17 in /usr/local/lib/python3.7/dist-packages (from requests->transformers) (2022.6.15)\n",
            "Requirement already satisfied: urllib3!=1.25.0,!=1.25.1,<1.26,>=1.21.1 in /usr/local/lib/python3.7/dist-packages (from requests->transformers) (1.24.3)\n",
            "Requirement already satisfied: idna<3,>=2.5 in /usr/local/lib/python3.7/dist-packages (from requests->transformers) (2.10)\n",
            "Requirement already satisfied: chardet<4,>=3.0.2 in /usr/local/lib/python3.7/dist-packages (from requests->transformers) (3.0.4)\n",
            "Installing collected packages: tokenizers, huggingface-hub, transformers\n",
            "Successfully installed huggingface-hub-0.10.0 tokenizers-0.12.1 transformers-4.22.2\n"
          ]
        }
      ]
    },
    {
      "cell_type": "markdown",
      "source": [
        "## Dataset\n",
        "https://www.kaggle.com/competitions/jigsaw-toxic-comment-classification-challenge/data"
      ],
      "metadata": {
        "id": "3R2C5hd1iDAS"
      }
    },
    {
      "cell_type": "markdown",
      "source": [
        "## Download dataset from kaggle"
      ],
      "metadata": {
        "id": "0GLzQlmLiO_r"
      }
    },
    {
      "cell_type": "code",
      "source": [
        "from google.colab import files\n",
        "files.upload()"
      ],
      "metadata": {
        "colab": {
          "base_uri": "https://localhost:8080/",
          "height": 92
        },
        "id": "B_0jobDviTpF",
        "outputId": "bd941ba0-b528-4c8b-ae28-c12fe4c63d86"
      },
      "execution_count": null,
      "outputs": [
        {
          "output_type": "display_data",
          "data": {
            "text/plain": [
              "<IPython.core.display.HTML object>"
            ],
            "text/html": [
              "\n",
              "     <input type=\"file\" id=\"files-95d15d26-510b-475e-993a-193f9c4cc791\" name=\"files[]\" multiple disabled\n",
              "        style=\"border:none\" />\n",
              "     <output id=\"result-95d15d26-510b-475e-993a-193f9c4cc791\">\n",
              "      Upload widget is only available when the cell has been executed in the\n",
              "      current browser session. Please rerun this cell to enable.\n",
              "      </output>\n",
              "      <script>// Copyright 2017 Google LLC\n",
              "//\n",
              "// Licensed under the Apache License, Version 2.0 (the \"License\");\n",
              "// you may not use this file except in compliance with the License.\n",
              "// You may obtain a copy of the License at\n",
              "//\n",
              "//      http://www.apache.org/licenses/LICENSE-2.0\n",
              "//\n",
              "// Unless required by applicable law or agreed to in writing, software\n",
              "// distributed under the License is distributed on an \"AS IS\" BASIS,\n",
              "// WITHOUT WARRANTIES OR CONDITIONS OF ANY KIND, either express or implied.\n",
              "// See the License for the specific language governing permissions and\n",
              "// limitations under the License.\n",
              "\n",
              "/**\n",
              " * @fileoverview Helpers for google.colab Python module.\n",
              " */\n",
              "(function(scope) {\n",
              "function span(text, styleAttributes = {}) {\n",
              "  const element = document.createElement('span');\n",
              "  element.textContent = text;\n",
              "  for (const key of Object.keys(styleAttributes)) {\n",
              "    element.style[key] = styleAttributes[key];\n",
              "  }\n",
              "  return element;\n",
              "}\n",
              "\n",
              "// Max number of bytes which will be uploaded at a time.\n",
              "const MAX_PAYLOAD_SIZE = 100 * 1024;\n",
              "\n",
              "function _uploadFiles(inputId, outputId) {\n",
              "  const steps = uploadFilesStep(inputId, outputId);\n",
              "  const outputElement = document.getElementById(outputId);\n",
              "  // Cache steps on the outputElement to make it available for the next call\n",
              "  // to uploadFilesContinue from Python.\n",
              "  outputElement.steps = steps;\n",
              "\n",
              "  return _uploadFilesContinue(outputId);\n",
              "}\n",
              "\n",
              "// This is roughly an async generator (not supported in the browser yet),\n",
              "// where there are multiple asynchronous steps and the Python side is going\n",
              "// to poll for completion of each step.\n",
              "// This uses a Promise to block the python side on completion of each step,\n",
              "// then passes the result of the previous step as the input to the next step.\n",
              "function _uploadFilesContinue(outputId) {\n",
              "  const outputElement = document.getElementById(outputId);\n",
              "  const steps = outputElement.steps;\n",
              "\n",
              "  const next = steps.next(outputElement.lastPromiseValue);\n",
              "  return Promise.resolve(next.value.promise).then((value) => {\n",
              "    // Cache the last promise value to make it available to the next\n",
              "    // step of the generator.\n",
              "    outputElement.lastPromiseValue = value;\n",
              "    return next.value.response;\n",
              "  });\n",
              "}\n",
              "\n",
              "/**\n",
              " * Generator function which is called between each async step of the upload\n",
              " * process.\n",
              " * @param {string} inputId Element ID of the input file picker element.\n",
              " * @param {string} outputId Element ID of the output display.\n",
              " * @return {!Iterable<!Object>} Iterable of next steps.\n",
              " */\n",
              "function* uploadFilesStep(inputId, outputId) {\n",
              "  const inputElement = document.getElementById(inputId);\n",
              "  inputElement.disabled = false;\n",
              "\n",
              "  const outputElement = document.getElementById(outputId);\n",
              "  outputElement.innerHTML = '';\n",
              "\n",
              "  const pickedPromise = new Promise((resolve) => {\n",
              "    inputElement.addEventListener('change', (e) => {\n",
              "      resolve(e.target.files);\n",
              "    });\n",
              "  });\n",
              "\n",
              "  const cancel = document.createElement('button');\n",
              "  inputElement.parentElement.appendChild(cancel);\n",
              "  cancel.textContent = 'Cancel upload';\n",
              "  const cancelPromise = new Promise((resolve) => {\n",
              "    cancel.onclick = () => {\n",
              "      resolve(null);\n",
              "    };\n",
              "  });\n",
              "\n",
              "  // Wait for the user to pick the files.\n",
              "  const files = yield {\n",
              "    promise: Promise.race([pickedPromise, cancelPromise]),\n",
              "    response: {\n",
              "      action: 'starting',\n",
              "    }\n",
              "  };\n",
              "\n",
              "  cancel.remove();\n",
              "\n",
              "  // Disable the input element since further picks are not allowed.\n",
              "  inputElement.disabled = true;\n",
              "\n",
              "  if (!files) {\n",
              "    return {\n",
              "      response: {\n",
              "        action: 'complete',\n",
              "      }\n",
              "    };\n",
              "  }\n",
              "\n",
              "  for (const file of files) {\n",
              "    const li = document.createElement('li');\n",
              "    li.append(span(file.name, {fontWeight: 'bold'}));\n",
              "    li.append(span(\n",
              "        `(${file.type || 'n/a'}) - ${file.size} bytes, ` +\n",
              "        `last modified: ${\n",
              "            file.lastModifiedDate ? file.lastModifiedDate.toLocaleDateString() :\n",
              "                                    'n/a'} - `));\n",
              "    const percent = span('0% done');\n",
              "    li.appendChild(percent);\n",
              "\n",
              "    outputElement.appendChild(li);\n",
              "\n",
              "    const fileDataPromise = new Promise((resolve) => {\n",
              "      const reader = new FileReader();\n",
              "      reader.onload = (e) => {\n",
              "        resolve(e.target.result);\n",
              "      };\n",
              "      reader.readAsArrayBuffer(file);\n",
              "    });\n",
              "    // Wait for the data to be ready.\n",
              "    let fileData = yield {\n",
              "      promise: fileDataPromise,\n",
              "      response: {\n",
              "        action: 'continue',\n",
              "      }\n",
              "    };\n",
              "\n",
              "    // Use a chunked sending to avoid message size limits. See b/62115660.\n",
              "    let position = 0;\n",
              "    do {\n",
              "      const length = Math.min(fileData.byteLength - position, MAX_PAYLOAD_SIZE);\n",
              "      const chunk = new Uint8Array(fileData, position, length);\n",
              "      position += length;\n",
              "\n",
              "      const base64 = btoa(String.fromCharCode.apply(null, chunk));\n",
              "      yield {\n",
              "        response: {\n",
              "          action: 'append',\n",
              "          file: file.name,\n",
              "          data: base64,\n",
              "        },\n",
              "      };\n",
              "\n",
              "      let percentDone = fileData.byteLength === 0 ?\n",
              "          100 :\n",
              "          Math.round((position / fileData.byteLength) * 100);\n",
              "      percent.textContent = `${percentDone}% done`;\n",
              "\n",
              "    } while (position < fileData.byteLength);\n",
              "  }\n",
              "\n",
              "  // All done.\n",
              "  yield {\n",
              "    response: {\n",
              "      action: 'complete',\n",
              "    }\n",
              "  };\n",
              "}\n",
              "\n",
              "scope.google = scope.google || {};\n",
              "scope.google.colab = scope.google.colab || {};\n",
              "scope.google.colab._files = {\n",
              "  _uploadFiles,\n",
              "  _uploadFilesContinue,\n",
              "};\n",
              "})(self);\n",
              "</script> "
            ]
          },
          "metadata": {}
        },
        {
          "output_type": "stream",
          "name": "stdout",
          "text": [
            "Saving kaggle.json to kaggle.json\n"
          ]
        },
        {
          "output_type": "execute_result",
          "data": {
            "text/plain": [
              "{'kaggle.json': b'{\"username\":\"plabannayak\",\"key\":\"f1f19a1783935d871fc0049a716ef3a8\"}'}"
            ]
          },
          "metadata": {},
          "execution_count": 2
        }
      ]
    },
    {
      "cell_type": "code",
      "source": [
        "!mkdir -p ~/.kaggle\n",
        "!cp kaggle.json ~/.kaggle/\n",
        "!chmod 600 ~/.kaggle/kaggle.json"
      ],
      "metadata": {
        "id": "4PTo6ewgirzh"
      },
      "execution_count": null,
      "outputs": []
    },
    {
      "cell_type": "code",
      "source": [
        "!kaggle competitions download -c jigsaw-toxic-comment-classification-challenge"
      ],
      "metadata": {
        "colab": {
          "base_uri": "https://localhost:8080/"
        },
        "id": "lMVhPQ_ujCWE",
        "outputId": "05866e4b-e707-4ffe-9c71-207049db2a5c"
      },
      "execution_count": null,
      "outputs": [
        {
          "output_type": "stream",
          "name": "stdout",
          "text": [
            "Downloading jigsaw-toxic-comment-classification-challenge.zip to /content\n",
            " 85% 45.0M/52.6M [00:01<00:00, 38.1MB/s]\n",
            "100% 52.6M/52.6M [00:01<00:00, 50.4MB/s]\n"
          ]
        }
      ]
    },
    {
      "cell_type": "code",
      "source": [
        "!mkdir Data"
      ],
      "metadata": {
        "id": "SzShQWXnjGki"
      },
      "execution_count": null,
      "outputs": []
    },
    {
      "cell_type": "code",
      "source": [
        "!unzip /content/jigsaw-toxic-comment-classification-challenge.zip "
      ],
      "metadata": {
        "colab": {
          "base_uri": "https://localhost:8080/"
        },
        "id": "K3jW8HomjK_C",
        "outputId": "5980c0ab-418e-4a72-9941-809faac398ff"
      },
      "execution_count": null,
      "outputs": [
        {
          "output_type": "stream",
          "name": "stdout",
          "text": [
            "Archive:  /content/jigsaw-toxic-comment-classification-challenge.zip\n",
            "  inflating: sample_submission.csv.zip  \n",
            "  inflating: test.csv.zip            \n",
            "  inflating: test_labels.csv.zip     \n",
            "  inflating: train.csv.zip           \n"
          ]
        }
      ]
    },
    {
      "cell_type": "code",
      "source": [
        "!unzip \"/content/train.csv.zip\" -d \"/content/Data\""
      ],
      "metadata": {
        "colab": {
          "base_uri": "https://localhost:8080/"
        },
        "id": "7gDrNh7Eja-e",
        "outputId": "8f538931-33c1-48d1-f4e5-e67e5a6cfdd6"
      },
      "execution_count": null,
      "outputs": [
        {
          "output_type": "stream",
          "name": "stdout",
          "text": [
            "Archive:  /content/train.csv.zip\n",
            "  inflating: /content/Data/train.csv  \n"
          ]
        }
      ]
    },
    {
      "cell_type": "code",
      "source": [
        "!unzip \"/content/test.csv.zip\" -d \"/content/Data\""
      ],
      "metadata": {
        "colab": {
          "base_uri": "https://localhost:8080/"
        },
        "id": "WEZrk1HlkHV-",
        "outputId": "0588f243-f9d3-4dac-fef8-5fcce300158f"
      },
      "execution_count": null,
      "outputs": [
        {
          "output_type": "stream",
          "name": "stdout",
          "text": [
            "Archive:  /content/test.csv.zip\n",
            "  inflating: /content/Data/test.csv  \n"
          ]
        }
      ]
    },
    {
      "cell_type": "code",
      "source": [
        "!unzip \"/content/test_labels.csv.zip\" -d \"/content/Data\""
      ],
      "metadata": {
        "colab": {
          "base_uri": "https://localhost:8080/"
        },
        "id": "pfm4kWCnkLkY",
        "outputId": "9616b8ff-fcda-4d97-c968-7bbb68b958c4"
      },
      "execution_count": null,
      "outputs": [
        {
          "output_type": "stream",
          "name": "stdout",
          "text": [
            "Archive:  /content/test_labels.csv.zip\n",
            "  inflating: /content/Data/test_labels.csv  \n"
          ]
        }
      ]
    },
    {
      "cell_type": "code",
      "source": [
        "import pandas as pd\n",
        "data = pd.read_csv(\"/content/Data/train.csv\")\n",
        "data.head()"
      ],
      "metadata": {
        "colab": {
          "base_uri": "https://localhost:8080/",
          "height": 206
        },
        "id": "zLW8A69Kh5nU",
        "outputId": "4c2e4321-8e44-4e48-ce15-a66544dd36aa"
      },
      "execution_count": null,
      "outputs": [
        {
          "output_type": "execute_result",
          "data": {
            "text/plain": [
              "                 id                                       comment_text  toxic  \\\n",
              "0  0000997932d777bf  Explanation\\nWhy the edits made under my usern...      0   \n",
              "1  000103f0d9cfb60f  D'aww! He matches this background colour I'm s...      0   \n",
              "2  000113f07ec002fd  Hey man, I'm really not trying to edit war. It...      0   \n",
              "3  0001b41b1c6bb37e  \"\\nMore\\nI can't make any real suggestions on ...      0   \n",
              "4  0001d958c54c6e35  You, sir, are my hero. Any chance you remember...      0   \n",
              "\n",
              "   severe_toxic  obscene  threat  insult  identity_hate  \n",
              "0             0        0       0       0              0  \n",
              "1             0        0       0       0              0  \n",
              "2             0        0       0       0              0  \n",
              "3             0        0       0       0              0  \n",
              "4             0        0       0       0              0  "
            ],
            "text/html": [
              "\n",
              "  <div id=\"df-607cdf0c-6ee4-40bd-a158-de38dee9a3a7\">\n",
              "    <div class=\"colab-df-container\">\n",
              "      <div>\n",
              "<style scoped>\n",
              "    .dataframe tbody tr th:only-of-type {\n",
              "        vertical-align: middle;\n",
              "    }\n",
              "\n",
              "    .dataframe tbody tr th {\n",
              "        vertical-align: top;\n",
              "    }\n",
              "\n",
              "    .dataframe thead th {\n",
              "        text-align: right;\n",
              "    }\n",
              "</style>\n",
              "<table border=\"1\" class=\"dataframe\">\n",
              "  <thead>\n",
              "    <tr style=\"text-align: right;\">\n",
              "      <th></th>\n",
              "      <th>id</th>\n",
              "      <th>comment_text</th>\n",
              "      <th>toxic</th>\n",
              "      <th>severe_toxic</th>\n",
              "      <th>obscene</th>\n",
              "      <th>threat</th>\n",
              "      <th>insult</th>\n",
              "      <th>identity_hate</th>\n",
              "    </tr>\n",
              "  </thead>\n",
              "  <tbody>\n",
              "    <tr>\n",
              "      <th>0</th>\n",
              "      <td>0000997932d777bf</td>\n",
              "      <td>Explanation\\nWhy the edits made under my usern...</td>\n",
              "      <td>0</td>\n",
              "      <td>0</td>\n",
              "      <td>0</td>\n",
              "      <td>0</td>\n",
              "      <td>0</td>\n",
              "      <td>0</td>\n",
              "    </tr>\n",
              "    <tr>\n",
              "      <th>1</th>\n",
              "      <td>000103f0d9cfb60f</td>\n",
              "      <td>D'aww! He matches this background colour I'm s...</td>\n",
              "      <td>0</td>\n",
              "      <td>0</td>\n",
              "      <td>0</td>\n",
              "      <td>0</td>\n",
              "      <td>0</td>\n",
              "      <td>0</td>\n",
              "    </tr>\n",
              "    <tr>\n",
              "      <th>2</th>\n",
              "      <td>000113f07ec002fd</td>\n",
              "      <td>Hey man, I'm really not trying to edit war. It...</td>\n",
              "      <td>0</td>\n",
              "      <td>0</td>\n",
              "      <td>0</td>\n",
              "      <td>0</td>\n",
              "      <td>0</td>\n",
              "      <td>0</td>\n",
              "    </tr>\n",
              "    <tr>\n",
              "      <th>3</th>\n",
              "      <td>0001b41b1c6bb37e</td>\n",
              "      <td>\"\\nMore\\nI can't make any real suggestions on ...</td>\n",
              "      <td>0</td>\n",
              "      <td>0</td>\n",
              "      <td>0</td>\n",
              "      <td>0</td>\n",
              "      <td>0</td>\n",
              "      <td>0</td>\n",
              "    </tr>\n",
              "    <tr>\n",
              "      <th>4</th>\n",
              "      <td>0001d958c54c6e35</td>\n",
              "      <td>You, sir, are my hero. Any chance you remember...</td>\n",
              "      <td>0</td>\n",
              "      <td>0</td>\n",
              "      <td>0</td>\n",
              "      <td>0</td>\n",
              "      <td>0</td>\n",
              "      <td>0</td>\n",
              "    </tr>\n",
              "  </tbody>\n",
              "</table>\n",
              "</div>\n",
              "      <button class=\"colab-df-convert\" onclick=\"convertToInteractive('df-607cdf0c-6ee4-40bd-a158-de38dee9a3a7')\"\n",
              "              title=\"Convert this dataframe to an interactive table.\"\n",
              "              style=\"display:none;\">\n",
              "        \n",
              "  <svg xmlns=\"http://www.w3.org/2000/svg\" height=\"24px\"viewBox=\"0 0 24 24\"\n",
              "       width=\"24px\">\n",
              "    <path d=\"M0 0h24v24H0V0z\" fill=\"none\"/>\n",
              "    <path d=\"M18.56 5.44l.94 2.06.94-2.06 2.06-.94-2.06-.94-.94-2.06-.94 2.06-2.06.94zm-11 1L8.5 8.5l.94-2.06 2.06-.94-2.06-.94L8.5 2.5l-.94 2.06-2.06.94zm10 10l.94 2.06.94-2.06 2.06-.94-2.06-.94-.94-2.06-.94 2.06-2.06.94z\"/><path d=\"M17.41 7.96l-1.37-1.37c-.4-.4-.92-.59-1.43-.59-.52 0-1.04.2-1.43.59L10.3 9.45l-7.72 7.72c-.78.78-.78 2.05 0 2.83L4 21.41c.39.39.9.59 1.41.59.51 0 1.02-.2 1.41-.59l7.78-7.78 2.81-2.81c.8-.78.8-2.07 0-2.86zM5.41 20L4 18.59l7.72-7.72 1.47 1.35L5.41 20z\"/>\n",
              "  </svg>\n",
              "      </button>\n",
              "      \n",
              "  <style>\n",
              "    .colab-df-container {\n",
              "      display:flex;\n",
              "      flex-wrap:wrap;\n",
              "      gap: 12px;\n",
              "    }\n",
              "\n",
              "    .colab-df-convert {\n",
              "      background-color: #E8F0FE;\n",
              "      border: none;\n",
              "      border-radius: 50%;\n",
              "      cursor: pointer;\n",
              "      display: none;\n",
              "      fill: #1967D2;\n",
              "      height: 32px;\n",
              "      padding: 0 0 0 0;\n",
              "      width: 32px;\n",
              "    }\n",
              "\n",
              "    .colab-df-convert:hover {\n",
              "      background-color: #E2EBFA;\n",
              "      box-shadow: 0px 1px 2px rgba(60, 64, 67, 0.3), 0px 1px 3px 1px rgba(60, 64, 67, 0.15);\n",
              "      fill: #174EA6;\n",
              "    }\n",
              "\n",
              "    [theme=dark] .colab-df-convert {\n",
              "      background-color: #3B4455;\n",
              "      fill: #D2E3FC;\n",
              "    }\n",
              "\n",
              "    [theme=dark] .colab-df-convert:hover {\n",
              "      background-color: #434B5C;\n",
              "      box-shadow: 0px 1px 3px 1px rgba(0, 0, 0, 0.15);\n",
              "      filter: drop-shadow(0px 1px 2px rgba(0, 0, 0, 0.3));\n",
              "      fill: #FFFFFF;\n",
              "    }\n",
              "  </style>\n",
              "\n",
              "      <script>\n",
              "        const buttonEl =\n",
              "          document.querySelector('#df-607cdf0c-6ee4-40bd-a158-de38dee9a3a7 button.colab-df-convert');\n",
              "        buttonEl.style.display =\n",
              "          google.colab.kernel.accessAllowed ? 'block' : 'none';\n",
              "\n",
              "        async function convertToInteractive(key) {\n",
              "          const element = document.querySelector('#df-607cdf0c-6ee4-40bd-a158-de38dee9a3a7');\n",
              "          const dataTable =\n",
              "            await google.colab.kernel.invokeFunction('convertToInteractive',\n",
              "                                                     [key], {});\n",
              "          if (!dataTable) return;\n",
              "\n",
              "          const docLinkHtml = 'Like what you see? Visit the ' +\n",
              "            '<a target=\"_blank\" href=https://colab.research.google.com/notebooks/data_table.ipynb>data table notebook</a>'\n",
              "            + ' to learn more about interactive tables.';\n",
              "          element.innerHTML = '';\n",
              "          dataTable['output_type'] = 'display_data';\n",
              "          await google.colab.output.renderOutput(dataTable, element);\n",
              "          const docLink = document.createElement('div');\n",
              "          docLink.innerHTML = docLinkHtml;\n",
              "          element.appendChild(docLink);\n",
              "        }\n",
              "      </script>\n",
              "    </div>\n",
              "  </div>\n",
              "  "
            ]
          },
          "metadata": {},
          "execution_count": 10
        }
      ]
    },
    {
      "cell_type": "code",
      "source": [
        "data.shape"
      ],
      "metadata": {
        "colab": {
          "base_uri": "https://localhost:8080/"
        },
        "id": "dsamEm-ak6ae",
        "outputId": "f03ef644-debe-4903-ba57-b595b89244ab"
      },
      "execution_count": null,
      "outputs": [
        {
          "output_type": "execute_result",
          "data": {
            "text/plain": [
              "(159571, 8)"
            ]
          },
          "metadata": {},
          "execution_count": 11
        }
      ]
    },
    {
      "cell_type": "code",
      "source": [
        "data['toxic'].value_counts()"
      ],
      "metadata": {
        "colab": {
          "base_uri": "https://localhost:8080/"
        },
        "id": "xueLQJCakiiS",
        "outputId": "99bfb85b-7a0f-48e9-8bd5-fd32c46da8c9"
      },
      "execution_count": null,
      "outputs": [
        {
          "output_type": "execute_result",
          "data": {
            "text/plain": [
              "0    144277\n",
              "1     15294\n",
              "Name: toxic, dtype: int64"
            ]
          },
          "metadata": {},
          "execution_count": 12
        }
      ]
    },
    {
      "cell_type": "markdown",
      "source": [
        "## Import necessary libraries"
      ],
      "metadata": {
        "id": "DBeHhRtxmE8l"
      }
    },
    {
      "cell_type": "code",
      "source": [
        "import numpy as np\n",
        "from sklearn.model_selection import train_test_split\n",
        "from sklearn.metrics import accuracy_score, recall_score, precision_score, f1_score\n",
        "import torch\n",
        "#libraries required to finetune BERT\n",
        "from transformers import TrainingArguments, Trainer\n",
        "from transformers import BertTokenizer, BertForSequenceClassification"
      ],
      "metadata": {
        "id": "fKHmZMYKmIkU"
      },
      "execution_count": null,
      "outputs": []
    },
    {
      "cell_type": "code",
      "source": [
        "df = data.copy()"
      ],
      "metadata": {
        "id": "HHCn-fPzqqFa"
      },
      "execution_count": null,
      "outputs": []
    },
    {
      "cell_type": "code",
      "source": [
        "df['label'] =  list(zip(df.toxic.tolist(), df.severe_toxic.tolist(), df.obscene.tolist(), df.threat.tolist(),  df.insult.tolist(), df.identity_hate.tolist()))"
      ],
      "metadata": {
        "id": "U5E1uKCsqCbQ"
      },
      "execution_count": null,
      "outputs": []
    },
    {
      "cell_type": "code",
      "source": [
        "df.head()"
      ],
      "metadata": {
        "colab": {
          "base_uri": "https://localhost:8080/",
          "height": 206
        },
        "id": "W5aTNPKNquxk",
        "outputId": "52ffe556-fdb2-4e92-fd87-4e1037560467"
      },
      "execution_count": null,
      "outputs": [
        {
          "output_type": "execute_result",
          "data": {
            "text/plain": [
              "                 id                                       comment_text  toxic  \\\n",
              "0  0000997932d777bf  Explanation\\nWhy the edits made under my usern...      0   \n",
              "1  000103f0d9cfb60f  D'aww! He matches this background colour I'm s...      0   \n",
              "2  000113f07ec002fd  Hey man, I'm really not trying to edit war. It...      0   \n",
              "3  0001b41b1c6bb37e  \"\\nMore\\nI can't make any real suggestions on ...      0   \n",
              "4  0001d958c54c6e35  You, sir, are my hero. Any chance you remember...      0   \n",
              "\n",
              "   severe_toxic  obscene  threat  insult  identity_hate               label  \n",
              "0             0        0       0       0              0  (0, 0, 0, 0, 0, 0)  \n",
              "1             0        0       0       0              0  (0, 0, 0, 0, 0, 0)  \n",
              "2             0        0       0       0              0  (0, 0, 0, 0, 0, 0)  \n",
              "3             0        0       0       0              0  (0, 0, 0, 0, 0, 0)  \n",
              "4             0        0       0       0              0  (0, 0, 0, 0, 0, 0)  "
            ],
            "text/html": [
              "\n",
              "  <div id=\"df-ce0c76a2-0412-4520-aab6-d5cd0a354aed\">\n",
              "    <div class=\"colab-df-container\">\n",
              "      <div>\n",
              "<style scoped>\n",
              "    .dataframe tbody tr th:only-of-type {\n",
              "        vertical-align: middle;\n",
              "    }\n",
              "\n",
              "    .dataframe tbody tr th {\n",
              "        vertical-align: top;\n",
              "    }\n",
              "\n",
              "    .dataframe thead th {\n",
              "        text-align: right;\n",
              "    }\n",
              "</style>\n",
              "<table border=\"1\" class=\"dataframe\">\n",
              "  <thead>\n",
              "    <tr style=\"text-align: right;\">\n",
              "      <th></th>\n",
              "      <th>id</th>\n",
              "      <th>comment_text</th>\n",
              "      <th>toxic</th>\n",
              "      <th>severe_toxic</th>\n",
              "      <th>obscene</th>\n",
              "      <th>threat</th>\n",
              "      <th>insult</th>\n",
              "      <th>identity_hate</th>\n",
              "      <th>label</th>\n",
              "    </tr>\n",
              "  </thead>\n",
              "  <tbody>\n",
              "    <tr>\n",
              "      <th>0</th>\n",
              "      <td>0000997932d777bf</td>\n",
              "      <td>Explanation\\nWhy the edits made under my usern...</td>\n",
              "      <td>0</td>\n",
              "      <td>0</td>\n",
              "      <td>0</td>\n",
              "      <td>0</td>\n",
              "      <td>0</td>\n",
              "      <td>0</td>\n",
              "      <td>(0, 0, 0, 0, 0, 0)</td>\n",
              "    </tr>\n",
              "    <tr>\n",
              "      <th>1</th>\n",
              "      <td>000103f0d9cfb60f</td>\n",
              "      <td>D'aww! He matches this background colour I'm s...</td>\n",
              "      <td>0</td>\n",
              "      <td>0</td>\n",
              "      <td>0</td>\n",
              "      <td>0</td>\n",
              "      <td>0</td>\n",
              "      <td>0</td>\n",
              "      <td>(0, 0, 0, 0, 0, 0)</td>\n",
              "    </tr>\n",
              "    <tr>\n",
              "      <th>2</th>\n",
              "      <td>000113f07ec002fd</td>\n",
              "      <td>Hey man, I'm really not trying to edit war. It...</td>\n",
              "      <td>0</td>\n",
              "      <td>0</td>\n",
              "      <td>0</td>\n",
              "      <td>0</td>\n",
              "      <td>0</td>\n",
              "      <td>0</td>\n",
              "      <td>(0, 0, 0, 0, 0, 0)</td>\n",
              "    </tr>\n",
              "    <tr>\n",
              "      <th>3</th>\n",
              "      <td>0001b41b1c6bb37e</td>\n",
              "      <td>\"\\nMore\\nI can't make any real suggestions on ...</td>\n",
              "      <td>0</td>\n",
              "      <td>0</td>\n",
              "      <td>0</td>\n",
              "      <td>0</td>\n",
              "      <td>0</td>\n",
              "      <td>0</td>\n",
              "      <td>(0, 0, 0, 0, 0, 0)</td>\n",
              "    </tr>\n",
              "    <tr>\n",
              "      <th>4</th>\n",
              "      <td>0001d958c54c6e35</td>\n",
              "      <td>You, sir, are my hero. Any chance you remember...</td>\n",
              "      <td>0</td>\n",
              "      <td>0</td>\n",
              "      <td>0</td>\n",
              "      <td>0</td>\n",
              "      <td>0</td>\n",
              "      <td>0</td>\n",
              "      <td>(0, 0, 0, 0, 0, 0)</td>\n",
              "    </tr>\n",
              "  </tbody>\n",
              "</table>\n",
              "</div>\n",
              "      <button class=\"colab-df-convert\" onclick=\"convertToInteractive('df-ce0c76a2-0412-4520-aab6-d5cd0a354aed')\"\n",
              "              title=\"Convert this dataframe to an interactive table.\"\n",
              "              style=\"display:none;\">\n",
              "        \n",
              "  <svg xmlns=\"http://www.w3.org/2000/svg\" height=\"24px\"viewBox=\"0 0 24 24\"\n",
              "       width=\"24px\">\n",
              "    <path d=\"M0 0h24v24H0V0z\" fill=\"none\"/>\n",
              "    <path d=\"M18.56 5.44l.94 2.06.94-2.06 2.06-.94-2.06-.94-.94-2.06-.94 2.06-2.06.94zm-11 1L8.5 8.5l.94-2.06 2.06-.94-2.06-.94L8.5 2.5l-.94 2.06-2.06.94zm10 10l.94 2.06.94-2.06 2.06-.94-2.06-.94-.94-2.06-.94 2.06-2.06.94z\"/><path d=\"M17.41 7.96l-1.37-1.37c-.4-.4-.92-.59-1.43-.59-.52 0-1.04.2-1.43.59L10.3 9.45l-7.72 7.72c-.78.78-.78 2.05 0 2.83L4 21.41c.39.39.9.59 1.41.59.51 0 1.02-.2 1.41-.59l7.78-7.78 2.81-2.81c.8-.78.8-2.07 0-2.86zM5.41 20L4 18.59l7.72-7.72 1.47 1.35L5.41 20z\"/>\n",
              "  </svg>\n",
              "      </button>\n",
              "      \n",
              "  <style>\n",
              "    .colab-df-container {\n",
              "      display:flex;\n",
              "      flex-wrap:wrap;\n",
              "      gap: 12px;\n",
              "    }\n",
              "\n",
              "    .colab-df-convert {\n",
              "      background-color: #E8F0FE;\n",
              "      border: none;\n",
              "      border-radius: 50%;\n",
              "      cursor: pointer;\n",
              "      display: none;\n",
              "      fill: #1967D2;\n",
              "      height: 32px;\n",
              "      padding: 0 0 0 0;\n",
              "      width: 32px;\n",
              "    }\n",
              "\n",
              "    .colab-df-convert:hover {\n",
              "      background-color: #E2EBFA;\n",
              "      box-shadow: 0px 1px 2px rgba(60, 64, 67, 0.3), 0px 1px 3px 1px rgba(60, 64, 67, 0.15);\n",
              "      fill: #174EA6;\n",
              "    }\n",
              "\n",
              "    [theme=dark] .colab-df-convert {\n",
              "      background-color: #3B4455;\n",
              "      fill: #D2E3FC;\n",
              "    }\n",
              "\n",
              "    [theme=dark] .colab-df-convert:hover {\n",
              "      background-color: #434B5C;\n",
              "      box-shadow: 0px 1px 3px 1px rgba(0, 0, 0, 0.15);\n",
              "      filter: drop-shadow(0px 1px 2px rgba(0, 0, 0, 0.3));\n",
              "      fill: #FFFFFF;\n",
              "    }\n",
              "  </style>\n",
              "\n",
              "      <script>\n",
              "        const buttonEl =\n",
              "          document.querySelector('#df-ce0c76a2-0412-4520-aab6-d5cd0a354aed button.colab-df-convert');\n",
              "        buttonEl.style.display =\n",
              "          google.colab.kernel.accessAllowed ? 'block' : 'none';\n",
              "\n",
              "        async function convertToInteractive(key) {\n",
              "          const element = document.querySelector('#df-ce0c76a2-0412-4520-aab6-d5cd0a354aed');\n",
              "          const dataTable =\n",
              "            await google.colab.kernel.invokeFunction('convertToInteractive',\n",
              "                                                     [key], {});\n",
              "          if (!dataTable) return;\n",
              "\n",
              "          const docLinkHtml = 'Like what you see? Visit the ' +\n",
              "            '<a target=\"_blank\" href=https://colab.research.google.com/notebooks/data_table.ipynb>data table notebook</a>'\n",
              "            + ' to learn more about interactive tables.';\n",
              "          element.innerHTML = '';\n",
              "          dataTable['output_type'] = 'display_data';\n",
              "          await google.colab.output.renderOutput(dataTable, element);\n",
              "          const docLink = document.createElement('div');\n",
              "          docLink.innerHTML = docLinkHtml;\n",
              "          element.appendChild(docLink);\n",
              "        }\n",
              "      </script>\n",
              "    </div>\n",
              "  </div>\n",
              "  "
            ]
          },
          "metadata": {},
          "execution_count": 34
        }
      ]
    },
    {
      "cell_type": "code",
      "source": [
        "df[df['toxic'] ==1].head()"
      ],
      "metadata": {
        "colab": {
          "base_uri": "https://localhost:8080/",
          "height": 206
        },
        "id": "mVJXOnMAq2A4",
        "outputId": "ee53014d-5c5e-4781-aff4-b426f1242183"
      },
      "execution_count": null,
      "outputs": [
        {
          "output_type": "execute_result",
          "data": {
            "text/plain": [
              "                  id                                       comment_text  \\\n",
              "6   0002bcb3da6cb337       COCKSUCKER BEFORE YOU PISS AROUND ON MY WORK   \n",
              "12  0005c987bdfc9d4b  Hey... what is it..\\n@ | talk .\\nWhat is it......   \n",
              "16  0007e25b2121310b  Bye! \\n\\nDon't look, come or think of comming ...   \n",
              "42  001810bf8c45bf5f  You are gay or antisemmitian? \\n\\nArchangel WH...   \n",
              "43  00190820581d90ce           FUCK YOUR FILTHY MOTHER IN THE ASS, DRY!   \n",
              "\n",
              "    toxic  severe_toxic  obscene  threat  insult  identity_hate  \\\n",
              "6       1             1        1       0       1              0   \n",
              "12      1             0        0       0       0              0   \n",
              "16      1             0        0       0       0              0   \n",
              "42      1             0        1       0       1              1   \n",
              "43      1             0        1       0       1              0   \n",
              "\n",
              "                 label  \n",
              "6   (1, 1, 1, 0, 1, 0)  \n",
              "12  (1, 0, 0, 0, 0, 0)  \n",
              "16  (1, 0, 0, 0, 0, 0)  \n",
              "42  (1, 0, 1, 0, 1, 1)  \n",
              "43  (1, 0, 1, 0, 1, 0)  "
            ],
            "text/html": [
              "\n",
              "  <div id=\"df-51729dac-71a0-4a22-b0e2-1233f518880a\">\n",
              "    <div class=\"colab-df-container\">\n",
              "      <div>\n",
              "<style scoped>\n",
              "    .dataframe tbody tr th:only-of-type {\n",
              "        vertical-align: middle;\n",
              "    }\n",
              "\n",
              "    .dataframe tbody tr th {\n",
              "        vertical-align: top;\n",
              "    }\n",
              "\n",
              "    .dataframe thead th {\n",
              "        text-align: right;\n",
              "    }\n",
              "</style>\n",
              "<table border=\"1\" class=\"dataframe\">\n",
              "  <thead>\n",
              "    <tr style=\"text-align: right;\">\n",
              "      <th></th>\n",
              "      <th>id</th>\n",
              "      <th>comment_text</th>\n",
              "      <th>toxic</th>\n",
              "      <th>severe_toxic</th>\n",
              "      <th>obscene</th>\n",
              "      <th>threat</th>\n",
              "      <th>insult</th>\n",
              "      <th>identity_hate</th>\n",
              "      <th>label</th>\n",
              "    </tr>\n",
              "  </thead>\n",
              "  <tbody>\n",
              "    <tr>\n",
              "      <th>6</th>\n",
              "      <td>0002bcb3da6cb337</td>\n",
              "      <td>COCKSUCKER BEFORE YOU PISS AROUND ON MY WORK</td>\n",
              "      <td>1</td>\n",
              "      <td>1</td>\n",
              "      <td>1</td>\n",
              "      <td>0</td>\n",
              "      <td>1</td>\n",
              "      <td>0</td>\n",
              "      <td>(1, 1, 1, 0, 1, 0)</td>\n",
              "    </tr>\n",
              "    <tr>\n",
              "      <th>12</th>\n",
              "      <td>0005c987bdfc9d4b</td>\n",
              "      <td>Hey... what is it..\\n@ | talk .\\nWhat is it......</td>\n",
              "      <td>1</td>\n",
              "      <td>0</td>\n",
              "      <td>0</td>\n",
              "      <td>0</td>\n",
              "      <td>0</td>\n",
              "      <td>0</td>\n",
              "      <td>(1, 0, 0, 0, 0, 0)</td>\n",
              "    </tr>\n",
              "    <tr>\n",
              "      <th>16</th>\n",
              "      <td>0007e25b2121310b</td>\n",
              "      <td>Bye! \\n\\nDon't look, come or think of comming ...</td>\n",
              "      <td>1</td>\n",
              "      <td>0</td>\n",
              "      <td>0</td>\n",
              "      <td>0</td>\n",
              "      <td>0</td>\n",
              "      <td>0</td>\n",
              "      <td>(1, 0, 0, 0, 0, 0)</td>\n",
              "    </tr>\n",
              "    <tr>\n",
              "      <th>42</th>\n",
              "      <td>001810bf8c45bf5f</td>\n",
              "      <td>You are gay or antisemmitian? \\n\\nArchangel WH...</td>\n",
              "      <td>1</td>\n",
              "      <td>0</td>\n",
              "      <td>1</td>\n",
              "      <td>0</td>\n",
              "      <td>1</td>\n",
              "      <td>1</td>\n",
              "      <td>(1, 0, 1, 0, 1, 1)</td>\n",
              "    </tr>\n",
              "    <tr>\n",
              "      <th>43</th>\n",
              "      <td>00190820581d90ce</td>\n",
              "      <td>FUCK YOUR FILTHY MOTHER IN THE ASS, DRY!</td>\n",
              "      <td>1</td>\n",
              "      <td>0</td>\n",
              "      <td>1</td>\n",
              "      <td>0</td>\n",
              "      <td>1</td>\n",
              "      <td>0</td>\n",
              "      <td>(1, 0, 1, 0, 1, 0)</td>\n",
              "    </tr>\n",
              "  </tbody>\n",
              "</table>\n",
              "</div>\n",
              "      <button class=\"colab-df-convert\" onclick=\"convertToInteractive('df-51729dac-71a0-4a22-b0e2-1233f518880a')\"\n",
              "              title=\"Convert this dataframe to an interactive table.\"\n",
              "              style=\"display:none;\">\n",
              "        \n",
              "  <svg xmlns=\"http://www.w3.org/2000/svg\" height=\"24px\"viewBox=\"0 0 24 24\"\n",
              "       width=\"24px\">\n",
              "    <path d=\"M0 0h24v24H0V0z\" fill=\"none\"/>\n",
              "    <path d=\"M18.56 5.44l.94 2.06.94-2.06 2.06-.94-2.06-.94-.94-2.06-.94 2.06-2.06.94zm-11 1L8.5 8.5l.94-2.06 2.06-.94-2.06-.94L8.5 2.5l-.94 2.06-2.06.94zm10 10l.94 2.06.94-2.06 2.06-.94-2.06-.94-.94-2.06-.94 2.06-2.06.94z\"/><path d=\"M17.41 7.96l-1.37-1.37c-.4-.4-.92-.59-1.43-.59-.52 0-1.04.2-1.43.59L10.3 9.45l-7.72 7.72c-.78.78-.78 2.05 0 2.83L4 21.41c.39.39.9.59 1.41.59.51 0 1.02-.2 1.41-.59l7.78-7.78 2.81-2.81c.8-.78.8-2.07 0-2.86zM5.41 20L4 18.59l7.72-7.72 1.47 1.35L5.41 20z\"/>\n",
              "  </svg>\n",
              "      </button>\n",
              "      \n",
              "  <style>\n",
              "    .colab-df-container {\n",
              "      display:flex;\n",
              "      flex-wrap:wrap;\n",
              "      gap: 12px;\n",
              "    }\n",
              "\n",
              "    .colab-df-convert {\n",
              "      background-color: #E8F0FE;\n",
              "      border: none;\n",
              "      border-radius: 50%;\n",
              "      cursor: pointer;\n",
              "      display: none;\n",
              "      fill: #1967D2;\n",
              "      height: 32px;\n",
              "      padding: 0 0 0 0;\n",
              "      width: 32px;\n",
              "    }\n",
              "\n",
              "    .colab-df-convert:hover {\n",
              "      background-color: #E2EBFA;\n",
              "      box-shadow: 0px 1px 2px rgba(60, 64, 67, 0.3), 0px 1px 3px 1px rgba(60, 64, 67, 0.15);\n",
              "      fill: #174EA6;\n",
              "    }\n",
              "\n",
              "    [theme=dark] .colab-df-convert {\n",
              "      background-color: #3B4455;\n",
              "      fill: #D2E3FC;\n",
              "    }\n",
              "\n",
              "    [theme=dark] .colab-df-convert:hover {\n",
              "      background-color: #434B5C;\n",
              "      box-shadow: 0px 1px 3px 1px rgba(0, 0, 0, 0.15);\n",
              "      filter: drop-shadow(0px 1px 2px rgba(0, 0, 0, 0.3));\n",
              "      fill: #FFFFFF;\n",
              "    }\n",
              "  </style>\n",
              "\n",
              "      <script>\n",
              "        const buttonEl =\n",
              "          document.querySelector('#df-51729dac-71a0-4a22-b0e2-1233f518880a button.colab-df-convert');\n",
              "        buttonEl.style.display =\n",
              "          google.colab.kernel.accessAllowed ? 'block' : 'none';\n",
              "\n",
              "        async function convertToInteractive(key) {\n",
              "          const element = document.querySelector('#df-51729dac-71a0-4a22-b0e2-1233f518880a');\n",
              "          const dataTable =\n",
              "            await google.colab.kernel.invokeFunction('convertToInteractive',\n",
              "                                                     [key], {});\n",
              "          if (!dataTable) return;\n",
              "\n",
              "          const docLinkHtml = 'Like what you see? Visit the ' +\n",
              "            '<a target=\"_blank\" href=https://colab.research.google.com/notebooks/data_table.ipynb>data table notebook</a>'\n",
              "            + ' to learn more about interactive tables.';\n",
              "          element.innerHTML = '';\n",
              "          dataTable['output_type'] = 'display_data';\n",
              "          await google.colab.output.renderOutput(dataTable, element);\n",
              "          const docLink = document.createElement('div');\n",
              "          docLink.innerHTML = docLinkHtml;\n",
              "          element.appendChild(docLink);\n",
              "        }\n",
              "      </script>\n",
              "    </div>\n",
              "  </div>\n",
              "  "
            ]
          },
          "metadata": {},
          "execution_count": 19
        }
      ]
    },
    {
      "cell_type": "markdown",
      "source": [
        "## Load Model and Tokenizer"
      ],
      "metadata": {
        "id": "sdsyzSc1mlvo"
      }
    },
    {
      "cell_type": "code",
      "source": [
        "tokenizer = BertTokenizer.from_pretrained('bert-base-uncased')\n",
        "model = BertForSequenceClassification.from_pretrained('bert-base-uncased',num_labels=2)"
      ],
      "metadata": {
        "colab": {
          "base_uri": "https://localhost:8080/",
          "height": 256,
          "referenced_widgets": [
            "a76d37d35d06481fbb30064b20e15847",
            "75b03d85f6c64f8ebe53a0ec16a3100f",
            "4682d8d5356c437487065b0c5000e82f",
            "910dfc66f5a641a7b6701fafce340018",
            "f4827f76e57845a7869a4108df003974",
            "029c5ebc29774144b633a8da2bf63bfb",
            "c744ca4d9c684f3a8c917f0b672a56c4",
            "1360a698bd684c159aacccc5e96b3f80",
            "a58872e47c5845ff8d09aa4a21167a12",
            "23fd88f322cc4019b334025aed121213",
            "e89047bc50a844e5b826284d2cad5082",
            "685d1e330c9143ac8ceda1aa2ad79cc7",
            "24c5dda4285f4b7aa9805c18c9ec6bda",
            "154d3a27b42f4ad5a3afb102bf6bdb63",
            "e2aba05e09174e4a9dee433611a63fbd",
            "84175c87cb8f4d6dba88cb9ebc0e3c96",
            "6e18520d523042f1a64eace0b6408878",
            "9513c9e753ac4f09979755596894725f",
            "541566cf9fc145ffa338d4f316de053d",
            "0c316c0d49f7452d9c91a1c81390b76e",
            "6b0a181ff18b49d7b0d9409bce3c567d",
            "a92aca5996494679a54921663f548565",
            "83cb22ab12e24f72aeabe38b97b48f48",
            "b14e0b52c8ff4bc9ba21bf49731ad380",
            "dfa4a3547f7e46cba2491b2278ddcbc1",
            "7c8ce1ac087b402fb5014eb1f0f7e6ae",
            "b3c8fb690da349ff9e320a0817922b54",
            "ec3e59b074b14445b8425a2afa538feb",
            "e2429914f67f48208b010da5476e53ba",
            "59c8ec11cc1c47c2a24c29165cbdf6ec",
            "1ab5f4b36ce44a139940cb578c7cd914",
            "7a91772d7b4b4e079d7bf5f3c12ecbb7",
            "e59fcb13defc47edb063da17ccfe28f4",
            "e012ebaddb3f4ec58423053cc7e0abc1",
            "6f43a117f2d1449687b67cbe89b5d013",
            "0e81b7960b3344609b3c4c95e049567c",
            "92671c5644b841139cd15196d11e9de7",
            "a19f752314aa4691ab42ae1976225e99",
            "f67fb22209934ce38e05a484785bd9ea",
            "d2ab0dcf6ef94b609e37343f3560da9b",
            "ccbaa560fd124368b56d77e9662a8c9f",
            "8ba2ef086101459ba7a1f63e6b722c2c",
            "cb5fa7fb460d415199187bd8713927c7",
            "6f52237baefc43a5b669af78de5479f3"
          ]
        },
        "id": "bRoAD6HzmpPc",
        "outputId": "7b7a1f6a-aceb-4706-e88f-ee0452b3f097"
      },
      "execution_count": null,
      "outputs": [
        {
          "output_type": "display_data",
          "data": {
            "text/plain": [
              "Downloading:   0%|          | 0.00/232k [00:00<?, ?B/s]"
            ],
            "application/vnd.jupyter.widget-view+json": {
              "version_major": 2,
              "version_minor": 0,
              "model_id": "a76d37d35d06481fbb30064b20e15847"
            }
          },
          "metadata": {}
        },
        {
          "output_type": "display_data",
          "data": {
            "text/plain": [
              "Downloading:   0%|          | 0.00/28.0 [00:00<?, ?B/s]"
            ],
            "application/vnd.jupyter.widget-view+json": {
              "version_major": 2,
              "version_minor": 0,
              "model_id": "685d1e330c9143ac8ceda1aa2ad79cc7"
            }
          },
          "metadata": {}
        },
        {
          "output_type": "display_data",
          "data": {
            "text/plain": [
              "Downloading:   0%|          | 0.00/570 [00:00<?, ?B/s]"
            ],
            "application/vnd.jupyter.widget-view+json": {
              "version_major": 2,
              "version_minor": 0,
              "model_id": "83cb22ab12e24f72aeabe38b97b48f48"
            }
          },
          "metadata": {}
        },
        {
          "output_type": "display_data",
          "data": {
            "text/plain": [
              "Downloading:   0%|          | 0.00/440M [00:00<?, ?B/s]"
            ],
            "application/vnd.jupyter.widget-view+json": {
              "version_major": 2,
              "version_minor": 0,
              "model_id": "e012ebaddb3f4ec58423053cc7e0abc1"
            }
          },
          "metadata": {}
        },
        {
          "output_type": "stream",
          "name": "stderr",
          "text": [
            "Some weights of the model checkpoint at bert-base-uncased were not used when initializing BertForSequenceClassification: ['cls.seq_relationship.weight', 'cls.predictions.transform.dense.weight', 'cls.predictions.transform.LayerNorm.bias', 'cls.predictions.decoder.weight', 'cls.predictions.transform.dense.bias', 'cls.predictions.bias', 'cls.seq_relationship.bias', 'cls.predictions.transform.LayerNorm.weight']\n",
            "- This IS expected if you are initializing BertForSequenceClassification from the checkpoint of a model trained on another task or with another architecture (e.g. initializing a BertForSequenceClassification model from a BertForPreTraining model).\n",
            "- This IS NOT expected if you are initializing BertForSequenceClassification from the checkpoint of a model that you expect to be exactly identical (initializing a BertForSequenceClassification model from a BertForSequenceClassification model).\n",
            "Some weights of BertForSequenceClassification were not initialized from the model checkpoint at bert-base-uncased and are newly initialized: ['classifier.weight', 'classifier.bias']\n",
            "You should probably TRAIN this model on a down-stream task to be able to use it for predictions and inference.\n"
          ]
        }
      ]
    },
    {
      "cell_type": "code",
      "source": [
        "#model = model.to('cuda')"
      ],
      "metadata": {
        "id": "LcQulwMlrTcz"
      },
      "execution_count": null,
      "outputs": []
    },
    {
      "cell_type": "code",
      "source": [
        "sample_data = [\"I am eating\",\"I am playing \"]\n",
        "tokenizer(sample_data, padding=True, truncation=True, max_length=512)"
      ],
      "metadata": {
        "colab": {
          "base_uri": "https://localhost:8080/"
        },
        "id": "DyIpTjSorb4Z",
        "outputId": "38fe2fd7-938e-4c48-d579-d1dafe4d5823"
      },
      "execution_count": null,
      "outputs": [
        {
          "output_type": "execute_result",
          "data": {
            "text/plain": [
              "{'input_ids': [[101, 1045, 2572, 5983, 102], [101, 1045, 2572, 2652, 102]], 'token_type_ids': [[0, 0, 0, 0, 0], [0, 0, 0, 0, 0]], 'attention_mask': [[1, 1, 1, 1, 1], [1, 1, 1, 1, 1]]}"
            ]
          },
          "metadata": {},
          "execution_count": 18
        }
      ]
    },
    {
      "cell_type": "code",
      "source": [
        "df.isnull().sum()"
      ],
      "metadata": {
        "colab": {
          "base_uri": "https://localhost:8080/"
        },
        "id": "MvjJo19vtHhu",
        "outputId": "f21b3a59-1799-4f1f-93c3-a492b4fe52fa"
      },
      "execution_count": null,
      "outputs": [
        {
          "output_type": "execute_result",
          "data": {
            "text/plain": [
              "id               0\n",
              "comment_text     0\n",
              "toxic            0\n",
              "severe_toxic     0\n",
              "obscene          0\n",
              "threat           0\n",
              "insult           0\n",
              "identity_hate    0\n",
              "label            0\n",
              "dtype: int64"
            ]
          },
          "metadata": {},
          "execution_count": 25
        }
      ]
    },
    {
      "cell_type": "code",
      "source": [
        "df.info()"
      ],
      "metadata": {
        "colab": {
          "base_uri": "https://localhost:8080/"
        },
        "id": "FABFDPpMweXO",
        "outputId": "7176be6c-44c9-40f9-91bf-54c94e2f8d65"
      },
      "execution_count": null,
      "outputs": [
        {
          "output_type": "stream",
          "name": "stdout",
          "text": [
            "<class 'pandas.core.frame.DataFrame'>\n",
            "RangeIndex: 159571 entries, 0 to 159570\n",
            "Data columns (total 9 columns):\n",
            " #   Column         Non-Null Count   Dtype \n",
            "---  ------         --------------   ----- \n",
            " 0   id             159571 non-null  object\n",
            " 1   comment_text   159571 non-null  object\n",
            " 2   toxic          159571 non-null  int64 \n",
            " 3   severe_toxic   159571 non-null  int64 \n",
            " 4   obscene        159571 non-null  int64 \n",
            " 5   threat         159571 non-null  int64 \n",
            " 6   insult         159571 non-null  int64 \n",
            " 7   identity_hate  159571 non-null  int64 \n",
            " 8   label          159571 non-null  object\n",
            "dtypes: int64(6), object(3)\n",
            "memory usage: 11.0+ MB\n"
          ]
        }
      ]
    },
    {
      "cell_type": "code",
      "source": [
        "label_dict = df.label.value_counts().to_dict()"
      ],
      "metadata": {
        "id": "7DiEsDpKtbv1"
      },
      "execution_count": null,
      "outputs": []
    },
    {
      "cell_type": "code",
      "source": [
        "drop_label = [k for k,v in label_dict.items() if v < 2]"
      ],
      "metadata": {
        "id": "dhBLyixzxYbl"
      },
      "execution_count": null,
      "outputs": []
    },
    {
      "cell_type": "code",
      "source": [
        "drop_label"
      ],
      "metadata": {
        "colab": {
          "base_uri": "https://localhost:8080/"
        },
        "id": "pJDvF0z9xmEm",
        "outputId": "804f24c9-311b-4803-e0cc-bd12e2e3154a"
      },
      "execution_count": null,
      "outputs": [
        {
          "output_type": "execute_result",
          "data": {
            "text/plain": [
              "[(1, 1, 0, 1, 1, 0), (1, 1, 0, 1, 0, 1)]"
            ]
          },
          "metadata": {},
          "execution_count": 75
        }
      ]
    },
    {
      "cell_type": "code",
      "source": [
        "df_new = df[~df['label'].isin(drop_label)]"
      ],
      "metadata": {
        "id": "c6FNOE1cy67Q"
      },
      "execution_count": null,
      "outputs": []
    },
    {
      "cell_type": "code",
      "source": [
        "df_new.label.nunique()"
      ],
      "metadata": {
        "colab": {
          "base_uri": "https://localhost:8080/"
        },
        "id": "4V2vikZx0tW5",
        "outputId": "3e0b950c-3a6f-4871-8920-458df57735fc"
      },
      "execution_count": null,
      "outputs": [
        {
          "output_type": "execute_result",
          "data": {
            "text/plain": [
              "39"
            ]
          },
          "metadata": {},
          "execution_count": 77
        }
      ]
    },
    {
      "cell_type": "markdown",
      "source": [
        "## Train Test Split"
      ],
      "metadata": {
        "id": "N8msUD-zrgna"
      }
    },
    {
      "cell_type": "code",
      "source": [
        "data = data[['comment_text','toxic']]\n",
        "data = data[0:1000]\n",
        "data.head()"
      ],
      "metadata": {
        "colab": {
          "base_uri": "https://localhost:8080/",
          "height": 206
        },
        "id": "f0OTmtdlRhwW",
        "outputId": "eba073c8-af10-44de-fb4e-10f3c41ea7e0"
      },
      "execution_count": null,
      "outputs": [
        {
          "output_type": "execute_result",
          "data": {
            "text/plain": [
              "                                        comment_text  toxic\n",
              "0  Explanation\\nWhy the edits made under my usern...      0\n",
              "1  D'aww! He matches this background colour I'm s...      0\n",
              "2  Hey man, I'm really not trying to edit war. It...      0\n",
              "3  \"\\nMore\\nI can't make any real suggestions on ...      0\n",
              "4  You, sir, are my hero. Any chance you remember...      0"
            ],
            "text/html": [
              "\n",
              "  <div id=\"df-4e5bb521-7232-4e94-98f8-c8d09c05db17\">\n",
              "    <div class=\"colab-df-container\">\n",
              "      <div>\n",
              "<style scoped>\n",
              "    .dataframe tbody tr th:only-of-type {\n",
              "        vertical-align: middle;\n",
              "    }\n",
              "\n",
              "    .dataframe tbody tr th {\n",
              "        vertical-align: top;\n",
              "    }\n",
              "\n",
              "    .dataframe thead th {\n",
              "        text-align: right;\n",
              "    }\n",
              "</style>\n",
              "<table border=\"1\" class=\"dataframe\">\n",
              "  <thead>\n",
              "    <tr style=\"text-align: right;\">\n",
              "      <th></th>\n",
              "      <th>comment_text</th>\n",
              "      <th>toxic</th>\n",
              "    </tr>\n",
              "  </thead>\n",
              "  <tbody>\n",
              "    <tr>\n",
              "      <th>0</th>\n",
              "      <td>Explanation\\nWhy the edits made under my usern...</td>\n",
              "      <td>0</td>\n",
              "    </tr>\n",
              "    <tr>\n",
              "      <th>1</th>\n",
              "      <td>D'aww! He matches this background colour I'm s...</td>\n",
              "      <td>0</td>\n",
              "    </tr>\n",
              "    <tr>\n",
              "      <th>2</th>\n",
              "      <td>Hey man, I'm really not trying to edit war. It...</td>\n",
              "      <td>0</td>\n",
              "    </tr>\n",
              "    <tr>\n",
              "      <th>3</th>\n",
              "      <td>\"\\nMore\\nI can't make any real suggestions on ...</td>\n",
              "      <td>0</td>\n",
              "    </tr>\n",
              "    <tr>\n",
              "      <th>4</th>\n",
              "      <td>You, sir, are my hero. Any chance you remember...</td>\n",
              "      <td>0</td>\n",
              "    </tr>\n",
              "  </tbody>\n",
              "</table>\n",
              "</div>\n",
              "      <button class=\"colab-df-convert\" onclick=\"convertToInteractive('df-4e5bb521-7232-4e94-98f8-c8d09c05db17')\"\n",
              "              title=\"Convert this dataframe to an interactive table.\"\n",
              "              style=\"display:none;\">\n",
              "        \n",
              "  <svg xmlns=\"http://www.w3.org/2000/svg\" height=\"24px\"viewBox=\"0 0 24 24\"\n",
              "       width=\"24px\">\n",
              "    <path d=\"M0 0h24v24H0V0z\" fill=\"none\"/>\n",
              "    <path d=\"M18.56 5.44l.94 2.06.94-2.06 2.06-.94-2.06-.94-.94-2.06-.94 2.06-2.06.94zm-11 1L8.5 8.5l.94-2.06 2.06-.94-2.06-.94L8.5 2.5l-.94 2.06-2.06.94zm10 10l.94 2.06.94-2.06 2.06-.94-2.06-.94-.94-2.06-.94 2.06-2.06.94z\"/><path d=\"M17.41 7.96l-1.37-1.37c-.4-.4-.92-.59-1.43-.59-.52 0-1.04.2-1.43.59L10.3 9.45l-7.72 7.72c-.78.78-.78 2.05 0 2.83L4 21.41c.39.39.9.59 1.41.59.51 0 1.02-.2 1.41-.59l7.78-7.78 2.81-2.81c.8-.78.8-2.07 0-2.86zM5.41 20L4 18.59l7.72-7.72 1.47 1.35L5.41 20z\"/>\n",
              "  </svg>\n",
              "      </button>\n",
              "      \n",
              "  <style>\n",
              "    .colab-df-container {\n",
              "      display:flex;\n",
              "      flex-wrap:wrap;\n",
              "      gap: 12px;\n",
              "    }\n",
              "\n",
              "    .colab-df-convert {\n",
              "      background-color: #E8F0FE;\n",
              "      border: none;\n",
              "      border-radius: 50%;\n",
              "      cursor: pointer;\n",
              "      display: none;\n",
              "      fill: #1967D2;\n",
              "      height: 32px;\n",
              "      padding: 0 0 0 0;\n",
              "      width: 32px;\n",
              "    }\n",
              "\n",
              "    .colab-df-convert:hover {\n",
              "      background-color: #E2EBFA;\n",
              "      box-shadow: 0px 1px 2px rgba(60, 64, 67, 0.3), 0px 1px 3px 1px rgba(60, 64, 67, 0.15);\n",
              "      fill: #174EA6;\n",
              "    }\n",
              "\n",
              "    [theme=dark] .colab-df-convert {\n",
              "      background-color: #3B4455;\n",
              "      fill: #D2E3FC;\n",
              "    }\n",
              "\n",
              "    [theme=dark] .colab-df-convert:hover {\n",
              "      background-color: #434B5C;\n",
              "      box-shadow: 0px 1px 3px 1px rgba(0, 0, 0, 0.15);\n",
              "      filter: drop-shadow(0px 1px 2px rgba(0, 0, 0, 0.3));\n",
              "      fill: #FFFFFF;\n",
              "    }\n",
              "  </style>\n",
              "\n",
              "      <script>\n",
              "        const buttonEl =\n",
              "          document.querySelector('#df-4e5bb521-7232-4e94-98f8-c8d09c05db17 button.colab-df-convert');\n",
              "        buttonEl.style.display =\n",
              "          google.colab.kernel.accessAllowed ? 'block' : 'none';\n",
              "\n",
              "        async function convertToInteractive(key) {\n",
              "          const element = document.querySelector('#df-4e5bb521-7232-4e94-98f8-c8d09c05db17');\n",
              "          const dataTable =\n",
              "            await google.colab.kernel.invokeFunction('convertToInteractive',\n",
              "                                                     [key], {});\n",
              "          if (!dataTable) return;\n",
              "\n",
              "          const docLinkHtml = 'Like what you see? Visit the ' +\n",
              "            '<a target=\"_blank\" href=https://colab.research.google.com/notebooks/data_table.ipynb>data table notebook</a>'\n",
              "            + ' to learn more about interactive tables.';\n",
              "          element.innerHTML = '';\n",
              "          dataTable['output_type'] = 'display_data';\n",
              "          await google.colab.output.renderOutput(dataTable, element);\n",
              "          const docLink = document.createElement('div');\n",
              "          docLink.innerHTML = docLinkHtml;\n",
              "          element.appendChild(docLink);\n",
              "        }\n",
              "      </script>\n",
              "    </div>\n",
              "  </div>\n",
              "  "
            ]
          },
          "metadata": {},
          "execution_count": 19
        }
      ]
    },
    {
      "cell_type": "code",
      "source": [
        "X = list(data[\"comment_text\"])\n",
        "y = list(data[\"toxic\"])\n",
        "X_train, X_val, y_train, y_val = train_test_split(X, y, test_size=0.2,stratify=y)\n",
        "X_train_tokenized = tokenizer(X_train, padding=True, truncation=True, max_length=512)\n",
        "X_val_tokenized = tokenizer(X_val, padding=True, truncation=True, max_length=512)"
      ],
      "metadata": {
        "id": "2iWVd9dxrjQM"
      },
      "execution_count": null,
      "outputs": []
    },
    {
      "cell_type": "code",
      "source": [
        "X_train_tokenized.keys()"
      ],
      "metadata": {
        "colab": {
          "base_uri": "https://localhost:8080/"
        },
        "id": "0mCq2CTY1AeD",
        "outputId": "0a196966-2fd7-40fb-d538-f8b7b61d00d4"
      },
      "execution_count": null,
      "outputs": [
        {
          "output_type": "execute_result",
          "data": {
            "text/plain": [
              "dict_keys(['input_ids', 'token_type_ids', 'attention_mask'])"
            ]
          },
          "metadata": {},
          "execution_count": 21
        }
      ]
    },
    {
      "cell_type": "code",
      "source": [
        "len(X_train),len(X_val)"
      ],
      "metadata": {
        "colab": {
          "base_uri": "https://localhost:8080/"
        },
        "id": "MQxjuOli3jwu",
        "outputId": "01d77113-a5f4-4ac9-919b-5ecca2216a86"
      },
      "execution_count": null,
      "outputs": [
        {
          "output_type": "execute_result",
          "data": {
            "text/plain": [
              "(800, 200)"
            ]
          },
          "metadata": {},
          "execution_count": 22
        }
      ]
    },
    {
      "cell_type": "markdown",
      "source": [
        "## To fine tune custom dataset we need to convert the tokenized output into Dataset format\n",
        "\n",
        "* we need to implement the below methods \n",
        "    - __init__ method\n",
        "    - __getitem__ method\n",
        "    - __len__ method"
      ],
      "metadata": {
        "id": "UujiMSmCfaNR"
      }
    },
    {
      "cell_type": "code",
      "source": [
        "# Create torch dataset\n",
        "class Dataset(torch.utils.data.Dataset):\n",
        "    def __init__(self, encodings, labels=None):\n",
        "        self.encodings = encodings\n",
        "        self.labels = labels\n",
        "\n",
        "    def __getitem__(self, idx):\n",
        "        item = {key: torch.tensor(val[idx]) for key, val in self.encodings.items()}\n",
        "        if self.labels:\n",
        "            item[\"labels\"] = torch.tensor(self.labels[idx])\n",
        "        return item\n",
        "\n",
        "    def __len__(self):\n",
        "        return len(self.encodings[\"input_ids\"])"
      ],
      "metadata": {
        "id": "059UcX7M5kiu"
      },
      "execution_count": null,
      "outputs": []
    },
    {
      "cell_type": "code",
      "source": [
        "train_dataset = Dataset(X_train_tokenized, y_train)\n",
        "val_dataset = Dataset(X_val_tokenized, y_val)"
      ],
      "metadata": {
        "id": "SxzVij7Z5nGz"
      },
      "execution_count": null,
      "outputs": []
    },
    {
      "cell_type": "code",
      "source": [
        "train_dataset[5]"
      ],
      "metadata": {
        "colab": {
          "base_uri": "https://localhost:8080/"
        },
        "id": "Hc7gJi515qsA",
        "outputId": "24dcded5-6512-4c8a-8484-ce74ed58d976"
      },
      "execution_count": null,
      "outputs": [
        {
          "output_type": "execute_result",
          "data": {
            "text/plain": [
              "{'input_ids': tensor([  101,  1000, 16948,  1024,  4790,  2005,  3972, 20624,  2239,  1013,\n",
              "         18178,  5063,  6672, 27741,  2115,  2695,  2012,  1996,  2682, 21358,\n",
              "          2094,  2006,  1037,  2047,  7761,  2396,  8572,  2015,  2033,  1012,\n",
              "          2023,  2001,  1996,  2544,  2012,  1996,  2051,  1010,  2008,  2017,\n",
              "          2241,  2115,  2695,  2006,  1012,  2017,  6866,  1024,  1000,  1000,\n",
              "          1045,  2074,  3191,  1996,  3720,  1010,  1998,  2000,  2022,  3243,\n",
              "          7481,  1010,  2514,  2008,  2009,  2515, 13225, 16948,  1005,  1055,\n",
              "         11594,  1012,  1012,  1012,  2009,  2003,  2128,  6632,  6321, 23184,\n",
              "          1012,  1012,  1012,  2144,  1045,  2903,  1996,  2025,  8010,  1997,\n",
              "          1996,  3720,  2003,  8510,  1012,  1012,  1012,  2009,  2085,  2038,\n",
              "          2340,  2981,  4216,  1012,  1998,  2000, 25416, 10421,  1996,  6685,\n",
              "         13686,  2011,  6159,  1010,  2009,  2003,  4340,  2011,  1996, 10852,\n",
              "          1054, 21030,  3120,  2008,  1996,  7761,  2840,  2003,  2025,  2334,\n",
              "          5084,  1000,  1000,  1012,  3531,  5136,  1996,  5936,  2023,  2695,\n",
              "         13275,  1012,  3722,  5609,  2066,  7604,  1010,  2025,  8010,  1998,\n",
              "          2053, 16429,  2666, 24078,  1997, 21358,  5104,  2323,  2022,  9410,\n",
              "          2005,  2151, 17844,  5281,  5310,  1010,  1998,  7852,  1011,  1998,\n",
              "          1011, 12136,  2005,  2151,  4748, 10020,  1012,  1999,  2755,  1037,\n",
              "         12731, 25301,  2854,  4638,  3065,  2008,  2471,  2673,  2017,  3090,\n",
              "          2001,  1012,  1012,  1045,  2123,  1005,  1056,  2031,  1037,  2773,\n",
              "          2005,  2009,  1012,  1000,  1000,  4895, 22852,  1000,  1000,  2003,\n",
              "          2485,  1012,  1996,  1000,  1000,  5408,  2981,  4216,  1000,  1000,\n",
              "          2008,  2017,  3090,  2511,  2025,  8010,  1998,  2512,  1011,  2334,\n",
              "          3989,  2012,  1996,  2051,  1010,  2020,  1024,  2093,  7604,  2013,\n",
              "          2432,  1031,  5435,  2229,  1010,  6157,  1010,  8233,  1033,  1010,\n",
              "          5121,  2077,  1996,  8476,  2130,  5839,  1006,   999,  1007,  1998,\n",
              "          2035,  3141,  2000,  1037,  4458,  3538,  1997,  2739,  2055,  2049,\n",
              "          3910,  2108,  2006,  1996,  2136,  1997,  1037,  3294,  2367,  4368,\n",
              "          1999,  2151,  2724,  1006,   999,  1007,  2048,  7604,  2013,  3083,\n",
              "          2431,  2384,  1031,  9082,  1010,  2317,  1033,  1010,  2471,  5121,\n",
              "          7235,  1998,  7235,  2135, 22537,  2000,  1996,  8476,  1005,  1055,\n",
              "          2025,  8010,  1012,  1996, 15543,  1005,  1055,  3167,  3931,  2006,\n",
              "          2010,  2334,  2237,  4037,  1010,  2471,  5121,  2969,  1011,  2405,\n",
              "          1031,  2880,  2352,  4037,  1033,  1012,  1037,  2263, 10017,  4357,\n",
              "          1999,  1037,  2512,  1011,  3862,  1998,  4298,  2512,  1011, 10539,\n",
              "          2118,  2932,  1006,  4593,  1007,  1997,  1996, 15543,  1005,  1055,\n",
              "          7930,  2000,  2156,  8519,  1999,  1037,  2367,  4368,  1010,  2007,\n",
              "         27250,  4818,  4714,  1006,  1026,  1015,  6251,  1007,  5254,  2008,\n",
              "          2002,  1005,  1040,  6936,  2010,  2047,  4368,  2007,  2068,  2205,\n",
              "          1012,  1031,  1996, 21360,  5170,  1000,  1000,  2474,  1000,  1000,\n",
              "          4357,  1033,  1012,  1017, 10445,  4417,  1000,  1000,  4431,  1998,\n",
              "          2490,  1997,  1010,  2517,  4431,  1000,  1000,  1031,  3782,  1010,\n",
              "          5660,  1010,  1054, 21030,  1033,  1010,  5525,  1037,  5227,  2011,\n",
              "          1996,  3910,  2000,  1037,  2767,  1013, 11729,  4339,  1037,  3661,\n",
              "          1997,  2490,  1010,  2008,  2001,  2196,  2405,  4312,  1998,  3475,\n",
              "          1005,  1056,  6563,  2061,  2017,  2064,  1005,  1056,  2031,  3191,\n",
              "          2009,  1006,  2025,  2008,  2009,  2001,  2130,  4298,  9398,  3350,\n",
              "          1007,  1012,  1037,  2460,  4339,  6279,  1997,  1037,  1000,  1000,\n",
              "          2334,  2592,  1000,  1000,  2785,  1010,  2006,  1996,  2400,  1997,\n",
              "          1996,  2034,  1018,  2304, 18000,  2011,  1996,  2082,  1010,  1999,\n",
              "          2049,  2334,  3259,  1012,  1999,  4766,  1997,  1996,  2340,  1024,\n",
              "          1019,   102]),\n",
              " 'token_type_ids': tensor([0, 0, 0, 0, 0, 0, 0, 0, 0, 0, 0, 0, 0, 0, 0, 0, 0, 0, 0, 0, 0, 0, 0, 0,\n",
              "         0, 0, 0, 0, 0, 0, 0, 0, 0, 0, 0, 0, 0, 0, 0, 0, 0, 0, 0, 0, 0, 0, 0, 0,\n",
              "         0, 0, 0, 0, 0, 0, 0, 0, 0, 0, 0, 0, 0, 0, 0, 0, 0, 0, 0, 0, 0, 0, 0, 0,\n",
              "         0, 0, 0, 0, 0, 0, 0, 0, 0, 0, 0, 0, 0, 0, 0, 0, 0, 0, 0, 0, 0, 0, 0, 0,\n",
              "         0, 0, 0, 0, 0, 0, 0, 0, 0, 0, 0, 0, 0, 0, 0, 0, 0, 0, 0, 0, 0, 0, 0, 0,\n",
              "         0, 0, 0, 0, 0, 0, 0, 0, 0, 0, 0, 0, 0, 0, 0, 0, 0, 0, 0, 0, 0, 0, 0, 0,\n",
              "         0, 0, 0, 0, 0, 0, 0, 0, 0, 0, 0, 0, 0, 0, 0, 0, 0, 0, 0, 0, 0, 0, 0, 0,\n",
              "         0, 0, 0, 0, 0, 0, 0, 0, 0, 0, 0, 0, 0, 0, 0, 0, 0, 0, 0, 0, 0, 0, 0, 0,\n",
              "         0, 0, 0, 0, 0, 0, 0, 0, 0, 0, 0, 0, 0, 0, 0, 0, 0, 0, 0, 0, 0, 0, 0, 0,\n",
              "         0, 0, 0, 0, 0, 0, 0, 0, 0, 0, 0, 0, 0, 0, 0, 0, 0, 0, 0, 0, 0, 0, 0, 0,\n",
              "         0, 0, 0, 0, 0, 0, 0, 0, 0, 0, 0, 0, 0, 0, 0, 0, 0, 0, 0, 0, 0, 0, 0, 0,\n",
              "         0, 0, 0, 0, 0, 0, 0, 0, 0, 0, 0, 0, 0, 0, 0, 0, 0, 0, 0, 0, 0, 0, 0, 0,\n",
              "         0, 0, 0, 0, 0, 0, 0, 0, 0, 0, 0, 0, 0, 0, 0, 0, 0, 0, 0, 0, 0, 0, 0, 0,\n",
              "         0, 0, 0, 0, 0, 0, 0, 0, 0, 0, 0, 0, 0, 0, 0, 0, 0, 0, 0, 0, 0, 0, 0, 0,\n",
              "         0, 0, 0, 0, 0, 0, 0, 0, 0, 0, 0, 0, 0, 0, 0, 0, 0, 0, 0, 0, 0, 0, 0, 0,\n",
              "         0, 0, 0, 0, 0, 0, 0, 0, 0, 0, 0, 0, 0, 0, 0, 0, 0, 0, 0, 0, 0, 0, 0, 0,\n",
              "         0, 0, 0, 0, 0, 0, 0, 0, 0, 0, 0, 0, 0, 0, 0, 0, 0, 0, 0, 0, 0, 0, 0, 0,\n",
              "         0, 0, 0, 0, 0, 0, 0, 0, 0, 0, 0, 0, 0, 0, 0, 0, 0, 0, 0, 0, 0, 0, 0, 0,\n",
              "         0, 0, 0, 0, 0, 0, 0, 0, 0, 0, 0, 0, 0, 0, 0, 0, 0, 0, 0, 0, 0, 0, 0, 0,\n",
              "         0, 0, 0, 0, 0, 0, 0, 0, 0, 0, 0, 0, 0, 0, 0, 0, 0, 0, 0, 0, 0, 0, 0, 0,\n",
              "         0, 0, 0, 0, 0, 0, 0, 0, 0, 0, 0, 0, 0, 0, 0, 0, 0, 0, 0, 0, 0, 0, 0, 0,\n",
              "         0, 0, 0, 0, 0, 0, 0, 0]),\n",
              " 'attention_mask': tensor([1, 1, 1, 1, 1, 1, 1, 1, 1, 1, 1, 1, 1, 1, 1, 1, 1, 1, 1, 1, 1, 1, 1, 1,\n",
              "         1, 1, 1, 1, 1, 1, 1, 1, 1, 1, 1, 1, 1, 1, 1, 1, 1, 1, 1, 1, 1, 1, 1, 1,\n",
              "         1, 1, 1, 1, 1, 1, 1, 1, 1, 1, 1, 1, 1, 1, 1, 1, 1, 1, 1, 1, 1, 1, 1, 1,\n",
              "         1, 1, 1, 1, 1, 1, 1, 1, 1, 1, 1, 1, 1, 1, 1, 1, 1, 1, 1, 1, 1, 1, 1, 1,\n",
              "         1, 1, 1, 1, 1, 1, 1, 1, 1, 1, 1, 1, 1, 1, 1, 1, 1, 1, 1, 1, 1, 1, 1, 1,\n",
              "         1, 1, 1, 1, 1, 1, 1, 1, 1, 1, 1, 1, 1, 1, 1, 1, 1, 1, 1, 1, 1, 1, 1, 1,\n",
              "         1, 1, 1, 1, 1, 1, 1, 1, 1, 1, 1, 1, 1, 1, 1, 1, 1, 1, 1, 1, 1, 1, 1, 1,\n",
              "         1, 1, 1, 1, 1, 1, 1, 1, 1, 1, 1, 1, 1, 1, 1, 1, 1, 1, 1, 1, 1, 1, 1, 1,\n",
              "         1, 1, 1, 1, 1, 1, 1, 1, 1, 1, 1, 1, 1, 1, 1, 1, 1, 1, 1, 1, 1, 1, 1, 1,\n",
              "         1, 1, 1, 1, 1, 1, 1, 1, 1, 1, 1, 1, 1, 1, 1, 1, 1, 1, 1, 1, 1, 1, 1, 1,\n",
              "         1, 1, 1, 1, 1, 1, 1, 1, 1, 1, 1, 1, 1, 1, 1, 1, 1, 1, 1, 1, 1, 1, 1, 1,\n",
              "         1, 1, 1, 1, 1, 1, 1, 1, 1, 1, 1, 1, 1, 1, 1, 1, 1, 1, 1, 1, 1, 1, 1, 1,\n",
              "         1, 1, 1, 1, 1, 1, 1, 1, 1, 1, 1, 1, 1, 1, 1, 1, 1, 1, 1, 1, 1, 1, 1, 1,\n",
              "         1, 1, 1, 1, 1, 1, 1, 1, 1, 1, 1, 1, 1, 1, 1, 1, 1, 1, 1, 1, 1, 1, 1, 1,\n",
              "         1, 1, 1, 1, 1, 1, 1, 1, 1, 1, 1, 1, 1, 1, 1, 1, 1, 1, 1, 1, 1, 1, 1, 1,\n",
              "         1, 1, 1, 1, 1, 1, 1, 1, 1, 1, 1, 1, 1, 1, 1, 1, 1, 1, 1, 1, 1, 1, 1, 1,\n",
              "         1, 1, 1, 1, 1, 1, 1, 1, 1, 1, 1, 1, 1, 1, 1, 1, 1, 1, 1, 1, 1, 1, 1, 1,\n",
              "         1, 1, 1, 1, 1, 1, 1, 1, 1, 1, 1, 1, 1, 1, 1, 1, 1, 1, 1, 1, 1, 1, 1, 1,\n",
              "         1, 1, 1, 1, 1, 1, 1, 1, 1, 1, 1, 1, 1, 1, 1, 1, 1, 1, 1, 1, 1, 1, 1, 1,\n",
              "         1, 1, 1, 1, 1, 1, 1, 1, 1, 1, 1, 1, 1, 1, 1, 1, 1, 1, 1, 1, 1, 1, 1, 1,\n",
              "         1, 1, 1, 1, 1, 1, 1, 1, 1, 1, 1, 1, 1, 1, 1, 1, 1, 1, 1, 1, 1, 1, 1, 1,\n",
              "         1, 1, 1, 1, 1, 1, 1, 1]),\n",
              " 'labels': tensor(0)}"
            ]
          },
          "metadata": {},
          "execution_count": 51
        }
      ]
    },
    {
      "cell_type": "markdown",
      "source": [
        "* attention mask 0 indicates actual word\n",
        "* attention mask 1 indicates padding"
      ],
      "metadata": {
        "id": "xyFX0eh3dDfh"
      }
    },
    {
      "cell_type": "code",
      "source": [
        "def compute_metrics(p):\n",
        "    print(type(p))\n",
        "    pred, labels = p\n",
        "    pred = np.argmax(pred, axis=1)\n",
        "\n",
        "    accuracy = accuracy_score(y_true=labels, y_pred=pred)\n",
        "    recall = recall_score(y_true=labels, y_pred=pred)\n",
        "    precision = precision_score(y_true=labels, y_pred=pred)\n",
        "    f1 = f1_score(y_true=labels, y_pred=pred)\n",
        "\n",
        "    return {\"accuracy\": accuracy, \"precision\": precision, \"recall\": recall, \"f1\": f1}"
      ],
      "metadata": {
        "id": "N5Oq4MXE5tWf"
      },
      "execution_count": null,
      "outputs": []
    },
    {
      "cell_type": "markdown",
      "source": [
        "## Use this code to see memory usage"
      ],
      "metadata": {
        "id": "FGpEpZZ6IZEe"
      }
    },
    {
      "cell_type": "code",
      "source": [
        "!pip install GPUtil\n",
        "\n",
        "from GPUtil import showUtilization as gpu_usage\n",
        "gpu_usage()   "
      ],
      "metadata": {
        "colab": {
          "base_uri": "https://localhost:8080/"
        },
        "id": "EMn2BithIZ-a",
        "outputId": "86d47726-9a21-443f-8c3d-c45701884824"
      },
      "execution_count": null,
      "outputs": [
        {
          "output_type": "stream",
          "name": "stdout",
          "text": [
            "Looking in indexes: https://pypi.org/simple, https://us-python.pkg.dev/colab-wheels/public/simple/\n",
            "Collecting GPUtil\n",
            "  Downloading GPUtil-1.4.0.tar.gz (5.5 kB)\n",
            "Building wheels for collected packages: GPUtil\n",
            "  Building wheel for GPUtil (setup.py) ... \u001b[?25l\u001b[?25hdone\n",
            "  Created wheel for GPUtil: filename=GPUtil-1.4.0-py3-none-any.whl size=7411 sha256=799b851d83635e1633e73ac4ee012f2ee8b98cbce04e6242d6f414647a72525b\n",
            "  Stored in directory: /root/.cache/pip/wheels/6e/f8/83/534c52482d6da64622ddbf72cd93c35d2ef2881b78fd08ff0c\n",
            "Successfully built GPUtil\n",
            "Installing collected packages: GPUtil\n",
            "Successfully installed GPUtil-1.4.0\n",
            "| ID | GPU | MEM |\n",
            "------------------\n",
            "|  0 |  0% |  0% |\n"
          ]
        }
      ]
    },
    {
      "cell_type": "markdown",
      "source": [
        "## Use this code to clear your memory:"
      ],
      "metadata": {
        "id": "T6jgs3LNImBr"
      }
    },
    {
      "cell_type": "code",
      "source": [
        "import torch\n",
        "from GPUtil import showUtilization as gpu_usage\n",
        "from numba import cuda\n",
        "\n",
        "def free_gpu_cache():\n",
        "    print(\"Initial GPU Usage\")\n",
        "    gpu_usage()                             \n",
        "\n",
        "    torch.cuda.empty_cache()\n",
        "\n",
        "    cuda.select_device(0)\n",
        "    cuda.close()\n",
        "    cuda.select_device(0)\n",
        "\n",
        "    print(\"GPU Usage after emptying the cache\")\n",
        "    gpu_usage()\n",
        "\n",
        " "
      ],
      "metadata": {
        "id": "RF0DiTjcIp1L"
      },
      "execution_count": null,
      "outputs": []
    },
    {
      "cell_type": "markdown",
      "source": [
        "## You can also use this code to clear your memory"
      ],
      "metadata": {
        "id": "hZJBvJ89IwoF"
      }
    },
    {
      "cell_type": "code",
      "source": [
        "# Define Trainer\n",
        "args = TrainingArguments(\n",
        "    output_dir=\"output\",\n",
        "    num_train_epochs=1,\n",
        "    per_device_train_batch_size=8\n",
        "\n",
        ")\n",
        "trainer = Trainer(\n",
        "    model=model,\n",
        "    args=args,\n",
        "    train_dataset=train_dataset,\n",
        "    eval_dataset=val_dataset,\n",
        "    compute_metrics=compute_metrics\n",
        ")"
      ],
      "metadata": {
        "id": "we5IDzbU5vXK"
      },
      "execution_count": null,
      "outputs": []
    },
    {
      "cell_type": "code",
      "source": [
        "training_args = TrainingArguments(\n",
        "    output_dir='./res',          # output directory\n",
        "    evaluation_strategy=\"steps\",\n",
        "    num_train_epochs=1,              # total number of training epochs\n",
        "    per_device_train_batch_size=32,  # batch size per device during training\n",
        "    per_device_eval_batch_size=32,   # batch size for evaluation\n",
        "    warmup_steps=500,                # number of warmup steps for learning rate scheduler\n",
        "    weight_decay=0.01,               # strength of weight decay\n",
        "    logging_dir='./logs4',            # directory for storing logs\n",
        "    logging_steps=10,\n",
        "    load_best_model_at_end=True,\n",
        "    report_to =None,\n",
        ")"
      ],
      "metadata": {
        "colab": {
          "base_uri": "https://localhost:8080/"
        },
        "id": "-ej_Ek4yPtJ-",
        "outputId": "2217decb-297d-4e06-e779-db696e21994b"
      },
      "execution_count": null,
      "outputs": [
        {
          "output_type": "stream",
          "name": "stderr",
          "text": [
            "using `logging_steps` to initialize `eval_steps` to 10\n",
            "PyTorch: setting up devices\n",
            "The default value for the training argument `--report_to` will change in v5 (from all installed integrations to none). In v5, you will need to use `--report_to all` to get the same behavior as now. You should start updating your code and make this info disappear :-).\n"
          ]
        }
      ]
    },
    {
      "cell_type": "code",
      "source": [
        "import os\n",
        "os.environ['CUDA_LAUNCH_BLOCKING'] = \"1\""
      ],
      "metadata": {
        "id": "EIzeed_CRC1j"
      },
      "execution_count": null,
      "outputs": []
    },
    {
      "cell_type": "code",
      "source": [
        "trainer = Trainer(\n",
        "    model=model,\n",
        "    args=training_args ,\n",
        "    train_dataset=train_dataset,\n",
        "    eval_dataset=val_dataset,\n",
        "    compute_metrics=compute_metrics\n",
        ")"
      ],
      "metadata": {
        "id": "venqVoYEQsR4"
      },
      "execution_count": null,
      "outputs": []
    },
    {
      "cell_type": "code",
      "source": [
        "trainer.train()"
      ],
      "metadata": {
        "colab": {
          "base_uri": "https://localhost:8080/",
          "height": 387
        },
        "id": "H5bpemwg52Ae",
        "outputId": "f49c525a-4ae2-42bb-ea9c-f5c4158d93ae"
      },
      "execution_count": null,
      "outputs": [
        {
          "output_type": "stream",
          "name": "stderr",
          "text": [
            "/usr/local/lib/python3.7/dist-packages/transformers/optimization.py:310: FutureWarning: This implementation of AdamW is deprecated and will be removed in a future version. Use the PyTorch implementation torch.optim.AdamW instead, or set `no_deprecation_warning=True` to disable this warning\n",
            "  FutureWarning,\n",
            "***** Running training *****\n",
            "  Num examples = 800\n",
            "  Num Epochs = 1\n",
            "  Instantaneous batch size per device = 8\n",
            "  Total train batch size (w. parallel, distributed & accumulation) = 8\n",
            "  Gradient Accumulation steps = 1\n",
            "  Total optimization steps = 100\n"
          ]
        },
        {
          "output_type": "display_data",
          "data": {
            "text/plain": [
              "<IPython.core.display.HTML object>"
            ],
            "text/html": [
              "\n",
              "    <div>\n",
              "      \n",
              "      <progress value='100' max='100' style='width:300px; height:20px; vertical-align: middle;'></progress>\n",
              "      [100/100 38:53, Epoch 1/1]\n",
              "    </div>\n",
              "    <table border=\"1\" class=\"dataframe\">\n",
              "  <thead>\n",
              " <tr style=\"text-align: left;\">\n",
              "      <th>Step</th>\n",
              "      <th>Training Loss</th>\n",
              "    </tr>\n",
              "  </thead>\n",
              "  <tbody>\n",
              "  </tbody>\n",
              "</table><p>"
            ]
          },
          "metadata": {}
        },
        {
          "output_type": "stream",
          "name": "stderr",
          "text": [
            "\n",
            "\n",
            "Training completed. Do not forget to share your model on huggingface.co/models =)\n",
            "\n",
            "\n"
          ]
        },
        {
          "output_type": "execute_result",
          "data": {
            "text/plain": [
              "TrainOutput(global_step=100, training_loss=0.2832786560058594, metrics={'train_runtime': 2360.822, 'train_samples_per_second': 0.339, 'train_steps_per_second': 0.042, 'total_flos': 210488844288000.0, 'train_loss': 0.2832786560058594, 'epoch': 1.0})"
            ]
          },
          "metadata": {},
          "execution_count": 27
        }
      ]
    },
    {
      "cell_type": "markdown",
      "source": [
        "## evaluate the model trained"
      ],
      "metadata": {
        "id": "5_mV3nv0fsv-"
      }
    },
    {
      "cell_type": "code",
      "source": [
        "trainer.evaluate()"
      ],
      "metadata": {
        "colab": {
          "base_uri": "https://localhost:8080/",
          "height": 274
        },
        "id": "sg04b5gKfvpM",
        "outputId": "2167e5df-dca8-4481-f8a1-1ce8327f2716"
      },
      "execution_count": null,
      "outputs": [
        {
          "output_type": "stream",
          "name": "stderr",
          "text": [
            "***** Running Evaluation *****\n",
            "  Num examples = 200\n",
            "  Batch size = 8\n"
          ]
        },
        {
          "output_type": "display_data",
          "data": {
            "text/plain": [
              "<IPython.core.display.HTML object>"
            ],
            "text/html": [
              "\n",
              "    <div>\n",
              "      \n",
              "      <progress value='25' max='25' style='width:300px; height:20px; vertical-align: middle;'></progress>\n",
              "      [25/25 03:24]\n",
              "    </div>\n",
              "    "
            ]
          },
          "metadata": {}
        },
        {
          "output_type": "stream",
          "name": "stdout",
          "text": [
            "<class 'transformers.trainer_utils.EvalPrediction'>\n"
          ]
        },
        {
          "output_type": "execute_result",
          "data": {
            "text/plain": [
              "{'eval_loss': 0.12016664445400238,\n",
              " 'eval_accuracy': 0.945,\n",
              " 'eval_precision': 0.75,\n",
              " 'eval_recall': 0.7142857142857143,\n",
              " 'eval_f1': 0.7317073170731706,\n",
              " 'eval_runtime': 214.1354,\n",
              " 'eval_samples_per_second': 0.934,\n",
              " 'eval_steps_per_second': 0.117,\n",
              " 'epoch': 1.0}"
            ]
          },
          "metadata": {},
          "execution_count": 28
        }
      ]
    },
    {
      "cell_type": "code",
      "source": [
        "np.set_printoptions(suppress=True)"
      ],
      "metadata": {
        "id": "2c1vw8n_gg_j"
      },
      "execution_count": null,
      "outputs": []
    },
    {
      "cell_type": "markdown",
      "source": [
        "## Make Inference based on the Trained Model"
      ],
      "metadata": {
        "id": "sr1JOAalgOtY"
      }
    },
    {
      "cell_type": "code",
      "source": [
        "text = \"That was so gross\"\n",
        "inputs = tokenizer(text,padding = True, truncation = True, return_tensors='pt')\n",
        "outputs = model(**inputs)\n",
        "print(outputs)\n",
        "predictions = torch.nn.functional.softmax(outputs.logits, dim=-1)\n",
        "print(predictions)\n",
        "predictions = predictions.cpu().detach().numpy()\n",
        "predictions"
      ],
      "metadata": {
        "id": "XkBz18uEs2cc"
      },
      "execution_count": null,
      "outputs": []
    },
    {
      "cell_type": "markdown",
      "source": [
        "## Save the Model"
      ],
      "metadata": {
        "id": "aWKccTs3glkt"
      }
    },
    {
      "cell_type": "code",
      "source": [
        "trainer.save_model('CustomModel')"
      ],
      "metadata": {
        "id": "VHVJGjmqgo2B"
      },
      "execution_count": null,
      "outputs": []
    },
    {
      "cell_type": "markdown",
      "source": [
        "## Load the saved Model and make predictions"
      ],
      "metadata": {
        "id": "wUZmGy_-grjF"
      }
    },
    {
      "cell_type": "code",
      "source": [
        "saved_model = BertForSequenceClassification.from_pretrained(\"CustomModel\")"
      ],
      "metadata": {
        "id": "HJAYtFGngx56"
      },
      "execution_count": null,
      "outputs": []
    },
    {
      "cell_type": "code",
      "source": [
        "#saved_model.to('cuda')"
      ],
      "metadata": {
        "id": "6SNc1xhuhI5f"
      },
      "execution_count": null,
      "outputs": []
    },
    {
      "cell_type": "markdown",
      "source": [
        "## Make Predictions"
      ],
      "metadata": {
        "id": "6Vdg8546g5PS"
      }
    },
    {
      "cell_type": "code",
      "source": [
        "text = \"That was good point\"\n",
        "inputs = tokenizer(text,padding = True, truncation = True, return_tensors='pt')\n",
        "#inputs = tokenizer(text,padding = True, truncation = True, return_tensors='pt').to('cuda')\n",
        "outputs = model_2(**inputs)\n",
        "predictions = torch.nn.functional.softmax(outputs.logits, dim=-1)\n",
        "predictions = predictions.cpu().detach().numpy()\n",
        "predictions"
      ],
      "metadata": {
        "id": "i5_W8T38g7eF"
      },
      "execution_count": null,
      "outputs": []
    },
    {
      "cell_type": "code",
      "source": [],
      "metadata": {
        "id": "l8jfyfTBg4o8"
      },
      "execution_count": null,
      "outputs": []
    }
  ]
}
{
  "nbformat": 4,
  "nbformat_minor": 0,
  "metadata": {
    "colab": {
      "provenance": [],
      "authorship_tag": "ABX9TyM7gRP3aQ+7+fUEMU/LUIGH",
      "include_colab_link": true
    },
    "kernelspec": {
      "name": "python3",
      "display_name": "Python 3"
    },
    "language_info": {
      "name": "python"
    },
    "accelerator": "GPU",
    "gpuClass": "standard",
    "widgets": {
      "application/vnd.jupyter.widget-state+json": {
        "f373c5dd60184bfe87e4239ff5eea3f7": {
          "model_module": "@jupyter-widgets/controls",
          "model_name": "HBoxModel",
          "model_module_version": "1.5.0",
          "state": {
            "_dom_classes": [],
            "_model_module": "@jupyter-widgets/controls",
            "_model_module_version": "1.5.0",
            "_model_name": "HBoxModel",
            "_view_count": null,
            "_view_module": "@jupyter-widgets/controls",
            "_view_module_version": "1.5.0",
            "_view_name": "HBoxView",
            "box_style": "",
            "children": [
              "IPY_MODEL_330bf94a7574453ca256adf201db45c5",
              "IPY_MODEL_797b5f7e321043e0a2780b3e408ba4b1",
              "IPY_MODEL_43b2e73d706844d5983124034e73dd74"
            ],
            "layout": "IPY_MODEL_e019197a82a447cdaf6d1ef1692a1ba1"
          }
        },
        "330bf94a7574453ca256adf201db45c5": {
          "model_module": "@jupyter-widgets/controls",
          "model_name": "HTMLModel",
          "model_module_version": "1.5.0",
          "state": {
            "_dom_classes": [],
            "_model_module": "@jupyter-widgets/controls",
            "_model_module_version": "1.5.0",
            "_model_name": "HTMLModel",
            "_view_count": null,
            "_view_module": "@jupyter-widgets/controls",
            "_view_module_version": "1.5.0",
            "_view_name": "HTMLView",
            "description": "",
            "description_tooltip": null,
            "layout": "IPY_MODEL_e680f1ea94ef484482922dba04daca0a",
            "placeholder": "​",
            "style": "IPY_MODEL_fbfe999694fe4688bdcaebf82f97cb01",
            "value": "Downloading: 100%"
          }
        },
        "797b5f7e321043e0a2780b3e408ba4b1": {
          "model_module": "@jupyter-widgets/controls",
          "model_name": "FloatProgressModel",
          "model_module_version": "1.5.0",
          "state": {
            "_dom_classes": [],
            "_model_module": "@jupyter-widgets/controls",
            "_model_module_version": "1.5.0",
            "_model_name": "FloatProgressModel",
            "_view_count": null,
            "_view_module": "@jupyter-widgets/controls",
            "_view_module_version": "1.5.0",
            "_view_name": "ProgressView",
            "bar_style": "success",
            "description": "",
            "description_tooltip": null,
            "layout": "IPY_MODEL_c47a9d87c8e04cd7b13882c9f18ce836",
            "max": 406,
            "min": 0,
            "orientation": "horizontal",
            "style": "IPY_MODEL_bb0dc8b194a64de8ae1abd35364dc68b",
            "value": 406
          }
        },
        "43b2e73d706844d5983124034e73dd74": {
          "model_module": "@jupyter-widgets/controls",
          "model_name": "HTMLModel",
          "model_module_version": "1.5.0",
          "state": {
            "_dom_classes": [],
            "_model_module": "@jupyter-widgets/controls",
            "_model_module_version": "1.5.0",
            "_model_name": "HTMLModel",
            "_view_count": null,
            "_view_module": "@jupyter-widgets/controls",
            "_view_module_version": "1.5.0",
            "_view_name": "HTMLView",
            "description": "",
            "description_tooltip": null,
            "layout": "IPY_MODEL_fb53ef4f91eb44dc875d8634e86d377b",
            "placeholder": "​",
            "style": "IPY_MODEL_9d919991ef0b4669947e599c755edf73",
            "value": " 406/406 [00:00&lt;00:00, 5.08kB/s]"
          }
        },
        "e019197a82a447cdaf6d1ef1692a1ba1": {
          "model_module": "@jupyter-widgets/base",
          "model_name": "LayoutModel",
          "model_module_version": "1.2.0",
          "state": {
            "_model_module": "@jupyter-widgets/base",
            "_model_module_version": "1.2.0",
            "_model_name": "LayoutModel",
            "_view_count": null,
            "_view_module": "@jupyter-widgets/base",
            "_view_module_version": "1.2.0",
            "_view_name": "LayoutView",
            "align_content": null,
            "align_items": null,
            "align_self": null,
            "border": null,
            "bottom": null,
            "display": null,
            "flex": null,
            "flex_flow": null,
            "grid_area": null,
            "grid_auto_columns": null,
            "grid_auto_flow": null,
            "grid_auto_rows": null,
            "grid_column": null,
            "grid_gap": null,
            "grid_row": null,
            "grid_template_areas": null,
            "grid_template_columns": null,
            "grid_template_rows": null,
            "height": null,
            "justify_content": null,
            "justify_items": null,
            "left": null,
            "margin": null,
            "max_height": null,
            "max_width": null,
            "min_height": null,
            "min_width": null,
            "object_fit": null,
            "object_position": null,
            "order": null,
            "overflow": null,
            "overflow_x": null,
            "overflow_y": null,
            "padding": null,
            "right": null,
            "top": null,
            "visibility": null,
            "width": null
          }
        },
        "e680f1ea94ef484482922dba04daca0a": {
          "model_module": "@jupyter-widgets/base",
          "model_name": "LayoutModel",
          "model_module_version": "1.2.0",
          "state": {
            "_model_module": "@jupyter-widgets/base",
            "_model_module_version": "1.2.0",
            "_model_name": "LayoutModel",
            "_view_count": null,
            "_view_module": "@jupyter-widgets/base",
            "_view_module_version": "1.2.0",
            "_view_name": "LayoutView",
            "align_content": null,
            "align_items": null,
            "align_self": null,
            "border": null,
            "bottom": null,
            "display": null,
            "flex": null,
            "flex_flow": null,
            "grid_area": null,
            "grid_auto_columns": null,
            "grid_auto_flow": null,
            "grid_auto_rows": null,
            "grid_column": null,
            "grid_gap": null,
            "grid_row": null,
            "grid_template_areas": null,
            "grid_template_columns": null,
            "grid_template_rows": null,
            "height": null,
            "justify_content": null,
            "justify_items": null,
            "left": null,
            "margin": null,
            "max_height": null,
            "max_width": null,
            "min_height": null,
            "min_width": null,
            "object_fit": null,
            "object_position": null,
            "order": null,
            "overflow": null,
            "overflow_x": null,
            "overflow_y": null,
            "padding": null,
            "right": null,
            "top": null,
            "visibility": null,
            "width": null
          }
        },
        "fbfe999694fe4688bdcaebf82f97cb01": {
          "model_module": "@jupyter-widgets/controls",
          "model_name": "DescriptionStyleModel",
          "model_module_version": "1.5.0",
          "state": {
            "_model_module": "@jupyter-widgets/controls",
            "_model_module_version": "1.5.0",
            "_model_name": "DescriptionStyleModel",
            "_view_count": null,
            "_view_module": "@jupyter-widgets/base",
            "_view_module_version": "1.2.0",
            "_view_name": "StyleView",
            "description_width": ""
          }
        },
        "c47a9d87c8e04cd7b13882c9f18ce836": {
          "model_module": "@jupyter-widgets/base",
          "model_name": "LayoutModel",
          "model_module_version": "1.2.0",
          "state": {
            "_model_module": "@jupyter-widgets/base",
            "_model_module_version": "1.2.0",
            "_model_name": "LayoutModel",
            "_view_count": null,
            "_view_module": "@jupyter-widgets/base",
            "_view_module_version": "1.2.0",
            "_view_name": "LayoutView",
            "align_content": null,
            "align_items": null,
            "align_self": null,
            "border": null,
            "bottom": null,
            "display": null,
            "flex": null,
            "flex_flow": null,
            "grid_area": null,
            "grid_auto_columns": null,
            "grid_auto_flow": null,
            "grid_auto_rows": null,
            "grid_column": null,
            "grid_gap": null,
            "grid_row": null,
            "grid_template_areas": null,
            "grid_template_columns": null,
            "grid_template_rows": null,
            "height": null,
            "justify_content": null,
            "justify_items": null,
            "left": null,
            "margin": null,
            "max_height": null,
            "max_width": null,
            "min_height": null,
            "min_width": null,
            "object_fit": null,
            "object_position": null,
            "order": null,
            "overflow": null,
            "overflow_x": null,
            "overflow_y": null,
            "padding": null,
            "right": null,
            "top": null,
            "visibility": null,
            "width": null
          }
        },
        "bb0dc8b194a64de8ae1abd35364dc68b": {
          "model_module": "@jupyter-widgets/controls",
          "model_name": "ProgressStyleModel",
          "model_module_version": "1.5.0",
          "state": {
            "_model_module": "@jupyter-widgets/controls",
            "_model_module_version": "1.5.0",
            "_model_name": "ProgressStyleModel",
            "_view_count": null,
            "_view_module": "@jupyter-widgets/base",
            "_view_module_version": "1.2.0",
            "_view_name": "StyleView",
            "bar_color": null,
            "description_width": ""
          }
        },
        "fb53ef4f91eb44dc875d8634e86d377b": {
          "model_module": "@jupyter-widgets/base",
          "model_name": "LayoutModel",
          "model_module_version": "1.2.0",
          "state": {
            "_model_module": "@jupyter-widgets/base",
            "_model_module_version": "1.2.0",
            "_model_name": "LayoutModel",
            "_view_count": null,
            "_view_module": "@jupyter-widgets/base",
            "_view_module_version": "1.2.0",
            "_view_name": "LayoutView",
            "align_content": null,
            "align_items": null,
            "align_self": null,
            "border": null,
            "bottom": null,
            "display": null,
            "flex": null,
            "flex_flow": null,
            "grid_area": null,
            "grid_auto_columns": null,
            "grid_auto_flow": null,
            "grid_auto_rows": null,
            "grid_column": null,
            "grid_gap": null,
            "grid_row": null,
            "grid_template_areas": null,
            "grid_template_columns": null,
            "grid_template_rows": null,
            "height": null,
            "justify_content": null,
            "justify_items": null,
            "left": null,
            "margin": null,
            "max_height": null,
            "max_width": null,
            "min_height": null,
            "min_width": null,
            "object_fit": null,
            "object_position": null,
            "order": null,
            "overflow": null,
            "overflow_x": null,
            "overflow_y": null,
            "padding": null,
            "right": null,
            "top": null,
            "visibility": null,
            "width": null
          }
        },
        "9d919991ef0b4669947e599c755edf73": {
          "model_module": "@jupyter-widgets/controls",
          "model_name": "DescriptionStyleModel",
          "model_module_version": "1.5.0",
          "state": {
            "_model_module": "@jupyter-widgets/controls",
            "_model_module_version": "1.5.0",
            "_model_name": "DescriptionStyleModel",
            "_view_count": null,
            "_view_module": "@jupyter-widgets/base",
            "_view_module_version": "1.2.0",
            "_view_name": "StyleView",
            "description_width": ""
          }
        },
        "b47351db6a3d494da4fe39c94d4741b0": {
          "model_module": "@jupyter-widgets/controls",
          "model_name": "HBoxModel",
          "model_module_version": "1.5.0",
          "state": {
            "_dom_classes": [],
            "_model_module": "@jupyter-widgets/controls",
            "_model_module_version": "1.5.0",
            "_model_name": "HBoxModel",
            "_view_count": null,
            "_view_module": "@jupyter-widgets/controls",
            "_view_module_version": "1.5.0",
            "_view_name": "HBoxView",
            "box_style": "",
            "children": [
              "IPY_MODEL_cbf11fe36c344644a25dd2b71a45b8da",
              "IPY_MODEL_c030b53401f74befab075157d5e586ec",
              "IPY_MODEL_91a96423cb6544edbf92975cd769c2f5"
            ],
            "layout": "IPY_MODEL_58c828878f7d47cbabd71d97fd37d674"
          }
        },
        "cbf11fe36c344644a25dd2b71a45b8da": {
          "model_module": "@jupyter-widgets/controls",
          "model_name": "HTMLModel",
          "model_module_version": "1.5.0",
          "state": {
            "_dom_classes": [],
            "_model_module": "@jupyter-widgets/controls",
            "_model_module_version": "1.5.0",
            "_model_name": "HTMLModel",
            "_view_count": null,
            "_view_module": "@jupyter-widgets/controls",
            "_view_module_version": "1.5.0",
            "_view_name": "HTMLView",
            "description": "",
            "description_tooltip": null,
            "layout": "IPY_MODEL_e678d67588d045d18e21d1b8cb567d47",
            "placeholder": "​",
            "style": "IPY_MODEL_eab454b4068f43afb969fffb8bfa7c75",
            "value": "Downloading: 100%"
          }
        },
        "c030b53401f74befab075157d5e586ec": {
          "model_module": "@jupyter-widgets/controls",
          "model_name": "FloatProgressModel",
          "model_module_version": "1.5.0",
          "state": {
            "_dom_classes": [],
            "_model_module": "@jupyter-widgets/controls",
            "_model_module_version": "1.5.0",
            "_model_name": "FloatProgressModel",
            "_view_count": null,
            "_view_module": "@jupyter-widgets/controls",
            "_view_module_version": "1.5.0",
            "_view_name": "ProgressView",
            "bar_style": "success",
            "description": "",
            "description_tooltip": null,
            "layout": "IPY_MODEL_0f3a55dc1b46419c9603ad832826fd62",
            "max": 892,
            "min": 0,
            "orientation": "horizontal",
            "style": "IPY_MODEL_dc51f31acf7e4ea7921255e54efc5567",
            "value": 892
          }
        },
        "91a96423cb6544edbf92975cd769c2f5": {
          "model_module": "@jupyter-widgets/controls",
          "model_name": "HTMLModel",
          "model_module_version": "1.5.0",
          "state": {
            "_dom_classes": [],
            "_model_module": "@jupyter-widgets/controls",
            "_model_module_version": "1.5.0",
            "_model_name": "HTMLModel",
            "_view_count": null,
            "_view_module": "@jupyter-widgets/controls",
            "_view_module_version": "1.5.0",
            "_view_name": "HTMLView",
            "description": "",
            "description_tooltip": null,
            "layout": "IPY_MODEL_84361388755643ff8b644f73ea3e851c",
            "placeholder": "​",
            "style": "IPY_MODEL_398a90ebe3374ae191df8c89bb1da701",
            "value": " 892/892 [00:00&lt;00:00, 30.7kB/s]"
          }
        },
        "58c828878f7d47cbabd71d97fd37d674": {
          "model_module": "@jupyter-widgets/base",
          "model_name": "LayoutModel",
          "model_module_version": "1.2.0",
          "state": {
            "_model_module": "@jupyter-widgets/base",
            "_model_module_version": "1.2.0",
            "_model_name": "LayoutModel",
            "_view_count": null,
            "_view_module": "@jupyter-widgets/base",
            "_view_module_version": "1.2.0",
            "_view_name": "LayoutView",
            "align_content": null,
            "align_items": null,
            "align_self": null,
            "border": null,
            "bottom": null,
            "display": null,
            "flex": null,
            "flex_flow": null,
            "grid_area": null,
            "grid_auto_columns": null,
            "grid_auto_flow": null,
            "grid_auto_rows": null,
            "grid_column": null,
            "grid_gap": null,
            "grid_row": null,
            "grid_template_areas": null,
            "grid_template_columns": null,
            "grid_template_rows": null,
            "height": null,
            "justify_content": null,
            "justify_items": null,
            "left": null,
            "margin": null,
            "max_height": null,
            "max_width": null,
            "min_height": null,
            "min_width": null,
            "object_fit": null,
            "object_position": null,
            "order": null,
            "overflow": null,
            "overflow_x": null,
            "overflow_y": null,
            "padding": null,
            "right": null,
            "top": null,
            "visibility": null,
            "width": null
          }
        },
        "e678d67588d045d18e21d1b8cb567d47": {
          "model_module": "@jupyter-widgets/base",
          "model_name": "LayoutModel",
          "model_module_version": "1.2.0",
          "state": {
            "_model_module": "@jupyter-widgets/base",
            "_model_module_version": "1.2.0",
            "_model_name": "LayoutModel",
            "_view_count": null,
            "_view_module": "@jupyter-widgets/base",
            "_view_module_version": "1.2.0",
            "_view_name": "LayoutView",
            "align_content": null,
            "align_items": null,
            "align_self": null,
            "border": null,
            "bottom": null,
            "display": null,
            "flex": null,
            "flex_flow": null,
            "grid_area": null,
            "grid_auto_columns": null,
            "grid_auto_flow": null,
            "grid_auto_rows": null,
            "grid_column": null,
            "grid_gap": null,
            "grid_row": null,
            "grid_template_areas": null,
            "grid_template_columns": null,
            "grid_template_rows": null,
            "height": null,
            "justify_content": null,
            "justify_items": null,
            "left": null,
            "margin": null,
            "max_height": null,
            "max_width": null,
            "min_height": null,
            "min_width": null,
            "object_fit": null,
            "object_position": null,
            "order": null,
            "overflow": null,
            "overflow_x": null,
            "overflow_y": null,
            "padding": null,
            "right": null,
            "top": null,
            "visibility": null,
            "width": null
          }
        },
        "eab454b4068f43afb969fffb8bfa7c75": {
          "model_module": "@jupyter-widgets/controls",
          "model_name": "DescriptionStyleModel",
          "model_module_version": "1.5.0",
          "state": {
            "_model_module": "@jupyter-widgets/controls",
            "_model_module_version": "1.5.0",
            "_model_name": "DescriptionStyleModel",
            "_view_count": null,
            "_view_module": "@jupyter-widgets/base",
            "_view_module_version": "1.2.0",
            "_view_name": "StyleView",
            "description_width": ""
          }
        },
        "0f3a55dc1b46419c9603ad832826fd62": {
          "model_module": "@jupyter-widgets/base",
          "model_name": "LayoutModel",
          "model_module_version": "1.2.0",
          "state": {
            "_model_module": "@jupyter-widgets/base",
            "_model_module_version": "1.2.0",
            "_model_name": "LayoutModel",
            "_view_count": null,
            "_view_module": "@jupyter-widgets/base",
            "_view_module_version": "1.2.0",
            "_view_name": "LayoutView",
            "align_content": null,
            "align_items": null,
            "align_self": null,
            "border": null,
            "bottom": null,
            "display": null,
            "flex": null,
            "flex_flow": null,
            "grid_area": null,
            "grid_auto_columns": null,
            "grid_auto_flow": null,
            "grid_auto_rows": null,
            "grid_column": null,
            "grid_gap": null,
            "grid_row": null,
            "grid_template_areas": null,
            "grid_template_columns": null,
            "grid_template_rows": null,
            "height": null,
            "justify_content": null,
            "justify_items": null,
            "left": null,
            "margin": null,
            "max_height": null,
            "max_width": null,
            "min_height": null,
            "min_width": null,
            "object_fit": null,
            "object_position": null,
            "order": null,
            "overflow": null,
            "overflow_x": null,
            "overflow_y": null,
            "padding": null,
            "right": null,
            "top": null,
            "visibility": null,
            "width": null
          }
        },
        "dc51f31acf7e4ea7921255e54efc5567": {
          "model_module": "@jupyter-widgets/controls",
          "model_name": "ProgressStyleModel",
          "model_module_version": "1.5.0",
          "state": {
            "_model_module": "@jupyter-widgets/controls",
            "_model_module_version": "1.5.0",
            "_model_name": "ProgressStyleModel",
            "_view_count": null,
            "_view_module": "@jupyter-widgets/base",
            "_view_module_version": "1.2.0",
            "_view_name": "StyleView",
            "bar_color": null,
            "description_width": ""
          }
        },
        "84361388755643ff8b644f73ea3e851c": {
          "model_module": "@jupyter-widgets/base",
          "model_name": "LayoutModel",
          "model_module_version": "1.2.0",
          "state": {
            "_model_module": "@jupyter-widgets/base",
            "_model_module_version": "1.2.0",
            "_model_name": "LayoutModel",
            "_view_count": null,
            "_view_module": "@jupyter-widgets/base",
            "_view_module_version": "1.2.0",
            "_view_name": "LayoutView",
            "align_content": null,
            "align_items": null,
            "align_self": null,
            "border": null,
            "bottom": null,
            "display": null,
            "flex": null,
            "flex_flow": null,
            "grid_area": null,
            "grid_auto_columns": null,
            "grid_auto_flow": null,
            "grid_auto_rows": null,
            "grid_column": null,
            "grid_gap": null,
            "grid_row": null,
            "grid_template_areas": null,
            "grid_template_columns": null,
            "grid_template_rows": null,
            "height": null,
            "justify_content": null,
            "justify_items": null,
            "left": null,
            "margin": null,
            "max_height": null,
            "max_width": null,
            "min_height": null,
            "min_width": null,
            "object_fit": null,
            "object_position": null,
            "order": null,
            "overflow": null,
            "overflow_x": null,
            "overflow_y": null,
            "padding": null,
            "right": null,
            "top": null,
            "visibility": null,
            "width": null
          }
        },
        "398a90ebe3374ae191df8c89bb1da701": {
          "model_module": "@jupyter-widgets/controls",
          "model_name": "DescriptionStyleModel",
          "model_module_version": "1.5.0",
          "state": {
            "_model_module": "@jupyter-widgets/controls",
            "_model_module_version": "1.5.0",
            "_model_name": "DescriptionStyleModel",
            "_view_count": null,
            "_view_module": "@jupyter-widgets/base",
            "_view_module_version": "1.2.0",
            "_view_name": "StyleView",
            "description_width": ""
          }
        },
        "0943ffce435f4fbb96d5d0c09bd3f3fc": {
          "model_module": "@jupyter-widgets/controls",
          "model_name": "HBoxModel",
          "model_module_version": "1.5.0",
          "state": {
            "_dom_classes": [],
            "_model_module": "@jupyter-widgets/controls",
            "_model_module_version": "1.5.0",
            "_model_name": "HBoxModel",
            "_view_count": null,
            "_view_module": "@jupyter-widgets/controls",
            "_view_module_version": "1.5.0",
            "_view_name": "HBoxView",
            "box_style": "",
            "children": [
              "IPY_MODEL_c5b07302ca8f49b78a292799d4f71a60",
              "IPY_MODEL_49a96449763345eaba22527a9e068ed4",
              "IPY_MODEL_7e43c12927cf400284768499500f1a6f"
            ],
            "layout": "IPY_MODEL_7c8e3304f34c47979f3224a6ea4742bf"
          }
        },
        "c5b07302ca8f49b78a292799d4f71a60": {
          "model_module": "@jupyter-widgets/controls",
          "model_name": "HTMLModel",
          "model_module_version": "1.5.0",
          "state": {
            "_dom_classes": [],
            "_model_module": "@jupyter-widgets/controls",
            "_model_module_version": "1.5.0",
            "_model_name": "HTMLModel",
            "_view_count": null,
            "_view_module": "@jupyter-widgets/controls",
            "_view_module_version": "1.5.0",
            "_view_name": "HTMLView",
            "description": "",
            "description_tooltip": null,
            "layout": "IPY_MODEL_5eb374ff7fb14211b1d17c32ab49addb",
            "placeholder": "​",
            "style": "IPY_MODEL_8d924383f65641fba5da27e6579b9f8d",
            "value": "Downloading: 100%"
          }
        },
        "49a96449763345eaba22527a9e068ed4": {
          "model_module": "@jupyter-widgets/controls",
          "model_name": "FloatProgressModel",
          "model_module_version": "1.5.0",
          "state": {
            "_dom_classes": [],
            "_model_module": "@jupyter-widgets/controls",
            "_model_module_version": "1.5.0",
            "_model_name": "FloatProgressModel",
            "_view_count": null,
            "_view_module": "@jupyter-widgets/controls",
            "_view_module_version": "1.5.0",
            "_view_name": "ProgressView",
            "bar_style": "success",
            "description": "",
            "description_tooltip": null,
            "layout": "IPY_MODEL_176396539b8a4ecfb99012e383cab1cc",
            "max": 5069051,
            "min": 0,
            "orientation": "horizontal",
            "style": "IPY_MODEL_c67b47c82e1342bcad8d61e353b80bee",
            "value": 5069051
          }
        },
        "7e43c12927cf400284768499500f1a6f": {
          "model_module": "@jupyter-widgets/controls",
          "model_name": "HTMLModel",
          "model_module_version": "1.5.0",
          "state": {
            "_dom_classes": [],
            "_model_module": "@jupyter-widgets/controls",
            "_model_module_version": "1.5.0",
            "_model_name": "HTMLModel",
            "_view_count": null,
            "_view_module": "@jupyter-widgets/controls",
            "_view_module_version": "1.5.0",
            "_view_name": "HTMLView",
            "description": "",
            "description_tooltip": null,
            "layout": "IPY_MODEL_f0b110f6f0264dc38e419fb6ec110498",
            "placeholder": "​",
            "style": "IPY_MODEL_1ec39706e1b441eca8509e017c198448",
            "value": " 5.07M/5.07M [00:00&lt;00:00, 28.7MB/s]"
          }
        },
        "7c8e3304f34c47979f3224a6ea4742bf": {
          "model_module": "@jupyter-widgets/base",
          "model_name": "LayoutModel",
          "model_module_version": "1.2.0",
          "state": {
            "_model_module": "@jupyter-widgets/base",
            "_model_module_version": "1.2.0",
            "_model_name": "LayoutModel",
            "_view_count": null,
            "_view_module": "@jupyter-widgets/base",
            "_view_module_version": "1.2.0",
            "_view_name": "LayoutView",
            "align_content": null,
            "align_items": null,
            "align_self": null,
            "border": null,
            "bottom": null,
            "display": null,
            "flex": null,
            "flex_flow": null,
            "grid_area": null,
            "grid_auto_columns": null,
            "grid_auto_flow": null,
            "grid_auto_rows": null,
            "grid_column": null,
            "grid_gap": null,
            "grid_row": null,
            "grid_template_areas": null,
            "grid_template_columns": null,
            "grid_template_rows": null,
            "height": null,
            "justify_content": null,
            "justify_items": null,
            "left": null,
            "margin": null,
            "max_height": null,
            "max_width": null,
            "min_height": null,
            "min_width": null,
            "object_fit": null,
            "object_position": null,
            "order": null,
            "overflow": null,
            "overflow_x": null,
            "overflow_y": null,
            "padding": null,
            "right": null,
            "top": null,
            "visibility": null,
            "width": null
          }
        },
        "5eb374ff7fb14211b1d17c32ab49addb": {
          "model_module": "@jupyter-widgets/base",
          "model_name": "LayoutModel",
          "model_module_version": "1.2.0",
          "state": {
            "_model_module": "@jupyter-widgets/base",
            "_model_module_version": "1.2.0",
            "_model_name": "LayoutModel",
            "_view_count": null,
            "_view_module": "@jupyter-widgets/base",
            "_view_module_version": "1.2.0",
            "_view_name": "LayoutView",
            "align_content": null,
            "align_items": null,
            "align_self": null,
            "border": null,
            "bottom": null,
            "display": null,
            "flex": null,
            "flex_flow": null,
            "grid_area": null,
            "grid_auto_columns": null,
            "grid_auto_flow": null,
            "grid_auto_rows": null,
            "grid_column": null,
            "grid_gap": null,
            "grid_row": null,
            "grid_template_areas": null,
            "grid_template_columns": null,
            "grid_template_rows": null,
            "height": null,
            "justify_content": null,
            "justify_items": null,
            "left": null,
            "margin": null,
            "max_height": null,
            "max_width": null,
            "min_height": null,
            "min_width": null,
            "object_fit": null,
            "object_position": null,
            "order": null,
            "overflow": null,
            "overflow_x": null,
            "overflow_y": null,
            "padding": null,
            "right": null,
            "top": null,
            "visibility": null,
            "width": null
          }
        },
        "8d924383f65641fba5da27e6579b9f8d": {
          "model_module": "@jupyter-widgets/controls",
          "model_name": "DescriptionStyleModel",
          "model_module_version": "1.5.0",
          "state": {
            "_model_module": "@jupyter-widgets/controls",
            "_model_module_version": "1.5.0",
            "_model_name": "DescriptionStyleModel",
            "_view_count": null,
            "_view_module": "@jupyter-widgets/base",
            "_view_module_version": "1.2.0",
            "_view_name": "StyleView",
            "description_width": ""
          }
        },
        "176396539b8a4ecfb99012e383cab1cc": {
          "model_module": "@jupyter-widgets/base",
          "model_name": "LayoutModel",
          "model_module_version": "1.2.0",
          "state": {
            "_model_module": "@jupyter-widgets/base",
            "_model_module_version": "1.2.0",
            "_model_name": "LayoutModel",
            "_view_count": null,
            "_view_module": "@jupyter-widgets/base",
            "_view_module_version": "1.2.0",
            "_view_name": "LayoutView",
            "align_content": null,
            "align_items": null,
            "align_self": null,
            "border": null,
            "bottom": null,
            "display": null,
            "flex": null,
            "flex_flow": null,
            "grid_area": null,
            "grid_auto_columns": null,
            "grid_auto_flow": null,
            "grid_auto_rows": null,
            "grid_column": null,
            "grid_gap": null,
            "grid_row": null,
            "grid_template_areas": null,
            "grid_template_columns": null,
            "grid_template_rows": null,
            "height": null,
            "justify_content": null,
            "justify_items": null,
            "left": null,
            "margin": null,
            "max_height": null,
            "max_width": null,
            "min_height": null,
            "min_width": null,
            "object_fit": null,
            "object_position": null,
            "order": null,
            "overflow": null,
            "overflow_x": null,
            "overflow_y": null,
            "padding": null,
            "right": null,
            "top": null,
            "visibility": null,
            "width": null
          }
        },
        "c67b47c82e1342bcad8d61e353b80bee": {
          "model_module": "@jupyter-widgets/controls",
          "model_name": "ProgressStyleModel",
          "model_module_version": "1.5.0",
          "state": {
            "_model_module": "@jupyter-widgets/controls",
            "_model_module_version": "1.5.0",
            "_model_name": "ProgressStyleModel",
            "_view_count": null,
            "_view_module": "@jupyter-widgets/base",
            "_view_module_version": "1.2.0",
            "_view_name": "StyleView",
            "bar_color": null,
            "description_width": ""
          }
        },
        "f0b110f6f0264dc38e419fb6ec110498": {
          "model_module": "@jupyter-widgets/base",
          "model_name": "LayoutModel",
          "model_module_version": "1.2.0",
          "state": {
            "_model_module": "@jupyter-widgets/base",
            "_model_module_version": "1.2.0",
            "_model_name": "LayoutModel",
            "_view_count": null,
            "_view_module": "@jupyter-widgets/base",
            "_view_module_version": "1.2.0",
            "_view_name": "LayoutView",
            "align_content": null,
            "align_items": null,
            "align_self": null,
            "border": null,
            "bottom": null,
            "display": null,
            "flex": null,
            "flex_flow": null,
            "grid_area": null,
            "grid_auto_columns": null,
            "grid_auto_flow": null,
            "grid_auto_rows": null,
            "grid_column": null,
            "grid_gap": null,
            "grid_row": null,
            "grid_template_areas": null,
            "grid_template_columns": null,
            "grid_template_rows": null,
            "height": null,
            "justify_content": null,
            "justify_items": null,
            "left": null,
            "margin": null,
            "max_height": null,
            "max_width": null,
            "min_height": null,
            "min_width": null,
            "object_fit": null,
            "object_position": null,
            "order": null,
            "overflow": null,
            "overflow_x": null,
            "overflow_y": null,
            "padding": null,
            "right": null,
            "top": null,
            "visibility": null,
            "width": null
          }
        },
        "1ec39706e1b441eca8509e017c198448": {
          "model_module": "@jupyter-widgets/controls",
          "model_name": "DescriptionStyleModel",
          "model_module_version": "1.5.0",
          "state": {
            "_model_module": "@jupyter-widgets/controls",
            "_model_module_version": "1.5.0",
            "_model_name": "DescriptionStyleModel",
            "_view_count": null,
            "_view_module": "@jupyter-widgets/base",
            "_view_module_version": "1.2.0",
            "_view_name": "StyleView",
            "description_width": ""
          }
        },
        "48eecf7f92674930bea88d0d7ac34c8d": {
          "model_module": "@jupyter-widgets/controls",
          "model_name": "HBoxModel",
          "model_module_version": "1.5.0",
          "state": {
            "_dom_classes": [],
            "_model_module": "@jupyter-widgets/controls",
            "_model_module_version": "1.5.0",
            "_model_name": "HBoxModel",
            "_view_count": null,
            "_view_module": "@jupyter-widgets/controls",
            "_view_module_version": "1.5.0",
            "_view_name": "HBoxView",
            "box_style": "",
            "children": [
              "IPY_MODEL_ff4e986fce5543e2bdf69dc5f47b01a4",
              "IPY_MODEL_95467d9d220c43cf8da4d01cedf707b1",
              "IPY_MODEL_f4c56d5e25f94002900b60fac71a12d4"
            ],
            "layout": "IPY_MODEL_92fb837303a84e2884db2c78af8bac23"
          }
        },
        "ff4e986fce5543e2bdf69dc5f47b01a4": {
          "model_module": "@jupyter-widgets/controls",
          "model_name": "HTMLModel",
          "model_module_version": "1.5.0",
          "state": {
            "_dom_classes": [],
            "_model_module": "@jupyter-widgets/controls",
            "_model_module_version": "1.5.0",
            "_model_name": "HTMLModel",
            "_view_count": null,
            "_view_module": "@jupyter-widgets/controls",
            "_view_module_version": "1.5.0",
            "_view_name": "HTMLView",
            "description": "",
            "description_tooltip": null,
            "layout": "IPY_MODEL_307f5c98cf5148a4a441c922abb1f7a3",
            "placeholder": "​",
            "style": "IPY_MODEL_1d83581a7e914b6e9553255c7ee97f12",
            "value": "Downloading: 100%"
          }
        },
        "95467d9d220c43cf8da4d01cedf707b1": {
          "model_module": "@jupyter-widgets/controls",
          "model_name": "FloatProgressModel",
          "model_module_version": "1.5.0",
          "state": {
            "_dom_classes": [],
            "_model_module": "@jupyter-widgets/controls",
            "_model_module_version": "1.5.0",
            "_model_name": "FloatProgressModel",
            "_view_count": null,
            "_view_module": "@jupyter-widgets/controls",
            "_view_module_version": "1.5.0",
            "_view_name": "ProgressView",
            "bar_style": "success",
            "description": "",
            "description_tooltip": null,
            "layout": "IPY_MODEL_9f66f9f4d99144248b478f88600be0b3",
            "max": 239,
            "min": 0,
            "orientation": "horizontal",
            "style": "IPY_MODEL_5cf810c513444034bb98b1ea2b7142a1",
            "value": 239
          }
        },
        "f4c56d5e25f94002900b60fac71a12d4": {
          "model_module": "@jupyter-widgets/controls",
          "model_name": "HTMLModel",
          "model_module_version": "1.5.0",
          "state": {
            "_dom_classes": [],
            "_model_module": "@jupyter-widgets/controls",
            "_model_module_version": "1.5.0",
            "_model_name": "HTMLModel",
            "_view_count": null,
            "_view_module": "@jupyter-widgets/controls",
            "_view_module_version": "1.5.0",
            "_view_name": "HTMLView",
            "description": "",
            "description_tooltip": null,
            "layout": "IPY_MODEL_66ae8227e6254dd4a0d5321ea8fb7295",
            "placeholder": "​",
            "style": "IPY_MODEL_60a647f8747f4a529c07c6798318a1fa",
            "value": " 239/239 [00:00&lt;00:00, 6.93kB/s]"
          }
        },
        "92fb837303a84e2884db2c78af8bac23": {
          "model_module": "@jupyter-widgets/base",
          "model_name": "LayoutModel",
          "model_module_version": "1.2.0",
          "state": {
            "_model_module": "@jupyter-widgets/base",
            "_model_module_version": "1.2.0",
            "_model_name": "LayoutModel",
            "_view_count": null,
            "_view_module": "@jupyter-widgets/base",
            "_view_module_version": "1.2.0",
            "_view_name": "LayoutView",
            "align_content": null,
            "align_items": null,
            "align_self": null,
            "border": null,
            "bottom": null,
            "display": null,
            "flex": null,
            "flex_flow": null,
            "grid_area": null,
            "grid_auto_columns": null,
            "grid_auto_flow": null,
            "grid_auto_rows": null,
            "grid_column": null,
            "grid_gap": null,
            "grid_row": null,
            "grid_template_areas": null,
            "grid_template_columns": null,
            "grid_template_rows": null,
            "height": null,
            "justify_content": null,
            "justify_items": null,
            "left": null,
            "margin": null,
            "max_height": null,
            "max_width": null,
            "min_height": null,
            "min_width": null,
            "object_fit": null,
            "object_position": null,
            "order": null,
            "overflow": null,
            "overflow_x": null,
            "overflow_y": null,
            "padding": null,
            "right": null,
            "top": null,
            "visibility": null,
            "width": null
          }
        },
        "307f5c98cf5148a4a441c922abb1f7a3": {
          "model_module": "@jupyter-widgets/base",
          "model_name": "LayoutModel",
          "model_module_version": "1.2.0",
          "state": {
            "_model_module": "@jupyter-widgets/base",
            "_model_module_version": "1.2.0",
            "_model_name": "LayoutModel",
            "_view_count": null,
            "_view_module": "@jupyter-widgets/base",
            "_view_module_version": "1.2.0",
            "_view_name": "LayoutView",
            "align_content": null,
            "align_items": null,
            "align_self": null,
            "border": null,
            "bottom": null,
            "display": null,
            "flex": null,
            "flex_flow": null,
            "grid_area": null,
            "grid_auto_columns": null,
            "grid_auto_flow": null,
            "grid_auto_rows": null,
            "grid_column": null,
            "grid_gap": null,
            "grid_row": null,
            "grid_template_areas": null,
            "grid_template_columns": null,
            "grid_template_rows": null,
            "height": null,
            "justify_content": null,
            "justify_items": null,
            "left": null,
            "margin": null,
            "max_height": null,
            "max_width": null,
            "min_height": null,
            "min_width": null,
            "object_fit": null,
            "object_position": null,
            "order": null,
            "overflow": null,
            "overflow_x": null,
            "overflow_y": null,
            "padding": null,
            "right": null,
            "top": null,
            "visibility": null,
            "width": null
          }
        },
        "1d83581a7e914b6e9553255c7ee97f12": {
          "model_module": "@jupyter-widgets/controls",
          "model_name": "DescriptionStyleModel",
          "model_module_version": "1.5.0",
          "state": {
            "_model_module": "@jupyter-widgets/controls",
            "_model_module_version": "1.5.0",
            "_model_name": "DescriptionStyleModel",
            "_view_count": null,
            "_view_module": "@jupyter-widgets/base",
            "_view_module_version": "1.2.0",
            "_view_name": "StyleView",
            "description_width": ""
          }
        },
        "9f66f9f4d99144248b478f88600be0b3": {
          "model_module": "@jupyter-widgets/base",
          "model_name": "LayoutModel",
          "model_module_version": "1.2.0",
          "state": {
            "_model_module": "@jupyter-widgets/base",
            "_model_module_version": "1.2.0",
            "_model_name": "LayoutModel",
            "_view_count": null,
            "_view_module": "@jupyter-widgets/base",
            "_view_module_version": "1.2.0",
            "_view_name": "LayoutView",
            "align_content": null,
            "align_items": null,
            "align_self": null,
            "border": null,
            "bottom": null,
            "display": null,
            "flex": null,
            "flex_flow": null,
            "grid_area": null,
            "grid_auto_columns": null,
            "grid_auto_flow": null,
            "grid_auto_rows": null,
            "grid_column": null,
            "grid_gap": null,
            "grid_row": null,
            "grid_template_areas": null,
            "grid_template_columns": null,
            "grid_template_rows": null,
            "height": null,
            "justify_content": null,
            "justify_items": null,
            "left": null,
            "margin": null,
            "max_height": null,
            "max_width": null,
            "min_height": null,
            "min_width": null,
            "object_fit": null,
            "object_position": null,
            "order": null,
            "overflow": null,
            "overflow_x": null,
            "overflow_y": null,
            "padding": null,
            "right": null,
            "top": null,
            "visibility": null,
            "width": null
          }
        },
        "5cf810c513444034bb98b1ea2b7142a1": {
          "model_module": "@jupyter-widgets/controls",
          "model_name": "ProgressStyleModel",
          "model_module_version": "1.5.0",
          "state": {
            "_model_module": "@jupyter-widgets/controls",
            "_model_module_version": "1.5.0",
            "_model_name": "ProgressStyleModel",
            "_view_count": null,
            "_view_module": "@jupyter-widgets/base",
            "_view_module_version": "1.2.0",
            "_view_name": "StyleView",
            "bar_color": null,
            "description_width": ""
          }
        },
        "66ae8227e6254dd4a0d5321ea8fb7295": {
          "model_module": "@jupyter-widgets/base",
          "model_name": "LayoutModel",
          "model_module_version": "1.2.0",
          "state": {
            "_model_module": "@jupyter-widgets/base",
            "_model_module_version": "1.2.0",
            "_model_name": "LayoutModel",
            "_view_count": null,
            "_view_module": "@jupyter-widgets/base",
            "_view_module_version": "1.2.0",
            "_view_name": "LayoutView",
            "align_content": null,
            "align_items": null,
            "align_self": null,
            "border": null,
            "bottom": null,
            "display": null,
            "flex": null,
            "flex_flow": null,
            "grid_area": null,
            "grid_auto_columns": null,
            "grid_auto_flow": null,
            "grid_auto_rows": null,
            "grid_column": null,
            "grid_gap": null,
            "grid_row": null,
            "grid_template_areas": null,
            "grid_template_columns": null,
            "grid_template_rows": null,
            "height": null,
            "justify_content": null,
            "justify_items": null,
            "left": null,
            "margin": null,
            "max_height": null,
            "max_width": null,
            "min_height": null,
            "min_width": null,
            "object_fit": null,
            "object_position": null,
            "order": null,
            "overflow": null,
            "overflow_x": null,
            "overflow_y": null,
            "padding": null,
            "right": null,
            "top": null,
            "visibility": null,
            "width": null
          }
        },
        "60a647f8747f4a529c07c6798318a1fa": {
          "model_module": "@jupyter-widgets/controls",
          "model_name": "DescriptionStyleModel",
          "model_module_version": "1.5.0",
          "state": {
            "_model_module": "@jupyter-widgets/controls",
            "_model_module_version": "1.5.0",
            "_model_name": "DescriptionStyleModel",
            "_view_count": null,
            "_view_module": "@jupyter-widgets/base",
            "_view_module_version": "1.2.0",
            "_view_name": "StyleView",
            "description_width": ""
          }
        },
        "d8574e4019d94effab4384c41b22722d": {
          "model_module": "@jupyter-widgets/controls",
          "model_name": "HBoxModel",
          "model_module_version": "1.5.0",
          "state": {
            "_dom_classes": [],
            "_model_module": "@jupyter-widgets/controls",
            "_model_module_version": "1.5.0",
            "_model_name": "HBoxModel",
            "_view_count": null,
            "_view_module": "@jupyter-widgets/controls",
            "_view_module_version": "1.5.0",
            "_view_name": "HBoxView",
            "box_style": "",
            "children": [
              "IPY_MODEL_152fe8d09c134d609b08793360d705a1",
              "IPY_MODEL_7d830bf67d844931a956548862e465d6",
              "IPY_MODEL_0ce9d2e8b7a94b90ba967754890c157e"
            ],
            "layout": "IPY_MODEL_1a933943b5074136bada144536c595b7"
          }
        },
        "152fe8d09c134d609b08793360d705a1": {
          "model_module": "@jupyter-widgets/controls",
          "model_name": "HTMLModel",
          "model_module_version": "1.5.0",
          "state": {
            "_dom_classes": [],
            "_model_module": "@jupyter-widgets/controls",
            "_model_module_version": "1.5.0",
            "_model_name": "HTMLModel",
            "_view_count": null,
            "_view_module": "@jupyter-widgets/controls",
            "_view_module_version": "1.5.0",
            "_view_name": "HTMLView",
            "description": "",
            "description_tooltip": null,
            "layout": "IPY_MODEL_d2ec43fa38f54fa1aa61a57a4ea51c01",
            "placeholder": "​",
            "style": "IPY_MODEL_578bb5cc28004e55946c53eef9b57c31",
            "value": "Downloading: 100%"
          }
        },
        "7d830bf67d844931a956548862e465d6": {
          "model_module": "@jupyter-widgets/controls",
          "model_name": "FloatProgressModel",
          "model_module_version": "1.5.0",
          "state": {
            "_dom_classes": [],
            "_model_module": "@jupyter-widgets/controls",
            "_model_module_version": "1.5.0",
            "_model_name": "FloatProgressModel",
            "_view_count": null,
            "_view_module": "@jupyter-widgets/controls",
            "_view_module_version": "1.5.0",
            "_view_name": "ProgressView",
            "bar_style": "success",
            "description": "",
            "description_tooltip": null,
            "layout": "IPY_MODEL_ef008d6f220f46a7a18a7715bf56a745",
            "max": 2235557303,
            "min": 0,
            "orientation": "horizontal",
            "style": "IPY_MODEL_c057c501861c4141ba9aa650fa026b5b",
            "value": 2235557303
          }
        },
        "0ce9d2e8b7a94b90ba967754890c157e": {
          "model_module": "@jupyter-widgets/controls",
          "model_name": "HTMLModel",
          "model_module_version": "1.5.0",
          "state": {
            "_dom_classes": [],
            "_model_module": "@jupyter-widgets/controls",
            "_model_module_version": "1.5.0",
            "_model_name": "HTMLModel",
            "_view_count": null,
            "_view_module": "@jupyter-widgets/controls",
            "_view_module_version": "1.5.0",
            "_view_name": "HTMLView",
            "description": "",
            "description_tooltip": null,
            "layout": "IPY_MODEL_611a22e8692e47749623bd64ffd68b50",
            "placeholder": "​",
            "style": "IPY_MODEL_c4d2d61c9b664451b22f2aabeb4074e0",
            "value": " 2.24G/2.24G [00:42&lt;00:00, 56.3MB/s]"
          }
        },
        "1a933943b5074136bada144536c595b7": {
          "model_module": "@jupyter-widgets/base",
          "model_name": "LayoutModel",
          "model_module_version": "1.2.0",
          "state": {
            "_model_module": "@jupyter-widgets/base",
            "_model_module_version": "1.2.0",
            "_model_name": "LayoutModel",
            "_view_count": null,
            "_view_module": "@jupyter-widgets/base",
            "_view_module_version": "1.2.0",
            "_view_name": "LayoutView",
            "align_content": null,
            "align_items": null,
            "align_self": null,
            "border": null,
            "bottom": null,
            "display": null,
            "flex": null,
            "flex_flow": null,
            "grid_area": null,
            "grid_auto_columns": null,
            "grid_auto_flow": null,
            "grid_auto_rows": null,
            "grid_column": null,
            "grid_gap": null,
            "grid_row": null,
            "grid_template_areas": null,
            "grid_template_columns": null,
            "grid_template_rows": null,
            "height": null,
            "justify_content": null,
            "justify_items": null,
            "left": null,
            "margin": null,
            "max_height": null,
            "max_width": null,
            "min_height": null,
            "min_width": null,
            "object_fit": null,
            "object_position": null,
            "order": null,
            "overflow": null,
            "overflow_x": null,
            "overflow_y": null,
            "padding": null,
            "right": null,
            "top": null,
            "visibility": null,
            "width": null
          }
        },
        "d2ec43fa38f54fa1aa61a57a4ea51c01": {
          "model_module": "@jupyter-widgets/base",
          "model_name": "LayoutModel",
          "model_module_version": "1.2.0",
          "state": {
            "_model_module": "@jupyter-widgets/base",
            "_model_module_version": "1.2.0",
            "_model_name": "LayoutModel",
            "_view_count": null,
            "_view_module": "@jupyter-widgets/base",
            "_view_module_version": "1.2.0",
            "_view_name": "LayoutView",
            "align_content": null,
            "align_items": null,
            "align_self": null,
            "border": null,
            "bottom": null,
            "display": null,
            "flex": null,
            "flex_flow": null,
            "grid_area": null,
            "grid_auto_columns": null,
            "grid_auto_flow": null,
            "grid_auto_rows": null,
            "grid_column": null,
            "grid_gap": null,
            "grid_row": null,
            "grid_template_areas": null,
            "grid_template_columns": null,
            "grid_template_rows": null,
            "height": null,
            "justify_content": null,
            "justify_items": null,
            "left": null,
            "margin": null,
            "max_height": null,
            "max_width": null,
            "min_height": null,
            "min_width": null,
            "object_fit": null,
            "object_position": null,
            "order": null,
            "overflow": null,
            "overflow_x": null,
            "overflow_y": null,
            "padding": null,
            "right": null,
            "top": null,
            "visibility": null,
            "width": null
          }
        },
        "578bb5cc28004e55946c53eef9b57c31": {
          "model_module": "@jupyter-widgets/controls",
          "model_name": "DescriptionStyleModel",
          "model_module_version": "1.5.0",
          "state": {
            "_model_module": "@jupyter-widgets/controls",
            "_model_module_version": "1.5.0",
            "_model_name": "DescriptionStyleModel",
            "_view_count": null,
            "_view_module": "@jupyter-widgets/base",
            "_view_module_version": "1.2.0",
            "_view_name": "StyleView",
            "description_width": ""
          }
        },
        "ef008d6f220f46a7a18a7715bf56a745": {
          "model_module": "@jupyter-widgets/base",
          "model_name": "LayoutModel",
          "model_module_version": "1.2.0",
          "state": {
            "_model_module": "@jupyter-widgets/base",
            "_model_module_version": "1.2.0",
            "_model_name": "LayoutModel",
            "_view_count": null,
            "_view_module": "@jupyter-widgets/base",
            "_view_module_version": "1.2.0",
            "_view_name": "LayoutView",
            "align_content": null,
            "align_items": null,
            "align_self": null,
            "border": null,
            "bottom": null,
            "display": null,
            "flex": null,
            "flex_flow": null,
            "grid_area": null,
            "grid_auto_columns": null,
            "grid_auto_flow": null,
            "grid_auto_rows": null,
            "grid_column": null,
            "grid_gap": null,
            "grid_row": null,
            "grid_template_areas": null,
            "grid_template_columns": null,
            "grid_template_rows": null,
            "height": null,
            "justify_content": null,
            "justify_items": null,
            "left": null,
            "margin": null,
            "max_height": null,
            "max_width": null,
            "min_height": null,
            "min_width": null,
            "object_fit": null,
            "object_position": null,
            "order": null,
            "overflow": null,
            "overflow_x": null,
            "overflow_y": null,
            "padding": null,
            "right": null,
            "top": null,
            "visibility": null,
            "width": null
          }
        },
        "c057c501861c4141ba9aa650fa026b5b": {
          "model_module": "@jupyter-widgets/controls",
          "model_name": "ProgressStyleModel",
          "model_module_version": "1.5.0",
          "state": {
            "_model_module": "@jupyter-widgets/controls",
            "_model_module_version": "1.5.0",
            "_model_name": "ProgressStyleModel",
            "_view_count": null,
            "_view_module": "@jupyter-widgets/base",
            "_view_module_version": "1.2.0",
            "_view_name": "StyleView",
            "bar_color": null,
            "description_width": ""
          }
        },
        "611a22e8692e47749623bd64ffd68b50": {
          "model_module": "@jupyter-widgets/base",
          "model_name": "LayoutModel",
          "model_module_version": "1.2.0",
          "state": {
            "_model_module": "@jupyter-widgets/base",
            "_model_module_version": "1.2.0",
            "_model_name": "LayoutModel",
            "_view_count": null,
            "_view_module": "@jupyter-widgets/base",
            "_view_module_version": "1.2.0",
            "_view_name": "LayoutView",
            "align_content": null,
            "align_items": null,
            "align_self": null,
            "border": null,
            "bottom": null,
            "display": null,
            "flex": null,
            "flex_flow": null,
            "grid_area": null,
            "grid_auto_columns": null,
            "grid_auto_flow": null,
            "grid_auto_rows": null,
            "grid_column": null,
            "grid_gap": null,
            "grid_row": null,
            "grid_template_areas": null,
            "grid_template_columns": null,
            "grid_template_rows": null,
            "height": null,
            "justify_content": null,
            "justify_items": null,
            "left": null,
            "margin": null,
            "max_height": null,
            "max_width": null,
            "min_height": null,
            "min_width": null,
            "object_fit": null,
            "object_position": null,
            "order": null,
            "overflow": null,
            "overflow_x": null,
            "overflow_y": null,
            "padding": null,
            "right": null,
            "top": null,
            "visibility": null,
            "width": null
          }
        },
        "c4d2d61c9b664451b22f2aabeb4074e0": {
          "model_module": "@jupyter-widgets/controls",
          "model_name": "DescriptionStyleModel",
          "model_module_version": "1.5.0",
          "state": {
            "_model_module": "@jupyter-widgets/controls",
            "_model_module_version": "1.5.0",
            "_model_name": "DescriptionStyleModel",
            "_view_count": null,
            "_view_module": "@jupyter-widgets/base",
            "_view_module_version": "1.2.0",
            "_view_name": "StyleView",
            "description_width": ""
          }
        }
      }
    }
  },
  "cells": [
    {
      "cell_type": "markdown",
      "metadata": {
        "id": "view-in-github",
        "colab_type": "text"
      },
      "source": [
        "<a href=\"https://colab.research.google.com/github/plaban1981/Hugging_Face_transformers_topics/blob/main/Punctutaion_Corrector_using_transformers.ipynb\" target=\"_parent\"><img src=\"https://colab.research.google.com/assets/colab-badge.svg\" alt=\"Open In Colab\"/></a>"
      ]
    },
    {
      "cell_type": "code",
      "execution_count": 1,
      "metadata": {
        "colab": {
          "base_uri": "https://localhost:8080/"
        },
        "id": "9ZnPAPA2_xUE",
        "outputId": "2b10a8cc-83ba-4153-aef1-3e34bcced859"
      },
      "outputs": [
        {
          "output_type": "execute_result",
          "data": {
            "text/plain": [
              "['\\x1b[?25l',\n",
              " '\\x1b[K     |▎                               | 10 kB 25.7 MB/s eta 0:00:01',\n",
              " '\\x1b[K     |▌                               | 20 kB 33.4 MB/s eta 0:00:01',\n",
              " '\\x1b[K     |▊                               | 30 kB 36.9 MB/s eta 0:00:01',\n",
              " '\\x1b[K     |█                               | 40 kB 40.6 MB/s eta 0:00:01',\n",
              " '\\x1b[K     |█▎                              | 51 kB 44.8 MB/s eta 0:00:01',\n",
              " '\\x1b[K     |█▌                              | 61 kB 49.3 MB/s eta 0:00:01',\n",
              " '\\x1b[K     |█▉                              | 71 kB 38.7 MB/s eta 0:00:01',\n",
              " '\\x1b[K     |██                              | 81 kB 39.0 MB/s eta 0:00:01',\n",
              " '\\x1b[K     |██▎                             | 92 kB 40.8 MB/s eta 0:00:01',\n",
              " '\\x1b[K     |██▋                             | 102 kB 43.1 MB/s eta 0:00:01',\n",
              " '\\x1b[K     |██▉                             | 112 kB 43.1 MB/s eta 0:00:01',\n",
              " '\\x1b[K     |███                             | 122 kB 43.1 MB/s eta 0:00:01',\n",
              " '\\x1b[K     |███▍                            | 133 kB 43.1 MB/s eta 0:00:01',\n",
              " '\\x1b[K     |███▋                            | 143 kB 43.1 MB/s eta 0:00:01',\n",
              " '\\x1b[K     |███▉                            | 153 kB 43.1 MB/s eta 0:00:01',\n",
              " '\\x1b[K     |████                            | 163 kB 43.1 MB/s eta 0:00:01',\n",
              " '\\x1b[K     |████▍                           | 174 kB 43.1 MB/s eta 0:00:01',\n",
              " '\\x1b[K     |████▋                           | 184 kB 43.1 MB/s eta 0:00:01',\n",
              " '\\x1b[K     |████▉                           | 194 kB 43.1 MB/s eta 0:00:01',\n",
              " '\\x1b[K     |█████▏                          | 204 kB 43.1 MB/s eta 0:00:01',\n",
              " '\\x1b[K     |█████▍                          | 215 kB 43.1 MB/s eta 0:00:01',\n",
              " '\\x1b[K     |█████▋                          | 225 kB 43.1 MB/s eta 0:00:01',\n",
              " '\\x1b[K     |██████                          | 235 kB 43.1 MB/s eta 0:00:01',\n",
              " '\\x1b[K     |██████▏                         | 245 kB 43.1 MB/s eta 0:00:01',\n",
              " '\\x1b[K     |██████▍                         | 256 kB 43.1 MB/s eta 0:00:01',\n",
              " '\\x1b[K     |██████▊                         | 266 kB 43.1 MB/s eta 0:00:01',\n",
              " '\\x1b[K     |███████                         | 276 kB 43.1 MB/s eta 0:00:01',\n",
              " '\\x1b[K     |███████▏                        | 286 kB 43.1 MB/s eta 0:00:01',\n",
              " '\\x1b[K     |███████▍                        | 296 kB 43.1 MB/s eta 0:00:01',\n",
              " '\\x1b[K     |███████▊                        | 307 kB 43.1 MB/s eta 0:00:01',\n",
              " '\\x1b[K     |████████                        | 317 kB 43.1 MB/s eta 0:00:01',\n",
              " '\\x1b[K     |████████▏                       | 327 kB 43.1 MB/s eta 0:00:01',\n",
              " '\\x1b[K     |████████▌                       | 337 kB 43.1 MB/s eta 0:00:01',\n",
              " '\\x1b[K     |████████▊                       | 348 kB 43.1 MB/s eta 0:00:01',\n",
              " '\\x1b[K     |█████████                       | 358 kB 43.1 MB/s eta 0:00:01',\n",
              " '\\x1b[K     |█████████▎                      | 368 kB 43.1 MB/s eta 0:00:01',\n",
              " '\\x1b[K     |█████████▌                      | 378 kB 43.1 MB/s eta 0:00:01',\n",
              " '\\x1b[K     |█████████▊                      | 389 kB 43.1 MB/s eta 0:00:01',\n",
              " '\\x1b[K     |██████████                      | 399 kB 43.1 MB/s eta 0:00:01',\n",
              " '\\x1b[K     |██████████▎                     | 409 kB 43.1 MB/s eta 0:00:01',\n",
              " '\\x1b[K     |██████████▌                     | 419 kB 43.1 MB/s eta 0:00:01',\n",
              " '\\x1b[K     |██████████▉                     | 430 kB 43.1 MB/s eta 0:00:01',\n",
              " '\\x1b[K     |███████████                     | 440 kB 43.1 MB/s eta 0:00:01',\n",
              " '\\x1b[K     |███████████▎                    | 450 kB 43.1 MB/s eta 0:00:01',\n",
              " '\\x1b[K     |███████████▌                    | 460 kB 43.1 MB/s eta 0:00:01',\n",
              " '\\x1b[K     |███████████▉                    | 471 kB 43.1 MB/s eta 0:00:01',\n",
              " '\\x1b[K     |████████████                    | 481 kB 43.1 MB/s eta 0:00:01',\n",
              " '\\x1b[K     |████████████▎                   | 491 kB 43.1 MB/s eta 0:00:01',\n",
              " '\\x1b[K     |████████████▋                   | 501 kB 43.1 MB/s eta 0:00:01',\n",
              " '\\x1b[K     |████████████▉                   | 512 kB 43.1 MB/s eta 0:00:01',\n",
              " '\\x1b[K     |█████████████                   | 522 kB 43.1 MB/s eta 0:00:01',\n",
              " '\\x1b[K     |█████████████▍                  | 532 kB 43.1 MB/s eta 0:00:01',\n",
              " '\\x1b[K     |█████████████▋                  | 542 kB 43.1 MB/s eta 0:00:01',\n",
              " '\\x1b[K     |█████████████▉                  | 552 kB 43.1 MB/s eta 0:00:01',\n",
              " '\\x1b[K     |██████████████▏                 | 563 kB 43.1 MB/s eta 0:00:01',\n",
              " '\\x1b[K     |██████████████▍                 | 573 kB 43.1 MB/s eta 0:00:01',\n",
              " '\\x1b[K     |██████████████▋                 | 583 kB 43.1 MB/s eta 0:00:01',\n",
              " '\\x1b[K     |██████████████▉                 | 593 kB 43.1 MB/s eta 0:00:01',\n",
              " '\\x1b[K     |███████████████▏                | 604 kB 43.1 MB/s eta 0:00:01',\n",
              " '\\x1b[K     |███████████████▍                | 614 kB 43.1 MB/s eta 0:00:01',\n",
              " '\\x1b[K     |███████████████▋                | 624 kB 43.1 MB/s eta 0:00:01',\n",
              " '\\x1b[K     |████████████████                | 634 kB 43.1 MB/s eta 0:00:01',\n",
              " '\\x1b[K     |████████████████▏               | 645 kB 43.1 MB/s eta 0:00:01',\n",
              " '\\x1b[K     |████████████████▍               | 655 kB 43.1 MB/s eta 0:00:01',\n",
              " '\\x1b[K     |████████████████▊               | 665 kB 43.1 MB/s eta 0:00:01',\n",
              " '\\x1b[K     |█████████████████               | 675 kB 43.1 MB/s eta 0:00:01',\n",
              " '\\x1b[K     |█████████████████▏              | 686 kB 43.1 MB/s eta 0:00:01',\n",
              " '\\x1b[K     |█████████████████▌              | 696 kB 43.1 MB/s eta 0:00:01',\n",
              " '\\x1b[K     |█████████████████▊              | 706 kB 43.1 MB/s eta 0:00:01',\n",
              " '\\x1b[K     |██████████████████              | 716 kB 43.1 MB/s eta 0:00:01',\n",
              " '\\x1b[K     |██████████████████▎             | 727 kB 43.1 MB/s eta 0:00:01',\n",
              " '\\x1b[K     |██████████████████▌             | 737 kB 43.1 MB/s eta 0:00:01',\n",
              " '\\x1b[K     |██████████████████▊             | 747 kB 43.1 MB/s eta 0:00:01',\n",
              " '\\x1b[K     |███████████████████             | 757 kB 43.1 MB/s eta 0:00:01',\n",
              " '\\x1b[K     |███████████████████▎            | 768 kB 43.1 MB/s eta 0:00:01',\n",
              " '\\x1b[K     |███████████████████▌            | 778 kB 43.1 MB/s eta 0:00:01',\n",
              " '\\x1b[K     |███████████████████▊            | 788 kB 43.1 MB/s eta 0:00:01',\n",
              " '\\x1b[K     |████████████████████            | 798 kB 43.1 MB/s eta 0:00:01',\n",
              " '\\x1b[K     |████████████████████▎           | 808 kB 43.1 MB/s eta 0:00:01',\n",
              " '\\x1b[K     |████████████████████▌           | 819 kB 43.1 MB/s eta 0:00:01',\n",
              " '\\x1b[K     |████████████████████▉           | 829 kB 43.1 MB/s eta 0:00:01',\n",
              " '\\x1b[K     |█████████████████████           | 839 kB 43.1 MB/s eta 0:00:01',\n",
              " '\\x1b[K     |█████████████████████▎          | 849 kB 43.1 MB/s eta 0:00:01',\n",
              " '\\x1b[K     |█████████████████████▋          | 860 kB 43.1 MB/s eta 0:00:01',\n",
              " '\\x1b[K     |█████████████████████▉          | 870 kB 43.1 MB/s eta 0:00:01',\n",
              " '\\x1b[K     |██████████████████████          | 880 kB 43.1 MB/s eta 0:00:01',\n",
              " '\\x1b[K     |██████████████████████▎         | 890 kB 43.1 MB/s eta 0:00:01',\n",
              " '\\x1b[K     |██████████████████████▋         | 901 kB 43.1 MB/s eta 0:00:01',\n",
              " '\\x1b[K     |██████████████████████▉         | 911 kB 43.1 MB/s eta 0:00:01',\n",
              " '\\x1b[K     |███████████████████████         | 921 kB 43.1 MB/s eta 0:00:01',\n",
              " '\\x1b[K     |███████████████████████▍        | 931 kB 43.1 MB/s eta 0:00:01',\n",
              " '\\x1b[K     |███████████████████████▋        | 942 kB 43.1 MB/s eta 0:00:01',\n",
              " '\\x1b[K     |███████████████████████▉        | 952 kB 43.1 MB/s eta 0:00:01',\n",
              " '\\x1b[K     |████████████████████████▏       | 962 kB 43.1 MB/s eta 0:00:01',\n",
              " '\\x1b[K     |████████████████████████▍       | 972 kB 43.1 MB/s eta 0:00:01',\n",
              " '\\x1b[K     |████████████████████████▋       | 983 kB 43.1 MB/s eta 0:00:01',\n",
              " '\\x1b[K     |█████████████████████████       | 993 kB 43.1 MB/s eta 0:00:01',\n",
              " '\\x1b[K     |█████████████████████████▏      | 1.0 MB 43.1 MB/s eta 0:00:01',\n",
              " '\\x1b[K     |█████████████████████████▍      | 1.0 MB 43.1 MB/s eta 0:00:01',\n",
              " '\\x1b[K     |█████████████████████████▊      | 1.0 MB 43.1 MB/s eta 0:00:01',\n",
              " '\\x1b[K     |██████████████████████████      | 1.0 MB 43.1 MB/s eta 0:00:01',\n",
              " '\\x1b[K     |██████████████████████████▏     | 1.0 MB 43.1 MB/s eta 0:00:01',\n",
              " '\\x1b[K     |██████████████████████████▍     | 1.1 MB 43.1 MB/s eta 0:00:01',\n",
              " '\\x1b[K     |██████████████████████████▊     | 1.1 MB 43.1 MB/s eta 0:00:01',\n",
              " '\\x1b[K     |███████████████████████████     | 1.1 MB 43.1 MB/s eta 0:00:01',\n",
              " '\\x1b[K     |███████████████████████████▏    | 1.1 MB 43.1 MB/s eta 0:00:01',\n",
              " '\\x1b[K     |███████████████████████████▌    | 1.1 MB 43.1 MB/s eta 0:00:01',\n",
              " '\\x1b[K     |███████████████████████████▊    | 1.1 MB 43.1 MB/s eta 0:00:01',\n",
              " '\\x1b[K     |████████████████████████████    | 1.1 MB 43.1 MB/s eta 0:00:01',\n",
              " '\\x1b[K     |████████████████████████████▎   | 1.1 MB 43.1 MB/s eta 0:00:01',\n",
              " '\\x1b[K     |████████████████████████████▌   | 1.1 MB 43.1 MB/s eta 0:00:01',\n",
              " '\\x1b[K     |████████████████████████████▊   | 1.1 MB 43.1 MB/s eta 0:00:01',\n",
              " '\\x1b[K     |█████████████████████████████   | 1.2 MB 43.1 MB/s eta 0:00:01',\n",
              " '\\x1b[K     |█████████████████████████████▎  | 1.2 MB 43.1 MB/s eta 0:00:01',\n",
              " '\\x1b[K     |█████████████████████████████▌  | 1.2 MB 43.1 MB/s eta 0:00:01',\n",
              " '\\x1b[K     |█████████████████████████████▊  | 1.2 MB 43.1 MB/s eta 0:00:01',\n",
              " '\\x1b[K     |██████████████████████████████  | 1.2 MB 43.1 MB/s eta 0:00:01',\n",
              " '\\x1b[K     |██████████████████████████████▎ | 1.2 MB 43.1 MB/s eta 0:00:01',\n",
              " '\\x1b[K     |██████████████████████████████▌ | 1.2 MB 43.1 MB/s eta 0:00:01',\n",
              " '\\x1b[K     |██████████████████████████████▉ | 1.2 MB 43.1 MB/s eta 0:00:01',\n",
              " '\\x1b[K     |███████████████████████████████ | 1.2 MB 43.1 MB/s eta 0:00:01',\n",
              " '\\x1b[K     |███████████████████████████████▎| 1.2 MB 43.1 MB/s eta 0:00:01',\n",
              " '\\x1b[K     |███████████████████████████████▋| 1.3 MB 43.1 MB/s eta 0:00:01',\n",
              " '\\x1b[K     |███████████████████████████████▉| 1.3 MB 43.1 MB/s eta 0:00:01',\n",
              " '\\x1b[K     |████████████████████████████████| 1.3 MB 43.1 MB/s ',\n",
              " '\\x1b[?25h']"
            ]
          },
          "metadata": {},
          "execution_count": 1
        }
      ],
      "source": [
        "! pip install sentencepiece -q"
      ]
    },
    {
      "cell_type": "code",
      "source": [
        "! pip install transformers -q"
      ],
      "metadata": {
        "colab": {
          "base_uri": "https://localhost:8080/"
        },
        "id": "p5CJYkAuA1dR",
        "outputId": "31f8e408-5978-4ede-d3ae-855d487f47f8"
      },
      "execution_count": 2,
      "outputs": [
        {
          "output_type": "stream",
          "name": "stdout",
          "text": [
            "\u001b[K     |████████████████████████████████| 4.9 MB 5.5 MB/s \n",
            "\u001b[K     |████████████████████████████████| 6.6 MB 58.9 MB/s \n",
            "\u001b[K     |████████████████████████████████| 163 kB 67.6 MB/s \n",
            "\u001b[?25h"
          ]
        }
      ]
    },
    {
      "cell_type": "markdown",
      "source": [
        "🤗 Model Page - https://huggingface.co/oliverguhr/fullstop-punctuation-multilang-large"
      ],
      "metadata": {
        "id": "F9LTgN26B8qd"
      }
    },
    {
      "cell_type": "markdown",
      "source": [
        "## Import model libraries"
      ],
      "metadata": {
        "id": "sieFGNgGCFT6"
      }
    },
    {
      "cell_type": "code",
      "source": [
        "from transformers import AutoTokenizer, AutoModelForTokenClassification, pipeline"
      ],
      "metadata": {
        "id": "fQD9ZL6eBu4n"
      },
      "execution_count": 1,
      "outputs": []
    },
    {
      "cell_type": "markdown",
      "source": [
        "## Load Tokenizer and Model"
      ],
      "metadata": {
        "id": "VD64xJ9OCIkD"
      }
    },
    {
      "cell_type": "code",
      "source": [
        "tokenizer = AutoTokenizer.from_pretrained(\"oliverguhr/fullstop-punctuation-multilang-large\")\n",
        "model = AutoModelForTokenClassification.from_pretrained(\"oliverguhr/fullstop-punctuation-multilang-large\")"
      ],
      "metadata": {
        "colab": {
          "base_uri": "https://localhost:8080/",
          "height": 177,
          "referenced_widgets": [
            "f373c5dd60184bfe87e4239ff5eea3f7",
            "330bf94a7574453ca256adf201db45c5",
            "797b5f7e321043e0a2780b3e408ba4b1",
            "43b2e73d706844d5983124034e73dd74",
            "e019197a82a447cdaf6d1ef1692a1ba1",
            "e680f1ea94ef484482922dba04daca0a",
            "fbfe999694fe4688bdcaebf82f97cb01",
            "c47a9d87c8e04cd7b13882c9f18ce836",
            "bb0dc8b194a64de8ae1abd35364dc68b",
            "fb53ef4f91eb44dc875d8634e86d377b",
            "9d919991ef0b4669947e599c755edf73",
            "b47351db6a3d494da4fe39c94d4741b0",
            "cbf11fe36c344644a25dd2b71a45b8da",
            "c030b53401f74befab075157d5e586ec",
            "91a96423cb6544edbf92975cd769c2f5",
            "58c828878f7d47cbabd71d97fd37d674",
            "e678d67588d045d18e21d1b8cb567d47",
            "eab454b4068f43afb969fffb8bfa7c75",
            "0f3a55dc1b46419c9603ad832826fd62",
            "dc51f31acf7e4ea7921255e54efc5567",
            "84361388755643ff8b644f73ea3e851c",
            "398a90ebe3374ae191df8c89bb1da701",
            "0943ffce435f4fbb96d5d0c09bd3f3fc",
            "c5b07302ca8f49b78a292799d4f71a60",
            "49a96449763345eaba22527a9e068ed4",
            "7e43c12927cf400284768499500f1a6f",
            "7c8e3304f34c47979f3224a6ea4742bf",
            "5eb374ff7fb14211b1d17c32ab49addb",
            "8d924383f65641fba5da27e6579b9f8d",
            "176396539b8a4ecfb99012e383cab1cc",
            "c67b47c82e1342bcad8d61e353b80bee",
            "f0b110f6f0264dc38e419fb6ec110498",
            "1ec39706e1b441eca8509e017c198448",
            "48eecf7f92674930bea88d0d7ac34c8d",
            "ff4e986fce5543e2bdf69dc5f47b01a4",
            "95467d9d220c43cf8da4d01cedf707b1",
            "f4c56d5e25f94002900b60fac71a12d4",
            "92fb837303a84e2884db2c78af8bac23",
            "307f5c98cf5148a4a441c922abb1f7a3",
            "1d83581a7e914b6e9553255c7ee97f12",
            "9f66f9f4d99144248b478f88600be0b3",
            "5cf810c513444034bb98b1ea2b7142a1",
            "66ae8227e6254dd4a0d5321ea8fb7295",
            "60a647f8747f4a529c07c6798318a1fa",
            "d8574e4019d94effab4384c41b22722d",
            "152fe8d09c134d609b08793360d705a1",
            "7d830bf67d844931a956548862e465d6",
            "0ce9d2e8b7a94b90ba967754890c157e",
            "1a933943b5074136bada144536c595b7",
            "d2ec43fa38f54fa1aa61a57a4ea51c01",
            "578bb5cc28004e55946c53eef9b57c31",
            "ef008d6f220f46a7a18a7715bf56a745",
            "c057c501861c4141ba9aa650fa026b5b",
            "611a22e8692e47749623bd64ffd68b50",
            "c4d2d61c9b664451b22f2aabeb4074e0"
          ]
        },
        "id": "x3EIZDDhCXWW",
        "outputId": "41a84215-2a78-4d3c-e0e6-7b5dc0c63f72"
      },
      "execution_count": 2,
      "outputs": [
        {
          "output_type": "display_data",
          "data": {
            "text/plain": [
              "Downloading:   0%|          | 0.00/406 [00:00<?, ?B/s]"
            ],
            "application/vnd.jupyter.widget-view+json": {
              "version_major": 2,
              "version_minor": 0,
              "model_id": "f373c5dd60184bfe87e4239ff5eea3f7"
            }
          },
          "metadata": {}
        },
        {
          "output_type": "display_data",
          "data": {
            "text/plain": [
              "Downloading:   0%|          | 0.00/892 [00:00<?, ?B/s]"
            ],
            "application/vnd.jupyter.widget-view+json": {
              "version_major": 2,
              "version_minor": 0,
              "model_id": "b47351db6a3d494da4fe39c94d4741b0"
            }
          },
          "metadata": {}
        },
        {
          "output_type": "display_data",
          "data": {
            "text/plain": [
              "Downloading:   0%|          | 0.00/5.07M [00:00<?, ?B/s]"
            ],
            "application/vnd.jupyter.widget-view+json": {
              "version_major": 2,
              "version_minor": 0,
              "model_id": "0943ffce435f4fbb96d5d0c09bd3f3fc"
            }
          },
          "metadata": {}
        },
        {
          "output_type": "display_data",
          "data": {
            "text/plain": [
              "Downloading:   0%|          | 0.00/239 [00:00<?, ?B/s]"
            ],
            "application/vnd.jupyter.widget-view+json": {
              "version_major": 2,
              "version_minor": 0,
              "model_id": "48eecf7f92674930bea88d0d7ac34c8d"
            }
          },
          "metadata": {}
        },
        {
          "output_type": "display_data",
          "data": {
            "text/plain": [
              "Downloading:   0%|          | 0.00/2.24G [00:00<?, ?B/s]"
            ],
            "application/vnd.jupyter.widget-view+json": {
              "version_major": 2,
              "version_minor": 0,
              "model_id": "d8574e4019d94effab4384c41b22722d"
            }
          },
          "metadata": {}
        }
      ]
    },
    {
      "cell_type": "code",
      "source": [
        "text = 'This model predicts the punctuation of English Italian French and German text'"
      ],
      "metadata": {
        "id": "GFkzxvwMGJ0g"
      },
      "execution_count": 3,
      "outputs": []
    },
    {
      "cell_type": "code",
      "source": [
        "pun = pipeline('ner', model=model, tokenizer=tokenizer)"
      ],
      "metadata": {
        "id": "4TpR7aCOGmu3"
      },
      "execution_count": 4,
      "outputs": []
    },
    {
      "cell_type": "code",
      "source": [
        "pun"
      ],
      "metadata": {
        "colab": {
          "base_uri": "https://localhost:8080/"
        },
        "id": "myhONLhIGoZe",
        "outputId": "7ad12c73-a203-4427-d77e-c6c96100fd76"
      },
      "execution_count": 5,
      "outputs": [
        {
          "output_type": "execute_result",
          "data": {
            "text/plain": [
              "<transformers.pipelines.token_classification.TokenClassificationPipeline at 0x7fdc7d3d6750>"
            ]
          },
          "metadata": {},
          "execution_count": 5
        }
      ]
    },
    {
      "cell_type": "code",
      "source": [
        "pun(text)"
      ],
      "metadata": {
        "colab": {
          "base_uri": "https://localhost:8080/"
        },
        "id": "VVWnase2GpPo",
        "outputId": "bff486fd-b2f4-427b-dab3-6d0bd3dd9ad3"
      },
      "execution_count": 7,
      "outputs": [
        {
          "output_type": "execute_result",
          "data": {
            "text/plain": [
              "[{'entity': '0',\n",
              "  'score': 0.9999912,\n",
              "  'index': 1,\n",
              "  'word': '▁This',\n",
              "  'start': 0,\n",
              "  'end': 4},\n",
              " {'entity': '0',\n",
              "  'score': 0.99993694,\n",
              "  'index': 2,\n",
              "  'word': '▁model',\n",
              "  'start': 4,\n",
              "  'end': 10},\n",
              " {'entity': '0',\n",
              "  'score': 0.99998033,\n",
              "  'index': 3,\n",
              "  'word': '▁predict',\n",
              "  'start': 10,\n",
              "  'end': 18},\n",
              " {'entity': '0',\n",
              "  'score': 0.9999851,\n",
              "  'index': 4,\n",
              "  'word': 's',\n",
              "  'start': 18,\n",
              "  'end': 19},\n",
              " {'entity': '0',\n",
              "  'score': 0.99999106,\n",
              "  'index': 5,\n",
              "  'word': '▁the',\n",
              "  'start': 19,\n",
              "  'end': 23},\n",
              " {'entity': '0',\n",
              "  'score': 0.9999865,\n",
              "  'index': 6,\n",
              "  'word': '▁punct',\n",
              "  'start': 23,\n",
              "  'end': 29},\n",
              " {'entity': '0',\n",
              "  'score': 0.9999875,\n",
              "  'index': 7,\n",
              "  'word': 'u',\n",
              "  'start': 29,\n",
              "  'end': 30},\n",
              " {'entity': '0',\n",
              "  'score': 0.9999908,\n",
              "  'index': 8,\n",
              "  'word': 'ation',\n",
              "  'start': 30,\n",
              "  'end': 35},\n",
              " {'entity': '0',\n",
              "  'score': 0.9999443,\n",
              "  'index': 9,\n",
              "  'word': '▁of',\n",
              "  'start': 35,\n",
              "  'end': 38},\n",
              " {'entity': ',',\n",
              "  'score': 0.9998547,\n",
              "  'index': 10,\n",
              "  'word': '▁English',\n",
              "  'start': 38,\n",
              "  'end': 46},\n",
              " {'entity': ',',\n",
              "  'score': 0.9997118,\n",
              "  'index': 11,\n",
              "  'word': '▁Italian',\n",
              "  'start': 46,\n",
              "  'end': 54},\n",
              " {'entity': '0',\n",
              "  'score': 0.9975611,\n",
              "  'index': 12,\n",
              "  'word': '▁French',\n",
              "  'start': 54,\n",
              "  'end': 61},\n",
              " {'entity': '0',\n",
              "  'score': 0.9999894,\n",
              "  'index': 13,\n",
              "  'word': '▁and',\n",
              "  'start': 61,\n",
              "  'end': 65},\n",
              " {'entity': '0',\n",
              "  'score': 0.99998116,\n",
              "  'index': 14,\n",
              "  'word': '▁German',\n",
              "  'start': 65,\n",
              "  'end': 72},\n",
              " {'entity': '.',\n",
              "  'score': 0.999803,\n",
              "  'index': 15,\n",
              "  'word': '▁text',\n",
              "  'start': 72,\n",
              "  'end': 77}]"
            ]
          },
          "metadata": {},
          "execution_count": 7
        }
      ]
    },
    {
      "cell_type": "code",
      "source": [
        "output_json = pun(text)\n",
        "print(output_json)"
      ],
      "metadata": {
        "colab": {
          "base_uri": "https://localhost:8080/"
        },
        "id": "WhTIqM9CGvH3",
        "outputId": "7cfd5a82-6501-408b-8562-26ed74799870"
      },
      "execution_count": 8,
      "outputs": [
        {
          "output_type": "stream",
          "name": "stdout",
          "text": [
            "[{'entity': '0', 'score': 0.9999912, 'index': 1, 'word': '▁This', 'start': 0, 'end': 4}, {'entity': '0', 'score': 0.99993694, 'index': 2, 'word': '▁model', 'start': 4, 'end': 10}, {'entity': '0', 'score': 0.99998033, 'index': 3, 'word': '▁predict', 'start': 10, 'end': 18}, {'entity': '0', 'score': 0.9999851, 'index': 4, 'word': 's', 'start': 18, 'end': 19}, {'entity': '0', 'score': 0.99999106, 'index': 5, 'word': '▁the', 'start': 19, 'end': 23}, {'entity': '0', 'score': 0.9999865, 'index': 6, 'word': '▁punct', 'start': 23, 'end': 29}, {'entity': '0', 'score': 0.9999875, 'index': 7, 'word': 'u', 'start': 29, 'end': 30}, {'entity': '0', 'score': 0.9999908, 'index': 8, 'word': 'ation', 'start': 30, 'end': 35}, {'entity': '0', 'score': 0.9999443, 'index': 9, 'word': '▁of', 'start': 35, 'end': 38}, {'entity': ',', 'score': 0.9998547, 'index': 10, 'word': '▁English', 'start': 38, 'end': 46}, {'entity': ',', 'score': 0.9997118, 'index': 11, 'word': '▁Italian', 'start': 46, 'end': 54}, {'entity': '0', 'score': 0.9975611, 'index': 12, 'word': '▁French', 'start': 54, 'end': 61}, {'entity': '0', 'score': 0.9999894, 'index': 13, 'word': '▁and', 'start': 61, 'end': 65}, {'entity': '0', 'score': 0.99998116, 'index': 14, 'word': '▁German', 'start': 65, 'end': 72}, {'entity': '.', 'score': 0.999803, 'index': 15, 'word': '▁text', 'start': 72, 'end': 77}]\n"
          ]
        }
      ]
    },
    {
      "cell_type": "code",
      "source": [
        "s = ''\n",
        "\n",
        "for n in output_json:\n",
        "  result = n['word'].replace('▁',' ') + n['entity'].replace('0','')\n",
        "  s += result"
      ],
      "metadata": {
        "id": "ILvO-GOsHBnQ"
      },
      "execution_count": 9,
      "outputs": []
    },
    {
      "cell_type": "code",
      "source": [
        "print(s)"
      ],
      "metadata": {
        "colab": {
          "base_uri": "https://localhost:8080/"
        },
        "id": "TF5_gI1rHQWp",
        "outputId": "11ea02e9-4562-473b-c41e-97cd1f984db3"
      },
      "execution_count": 10,
      "outputs": [
        {
          "output_type": "stream",
          "name": "stdout",
          "text": [
            " This model predicts the punctuation of English, Italian, French and German text.\n"
          ]
        }
      ]
    },
    {
      "cell_type": "code",
      "source": [
        "text = 'I had tea cake bread and chocolate pudding for breakfast'\n",
        "output_json = pun(text)\n",
        "print(output_json)"
      ],
      "metadata": {
        "colab": {
          "base_uri": "https://localhost:8080/"
        },
        "id": "O2cJJEtiHRqX",
        "outputId": "b17864e7-5372-41aa-f318-c2f2be56094b"
      },
      "execution_count": 29,
      "outputs": [
        {
          "output_type": "stream",
          "name": "stdout",
          "text": [
            "[{'entity': '0', 'score': 0.9999881, 'index': 1, 'word': '▁I', 'start': 0, 'end': 1}, {'entity': '0', 'score': 0.9998005, 'index': 2, 'word': '▁had', 'start': 1, 'end': 5}, {'entity': ',', 'score': 0.8604958, 'index': 3, 'word': '▁tea', 'start': 5, 'end': 9}, {'entity': ',', 'score': 0.5958861, 'index': 4, 'word': '▁cake', 'start': 9, 'end': 14}, {'entity': '0', 'score': 0.9930547, 'index': 5, 'word': '▁bread', 'start': 14, 'end': 20}, {'entity': '0', 'score': 0.99998784, 'index': 6, 'word': '▁and', 'start': 20, 'end': 24}, {'entity': '0', 'score': 0.999936, 'index': 7, 'word': '▁chocolate', 'start': 24, 'end': 34}, {'entity': '0', 'score': 0.99978966, 'index': 8, 'word': '▁pu', 'start': 34, 'end': 37}, {'entity': '0', 'score': 0.99978524, 'index': 9, 'word': 'dding', 'start': 37, 'end': 42}, {'entity': '0', 'score': 0.9999913, 'index': 10, 'word': '▁for', 'start': 42, 'end': 46}, {'entity': '.', 'score': 0.9968995, 'index': 11, 'word': '▁breakfast', 'start': 46, 'end': 56}]\n"
          ]
        }
      ]
    },
    {
      "cell_type": "code",
      "source": [
        "s = ''\n",
        "\n",
        "for n in output_json:\n",
        "  result = n['word'].replace('▁',' ') + n['entity'].replace('0','') \n",
        "  print(result)\n",
        "  s += result"
      ],
      "metadata": {
        "colab": {
          "base_uri": "https://localhost:8080/"
        },
        "id": "77L40vc-JFnW",
        "outputId": "f3ed4c2a-6052-40bc-e76f-60111bf7d5f8"
      },
      "execution_count": 30,
      "outputs": [
        {
          "output_type": "stream",
          "name": "stdout",
          "text": [
            " I\n",
            " had\n",
            " tea,\n",
            " cake,\n",
            " bread\n",
            " and\n",
            " chocolate\n",
            " pu\n",
            "dding\n",
            " for\n",
            " breakfast.\n"
          ]
        }
      ]
    },
    {
      "cell_type": "code",
      "source": [
        "print(s)"
      ],
      "metadata": {
        "colab": {
          "base_uri": "https://localhost:8080/"
        },
        "id": "iTB-vcdXJG7U",
        "outputId": "cc51d367-f5da-4835-927b-bf5cfb290e4b"
      },
      "execution_count": 31,
      "outputs": [
        {
          "output_type": "stream",
          "name": "stdout",
          "text": [
            " I had tea, cake, bread and chocolate pudding for breakfast.\n"
          ]
        }
      ]
    },
    {
      "cell_type": "code",
      "source": [
        "text = 'Stop them do not let go'\n",
        "output_json = pun(text)\n",
        "print(output_json)"
      ],
      "metadata": {
        "colab": {
          "base_uri": "https://localhost:8080/"
        },
        "id": "w5cKOQYNJIeX",
        "outputId": "69a4fbb4-2afe-4e46-b5f9-64f649102739"
      },
      "execution_count": 36,
      "outputs": [
        {
          "output_type": "stream",
          "name": "stdout",
          "text": [
            "[{'entity': '0', 'score': 0.9999888, 'index': 1, 'word': '▁Stop', 'start': 0, 'end': 4}, {'entity': ',', 'score': 0.8737591, 'index': 2, 'word': '▁them', 'start': 4, 'end': 9}, {'entity': '0', 'score': 0.9999838, 'index': 3, 'word': '▁do', 'start': 9, 'end': 12}, {'entity': '0', 'score': 0.9661995, 'index': 4, 'word': '▁not', 'start': 12, 'end': 16}, {'entity': '0', 'score': 0.9999901, 'index': 5, 'word': '▁let', 'start': 16, 'end': 20}, {'entity': '.', 'score': 0.9994935, 'index': 6, 'word': '▁go', 'start': 20, 'end': 23}]\n"
          ]
        }
      ]
    },
    {
      "cell_type": "code",
      "source": [
        "s = ''\n",
        "for n in output_json:\n",
        "  result = n['word'].replace('▁',' ') + n['entity'].replace('0','') \n",
        "  print(result)\n",
        "  s += result\n",
        "print(s)"
      ],
      "metadata": {
        "colab": {
          "base_uri": "https://localhost:8080/"
        },
        "id": "w7u1QXm9NKdm",
        "outputId": "a14365c8-62f7-4872-a0b1-a123814d5705"
      },
      "execution_count": 37,
      "outputs": [
        {
          "output_type": "stream",
          "name": "stdout",
          "text": [
            " Stop\n",
            " them,\n",
            " do\n",
            " not\n",
            " let\n",
            " go.\n",
            " Stop them, do not let go.\n"
          ]
        }
      ]
    },
    {
      "cell_type": "code",
      "source": [],
      "metadata": {
        "id": "0_xe4-hdNPbY"
      },
      "execution_count": null,
      "outputs": []
    }
  ]
}
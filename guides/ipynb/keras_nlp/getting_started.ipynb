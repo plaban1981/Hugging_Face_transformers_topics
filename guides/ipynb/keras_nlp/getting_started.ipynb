{
  "cells": [
    {
      "cell_type": "markdown",
      "metadata": {
        "id": "7niq8BIw_yOl"
      },
      "source": [
        "# Getting Started with KerasNLP\n",
        "\n",
        "**Author:** [jbischof](https://github.com/jbischof)<br>\n",
        "**Date created:** 2022/12/15<br>\n",
        "**Last modified:** 2022/12/15<br>\n",
        "**Description:** An introduction to the KerasNLP API."
      ]
    },
    {
      "cell_type": "markdown",
      "metadata": {
        "id": "Z_a98fIb_yOp"
      },
      "source": [
        "## Introduction\n",
        "\n",
        "KerasNLP is a natural language processing library that supports users through\n",
        "their entire development cycle. Our workflows are built from modular components\n",
        "that have state-of-the-art preset weights and architectures when used\n",
        "out-of-the-box and are easily customizable when more control is needed. We\n",
        "emphasize in-graph computation for all workflows so that developers can expect\n",
        "easy productionization using the TensorFlow ecosystem.\n",
        "\n",
        "This library is an extension of the core Keras API; all high level modules are\n",
        "[`Layers`](/api/layers/) or [`Models`](/api/models/). If you are familiar with Keras,\n",
        "congratulations! You already understand most of KerasNLP.\n",
        "\n",
        "This guide demonstrates our modular approach using a sentiment analysis example at six\n",
        "levels of complexity:\n",
        "\n",
        "* Inference with a pretrained classifier\n",
        "* Fine tuning a pretrained backbone\n",
        "* Fine tuning with user-controlled preprocessing\n",
        "* Fine tuning a custom model\n",
        "* Pretraining a backbone model\n",
        "* Build and train your own transformer from scratch\n",
        "\n",
        "Throughout our guide we use Professor Keras, the official Keras mascot, as a visual\n",
        "reference for the complexity of the material:\n",
        "\n",
        "<img src=\"https://storage.googleapis.com/keras-nlp/getting_started_guide/prof_keras_evolution.png\" alt=\"drawing\" height=\"250\"/>"
      ]
    },
    {
      "cell_type": "code",
      "execution_count": null,
      "metadata": {
        "id": "Zz-5ChhG_yOq"
      },
      "outputs": [],
      "source": [
        "!pip install -q --upgrade keras-nlp tensorflow"
      ]
    },
    {
      "cell_type": "code",
      "execution_count": null,
      "metadata": {
        "id": "RqXXGkfW_yOr"
      },
      "outputs": [],
      "source": [
        "import keras_nlp\n",
        "import tensorflow as tf\n",
        "from tensorflow import keras\n",
        "\n",
        "# Use mixed precision for optimal performance\n",
        "keras.mixed_precision.set_global_policy(\"mixed_float16\")"
      ]
    },
    {
      "cell_type": "markdown",
      "metadata": {
        "id": "q8YdHnAt_yOr"
      },
      "source": [
        "## API quickstart\n",
        "\n",
        "Our highest level API is `keras_nlp.models`. These symbols cover the complete user\n",
        "journey of converting strings to tokens, tokens to dense features, and dense features to\n",
        "task-specific output. For each `XX` architecture (e.g., `Bert`), we offer the following\n",
        "modules:\n",
        "\n",
        "* **Tokenizer**: `keras_nlp.models.XXTokenizer`\n",
        "  * **What it does**: Converts strings to `tf.RaggedTensor`s of token ids.\n",
        "  * **Why it's important**: The raw bytes of a string are too high dimensional to be useful\n",
        "    features so we first map them to a small number of tokens, for example `\"The quick brown\n",
        "    fox\"` to `[\"the\", \"qu\", \"##ick\", \"br\", \"##own\", \"fox\"]`.\n",
        "  * **Inherits from**: `keras.layers.Layer`.\n",
        "* **Preprocessor**: `keras_nlp.models.XXPreprocessor`\n",
        "  * **What it does**: Converts strings to a dictonary of preprocessed tensors consumed by\n",
        "    the backbone, starting with tokenization.\n",
        "  * **Why it's important**: Each model uses special tokens and extra tensors to understand\n",
        "    the input such as deliminting input segments and identifying padding tokens. Padding each\n",
        "    sequence to the same length improves computational efficiency.\n",
        "  * **Has a**: `XXTokenizer`.\n",
        "  * **Inherits from**: `keras.layers.Layer`.\n",
        "* **Backbone**: `keras_nlp.models.XXBackbone`\n",
        "  * **What it does**: Converts preprocessed tensors to dense features. *Does not handle\n",
        "    strings; call the preprocessor first.*\n",
        "  * **Why it's important**: The backbone distills the input tokens into dense features that\n",
        "    can be used in downstream tasks. It is generally pretrained on a language modeling task\n",
        "    using massive amounts of unlabeled data. Transfering this information to a new task is a\n",
        "    major breakthrough in modern NLP.\n",
        "  * **Inherits from**: `keras.Model`.\n",
        "* **Task**: e.g., `keras_nlp.models.XXClassifier`\n",
        "  * **What it does**: Converts strings to task-specific output (e.g., classification\n",
        "    probabilities).\n",
        "  * **Why it's important**: Task models combine string preprocessing and the backbone model\n",
        "    with task-specific `Layers` to solve a problem such as sentence classification, token\n",
        "    classification, or text generation. The additional `Layers` must be fine-tuned on labeled\n",
        "    data.\n",
        "  * **Has a**: `XXBackbone` and `XXPreprocessor`.\n",
        "  * **Inherits from**: `keras.Model`.\n",
        "\n",
        "Here is the modular hierarchy for `BertClassifier` (all relationships are compositional):\n",
        "\n",
        "<img src=\"https://storage.googleapis.com/keras-nlp/getting_started_guide/class_diagram.png\" alt=\"drawing\" height=\"300\"/>\n",
        "\n",
        "All modules can be used independently and have a `from_preset()` method in addition to\n",
        "the standard constructor that instantiates the class with **preset** architecture and\n",
        "weights (see examples below)."
      ]
    },
    {
      "cell_type": "markdown",
      "metadata": {
        "id": "TnHoec9C_yOs"
      },
      "source": [
        "## Data\n",
        "\n",
        "We will use a running example of sentiment analysis of IMDB movie reviews. In this task,\n",
        "we use the text to predict whether the review was positive (`label = 1`) or negative\n",
        "(`label = 0`).\n",
        "\n",
        "We load the data using `keras.utils.text_dataset_from_directory`, which utilizes the\n",
        "powerful `tf.data.Dataset` format for examples."
      ]
    },
    {
      "cell_type": "code",
      "execution_count": null,
      "metadata": {
        "id": "w8ULGPN4_yOs"
      },
      "outputs": [],
      "source": [
        "!curl -O https://ai.stanford.edu/~amaas/data/sentiment/aclImdb_v1.tar.gz\n",
        "!tar -xf aclImdb_v1.tar.gz\n",
        "!# Remove unsupervised examples\n",
        "!rm -r aclImdb/train/unsup"
      ]
    },
    {
      "cell_type": "code",
      "execution_count": null,
      "metadata": {
        "id": "AOwqBZSU_yOt"
      },
      "outputs": [],
      "source": [
        "BATCH_SIZE = 16\n",
        "imdb_train = tf.keras.utils.text_dataset_from_directory(\n",
        "    \"aclImdb/train\",\n",
        "    batch_size=BATCH_SIZE,\n",
        ")\n",
        "imdb_test = tf.keras.utils.text_dataset_from_directory(\n",
        "    \"aclImdb/test\",\n",
        "    batch_size=BATCH_SIZE,\n",
        ")\n",
        "\n",
        "# Inspect first review\n",
        "# Format is (review text tensor, label tensor)\n",
        "print(imdb_train.unbatch().take(1).get_single_element())"
      ]
    },
    {
      "cell_type": "markdown",
      "metadata": {
        "id": "K0PKlzUh_yOt"
      },
      "source": [
        "## Inference with a pretrained classifier\n",
        "\n",
        "<img src=\"https://storage.googleapis.com/keras-nlp/getting_started_guide/prof_keras_beginner.png\" alt=\"drawing\" height=\"250\"/>\n",
        "\n",
        "The highest level module in KerasNLP is a **task**. A **task** is a `keras.Model`\n",
        "consisting of a (generally pretrained) **backbone** model and task-specific layers.\n",
        "Here's an example using `keras_nlp.models.BertClassifier`.\n",
        "\n",
        "**Note**: Outputs are the logits per class (e.g., `[0, 0]` is 50% chance of positive)."
      ]
    },
    {
      "cell_type": "code",
      "execution_count": null,
      "metadata": {
        "id": "1nL3pt-p_yOt"
      },
      "outputs": [],
      "source": [
        "classifier = keras_nlp.models.BertClassifier.from_preset(\"bert_tiny_en_uncased_sst2\")\n",
        "# Note: batched inputs expected so must wrap string in iterable\n",
        "classifier.predict([\"I love modular workflows in keras-nlp!\"])"
      ]
    },
    {
      "cell_type": "markdown",
      "metadata": {
        "id": "ML5OMU_P_yOu"
      },
      "source": [
        "All **tasks** have a `from_preset` method that constructs a `keras.Model` instance with\n",
        "preset preprocessing, architecture and weights. This means that we can pass raw strings\n",
        "in any format accepted by a `keras.Model` and get output specific to our task.\n",
        "\n",
        "This particular **preset** is a `\"bert_tiny_uncased_en\"` **backbone** fine-tuned on\n",
        "`sst2`, another movie review sentiment analysis (this time from Rotten Tomatoes). We use\n",
        "the `tiny` architecture for demo purposes, but larger models are recommended for SoTA\n",
        "performance. For all the task-specific presets available for `BertClassifier`, see\n",
        "our keras.io [models page](https://keras.io/api/keras_nlp/models/).\n",
        "\n",
        "Let's evaluate our classifier on the IMDB dataset. We first need to compile the\n",
        "`keras.Model`. The output is `[loss, accuracy]`,\n",
        "\n",
        "**Note**: We don't need an optimizer since we're not training the model."
      ]
    },
    {
      "cell_type": "code",
      "execution_count": null,
      "metadata": {
        "id": "feUkNkfo_yOu"
      },
      "outputs": [],
      "source": [
        "classifier.compile(\n",
        "    loss=keras.losses.SparseCategoricalCrossentropy(from_logits=True),\n",
        "    metrics=keras.metrics.SparseCategoricalAccuracy(),\n",
        "    jit_compile=True,\n",
        ")\n",
        "\n",
        "classifier.evaluate(imdb_test)"
      ]
    },
    {
      "cell_type": "markdown",
      "metadata": {
        "id": "QaOd10ve_yOu"
      },
      "source": [
        "Our result is 78% accuracy without training anything. Not bad!"
      ]
    },
    {
      "cell_type": "markdown",
      "metadata": {
        "id": "lIyYZiJe_yOu"
      },
      "source": [
        "## Fine tuning a pretrained BERT backbone\n",
        "\n",
        "<img src=\"https://storage.googleapis.com/keras-nlp/getting_started_guide/prof_keras_intermediate.png\" alt=\"drawing\" height=\"250\"/>\n",
        "\n",
        "When labeled text specific to our task is available, fine-tuning a custom classifier can\n",
        "improve performance. If we want to predict IMDB review sentiment, using IMDB data should\n",
        "perform better than Rotten Tomatoes data! And for many tasks no relevant pretrained model\n",
        "will be available (e.g., categorizing customer reviews).\n",
        "\n",
        "The workflow for fine-tuning is almost identical to above, except that we request a\n",
        "**preset** for the **backbone**-only model rather than the entire classifier. When passed\n",
        "a **backone** **preset**, a **task** `Model` will randomly initialize all task-specific\n",
        "layers in preparation for training. For all the **backbone** presets available for\n",
        "`BertClassifier`, see our keras.io [models page](https://keras.io/api/keras_nlp/models/).\n",
        "\n",
        "To train your classifier, use `Model.compile()` and `Model.fit()` as with any other\n",
        "`keras.Model`. Since preprocessing is included in all **tasks** by default, we again pass\n",
        "the raw data."
      ]
    },
    {
      "cell_type": "code",
      "execution_count": null,
      "metadata": {
        "id": "IvnrQn40_yOv"
      },
      "outputs": [],
      "source": [
        "classifier = keras_nlp.models.BertClassifier.from_preset(\n",
        "    \"bert_tiny_en_uncased\",\n",
        "    num_classes=2,\n",
        ")\n",
        "classifier.compile(\n",
        "    loss=keras.losses.SparseCategoricalCrossentropy(from_logits=True),\n",
        "    optimizer=keras.optimizers.experimental.AdamW(5e-5),\n",
        "    metrics=keras.metrics.SparseCategoricalAccuracy(),\n",
        "    jit_compile=True,\n",
        ")\n",
        "classifier.fit(\n",
        "    imdb_train,\n",
        "    validation_data=imdb_test,\n",
        "    epochs=1,\n",
        ")"
      ]
    },
    {
      "cell_type": "markdown",
      "metadata": {
        "id": "aRxAtGXX_yOv"
      },
      "source": [
        "Here we see significant lift in validation accuracy (0.78 -> 0.87) with a single epoch of\n",
        "training even though the IMDB dataset is much smaller than `sst2`."
      ]
    },
    {
      "cell_type": "markdown",
      "metadata": {
        "id": "3mIgEg0e_yOv"
      },
      "source": [
        "## Fine tuning with user-controlled preprocessing\n",
        "<img src=\"https://storage.googleapis.com/keras-nlp/getting_started_guide/prof_keras_advanced.png\" alt=\"drawing\" height=\"250\"/>\n",
        "\n",
        "For some advanced training scenarios, users might prefer direct control over\n",
        "preprocessing. For large datasets, examples can be preprocessed in advance and saved to\n",
        "disk or preprocessed by a separate worker pool using `tf.data.experimental.service`. In\n",
        "other cases, custom preprocessing is needed to handle the inputs.\n",
        "\n",
        "Pass `preprocessor=None` to the constructor of a **task** `Model` to skip automatic\n",
        "preprocessing or pass a custom `BertPreprocessor` instead."
      ]
    },
    {
      "cell_type": "markdown",
      "metadata": {
        "id": "Bseb7r_C_yOv"
      },
      "source": [
        "### Separate preprocessing from the same preset\n",
        "\n",
        "Each model architecture has a parallel **preprocessor** `Layer` with its own\n",
        "`from_preset` constructor. Using the same **preset** for this `Layer` will return the\n",
        "matching **preprocessor** as the **task**.\n",
        "\n",
        "In this workflow we train the model over three epochs using `tf.data.Dataset.cache()`,\n",
        "which computes the preprocessing once and caches the result before fitting begins.\n",
        "\n",
        "**Note:** this code only works if your data fits in memory. If not, pass a `filename` to\n",
        "`cache()`."
      ]
    },
    {
      "cell_type": "code",
      "execution_count": null,
      "metadata": {
        "id": "amnO3LN8_yOv"
      },
      "outputs": [],
      "source": [
        "preprocessor = keras_nlp.models.BertPreprocessor.from_preset(\n",
        "    \"bert_tiny_en_uncased\",\n",
        "    sequence_length=512,\n",
        ")\n",
        "\n",
        "imdb_train_cached = (\n",
        "    imdb_train.map(preprocessor, tf.data.AUTOTUNE).cache().prefetch(tf.data.AUTOTUNE)\n",
        ")\n",
        "imdb_test_cached = (\n",
        "    imdb_test.map(preprocessor, tf.data.AUTOTUNE).cache().prefetch(tf.data.AUTOTUNE)\n",
        ")\n",
        "\n",
        "classifier = keras_nlp.models.BertClassifier.from_preset(\n",
        "    \"bert_tiny_en_uncased\",\n",
        "    preprocessor=None,\n",
        ")\n",
        "classifier.compile(\n",
        "    loss=keras.losses.SparseCategoricalCrossentropy(from_logits=True),\n",
        "    optimizer=keras.optimizers.experimental.AdamW(5e-5),\n",
        "    metrics=keras.metrics.SparseCategoricalAccuracy(),\n",
        "    jit_compile=True,\n",
        ")\n",
        "classifier.fit(\n",
        "    imdb_train_cached,\n",
        "    validation_data=imdb_test_cached,\n",
        "    epochs=3,\n",
        ")"
      ]
    },
    {
      "cell_type": "markdown",
      "metadata": {
        "id": "q576QBcA_yOw"
      },
      "source": [
        "After three epochs, our validation accuracy has only increased to 0.88. This is both a\n",
        "function of the small size of our dataset and our model. To exceed 90% accuracy, try\n",
        "larger **presets** such as  `\"bert_base_en_uncased\"`. For all the **backbone** presets\n",
        "available for `BertClassifier`, see our keras.io [models page](https://keras.io/api/keras_nlp/models/)."
      ]
    },
    {
      "cell_type": "markdown",
      "metadata": {
        "id": "YyztpWdF_yOw"
      },
      "source": [
        "### Custom preprocessing\n",
        "\n",
        "In cases where custom preprocessing is required, we offer direct access to the\n",
        "`Tokenizer` class that maps raw strings to tokens. It also has a `from_preset()`\n",
        "constructor to get the vocabulary matching pretraining.\n",
        "\n",
        "**Note:** `BertTokenizer` does not pad sequences by default, so the output is\n",
        "a `tf.RaggedTensor`."
      ]
    },
    {
      "cell_type": "code",
      "execution_count": null,
      "metadata": {
        "id": "Cp77o52K_yOw"
      },
      "outputs": [],
      "source": [
        "tokenizer = keras_nlp.models.BertTokenizer.from_preset(\"bert_tiny_en_uncased\")\n",
        "tokenizer([\"I love modular workflows!\", \"Libraries over frameworks!\"])\n",
        "\n",
        "# Write your own packer or use one our `Layers`\n",
        "packer = keras_nlp.layers.MultiSegmentPacker(\n",
        "    start_value=tokenizer.cls_token_id,\n",
        "    end_value=tokenizer.sep_token_id,\n",
        "    # Note: This cannot be longer than the preset's `sequence_length`, and there\n",
        "    # is no check for a custom preprocessor!\n",
        "    sequence_length=64,\n",
        ")\n",
        "\n",
        "\n",
        "def preprocessor(x, y):\n",
        "    token_ids, segment_ids = packer(tokenizer(x))\n",
        "    x = {\n",
        "        \"token_ids\": token_ids,\n",
        "        \"segment_ids\": segment_ids,\n",
        "        \"padding_mask\": token_ids != 0,\n",
        "    }\n",
        "    return x, y\n",
        "\n",
        "\n",
        "imbd_train_preprocessed = imdb_train.map(preprocessor, tf.data.AUTOTUNE).prefetch(\n",
        "    tf.data.AUTOTUNE\n",
        ")\n",
        "imdb_test_preprocessed = imdb_test.map(preprocessor, tf.data.AUTOTUNE).prefetch(\n",
        "    tf.data.AUTOTUNE\n",
        ")\n",
        "\n",
        "# Preprocessed example\n",
        "print(imbd_train_preprocessed.unbatch().take(1).get_single_element())"
      ]
    },
    {
      "cell_type": "markdown",
      "metadata": {
        "id": "eahakeOC_yOw"
      },
      "source": [
        "## Fine tuning with a custom model\n",
        "<img src=\"https://storage.googleapis.com/keras-nlp/getting_started_guide/prof_keras_advanced.png\" alt=\"drawing\" height=\"250\"/>\n",
        "\n",
        "For more advanced applications, an appropriate **task** `Model` may not be available. In\n",
        "this case we provide direct access to the **backbone** `Model`, which has its own\n",
        "`from_preset` constructor and can be composed with custom `Layer`s. Detailed examples can\n",
        "be found at our [transfer learning guide](https://keras.io/guides/transfer_learning/).\n",
        "\n",
        "A **backbone** `Model` does not include automatic preprocessing but can be paired with a\n",
        "matching **preprocessor** using the same **preset** as shown in the previous workflow.\n",
        "\n",
        "In this workflow we experiment with freezing our backbone model and adding two trainable\n",
        "transfomer layers to adapt to the new input.\n",
        "\n",
        "**Note**: We can igonore the warning about gradients for the `pooled_dense` layer because\n",
        "we are using BERT's sequence output."
      ]
    },
    {
      "cell_type": "code",
      "execution_count": null,
      "metadata": {
        "id": "IY4FJVaq_yOw"
      },
      "outputs": [],
      "source": [
        "preprocessor = keras_nlp.models.BertPreprocessor.from_preset(\"bert_tiny_en_uncased\")\n",
        "backbone = keras_nlp.models.BertBackbone.from_preset(\"bert_tiny_en_uncased\")\n",
        "\n",
        "imdb_train_preprocessed = (\n",
        "    imdb_train.map(preprocessor, tf.data.AUTOTUNE).cache().prefetch(tf.data.AUTOTUNE)\n",
        ")\n",
        "imdb_test_preprocessed = (\n",
        "    imdb_test.map(preprocessor, tf.data.AUTOTUNE).cache().prefetch(tf.data.AUTOTUNE)\n",
        ")\n",
        "\n",
        "backbone.trainable = False\n",
        "inputs = backbone.input\n",
        "sequence = backbone(inputs)[\"sequence_output\"]\n",
        "for _ in range(2):\n",
        "    sequence = keras_nlp.layers.TransformerEncoder(\n",
        "        num_heads=2,\n",
        "        intermediate_dim=512,\n",
        "        dropout=0.1,\n",
        "    )(sequence)\n",
        "# Use [CLS] token output to classify\n",
        "outputs = keras.layers.Dense(2)(sequence[:, backbone.cls_token_index, :])\n",
        "\n",
        "model = keras.Model(inputs, outputs)\n",
        "model.compile(\n",
        "    loss=keras.losses.SparseCategoricalCrossentropy(from_logits=True),\n",
        "    optimizer=keras.optimizers.experimental.AdamW(5e-5),\n",
        "    metrics=keras.metrics.SparseCategoricalAccuracy(),\n",
        "    jit_compile=True,\n",
        ")\n",
        "model.summary()\n",
        "model.fit(\n",
        "    imdb_train_preprocessed,\n",
        "    validation_data=imdb_test_preprocessed,\n",
        "    epochs=3,\n",
        ")"
      ]
    },
    {
      "cell_type": "markdown",
      "metadata": {
        "id": "245zrZrw_yOx"
      },
      "source": [
        "This model achieves reasonable accuracy despite having only 10% the trainable parameters\n",
        "of our `BertClassifier` model. Each training step takes about 1/3 of the time---even\n",
        "accounting for cached preprocessing."
      ]
    },
    {
      "cell_type": "markdown",
      "metadata": {
        "id": "tXrLe-wO_yOx"
      },
      "source": [
        "## Pretraining a backbone model\n",
        "<img src=\"https://storage.googleapis.com/keras-nlp/getting_started_guide/prof_keras_expert.png\" alt=\"drawing\" height=\"250\"/>\n",
        "\n",
        "Do you have access to large unlabeled datasets in your domain? Are they are around the\n",
        "same size as used to train popular backbones such as BERT, RoBERTa, or GPT2 (XX+ GiB)? If\n",
        "so, you might benefit from domain-specific pretraining of your own backbone models.\n",
        "\n",
        "NLP models are generally pretrained on a language modeling task, predicting masked words\n",
        "given the visible words in an input sentence. For example, given the input\n",
        "`\"The fox [MASK] over the [MASK] dog\"`, the model might be asked to predict `[\"jumped\", \"lazy\"]`.\n",
        "The lower layers of this model are then packaged as a **backbone** to be combined with\n",
        "layers relating to a new task.\n",
        "\n",
        "The KerasNLP library offers SoTA **backbones** and **tokenizers** to be trained from\n",
        "scratch without presets.\n",
        "\n",
        "In this workflow we pretrain a BERT **backbone** using our IMDB review text. We skip the\n",
        "\"next sentence prediction\" (NSP) loss because it adds significant complexity to the data\n",
        "processing and was dropped by later models like RoBERTa. See our e2e [BERT pretraining\n",
        "example](https://github.com/keras-team/keras-nlp/tree/master/examples/bert) for\n",
        "step-by-step details on how to replicate the original paper."
      ]
    },
    {
      "cell_type": "markdown",
      "metadata": {
        "id": "h0YeLBtW_yOx"
      },
      "source": [
        "### Preprocessing"
      ]
    },
    {
      "cell_type": "code",
      "execution_count": null,
      "metadata": {
        "id": "0BfHKU9g_yOx"
      },
      "outputs": [],
      "source": [
        "# All BERT `en` models have the same vocabulary, so reuse preprocessor from\n",
        "# \"bert_tiny_en_uncased\"\n",
        "preprocessor = keras_nlp.models.BertPreprocessor.from_preset(\n",
        "    \"bert_tiny_en_uncased\",\n",
        "    sequence_length=256,\n",
        ")\n",
        "packer = preprocessor.packer\n",
        "tokenizer = preprocessor.tokenizer\n",
        "\n",
        "# keras.Layer to replace some input tokens with the \"[MASK]\" token\n",
        "masker = keras_nlp.layers.MaskedLMMaskGenerator(\n",
        "    vocabulary_size=tokenizer.vocabulary_size(),\n",
        "    mask_selection_rate=0.25,\n",
        "    mask_selection_length=64,\n",
        "    mask_token_id=tokenizer.token_to_id(\"[MASK]\"),\n",
        "    unselectable_token_ids=[\n",
        "        tokenizer.token_to_id(x) for x in [\"[CLS]\", \"[PAD]\", \"[SEP]\"]\n",
        "    ],\n",
        ")\n",
        "\n",
        "\n",
        "def preprocess(inputs, label):\n",
        "    inputs = preprocessor(inputs)\n",
        "    masked_inputs = masker(inputs[\"token_ids\"])\n",
        "    # Split the masking layer outputs into a (features, labels, and weights)\n",
        "    # tuple that we can use with keras.Model.fit().\n",
        "    features = {\n",
        "        \"token_ids\": masked_inputs[\"token_ids\"],\n",
        "        \"segment_ids\": inputs[\"segment_ids\"],\n",
        "        \"padding_mask\": inputs[\"padding_mask\"],\n",
        "        \"mask_positions\": masked_inputs[\"mask_positions\"],\n",
        "    }\n",
        "    labels = masked_inputs[\"mask_ids\"]\n",
        "    weights = masked_inputs[\"mask_weights\"]\n",
        "    return features, labels, weights\n",
        "\n",
        "\n",
        "pretrain_ds = imdb_train.map(preprocess, num_parallel_calls=tf.data.AUTOTUNE).prefetch(\n",
        "    tf.data.AUTOTUNE\n",
        ")\n",
        "pretrain_val_ds = imdb_test.map(\n",
        "    preprocess, num_parallel_calls=tf.data.AUTOTUNE\n",
        ").prefetch(tf.data.AUTOTUNE)\n",
        "\n",
        "# Tokens with ID 103 are \"masked\"\n",
        "print(pretrain_ds.unbatch().take(1).get_single_element())"
      ]
    },
    {
      "cell_type": "markdown",
      "metadata": {
        "id": "QSEZx0Ut_yOx"
      },
      "source": [
        "### Pretraining model"
      ]
    },
    {
      "cell_type": "code",
      "execution_count": null,
      "metadata": {
        "id": "ebxqy8Y6_yOy"
      },
      "outputs": [],
      "source": [
        "# BERT backbone\n",
        "backbone = keras_nlp.models.BertBackbone(\n",
        "    vocabulary_size=tokenizer.vocabulary_size(),\n",
        "    num_layers=2,\n",
        "    num_heads=2,\n",
        "    hidden_dim=128,\n",
        "    intermediate_dim=512,\n",
        ")\n",
        "\n",
        "# Language modeling head\n",
        "mlm_head = keras_nlp.layers.MaskedLMHead(\n",
        "    embedding_weights=backbone.token_embedding.embeddings,\n",
        ")\n",
        "\n",
        "inputs = {\n",
        "    \"token_ids\": keras.Input(shape=(None,), dtype=tf.int32),\n",
        "    \"segment_ids\": keras.Input(shape=(None,), dtype=tf.int32),\n",
        "    \"padding_mask\": keras.Input(shape=(None,), dtype=tf.int32),\n",
        "    \"mask_positions\": keras.Input(shape=(None,), dtype=tf.int32),\n",
        "}\n",
        "\n",
        "# Encoded token sequence\n",
        "sequence = backbone(inputs)[\"sequence_output\"]\n",
        "\n",
        "# Predict an output word for each masked input token.\n",
        "# We use the input token embedding to project from our encoded vectors to\n",
        "# vocabulary logits, which has been shown to improve training efficiency.\n",
        "outputs = mlm_head(sequence, mask_positions=inputs[\"mask_positions\"])\n",
        "\n",
        "# Define and compile our pretraining model.\n",
        "pretraining_model = keras.Model(inputs, outputs)\n",
        "pretraining_model.summary()\n",
        "pretraining_model.compile(\n",
        "    loss=keras.losses.SparseCategoricalCrossentropy(from_logits=True),\n",
        "    optimizer=keras.optimizers.experimental.AdamW(learning_rate=5e-4),\n",
        "    weighted_metrics=keras.metrics.SparseCategoricalAccuracy(),\n",
        "    jit_compile=True,\n",
        ")\n",
        "\n",
        "# Pretrain on IMDB dataset\n",
        "pretraining_model.fit(\n",
        "    pretrain_ds,\n",
        "    validation_data=pretrain_val_ds,\n",
        "    epochs=3,  # Increase to 6 for higher accuracy\n",
        ")"
      ]
    },
    {
      "cell_type": "markdown",
      "metadata": {
        "id": "mz5d0Bta_yOy"
      },
      "source": [
        "After pretraining save your `backbone` submodel to use in a new task!"
      ]
    },
    {
      "cell_type": "markdown",
      "metadata": {
        "id": "ycFVgVX0_yOy"
      },
      "source": [
        "## Build and train your own transformer from scratch\n",
        "<img src=\"https://storage.googleapis.com/keras-nlp/getting_started_guide/prof_keras_expert.png\" alt=\"drawing\" height=\"250\"/>\n",
        "\n",
        "Want to implement a novel transformer architecture? The KerasNLP library offers all the\n",
        "low-level modules used to build SoTA architectures in our `models` API. This includes the\n",
        "`keras_nlp.tokenizers` API which allows you to train your own subword tokenizer using\n",
        "`WordPieceTokenizer`, `BytePairTokenizer`, or `SentencePieceTokenizer`.\n",
        "\n",
        "In this workflow we train a custom tokenizer on the IMDB data and design a backbone with\n",
        "custom transformer architecture. For simplicity we then train directly on the\n",
        "classification task. Interested in more details? We wrote an entire guide to pretraining\n",
        "and finetuning a custom transformer on\n",
        "[keras.io](https://keras.io/guides/keras_nlp/transformer_pretraining/),"
      ]
    },
    {
      "cell_type": "markdown",
      "metadata": {
        "id": "-0vE41PK_yOz"
      },
      "source": [
        "### Train custom vocabulary from IMBD data"
      ]
    },
    {
      "cell_type": "code",
      "execution_count": null,
      "metadata": {
        "id": "DDPbO3XN_yOz"
      },
      "outputs": [],
      "source": [
        "vocab = keras_nlp.tokenizers.compute_word_piece_vocabulary(\n",
        "    imdb_train.map(lambda x, y: x),\n",
        "    vocabulary_size=20_000,\n",
        "    lowercase=True,\n",
        "    strip_accents=True,\n",
        "    reserved_tokens=[\"[PAD]\", \"[START]\", \"[END]\", \"[MASK]\", \"[UNK]\"],\n",
        ")\n",
        "tokenizer = keras_nlp.tokenizers.WordPieceTokenizer(\n",
        "    vocabulary=vocab,\n",
        "    lowercase=True,\n",
        "    strip_accents=True,\n",
        "    oov_token=\"[UNK]\",\n",
        ")"
      ]
    },
    {
      "cell_type": "markdown",
      "metadata": {
        "id": "NhvfdZ6O_yOz"
      },
      "source": [
        "### Preprocess data with custom tokenizer"
      ]
    },
    {
      "cell_type": "code",
      "execution_count": null,
      "metadata": {
        "id": "JAoBLonr_yOz"
      },
      "outputs": [],
      "source": [
        "packer = keras_nlp.layers.StartEndPacker(\n",
        "    start_value=tokenizer.token_to_id(\"[START]\"),\n",
        "    end_value=tokenizer.token_to_id(\"[END]\"),\n",
        "    pad_value=tokenizer.token_to_id(\"[PAD]\"),\n",
        "    sequence_length=512,\n",
        ")\n",
        "\n",
        "\n",
        "def preprocess(x, y):\n",
        "    token_ids = packer(tokenizer(x))\n",
        "    return token_ids, y\n",
        "\n",
        "\n",
        "imdb_preproc_train_ds = imdb_train.map(\n",
        "    preprocess, num_parallel_calls=tf.data.AUTOTUNE\n",
        ").prefetch(tf.data.AUTOTUNE)\n",
        "imdb_preproc_val_ds = imdb_test.map(\n",
        "    preprocess, num_parallel_calls=tf.data.AUTOTUNE\n",
        ").prefetch(tf.data.AUTOTUNE)\n",
        "\n",
        "print(imdb_preproc_train_ds.unbatch().take(1).get_single_element())"
      ]
    },
    {
      "cell_type": "markdown",
      "metadata": {
        "id": "F9XrlprK_yOz"
      },
      "source": [
        "### Design a tiny transformer"
      ]
    },
    {
      "cell_type": "code",
      "execution_count": null,
      "metadata": {
        "id": "L6cDfDJK_yOz"
      },
      "outputs": [],
      "source": [
        "token_id_input = keras.Input(\n",
        "    shape=(None,),\n",
        "    dtype=\"int32\",\n",
        "    name=\"token_ids\",\n",
        ")\n",
        "outputs = keras_nlp.layers.TokenAndPositionEmbedding(\n",
        "    vocabulary_size=len(vocab),\n",
        "    sequence_length=packer.sequence_length,\n",
        "    embedding_dim=64,\n",
        ")(token_id_input)\n",
        "outputs = keras_nlp.layers.TransformerEncoder(\n",
        "    num_heads=2,\n",
        "    intermediate_dim=128,\n",
        "    dropout=0.1,\n",
        ")(outputs)\n",
        "# Use \"[START]\" token to classify\n",
        "outputs = keras.layers.Dense(2)(outputs[:, 0, :])\n",
        "model = keras.Model(\n",
        "    inputs=token_id_input,\n",
        "    outputs=outputs,\n",
        ")\n",
        "\n",
        "model.summary()"
      ]
    },
    {
      "cell_type": "markdown",
      "metadata": {
        "id": "LExVzx2p_yOz"
      },
      "source": [
        "### Train the transformer directly on the classification objective"
      ]
    },
    {
      "cell_type": "code",
      "execution_count": null,
      "metadata": {
        "id": "iQKhVGnJ_yOz"
      },
      "outputs": [],
      "source": [
        "model.compile(\n",
        "    loss=keras.losses.SparseCategoricalCrossentropy(from_logits=True),\n",
        "    optimizer=keras.optimizers.experimental.AdamW(5e-5),\n",
        "    metrics=keras.metrics.SparseCategoricalAccuracy(),\n",
        "    jit_compile=True,\n",
        ")\n",
        "model.fit(\n",
        "    imdb_preproc_train_ds,\n",
        "    validation_data=imdb_preproc_val_ds,\n",
        "    epochs=3,\n",
        ")"
      ]
    },
    {
      "cell_type": "markdown",
      "metadata": {
        "id": "FoAI6uJm_yO0"
      },
      "source": [
        "Excitingly, our custom classifier is similar to the performance of fine-tuning\n",
        "`\"bert_tiny_en_uncased\"`! To see the advantages of pretraining and exceed 90% accuracy we\n",
        "would need to use larger **presets** such as `\"bert_base_en_uncased\"`."
      ]
    }
  ],
  "metadata": {
    "accelerator": "GPU",
    "colab": {
      "name": "getting_started",
      "provenance": [],
      "toc_visible": true
    },
    "kernelspec": {
      "display_name": "Python 3",
      "language": "python",
      "name": "python3"
    },
    "language_info": {
      "codemirror_mode": {
        "name": "ipython",
        "version": 3
      },
      "file_extension": ".py",
      "mimetype": "text/x-python",
      "name": "python",
      "nbconvert_exporter": "python",
      "pygments_lexer": "ipython3",
      "version": "3.7.0"
    }
  },
  "nbformat": 4,
  "nbformat_minor": 0
}
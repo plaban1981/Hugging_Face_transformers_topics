{
  "nbformat": 4,
  "nbformat_minor": 0,
  "metadata": {
    "colab": {
      "provenance": [],
      "authorship_tag": "ABX9TyNagFYorUcCEfmuZ8RftKsx",
      "include_colab_link": true
    },
    "kernelspec": {
      "name": "python3",
      "display_name": "Python 3"
    },
    "language_info": {
      "name": "python"
    },
    "accelerator": "GPU",
    "gpuClass": "standard"
  },
  "cells": [
    {
      "cell_type": "markdown",
      "metadata": {
        "id": "view-in-github",
        "colab_type": "text"
      },
      "source": [
        "<a href=\"https://colab.research.google.com/github/plaban1981/Hugging_Face_transformers_topics/blob/main/pychatGPT.ipynb\" target=\"_parent\"><img src=\"https://colab.research.google.com/assets/colab-badge.svg\" alt=\"Open In Colab\"/></a>"
      ]
    },
    {
      "cell_type": "code",
      "execution_count": 1,
      "metadata": {
        "colab": {
          "base_uri": "https://localhost:8080/",
          "height": 416
        },
        "id": "7Ox0c_gz4WaF",
        "outputId": "329020b8-94a4-4ade-a95b-09f4c5207fc5"
      },
      "outputs": [
        {
          "output_type": "stream",
          "name": "stdout",
          "text": [
            "Looking in indexes: https://pypi.org/simple, https://us-python.pkg.dev/colab-wheels/public/simple/\n",
            "Collecting pyChatGPT\n",
            "  Downloading pyChatGPT-0.1.1-py3-none-any.whl (17 kB)\n",
            "Collecting uuid\n",
            "  Downloading uuid-1.30.tar.gz (5.8 kB)\n",
            "Requirement already satisfied: requests in /usr/local/lib/python3.8/dist-packages (from pyChatGPT) (2.23.0)\n",
            "Requirement already satisfied: urllib3!=1.25.0,!=1.25.1,<1.26,>=1.21.1 in /usr/local/lib/python3.8/dist-packages (from requests->pyChatGPT) (1.24.3)\n",
            "Requirement already satisfied: idna<3,>=2.5 in /usr/local/lib/python3.8/dist-packages (from requests->pyChatGPT) (2.10)\n",
            "Requirement already satisfied: certifi>=2017.4.17 in /usr/local/lib/python3.8/dist-packages (from requests->pyChatGPT) (2022.9.24)\n",
            "Requirement already satisfied: chardet<4,>=3.0.2 in /usr/local/lib/python3.8/dist-packages (from requests->pyChatGPT) (3.0.4)\n",
            "Building wheels for collected packages: uuid\n",
            "  Building wheel for uuid (setup.py) ... \u001b[?25l\u001b[?25hdone\n",
            "  Created wheel for uuid: filename=uuid-1.30-py3-none-any.whl size=6502 sha256=116e4966a76740c93e4f2629dc733415aa5025ceb6117d91335d7230debeeb93\n",
            "  Stored in directory: /root/.cache/pip/wheels/1b/6c/cb/f9aae2bc97333c3d6e060826c1ee9e44e46306a178e5783505\n",
            "Successfully built uuid\n",
            "Installing collected packages: uuid, pyChatGPT\n",
            "Successfully installed pyChatGPT-0.1.1 uuid-1.30\n"
          ]
        },
        {
          "output_type": "display_data",
          "data": {
            "application/vnd.colab-display-data+json": {
              "pip_warning": {
                "packages": [
                  "uuid"
                ]
              }
            }
          },
          "metadata": {}
        }
      ],
      "source": [
        "!pip install pyChatGPT"
      ]
    },
    {
      "cell_type": "code",
      "source": [
        "from pyChatGPT import ChatGPT"
      ],
      "metadata": {
        "id": "MMsG0XxG43G9"
      },
      "execution_count": 2,
      "outputs": []
    },
    {
      "cell_type": "code",
      "source": [
        "session_token = 'eyJhbGciOiJkaXIiLCJlbmMiOiJBMjU2R0NNIn0..UMM4stbhvvjv39V7.pUe4vEQV423BmZ2qR40A1bYLb6XD69GAyfq2cSyZRJCmvtKzzCTh8nTEWljkbxnDiHYzzKKR4iQyQ6yBJPobDjBoVYiiKzIX7nY0xinwxqDXpPiaQxOqsC8kF4mQ7IRuDcq2oqAcMeMMNLz2WDGcOgzmohtF-IQSghrWw1cOX-yCvUrVDkCsekTvWMraEoyangv6Frkft_Agq8RicfWDgghQoStBA6cZSCEgoBiMk94fwEBrSMwhfcIB1OUh76KbAq1xVcxnC_dVGHHKqMvfQB4aqePB7r-69agDPXKBot5ZOi8QRwr1YeRDuFwl_DjCmvZYPvOz6-6TqIVoDfr8mYdjTVkiC56BuJDI8jVA8k-du6clNKAxWio73QKIfC-63X3GcSOPgKapbVedFcxq8uPMtlT1h5p07UWiUCoZS0yLnbwZ7NZXWC-FMIjx4ic8AacVoFrLB_MtrvJbYqUMR00UABewbCt5e8SnBZQQAQaa2TfcpWoLt610vwFB6nHN9N2QtfDEmLf2HMHeFgD6wrgWwOiY5jCpuh3SO6A6-pj2AZgTmFpS0uw1SF_dV1aCgpsH1cwQ3IWt7TISzNQAlfl_W-dGU_qv0TXJEiHUm-h6GuV9xeS3kB7oA_cfmbp19a7PU9cNfb4fKB1flzNlZtnoa-uexnWa61Qnb6O0828s_58hTkmFUp4uY6gnqDwmpuZRYt2xctXmer2BxLE0mSSpTn2TfU5SllQNHKnarVPKK0W77mO-Q7Rp-C28CCjVmv6UvHwp4upec346CAv0r9P89RAOMeFxd7XM7JE57OnS1G1vAGwTpLnxFOtKvnd3qtUcR_do9oDT84Aj3Yc_f10bOQFJwEiGkO90AL1iL_SbTKQbVQwe-WfsbkfgcsNsfe3QPD7lL8iC_AHWZKLSSDSffXZWgLq5fisdrZixikiOHW5cmsBfEk4TtEgmToxqSkl1QeP7jFJfgRcIvbkssEHI4_v_3sjC5db5vQWmJqK_r6SC4Fzky8zspf-9SGyAmQHILOKSKOYt9ZQHXsT0ccVJBQkucHgSJj1Q84urTWajnBUqiFSdO1Vo2T2QYMxdyiPgRBkrQ50GDCeJiPdlUAQ8sXy-hPLKySIi1OZgVC7MbCJ-KRCEXJbQ7B4VDBWw3UCzwcg9w9jH5bsw_9yh9mBDNeWw1ZlBvBMmaTu5S2nQVuLigxv4xxcsoHg4Q7kkdKyZJzMu_DE5-hw2vS13GQt44aNpb0LzCL_tBEA1ycBe06iai0p2fQtcInnRFjOl7NleTJORnoHNx0_CYVNQiwURa9Pwo6iFJFs_-OWNiTazmpCKhx4cYE0ujXXRkjoNaBXz1JqLj7R0tx4l9ybqD3p1n2-9y7ByVlXECwlZpNOrud7LtQ-QrRah_fTVy__yALYb4s-ANesD_-yNfulXxpIaUKSCfQHZ5x1E3RHDTw_4Mq4k4B8eZe0n5e7EciYjBNx1SzXcKZmLHMSp2Kskk5NT6DT0LUfs9C5zNIQ1WwK62iPelNACmQR_ubDiUm4iDt-_DrV1MN2Lekq9X1yQl5wZ_9Olctjk3E88Qq027xy49oo1fBZZ5iQeh7tQx4D9WtZxMCNXrIa2wZapexkMs8ckLrHJw3mKgSI6ZpqHgv2kPx9nDb1iCZVl6qL6CErhE-Co7-wOr0MyC4Z6rI6dfFw2i9lB_aVOmgPQdvoRW0H04tptCTiUFO57S8_-udI5EO8SuUUQyY5FA-1NPRgt2cr3n4cjIMUwr7j9-FMZNv0Diae6d0omfBJ2UhbTZj8ek7XqpmDd3GrFH6Y5gsnN8L8I7zs7T4DthYWeFkksZfxIF29ZTB5hDpeGhtjLUlNk-t5eUBpLgtImyLQmLeF6194w3Bd9n6g0TKfDQfVMNdLx06WratjM4qy0jRPBxJ3mD8IBXApMLD8nxFPO6SBsN6j0FkHtugVrUj9Y8dM8iC4Jwh7vfOqgh4SzjdrFwzjm5gQpm1pTVH3ZyX9gHxXLL08-W3lgzxpU8kz3qtQw0pIYBYb0qOvgSlzUFUQjFyJImeN0KvQMRB-SGc_nQzSUTlNGHmiXrJJjaMa_4EwHgaIrt9rPW2yIV0rclDtc5cFHad-Xz5hVS4xpf7AWb0jFeayUcvjp8-dIsyTncjPZSk3AoJjoYp3e84CXq8QvKlrueB42kn9Yn0zhTumimeK8hVQZJtWzSOR95StVHN1Mr0JigyT511X3SGWsjpvUqecQ3Upj7TntqRNwMYy_NmrLeOYf.RKFa8wnP4mv3hMhgklBf5A'"
      ],
      "metadata": {
        "id": "_T4l4VFp4cpN"
      },
      "execution_count": 3,
      "outputs": []
    },
    {
      "cell_type": "code",
      "source": [
        "api = ChatGPT(session_token)"
      ],
      "metadata": {
        "id": "a6_CFpqL5HMP"
      },
      "execution_count": 4,
      "outputs": []
    },
    {
      "cell_type": "code",
      "source": [
        "result = api.send_message(\"Write an essay on World Environment Day\")"
      ],
      "metadata": {
        "colab": {
          "base_uri": "https://localhost:8080/"
        },
        "id": "vN0_S5kt5S_e",
        "outputId": "a21decf7-0dd7-4576-ea26-8cb43a84c3d2"
      },
      "execution_count": 5,
      "outputs": [
        {
          "output_type": "execute_result",
          "data": {
            "text/plain": [
              "{'message': 'World Environment Day is a day that is celebrated annually on June 5th to raise global awareness about the importance of protecting the environment. The day was first established by the United Nations General Assembly in 1972, and it has been celebrated every year since then.\\n\\nThe theme of World Environment Day changes each year, with the goal of focusing attention on a specific environmental issue. Past themes have included \"Beat Plastic Pollution,\" \"Connecting People to Nature,\" and \"Ecosystem Restoration.\"\\n\\nOne of the main goals of World Environment Day is to encourage individuals, organizations, and governments to take action to protect the environment. This can include things like reducing the amount of waste we produce, conserving water and energy, and protecting natural habitats.\\n\\nAnother important aspect of World Environment Day is raising awareness about the current state of the environment and the challenges we face. This can include topics like climate change, pollution, and the loss of biodiversity. By bringing attention to these issues, the hope is that more people will be motivated to take action to protect the environment.\\n\\nIn addition to individual action, governments also have a role to play in protecting the environment. This can include implementing policies and regulations to reduce pollution and protect natural habitats, as well as providing funding for environmental conservation efforts.\\n\\nOverall, World Environment Day is an important reminder of the need to protect the environment and the natural world. By raising awareness, encouraging action, and promoting conservation, we can work together to create a healthier and more sustainable future for all.',\n",
              " 'conversation_id': '9fed2551-dded-4427-8b1e-3bceba7bf869',\n",
              " 'parent_id': 'b77c51a2-42d1-4d2b-8e95-8a0ae8216f17'}"
            ]
          },
          "metadata": {},
          "execution_count": 5
        }
      ]
    },
    {
      "cell_type": "code",
      "source": [
        "api.send_message(\"continue\")"
      ],
      "metadata": {
        "colab": {
          "base_uri": "https://localhost:8080/"
        },
        "id": "AzHOjA8z9quG",
        "outputId": "e4c78813-094b-4133-861c-29cf02d2062b"
      },
      "execution_count": 9,
      "outputs": [
        {
          "output_type": "execute_result",
          "data": {
            "text/plain": [
              "{'message': \"In conclusion, World Environment Day is an important day that serves as a reminder of the need to protect the environment and take action to conserve the natural world. By raising awareness and promoting conservation, we can work together to create a more sustainable future. Whether it's reducing our own waste and consumption, supporting environmental organizations, or advocating for policies that protect the environment, there are many ways that we can all play a part in protecting the planet. So on this World Environment Day, let's all take a moment to reflect on the importance of the environment and consider what we can do to make a positive impact.\",\n",
              " 'conversation_id': '9fed2551-dded-4427-8b1e-3bceba7bf869',\n",
              " 'parent_id': 'bf3723b1-8f50-4877-924f-130485a75f93'}"
            ]
          },
          "metadata": {},
          "execution_count": 9
        }
      ]
    },
    {
      "cell_type": "code",
      "source": [
        "api.send_message(\"continue\")"
      ],
      "metadata": {
        "colab": {
          "base_uri": "https://localhost:8080/"
        },
        "id": "QU0ymDJR98xR",
        "outputId": "75e08218-3b35-4a64-b6ea-53d707c01477"
      },
      "execution_count": 10,
      "outputs": [
        {
          "output_type": "execute_result",
          "data": {
            "text/plain": [
              "{'message': \"Of course, protecting the environment is not just the responsibility of one day or one group of people – it's something that we must all work on every day. While World Environment Day is a great opportunity to come together and take action, the effort to protect the environment must continue long after the day is over.\\n\\nOne way we can do this is by making sustainable choices in our daily lives. This can include things like choosing to walk or bike instead of driving, buying local and organic produce, and reducing our consumption of single-use plastics. By making small changes in our own lives, we can help to reduce our own environmental impact and contribute to a healthier planet.\\n\\nWe can also support organizations and groups that are working to protect the environment. This can include donating to environmental charities, volunteering with conservation organizations, or supporting businesses that are committed to sustainability. By supporting these efforts, we can help to ensure that the work to protect the environment continues long after World Environment Day is over.\\n\\nUltimately, protecting the environment is a collective effort that requires the participation of individuals, organizations, and governments. By coming together and taking action, we can create a brighter and more sustainable future for all.\",\n",
              " 'conversation_id': '9fed2551-dded-4427-8b1e-3bceba7bf869',\n",
              " 'parent_id': '2759b36a-e302-4ebd-a052-9512d6344a91'}"
            ]
          },
          "metadata": {},
          "execution_count": 10
        }
      ]
    },
    {
      "cell_type": "code",
      "source": [
        "api.reset_conversation()"
      ],
      "metadata": {
        "id": "wYpSvIg56zKi"
      },
      "execution_count": 11,
      "outputs": []
    },
    {
      "cell_type": "code",
      "source": [
        "result = api.send_message(\"convert I had a good day to German\")"
      ],
      "metadata": {
        "id": "livnOPHn69n8"
      },
      "execution_count": 12,
      "outputs": []
    },
    {
      "cell_type": "code",
      "source": [
        "print(result['message'])"
      ],
      "metadata": {
        "colab": {
          "base_uri": "https://localhost:8080/"
        },
        "id": "Xpao1uR8-Vbg",
        "outputId": "4e677806-a328-4fa9-f562-d1e4f4364fec"
      },
      "execution_count": 13,
      "outputs": [
        {
          "output_type": "stream",
          "name": "stdout",
          "text": [
            "Ich hatte einen guten Tag.\n"
          ]
        }
      ]
    },
    {
      "cell_type": "code",
      "source": [
        "result = api.send_message(\"convert I had a good day to Japanese\")"
      ],
      "metadata": {
        "id": "U9-mzGqH-gnB"
      },
      "execution_count": 14,
      "outputs": []
    },
    {
      "cell_type": "code",
      "source": [
        "print(result['message'])"
      ],
      "metadata": {
        "colab": {
          "base_uri": "https://localhost:8080/"
        },
        "id": "260XXG_T-kPD",
        "outputId": "5f4ef683-aca7-45a4-d3a7-009a60170b21"
      },
      "execution_count": 15,
      "outputs": [
        {
          "output_type": "stream",
          "name": "stdout",
          "text": [
            "私は良い一日を過ごしました。\n"
          ]
        }
      ]
    },
    {
      "cell_type": "code",
      "source": [
        "%timeit\n",
        "result = api.send_message(\"write an essay on The Taj Mahal\")\n"
      ],
      "metadata": {
        "id": "kAekVjaf-2VV"
      },
      "execution_count": 16,
      "outputs": []
    },
    {
      "cell_type": "code",
      "source": [
        "print(result['message'])"
      ],
      "metadata": {
        "colab": {
          "base_uri": "https://localhost:8080/"
        },
        "id": "fKDvItUl_Spz",
        "outputId": "7169cee0-8b9c-466f-eef4-1ed2b4f145c4"
      },
      "execution_count": 17,
      "outputs": [
        {
          "output_type": "stream",
          "name": "stdout",
          "text": [
            "The Taj Mahal is a mausoleum located in Agra, India. It was commissioned by Mughal Emperor Shah Jahan in memory of his favorite wife, Mumtaz Mahal, who died during childbirth in 1631. Construction of the Taj Mahal began in 1632 and was completed in 1653.\n",
            "\n",
            "The Taj Mahal is widely considered to be one of the most beautiful buildings in the world. It is made of white marble and is adorned with intricate carvings and inlaid with precious stones. The main chamber of the mausoleum houses the tombs of Mumtaz Mahal and Shah Jahan, while the surrounding gardens and buildings are used as a tomb for other members of the royal family.\n",
            "\n",
            "The Taj Mahal is an example of Mughal architecture, which combines elements of Persian, Indian, and Islamic styles. The building is symmetrical in design and features a large central dome, four smaller domes, and four minarets (tall, slender towers). The marble used in the construction of the Taj Mahal was brought from various parts of India and Asia, and the inlaid precious stones were brought from as far away as Afghanistan, Tibet, and China.\n",
            "\n",
            "The Taj Mahal is a UNESCO World Heritage Site and attracts millions of visitors each year. It is a symbol of love and devotion, and has been described as a \"teardrop on the cheek of time\" because of its beauty and the tragic story of Shah Jahan and Mumtaz Mahal. Despite the passage of time and the challenges of preservation, the Taj Mahal remains an enduring symbol of the power of love and a testament to the skill and artistry of the Mughal builders.\n"
          ]
        }
      ]
    },
    {
      "cell_type": "code",
      "source": [
        "result = api.send_message(\"write an email for social media campainging for AIPlanet AI Marketplace\")"
      ],
      "metadata": {
        "id": "MVWu6GEI_9pA"
      },
      "execution_count": 18,
      "outputs": []
    },
    {
      "cell_type": "code",
      "source": [
        "print(result['message'])"
      ],
      "metadata": {
        "colab": {
          "base_uri": "https://localhost:8080/"
        },
        "id": "sXLgIXXeAKx5",
        "outputId": "842c0452-4198-4260-b704-009324bc86ec"
      },
      "execution_count": 19,
      "outputs": [
        {
          "output_type": "stream",
          "name": "stdout",
          "text": [
            "Dear valued customers,\n",
            "\n",
            "We are pleased to announce the launch of AIPlanet, the world's first AI Marketplace!\n",
            "\n",
            "At AIPlanet, you can browse and purchase state-of-the-art AI models that have been trained by experts in a wide range of fields. Whether you're a business looking to improve your customer service with chatbots, or a researcher looking for the latest advancements in computer vision, AIPlanet has something for you.\n",
            "\n",
            "With AIPlanet, you can:\n",
            "\n",
            "- Discover the latest and greatest AI models\n",
            "- Purchase and download models in a secure environment\n",
            "- Try out models with free samples and demos\n",
            "- Leave reviews and ratings to help others make informed decisions\n",
            "\n",
            "Visit us at aiplanet.com today and see how AIPlanet can help you take your projects to the next level.\n",
            "\n",
            "Best regards,\n",
            "The AIPlanet team\n"
          ]
        }
      ]
    }
  ]
}
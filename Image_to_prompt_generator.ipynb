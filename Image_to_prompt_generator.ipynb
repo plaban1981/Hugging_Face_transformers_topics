{
  "nbformat": 4,
  "nbformat_minor": 0,
  "metadata": {
    "colab": {
      "provenance": [],
      "machine_shape": "hm",
      "authorship_tag": "ABX9TyPQJ2KM1eO3VNC1j72dFUDt",
      "include_colab_link": true
    },
    "kernelspec": {
      "name": "python3",
      "display_name": "Python 3"
    },
    "language_info": {
      "name": "python"
    },
    "gpuClass": "premium",
    "accelerator": "GPU",
    "widgets": {
      "application/vnd.jupyter.widget-state+json": {
        "ece1912c6d6a4d23a35fe722ccb02196": {
          "model_module": "@jupyter-widgets/controls",
          "model_name": "HBoxModel",
          "model_module_version": "1.5.0",
          "state": {
            "_dom_classes": [],
            "_model_module": "@jupyter-widgets/controls",
            "_model_module_version": "1.5.0",
            "_model_name": "HBoxModel",
            "_view_count": null,
            "_view_module": "@jupyter-widgets/controls",
            "_view_module_version": "1.5.0",
            "_view_name": "HBoxView",
            "box_style": "",
            "children": [
              "IPY_MODEL_6eec161fee2d454989715bcd97770e2e",
              "IPY_MODEL_bf0209d90e844586a11c1732a7a4216e",
              "IPY_MODEL_55db315a3714412bb6edd19510c55014"
            ],
            "layout": "IPY_MODEL_f45f6384442a4e2f9f1dc5b334f96b04"
          }
        },
        "6eec161fee2d454989715bcd97770e2e": {
          "model_module": "@jupyter-widgets/controls",
          "model_name": "HTMLModel",
          "model_module_version": "1.5.0",
          "state": {
            "_dom_classes": [],
            "_model_module": "@jupyter-widgets/controls",
            "_model_module_version": "1.5.0",
            "_model_name": "HTMLModel",
            "_view_count": null,
            "_view_module": "@jupyter-widgets/controls",
            "_view_module_version": "1.5.0",
            "_view_name": "HTMLView",
            "description": "",
            "description_tooltip": null,
            "layout": "IPY_MODEL_5d67d69746fc4362b1d5c38a558af012",
            "placeholder": "​",
            "style": "IPY_MODEL_3cf71b5d64784907b35783413256c4b3",
            "value": "Downloading: 100%"
          }
        },
        "bf0209d90e844586a11c1732a7a4216e": {
          "model_module": "@jupyter-widgets/controls",
          "model_name": "FloatProgressModel",
          "model_module_version": "1.5.0",
          "state": {
            "_dom_classes": [],
            "_model_module": "@jupyter-widgets/controls",
            "_model_module_version": "1.5.0",
            "_model_name": "FloatProgressModel",
            "_view_count": null,
            "_view_module": "@jupyter-widgets/controls",
            "_view_module_version": "1.5.0",
            "_view_name": "ProgressView",
            "bar_style": "success",
            "description": "",
            "description_tooltip": null,
            "layout": "IPY_MODEL_94685d3fed414a3197bffe0a40126cf7",
            "max": 231508,
            "min": 0,
            "orientation": "horizontal",
            "style": "IPY_MODEL_46622efecf0943449d6ad47eeb7b401c",
            "value": 231508
          }
        },
        "55db315a3714412bb6edd19510c55014": {
          "model_module": "@jupyter-widgets/controls",
          "model_name": "HTMLModel",
          "model_module_version": "1.5.0",
          "state": {
            "_dom_classes": [],
            "_model_module": "@jupyter-widgets/controls",
            "_model_module_version": "1.5.0",
            "_model_name": "HTMLModel",
            "_view_count": null,
            "_view_module": "@jupyter-widgets/controls",
            "_view_module_version": "1.5.0",
            "_view_name": "HTMLView",
            "description": "",
            "description_tooltip": null,
            "layout": "IPY_MODEL_5a609d69224f4c9492ab6b7d300e5aed",
            "placeholder": "​",
            "style": "IPY_MODEL_48334577fc9c475b9045b9f45bd0893e",
            "value": " 226k/226k [00:00&lt;00:00, 2.79MB/s]"
          }
        },
        "f45f6384442a4e2f9f1dc5b334f96b04": {
          "model_module": "@jupyter-widgets/base",
          "model_name": "LayoutModel",
          "model_module_version": "1.2.0",
          "state": {
            "_model_module": "@jupyter-widgets/base",
            "_model_module_version": "1.2.0",
            "_model_name": "LayoutModel",
            "_view_count": null,
            "_view_module": "@jupyter-widgets/base",
            "_view_module_version": "1.2.0",
            "_view_name": "LayoutView",
            "align_content": null,
            "align_items": null,
            "align_self": null,
            "border": null,
            "bottom": null,
            "display": null,
            "flex": null,
            "flex_flow": null,
            "grid_area": null,
            "grid_auto_columns": null,
            "grid_auto_flow": null,
            "grid_auto_rows": null,
            "grid_column": null,
            "grid_gap": null,
            "grid_row": null,
            "grid_template_areas": null,
            "grid_template_columns": null,
            "grid_template_rows": null,
            "height": null,
            "justify_content": null,
            "justify_items": null,
            "left": null,
            "margin": null,
            "max_height": null,
            "max_width": null,
            "min_height": null,
            "min_width": null,
            "object_fit": null,
            "object_position": null,
            "order": null,
            "overflow": null,
            "overflow_x": null,
            "overflow_y": null,
            "padding": null,
            "right": null,
            "top": null,
            "visibility": null,
            "width": null
          }
        },
        "5d67d69746fc4362b1d5c38a558af012": {
          "model_module": "@jupyter-widgets/base",
          "model_name": "LayoutModel",
          "model_module_version": "1.2.0",
          "state": {
            "_model_module": "@jupyter-widgets/base",
            "_model_module_version": "1.2.0",
            "_model_name": "LayoutModel",
            "_view_count": null,
            "_view_module": "@jupyter-widgets/base",
            "_view_module_version": "1.2.0",
            "_view_name": "LayoutView",
            "align_content": null,
            "align_items": null,
            "align_self": null,
            "border": null,
            "bottom": null,
            "display": null,
            "flex": null,
            "flex_flow": null,
            "grid_area": null,
            "grid_auto_columns": null,
            "grid_auto_flow": null,
            "grid_auto_rows": null,
            "grid_column": null,
            "grid_gap": null,
            "grid_row": null,
            "grid_template_areas": null,
            "grid_template_columns": null,
            "grid_template_rows": null,
            "height": null,
            "justify_content": null,
            "justify_items": null,
            "left": null,
            "margin": null,
            "max_height": null,
            "max_width": null,
            "min_height": null,
            "min_width": null,
            "object_fit": null,
            "object_position": null,
            "order": null,
            "overflow": null,
            "overflow_x": null,
            "overflow_y": null,
            "padding": null,
            "right": null,
            "top": null,
            "visibility": null,
            "width": null
          }
        },
        "3cf71b5d64784907b35783413256c4b3": {
          "model_module": "@jupyter-widgets/controls",
          "model_name": "DescriptionStyleModel",
          "model_module_version": "1.5.0",
          "state": {
            "_model_module": "@jupyter-widgets/controls",
            "_model_module_version": "1.5.0",
            "_model_name": "DescriptionStyleModel",
            "_view_count": null,
            "_view_module": "@jupyter-widgets/base",
            "_view_module_version": "1.2.0",
            "_view_name": "StyleView",
            "description_width": ""
          }
        },
        "94685d3fed414a3197bffe0a40126cf7": {
          "model_module": "@jupyter-widgets/base",
          "model_name": "LayoutModel",
          "model_module_version": "1.2.0",
          "state": {
            "_model_module": "@jupyter-widgets/base",
            "_model_module_version": "1.2.0",
            "_model_name": "LayoutModel",
            "_view_count": null,
            "_view_module": "@jupyter-widgets/base",
            "_view_module_version": "1.2.0",
            "_view_name": "LayoutView",
            "align_content": null,
            "align_items": null,
            "align_self": null,
            "border": null,
            "bottom": null,
            "display": null,
            "flex": null,
            "flex_flow": null,
            "grid_area": null,
            "grid_auto_columns": null,
            "grid_auto_flow": null,
            "grid_auto_rows": null,
            "grid_column": null,
            "grid_gap": null,
            "grid_row": null,
            "grid_template_areas": null,
            "grid_template_columns": null,
            "grid_template_rows": null,
            "height": null,
            "justify_content": null,
            "justify_items": null,
            "left": null,
            "margin": null,
            "max_height": null,
            "max_width": null,
            "min_height": null,
            "min_width": null,
            "object_fit": null,
            "object_position": null,
            "order": null,
            "overflow": null,
            "overflow_x": null,
            "overflow_y": null,
            "padding": null,
            "right": null,
            "top": null,
            "visibility": null,
            "width": null
          }
        },
        "46622efecf0943449d6ad47eeb7b401c": {
          "model_module": "@jupyter-widgets/controls",
          "model_name": "ProgressStyleModel",
          "model_module_version": "1.5.0",
          "state": {
            "_model_module": "@jupyter-widgets/controls",
            "_model_module_version": "1.5.0",
            "_model_name": "ProgressStyleModel",
            "_view_count": null,
            "_view_module": "@jupyter-widgets/base",
            "_view_module_version": "1.2.0",
            "_view_name": "StyleView",
            "bar_color": null,
            "description_width": ""
          }
        },
        "5a609d69224f4c9492ab6b7d300e5aed": {
          "model_module": "@jupyter-widgets/base",
          "model_name": "LayoutModel",
          "model_module_version": "1.2.0",
          "state": {
            "_model_module": "@jupyter-widgets/base",
            "_model_module_version": "1.2.0",
            "_model_name": "LayoutModel",
            "_view_count": null,
            "_view_module": "@jupyter-widgets/base",
            "_view_module_version": "1.2.0",
            "_view_name": "LayoutView",
            "align_content": null,
            "align_items": null,
            "align_self": null,
            "border": null,
            "bottom": null,
            "display": null,
            "flex": null,
            "flex_flow": null,
            "grid_area": null,
            "grid_auto_columns": null,
            "grid_auto_flow": null,
            "grid_auto_rows": null,
            "grid_column": null,
            "grid_gap": null,
            "grid_row": null,
            "grid_template_areas": null,
            "grid_template_columns": null,
            "grid_template_rows": null,
            "height": null,
            "justify_content": null,
            "justify_items": null,
            "left": null,
            "margin": null,
            "max_height": null,
            "max_width": null,
            "min_height": null,
            "min_width": null,
            "object_fit": null,
            "object_position": null,
            "order": null,
            "overflow": null,
            "overflow_x": null,
            "overflow_y": null,
            "padding": null,
            "right": null,
            "top": null,
            "visibility": null,
            "width": null
          }
        },
        "48334577fc9c475b9045b9f45bd0893e": {
          "model_module": "@jupyter-widgets/controls",
          "model_name": "DescriptionStyleModel",
          "model_module_version": "1.5.0",
          "state": {
            "_model_module": "@jupyter-widgets/controls",
            "_model_module_version": "1.5.0",
            "_model_name": "DescriptionStyleModel",
            "_view_count": null,
            "_view_module": "@jupyter-widgets/base",
            "_view_module_version": "1.2.0",
            "_view_name": "StyleView",
            "description_width": ""
          }
        },
        "d717992da538436abfd23690fa68465e": {
          "model_module": "@jupyter-widgets/controls",
          "model_name": "HBoxModel",
          "model_module_version": "1.5.0",
          "state": {
            "_dom_classes": [],
            "_model_module": "@jupyter-widgets/controls",
            "_model_module_version": "1.5.0",
            "_model_name": "HBoxModel",
            "_view_count": null,
            "_view_module": "@jupyter-widgets/controls",
            "_view_module_version": "1.5.0",
            "_view_name": "HBoxView",
            "box_style": "",
            "children": [
              "IPY_MODEL_c28e14fd6d0d47bb9979a410353af740",
              "IPY_MODEL_7f4aae135bfb4e5e97269041a0ab60b8",
              "IPY_MODEL_22ff420fdfe246f2ba5179c23b6adf51"
            ],
            "layout": "IPY_MODEL_d661f21ed56541b5a4a65e0e9ba6fae4"
          }
        },
        "c28e14fd6d0d47bb9979a410353af740": {
          "model_module": "@jupyter-widgets/controls",
          "model_name": "HTMLModel",
          "model_module_version": "1.5.0",
          "state": {
            "_dom_classes": [],
            "_model_module": "@jupyter-widgets/controls",
            "_model_module_version": "1.5.0",
            "_model_name": "HTMLModel",
            "_view_count": null,
            "_view_module": "@jupyter-widgets/controls",
            "_view_module_version": "1.5.0",
            "_view_name": "HTMLView",
            "description": "",
            "description_tooltip": null,
            "layout": "IPY_MODEL_2ee86718e6324631975be2e298b5464c",
            "placeholder": "​",
            "style": "IPY_MODEL_8bb256b1376e4d5f8f6e1293eea9a0c8",
            "value": "Downloading: 100%"
          }
        },
        "7f4aae135bfb4e5e97269041a0ab60b8": {
          "model_module": "@jupyter-widgets/controls",
          "model_name": "FloatProgressModel",
          "model_module_version": "1.5.0",
          "state": {
            "_dom_classes": [],
            "_model_module": "@jupyter-widgets/controls",
            "_model_module_version": "1.5.0",
            "_model_name": "FloatProgressModel",
            "_view_count": null,
            "_view_module": "@jupyter-widgets/controls",
            "_view_module_version": "1.5.0",
            "_view_name": "ProgressView",
            "bar_style": "success",
            "description": "",
            "description_tooltip": null,
            "layout": "IPY_MODEL_fd83909eccf540e88b519751c3b2ed45",
            "max": 28,
            "min": 0,
            "orientation": "horizontal",
            "style": "IPY_MODEL_d5e53962e29d4ee78d740f05be2d87ef",
            "value": 28
          }
        },
        "22ff420fdfe246f2ba5179c23b6adf51": {
          "model_module": "@jupyter-widgets/controls",
          "model_name": "HTMLModel",
          "model_module_version": "1.5.0",
          "state": {
            "_dom_classes": [],
            "_model_module": "@jupyter-widgets/controls",
            "_model_module_version": "1.5.0",
            "_model_name": "HTMLModel",
            "_view_count": null,
            "_view_module": "@jupyter-widgets/controls",
            "_view_module_version": "1.5.0",
            "_view_name": "HTMLView",
            "description": "",
            "description_tooltip": null,
            "layout": "IPY_MODEL_d1504d2e18c54379821633db85e66a8c",
            "placeholder": "​",
            "style": "IPY_MODEL_0b0c32632fff47dea171109be58c4a9b",
            "value": " 28.0/28.0 [00:00&lt;00:00, 2.29kB/s]"
          }
        },
        "d661f21ed56541b5a4a65e0e9ba6fae4": {
          "model_module": "@jupyter-widgets/base",
          "model_name": "LayoutModel",
          "model_module_version": "1.2.0",
          "state": {
            "_model_module": "@jupyter-widgets/base",
            "_model_module_version": "1.2.0",
            "_model_name": "LayoutModel",
            "_view_count": null,
            "_view_module": "@jupyter-widgets/base",
            "_view_module_version": "1.2.0",
            "_view_name": "LayoutView",
            "align_content": null,
            "align_items": null,
            "align_self": null,
            "border": null,
            "bottom": null,
            "display": null,
            "flex": null,
            "flex_flow": null,
            "grid_area": null,
            "grid_auto_columns": null,
            "grid_auto_flow": null,
            "grid_auto_rows": null,
            "grid_column": null,
            "grid_gap": null,
            "grid_row": null,
            "grid_template_areas": null,
            "grid_template_columns": null,
            "grid_template_rows": null,
            "height": null,
            "justify_content": null,
            "justify_items": null,
            "left": null,
            "margin": null,
            "max_height": null,
            "max_width": null,
            "min_height": null,
            "min_width": null,
            "object_fit": null,
            "object_position": null,
            "order": null,
            "overflow": null,
            "overflow_x": null,
            "overflow_y": null,
            "padding": null,
            "right": null,
            "top": null,
            "visibility": null,
            "width": null
          }
        },
        "2ee86718e6324631975be2e298b5464c": {
          "model_module": "@jupyter-widgets/base",
          "model_name": "LayoutModel",
          "model_module_version": "1.2.0",
          "state": {
            "_model_module": "@jupyter-widgets/base",
            "_model_module_version": "1.2.0",
            "_model_name": "LayoutModel",
            "_view_count": null,
            "_view_module": "@jupyter-widgets/base",
            "_view_module_version": "1.2.0",
            "_view_name": "LayoutView",
            "align_content": null,
            "align_items": null,
            "align_self": null,
            "border": null,
            "bottom": null,
            "display": null,
            "flex": null,
            "flex_flow": null,
            "grid_area": null,
            "grid_auto_columns": null,
            "grid_auto_flow": null,
            "grid_auto_rows": null,
            "grid_column": null,
            "grid_gap": null,
            "grid_row": null,
            "grid_template_areas": null,
            "grid_template_columns": null,
            "grid_template_rows": null,
            "height": null,
            "justify_content": null,
            "justify_items": null,
            "left": null,
            "margin": null,
            "max_height": null,
            "max_width": null,
            "min_height": null,
            "min_width": null,
            "object_fit": null,
            "object_position": null,
            "order": null,
            "overflow": null,
            "overflow_x": null,
            "overflow_y": null,
            "padding": null,
            "right": null,
            "top": null,
            "visibility": null,
            "width": null
          }
        },
        "8bb256b1376e4d5f8f6e1293eea9a0c8": {
          "model_module": "@jupyter-widgets/controls",
          "model_name": "DescriptionStyleModel",
          "model_module_version": "1.5.0",
          "state": {
            "_model_module": "@jupyter-widgets/controls",
            "_model_module_version": "1.5.0",
            "_model_name": "DescriptionStyleModel",
            "_view_count": null,
            "_view_module": "@jupyter-widgets/base",
            "_view_module_version": "1.2.0",
            "_view_name": "StyleView",
            "description_width": ""
          }
        },
        "fd83909eccf540e88b519751c3b2ed45": {
          "model_module": "@jupyter-widgets/base",
          "model_name": "LayoutModel",
          "model_module_version": "1.2.0",
          "state": {
            "_model_module": "@jupyter-widgets/base",
            "_model_module_version": "1.2.0",
            "_model_name": "LayoutModel",
            "_view_count": null,
            "_view_module": "@jupyter-widgets/base",
            "_view_module_version": "1.2.0",
            "_view_name": "LayoutView",
            "align_content": null,
            "align_items": null,
            "align_self": null,
            "border": null,
            "bottom": null,
            "display": null,
            "flex": null,
            "flex_flow": null,
            "grid_area": null,
            "grid_auto_columns": null,
            "grid_auto_flow": null,
            "grid_auto_rows": null,
            "grid_column": null,
            "grid_gap": null,
            "grid_row": null,
            "grid_template_areas": null,
            "grid_template_columns": null,
            "grid_template_rows": null,
            "height": null,
            "justify_content": null,
            "justify_items": null,
            "left": null,
            "margin": null,
            "max_height": null,
            "max_width": null,
            "min_height": null,
            "min_width": null,
            "object_fit": null,
            "object_position": null,
            "order": null,
            "overflow": null,
            "overflow_x": null,
            "overflow_y": null,
            "padding": null,
            "right": null,
            "top": null,
            "visibility": null,
            "width": null
          }
        },
        "d5e53962e29d4ee78d740f05be2d87ef": {
          "model_module": "@jupyter-widgets/controls",
          "model_name": "ProgressStyleModel",
          "model_module_version": "1.5.0",
          "state": {
            "_model_module": "@jupyter-widgets/controls",
            "_model_module_version": "1.5.0",
            "_model_name": "ProgressStyleModel",
            "_view_count": null,
            "_view_module": "@jupyter-widgets/base",
            "_view_module_version": "1.2.0",
            "_view_name": "StyleView",
            "bar_color": null,
            "description_width": ""
          }
        },
        "d1504d2e18c54379821633db85e66a8c": {
          "model_module": "@jupyter-widgets/base",
          "model_name": "LayoutModel",
          "model_module_version": "1.2.0",
          "state": {
            "_model_module": "@jupyter-widgets/base",
            "_model_module_version": "1.2.0",
            "_model_name": "LayoutModel",
            "_view_count": null,
            "_view_module": "@jupyter-widgets/base",
            "_view_module_version": "1.2.0",
            "_view_name": "LayoutView",
            "align_content": null,
            "align_items": null,
            "align_self": null,
            "border": null,
            "bottom": null,
            "display": null,
            "flex": null,
            "flex_flow": null,
            "grid_area": null,
            "grid_auto_columns": null,
            "grid_auto_flow": null,
            "grid_auto_rows": null,
            "grid_column": null,
            "grid_gap": null,
            "grid_row": null,
            "grid_template_areas": null,
            "grid_template_columns": null,
            "grid_template_rows": null,
            "height": null,
            "justify_content": null,
            "justify_items": null,
            "left": null,
            "margin": null,
            "max_height": null,
            "max_width": null,
            "min_height": null,
            "min_width": null,
            "object_fit": null,
            "object_position": null,
            "order": null,
            "overflow": null,
            "overflow_x": null,
            "overflow_y": null,
            "padding": null,
            "right": null,
            "top": null,
            "visibility": null,
            "width": null
          }
        },
        "0b0c32632fff47dea171109be58c4a9b": {
          "model_module": "@jupyter-widgets/controls",
          "model_name": "DescriptionStyleModel",
          "model_module_version": "1.5.0",
          "state": {
            "_model_module": "@jupyter-widgets/controls",
            "_model_module_version": "1.5.0",
            "_model_name": "DescriptionStyleModel",
            "_view_count": null,
            "_view_module": "@jupyter-widgets/base",
            "_view_module_version": "1.2.0",
            "_view_name": "StyleView",
            "description_width": ""
          }
        },
        "f4fc0d86f39f4307890443c96f247d6e": {
          "model_module": "@jupyter-widgets/controls",
          "model_name": "HBoxModel",
          "model_module_version": "1.5.0",
          "state": {
            "_dom_classes": [],
            "_model_module": "@jupyter-widgets/controls",
            "_model_module_version": "1.5.0",
            "_model_name": "HBoxModel",
            "_view_count": null,
            "_view_module": "@jupyter-widgets/controls",
            "_view_module_version": "1.5.0",
            "_view_name": "HBoxView",
            "box_style": "",
            "children": [
              "IPY_MODEL_964a01f07bb649968ddd238bb2412af7",
              "IPY_MODEL_3cf13373c74849a4b2bf916b8533a46b",
              "IPY_MODEL_ea719a908b8f4fb0b476dc6da350f97f"
            ],
            "layout": "IPY_MODEL_4131a2d79a19453b9705a3569c00dd0d"
          }
        },
        "964a01f07bb649968ddd238bb2412af7": {
          "model_module": "@jupyter-widgets/controls",
          "model_name": "HTMLModel",
          "model_module_version": "1.5.0",
          "state": {
            "_dom_classes": [],
            "_model_module": "@jupyter-widgets/controls",
            "_model_module_version": "1.5.0",
            "_model_name": "HTMLModel",
            "_view_count": null,
            "_view_module": "@jupyter-widgets/controls",
            "_view_module_version": "1.5.0",
            "_view_name": "HTMLView",
            "description": "",
            "description_tooltip": null,
            "layout": "IPY_MODEL_50648fe2996241a08686c1b075074ade",
            "placeholder": "​",
            "style": "IPY_MODEL_0a6b0590c8d344b88089bd6a25c812d8",
            "value": "Downloading: 100%"
          }
        },
        "3cf13373c74849a4b2bf916b8533a46b": {
          "model_module": "@jupyter-widgets/controls",
          "model_name": "FloatProgressModel",
          "model_module_version": "1.5.0",
          "state": {
            "_dom_classes": [],
            "_model_module": "@jupyter-widgets/controls",
            "_model_module_version": "1.5.0",
            "_model_name": "FloatProgressModel",
            "_view_count": null,
            "_view_module": "@jupyter-widgets/controls",
            "_view_module_version": "1.5.0",
            "_view_name": "ProgressView",
            "bar_style": "success",
            "description": "",
            "description_tooltip": null,
            "layout": "IPY_MODEL_acb8496f697f417c8ddac2f0606859a5",
            "max": 466062,
            "min": 0,
            "orientation": "horizontal",
            "style": "IPY_MODEL_fbba883674094efaaaf264ffc3d5cd60",
            "value": 466062
          }
        },
        "ea719a908b8f4fb0b476dc6da350f97f": {
          "model_module": "@jupyter-widgets/controls",
          "model_name": "HTMLModel",
          "model_module_version": "1.5.0",
          "state": {
            "_dom_classes": [],
            "_model_module": "@jupyter-widgets/controls",
            "_model_module_version": "1.5.0",
            "_model_name": "HTMLModel",
            "_view_count": null,
            "_view_module": "@jupyter-widgets/controls",
            "_view_module_version": "1.5.0",
            "_view_name": "HTMLView",
            "description": "",
            "description_tooltip": null,
            "layout": "IPY_MODEL_81e82dc66ac74311bc62729a3face641",
            "placeholder": "​",
            "style": "IPY_MODEL_911fef1f47b54abbaa50c8688e26d26e",
            "value": " 455k/455k [00:00&lt;00:00, 2.33MB/s]"
          }
        },
        "4131a2d79a19453b9705a3569c00dd0d": {
          "model_module": "@jupyter-widgets/base",
          "model_name": "LayoutModel",
          "model_module_version": "1.2.0",
          "state": {
            "_model_module": "@jupyter-widgets/base",
            "_model_module_version": "1.2.0",
            "_model_name": "LayoutModel",
            "_view_count": null,
            "_view_module": "@jupyter-widgets/base",
            "_view_module_version": "1.2.0",
            "_view_name": "LayoutView",
            "align_content": null,
            "align_items": null,
            "align_self": null,
            "border": null,
            "bottom": null,
            "display": null,
            "flex": null,
            "flex_flow": null,
            "grid_area": null,
            "grid_auto_columns": null,
            "grid_auto_flow": null,
            "grid_auto_rows": null,
            "grid_column": null,
            "grid_gap": null,
            "grid_row": null,
            "grid_template_areas": null,
            "grid_template_columns": null,
            "grid_template_rows": null,
            "height": null,
            "justify_content": null,
            "justify_items": null,
            "left": null,
            "margin": null,
            "max_height": null,
            "max_width": null,
            "min_height": null,
            "min_width": null,
            "object_fit": null,
            "object_position": null,
            "order": null,
            "overflow": null,
            "overflow_x": null,
            "overflow_y": null,
            "padding": null,
            "right": null,
            "top": null,
            "visibility": null,
            "width": null
          }
        },
        "50648fe2996241a08686c1b075074ade": {
          "model_module": "@jupyter-widgets/base",
          "model_name": "LayoutModel",
          "model_module_version": "1.2.0",
          "state": {
            "_model_module": "@jupyter-widgets/base",
            "_model_module_version": "1.2.0",
            "_model_name": "LayoutModel",
            "_view_count": null,
            "_view_module": "@jupyter-widgets/base",
            "_view_module_version": "1.2.0",
            "_view_name": "LayoutView",
            "align_content": null,
            "align_items": null,
            "align_self": null,
            "border": null,
            "bottom": null,
            "display": null,
            "flex": null,
            "flex_flow": null,
            "grid_area": null,
            "grid_auto_columns": null,
            "grid_auto_flow": null,
            "grid_auto_rows": null,
            "grid_column": null,
            "grid_gap": null,
            "grid_row": null,
            "grid_template_areas": null,
            "grid_template_columns": null,
            "grid_template_rows": null,
            "height": null,
            "justify_content": null,
            "justify_items": null,
            "left": null,
            "margin": null,
            "max_height": null,
            "max_width": null,
            "min_height": null,
            "min_width": null,
            "object_fit": null,
            "object_position": null,
            "order": null,
            "overflow": null,
            "overflow_x": null,
            "overflow_y": null,
            "padding": null,
            "right": null,
            "top": null,
            "visibility": null,
            "width": null
          }
        },
        "0a6b0590c8d344b88089bd6a25c812d8": {
          "model_module": "@jupyter-widgets/controls",
          "model_name": "DescriptionStyleModel",
          "model_module_version": "1.5.0",
          "state": {
            "_model_module": "@jupyter-widgets/controls",
            "_model_module_version": "1.5.0",
            "_model_name": "DescriptionStyleModel",
            "_view_count": null,
            "_view_module": "@jupyter-widgets/base",
            "_view_module_version": "1.2.0",
            "_view_name": "StyleView",
            "description_width": ""
          }
        },
        "acb8496f697f417c8ddac2f0606859a5": {
          "model_module": "@jupyter-widgets/base",
          "model_name": "LayoutModel",
          "model_module_version": "1.2.0",
          "state": {
            "_model_module": "@jupyter-widgets/base",
            "_model_module_version": "1.2.0",
            "_model_name": "LayoutModel",
            "_view_count": null,
            "_view_module": "@jupyter-widgets/base",
            "_view_module_version": "1.2.0",
            "_view_name": "LayoutView",
            "align_content": null,
            "align_items": null,
            "align_self": null,
            "border": null,
            "bottom": null,
            "display": null,
            "flex": null,
            "flex_flow": null,
            "grid_area": null,
            "grid_auto_columns": null,
            "grid_auto_flow": null,
            "grid_auto_rows": null,
            "grid_column": null,
            "grid_gap": null,
            "grid_row": null,
            "grid_template_areas": null,
            "grid_template_columns": null,
            "grid_template_rows": null,
            "height": null,
            "justify_content": null,
            "justify_items": null,
            "left": null,
            "margin": null,
            "max_height": null,
            "max_width": null,
            "min_height": null,
            "min_width": null,
            "object_fit": null,
            "object_position": null,
            "order": null,
            "overflow": null,
            "overflow_x": null,
            "overflow_y": null,
            "padding": null,
            "right": null,
            "top": null,
            "visibility": null,
            "width": null
          }
        },
        "fbba883674094efaaaf264ffc3d5cd60": {
          "model_module": "@jupyter-widgets/controls",
          "model_name": "ProgressStyleModel",
          "model_module_version": "1.5.0",
          "state": {
            "_model_module": "@jupyter-widgets/controls",
            "_model_module_version": "1.5.0",
            "_model_name": "ProgressStyleModel",
            "_view_count": null,
            "_view_module": "@jupyter-widgets/base",
            "_view_module_version": "1.2.0",
            "_view_name": "StyleView",
            "bar_color": null,
            "description_width": ""
          }
        },
        "81e82dc66ac74311bc62729a3face641": {
          "model_module": "@jupyter-widgets/base",
          "model_name": "LayoutModel",
          "model_module_version": "1.2.0",
          "state": {
            "_model_module": "@jupyter-widgets/base",
            "_model_module_version": "1.2.0",
            "_model_name": "LayoutModel",
            "_view_count": null,
            "_view_module": "@jupyter-widgets/base",
            "_view_module_version": "1.2.0",
            "_view_name": "LayoutView",
            "align_content": null,
            "align_items": null,
            "align_self": null,
            "border": null,
            "bottom": null,
            "display": null,
            "flex": null,
            "flex_flow": null,
            "grid_area": null,
            "grid_auto_columns": null,
            "grid_auto_flow": null,
            "grid_auto_rows": null,
            "grid_column": null,
            "grid_gap": null,
            "grid_row": null,
            "grid_template_areas": null,
            "grid_template_columns": null,
            "grid_template_rows": null,
            "height": null,
            "justify_content": null,
            "justify_items": null,
            "left": null,
            "margin": null,
            "max_height": null,
            "max_width": null,
            "min_height": null,
            "min_width": null,
            "object_fit": null,
            "object_position": null,
            "order": null,
            "overflow": null,
            "overflow_x": null,
            "overflow_y": null,
            "padding": null,
            "right": null,
            "top": null,
            "visibility": null,
            "width": null
          }
        },
        "911fef1f47b54abbaa50c8688e26d26e": {
          "model_module": "@jupyter-widgets/controls",
          "model_name": "DescriptionStyleModel",
          "model_module_version": "1.5.0",
          "state": {
            "_model_module": "@jupyter-widgets/controls",
            "_model_module_version": "1.5.0",
            "_model_name": "DescriptionStyleModel",
            "_view_count": null,
            "_view_module": "@jupyter-widgets/base",
            "_view_module_version": "1.2.0",
            "_view_name": "StyleView",
            "description_width": ""
          }
        },
        "9ea4e406334649c688fdc8738651bb5a": {
          "model_module": "@jupyter-widgets/controls",
          "model_name": "HBoxModel",
          "model_module_version": "1.5.0",
          "state": {
            "_dom_classes": [],
            "_model_module": "@jupyter-widgets/controls",
            "_model_module_version": "1.5.0",
            "_model_name": "HBoxModel",
            "_view_count": null,
            "_view_module": "@jupyter-widgets/controls",
            "_view_module_version": "1.5.0",
            "_view_name": "HBoxView",
            "box_style": "",
            "children": [
              "IPY_MODEL_9a922ff6643948bf8851ae8a192aead4",
              "IPY_MODEL_55fe16537ce940969b63f014f8d46da3",
              "IPY_MODEL_dcc2ae7fed35402cb2797076a2506c5a"
            ],
            "layout": "IPY_MODEL_5effea1664764e098850763299b309e5"
          }
        },
        "9a922ff6643948bf8851ae8a192aead4": {
          "model_module": "@jupyter-widgets/controls",
          "model_name": "HTMLModel",
          "model_module_version": "1.5.0",
          "state": {
            "_dom_classes": [],
            "_model_module": "@jupyter-widgets/controls",
            "_model_module_version": "1.5.0",
            "_model_name": "HTMLModel",
            "_view_count": null,
            "_view_module": "@jupyter-widgets/controls",
            "_view_module_version": "1.5.0",
            "_view_name": "HTMLView",
            "description": "",
            "description_tooltip": null,
            "layout": "IPY_MODEL_b01cb672bbcd492997f19f3f1d502cf0",
            "placeholder": "​",
            "style": "IPY_MODEL_947eb11d4dfe4b7fa715c5681bfd1950",
            "value": "Downloading: 100%"
          }
        },
        "55fe16537ce940969b63f014f8d46da3": {
          "model_module": "@jupyter-widgets/controls",
          "model_name": "FloatProgressModel",
          "model_module_version": "1.5.0",
          "state": {
            "_dom_classes": [],
            "_model_module": "@jupyter-widgets/controls",
            "_model_module_version": "1.5.0",
            "_model_name": "FloatProgressModel",
            "_view_count": null,
            "_view_module": "@jupyter-widgets/controls",
            "_view_module_version": "1.5.0",
            "_view_name": "ProgressView",
            "bar_style": "success",
            "description": "",
            "description_tooltip": null,
            "layout": "IPY_MODEL_2e79da93e43a4d06ae52a304fad515fa",
            "max": 570,
            "min": 0,
            "orientation": "horizontal",
            "style": "IPY_MODEL_bd223356ee4b49e1925784b2924a4a6e",
            "value": 570
          }
        },
        "dcc2ae7fed35402cb2797076a2506c5a": {
          "model_module": "@jupyter-widgets/controls",
          "model_name": "HTMLModel",
          "model_module_version": "1.5.0",
          "state": {
            "_dom_classes": [],
            "_model_module": "@jupyter-widgets/controls",
            "_model_module_version": "1.5.0",
            "_model_name": "HTMLModel",
            "_view_count": null,
            "_view_module": "@jupyter-widgets/controls",
            "_view_module_version": "1.5.0",
            "_view_name": "HTMLView",
            "description": "",
            "description_tooltip": null,
            "layout": "IPY_MODEL_851ce8d975ab49aaa849447a5e978fef",
            "placeholder": "​",
            "style": "IPY_MODEL_547800d3d9464b6b88214d7e87e654ba",
            "value": " 570/570 [00:00&lt;00:00, 47.8kB/s]"
          }
        },
        "5effea1664764e098850763299b309e5": {
          "model_module": "@jupyter-widgets/base",
          "model_name": "LayoutModel",
          "model_module_version": "1.2.0",
          "state": {
            "_model_module": "@jupyter-widgets/base",
            "_model_module_version": "1.2.0",
            "_model_name": "LayoutModel",
            "_view_count": null,
            "_view_module": "@jupyter-widgets/base",
            "_view_module_version": "1.2.0",
            "_view_name": "LayoutView",
            "align_content": null,
            "align_items": null,
            "align_self": null,
            "border": null,
            "bottom": null,
            "display": null,
            "flex": null,
            "flex_flow": null,
            "grid_area": null,
            "grid_auto_columns": null,
            "grid_auto_flow": null,
            "grid_auto_rows": null,
            "grid_column": null,
            "grid_gap": null,
            "grid_row": null,
            "grid_template_areas": null,
            "grid_template_columns": null,
            "grid_template_rows": null,
            "height": null,
            "justify_content": null,
            "justify_items": null,
            "left": null,
            "margin": null,
            "max_height": null,
            "max_width": null,
            "min_height": null,
            "min_width": null,
            "object_fit": null,
            "object_position": null,
            "order": null,
            "overflow": null,
            "overflow_x": null,
            "overflow_y": null,
            "padding": null,
            "right": null,
            "top": null,
            "visibility": null,
            "width": null
          }
        },
        "b01cb672bbcd492997f19f3f1d502cf0": {
          "model_module": "@jupyter-widgets/base",
          "model_name": "LayoutModel",
          "model_module_version": "1.2.0",
          "state": {
            "_model_module": "@jupyter-widgets/base",
            "_model_module_version": "1.2.0",
            "_model_name": "LayoutModel",
            "_view_count": null,
            "_view_module": "@jupyter-widgets/base",
            "_view_module_version": "1.2.0",
            "_view_name": "LayoutView",
            "align_content": null,
            "align_items": null,
            "align_self": null,
            "border": null,
            "bottom": null,
            "display": null,
            "flex": null,
            "flex_flow": null,
            "grid_area": null,
            "grid_auto_columns": null,
            "grid_auto_flow": null,
            "grid_auto_rows": null,
            "grid_column": null,
            "grid_gap": null,
            "grid_row": null,
            "grid_template_areas": null,
            "grid_template_columns": null,
            "grid_template_rows": null,
            "height": null,
            "justify_content": null,
            "justify_items": null,
            "left": null,
            "margin": null,
            "max_height": null,
            "max_width": null,
            "min_height": null,
            "min_width": null,
            "object_fit": null,
            "object_position": null,
            "order": null,
            "overflow": null,
            "overflow_x": null,
            "overflow_y": null,
            "padding": null,
            "right": null,
            "top": null,
            "visibility": null,
            "width": null
          }
        },
        "947eb11d4dfe4b7fa715c5681bfd1950": {
          "model_module": "@jupyter-widgets/controls",
          "model_name": "DescriptionStyleModel",
          "model_module_version": "1.5.0",
          "state": {
            "_model_module": "@jupyter-widgets/controls",
            "_model_module_version": "1.5.0",
            "_model_name": "DescriptionStyleModel",
            "_view_count": null,
            "_view_module": "@jupyter-widgets/base",
            "_view_module_version": "1.2.0",
            "_view_name": "StyleView",
            "description_width": ""
          }
        },
        "2e79da93e43a4d06ae52a304fad515fa": {
          "model_module": "@jupyter-widgets/base",
          "model_name": "LayoutModel",
          "model_module_version": "1.2.0",
          "state": {
            "_model_module": "@jupyter-widgets/base",
            "_model_module_version": "1.2.0",
            "_model_name": "LayoutModel",
            "_view_count": null,
            "_view_module": "@jupyter-widgets/base",
            "_view_module_version": "1.2.0",
            "_view_name": "LayoutView",
            "align_content": null,
            "align_items": null,
            "align_self": null,
            "border": null,
            "bottom": null,
            "display": null,
            "flex": null,
            "flex_flow": null,
            "grid_area": null,
            "grid_auto_columns": null,
            "grid_auto_flow": null,
            "grid_auto_rows": null,
            "grid_column": null,
            "grid_gap": null,
            "grid_row": null,
            "grid_template_areas": null,
            "grid_template_columns": null,
            "grid_template_rows": null,
            "height": null,
            "justify_content": null,
            "justify_items": null,
            "left": null,
            "margin": null,
            "max_height": null,
            "max_width": null,
            "min_height": null,
            "min_width": null,
            "object_fit": null,
            "object_position": null,
            "order": null,
            "overflow": null,
            "overflow_x": null,
            "overflow_y": null,
            "padding": null,
            "right": null,
            "top": null,
            "visibility": null,
            "width": null
          }
        },
        "bd223356ee4b49e1925784b2924a4a6e": {
          "model_module": "@jupyter-widgets/controls",
          "model_name": "ProgressStyleModel",
          "model_module_version": "1.5.0",
          "state": {
            "_model_module": "@jupyter-widgets/controls",
            "_model_module_version": "1.5.0",
            "_model_name": "ProgressStyleModel",
            "_view_count": null,
            "_view_module": "@jupyter-widgets/base",
            "_view_module_version": "1.2.0",
            "_view_name": "StyleView",
            "bar_color": null,
            "description_width": ""
          }
        },
        "851ce8d975ab49aaa849447a5e978fef": {
          "model_module": "@jupyter-widgets/base",
          "model_name": "LayoutModel",
          "model_module_version": "1.2.0",
          "state": {
            "_model_module": "@jupyter-widgets/base",
            "_model_module_version": "1.2.0",
            "_model_name": "LayoutModel",
            "_view_count": null,
            "_view_module": "@jupyter-widgets/base",
            "_view_module_version": "1.2.0",
            "_view_name": "LayoutView",
            "align_content": null,
            "align_items": null,
            "align_self": null,
            "border": null,
            "bottom": null,
            "display": null,
            "flex": null,
            "flex_flow": null,
            "grid_area": null,
            "grid_auto_columns": null,
            "grid_auto_flow": null,
            "grid_auto_rows": null,
            "grid_column": null,
            "grid_gap": null,
            "grid_row": null,
            "grid_template_areas": null,
            "grid_template_columns": null,
            "grid_template_rows": null,
            "height": null,
            "justify_content": null,
            "justify_items": null,
            "left": null,
            "margin": null,
            "max_height": null,
            "max_width": null,
            "min_height": null,
            "min_width": null,
            "object_fit": null,
            "object_position": null,
            "order": null,
            "overflow": null,
            "overflow_x": null,
            "overflow_y": null,
            "padding": null,
            "right": null,
            "top": null,
            "visibility": null,
            "width": null
          }
        },
        "547800d3d9464b6b88214d7e87e654ba": {
          "model_module": "@jupyter-widgets/controls",
          "model_name": "DescriptionStyleModel",
          "model_module_version": "1.5.0",
          "state": {
            "_model_module": "@jupyter-widgets/controls",
            "_model_module_version": "1.5.0",
            "_model_name": "DescriptionStyleModel",
            "_view_count": null,
            "_view_module": "@jupyter-widgets/base",
            "_view_module_version": "1.2.0",
            "_view_name": "StyleView",
            "description_width": ""
          }
        },
        "5d333dc0129442b3a4b0a3add2cb7e21": {
          "model_module": "@jupyter-widgets/controls",
          "model_name": "HBoxModel",
          "model_module_version": "1.5.0",
          "state": {
            "_dom_classes": [],
            "_model_module": "@jupyter-widgets/controls",
            "_model_module_version": "1.5.0",
            "_model_name": "HBoxModel",
            "_view_count": null,
            "_view_module": "@jupyter-widgets/controls",
            "_view_module_version": "1.5.0",
            "_view_name": "HBoxView",
            "box_style": "",
            "children": [
              "IPY_MODEL_93a1300cf04743b48294d98544cc8ba3",
              "IPY_MODEL_11aabc86b9114b88802063f9a037cf0d",
              "IPY_MODEL_93c49395439e4d77afd99a0b1ab55098"
            ],
            "layout": "IPY_MODEL_c51d2ae329044dd29e9234d695479408"
          }
        },
        "93a1300cf04743b48294d98544cc8ba3": {
          "model_module": "@jupyter-widgets/controls",
          "model_name": "HTMLModel",
          "model_module_version": "1.5.0",
          "state": {
            "_dom_classes": [],
            "_model_module": "@jupyter-widgets/controls",
            "_model_module_version": "1.5.0",
            "_model_name": "HTMLModel",
            "_view_count": null,
            "_view_module": "@jupyter-widgets/controls",
            "_view_module_version": "1.5.0",
            "_view_name": "HTMLView",
            "description": "",
            "description_tooltip": null,
            "layout": "IPY_MODEL_d8f67502e64a41a58a906245a5c3a140",
            "placeholder": "​",
            "style": "IPY_MODEL_17dc0ff1e6dc4136998f1d07aafb7753",
            "value": "100%"
          }
        },
        "11aabc86b9114b88802063f9a037cf0d": {
          "model_module": "@jupyter-widgets/controls",
          "model_name": "FloatProgressModel",
          "model_module_version": "1.5.0",
          "state": {
            "_dom_classes": [],
            "_model_module": "@jupyter-widgets/controls",
            "_model_module_version": "1.5.0",
            "_model_name": "FloatProgressModel",
            "_view_count": null,
            "_view_module": "@jupyter-widgets/controls",
            "_view_module_version": "1.5.0",
            "_view_name": "ProgressView",
            "bar_style": "success",
            "description": "",
            "description_tooltip": null,
            "layout": "IPY_MODEL_016ab88e55cf4862b4197c8d55535ca9",
            "max": 1785411505,
            "min": 0,
            "orientation": "horizontal",
            "style": "IPY_MODEL_bb40315d6ae645dea63620ff28703d75",
            "value": 1785411505
          }
        },
        "93c49395439e4d77afd99a0b1ab55098": {
          "model_module": "@jupyter-widgets/controls",
          "model_name": "HTMLModel",
          "model_module_version": "1.5.0",
          "state": {
            "_dom_classes": [],
            "_model_module": "@jupyter-widgets/controls",
            "_model_module_version": "1.5.0",
            "_model_name": "HTMLModel",
            "_view_count": null,
            "_view_module": "@jupyter-widgets/controls",
            "_view_module_version": "1.5.0",
            "_view_name": "HTMLView",
            "description": "",
            "description_tooltip": null,
            "layout": "IPY_MODEL_4802595960bc484ba7042f156e217463",
            "placeholder": "​",
            "style": "IPY_MODEL_6b0f10ad52ea4ce5b8c8d0d5c706a1ec",
            "value": " 1.66G/1.66G [00:06&lt;00:00, 268MB/s]"
          }
        },
        "c51d2ae329044dd29e9234d695479408": {
          "model_module": "@jupyter-widgets/base",
          "model_name": "LayoutModel",
          "model_module_version": "1.2.0",
          "state": {
            "_model_module": "@jupyter-widgets/base",
            "_model_module_version": "1.2.0",
            "_model_name": "LayoutModel",
            "_view_count": null,
            "_view_module": "@jupyter-widgets/base",
            "_view_module_version": "1.2.0",
            "_view_name": "LayoutView",
            "align_content": null,
            "align_items": null,
            "align_self": null,
            "border": null,
            "bottom": null,
            "display": null,
            "flex": null,
            "flex_flow": null,
            "grid_area": null,
            "grid_auto_columns": null,
            "grid_auto_flow": null,
            "grid_auto_rows": null,
            "grid_column": null,
            "grid_gap": null,
            "grid_row": null,
            "grid_template_areas": null,
            "grid_template_columns": null,
            "grid_template_rows": null,
            "height": null,
            "justify_content": null,
            "justify_items": null,
            "left": null,
            "margin": null,
            "max_height": null,
            "max_width": null,
            "min_height": null,
            "min_width": null,
            "object_fit": null,
            "object_position": null,
            "order": null,
            "overflow": null,
            "overflow_x": null,
            "overflow_y": null,
            "padding": null,
            "right": null,
            "top": null,
            "visibility": null,
            "width": null
          }
        },
        "d8f67502e64a41a58a906245a5c3a140": {
          "model_module": "@jupyter-widgets/base",
          "model_name": "LayoutModel",
          "model_module_version": "1.2.0",
          "state": {
            "_model_module": "@jupyter-widgets/base",
            "_model_module_version": "1.2.0",
            "_model_name": "LayoutModel",
            "_view_count": null,
            "_view_module": "@jupyter-widgets/base",
            "_view_module_version": "1.2.0",
            "_view_name": "LayoutView",
            "align_content": null,
            "align_items": null,
            "align_self": null,
            "border": null,
            "bottom": null,
            "display": null,
            "flex": null,
            "flex_flow": null,
            "grid_area": null,
            "grid_auto_columns": null,
            "grid_auto_flow": null,
            "grid_auto_rows": null,
            "grid_column": null,
            "grid_gap": null,
            "grid_row": null,
            "grid_template_areas": null,
            "grid_template_columns": null,
            "grid_template_rows": null,
            "height": null,
            "justify_content": null,
            "justify_items": null,
            "left": null,
            "margin": null,
            "max_height": null,
            "max_width": null,
            "min_height": null,
            "min_width": null,
            "object_fit": null,
            "object_position": null,
            "order": null,
            "overflow": null,
            "overflow_x": null,
            "overflow_y": null,
            "padding": null,
            "right": null,
            "top": null,
            "visibility": null,
            "width": null
          }
        },
        "17dc0ff1e6dc4136998f1d07aafb7753": {
          "model_module": "@jupyter-widgets/controls",
          "model_name": "DescriptionStyleModel",
          "model_module_version": "1.5.0",
          "state": {
            "_model_module": "@jupyter-widgets/controls",
            "_model_module_version": "1.5.0",
            "_model_name": "DescriptionStyleModel",
            "_view_count": null,
            "_view_module": "@jupyter-widgets/base",
            "_view_module_version": "1.2.0",
            "_view_name": "StyleView",
            "description_width": ""
          }
        },
        "016ab88e55cf4862b4197c8d55535ca9": {
          "model_module": "@jupyter-widgets/base",
          "model_name": "LayoutModel",
          "model_module_version": "1.2.0",
          "state": {
            "_model_module": "@jupyter-widgets/base",
            "_model_module_version": "1.2.0",
            "_model_name": "LayoutModel",
            "_view_count": null,
            "_view_module": "@jupyter-widgets/base",
            "_view_module_version": "1.2.0",
            "_view_name": "LayoutView",
            "align_content": null,
            "align_items": null,
            "align_self": null,
            "border": null,
            "bottom": null,
            "display": null,
            "flex": null,
            "flex_flow": null,
            "grid_area": null,
            "grid_auto_columns": null,
            "grid_auto_flow": null,
            "grid_auto_rows": null,
            "grid_column": null,
            "grid_gap": null,
            "grid_row": null,
            "grid_template_areas": null,
            "grid_template_columns": null,
            "grid_template_rows": null,
            "height": null,
            "justify_content": null,
            "justify_items": null,
            "left": null,
            "margin": null,
            "max_height": null,
            "max_width": null,
            "min_height": null,
            "min_width": null,
            "object_fit": null,
            "object_position": null,
            "order": null,
            "overflow": null,
            "overflow_x": null,
            "overflow_y": null,
            "padding": null,
            "right": null,
            "top": null,
            "visibility": null,
            "width": null
          }
        },
        "bb40315d6ae645dea63620ff28703d75": {
          "model_module": "@jupyter-widgets/controls",
          "model_name": "ProgressStyleModel",
          "model_module_version": "1.5.0",
          "state": {
            "_model_module": "@jupyter-widgets/controls",
            "_model_module_version": "1.5.0",
            "_model_name": "ProgressStyleModel",
            "_view_count": null,
            "_view_module": "@jupyter-widgets/base",
            "_view_module_version": "1.2.0",
            "_view_name": "StyleView",
            "bar_color": null,
            "description_width": ""
          }
        },
        "4802595960bc484ba7042f156e217463": {
          "model_module": "@jupyter-widgets/base",
          "model_name": "LayoutModel",
          "model_module_version": "1.2.0",
          "state": {
            "_model_module": "@jupyter-widgets/base",
            "_model_module_version": "1.2.0",
            "_model_name": "LayoutModel",
            "_view_count": null,
            "_view_module": "@jupyter-widgets/base",
            "_view_module_version": "1.2.0",
            "_view_name": "LayoutView",
            "align_content": null,
            "align_items": null,
            "align_self": null,
            "border": null,
            "bottom": null,
            "display": null,
            "flex": null,
            "flex_flow": null,
            "grid_area": null,
            "grid_auto_columns": null,
            "grid_auto_flow": null,
            "grid_auto_rows": null,
            "grid_column": null,
            "grid_gap": null,
            "grid_row": null,
            "grid_template_areas": null,
            "grid_template_columns": null,
            "grid_template_rows": null,
            "height": null,
            "justify_content": null,
            "justify_items": null,
            "left": null,
            "margin": null,
            "max_height": null,
            "max_width": null,
            "min_height": null,
            "min_width": null,
            "object_fit": null,
            "object_position": null,
            "order": null,
            "overflow": null,
            "overflow_x": null,
            "overflow_y": null,
            "padding": null,
            "right": null,
            "top": null,
            "visibility": null,
            "width": null
          }
        },
        "6b0f10ad52ea4ce5b8c8d0d5c706a1ec": {
          "model_module": "@jupyter-widgets/controls",
          "model_name": "DescriptionStyleModel",
          "model_module_version": "1.5.0",
          "state": {
            "_model_module": "@jupyter-widgets/controls",
            "_model_module_version": "1.5.0",
            "_model_name": "DescriptionStyleModel",
            "_view_count": null,
            "_view_module": "@jupyter-widgets/base",
            "_view_module_version": "1.2.0",
            "_view_name": "StyleView",
            "description_width": ""
          }
        },
        "cfa757cec830411e98032d925bc69f00": {
          "model_module": "@jupyter-widgets/controls",
          "model_name": "HBoxModel",
          "model_module_version": "1.5.0",
          "state": {
            "_dom_classes": [],
            "_model_module": "@jupyter-widgets/controls",
            "_model_module_version": "1.5.0",
            "_model_name": "HBoxModel",
            "_view_count": null,
            "_view_module": "@jupyter-widgets/controls",
            "_view_module_version": "1.5.0",
            "_view_name": "HBoxView",
            "box_style": "",
            "children": [
              "IPY_MODEL_74111c9d43e74d2c8a9daf41a5de6d4b",
              "IPY_MODEL_172f1618c41048c8be1fe853674aea43",
              "IPY_MODEL_1c4ae20695834de7859de0f44d2cac6c"
            ],
            "layout": "IPY_MODEL_cd1ece8599d7494fac61c44809127c39"
          }
        },
        "74111c9d43e74d2c8a9daf41a5de6d4b": {
          "model_module": "@jupyter-widgets/controls",
          "model_name": "HTMLModel",
          "model_module_version": "1.5.0",
          "state": {
            "_dom_classes": [],
            "_model_module": "@jupyter-widgets/controls",
            "_model_module_version": "1.5.0",
            "_model_name": "HTMLModel",
            "_view_count": null,
            "_view_module": "@jupyter-widgets/controls",
            "_view_module_version": "1.5.0",
            "_view_name": "HTMLView",
            "description": "",
            "description_tooltip": null,
            "layout": "IPY_MODEL_eb51aa7f12b5440c80f7436d6562381c",
            "placeholder": "​",
            "style": "IPY_MODEL_8ce5f0fc067445a0996daba24dac7d10",
            "value": "Downloading (…)ip_pytorch_model.bin: 100%"
          }
        },
        "172f1618c41048c8be1fe853674aea43": {
          "model_module": "@jupyter-widgets/controls",
          "model_name": "FloatProgressModel",
          "model_module_version": "1.5.0",
          "state": {
            "_dom_classes": [],
            "_model_module": "@jupyter-widgets/controls",
            "_model_module_version": "1.5.0",
            "_model_name": "FloatProgressModel",
            "_view_count": null,
            "_view_module": "@jupyter-widgets/controls",
            "_view_module_version": "1.5.0",
            "_view_name": "ProgressView",
            "bar_style": "success",
            "description": "",
            "description_tooltip": null,
            "layout": "IPY_MODEL_9281ebb808aa45a1bbd11c83bce977be",
            "max": 3944692325,
            "min": 0,
            "orientation": "horizontal",
            "style": "IPY_MODEL_09a7ab6c2bac471388242867cbb3d81b",
            "value": 3944692325
          }
        },
        "1c4ae20695834de7859de0f44d2cac6c": {
          "model_module": "@jupyter-widgets/controls",
          "model_name": "HTMLModel",
          "model_module_version": "1.5.0",
          "state": {
            "_dom_classes": [],
            "_model_module": "@jupyter-widgets/controls",
            "_model_module_version": "1.5.0",
            "_model_name": "HTMLModel",
            "_view_count": null,
            "_view_module": "@jupyter-widgets/controls",
            "_view_module_version": "1.5.0",
            "_view_name": "HTMLView",
            "description": "",
            "description_tooltip": null,
            "layout": "IPY_MODEL_6abd799692054ebe8a7c5479660ffd93",
            "placeholder": "​",
            "style": "IPY_MODEL_e5fc2f42076f47ccb5211c64840a06de",
            "value": " 3.94G/3.94G [00:18&lt;00:00, 224MB/s]"
          }
        },
        "cd1ece8599d7494fac61c44809127c39": {
          "model_module": "@jupyter-widgets/base",
          "model_name": "LayoutModel",
          "model_module_version": "1.2.0",
          "state": {
            "_model_module": "@jupyter-widgets/base",
            "_model_module_version": "1.2.0",
            "_model_name": "LayoutModel",
            "_view_count": null,
            "_view_module": "@jupyter-widgets/base",
            "_view_module_version": "1.2.0",
            "_view_name": "LayoutView",
            "align_content": null,
            "align_items": null,
            "align_self": null,
            "border": null,
            "bottom": null,
            "display": null,
            "flex": null,
            "flex_flow": null,
            "grid_area": null,
            "grid_auto_columns": null,
            "grid_auto_flow": null,
            "grid_auto_rows": null,
            "grid_column": null,
            "grid_gap": null,
            "grid_row": null,
            "grid_template_areas": null,
            "grid_template_columns": null,
            "grid_template_rows": null,
            "height": null,
            "justify_content": null,
            "justify_items": null,
            "left": null,
            "margin": null,
            "max_height": null,
            "max_width": null,
            "min_height": null,
            "min_width": null,
            "object_fit": null,
            "object_position": null,
            "order": null,
            "overflow": null,
            "overflow_x": null,
            "overflow_y": null,
            "padding": null,
            "right": null,
            "top": null,
            "visibility": null,
            "width": null
          }
        },
        "eb51aa7f12b5440c80f7436d6562381c": {
          "model_module": "@jupyter-widgets/base",
          "model_name": "LayoutModel",
          "model_module_version": "1.2.0",
          "state": {
            "_model_module": "@jupyter-widgets/base",
            "_model_module_version": "1.2.0",
            "_model_name": "LayoutModel",
            "_view_count": null,
            "_view_module": "@jupyter-widgets/base",
            "_view_module_version": "1.2.0",
            "_view_name": "LayoutView",
            "align_content": null,
            "align_items": null,
            "align_self": null,
            "border": null,
            "bottom": null,
            "display": null,
            "flex": null,
            "flex_flow": null,
            "grid_area": null,
            "grid_auto_columns": null,
            "grid_auto_flow": null,
            "grid_auto_rows": null,
            "grid_column": null,
            "grid_gap": null,
            "grid_row": null,
            "grid_template_areas": null,
            "grid_template_columns": null,
            "grid_template_rows": null,
            "height": null,
            "justify_content": null,
            "justify_items": null,
            "left": null,
            "margin": null,
            "max_height": null,
            "max_width": null,
            "min_height": null,
            "min_width": null,
            "object_fit": null,
            "object_position": null,
            "order": null,
            "overflow": null,
            "overflow_x": null,
            "overflow_y": null,
            "padding": null,
            "right": null,
            "top": null,
            "visibility": null,
            "width": null
          }
        },
        "8ce5f0fc067445a0996daba24dac7d10": {
          "model_module": "@jupyter-widgets/controls",
          "model_name": "DescriptionStyleModel",
          "model_module_version": "1.5.0",
          "state": {
            "_model_module": "@jupyter-widgets/controls",
            "_model_module_version": "1.5.0",
            "_model_name": "DescriptionStyleModel",
            "_view_count": null,
            "_view_module": "@jupyter-widgets/base",
            "_view_module_version": "1.2.0",
            "_view_name": "StyleView",
            "description_width": ""
          }
        },
        "9281ebb808aa45a1bbd11c83bce977be": {
          "model_module": "@jupyter-widgets/base",
          "model_name": "LayoutModel",
          "model_module_version": "1.2.0",
          "state": {
            "_model_module": "@jupyter-widgets/base",
            "_model_module_version": "1.2.0",
            "_model_name": "LayoutModel",
            "_view_count": null,
            "_view_module": "@jupyter-widgets/base",
            "_view_module_version": "1.2.0",
            "_view_name": "LayoutView",
            "align_content": null,
            "align_items": null,
            "align_self": null,
            "border": null,
            "bottom": null,
            "display": null,
            "flex": null,
            "flex_flow": null,
            "grid_area": null,
            "grid_auto_columns": null,
            "grid_auto_flow": null,
            "grid_auto_rows": null,
            "grid_column": null,
            "grid_gap": null,
            "grid_row": null,
            "grid_template_areas": null,
            "grid_template_columns": null,
            "grid_template_rows": null,
            "height": null,
            "justify_content": null,
            "justify_items": null,
            "left": null,
            "margin": null,
            "max_height": null,
            "max_width": null,
            "min_height": null,
            "min_width": null,
            "object_fit": null,
            "object_position": null,
            "order": null,
            "overflow": null,
            "overflow_x": null,
            "overflow_y": null,
            "padding": null,
            "right": null,
            "top": null,
            "visibility": null,
            "width": null
          }
        },
        "09a7ab6c2bac471388242867cbb3d81b": {
          "model_module": "@jupyter-widgets/controls",
          "model_name": "ProgressStyleModel",
          "model_module_version": "1.5.0",
          "state": {
            "_model_module": "@jupyter-widgets/controls",
            "_model_module_version": "1.5.0",
            "_model_name": "ProgressStyleModel",
            "_view_count": null,
            "_view_module": "@jupyter-widgets/base",
            "_view_module_version": "1.2.0",
            "_view_name": "StyleView",
            "bar_color": null,
            "description_width": ""
          }
        },
        "6abd799692054ebe8a7c5479660ffd93": {
          "model_module": "@jupyter-widgets/base",
          "model_name": "LayoutModel",
          "model_module_version": "1.2.0",
          "state": {
            "_model_module": "@jupyter-widgets/base",
            "_model_module_version": "1.2.0",
            "_model_name": "LayoutModel",
            "_view_count": null,
            "_view_module": "@jupyter-widgets/base",
            "_view_module_version": "1.2.0",
            "_view_name": "LayoutView",
            "align_content": null,
            "align_items": null,
            "align_self": null,
            "border": null,
            "bottom": null,
            "display": null,
            "flex": null,
            "flex_flow": null,
            "grid_area": null,
            "grid_auto_columns": null,
            "grid_auto_flow": null,
            "grid_auto_rows": null,
            "grid_column": null,
            "grid_gap": null,
            "grid_row": null,
            "grid_template_areas": null,
            "grid_template_columns": null,
            "grid_template_rows": null,
            "height": null,
            "justify_content": null,
            "justify_items": null,
            "left": null,
            "margin": null,
            "max_height": null,
            "max_width": null,
            "min_height": null,
            "min_width": null,
            "object_fit": null,
            "object_position": null,
            "order": null,
            "overflow": null,
            "overflow_x": null,
            "overflow_y": null,
            "padding": null,
            "right": null,
            "top": null,
            "visibility": null,
            "width": null
          }
        },
        "e5fc2f42076f47ccb5211c64840a06de": {
          "model_module": "@jupyter-widgets/controls",
          "model_name": "DescriptionStyleModel",
          "model_module_version": "1.5.0",
          "state": {
            "_model_module": "@jupyter-widgets/controls",
            "_model_module_version": "1.5.0",
            "_model_name": "DescriptionStyleModel",
            "_view_count": null,
            "_view_module": "@jupyter-widgets/base",
            "_view_module_version": "1.2.0",
            "_view_name": "StyleView",
            "description_width": ""
          }
        }
      }
    }
  },
  "cells": [
    {
      "cell_type": "markdown",
      "metadata": {
        "id": "view-in-github",
        "colab_type": "text"
      },
      "source": [
        "<a href=\"https://colab.research.google.com/github/plaban1981/Hugging_Face_transformers_topics/blob/main/Image_to_prompt_generator.ipynb\" target=\"_parent\"><img src=\"https://colab.research.google.com/assets/colab-badge.svg\" alt=\"Open In Colab\"/></a>"
      ]
    },
    {
      "cell_type": "code",
      "execution_count": null,
      "metadata": {
        "colab": {
          "base_uri": "https://localhost:8080/"
        },
        "id": "6N2GLGto-WxJ",
        "outputId": "d8654f42-2804-48c4-8246-f2b9c9d26885"
      },
      "outputs": [
        {
          "output_type": "stream",
          "name": "stdout",
          "text": [
            "GPU 0: NVIDIA A100-SXM4-40GB (UUID: GPU-4aebf722-4bd8-0ff9-749d-c133598c660c)\n"
          ]
        }
      ],
      "source": [
        "!nvidia-smi -L"
      ]
    },
    {
      "cell_type": "code",
      "source": [
        "from google.colab import drive\n",
        "drive.mount(\"/content/drive\")"
      ],
      "metadata": {
        "colab": {
          "base_uri": "https://localhost:8080/"
        },
        "id": "aMYibde3knXm",
        "outputId": "40e74be3-94a4-49e8-9aba-5e8f1b382d0b"
      },
      "execution_count": null,
      "outputs": [
        {
          "output_type": "stream",
          "name": "stdout",
          "text": [
            "Mounted at /content/drive\n"
          ]
        }
      ]
    },
    {
      "cell_type": "markdown",
      "source": [
        "https://www.youtube.com/watch?v=2FZ6Tc7Yc_U&list=PLc9_vneTcTGXdjoCD0b_-2x3-HqsvxCZH&index=42\n",
        "\n",
        "https://pharmapsychotic.com/tools.html\n",
        "\n",
        "https://huggingface.co/spaces/pharma/CLIP-Interrogator/blob/main/app.py\n",
        "\n",
        "https://www.youtube.com/watch?v=2EV5SZ1Klro"
      ],
      "metadata": {
        "id": "bzyylD6r-iqu"
      }
    },
    {
      "cell_type": "code",
      "source": [
        "os.mkdir(\"/content/drive/MyDrive/STABLE_DIFFUSION/image_to_prompt/output\")"
      ],
      "metadata": {
        "id": "cNVjvUzBlLAI"
      },
      "execution_count": null,
      "outputs": []
    },
    {
      "cell_type": "code",
      "source": [
        "for files in os.listdir(\"/content/output\"):\n",
        "  shutil.copy(os.path.join(\"/content/output\",files),\"/content/drive/MyDrive/STABLE_DIFFUSION/image_to_prompt/output\")"
      ],
      "metadata": {
        "id": "fhx3xJ8VlQv-"
      },
      "execution_count": null,
      "outputs": []
    },
    {
      "cell_type": "code",
      "source": [
        "import os, subprocess\n",
        "\n",
        "def setup():\n",
        "    install_cmds = [\n",
        "        ['pip', 'install','-q','transformers==4.15.0'],\n",
        "        ['pip', 'install', '-q','gradio'],\n",
        "        ['pip', 'install','-q','open_clip_torch'],\n",
        "        ['pip', 'install', '-q','clip-interrogator'],\n",
        "    ]\n",
        "    for cmd in install_cmds:\n",
        "        print(subprocess.run(cmd, stdout=subprocess.PIPE).stdout.decode('utf-8'))\n",
        "\n",
        "setup()\n"
      ],
      "metadata": {
        "colab": {
          "base_uri": "https://localhost:8080/"
        },
        "id": "ZxyGn5Qv-7UX",
        "outputId": "78952519-53dc-432d-80d5-6c40f54506ca"
      },
      "execution_count": null,
      "outputs": [
        {
          "output_type": "stream",
          "name": "stdout",
          "text": [
            "\n",
            "\n",
            "\n",
            "\n"
          ]
        }
      ]
    },
    {
      "cell_type": "code",
      "source": [
        "! pip install -q transformers==4.15.0\n"
      ],
      "metadata": {
        "colab": {
          "base_uri": "https://localhost:8080/"
        },
        "id": "oNd2Zn28YVIq",
        "outputId": "135f0bec-49c2-4845-be7a-12d6540ecd32"
      },
      "execution_count": 3,
      "outputs": [
        {
          "output_type": "stream",
          "name": "stdout",
          "text": [
            "\u001b[2K     \u001b[90m━━━━━━━━━━━━━━━━━━━━━━━━━━━━━━━━━━━━━━━━\u001b[0m \u001b[32m3.4/3.4 MB\u001b[0m \u001b[31m36.6 MB/s\u001b[0m eta \u001b[36m0:00:00\u001b[0m\n",
            "\u001b[2K     \u001b[90m━━━━━━━━━━━━━━━━━━━━━━━━━━━━━━━━━━━━━━\u001b[0m \u001b[32m199.8/199.8 KB\u001b[0m \u001b[31m23.5 MB/s\u001b[0m eta \u001b[36m0:00:00\u001b[0m\n",
            "\u001b[2K     \u001b[90m━━━━━━━━━━━━━━━━━━━━━━━━━━━━━━━━━━━━━━\u001b[0m \u001b[32m880.6/880.6 KB\u001b[0m \u001b[31m62.5 MB/s\u001b[0m eta \u001b[36m0:00:00\u001b[0m\n",
            "\u001b[?25h  Preparing metadata (setup.py) ... \u001b[?25l\u001b[?25hdone\n",
            "\u001b[2K     \u001b[90m━━━━━━━━━━━━━━━━━━━━━━━━━━━━━━━━━━━━━━━━\u001b[0m \u001b[32m3.3/3.3 MB\u001b[0m \u001b[31m90.1 MB/s\u001b[0m eta \u001b[36m0:00:00\u001b[0m\n",
            "\u001b[?25h  Building wheel for sacremoses (setup.py) ... \u001b[?25l\u001b[?25hdone\n"
          ]
        }
      ]
    },
    {
      "cell_type": "code",
      "source": [
        "import transformers\n",
        "transformers.__version__"
      ],
      "metadata": {
        "colab": {
          "base_uri": "https://localhost:8080/",
          "height": 35
        },
        "id": "IP-1-kySwD5k",
        "outputId": "4cacf14c-4c5b-4085-c881-41c8e4b819a1"
      },
      "execution_count": 4,
      "outputs": [
        {
          "output_type": "execute_result",
          "data": {
            "text/plain": [
              "'4.15.0'"
            ],
            "application/vnd.google.colaboratory.intrinsic+json": {
              "type": "string"
            }
          },
          "metadata": {},
          "execution_count": 4
        }
      ]
    },
    {
      "cell_type": "code",
      "source": [
        "! pip install -q open_clip_torch"
      ],
      "metadata": {
        "id": "SIbfWPDuPDgP"
      },
      "execution_count": 6,
      "outputs": []
    },
    {
      "cell_type": "code",
      "source": [
        "! pip install -q clip-interrogator==0.5.0"
      ],
      "metadata": {
        "colab": {
          "base_uri": "https://localhost:8080/"
        },
        "id": "sTHYbqMuZs2w",
        "outputId": "e3821a7c-552f-4d6b-87f2-950c090c6a80"
      },
      "execution_count": 5,
      "outputs": [
        {
          "output_type": "stream",
          "name": "stdout",
          "text": [
            "\u001b[?25l     \u001b[90m━━━━━━━━━━━━━━━━━━━━━━━━━━━━━━━━━━━━━━━━\u001b[0m \u001b[32m0.0/787.8 KB\u001b[0m \u001b[31m?\u001b[0m eta \u001b[36m-:--:--\u001b[0m\r\u001b[2K     \u001b[91m━━━━━━━━━━━━━━━\u001b[0m\u001b[91m╸\u001b[0m\u001b[90m━━━━━━━━━━━━━━━━━━━━━━━\u001b[0m \u001b[32m317.4/787.8 KB\u001b[0m \u001b[31m9.4 MB/s\u001b[0m eta \u001b[36m0:00:01\u001b[0m\r\u001b[2K     \u001b[90m━━━━━━━━━━━━━━━━━━━━━━━━━━━━━━━━━━━━━━\u001b[0m \u001b[32m787.8/787.8 KB\u001b[0m \u001b[31m14.1 MB/s\u001b[0m eta \u001b[36m0:00:00\u001b[0m\n",
            "\u001b[?25h  Installing build dependencies ... \u001b[?25l\u001b[?25hdone\n",
            "  Getting requirements to build wheel ... \u001b[?25l\u001b[?25hdone\n",
            "  Installing backend dependencies ... \u001b[?25l\u001b[?25hdone\n",
            "  Preparing metadata (pyproject.toml) ... \u001b[?25l\u001b[?25hdone\n",
            "\u001b[2K     \u001b[90m━━━━━━━━━━━━━━━━━━━━━━━━━━━━━━━━━━━━━━━━\u001b[0m \u001b[32m43.0/43.0 KB\u001b[0m \u001b[31m5.5 MB/s\u001b[0m eta \u001b[36m0:00:00\u001b[0m\n",
            "\u001b[?25h  Installing build dependencies ... \u001b[?25l\u001b[?25hdone\n",
            "  Getting requirements to build wheel ... \u001b[?25l\u001b[?25hdone\n",
            "  Installing backend dependencies ... \u001b[?25l\u001b[?25hdone\n",
            "  Preparing metadata (pyproject.toml) ... \u001b[?25l\u001b[?25hdone\n",
            "\u001b[2K     \u001b[90m━━━━━━━━━━━━━━━━━━━━━━━━━━━━━━━━━━━━━━━━\u001b[0m \u001b[32m1.2/1.2 MB\u001b[0m \u001b[31m53.3 MB/s\u001b[0m eta \u001b[36m0:00:00\u001b[0m\n",
            "\u001b[2K     \u001b[90m━━━━━━━━━━━━━━━━━━━━━━━━━━━━━━━━━━━━━━━━\u001b[0m \u001b[32m1.5/1.5 MB\u001b[0m \u001b[31m79.2 MB/s\u001b[0m eta \u001b[36m0:00:00\u001b[0m\n",
            "\u001b[2K     \u001b[90m━━━━━━━━━━━━━━━━━━━━━━━━━━━━━━━━━━━━━━\u001b[0m \u001b[32m377.0/377.0 KB\u001b[0m \u001b[31m34.5 MB/s\u001b[0m eta \u001b[36m0:00:00\u001b[0m\n",
            "\u001b[2K     \u001b[90m━━━━━━━━━━━━━━━━━━━━━━━━━━━━━━━━━━━━━━\u001b[0m \u001b[32m235.4/235.4 KB\u001b[0m \u001b[31m25.8 MB/s\u001b[0m eta \u001b[36m0:00:00\u001b[0m\n",
            "\u001b[?25h  Installing build dependencies ... \u001b[?25l\u001b[?25hdone\n",
            "  Getting requirements to build wheel ... \u001b[?25l\u001b[?25hdone\n",
            "  Installing backend dependencies ... \u001b[?25l\u001b[?25hdone\n",
            "  Preparing metadata (pyproject.toml) ... \u001b[?25l\u001b[?25hdone\n",
            "\u001b[2K     \u001b[90m━━━━━━━━━━━━━━━━━━━━━━━━━━━━━━━━━━━━━━━━\u001b[0m \u001b[32m53.1/53.1 KB\u001b[0m \u001b[31m7.1 MB/s\u001b[0m eta \u001b[36m0:00:00\u001b[0m\n",
            "\u001b[2K     \u001b[90m━━━━━━━━━━━━━━━━━━━━━━━━━━━━━━━━━━━━━━━━\u001b[0m \u001b[32m1.3/1.3 MB\u001b[0m \u001b[31m70.9 MB/s\u001b[0m eta \u001b[36m0:00:00\u001b[0m\n",
            "\u001b[?25h  Building wheel for clip-interrogator (pyproject.toml) ... \u001b[?25l\u001b[?25hdone\n",
            "  Building wheel for blip-ci (pyproject.toml) ... \u001b[?25l\u001b[?25hdone\n",
            "  Building wheel for fairscale (pyproject.toml) ... \u001b[?25l\u001b[?25hdone\n"
          ]
        }
      ]
    },
    {
      "cell_type": "code",
      "source": [
        "from transformers import AutoProcessor, AutoModelForZeroShotImageClassification\n",
        "processor = AutoProcessor.from_pretrained(\"openai/clip-vit-large-patch14\")\n",
        "model = AutoModelForZeroShotImageClassification.from_pretrained(\"openai/clip-vit-large-patch14\")"
      ],
      "metadata": {
        "colab": {
          "base_uri": "https://localhost:8080/",
          "height": 339
        },
        "id": "VRoWNFQQqBxc",
        "outputId": "493a9ed3-cf82-4e1a-ecf1-53f5cfdafd69"
      },
      "execution_count": null,
      "outputs": [
        {
          "output_type": "error",
          "ename": "ImportError",
          "evalue": "ignored",
          "traceback": [
            "\u001b[0;31m---------------------------------------------------------------------------\u001b[0m",
            "\u001b[0;31mImportError\u001b[0m                               Traceback (most recent call last)",
            "\u001b[0;32m<ipython-input-5-a644764bd82b>\u001b[0m in \u001b[0;36m<cell line: 1>\u001b[0;34m()\u001b[0m\n\u001b[0;32m----> 1\u001b[0;31m \u001b[0;32mfrom\u001b[0m \u001b[0mtransformers\u001b[0m \u001b[0;32mimport\u001b[0m \u001b[0mAutoProcessor\u001b[0m\u001b[0;34m,\u001b[0m \u001b[0mAutoModelForZeroShotImageClassification\u001b[0m\u001b[0;34m\u001b[0m\u001b[0;34m\u001b[0m\u001b[0m\n\u001b[0m\u001b[1;32m      2\u001b[0m \u001b[0mprocessor\u001b[0m \u001b[0;34m=\u001b[0m \u001b[0mAutoProcessor\u001b[0m\u001b[0;34m.\u001b[0m\u001b[0mfrom_pretrained\u001b[0m\u001b[0;34m(\u001b[0m\u001b[0;34m\"openai/clip-vit-large-patch14\"\u001b[0m\u001b[0;34m)\u001b[0m\u001b[0;34m\u001b[0m\u001b[0;34m\u001b[0m\u001b[0m\n\u001b[1;32m      3\u001b[0m \u001b[0mmodel\u001b[0m \u001b[0;34m=\u001b[0m \u001b[0mAutoModelForZeroShotImageClassification\u001b[0m\u001b[0;34m.\u001b[0m\u001b[0mfrom_pretrained\u001b[0m\u001b[0;34m(\u001b[0m\u001b[0;34m\"openai/clip-vit-large-patch14\"\u001b[0m\u001b[0;34m)\u001b[0m\u001b[0;34m\u001b[0m\u001b[0;34m\u001b[0m\u001b[0m\n",
            "\u001b[0;31mImportError\u001b[0m: cannot import name 'AutoModelForZeroShotImageClassification' from 'transformers' (/usr/local/lib/python3.9/dist-packages/transformers/__init__.py)",
            "",
            "\u001b[0;31m---------------------------------------------------------------------------\u001b[0;32m\nNOTE: If your import is failing due to a missing package, you can\nmanually install dependencies using either !pip or !apt.\n\nTo view examples of installing some common dependencies, click the\n\"Open Examples\" button below.\n\u001b[0;31m---------------------------------------------------------------------------\u001b[0m\n"
          ],
          "errorDetails": {
            "actions": [
              {
                "action": "open_url",
                "actionText": "Open Examples",
                "url": "/notebooks/snippets/importing_libraries.ipynb"
              }
            ]
          }
        }
      ]
    },
    {
      "cell_type": "code",
      "source": [
        "model.save_pretrained(\"clip-vit-large-patch14\")"
      ],
      "metadata": {
        "id": "vADbIvUswuLH"
      },
      "execution_count": null,
      "outputs": []
    },
    {
      "cell_type": "markdown",
      "source": [
        "## Trying out new download"
      ],
      "metadata": {
        "id": "GtI1w-_qw-Mb"
      }
    },
    {
      "cell_type": "code",
      "source": [
        "from clip_interrogator import Config, Interrogator\n",
        "MODELS = ['ViT-L (best for Stable Diffusion 1.*)', 'ViT-H (best for Stable Diffusion 2.*)']\n",
        "\n",
        "# load BLIP and ViT-L https://huggingface.co/openai/clip-vit-large-patch14\n",
        "config = Config(clip_model_name=\"ViT-L-14/openai\")\n",
        "ci_vitl = Interrogator(config)\n",
        "ci_vitl.clip_model = ci_vitl.clip_model.to(\"cpu\")\n",
        "\n",
        "# load ViT-H https://huggingface.co/laion/CLIP-ViT-H-14-laion2B-s32B-b79K\n",
        "config.blip_model = ci_vitl.blip_model\n",
        "config.clip_model_name = \"ViT-H-14/laion2b_s32b_b79k\"\n",
        "ci_vith = Interrogator(config)\n",
        "ci_vith.clip_model = ci_vith.clip_model.to(\"cpu\")"
      ],
      "metadata": {
        "colab": {
          "base_uri": "https://localhost:8080/",
          "height": 539,
          "referenced_widgets": [
            "ece1912c6d6a4d23a35fe722ccb02196",
            "6eec161fee2d454989715bcd97770e2e",
            "bf0209d90e844586a11c1732a7a4216e",
            "55db315a3714412bb6edd19510c55014",
            "f45f6384442a4e2f9f1dc5b334f96b04",
            "5d67d69746fc4362b1d5c38a558af012",
            "3cf71b5d64784907b35783413256c4b3",
            "94685d3fed414a3197bffe0a40126cf7",
            "46622efecf0943449d6ad47eeb7b401c",
            "5a609d69224f4c9492ab6b7d300e5aed",
            "48334577fc9c475b9045b9f45bd0893e",
            "d717992da538436abfd23690fa68465e",
            "c28e14fd6d0d47bb9979a410353af740",
            "7f4aae135bfb4e5e97269041a0ab60b8",
            "22ff420fdfe246f2ba5179c23b6adf51",
            "d661f21ed56541b5a4a65e0e9ba6fae4",
            "2ee86718e6324631975be2e298b5464c",
            "8bb256b1376e4d5f8f6e1293eea9a0c8",
            "fd83909eccf540e88b519751c3b2ed45",
            "d5e53962e29d4ee78d740f05be2d87ef",
            "d1504d2e18c54379821633db85e66a8c",
            "0b0c32632fff47dea171109be58c4a9b",
            "f4fc0d86f39f4307890443c96f247d6e",
            "964a01f07bb649968ddd238bb2412af7",
            "3cf13373c74849a4b2bf916b8533a46b",
            "ea719a908b8f4fb0b476dc6da350f97f",
            "4131a2d79a19453b9705a3569c00dd0d",
            "50648fe2996241a08686c1b075074ade",
            "0a6b0590c8d344b88089bd6a25c812d8",
            "acb8496f697f417c8ddac2f0606859a5",
            "fbba883674094efaaaf264ffc3d5cd60",
            "81e82dc66ac74311bc62729a3face641",
            "911fef1f47b54abbaa50c8688e26d26e",
            "9ea4e406334649c688fdc8738651bb5a",
            "9a922ff6643948bf8851ae8a192aead4",
            "55fe16537ce940969b63f014f8d46da3",
            "dcc2ae7fed35402cb2797076a2506c5a",
            "5effea1664764e098850763299b309e5",
            "b01cb672bbcd492997f19f3f1d502cf0",
            "947eb11d4dfe4b7fa715c5681bfd1950",
            "2e79da93e43a4d06ae52a304fad515fa",
            "bd223356ee4b49e1925784b2924a4a6e",
            "851ce8d975ab49aaa849447a5e978fef",
            "547800d3d9464b6b88214d7e87e654ba",
            "5d333dc0129442b3a4b0a3add2cb7e21",
            "93a1300cf04743b48294d98544cc8ba3",
            "11aabc86b9114b88802063f9a037cf0d",
            "93c49395439e4d77afd99a0b1ab55098",
            "c51d2ae329044dd29e9234d695479408",
            "d8f67502e64a41a58a906245a5c3a140",
            "17dc0ff1e6dc4136998f1d07aafb7753",
            "016ab88e55cf4862b4197c8d55535ca9",
            "bb40315d6ae645dea63620ff28703d75",
            "4802595960bc484ba7042f156e217463",
            "6b0f10ad52ea4ce5b8c8d0d5c706a1ec",
            "cfa757cec830411e98032d925bc69f00",
            "74111c9d43e74d2c8a9daf41a5de6d4b",
            "172f1618c41048c8be1fe853674aea43",
            "1c4ae20695834de7859de0f44d2cac6c",
            "cd1ece8599d7494fac61c44809127c39",
            "eb51aa7f12b5440c80f7436d6562381c",
            "8ce5f0fc067445a0996daba24dac7d10",
            "9281ebb808aa45a1bbd11c83bce977be",
            "09a7ab6c2bac471388242867cbb3d81b",
            "6abd799692054ebe8a7c5479660ffd93",
            "e5fc2f42076f47ccb5211c64840a06de"
          ]
        },
        "id": "c5Tuo5YkJvUI",
        "outputId": "c6abe19a-1a92-40a9-de8a-4b372c0c4c51"
      },
      "execution_count": 8,
      "outputs": [
        {
          "output_type": "stream",
          "name": "stdout",
          "text": [
            "Loading BLIP model...\n"
          ]
        },
        {
          "output_type": "display_data",
          "data": {
            "text/plain": [
              "Downloading:   0%|          | 0.00/226k [00:00<?, ?B/s]"
            ],
            "application/vnd.jupyter.widget-view+json": {
              "version_major": 2,
              "version_minor": 0,
              "model_id": "ece1912c6d6a4d23a35fe722ccb02196"
            }
          },
          "metadata": {}
        },
        {
          "output_type": "display_data",
          "data": {
            "text/plain": [
              "Downloading:   0%|          | 0.00/28.0 [00:00<?, ?B/s]"
            ],
            "application/vnd.jupyter.widget-view+json": {
              "version_major": 2,
              "version_minor": 0,
              "model_id": "d717992da538436abfd23690fa68465e"
            }
          },
          "metadata": {}
        },
        {
          "output_type": "display_data",
          "data": {
            "text/plain": [
              "Downloading:   0%|          | 0.00/455k [00:00<?, ?B/s]"
            ],
            "application/vnd.jupyter.widget-view+json": {
              "version_major": 2,
              "version_minor": 0,
              "model_id": "f4fc0d86f39f4307890443c96f247d6e"
            }
          },
          "metadata": {}
        },
        {
          "output_type": "display_data",
          "data": {
            "text/plain": [
              "Downloading:   0%|          | 0.00/570 [00:00<?, ?B/s]"
            ],
            "application/vnd.jupyter.widget-view+json": {
              "version_major": 2,
              "version_minor": 0,
              "model_id": "9ea4e406334649c688fdc8738651bb5a"
            }
          },
          "metadata": {}
        },
        {
          "output_type": "display_data",
          "data": {
            "text/plain": [
              "  0%|          | 0.00/1.66G [00:00<?, ?B/s]"
            ],
            "application/vnd.jupyter.widget-view+json": {
              "version_major": 2,
              "version_minor": 0,
              "model_id": "5d333dc0129442b3a4b0a3add2cb7e21"
            }
          },
          "metadata": {}
        },
        {
          "output_type": "stream",
          "name": "stdout",
          "text": [
            "load checkpoint from https://storage.googleapis.com/sfr-vision-language-research/BLIP/models/model_large_caption.pth\n",
            "Loading CLIP model...\n"
          ]
        },
        {
          "output_type": "stream",
          "name": "stderr",
          "text": [
            "100%|████████████████████████████████████████| 933M/933M [00:03<00:00, 248MiB/s]\n",
            "ViT-L-14_openai_artists.safetensors: 100%|██████████| 16.2M/16.2M [00:00<00:00, 116MB/s]\n",
            "ViT-L-14_openai_flavors.safetensors: 100%|██████████| 155M/155M [00:00<00:00, 258MB/s]\n",
            "ViT-L-14_openai_mediums.safetensors: 100%|██████████| 146k/146k [00:00<00:00, 5.86MB/s]\n",
            "ViT-L-14_openai_movements.safetensors: 100%|██████████| 307k/307k [00:00<00:00, 9.03MB/s]\n",
            "ViT-L-14_openai_trendings.safetensors: 100%|██████████| 111k/111k [00:00<00:00, 4.94MB/s]\n",
            "Preprocessing negative: 100%|██████████| 1/1 [00:03<00:00,  3.03s/it]\n"
          ]
        },
        {
          "output_type": "stream",
          "name": "stdout",
          "text": [
            "Loaded CLIP model and data in 18.45 seconds.\n",
            "Loading CLIP model...\n"
          ]
        },
        {
          "output_type": "display_data",
          "data": {
            "text/plain": [
              "Downloading (…)ip_pytorch_model.bin:   0%|          | 0.00/3.94G [00:00<?, ?B/s]"
            ],
            "application/vnd.jupyter.widget-view+json": {
              "version_major": 2,
              "version_minor": 0,
              "model_id": "cfa757cec830411e98032d925bc69f00"
            }
          },
          "metadata": {}
        },
        {
          "output_type": "stream",
          "name": "stderr",
          "text": [
            "ViT-H-14_laion2b_s32b_b79k_artists.safetensors: 100%|██████████| 21.6M/21.6M [00:00<00:00, 122MB/s] \n",
            "ViT-H-14_laion2b_s32b_b79k_flavors.safetensors: 100%|██████████| 207M/207M [00:00<00:00, 248MB/s]\n",
            "ViT-H-14_laion2b_s32b_b79k_mediums.safetensors: 100%|██████████| 195k/195k [00:00<00:00, 6.71MB/s]\n",
            "ViT-H-14_laion2b_s32b_b79k_movements.safetensors: 100%|██████████| 410k/410k [00:00<00:00, 10.2MB/s]\n",
            "ViT-H-14_laion2b_s32b_b79k_trendings.safetensors: 100%|██████████| 148k/148k [00:00<00:00, 5.97MB/s]\n",
            "Preprocessing negative: 100%|██████████| 1/1 [00:00<00:00, 29.71it/s]\n"
          ]
        },
        {
          "output_type": "stream",
          "name": "stdout",
          "text": [
            "Loaded CLIP model and data in 34.73 seconds.\n"
          ]
        }
      ]
    },
    {
      "cell_type": "code",
      "source": [
        "! git lfs install\n",
        "! git clone https://huggingface.co/laion/CLIP-ViT-H-14-laion2B-s32B-b79K"
      ],
      "metadata": {
        "id": "X5c7TiBeRWwR",
        "outputId": "41ba6a6b-9954-483e-b20a-1a476e8deba8",
        "colab": {
          "base_uri": "https://localhost:8080/"
        }
      },
      "execution_count": 11,
      "outputs": [
        {
          "output_type": "stream",
          "name": "stdout",
          "text": [
            "Error: Failed to call git rev-parse --git-dir: exit status 128 \n",
            "Git LFS initialized.\n",
            "Cloning into 'CLIP-ViT-H-14-laion2B-s32B-b79K'...\n",
            "remote: Enumerating objects: 36, done.\u001b[K\n",
            "remote: Counting objects: 100% (3/3), done.\u001b[K\n",
            "remote: Compressing objects: 100% (3/3), done.\u001b[K\n",
            "remote: Total 36 (delta 0), reused 3 (delta 0), pack-reused 33\u001b[K\n",
            "Unpacking objects: 100% (36/36), 1.07 MiB | 6.62 MiB/s, done.\n",
            "Filtering content: 100% (2/2), 7.34 GiB | 110.72 MiB/s, done.\n"
          ]
        }
      ]
    },
    {
      "cell_type": "code",
      "source": [
        "import torch\n",
        "device = \"cuda\" if torch.cuda.is_available() else \"cpu\""
      ],
      "metadata": {
        "id": "3QcXRA1-KKyZ"
      },
      "execution_count": 4,
      "outputs": []
    },
    {
      "cell_type": "code",
      "source": [
        "def image_to_prompt(image, clip_model_name, mode):\n",
        "    # move selected model to GPU and other model to CPU\n",
        "    if clip_model_name == MODELS[0]:\n",
        "        ci_vith.clip_model = ci_vith.clip_model.to(\"cpu\")\n",
        "        ci_vitl.clip_model = ci_vitl.clip_model.to(ci_vitl.device)\n",
        "        ci = ci_vitl\n",
        "    else:\n",
        "        ci_vitl.clip_model = ci_vitl.clip_model.to(\"cpu\")\n",
        "        ci_vith.clip_model = ci_vith.clip_model.to(ci_vith.device)\n",
        "        ci = ci_vith\n",
        "\n",
        "    ci.config.blip_num_beams = 64\n",
        "    ci.config.chunk_size = 2048\n",
        "    ci.config.flavor_intermediate_count = 2048 if clip_model_name == MODELS[0] else 1024\n",
        "\n",
        "    image = image.convert('RGB')\n",
        "    if mode == 'best':\n",
        "        prompt = ci.interrogate(image)\n",
        "    elif mode == 'classic':\n",
        "        prompt = ci.interrogate_classic(image)\n",
        "    elif mode == 'fast':\n",
        "        prompt = ci.interrogate_fast(image)\n",
        "    elif mode == 'negative':\n",
        "        prompt = ci.interrogate_negative(image)\n",
        "\n",
        "    return prompt\n",
        "\n"
      ],
      "metadata": {
        "id": "lu6X9X_pKChn"
      },
      "execution_count": 5,
      "outputs": []
    },
    {
      "cell_type": "markdown",
      "source": [
        "## Test the function"
      ],
      "metadata": {
        "id": "HclPXdgvySqr"
      }
    },
    {
      "cell_type": "code",
      "source": [
        "from IPython.display import clear_output, display\n",
        "image = Image.open(\"/content/robo_owl.jpg\")\n",
        "thumb = image.copy()\n",
        "thumb.thumbnail([224,224])\n",
        "display(thumb)"
      ],
      "metadata": {
        "colab": {
          "base_uri": "https://localhost:8080/",
          "height": 241
        },
        "id": "v184ktR0b3ej",
        "outputId": "99993185-71dc-48cc-a14b-09955d6e22a6"
      },
      "execution_count": 14,
      "outputs": [
        {
          "output_type": "display_data",
          "data": {
            "text/plain": [
              "<PIL.Image.Image image mode=RGB size=224x224 at 0x7F0B10D30D30>"
            ],
            "image/png": "[encoded data removed]"
          },
          "metadata": {}
        }
      ]
    },
    {
      "cell_type": "code",
      "source": [
        "from PIL import Image\n",
        "image_to_prompt(Image.open(\"/content/robo_owl.jpg\"),MODELS[0],'best')"
      ],
      "metadata": {
        "colab": {
          "base_uri": "https://localhost:8080/",
          "height": 157
        },
        "id": "BvTCG7DYySHm",
        "outputId": "ae2be813-b062-48b2-9831-4b6ca59c03b5"
      },
      "execution_count": 13,
      "outputs": [
        {
          "output_type": "stream",
          "name": "stderr",
          "text": [
            "100%|██████████| 55/55 [00:00<00:00, 112.62it/s]\n",
            "Flavor chain:  38%|███▊      | 12/32 [00:10<00:17,  1.15it/s]\n",
            "100%|██████████| 55/55 [00:00<00:00, 200.18it/s]\n",
            "100%|██████████| 6/6 [00:00<00:00, 153.01it/s]\n",
            "100%|██████████| 50/50 [00:00<00:00, 205.97it/s]\n"
          ]
        },
        {
          "output_type": "execute_result",
          "data": {
            "text/plain": [
              "'a close up of a robot owl with glowing eyes, very beautiful digital art, style of ilya kushinov, add text: auto repair, intelligent eyes. symmetrical, brian sum, style of marcin blaszczak, evil artificial intelligence, love death and robots, dribbble, photo 3d, breathtaking digital art, by Alexey Merinov, poster of a techno night'"
            ],
            "application/vnd.google.colaboratory.intrinsic+json": {
              "type": "string"
            }
          },
          "metadata": {},
          "execution_count": 13
        }
      ]
    },
    {
      "cell_type": "code",
      "source": [
        "prompt_list = []"
      ],
      "metadata": {
        "id": "HF2S_VgUTYFC"
      },
      "execution_count": 20,
      "outputs": []
    },
    {
      "cell_type": "code",
      "source": [
        "image_path = \"/content/my_images\"\n",
        "image_list = [os.path.join(image_path,i) for i in os.listdir(image_path)]\n",
        "image_list"
      ],
      "metadata": {
        "colab": {
          "base_uri": "https://localhost:8080/"
        },
        "id": "nEx2O90DUdjI",
        "outputId": "fe323802-7ad9-4375-a640-0c84485f1375"
      },
      "execution_count": 21,
      "outputs": [
        {
          "output_type": "execute_result",
          "data": {
            "text/plain": [
              "['/content/my_images/robo_owl.jpg',\n",
              " '/content/my_images/55aaa9d7a475c281fcb47e242db7feb9.jpg',\n",
              " '/content/my_images/maxresdefault.jpg',\n",
              " '/content/my_images/thetree.png',\n",
              " '/content/my_images/rockland.jpeg']"
            ]
          },
          "metadata": {},
          "execution_count": 21
        }
      ]
    },
    {
      "cell_type": "markdown",
      "source": [
        "## Steps to browse through the image folder to generate prompts"
      ],
      "metadata": {
        "id": "LnKRyuNoz4Ij"
      }
    },
    {
      "cell_type": "code",
      "source": [
        "from PIL import Image\n",
        "from IPython.display import clear_output, display\n",
        "from tqdm import tqdm\n",
        "prompt_list = []\n",
        "for idx, images in enumerate(tqdm(image_list, desc='Generating prompts')):\n",
        "    if idx > 0 and idx % 100 == 0:\n",
        "        clear_output(wait=True)\n",
        "\n",
        "    prompt = image_to_prompt(Image.open(images), MODELS [1], 'best')\n",
        "    prompt_list.append(prompt)"
      ],
      "metadata": {
        "colab": {
          "base_uri": "https://localhost:8080/"
        },
        "id": "HLqkohKzLWEI",
        "outputId": "30f6bab5-4831-4a95-a375-3a0b1b97acaa"
      },
      "execution_count": 22,
      "outputs": [
        {
          "output_type": "stream",
          "name": "stderr",
          "text": [
            "Generating prompts:   0%|          | 0/5 [00:00<?, ?it/s]\n",
            "  0%|          | 0/55 [00:00<?, ?it/s]\u001b[A\n",
            " 29%|██▉       | 16/55 [00:00<00:00, 154.45it/s]\u001b[A\n",
            " 62%|██████▏   | 34/55 [00:00<00:00, 166.60it/s]\u001b[A\n",
            "100%|██████████| 55/55 [00:00<00:00, 168.41it/s]\n",
            "\n",
            "Flavor chain:   0%|          | 0/32 [00:00<?, ?it/s]\u001b[A\n",
            "Flavor chain:   3%|▎         | 1/32 [00:00<00:18,  1.67it/s]\u001b[A\n",
            "Flavor chain:   6%|▋         | 2/32 [00:01<00:18,  1.64it/s]\u001b[A\n",
            "Flavor chain:   9%|▉         | 3/32 [00:01<00:17,  1.64it/s]\u001b[A\n",
            "Flavor chain:  12%|█▎        | 4/32 [00:02<00:17,  1.61it/s]\u001b[A\n",
            "Flavor chain:  16%|█▌        | 5/32 [00:03<00:16,  1.60it/s]\u001b[A\n",
            "Flavor chain:  19%|█▉        | 6/32 [00:03<00:16,  1.57it/s]\u001b[A\n",
            "Flavor chain:  22%|██▏       | 7/32 [00:04<00:17,  1.44it/s]\u001b[A\n",
            "Flavor chain:  25%|██▌       | 8/32 [00:05<00:17,  1.36it/s]\u001b[A\n",
            "Flavor chain:  28%|██▊       | 9/32 [00:06<00:17,  1.29it/s]\u001b[A\n",
            "Flavor chain:  31%|███▏      | 10/32 [00:07<00:17,  1.23it/s]\u001b[A\n",
            "Flavor chain:  34%|███▍      | 11/32 [00:09<00:17,  1.21it/s]\n",
            "\n",
            "  0%|          | 0/55 [00:00<?, ?it/s]\u001b[A\n",
            " 31%|███       | 17/55 [00:00<00:00, 166.53it/s]\u001b[A\n",
            " 62%|██████▏   | 34/55 [00:00<00:00, 167.63it/s]\u001b[A\n",
            "100%|██████████| 55/55 [00:00<00:00, 168.71it/s]\n",
            "\n",
            "100%|██████████| 6/6 [00:00<00:00, 136.11it/s]\n",
            "\n",
            "  0%|          | 0/50 [00:00<?, ?it/s]\u001b[A\n",
            " 38%|███▊      | 19/50 [00:00<00:00, 181.21it/s]\u001b[A\n",
            "100%|██████████| 50/50 [00:00<00:00, 178.09it/s]\n",
            "Generating prompts:  20%|██        | 1/5 [00:15<01:03, 15.98s/it]\n",
            "  0%|          | 0/55 [00:00<?, ?it/s]\u001b[A\n",
            " 31%|███       | 17/55 [00:00<00:00, 168.40it/s]\u001b[A\n",
            " 64%|██████▎   | 35/55 [00:00<00:00, 175.12it/s]\u001b[A\n",
            "100%|██████████| 55/55 [00:00<00:00, 174.76it/s]\n",
            "\n",
            "Flavor chain:   0%|          | 0/32 [00:00<?, ?it/s]\u001b[A\n",
            "Flavor chain:   3%|▎         | 1/32 [00:00<00:18,  1.67it/s]\u001b[A\n",
            "Flavor chain:   6%|▋         | 2/32 [00:01<00:18,  1.66it/s]\u001b[A\n",
            "Flavor chain:   9%|▉         | 3/32 [00:01<00:17,  1.64it/s]\u001b[A\n",
            "Flavor chain:  12%|█▎        | 4/32 [00:02<00:17,  1.62it/s]\u001b[A\n",
            "Flavor chain:  16%|█▌        | 5/32 [00:03<00:16,  1.60it/s]\u001b[A\n",
            "Flavor chain:  19%|█▉        | 6/32 [00:03<00:16,  1.56it/s]\u001b[A\n",
            "Flavor chain:  22%|██▏       | 7/32 [00:04<00:16,  1.54it/s]\u001b[A\n",
            "Flavor chain:  25%|██▌       | 8/32 [00:05<00:15,  1.52it/s]\u001b[A\n",
            "Flavor chain:  28%|██▊       | 9/32 [00:05<00:15,  1.49it/s]\u001b[A\n",
            "Flavor chain:  31%|███▏      | 10/32 [00:06<00:15,  1.46it/s]\u001b[A\n",
            "Flavor chain:  34%|███▍      | 11/32 [00:07<00:14,  1.43it/s]\u001b[A\n",
            "Flavor chain:  38%|███▊      | 12/32 [00:07<00:14,  1.40it/s]\u001b[A\n",
            "Flavor chain:  41%|████      | 13/32 [00:08<00:13,  1.38it/s]\u001b[A\n",
            "Flavor chain:  44%|████▍     | 14/32 [00:10<00:13,  1.36it/s]\n",
            "\n",
            "  0%|          | 0/55 [00:00<?, ?it/s]\u001b[A\n",
            " 31%|███       | 17/55 [00:00<00:00, 162.10it/s]\u001b[A\n",
            " 64%|██████▎   | 35/55 [00:00<00:00, 170.95it/s]\u001b[A\n",
            "100%|██████████| 55/55 [00:00<00:00, 169.66it/s]\n",
            "\n",
            "100%|██████████| 6/6 [00:00<00:00, 133.49it/s]\n",
            "\n",
            "  0%|          | 0/50 [00:00<?, ?it/s]\u001b[A\n",
            " 36%|███▌      | 18/50 [00:00<00:00, 179.19it/s]\u001b[A\n",
            "100%|██████████| 50/50 [00:00<00:00, 177.60it/s]\n",
            "Generating prompts:  40%|████      | 2/5 [00:32<00:49, 16.52s/it]\n",
            "  0%|          | 0/55 [00:00<?, ?it/s]\u001b[A\n",
            " 31%|███       | 17/55 [00:00<00:00, 169.17it/s]\u001b[A\n",
            " 64%|██████▎   | 35/55 [00:00<00:00, 173.18it/s]\u001b[A\n",
            "100%|██████████| 55/55 [00:00<00:00, 173.83it/s]\n",
            "\n",
            "Flavor chain:   0%|          | 0/32 [00:00<?, ?it/s]\u001b[A\n",
            "Flavor chain:   3%|▎         | 1/32 [00:00<00:18,  1.66it/s]\u001b[A\n",
            "Flavor chain:   6%|▋         | 2/32 [00:01<00:18,  1.64it/s]\u001b[A\n",
            "Flavor chain:   9%|▉         | 3/32 [00:01<00:18,  1.60it/s]\u001b[A\n",
            "Flavor chain:  12%|█▎        | 4/32 [00:02<00:17,  1.59it/s]\u001b[A\n",
            "Flavor chain:  16%|█▌        | 5/32 [00:03<00:17,  1.56it/s]\u001b[A\n",
            "Flavor chain:  19%|█▉        | 6/32 [00:03<00:16,  1.54it/s]\u001b[A\n",
            "Flavor chain:  22%|██▏       | 7/32 [00:04<00:16,  1.52it/s]\u001b[A\n",
            "Flavor chain:  25%|██▌       | 8/32 [00:05<00:15,  1.50it/s]\u001b[A\n",
            "Flavor chain:  28%|██▊       | 9/32 [00:05<00:15,  1.47it/s]\u001b[A\n",
            "Flavor chain:  31%|███▏      | 10/32 [00:06<00:15,  1.46it/s]\u001b[A\n",
            "Flavor chain:  34%|███▍      | 11/32 [00:07<00:14,  1.44it/s]\u001b[A\n",
            "Flavor chain:  38%|███▊      | 12/32 [00:08<00:14,  1.41it/s]\u001b[A\n",
            "Flavor chain:  41%|████      | 13/32 [00:08<00:13,  1.39it/s]\u001b[A\n",
            "Flavor chain:  44%|████▍     | 14/32 [00:09<00:13,  1.36it/s]\u001b[A\n",
            "Flavor chain:  47%|████▋     | 15/32 [00:11<00:12,  1.35it/s]\n",
            "\n",
            "  0%|          | 0/55 [00:00<?, ?it/s]\u001b[A\n",
            " 29%|██▉       | 16/55 [00:00<00:00, 157.66it/s]\u001b[A\n",
            " 62%|██████▏   | 34/55 [00:00<00:00, 169.40it/s]\u001b[A\n",
            "100%|██████████| 55/55 [00:00<00:00, 168.90it/s]\n",
            "\n",
            "100%|██████████| 6/6 [00:00<00:00, 135.39it/s]\n",
            "\n",
            "  0%|          | 0/50 [00:00<?, ?it/s]\u001b[A\n",
            " 38%|███▊      | 19/50 [00:00<00:00, 182.23it/s]\u001b[A\n",
            "100%|██████████| 50/50 [00:00<00:00, 179.89it/s]\n",
            "Generating prompts:  60%|██████    | 3/5 [00:50<00:34, 17.06s/it]\n",
            "  0%|          | 0/55 [00:00<?, ?it/s]\u001b[A\n",
            " 31%|███       | 17/55 [00:00<00:00, 164.09it/s]\u001b[A\n",
            " 62%|██████▏   | 34/55 [00:00<00:00, 74.28it/s] \u001b[A\n",
            "100%|██████████| 55/55 [00:00<00:00, 102.12it/s]\n",
            "\n",
            "Flavor chain:   0%|          | 0/32 [00:00<?, ?it/s]\u001b[A\n",
            "Flavor chain:   3%|▎         | 1/32 [00:00<00:18,  1.64it/s]\u001b[A\n",
            "Flavor chain:   6%|▋         | 2/32 [00:01<00:18,  1.63it/s]\u001b[A\n",
            "Flavor chain:   9%|▉         | 3/32 [00:01<00:18,  1.61it/s]\u001b[A\n",
            "Flavor chain:  12%|█▎        | 4/32 [00:02<00:17,  1.59it/s]\u001b[A\n",
            "Flavor chain:  16%|█▌        | 5/32 [00:03<00:17,  1.56it/s]\u001b[A\n",
            "Flavor chain:  19%|█▉        | 6/32 [00:03<00:16,  1.53it/s]\u001b[A\n",
            "Flavor chain:  22%|██▏       | 7/32 [00:04<00:16,  1.51it/s]\u001b[A\n",
            "Flavor chain:  25%|██▌       | 8/32 [00:05<00:16,  1.49it/s]\u001b[A\n",
            "Flavor chain:  28%|██▊       | 9/32 [00:05<00:15,  1.46it/s]\u001b[A\n",
            "Flavor chain:  31%|███▏      | 10/32 [00:06<00:15,  1.44it/s]\u001b[A\n",
            "Flavor chain:  34%|███▍      | 11/32 [00:07<00:14,  1.42it/s]\u001b[A\n",
            "Flavor chain:  38%|███▊      | 12/32 [00:08<00:14,  1.40it/s]\u001b[A\n",
            "Flavor chain:  41%|████      | 13/32 [00:08<00:13,  1.38it/s]\u001b[A\n",
            "Flavor chain:  44%|████▍     | 14/32 [00:10<00:13,  1.35it/s]\n",
            "\n",
            "  0%|          | 0/55 [00:00<?, ?it/s]\u001b[A\n",
            " 31%|███       | 17/55 [00:00<00:00, 164.39it/s]\u001b[A\n",
            " 64%|██████▎   | 35/55 [00:00<00:00, 170.76it/s]\u001b[A\n",
            "100%|██████████| 55/55 [00:00<00:00, 171.41it/s]\n",
            "\n",
            "100%|██████████| 6/6 [00:00<00:00, 127.59it/s]\n",
            "\n",
            "  0%|          | 0/50 [00:00<?, ?it/s]\u001b[A\n",
            " 38%|███▊      | 19/50 [00:00<00:00, 180.57it/s]\u001b[A\n",
            "100%|██████████| 50/50 [00:00<00:00, 178.47it/s]\n",
            "Generating prompts:  80%|████████  | 4/5 [01:09<00:17, 17.79s/it]\n",
            "  0%|          | 0/55 [00:00<?, ?it/s]\u001b[A\n",
            " 31%|███       | 17/55 [00:00<00:00, 164.55it/s]\u001b[A\n",
            " 64%|██████▎   | 35/55 [00:00<00:00, 172.82it/s]\u001b[A\n",
            "100%|██████████| 55/55 [00:00<00:00, 173.67it/s]\n",
            "\n",
            "Flavor chain:   0%|          | 0/32 [00:00<?, ?it/s]\u001b[A\n",
            "Flavor chain:   3%|▎         | 1/32 [00:00<00:18,  1.68it/s]\u001b[A\n",
            "Flavor chain:   6%|▋         | 2/32 [00:01<00:18,  1.64it/s]\u001b[A\n",
            "Flavor chain:   9%|▉         | 3/32 [00:01<00:18,  1.60it/s]\u001b[A\n",
            "Flavor chain:  12%|█▎        | 4/32 [00:02<00:17,  1.57it/s]\u001b[A\n",
            "Flavor chain:  16%|█▌        | 5/32 [00:03<00:17,  1.53it/s]\u001b[A\n",
            "Flavor chain:  19%|█▉        | 6/32 [00:03<00:17,  1.50it/s]\u001b[A\n",
            "Flavor chain:  22%|██▏       | 7/32 [00:04<00:17,  1.47it/s]\u001b[A\n",
            "Flavor chain:  25%|██▌       | 8/32 [00:05<00:16,  1.44it/s]\u001b[A\n",
            "Flavor chain:  28%|██▊       | 9/32 [00:06<00:17,  1.32it/s]\n",
            "\n",
            "  0%|          | 0/55 [00:00<?, ?it/s]\u001b[A\n",
            " 31%|███       | 17/55 [00:00<00:00, 163.60it/s]\u001b[A\n",
            " 64%|██████▎   | 35/55 [00:00<00:00, 171.13it/s]\u001b[A\n",
            "100%|██████████| 55/55 [00:00<00:00, 172.39it/s]\n",
            "\n",
            "100%|██████████| 6/6 [00:00<00:00, 134.08it/s]\n",
            "\n",
            "  0%|          | 0/50 [00:00<?, ?it/s]\u001b[A\n",
            " 36%|███▌      | 18/50 [00:00<00:00, 178.66it/s]\u001b[A\n",
            "100%|██████████| 50/50 [00:00<00:00, 176.49it/s]\n",
            "Generating prompts: 100%|██████████| 5/5 [01:22<00:00, 16.58s/it]\n"
          ]
        }
      ]
    },
    {
      "cell_type": "code",
      "source": [
        "prompt_list"
      ],
      "metadata": {
        "colab": {
          "base_uri": "https://localhost:8080/"
        },
        "id": "seHGLfYAYeqq",
        "outputId": "a1a6761b-f2d9-4cc6-f464-32a496ad721f"
      },
      "execution_count": 23,
      "outputs": [
        {
          "output_type": "execute_result",
          "data": {
            "text/plain": [
              "['a close up of a robot owl with glowing eyes, unreal engine character art, from transformers, by Zlatyu Boyadzhiev, cute owl, made up of many bits of metal, unreal engine ”, robot face bust, painting by android jones, angry 8 k, character design contest winner, cgsociety - w 1 0 2 4 - n 8 - i',\n",
              " 'a man riding a horse through a lush green valley, feng zhu concept art, giant medieval tower concept art, mobile wallpaper, lovely valley, inspired by Stephan Martiniere, zenithal view, <mmorpgs scene, beautiful scenic view, anime beautiful peace scene, vertical wallpaper, beautiful render of a fairytale, sunny landscape, beautiful rendering, an amazing landscape image',\n",
              " 'a man standing on top of a snow covered mountain, andreas rocha and john howe, world seen only through a portal, teaser, gigantic mountains, from of thrones, speedpaint, himalayas, 2029, omg, devils horns, animation still screencap, jaw dropping beauty, art of angrysnail, 8 0 s art, by Doris Blair',\n",
              " 'a castle sitting on top of a mountain next to a body of water, by Kim Keever, winter scene fantasy, greek fantasy panorama, stormy snowy fiji mountain, trees and cliffs, by Dan Scott, jagged metal landscape, photomanipulation, paul barson, himalayas, version 3, ominous! landscape of north bend, 1 5 0 0, cliff side',\n",
              " 'a group of people standing on top of a mountain, d&d trending on artstation, the middle of a valley, mobile wallpaper, cgsociety uhd 4k highly detailed, whiterun in the style of pixar, lonely landscape, square enix cinematic art, in a vast serene landscape, scenic landscape']"
            ]
          },
          "metadata": {},
          "execution_count": 23
        }
      ]
    },
    {
      "cell_type": "markdown",
      "source": [
        "#### Save the prompts to prompts.csv file"
      ],
      "metadata": {
        "id": "0i2rXxMzUE-X"
      }
    },
    {
      "cell_type": "code",
      "source": [
        "os.mkdir(\"/content/output\")"
      ],
      "metadata": {
        "id": "NLQjYgihd7sE"
      },
      "execution_count": 26,
      "outputs": []
    },
    {
      "cell_type": "code",
      "source": [
        "import csv\n",
        "from IPython.display import clear_output, display\n",
        "folder_path = \"/content/output\"\n",
        "csv_path = os.path.join(folder_path, 'desc.csv')\n",
        "def generate_prompt_csv(csv_path,image_list,prompt_list):\n",
        "  with open(csv_path, 'w', encoding='utf-8', newline='') as f:\n",
        "    w = csv.writer(f, quoting=csv.QUOTE_MINIMAL)\n",
        "    w.writerow(['image', 'prompt'])\n",
        "    for image_path, prompt in zip(image_list,prompt_list):\n",
        "      if len(prompt):\n",
        "        w.writerow([image_path, prompt])\n",
        "\n",
        "        image = Image.open(image_path)\n",
        "        thumb = image.copy()\n",
        "        thumb.thumbnail([256, 256])\n",
        "        display(thumb)\n",
        "        print(prompt)\n",
        "        print(f\"\\n\\n\\n\\nGenerated {len(prompt)} prompts and saved to {csv_path}, enjoy!\")\n",
        "      else:\n",
        "        print(f\"\\n\\n\\n\\nGenerated {len(prompt)} prompts \")\n",
        "    print(f\"Prompt saved at {csv_path}\")"
      ],
      "metadata": {
        "id": "6exEsJg4UKY8"
      },
      "execution_count": 24,
      "outputs": []
    },
    {
      "cell_type": "markdown",
      "source": [
        "## Generate csv file"
      ],
      "metadata": {
        "id": "aEbeQJMgbZy8"
      }
    },
    {
      "cell_type": "code",
      "source": [
        "generate_prompt_csv(csv_path,image_list,prompt_list)"
      ],
      "metadata": {
        "colab": {
          "base_uri": "https://localhost:8080/",
          "height": 1000
        },
        "id": "a89V5c_Ebbwo",
        "outputId": "61e0e56c-3855-4bfd-880d-7b07e55924bf"
      },
      "execution_count": 27,
      "outputs": [
        {
          "output_type": "display_data",
          "data": {
            "text/plain": [
              "<PIL.Image.Image image mode=RGB size=256x256 at 0x7F0B10DBBB80>"
            ],
            "image/png": "[encoded data removed]"
          },
          "metadata": {}
        },
        {
          "output_type": "stream",
          "name": "stdout",
          "text": [
            "a close up of a robot owl with glowing eyes, unreal engine character art, from transformers, by Zlatyu Boyadzhiev, cute owl, made up of many bits of metal, unreal engine ”, robot face bust, painting by android jones, angry 8 k, character design contest winner, cgsociety - w 1 0 2 4 - n 8 - i\n",
            "\n",
            "\n",
            "\n",
            "\n",
            "Generated 292 prompts and saved to /content/output/desc.csv, enjoy!\n"
          ]
        },
        {
          "output_type": "display_data",
          "data": {
            "text/plain": [
              "<PIL.Image.Image image mode=RGB size=256x135 at 0x7F0B10DBBA90>"
            ],
            "image/png": "[encoded data removed]"
          },
          "metadata": {}
        },
        {
          "output_type": "stream",
          "name": "stdout",
          "text": [
            "a man riding a horse through a lush green valley, feng zhu concept art, giant medieval tower concept art, mobile wallpaper, lovely valley, inspired by Stephan Martiniere, zenithal view, <mmorpgs scene, beautiful scenic view, anime beautiful peace scene, vertical wallpaper, beautiful render of a fairytale, sunny landscape, beautiful rendering, an amazing landscape image\n",
            "\n",
            "\n",
            "\n",
            "\n",
            "Generated 371 prompts and saved to /content/output/desc.csv, enjoy!\n"
          ]
        },
        {
          "output_type": "display_data",
          "data": {
            "text/plain": [
              "<PIL.Image.Image image mode=RGB size=256x144 at 0x7F0B013E9610>"
            ],
            "image/png": "[encoded data removed]"
          },
          "metadata": {}
        },
        {
          "output_type": "stream",
          "name": "stdout",
          "text": [
            "a man standing on top of a snow covered mountain, andreas rocha and john howe, world seen only through a portal, teaser, gigantic mountains, from of thrones, speedpaint, himalayas, 2029, omg, devils horns, animation still screencap, jaw dropping beauty, art of angrysnail, 8 0 s art, by Doris Blair\n",
            "\n",
            "\n",
            "\n",
            "\n",
            "Generated 298 prompts and saved to /content/output/desc.csv, enjoy!\n"
          ]
        },
        {
          "output_type": "display_data",
          "data": {
            "text/plain": [
              "<PIL.Image.Image image mode=RGB size=256x158 at 0x7F0B10DBBAF0>"
            ],
            "image/png": "[encoded data removed]"
          },
          "metadata": {}
        },
        {
          "output_type": "stream",
          "name": "stdout",
          "text": [
            "a castle sitting on top of a mountain next to a body of water, by Kim Keever, winter scene fantasy, greek fantasy panorama, stormy snowy fiji mountain, trees and cliffs, by Dan Scott, jagged metal landscape, photomanipulation, paul barson, himalayas, version 3, ominous! landscape of north bend, 1 5 0 0, cliff side\n",
            "\n",
            "\n",
            "\n",
            "\n",
            "Generated 315 prompts and saved to /content/output/desc.csv, enjoy!\n"
          ]
        },
        {
          "output_type": "display_data",
          "data": {
            "text/plain": [
              "<PIL.Image.Image image mode=RGB size=256x158 at 0x7F0B014041C0>"
            ],
            "image/png": "[encoded data removed]"
          },
          "metadata": {}
        },
        {
          "output_type": "stream",
          "name": "stdout",
          "text": [
            "a group of people standing on top of a mountain, d&d trending on artstation, the middle of a valley, mobile wallpaper, cgsociety uhd 4k highly detailed, whiterun in the style of pixar, lonely landscape, square enix cinematic art, in a vast serene landscape, scenic landscape\n",
            "\n",
            "\n",
            "\n",
            "\n",
            "Generated 274 prompts and saved to /content/output/desc.csv, enjoy!\n",
            "Prompt saved at /content/output/desc.csv\n"
          ]
        }
      ]
    },
    {
      "cell_type": "markdown",
      "source": [
        "## Analyze image"
      ],
      "metadata": {
        "id": "oyfZt2iYb5Vy"
      }
    },
    {
      "cell_type": "code",
      "source": [
        "def image_analysis(image, clip_model_name):\n",
        "    # move selected model to GPU and other model to CPU\n",
        "    if clip_model_name == MODELS[0]:\n",
        "        ci_vith.clip_model = ci_vith.clip_model.to(\"cpu\")\n",
        "        ci_vitl.clip_model = ci_vitl.clip_model.to(ci_vitl.device)\n",
        "        ci = ci_vitl\n",
        "    else:\n",
        "        ci_vitl.clip_model = ci_vitl.clip_model.to(\"cpu\")\n",
        "        ci_vith.clip_model = ci_vith.clip_model.to(ci_vith.device)\n",
        "        ci = ci_vith\n",
        "\n",
        "    image = image.convert('RGB')\n",
        "    image_features = ci.image_to_features(image)\n",
        "\n",
        "    top_mediums = ci.mediums.rank(image_features, 5)\n",
        "    top_artists = ci.artists.rank(image_features, 5)\n",
        "    top_movements = ci.movements.rank(image_features, 5)\n",
        "    top_trendings = ci.trendings.rank(image_features, 5)\n",
        "    top_flavors = ci.flavors.rank(image_features, 5)\n",
        "\n",
        "    medium_ranks = {medium: sim for medium, sim in zip(top_mediums, ci.similarities(image_features, top_mediums))}\n",
        "    artist_ranks = {artist: sim for artist, sim in zip(top_artists, ci.similarities(image_features, top_artists))}\n",
        "    movement_ranks = {movement: sim for movement, sim in zip(top_movements, ci.similarities(image_features, top_movements))}\n",
        "    trending_ranks = {trending: sim for trending, sim in zip(top_trendings, ci.similarities(image_features, top_trendings))}\n",
        "    flavor_ranks = {flavor: sim for flavor, sim in zip(top_flavors, ci.similarities(image_features, top_flavors))}\n",
        "    \n",
        "    return medium_ranks, artist_ranks, movement_ranks, trending_ranks, flavor_ranks"
      ],
      "metadata": {
        "id": "OrqpYZh8b8U8"
      },
      "execution_count": null,
      "outputs": []
    },
    {
      "cell_type": "code",
      "source": [
        "image_list"
      ],
      "metadata": {
        "colab": {
          "base_uri": "https://localhost:8080/"
        },
        "id": "viAU6ZN_fh-y",
        "outputId": "a685bfe0-5d1a-4b2a-9cb9-a628d9cb8a70"
      },
      "execution_count": null,
      "outputs": [
        {
          "output_type": "execute_result",
          "data": {
            "text/plain": [
              "['/content/my_images/maxresdefault.jpg',\n",
              " '/content/my_images/rockland.jpeg',\n",
              " '/content/my_images/55aaa9d7a475c281fcb47e242db7feb9.jpg',\n",
              " '/content/my_images/thetree.png']"
            ]
          },
          "metadata": {},
          "execution_count": 57
        }
      ]
    },
    {
      "cell_type": "code",
      "source": [
        "medium_list = []\n",
        "artist_list = []\n",
        "movement_list = []\n",
        "trending_list = []\n",
        "flavour_list = []\n",
        "image_dict = {}\n",
        "for idx, images in enumerate(tqdm(image_list, desc='Analyzing images')):\n",
        "   print(images)\n",
        "   medium_ranks, artist_ranks, movement_ranks, trending_ranks, flavor_ranks = image_analysis(Image.open(images), MODELS[1])\n",
        "       \n",
        "   image_dict[images] = {\"medium\":medium_ranks,\n",
        "                                \"artist\":artist_ranks,\n",
        "                                \"trending\":trending_ranks,\n",
        "                                \"flavor\":flavor_ranks}"
      ],
      "metadata": {
        "colab": {
          "base_uri": "https://localhost:8080/"
        },
        "id": "nKYgGJRecA1D",
        "outputId": "cdd811c2-2408-4b07-a8aa-a58eebcacf67"
      },
      "execution_count": null,
      "outputs": [
        {
          "output_type": "stream",
          "name": "stderr",
          "text": [
            "\rAnalyzing images:   0%|          | 0/4 [00:00<?, ?it/s]"
          ]
        },
        {
          "output_type": "stream",
          "name": "stdout",
          "text": [
            "/content/my_images/maxresdefault.jpg\n"
          ]
        },
        {
          "output_type": "stream",
          "name": "stderr",
          "text": [
            "\n",
            "100%|██████████| 6/6 [00:00<00:00, 125.03it/s]\n",
            "\n",
            "  0%|          | 0/50 [00:00<?, ?it/s]\u001b[A\n",
            " 40%|████      | 20/50 [00:00<00:00, 192.41it/s]\u001b[A\n",
            "100%|██████████| 50/50 [00:00<00:00, 189.84it/s]\n",
            "Analyzing images:  25%|██▌       | 1/4 [00:00<00:01,  1.96it/s]"
          ]
        },
        {
          "output_type": "stream",
          "name": "stdout",
          "text": [
            "/content/my_images/rockland.jpeg\n"
          ]
        },
        {
          "output_type": "stream",
          "name": "stderr",
          "text": [
            "\n",
            "100%|██████████| 6/6 [00:00<00:00, 143.51it/s]\n",
            "\n",
            "  0%|          | 0/50 [00:00<?, ?it/s]\u001b[A\n",
            " 40%|████      | 20/50 [00:00<00:00, 190.76it/s]\u001b[A\n",
            "100%|██████████| 50/50 [00:00<00:00, 184.87it/s]\n",
            "Analyzing images:  50%|█████     | 2/4 [00:01<00:01,  1.98it/s]"
          ]
        },
        {
          "output_type": "stream",
          "name": "stdout",
          "text": [
            "/content/my_images/55aaa9d7a475c281fcb47e242db7feb9.jpg\n"
          ]
        },
        {
          "output_type": "stream",
          "name": "stderr",
          "text": [
            "\n",
            "100%|██████████| 6/6 [00:00<00:00, 134.38it/s]\n",
            "\n",
            "  0%|          | 0/50 [00:00<?, ?it/s]\u001b[A\n",
            "  8%|▊         | 4/50 [00:00<00:02, 18.35it/s]\u001b[A\n",
            " 46%|████▌     | 23/50 [00:00<00:00, 84.69it/s]\u001b[A\n",
            "100%|██████████| 50/50 [00:00<00:00, 106.01it/s]\n",
            "Analyzing images:  75%|███████▌  | 3/4 [00:01<00:00,  1.64it/s]"
          ]
        },
        {
          "output_type": "stream",
          "name": "stdout",
          "text": [
            "/content/my_images/thetree.png\n"
          ]
        },
        {
          "output_type": "stream",
          "name": "stderr",
          "text": [
            "\n",
            "100%|██████████| 6/6 [00:00<00:00, 142.15it/s]\n",
            "\n",
            "  0%|          | 0/50 [00:00<?, ?it/s]\u001b[A\n",
            " 40%|████      | 20/50 [00:00<00:00, 192.36it/s]\u001b[A\n",
            "100%|██████████| 50/50 [00:00<00:00, 179.39it/s]\n",
            "Analyzing images: 100%|██████████| 4/4 [00:02<00:00,  1.77it/s]\n"
          ]
        }
      ]
    },
    {
      "cell_type": "code",
      "source": [
        "image_dict"
      ],
      "metadata": {
        "colab": {
          "base_uri": "https://localhost:8080/"
        },
        "id": "culDJvlUfMPX",
        "outputId": "da071377-f681-4eb7-c1c8-4380a442f29f"
      },
      "execution_count": null,
      "outputs": [
        {
          "output_type": "execute_result",
          "data": {
            "text/plain": [
              "{'/content/my_images/maxresdefault.jpg': {'medium': {'a matte painting': 0.289794921875,\n",
              "   'concept art': 0.281005859375,\n",
              "   'a detailed matte painting': 0.275390625,\n",
              "   'a digital painting': 0.2490234375,\n",
              "   'digital art': 0.2314453125},\n",
              "  'artist': {'inspired by John Howe': 0.30224609375,\n",
              "   'inspired by Andreas Rocha': 0.294189453125,\n",
              "   'inspired by Noah Bradley': 0.29345703125,\n",
              "   'by Izidor Kršnjavi': 0.2841796875,\n",
              "   'by Anton Räderscheidt': 0.28173828125},\n",
              "  'trending': {'deviantart': 0.2406005859375,\n",
              "   'Artstation': 0.239501953125,\n",
              "   'Artstation contest winner': 0.2381591796875,\n",
              "   'trending on deviantart': 0.232177734375,\n",
              "   'deviantart contest winner': 0.224853515625},\n",
              "  'flavor': {'icy mountains': 0.334228515625,\n",
              "   'dota! matte painting concept art': 0.322021484375,\n",
              "   'dota matte painting concept art': 0.3212890625,\n",
              "   \"theme :'icewind dale '\": 0.31884765625,\n",
              "   'lord of the rings concept art': 0.315185546875}},\n",
              " '/content/my_images/rockland.jpeg': {'medium': {'a matte painting': 0.315185546875,\n",
              "   'a detailed matte painting': 0.31201171875,\n",
              "   'concept art': 0.2841796875,\n",
              "   'a digital painting': 0.23388671875,\n",
              "   'a digital rendering': 0.2322998046875},\n",
              "  'artist': {'by Raphael Lacoste': 0.3369140625,\n",
              "   'inspired by Raphael Lacoste': 0.3330078125,\n",
              "   'inspired by Noah Bradley': 0.327880859375,\n",
              "   'by Aleksander Gine': 0.32666015625,\n",
              "   'by Johannes Voss': 0.323486328125},\n",
              "  'trending': {'Artstation contest winner': 0.29248046875,\n",
              "   'cgsociety contest winner': 0.28564453125,\n",
              "   'trending on Artstation': 0.2744140625,\n",
              "   'Artstation': 0.273193359375,\n",
              "   'trending on cgsociety': 0.271728515625},\n",
              "  'flavor': {'an epic landscape': 0.362060546875,\n",
              "   'most epic landscape': 0.353515625,\n",
              "   'concept art. epic landscape': 0.35302734375,\n",
              "   'silvain sarrailh': 0.3505859375,\n",
              "   'middle earth landscape': 0.345947265625}},\n",
              " '/content/my_images/55aaa9d7a475c281fcb47e242db7feb9.jpg': {'medium': {'a matte painting': 0.30908203125,\n",
              "   'a detailed matte painting': 0.298095703125,\n",
              "   'concept art': 0.2880859375,\n",
              "   'a digital rendering': 0.23193359375,\n",
              "   'a digital painting': 0.226318359375},\n",
              "  'artist': {'by Zhou Chen': 0.321044921875,\n",
              "   'by Aleksander Gine': 0.316162109375,\n",
              "   'by Yang J': 0.313232421875,\n",
              "   'by Raymond Han': 0.312255859375,\n",
              "   'by Ruan Jia': 0.30908203125},\n",
              "  'trending': {'Artstation contest winner': 0.2744140625,\n",
              "   'cgsociety contest winner': 0.25537109375,\n",
              "   'deviantart contest winner': 0.25341796875,\n",
              "   'Artstation': 0.25,\n",
              "   'cg society contest winner': 0.2490234375},\n",
              "  'flavor': {'impressive fantasy landscape': 0.36962890625,\n",
              "   'fantasy art landscape': 0.3623046875,\n",
              "   'high fantasy landscape': 0.359130859375,\n",
              "   'concept art. epic landscape': 0.357666015625,\n",
              "   'dota matte painting concept art': 0.35595703125}},\n",
              " '/content/my_images/thetree.png': {'medium': {'a matte painting': 0.337646484375,\n",
              "   'a detailed matte painting': 0.334716796875,\n",
              "   'concept art': 0.25927734375,\n",
              "   'a digital rendering': 0.2454833984375,\n",
              "   'a digital painting': 0.2451171875},\n",
              "  'artist': {'inspired by Johfra Bosschart': 0.33056640625,\n",
              "   'inspired by Franz Sedlacek': 0.329833984375,\n",
              "   'inspired by Kim Keever': 0.314697265625,\n",
              "   'inspired by Raphael Lacoste': 0.31298828125,\n",
              "   'inspired by Patrick Nasmyth': 0.3115234375},\n",
              "  'trending': {'zbrush central contest winner': 0.2447509765625,\n",
              "   'cgsociety contest winner': 0.2431640625,\n",
              "   'cg society contest winner': 0.2415771484375,\n",
              "   'deviantart': 0.235107421875,\n",
              "   'deviantart contest winner': 0.228515625},\n",
              "  'flavor': {'dramatic matte painting': 0.35302734375,\n",
              "   'fantasy matte painting': 0.35107421875,\n",
              "   'digital matte painting': 0.349609375,\n",
              "   '3d rendered matte painting': 0.34814453125,\n",
              "   'high fantasy matte painting': 0.34814453125}}}"
            ]
          },
          "metadata": {},
          "execution_count": 59
        }
      ]
    },
    {
      "cell_type": "code",
      "source": [
        "import pandas as pd\n",
        "analyze = pd.DataFrame(image_dict).T.reset_index().rename(columns={'index':'Image_path'})"
      ],
      "metadata": {
        "id": "ak7_ySFJgbCj"
      },
      "execution_count": null,
      "outputs": []
    },
    {
      "cell_type": "code",
      "source": [
        "analyze.to_csv('/content/output/analyze.csv')"
      ],
      "metadata": {
        "id": "ikukVnLmjo0L"
      },
      "execution_count": null,
      "outputs": []
    },
    {
      "cell_type": "markdown",
      "source": [
        "## Download images"
      ],
      "metadata": {
        "id": "heOdVJHab2q7"
      }
    },
    {
      "cell_type": "code",
      "source": [
        "!wget \"https://i.ytimg.com/vi/z3lsZcV76KE/maxresdefault.jpg\""
      ],
      "metadata": {
        "colab": {
          "base_uri": "https://localhost:8080/"
        },
        "id": "VFfVC8DCAaMl",
        "outputId": "7f9fb688-a8dc-420a-ed97-5393e97fb308"
      },
      "execution_count": 6,
      "outputs": [
        {
          "output_type": "stream",
          "name": "stdout",
          "text": [
            "--2023-03-31 06:49:17--  https://i.ytimg.com/vi/z3lsZcV76KE/maxresdefault.jpg\n",
            "Resolving i.ytimg.com (i.ytimg.com)... 142.250.101.119, 142.251.2.119, 142.250.141.119, ...\n",
            "Connecting to i.ytimg.com (i.ytimg.com)|142.250.101.119|:443... connected.\n",
            "HTTP request sent, awaiting response... 200 OK\n",
            "Length: 81044 (79K) [image/jpeg]\n",
            "Saving to: ‘maxresdefault.jpg’\n",
            "\n",
            "\rmaxresdefault.jpg     0%[                    ]       0  --.-KB/s               \rmaxresdefault.jpg   100%[===================>]  79.14K  --.-KB/s    in 0.001s  \n",
            "\n",
            "2023-03-31 06:49:17 (137 MB/s) - ‘maxresdefault.jpg’ saved [81044/81044]\n",
            "\n"
          ]
        }
      ]
    },
    {
      "cell_type": "code",
      "source": [
        "!wget \"https://tomco.neocities.org/thetree.png\""
      ],
      "metadata": {
        "colab": {
          "base_uri": "https://localhost:8080/"
        },
        "id": "5POj9v3PS02I",
        "outputId": "4e38a0f3-230a-490e-c1ba-81b8c340a145"
      },
      "execution_count": 7,
      "outputs": [
        {
          "output_type": "stream",
          "name": "stdout",
          "text": [
            "--2023-03-31 06:49:20--  https://tomco.neocities.org/thetree.png\n",
            "Resolving tomco.neocities.org (tomco.neocities.org)... 198.51.233.2, 2620:2:6000::a:1\n",
            "Connecting to tomco.neocities.org (tomco.neocities.org)|198.51.233.2|:443... connected.\n",
            "HTTP request sent, awaiting response... 200 OK\n",
            "Length: 131618 (129K) [image/png]\n",
            "Saving to: ‘thetree.png’\n",
            "\n",
            "thetree.png         100%[===================>] 128.53K   679KB/s    in 0.2s    \n",
            "\n",
            "2023-03-31 06:49:20 (679 KB/s) - ‘thetree.png’ saved [131618/131618]\n",
            "\n"
          ]
        }
      ]
    },
    {
      "cell_type": "code",
      "source": [
        "!wget \"https://tomco.neocities.org/rockland.jpeg\""
      ],
      "metadata": {
        "colab": {
          "base_uri": "https://localhost:8080/"
        },
        "id": "eh9yVgH-TEia",
        "outputId": "52c0eb49-2ecd-435c-cf6d-07561576b4dd"
      },
      "execution_count": 8,
      "outputs": [
        {
          "output_type": "stream",
          "name": "stdout",
          "text": [
            "--2023-03-31 06:49:22--  https://tomco.neocities.org/rockland.jpeg\n",
            "Resolving tomco.neocities.org (tomco.neocities.org)... 198.51.233.2, 2620:2:6000::a:1\n",
            "Connecting to tomco.neocities.org (tomco.neocities.org)|198.51.233.2|:443... connected.\n",
            "HTTP request sent, awaiting response... 200 OK\n",
            "Length: 85722 (84K) [image/jpeg]\n",
            "Saving to: ‘rockland.jpeg’\n",
            "\n",
            "rockland.jpeg       100%[===================>]  83.71K  --.-KB/s    in 0.1s    \n",
            "\n",
            "2023-03-31 06:49:23 (670 KB/s) - ‘rockland.jpeg’ saved [85722/85722]\n",
            "\n"
          ]
        }
      ]
    },
    {
      "cell_type": "code",
      "source": [
        "! wget \"https://i.pinimg.com/originals/55/aa/a9/55aaa9d7a475c281fcb47e242db7feb9.jpg\""
      ],
      "metadata": {
        "colab": {
          "base_uri": "https://localhost:8080/"
        },
        "id": "w0JiP4pnYA0n",
        "outputId": "fffc5c72-e513-427c-f8bc-f4df8b647436"
      },
      "execution_count": 9,
      "outputs": [
        {
          "output_type": "stream",
          "name": "stdout",
          "text": [
            "--2023-03-31 06:49:27--  https://i.pinimg.com/originals/55/aa/a9/55aaa9d7a475c281fcb47e242db7feb9.jpg\n",
            "Resolving i.pinimg.com (i.pinimg.com)... 104.18.41.40, 172.64.146.216, 2a04:4e42:87::84\n",
            "Connecting to i.pinimg.com (i.pinimg.com)|104.18.41.40|:443... connected.\n",
            "HTTP request sent, awaiting response... 200 OK\n",
            "Length: 206978 (202K) [image/jpeg]\n",
            "Saving to: ‘55aaa9d7a475c281fcb47e242db7feb9.jpg’\n",
            "\n",
            "\r          55aaa9d7a   0%[                    ]       0  --.-KB/s               \r55aaa9d7a475c281fcb 100%[===================>] 202.13K  --.-KB/s    in 0.02s   \n",
            "\n",
            "2023-03-31 06:49:28 (8.56 MB/s) - ‘55aaa9d7a475c281fcb47e242db7feb9.jpg’ saved [206978/206978]\n",
            "\n"
          ]
        }
      ]
    },
    {
      "cell_type": "code",
      "source": [
        "!wget \"https://pharmapsychotic.com/images/robo_owl.jpg\""
      ],
      "metadata": {
        "colab": {
          "base_uri": "https://localhost:8080/"
        },
        "id": "gRgb5jv2yJsk",
        "outputId": "c6c00bf0-5813-491f-bbc1-628329ad233d"
      },
      "execution_count": 10,
      "outputs": [
        {
          "output_type": "stream",
          "name": "stdout",
          "text": [
            "--2023-03-31 06:49:31--  https://pharmapsychotic.com/images/robo_owl.jpg\n",
            "Resolving pharmapsychotic.com (pharmapsychotic.com)... 69.163.152.182\n",
            "Connecting to pharmapsychotic.com (pharmapsychotic.com)|69.163.152.182|:443... connected.\n",
            "HTTP request sent, awaiting response... 200 OK\n",
            "Length: 137100 (134K) [image/jpeg]\n",
            "Saving to: ‘robo_owl.jpg’\n",
            "\n",
            "robo_owl.jpg        100%[===================>] 133.89K  --.-KB/s    in 0.1s    \n",
            "\n",
            "2023-03-31 06:49:31 (1.11 MB/s) - ‘robo_owl.jpg’ saved [137100/137100]\n",
            "\n"
          ]
        }
      ]
    },
    {
      "cell_type": "code",
      "source": [
        "import os\n",
        "os.mkdir('my_images')"
      ],
      "metadata": {
        "id": "-Kf8Z_ge1Pfy"
      },
      "execution_count": 12,
      "outputs": []
    },
    {
      "cell_type": "code",
      "source": [
        "import os\n",
        "import shutil \n",
        "shutil.copy(\"/content/robo_owl.jpg\",\"/content/my_images\")"
      ],
      "metadata": {
        "colab": {
          "base_uri": "https://localhost:8080/",
          "height": 35
        },
        "id": "VpGSJpd4AtH7",
        "outputId": "2fcce878-bee7-4729-f64b-52da8f573cef"
      },
      "execution_count": 19,
      "outputs": [
        {
          "output_type": "execute_result",
          "data": {
            "text/plain": [
              "'/content/my_images/robo_owl.jpg'"
            ],
            "application/vnd.google.colaboratory.intrinsic+json": {
              "type": "string"
            }
          },
          "metadata": {},
          "execution_count": 19
        }
      ]
    },
    {
      "cell_type": "markdown",
      "source": [
        "## Inference script"
      ],
      "metadata": {
        "id": "WxGELYDvjqnp"
      }
    },
    {
      "cell_type": "code",
      "source": [
        "from clip_interrogator import Config, Interrogator\n",
        "import json\n",
        "import os\n",
        "import requests\n",
        "from PIL import Image\n",
        "import torch\n",
        "\n",
        "#\n",
        "def image_to_prompt(image, mode,device,model1,model2):\n",
        "    # move selected model to GPU and other model to CPU\n",
        "    ci_vitl.clip_model = ci_vitl.clip_model.to(\"cpu\")\n",
        "    ci_vith.clip_model = ci_vith.clip_model.to(ci_vith.device)\n",
        "    ci = ci_vith\n",
        "    ci.config.blip_num_beams = 64\n",
        "    ci.config.chunk_size = 2048\n",
        "    ci.config.flavor_intermediate_count = 1024\n",
        "    #\n",
        "    image = image.convert('RGB')\n",
        "    if mode == 'best':\n",
        "        prompt = ci.interrogate(image)\n",
        "    elif mode == 'classic':\n",
        "        prompt = ci.interrogate_classic(image)\n",
        "    elif mode == 'fast':\n",
        "        prompt = ci.interrogate_fast(image)\n",
        "    elif mode == 'negative':\n",
        "        prompt = ci.interrogate_negative(image)\n",
        "\n",
        "    return prompt\n",
        "\n",
        "\n",
        "#\n",
        "def preprocess_function(image_path, content_type=None): \n",
        "  \n",
        "    #with open(input_path,\"r\",encoding='utf-8') as f:\n",
        "    #    data = f.read()\n",
        "    #print(data)\n",
        "    image = Image.open(requests.get(image_path, stream=True).raw)\n",
        "    return image\n",
        "\n",
        "#\n",
        "#\n",
        "def predict_function(context, model_path):\n",
        "    device = \"gpu\" if torch.cuda.is_available() else \"cpu\"\n",
        "    model1,model2 = model_path\n",
        "    mode ='best'\n",
        "    prompt = image_to_prompt(context, mode,device,model1,model2)\n",
        "    return prompt\n",
        "\n",
        "#\n",
        "def model_load_function(model_path):\n",
        "    device = \"gpu\" if torch.cuda.is_available() else \"cpu\"\n",
        "    MODELS = ['ViT-L (best for Stable Diffusion 1.*)', 'ViT-H (best for Stable Diffusion 2.*)']\n",
        "\n",
        "    # load BLIP and ViT-L https://huggingface.co/openai/clip-vit-large-patch14\n",
        "    config = Config(clip_model_name=\"ViT-L-14/openai\")\n",
        "    ci_vitl = Interrogator(config)\n",
        "    ci_vitl.clip_model = ci_vitl.clip_model.to(\"cpu\")\n",
        "\n",
        "    # load ViT-H https://huggingface.co/laion/CLIP-ViT-H-14-laion2B-s32B-b79K\n",
        "    config.blip_model = ci_vitl.blip_model\n",
        "    config.clip_model_name = \"ViT-H-14/laion2b_s32b_b79k\"\n",
        "    ci_vith = Interrogator(config)\n",
        "    ci_vith.clip_model = ci_vith.clip_model.to(\"cpu\")\n",
        "    return (ci_vitl.clip_model,ci_vith.clip_model)\n",
        "\n",
        "\n",
        "#\n",
        "def postprocess_function(predictions, content_type=None):\n",
        "  return json.dumps({\"response\": predictions})\n",
        "\n",
        "\n",
        "#\"\"\"\n",
        "if __name__ == '__main__':\n",
        "    audio_path = \"https://pharmapsychotic.com/images/robo_owl.jpg\"\n",
        "    data= preprocess_function(audio_path)\n",
        "    model_path = \"./model_files\"\n",
        "    path = model_load_function(model_path)\n",
        "    predictions = predict_function(data,path)\n",
        "    out = postprocess_function(predictions)\n",
        "    print(out)\n",
        "#\"\"\""
      ],
      "metadata": {
        "id": "KQpeozgXjp2u",
        "outputId": "13986ef1-7ab5-4e54-bc7f-f7ef5f65eb9c",
        "colab": {
          "base_uri": "https://localhost:8080/"
        }
      },
      "execution_count": 15,
      "outputs": [
        {
          "output_type": "stream",
          "name": "stdout",
          "text": [
            "Loading BLIP model...\n",
            "load checkpoint from https://storage.googleapis.com/sfr-vision-language-research/BLIP/models/model_large_caption.pth\n",
            "Loading CLIP model...\n",
            "Loaded CLIP model and data in 8.18 seconds.\n",
            "Loading CLIP model...\n",
            "Loaded CLIP model and data in 12.42 seconds.\n"
          ]
        },
        {
          "output_type": "stream",
          "name": "stderr",
          "text": [
            "100%|██████████| 55/55 [00:00<00:00, 178.34it/s]\n",
            "Flavor chain:  38%|███▊      | 12/32 [00:09<00:16,  1.20it/s]\n",
            "100%|██████████| 55/55 [00:00<00:00, 187.04it/s]\n",
            "100%|██████████| 6/6 [00:00<00:00, 144.24it/s]\n",
            "100%|██████████| 50/50 [00:00<00:00, 192.15it/s]"
          ]
        },
        {
          "output_type": "stream",
          "name": "stdout",
          "text": [
            "{\"response\": \"a close up of a robot owl with glowing eyes, unreal engine character art, from transformers, by Zlatyu Boyadzhiev, cute owl, made up of many bits of metal, unreal engine \\u201d, robot face bust, ivan plusch artwork, scowling, painting by android jones, rendering on unreal engine, ((unreal engine))\"}\n"
          ]
        },
        {
          "output_type": "stream",
          "name": "stderr",
          "text": [
            "\n"
          ]
        }
      ]
    }
  ]
}
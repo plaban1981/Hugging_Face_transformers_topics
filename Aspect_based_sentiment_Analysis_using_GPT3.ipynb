{
  "nbformat": 4,
  "nbformat_minor": 0,
  "metadata": {
    "colab": {
      "provenance": [],
      "authorship_tag": "ABX9TyMOSd0oK/PMi+ocVOgFR/NB",
      "include_colab_link": true
    },
    "kernelspec": {
      "name": "python3",
      "display_name": "Python 3"
    },
    "language_info": {
      "name": "python"
    }
  },
  "cells": [
    {
      "cell_type": "markdown",
      "metadata": {
        "id": "view-in-github",
        "colab_type": "text"
      },
      "source": [
        "<a href=\"https://colab.research.google.com/github/plaban1981/Hugging_Face_transformers_topics/blob/main/Aspect_based_sentiment_Analysis_using_GPT3.ipynb\" target=\"_parent\"><img src=\"https://colab.research.google.com/assets/colab-badge.svg\" alt=\"Open In Colab\"/></a>"
      ]
    },
    {
      "cell_type": "markdown",
      "source": [
        "## Aspect-based sentiment analysis \n",
        "\n",
        "* It is a type of sentiment analysis that looks at individual aspects of a product or service.\n",
        "\n",
        "\n",
        "#### For example, sentiment might be analyzed for the phone’s battery life, camera quality, and durability in a mobile review.\n",
        "\n",
        "> Camera quality is very good but battery drains fast\n",
        "> \n",
        "\n",
        "> Staff was very rude but food was delicious\n",
        ">"
      ],
      "metadata": {
        "id": "Yff_athGkYuI"
      }
    },
    {
      "cell_type": "code",
      "execution_count": null,
      "metadata": {
        "id": "6BgZYpoRj5Ac"
      },
      "outputs": [],
      "source": []
    }
  ]
}
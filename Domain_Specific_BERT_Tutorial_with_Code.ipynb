{
  "nbformat": 4,
  "nbformat_minor": 0,
  "metadata": {
    "colab": {
      "provenance": [],
      "toc_visible": true,
      "include_colab_link": true
    },
    "kernelspec": {
      "name": "python3",
      "display_name": "Python 3"
    }
  },
  "cells": [
    {
      "cell_type": "markdown",
      "metadata": {
        "id": "view-in-github",
        "colab_type": "text"
      },
      "source": [
        "<a href=\"https://colab.research.google.com/github/plaban1981/Hugging_Face_transformers_topics/blob/main/Domain_Specific_BERT_Tutorial_with_Code.ipynb\" target=\"_parent\"><img src=\"https://colab.research.google.com/assets/colab-badge.svg\" alt=\"Open In Colab\"/></a>"
      ]
    },
    {
      "cell_type": "markdown",
      "metadata": {
        "id": "G_WElanyAGHz"
      },
      "source": [
        "# Domain-Specific BERT Models\n",
        "\n",
        "by Chris McCormick and Nick Ryan\n"
      ]
    },
    {
      "cell_type": "markdown",
      "metadata": {
        "id": "uXKyKe3NZONV"
      },
      "source": [
        "# 1. Introduction"
      ]
    },
    {
      "cell_type": "markdown",
      "metadata": {
        "id": "6Laip2bqmRK-"
      },
      "source": [
        "If your text data is domain specific (e.g. legal, financial, academic, industry-specific) or otherwise different from the \"standard\" text corpus used to train BERT and other langauge models you might want to consider either continuing to train BERT with some of your text data or looking for a domain-specific language model.\n",
        "\n",
        "Faced with the issue mentioned above, a number of researchers have created their own domain-specific language models. These models are created by  training the BERT architecture *from scratch* on a domain-specific corpus rather than the general purpose English text corpus used to train the original BERT model. This leads to a model with vocabulary and word embeddings better suited than the original BERT model to domain-specific NLP problems. Some examples include: \n",
        "\n",
        "- SciBERT (biomedical and computer science literature corpus)\n",
        "- FinBERT (financial services corpus)\n",
        "- BioBERT (biomedical literature corpus)\n",
        "- ClinicalBERT (clinical notes corpus)\n",
        "- mBERT (corpora from multiple languages)\n",
        "- patentBERT (patent corpus)\n",
        "\n",
        "In this tutorial, we will:\n",
        "\n",
        "1. Show you how to find domain-specific BERT models and import them using the  `transformers` library in PyTorch.\n",
        "2. Explore SciBERT and compare it's vocabulary and embeddings to those in the original BERT.\n",
        "\n",
        "\n"
      ]
    },
    {
      "cell_type": "markdown",
      "metadata": {
        "id": "ku_4hKSLCaSE"
      },
      "source": [
        "## 1.1 Why not do my own pre-training?\n",
        "\n",
        "If you think your text is too domain-specific for the generic BERT, your first thought might be to train BERT from scratch on your own dataset. (Just to be clear: BERT was \"Pre-Trained\" by Google, and we download and \"Fine-Tune\" Google's pre-trained model on our own data. When I say \"train BERT from scratch\", I mean specifically re-doing BERT's *pre-training*).\n",
        "\n",
        "Chances are you won't be able to pre-train BERT on your own dataset, though, for the following reasons. \n",
        "\n",
        "**1. Pre-training BERT requires a huge corpus**\n",
        "\n",
        "BERT-base is a 12-layer neural network with roughly 110 million weights. This enormous size is key to BERT's impressive performance. To train such a complex model, though, (and expect it to work) requires an enormous dataset, on the order of 1B words. Wikipedia is a suitable corpus, for example, with its ~10 million articles. For the majority of applications I assume you won't have a dataset with that many documents. \n",
        "\n",
        "**2. Huge Model + Huge Corpus = Lots of GPUs**\n",
        "\n",
        "Pre-Training BERT is expensive. The cost of pre-training is a whole subject of discussion, and there's been a lot of work done on bringing the cost down, but a *single* pre-training experiment could easily cost you thousands of dollars in GPU or TPU time. \n",
        "\n",
        "That's why these domain-specific pre-trained models are so interesting. Other organizations have footed the bill to produce and share these models which, while not pre-trained on your specific dataset, may at least be much closer to yours than \"generic\" BERT.\n"
      ]
    },
    {
      "cell_type": "markdown",
      "metadata": {
        "id": "clB4Bklb-B13"
      },
      "source": [
        "# 2. Using a Community-Submitted Model"
      ]
    },
    {
      "cell_type": "markdown",
      "metadata": {
        "id": "ZvcsqFp6TclZ"
      },
      "source": [
        "## 2.1. Library of Models"
      ]
    },
    {
      "cell_type": "markdown",
      "metadata": {
        "id": "q3dpoWs_Dn-t"
      },
      "source": [
        "The list of domain-specific models in the introduction are just a few examples of the models that have been created, so it's worth looking for and trying out an open-source model in your domain if it exists.\n",
        "\n",
        "Fortunately, many of the popular models (and many unpopular ones!) have been uploaded by the community into the transformers library; you can browse the full list of models at: [https://huggingface.co/models](https://huggingface.co/models)\n",
        "\n",
        "'[![screenshot](https://drive.google.com/uc?export=view&id=1SxPIV4aXqGJxOpUw-6gkOZUEVWM5iupa)](https://drive.google.com/uc?export=view&id=1SxPIV4aXqGJxOpUw-6gkOZUEVWM5iupa)'\n",
        "\n",
        "It's not very easy to browse, however--there are currently over 1,700 models shared! \n",
        "\n",
        "If you know the name of the model you're looking for, you can search this list by keyword. But if you're looking for a specific type of model, there is a \"tags\" filter option next to the search bar.\n",
        "\n",
        "For example, if you filter for \"Multilingual\" and \"Pytorch\", it narrows it done to just 10 models.\n",
        "\n",
        "[![screenshot](https://drive.google.com/uc?export=view&id=1T6nbD9DLxioW1sOdwU5tesYnHK83-USr)](https://drive.google.com/uc?export=view&id=1T6nbD9DLxioW1sOdwU5tesYnHK83-USr)\n",
        "\n",
        "> Side Note: If you skim the full list you'll see that roughly 1,000 of the current models are variants of a single machine translation model from \"Helsinki NLP\". There is a different variant for every pair of languages. For example, English to French: `Helsinki-NLP/opus-mt-en-fr`\n"
      ]
    },
    {
      "cell_type": "markdown",
      "metadata": {
        "id": "F2dedg7NQqga"
      },
      "source": [
        "\n",
        "For this Notebook, we'll use SciBERT, a popular BERT variant trained primarily on biomedical literature. \n",
        "\n",
        "Each model has its own page in the huggingface library where you can learn a little more about it: https://huggingface.co/allenai/scibert_scivocab_uncased\n",
        "\n",
        "[![screenshot](https://drive.google.com/uc?export=view&id=1T4T0vQw9NH7WufIv1nxwQdNepozCbChs)](https://drive.google.com/uc?export=view&id=1T4T0vQw9NH7WufIv1nxwQdNepozCbChs)\n",
        "\n",
        "Here are some highlights:\n",
        "* SciBERT was trained on scientific literature--1.14M papers.\n",
        "  * ~1/5th of the papers are from \"the computer science domain\"\n",
        "  * ~4/5th of the papers are from \"the broad biomedical domain\".\n",
        "* SciBERT was created by the Allen Institute of AI (a highly respected group in NLP, if you're unfamiliar).\n",
        "* Their paper was first submitted to arXiv in March, 2019 [here](https://arxiv.org/abs/1903.10676). They uploaded their implementation to GitHub [here](https://github.com/allenai/scibert) around the same time.\n",
        "\n",
        "\n"
      ]
    },
    {
      "cell_type": "markdown",
      "metadata": {
        "id": "cFTiBsi8Ti-h"
      },
      "source": [
        "## 2.2. Example Code for Importing"
      ]
    },
    {
      "cell_type": "markdown",
      "metadata": {
        "id": "aJF_caESC0yS"
      },
      "source": [
        "If you're interested in a BERT variant from the community models in the transformers library, importing can be incredibly simple--you just supply the name of the model as it appears in the library page.\n",
        "\n",
        "First, we'll need to install the `transformers` library.\n"
      ]
    },
    {
      "cell_type": "code",
      "metadata": {
        "id": "R36LrzeQGDUq",
        "colab": {
          "base_uri": "https://localhost:8080/",
          "height": 383
        },
        "outputId": "7ea1867b-9d24-4b55-9fed-172d8222044e"
      },
      "source": [
        "!pip install transformers"
      ],
      "execution_count": null,
      "outputs": [
        {
          "output_type": "stream",
          "text": [
            "Requirement already satisfied: transformers in /usr/local/lib/python3.6/dist-packages (2.11.0)\n",
            "Requirement already satisfied: numpy in /usr/local/lib/python3.6/dist-packages (from transformers) (1.18.4)\n",
            "Requirement already satisfied: requests in /usr/local/lib/python3.6/dist-packages (from transformers) (2.23.0)\n",
            "Requirement already satisfied: tqdm>=4.27 in /usr/local/lib/python3.6/dist-packages (from transformers) (4.41.1)\n",
            "Requirement already satisfied: dataclasses; python_version < \"3.7\" in /usr/local/lib/python3.6/dist-packages (from transformers) (0.7)\n",
            "Requirement already satisfied: filelock in /usr/local/lib/python3.6/dist-packages (from transformers) (3.0.12)\n",
            "Requirement already satisfied: sacremoses in /usr/local/lib/python3.6/dist-packages (from transformers) (0.0.43)\n",
            "Requirement already satisfied: sentencepiece in /usr/local/lib/python3.6/dist-packages (from transformers) (0.1.91)\n",
            "Requirement already satisfied: packaging in /usr/local/lib/python3.6/dist-packages (from transformers) (20.4)\n",
            "Requirement already satisfied: tokenizers==0.7.0 in /usr/local/lib/python3.6/dist-packages (from transformers) (0.7.0)\n",
            "Requirement already satisfied: regex!=2019.12.17 in /usr/local/lib/python3.6/dist-packages (from transformers) (2019.12.20)\n",
            "Requirement already satisfied: idna<3,>=2.5 in /usr/local/lib/python3.6/dist-packages (from requests->transformers) (2.9)\n",
            "Requirement already satisfied: urllib3!=1.25.0,!=1.25.1,<1.26,>=1.21.1 in /usr/local/lib/python3.6/dist-packages (from requests->transformers) (1.24.3)\n",
            "Requirement already satisfied: certifi>=2017.4.17 in /usr/local/lib/python3.6/dist-packages (from requests->transformers) (2020.4.5.1)\n",
            "Requirement already satisfied: chardet<4,>=3.0.2 in /usr/local/lib/python3.6/dist-packages (from requests->transformers) (3.0.4)\n",
            "Requirement already satisfied: click in /usr/local/lib/python3.6/dist-packages (from sacremoses->transformers) (7.1.2)\n",
            "Requirement already satisfied: joblib in /usr/local/lib/python3.6/dist-packages (from sacremoses->transformers) (0.15.1)\n",
            "Requirement already satisfied: six in /usr/local/lib/python3.6/dist-packages (from sacremoses->transformers) (1.12.0)\n",
            "Requirement already satisfied: pyparsing>=2.0.2 in /usr/local/lib/python3.6/dist-packages (from packaging->transformers) (2.4.7)\n"
          ],
          "name": "stdout"
        }
      ]
    },
    {
      "cell_type": "markdown",
      "metadata": {
        "id": "DIcEh7LvzMvO"
      },
      "source": [
        "\n",
        "\n",
        "The `transformers` library includes classes for different model architectures (e.g., `BertModel`, `AlbertModel`, `RobertaModel`, ...). With whatever model you're using, it needs to be loaded with the correct class (based on its architecture), which may not be immediately apparent. \n",
        "\n",
        "Luckily, the `transformers` library has a solution for this, demonstrated in the following cell. These \"Auto\" classes will choose the correct architecture for you! \n",
        "\n",
        "That's a nice feature, but I'd still prefer to know what I'm working with, so I'm printing out the class names (which show that SciBERT uses the original BERT classes).\n"
      ]
    },
    {
      "cell_type": "code",
      "metadata": {
        "id": "oJFsRo_vGDYU",
        "colab": {
          "base_uri": "https://localhost:8080/",
          "height": 54
        },
        "outputId": "070d8a53-86f1-41d1-a680-4705a3129bbc"
      },
      "source": [
        "from transformers import AutoTokenizer, AutoModel\n",
        "import torch\n",
        "\n",
        "scibert_tokenizer = AutoTokenizer.from_pretrained(\"allenai/scibert_scivocab_uncased\")\n",
        "scibert_model = AutoModel.from_pretrained(\"allenai/scibert_scivocab_uncased\")\n",
        "\n",
        "print('scibert_tokenizer is type:', type(scibert_tokenizer))\n",
        "print('    scibert_model is type:', type(scibert_model))\n"
      ],
      "execution_count": null,
      "outputs": [
        {
          "output_type": "stream",
          "text": [
            "scibert_tokenizer is type: <class 'transformers.tokenization_bert.BertTokenizer'>\n",
            "    scibert_model is type: <class 'transformers.modeling_bert.BertModel'>\n"
          ],
          "name": "stdout"
        }
      ]
    },
    {
      "cell_type": "markdown",
      "metadata": {
        "id": "qEVnhVwtV3d5"
      },
      "source": [
        "# 3. Comparing SciBERT and BERT"
      ]
    },
    {
      "cell_type": "markdown",
      "metadata": {
        "id": "uquAjkdLzg7N"
      },
      "source": [
        "## 3.1. Comparing Vocabularies"
      ]
    },
    {
      "cell_type": "markdown",
      "metadata": {
        "id": "RwgdQOu_8yrC"
      },
      "source": [
        "The most apparent difference between SciBERT and the original BERT should be the model's vocabulary, since they were trained on such different corpuses.\n",
        "\n",
        "Both tokenizers have a 30,000 word vocabulary that was automatically built based on the most frequently seen words and subword units in their respective corpuses. \n",
        "\n",
        "The authors of SciBERT note:\n",
        "\n",
        "> \"The resulting token overlap between [BERT vocabulary] and\n",
        "[SciBERT vocabulary] is 42%, illustrating a substantial difference in frequently used words between scientific and general domain texts.\"\n",
        "\n",
        "Let's load the original BERT as well and do some of our own comparisons.\n",
        "\n",
        "*Side note: BERT used a \"WordPiece\" model for tokenization, whereas SciBERT employs a newer approach called \"SentencePiece\", but the difference is mostly cosmetic. I cover SentencePiece in more detail in our [ALBERT eBook](https://www.chrismccormick.ai/offers/HaABTJQH).*\n"
      ]
    },
    {
      "cell_type": "code",
      "metadata": {
        "id": "8HyL0YsC8vta"
      },
      "source": [
        "from transformers import BertTokenizer, BertModel\n",
        "\n",
        "bert_tokenizer = BertTokenizer.from_pretrained('bert-base-uncased')\n",
        "bert_model = BertModel.from_pretrained('bert-base-uncased')"
      ],
      "execution_count": null,
      "outputs": []
    },
    {
      "cell_type": "markdown",
      "metadata": {
        "id": "lNO_QG48X-0C"
      },
      "source": [
        "Let's apply both tokenizers to some biomedical text and see how they compare. \n",
        "\n",
        "I took the below sentence from the 2001 paper [Hydrogels for biomedical applications](http://yunus.hacettepe.edu.tr/~damlacetin/kmu407/index_dosyalar/Hoffman,%202012.pdf), which seems to be one of the most-cited papers in the field of biomedical applications (if I'm interpreting these [Google Scholar results](https://scholar.google.com/scholar?hl=en&as_sdt=0%2C5&q=biomedical+applications&btnG=) correctly)."
      ]
    },
    {
      "cell_type": "code",
      "metadata": {
        "id": "eht6-fWVYARe",
        "colab": {
          "base_uri": "https://localhost:8080/",
          "height": 672
        },
        "outputId": "bcf87da9-fb71-45f0-c310-017e2ba39726"
      },
      "source": [
        "text = \"Hydrogels are hydrophilic polymer networks which may absorb from \" \\\n",
        "       \"10–20% (an arbitrary lower limit) up to thousands of times their \" \\\n",
        "       \"dry weight in water.\"\n",
        "\n",
        "# Split the sentence into tokens, with both BERT and SciBERT.\n",
        "bert_tokens = bert_tokenizer.tokenize(text)\n",
        "scibert_tokens = scibert_tokenizer.tokenize(text)\n",
        "\n",
        "# Pad out the scibert list to be the same length.\n",
        "while len(scibert_tokens) < len(bert_tokens):\n",
        "    scibert_tokens.append(\"\")\n",
        "\n",
        "# Label the columns.\n",
        "print('{:<12} {:<12}'.format(\"BERT\", \"SciBERT\"))\n",
        "print('{:<12} {:<12}'.format(\"----\", \"-------\"))\n",
        "\n",
        "# Display the tokens.\n",
        "for tup in zip(bert_tokens, scibert_tokens):\n",
        "    print('{:<12} {:<12}'.format(tup[0], tup[1]))\n"
      ],
      "execution_count": null,
      "outputs": [
        {
          "output_type": "stream",
          "text": [
            "BERT         SciBERT     \n",
            "----         -------     \n",
            "hydro        hydrogels   \n",
            "##gel        are         \n",
            "##s          hydrophilic \n",
            "are          polymer     \n",
            "hydro        networks    \n",
            "##phi        which       \n",
            "##lic        may         \n",
            "polymer      absorb      \n",
            "networks     from        \n",
            "which        10          \n",
            "may          –           \n",
            "absorb       20          \n",
            "from         %           \n",
            "10           (           \n",
            "–            an          \n",
            "20           arbitrary   \n",
            "%            lower       \n",
            "(            limit       \n",
            "an           )           \n",
            "arbitrary    up          \n",
            "lower        to          \n",
            "limit        thousands   \n",
            ")            of          \n",
            "up           times       \n",
            "to           their       \n",
            "thousands    dry         \n",
            "of           weight      \n",
            "times        in          \n",
            "their        water       \n",
            "dry          .           \n",
            "weight                   \n",
            "in                       \n",
            "water                    \n",
            ".                        \n"
          ],
          "name": "stdout"
        }
      ]
    },
    {
      "cell_type": "markdown",
      "metadata": {
        "id": "Y9KJ779ylBW8"
      },
      "source": [
        "SciBERT apparently has embeddings for the words 'hydrogels' and 'hydrophillic', whereas BERT had to break these down into three subwords each. (Remember that the '##' in a token is just a way to flag it as a subword that is not the first subword). Apparently BERT does have \"polymer\", though!\n",
        "\n",
        "I skimmed the paper and pulled out some other esoteric terms--check out the different numbers of tokens required by each model."
      ]
    },
    {
      "cell_type": "code",
      "metadata": {
        "id": "OLfhdIHwdLnK",
        "colab": {
          "base_uri": "https://localhost:8080/",
          "height": 508
        },
        "outputId": "86699b0b-66d9-4af1-aa63-84844dde0bb8"
      },
      "source": [
        "# Use pandas just for table formatting.\n",
        "import pandas as pd\n",
        "\n",
        "# Some strange terms from the paper.\n",
        "words = ['polymerization', \n",
        "         '2,2-azo-isobutyronitrile',\n",
        "         'multifunctional crosslinkers'\n",
        "         ]\n",
        "\n",
        "# For each term...\n",
        "for word in words:\n",
        "    \n",
        "    # Print it out\n",
        "    print('\\n\\n', word, '\\n')\n",
        "\n",
        "    # Start a list of tokens for each model, with the first one being the model name.\n",
        "    list_a = [\"BERT:\"]\n",
        "    list_b = [\"SciBERT:\"]\n",
        "\n",
        "    # Run both tokenizers.\n",
        "    list_a.extend(bert_tokenizer.tokenize(word))\n",
        "    list_b.extend(scibert_tokenizer.tokenize(word))\n",
        "\n",
        "    # Pad the lists to the same length.\n",
        "    while len(list_a) < len(list_b):\n",
        "        list_a.append(\"\")\n",
        "    while len(list_b) < len(list_a):\n",
        "        list_b.append(\"\")\n",
        "\n",
        "    # Wrap them in a DataFrame to display a pretty table.\n",
        "    df = pd.DataFrame([list_a, list_b])\n",
        "    \n",
        "    display(df)\n"
      ],
      "execution_count": null,
      "outputs": [
        {
          "output_type": "stream",
          "text": [
            "\n",
            "\n",
            " polymerization \n",
            "\n"
          ],
          "name": "stdout"
        },
        {
          "output_type": "display_data",
          "data": {
            "text/html": [
              "<div>\n",
              "<style scoped>\n",
              "    .dataframe tbody tr th:only-of-type {\n",
              "        vertical-align: middle;\n",
              "    }\n",
              "\n",
              "    .dataframe tbody tr th {\n",
              "        vertical-align: top;\n",
              "    }\n",
              "\n",
              "    .dataframe thead th {\n",
              "        text-align: right;\n",
              "    }\n",
              "</style>\n",
              "<table border=\"1\" class=\"dataframe\">\n",
              "  <thead>\n",
              "    <tr style=\"text-align: right;\">\n",
              "      <th></th>\n",
              "      <th>0</th>\n",
              "      <th>1</th>\n",
              "      <th>2</th>\n",
              "    </tr>\n",
              "  </thead>\n",
              "  <tbody>\n",
              "    <tr>\n",
              "      <th>0</th>\n",
              "      <td>BERT:</td>\n",
              "      <td>polymer</td>\n",
              "      <td>##ization</td>\n",
              "    </tr>\n",
              "    <tr>\n",
              "      <th>1</th>\n",
              "      <td>SciBERT:</td>\n",
              "      <td>polymerization</td>\n",
              "      <td></td>\n",
              "    </tr>\n",
              "  </tbody>\n",
              "</table>\n",
              "</div>"
            ],
            "text/plain": [
              "          0               1          2\n",
              "0     BERT:         polymer  ##ization\n",
              "1  SciBERT:  polymerization           "
            ]
          },
          "metadata": {
            "tags": []
          }
        },
        {
          "output_type": "stream",
          "text": [
            "\n",
            "\n",
            " 2,2-azo-isobutyronitrile \n",
            "\n"
          ],
          "name": "stdout"
        },
        {
          "output_type": "display_data",
          "data": {
            "text/html": [
              "<div>\n",
              "<style scoped>\n",
              "    .dataframe tbody tr th:only-of-type {\n",
              "        vertical-align: middle;\n",
              "    }\n",
              "\n",
              "    .dataframe tbody tr th {\n",
              "        vertical-align: top;\n",
              "    }\n",
              "\n",
              "    .dataframe thead th {\n",
              "        text-align: right;\n",
              "    }\n",
              "</style>\n",
              "<table border=\"1\" class=\"dataframe\">\n",
              "  <thead>\n",
              "    <tr style=\"text-align: right;\">\n",
              "      <th></th>\n",
              "      <th>0</th>\n",
              "      <th>1</th>\n",
              "      <th>2</th>\n",
              "      <th>3</th>\n",
              "      <th>4</th>\n",
              "      <th>5</th>\n",
              "      <th>6</th>\n",
              "      <th>7</th>\n",
              "      <th>8</th>\n",
              "      <th>9</th>\n",
              "      <th>10</th>\n",
              "      <th>11</th>\n",
              "      <th>12</th>\n",
              "      <th>13</th>\n",
              "      <th>14</th>\n",
              "    </tr>\n",
              "  </thead>\n",
              "  <tbody>\n",
              "    <tr>\n",
              "      <th>0</th>\n",
              "      <td>BERT:</td>\n",
              "      <td>2</td>\n",
              "      <td>,</td>\n",
              "      <td>2</td>\n",
              "      <td>-</td>\n",
              "      <td>az</td>\n",
              "      <td>##o</td>\n",
              "      <td>-</td>\n",
              "      <td>iso</td>\n",
              "      <td>##bu</td>\n",
              "      <td>##ty</td>\n",
              "      <td>##ron</td>\n",
              "      <td>##it</td>\n",
              "      <td>##ril</td>\n",
              "      <td>##e</td>\n",
              "    </tr>\n",
              "    <tr>\n",
              "      <th>1</th>\n",
              "      <td>SciBERT:</td>\n",
              "      <td>2</td>\n",
              "      <td>,</td>\n",
              "      <td>2</td>\n",
              "      <td>-</td>\n",
              "      <td>az</td>\n",
              "      <td>##o</td>\n",
              "      <td>-</td>\n",
              "      <td>iso</td>\n",
              "      <td>##but</td>\n",
              "      <td>##yr</td>\n",
              "      <td>##onitrile</td>\n",
              "      <td></td>\n",
              "      <td></td>\n",
              "      <td></td>\n",
              "    </tr>\n",
              "  </tbody>\n",
              "</table>\n",
              "</div>"
            ],
            "text/plain": [
              "         0  1  2  3  4   5   ...     9     10          11    12     13   14\n",
              "0     BERT:  2  ,  2  -  az  ...   ##bu  ##ty       ##ron  ##it  ##ril  ##e\n",
              "1  SciBERT:  2  ,  2  -  az  ...  ##but  ##yr  ##onitrile                  \n",
              "\n",
              "[2 rows x 15 columns]"
            ]
          },
          "metadata": {
            "tags": []
          }
        },
        {
          "output_type": "stream",
          "text": [
            "\n",
            "\n",
            " multifunctional crosslinkers \n",
            "\n"
          ],
          "name": "stdout"
        },
        {
          "output_type": "display_data",
          "data": {
            "text/html": [
              "<div>\n",
              "<style scoped>\n",
              "    .dataframe tbody tr th:only-of-type {\n",
              "        vertical-align: middle;\n",
              "    }\n",
              "\n",
              "    .dataframe tbody tr th {\n",
              "        vertical-align: top;\n",
              "    }\n",
              "\n",
              "    .dataframe thead th {\n",
              "        text-align: right;\n",
              "    }\n",
              "</style>\n",
              "<table border=\"1\" class=\"dataframe\">\n",
              "  <thead>\n",
              "    <tr style=\"text-align: right;\">\n",
              "      <th></th>\n",
              "      <th>0</th>\n",
              "      <th>1</th>\n",
              "      <th>2</th>\n",
              "      <th>3</th>\n",
              "      <th>4</th>\n",
              "      <th>5</th>\n",
              "      <th>6</th>\n",
              "      <th>7</th>\n",
              "    </tr>\n",
              "  </thead>\n",
              "  <tbody>\n",
              "    <tr>\n",
              "      <th>0</th>\n",
              "      <td>BERT:</td>\n",
              "      <td>multi</td>\n",
              "      <td>##fu</td>\n",
              "      <td>##nction</td>\n",
              "      <td>##al</td>\n",
              "      <td>cross</td>\n",
              "      <td>##link</td>\n",
              "      <td>##ers</td>\n",
              "    </tr>\n",
              "    <tr>\n",
              "      <th>1</th>\n",
              "      <td>SciBERT:</td>\n",
              "      <td>multifunctional</td>\n",
              "      <td>cross</td>\n",
              "      <td>##link</td>\n",
              "      <td>##ers</td>\n",
              "      <td></td>\n",
              "      <td></td>\n",
              "      <td></td>\n",
              "    </tr>\n",
              "  </tbody>\n",
              "</table>\n",
              "</div>"
            ],
            "text/plain": [
              "          0                1      2         3      4      5       6      7\n",
              "0     BERT:            multi   ##fu  ##nction   ##al  cross  ##link  ##ers\n",
              "1  SciBERT:  multifunctional  cross    ##link  ##ers                      "
            ]
          },
          "metadata": {
            "tags": []
          }
        }
      ]
    },
    {
      "cell_type": "markdown",
      "metadata": {
        "id": "kCl4ZLrzwkyq"
      },
      "source": [
        "The fact that SciBERT is able to represent all of these terms in fewer tokens seems like a good sign!"
      ]
    },
    {
      "cell_type": "markdown",
      "metadata": {
        "id": "7UB5FRPOhinf"
      },
      "source": [
        "### Vocab Dump\n",
        "\n",
        "It can be pretty interesting just to dump the full vocabulary of a model into a text file and skim it to see what stands out.\n",
        "\n",
        "This cell will write out SciBERT's vocab to 'vocabulary.txt', which you can open in Colab by going to the 'Files' tab in the pane on the left and double clicking the .txt file."
      ]
    },
    {
      "cell_type": "code",
      "metadata": {
        "id": "NRf7NXJGgsnG"
      },
      "source": [
        "with open(\"vocabulary.txt\", 'w') as f:\n",
        "    \n",
        "    # For each token in SciBERT's vocabulary...\n",
        "    for token in scibert_tokenizer.vocab.keys():\n",
        "        \n",
        "        # Write it out, one per line.\n",
        "        f.write(token + '\\n')\n"
      ],
      "execution_count": null,
      "outputs": []
    },
    {
      "cell_type": "markdown",
      "metadata": {
        "id": "c8geTQ3Iidsv"
      },
      "source": [
        "You'll see that roughly the first 100 tokens are reserved, and then it looks like the rest of the vocabulary is sorted by frequency... The first actual tokens are:\n",
        "\n",
        "`t`, `a`, `##in`, `##he`, `##re`, `##on`, `the`, `s`, `##ti`\n",
        "\n",
        "> *Because the tokenizer breaks down \"unknown\" words into subtokens, it makes sense that some individual characters and subwords would be higher in frequency even than the most common words like \"the\".*"
      ]
    },
    {
      "cell_type": "markdown",
      "metadata": {
        "id": "zWU87CHqxgRt"
      },
      "source": [
        "### Numbers and Symbols"
      ]
    },
    {
      "cell_type": "markdown",
      "metadata": {
        "id": "HFgt0WQ9Noch"
      },
      "source": [
        "There seem to be a lot of number-related tokens in SciBERT--you see them constantly as you scroll through the vocabulary. Here are some examples:"
      ]
    },
    {
      "cell_type": "code",
      "metadata": {
        "id": "pZY_Xd2iL3SS",
        "colab": {
          "base_uri": "https://localhost:8080/",
          "height": 35
        },
        "outputId": "be3a40e9-a6cb-4f78-864c-915f1588f472"
      },
      "source": [
        "\"##.2%)\" in scibert_tokenizer.vocab"
      ],
      "execution_count": null,
      "outputs": [
        {
          "output_type": "execute_result",
          "data": {
            "text/plain": [
              "True"
            ]
          },
          "metadata": {
            "tags": []
          },
          "execution_count": 32
        }
      ]
    },
    {
      "cell_type": "code",
      "metadata": {
        "id": "jaO-Eak5L_4P",
        "colab": {
          "base_uri": "https://localhost:8080/",
          "height": 35
        },
        "outputId": "3ef2dda5-751d-4a34-f678-47bd36e7202f"
      },
      "source": [
        "\"0.36\" in scibert_tokenizer.vocab"
      ],
      "execution_count": null,
      "outputs": [
        {
          "output_type": "execute_result",
          "data": {
            "text/plain": [
              "True"
            ]
          },
          "metadata": {
            "tags": []
          },
          "execution_count": 33
        }
      ]
    },
    {
      "cell_type": "markdown",
      "metadata": {
        "id": "1aLXkM4MrAJ8"
      },
      "source": [
        "In the below loops, we'll tally up the number of tokens which include a digit, and show a random sample of these tokens. We'll do this for both SciBERT and BERT for comparison.\n"
      ]
    },
    {
      "cell_type": "code",
      "metadata": {
        "id": "jUFGHG_Kpmw6",
        "colab": {
          "base_uri": "https://localhost:8080/",
          "height": 128
        },
        "outputId": "66026d92-1fe8-4105-abe3-bb9cb07b64ad"
      },
      "source": [
        "import random\n",
        "\n",
        "# ======== BERT ========\n",
        "bert_examples = []\n",
        "\n",
        "count = 0\n",
        "\n",
        "# For each token in the vocab...\n",
        "for token in bert_tokenizer.vocab:\n",
        "    \n",
        "    # If there's a digit in the token...\n",
        "    # (But don't count those reserved tokens, e.g. \"[unused59]\")\n",
        "    if any(i.isdigit() for i in token) and not ('unused' in token):\n",
        "        # Count it.\n",
        "        count += 1\n",
        "\n",
        "        # Keep ~1% as examples to print.\n",
        "        if random.randint(0, 100) == 1:\n",
        "            bert_examples.append(token)\n",
        "\n",
        "# Calculate the count as a percentage of the total vocab.\n",
        "prcnt = float(count) / len(bert_tokenizer.vocab)\n",
        "\n",
        "# Print the result.\n",
        "print('In BERT:    {:>5,} tokens ({:.2%}) include a digit.'.format(count, prcnt))\n",
        "\n",
        "# ======== SciBERT ========\n",
        "scibert_examples = []\n",
        "count = 0\n",
        "\n",
        "# For each token in the vocab...\n",
        "for token in scibert_tokenizer.vocab:\n",
        "\n",
        "    # If there's a digit in the token...\n",
        "    # (But don't count those reserved tokens, e.g. \"[unused59]\")\n",
        "    if any(i.isdigit() for i in token) and not ('unused' in token):\n",
        "        # Count it.\n",
        "        count += 1\n",
        "\n",
        "        # Keep ~1% as examples to print.\n",
        "        if random.randint(0, 100) == 1:\n",
        "            scibert_examples.append(token)\n",
        "   \n",
        "\n",
        "# Calculate the count as a percentage of the total vocab.\n",
        "prcnt = float(count) / len(scibert_tokenizer.vocab)\n",
        "\n",
        "# Print the result.\n",
        "print('In SciBERT: {:>5,} tokens ({:.2%}) include a digit.'.format(count, prcnt))\n",
        "\n",
        "print('')\n",
        "print('Examples from BERT:', bert_examples)\n",
        "print('Examples from SciBERT:', scibert_examples)"
      ],
      "execution_count": null,
      "outputs": [
        {
          "output_type": "stream",
          "text": [
            "In BERT:    1,109 tokens (3.63%) include a digit.\n",
            "In SciBERT: 3,345 tokens (10.76%) include a digit.\n",
            "\n",
            "Examples from BERT: ['5', '2002', '1971', '1961', 'm²', '355']\n",
            "Examples from SciBERT: ['3.', '(1)', '##8).', '##0).', '##9–', '53', '16,', '[10].', '(1999)', '194', '[3],', '##1,2', '15%', '##:12', '(2001).', '##(4):', '##103', '##27,', '10.1002/', '##21)', '100.', '##(1+', '13).', '241', '(54', '##2)2']\n"
          ],
          "name": "stdout"
        }
      ]
    },
    {
      "cell_type": "markdown",
      "metadata": {
        "id": "-IY_eTkmscaK"
      },
      "source": [
        "So it looks like:\n",
        "- SciBERT has about 3x as many tokens with digits. \n",
        "- BERT's tokens are whole integers, and many look like they could be dates. (In [another Notebook](https://colab.research.google.com/drive/1fCKIBJ6fgWQ-f6UKs7wDTpNTL9N-Cq9X#scrollTo=-M1biDEVYjaL), I showed that BERT contains 384 of the integers in the range 1600 - 2021).\n",
        "- SciBERT's number tokens are much more diverse. They are often subwords, and many include decimal places or  other symbols like `%` or `(`."
      ]
    },
    {
      "cell_type": "markdown",
      "metadata": {
        "id": "j4uNOCxvNwcG"
      },
      "source": [
        "Random -- check out token 17740!:\n",
        "\n",
        "⎝\n",
        "\n",
        "Looks like something is stuck to your monitor!  o_O"
      ]
    },
    {
      "cell_type": "markdown",
      "metadata": {
        "id": "NjzQ6dKzMW3A"
      },
      "source": [
        "## 3.2. Comparing Embeddings\n"
      ]
    },
    {
      "cell_type": "markdown",
      "metadata": {
        "id": "d_A1kS9zHXp2"
      },
      "source": [
        "**Semantic Similarity on Scientific Text**\n",
        "\n",
        "To create a simple demonstration of SciBERT's value, Nick and I figured we could create a semantic similarity example where we show that SciBERT is better able to recognize similarities and differences within some scientific text than generic BERT. \n",
        "\n",
        "We implemented this idea, but the examples we tried don't appear to show SciBERT as being better! \n",
        "\n",
        "We thought our code and results are interesting to share all the same. \n",
        "\n",
        "Also, while our simple example didn't succeed, note that the authors of SciBERT rigorously demonstrate its value over the original BERT by reporting results on a number of different NLP benchmarks that are focused specifically on scientific text. You can find the results in their paper [here](https://arxiv.org/abs/1903.10676). \n",
        "\n",
        "\n"
      ]
    },
    {
      "cell_type": "markdown",
      "metadata": {
        "id": "7CSm_6ng1ufC"
      },
      "source": [
        "**Our Approach**\n",
        "\n",
        "In our semantic similarity task, we have three pieces of text--call them \"query\", \"A\", and \"B\", that are all on scientific topics. We pick these such that the query text is always more similar to A than to B. \n",
        "\n",
        "Here's an example:\n",
        "\n",
        "* query: \"Mitochondria (mitochondrion, singular) are membrane-bound cell organelles.\"\n",
        "* A: \"These powerhouses of the cell produce adenosine triphosphate (ATP).\"\n",
        "* B: \"Ribosomes contain RNA and are responsible for synthesizing the proteins needed for many cellular functions.\"\n",
        "\n",
        "`query` and `A` are both about mitochondria, whereas `B` is about ribosomes. However, to recognize the similarity between `query` and `A`, you would need to know that mitochondria are responsible for producing ATP.  \n",
        "\n",
        "Our intuition was that SciBERT, being trained on biomedical text, would better distinguish the similarities than BERT. \n",
        "\n",
        "\n",
        "\n"
      ]
    },
    {
      "cell_type": "markdown",
      "metadata": {
        "id": "CIBYucz_3yQQ"
      },
      "source": [
        "**Interpreting Cosine Similarities**\n",
        "\n",
        "When comparing two different models for semantic similarity, it's best to look at how well they *rank* the similarities, and not to compare the specific cosine similarity *values* across the two models.\n",
        "\n",
        "It's for this reason that we've structured our example as \"is `query` more similar to `A` or to `B`?\"\n"
      ]
    },
    {
      "cell_type": "markdown",
      "metadata": {
        "id": "PJZL5KflODld"
      },
      "source": [
        "**Embedding Functions**\n",
        "\n",
        "In order to try out different examples, we've defined a `get_embedding` function below. It takes the average of the embeddings from the second-to-last layer of the model to use as a sentence embedding.\n",
        "\n",
        "`get_embedding` also supports calculating an embedding for a specific word or sequence of words within the sentence. \n",
        "\n",
        "To locate the indeces of the tokens for these words, we've also defined the `get_word_indeces` helper function below. \n",
        "\n",
        "To calculate the word embedding, we again take the average of its token embeddings from the second-to-last layer of the model.\n"
      ]
    },
    {
      "cell_type": "markdown",
      "metadata": {
        "id": "NMLNJuNCiHE6"
      },
      "source": [
        "#### get_word_indeces\n"
      ]
    },
    {
      "cell_type": "code",
      "metadata": {
        "id": "BMORSn8rmtJf"
      },
      "source": [
        "import numpy as np\n",
        "\n",
        "def get_word_indeces(tokenizer, text, word):\n",
        "    '''\n",
        "    Determines the index or indeces of the tokens corresponding to `word`\n",
        "    within `text`. `word` can consist of multiple words, e.g., \"cell biology\".\n",
        "    \n",
        "    Determining the indeces is tricky because words can be broken into multiple\n",
        "    tokens. I've solved this with a rather roundabout approach--I replace `word`\n",
        "    with the correct number of `[MASK]` tokens, and then find these in the \n",
        "    tokenized result. \n",
        "    '''\n",
        "    # Tokenize the 'word'--it may be broken into multiple tokens or subwords.\n",
        "    word_tokens = tokenizer.tokenize(word)\n",
        "\n",
        "    # Create a sequence of `[MASK]` tokens to put in place of `word`.\n",
        "    masks_str = ' '.join(['[MASK]']*len(word_tokens))\n",
        "\n",
        "    # Replace the word with mask tokens.\n",
        "    text_masked = text.replace(word, masks_str)\n",
        "\n",
        "    # `encode` performs multiple functions:\n",
        "    #   1. Tokenizes the text\n",
        "    #   2. Maps the tokens to their IDs\n",
        "    #   3. Adds the special [CLS] and [SEP] tokens.\n",
        "    input_ids = tokenizer.encode(text_masked)\n",
        "\n",
        "    # Use numpy's `where` function to find all indeces of the [MASK] token.\n",
        "    mask_token_indeces = np.where(np.array(input_ids) == tokenizer.mask_token_id)[0]\n",
        "\n",
        "    return mask_token_indeces\n"
      ],
      "execution_count": null,
      "outputs": []
    },
    {
      "cell_type": "markdown",
      "metadata": {
        "id": "_vclJjNvwlmx"
      },
      "source": [
        "#### get_embedding"
      ]
    },
    {
      "cell_type": "code",
      "metadata": {
        "id": "giJMGiGZhLLa"
      },
      "source": [
        "def get_embedding(b_model, b_tokenizer, text, word=''):\n",
        "    '''\n",
        "    Uses the provided model and tokenizer to produce an embedding for the\n",
        "    provided `text`, and a \"contextualized\" embedding for `word`, if provided.\n",
        "    '''\n",
        "\n",
        "    # If a word is provided, figure out which tokens correspond to it.\n",
        "    if not word == '':\n",
        "        word_indeces = get_word_indeces(b_tokenizer, text, word)\n",
        "\n",
        "    # Encode the text, adding the (required!) special tokens, and converting to\n",
        "    # PyTorch tensors.\n",
        "    encoded_dict = b_tokenizer.encode_plus(\n",
        "                        text,                      # Sentence to encode.\n",
        "                        add_special_tokens = True, # Add '[CLS]' and '[SEP]'\n",
        "                        return_tensors = 'pt',     # Return pytorch tensors.\n",
        "                )\n",
        "\n",
        "    input_ids = encoded_dict['input_ids']\n",
        "    \n",
        "    b_model.eval()\n",
        "\n",
        "    # Run the text through the model and get the hidden states.\n",
        "    bert_outputs = b_model(input_ids)\n",
        "    \n",
        "    # Run the text through BERT, and collect all of the hidden states produced\n",
        "    # from all 12 layers. \n",
        "    with torch.no_grad():\n",
        "\n",
        "        outputs = b_model(input_ids)\n",
        "\n",
        "        # Evaluating the model will return a different number of objects based on \n",
        "        # how it's  configured in the `from_pretrained` call earlier. In this case, \n",
        "        # becase we set `output_hidden_states = True`, the third item will be the \n",
        "        # hidden states from all layers. See the documentation for more details:\n",
        "        # https://huggingface.co/transformers/model_doc/bert.html#bertmodel\n",
        "        hidden_states = outputs[2]\n",
        "\n",
        "    # `hidden_states` has shape [13 x 1 x <sentence length> x 768]\n",
        "\n",
        "    # Select the embeddings from the second to last layer.\n",
        "    # `token_vecs` is a tensor with shape [<sent length> x 768]\n",
        "    token_vecs = hidden_states[-2][0]\n",
        "\n",
        "    # Calculate the average of all token vectors.\n",
        "    sentence_embedding = torch.mean(token_vecs, dim=0)\n",
        "\n",
        "    # Convert to numpy array.\n",
        "    sentence_embedding = sentence_embedding.detach().numpy()\n",
        "\n",
        "    # If `word` was provided, compute an embedding for those tokens.\n",
        "    if not word == '':\n",
        "        # Take the average of the embeddings for the tokens in `word`.\n",
        "        word_embedding = torch.mean(token_vecs[word_indeces], dim=0)\n",
        "\n",
        "        # Convert to numpy array.\n",
        "        word_embedding = word_embedding.detach().numpy()\n",
        "    \n",
        "        return (sentence_embedding, word_embedding)\n",
        "    else:\n",
        "        return sentence_embedding\n"
      ],
      "execution_count": null,
      "outputs": []
    },
    {
      "cell_type": "markdown",
      "metadata": {
        "id": "6FyjdEFRwUty"
      },
      "source": [
        "Retrieve the models and tokenizers for both BERT and SciBERT"
      ]
    },
    {
      "cell_type": "code",
      "metadata": {
        "id": "omt9VRwYoJSB",
        "colab": {
          "base_uri": "https://localhost:8080/",
          "height": 1000
        },
        "outputId": "8b7a0b87-c5a9-4306-b135-9a573526d08c"
      },
      "source": [
        "from transformers import BertModel, BertTokenizer\n",
        "\n",
        "# Retrieve SciBERT.\n",
        "scibert_model = BertModel.from_pretrained(\"allenai/scibert_scivocab_uncased\",\n",
        "                                  output_hidden_states=True)\n",
        "scibert_tokenizer = BertTokenizer.from_pretrained(\"allenai/scibert_scivocab_uncased\")\n",
        "\n",
        "scibert_model.eval()\n",
        "\n",
        "# Retrieve generic BERT.\n",
        "bert_model = BertModel.from_pretrained('bert-base-uncased',\n",
        "                                  output_hidden_states = True) \n",
        "bert_tokenizer = BertTokenizer.from_pretrained('bert-base-uncased')\n",
        "\n",
        "bert_model.eval()"
      ],
      "execution_count": null,
      "outputs": [
        {
          "output_type": "execute_result",
          "data": {
            "text/plain": [
              "BertModel(\n",
              "  (embeddings): BertEmbeddings(\n",
              "    (word_embeddings): Embedding(30522, 768, padding_idx=0)\n",
              "    (position_embeddings): Embedding(512, 768)\n",
              "    (token_type_embeddings): Embedding(2, 768)\n",
              "    (LayerNorm): LayerNorm((768,), eps=1e-12, elementwise_affine=True)\n",
              "    (dropout): Dropout(p=0.1, inplace=False)\n",
              "  )\n",
              "  (encoder): BertEncoder(\n",
              "    (layer): ModuleList(\n",
              "      (0): BertLayer(\n",
              "        (attention): BertAttention(\n",
              "          (self): BertSelfAttention(\n",
              "            (query): Linear(in_features=768, out_features=768, bias=True)\n",
              "            (key): Linear(in_features=768, out_features=768, bias=True)\n",
              "            (value): Linear(in_features=768, out_features=768, bias=True)\n",
              "            (dropout): Dropout(p=0.1, inplace=False)\n",
              "          )\n",
              "          (output): BertSelfOutput(\n",
              "            (dense): Linear(in_features=768, out_features=768, bias=True)\n",
              "            (LayerNorm): LayerNorm((768,), eps=1e-12, elementwise_affine=True)\n",
              "            (dropout): Dropout(p=0.1, inplace=False)\n",
              "          )\n",
              "        )\n",
              "        (intermediate): BertIntermediate(\n",
              "          (dense): Linear(in_features=768, out_features=3072, bias=True)\n",
              "        )\n",
              "        (output): BertOutput(\n",
              "          (dense): Linear(in_features=3072, out_features=768, bias=True)\n",
              "          (LayerNorm): LayerNorm((768,), eps=1e-12, elementwise_affine=True)\n",
              "          (dropout): Dropout(p=0.1, inplace=False)\n",
              "        )\n",
              "      )\n",
              "      (1): BertLayer(\n",
              "        (attention): BertAttention(\n",
              "          (self): BertSelfAttention(\n",
              "            (query): Linear(in_features=768, out_features=768, bias=True)\n",
              "            (key): Linear(in_features=768, out_features=768, bias=True)\n",
              "            (value): Linear(in_features=768, out_features=768, bias=True)\n",
              "            (dropout): Dropout(p=0.1, inplace=False)\n",
              "          )\n",
              "          (output): BertSelfOutput(\n",
              "            (dense): Linear(in_features=768, out_features=768, bias=True)\n",
              "            (LayerNorm): LayerNorm((768,), eps=1e-12, elementwise_affine=True)\n",
              "            (dropout): Dropout(p=0.1, inplace=False)\n",
              "          )\n",
              "        )\n",
              "        (intermediate): BertIntermediate(\n",
              "          (dense): Linear(in_features=768, out_features=3072, bias=True)\n",
              "        )\n",
              "        (output): BertOutput(\n",
              "          (dense): Linear(in_features=3072, out_features=768, bias=True)\n",
              "          (LayerNorm): LayerNorm((768,), eps=1e-12, elementwise_affine=True)\n",
              "          (dropout): Dropout(p=0.1, inplace=False)\n",
              "        )\n",
              "      )\n",
              "      (2): BertLayer(\n",
              "        (attention): BertAttention(\n",
              "          (self): BertSelfAttention(\n",
              "            (query): Linear(in_features=768, out_features=768, bias=True)\n",
              "            (key): Linear(in_features=768, out_features=768, bias=True)\n",
              "            (value): Linear(in_features=768, out_features=768, bias=True)\n",
              "            (dropout): Dropout(p=0.1, inplace=False)\n",
              "          )\n",
              "          (output): BertSelfOutput(\n",
              "            (dense): Linear(in_features=768, out_features=768, bias=True)\n",
              "            (LayerNorm): LayerNorm((768,), eps=1e-12, elementwise_affine=True)\n",
              "            (dropout): Dropout(p=0.1, inplace=False)\n",
              "          )\n",
              "        )\n",
              "        (intermediate): BertIntermediate(\n",
              "          (dense): Linear(in_features=768, out_features=3072, bias=True)\n",
              "        )\n",
              "        (output): BertOutput(\n",
              "          (dense): Linear(in_features=3072, out_features=768, bias=True)\n",
              "          (LayerNorm): LayerNorm((768,), eps=1e-12, elementwise_affine=True)\n",
              "          (dropout): Dropout(p=0.1, inplace=False)\n",
              "        )\n",
              "      )\n",
              "      (3): BertLayer(\n",
              "        (attention): BertAttention(\n",
              "          (self): BertSelfAttention(\n",
              "            (query): Linear(in_features=768, out_features=768, bias=True)\n",
              "            (key): Linear(in_features=768, out_features=768, bias=True)\n",
              "            (value): Linear(in_features=768, out_features=768, bias=True)\n",
              "            (dropout): Dropout(p=0.1, inplace=False)\n",
              "          )\n",
              "          (output): BertSelfOutput(\n",
              "            (dense): Linear(in_features=768, out_features=768, bias=True)\n",
              "            (LayerNorm): LayerNorm((768,), eps=1e-12, elementwise_affine=True)\n",
              "            (dropout): Dropout(p=0.1, inplace=False)\n",
              "          )\n",
              "        )\n",
              "        (intermediate): BertIntermediate(\n",
              "          (dense): Linear(in_features=768, out_features=3072, bias=True)\n",
              "        )\n",
              "        (output): BertOutput(\n",
              "          (dense): Linear(in_features=3072, out_features=768, bias=True)\n",
              "          (LayerNorm): LayerNorm((768,), eps=1e-12, elementwise_affine=True)\n",
              "          (dropout): Dropout(p=0.1, inplace=False)\n",
              "        )\n",
              "      )\n",
              "      (4): BertLayer(\n",
              "        (attention): BertAttention(\n",
              "          (self): BertSelfAttention(\n",
              "            (query): Linear(in_features=768, out_features=768, bias=True)\n",
              "            (key): Linear(in_features=768, out_features=768, bias=True)\n",
              "            (value): Linear(in_features=768, out_features=768, bias=True)\n",
              "            (dropout): Dropout(p=0.1, inplace=False)\n",
              "          )\n",
              "          (output): BertSelfOutput(\n",
              "            (dense): Linear(in_features=768, out_features=768, bias=True)\n",
              "            (LayerNorm): LayerNorm((768,), eps=1e-12, elementwise_affine=True)\n",
              "            (dropout): Dropout(p=0.1, inplace=False)\n",
              "          )\n",
              "        )\n",
              "        (intermediate): BertIntermediate(\n",
              "          (dense): Linear(in_features=768, out_features=3072, bias=True)\n",
              "        )\n",
              "        (output): BertOutput(\n",
              "          (dense): Linear(in_features=3072, out_features=768, bias=True)\n",
              "          (LayerNorm): LayerNorm((768,), eps=1e-12, elementwise_affine=True)\n",
              "          (dropout): Dropout(p=0.1, inplace=False)\n",
              "        )\n",
              "      )\n",
              "      (5): BertLayer(\n",
              "        (attention): BertAttention(\n",
              "          (self): BertSelfAttention(\n",
              "            (query): Linear(in_features=768, out_features=768, bias=True)\n",
              "            (key): Linear(in_features=768, out_features=768, bias=True)\n",
              "            (value): Linear(in_features=768, out_features=768, bias=True)\n",
              "            (dropout): Dropout(p=0.1, inplace=False)\n",
              "          )\n",
              "          (output): BertSelfOutput(\n",
              "            (dense): Linear(in_features=768, out_features=768, bias=True)\n",
              "            (LayerNorm): LayerNorm((768,), eps=1e-12, elementwise_affine=True)\n",
              "            (dropout): Dropout(p=0.1, inplace=False)\n",
              "          )\n",
              "        )\n",
              "        (intermediate): BertIntermediate(\n",
              "          (dense): Linear(in_features=768, out_features=3072, bias=True)\n",
              "        )\n",
              "        (output): BertOutput(\n",
              "          (dense): Linear(in_features=3072, out_features=768, bias=True)\n",
              "          (LayerNorm): LayerNorm((768,), eps=1e-12, elementwise_affine=True)\n",
              "          (dropout): Dropout(p=0.1, inplace=False)\n",
              "        )\n",
              "      )\n",
              "      (6): BertLayer(\n",
              "        (attention): BertAttention(\n",
              "          (self): BertSelfAttention(\n",
              "            (query): Linear(in_features=768, out_features=768, bias=True)\n",
              "            (key): Linear(in_features=768, out_features=768, bias=True)\n",
              "            (value): Linear(in_features=768, out_features=768, bias=True)\n",
              "            (dropout): Dropout(p=0.1, inplace=False)\n",
              "          )\n",
              "          (output): BertSelfOutput(\n",
              "            (dense): Linear(in_features=768, out_features=768, bias=True)\n",
              "            (LayerNorm): LayerNorm((768,), eps=1e-12, elementwise_affine=True)\n",
              "            (dropout): Dropout(p=0.1, inplace=False)\n",
              "          )\n",
              "        )\n",
              "        (intermediate): BertIntermediate(\n",
              "          (dense): Linear(in_features=768, out_features=3072, bias=True)\n",
              "        )\n",
              "        (output): BertOutput(\n",
              "          (dense): Linear(in_features=3072, out_features=768, bias=True)\n",
              "          (LayerNorm): LayerNorm((768,), eps=1e-12, elementwise_affine=True)\n",
              "          (dropout): Dropout(p=0.1, inplace=False)\n",
              "        )\n",
              "      )\n",
              "      (7): BertLayer(\n",
              "        (attention): BertAttention(\n",
              "          (self): BertSelfAttention(\n",
              "            (query): Linear(in_features=768, out_features=768, bias=True)\n",
              "            (key): Linear(in_features=768, out_features=768, bias=True)\n",
              "            (value): Linear(in_features=768, out_features=768, bias=True)\n",
              "            (dropout): Dropout(p=0.1, inplace=False)\n",
              "          )\n",
              "          (output): BertSelfOutput(\n",
              "            (dense): Linear(in_features=768, out_features=768, bias=True)\n",
              "            (LayerNorm): LayerNorm((768,), eps=1e-12, elementwise_affine=True)\n",
              "            (dropout): Dropout(p=0.1, inplace=False)\n",
              "          )\n",
              "        )\n",
              "        (intermediate): BertIntermediate(\n",
              "          (dense): Linear(in_features=768, out_features=3072, bias=True)\n",
              "        )\n",
              "        (output): BertOutput(\n",
              "          (dense): Linear(in_features=3072, out_features=768, bias=True)\n",
              "          (LayerNorm): LayerNorm((768,), eps=1e-12, elementwise_affine=True)\n",
              "          (dropout): Dropout(p=0.1, inplace=False)\n",
              "        )\n",
              "      )\n",
              "      (8): BertLayer(\n",
              "        (attention): BertAttention(\n",
              "          (self): BertSelfAttention(\n",
              "            (query): Linear(in_features=768, out_features=768, bias=True)\n",
              "            (key): Linear(in_features=768, out_features=768, bias=True)\n",
              "            (value): Linear(in_features=768, out_features=768, bias=True)\n",
              "            (dropout): Dropout(p=0.1, inplace=False)\n",
              "          )\n",
              "          (output): BertSelfOutput(\n",
              "            (dense): Linear(in_features=768, out_features=768, bias=True)\n",
              "            (LayerNorm): LayerNorm((768,), eps=1e-12, elementwise_affine=True)\n",
              "            (dropout): Dropout(p=0.1, inplace=False)\n",
              "          )\n",
              "        )\n",
              "        (intermediate): BertIntermediate(\n",
              "          (dense): Linear(in_features=768, out_features=3072, bias=True)\n",
              "        )\n",
              "        (output): BertOutput(\n",
              "          (dense): Linear(in_features=3072, out_features=768, bias=True)\n",
              "          (LayerNorm): LayerNorm((768,), eps=1e-12, elementwise_affine=True)\n",
              "          (dropout): Dropout(p=0.1, inplace=False)\n",
              "        )\n",
              "      )\n",
              "      (9): BertLayer(\n",
              "        (attention): BertAttention(\n",
              "          (self): BertSelfAttention(\n",
              "            (query): Linear(in_features=768, out_features=768, bias=True)\n",
              "            (key): Linear(in_features=768, out_features=768, bias=True)\n",
              "            (value): Linear(in_features=768, out_features=768, bias=True)\n",
              "            (dropout): Dropout(p=0.1, inplace=False)\n",
              "          )\n",
              "          (output): BertSelfOutput(\n",
              "            (dense): Linear(in_features=768, out_features=768, bias=True)\n",
              "            (LayerNorm): LayerNorm((768,), eps=1e-12, elementwise_affine=True)\n",
              "            (dropout): Dropout(p=0.1, inplace=False)\n",
              "          )\n",
              "        )\n",
              "        (intermediate): BertIntermediate(\n",
              "          (dense): Linear(in_features=768, out_features=3072, bias=True)\n",
              "        )\n",
              "        (output): BertOutput(\n",
              "          (dense): Linear(in_features=3072, out_features=768, bias=True)\n",
              "          (LayerNorm): LayerNorm((768,), eps=1e-12, elementwise_affine=True)\n",
              "          (dropout): Dropout(p=0.1, inplace=False)\n",
              "        )\n",
              "      )\n",
              "      (10): BertLayer(\n",
              "        (attention): BertAttention(\n",
              "          (self): BertSelfAttention(\n",
              "            (query): Linear(in_features=768, out_features=768, bias=True)\n",
              "            (key): Linear(in_features=768, out_features=768, bias=True)\n",
              "            (value): Linear(in_features=768, out_features=768, bias=True)\n",
              "            (dropout): Dropout(p=0.1, inplace=False)\n",
              "          )\n",
              "          (output): BertSelfOutput(\n",
              "            (dense): Linear(in_features=768, out_features=768, bias=True)\n",
              "            (LayerNorm): LayerNorm((768,), eps=1e-12, elementwise_affine=True)\n",
              "            (dropout): Dropout(p=0.1, inplace=False)\n",
              "          )\n",
              "        )\n",
              "        (intermediate): BertIntermediate(\n",
              "          (dense): Linear(in_features=768, out_features=3072, bias=True)\n",
              "        )\n",
              "        (output): BertOutput(\n",
              "          (dense): Linear(in_features=3072, out_features=768, bias=True)\n",
              "          (LayerNorm): LayerNorm((768,), eps=1e-12, elementwise_affine=True)\n",
              "          (dropout): Dropout(p=0.1, inplace=False)\n",
              "        )\n",
              "      )\n",
              "      (11): BertLayer(\n",
              "        (attention): BertAttention(\n",
              "          (self): BertSelfAttention(\n",
              "            (query): Linear(in_features=768, out_features=768, bias=True)\n",
              "            (key): Linear(in_features=768, out_features=768, bias=True)\n",
              "            (value): Linear(in_features=768, out_features=768, bias=True)\n",
              "            (dropout): Dropout(p=0.1, inplace=False)\n",
              "          )\n",
              "          (output): BertSelfOutput(\n",
              "            (dense): Linear(in_features=768, out_features=768, bias=True)\n",
              "            (LayerNorm): LayerNorm((768,), eps=1e-12, elementwise_affine=True)\n",
              "            (dropout): Dropout(p=0.1, inplace=False)\n",
              "          )\n",
              "        )\n",
              "        (intermediate): BertIntermediate(\n",
              "          (dense): Linear(in_features=768, out_features=3072, bias=True)\n",
              "        )\n",
              "        (output): BertOutput(\n",
              "          (dense): Linear(in_features=3072, out_features=768, bias=True)\n",
              "          (LayerNorm): LayerNorm((768,), eps=1e-12, elementwise_affine=True)\n",
              "          (dropout): Dropout(p=0.1, inplace=False)\n",
              "        )\n",
              "      )\n",
              "    )\n",
              "  )\n",
              "  (pooler): BertPooler(\n",
              "    (dense): Linear(in_features=768, out_features=768, bias=True)\n",
              "    (activation): Tanh()\n",
              "  )\n",
              ")"
            ]
          },
          "metadata": {
            "tags": []
          },
          "execution_count": 42
        }
      ]
    },
    {
      "cell_type": "markdown",
      "metadata": {
        "id": "GP_Uv1i8w9FV"
      },
      "source": [
        "Test out the function."
      ]
    },
    {
      "cell_type": "code",
      "metadata": {
        "id": "PGoJ15Mmik_F",
        "colab": {
          "base_uri": "https://localhost:8080/",
          "height": 72
        },
        "outputId": "96d32361-dbc6-4a7c-ad09-df405349f503"
      },
      "source": [
        "text = \"hydrogels are hydrophilic polymer networks which may absorb from 10–20% (an arbitrary lower limit) up to thousands of times their dry weight in water.\"\n",
        "word = 'hydrogels'\n",
        "\n",
        "# Get the embedding for the sentence, as well as an embedding for 'hydrogels'.\n",
        "(sen_emb, word_emb) = get_embedding(scibert_model, scibert_tokenizer, text, word)\n",
        "\n",
        "print('Embedding sizes:')\n",
        "print(sen_emb.shape)\n",
        "print(word_emb.shape)"
      ],
      "execution_count": null,
      "outputs": [
        {
          "output_type": "stream",
          "text": [
            "Embedding sizes:\n",
            "(768,)\n",
            "(768,)\n"
          ],
          "name": "stdout"
        }
      ]
    },
    {
      "cell_type": "markdown",
      "metadata": {
        "id": "6MensSbiw4nn"
      },
      "source": [
        "Here's the code for calculating cosine similarity. We'll test it by comparing the word embedding with the sentence embedding--not a very interesting comparison, but a good sanity check."
      ]
    },
    {
      "cell_type": "code",
      "metadata": {
        "id": "nPNIJ8vRw4-K",
        "colab": {
          "base_uri": "https://localhost:8080/",
          "height": 35
        },
        "outputId": "4d9e297c-efa8-43bd-b77f-932e09fac547"
      },
      "source": [
        "from scipy.spatial.distance import cosine\n",
        "\n",
        "# Calculate the cosine similarity of the two embeddings.\n",
        "sim = 1 - cosine(sen_emb, word_emb)\n",
        "\n",
        "print('Cosine similarity: {:.2}'.format(sim))"
      ],
      "execution_count": null,
      "outputs": [
        {
          "output_type": "stream",
          "text": [
            "Cosine similarity: 0.86\n"
          ],
          "name": "stdout"
        }
      ]
    },
    {
      "cell_type": "markdown",
      "metadata": {
        "id": "mYGiIc6DPEJL"
      },
      "source": [
        "#### Sentence Comparison Examples"
      ]
    },
    {
      "cell_type": "markdown",
      "metadata": {
        "id": "yyF4JRmjtRlO"
      },
      "source": [
        "In this example, `query` and `A` are about biomedical \"hydrogels\", and `B` is from astrophysics.\n",
        "\n",
        "Both models make the correct distinction, but generic BERT seems to be better..."
      ]
    },
    {
      "cell_type": "code",
      "metadata": {
        "id": "SoV1kYclsvUf",
        "colab": {
          "base_uri": "https://localhost:8080/",
          "height": 181
        },
        "outputId": "a2679482-4018-41fe-9bff-5fc74218531e"
      },
      "source": [
        "# Three sentences; query is more similar to A than B.\n",
        "text_query = \"Chemical hydrogels are commonly prepared in two different ways: ‘three-dimensional polymerization’ (Fig. 1), in which a hydrophilic monomer is polymerized in the presence of a polyfunctional cross-linking agent, or by direct cross-linking of water-soluble polymers (Fig. 2).\"\n",
        "text_A = \"Hydrogels can be obtained by radiation technique in a few ways, including irradiation of solid polymer, monomer (in bulk or in solution), or aqueous solution of polymer.\"\n",
        "text_B = \"The observed cosmic shear auto-power spectrum receives an additional contribution due to shape noise from intrinsic galaxy ellipticities.\"\n",
        "\n",
        "# Get embeddings for each.\n",
        "emb_query = get_embedding(scibert_model, scibert_tokenizer, text_query)\n",
        "emb_A = get_embedding(scibert_model, scibert_tokenizer, text_A)\n",
        "emb_B = get_embedding(scibert_model, scibert_tokenizer, text_B)\n",
        "\n",
        "# Compare query to A and B with cosine similarity.\n",
        "sim_query_A = 1 - cosine(emb_query, emb_A)\n",
        "sim_query_B = 1 - cosine(emb_query, emb_B)\n",
        "\n",
        "print(\"'query' should be more similar to 'A' than to 'B'...\\n\")\n",
        "\n",
        "print('SciBERT:')\n",
        "print('  sim(query, A): {:.2}'.format(sim_query_A))\n",
        "print('  sim(query, B): {:.2}'.format(sim_query_B))\n",
        "\n",
        "# Repeat with BERT.\n",
        "emb_query = get_embedding(bert_model, bert_tokenizer, text_query)\n",
        "emb_A = get_embedding(bert_model, bert_tokenizer, text_A)\n",
        "emb_B = get_embedding(bert_model, bert_tokenizer, text_B)\n",
        "\n",
        "# Compare query to A and B with cosine similarity.\n",
        "sim_query_A = 1 - cosine(emb_query, emb_A)\n",
        "sim_query_B = 1 - cosine(emb_query, emb_B)\n",
        "\n",
        "print('')\n",
        "print('BERT:')\n",
        "print('  sim(query, A): {:.2}'.format(sim_query_A))\n",
        "print('  sim(query, B): {:.2}'.format(sim_query_B))\n"
      ],
      "execution_count": null,
      "outputs": [
        {
          "output_type": "stream",
          "text": [
            "'query' should be more similar to 'A' than to 'B'...\n",
            "\n",
            "SciBERT:\n",
            "  sim(query, A): 0.96\n",
            "  sim(query, B): 0.89\n",
            "\n",
            "BERT:\n",
            "  sim(query, A): 0.92\n",
            "  sim(query, B): 0.65\n"
          ],
          "name": "stdout"
        }
      ]
    },
    {
      "cell_type": "markdown",
      "metadata": {
        "id": "WtnsgeBpuOMx"
      },
      "source": [
        "In this example, `query` and `A` are both about mitochondria, while `B` is about ribosomes. \n",
        "\n",
        "Neither model seems to recognize the distinction!\n",
        "\n"
      ]
    },
    {
      "cell_type": "code",
      "metadata": {
        "id": "VbD4lvuBO4B9",
        "colab": {
          "base_uri": "https://localhost:8080/",
          "height": 181
        },
        "outputId": "df558be7-1ec2-4438-8c0e-466483ea81cf"
      },
      "source": [
        "# Three sentences; query is more similar to A than B.\n",
        "text_query = \"Mitochondria (mitochondrion, singular) are membrane-bound cell organelles.\"\n",
        "text_A = \"These powerhouses of the cell produce adenosine triphosphate (ATP).\" \n",
        "text_B = \"Ribosomes contain RNA and are responsible for synthesizing the proteins needed for many cellular functions.\"\n",
        "#text_B = \"Molecular biology deals with the structure and function of the macromolecules (e.g. proteins and nucleic acids) essential to life.\" \n",
        "\n",
        "# Get embeddings for each.\n",
        "emb_query = get_embedding(scibert_model, scibert_tokenizer, text_query)\n",
        "emb_A = get_embedding(scibert_model, scibert_tokenizer, text_A)\n",
        "emb_B = get_embedding(scibert_model, scibert_tokenizer, text_B)\n",
        "\n",
        "# Compare query to A and B with cosine similarity.\n",
        "sim_query_A = 1 - cosine(emb_query, emb_A)\n",
        "sim_query_B = 1 - cosine(emb_query, emb_B)\n",
        "\n",
        "print(\"'query' should be more similar to 'A' than to 'B'...\\n\")\n",
        "\n",
        "print('SciBERT:')\n",
        "print('  sim(query, A): {:.2}'.format(sim_query_A))\n",
        "print('  sim(query, B): {:.2}'.format(sim_query_B))\n",
        "\n",
        "# Repeat with BERT.\n",
        "emb_query = get_embedding(bert_model, bert_tokenizer, text_query)\n",
        "emb_A = get_embedding(bert_model, bert_tokenizer, text_A)\n",
        "emb_B = get_embedding(bert_model, bert_tokenizer, text_B)\n",
        "\n",
        "# Compare query to A and B with cosine similarity.\n",
        "sim_query_A = 1 - cosine(emb_query, emb_A)\n",
        "sim_query_B = 1 - cosine(emb_query, emb_B)\n",
        "\n",
        "print('')\n",
        "print('BERT:')\n",
        "print('  sim(query, A): {:.2}'.format(sim_query_A))\n",
        "print('  sim(query, B): {:.2}'.format(sim_query_B))\n"
      ],
      "execution_count": null,
      "outputs": [
        {
          "output_type": "stream",
          "text": [
            "'query' should be more similar to 'A' than to 'B'...\n",
            "\n",
            "SciBERT:\n",
            "  sim(query, A): 0.92\n",
            "  sim(query, B): 0.92\n",
            "\n",
            "BERT:\n",
            "  sim(query, A): 0.77\n",
            "  sim(query, B): 0.78\n"
          ],
          "name": "stdout"
        }
      ]
    },
    {
      "cell_type": "markdown",
      "metadata": {
        "id": "WOmJjM5KyxsZ"
      },
      "source": [
        "#### Word Comparison Examples\n"
      ]
    },
    {
      "cell_type": "markdown",
      "metadata": {
        "id": "TwVtyfuR7xoF"
      },
      "source": [
        "\n",
        "We also payed with comparing words that have both scientific and non-scientific meaning. For example, the word \"cell\" can refer to biological cells, but it can also refer (perhaps more commonly) to prison cells, cells in Colab notebooks, cellphones, etc.\n",
        "\n",
        "In this example we'll use the word \"cell\" in a sentence with two other words that evoke its scientific and non-scientific usage: \"animal\" and \"prison.\" \n",
        "\n",
        "> \"The man in prison watched the animal from his cell.\"\n",
        "\n",
        "Both BERT and SciBERT output \"contextualized\" embeddings, meaning that the representation of each word in a sentence will change depending on the words that occur around it.\n",
        "\n",
        "In our example sentence, it's clear from the context that \"cell\" refers to *prison cell*, but we theorized that SciBERT would be more biased towards the biological interpretation of the word. The result below seems to confirm this."
      ]
    },
    {
      "cell_type": "code",
      "metadata": {
        "id": "BpUdEK5k8xx_",
        "colab": {
          "base_uri": "https://localhost:8080/",
          "height": 181
        },
        "outputId": "d29235f5-bd16-42b1-bf7d-45ecb5b78ea3"
      },
      "source": [
        "text = \"The man in prison watched the animal from his cell.\"\n",
        "\n",
        "print('\"' + text + '\"\\n')\n",
        "\n",
        "# ======== SciBERT ========\n",
        "\n",
        "# Get contextualized embeddings for \"prison\", \"animal\", and \"cell\"\n",
        "(emb_sen, emb_cell) = get_embedding(scibert_model, scibert_tokenizer, text, word=\"cell\")\n",
        "(emb_sen, emb_prison) = get_embedding(scibert_model, scibert_tokenizer, text, word=\"prison\")\n",
        "(emb_sen, emb_animal) = get_embedding(scibert_model, scibert_tokenizer, text, word=\"animal\")\n",
        "\n",
        "# Compare the embeddings\n",
        "print('SciBERT:')\n",
        "print('  sim(cell, animal): {:.2}'.format((1 - cosine(emb_cell, emb_animal))))\n",
        "print('  sim(cell, prison): {:.2}'.format(1 - cosine(emb_cell, emb_prison)))\n",
        "\n",
        "print('')\n",
        "\n",
        "# ======== BERT ========\n",
        "\n",
        "# Get contextualized embeddings for \"prison\", \"animal\", and \"cell\"\n",
        "(emb_sen, emb_cell) = get_embedding(bert_model, bert_tokenizer, text, word=\"cell\")\n",
        "(emb_sen, emb_prison) = get_embedding(bert_model, bert_tokenizer, text, word=\"prison\")\n",
        "(emb_sen, emb_animal) = get_embedding(bert_model, bert_tokenizer, text, word=\"animal\")\n",
        "\n",
        "# Compare the embeddings\n",
        "print('BERT:')\n",
        "print('  sim(cell, animal): {:.2}'.format((1 - cosine(emb_cell, emb_animal))))\n",
        "print('  sim(cell, prison): {:.2}'.format(1 - cosine(emb_cell, emb_prison)))\n"
      ],
      "execution_count": null,
      "outputs": [
        {
          "output_type": "stream",
          "text": [
            "\"The man in prison watched the animal from his cell.\"\n",
            "\n",
            "SciBERT:\n",
            "  sim(cell, animal): 0.81\n",
            "  sim(cell, prison): 0.73\n",
            "\n",
            "BERT:\n",
            "  sim(cell, animal): 0.4\n",
            "  sim(cell, prison): 0.8\n"
          ],
          "name": "stdout"
        }
      ]
    },
    {
      "cell_type": "markdown",
      "metadata": {
        "id": "FYq0v6O3-tVG"
      },
      "source": [
        "Let us know if you find some more interesting examples to try!"
      ]
    },
    {
      "cell_type": "markdown",
      "metadata": {
        "id": "-B36npqKZkph"
      },
      "source": [
        "# Appendix: BioBERT vs. SciBERT"
      ]
    },
    {
      "cell_type": "markdown",
      "metadata": {
        "id": "J51vlJa9Zm_c"
      },
      "source": [
        "I don't have much insight into the merits of BioBERT versus SciBERT, but I thought I would at least share what I do know.\n",
        "\n",
        "**Publish Dates & Authors**\n",
        "\n",
        "* *BioBERT*\n",
        "    * First submitted to arXiv: `Jan 25th, 2019`\n",
        "        * [link](https://arxiv.org/abs/1901.08746)\n",
        "    * First Author: Jinhyuk Lee\n",
        "    * Organization: Korea University, Clova AI (also Korean)\n",
        "\n",
        "* *SciBERT*\n",
        "   * First submitted to arXiv: `Mar 26, 2019`\n",
        "       * [arXiv](https://arxiv.org/abs/1903.10676), [pdf](https://arxiv.org/pdf/1903.10676.pdf)\n",
        "    * First Author: Iz Beltagy\n",
        "    * Organization: Allen AI\n",
        "\n",
        "**Differences**\n",
        "\n",
        "* BioBERT used the same tokens as the original BERT, rather than choosing a new vocabulary of tokens based on their corpus. Their justification was \"to maintain compatibility\", which I don't entirely understand.\n",
        "* SciBERT learned a new vocabulary of tokens, but they also found that this detail is less important--it's training on the specialized corpus that really makes the difference.\n",
        "* SciBERT is more recent, and outperforms BioBERT on many, but not all, scientific NLP benchmarks.\n",
        "* The difference in naming seems unfortunate--SciBERT is also trained primarily on biomedical research papers, but the name \"BioBERT\" was already taken, so....\n",
        "\n",
        "**huggingface transformers**\n",
        "\n",
        "* Allen AI published their SciBERT models for the transformers library, and you can see their popularity:\n",
        "    * [SciBERT uncased](https://huggingface.co/allenai/scibert_scivocab_uncased): ~16.7K downloads (from 5/22/20 - 6/22/20)\n",
        "        * `allenai/scibert_scivocab_uncased`\n",
        "    * [SciBERT cased](https://huggingface.co/allenai/scibert_scivocab_cased ): ~3.8k downloads (from 5/22/20 - 6/22/20)\n",
        "        * `allenai/scibert_scivocab_cased`\n",
        "* The BioBERT team has published their models, but not for the `transformers` library, as far as I can tell. \n",
        "    * The most popular BioBERT model in the huggingface community appears to be [this one](https://huggingface.co/monologg/biobert_v1.1_pubmed): `monologg/biobert_v1.1_pubmed`, with ~8.6K downloads (from 5/22/20 - 6/22/20)\n",
        "       * You could also download BioBERT's pre-trained weights yourself from https://github.com/naver/biobert-pretrained, but I'm not sure what it would take to pull these into the `transformers` library exactly. \n",
        "\n"
      ]
    }
  ]
}
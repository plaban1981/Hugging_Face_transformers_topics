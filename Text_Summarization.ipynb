{
  "cells": [
    {
      "cell_type": "markdown",
      "metadata": {
        "id": "view-in-github",
        "colab_type": "text"
      },
      "source": [
        "<a href=\"https://colab.research.google.com/github/plaban1981/Hugging_Face_transformers_topics/blob/main/Text_Summarization.ipynb\" target=\"_parent\"><img src=\"https://colab.research.google.com/assets/colab-badge.svg\" alt=\"Open In Colab\"/></a>"
      ]
    },
    {
      "cell_type": "code",
      "execution_count": null,
      "metadata": {
        "colab": {
          "base_uri": "https://localhost:8080/"
        },
        "id": "zYTCKF94MMM7",
        "outputId": "2a935c76-7468-46de-be83-12b2d258d1d5"
      },
      "outputs": [
        {
          "name": "stdout",
          "output_type": "stream",
          "text": [
            "Looking in indexes: https://pypi.org/simple, https://us-python.pkg.dev/colab-wheels/public/simple/\n",
            "Collecting datasets\n",
            "  Downloading datasets-2.6.1-py3-none-any.whl (441 kB)\n",
            "\u001b[K     |████████████████████████████████| 441 kB 4.9 MB/s \n",
            "\u001b[?25hRequirement already satisfied: tqdm>=4.62.1 in /usr/local/lib/python3.7/dist-packages (from datasets) (4.64.1)\n",
            "Requirement already satisfied: aiohttp in /usr/local/lib/python3.7/dist-packages (from datasets) (3.8.3)\n",
            "Requirement already satisfied: numpy>=1.17 in /usr/local/lib/python3.7/dist-packages (from datasets) (1.21.6)\n",
            "Requirement already satisfied: requests>=2.19.0 in /usr/local/lib/python3.7/dist-packages (from datasets) (2.23.0)\n",
            "Requirement already satisfied: packaging in /usr/local/lib/python3.7/dist-packages (from datasets) (21.3)\n",
            "Collecting responses<0.19\n",
            "  Downloading responses-0.18.0-py3-none-any.whl (38 kB)\n",
            "Collecting xxhash\n",
            "  Downloading xxhash-3.1.0-cp37-cp37m-manylinux_2_17_x86_64.manylinux2014_x86_64.whl (212 kB)\n",
            "\u001b[K     |████████████████████████████████| 212 kB 63.6 MB/s \n",
            "\u001b[?25hRequirement already satisfied: pyyaml>=5.1 in /usr/local/lib/python3.7/dist-packages (from datasets) (6.0)\n",
            "Requirement already satisfied: importlib-metadata in /usr/local/lib/python3.7/dist-packages (from datasets) (4.13.0)\n",
            "Requirement already satisfied: pyarrow>=6.0.0 in /usr/local/lib/python3.7/dist-packages (from datasets) (6.0.1)\n",
            "Requirement already satisfied: pandas in /usr/local/lib/python3.7/dist-packages (from datasets) (1.3.5)\n",
            "Collecting huggingface-hub<1.0.0,>=0.2.0\n",
            "  Downloading huggingface_hub-0.10.1-py3-none-any.whl (163 kB)\n",
            "\u001b[K     |████████████████████████████████| 163 kB 61.4 MB/s \n",
            "\u001b[?25hCollecting multiprocess\n",
            "  Downloading multiprocess-0.70.14-py37-none-any.whl (115 kB)\n",
            "\u001b[K     |████████████████████████████████| 115 kB 62.8 MB/s \n",
            "\u001b[?25hRequirement already satisfied: fsspec[http]>=2021.11.1 in /usr/local/lib/python3.7/dist-packages (from datasets) (2022.8.2)\n",
            "Requirement already satisfied: dill<0.3.6 in /usr/local/lib/python3.7/dist-packages (from datasets) (0.3.5.1)\n",
            "Requirement already satisfied: yarl<2.0,>=1.0 in /usr/local/lib/python3.7/dist-packages (from aiohttp->datasets) (1.8.1)\n",
            "Requirement already satisfied: async-timeout<5.0,>=4.0.0a3 in /usr/local/lib/python3.7/dist-packages (from aiohttp->datasets) (4.0.2)\n",
            "Requirement already satisfied: multidict<7.0,>=4.5 in /usr/local/lib/python3.7/dist-packages (from aiohttp->datasets) (6.0.2)\n",
            "Requirement already satisfied: frozenlist>=1.1.1 in /usr/local/lib/python3.7/dist-packages (from aiohttp->datasets) (1.3.1)\n",
            "Requirement already satisfied: typing-extensions>=3.7.4 in /usr/local/lib/python3.7/dist-packages (from aiohttp->datasets) (4.1.1)\n",
            "Requirement already satisfied: attrs>=17.3.0 in /usr/local/lib/python3.7/dist-packages (from aiohttp->datasets) (22.1.0)\n",
            "Requirement already satisfied: asynctest==0.13.0 in /usr/local/lib/python3.7/dist-packages (from aiohttp->datasets) (0.13.0)\n",
            "Requirement already satisfied: charset-normalizer<3.0,>=2.0 in /usr/local/lib/python3.7/dist-packages (from aiohttp->datasets) (2.1.1)\n",
            "Requirement already satisfied: aiosignal>=1.1.2 in /usr/local/lib/python3.7/dist-packages (from aiohttp->datasets) (1.2.0)\n",
            "Requirement already satisfied: filelock in /usr/local/lib/python3.7/dist-packages (from huggingface-hub<1.0.0,>=0.2.0->datasets) (3.8.0)\n",
            "Requirement already satisfied: pyparsing!=3.0.5,>=2.0.2 in /usr/local/lib/python3.7/dist-packages (from packaging->datasets) (3.0.9)\n",
            "Requirement already satisfied: urllib3!=1.25.0,!=1.25.1,<1.26,>=1.21.1 in /usr/local/lib/python3.7/dist-packages (from requests>=2.19.0->datasets) (1.24.3)\n",
            "Requirement already satisfied: certifi>=2017.4.17 in /usr/local/lib/python3.7/dist-packages (from requests>=2.19.0->datasets) (2022.9.24)\n",
            "Requirement already satisfied: idna<3,>=2.5 in /usr/local/lib/python3.7/dist-packages (from requests>=2.19.0->datasets) (2.10)\n",
            "Requirement already satisfied: chardet<4,>=3.0.2 in /usr/local/lib/python3.7/dist-packages (from requests>=2.19.0->datasets) (3.0.4)\n",
            "Collecting urllib3!=1.25.0,!=1.25.1,<1.26,>=1.21.1\n",
            "  Downloading urllib3-1.25.11-py2.py3-none-any.whl (127 kB)\n",
            "\u001b[K     |████████████████████████████████| 127 kB 54.1 MB/s \n",
            "\u001b[?25hRequirement already satisfied: zipp>=0.5 in /usr/local/lib/python3.7/dist-packages (from importlib-metadata->datasets) (3.9.0)\n",
            "Collecting multiprocess\n",
            "  Downloading multiprocess-0.70.13-py37-none-any.whl (115 kB)\n",
            "\u001b[K     |████████████████████████████████| 115 kB 52.5 MB/s \n",
            "\u001b[?25hRequirement already satisfied: pytz>=2017.3 in /usr/local/lib/python3.7/dist-packages (from pandas->datasets) (2022.4)\n",
            "Requirement already satisfied: python-dateutil>=2.7.3 in /usr/local/lib/python3.7/dist-packages (from pandas->datasets) (2.8.2)\n",
            "Requirement already satisfied: six>=1.5 in /usr/local/lib/python3.7/dist-packages (from python-dateutil>=2.7.3->pandas->datasets) (1.15.0)\n",
            "Installing collected packages: urllib3, xxhash, responses, multiprocess, huggingface-hub, datasets\n",
            "  Attempting uninstall: urllib3\n",
            "    Found existing installation: urllib3 1.24.3\n",
            "    Uninstalling urllib3-1.24.3:\n",
            "      Successfully uninstalled urllib3-1.24.3\n",
            "Successfully installed datasets-2.6.1 huggingface-hub-0.10.1 multiprocess-0.70.13 responses-0.18.0 urllib3-1.25.11 xxhash-3.1.0\n"
          ]
        }
      ],
      "source": [
        "! pip install datasets"
      ]
    },
    {
      "cell_type": "code",
      "execution_count": null,
      "metadata": {
        "colab": {
          "base_uri": "https://localhost:8080/"
        },
        "id": "vfxco0ThMbsb",
        "outputId": "53780963-3e05-4533-9b3b-e7aa3bb37862"
      },
      "outputs": [
        {
          "name": "stdout",
          "output_type": "stream",
          "text": [
            "Looking in indexes: https://pypi.org/simple, https://us-python.pkg.dev/colab-wheels/public/simple/\n",
            "Collecting transformers\n",
            "  Downloading transformers-4.23.1-py3-none-any.whl (5.3 MB)\n",
            "\u001b[K     |████████████████████████████████| 5.3 MB 5.1 MB/s \n",
            "\u001b[?25hRequirement already satisfied: filelock in /usr/local/lib/python3.7/dist-packages (from transformers) (3.8.0)\n",
            "Requirement already satisfied: tqdm>=4.27 in /usr/local/lib/python3.7/dist-packages (from transformers) (4.64.1)\n",
            "Requirement already satisfied: regex!=2019.12.17 in /usr/local/lib/python3.7/dist-packages (from transformers) (2022.6.2)\n",
            "Requirement already satisfied: huggingface-hub<1.0,>=0.10.0 in /usr/local/lib/python3.7/dist-packages (from transformers) (0.10.1)\n",
            "Requirement already satisfied: requests in /usr/local/lib/python3.7/dist-packages (from transformers) (2.23.0)\n",
            "Collecting tokenizers!=0.11.3,<0.14,>=0.11.1\n",
            "  Downloading tokenizers-0.13.1-cp37-cp37m-manylinux_2_17_x86_64.manylinux2014_x86_64.whl (7.6 MB)\n",
            "\u001b[K     |████████████████████████████████| 7.6 MB 43.7 MB/s \n",
            "\u001b[?25hRequirement already satisfied: importlib-metadata in /usr/local/lib/python3.7/dist-packages (from transformers) (4.13.0)\n",
            "Requirement already satisfied: numpy>=1.17 in /usr/local/lib/python3.7/dist-packages (from transformers) (1.21.6)\n",
            "Requirement already satisfied: pyyaml>=5.1 in /usr/local/lib/python3.7/dist-packages (from transformers) (6.0)\n",
            "Requirement already satisfied: packaging>=20.0 in /usr/local/lib/python3.7/dist-packages (from transformers) (21.3)\n",
            "Requirement already satisfied: typing-extensions>=3.7.4.3 in /usr/local/lib/python3.7/dist-packages (from huggingface-hub<1.0,>=0.10.0->transformers) (4.1.1)\n",
            "Requirement already satisfied: pyparsing!=3.0.5,>=2.0.2 in /usr/local/lib/python3.7/dist-packages (from packaging>=20.0->transformers) (3.0.9)\n",
            "Requirement already satisfied: zipp>=0.5 in /usr/local/lib/python3.7/dist-packages (from importlib-metadata->transformers) (3.9.0)\n",
            "Requirement already satisfied: idna<3,>=2.5 in /usr/local/lib/python3.7/dist-packages (from requests->transformers) (2.10)\n",
            "Requirement already satisfied: certifi>=2017.4.17 in /usr/local/lib/python3.7/dist-packages (from requests->transformers) (2022.9.24)\n",
            "Requirement already satisfied: chardet<4,>=3.0.2 in /usr/local/lib/python3.7/dist-packages (from requests->transformers) (3.0.4)\n",
            "Requirement already satisfied: urllib3!=1.25.0,!=1.25.1,<1.26,>=1.21.1 in /usr/local/lib/python3.7/dist-packages (from requests->transformers) (1.25.11)\n",
            "Installing collected packages: tokenizers, transformers\n",
            "Successfully installed tokenizers-0.13.1 transformers-4.23.1\n"
          ]
        }
      ],
      "source": [
        "!pip install transformers"
      ]
    },
    {
      "cell_type": "markdown",
      "metadata": {
        "id": "eBHIVyqrRud1"
      },
      "source": [
        "## The CNN/DailyMail Dataset"
      ]
    },
    {
      "cell_type": "code",
      "execution_count": 2,
      "metadata": {
        "colab": {
          "base_uri": "https://localhost:8080/",
          "height": 104,
          "referenced_widgets": [
            "8e4e40eb34994102ad6a924ed1c1e9f8",
            "6aa9cc13eef84d298839b428a583bba7",
            "6df20bde32ce481185a3275bb1ec0eb1",
            "a3093a13385d4af596bede6d56db9f9e",
            "ebce74821d6241de8a7ad9f68eb006f1",
            "6459c68414d54ca5ab17b98e274e0ab1",
            "57ced218772a46ec832ae94961ce231b",
            "da3615939fb94fe392f97861f41db96d",
            "828848b3713145e887c4f1fcebe54676",
            "9e305b480a724c49bcd80adea09afb49",
            "e8ebe95b43f9434191086eba32463e5e"
          ]
        },
        "id": "K-B-p-lDNh4l",
        "outputId": "ca0cd822-d12d-45c7-94b4-4aeab2d3aab6"
      },
      "outputs": [
        {
          "output_type": "stream",
          "name": "stderr",
          "text": [
            "WARNING:datasets.builder:Found cached dataset cnn_dailymail (/root/.cache/huggingface/datasets/cnn_dailymail/default/3.0.0/1b3c71476f6d152c31c1730e83ccb08bcf23e348233f4fcc11e182248e6bf7de)\n"
          ]
        },
        {
          "output_type": "display_data",
          "data": {
            "text/plain": [
              "  0%|          | 0/3 [00:00<?, ?it/s]"
            ],
            "application/vnd.jupyter.widget-view+json": {
              "version_major": 2,
              "version_minor": 0,
              "model_id": "8e4e40eb34994102ad6a924ed1c1e9f8"
            }
          },
          "metadata": {}
        },
        {
          "output_type": "stream",
          "name": "stdout",
          "text": [
            "Features: ['article', 'highlights', 'id']\n"
          ]
        }
      ],
      "source": [
        "from datasets import load_dataset\n",
        "dataset = load_dataset(\"cnn_dailymail\", version=\"3.0.0\")\n",
        "print(f\"Features: {dataset['train'].column_names}\")"
      ]
    },
    {
      "cell_type": "code",
      "execution_count": 3,
      "metadata": {
        "colab": {
          "base_uri": "https://localhost:8080/"
        },
        "id": "kCYb0V_rNk9M",
        "outputId": "c9e5a3cf-aa6e-4500-8032-ae8b4046905a"
      },
      "outputs": [
        {
          "output_type": "execute_result",
          "data": {
            "text/plain": [
              "dict_keys(['train', 'validation', 'test'])"
            ]
          },
          "metadata": {},
          "execution_count": 3
        }
      ],
      "source": [
        "dataset.keys()"
      ]
    },
    {
      "cell_type": "code",
      "execution_count": 4,
      "metadata": {
        "colab": {
          "base_uri": "https://localhost:8080/"
        },
        "id": "mU5H6xkwNntU",
        "outputId": "b7a79e7e-cbb8-473b-9884-ab973c1fcb42"
      },
      "outputs": [
        {
          "output_type": "stream",
          "name": "stdout",
          "text": [
            "Article (excerpt of 500 characters, total length: 4051):\n",
            "Editor's note: In our Behind the Scenes series, CNN correspondents share their experiences in covering news and analyze the stories behind the events. Here, Soledad O'Brien takes users inside a jail where many of the inmates are mentally ill. An inmate housed on the \"forgotten floor,\" where many mentally ill inmates are housed in Miami before trial. MIAMI, Florida (CNN) -- The ninth floor of the Miami-Dade pretrial detention facility is dubbed the \"forgotten floor.\" Here, inmates with the most s\n",
            "\n",
            "Summary (length: 281):\n",
            "Mentally ill inmates in Miami are housed on the \"forgotten floor\"\n",
            "Judge Steven Leifman says most are there as a result of \"avoidable felonies\"\n",
            "While CNN tours facility, patient shouts: \"I am the son of the president\"\n",
            "Leifman says the system is unjust and he's fighting for change .\n"
          ]
        }
      ],
      "source": [
        "sample = dataset[\"train\"][1]\n",
        "print(f\"\"\"Article (excerpt of 500 characters, total length: {len(sample[\"article\"])}):\"\"\")\n",
        "print(sample[\"article\"][:500])\n",
        "print(f'\\nSummary (length: {len(sample[\"highlights\"])}):')\n",
        "print(sample[\"highlights\"])"
      ]
    },
    {
      "cell_type": "markdown",
      "metadata": {
        "id": "o-UtF-vZZxGs"
      },
      "source": [
        "## Text Summarization Pipelines"
      ]
    },
    {
      "cell_type": "markdown",
      "metadata": {
        "id": "ls5hrf-_aC-l"
      },
      "source": [
        "Although the model architectures we will be exploring\n",
        "have varying maximum input sizes, let’s restrict the input text to **2,000**\n",
        "characters to have the same input for all models and thus make the outputs\n",
        "more comparable:"
      ]
    },
    {
      "cell_type": "code",
      "execution_count": 5,
      "metadata": {
        "id": "vjyq-lFgZyFg"
      },
      "outputs": [],
      "source": [
        "sample_text = dataset[\"train\"][1][\"article\"][:2000]\n",
        "# We'll collect the generated summaries of each model in a dictionary\n",
        "summaries = {}"
      ]
    },
    {
      "cell_type": "code",
      "execution_count": 6,
      "metadata": {
        "colab": {
          "base_uri": "https://localhost:8080/",
          "height": 123
        },
        "id": "dnCzG6-gb_KM",
        "outputId": "2f3848de-bbdb-4b83-9ae6-11f5de261712"
      },
      "outputs": [
        {
          "output_type": "execute_result",
          "data": {
            "text/plain": [
              "'Editor\\'s note: In our Behind the Scenes series, CNN correspondents share their experiences in covering news and analyze the stories behind the events. Here, Soledad O\\'Brien takes users inside a jail where many of the inmates are mentally ill. An inmate housed on the \"forgotten floor,\" where many mentally ill inmates are housed in Miami before trial. MIAMI, Florida (CNN) -- The ninth floor of the Miami-Dade pretrial detention facility is dubbed the \"forgotten floor.\" Here, inmates with the most severe mental illnesses are incarcerated until they\\'re ready to appear in court. Most often, they face drug charges or charges of assaulting an officer --charges that Judge Steven Leifman says are usually \"avoidable felonies.\" He says the arrests often result from confrontations with police. Mentally ill people often won\\'t do what they\\'re told when police arrive on the scene -- confrontation seems to exacerbate their illness and they become more paranoid, delusional, and less likely to follow directions, according to Leifman. So, they end up on the ninth floor severely mentally disturbed, but not getting any real help because they\\'re in jail. We toured the jail with Leifman. He is well known in Miami as an advocate for justice and the mentally ill. Even though we were not exactly welcomed with open arms by the guards, we were given permission to shoot videotape and tour the floor.  Go inside the \\'forgotten floor\\' » . At first, it\\'s hard to determine where the people are. The prisoners are wearing sleeveless robes. Imagine cutting holes for arms and feet in a heavy wool sleeping bag -- that\\'s kind of what they look like. They\\'re designed to keep the mentally ill patients from injuring themselves. That\\'s also why they have no shoes, laces or mattresses. Leifman says about one-third of all people in Miami-Dade county jails are mentally ill. So, he says, the sheer volume is overwhelming the system, and the result is what we see on the ninth floor. Of course, it is a jail, so it\\'s '"
            ],
            "application/vnd.google.colaboratory.intrinsic+json": {
              "type": "string"
            }
          },
          "metadata": {},
          "execution_count": 6
        }
      ],
      "source": [
        "sample_text"
      ]
    },
    {
      "cell_type": "markdown",
      "metadata": {
        "id": "4sevymq7aeUU"
      },
      "source": [
        "## Using NLTK"
      ]
    },
    {
      "cell_type": "code",
      "execution_count": 7,
      "metadata": {
        "colab": {
          "base_uri": "https://localhost:8080/"
        },
        "id": "5va3Nsp8ahdk",
        "outputId": "c40252fc-e9a2-4b8b-cf21-93831cf4ae46"
      },
      "outputs": [
        {
          "output_type": "stream",
          "name": "stderr",
          "text": [
            "[nltk_data] Downloading package punkt to /root/nltk_data...\n",
            "[nltk_data]   Package punkt is already up-to-date!\n"
          ]
        },
        {
          "output_type": "execute_result",
          "data": {
            "text/plain": [
              "['The U.S. are a country.', 'The U.N. is an organization.']"
            ]
          },
          "metadata": {},
          "execution_count": 7
        }
      ],
      "source": [
        "import nltk\n",
        "from nltk.tokenize import sent_tokenize\n",
        "nltk.download(\"punkt\")\n",
        "string = \"The U.S. are a country. The U.N. is an organization.\"\n",
        "sent_tokenize(string)"
      ]
    },
    {
      "cell_type": "markdown",
      "metadata": {
        "id": "ESq2howTbUcK"
      },
      "source": [
        "## Summarization Baseline"
      ]
    },
    {
      "cell_type": "markdown",
      "metadata": {
        "id": "AO1xhL9ebenT"
      },
      "source": [
        "A common baseline for summarizing news articles is to simply take the first\n",
        "three sentences of the article"
      ]
    },
    {
      "cell_type": "code",
      "execution_count": 8,
      "metadata": {
        "id": "xTMLUZnbbVbK"
      },
      "outputs": [],
      "source": [
        "def three_sentence_summary(text):\n",
        "  return \"\\n\".join(sent_tokenize(text)[:3])"
      ]
    },
    {
      "cell_type": "code",
      "execution_count": 9,
      "metadata": {
        "id": "p33MxlbGbmcP"
      },
      "outputs": [],
      "source": [
        "summaries[\"baseline\"] = three_sentence_summary(sample_text)"
      ]
    },
    {
      "cell_type": "code",
      "execution_count": 10,
      "metadata": {
        "colab": {
          "base_uri": "https://localhost:8080/"
        },
        "id": "wCUNTWdcb3KC",
        "outputId": "47546f74-9538-432b-8715-6412b597d46c"
      },
      "outputs": [
        {
          "output_type": "stream",
          "name": "stdout",
          "text": [
            "Editor's note: In our Behind the Scenes series, CNN correspondents share their experiences in covering news and analyze the stories behind the events.\n",
            "Here, Soledad O'Brien takes users inside a jail where many of the inmates are mentally ill. An inmate housed on the \"forgotten floor,\" where many mentally ill inmates are housed in Miami before trial.\n",
            "MIAMI, Florida (CNN) -- The ninth floor of the Miami-Dade pretrial detention facility is dubbed the \"forgotten floor.\"\n"
          ]
        }
      ],
      "source": [
        "print(summaries[\"baseline\"])"
      ]
    },
    {
      "cell_type": "code",
      "execution_count": null,
      "metadata": {
        "colab": {
          "base_uri": "https://localhost:8080/"
        },
        "id": "yhGXI6zh_W6Z",
        "outputId": "1c8d0bff-6165-4790-e3f0-85eb953961a5"
      },
      "outputs": [
        {
          "data": {
            "text/plain": [
              "{'baseline': 'Editor\\'s note: In our Behind the Scenes series, CNN correspondents share their experiences in covering news and analyze the stories behind the events.\\nHere, Soledad O\\'Brien takes users inside a jail where many of the inmates are mentally ill. An inmate housed on the \"forgotten floor,\" where many mentally ill inmates are housed in Miami before trial.\\nMIAMI, Florida (CNN) -- The ninth floor of the Miami-Dade pretrial detention facility is dubbed the \"forgotten floor.\"'}"
            ]
          },
          "execution_count": 12,
          "metadata": {},
          "output_type": "execute_result"
        }
      ],
      "source": [
        "summaries"
      ]
    },
    {
      "cell_type": "markdown",
      "metadata": {
        "id": "YilNvqCgcpov"
      },
      "source": [
        "## GPT-2"
      ]
    },
    {
      "cell_type": "markdown",
      "metadata": {
        "id": "P3hp-mh3c2NV"
      },
      "source": [
        "One of the model’s surprising features is that we can also use it to generate summaries by simply appending “TL;DR” at the end of the input\n",
        "text."
      ]
    },
    {
      "cell_type": "code",
      "execution_count": 11,
      "metadata": {
        "colab": {
          "base_uri": "https://localhost:8080/",
          "height": 104,
          "referenced_widgets": [
            "1294f1cee809420895dcebbae7a4fa0e",
            "de63805f0e7d4e079588f95403eb7019",
            "61db3ea2db854a8abe1651e041467bee",
            "3819456beedb472fa45d857fed4b6d10",
            "676a7c3c8e694be59aab51c8db0a8226",
            "a7b4b23b902a436688a2f65707fabd4e",
            "1eb95564cea04cdb9fc800b1b36b6396",
            "01e36d8f5f8842de937d4a0c4fa1c5b9",
            "045fc6100c3043febf46be2d8f117ced",
            "515c247d5d6d4270887c9b473e0d3a17",
            "70c8aa48cd4047deafe66561b9ef8588"
          ]
        },
        "id": "tlzFex2Bcrb5",
        "outputId": "371c4f27-f3ff-4239-ec3f-127a8df52caf"
      },
      "outputs": [
        {
          "output_type": "stream",
          "name": "stderr",
          "text": [
            "The cache for model files in Transformers v4.22.0 has been updated. Migrating your old cache. This is a one-time only operation. You can interrupt this and resume the migration later on by calling `transformers.utils.move_cache()`.\n"
          ]
        },
        {
          "output_type": "stream",
          "name": "stdout",
          "text": [
            "Moving 0 files to the new cache system\n"
          ]
        },
        {
          "output_type": "display_data",
          "data": {
            "text/plain": [
              "0it [00:00, ?it/s]"
            ],
            "application/vnd.jupyter.widget-view+json": {
              "version_major": 2,
              "version_minor": 0,
              "model_id": "1294f1cee809420895dcebbae7a4fa0e"
            }
          },
          "metadata": {}
        }
      ],
      "source": [
        "from transformers import pipeline, set_seed\n",
        "set_seed(42)\n",
        "pipe = pipeline(\"text-generation\", model=\"gpt2\")\n"
      ]
    },
    {
      "cell_type": "code",
      "execution_count": 12,
      "metadata": {
        "colab": {
          "base_uri": "https://localhost:8080/"
        },
        "id": "9qkk0_6Oq7Rh",
        "outputId": "d25a5d54-9975-476f-d20e-20316627a295"
      },
      "outputs": [
        {
          "output_type": "stream",
          "name": "stderr",
          "text": [
            "Setting `pad_token_id` to `eos_token_id`:50256 for open-end generation.\n"
          ]
        }
      ],
      "source": [
        "gpt2_query = sample_text + \"\\nTL;DR:\\n\"\n",
        "pipe_out = pipe(gpt2_query, max_length=512, clean_up_tokenization_spaces=True)"
      ]
    },
    {
      "cell_type": "code",
      "execution_count": 13,
      "metadata": {
        "colab": {
          "base_uri": "https://localhost:8080/"
        },
        "id": "jyiSbzdHdXGI",
        "outputId": "aec7bff5-499b-4074-b8c7-f6f481ace100"
      },
      "outputs": [
        {
          "output_type": "execute_result",
          "data": {
            "text/plain": [
              "[{'generated_text': 'Editor\\'s note: In our Behind the Scenes series, CNN correspondents share their experiences in covering news and analyze the stories behind the events. Here, Soledad O\\'Brien takes users inside a jail where many of the inmates are mentally ill. An inmate housed on the \"forgotten floor,\" where many mentally ill inmates are housed in Miami before trial. MIAMI, Florida (CNN) -- The ninth floor of the Miami-Dade pretrial detention facility is dubbed the \"forgotten floor.\" Here, inmates with the most severe mental illnesses are incarcerated until they\\'re ready to appear in court. Most often, they face drug charges or charges of assaulting an officer --charges that Judge Steven Leifman says are usually \"avoidable felonies.\" He says the arrests often result from confrontations with police. Mentally ill people often won\\'t do what they\\'re told when police arrive on the scene -- confrontation seems to exacerbate their illness and they become more paranoid, delusional, and less likely to follow directions, according to Leifman. So, they end up on the ninth floor severely mentally disturbed, but not getting any real help because they\\'re in jail. We toured the jail with Leifman. He is well known in Miami as an advocate for justice and the mentally ill. Even though we were not exactly welcomed with open arms by the guards, we were given permission to shoot videotape and tour the floor.  Go inside the \\'forgotten floor\\' » . At first, it\\'s hard to determine where the people are. The prisoners are wearing sleeveless robes. Imagine cutting holes for arms and feet in a heavy wool sleeping bag -- that\\'s kind of what they look like. They\\'re designed to keep the mentally ill patients from injuring themselves. That\\'s also why they have no shoes, laces or mattresses. Leifman says about one-third of all people in Miami-Dade county jails are mentally ill. So, he says, the sheer volume is overwhelming the system, and the result is what we see on the ninth floor. Of course, it is a jail, so it\\'s \\nTL;DR:\\n\\n-1. The 9th degree refers to a prisoner who is \"forgotten\" because of his illness\\n\\n-2. As this sentence makes no sense, it probably doesn\\'t hold much of a weight. Most inmates on the 9th cannot handle an indefinite term of imprisonment, and only about 20 to 30% are charged with a mental illness. Many are on death\\'s'}]"
            ]
          },
          "metadata": {},
          "execution_count": 13
        }
      ],
      "source": [
        "pipe_out  "
      ]
    },
    {
      "cell_type": "code",
      "execution_count": 14,
      "metadata": {
        "id": "6Ltk4LAPdTKo"
      },
      "outputs": [],
      "source": [
        "summaries[\"gpt2\"] = \"\\n\".join(sent_tokenize(pipe_out[0][\"generated_text\"][len(gpt2_query) :]))"
      ]
    },
    {
      "cell_type": "code",
      "execution_count": 15,
      "metadata": {
        "colab": {
          "base_uri": "https://localhost:8080/"
        },
        "id": "XdH07dtT_JPT",
        "outputId": "acf9438d-5ebf-4095-c0f9-59686241ac76"
      },
      "outputs": [
        {
          "output_type": "stream",
          "name": "stdout",
          "text": [
            "\n",
            "-1.\n",
            "The 9th degree refers to a prisoner who is \"forgotten\" because of his illness\n",
            "\n",
            "-2.\n",
            "As this sentence makes no sense, it probably doesn't hold much of a weight.\n",
            "Most inmates on the 9th cannot handle an indefinite term of imprisonment, and only about 20 to 30% are charged with a mental illness.\n",
            "Many are on death's\n"
          ]
        }
      ],
      "source": [
        "print(summaries[\"gpt2\"])"
      ]
    },
    {
      "cell_type": "markdown",
      "metadata": {
        "id": "R2g7FpcSV5BI"
      },
      "source": [
        "## T5"
      ]
    },
    {
      "cell_type": "code",
      "execution_count": 16,
      "metadata": {
        "colab": {
          "base_uri": "https://localhost:8080/"
        },
        "id": "nGAtVMrV_NTW",
        "outputId": "ebbe03ce-f38e-49ef-800e-87ec0c0c1b26"
      },
      "outputs": [
        {
          "output_type": "stream",
          "name": "stderr",
          "text": [
            "/usr/local/lib/python3.7/dist-packages/transformers/models/t5/tokenization_t5_fast.py:166: FutureWarning: This tokenizer was incorrectly instantiated with a model max length of 512 which will be corrected in Transformers v5.\n",
            "For now, this behavior is kept to avoid breaking backwards compatibility when padding/encoding with `truncation is True`.\n",
            "- Be aware that you SHOULD NOT rely on t5-large automatically truncating your input to 512 when padding/encoding.\n",
            "- If you want to encode/pad to sequences longer than 512 you can either instantiate this tokenizer with `model_max_length` or pass `max_length` when encoding/padding.\n",
            "- To avoid this warning, please instantiate this tokenizer with `model_max_length` set to your preferred value.\n",
            "  FutureWarning,\n"
          ]
        }
      ],
      "source": [
        "pipe = pipeline(\"summarization\", model=\"t5-large\")\n",
        "pipe_out = pipe(sample_text)\n",
        "summaries[\"t5\"] = \"\\n\".join(sent_tokenize(pipe_out[0][\"summary_text\"]))"
      ]
    },
    {
      "cell_type": "markdown",
      "source": [
        "## BART == BERT + GPT2"
      ],
      "metadata": {
        "id": "9Lf-vMxlc4eB"
      }
    },
    {
      "cell_type": "code",
      "source": [
        "pipe = pipeline(\"summarization\", model=\"facebook/bart-large-cnn\")\n",
        "pipe_out = pipe(sample_text)\n",
        "summaries[\"bart\"] = \"\\n\".join(sent_tokenize(pipe_out[0][\"summary_text\"]))"
      ],
      "metadata": {
        "id": "S9oJJ_DIdZ5A"
      },
      "execution_count": 17,
      "outputs": []
    },
    {
      "cell_type": "code",
      "source": [
        "summaries"
      ],
      "metadata": {
        "colab": {
          "base_uri": "https://localhost:8080/"
        },
        "id": "TMsHyi55eH1U",
        "outputId": "db7aa8ee-0383-4e7e-dfb3-c068aa217d7b"
      },
      "execution_count": 21,
      "outputs": [
        {
          "output_type": "execute_result",
          "data": {
            "text/plain": [
              "{'baseline': 'Editor\\'s note: In our Behind the Scenes series, CNN correspondents share their experiences in covering news and analyze the stories behind the events.\\nHere, Soledad O\\'Brien takes users inside a jail where many of the inmates are mentally ill. An inmate housed on the \"forgotten floor,\" where many mentally ill inmates are housed in Miami before trial.\\nMIAMI, Florida (CNN) -- The ninth floor of the Miami-Dade pretrial detention facility is dubbed the \"forgotten floor.\"',\n",
              " 'gpt2': '\\n-1.\\nThe 9th degree refers to a prisoner who is \"forgotten\" because of his illness\\n\\n-2.\\nAs this sentence makes no sense, it probably doesn\\'t hold much of a weight.\\nMost inmates on the 9th cannot handle an indefinite term of imprisonment, and only about 20 to 30% are charged with a mental illness.\\nMany are on death\\'s',\n",
              " 't5': 'mentally ill inmates are housed on the ninth floor of a florida jail .\\nmost face drug charges or charges of assaulting an officer .\\njudge says arrests often result from confrontations with police .\\none-third of all people in Miami-dade county jails are mental ill .',\n",
              " 'bart': 'Mentally ill inmates are housed on the \"forgotten floor\" of Miami-Dade jail.\\nMost often, they face drug charges or charges of assaulting an officer.\\nJudge Steven Leifman says the arrests often result from confrontations with police.\\nHe says about one-third of all people in the county jails are mentally ill.'}"
            ]
          },
          "metadata": {},
          "execution_count": 21
        }
      ]
    },
    {
      "cell_type": "markdown",
      "source": [
        "## PEGASUS\n",
        "\n",
        "Like BART, PEGASUS is an encoder-decoder transformer\n",
        "\n",
        "![image.png](data:image/png;base64,iVBORw0KGgoAAAANSUhEUgAAA8QAAAHYCAYAAACLJyE+AAAgAElEQVR4nOzdeXhV9Z348ffdt+y52XcSSAgEwr4qq2wF0VbRunQZpq12nMcu6tTWeX6dzoydsdN2rNYu08XaVq0FLS4IskhAdoJASAiBbGTfk7vl7vf3B885vYmgVamC+byehwcl555z7r0n53M+3+Xz1UQikQhCCCGEEEIIIcQYo/24T0AIIYQQQgghhPg4SEIshBBCCCGEEGJMkoRYCCGEEEIIIcSYJAmxEEIIIYQQQogxSRJiIYQQQgghhBBjkiTEQgghhBBCCCHGJEmIhRBCCCGEEEKMSZIQCyGEEEIIIYQYkyQhFkIIIYQQQggxJklCLIQQQgghhBBiTJKEWAghhBBCCCHEmCQJsRBCCCGEEEKIMUkSYiGEEEIIIYQQY5IkxEIIIYQQQgghxiRJiIUQQgghhBBCjEmSEAshhBBCCCGEGJMkIRZCCCGEEEIIMSZJQiyEEEIIIYQQYkyShFgIIYQQQgghxJgkCbEQQgghhBBCiDFJEmIhhBBCCCGEEGOSJMRCCCGEEEIIIcYkSYiFEEIIIYQQQoxJkhALIYQQQgghhBiTJCEWQgghhBBCCDEmSUIshBBCCCGEEGJMkoRYCCGEEEIIIcSYJAmxEEIIIYQQQogxSRJiIYQQQgghhBBjkiTEQgghhBBCCCHGJEmIhRBCCCGEEEKMSZIQCyGEEEIIIYQYkyQhFkIIIYQQQggxJklCLIQQQgghhBBiTJKEWAghhBBCCCHEmCQJsRBCCCGEEEKIMUkSYiGEEEIIIYQQY5IkxEIIIYQQQgghxiRJiIUQQgghhBBCjEmSEAshhBBCCCGEGJMkIRZCCCGEEEIIMSZJQiyEEEIIIYQQYkyShFgIIYQQQgghxJgkCbEQQgghhBBCiDFJEmIhhBBCCCGEEGOSJMRCCCGEEEIIIcYkSYiFEEIIIYQQQoxJ+o/7BIS4VkUiEcLhMDqdjrq6OiorK/m///s/Hn30UcrLyzGZTOp2AFqtloqKCo4cOUJjYyP//d//jcViQafTARAKhUbsX6vVotFo0Gg0AITDYSKRCBqNhkgkov63Tqejra2NHTt28Kc//Ylf/OIXJCcnY7VaCYfD6j6U/SivVX4WfX5a7cg2MmW7UCiEVqult7eXEydO8MADD/DDH/6QadOmkZqaOuI4kUiEUChEXV0d3d3dzJgxQ32fo9+Lcuzo89NoNPT29nLu3Dm+973v8eUvf5mVK1dis9kIhUIj3nf0eYZCoRHvMfrzU95H9Oen0Gg06rbR5xZN2UYIIcTVT4kve/bsYffu3Rw6dGhE3PH5fJjNZsrKynjggQfIyMhAo9EQDodHxA7lvq+8Ljo2RCIRNa4pMWb0OcA7Y0x0DI6mxDTlZ5WVlbS1taHX61m6dCkWi+UdsUjZ9ty5cwwNDVFQUEBiYqJ6XqPjnyI6hkafi3Ke0c8IyvZDQ0OcPXuWY8eO8fnPfx6j0Yherx8Rv4W4VskTnhBCCCGEEEKIMUl6iIX4EJQW1+7ubqqrq6mtrWXv3r0YDAZmzJgxotc3GAzy6quvUllZicvlYmBgAL1er7bSju6BHN2rO7oXNVp/fz/Nzc2cOXOG3t5ebDYbFotF3Wf0fpT/j26xjn4/o7eN3i4QCOBwOGhra2NwcBCv1ztiW2XfXq+XPXv2cPDgQVJSUigoKMBisbyjxzr6fOBiL7lOp8PpdFJfX091dTUdHR14PJ5Lto5Hn/PoHuPRn9foVvXRn+OlequFEEJcW5R7eTgcpqOjg9OnT1NbWzuilzQUCmG1WklOTsbtdqu9vZeKme8We0ePsrrUeYyO5cq/6XS6d8ROpfdYq9VSVVXF0aNHsdlsLFy4EKvV+o79K7Ft586dnDp1ittuu425c+eq8VY5J61We8ljKec1Oj6OjpkajYa+vj6OHz/Os88+y/r160lMTMRgMIzYjxDXKkmIhbgCBgcHuXDhAh0dHRw4cIDU1FSmTJmiBhW/309fXx8HDhygpqYGo9GIy+UiKSkJuBiAurq6GB4eJhAIYDKZSElJwWw2q4me2+3G4XDQ29uLVqslMTGRhIQEbDYbbrebvr4+Ojo6cDqdBAIBwuEwgUAAjUaDXq9Hr9erx/J4PAwODuJwODAYDFitVlJSUtRtlO38fj/Dw8M4nU60Wi09PT0MDAwwODiIx+MhEAiM+ByUB4729naOHz/Onj17uPnmm0lISECr1aLX69FqtXi9XjweDwMDA2i1WmJiYoiJicFoNALg9Xrp6emho6ODoaEhfD4fgPr5hMNhkpKS1IeHUChEe3s7Xq9XfdBJTU3FZDKh1WoJBoMMDAwQCAQwm80MDAwQiUTQ6/UkJyePGLru8Xjo7e3F5XIRCoVIT08nJibmHQ8jQgghri6jp7tYrVbsdju5ublqQ67L5WLq1KnExsaSmZmJXq9XY5LT6SQcDqux1WazARfjgtfrVWNIIBDA7/eTlJSEwWAgFArh8Xjo6upSG3bj4+Px+XxYLBZiY2OxWCzAxWQ8EAjQ2dlJIBAgEomQkJBAUlKSGoN7eno4c+YMlZWVxMbG0tnZidFoVPcRPex6YGCA48ePs3fvXkpLS5kwYQJ2u11NVgOBgBpvA4EAVqsVm81GYmIicPHZYnBwEI1GQ2JiImazmUgkQlNTE1arlZiYGPR6Pa2trdTU1HD48GGamprURgRJisUngSTEQlwBfr8fj8ejzhNOSUlhzZo12O12de7Njh07qK+vZ2hoiLS0NHXOTiQSIRgMsmXLFrWHNzs7m7vuuou8vDxiY2PRaDScP3+et956i+effx6r1crKlStZvnw5U6dOBRjR66rRaPD7/bS3t6vJc2JiovrvdXV17Nixg7feeou0tDRKS0u5/fbbSU1NVVuttVotXV1d1NbWcvDgQcxmMzabje7u7ne0lisPIcFgELfbzRtvvEFDQwMej4fdu3cTGxtLcXExmZmZaLVaWlpaOHnyJDt27MBkMjFjxgzmzJlDaWmput/ouUzK+dTX19Pd3Y3X62Xt2rVoNBoCgQAul4vf/e53NDQ04HK5mDhxInfeeSc5OTlYLBbcbjc7d+6ku7ubcePGsWPHDvx+P/Hx8dx0001MnjyZ2NhYIpEI58+fZ/PmzVRWVuJ0Otm4cSOzZs2ipKREeo+FEOIqFn1/1uv13Hzzzaxbt47+/n6efPJJdu3aRWVlJb/+9a/JyMggMTERk8lETU0N+/fv58iRI7jdbpYvX8706dMpLy8HoKGhgYaGBnp6ehg/fjxdXV20t7ezfv160tLScDqdVFVV8Zvf/AaXy4XNZmPp0qW0tLQwbtw45s6dS3FxMRqNBp/PR0dHB7/85S/p7OwkEomwePFi1q1bR0pKCpFIhFdffZUzZ87Q2dlJX18fe/fuZf78+WqMhIuJtd/vZ8+ePbS0tDA4OMjBgwcpLi6mtLSU7OxstfbHqVOn2LZtG93d3ZSWljJjxgzWrFlDJBKhtraWnTt3otfrWbduHUVFRfh8Pp544gkmTpzIrFmzSExM5OjRo5w/fx6dTsfrr7/OvHnzmDRpEnl5eQCSFItrmiTEQlwBoVCIYDBIOBzG4XBw4sQJfvWrX/Hwww/j9/tpaGjgqaeeYnBwUO3RVLavra1l8+bN/PznP8dut2OxWNi5cyeHDx/ms5/9LP/4j//IhQsX+NGPfsTx48fJyMjA6XTy/PPPc/DgQTZt2jSisEd8fDwNDQ2cPHmSH/zgByxYsIANGzbwqU99Cq/Xy2OPPcabb75JdXU1ZWVlHDhwgDfffJOXXnqJxx9/nKKiIoxGI/v27ePxxx/nxIkTDA8PqwmqUtgKRg5N0+v1OJ1OTp48yZNPPklHRwder5c//vGPDA0NceONN/KZz3yGTZs28Yc//IGjR4+qvb2bN28mMzOTH//4x0yZMkXt3Q6HwxiNRoaHh3nllVf43ve+h8fjIT8/nzVr1uDxeNi/fz+PP/44J0+eJDU1FYvFwp49e6ioqGDDhg1s3LiRU6dO8eyzz3L48GEMBoO6z0AgwKZNm3jiiSeYMWMGVquVL3zhCxiNRmJiYsjNzeX73/8+t912Gxs3biQ3N/eSw62FEEJcfZRpOkqhSZ1ORzgcJj09nbi4OMLhMC0tLXzhC1+gr69P7YU9ePAgM2fO5Etf+hI33HADVVVVvPLKK+zevVvtEbZarUyaNIn+/n6OHj3Kv//7v6vJsMlkYvfu3QQCAa677jqMRiPFxcW0tLSwd+9eHnvsMdxuN7GxsRiNRnbs2MH+/ftZu3YtN954I08//TTnz5+nt7cXjUbDz372MwKBAOPGjcNms6HRaHC5XDQ3N/Od73yH7u5u3G43r7/+Og6HgzvvvJPbb7+dEydO8Nhjj3H06FH8fj+xsbEcPnyYTZs2UV9fz+233053dzeHDh1i//792Gw2ent7OX78OC+88AIbNmyguLhYHSp9/vx5tFotP//5z2loaGD16tUUFBSoRS0lLoprlSTEQlwB0VWOzWYzfX197Nq1iwcffJD29nbOnTtHfX09ZrNZ3V5JrCwWC9nZ2SxZsoSMjAwsFgtVVVWcOnWKpqYmnE4nQ0NDdHR04Pf7mTp1Knl5eTidTnUYrxKIwuEwe/fupaWlhXPnzuFwOBg3bhx2ux2/38+pU6c4evQoQ0NDzJkzh9WrV3PhwgXOnj1LRUUFx44dw2w2k5mZyQsvvMD58+eJi4tj6dKlGI1GmpubaW5upr+/Xz1u9N8mk4msrCwWLVrEgQMHaG5uZvbs2cydO5fc3Fw8Hg+bNm2ivb2dvLw8Fi1aRCAQ4NSpUzQ0NLBp0ybS09NHBNbq6mr0ej2HDx9mYGCAoqIiFi5ciEajoba2liNHjvD2229z3XXXMWHCBOLi4jhy5AgnTpygqqqKs2fPAheHhQWDQfLy8li1ahW9vb3U19eze/du6urqSE9PJzc3l3PnzlFWVsaECRNYtmwZBQUFTJs2TR06J4QQ4tqijHwaPa9Xq9ViMBiYPn26OnQ5Li6O559/ntbWVg4dOsTy5cvVkUjd3d3ccMMNZGdnk5mZSU5ODkeOHFHj01133UVKSoo6B7iiogKn04nH4wHg2LFj7NmzhwsXLnDHHXeQmZmJRqNh69atVFVVkZmZyYIFC7jlllt48cUX8fv9mM1m1q5dS1lZ2YipT0ajEbvdzsqVK3nzzTdpbm5m/PjxXH/99RQWFuLz+diyZQv19fXY7XaWLVtGfHw8R44c4dy5c2zZsoWlS5eSmprKwoUL2b59O7t27eL06dOcP3+ehIQEMjIyyMnJQafTMXPmTEKhEGfOnGHx4sXMmTOH8ePHv2OetRDXIkmIhbgCwuGwWsAiJSWFQCDAwYMH6e/vp66ujurqagYGBsjPz8fpdAJ/7V1NTExk2rRpJCQkEB8fj1arJT09naNHj6pzdpW5wHFxcRQVFbF27Vrgnb2U4XCYl19+mdraWjweDwUFBSxdupRx48bh9XrZv38/tbW1JCcns2LFClavXk1bWxtJSUls2bKFEydOkJubS3x8PJs2bcJutzN//nzuueceYmJi2LdvH7t37+bcuXMjjq0U7LDZbJSUlHDHHXcwODhIb28vN998MzfeeCNxcXEMDQ3xl7/8henTp7NixQoeeughAoEAzz33HL///e/585//zK233kpSUpJa0OPo0aPU1NRw9OhRZs2axZIlS7jtttsAOHHiBEeOHKGzs5MVK1ZQWlpKXFwcqampHD16lMbGRqqrq5kwYYI6X3jRokU89NBDXLhwgYqKCnbs2EFjYyNFRUVkZ2cDEBsbS15eHtdddx3z58/HZrMRExNzyc9cCCHE1U1ptFamKikjtAwGAzExMaxfvx6dTkdsbCzx8fEcOnSI1tZW3n77beBijFNGYt1yyy3MnTuXwsJCLBYLv/rVrzh58iTJycl84xvfIDMzk1AoxJ49ezh9+jSAunyh0hMbDodZu3Ytubm5BINB+vv7ee6559Rh0vfffz8XLlygq6uLhIQE7rnnHnXKkTIaTJkL/NWvfpXOzk56e3uZP38+d9xxB+np6TgcDjZv3kwgEGD+/Pls3LgRs9mMxWJhYGCA3bt309XVxaRJk7jpppt4/PHHeeutt/D5fHg8Hm6++WZKS0spKCggNzeXwcFBAoEAp0+f5u6776a8vJycnBx1SpMQ1zJJiIW4AqJ7iG+77TZ6enr47W9/yw9+8APOnz9PY2Mj8fHxrFu3jqqqKqqqqtShxy6Xi/r6eh566CEGBgbw+/2YTCacTicul4vOzk7mzZvHypUr2bJlC/feey/f/va3WbduHevXr+fTn/60GiTD4TC7d+8GoKCggE996lNq8ZDW1laeffZZent7aWlpoaamhvvvvx+TyTSiyvPAwADNzc0MDg7y1a9+lXXr1jF79mwAEhISSEhI4IUXXrhklWqFxWJRK2grxcEcDgfV1dX4fD5WrVrFhg0b1B7uRYsWodVq+cpXvkJ/f79aaRqgpqZG3e+aNWtYtGgReXl5uN1uKioqOHz4MDqdjvvvvx+/3084HMZqtaoNAkNDQ2qxLpvNRllZGQaDgfT0dCZMmIBGo1E/d7vdzte//nW2bNnCww8/zMMPP8zdd9/N+vXrWbFihZoUgyTGQghxrbhUdWjl34LBIC+//DIHDx6krq4Oq9WK1+slLS1Nbbj2+/14vV7C4TDz58+npKRELZh57tw5hoeHufHGG8nPz8dgMOD3+5k+fTpGo1FNhtvb2zl9+jRnz57FaDRy0003qStRWCwWhoeH8fl86ggsrVarJppKQcpLzdO1Wq0YDAYMBgPJycnYbDZCoRB9fX00Njai0WjYtGkTmzZtwu/3q68zm804nU40Gg15eXk88MADPP3001RVVWGxWPj2t79NQUGBWoAyPj5ejYFK8a3oKttCXMskIRbiClCGXoVCISZPnozX66W6upoXX3wRj8eD1Wpl1apVFBUV0dLSAlwMcIFAgJMnT/Loo4+yaNEipk6dSlJSEgcOHGDTpk1qZWaXy8WKFSuYOHEin/3sZ3njjTeor6/n6aefZtGiRRgMBrUi9ec//3kGBwfp7+/nhRde4Oabb6awsBCz2UxZWRnt7e3k5uaydu1asrKy1Pm6Q0NDrFixgsTERIaGhgDUitKj36dGo8HtdqvVn0cH6eiCYR6Ph1AohF6vVxNgh8MxYr9ut5ve3l4Atdqz1+tFo9GwfPly8vPzOXXqFFu3biUmJoaSkhK1FzcrK4v+/n6++c1vEh8fj8lkIhgM4nQ6GT9+PDNnzqSnp4dgMKgWMIuu0Kl8F0qBruXLl1NeXk5bWxtVVVXs27ePcDjM8PAwd911l/oaSYiFEOLaocSu6FoY7e3tvPjiixw7dozZs2fzzW9+E7PZzA9+8AMGBgbUhFUZBRYd+5TVCSwWC5FIhNbWVnWbSCSC2+0mHA4TDAbx+XwkJSWRnJxMcnIyRqORr3zlK+pUHK/XSyQSoaSkhLKyMrXXVVklQfFucScUCqlJuzIUHCAuLo7CwkIWLFiA2WxWnyvMZjPl5eXExsaqI8h6e3vVePfmm28CUFZWBvx1qpdGo8FgMIzorRbiWidjHIS4giKRCHa7nYkTJ7J48WIaGxvp7u7GYDCwbNkyEhIS1ORLCcpKAYvMzEyKi4vV4b2AuqTB6dOnaWpqAmDBggWUlpbi8/mora3F7Xarw7m0Wi0zZ85Uq083Njayf/9+mpubMZlMzJ49m/j4ePR6PQaDgfHjx5OTk6Muv2C320lKSiI2Npbk5GQaGho4duwYJ0+e5MyZM+rf78VkMqHT6QgEAjQ0NNDf369+NvHx8TQ2NlJZWUlbWxsXLlygpqaGqqoqUlNTsVqtI9ZnLi4uZsmSJaxatYr29nbefvttjh8/jlarpaSkRJ3DZLFYyMzMZNy4cSQnJ6PT6bDZbKSnp+P3+0cs0TQ6gCuNEz09PZw+fZq4uDhmzZrFDTfcwMDAAOfOnVPnIkfPQxNCCHFtuNQ8V5fLRVVVFX19fdjtdmbMmEFWVpa6lJBCSYjh4hJMSk+rVqslKyuLuLg4Nd4eO3aMt99+m4qKCnX5PmW5pnHjxqlFqOx2O3l5eYwbN46YmBhsNhtxcXHqcowGg0EdLTU8PDwiMY6mbBcMBuno6FCnWVksFgoKCjAajRiNRvLy8pg4cSKZmZnqModWq5WhoSEqKys5ffo0qamplJWVkZaWxt69ezl58iQ9PT0AI+JyR0cHfX19uFyuK/slCfExkR5iIa6A6N5Gg8FAYWEht956Kz/4wQ/QaDTY7XbWr1/Pjh07CAaDI5YTUoKuVqulo6ODpqYm9u7di8vlwmAwYDKZ+NOf/sTu3bvJyMjg//2//0dBQQGJiYnqnB74a8txZmYmZWVl5Ofn84tf/ILf//73WK1Wxo8fz+rVq3nhhReora3lpZdewmaz0dPTQ2NjIxUVFUyfPp2ZM2eSmZnJhAkTOHz4MA0NDfT29pKcnEx1dTWnT59WE1BlKLLyoKGcQ0JCAmazGY/Hw759+5g5cybl5eXk5+eTn5/P4cOH6ejoICMjA6/Xy8svv8y2bduYO3euuhajzWYjEomQkpLC9OnTWbx4MX/84x+prKzEYrGwaNEi5syZQ3t7O3/+8595+eWXKS8vJyMjg7Nnz3Lw4EFuvvlm5s+fP+Kzji4AonwPBoMBt9vN2bNnue+++7jvvvtYt24d8+fPx2Kx4PP5cDgcH/VlJYQQ4goZvTShMs3I7Xaj1+vx+/10dnZSUVFBe3s7oVBIHbKsxPhIJKKuUKDso7y8nObmZjZt2sT3v/99srKy0Gq16hzd7OxsdW3iOXPm0NXVxZEjR6ioqKCgoACr1UpFRQXDw8MMDw+zdOlStFqtOuqru7tbTdjj4uLe0SCrJLder5eqqirq6+uJjY0lLi6O5cuXs2XLFlpbW2ltbUWj0agN2wMDAyxdupT29naeeeYZzpw5w/33309ubi779u3jtddeIyYmhqysLJYuXYrVasVkMhEOhzl06JDaiz1+/PiP4+sU4orSffe73/3ux30SQlyrlIDQ1tZGZ2cnTU1N3HHHHZSUlJCRkcHg4CCrVq1i9erVzJ49mzNnznD69Gmam5u566671GWC4uLiePLJJ6moqKCuro5FixYRCoWYPn06CxYsYNKkSZw9e5ZDhw7x05/+lNdee42EhARWr17NLbfcgtvtpqamhuPHj3PjjTeSnZ1NSkoKOTk5vPrqq2RkZDBx4kTy8vIoLS1Vk9vNmzdz7NgxhoaGWLlyJTfddBNpaWlYLBaWLl2K3++nra2N119/nX379uF0OtUlH+666y7GjRs3otK18pnEx8fj8/nwer3qmsQ6nY758+ezYMEChoaGOHXqFM888wwvv/wyDoeD2bNn88QTTzBu3Dh8Ph9DQ0Ps2rWLBQsWUFZWRl5eHqFQiJ6eHo4cOaJ+fnl5ecyePZtdu3Zx9OhR3nzzTRobG1m2bBnLli1jypQphEIhDh48iFarZdWqVRQWFqrrQ2/atInrr7+eadOmMWvWLI4cOcLBgwf57W9/y1NPPYXFYuHTn/40GzduxG63A7zr/GkhhBBXh+gG59bWVoaGhnA6nXzjG99Qe0hLSkrYvXs3e/fu5c9//jOxsbEkJCRQWFhIQUEBN9xwA3V1dTQ1NdHQ0MDGjRvJysrCbDYTDoeZMGEC48ePJyEhgTfeeIOTJ09SW1tLUlISTqdTjb8LFiwgPz+fwsJC7HY7L730Evv27WP//v24XC7Wrl3L9ddfT0FBwYhpWLt372bPnj1otVrKysrUhmglSTeZTOrQ7p07d1JZWYnRaGTevHksXLgQrVZLd3c3zz//PNu2baOmpgaDwcB9991HWVkZe/bs4cknn2Tjxo187nOfY9WqVSxdupSdO3fS19dHd3c369evJy4ujuHhYbq6uti8eTPnzp1T12yWqUTiWic9xEJ8CErr8fjx41m3bh25ubnk5eWpCdOtt96K2WwmISEBgEmTJrFu3TqKi4vVgJqdnc1NN91EcnIyJpOJhIQExo0bx/z589WKzzExMdxxxx3MmDGD5uZm9Ho9RUVFTJw4UV1jccmSJeo84YSEBDQajZrUlpWVkZiYiEajYdy4ceragY2NjRiNRuLj4yksLCQtLQ2j0ahWuv7MZz6jtn5rNBpSU1OJiYlhYGCA4uJidf7T6KFoWq2W6dOnY7FYKC0tJS8vj7KyMjQaDbm5udx2221MnTqVc+fOqUPOioqKyMjIwGg0kpyczKxZs/jOd77DvHnzSElJAWDZsmVkZWXR1tZGTEwMBoMBu93OnDlz+Jd/+Rf6+vrweDzExMRQXFxMYWEher2e1NRU7rzzTrxeL5MmTVILlOTm5vLII48we/ZsCgoKsFgs3HfffdTX16vzjseNG8fUqVPJyMhQ36sQQoirX3RsUlZzmDNnDkajUV0mMT8/n/vvv5/u7m78fj+TJ09W614oDcBTpkzBYDAwefJk8vPzMZvNak+zTqcjISGBiRMn8s1vflN9LvD5fDz11FPqfuDiNKiMjAzWrl1LWloaTqeTUChESkoKkyZNIjc3Vz3fwsJCVq1aRSQSwWQyMWXKFPW8R7+/8vJyLBYLOTk5pKSkMGvWLHXa0PLly8nLy2Pp0qUEAgFsNhspKSnMnj2buLg4Zs6cyYMPPqgWrFTmRv/TP/0TwWBQbQg2mUyUl5dz3333sWDBAnJyciguLlbPQ4hrmSYik+GE+MCUgKhUoHQ4HKSkpGA0GkcMy1J+zbxeL93d3fT39zN16tQRwVqphqwkpEpxDiW4hsNhXC4XbW1tmEwmkpOTiY+PV/etLJWgzAeGi0Gqt7cXk8mkBnbl3wH6+vowmUwYjUYMBsOIc1W28Xq9DA0NodFoiImJwWQy4Xa7sdls6nyiywkEAnR2dhITE4PFYhmxDrPL5aK5uSbDobgAACAASURBVFldqkpJeqM/2/7+fvWYyufp8XjweDzY7fYRQ8eUYid+vx+bzaYmvQqPx6MuVRFdVdvhcLxj+66uLoaGhggEAuTm5qpVsy9V4VMIIcTVLxQKEQwGCQaD6pQcuBg7gsEgXq+XQCCgNigrPbA6nQ6fz8fw8LDa46vEPiUmNTQ08NZbb1FaWordbker1VJdXc2DDz7IhAkT+OIXv8htt92mDrtWKlR7vV5CoZB6zNHxxePx0Nrait/vJyUlhdTU1MvGIJ/PR2dnJ1arVV2SSREIBNT4qMRipVaJ2+3G4XCQmZk54jMZGhpS5y0nJycDf+2VbmlpIT4+HpvNpj7vKK8T4lokCbEQf0fKUkzAiOQsmjKvdfRcpehhuZdKxP6WAHSp1ylDm6LPJ/qYyj5HJ5t/6zHf6/yURP9S+/ggCWf0Q8vo48DlP/f3S5JhIYT4ZBkdfwF17vB7xVbldUql6n/+539m8uTJlJeXk5CQwNatW+ns7OT222/nX//1X8nPzx9Ry+K9YtaViLej65RE//vo54zRr5N4J8YSSYiFuAKUX6PRgXV0ULlccIrex2ijk9HowHep4Pd+ElDlZ6OPNXqfo4/5foJl9DEu917ez/u51ANM9H6iXzP6s7/Ue7zUd3Sp7eXhQAghrn3v1sCsuNzPRzdeK0v5VVVV8eyzz/LMM8+ow6hDoRB33303K1asYPHixeoorNENzpeLWdHHUH72tyTp7xb/Rr/36AKfo/d/qUbx9zqOENcqmUMsxBVwuSTxUoFidDD8W/f3fhPRdzuHS/3sctt92GB3qaB5uR7o97vPS+3vckH6wxxDAr4QQowN7xa3LxUXjEYjOTk5fOpTn1JXJAiFQqSmprJ69WqKi4tHTPuJ3l/0fi533A9y3peLkZfb5oPGR4mN4pNCeoiFEEIIIYT4kPr6+ujv78fv95Obm3vJ2h1CiKuPJMRCCCGEEEJ8QB9VLQshxN+HJMRCCCGEEEJ8CJebFwzSOyzE1U6arIQQQgghhPgQRheNVP5NkmEhrn7SQyyEEEIIIYQQYkySHmIhhBBCCCGEEGOSJMRCCCGEEEIIIcYkSYiFEEIIIYQQQoxJkhALIYQQQgghhBiTJCEWQgghhBBCCDEmSUIshBBCCCGEEGJMkoRYCCGEEEIIIcSYJAmxEEIIIYQQQogxSf9xn4C4ukQiESKRCAAajeZjPhvxcYj+/q/mayAcDqv/fTWfp/j7UK5TAK1W2nbFxyf6WhRCiI+CPPdcWZIQC5US1KODu/zCjU2RSASNRqP+fbWRa1UIcTWIvgdJYiyE+CjI886Vp4nIHVzw155h6WkR0a7G0QJyrYrRpGFEfBwikQjhcBidTvdxn4oQYgwZPZpT4t6HJwmxIBwOq72Bbreb119/naqqKurq6vB4PB/36YmPkNlsJicnh+LiYm699VZiY2PR6/VXTQKq3K5CoRCnT5/mzTffpK6ujq6uLgKBwMd8duKjoNFo0Gq1JCUlMWHCBKZPn86KFSvUn1+toxrEJ0v0o1MwGKS7u5uhoSG5Dwkh/m40Gg3x8fHEx8eTkJAAXJ0dF9ciSYjHOOXrd7vddHZ2smXLFqqqqnA4HEQiEYxGowwDGyM0Gg3BYJBIJILBYKC8vJzly5dTWFhIYmKius3HRbkO29vbqaurY/PmzfT09ODz+TAajWqjjvhkU65Bv9+PXq8nJiaGG2+8kRkzZpCVlaU23MjDgfh7iL7H9Pb20tjYyKFDh+jr68Ptdss9SAjxd2U2m0lOTiYzM5PFixcTHx+P2WwGJO59GDKHeAxThlxoNBq6u7uprKzkf//3f4mNjWXcuHFMnTqVjIyMEduJTx7lu9VqtfT29nL27Fmqq6vZs2cPOp0Og8GgtkTCx3PDVa7BYDBIbW0tr7zyCs888wxTpkyhuLiYkpISNSDItfrJFw6HOX/+PDU1NVRUVNDV1aVepzExMVf1/Hdx7YquXeD1ejl//jzbt2/nt7/9LYFAQBqRhRB/N0pc8/l8xMXFkZ2djd1uZ9KkSaSkpKDVaiXmfQjSQzxGRX/tDoeDxx57jN/97ndcd911PPLII5SUlMi8qDEqEokwNDTEAw88QEVFBeXl5TzxxBOkpqaq23yUw6eVatJarZYtW7bw7LPPsn37dp5++mnmzZtHWlraR3Yu4uoyODhIa2srS5Ysoby8nBtuuIGHHnqIUCgkDwfiiouuX/Doo4/y+uuvc+jQIf7nf/6HyZMnk5OTg9lsliGMQogrZnThvp6eHg4dOsT27dvZunUr3/3ud7npppuYMmWKxL4PQXqIxyjlF0yr1bJt2zbq6+ux2+187WtfIz09HZ/PRygUkl+qMUbpVdPpdNx333309PQwMDDA5s2b+fKXv4xOp/vIez+UVtFQKMSLL76Iy+Xi05/+NHPnzsVoNOJ0OuU6HYOUYkY5OTk8+OCDbN++nSNHjtDW1qY2kkgvsbhSlHjo8/k4duwYb775JjExMTz22GOsW7cOq9WK0Wgc0Vgo154Q4sManRDHxMSQlJREeXk5oVCIAwcOEAgEKCkpQa/Xq9vJ/ef9kYRYcOzYMVwuFwUFBcycOROv10sgEBixzqsYO5Th0+Xl5ZSUlHDy5EneeustNm7c+JGPGlACQTgcxul0Ul1dTXZ2Ntdffz2pqam4XC4CgYDc+McgZa67xWJh5cqVHDhwgM7OThoaGrDb7WrjjVwb4koaHh5mz549OBwOpk2bxrp168jKyiIcDhMOh+WaE0L83UQiEcxmM3FxcWRkZLB69Wqef/55Tp48SWtrK3l5eXL/+YAkIR6jon9hTp06RWxsLNOnT0en0xEMBmUpiTEsHA4TCoUAmDJlCj09Pezfv1+tRv5R3myVh0u/3097ezsOh4O0tDTmzZuH3+8HQKfTSQAYo8LhMB6Ph9LSUrKzs+nv7+f48eNMmzYNg8EgcznFFaPc+1wuFy+++CLFxcXMnTuXoqIiuru70ev1EjOFEH93gUAArVaLTqfj7rvvpqKigvb2dg4dOkRWVpYa++R+9P5IQixwuVzY7Xbsdru0bgtVJBLBZrNhMpnUquPKtfFRXSfKcQKBAD09PcDFCos2m039mSQ9wmAwYLVa0el0dHZ2qg06QlwJyrzhSCRCIBCgvb2dG2+8kaKiIsLhMAaDQebtCSE+Esrop2AwSEJCAoWFhXg8Hk6ePMn69esxGAwf9ylekz7+hUXFxy66irQS0CWwj23KtXA1XQfKdSoJsIh2NV2j4pMtEomoU4lMJpO63JsQQnwcNBoNBoMBvV4va6B/SJIQC5UkGmK06AT0anrwk2tVXM7VdJ2KT5boxmOdTie9wkKIj51yL1JqGIgPRhJiMWZdqrcxugfg/b7273VOH6errZdYcTWek7g6XE2/P+KT6Wq7Twshxja5H314ModYjFnRy2MoBaN0Oh06ne6yQ0+UQgVKsYIrPURF2a9U+BZCCHG1GT1iKPpB/Eo1VCrx72ptkL3avFfBS+U7UubCR78u+v+FGMskIRZjlrKupPInEong8/kIBAJYrdZLvkYp8OTxeICLBZ6uFKVgSyQSUdeSE58s7zX8/GoYnv73eMAVQnwyKMPElV7y0f9/JShFgf7WEVtjmTKH9N2GyyrfkVarJRgMjnidFCAU4iJpGhLXhMsF2/cTgKOLMmk0Gnw+H36/n1AopAYKl8tFS0vLiBbV6CRFq9Xidrvp6Oigq6vrHQnD31r46XLDtT0eDy6XSxKRT6Doa+q9fv5e19AHffh8r32PPkcZhiWEiBY9d1pJiKOXnPqw94xIJILRaMRoNKrVdMWlKY35er3+sj29yvOOXq/HZDKNKJyqVEcXQkhCLK5ikUhETVajiwYofyKRiNqSHD3ESnntaEoQ1+l02Gw2fve736kLmttsNvr7+9m3bx//9m//RjAYVAN8dKuq0Wikvr6eZ599lhdeeGHEEGdl+Q0lkI9usVVau3U6HVarFZPJpCYnBoOBgYEB/vSnP/GTn/xEbbWVxPjap3zvJpMJi8WCxWJ5R2KqDF0zGAzYbLZ3DJ1X9hEMBtVh+3q9Xr3GlLWjo/8efe2FQiH0ej0Gg0HtGYjeTrk2zWYzCQkJmEwmeSAVQqi0Wi07d+5k69atDA4OYjAY6O3tpba2lqamJoLBoLo81fulJG4mk4mf/OQn/P73v6eqqkodrRUMBgmFQup964P0HCv3XOX1oVCIYDCo3lcvte2l9nG5fYZCoUved5Vz/1saOUe//nKN53BxytbQ0BC/+MUvqK6uVo+n/IlEIphMJvr7+zl06BA/+tGP1HPp6+tj586dDA4Ojvgso2ONsu2V7qV/t/cVfdzLff7R393lesajP4fRveBSfEpciozLFFclpUVTr9fj8XjUhMFsNo+4mTqdTiwWC0ajUb2BKj250TdxjUaj3miVhNjpdBIKhfD5fCOGfCnJBqDu02KxAOD3+yksLGTDhg1oNBr15waDAZ1Oh8PhIBQKYTAYiImJGXEzVvbrdDrp6urCZDIRFxenJvXBYBCPx6Oel9Jyq7wncW3S6XQYDAZ6enrUB0a73a5eO8r15fP5cDqdDA0NYbfb1YYVv9+vzlvXarXqNRuJXFwnOhAIqD9XrpXohwWlEchisajXJ0BiYiKBQEB9ODSbzbhcLnp6eujr6yM9PR2bzYbRaCQYDMo1KMQYF4lEaGhoYHh4mMmTJ5OamkpLSws1NTWkpqaSmpqKXq9XY+oHZbPZsFqtasOd0pAX3QsdDofx+/1/83GU2K7EVaWBXHl9IBAY8QxhMBjU40QnT0pDpEI5J+WZJXo/yjOM8nyh3G8vFdOjj6fsP/oco5M6peEgHA7j9Xo5fPgwRUVFTJo0acTzhJLoK89E0T35brebrVu3Mn78eJKSktTPQKvVqo2z8NfGfr/f/6F7k5X3F71cmVKHRfn8zGaz+nkpibHycyWeKdeDcn6hUEg9d+U4NpttxLGVzx7AYrHg9/vV70J6yQVIQiyuQpFIhN7eXvx+P1arldbWVnw+HzqdjqKiIiwWCy6Xi87OTrq6urDb7djtdjIzM+nt7cXr9RKJRMjJyVF7dnU6HefPnwcuBjSHw0FbWxsGg4HY2FimTJky4oba3t7O8PAwQ0NDAOTn5xMbG4vJZMJms5GXl6eer1arxel0Mjg4SENDA+FwGKvVSmJiIoWFhSPeV0NDAx0dHfT09GA2m8nLyyMtLQ273a4GN6/XK/OmPgG0Wi2tra243W60Wi0NDQ34fD70ej3jx48nNzcXo9EIgMvlorGxke7ubgYHB0lNTSUzM5O0tDRMJpM6tz0YDNLf38/Q0BDhcJjk5GSys7PVofb9/f2YzWZiY2NJTEwELj5I+P1+Ojo6aG5uxufzodVqyc/PJzk5GYvFglarxeFw0NDQQEtLCwMDA2RkZJCTk0NeXh56vV5a1IUQ9PX14Xa7CQQC6n3lzJkzOBwOSktL1YTr/VKSoHA4TF5eHlarlZiYGAB8Pp/aWKzRaEYkzH/rfUmr1apJkHI85X1otVoSEhJGDAX3er1qIhk98iwQCIxIZpXGwmAwiNfrxWq1qol3IBCgv79fbdCPi4sbUbMkej/Dw8MjRrGNnj8dvW04HGZ4eJjh4WECgQCdnZ04HA7cbjcejwetVovJZFI7EPR6PXFxceTm5qLRaPB4PPT09FBVVUVvby+JiYnqcGrlvff29hIIBLBYLFit1g8VA6KTcuV7UPY1usGgq6sLuPjMFh8f/47h+ZHIxVovAwMDBINBzGYzZrN5xGgmnU5HX18fHo+HYDCI0WgkISFB3cbpdI4YLj56apwYmyQhFlcVpWjVnj17aGhoIDExkf379zMwMIDBYODuu+9m0qRJ1NTU8Nxzz9He3k5OTg5z587lW9/6FlVVVTQ0NOB2u/nWt77F0NAQGo0Gq9XKn//8Z+Lj47FarTidTg4cOMDw8DCVlZVYrVaKi4sxmUwEg0E2b95MXV0d9fX1+P1+NmzYwHXXXcesWbOoq6ujtbUVo9HI7Nmz0ev1HDx4kG3btlFRUYHFYsFsNmOxWHjqqaew2WwYDAZ8Ph9PPvkkTU1NuFwufD4fZWVlLF68mDvuuGNES6ckH9c+vV7Ptm3bOHbsGP39/XR2dqoJ8YQJE/jud79Lfn4+kUiEt99+mz/84Q+cOXOG+Ph4hoaGWL58OatXr2bOnDk0NTWpfyorK+nr6yMQCJCcnMz3vvc9Ghsb2bt3L7t27SInJ4cFCxbw2c9+FqPRiF6vp6uri6eeeoq3334br9eL0WikqKiIL37xi0yZMgWLxcLevXvZvn07p06dIjs7m+7ububNm8ftt99OQUGB2sIuDwxCjD1KUqL8t06no729nba2NlpbWxkcHCQ3N5eSkhJyc3M/8HGCwSArV65UY6FOp6O1tZUTJ06wd+9e9Ho9U6dOZcqUKUybNk2Nl+9WqFDp8W1pacHlchEMBgkEAhw/fpyuri6sViu33HKLOipmeHiYCxcuoNfrycjIUHs0A4EAvb29xMXFqaN1HA4Her2ezs5OKisrWbJkCZmZmZhMJrq6uti+fTsulwubzcZnPvMZYmNj0ev1eL1e4GLyFgwGaWxsxGKxEB8fT3JyMqFQiOHhYbXWid1uV0e+BYNBmpqaCIVCxMXFkZiYiM/no66ujjfffBObzcbkyZOZMWMGer2e2NhY4uPjKSsrw+Fw0NzczJkzZ/B4PFRVVaHRaMjJySE5ORmPx0NTUxNvvPEGg4ODlJaWUl5ezpQpU3C5XB8oBoRCIXVeuNFopK6uDrfbTSQSobi4GIPBwPDwMJ2dnTz33HOEQiGSk5O58cYbycjIQKPR4PV61e+mra2NiooKHA4HJSUllJWVUVRUhNvtBsBkMvHCCy9QV1fH0NAQGRkZ3HbbbSQmJhKJRDh58iRlZWXY7XYMBgMOh0MSYiEJsbg6RAc0nU7HkSNHOHz4MMXFxTz88MMEAgHOnTvHf/7nf1JYWMjkyZPZuHEjxcXF/OQnP6GiooKysjIKCgo4fvw427dv5/Of/zw2mw2NRqPOoVm/fj0LFy7EYrFQU1ODVqtl4sSJLFmyhFAoxJkzZzhw4ABpaWksXryYe++9l97eXn7+85+rAb+trY2tW7ditVq5/vrr+ctf/sK+ffu4cOECv/rVrzCbzfT19XHu3Dm19TkcDtPe3k5JSQlr165l+vTpRCIRHn30UQ4ePEhOTg45OTnAlV/KSXw8dDod586do7q6GrPZzK9//WtMJhP19fXcf//9VFRUEA6HKSkp4cKFC6xZs4YvfOELTJw4kf379/PWW2/xi1/8gvnz51NfX8+rr77KSy+9xM9+9jPy8/Pp6enh+9//Pl/84heJi4sjJSWFe++9l+eee45t27bh8Xj4+te/zs6dOzl48CB9fX38+Mc/Jj09HZ/Px7PPPsu2bdtoaGjgc5/7HM888wxlZWU88sgjlJeX09bWpk4veK/5b0KIsUGZU6rX6zl16hSnT5+mtrZWTXZCoRA5OTkjEui/RfQc4h/96EdkZmYyY8YMjEYjv/3tb3E4HMybN4/BwUG6u7uprKykrKwMePckJnq/ra2t7Nixg61btzJz5kyys7Ox2Wz09PTwta99jbVr1/LpT38aq9XKr3/9a2JjY/mHf/gHMjIy0Ov1tLS08B//8R/ccccdZGZmEg6HeeCBB0hOTsZms2E2m1m0aBFtbW00NTXxwx/+kNLSUsxmM8FgkK985SvcddddzJkzh7S0NNxut1ohev/+/XR2djJt2jRuvfVWAF5++WUqKiqor6/n6aefJi0tDa/Xy4EDB9izZw85OTncdddd1NXV8fjjjxMXF0deXh4ej4cDBw4QHx/PU089RVNTE7W1tRw6dIj77ruPU6dO8cYbb9DR0cGrr76Kw+HghhtuwGQy8fjjj3PixAlSUlIoLCxk9+7dbNq0iS996UvMmzePmJgYvF7ve44EUD53JYb09PTQ1NTEnj17qKurY/z48cybNw+r1UpDQwP79u3jl7/8JXPmzMFsNtPS0sLGjRt58MEHKSsrIyUlhQsXLvDrX/+a06dPk5iYSGxsLJWVlfh8Pu655x7mzp3L0NAQR48e5bXXXmPmzJkUFBRw+vRpzp49y4QJE0hISGDPnj1s2bKFlJQUpk2bxtKlS7FareqoARlCPTZJQiyuOsqclfj4eBYsWEB+fj6AOlxGGfpTXl5Oeno6eXl59Pb2Ul1dzdSpU0lMTESn03Hs2DFmzZoFwLlz5zAajdjtdrKzszGZTCQlJWEymcjNzSUlJYXu7m4AYmNjWbZsGZMmTSIzM5OsrCw1CHR2dgKo8zo1Gg0nTpxAq9Uye/ZsCgsLiUQixMfHk5iYqN5kNRoNSUlJpKWl4fF4OH36tBpk/X4/3d3d5OXlqfNmQFoqPynsdjvTpk2joKBAnfeVk5PD4OAgg4OD6vDloaEh+vv7OXPmjDrUzeVyqct8aTQakpOTmTp1Kna7HbPZrDYATZgwgTVr1jBp0iSqq6tpbm6mtraWUCjEuXPnqKqqYty4cQwMDOD3+xkeHkaj0VBTU4PP58PtdpOWlobT6aS2tpbs7GzsdrtaWGt00TohxNikFG7y+/0UFRUxfvx4+vv7iY+PZ+HChUyYMOED71uJlWfPniUUClFSUoLD4aC/vx+r1cqsWbPweDwMDw+rieTfek+KHtbs9XpZsWIFqampmEwmdcpTZ2cnhw4dYuXKlTidTvX9KucVDAbp6urC4/GojYTnz5+npKSEyZMnk5WVRVJSEgcPHuTkyZPMmDGDuXPnEhMTo458q6urQ6fTsXbt2hGdANnZ2bz99tukpKSoU2Ta2tpobm6mt7eX5uZmdWjw8ePH0ev1JCYmYjQacTqdTJw4kSlTpjBz5kx8Ph/Hjh2jqqqKCxcuqMPNGxoaMJlMlJaWMjg4SH19Pddffz0zZswgKSmJnTt34nQ6yc/PZ8mSJaSkpJCdnU19fT27du2iqKgIs9n8NyWMSkeA3+/nrbfeYmBgAIfDgclkYu7cueTm5pKVlUU4HObYsWOcP3+eqVOnsmzZMsxmM06nE6/Xy4kTJzAajaSmpvLaa6/hcrkoKipi3rx5WCwWmpubaWpq4pVXXqGwsBCv10tTUxOxsbEUFRVRVFREVlYWOTk5xMTEYDQaue6662htbWV4eJjW1lZeeeUVcnJyyMrKIjU19bLzvMUnmyTE4qqiFE4wGo1kZWWxbNky4uLiMBqN+Hw+kpKSKCwsZMKECYwbNw6A7OxsWlpa1CFH6enppKWl8dZbb1FcXEwkEqGyspK0tDTS09NJSUkB/lq4IykpiZiYGDo7O9FqtaSnp7N69WpsNhuRSEQtFqLT6ejt7cVkMo0oTlFbW8ukSZNYuHAhsbGxuFwu4uPjSU9PV4fwKO/JaDTS2NhIZWUlpaWlBAIBdU6z8t5l/vAng1JsLTMzkyVLlqhD5xMSEpgwYQLDw8PqELTExERaWlpoa2vD6/Uyfvx4/H4/cHHEQCAQwGazUVRUpD5wOp1OioqKqK6uZvLkydx8880AlJeX4/f7OX36NH6/nwsXLtDU1MSsWbOoqqoiEAjg9XrVhztlCsH06dM5deoUlZWVJCUlMWXKFFJTU4mJicHn8wGSEAsx1ikJsdfrVUeSOJ1O0tPTWbFiBQkJCXg8ng81oqSrq4ukpKQRBTVjYmJIT0/HYDCoDXVKw977OXeTyURKSgobNmwYUbSqoaGBpqYmDh06xJo1a9TXjJ67G10YC8Dj8TB16lRWrlypNmzW1NRw9OhR7r33XqZOnYrNZlPrP+zduxeXy8WnPvUptZFfq9VSWlrK888/T09PD0NDQ7jdbgYHB/H7/cTHx1NXV0dCQgIpKSmcOHGChQsXqkPTQ6EQ5eXlrF+/nlmzZql1Iw4fPkxjYyNxcXGEw2EGBwexWCyUl5djsVh44403WLVqFRMmTCAUCrF161YSEhKYNGkSixcvJhKJkJGRQWpqKo888gjr168nLS1N7fF+t2Hqynvzer28/PLLBAIBYmNjmTdvHvPnzyc+Pl4dOn706FG6urpYs2YNs2bNUouPOhwOtm3bpr7utddeY/r06cydO5f169cTiUTo6Ojg1KlTfP3rX2fDhg0YjUa8Xi/JyckkJyeTl5fH+PHjRxROXblyJc3NzdTV1XH8+HF2797NjBkzmDVrFllZWWq8E2OLJMTiqqMUgVCKUihFgDQaDTExMcTFxWE2m9VKzMoyMsqclEmTJrF69Wr+67/+i7Vr1xIOh9m1axd33HEHubm5hEIhtWqj0jumJKJ6vZ6kpCQ14CvL5ZjN5hGL2EcnrqFQCLPZTFxcnJpowMW5UDExMWoxrZ/+9Kc0NTWpxYqOHj3K0aNHycjIYP78+e9YUkpc+5Tqz/DXCp7KnPbh4WEGBwfp6Ojgnnvuobi4mPT0dGJiYti6dSvNzc3qHGClarRSaEWZz+ZwOCgoKFAbeaIrcup0OrxerzoXraamZkQVdYPBwPLlyykpKSESifC5z32OU6dOqcPNfvOb3zB//nzuvPNOcnNzR1StFkKMTdEFiJQEUWnci67k+2FotVq8Xi9ut5tly5ZRU1PDoUOH2LBhA1OmTGHhwoVM+//s3Xl0XNd94PnvW2ovFAr7RgAkCO4UV5GEdlGytVlrLDly2nY7brtjj53JpHuSk5N0FCed5PgkbmdO4pyMc2JPknGcsWXZskxJlmOZiazNpCSSEDeQBAECxL4vtb9l/ii8xweIlCgKBEDU73MORapQy32vLu69v7tu305jY6O7iebllEtOp3pLSwu6rjMxMYFhGEQiEW6//XZ+8pOf8PbbbzM1NTXryDvv304Z7pTHGzZscGeTpVIp2traaG9vp7W1lb/92791Owec101OTrJ9+3bGx8fdkyhs22bt2rWUlpYyPT3NCelhBQAAIABJREFU4cOHmZycxOfzsXv3brZs2cKLL75IKBRiz549nDlzhs9+9rOsXr2awcFBNmzYwO7du9m8ebM7Wu90IExOThKJRGaN6qZSKaampsjlckxPT7sds62trdTU1DA4OMirr75KOp3G5/O5m1319PSwcuVKYrHYrN2hve0V7znHtm2TzWY5ffq023ZraGggHA7j9/tRVZX29nY6Ojpob29H13V+/OMfu3nMNE26urpYuXIlPT09TExMsGvXLm655Ramp6dJp9PE43G2b9/Opk2bOHXqFJs3b+YLX/gCn/70pzl16hRlZWXs3r2bRx55hKKiInfDs1gsRllZGeXl5XR2dlJeXk5jY+MVbwonrn0SEIslx+mxdQpwbwHr7HToncbkBJDOxhd1dXXs2LGDaDTKL37xC/f127dvp7i42N0J0nm99493Z0fvDpPenSYvdlzCxMQE3d3dbNy40d1AK5VK8cwzz9Dc3MzY2BgnTpzgd3/3d6mrqyMYDJLNZt3nvZ/jI8TS5t2cw8nDTieJ93FN0xgaGuLQoUOsX7+eRx55hE2bNqFpGu3t7Xz/+9/nxIkT78gX3qNCnA1WnEaV0yvvHPcViUQoKiqitraWe+65h/Xr1xMKhWb9jjnnI/f19VFVVcV9993HDTfcwDPPPEMikWDfvn389m//9qwjSYQQhcX7u+/Uwc6uwZqmzdpn4IN26HrLGGd68c6dO+nu7ubo0aO8/PLLHDlyhC996UtusHe5nXXO8YZOpyHgTpvO5XLuCLS3jHSOfnKCKef6nSnBTkeA09EYDAapra3lox/96KyjgsrKyty/neUzzs9VVWXTpk309PTw8ssvuxtmNTc3s2fPHn784x9z+PBhkskktbW1VFZWEolE3IEAZyaRk0bne3HaNU6nqnN/vQGytw1UX19PU1MTZWVlTE5Ooqoqfr+fe++9l+uvv57i4uJ3HKvlHFPpvR7TNN2dor/yla/Q1dVFb28v+/btI5fL0dTUxKZNm9xR//LyclpaWtzTFJxZdc60bWd9urOGfe537WxOpmkaJSUl/Mmf/Am9vb10dnby2muvoSgK27ZtY+XKlXzjG99gbGwMyM8UfOKJJ6ivr6eqqopUKvWOPCgKgwTEYklyCnCHNwCY2zB3Ckmfz+ceyVBdXc3GjRt5++230TSNyspKampqgAvHJESjUaampujs7Jw1Dcp7JIDDO3rrvIdTuaxZs4bp6WneeOMNNm7cSCgUYmhoiLa2Nk6cOEFlZaU7hcnbiBgdHWV6etodsXbWD8su08uDd0dQJ895G5TZbNZ9PJ1Ou42pbDbL2NjYrGmHzo6rcztOnPf2duI4z3V2tG5sbHQ3eWlqanJ7yc+ePUtpaak7lX///v3uOvfa2lr8fj8TExPuUSdOuoUQhcsJBp2ywOfzuVNc52u5j3dEdXBwEEVRqKmpoba2Fp/PxwsvvEB7ezuDg4OsWrVq1j4H78bn85FMJjl79iznz593lz9NTU1x+PBhEokEdXV1BAIBN8h0jnxMpVKMjY0xNjY2q1z2BmkA8XiceDxOLBajuLiYpqYmtxMym80SiUSIRqOzZpwB7gaLk5OTHDx4EF3Xuf3221m9ejU1NTVEIhE6Ojro7+9n/fr1xOPxWWciewcKYHbQ6wTvTtvJCZq9wbzP53PPkY5EIuzYsYNEIuG+JhgMUlJS8o61284xSHMHMpy06LrO5s2bKS0tpayszN01PJlMMj4+ztq1a90g2+/3s3nzZrctlMlkKC8vd/djCYVC9Pf3093dzaZNm7Asi0wmw/DwMBMTE27d1t3dTVNTE+Xl5cRiMbq7uzl58iSVlZXU19czMjJCKBQiHo9TW1vLnj17Zp0GIsFwYZKAWCw5znQkZ0qSwwki5vYQOoW6M+qrqirhcJgPf/jD/OVf/iW6rvOJT3zC3bLfCWQrKiro6emhvb2dz3zmM27F5hyH4OW8xqkcvIHJ3r17eeqpp9i3bx9r166lqqqKo0eP8uSTT7J161b3jMN4PM5zzz3HqlWrqKqq4tlnn+XgwYM0NDS4lYwzYiyBx7XPaQCl02k3vzgdH8463kAgQFNTEydPnuTQoUNMTk4yNjbGj370I/r6+txjIpzGQTKZdN/fGZ3IZDJupwrgvrczCrJjxw4mJib4i7/4C4aHh1m1ahWhUIhvfetb7N27l5tvvpm6ujqeeuopioqKaGpq4o477qCjowOfz+euw3euSQhR2LwBcSAQIBAIuMcAfdAdep1ZX07H8bFjx0gmk1RVVblrPDs6OhgeHqanp4empiY0TbusWVbBYJDx8XEOHDjAwYMH2bx5M/F4nIGBAX74wx+ydu1aPvShDxEKhTAMg0QiwcTEhNvJ3dHRQUdHh/t+uVxu1jIqwzCoq6tzj286f/48d955J5WVlRiGwc9//nM34KqoqHDLbaeu2Lx5s7sJYjgc5sEHH6S5uZlwOExDQwM//elPOXv2LF/96leJxWLud+Hct/fabdtpOznLZqanp90NwqLRKBs3bmRkZITJyUl27twJ5PeqGBkZ4ejRo6xcudL9fiA/Kuuctezz+dyg1VsfmaZJMpmkpqaGxsZGbrnlFt5++21GR0fJ5XKUl5dTU1NDIpGgr6+Pj3/84wSDQdLpNGfOnGF0dJRoNEpxcTGlpaUcPXqUYDDIjh07CAQC7lrg7u5u6urqUFWV/fv3c+ONN1JbW+uOxv/d3/0do6Oj6LrOpk2b2L17NzU1NYTDYfe84nQ6LTtMFzAJiMWS4B0B9vl83HjjjUxPTxOPx92AIBgM8vDDD9Pc3ExVVZU7AlZfX08mkyEWi6FpGplMBtu2ueOOO9i3bx/BYJC77rrLHY1TVZXp6Wk+9rGPUVtby4svvsj+/fvZsGED27Zt47HHHsPv97tpy+Vy3Hjjjaiq6u44fdttt7nrnG666Saqqqo4fPgwTz75pFvI33vvvXzpS19y13t+7Wtf45vf/CaHDh3CsizuvPNOfu3Xfo1YLOYe2bBnzx4aGxvdHur3quTE0mWaJrt373Z37XRGbgOBALfeeiuJRIJ169axbt06nnjiCV577TWeffZZwuEwv/d7vzdrnd7GjRvdsyWdEeHi4mJ+5Vd+xe1ld9bar127Fp/P564N3rx5M42NjWzbto2nn36a119/HcuyePzxx9m7dy+NjY3kcjn+9E//lH//93/nwIED/Pmf/znXXXcdLS0t3Hbbbe4osTQWhChc3qm4zt4GzkjdU089xde+9jXuuOMO7rrrriseLVZVlUgk4i6Bqqio4Otf/zrd3d3U19e7S4zq6uq44YYbZo1Qvhenbm5paeH73/8+3/zmN0kkEiSTSe677z7uuOMO9uzZg2VZ3HbbbfzHf/wHn/70p9m5cycDAwMMDQ2506mdANhpb8CFkdiPfexjbNiwgT/6oz/iueeeIxQKuRtq/sZv/AZ79+6dlS7btkmlUlRUVLBu3Tp27tyJpmmsWrWKsrIystkst99+O319fUxPT3PrrbcSi8XcNtDcgQPvd+XtpHA6Z4uLi6mpqeH222/nG9/4hntu/RNPPMHXv/51Xn75ZW655RZWrFjB6OgomUyGu+++m82bN6PrurvplM/n48SJE3zhC19gz549PPDAA9x1112Mj4+707WdP+l02p2OvGbNGnfqeSKR4DOf+QyvvPIKf/3Xf80vfvELQqEQAN3d3XzqU5+ipaUFgK9+9at8/etf59vf/jb79u2jvLycrq4uEokETzzxBFu3bmV0dBTbtvkv/+W/uJ0JbW1t/Oqv/iq7du2isrKSRx991B1IGRsbm7U0ThQuCYjFkrRjxw5yuRzRaBTAXRty++23E41GiUQi7lSf5uZmKisr8fl8wIXpVh0dHUQiEWpqaqirq5s1FdlZ77Np0yZKS0vdaTnFxcXceeedswrGbDbL1q1bAYhGo+i6zvXXX++OZDuV9q5du9wNuUKhECUlJbN6u+PxOA888IA7Fba+vp5gMOhuIOZsoJFKpdy1TTJSfO3xbiayc+dODMOgtLTU3YBG13W2bduGYRjEYjGy2Szbt293e8l1XWfNmjWz8urKlSvd4ziy2ay7vmrdunXuDtS5XA5FUVixYgUlJSWk02n3MU3TWLt2LY899pg7A8FZh+ZM7S4uLmbPnj00NTUxPT1NZWUl5eXlsm5YCAHk66Mbb7yRTCZDWVmZ21Hd1NTE5z73OYLBIKWlpVdcbzmd3x/5yEfcoK2qqoqHH36Y7u5uxsfHsSyLqqoqGhsb3ZlVl1tGOeldsWIFH//4x90jlPx+v7ue1Rn1veGGGygpKaGpqQmfz8fOnTvx+XykUimampqIxWLE43E++clPUltbC1yY3RaJRFi3bh2/9Vu/RU9Pjzt6ff/997Njxw7KyspmbUoF+QDWMAzq6+t59NFHAaitrXVnxa1YsYJ77rmHTZs2EQ6H3VlyRUVFPPTQQ+7oLeQD/8bGRu655x5WrVpFcXExAI8//rg7qhsKhXjooYd4++23WbFiBaZp4vf7ufvuu2lubqazs9OdKh2Px9m2bZu7CZh39Le0tJSPfexjNDY2uu2sSwWWzuu8O1SbpklRURHbtm3jN3/zNzl37hyQD7ZLS0vZvn07VVVV5HI5ysrKePDBB9m4cSPnz58HYPXq1ZSVlbFr1y78fj+lpaXcdNNNpFIpd0R83bp1tLS0uOc4A+79k0EH4ZCAWCxJjY2NbuXirN1VVZUNGza8Y91OdXU1NTU17lRUx9GjR4nFYtTX11NSUsLExMSsaauqqlJbW0tjY6MbZKiqSnl5udvr66Shvr4ewK18nSOfnHXBkUiEeDxOU1PTrClMzrFLkJ9atnPnzlmVhXf9p2EYNDU1oarqrF5nce1x8k1TU9OsJQBOHmtoaHDX+zr5y3kMLkzRdwLr8vJyN3h1etl1XaeqqsptSDl5v7S0lIqKCve5Tl6vrKykurp6VuWfyWTcdAUCAfdYJ2/ed45/EkIUNtu22bp1K5ZlEYvF3M2mKisrefDBBxkcHKSoqOiK3ttb9t10002oqkooFCIWi3HTTTcxODjImTNn0DSNlStXUlVVdcmNLi/F6QgvLi7mwx/+MAMDA2QyGaLRKEVFRe7GVIqi0NzcTEVFBY2NjQwNDbkdjZZluecBA9x///1UVla66XD2M6mpqeGhhx6ira2N6elpbNtmy5Yt7ghzNpt9x8ZWhmFQWVnJLbfcAuBO3bYsi9LSUnbt2sXWrVtnreONRCLs3bvX7YB37mFtbS1FRUWEw2F8Pp/bRnE2QPP7/ezevZtYLIbP53NHdLds2UJTUxOdnZ2MjY1RUVHhHleZSqXcz3WmYBcXF3PfffcRDofd85YvFmR6/9+7ARvkg9+Ghgbq6+tpbW0lm83i9/tZv349kUjEXR7kzKJzjhucnp6mrq6OhoYGampqSCaThMNh1q5di9/vp7+/n1QqRVVVlVsXO/WZc+9lVFg4JCAWS5JTaM0tVJ11kd6feXfwddY2pVIp9u3bx80338yGDRsuWjg7a3addSNOZXaximruOazeTZKcKdFOcOzdbMK7hf/FggvvtTjTikAK6eXAyTcXm/ruzU+KojA9Pf2O1zqczU+8/w+4Zzx63weYFRx7d0e/2Nmg3nM4vRu6OQ0emUYmhHDYtu0Gf84eH079W1lZ6Y40XmwfjstlGIbbwW1ZFolEAk3TWLFiBc3NzQDu7Jd3Owv3Upyjhmzbpri42E1/IpGYVY7mcjlisRi7du1yj4B0Ps+7GdaGDRvcUVzAnaZsGAaqqrJt2za3DE0kEu7nzS1XnTaJruvE43HgwqZdTjlcXFzs1gdOWp0ZRc7ItpO+aDRKPB53v6dwOExFRYV7TJXz/tu3b3c7Xp3yPxgMsn37dnc02Tnib+5pG07nwLp169xr9o4gX8rc+tB7XOANN9zgvncymXQ7gJ3rdjp3GxsbgQv13dTUlHvvp6amqK+vZ9WqVW6HsbdzWIiLkYBYLEmXKlAvVph5A1Bd18nlciSTSerq6ti5cyfNzc2kUqmLVkDehr/3sff63IsF2HPfa27w4UxdvdiZfe92feLadbn56b3y16XyxaV+Hy71mRfLk3NfNzcgFkIIh3cWFlwoQ5zA6YPyjuLBhXIrm81eskP5vd4PcEe1q6qq3I5zZ+aOt2PQ+zrTNN/RWTm3XHQCtrmfeamOyHdLs1Puzj2mz+EEnd7HvB2jc9PuDdyd1899njd9TrqdjggvbzDsfb1lWbPuwZXUGd7XOJ0V3p95p5V7g/dLpc+ZZed0PH+QtInCIQGxWJb8fj8f+tCHWLlyJZFIZFYFM9d8FpJzK9Sr/XlieVioPPF+GpCST4V4d4W4rOVSO85fbtD3fj7D+17ena0v1en3bnK5HDU1Nfj9fhoaGmbtKfJunX9zjzOa+/z36jj0Hot0uem+nHs89/HL+T4u9jzv5mdzr9Gb5ndL93yeQvBe98vpNPAeNXixzoy5363UZ+K9SEAslk1B4R3VikajPPTQQ+7GWxc7yF1cWwqx8Sne29x8IflELIRCzWcL0dF7sfe60qDGeU0mk6Guro66ujp3OQu896ys9/rcy5kefDnPu5z3fD+Pf5DHnMcvN81X47t/r3t+Ne67KGwSEAt3nauzYdRyMHcakRSK74/TA+s9wmExKYqC3++ftX7WO2IgCpt3NMM5rkWIq+liU0jFtUHqDbFcyF4f80cC4gLlneJSVVVFMpnk9OnTs6ajLKfKXirAy+cNLs6fP8/Y2Bi1tbVu3ljIjSmcPOj3+92e/fHxcXp6eqitrZ21c7MoLE4e1TSNyclJhoeHSafTNDc3o+tStYn555ztCvm1oc4GRVK/CCEWi1MWBYPBZdVuX2jSaihQ3gp8w4YNtLa2curUKYaHh9F1XRqUBczZ+GtiYoIzZ84wOTnJli1bLrop09XmFO66rlNWVkZFRQWTk5O8+eab7NmzZ9Yu3qKwOL3imqbxxhtvMDQ0hM/nY82aNei6Lg0DMa+css/ZBXhoaIjh4eF3/FwIIa4mb2fw9PQ0o6OjZLNZampqZHDgA5Cop0B5G4t333037e3tvPTSSxw5coSdO3cSDodnHRkjCofP50NRFN566y0OHDiAqqp8/vOfX5Tg09nFUlVVYrEY27Zt48iRI/zLv/wL//W//ldCoRCmaZLJZCSfFhBnR3ld17Ftm3/+53+mp6eHpqYmtm/f7nboSZ4Q88HZtVdVVfx+P+vWrePkyZM0NjbO2sXYea4QQlwtpmkSCAQIhUKcOnWKrq4uMpkMO3bskMGsD0DuXIFyRvssy2L37t309fVhWRaPPvooX/ziF7n55pu57rrrCAaD0vNdQHK5HB0dHRw+fJgvf/nLbNu2jXvuuYe77777okdTLATvVO3f+Z3f4Z/+6Z/45je/yd13382nPvUpdu7cSXV1tTREC4iiKPT393Po0CFefPFFvv3tb/Obv/mbPPzwwwQCAXfJh+QJMV+cvFRaWsrv//7v86UvfYkf//jHhMNhvvjFL77jeUIIcTXYtk0mk6G/v5/PfOYzqKrKTTfdREtLC5qmyZriKyQBcQFzKm5N09i6dSsAk5OTHDlyhI6ODioqKvD7/RIQFwhFUTAMg7GxMUZHR9m5cycPPPAALS0ti54PnLxaUVHBbbfdhmVZ7N+/n+eee45XX32V4uLiWUctiOXLyQvOVLGRkRF+/dd/nTvuuIPm5mZg8TeBE8uPd/nG6tWrueeeezh69Cg/+MEP0HWd2tpaSktL8fv9i5xSIcRy5LRvxsfHOXfuHG1tbSSTST7ykY+wd+9eGR3+gOTuCQCam5uprKxkcnKSH/zgBxw9epRUKiVBRgFxGnw+n4/i4mI+8YlP8JGPfIT6+vpFPcvPe4ZiKBTi+uuvp76+nv7+flpbW2ltbZ115qBY3rwzBuLxOCtWrOBzn/scK1euJB6PL+imb6JwOPlOVVUqKiq47777APjOd77Dd7/7XZqbm6mpqSEUCgGFUxZ5y2chloLlnif7+/tpb2/n9OnTbN68mTvvvJOWlhY5c/kDUuzlmmPE++LddTqTyTAwMMDZs2cZHByUX7ACYVkWJSUl1NfX09DQQDgcnpUvloK56RkcHKSvr4/Ozk6y2eySSae4+hoaGtxzReGdeUOIq8VZTzwxMUFvby9f+cpXOHXqFAMDA5im6T5vOTavvMGGM6vIsqxZs4jmoyPdsixM03SngC7277XTCWcYhrvPxmLyfg/eYxIXcpTQyetL6Qgy517A0krXB+W9jng8zubNm7nhhhvc/V2cZZDL5XoXgwTEwuU9PiKXy5FOp8nlcvILViCcyjQQCLhnuS6Fhshc3tFgwzDI5XLuBnCicDj51O/3y5phsaCcutI0TXK5HD09PaRSKXK5XEGVQ6lUijfeeIP+/n4ee+yxeX3vEydOcPLkSdauXUtjYyPRaHRe3//9Gh4epqenh9bWVh566CFisdiipsdreHiYw4cPk0qleOCBBxbsc1977TVGRkbYuHEj9fX1+Hy+BfvsS+nr6+PkyZPYts2GDRuoqalZ7CTNO13XCYfDFBUVUV1d7T4u9d8HI1Omhcvp1VUUxW1oFgqnEZPJZJiYmMCyLIqKiohEIkBhFjRLtWHnzac+nw+fz0c4HF7sZC0Y59pTqRTnz5+nrq6OQCDgHpdVSHnVuVYJhsVC8q4n1nWd5ubmgsl/3lHgc+fOcfToUUzTZM2aNUSj0XkphyzLYnx8nOPHj1NUVMSGDRuoqqpalPLN+cwTJ04wOTlJJpNh3bp1VFdXL+qxf97v4fDhw+i6jqqqbNq0iUAgcNWXjZimybFjxxgeHiYej7Nt2zaCwaCbpoXmfE/Hjh3jzJkz2LZNU1MTmzZtWvC0XG3eQQFve0h8MBIQi1mcaRfe0eJCYJomiqIwOTnJyZMnMQyD1atXEwqF3GN/CqXAcYKLpbwOc+50sULKq07lNz4+zksvvcRdd91FWVmZuyN8IeVT5+9CuWaxdHjXsjtriwshH3oDsa6uLo4ePUpbWxv9/f00NjbOy9RN0zTp7e3lrbfeIhwOs2XLFiorK7Esa0GDUGf6raZp9Pf3c/z4cd58800mJycpLy9f1E5I7/fQ3t5Oa2sryWSSiYkJysvLZ5WPV+Mzs9ks7e3tHD58mLKyMlpaWggEAti2vSgdBU7aRkZGOHz4MLZtc/3117s/W06/m95yR+q/+SMBsXiHQvwFc655ZGSE559/nnQ6zUMPPcSqVavcgFgsPYWWV50KMJ1O09HRwbe+9S2qqqrYunUrDQ0N7trGQronQiyWQit/5nrppZc4c+YMQ0ND/PSnP+VjH/sYlZWVV9RB6ayBVVXVDbLPnz/PgQMHuPPOO6mvr3cDroW45841qKqKYRicOnWKN998k5GREQ4cOICqqqxdu3ZROszn7pewf/9+zp49C8CLL77IAw88QDQaxbKseV1T7B2ZfPnll2lvb6erq4uXX36ZRx99lEgksuBrWb0dUoODg3R0dLhTpjs7O1m/fr3bmbJcfl+lPXp1yF0VBc+7Ocj4+DidnZ2cO3eOkZER0um07LQtlgTvSPjAwACdnZ2MjIxw6tQphoaGFjl1QojlzqkrTdNkenqa9vZ2kskkmqZx4sQJpqen3QDxSupMJ2Bpa2tjYGAAyI/4dXV1MTg46KZhIetjRVE4f/48vb29jI6OEggEOHXqFP39/e7PF5rzPWQyGYaGhujq6iKTyWCaJkePHnXbLVczcGptbWVqagrLshgYGKC7u5uJiQk3fYvRZurs7KS7u5t0Ok0mk6Grq4vOzs4FT4e4NklALAqat6d1amqK4eFh+vr6GBwcZGhoiNHR0WW/hb+4djh5sK+vj46ODtLpNO3t7QwNDbnT/oUQ4mrKZrMMDAzQ09NDJpNB0zTOnj07qxMZ3n+d6WyUeObMGYaHh1FVlampKbq6uujr67ui97xS3qCuo6ODgYEBEokEgUCAzs5O+vv7yeVyC5KWS0kmk3R3d7u7m9u2zenTp5mcnLwqG6I6gwO5XI6TJ0+SSCTc5TudnZ2MjY0tah3U2dlJT08PpmlimiY9PT0SEIvLJgGxKHjOFv1dXV2cOXOGsbExJicn6ezspK2tDVi8Hk8hvJzGRnt7O21tbQSDQU6dOkV3dzepVModEZC8KoSYb05dOTk5SWtrK8PDw5imia7r9PT0cObMGXdk13nu5XCmvNq2TSKRoK2tjZGREQKBAJZl0dbWxpkzZ4DFGZE9ePAgvb29GIZBMBh0RyLHxsYWpcx1Pmt0dJQ333yTqakp9750dHTQ1dXF+Pg4iqK4U9Hn4zOdtcOjo6OcPHmSZDKJz+cjl8tx+PBhzp8/Pyt9C8UJ1Nva2ujq6nI3u+vq6qKtrW3ZrSEWV4cExKLgOQXl8ePHOX78OJBfo9HR0cFbb73lPkcKVLFYvOvZBgYGOH36NOfOnSMWizE0NMSpU6dobW11nysBsRBivjlrZYeHh9m/f787QmrbNtlsloMHD7qdyO+nvnSCtunpaQ4cOMC5c+eYmppC13X8fj9nzpzhxIkTCzZjywmgLMsimUy6xwv5fD5UVWVsbIy2tjZ++ctfus9fyJFrVVWxLIu+vj5eeuklVFV1H5uamuL111931xTPV7qc72hgYIBXXnmFwcFBstksmqbh8/k4dOgQ7e3tJBIJd1Otq31PnE4XZ8T65MmTDAwMuKdPDAwMuI87efX9dNSIwiIBsRDkpx6dP3+egYEBt3dxfHycrq4ud12UEIvF2+Bqb29nYGCAZDKJrutYlsXg4CCnT59e5FQKIZYrp/xJJpOMjY3R19dHKBRyN22KRCIMDQ0xPDxMJpO5og7kVCrllmPOMULBYJBcLsf4+Djd3d2zNna6Wpz3TqVS9Pb2umtjA4GA+/f09DSdnZ3v2ODqavJe88TEBMNQzWW4AAAgAElEQVTDwwwPDxMOh9E0DVVVCYfD9Pb2MjIyMq/LaJz3mZycpL29nVAo5H5mKBQimUwyMjLizhBYSLlcjrNnz5JMJmcdx+gcT9je3o5hGAueLnFtkYBYFCxv5TI6OkpPTw/Dw8Pouo7P52NycpKenh4GBwfdwlRG3sRism2bEydOMDQ05PbOOyM2p06dwjRNoDDPzRZCXB3eI15SqZS7PKO6uppoNIrP56OhoQFVVclkMrMC4supM53nGobB6OgolZWVlJSU4PP5iMfjxONxNE1jYGBgQUZjnfdPp9MMDQ0RjUYpKSkhHo+jqiq1tbWEQiEmJycXfDqu83lTU1OkUikCgQBVVVWEw2ECgQCNjY0YhkEmk5nXHbCd98hkMkxMTNDQ0EBRURGBQICysjJisZj7/TnpXKj2kmmaDA4OUlRURFlZGeFwmHA4TFlZGdFodFYbTohLUWxp4YsC5Z1u853vfId//dd/paOjg3g87p5JHA6H+exnP8ujjz5KRUXFgp+DKARcOA/TNE0ef/xxuru7mZ6epri4mGQyCUBFRYV7DJNzPIkczyCEmE/ZbJZcLkc2m6Wrq4unn36a06dP82d/9mdEIhECgQCBQAC/3/++39swDKamplBVlZ/85Cc8//zz3HTTTdxyyy3U1NSgKApFRUULFoDmcjnS6TSmaXL8+HGOHDnCT3/6U77yla9QXV0NQCwWW5QOyEwmQy6XwzAM3njjDV544QVSqRR//Md/jKZp+P1+/H7/vB+7lM1mSaVSKIrCP/zDP3D69GluueUW9u7dSyQSQdM0otHovH3m5bAsi8nJSRRFobW1lWeffRbbtrn//vvZsmULtm0Ti8WkPhTvSs4hFgXLqcQ0TWP16tU8/vjjdHZ2utNrGhoaWLVqFevXrycYDM56jRALycl3lmXx4IMPkkgk6O3t5Re/+AW33norpaWllJeXu9PEJJ8KIa4GXdfdgCsSieD3+1FVlWg0SiQScac6XwknmFIUhUAggKZpBAIBwuEwkUgEWNg6WNM0QqEQtm0TCoXcaw2FQouSHi+fz+cumQmHw+7mVrFYDMBdVzyfnOnIzqiz3+9H0zSCwSCRSIRwOLwo90NRFCKRCIqiEAwG0XUd27bddMmmWuJySEAsCppzVl9DQwPl5eVUVVWRSCTIZrNs3bqVbdu2ub3eUqCKxeTk1V27dmGaJmfOnOH111/nuuuuc/Ovs5ZMCCGuBmc3aE3T3CUbiqK4e298kBFJ530URXHfW1VV97MWmvP5ThqcQFDTtHkdeb3StDlpmZu2q9kp6g20nc9UVdX97hdj0qmTbwD3XnjzqPMcId6NBMSiYDkFpKqqrFy5Esj3fh85coRMJkNTUxObN2++6GuEWGiqquL3+9m0aZP7mK7rNDU1sW7dOsrLy2c9X/KqEGK+edeGeo/0cc7B/SCbTDlLQ5yAxvkM788WOhB1rsn5/Lmbei1mOXuxe2+a5qzOg6uRPu898N6XxTrhwLluJ9/M/eMsdZM6UbwbCYiFIL9WSFVVTNMkl8u5a3NM03QrYSlMxWJzKndn0xTbtkmlUmQyGXdDrfnaREUIIS5l7ijkfI1KOu/jvJf378Uq1y6WpqVQxs5Nl/exq/25F0vHYnq3e7HYaRPXBllhLgSzC865lZ4UpmIpcQLeuRW/BMJCiIXwbuXMBymDLvVaKdcuz9w6YTE/f6l9ruQh8V4kIBaCS/cAS0Aslpq5wa/kUyGEEEKIKycBsRBCCCGEEEKIgiQBsRBCCCGEEEKIgiQBsRBCCCGEEEKIgiQBsRBCCCGEEEKIgiQBsRBCCCGEEEKIgiQBsRBCCCGEEEKIgiQBsRBCCCGEEEKIgiQBsRBCCCGEEEKIgiQBsRBCCCGEEEKIgqQvdgKWG9u2L/pvsbRZluX+bds2lmXN+gOgKMpiJlEUOKc8URQF0zTdfDk3vyqKInm1QHm/d8kDC8O27YKq653rVVXVrS+9ZZBpmsCV5T/vvbxUXbyQ+dr5fEVRLnqti8lb1jvp8qbXcTXv18W+e9u2F7zscdIAXPR7Wm5tOCnnrw4JiOeRU5DP/Vssbd7KxCnMnULG+7gQi+liedCbV52GgChs3rJLGktXVyHWD96OOKf8mRuYXSlvIANcVsB3Nb1XehaTt2PiYm2WhZL/bPUd7aiFNPdzvfljuf6OSjk//yQgngdOD5Sqqm7hJK5Nfr+fcDiMqqn4/X50XX5FxNKjaRrBYBBN1yiOFxOJRCSvilkMw0BRFKmT5pF39FJV8yvOnL8LhaZp7r9LS8uIFhURDIUoLS2d18/x+f0EQyGK43ECgcCil2/RaJRYLEYwGETX9Vn3YTF4P7+kpJRIJIphmAQCgQVLg98fIByOEI/H8fl8+Hy+Bfvsd0tTJBLFtm38/sXPN1eblPPzR7GXW7fJAvFOl1FVddaocFdXF/39/QwPDzM4MEgqlcr3UCG3esmyARRGRkY4fvwYOcNgTXMz9fUNzg9ByhqxmJziQ1GwLYv+gX5+9m8/49bbbqO8vJxIJAK25NVCoqDi9/uIRCLU1tayon4F5eXllJSUvGP5jkylv3JzZw85/06lUkxOTtLefoahoUHGx8ZJJKaxbJvlW93PjMKhMD4xwVuH3mKgf4CPfvRX8Ok+T9lzZXnNxkZF4djx4xw7fozm5maaV6+mqCiGjY2ywIWbk57+gX66z5/n2LFjPPLww8RixQuajoulDPLfw/me87x99CiZTIYHH3gARVHxVBhX5dMV4OVXXmFwcJB169axZk0zPp8PeyZNC83JG709Pbx99CgA123eTG1d3aLkm/mkALrPRygcpqa6mroV9VRWVlJWVo63oPGOkEtZ//5JQHwFvMGvaZokEgk6OzsZGR5hZHSUs2fbGZ8YY3JyisnJCUzLlMy5xOULcchks0xOTmJbNtFolHA45P5MiMVkz/wn3yC3SKfTDA0NU1paSiAQwOfTsW2QoqZw2DaoioLP56ekpITysnLKy8uprKhkRf0KamtricfjhEIhWXd2BeZ2KpiWRSad5lxnJz29PQwNDTM8PEz3+R6mJqdIppJkc8ZMQLL8pdNphodHSKWSrFq1Ck3T8nnrA1SaThk2NjrG6NgoRbEY8eJi/H7/opRvzmcmEkmmp6cZGxujqWkVfr9/YRPyLqamphgdG8MyTVauXHnh9/sqN176+vpIJVMUx+OUlMRnBocWpw5yv6fpBCOjIwCUlZYRiUau8XpRATu/TMDn04kXxygrK6OiopzKykpqa2uoq6ujtLSUaLRo9iuv3YteFBIQv0/OehJnuko6nebs2bN877vf4+DBg7z99lH6B/sIhYOEwkEi0QhF8SiapucLi+XbbXxNc3r9/X4/sVgMRVGYnp4mlUq5PxNisSnMtHEUhUAgQEVFBaMjo2SymfzUKRQpYwqEgkIulyOdypBKppiamCI5nSIcDFNeVs79D9zPXXffxXXXXUddXR1wYZ35Yk/3vFbMXZOYTKUYGBjgqSe/xwsv/ITTp8/QPzCIqgeJRGOEIlFCkRh+v9MBsXx/F21A1zQCgSCapjE9PY1lz6y1nYf3DgQCBPx+srkc2Ww2v3aYxbin+TJV13V8ug9/wM/U1NRMehafDfh8PgKBAAr5dovtjh5f3c8NhULomk4ulyWTzeZnTizKdwTO9+TT9Zlp4wqZTIackVvENM0HBdM0yKaTpNPTJKYmSUyPEwr4KIkXc+edH+Kee+9l+/btrF7dDEg5f6UkIH4fnGnSqqrS09vD0z98mn37nuVnP/s3VqysZeOWDezYtZ0bb7+ByqpKiotjBEPBC72mYsm7sIGGs1lFYfT0i2uPbdsYhoGuO+WLlDEFwxkAsmxsK58PEokEPd29nD1zlpNH2/jxU88y1DdMSbyU2267jf/xh/+D6upqIpGIuwZW6qVLM03TXR9smCZf/5u/5ifP/4RfHjiIHoiy5+YPsXHLTtZv3srqtZsIR8IEAn40LT8aVQh31gYsKz86p89z29uyZ0b9AEVd/Ptpk0+PbYO6BNLjZdv5+wWgLWCTxbKcDtqlk+fd74l8mpZDC875XTBNm3Qqx0Dfebo622k/dYyfPvM9es+3Ew752H399Tzx5T9m5cqVlMTjs/Y6kLL+vUlAfBm864dGR0c5dfoU3/rWt+jv7yNjZGhat4qNW9ZTU1dNZVUFpWWl+Py+/MYLquaWEtfyGoZCYTN7p0L5zsRSZWNj2RbqTKeN5NUC4s6IzLf8nOU7mXSGRCLJ1OQUZ0+fpb3tLN2d5+nu7GX1ytXcfPPNtLS0sGnTJllXfAne+n5kZJS2tpM899yzvPraQfyhIkor69i4dTf1jQ2UlFVQFCsjHImhahqqouSnZiqF06yybfJLOeY78pgJAnACrcXOpjNfqTv9drHT4+VZsr6Qv87e6GHJFCPee+H+5xrnyXuWBdlMmlRqiunpMbo7z3Ku/TQ9XR30dJ6iprKElpY93HDDDbS0tOCdNy9l/btb3tuvzQPvdu2Dg4OcPHmSF3/+Iq+8+jLVdVWs27yWBx+9n+a1qwlHwqiqQjaTwzAMLMsil8vJFEYhhBBXhcLMsTeqQrQoSrwkjqZrrNuwhs6z5zh65Bg/e34/B978JZlsmlQqRSwWo7Ky0l0HKQ2lPO8xO5OTkxw69Bavvvoazz73E/yRMtZu3cLOllvYvusWgsH8ULBhgJHLnwtu2HL0mRBi/inMDNKoKqFwhKJYlJq6aprXbKR3Yw+nThzllf0Kb73+HyRTaaanp6moqGDFijp3Crl4dzJC/C68laOu6/zjP/4jP/rRj3j66af5nT/6be685w627LgO27ZJJBJYRr4yVNQLve7S0BBCCHG1XThvM/9vTVUJhUNouoZt23zjr/+BF575KWfbOvnCF77A5z73Oerq6tw9MaSuyk+TdvaMeOaZZ/ja1/4Xbac72LZ7L//nE1+hoqqSQMDH9GQW0zTd9fwy0i6EWBBOOT8zm1FBIRAK4PNp6Do8/b3/j33f/385fvhVfuVXHuEP/uAPWLWqSZbJXAYJiN+FUzmmUin+5q//hqd++BSBiI+P/qdHuPeBu9F1bWa9gudgbNmSWAghxCJypnXOmhZtwdEjx3jt5V/yzb/5Rz75yU9yzz33ctddH8Y0zYIOip2Ob1VV6e7uprW1lc9//vNs3HYjO264lY88/FECwRK3s0H2lhBCLD4n4LgQxqlals72do68cYD/+2tf5t67P8SDDzzAo489lt8ITjrwLkn78pe//OXFTsRS5PQTDAwM0Nrayt///d9TVl3Crht38qH77qCktAS4sJubm7kkjwkhhFhEc9s6tm0TDAYIR8MUFRcxPDxCd9d5jJxBZWUlVVVVntcWViXmHRMYGxvjtdde48knnyRp+Lj1w/dxfcvN1NStxDI9Gz0V2D0SQixF+XLInjmT0bbBH/ATCkeJxopJTCfoaG8jk84vk2lsbMy/SgLii5Juzotweosty+Ls2bP827/9G4eOvEXLrbt54NH7aWpeRTKZJJfLoSiKu4ubEEIIsVR4RwOmEwli8Rhbd27h05//JCNjw7z66qv8/Oc/90y3LswJY06ndmdnJy+//Ao/fPoZ7rj3o9x6x12s27iZRCKLaeaP2ZH6XgixlOTLeBVVVUkmcgSCYVatWct//o3fJmtpHHjjLX74wx+4exsVajn/XmTK9BzONGlVVTlx4gTf+MY3+Oa3vskf/68/5EN330F5ZRnjYxP4/L7FTqoQQghx2fL1m0pFRTlPP/kj9v3gOX78/edobW2ltraWWCyGbdsFE/R5OwJyuRyPPPIwvQNjNDRfx9e+8Q9MTmTIZvP3TEZUhBDXgnw5DyWlYd785Rs898Pv8L1/+hueffZZrrvuOqqrq91jZOWs4gtkyvQlKIrCV7/6VY6fPEZZdRlf/O9fIBQOYhimTDcQQghxzVFmjgXKZnOUV5aRyxl0n+umt7ufFfX1rFhR5z6vEDgjw+Pj4zz55Pf4t5/9O6vWbeFXP/V54iWVGIYFSH0vhLh2OOV8LmsSLy3CsgwmJhIcPvgKzc3NNDY2uhtsSdl2QWF0A78PiqKQy+Xo7e3ltddew7By3Lz3Bmpqq9E0Ld/zokoGEkIIcW1RZg5QzWYzlFWUs2Hzem66/Qb27/85p06dYnxs3N1leblzrtEwDIaHh9m3bx+R4nLWbNjKhuu2ksmY2NYiJ1IIId4np5zP5UwikSKa1mzgpr33cODgQU6cOEFfX58EwxchAfEciqKQSCT45eu/5OzZs9TUV/PIrz5EMpV0d2gTQgghrkWKMtPxm82ysqmRx//zr3L6zGmOvv02Z86cQVGUZb/OzJkmraoq6XSanp7zPPP00+zYs5edLTcTDPlnHaskhBDXEkVRUDWNVMqiuraJ+x/5OJPTGd46dIQ333xTAuKLkID4Inp7e/mrv/q/2Lp7Mzfc2kLjykbSqfTs3aSFEEKIa5ATCIbCITZsWseH7r+Dt468yXe/912gMIJAZw3da6+9yo+efoZ4ZT0333EXq9duYmoyjabrBXEfhBDLk6IoGIaBrquUV8Z47FP/G6fPdPLM0z/ENE1M01zsJC4pEhDPMTg4SH9fP+3tZ9i8dRMNK+sl0wghhFhWFJT88ZU23HhrC4Zl0HG2g/HxcXd0eDmPEquqim3bdHZ00HbqFFt33khJWQk+n+YGy0IIcS3LL4FRMAyF6/fchuYL0dPXR0fHWTo6zi528pYUCYjnOHfuHN3nuxkdG2H9pnVU11a5xysJIYQQy0G+oWSRMwyu37MT3acxMNBPb1+vGxAu54BYURQymQzd3d10dZ9n+/U3EYlGUZTlfd1CiMKRXwID2azFpi3bCRfFGRuf4vjxYxw/fmyxk7ekSEA8x89f/DlHjhyhpKKEpjWrKCmNk8lk3B3ZhBBCiGudoiqYlkUmk2HDdeuprK0kk8vw8ksvk8lksG17WY6UOsGuoigzHeA9JNI5dt+0F5+/CMPIn+kphBDXOmdPiFzWoK6hlhUrm9B8IV54/nleeP75xU7ekiKl/hwHD75BR2cHzeubKY4Xo+s6lrn8GgVCCCEKm23bmKZJUVERK+prKYoXcejQYbLZ7GIn7arxbhh27NhRJqcTxOJl1NQ3oCoqlmkVzDnMQohCYaP7bGpX1FNcWsnhw4c5fPjwYidqSdEXOwFLzfnz5wmE/NSuqsbv96MoqkyfEkIIsSzZto2uaZSUxglHQ3R3d2EYBrB8N9dy6vSenvNkswbRojjRaJhc1pT6XgixzNhuuRYvrSAai3PycO8ip2npkW7QOYYGB0kmElTXVKHr2mInRwghhLg6ZjbVUhSFWHGMSCRMf38/pmkWxLEcgwMDmBZEY8UEAjr5hqPMCBNCLD+2pVAcLyUaizM8MsLwyMhiJ2lJkRHiOYaGhwlEAtTV16FqGjY2LO82gRBCiEKk5P+YtkW8rISSshKmp48WzBGDw0ND6L4ApeU16DrkA+L8Wc1CCLE8KCgomCaEw0WEw1ESydRiJ2rJkRHiObLZLIZhoGkyOiyEEKIA2DY+n47u1/PTpWdmDed3ol5eU4i9I9/pdAaw8fl9EgQLIZYvBWwbVE1D1WQs9GIkIJ7DNE0sy8pXmFJBCiGEKACapqGp+TN4bZZXEHwppplfK61pqgTEQohlT1VUVFUG/C5GAuI5CmHdlBBCCFHwlJk540IIIQqaBMRCCCGEEEIIIQqSBMRCCCGEEEIIIQqSBMRCCCGEEEIIIQqSBMRCCCGEEEIIIQqSBMRCCCGEEEIIIQqSBMRCCCGEEEIIIQqSBMRCCCGEEEIIIQqSBMRCCCGEEEIIIQqSBMRCCCGEEEIIIQqSBMRCCCGEEEIIIQqSBMRCCCGEEEIIIQqSBMRCCCGEEEIIIQqSBMRCCCGEEEIIIQqSBMRCCCGEEEIIIQqSBMRCCCGEEEIIIQqSBMRCCCGEEEIIIQqSBMRCCCGEEEIIIQqSBMRCCCGEEEIIIQqSBMRCCCGEEEIIIQqSBMRCCCGEEEIIIQqSBMRCCCGEEEIIIQqSBMRCCCGEEEIIIQqSBMRCCCGEEEIIIQqSBMRCCCGEEEIIIQqSBMRCCCGEEEIIIQqSBMRCCCGEEEIIIQqSBMRCCCGEEEIIIQqSBMRCCCGEEEIIIQqSBMRCCCGEEEIIIQqSBMRCCCGEEEIIIQqSvtgJEGK5sS37vZ+kgKIoVz8xl8G27Zm/wUnSUknbB2HbNlzsq1DIP77ErtX5HmDppEkIIS7Ftq3LeJayZMqzfJ0wU84qSyddH9Slv4ele41OfbdU0ycKjwTEQswj27YvBFyXssTL/2VdQS3jSxNCiIX1Xp2/yhIrcm3P30srZR/Mpb+HfEf30rrWC52/y+17ENcyCYiFmAe2baMoCrquE4lG0HXNfdy2bWxAVdV8rGzbmKbF5MTkoqaZmbT4/X78fj/BYICckSOdzpBJZ5ZcJfp+5b8HHVVTUT3X4lTBhmGQy+ZIJlOLfq22bRMMBdE0Dcu0SKfTi5oeIYS4GNu2UVUV3ecjHFHcWUW2dWGWkTKzGM8yIZezSCVzi5fgGbZtEwoF8PlVdB9k0pBJ5zAMc9HL/yuXHwEuigVQ1ZkZXjMd8rYNlgXJhIFhGPlnL4HrtG3QNB2fX8XnU0kkcrNH7oVYJBIQC/EBOQ0E24bxsQle3v8KE+MTAKiaiq7roCjksllsy0b36YSjEVpu2o2qqu57wOwKy55TQcyqzGzvP9/leZd4H+cxn99HX28/XZ1dHD54hPrGetZuWEPzutVkM9mZF1ze+3rf23nue13XxSrod/v5xd77Us87+NpBxkbHSSZSWJbpPBNFAcuyiZcUU1FVwYbN68llctjYs+7NpdKHPfueX6qRcbnX6XRKnD55hqnJKULhEM1rmkBRME3zPdP0rvlEiAIkyw+uDtu20XWNTCbN4EAfRw+/7pZRmqahaTqWbWLk8kFOKBylvKKa9Zu2Y1mzp/Vebl13qTJ/7vPe6+c+n86Jo610dZzi/LlTbNzaQvPaDZSUVZLNzg4YL/d9nbRdKr+917Tg91vXeZ+jKAqWZZLN5njtFz8lm0lhGDls20JVVIKhMNGiYtZt2kEgGERVVAzDuPw2xmWm83Lfx3mOqqokElMMtvcwNNDLlh0t+Px+VEV1BxDe9b2cetP9Ocgos5gPEhALMQ/yhbZNKpXiWOtx+nr6URTI5XLkcvnKNhQOYds2gWCAsvIy9ty4y/Pa2YGqE2QrigJKfl2yU1koM2uf7HxkhqIo+YAc233e3ApbURQUVcG2bLdhoigKpmFy7Mgx3jpwiK7O8+g+H3UNte7rVU11P8syrXekd/b1z67EL5YuAE3T3LRblvWOCtq9bnDT6r0Oh6pq5KtF+x2dy7Zt88tXDnK+q4dsJkcoHHTfS1UVDMNkRUMda7I5Nm/dhKEYsyps52OsOevBnXSoyoX7Muueu7V0/jqd18yt5L33SVVVNyDu6uyioqqCNeuaURQFI2egaIr7XoDbAJ177+d+D0IICY7nm6IoWKbBxNgoR948gGHkUIBMOoVp5tB0H4FACMuyiJeU0bR2Ixuv2+mW9d4yyhlR1lTVjWmsOXXY7PJNRVUvvHZuXectu/MjpKbb6ZxMTPPLV35O19nTJBOT1NavJZvLus/XdS1ffF+kXpr777kBqvO5NmCZF16raaqbTm9aHao2M5RuO+uAL/6ZToc7szpiVSzLIJtOs/8nPwIFVFVH9+ko5OuMQCDIQF8vm7ZeT0VVDT5fYFbHhJvuS6TRre9mnufUh3M7AhRVRb2M91FUBb9fZXhwilPHW3n70C9Zt3Ebuu5D0fPXM7f+zb8WnNFw5w6oM20j7HfW/0JcCQmIhZgH+coBstks3efOc+5sF6qmMtg/yEDvIJZlseG69aiqSigSIplIzarwdV3PB0CGgWmaMz3xen7Kr6qSyWTcaU8Aiqq4I5WqquIP+LFtGyNnkMvl3JVbtm2jaRo+vw9N0zByBplMBoV8A2B6KsH+F/6D/3jxF2zbuYXieIxgMIhpmfnKK+BHVVVM0ySdS7tBoDdotW2bQCCAYeRmKtv8yKama+51pVNpt/IMBAJYtoVpmpiZ2SOgF65bQ1EUksnUrAo23zDIP9fv92HbFqZpuffsQposfv6Tf6ez/RyhcIiVqxvJ5fLp0zSNXC6HbdmUlZehaSqKpqCY+XQ498q2bDKZTP59Zypjy843djRdw+/3u9OunQaUt6EUCAZmpseb7mj73I4D5zsOhUIcPXycNw+8xep1TTzy2EMoqoJlWaha/rPyIwLWnHwwezq4kybnfghRiOY2xp0/TnAkrkz+HuYDzWRiis4zJzDNLJZl0tPVychQHyWlFTSuXo9pGFRU1RIvKUPVNBTTzI8i6zq2ZeXLYKcsDwZQZgLdXNbEMAxPma9hWyagoGoagYBGLmdiGOascte2LTTNj+7Lf/dGzsYwcvnlS7ZNf18Pz/3g2+SyGbbvvoVorBhN1dw6IRD0YVlgGBamYcBMHeetpxVFQffp5LI5N32maeLz+9ygNZVLoqoqmqYSCPoxctZMWo18p7R9YbPHwEy5blv2rGUy3rpOURR8fh+GYWJbFpZl5R9XVWzbIpVK8OxT/w+l5dWUVlRTHC/FNA2mJsaYGBsl91SOz/+3L3PDrR9mRX0DqVQa22JmVD8/ddmyLIycRS6bda8bwLYsNJ8P3aejawqZTA7TtGYFxM7sAL9fw7JsjJz5zvexLTTNh8+nEY6oTE+Nc/TQ6zz/9Lf5xGf/D8KRKCgKlmni8/nRdRVFsclkDEzTmOk48X4XoGr5tpE5U98J8UFJQCzEB+RUigANjfX8+V/9T/y6n7AW5IV//xn//Pf/QnI6wd/9y9eJRiKggGmYTE5M4Q/4yWQyTI5P5nvUS+MUxYrQNZ1zneeYGHdpn4sAACAASURBVJsgmUqzclUD8ZJifD4/mWyWVCo1M0VNI5PJcPrkaXx+H+UV5ZRVlJFO5wPQaCjK6MgoQx3DTIxPUFlVQXVdNYFAANMwOXHsJKOjY9SsqOG//eFv0biqEb/fDzbksjnajreRzeYoihWxek1TfsQ7m8M0TAzTcCupzrOdlJaWEggGMEyTeEmM0eExRkfGME2TlatXEolGsG2b1kNvEwwFiRUXUV1bTTKZdCvVQDBAV2cXkxOTZDM5Nm3d6E6lyhm5/HXr+es+e+Ys/kCAUDhELFY0q1LMr3HT2dmyg488fC//6fHHmcpMk7Ny+V75mc4E27ZJTCdJpzP5qezhED1dPUxPJdB0jcamBnRNzwfvpkk4EiabzTIyNML5rh7KykuprK4gEo2STCTxBXyoM/mh9a23UVWFWDxGfWM9pmGSM/INqXAkTCqVoq+3j4G+Abbv2k4oHCReUkwwGMDCIuDzEwzlOydOHDuJYRiEI2HWrm8mm8mSyxlYpkkml3NHkDvaOygtLSUUDuHz+yQoFlfEsiz39+liI1tLlZPWrq4uRkdH8fv9rF27lkAg4D7HCShk3eL7p6oq2axJMBRj+66b+Jt//iGRiE0qOcH3/+Vpnvnut2i55Xb+99//k/xooq1g5CymJiYIhsNMjI8xPTVJIBCgtLycYCgAtkLbiaNk0ml0XadmxUpixUXYlk0uZ5CYniYUDmNbFtPTk5zvOktZeTUlZeWEw2EymQy6ruHz++nvHWBkqB+A8soaqqorURSYmBjj6OGDgMLOlr184b//CfGSYjQt39mbmJ7m5LFThMNR4mVlVNdUkU5lMQwTw7DcvJLNZhgdHaKysnZm9hMUxYroPtdBKpnA5wuweu1qTBMS00lOHmultKySWDxfr6cS+XpG1VRUVeX/Z+++4+SqzsP/f26ZPrOzvfdd7WpXK2m1KoAkikQTzWCMnTjfuPwcdyfOL4kdx075khA7seO44BKXOHFNbGxTDAYEQoAkQAhJSEJ9V1pptb3Xqbd8/7gzsyshOraE9nn7xQs85c6ZO3fvuc89z3lO+6EDmKaBx+OlZkFjqp+xsEyLmZlpPF4vRjLJyRMdhMM5+Px+PB4vpjmbiqSoKm63j5tuez/X3/qHtLTWE5mxMQ2byYkJPvtn7+fun32P40f381f/8GVAweNzoWAzNDTIYG83Pn+A/MIScvOyicUSmKlR7kDIx8T4BGO9o4wODVBZ00AoKwuP10NkJorP7wLbZmx0nO6uYwSCWeTkF1BQmEcsmsA0nO0EQz6GBgaZGB/HtkwUVScQyiYYysmcW1wuFa83QM+pHibGRzGTSSprGwgEfdgWJBJGqv93OTdkpoeJRaOEsrIIhrLkT1m8YRIQC/Emsm0b07IwLRPD5QRRlmVhWTaW4Yzu6S4Xtg1bH3+KsZExRkdGGewfIhQOccXVl1FRVcETj27h1IkuIpEohmGi6xorL1nBopYmmpqaeGTro/T3DTIxNoFtWfT3DmAYBh6vh3f+8TsoKy1F0zUOdBzkkQceZWJsknjcSQ9b1LqIhoX1NDQ1sPH+R+nqPMX01DS//tk93HTbjYRCQaKRGPf+8jdEI1FMw8BGYdUly1nc2kJZZSkTY1Ns/O2jTE1OgaJw9MBRLrvyUrJzszl5vAtNUxkfn2BidIKpqSmWX9RGKBW07nxmF8lkkrz8PC5dv5alyxejqhoTE5Ns+t/HON7eyfT0NAoK2554mpUXL6exuYGcnBw2P/w4I8OjRCNRjhxsp6y8hJbWRVx1/ZWZC/i5KWCKquBy63g9XpKqgWqpaKoTPCaTSQzDwOXS2fTgZoaHRlBUhf7efqYnp0FRKCop5JZ33URuXi66rtN1oosnN22lu6uHyHQEFKhrqKWxuYGL1qxicmKSQ/sPs3fnPrpP9QBOca+ikiJuvu1GAoEAKiqnTp7i4fsfpb+nn3gszq5nn2fPzr1EIlEqNQ2XojMzOcOJzpM89JtHmBifcEb+FYWVlyyndXkrJWXFRKMx7v/1A0QjUSzL4sjBdi5bv5aW1kU0LWpkZibyolRzIV5O+niZW9/grXL8pNs6ODjInj172L9/P0uXLqWsrIyioiJqa2vx+/2ZzBUn08WSi+nXwbYtbNPGNDQsU8cyTSzbwrLAMjRM00B3aUyMD7Pt8ceYnBhjeLCP6clxqmsXculVG5iZmWbXM1vo7+vGSCbABo/Xy5XX3UpVbQ1Z4RAP3XsPhmEQj0eJTE8x2N+Nx+unqLScq657B4UlBYyNDHKio50tmx/CSMadzBpVZ+36DZSUVWKZJs9ufZTxsSHaD+/l1//7Pd71no8yNjJI98lj7HjqCRKJKAoKXn+AlasvY/Gy5Wiai6GBIR554JeATSIeY6Cvmw03/xEz09P0dp/A5/cx2NfN9NQEyUSC9Rvexsz0DKMjQ3R2HAKgvrGFtlVrqW9sJBKJ0nPsBM9ue4zurk5M08Tt9lBRVcPa9deTX1iCpms88Ksfg6I4I/HHjtC6Yg1Ll6+ioXlxahqWTXqo2badqVCWaWOZLgwjgarohLLCXHPTu7jv5z9goLebnlOnqK4t58SxdtoPHWTn9q2pNGUdr8/PNTfdRmlZFcFQGMu22frYQxxrP0xvdxe2ZREIZlG7YCGtK1ZTWVNJZ0c7x44cYvdzT2MkEyiqis8fZM0VV1HX0EIolIONzeaH76f98H4G+3vxeHxouov2wy9ksp40zWZ0uJ/9zz/H9qeexEgmUFUFny/A2vXXU1NfR0FRAbs276D31AlGhwaYnBjFMJJcfOlVrFx9RSZNX4jXSwJiId5EtmVjmAlsy0LVFZLJJKbppPTE43FUTcWrOI/v2/0Ch/YfZnxsArApqyijd2EvhmHy0H0b8XhcuHQXqqJx9Gg7sWgM1VZZ3tpG++Fj7Nm5l55TPZRXlpFMGE5gPTBEdV014auckcbt257lmS3b8bh8hAIhegd7GRsdJx6NUVlTSX/vAJGZCJFIlGNHOxkZdoLzrs4utmzaSmFxIZqqMjk5xcjgMLpLJxQOkUgkePyRJxkeGiEYCjI2PEZDcwPjYxNsfvhxUMDn86GqKj3dvYyPTZAVDuH1+xjtH6WnuwfdrWNZFkuXLSYai3Li+Ek23v+o00GqTprw4YNHnTRzn4/S4lL27trH0cPtjI+ME4sliEVjFJUWoapzUyRnf49YJMpg/yDHOo4zY8yQTM1RAhu3xxmBzcnOZs/OvRw+eBTTNMnODROdiTIzHeHZbTtYsqwFr8dHOJzFzmd2seWxbUyMT5Kfn8fQ0BB9Pf2MDI2y/KLlnDh2guee3smWx7YRzgmnUtEMdu/YQ9OiRhoaF+Dz+di143mefHQLiViCvPw8hodH6TrRjdvjctLk0ejrHnBet2krBfl5oChEY1FGhkYJBAIEQwFsYNNDm5menMbj8zI+OsGChXVU11Wh6dppc5qFeDVs22Z8fByv1/s7+4xXCrBfbQD+UgWMent7OXToEBs3bqS7u5vq6mqqqqqIRCIUFhaSlZWFz+fDtCQYfn3s1FSVJAlNIRG3MJIJLNMZUY3HTYykgV9VmZocY/eOLXS2HyaRiOFyufF4fXR3naCv5ySPb7yX/MIiwCIamaH75Ely8goJBHXy8hvYvWMLo8OD2DaEssLEYjOMDPXjOxiksrqBgqK1DPSeZOvjD7P/+WfJyw9j2zb9/cO4PV7aLrqU3LwCRoYHSMZjTIyP0tl+kKnJSQ7u282Bvc+xZ+dTlJaXE41EiEXjTE2OUVxaTHZOAdOTEzx0788IZWXj8XiYmZliaKCfE8eOsPOZx8ktKMTtUolGZujv7cnMczWSCSKRcY4fPcLo8AAul5vFbc2cOtHDgb07eeKR+wmGApBKPT529ABFpZW43C6KSovZsun+1BSZJJGZKQqLyqhraERLTxuac+A6U4ec6TvxOMRjBrruTCtatWY9G3/zv0yMj9Lf0015ZQHth19g2+ObOHHsCPmFOcTjSaanIoTCOay75kb8gQAz0zM8uem39Pd2E41GyMvL5fD+3QwP9uHx+KmoLuHw/ufZse1J2o+8QFFJCZHU/jOSCcLZ+Xg8PkzT5LGH72VkcIBEPEZufj6jIyMMD/ZhW04afTwWpfvkMTZv/A09p07gD3hxuXUGegfx+Py4XDZlFfmcOHaE557aTF/PSXw+H7rLTUPTktOyw95KN/DE+UUCYiHeTIozvzedEpUZnVOcdDNVcUYoTdUkMhOhs72TqroqPvmZT1C/oJ59z+/jmSefYWhgiG//+E6WNLXgw8s/f/mLbHzgUSzD5t3v+wMMI0lvdy+D/UN89o6/pm35Mnbv2M2P/vOn/OT7P2NBfT2hUIjvfu0/uekdN3Dr297Bpasv5Yndj/Htr3yX7lM9KMAnP/MJvv2V79LX08/ffv5vCOdk8ZPv/w///R8/4r0f/mNue/etFBTl09fbx9uvfBe6SyeRSHLlhnV0n3RGQFuXL+WDd/5/eLwedm1/niMH26lZUM0fvecPuGrDep7Z/iz/9Jkv4Pa4ufK6ddx5579zzz338cjDm/if//45H/vkh3lhz35+8+sHGOgb4Ivf+gKrVq0goAf4xMf/nJ3bd9HT1cvll17GxPgkfT0DxCIxvvPTb+J2uwiEAiQTxmk/g2U585qPHztBz3/38cSmrRjJ2XlplmWx5vJLuHT9WsouKWV8ZJyBvgFQ4Ds//QaKovD8c3v58z/5Sx5/dAt+r5/GxgV8/m+/yEVrV/Hu972Ld7/nXezauZvvfPX7PPnoFq6/ZQM//M5PGBocJjc/l2/96E5Mw2D7th38+x1f5dtf/R5/8pH309i4gH+7/Su0rlzKdTdt4O3vfBtPP7Wdr37hTnpO9aK7dAzLYPPGx/nFz37JdTdv4CMf/hCFpQWMz4yzfvm15ORmk0gkuPama+hsd0Ypmlqa+Og3P4Su63h9XqKRGIoqo8PilWUKEqkqiUSShx9+mKysrJcccXm5Y+rM516qCN+Z8zPP/PfZXv9y20x/D13XOXLkCMPDw/h8Po4fP05HRwe2bXPPPfdQVVVFQ0MDbW1tTExMYCi+TPEj8eo5v0mqn1M1lDn9nappqKaJqjmFkiZHh+nr6eS6m9/NTe96H0XFRdx3189oP7QffyDEnT+8C79foauzgy//0xd5YuM95Bf6WdS6gOnJcbqOH6axpY2Pfep2amqr+dF3vsbmh+/ngV/9kOYlLezf9zy//tn3+Ycvfp9rN1yC7tJ59NEd/M8P7qShqYUVF6/htj/+KD/6jy+xZPkl/Omn/5nBgV42/uZ/6D55nPd99DPc8I5bGRkaYc/O5/jMx26jsrqepSvWkJ2dR1fnES676m2sWbeBNVesJx5XON6+n44je9nQ+G4+8ImP4/UFeeKRzfz7P/3/XHH1zVz7tndy8x/cwhf//u85tH8fD977Uz74yQ+weeOv2fHUM4Sywnzl+/9NKBymr6ebz33y4zx038+JzAzxh+9/H309J3C7vTQ2L+Ujf/m3aLqPYDCLeDx1U1dRObMIl6IqqfnLOpYNiaRNbl4hwVCYibERRof7OLDPz2MP3c+RA8/zxW//gtYVdQz0DfHc03v53J/9EUXFJWiai0P797Dx/l9w463v4V3v/SgLFzXy7X//Vw7t38fdP/8B1fULeOjeX9DddZyPf+rzXHHNVfT19LLrmWf4v3/1Xiqq6lI326d56J6f8r6PfoabbnsvdQ21fP1fbueZJx9hdLifrOxcjh7cy9NPbuTRB37JT+5/hgULK9E1g7t//iA//u6XiUbGaV7S5mTD9ZxAU1U++Mm/p7S8iqxwLm73bNFM6e/E6yUBsRC/b4pz0k4mklTWVtG2fBlrLllNJBFh2cpW6hvrWHftOkZHxtj4iJPu/MKe/URmZlB1hYQVJ5lIkl+YT2FRIRddvBK3101+UT5tK5dxYN8hEkYCX8jL4mUtbH74Cfp7Bnl213YWLKrn43/5EfIL8igozGdocBgFp7hTOJxFx5HjDA4MEgj6+cP3vZOsrCw8LjcLFzRy7Y1XMzY6xnNP72TdNZej6zpVdZVcd/M11NbVkEjE8QecUeErN6yjsbmBUChESVkJwVCA0opSrrj6clSXSklFCRXVFaiayvjUBMc7jnNw30HyC/LYvvVZOg4fw7JsTMukt7uP6clpeoZ7sCyL8soyCgoKWL54GRPRSZJW8sUX7oozV9Dn81FUXMjC5kYS8QSm5SxJYVkmRSVF+AM+LCxsbMory2hZtoiCggJs26KwKJ/6hlqMRJLBoSG8AS8z0zNcftVaLlq7kngiTnVdNX/2mU8wNTmF1+fheHsntQ213PzOm/B4XCheN43NC3jvh/4P3/r377J//wGSVpKJsQnWX3sFS5e3kDSTrLpoBUvbFqO7nCIvJ0910d3Ty8jQKJZlcve99+AP+NHdOj6/j0P7j+Byu7nqhivxeN00tSzk2huvpr6ulpnIDEZqzrNcHIhXw7YBRUkVbbXo6OjA6/W+rhTEl5u3bp82qvXiJWte7vFX+5mqqjI6OsrY2BgejydT4yGZTDI8PMz09DTj4+Mkkwbj4+N4gvpsFV8Jit9UzunHKW61/OJ1rFh9MYsW1zM1Cdfe9C5WX76ByYlJnnriSSLT4/R2d9LfexI1vYST5UxtqW1oYUnbChY0VKHpLsqqaqlpaKa/uxNdNykoyKOiqo6f/eArHD24hrqGRRSV1fPZO75JUUkhbreKqmmAM4UmFPbxyAPbsG1oaG7h2rfdSDKpkF+Yz8rVy1i26jJOHDuKP5DFqjXrcbt9LFq6itVXXENFVQl9PWN4vH6ywrlsuOkPKCqpwLIsauoaCGfn0djSRuvKtSiKSnl1PQP9g3SdOMZAX5zjRzvo6zlJ0+IV3HvXr3C73UQi07hcHg7ue47i0hKmp5ximAtblnPR2stZ2FzL2JiJbatY1qsbAZ37itniXB72PreNibFRNM3FgX27eOH57ZimRTQSIx6bobPjKKBxeP9ulratpm3VSuoaqpiciHPtTe/mimtuxrYSPLnpIVBUFi1dzhXXXEEyAUXFxaxZt5oFC5fQfbKTmelp4vEoS5ZdwuLWpdTWV2IaKuuufTvTU1MM9Pdg2zYdh1+gq7Od7LxCnn/uKfbv2YGRTDA1FWFqYoy+7h4O7DuIqmkUFJWSV5DHmisuIRHXwVbSB5oQb4gExEL8nqVP3c46jT4CWQG8fi9xy6loPDU1zd5d+5gYn3AKwGBjJJPOe1MXipbtrF3rdrvx+Z2gTtM0vF5vah6zSXZeNjfcch0P3/8IsXiUXTt30dl5gtr6ahYuaiQvLzd1p9lpj6ZrTE1OkYgnUktD5TrVMW0Ll8dFQXEBo6NjTIxPYpomqqrg9XrJCmehaXNGCFSFnNwwXr8XVKdYVrpScjAUwFKctZjTlTkTiQQzMxGmp2bIK8ilt7uPsdHxTCXoktJi8gvynMrJOFWqQ+EQbp8bLalhJM0XXcgqOMsTZWeHaV7cxJXr1xFJRDEsA01RsbApKMwjK5yFaTvpVl6fl9y8HFRNxbacZZPcHjcA8Xic6ZlpALJzsgmGgiSMJJquUVldQSKRYHRklHg8jtfrobi0GNO0UFUVj9dLaUUphmkyOTnJ2NgYlmWRk5uNP+AnaSQJh8KEs7MIhYJg20xNThGLxjANk5npGU4cP4nu0tB1FxVV5fj9PvIL80jEE6iahj/gIys7C03XnBEby5LUMfGqOfPu7UxV+mXLlpGdnf26irKd7T1v5LFX89zc51VV5ejRoxw9epSuri4CgQA+n4/c3FyKioooKCigtLSU+voF7Nq5HUPVU9WKkakFb7JUPIxt22Rn5xIMZuFye9A0p/L+QG83Rw+9wNTkKJqmEok451hVUZyVElLv9fqC+PwhXG43lqXgcrtxe7yYpoGi2NQ2NLHh5j9k1/Yn6TrZxfDwGOHwQZoWL8flXkphcTFqaoUEBVA1hYmxETRNJxTOISs7h9HhKRSPC38gQG5+IdFohOmpSafSsu7CHwgRDGajKG5nZFxR0XTn/ZrmwraT6C43usuFz+/H5w9gWQq67kLTnUvtWNQgFo2RiEcxTYOTx9sz6wMHgiGqahrILyglmbBRVY1AKItQOAfd5UFVE6lliM6+rzPV1C0rtdyUhqYqTEdmSMRjqKpGOCefwy/scvabqtDf08nMVARSRS0XLV1JfmEhimIxNjJITl4BoawwLpeLiUSM7NwCXC7weOHun/8EXXeRnZNLKBRisH8at9tFMBQinJNPNBqB0WHiced9wVAIl8vF9LRJdm4BWdm5qd/QZHpqklh0Bo/HS3/PCUzDJplIorndVNYuoKyiCl1XsUwTt8dDIBAkEAxiJpPOPvm9HM3iQicBsRDniG07Sx8pKsTNOIqiMDw0wt5d+/ivb/+Q3DyngnFhSSH+gN+ZE5p5M86IjqKQNA0UhcwoSHpEJDcvm5tuuwGw2bNrHwf3HebpJ58llBVk3dWXU1VTedpauYCzXIINLpeeKtJhYagmSTOJy+XKpBubpukEwChYpkU8Ec8slaGqaqYCp2mbp1WrNQzDWXLJMlOFT1Qsw8Q0zNRjNpHpKEbCIJFw1g9ubmmioroCXdMz86YURSFux0maBlZqHlK6V1SU2crfufm5tK5Yyg3XXc+UMUXSTmZuAsRjMZKJJIZlOCntilOxM71kkWk5Szqllz9KJpwAWElVvTYNA8MwcblcqaWcnLRtVVXRVBUjaTij0aaF5nKWVzINk3gs7gStKM4yFYaJYSbRdR2329nHiXgc27JQFJVoJIaqOJWxLdtmQWM9RaVFVFaXE4/FU0Gvkqo4ncCwTFliRrwmztIvVibl+MYbb6SsrOxcN+t127RpE7FYjKeffppwOExeXh6lpaVcdtllNDc3U1ZWRl5eHr+5726GJxOpbIpz3eoLl22Dy+XCtlWcFXkUOjsO88yTj/D4I/dSWl5FSVkFPn8Qrz9IMh5z1qpP/SaKogIqyaSzJq1tOYFf+gX1jS3k5lWhqAqH9u3i6ME99HWfZN+up7He+yEuvfK62SJx2KnzbhJN19F1D6ZpY5lWqsKzjcfjdQphpopiapqe6vtsEnF7NghTFEwzmSmcaZqGE3inbko7n2M4NUVSfYHtRPmYRoLYzIRThMyG3Nw86hqaWdDUimml1lzWdFA04nE71Y8qqKpy1qDYJh0UW9i2hapqqBqMjQwRi0XweHwUFJeRSDhLAGqaSmRqhGgkAShous7qK66jrrGJRDzqzBvOL0RVdafStmmC6vSRug5GMplatim1/ywT01QxTTuTXZJIJEkmErg9nlTf6syJVhQVXXdl1kU2TAPLsnC5dCLTo5gmGEkLPelm8bKLaGhqIa8gh2QykVmKy0imBgoUZ6qHEG+UBMRC/A4pioKWWpPwTE7gqGT+8Xg9PPbw42y8/xFWXLycr33py1RV1hCPG9z5X1+l51SvE5RpWmaO8uw85fTcZWfNYRuLo4c7+Ol//i9/8vH38c5b30V+KJ+eSBfve/uf8MKe/Wx84FGufds1TlohColEkqraSrw+L/29QwwNDlNVUUU4mIWGzp6de1E1leq6Srxeb2ru2Oy8pfT30ebMJcvMa9KUzHxWRVFQFTVz4ZCVnUV2TpjcvFwWLWnmzz/6FzTUNwA2z3U8w9NbthONRAnnhJ25aoqCps1+3ksN66iamnqdkwqamsqduvBVcLs96C4Xig2qqmW2nR5VTS/dZJoWWVkhSktLmJqcZqB/gPh0nLrSWqbtGf7jK99j5/ZdXHHtZeguF5MTkxzcd4g1Ky5BQWGib4Ldzz5PMp6gvLyMhU2NRKMxTp3spqF+AVU1TcwQYWhgmL7eQcoqyyirLCcQCuAP+PjwJz9Ia/0KwoFsbNviWz++E8u2UF0aXp838x0zv4GiYityz1y8frZlZ9Kl3yqZBnPXGvb7/dTX1/PhD3+Yq666ipqaGoqKik57bfoml51ay1a8fgqpNdFV7UU34tJzilHS81sVTNPmrh99i6mpCW75ww9yx799Drei0Nneyb/+650cGR9x1q5VSfV36b5DzdzwVDUNj9fLxITJ4QNP8tQTG/nUP/wb+XmQSMTp6BjnXVc1s3vHs+QX1RAIhtBdLkDFMlUqaxvZ8fTjRGamiUwbFJdmoSgKfb2j7Nn5NGvX30BRabnz+aqW+mw18/2cG5/66XOnU/vAea2SWU7QCehtsvP8eH1eCorLuOKaW/jYh96O2+dlYjrG5icOcGDvc9h2kkBAy+zXuf38S40Oq5pOMBgiNy+b/CIdrz+EZcL09CTf+/o/Mjk+RttFjSxurWHT/Tm43B5Ky8v48nfvRAXiCZiYSvClv78dTXMTzPJRWl7Nvl1Ps2L1SgIhF1lhF089sYsdT29l+9ZHWHvFjXS2HyKZjJJIqBSXZWOa0Ns9wb7nn+W2RW2UVlQTi0T43x9+gyuvvwGPTyecq3O8vYeh/m6mJkedEfm8AnJyC5icGONLX/sS/lCIhAHDI/Cj734Dy1bxB3JTx1NqznoqELYlrUO8SSQgFuJ3wAm8FEzDJBqNE4046dCZ5B4bYtEY0UiURDyZqkxpkZuXTU5uNkcPtbP5qccJ73+ekeExHrj7QU52dpGXn0ssGieRcCosW+bsxZxlOWlGUxNTKLYKFvT19PG1f/kGbcvbWLSoma6+U4yNTVBSWkRjcwOxaCzzTzQao6yinMbmBiqr9/LVL3yD9VddTlY4zEDvIB1Hj3Hlteu45NKLicVixKPOXOa5bTAMk5mpGZJJA9u2nDmJlu20OZ5wUhNxRlwT8QRTk9OYpkVjcwOXrlvNg/dtJBzIpmFhAzm52fzgP3+Aqqo0LGzAq3qIRaJEIhHi8biTUncW6SWXjITBsSOdPHD3Q4z0jhJLxjAtZ2TbWQvYR2FxITfcvQuVUAAAIABJREFUcl3mt0gmkrNp6aZFNBJlenIaHRdl+aVcfOkqtjy2jeH+Edatv5z9hw7w1BNPE4/HWbailc4rT3Cs/Th3/fRX5OflYRomRw4d5YG7H+Tyqy+lpWURleUVXHHNZWze+ATD/SP0Xt7Hsc7j7N7xPONj4yQSCQrC+TQ1LeTQ/iN88fYvc+NNN5KTnc3MTIT/+tYPuXT9GlauXoGiKERnYsRj6VEuuTgQb9yZxdjeCsfV3DY2NjZSXFxMPB6nsLCQQCAAzK5BPHvDDiRP+g1SnFHXZCJOJDJNPB477WnLMomm0nZN0wCcG5oFRSVMTU2wf8+zPL5pC+PDY7QfPsKOpzZjGUmikTjxuE08FkV3eVKjg84NTcMwiMeizExP4fXCzPQwB/bs4Ov/8lmWrWzF6/PTceQkLreXwqIiikuKONHRTjQyQzQSJR5L0NK6gh3b6mk//ALf+re/47Ir1zM2OkL74UMkE3GaF7dSU7+AmelJopEpDCOROnYAbJKJGNHIFJZpklrV3lnTeGaKZDIOdrqtSWKp9GufT2XZqktIxJPc9eNvEfAYBLOymJya4hc//Qk1dU2UlhWju2xmpieJx2OpEdWz73ob5yaQkUywa/uTxCJTPPV4MbGYxdTkJKMjg3Qc2c/qyzdw8WXriMdMVq65gt7uExzct4N/+bs7aGltZWJ8kqOHj/Dstk0sbltJQ3Mra9ddx9NPPsy2xx8nmbCoqqnmvl/exfjoGEXF5axdv56Ow7tpP7yfb3/5H1m5+mKGBgY5cvAAPl+A2gVNNDQtIZlM8LMffJWtjznLNNYtqOH+X93Nvt3PYqYqaDctXsbM9ATPPbOZr37p61TX1+P1+dn2xFMcObCXSy5fjz+gE4tGiUZniMdjktEh3nQSEAvxJlNwll2wLMu5G1yYTzAYm3OX16nekleQi9vjIiscyqQhl1eW07y4idHhMfbs24vH6yU6E8Xr81JcUkRufi6xaIxwdpiCwjx0lyszkqPrGsFQkJKyYvx+H36/j5q6avbs2oem72NiaoLRkTGKS4toXtxEVU0lsXic3PxcEvEEYBMMBWhoWsDFl13Enuf2smf3Prw+L4MDQ1RWV9K8pInGpgZM06S4rIj8gjxcblfmQtPr9VBWWUog6EfTNCzLScF05gHnO681rdTyTVlUVJYDUFZZxsrVK9j2xNMcbj/M8Pgw4Zwwp05209jcQElpMbZlk5efi9fvJTsnO5XafPZ6GrYNJWXF9JzqZXhwhF27n8cwnDnJiqJi2RbhnDCxSAzbdn4LfzRGKBTESqVMu1wuioqLyMnNJuD3EwwGuXLDOnbv2MPxY8fx+bx0dBxD0zXqq2opKy/lorWrME2TXc/uZvv2ZzFNk5GhUdxuF2vXraGiupxwdpirrlvPo799jM7OE7g8OkNDw7jcLorLiskKZ+Fxe2hoamDVmhU88ciT7Nq9E5/fRzQSxbadecx5+bnOHOuyYnLzc3F73Jk550K8UW+1gHiuvLw88vLyTluKaa7MlIK32Pc638yOWioEQ2GKissJZ+eSPjE704Lc5BeWEM7Jc6oBm04qdMOiVgzTpL/vFM8+tYOZqQijIyPkFxRhGgZuT5BEXCG/qAR/IItAMMspKAV4fX6yc/KZLijG43ERDocpKinnyIG92HYSny/A4MAgi5auoqa+kZzcHLpdrlT78jAMk6KSUhYtXeGMJh/ZTygryPj4GIP9/SxqXUX9wmYKikoYGhikrLKGYCicSld2jp2scA6lZZW43W5sFBRU3G4vxWWVBIPhVDq1jc8fJCcvn4LiUmwbFra0MTUxQ3fXMXY8txuvz0ciHmdibIS8ggKyc/OxLCgqrSA7Jw+f14+Z2men3QS2U5+qapRX1ZJMxjlx/CgjQ/0kDYtIZIZodIbquoUsv/gyGppaiUctqmsbWbiolYmxEZ5/bg8zMwlmpqfo7uqiqLScQDCLcDgX38IACxYuJh5NsmfnLob6+xns6yWcnU9L6yoqqmtoXtJGJBLh8IG96C6VsZER+nt7aLvoUqrrGiitqMIyLVpaVxGNxNi3aydjI0OMjY7iD4SorGnASCYpLa+koXkx9Qtb2LtnP4ODY/j8Po4c2EcwK5vc3Hzcbo1gKIu8/CKyc/Kc40iIN5F2++23336uG3E+ueOOfyY7J8zK1ctpbG5IzQ1Mynw88Zqkr7OMpIHP76OqtpKGpgWzQbFlYRgG5VXlVNfVUFxaRCKWoLC4kIqaCiKRCEcOtTM5MUkwK8j7PvIeSstLqK6roqSsGF3TKCjKp6Kqgpr6aizTxDQMdLdOdk42i5Y0UV5VzsrVK4hGYoyNjnH00FEs0+SGt1/H5VdfRm1dDdPTM2iaRkV1OY1NC3DpLopKi1iybDEzMxFOdnYx0D+Ax+vhY3/xYZZftIz8wnxikRgosGDhAqpqq5zCXpaVugngo2VpM3n5ubjcrszIZX1jHTV1Nfj8PhLJJG63m7z8PJoXN5FfmEdldQU1C2ro7x2gu6ubUydPcf0tG7j5nTeydt0aDNMgFotRUVlOdW0V5VVlGIYBzI74zOUEunlkhUPoupNe7PP78Pl9eH1ewuEs8gtyaVq8kFgsTkVlGdV1VRQWFWBaFoZhoukatQtqqagpJ7sgm8Vti1NVQSM8v3sPWeEsNtx0DTfeegPZudlU1lRQWl5MQVE+27ftYGJsgoLCfG5999u5+vor8QV92KpN6/KluF1uIjMR9u87SO2CGpa2tdC2qpXyynJKK0spLi9i4aJG3C4Xxzs66e8dIB5L8LG/+BCXXbmW6tpqIjMRLNuicVEDldUVBIJ+Z57aWyTNVZx7tm3j9/s42dnFyeNdHD3Qzgc+8AGysrIyr3krHkvptOi0M5d5UhSFe+65m1jCJhDO5dJ1VxKNGqlY7q33fc8Vpz+zsS2F7Nw86htbKC2vzjxnmhaa5qK6rpGSsir8wTCmaVNRXU92bj7TkxPs37sHl8dLTf1CbvmDDxAIBqmqWUhuXjmKolBZvYDyqlryCoqxTNtZ4ziQRVFxGY3NLZRW1LNk+Vr6e7voPdXNQF8fXp+P93zwL2hpbSOUFSIWdwpX1TU0U1pehdvloqpuIVV1jUxNTnDohX2YpkV5VR0f+MRnqKmrw+V2YxoWbreX5iUryCsocupepNLsc/OLaFrcht8fAJx5zm6Pl4Uty8gvKEFVVBIJk6xwLqXlVVTXLaawqJyKqjpKy2s4sHcXwwP9mIbB2257PxtufidVNQ3EY049kIampZRWVJGVnYNpzN7cyRyfqRFryzLJLyjBHwjhcnvx+f2UllfT0rqK9374r2hoaiEQDBONJAkGg1RUL6Bu4RIGek/R2dFOMmlQWV3Pn376C1TU1OPz+/EHAjQ0tYKi0HOqk2NHj7J0xRouu+om1m+4GQWoqFlIVe1CRoYHOHrgADYKtQua+MAn/obisgq8Hh8ej5dFrSsxDYOBvh5Odp7g0vU3sGjpShYsXEJ1bQPZOdkUlZSzdPlaTh47ykB/H0MDgyxsWcq7P/DnLFu5GrfHTSQSJ7+gmKqaekorajBN6edePRuPx8Xw4CAnOzvYse1RACQEnKXYr6eM5AXM7fJQVVvJxz/1YW667Qbn4ncmkik+JMRrkZ5fCwqmcfpauZquZapozl1Dz5kfpWKkbsRomp4Z6bBtJy1L1dTM3eLMovQKztxcTcOcU+BK0zRM03QuTHQNVVGcwlaGmZmfhKJkRkbT7dBdLgwjCTapOdBOoSrLsp25wpqWabtlO6nQSupxy7Sw0nP6UNB0zSlmYjqvVVNzrDRNxTBmP1d3ubBtp0CJbVnOBYlpZIqR6JqT1JLe1stxvmtqLtdZi5A4/0smjdOKi839Lc72HXWXniqqZaJpurOl1O+CApqqoWmaE6yninWpmpYahZ+92NZdOrblvE/X9XSpX2zLxrAMZ38qCi6X7qyhjDO6rWkqpmFipfeZrmfaKKdz8Vqkj5u8/Fy2bN7Glk3buP8XD7J129ZMUa0L7eZK+u9bVVXe+57/w9i0SWFFHZ/9p88zOhLFNJEb4K+JjVPsSUVVk9i2gmmqmecUBTTNTi0ZlJ7r7dTNUBQLRUliGAa6rqGqOpbtRiGBZSlYloqmpfs+SN/fUFQFp3yEhWmk5harCpoaI2k4qw5ougq2L9WXpIo9as4ND6d9NigqqmqjqkmnCKLqjLjaljdzPnf6gSSWpWFZSurvQUVVLVTVxDRdp/Wbc18LqfW9FRsUEyOppuZbg6YrmGYsveYZuu7BMMC2lVSGkoVta1i2cloBsTMpioKmJ1EU28lNyyxjoWCjYhqzGVyqqmBZTlEzRQVViWMYZqYvti0vpm1hW7N9CySBBIZpoetuQMM0ZkfKnf2XIJk0M/vPspxiWelkJWcOeQJIYps2mu4hXdneNPVM36ppOiiR1LWI00dalgvbVLBsG01TUFTLKUpmSln4VytdbC2U5efw/v1seewhvvGvf515TjgkZVqI3zEF5azn7fTjc1Ncbdvp0FRVxe32kH6rYVinFZA62zbTAXJm+RDbufjTdQ1d13FiLgXTMmFOLHm2i930XCmXy5XZtlNFGtIXQM4H2ad99tm2l67GeWZQerZRXVLLvmTuP525Nmg6bexVnMOdgDK9P178HZ35zadv90V9Q3o3z35VgFQbnUZaphPAz35Zh8vtynwna84F01xO4a/ZYNxOf9YZdJee+Q7OzYHZQOW1rtkqhBBvnjknLEVPnQPtM56be0KfPR07N/g8aJqXdE/oBK96Zq6uomipTdpnbNdJU4ZURowNiurB5Ur3g3YqwGT2vKpoc9qnpJ5UUFW309+mtm9Yp59PFcWVaf9sloGaKpbFi1+bXm8KhbltVRQr85nYKrruz3QtTjvn3hjXse3U2uCvEPgpuDizm7NTGz597e/ZX0FBQdU8uNXZzi1p2sztw5ygV3eWcNJSU8FMO7MFp80KiurB7Xa2YwP2i9KZU9tRdNCU2euI9HGQ+g/bttA1D04NUgUUG8ucc42kKDjH0pkXBkK8cRIQC/E7ZJnOSCy2E/zMlV7+AGZHJGzbxjZtoskoc271Op1wqn9VVZVkal3i095r2Vi2lUnxTwdKsWj8tKB7bgXo9NzlM9tn2zbRSPS09s59n23bqSV/Tg9sLdMilpydL62ktnXma9NLOiUS1mnZF+l9MrcTn92WQjLx4u/9UhKJxCsGiunKoLPbVVI3HpybCUbMOO17AyTip2/3zOfTy1+d6cwskzO3k97W3O9m2zbR6OlFatIj8enXxmPxzEjGhTSSJ4R463CWoZsdLU6zLBvTSDo3Ref2FamlihKJOeFe6u6jkZkGo5KIJ+ec35ztWqaFOaeqeDo1O5m05vSap5+bTdPEMKzT2ueMUFrOck5z2jDbTqevisWszOekt24Y6akp6mnf6czXmnMyrzLZWLaNGU++KKSb+75YzFnCiVc4r9u2TSxmnvU55+3qaftdUcC2LEwLkonT99fsqhXOo+kpSafflFZSr3MCWGfN4DP3X+p7pB40TefYSHd3c1+rKmomO8o0DIzknACe2b5QURSM5GyWnWRxiDebBMRC/A69XJBythN6+rWvlKJ/1s4gnd7F7HsVRUHRXrozfan2pdOFX87ZlpI62/uclLkXL8WBwmlthVfu5F5LJ/hGX/tS++CVtvtq9t1rad8rHgtn+R2EEOL3yVmX/iyPKwrKWc5h6YDzlU6V6ku898x+65XOu857zuybXrkNL7Xd9BJQr/Tal2rr2fbJXK9lmt5rndL3hq4zXrSdV/4Nz7avzvKizE3019seId4IObqEEEIIIYQQQsxLEhALIYQQQgghhJiXJCAWQgghhBBCCDEvSUAshBBCCCGEEGJekoBYCCGEEEIIIcS8JAGxEEIIIYQQQoh5SQJiIYQQQgghhBDzkgTEQgghhBBCCCHmJQmIhRBCCCGEEELMSxIQCyGEEEIIIYSYlyQgFkIIIYQQQggxL0lALIQQQgghhBBiXpKAWAghhBBCCCHEvCQBsRBCCCGEEEKIeUkCYiGEEEIIIYQQ85IExEIIIYQQQggh5iUJiIUQQgghhBBCzEsSEAshhBBCCCGEmJckIBZCCCGEEEIIMS9JQCyEEEIIIYQQYl6SgFgIIYQQQgghxLwkAbEQQgghhBBCiHlJAmIhhBBCCCGEEPOSBMRCCCGEEEIIIeYlCYiFEEIIIYQQQsxLEhALIYQQQgghhJiXJCAWQgghhBBCCDEvSUAshBBCCCGEEGJekoBYCCGEEEIIIcS8JAGxEEIIIYQQQoh5SQJiIYQQQsw/9rlugBBCiPOBBMRCCCGEmHckHhZCCAESEL+IruuomoplW+e6KUIIIcTvgYJhGBiGga7rKIoy+8yc/74Q2LaNbTuhsMfjAgWSSRNbomMhxIXKBgUwTQPTSJ7r1pyXJCA+QygYxOP2MDU5hW1JDymEEOLCpigKkZkIkZkIbrcbBeW0wPFCFQyGsAyTmalJLAtA4QKL/4UQAgBFBSOZIJmMo2squiYh4FyyN86QlZWF1+NhbHQMy7JQUCSvSgghxIXHdv5RFIWZaScgDgQCKKoTFV7oAXE4HMa2TaYmJzCM9KMSEQshLiw2TkAci0WIx6J4vV68Xu+5btZ5RQLiMxQUFuLzBTh1ogczaUrXKIQQ4oKUiocBGB8bZ3pyhuLiEjRNc56/wAPikpISVCwmxkZIxC2wVecmuBBCXDCcM72q2oyPDTM1MUZRYQFFhQXnumHnFQmIz7B8eRtVVZUcPdzO9PQ0pmWiSlqBEEKIC4yqgK6pRKNRurt6GB8dZ9myVlwu9wUbDCuKkpkX3bJ4CcGAn7GRQQb6+7GxUTUVW2qICCEuGIozDcZS6O0+yehwPy0tLbS0tJzrhp1XJNI7w5IlS6iqrGKwf4iRkVFisXjmbrkQQghxQbBBUVU0XWN4aISRoRGMpEXzombcbte5bt3vzNyAuKKikuzsLGwzQVdnB5aVQNMu/JFxIcT8oSgKqqYxMx1nqL+fWGSKJUuXsmTp0nPdtPOKfq4bcL5Z2roUTdeYGJ2gv2eAwqJC8gvziMfiF1y1TSGEEPOTbduoioructHT1cPYyDiaqrFo0SJcLte86O9KSkrIz8/F5VJoP7yP5iULUTWvBMRCiAuCbduoqoKqaowOjzI00I9pxGhbvuJcN+28IwHxGVasWIGqapSVlLNl81Z8AR+V1RVEZiJomjYvLhKEEEJc2Czbwq258Xl93HvXfcRm4tTX1rNo0SJs2z5tJPVCoihOBW3TNHG73bQsaqG94zi/+dWPueyqqwgGc1EkeU4IcQGwbQtN1/D5VO7++X2MDvVQXJjPVVdfc66bdt6Rs/4ZFEUhLy+XG2+6gX27D3DwhUPMTE/PmyIjQgghLmy2baNpGoZhMDY2xhOPbqGstJzVa9YAYFkWlnVhz6NNB/uLWhazds0aerva6Th8hJHhYbw+F5ZlSX8vhHhLUxRn7nAibvLob39FXnaIFctXSJXps5CA+AyKohAOh1m/fj1T49N0tnfSfqQDr9ebubMshBBCvFXZto3L5WJqcooD+w7S3zNIbXUty5a1nuum/d6k+/OysnKam5sJBbwceuF5ujo70F2a9PVCiLc027LQdY1YdIauE510HN5LZUUpbcvb0DUNXeojnUYC4jPYtk04HObaa68lHAxz/OgJHnlgE6FgEFVVpZMUQgjxluWkC1v4fH76uge47677CfpDtC5tpa2tLTXnTEVVL9zLg3Q6uGVZ5ORkU19Xx8UXrWL7lo3s3fUUqqpwAWaLCyHmifS0EJ9fY3Skjy2bH2V6fIDW1iVceull2LYt8cwZLtwe73WyLAtFUfB6vfzt332OqvJqfvL9/+HZ7TtJJg18Ph9G0jjXzRRCCCFeE8u0wIac3GwOvHCAjQ88wi9/cjdfv/NrXHzJxei6nukD54P0KHFRcTFf/OK/oVlRnn58Iz/7wXfJz/eh62Ca5rluphBCvGqWZYFtEwj5Gegb5slHHuI7X/4sd9zxedauXUtWVta8mBbzWklAfAZVVTOdZGtrK8vbVlBdVcOPvvcTjrUfI5lM4vF6sEyZXySEEOKtwTRNNE1D13WmJqe4/9e/5ejBDtra2lixYgW5ubmZ0eH5Ih3467pOSWkp119/PQV5WWx+6Ne0H+0gmYzh8WoSFAsh3hIsy0JVFTTdOW898sCvOfTCTqoqK7jm2mspKSkFuOCzgF4P2RtnSHeQtm1TVVXFihUruOSS1Tz24Gb2PLeX3u5eNE097XVCCCHE+SpTNVpVSCaTHNx3iG2PP0VkMsK1126gtraWQCAAMG9Gh2E2dVpVVQKBABuuv46GBTV0HT/A9q1bGRnqB9tAVaWvF0Kc32zbRgFUVcG0DLo6O9i2+UHGhnq49NK1tLUtJycnB+CCXUXgjdBuv/322891I843c+cXVVZWsmrVKjZv2szWJ7ZyqusUK1evIDc/F8u0MJKGHFhCCCHOO+l5YpZpEc4JE43GOLT/MB/5409QmFPEO269jU//9aczadLzsS9Lf1/TNKmuqiY3Jwevx8Pn/+9fEwzlkVdQRHVdBdFIMrM/59s+EkKcv2bP8ybBLD+2bdF98hh/86fvJTrZz3UbruaOf/48Ll2ft+f5V0Ox5bbnS0rvGsMwOHDwAN/61rfYf+AFbM3m777wN9TUVpObl0MkEsUwjExHKWkIQgghft+cLsvOXCDpuo7L5cLr9fDCnv389t6HeeqJZ/BoPv7605+irW05paWlmffP54sk27axLIuZmRlGhof5pzvu4OCRDnyhXG667b1cfvV1uHQvpmkTj8cBUFBALi6FEL9nmaJYto2qabhcKh6fyqkT3Wx68F6efnIjk8PdfPpTf8XFF19CfX2dBMOvQD/XDXgr0HWdRYsWcd2G6wj4A2zdtpXf/PIBlixbzMJFDVRUV+Byu1BQsGzr9PnFcrtBCCHE75qSzm5SM/PDkskkI0Mj9HT38sj9j3L86AmC3hC33Px22tqWU1JSMvv2eX6RlL5QDAaD+Hw+brnlFly//S3HOrt47MF7UFWorG6gqKQCf8CHbStYFli2s7zJaZ299PtCiDeLcvr/SQ+8KYqCplmYhs3kxDhD7V1s2bSRY4dfQLdjvOPWW7jkktVUVlZmBurm+3n+5UhA/DLmzhN26S5uvfVWampqMAyD//r+f7Fk+X7Wrl/NH73/XRQVF6NqKkbSIG7FM3ebpWMUQgjxO6UANmiahqZpuFwu3B43Q4NDdLQf475f3s99v3iAFW0ruO666/jkJ//stDmxcpHkSBfUVBSFm2++mXA4zIMP/pZvfvOb9PX2sO6am7h0/bU0Njdi2SqGYZNM2himgTMyP2dj0vcLId4MZwTEmqaiqhouXcPttZiciNDb3cXmh+/j5//9dRob6lm3/gr+5rOfw+N2Z85rkr368iRl+lU68+Jh48aN3PWLu9j02GMMjQywfsM6Vl68nLZVy2havBB/wI/b5ZYLDSGEEL9zlmUxNTXFYP8gXSdOcc8v7mPHU88xNjJBUX4Rn//C52lra6O6ulqC4VfBNE1UVSUSidDd3c3ffu6z7N69h76BYdouvox119xM46JWqmoXkF+QjaYhaxcLIX6nbBsiMxajw8P09XTx8AN3sWPbYwz1dRHw6vzD7f/I2rVraW5uBjitPoR4eRIQvwbpXWXbNv39/Zw4eZKO9naeeeYZTnSdIGHE0XSVwrIC8vPzCGeHyQqHCGeH0TTNuUtzjr+DuLCd7wVfzvf2wVujjUIAWKZJJBJhZjrCxNgE/X0DjI9NMDU+hW1AWWkZtTV1tLW10draSk5ODoFAQEYKXoX0HD3TNIlGo+zZ8zyHDx3m8JGj7D94mFjCRHf7CISyKausJhjKIhAMEcrKzkyhsjljcOcCcz5+v/Q11vnWLjHrfPyNzsc2pVm2RTQaJTozzeTEGEMDg0yOjzI1MYqVnKGkqIDq6kqWtS5l+fIVFBQUEA6HM++X65lXRwLi12BuQJw+wCanJnn6qWd44vEn6Ow8Tv9AH3Ejjs/nxev34A/4yQpnza5vfC6/gLjgpVNjzlfne/sg1XnYtvytivOaAphW+kIpSmR6hpnpKAoqHpeHpoVNXHTRRSxZuoRly5bNFmEBCYhfpTOrSvf19XHsWAcPP/gQBw8fYmR0jEgkji8Qxu314/EFCIbC6C5dAmIhXsL5etyct+2yLWKxKLFohMjUJNHIFAombl1lQX0tK1asYOnSVpavXInb5TrtvRIMv3oSEL9O6XSquQfbxMQEAwMDbN2ylSNHjtDT08PQ0BAT4xOYpunMKT5Xx+ac21+2NWcE7PfZnrltsGdPPYrCub89N+dMmP6TyOyj8/Ysmfp3qm2qqqJpGslEcra957LtZ22fTiKROH9TC21wuV2Ypolt2ZzvYfE5+1t+vc73v7N0G+xU+xTlvD1WnYIqOj6fj1AoRElJMUuXLqWxsZHGxkYqqypPe/3Z+izxyubeSJibevj/2Dvz4DjP87D/9r6wuwAW902QAHiJtHhZohRZiiTLh5KxW8dO7Map42lm6kyaJp3xpHbyR9L+UadNOtNJM5MmTie9okmTyrWkRJYoUTcpUSQIHgCIG7vAYrH3fX672z/Y9/W3S4CkJAJYkt9vRiMC2N3v2ff73ud9rvd5E4kEPq+Xa9emOXPmPfx+P+FwmEw6TaFYqFnjNLYLbcw1Pg6N/NxUMegN2Gw2HE1NtLe1cejwYUZHxxgZHWPv3r01r9b0/MdHc4g/AWLoRI2+aKRVKBQolUooikKlUqFSqTR8Vkzj7ieTyZBIJGqOUWkkspks8US8YeUTBNbWcDc3Y7PZdloUDY2b8tNjNPQYjQbMJjNG0/WjltRZYG0P2Z2hfi0vl8sopRKFQgGlXKZSKVOpVLUYUaGPAAAgAElEQVQKEw0NjTuGDtDpr+t5g0H///W8CZPJhNFovJ5sA80R/oRoXaY/AeqOlOI/kaVTv2anUZepVqtV/H4/LpcLm82G0bgzj0A6nUan02E0GrFYLDsiw0aUy2UKhQKVSgWLxYKprvykUSkUCoTDYS5fucwDDzyA0WhsqLLIXC5HKBTi8uXLHD58WB4L02hUq1VOnXqVBx44RGtrK83NzTdmMhsERVFIJpO4XC7Zo+BuQVEUeZar2WxuuHlWLBbJZrPY7faGm0sA0WiU2dlZdu/eTVNT0w069G56Fu4m1OMq1nuj0YhVFTy7l8debUvodDomJydxuVy0tLRgt9t3VLZqtUokEiGVSmE2m+nt7b2j/SDU39vn81GtVrFYLHR2dt6Rz/8ocuh0OkKhELlcjmq1ysDAT6tBGvn5K5VKRCIRcrkcLpcLj8fTED07stksoVCIUqnEyMhIwyaw6uUS47bT43evoDnEnxB15F2UVolojdph3mnERCqXy0xOTjI8PExHRwdNTU3bLoNOp2N9fR2DwYDdbqe9vX3bZLgVhUKBUChEuVymtbUVt9vdMPfwZqRSKaanp/mHv/8Hfv7nfh6Hw4HZbN5psSTJZJKpqSn+/u//ni9/+cvYbLaGc4Kq1SqKovAP//Ay1SrYbDbcbresANlp1HoGrgcZlpaW2LNnz44Gtz4O+XyecDhMtVrF4/E0jOxirmezWbxeL729vTgcjh0P2ol7L57F9fV1Tp06hcVioa+vD5PJVBOcBW2f8Faw0XpfX1J9r6MOrn/wwQcMDQ0xOjq6YxU16kq9lZUVVlZWcDqd9PT03NEOu2pnZGZmBkVRcLvddHR0bNv9F8+aXq/H5/MRDocpl8v09/dv6XU/KUI35fN5FhYWCIfD7Nq1i9bWViqVyo7rqng8ztTUFJlMht27d9fo0kZyjjfSNVpW+M7RGFbIPYI6S9xIqB06RVH48z//c37+53+eEydOMDo6KhXSVk8qdVnHSy+9JI25L37xi3Lh2qmxE/suQqEQr7zyCvl8nkcffVQ2o2nEkkNRvqfX65mfn+fixYt8+OGHXL16lbGxMdrb26lWqzUVCzsl39zcHOPj43z44YdMTU2xZ88eGR3eKfnUcur1epLJJIFAgA8//JD29nZaW1vZu3evvP+NMK/Vc9nv9/Onf/qn/Pqv/zq7du2ipaWl4Y9YEPNMOHSKovCZz3yGgwcPbpseuhli/JaWlvirv/orvvzlLzMyMkJ3d/eOyyfmSrFYxOv18tJLL9Hd3Y3NZqOtrW3H5bvfaOR5tlUIfV6pVFAUheeff54jR46g1+vlHNluXSnsimq1ypkzZ7h8+TKDg4M8/vjjwJ27T2pn9M033ySTydDT08PDDz9cY9tsJSLhotfruXDhAteuXaNYLPLMM880dCCsXC6j0+lIp9O8+eabLC8v87M/+7McOnQI2Jm5pE5cTU9P8+qrr5JMJnn22WexWCza2b33Idqdvg8QEaV0Os3Kygpzc3NMTk6yvLy8rUpIXKtcLnP58mUmJiaYmZmpKTnfKWTX8GSSS5cuMTExQTAYbFhnGKgZt6mpKbxeLwDnzp0jGo3uuNzCMNLpdFy7dq1GvkgksuPyCYShEw6HuXDhAuVyGa/Xy9zcnFzIG0lOnU5HLBZjaWmJS5cuMTk5SSgUkq9pZMQ4xmIxJiYmmJiYIBwOy7/t5DiLsc3lcgQCASYmJrh8+TLRaHTHZFLLJu6t1+tlcXGRaDTKlStXGmb8NO59xHOYyWSYm5vD7/czOzvLtWvXdmwdVwf7JycnWVxcZGVlhUAgUJPN/iSos9CJRILl5WXm5uaYm5ujVCpJObZS/6ozg/l8Hq/Xy+zsLPPz82QyGblWNdoaIPRqpVIhnU5z7do1FhcXWVtbIx6P31D5tN3odDouX77M4uIifr+fa9euUSgUanSuxv2B5hDfRyQSCebn50kmk/h8PlZXV6US3WqEYimVSkSjUVZXV/F6vaysrJDNZu/YwvVxZROLTDQaxev14vP5CIVCcq9zoylG9XiJ0tlwOIzJZGJ6eppoNIqiKDsmu1q+bDbL0tISkUgEs9nM9PQ0sVhsR+VTI2SIRqNMTk5iMpmIRCKsrq4Si8V29NncjGAwyPLyMpFIhLm5OVl+3MgOkdrhjEQicp6Fw2EymcyOPgvqYEMkEsHv9xMMBpmbmyMWizVM2TyAz+fD5/NRLpdZXl4mFAqRzWYbYi5p3Nuog+vT09Pk83mpi/L5/LY/f+J6xWKReDyO1+slGo0SjUZZXFysyR7fqeusrKwQjUYJh8MEAgHC4bB0irfDIa5UKqyvrxMMBgmFQlJfNaIOUOvVTCZDOBzG7/cTjUYJBoOsrq7umF4VY1UoFJifnycajZJKpZiampL9LRppLDW2Hs0hvsdRR7nC4TCXLl0Crpdber1eSqXStkR11fsel5eXiUajrK+v4/f7iUQilMvlmtdtF2qFHY/HCQQCrK2tEQqFCAQCBINBqTgbSTmqnbR4PM7y8jKxWAyHw8HMzIxsuLGT5Z1wvRogEomwvLxMPB7H4XBw7do1QqEQhUKhIZwMUQIYiUS4evUqdrudVCrFysoKXq9XPpvCuNpJxLj6fD6ZwZ6ZmWF9fR1o3Cyhep6JuS+MukAgQCgU2vF5Jq67vLwsDXwRbCiVSrJ0bqf1wMLCAl6vF4vFgs/nkzp0p8dP495H6JZEIsH4+DiArFZJJpM1J25sB2pna3V1VTqG8XicS5cuXT8+7w7MCfH+bDbL1atXSSaTpFIpwuEw8/PzZLPZmtdtBeJ7KIoi1/hUKiWDE/F4vCHnvzrQ6PV6pW0SCASYnp6Wr9lOuYVMiqKQTqeZm5sjnU5TKpW4ePEiuVwOuD96Amj8FM0hvocRCsZgMFAqlVheXubdd9/F7XYTjUaZnp7m/PnzlEolKpWKNPy3Upb19XV+8pOfUCqVyOfzBAIBTp8+TSqVqnnddiKuOTExwYULF8hmsxSLRaampjhz5swNr2sE1Av0W2+9hd/vp1QqYbfbiUQiXL58matXrwI3HhWy3fK9+eabrK2tUSqVsNlsrK+vc/nyZSYnJ3dMPnFd8cwvLCwwPT3NwsKC7JYaCoV47bXXGmJxVM/lQqHA1atXuXr1Ki0tLczOzjI1NcXi4mJDO0VCpvHxcWl0iO/ywQcf3PC67UY4vOPj40xOTuJwOPD5fFy9elU+qzsxturrhcNhrly5wvLyMk1NTWQyGS5fvtwQ46dxbyP2U2azWVZWVjhz5gx2u51isYjP5+Ott94ilUrJfa7bIY/4z+v1cvr0abLZLAaDgVQqxeuvvy519yfdByren0gkOHXqlMwgZrNZXnnlFbllZSvXCBHszOfzvPLKK3Irh16v57XXXmN1dXXLZfg4CHkmJyc5e/YspVIJo9HI6uoqb7755o5sSxM2Rzgc5p133sHv98tgzvvvv8/a2hrZbBa9Xq/p0/sIzSG+xxGTORAIyEyC6D6cSqWYnJyUpatbpZDEQqooCvF4nLm5OXk8ValUYmpqakedDpEhXFlZwe/3YzQaZdns4uIiiqJI2RpFOQpZMpkM58+fJ5lMUi6XqVQqFItF5ubmmJmZ2bEyWrFnKJvNcuHCBVKplFyEisUi8/PzOypfPdPT08zNzZHJZGrKAi9dukQqlWqY8m5A7o9LJBJYLBaKxSKBQIC5uTlgZ5y2myFkEfPM5/OxtraG0WjEaDQSCoVYXl6WwYntHmd1tUU0GsXv9xOLxTCbzVQqFfx+PwsLC/L12/28qqstRHVFLpeTOjQYDLKwsNDwDdU07l7UOiUQCODz+UgkEjXr+OTk5Lav4+rqnrm5OUz//2xWRVFkBVo6nZbf4eOgzkKHQiFWVlYA5Fnf8/PzxONxWW23FbpLyFAqlUgkEiwtLVEqleT39Xq9BIPBmq0njbIG6HQ6CoUCgUCA1dVVKXM2m2V1dZVQKESxWAS2L5inrnQQwU7R3DOZTMotaEKmRhlLja1Fc4jvYdSTeHl5GZ/PRzwel42OUqkUV65cIZ/Pb9keOXUjiHQ6TTAYZGlpCZ1Oh8FgkOU/8XicYrG4Yw050uk0Pp+PQCCAwWDAYDAQi8VYXl6WpWCNhE6no1wuk81m8fl86PV6zGYz1WoVu91OLBaTWdmdcog3kg+okW8rqxJuR0ZhPKyurhKNRuXxOmazGb1eTyAQIJlM7sizqUbttM3OzhIIBEin0xiNRhRFkeVnjfacqqlWqySTSWm8CYc4HA7LksudrBApl8uyBDmZTMqjjNbW1pifn5f7BHeCarUqg4fRaFTOa6PRSDQaZXl5WQadNIdYYysQ82RlZYXFxUXpaOr1ekqlEtPT0yQSiW1Zc+rtikAgwOLioly7FUUhEomwsLAgGzd9HMdG/Z5oNCpthGq1Ks9+X15eluvEVjaIUn9Xn88nM60GgwG/34/f76/ZerLTqO+R2OcsAqEGg4FcLsf6+jpLS0sykLKdDrE4E1k4xOog/uzsLOvr65ozfJ+hOcT3MOpF6ezZs0xMTJBIJKhUKlQqFaLRKO+88w7BYJB8Pr9lilQY6bOzs0xMTLC4uAj8tJT7ypUrTE9Py/2621VCK64jul5PTU2xurqKwWBAr9cTiUSYmZlhfHxc7hFqBIdDRItzuRzZbBaPx8OBAwfo7+9Hp9Nx9OhR+vr6sFqtNU7Gdu/ryuVypNNp2tvb2b9/v5Tv+PHj9Pb2YjabZan8dsqnllGn00lnt6uri4cffhi9Xk9vby+jo6MMDQ0Ri8Vqsgw7vUC+9tpr0ogQz6PX6+Xs2bOyO2ajGEXw03mmKAqXLl1iamqKtbU19Hq9POpsenqaixcvks/n5Xu2C3FPi8Uib7zxBouLiySTSeC6sb+8vMzFixeJRCLbvkcSqHlOz5w5QyqVkpkxi8VCKpXC6/XKZjDbVbKqcX8h1uaJiQnGx8fJ5/MoikK1er0x0cWLF5mdnZX72bdyHVfr4ampKS5fvsz8/LycmyKT+tZbb7G8vCzf83GvBXDt2jU++OADwuGwrBoTQbTx8XFmZmaAO6+71PNZ6Hm/3y/nOlzfiibui3jPTut/tQwffPABk5OTrK2tyb/lcjmCwSCnT5+uycZutUxCh4dCIWZnZxkfH6/Zn10oFDh79qysYNOOsrt/0M4hvkdRR+dKpRIej4cHH3yQoaEhLl26RF9fH83NzTgcDrmXz+FwbEkJq/qolUqlwqc+9SmSySR6vR6j0YjFYiGRSBCLxXbkgHlRxtne3s7u3bvlQtPe3o7H42F1dZXDhw/XfJedRMjgcDjYvXs33/ve94hGo7zxxhv86Ec/4rd/+7dxOBw0NTXR3Ny87WWUavlGRkb4/ve/TyQS4e233+b555/nu9/9LhaLBbvdTlNT044e1aHT6TCZTPzCL/wCxWKRUqnEr/3ar/HYY49x7Ngxdu3aRXNzs8wc78SZhGJRLpfLUsb+/n4cDgexWIzh4WEsFgsul4u1tTW6urqw2WwNU44u7m+5XGZ1dZWuri7K5XLNPOvs7GR1dbXmCJPtQuwTK5fLJJNJhoeHcTqdJJNJBgYGMJlMeDwevF4vLpcLg8GwrWMrjHybzcav/dqvyX3X//f//l+eeuopBgYG6O3tlbKK92ho3CnE81Qulzlx4gQ9PT1kMhmee+45+vr62LVrF729vQwPD8tKoK3U6+rPbWtr47Of/Syjo6NcuXKFQCCAy+Xi5MmTdHZ2Spvi4zg2Ot1Pz1QeGBjgqaee4uDBg7zxxhsoioLL5eL48eMMDg7S2dkpr3MnUcvQ1tbGkSNH+IM/+AMmJiZkQ9J//s//OZ2dnfT29m6JDB8H9VgPDg7y9a9/nUceeYQrV64Qi8UYGhri4MGD0hZVf8/tkMtkMnHo0CG++93v4vV6Zdf03/iN36CpqYmRkREqlQpGo+Ym3S9od/oeRhhSer2eQ4cOMTAwQDab5dq1a4yNjbFnzx46Oztpb2+XBv9WLGDiM/v6+gDYtWsXr7zyCkajkdbWVg4fPszu3btpaWmRr98Og05cQ6/XS6diaWmJK1euUCqVGB0dZWRkhIGBAaxWa8MZmXq9HqvVSk9PDwaDAafTiV6vp6OjA6fTuaX39HYwGAxYrVZ6e3sxGAw0NTVJ+Ww2myxJ3elx1el0tLa2AtcNPr1ej8PhwOPx0Nvb2xAywk8No8985jPk83l8Ph8vvfQSJ06coKOjA4/Hg91ux2g0NoS8AiGLwWBg9+7dmM1mFhcXuXr1KuVymb1797Jnzx4GBgZqjOntls9sNnP8+HHGxsaYnZ3l7bff5tChQ3R3d9PX14fH45HG0U6Mr9FoZGRkhGr1+lFmFouFgYEB9u7dS19fHxaLRZZx7nR2SOPeQ+ifwcFB2traqFQqvPDCC3R3d3Pw4EHGxsZobW3FZrNtiyyC1tZWLBYLXV1dpFIpisUi7e3tPPzww5jN5hq74pNcS9hJu3btYnJykmKxSEdHBydPnsRms9HU1LShfHcSt9vNrl276OzslNvfSqUSDz/8MFarVTaEbAT9r5ahp6eHlpYW2traZDOw4eFhHnroISwWCw6H44b3bJVMQjc6HA76+vpwOp00NTURiURIp9M8/PDDGAwG3G53Q4yjxvahOcT3KOoMmMFg4NixYwDk83n+7M/+jJGREU6ePMno6OiG77vTcgDs27eP/fv3o9PpmJqakovLN7/5zZrzkLcz8wLXDc2jR49y/PhxZmZmyGQy5HI5Hn/8cR599NGafXmNqCBFdktdmtpIBrGQSZR9qeVrhPFU7y9TH7G0U92v66nPZn/5y1+WpYunTp3i0UcfZd++fTLzKqLsjTC2UOtwHjt2jOPHj3P16lUymQzFYpEnn3ySEydOUKlUdqw8TafTYbVa+dznPgfAe++9x/j4OEePHuXIkSMMDQ3tuHwGg0EGbkSm2uVy0dLSIn+vfr2Gxp1Gr9fT3d0tf7ZYLLS2tjIwMMDY2FjNa7frGWxtbaW1tZViscjExASBQIDW1tYbbJs7dR2A5uZmCoUCHo9ny20o9Wc6nU6cTicA586dI5lMUigUGBkZkU2hGhGRPbfZbLS2tpJMJuns7GRkZGTbZVFXsDkcDrq6ukgmk7hcLqrV6g3Pscb9g+YQ3ycIZ0Scy1csFikUCtIB2C5DT72fVf1fI1C/11YtXyMbmPUZdfFzo2SK1PLU/9wI8kFttYD4WWREGmU/pvoel8vlGuf9bnhOobHnv0AtkwiMNApCFvW+ZxEMq1QqMkOsobFV1M/dYrFIPp+v6RK/nSW7wqYR2zAURZH6UVTI3Ql5xDwTJ2aUSiVKpZK8jghabSXiqMDNZAAassRXnNKgKArFYvGGe7QTekt933K5nAzaF4tFKc9ObOfS2Dkab+ZobAk3M/i32yCtVzCNonAaVS4NjXuJRjcyNgowNQob6SjNcNPYTuqrpeptiZ14DoXTq54LIph5p+QRn7nZdbaLzWRo5PlfL2cjBJzVNrH6Wb5TARSNuw/trt8nbGQ0NZIR1ShyaGjcDWw0d7U5dO+jOb8ajUAj2RIbbWfaqnmymd7dru9fH4TYCRk+Lo0o80YBxUbeHqextWgOsYaGhoaGhoaGhoaGhsZ9ieYQa2hoaGhoaGhoaGhoaNyXaA6xhoaGhoaGhoaGhoaGxn2J5hBraGhoaGhoaGhoaGho3JdoDrGGhoaGhoaGhoaGhobGfYnmEGtoaGhoaGhoaGhoaGjcl2gOsYaGhoaGhoaGhoaGhsZ9ieYQa2hoaGhoaGhoaGhoaNyXaA6xhoaGhoaGhoaGhoaGxn2J5hBraGhoaGhoaGhoaGho3JdoDrFGQ1CtVndahBoaTZ7bRafTAdflb7TvoJanEeVrdO728bvb5NXQ0PjobPc83+h6WyXDZp+7Xfr4VtdoZB1bP0Y7vYbdzWOpsTUYd1qAu4V7ZXKI7yGU0XYqpc2uXf/7neBm8uy04t6Mevl0Oh06ne6GRadR5NtIpkYaV/U4Nuq938z4a0RZN2Kjud+I8t9KV+00d1I+EUTTuPM00jOzlVSrVSqVCpVKBZ1OR6VS2dZri+urx1otz514xsV3EtfZ6Lpb/b3F9erXKPG77ZDh41CpVNDr9Rvqqzt5jz4Km9l6YvzEGN8N+lHIeDfI2shoDvFNUCsWvf7eSKbrdDr0ej1GoxGj0YhOp8NgMGzLtdXXMRgMGI1GDAbDtsqwGUIOvV6PwWDAYDCg1+vR6/U7oqxvB7VMBoOBarVKoVDAaDQ2hNzqaxuN11VNsVjEZDI1hHz1iOewWCwCSBl3+tlUI8bLaDTKcTSZTA0zj25F/TwTz2qjPQ9qPdmo8gGfWL5qtUq5XJbvbZTvdzejNqjv9TEVc2QndbraEVTPhzstj9rpqLcTttMhUa9L9bbKdsnwURH3QTwvjWBfqe+ZWEOFfI04hrdC0+WfHM0h3gR1ZEg8aMVisSGjbx+FfD6PoigUCgWy2SyZTGbbomAiGqfT6SgWi+h0OgqFgpRB/G0nEGOQy+UoFosUi0Vyudy2js8noVgsYrPZ6O/vl/dWUZSdFkuili+Xy1GtVqWT3EiUy2X6+/txOByUy2UymcxOi7QhlUqFTCaDoijkcrltn8sfl/p5ViqVyOfzDSe70JP5fL4h9UChUJD//7jyWSyWGwzSRvqOdxvqNUydMc3lcjss2dZRKpXI5XKkUimSyeSOrOPimkKXlEolCoXCHZdH/VmlUmnLrnO7MuRyOSlHMplsaIdYyJ1OpykUCvJe7dQzo5ZJp9ORyWQolUooikIymdwReT4JFotFOvKaLv/4NJ5F2gCoy2AKhYJ0MNLptHQy7tYyqGKxSDabZX19Ha/Xi9lsrolobyVizPR6PbFYDLPZjN1uZ3FxcdtkuJlsOp0On89HNBoln8/j9/ulbI2uWNLpNMVikc7OTlZWVqSCbBRSqZSUz+v1yohso1GpVOjo6EBRFILB4E6LsyE6nQ5FUfD5fGSzWXm/M5lMwz+r1WoVvV7PysoK0WiUUqnE6uoqHo+nYWTX6XT4/X7S6TSBQACv11tTftkIrK2tUSwWCQQCNDU1USwWb8sAUhtLLpcLq9WK2WzG6XTKDI7Gx0eUXabTafL5PPl8nnA4vNNibRnJZJJgMMjy8jJOp3NH1nExLxVFYX19nXg8jslkYnZ29o47xEJ/RaNRisUiBoOB2dnZbSv7Vcuwvr4udejc3JwMxDTiHBbjE41GCYVCJBIJAoHAHb9HH0cmnU6H1+slFouRzWaZmZm5azKs4p67XC4cDgc2m42mpqaGq2i6W9BV71bPbosQJQd6vZ6pqSleffVVXnrpJcbHx8nlcne9QwzXswqiPESU2m4nIjMs/m02mxtiPMXeJ1EyK8rKG0G2jVAbt6J01mKxkE6nb9gPq8l3e+h0OulgKIoi9QE0zpxXZ6BKpVJN2VyjyHgzdDod5XKZUqkEIIMjjSK7Wr5GHttPkgHQ6XTY7XZ6enoYGRnh3/ybf0Nvby9ut7thjepGRhjXhUKBtbU1/vAP/5Dz588zNzdHOp3eafG2jFKpJI3vnX5mxHwQ+nGrMmTq+bGV17mVDGqHp5GCdZuhdny3+h59VLnqM6t3E9VqFbvdTmdnJwcOHOD3fu/3GBoaorW1Ve7d1rg9NIe4jmq1SiqV4vLly/yH//AfiMfjOBwOHnzwQaxWa0MZbnc7O10mvRHqe9tIct0OQqk3all/o8snUDf/uBtoBKNC4+5Cp9ORzWYJBAIsLCxQKpX42te+xuOPP86+fftqXqexOWodsba2xoULF/iTP/kTCoUCfX19DA0NySAD3Hvj2SjfayM5ttIhrr9O/bW3mkaQ4aOynffodrkbxm0z1LJns1mCwSBTU1PodDqeffZZPve5zzE2NiZffzd+x+2mcWoqG4R0Os3KygrPP/88a2tr9Pf3c+zYMR555BFsNpvMGN7ND1cjZOXU0bhGGU+1HI0Uwbwd1A7cdjb4uF0aXT419U1xGplGmMsflY0i8o04z9Rj24jyfRzq9815vV66urr4u7/7O9599130ej1DQ0NYrVb5/e+F772ViGqN8fFxTp8+zeLiIp/73Oc4fPgwY2NjNDc3y9dpY6mhoXGnENUK6XQav99Pa2srL7zwAh988AFms5nh4WFZ4aRxazSHuI7V1VUuXbrEH/3RH/Fbv/Vb/NzP/RxPPPEEcOOxLBp3hkYZz/qSmbu1hEZDo5G52+ZZo8v3UajfxnDy5Em5P/rHP/4xy8vLfOELX6Cnp0dWQ2lO3MbUNzj68Y9/zOnTp3nooYf4/ve/T0dHBwCKotyzY6g9HxoaO4/YtvClL30JRVE4ffo0k5OTfO1rX8PlcsmqN22u3hytZLqOr33ta+TzeVZWVnjuuefo6emhVCppD5OGhoaGxj2B2LogMvU2m43vfe97nDlzhiNHjvD7v//7NDc3y6NsNG5EfcTJf/7P/5nnn38es9nMX//1X2M0GimXy5TL5YZsHqihoXHvIHS5yAb/4Ac/4G//9m/5+te/zre+9S26u7s1XX4baKNTx9WrV3G5XJw4cQKn01kTWdEcYg0NDQ2NewF1Qx6TycTu3btZXl5mcnKSUqnUEI2S7hYmJiawWCwMDQ3hdDrlMVja+GloaGw1wk9RFAWXy0V/fz+Dg4NcvXqVbDar+S+3ieYQ1+Hz+ejv72f//v2YzWbgelmQFuXV0NDQ0LhXEFliUSTW09NDZ2cnly5dqumurrEx6vFZWlrC5XLJUnMxrprdoKGhsV0Ivd3e3k5fXx+Tk5Py1BSNW6OFL+sQB3S7XC4MBoMWWdHQ0NDQuCcR65tOp8PlcuF2u+WZxuLvGremWCxisVhwOBza2GloaOwIQufY7Xbcbjf5fH5Hzga/W9EyxJvQ6EfD3G/czcchfVy26zurm8Xdq2Nb3yphq47jqAAwhFIAACAASURBVO9Ufi+zUQfme/0738vcTUeNNRrqZmXaHNDQ0NhJROd7jY+G5hBvgmYYNBaii159md+9jKhQ2ErlVr9P8F5VouL5EWzF91Rf435wLurnJGh6U0NDQ0NDY6e4l05F2G40h3gT7mSUdzuyU/cywmkTBvhOOxvbkQUQHQPV33ervrMY262+zs3Y6my4ejzFMTN3+vP1er08qqZSqVAul+/oNW6X7aosUH/ncrl83wSqNDQ0NDQ0GpV7udpvK9Ec4i2mWq1iMpmkMV4ul+UeLe2hvTU6nQ5FUYjFYsTjcUqlEr29vTgcDtlC/naN8Fudd3yzyJq4X3q9HpPJJI/UEO3u619X/97NriGys/XltsVikYWFBUqlEgaDgcHBQdlS/044HeLZy2QyhMNhMpkMJpOJgYEBTCaTfM2dGtubIZrPCOdKURTK5fINY3mzsb3Z73U6HbFYjEgkQqlUoqmpiZ6enk3nXv13Ue/B2eg96mc0FAphNptxuVx0dXV9JCfxdiK7NxtnMT4mk0k+J8Vi8bZ1zGbjXZ/1FvMgmUySSCSIRqO0t7fjcrloamrasCHTZmX5jXIGeSOhld1qaHx06nXJnd4KpGXe7hz168xm1NtO98P2Lo2dQ3OItxCRlUqlUuTzeRRFwWaz0dzcLI3oeofqXuV2FWD9e4xGI+FwmJWVFcLhMD09PTWvUZ8FeavPutVrheNT73RWq1V5rmQ+nycUCmGz2bBarZjNZhRFka8VHUbV71WX0oq/iQBJqVQCqDkfTgRNMpkMsViMXC6Hy+WipaUFo9GIoiif6JkRMplMJnw+H5FIBEVR6Ovrq3nNRzHMy+XypkeM3CpjaTQaKRQKFAoFisUiTU1NmM1m6RyLe6bX628YW9HFVWRl1dUEascsl8uRSCRIJpMoikJraytWq3VDedTfpVqtYrFYqFarNw2A5PN5pqam0Ov1tLS0yPffbkOL+sqHzV5/s3EWv08kEnLcmpuba8ZH/d76eWg0GmsceKPRKI9yED8LvQVQKpVIp9MEg0GSySQ9PT243e4bMuPiPon7qf6O96pxqf5uH9XBFeO+05UwGhp3C0I/q7dxiCCrCF5/kjXzXtZV2416iw3caG+pUa/vwg4T9+KT2kEaGvVoDvEWIAzAYrFILBZjenpaZoUNBgO9vb20tbXh8Xhu6ihuNNlvJ8O52es2+vtGxv3Nsm43y9jVv099DuPy8jLVahW73U53d7d0BOujrvXNSfR6PdlslkwmQ6FQoLm5GZPJJF+3vr5OU1MTNpsNk8m04RiWy2UKhQLpdBqXy4XVapUKVsiXSqUoFAqYTCZaWlpqjHq9Xk+hUCCTyZBIJMhms1gsFux2Oy0tLfJ4rkqlQjqdxmq1SodXvSCXy2WsVitw3ZkQ1xRVBG63Wyp8nU6Hw+EgmUySy+XIZDK43e47ugDo9XpisRj5fF5mNYVDrygK0WiUlpYWLBbLpu/P5/PynLumpiaZPRd/r1QqRCIRjEYjVqsVu91eY5yILHUymSSVSqEoCplMBofDgcvlkk6aoijk83kcDod8r7gv4lkR90FRFFKpFHq9HqvVitVqxWg04nA4yOVyhEIhSqUSZrNZOh9ikVYUhfn5eXp6enC5XOj1eiKRCHq9HrPZLK9RT6lUIhQK0dvbK4MlwlEuFouUy2U8Hg+w+RxOJBKUy2UZEKgnm80Sj8dpb2/HaDTeYEhUKhVisRjJZFLOL0VRcDgcWCwW9Hq9lAWud6JUGybpdBqj0Sg/O5fLyfsr5q7NZsNsNkvjRHzXVCpFOp2+QWYxtrlcjkKhgM1mk894pVLh2rVrtLe309zcLMvNBTertFBzszlxq/fcSufeSo9u9jqDwcDKygqVSgWbzUZ7e/stS/VFIMfr9eJwOLDb7Vit1nt2X7/G3cXNbIaNXnOr4N6dksloNBKLxQgGg7S1teF0OtHr9WQyGYrFIjabTQY1P44s4hpra2skk0lMJhP9/f1yba8PMn7SYDVsbhdtdo3N3qfmdv52p9hMRhGoiEQi5HI5FEVheHhYVoQJxNiura0B4HA4aG5uJh6PoygKRqMRl8tVE6BWX3M7nj2New/NId4CKpUKFouFcDjMqVOneO6553A6nbjdblZWVujp6eHxxx/nq1/9qnRARGam3pncrPSwHrWDIV5X/z7hoKn/rs5cCod9M6N0o/IV8W91Blb8rlKpyPLbv/u7v6NcLjM2NsbXv/51crmcNADrM3/qzxAZKYvFQkdHB3v37iWTyUij/ty5c+zZs0cGGUqlUo1jbzKZyOVy+P1+lpeX2b9/P/39/TVl63q9nqWlJSKRCM3NzXR0dNSU7IrFcHV1ldXVVTweD7FYDIPBwK5duxgbG8NgMFAoFJiZmWHXrl04nU6MRiMmk0mWluZyOcbGxlAUhUQiwblz5+R1qtUqDz30EG63G6vVis1m4+DBgzQ3N0tHZitKKRVFoaWlhba2Nnbt2kU2myWXy5FKpThz5gwPPfQQnZ2dNzwXwkhIJpPMzc1hs9kYGRnBarXKDKJer6dUKnHx4kXcbje9vb20tLSQyWTk341GI3Nzc0QiEbLZLA6Hg1gsRktLC2NjY/T395PNZkkkEni9Xg4cOCAdMovFgt/vJ5/PY7fb6evrQ1EUkskkZ86coaOjg97eXgYGBujq6qK3t5f19XVisVjN/a1UKjJ7mU6n+au/+iu+8pWvcPToUUwmE++++y5ut5uBgQGGhoZklrO+nFin07F79248Ho8MukQiEUKhEIlEgqeeeuqmke25uTmy2SwHDhygra2tJqtbLpfx+/1cuHCBp59+Wj5fiqLI+ZPL5fjwww+lk18qlZidnWXv3r0MDg5it9sJBALkcjmq1SpjY2M182Vubo62tjba29sxm83Mzs6yvr5ONBqlUqng8Xjo7u6W72ttbaW9vZ22tjYuXLiwoW4SOsXn8zE3N8eRI0fweDwYjUaKxSI//OEPeeaZZ3jooYdoamq6aXn6Ro7hzSo+1PLUZyQ2+8z6c2M3u2a9ESz+Ewaa3W7n9ddfp1QqMTw8zBe+8AWy2eymnyfkslqtPP/88xw4cICxsTGGh4fJ5/NbMvc1NG4X8WzDT5vp1ZevCjtG/XO9XbIVMlksFpaXl/nJT37CE088wf79+9Hr9UxPT+Pz+Th48CBjY2MUCoUNbapbXaNcLuNyufjwww85f/48ra2t/LN/9s+w2WwUi8Wa8RBrySf5PrdKMog1YaPXCbtRrUfVumOjSqR62/Cjyly/FgI1z0G9TWqxWJicnGRxcZFUKsW/+lf/imw2K+1HYbdls1leeuklqtUqhw4d4rHHHmNiYoJEIkFLSwuPP/44+Xxefg91BZQ64aHpTY3bRXOItwAxETOZDJOTk9LgO3ToEOl0mj/7sz/j3LlzzMzM8IMf/EBm2MQZhkIpFIvFGxw8kQmtp1gsyhLsarVKU1OTlAWuL2IiywZgs9nQ6X5asmu1WqXMNpsNuO4sqZ0bkVES13E4HLJ5ULFYlOWSiqLIhUI4rj/3cz9HpVLB6XSSzWalfJVKRZbJin9v1IyoXC5TKpVqzlUDSCaTzM7Oks1maW9vr3mPUJLRaJTx8XFsNtsNmd9KpUKhUGBpaUk6CpFIBKfTKeXL5XLMzMxgtVo5efIkvb29hEIhQqEQfr+f3bt3y88KBAJ0dnbKbGk6nWZubo5UKsWBAwfQ6/UEg0EWFxfp7u5mcHCQarWK3+/n3LlzHDhwQP6uWCxSKBTkM7AViOvkcjnpdAunze/3Mzs7S6VSkYa5GFeDwUA2m2VlZYUrV65w7Nixms81mUzk83nC4TDBYJBcLofNZqO3t1e+X1EUwuEwfr+f/v5+9uzZg91uZ35+nmQyydraGkNDQ1QqFbLZLMFgkLGxMfns+nw+FhYWsFqtDAwMkM/nmZubw+v1Ui6XSafTFAoF4HoGV3xPdYm7+lkRlQSLi4skEglpbJ05c4ahoSHa2tqw2Wyk0+kNtzpUq1WZVRWZ1mq1SjweZ3JyUgY4LBaLlEGU9c3OzrK4uIhOp+PQoUM1n2s2m1lYWGBtbY10Os3y8jLDw8MyeygCAz6fD7vdzuHDh2lubkZRFN577z2KxSKJRAK32006nSaVStVk1aPRKDMzMxQKBbq7u7FaraysrLC2tobb7ebw4cMAXLlyBa/Xi9lsls+oyCBv1kBMp9Nhs9nwer28/vrr7Nu3T45NOp1maWlJBjScTmeNY5nJZGqMKZfLdYMRKHTCRsacyWSSFQbqqhKhVwE5z8XnpdPpGqPR7Xbf8LniORJBIlE9ICpURBAgFAqRy+Vwu91SPoPBIHWfoFwuyyy8wWDg/Pnz2O12urq6arZSaGhsJ2oHzWw2yyBfPp+nXC5jNBqxWCzkcjlKpZKsHhF2hpg7ouqn3kG6U+h0OtLpNCsrK8TjcVmNFQwGuXDhAl1dXRw6dIhisSi/1+3KoF7rTpw4wd69e2t6wrhcLrlGG41G3G43uVyuJjhwO9cQgXeTySRtLPG7arVKNpsFrus0k8kk7SRhF9jtdum8l0olHA6H1DnCDiuVShQKBZqammqceGEH5vP5j3xvNqo8EuNSKpWkPQjXdZ/RaMRgMJBOp2U1k6g0guvbRYQdZrFY+PznP0+pVMLj8UidurKyQldXFxaLRQYL9Xq9PENdfA5AoVDQSqs1bhtttd1CxCQ0mUzY7XZcLhcmk4lHHnmEc+fOcf78eWkIpVIpzp07RyAQwGg04nQ6OXLkCDabTXZxFXs+19bWWFlZQa/X43K5cLlcJBIJ9u3bh8fjwWQyMT8/L41ovV7PyMgIPT09dHZ2AuDz+VhZWeHatWsAdHV10d/fz969e+XvWlpaaGlpQafTkc1mmZqaoqmpiZaWFpxOJwsLC1y+fJlYLEa1WqW5uZmRkRH6+vqk8ykUbnNzM9VqVTreXq+Xubk5WVbY2trK4OAge/bskYvCRllsgVD+TU1NsiQzHo/LklphBCeTSZLJpCxXVndTNhqNZDIZotEoNptNligGAgFcLpe8jggMiHJqEbyAny4I9dkxEXEVDmVraytut1uWUHZ1deF2u6Vx3Nvby9LSktxLazabN83O32nqZRc/Nzc3y723wrEUGAwG2YxLjIH6vQaDgWQySSQSobe3l1KpJBtPtba2yjHL5XLodDqsVitOp1NmIh0Oh1xQ66Pf4n2Li4s0NTXR2tqK2Wwml8vhdDrl9TKZzIbjttn3Ff8WzlImk2FmZob5+Xmi0aiUZ3BwUAaD6u/RRllSMZ/X19cxmUzSsBQGiaIoBINBmSFUGxaiQiISiaDT6di7dy/xeJxsNitLuoVBk8vlaGpqwm63yxLBXbt2YbFYsNlsNUcjiec/EokQDoeJx+OMjo7KwJTFYmFgYAC73S4b2LW2thKNRolGowwODtZUiWz23SuVCufPn2diYoK5uTneeustUqkU3d3d8nPD4TAXL15kZWUFgM7OTgYHB2XGH67r0PHxcdbX10kkEhiNRvbs2UNHRwcej2fD5mGhUIhUKkVzczMLCwskEgmKxSLHjx/H6XSiKAoXL15kfX0dp9NJZ2enrODQ6a43J7t27Ro+n49wOAzA2NgYnZ2deDweucVCURRCoRAXLlyQhuvAwACxWKymwZnRaCSRSDA9Pc3CwgLValUGMNxut7xnpVJJzpePk7XR0PikCP0ktn7EYjFmZ2fJ5/MMDAzgcDgoFAq8/PLLcn0wGo3s3buX3t5eOjo6OHv2rLR7enp65Jr9SffzboRwIvV6vdRR77//PteuXZO2xwMPPIDdbpfB64/j/DU1NcmAXiwWk4FsuJ5UaGlp4Wd+5mdqAnCbIXSC2AqztLSEw+EgkUhIu6i3t5f+/n5GRkaoVqsEg0EikQgdHR04nU6ZHFlcXMRgMGCxWGhpaWF2dlaul5cuXaKvr4/u7m56e3tZXl5mcXGRQCBAuVxmaGhI/v12T0YQa/zCwgL5fJ6+vj65VUzo1ZaWFrkeGQwG1tfXSaVSWCwWaR9lMhlef/11VldXURQFj8fDQw89JLeWia1W5XIZn8/H+fPnCYVCrK+v88Ybb7B//35pa77zzjssLS1RLBYxm82cOHGCtrY27HY7pVJJc4o1bonmEG8hIsInFgGhoI4ePcr6+jovvfSSzMz5fD5ef/11VlZWMBqNtLW14Xa72bNnj3TyUqkUV65cYWJiQirA5uZmXC4X6+vrtLS0yH3JFy9eZHx8nIWFBcxmM36/n6NHj9La2orFYmFmZobz589z5coVqtUqQ0NDPPDAAxw6dIiJiQkA9u3bR3t7u9zHe/bsWQYGBti7dy8Oh4MPP/yQd999l2g0KpsgiS6+6m6zwmEVjZwMBgOXLl3i/PnzzM/PS4fhxIkT9Pf3b7pPU4ypMMTL5TJOp1OObSgUkmMlxjoej5NOp+U+InU5kcFgIJfLEQwGaWlpkYo1EAgwOjq6Yfm6iJAbjUaam5tpbW2tyTiKTskis7y8vEx/fz/d3d00NTXJfbBiP6YYo7a2NpnNKpVK0hBRy7CVWWL1+IprtbW1Adf3riaTSdxud81rw+EwxWJRNomr/4xkMkksFmN4eJj19XUqlQrhcFhm8tXOM1zPJJRKJZxOJy6XS95jdUmW2Dcs9ox96lOfoqurSzoOHo+HlpYWmX1Uj+HtZifE9bLZLJcuXWJtbU0u5k6nk/b2dvncbfR59U6y2Wymvb2dSCRSE2RSZ6UTiQQWi0V+rvpzRFDCarUyOjrK22+/TTabpVAoSMNBIIJnwnkfGBiQwSVRUqYO4ITDYens9fX1yWyCw+GQe9Z1Oh0WiwW3200+n5d7hdUZn82ez2q1ysWLF7l27Rp+v5+zZ89isVgwGAyMjo5iMBhYXl4mnU5z6dIl6cQfPnyYvr4+GRAoFAq88847LC8vE41GsVgshEIhHnjggRsyx0I2EfDr7+/nwoULBAIB0uk0drudwcFBFEXhrbfeYnl5GZfLxdDQEMPDw1LufD7P2bNnmZ6exu/3S4P0wQcflNcUwcyrV6/y6quvkkqlMBgMjI2NEQwGaW9vl893oVBgbW2Nt956i8nJSZn11uv1fOpTn6rpbbAVR4NpaNwu6iB0NptlaWmJq1evAtd1rKhKefnll2UfB7FOHD9+nK6uLi5evIjVaqWrq0s6Rh8lO/tRUK8lYnvN5cuXCQQCsnJjZGQEu93+kUumAdlTIZlMys/w+/28++67vPXWWzKD3tTUxLFjx2Q29FZz2GAwkM/n8fv9vPjii3R3d5NIJJifn0dRFAYGBjh48CA9PT04nU58Ph8TExM89NBD0obQ6XRMTk5itVrxeDy0tbVx/vx5isUiFouFU6dO8fDDD2MwGOju7ubixYtcvHhRBuX2798vdVp9X4mbjYnBYGB2dpZgMIjVapX7qguFAqdOneLAgQMMDw8zPDyM0WjE7/ezuLgom4NWKhWCwSCvvfYai4uLFAoFWltb6enpkb04YrEYLpeLcrlMMplkcnKSZDJJNBrlzJkzjIyMyODEq6++KpMKIlBw7NgxBgYGbvt+a9zfaA7xNiDKbkS5SygUkk6V2+3mv/yX/8KZM2fQ6XT80i/9ErlcjqWlJX73d3+X3/zN3+TEiRN0d3fz+7//+1y9ehWdTsev/uqvotPpeO+99/ibv/kbQqEQn//852WJ5nPPPcfJkyf5whe+gMPh4Pvf/z4LCwtUKhUOHTrEK6+8Qjab5Qc/+AHxeJyVlRUp09tvvy2zREeOHJHO+KlTp3j00Uflgvjv/t2/4zd+4zekfP/jf/wP6dwPDQ2Ry+Vk6cp//a//lZaWFvbv388Xv/hF/uN//I889dRT/Mt/+S8ZGBjgzTffxOl0kslkaG5urslmbYRYAHU6ndzjOjc3R19fn8yuin2X2WyW0dFRgsFgjXOlKArxeJy1tTW5YITDYWZmZsjlcjLK63a7cTqdhMNhTp8+zSOPPILdbpfBDvUiX61e3/8SDodlw6CBgQHa29vJZrMyKKDT6SgWi/Iz0um0/LuIiKqPldoq47h+fw8gy+CdTqcMdMzNzfHpT39aZrDi8TjRaBSTycSuXbtkmZgICMTjcXlM1u7du9HpdASDQbxeLwcPHqRYLMoGc1euXJFl0gcOHJCLmWieIRCBBp/Px9TUFA8++KAs8RVZddHUKxQKbXjkkRjL+t+rnWXRTdpkMtHZ2SkbQbndbpqbm6VM9UGAjZyyUqmEyWRicHCQQCBAIpHAbrfLErBIJILP55OBHBHNFtmDcrnM/Pw8er0ej8dDX18fFouFeDyO2Wxm9+7dlMtlmpub6evrk3O3r69PBrPUWXaxx02v17O2tsbs7CxGo5Gf+ZmfkXNGOPHqZwEgHo+TSqVqnMH6sVXPL/F30Y1d6EC1k724uMjly5dpb2/nW9/6Fnq9nvfff58/+IM/YHR0lN27d7O+vs7/+l//i1deeYWnn36aZ555hmKxyF/8xV/w4Ycf8vTTT/OLv/iLZLNZmSUyGAx88MEH/OVf/iUWi4WvfOUr7N27l2g0yne/+10GBwfp7OzEbrdz8uRJ3nzzTZ5//nl6e3t5+OGHSSaT/OQnP+Ev/uIveOKJJ/jsZz8LwA9/+EPef/99fvZnf5Zvf/vbzM/P8/rrr/PHf/zH/JN/8k84evQoZrOZN954g7fffpv9+/dz/PhxdDodL7/8Mm+++SbT09P8i3/xLzAajayvr/NHf/RH/PIv/zIPPfQQ+/fvJ5/Py4CGemy1DIfGViOcSpPJRCaT4e233+bFF18klUpht9v5lV/5FVpaWlheXuY//af/REdHB8888wyf+tSnGB8f58qVK3K7ycGDBzl16hSnTp3if/7P/8lXv/pVHnjgAQYHB2Vl3J2UW739qquri4GBATKZDD09PezatesjH9MoKJfL2Gw23nnnHcbHxzl06BBPP/00Z86c4bnnnuMv//IvcTgcRCIRLl68WHN6yGbzVuhKEciNRqP8yZ/8Cc888wxPPPEEv/ALv4CiKPz3//7f+dGPfkQoFOI73/kOk5OT/O3f/q3sjyEqUF588UU8Hg/79u3jxIkT/PCHPyQYDNLT08M//af/lP3792M2m3n77bf59//+3/PEE0/wjW98g7a2Nv7mb/6Gl19+mYsXL/K9732vRo/ebKxtNhsLCwtcvHiRUqnEN77xDQqFAvPz8/zO7/wOzz77LF/+8pfZv38/5XKZ999/n3PnzvHVr36VpqYmVlZWeOGFF/hH/+gf8eSTT1KpVHjttdf4t//23/Krv/qrnDhxgr/+67+ms7OTvXv3cuDAATwejwwkdnd343K5OHPmDK+88grnz5/nt37rt+jp6SGZTPKd73yHb37zm3zuc5/j0KFDshRb06Mam6E5xFuIcG7Gx8dl2VE6neb06dNUKhWeffZZLly4wPT0NAC//uu/Lvd+dHd3Mz4+ztmzZ8nlcjz55JOcPn2aL33pSzz55JOMjo4CsHv3bh588EH+8A//sGZfy2//9m/LfRidnZ089dRTRCIRzp07x9GjRwHkHs89e/bQ398vsxKivFJEVkVmzm63Yzaba0oAU6kUuVwOh8Mhm4QZjcaa/aYieqzX60mn03IhEBHl5uZmnnzySVmmqN43LcZRUG90FwoFnE6n3PcYjUZlFnxlZYVSqYTdbqe9vZ3V1VVpZJpMJoLBoOxcLUrJhSMYDodpbW2lqamJUqnE6Ogo4XCY9fV1zp8/j9Vqpbm5mcHBwZouzEajkaWlJTKZDIFAgAceeOCGJhvq7yBKvK5cuUJXVxfNzc2YzeYbSkDVTtydVOqbZU2Fw97X1yebM+VyOblvdX5+XnZDtlqt8r6Ke7i6uorJZJIBip6eHkqlEsFgkFQqJTsZAzz44IOybPfs2bO43W7ZwEmdhaxUKly5ckUeRSVKr9Tlx2oHbiPDR/26zcZRfIbD4eDkyZOMjIzQ2dnJsWPHZDmcel+S+v8blWMD0vkX2YDOzk7ZXM3v93PgwAHW19dvaPZVKBQIh8MMDAzQ2dmJTqdjz549RKNRuVVBNJ3r7OzkyJEjJBIJJicn5fnV4jkWxm6xWCSdThMKhUin03g8ng0bsQjn2Ww24/V6CYfDVCoVdu3adUPzq42cY7g+d59++mnZpf0f/+N/zN69e2lubpYBuGeffZbPfOYznDx5UlbVrK2tMT4+jt1uZ2FhgR/96Ef8yq/8CgcPHmRgYAC9Xs+XvvQlJiYm+G//7b/x7LPPyuupDU2hl5566ina2tpQFIX//b//Nzqdjq6uLr71rW/JbRepVIqzZ88yOjrK2toazz//PP/6X/9rxsbG5HFvHo+Hs2fP8uKLL/LNb36TN998k5mZGb70pS/xi7/4i3ILxLFjx2RQq1gsEggEOHfuHKFQiN/8zd9k9+7dGI1Gurq6WFhY4J133qFQKHDgwAH5/GkZYo3tRuiB//N//g9nz54ln8/z2c9+lr6+PlkRJcqG3W43kUhEnu9+5MgRxsbGZLO/Bx54gP7+flnN88ILL/D666/T19fHd77znQ0Dk58EUdXhdDpxOBwcP36cSqXCY489xmc+8xm5Tn/c9VPss43H41KX6nTXmxEePHiQwcFBGaAVwcXbuY5wnoeHh/n2t7/N0aNH5dF93/jGNzh//jwvvPACv/zLv4zBYMDhcNxQkm2xWGTPBGH3nThxgmeffZbHHnsMu93O+Pg4f/7nf87jjz/Opz/9aXbt2kWxWOSJJ57gvffe45VXXuHrX/96TZ+LzWwD8fuxsTGi0ShvvfUWX/nKV1hdXeXcuXM89dRT6HQ61tfXCQaD0tbU6XQ8/PDDnDlzBofDwaOPPsrv/d7vyfVgz549/O7v/i7JZFLqcbFOdHd3c+LECVZXV+ns7OTzn/88sViMS5cuMTMzw+/8zu+wb98+nE4nOp2Ob3zjGwSDhndPkQAAIABJREFUQU6dOsWRI0dq7C4NjY3QHOItRDRbCQQCzM7OAj9tfjUwMMCjjz7KzMyMbJaztLQkS+7EHkhRHuL3+ymVSgwODnLo0KGaxg6iwZV4XyqVYm1tjUwmQ6VSYW1tjXA4TDqdlscQDA8Po9PpOH/+POFwmI6ODjo6OqSTJuSHWqNe/N7hcPDII4+QyWS4fPky8Xgcj8dDb28vDoejpoxYlL6K5hMGg4Hjx49jMpmYnp6WR9IIGeqbHt3MaRN7qx0OB01NTUQiEXnUjt/vx2Qy4XQ6sVgsNc6GcETFvsJgMCjPjBalpOpGPyIrZjAYiEajslGRz+dj165dNWWR8Xgco9FIX18fqVRKdk+uH0+j0Ug8Hpf35sCBAzc03FGP4e3yUZT+RlFg8V5FUWRAAK4fCyQy68FgkKGhoZoAhqBSqRAKhdDr9TQ1NbG6ukq1+tOGU/F4nObmZlkiKo4RMpvNpNNpufdXr9czMDAgn/FUKiWP+ens7JQl8hs1mRPjUF8OfrvjJwweUUrvdDrxeDy0t7eTTqdvMHZu9dmVSoWuri68Xq88JziTycjjxERJtRhr0aE7nU4TjUZpa2ur2cudyWTkUUbCiTQajfT29spxLBQKstRXr9fL0vZcLkc0GpX7+gwGA8FgkO7ubimrkKFarcqmc2I8xF7v+u+8mVPc3t5OS0uLzIyLChORddqzZw+HDx+W/Q/a29txu90kk0lCoRBra2v4fD7i8TjXrl1jZWUFg8GA3++XQSpxdJhodCW+s81mY+/evXR3d8u96y6XC4/HQ09PD7t37wau91Do7OwkHo+TSCSIxWKEw2GOHTsmm6kBHDlyhKWlJd544w3ZVE/sS+7t7ZVj1tnZSW9vL8ViUVYFra2tsba2RjAYJBQKSX2dSCSIRqOyFF3Ifztz/uM83xoat6JQKJBKpUgkErJpndPpxG63A+B2u/n0pz/NmTNn8Pl8vPfee7jdboaHh2XfE7E2iO0d4XAYi8VCa2srcOf7Ygg7QzRucjqd2Gw2Wlpa6OjoIJVKfeLPVxRFVr4NDAzw4IMPMjU1RTqdpr29HY/Hw549ewA21JH1iLUNoKOjg927d8u9vAaDgeHhYaLRKMlkUjYUFXafkEnoOvXvzGYz3d3d7N+/H4/HQ6lUIplMMj09TUdHB7Ozs0SjUXK5HOVymXA4TD6fJ5PJbLgFZSO5FUWhr6+Pvr4+XnvtNdLpNKurqywuLvL4448zPz8ve32IBqFNTU20tbVRLBaxWq0MDQ2xb98+FEWRzWVFIy6x1VDd+NXlchGLxWhqaqKzs5NLly6xvr4uq6/Gx8dlYKBQKJBMJmUwWMh9s/t7q9do3NtoDvEWIhziZDLJysqKLIl85JFH5H7dV199VZZN/vEf/7F0BsSCsmfPHgwGA0tLS/T09NDW1obVaiUWi8nSWtFMQRwxtLCwwJ/+6Z9iMpmw2WwoisLa2prstuh0OnnkkUcwGo28+OKLFItFjh49yiOPPEJfX1+NMVZvcIlz91pbW/n2t7/Nc889x8svvyyPFPriF7/IsWPHZLmneJ9QoGLB+qVf+iVef/113n77bX784x9z8OBBHnvsMZ555pkbMk6bOcRCPlF+2dnZSSAQwOl00tLSwsrKCqOjo7S2tm7oHIkGFYX/x953B8lVXel/3dPTOXdPx8l5pJEGFEACYUsCYWEcCsoFC6Zweasc1lvlYpfyegPeLcNu/Rx2t4rdWsyu1wZjgw3GwrAYkKEEyAIFQHmUZjShe2JP93TO6feH6hxeP3WPRkJZ76vq0qjDe/fed8MJ3zknm8W+ffu4ZFAmk+GahnTQyOVyjtEuFosYHx/H5OQkDh8+zPEuwKl6xjKZDC0tLVi2bBlefPFFmEwmjskUKvtKpRJ+vx9zc3NQqVRob2+vyDAp7ie1eyGQZ2+x5QYWStpDichUKhV0Oh0CgQDXkA2FQli5ciXHVVLbyuVTWatnZ2chk51KyhIMBqHX69k4MDc3x8mayLvp8Xjg8XiQy+Wwf/9+9oCSsYESF5GnVKfT4Z133uEEXEJPcTVPbbVxWugzIcWY5gRll6a+ir9bjX5OAk8ul4PD4cD09DRSqRQbBlKpFCua1E9a/8lkEpFIBKFQCGNjYzymWq2W6erJZJIt4jKZjGPIyAv85ptvMpuD6iAnk0kEg0Fs2rQJMzMzrGjS2heyKMjAMzQ0hBUrVqClpYWp68J+11LiaD5SfHg8HmcaebFYhMlkgtVq5XAJvV6Puro6TtAyNzeHmZkZ5PN5/OEPf+CEUzS/lUolDAYDK570DEhw1Gq1XMKKak83NDSgtbUVTU1N3Ob6+nro9XokEgnOO6DX6+FwOACAGRAWiwUNDQ0wGo0YHx/nmtnd3d1s9CuVSmzgUSgU0Ov1mJ2dRTKZhM/nw89+9rMKD4hSqURbW1tFRmsatzNBzJiRIOGTgOZSR0cHMyY++OADhEIhpuOSEfOee+6B3+/HsWPH8O6776JcLuPLX/4yBgYG0N7ezhUWjh8/joMHD3KIx8DAwAVhO9H1aA/LZDJshBfXuT1XlEolNr5df/31UKvV+PnPf463334ber0e3d3d+M53vsPn5JkgVIitVit71+lcIIO+TqdjZwr9Rrjn0ovYJWq1mp0EuVyOjRvJZBLvv/8+tm/fzrKcUqmETqdjRtZi2gyccu54PB40NTXxeT0xMYGpqSk88MADLBceOnSIf0s5FSi+uaGhgT37xCqkfZySmRJbhr5HhvViscjGgmAwiF/+8pcVxvR8Ps+0amFJp2qodo5LuPYgKcQXAELBuFgs4s4778Stt96KdevWAfjYclgul+FyudDS0oLrr78e//Zv/4ZoNMqbFFF8ZmdnMTg4iEgkwrX0yDNGllu65tDQEH784x/j4YcfxrJlyzihwI9//GOMj48jnU4DOOXpWLFiBb75zW/iww8/xJYtW/Dkk09i2bJlrMgIYyWFFGXyaHi9Xjz66KMoFouIRqP4zne+g1dffRWjo6P4+te/zvVLSaGk2EUAWLlyJVauXMnK0w9+8AO8+eabmJmZwbe+9S2uNSwU9qptVFROSqFQoLu7G5OTk5iYmEA8HodcLofL5YLBYEA4HObvl0olhEIhZDIZ9uRQWR7yVp84cYJL1JD3xmKxwOv1IpvNoqOjAxaLhSljVqsVdXV10Gg0GBgYgNvthlarxerVq7k9t9xyCwvfALBz504Eg0HY7XbccMMNrAxVw5kOczoEFAoFtFotxyGe6Xdn2vwLhQKMRiOWLFmCAwcOIBaLsfHBbDZzvBEp4dlsFsPDwzCZTJwBmEodUSbp8fFxOJ1OpNNpzgJqsVg4wdD1118Pn8+HDz/8kL2gcrkcXq8Xy5Yt4/Jezc3NTE9ftmwZKy00HmeTmEhsBBKyIuiAJuMTfUdIlRYyK6qBQhDsdjsymQwOHjyIZDIJrVaL3t7e09pC8cVTU1MYGBiA3W6HTCbj0hiUaGp4eBjXX389ex+ptFd9fT1cLhduuOEGTE1NsXEok8nAarXCbrfzM5yYmMCePXswNjYGu93O+0k6ncbw8DAOHTqE9evXczy1OOO4uO1iED2eDFdCujwJcELPDpUfyWazXDPcaDTi+eefh8Ph4JJeGo2Gr0Mlw6p5ZSjDKO0/ZCQUl2sib4TRaEQ8Hkc4HEYul4NWq+XM97QHJhIJuN3uihIiarWaFXYyRmYyGTaG2Gw2fPrTn8ZPfvKTCsMKGYaEyvxiKNPlcpmZJ+VyuaJMlQQJ54pyuYwbb7wRa9euxYMPPoidO3di3759ePrpp/HHP/4RX/rSl9DY2Ijp6Wn81V/9FeRyOaLRKLZt24bnnnsOQ0ND+MY3voFHHnkEuVwONpsNGzduxNq1a7l+OtWiP9/KsJDdQkY3YtB8UtAeQqFkZMTduHEjwuEwduzYgf/6r//C888/j3Xr1qGnp4flkIUM+nSmjIyMIJVKsYIKnKpNT8xBk8kEpVLJSTfJ4AaAzzraS7PZLJeXk8lk0Ov1nAvl+9//PpYvX47GxkYuh0jMGlI0z5SVmc4ig8GA9vZ2rFmzBk8++SRnkV6+fDny+Tx27dqFLVu2QCaTYc2aNVizZg3LKuRxF8qH1A7qDxlTae8lph+VuTKbzcxMePrpp1m+K5VKXF4KAMu91fpULpcr5F2amxKuPUgK8QUEbcTxeJwXNZWZoWyvq1evxuDgIPx+P/7whz9wfO/09DR27tyJNWvWcDkjhUKBvXv3Qq/X48Ybb0ShUMDw8DA++ugjhMNhFItFpg2SlyMWi8Hv92Pfvn3IZrPo7OzE2NgYjh07BoVCgZtuugmNjY1snSS6TSqVwvDwMO644w4EAgEcO3YMH3zwAa677joUi0WMjY3h97//Pe666y50dHTAbDbD4XAwNVYIIZUpn88jFArhtddeQ1dXFzo7O2Gz2WC1WjkeWexpE9OBhBAqPaRwBAIBzMzMoLm5mYVmagNZV6emptgD5Ha7mY5Eh9709DQymQyXZDp58iQfABqNBslkEuFwGNlsloV88gzRPbLZLJxOJ6LRKOLxOEZHR9HU1MQeOqq/63A4+PCivi5kzRSDDphCoYBEIoFdu3Zx7Cg901qgA6SatZnGjGr81dfXIxQKcRZdYd1VoQWXknk4HA6YzWbOQkoHNoUI0IE+Pj7OMbvkFaT6hKQ8kbJPh2ipdKo28vDwMCKRCObm5jgWVNymauuy2lwiiD0KJpMJyWSSk9JVQy3PtNjbTHUqDx48iLq6OjYckCWcFG2iUxeLRaYhAuB1pNfrEQwGuXQGeV/HxsbQ1NQElUqFfD7P2b2p3i4phaTgl8unapZ3dHTA5/OxUadYLOLYsWOIxWLweDywWCyccZaEOKF3Y6G5CXysFB8+fJjj7ml+iY0L9D7FrNvtdjQ1NeE3v/kNbr75ZvT390Mul2PPnj1IJpOoq6vD+vXrkcvlKhTiWnOA7il8n2qpl0olaLVaWCwWuN1u/PrXv8batWvZaPHGG2/gyJEj7Cnu7u7G4cOH8eKLL6K9vR06nQ7FYhETExM4cOAAU8IbGxvhcDhw/PhxPPvss7jjjjugVquRSqXw8ssvo6enh0ufUMmlhcaWzhaqH11fX4+Ojo6qNbYlSDhbUA4LmUyGpUuXwuVyYfXq1cjlcpyP44UXXkAwGGQWFjGqaA3eeeed0Gg0nACJKNQXYo4SzZaMyiqVihk5wlJtn8RLTPeQyWSYm5vDsWPHMDY2hs985jPQaDTMBMvn82dliKX9OBQK4cUXX8TY2Bh6e3sRj8exY8cO+P1+bNiwgStlUK3yjo4O5PN5znZNdZIp1pmoxsQQcrlc+NSnPoUtW7YgkUjgpptugtFoxAcffMAGxnXr1rFMtRjadLlchsFgwLp16/DTn/4UFosFK1as4PwVw8PDCIfDiMfjuP3229HZ2Xna/iweD+H4FQqFCs+43W5HMpnkGu9Ulur48eN47rnncNttt8Fms6FQKODll19GQ0MD3G43Ojo62GgqDnWi8JtAIIBisYhly5adFzaBhCsPkkJ8AUFJtYTeEEoQQEJ+d3c32traEIlE8M4770ClUrEHc9euXejo6IDNZuNMe4FAADt27OD0+MePH+cU++QxaGtrg8/ng0ajQSgUwujoKKLRKHQ6HYxGI5LJJI4cOcJ1Sykrs91uh1KphMvlYqX56NGj8Pl8OHz4MGKxGDQaDZRKJbLZLPbu3YuWlhb2tJIwTfV2CURtJI92LpfDBx98gGg0ilQqBY/Hw1ZMi8VyGr1J6CEWe4qFXmfqQzgcRiaTgdvtZsFbiGKxiEgkwiVwKJsyPTOlUgmz2cyp/u12O/89OzsLq9XKXnK1Ws1ZiCnTsdD6aTAYYDabkcvlMDk5Ca/Xy7E2kUgEra2tAMAJlXQ6HY8x9VWclKsaqHxDOBzGH//4R2zevJn7tVBtwWpjK7wvHdgk2FBcOj1v4YFOAkMymURvby/HjQrrDgJgD18mk2Hq6fz8PHQ6HVQqFdNLzWYzrxOyzNM6ojZMTk4ilUohEAgwdZj6JSyVVes98VgIS4PRvZqbmzE8PIyRkRH4/X7o9fqKuOVqnmJ6T2j5JmWLyleRJ4AoXXQNokuTp5Fou8DH8WEUkjAyMoJcLsfzdnZ2lul1pVIJ0WgUJpOJ1yR5YKlvZB1vamrCxMQEEokEZwz3+/3MYqHnRcKmxWKpGLOFvCBkCHC5XBgcHMTSpUs5WZfQW0z9Ez5r2o9uvPFGfPTRRyxUazQa7Nq1C8ViEQ6HgxV0IaOEriNuG8WYVVtXNI4OhwMrVqzAzp07eW3L5XLs2LEDyWQSS5cuhVar5aQyr732Gvbu3Quz2QwAmJycxOTkJNxuN4eYdHV1IRQK4U9/+hM8Hg80Gg0SiQT+9Kc/cVwzULmn0ZgIIWSDHDlyBNFoFHq9nmson28aqoRrD0JDldPphMvlQql0qmyeRqPB9PQ05ubmsHv3bqRSKTQ3N3MiSiqrs3r1ahiNRma6EZsIWDhU51wg3E8AcBgOZdM/fvw4+vr6zvm+xOxSqVTspR0fH8euXbvQ0NAAh8OB+fl5aLVaWK1WKJVKVioXS0OmMkaUyyQajeL48eOoq6vDnXfeyfHXjY2NOHLkCA4cOACdTofx8XEEg0EUCgVmsgj3ZNo/GhoasH79ejzxxBM4ePAgs4jee+89yOVyLpu0WJBBVKvVYsWKFUgmk3C73WhrawMA2O12OBwO6PV6pNNp2Gw2uFwuAOAzUbwHk6xI+znt0zSGHo+HwxCHh4fR1dWFrq4ujI+PY+fOnXA4HHA6nZzVur+/vyJ/i/iZ0nk/NTWFgwcPIpvNYtmyZYseAwlXFySF+AKBNlCymhoMBhZiaHEWi0VotVrcd9996O7uxn/+539i586d7Oldv349rFYrK7//+I//iOeeew5vv/02XnvtNfYU6XQ6FsQaGxvxta99Dd/5znfw1ltvcTbIW265hRWUtrY2GAwGHDp0CG+//TbK5VM1+qh+4O2334433ngDv/zlL3Hs2DEWgsn61tjYCK/Xiy9+8Yt455138NJLL0Gr1aJYLOLee+/F+vXrKzzhADhejxITNTY2Yvfu3diyZQv0ej1UKhXWr1+Pz3/+8xUlfIBKqpJarebPy+UyH7gy2akSN0SpJM8rxZIQlZi+VyqV4HA4oNVqkUql+Hpk4fZ4PAgGg0in0zCbzejt7WUaL1EhdTod+vr62DMJgJUlOpDy+Tw8Hg/UajX279+PZDKJ+fl5zM7OAgCOHj0KuVzOClFnZydaWlqg0Wj4ABZmsa4110hon5qawrPPPovW1lZ0dHRUKFvVfkeHklKpZOWZ/m80GtkLXCqV0NnZCafTyUncSGCqr6+HVqtlrxYZNuRyObMFyHtOmafJI0elcGZnZzE2NsYZnB0OB5YvX87PX6FQsAeZIJfL0dLSgrm5OUxMTHCCJAAc90yGDjpoyZtfi36vVCrR0tLCynUul8PmzZuxZcsWvP766/jFL36B++67D42NjZzQSjhHSWBSKpUcH03tJgHJaDRi1apVnAyOvJU0v5VKJaLRKCtmlGmTxpvKdRmNRphMJsTjcU5WtX37duzbt48pt0ajEU6nk7OFU1ZwAnmchYLE7OwsFAoFEokEe8vHxsZQLBbZ80JJ8QCwQUiokNKY0Bro6+tDfX09vvvd70KlUmHdunXYvHkzrFZrhdEQAMezmUwmKBQKtLa24pFHHsEjjzyCt956C7/97W+h0Wig0Whw4403YtmyZRXhBvSvwWCAw+HgWp00zna7HRaLBXq9nvcZ2h9IqO7s7MTf/M3f4KGHHsJzzz2HJ554AjKZDF6vF5/97Gdx7733IpVK4frrr+fQgccffxylUglKpRJ6vR4ajQYej4fvc/fdd6OrqwtPPPEE/uVf/oXHs7e3lxPylEoljqmmpHPV1i1wSrHfsWMHAoEAHA4H7rnnHv5cUoglfBIIFTlihchkp0oQ1tXVoa+vD3/3d3+Hxx57jPebeDyO+++/HzfccANnoiYPn9Bwdr7bSAyY1tZWTsyn0WjQ3d2Nm2++GUNDQxgZGcGjjz7KYTmLzQBN9ymXy5x7gJKHRiIRHD16FD/84Q+hUqmg1+ths9lw++23Q6VSsRHtTNcmI8GKFSvw6U9/GvF4HK+++ioUCgXWrVuHG264ATfccANyuRyuu+466PV6fPe738UPf/hDjjG+5ZZb0NHRwTRhSiJI8mY2m4Xdbsfdd9+NQCCAnTt34t1334VKpYJarca6deuwYsWK0yp8LARhuFpfXx8+9alPoaOjAytWrOCcDs3NzbjzzjsRCoXQ1dXFDh+SEYQsMzrnW1tbudqGx+OBQqHg83j58uVYunQp9u/fjyeeeAKPPvoo9/3//b//h5/+9KfsdOrv7+fyW+QwEkIov4yOjuL9999HOp3m8n/Cdkm4NiArS9yACigUCnR0dOBv//Zvcffdd0OlUiGdTi/KSycEbXSpVIrr2NUScOi7iUSCE+eoVCq4XC4W6ElRoeLwPp+PN/d4PI6HH34Y//zP/4ybbrqJi6AnEgkUCgWO/QPAFr1cLodYLIbJyUnIZDIWyCheMhaLcd1YyhJrNptZMaXDjuhIyWQSLS0tMBqN3E9SMAEgFAqxYm0ymZDJZBAKhRCJRJBMJtHY2AiTycSKNQAWVGdnZzE0NITp6Wl0dXVxUhutVot4PM7eZ4LQI0j/J7o6UY4ymcxpgrj4eZCQrdFoUC6fShaVTqeRTCZZUaWETnQfuofQOkveU6Il5fN5ZLNZVqiEL6F3OBwOw+/3w+fzobW1FZ2dnTAajVUPWrpHLpfD9PQ07HY7H47VDgJSej/66CPMzs6iUCigra0NHo+H25/JZHi8xAcDPVui61KMLAD24NVaF0ShlsvlHBOUTqc5Xlin03GmcCF1mzKkC9tBNOxcLleRXIuSOCkUCqhUKqRSKYTDYczMzODo0aPYtGkTZ7omOhbNk0AgALPZzH2QyU6V5KEM5A0NDVAqldw2hUKBWCyG7du3Q61Ww2q1stGHkiyRQl4LZDwghYoMNPQ78TMUzilajyT4UOIqmUzG3hrav4R0NCF7QvhcSLmnUA/hOiajASVrSSaTGBsb41JSq1atqkk3K5VKmJmZgUwmY1ryyMgIszRIYE6lUkgkEiyA03hQ1n0yYFmtVuh0OjYYiseHqHoOh4OZG3K5nEuCUUy7TCZDNBpFJBLhbOBEG08kEpienkYoFGKjkMlk4s+F821qaorXNNHgyQNhNBp5HqdSKaay19XVweVycQybTHYqD4Rer4der4fBYKhp0JLL5UzzI6PGQmyQaqA5b7FYsG3bNrz11lv49a9/jR07dsDr9Z7Vta41COPAN2zYAI/Hg1WrVuGv//qvEYlEAJx/T+jlBLlcjkgkgnA4zAnxnE5nRTm8iwGZ7FQ8ayqV4vOT9rtUKsVsG6pmcC6Qy+VcEYAyWFOyRMo0T+EdVJliIWWKPtfpdJiYmMDhw4fx5JNP4vvf/z7a2to4wRQZG4UolUqYnZ1FOBxGXV0d5y+hvUav12N6epqzMtP5TSDjBVUiMJvNzEw712cmk8k40aNwL6NcDSQD0z4ci8U4ZwsZ2enMI7aXRqNBNBoFAE4SVi6fKuGZSqUQj8fR1NTE4Wp0xtO+S+c0fV7rWcjlcmZG0fl+JapFdL5YLBa8+eabXPf+6aefRn9/f8U5LqE6JA/xBQIpHVRGp9YBQZumSqXizLsA2NskTEH/yiuvoK+vD01NTejv74dGo8HY2Bh8Ph8Lh2Rxc7vdFTFxQoGflDyVSsUKBnmmcrkcxzaS55kUFPJ6Ca/hdrths9mQzWaZRkn3EfaZPgPAHsb6+npYLBZOmiNW3ug6KpWK6bqkNBCob0KQMioUWKh+H31XrFhVe3bCBA/CTN7kZSQlRHifWtel+wNgD6LQyyqk2NIYUXkfsqYutLHTZqdWq9HW1lahpItBz4Wy/CaTSaRSqYrC9UR/rza2wMeUOlKQhNdeSOggowi1izzHRK0uFAp8aNIzrEadEvaZDCfC/oq/XywWkUwm2UBExhAxNZ8UFOH4yeWnSvUYDAYuGyaepwqFAk6nk58ZWdppPYpB4yhckzQuYtp1rX1DLj9VG1woeFHMPM1JoVGBxkV4jVrPhZRRoWJO79OLhJ1MJsMGs1ogS3xjYyN7RMrlMhobGys8R6VSiTObCxkbpNzr9XpW0ukZklFEPDeMRiNnrRbuf0RBF84vmn80RvQ+1TR3uVwol09lmSZjhPA56HQ6NDc3c990Ol1FcizhPLZarSx80poVZlKlOsvCPawaSqUSJ1uj/0uQcKEhPLMoy38+n+fzkQxEF8uzRnsXMV+E+53RaOS4/k+CUqnErBQCyQItLS0oFAqc1Z5id8+2/zSGlFVaeG9hOT7aR202G8tu9D3qN9WsB07f50n2s1gsnOySPjtTMq1aKJfLHPIhbAd5d+k7tAdrtVo+u4RnjEwmY1o1cLrcKJOdCq2jkph0hsvlp6qA0L5LMjXtwQuBPNbUTmkfvXYhKcQXGGfaXEjooUVLgiBZvMjrVi6X8eyzz2LTpk245ZZbsHTpUpRKJYyMjOBPf/oTl+2grKf19fXsaRQmE6AX0Zio1AdlrSUaDAlvRLUkL57QU071+CgOkqya1fotjomja9HGRokTxL+lg4g2f6LiCOnUYggVcnEbxN7jM0GoUJGiQhTIaoK4+LrV7kPvievnUtvoXzognU4n7Hb7GS2dwusvxsJJGbULhQLi8fhpSqS4X6REV/vsbCBuG803EjBI2Rb3tdrYChXIal5UobJAypbNZuPMmouZJ8I+0yErnkdE05+enmbGgrB9YggPaeH3FvpNLYj7SOteOLaLgbBPQmODWNEUzlNiBtjtdq5zXG3u0VqhmGr6vXg8CUKDAf2e9gwaW2ExkEjbAAAgAElEQVQW9WqWb6FRS9h+4R5G/RHHqNP7xPggYxp50cXjTnshCZeUDVw4N0nQothwGqt0Ol0xznQGCMd6IVyJ3gwJVy5o3pKSJty3z1UZPB+otg5Ipql2PnxSkGGO+k85YoTnzmIg3CeI7SRMaiY+x2gfJaOakMUj3LtrGcOF+019fT1yuVzF5+cK8ZkGVCbOEhuZCdXO7VrPivoLgFk6wr1ayIaisL3FPA9JCZYASArxZQHhghVmYCQFiOqU3nXXXXjrrbfw/PPPY2BgADMzM8hkMtBqtfjv//5vttSSF0hIPRaD3qPNkDZk+pt+LyzlIaaNk0JBFsyFNh3xBkeCKlGTa21aJKx6vV40NzezIHymsiS1rnWuEG7mwr5+kgNkofbL5XIsWbKEx4UE8cX0YTFKM12LaqjS8yDjSa3D9EJAfNifzdgu5EWl98vlMkwmE3vThP2s9Ztq9wBQ1dpMa9TtdqO5uZmFAKGgUavdC933bCFctwvd50wQG2aqtYuYCyaTCZ2dncxiqWWNF65v4fVqKezVngHNUaGBYqH+iQUx4fvi94SClnD+1dXVVfSr2j3pe7QXAqcbAIXXpWsSxPvqxfSuSZBwLhCuA1ofZ6sIXgyIDWvnE9Rf4f6wWEoq/bZQKHBelz/7sz9jw7+YDSX+HYCK/Uq8t9ba+4DK/eZsYqkX06fFvr/Q8zjTsxIbe4X7qvC3ZxvmKEGCpBDXwKWyulcTtsjyeMcdd6Crqwt+vx+RSAQrV66E3W6H1+tlarZQ2DsbhWKhzxbznXPB2XiuSHEWvnepcLEOfbFCtdg+n037SMEnJf9SW0ov1NiSEiz8//m+/kIK4cXExZifNFeo34s11lS7zoX6/tkIaOfy/rl+70zfvZRKheRtlnC2uNyU4IuNT9J/ChFyOp3YsGED9Hr9opXU87GHXMnP7kpu+4XGuZ7H1zokhbgGLrfFViwWOWNpS0sLJicnYTAYYLfbOQmAuKbn+cDlMg5CRe1yadOFxsXos3jjvFrH9mL0s1pip6sd1+K6vJohPUMJEi4eiF1EsbYLMZckSFgMhOFXEs4OkkIsAgnOl9tkkslkSCaTUKvVaGlpQVdXF9Mys9ksf+dya/f5wtXar4Vwsfp8rYzthe7ntTKOQlyLfb5acTWfHxca4vh7CRIWAyEri7IjS5BwPiDNpbOHpBCLQPVfhbVpL5cDjuLU0uk0UqnUeYljlSBBggQJ1yaEybsSiQQnZBTGJErny5mhVCqRzWYrcm5cLnKDhMsbkhwn4XyB9pxUKoVIJFJRWlTaj84MSSEWgWrpHjp0CHffffdpZUsuByyU7EaChGsFkrAuQcIng9CzOTExgampKTQ2NnKCGmmN1YZwbHp6enDy5En4fD7OAiwstyXh2obQSHIthChJuLgQV1uYmZnB2NgYOjs7K8pqSVgYkkIswsDAALLZLPbv349gMAi1Wl0z49+lwuXUFgkSLhWIniitBwkSzh7C8izz8/M4efIkAoEABgYGuJ6sJEQtDtdddx2GhoYwPj6OiYkJWCyWmmXdJFy7kMISJFwoyGSnKsUEAgGMjY1hZmYGn/3sZ7nes4QzQ1aWRqoCu3fvxqFDh/C1r30NP/jBD7Bp0yasWLEC+Xy+ooC4hKsX1ZZELauuNBcuPMRjTxs/1cyWtrDzD2mfu7pB5eyoNMmTTz6JX/ziF5DJZPjZz36G7u5uKBSK02qGSvgYwn0nGo3i4YcfxrvvvotNmzbhscceg91ur6jXK+HaBFXJyOfz0Gg0UCgUbIii80taZxLOFeVymeeUTCbDP/3TP+HNN99EPB7HW2+9BYvFwgZOaY4tDMlDLMLSpUthNBrx8MMP47nnnsOuXbtw880347bbboNOp2MhQcLVCVK2hMqAuI4oZfOWcOEhzJgol8uRz+eRyWSQTCaRTqdhs9mg0WhOq0EooTqqUfeq1fwlgU3C1QmZTIZ4PI6RkRHs378fTz/9NNasWYMNGzagvb2dBSdJgKoNYqiUy2UYDAY8+OCD8Hg8eOqpp5BMJrF69WoMDAzA5XJd6qZKuIioRoseGhrCvn37AABOpxNWqxU2mw0NDQ1QqVRQKBQoFouXvOyhhCsTkUgEo6OjeP/99/HKK6/gpptuwubNm2G1WqW9/CwgKcQi6HQ6uN1u3HnnnZiZmUEkEsHOnTsRDAah0WgkQfEqR11dHZRKJbRabYUnUvjMyeqfy+WQTCYlb9p5hkKhQF1dHeRyOZRKJf9NHuFMJoNUKoVEIsEWd0AqAbQY0FyVy+XsHRT+n8a5VCohmUxyXWVpPK8ekIEplUohGAxiZmYGy5Ytw/r167F27VqOOZOwONB49vb2Ip/PY3R0FIFAAO+99x6Gh4dhtVovdRMlnEdUk/9oDlR7lctlTE9PY3R0FHK5HCaTCQaDAUajEQ6Hg0PycrkcCoUCCoXCZVHPXsKVATJuzs/PY3JyEqtXr8b69euxZs0alo0kLA4SZVoEKooul8vx7rvv4o033sAbb7yBsbGxyy7rtITzj/r6euh0OthstgqlTKhsyeVypNNpxGIxzMzMSHXfzjN0Oh3q6+u5NiP9TSUqisUiCoUCkskk4vE4crkcisVihRAhZe6sjlwuB7lcDoVCwfkR6urqUF9fD6VSCaVSCblcjlwuh9nZWeRyOQDSeF5NoGcol8thNpvh8Xjw2GOPYenSpXA6nVwbVcLiQbHC6XQafr8fP/7xj7F//36MjY3x5xKubAgZNWIPMBkS5XI56uvrmWVGRlzab5VKJdOk5XI5dDodK8H5fB7ZbBaZTAaZTOZSdVPCFQZy2FgsFvT29uKRRx5BR0cHGhoaUCqVJM/wWUBSiGtAOJFKpRKmp6cRiUSQy+UkofAqhfCgCwaD2LZtG3bt2oVAIAC9Xs8bTyKRwE033YQbb7wRGzZsQKlU4gON4sWEFmIJiwcZF0KhEIaHh/Hzn/+c62xrNBqUy2VWfPv7+3HzzTejvb0ddrsdBoOBr5HL5VhRFnuOrzXlTpgt+MMPP8Tu3buxZ88eFAoFNj7Q55lMBhqNBrfffjs+97nPwWq18vwmz0WhUKhIFiSe59fKuF7JKJfLsNlsMJlMMJlM/B4gPb9zhTgWNJfLIZ1OIxgMSkb0KwC1wkhkMhkbDuvq6qBQKNhAK5PJUCgUkE6n2UA7MTGBQCCAQCCAiYkJTExMIB6PI51OQ6VSsRyRz+eRSCTQ0NCAzs5O3HPPPWhqaoJKpZJYZxIWDZlMBqPRCJ1OB61WC+D0vUjC4iApxDUgLjmRTqc5sZaEqxPCpZDNZjE6OorBwUG89NJLCAQCKJfLUCqVyGQy8Hq9aG1txbJly7BkyRK4XC5YrVZJMThPyGaziMfj2L59O/bt24cTJ05gdnYWSqWSBRSv1wu73Q6j0QiDwYDm5mbY7XbY7XY4nU7o9fqqscXX4nMRGhrGxsZw7NgxvPnmmwgEAshkMlAoFKivr0cul4NCoUB3dzfWrFkDj8cDq9UKr9cLvV4PlUpVdQ+8Fsf0SodSqUR9fX2FQQSQnuUngdiLWCqVkM1mJYX4CkK180Imk3GYFNFTo9EoYrEYgsEgotEo57VIp9N8DYVCAZ1Oh2KxiEQigZ07dzIDQ6PRYNWqVVi6dCl6enrQ0dEBnU4nKTESzgoymQz19fUVSRKFn0lYPCSCeQ0IE2bIZDJoNBpoNJpL3SwJFxEGgwF2ux2BQAC7du1CKBRCLpeDyWSC0WgEAIyMjEAmkyEajcLpdMJoNLK1TqfTnbZBSYLR4uF0OlFfX89junfvXkQiEc6q2N7ejmKxiHw+j2AwiHw+j/n5eczNzSEcDsNqtTJNTa/XQ6PRQK1WcxKTarjan4/ZbEZDQwOampqQyWRw6NAhTE5OIh6PM7uBYtomJyeRTCZhMpkQj8dhNpuh1WpRX18PrVYLlUoFtVoNjUbDsd61DuCrfVyvRNAZJ35PwrlDOKYUly/F8V1aLGZOk8eWXplMBtlsFrlcjhVhyl0RjUYRCoWQSCSQSCQqwnZkMhm0Wi00Gg10Oh3MZjNcLhdKpRLC4TB27NgBg8EAm82G5uZmbNy4EX19fWhpaZHmiYRzhrSXnx9IHuJFQvIMX1sQ0k2y2SyefvppvP3229izZw9uueUWzuC3Z88e7N69G8lkEnK5HH19fVizZg36+vrQ09PDNF6CsEyQOJu1hEpQaZhyuYzZ2Vm89tpr+PWvf41IJAKTyYRf/epXyOfzCIVCGBkZwb59+zA5OYlAIIBIJAKVSsUK4MDAANrb29HY2IjGxkYYjcbTxp48OlczxVqYVAsAduzYgR07dmDr1q2YnZ2FSqWC2+3G5z//eQQCAczOzmJ6ehrz8/OQyWRQqVSwWq3o6upCY2Mjmpqa0NnZCafTCa1WW1Woo9wLV/O4XomQxv/CQ8o5cvFAY10rvneh35VKJYRCIX75fD6mPgeDQczOziKbzaJYLKKurg5GoxEWiwU2mw2tra1wu91wOBxwOp1wuVxsiCXE43FMTk7igQcewNq1a7FmzRps2rQJdrud20YKtQQJZwtpLz8/kBRiCRJqQMgQSCaT2L9/P7Zv3w6Hw4FbbrkFzc3NbDmemprC2NgY9u7di7GxMaTTachkMixfvhy9vb3o7u5Gb28v6uvrKzYvYW1raVM7HRSrWiwWkclkcPToUZw4cQLT09N46KGH+DuFQoGt9LlcDvPz8/D7/ZienuYMn+QFraurg9vthsvlgsfjQU9PDxobG2E2m6HX66vWnKbnJHzvSo0RF87rXC6HWCyG2dlZPPXUU/D7/TAYDHj88cc5UVmxWEQkEkEwGMTc3BwmJycxOjqKcDiMRCKBTCYDtVoNg8EAs9mMnp4eeDweHl+73b4gdf1qGlsJEiScX4grPFSrS1+tTCJ9XiqVkM/nEY1GMTc3h1AohGAwCJ/Ph1AohEgkgmg0ylRnSnZlMplgNpthsVjQ3NwMs9kMs9kMm83GCQkpQaEwxlho6CYjYD6fRzqdxokTJ+D1emGxWDibu5RvRIKEywOSQixBQg2Il0YgEMD4+DjUajWamppgNptZsYjFYpifn8f4+DhmZmbY0pxIJLiMk9PphMfjgcPhgMPhgMfjOeNBeK0fkuJnEA6HOWZr1apVp32PqEPpdBrhcBjRaBSRSASBQADxeByJRAKxWAzJZJKFFVLm6GW321n4sVgsMJlMVZ9DNZoSvX+5g+ZtuVxGoVBANpvFnj17MDk5CZlMhvvvvx/Ax33JZrNMEaTxTCaTSCaTiEQiSCQSTDEETmVrV6lU0Ol0sFgsHELQ0NAAs9kMg8HASUDOdARVU5YlSJBwdUCs8BLE673WPkF050wmg1gshng8jmQyiUQigWg0ikwmg3Q6jUQigXQ6zQkXaf+nUosUFqfRaKDX63l/0ul0sFqtFVRoCoWq1t5qIMNiKpXiRIZCSHuaBAmXHpJCLEHCGVDt0BPSs8RxwsViEaFQCOPj49i2bRt8Ph+CwSByuRxaW1vR3t6Ozs5OLFu2jOMv6SX03kkKQCXIWywWkIReg4Vo6JSoa2ZmBkeOHMHk5CSmpqYwPT2NTCYDuVzOxg6PxwO3243m5mZ4vV6OkaUSUOQNELbhSnxmJBQSbW9+fh6pVAoul6vCc1GrP8ViEeFwmMdxenoax44dQyQS4cyqFMNtNpvR1tYGj8eDhoYG2O12Lm9GsZZUskQocAoV4ittfCVIkLAwFipnJPS00ouy3VMJvnw+j2QyyWUQ5+bmMD8/j1AohEAggFQqxXRnUnx1Oh28Xi9sNhvsdjszhoxGI/R6fQXduVabq7VX3O6Ffit5hSVIuLwgKcQSJCwStVLZi8s1iJWyQqGAcDiMwcFBvPPOOxgeHsbk5CTq6urQ19eHvr4+XH/99Vi5ciUUCkXF9Sm+SaJVnYK4HnQtiJ9JrfGjMk6kHPt8PuzduxdTU1Ps4dfpdCw09ff3o7OzkynBRHurdn9q65Xw7M5UcqdaSZKFjA+lUgmZTAZzc3MYHh6G3++H3+/HiRMnMD8/j0wmg2KxCIvFwsyJrq4ujke22WzQ6XQ12yukWZ+pLRIkSLg0qKXsAh/v32dat/l8HuFwmBMmjo6OYnZ2FoFAADMzM7yfFAoFqFQqGI1GmEwmOBwOtLe3o6GhgRMJUqLFMyWw+iQK70IQG3UlSJBw+UBSiCVIOAssVB+w2lKi96jsQjgcRjweRzQaxYkTJ+D3+xEOh5FMJrm8TVNTE5YtW4aWlpYKS7Uw8zn9/1o8WBd6BtW+u9D7QkpwNptFJpNBPB5HNptFKpVCOBzG5OQk5ufnEQ6HEQ6HObGKWq2G0+nkZCrNzc3weDycgXkhZoH4/cvlOS5GMSZU89QL36fYPfLQUJZWoi+SZzkSiSAWiyGRSKBYLEKhUECpVMJut7Mn2eVyobGxESaTqWppEnEMoUSzliDhwkO89oWoxuYRf05eXmF4CyWxisVi/Eqn05yQUqlUcnZ7k8kEi8XC4S42m62inJiQgaVSqZiBslCb6N8LEQ5zNmeXBAkSLi4khViChPMMcUwUCQZC5TiXy2FkZAQnT57E1NQUZmZmEA6HOe7S4/FwIg+j0Qi32w29Xg+FQlFxqAqvKx20Z0Y15a2a8COTyVAoFBCPxzE1NYVgMIhgMIipqSlEo1FW8oBTMcgUK+twOGAwGKDX67k+MsWhUdm2xTyvS/Usz2Uu1VKIFxrXdDrNmVdDoRDm5+c5Npzi/MrlMlQqFcf02e12Fnx1Oh2PrVarhcFggEqlYhp7LYW4VmIvCRIkVEctEVG8vqutLWLgkIExk8kgk8kgmUxyaaNsNstGYeErn8+jWCwCOFXPl/YCojWTAmyz2XjPNZlMNZlDtQx44s/Ff0uQIOHagKQQS5BwgSGmjclksopDmzJQvv/++zh06BCOHTuGoaEhaDQaNDU1oaenB5s2bUJbWxtMJtNp16dyDdeqx/iT4mzpwPF4HPPz85iamsLevXvh8/k4hrZYLEKr1cJisaCvrw8dHR1oampCS0sLPB5PTWFNnGn5Sn+WtaiSZ6I2JxIJjv07cuQIRkdHMT09jZmZGUSjUfbMu1wudHR0cBmtnp4eWK3WBWvFi2ns9O+VPM4SJFxIVNsbgcXvUcQQmZ+fx8TEBGZnZzE7Owufz4fZ2VlEo1EkEgnk83nU19dDrVbDYrHA6/Uy86atrQ0NDQ2wWCwwm82n5eyo1eZaFG1qvwQJEiQIISnE1wAobgW4fA6Cy5E6dLE8rXQfcWwwKUX5fB6xWAx79+7F0aNHcfToUQwNDUGn08HpdGLp0qXYuHEjGhsbYbfbT7u+pCCfPwiVKACnxXfTi+jBY2NjmJiYgM/nw+DgIKanpxGLxZDNZmEymThetre3Fz09PXC5XFyWqNq9AVxRsciLwULKshDUb/peMBhEIBDA9PQ0hoaGMDIygmAwiHA4jHQ6zdnCXS4Xent70djYCI/Hg5aWFhiNxtMyuwrbU8urfKWPtQQJC2Eh5XExcz+TySAajXL4A9XunZubw8TEBJdlKxaLzKQxmUzwer1cu9fhcKCpqQkGgwEajYb3wmpJ9ITnJKHadyRIkCDhbCEpxNcArmRKbbWD72pArXhjopnl83nOljk/P4/JyUkEAgEucaNUKmGxWGC329Ha2oq2tjbYbDYYjcbTri2mWEs4O4jnYDVKPL1HsbDk6aTyHxQbl06nWUCkclx6vR4NDQ2w2WywWq2cBIYyWwtRLRb5SqT61YrPq0bBJMGYYpBTqVRF7dB0Oo1gMIh4PI5UKsV0S+BUSRWdTsf0daPRyDWnTSYTTCZTzYyy4ph9YVskSLjcUYvOLN4vFhIBc7kc72eJRALBYLBij4vH40x9pjAHyhKv1Wo51pfozCqVirPOUxgJ7YGUwX+h9i4EaV2eO6R97uqB0IAPLJx8VEIlJIX4KkepVEI2m4VSqTwvmVjPl2eXvJhnWqxCmvHF8txeioOgWrIs4dKMxWIYHh7GyMgIjh8/jtHRUZRKJSiVSrS0tKC7u5trHBuNRmg0Gk4iUu260mF37liIQih8n/6fyWQQDodx8uRJpv9OTEwgHA6z4mYymbgMESWQIoGRhEpKDqNQKE479Ko9zyvxGdeK76uW2V2osJJXKhAIYHJyEj6fj+mY6XQadXV1LJg3NTVVGB+ozAol61GpVFwCqlqcoTiBF70vQcKlwmKS3QkhXDv5fL7ilc1mUSgUOJRnfn4esVgM0WgUc3NzvK5SqRRyuRxkMhkUCgUbnkwmE8xmMxobG2G1WmE2m2G1Wjm+V3y21UqIJ25vtb8lnB+ImVCLkc0kXJ6guHvg6mGVXSxICvFVjkwmg9HRUXi9Xmi1Wk7KJFQyFyplI7YyC38nXmS1qNnVFLB4PM7ZID/pxis8RGuVRBIrmWTJFradxkFI2bpUEMc7ivsVDAZx/PhxDA4OYseOHZiYmEBdXR3MZjM2bNiAZcuWoaOjAx6P57TrihVkCecH4ni7Mx1G8/PzmJ2dxeTkJPbt28dxdcFgEOVyGUajEXa7HT09Pejr6+Ms1g0NDTXbcDUfhmc7voVCAdlsFhMTExgdHYXf74fP58Px48fZsyWTyWC325nKvmTJEjQ3N8PhcLCXvhautrhvCVcWqsX30vxbzJmay+WQSqUwOzuLmZkZDkcYHR3F/Pw8otEo4vE4SqUSFAoFNBoNZ9VvaGiAx+NBW1sbrFYrLBYLrFbrotu8kDdSWkMSJEi4FJAU4qsMdNjI5XIkk0kcPnwYf/7nf46//Mu/xLp167B8+fKqlE+hxXixCuq51NQrFovIZDK47777cOutt+L2229HX19fxbVIEUwkEhgbG8MzzzyDDRs24Pbbb6+oH1itrWfTJvJS53I5PPnkk5iYmEBHRwf+4i/+4rKrFygWIkqlEnK5HLLZLJLJJMdsjY6O4uDBg+wVa2howKpVq9DR0YHW1lY4HI6a172c+nulQ2gEqub1oHlOnphMJsPemVQqBb/fz7U2/X4/otEoCoUCADCl2ul0orW1Fe3t7bBarTAajRXXF7ZloZi7KxFiqvpCXrBqHrBUKoVEIoFAIACfz4dgMMjhCfl8HjKZ7LSyWi0tLfB6vTCbzTAYDAu2r5oH/0oebwkXHwt5S8VzqRpTIZ1OI5lMIhqNcjZ3SlhH4RyZTAa5XI5LnWm1WjgcDg4ncDgcsNls0Ov1bFAXviisg1619jrx/4XrVpzoTvzdy9FTuZARvtp3CRdyDzgXNl25fCoL+IkTJ/DBBx9gdHQUjY2N6O7uxqc+9amqZwe9Jw7nIWPsQs9sIXlDaCwRGhjPZqzPBsL7LcSeFMesE8RG0E8qSwnbs5jEcfQvjQnlMfnVr36F+fl5AMDAwABuvPFGmEwmiRm4CCxcnVzCFQ0qZ3D8+HGcPHkSvb29/D55R4xGIxKJBIBTm41Wq61YOKlUihccWZTp4FSpVAA+Fk7J66tQKHhBFwoFFAoFKJVKyGQy5PN5xONxHDhwAM3NzbjuuuvQ19dXsZHQ9bLZLKamprBjxw40NTVh3bp1FTGy1MZkMolcLge5XA69Xl+x6OPxOGQyGXQ6HQCwEpJMJrmMUbFYxODgIIaHhys29csNwrEhCqhGo4HFYoHFYoHNZoPT6YTVauUSNslkEoODg/D7/UxjczqdTM/V6XRVKaB0Pwnnhmoej2o0YKLq0vwsl8soFAowm81oampCOBxGW1sbIpEI4vE4x8kSZXF6ehpHjx7lGFmz2QyLxQKj0Qij0Qiz2VxBU6wlSFdr9+UMoVIvVo7Fn9MYC0HeY5fLBZfLxTHJ4XAYsViMS8TkcjnMzs5ifn4eY2NjFSVfaIwpPpLikYVGu1prq1pfJFxbWMx8qBWGAXx8jpPiS/M2nU7zHiH8mwxCxWKRwweI6kzhGRqNBlarlee4yWSC0Wjk2N/FtrlWKEE1Y9xCSs7lujZq7em1vnux/E5nowgTyHHyu9/9DnNzc1i6dCkUCgUrxOJr17rHYgytixkLsaJ5NmN9NjibubXY736S+Xq27RGf5yQ77NmzBz6fD9lsFiMjI+js7KwwlkuoDUkhvopBCmyxWEQgEEA0GkW5XEYsFsP09DRkMhna29vh9/s5yU9TUxNUKhUL0bOzs6irq0OpVEIsFkMgEGDLsdvtRl1dHS9Ov9/PgqFer0e5XOaEQg6HAwqFAslkkuMnZ2ZmMDk5iXQ6zUo0WciKxSLi8TjGx8c5ZjYQCECj0VQI+MlkkjP5UjytVquFUqlEsVjE1NQUAMDr9UKj0XD9U5/Ph6VLl6JcLiMej8Pv92N8fBwOhwPRaBQ6nY4P6svhUK52OAitmyTUNDc344YbbkAoFMLk5CQOHDiA999/H0ePHkUymYTD4cDy5cvR09OD3t5eeDwetu4TnZ6ufz5iziWcQi2vTjWrslKphMfjqaC703qYm5vD4cOHudTTyMgIotEo5HI5VCoVvF4v2tvbuRxRe3s7x8TScyYLvvj+l6MnZjGoJYgJ57JQmJLL5RwjrNfr4fV6K34Xi8WYzj44OIipqSkuF5NKpfgZeb1ezpZLpbWoNrJcLj/tJW6LRBO9dlFrbornMnmnKKSH/qZznFgNs7OzmJiY4JreoVAI6XSaWVAU22uxWHi+klFUWON+Me2uRncWeyYXM5+pL8VisaqyQ+vmTN6yS4Fq1O/LAWfjBaQzPhaLYXBwEK+++iqUSiU0Gg36+vr4O/ScstksgI/3T3KIECienGSJWvfM5/Mol8vMMhB/RhT9urq6qufU+QLJmYVC4bS+CFEoFFAsFiuYDEKZia5VLpeRSqX4s4XCbWq1h9b5YnPrEGgNFotFrnBBpQu/+tWvorW1lcdSOmtqQ6JMX2UQKkmzs7PYuXMn7r77bnzuc5/DPffcg3vvvRdPPPEEnnnmGfh8PvT39+P9999HLqVWmFYAACAASURBVJeD2WzGl7/8ZTz00EPo6OhAuVzGunXrmE4YCoUAAPX19XA6nfjhD3+IjRs3wmQyIRKJYNmyZbj11ltx55134sEHH0QgEMDPfvYz/M///A9+9KMfweVy4cMPP8Tf//3fczttNhvuu+8+PPTQQ/B4PKyYb926FX/84x/x/PPPIxwOo76+Hl6vF9/73vdw6623QqFQYGJiAg888AD8fj/C4TAA4Itf/CLuv/9+3HXXXZibm8P999+PQCCAL3zhC3jsscfwwgsv4Le//S1efvll7Nq1C6Ojo3jqqafwzjvvcN+0Wi1+97vfoaenBw6HY1Eb1KXGmeg/VDd3+/bt2Lt3L6amphCNRtHe3o7+/n709/dj1apVp5UAWiytSML5QzVFeaH5R7F/fr8fBw4cwOjoKILBICKRCBQKBaxWKxwOB7q6urBkyRI0NjbC5XLBYrHUvL84wcrVRvmtpZAsJHyXy2VWjKempnDw4EH4/X7OBp/P56HRaGA0GtHa2lpRJ7mtrQ1qtfqsSj9dDdT2axHC+VRNcF1sfG8ikcD09DQCgQBT+ycnJzm+NxaLAQB7eamEW0NDA9ra2uDxeDi+t9ZaF7e7lsJLf39SCOd3OBzG+Pg4BgcHkUqlWPGgNjQ1NaGrqwv9/f0VSjONodg7Ruc0/V481uJrCPsn7hsZHapdBzhFR5+ZmUEoFMLKlStr7o/lchm5XA6FQgGlUqmCkSU2bgvDtMQGNFISxe0TGiSCwSBSqRS0Wi0sFgsbP2u1i870kydP4uc//zn+/d//Hd/85jfxla98BQMDAygUCqivr8fQ0BA++ugj/OQnP0EqlUJ7eztuvvlmfPvb366YLz/60Y+g1+vR29uLW2+9ldl25OiQyWSYm5vDSy+9hPn5eaxevRq33XYbG23Gx8fx1ltvYWhoCDfddBNWr14Nt9tdYfhZuXIl90FsNBKOR7U1JjQokSHg+PHjePfdd/GNb3wDOp3utESK+XweL774IstM2WwWHo8H3d3dWLJkCdavXw+5XI5sNotIJIIHH3wQ/f39WLNmDe65556KZyrO7yFUTuVyOaLRKIaGhuDz+fCFL3yh4rnRGBJCoRAymQwKhQKam5v5mvSbJ554Ak899RRGRkbw+uuvY9WqVZJCvAhIHuKrGMLNkjZl4NRmXigU2NPx1a9+FT6fDz6fD6+//jo2bdrECX1mZ2cRj8dhNpvxpS99CR6PB0ePHsWhQ4fw+OOPw+l0clxyOp1GLBZDPB4HAI5vpRim1tZW9PT04DOf+Qy2bt0Kt9uNJUuWYMWKFdBoNADAi9ZqtbIwGQ6HYbPZ0NXVBZfLBblcjr179+J///d/IZfLcffdd8PtdiMUCmHbtm3YunUrdDodNmzYgPb2dszMzOCll17CwMAA/vCHP+DIkSNYu3YtzGYznE4nlixZgo8++giZTAY2mw0rV66E1Wplq+GVsIGID3ixcK3X69Hc3IzNmzdj7dq1mJ+fRyAQwIkTJxAIBPDGG29g27ZtPObNzc3o6+uDVqutOFhrCe0Szh+qCaBiIZsgl8u5nInT6URXVxeXHkokEpiamkIkEkEsFsP4+DhOnjyJuro6qFQq2O12OBwO2O12uN1uNDY2wmAwQK1WnyZQVHv24vZeSVio/dXGmua62WyGRqOBy+VCR0cHl9FKp9OcgZeo18eOHcPg4CAAQKvVMgXVbrejqampIhlRNeFVLDCfqd0SLh6EBhUhqu2J1Z4TzZlIJIJQKIRIJIJIJIK5uTkOh6C5RUIsldrzeDzQarWw2+3Q6XTQarXQ6XRQq9VQKpVQqVRc8kgYLlDNyyY+N6q193zOM2pDXV0d9u7di7fffhtbt25lD5ywfd3d3bjhhhuwdOnSqgqOULgXK8nV2lzLEFFtn622FslIKJfL4ff78eqrr2L79u149tlnmblW7bvbtm3DiRMnEAwG8eijj57WB/pNNWMctUFspK7Wvtdeew0ffvghenp68OUvfxlmsxmlUumMHnYat1KphPr6+op7+v1+/P73v8eWLVvg8/mg0+kwODiIY8eOQaVSsYyVyWSwdetW6PV6xGIx3HbbbRXJSUkxzGQyOHHiBGKxGNrb21kpP3DgAN555x0888wzkMvlXEHD4/Hg0KFD2LFjB3bt2oWXX375jM9KOEbVxoxek5OT2LVrF375y1/ii1/8Ijwez2lVOQqFArZt24b9+/cjFApBrVbjyJEj2LFjBxoaGrBnzx585StfgcFgQCKRwIEDB2AwGNDT03NaG6udqUKMjo7itddew44dO7B69WrY7Xao1eqKPtDaeeONN3D8+HFEIhH8x3/8R8XnQlZStXNDQm1ICvFVDOFGIbT+0sGj1+sxMDCAT33qUxgaGsKePXvw/PPPY3x8HN3d3bDb7UgkEpDL5WhsbORNo6WlBUqlEr/61a8wNDQEr9cLq9WKYrGIXC6HXC4H4JRFlpLYxONxqFQqtLS0YOPGjXjzzTfh8Xhw3XXXob+/H2q1mttbKpXgcDjQ0dGB7u5uDA4OoqWlBWvXroXX60UikcCxY8ewbds29PX1oa2tDR0dHQgEAnjxxRdx8OBBOJ1OfPazn8WKFSswMzODt99+G//3f/+Hw4cPo1QqYfPmzTCZTJDJZFi9ejW2bt2KYDAIt9uNzZs3w2q1njXl5VJjoU2vvr4e9fX1MBgMkMlkSKVSCIfD0Ov1mJiYwMzMDObm5jjD6NTUFObn52Gz2ZgGLxTcCbUELAmfDAspaWJQfJ/RaITT6eSDPJPJYGJigssRTU1NsReBhO5QKASDwYDx8XF4PB4Od6DaoBRXSDHOtSD2Kl0pONu2Ulkmo9HICeqIqkZMmmAwyOMei8WQTCYRj8e5juvMzAymp6d5XTU0NLACo1arOWaTXgtBWn8XDtXW3GLHN5/P81lIii0lQaSkbslkkmPXaT1SrC95sWhOaLVamM1m2O12njcul4vXqFqt/kTtPdfvny3ESpxCoYBarUYsFsPExARSqRRnsNZqtcyoSCaTXHOc9idhDpNMJoNMJgOTycRUccqMTd45Kh9FHnXyuCoUCg7xAk55ElOpFIeYKZVKXuuUuGhsbAz79+/He++9h5mZGbhcLmi12oo+kqx1+PBh7N69GxMTE/iHf/gHrqxB96NY8FgsBpVKBZ1OB71eDwCccDEajcLlcnH4WjQaRT6fh0ql4j4fPXoUO3bsQCKRwOc//3no9fpF0c3FOSaERoWhoSHs3bsXR44cwc033wyn04lQKIRjx47hvffew9KlS9He3s5jYjKZ0NHRwXIf5TohUFhbKpWC3W7nMTp+/Dg+/PBDHDx4EF/4whdgt9uhVCqRzWYxPDyMDz/8ENu3b0coFOIyeYRMJsN7rNBARKBxzuVySCaTSKVSUCgUmJmZwfj4OI4cOcIMBeFvaEwSiQRmZ2dRLBZx3XXXoVwuY2JiAsPDw4jH49i4cSM6OjqgUqmwevVqLFmypCLciWRaSoxZV1cHtVqNcDgMlUoFtVoNvV6PYDCIoaEh7Nu3D4FAAHK5nMfOYrHwWBUKBRw5cgQffPABQqEQUqkUhzmKWR4SAfjsICnEVzGEVilh/CDVJG5ubsbXvvY1tLe3Y8mSJbDb7XjhhRdYcO7p6UEul0NTUxMGBgZwxx13AACamprQ0dGBZ555BidOnEB7ezu8Xm9V+pHQs6hWq+H1enHnnXfie9/7Htra2rB27VoMDAwwnUQulzMNRC6XY3p6Gq+88gpWrVqFBx54AF6vF++99x57Nu+44w4kk0mMjo4im81CJpNhbGwM27dvh0wmw9133w2lUolDhw7hN7/5DRoaGrBmzRp861vfgslk4nIrL7zwAorFIrq6uvD1r38dQGXWxisN4ucg3ChlMhk0Gg20Wi3HT6ZSKYyOjmL79u04evQo9u7di9/+9rdoaWlBZ2cnrr/+eqxbtw4Gg6FCSBdfl+4t4fziTB5NsRexrq6O6WuUTA84JWDNz89jZmYGBw8exPDwMNdHTiaTrJC1tLRwqafm5mZ0dHRwTJcYYor1lU6trzXW1WjWtM7q6+vhdrvhdrsrrkW1XEdGRuDz+TAxMYGTJ0/i6NGjiMfjyGazqK+v56zhXq8Xy5cvh9vthsPhgMPhWJCJIaa2V/tbwuJxJroz/bvQXkdCNBlHiOpM1OdAIMAsLblczvG9VqsVra2tXFqNziaNRlOTai++r7i91TxjlxLCNqxduxbd3d244447sH//fjz77LMYHh7Gxo0bce+996K1tRUNDQ3szfP5fPD7/eju7kZHRwfcbjcbo6jKwqpVqzA9PY10Os05NRQKBTKZDPbu3YtDhw7BYDBwoqFy+VR5u97eXjZClEoljI+PY//+/cjn83A4HNi8eTMr1tFolHMLFAoFHDhwgI1XQmpruXwqyZHP58PJkyfZyGyxWKBWq9l7G4lE4Pf7sX//fng8HrS3t3MMbzKZxOTkJD766CPcdddd0Ov1KBQKGBwcZCV55cqVCAQCCIfDiEajCAQCCAaDi8qGL3wuwMe0cvr/7t274ff7Ybfb8fjjj6OxsRGDg4PYsmULdu3ahVQqxb+nPBZarZaVSI1Gg5aWFlbMXS4Xvv3tb/P4UNWR48ePY2RkBEqlEv/6r/8Kt9sNhUKBQCCA0dFRzMzMIJ1OY3BwEN3d3Twv5HI55ubmcPLkSRw8eBBdXV3o7OxEd3c334PaF4lEMDQ0hNHRURgMBkSjUY75FUPojV26dCkOHz4Mr9eLH/3oR3A4HHj55Zfxu9/9Dq+88gqOHj3KFR+2bNkChULByildO5fLsWecwht2794Nl8sFr9eL7u7uCqU8EAggmUyyAeSmm25ixTocDnOYDuUDcjqdFXR8is0X9uVSr/0rAZJCfBWj1sFN1qRCoYB4PF5RkkScuIOo1cL4FYpRodJOqVSqwvtMm6rYEkrU7UgkAgBMsaYyJ8I2kiWW6NdEL3M6nQiHw4jH45DL5di9ezdvjAqFgrNWr1ixAuVyGU6nE01NTXA6nZiamoJer0dDQwOsVisnMCDPNrWbYlqupg2kmoJMz5gskb29vejo6OAMvMeOHcOBAwdw8uRJ/OIXv8BPf/pTuN1utLa24sYbb8Ty5cthNptPU5DF43c1jePliFpzVWwppnXc0NAAm82G3t5eFItFpiv6/X5MT09jamoKJ0+exHvvvYfXX38dmUwGGo0GDQ0NcLlcaG1tRV9fH1wuF2w2G9PqxfcGPlbYqikTVxrOpASJrfK0JxkMBvT392PJkiU81sViEalUCrFYDD6fD2NjY5iZmcHY2Bh27tzJgpFGo4HH44HL5eLYNbfbzcLuQsLc1R4Hfi44k8K7GGW3UCiwUBoKhTA3N4exsTGEQiGEw2GEw2E+E2UyGQwGAywWC8xmM/r7+9Ha2sp0ebvdDo1Gw8amai9SbBcq5VWNknm5Q6VSwe12s3d169at8Pl86OrqwsqVK2Gz2ZBMJvHoo4/ipZf+P3tvHh1XdSf4f1T7plJpKe27tViWLcuW9wXjFRuDAYeE5hDSoYFzwkzSOelJhwaS7tDdp6dnpjvdySQn6XQgQ2AgISRkiIMBOzZgMHhfZVu2bO1bqUpVqpKqVPvvD3735qlckhc227zPOTqSannvvvvuve9+95fp6OiQQuSaNWvYuHEjDz/8MOfPn+fZZ5/lxz/+MVVVVQwNDaHX65k5cyYvvPAC77zzDr/73e/49a9/LfczwjhQUVHBunXr+Jd/+Re0Wi3vv/8+r7/+Ot///vcnxXzedNNNPPLIIzQ2NvKb3/yG73//+7hcLpLJJH/xF3/BV77yFW699VZWrVpFNBpFq9XS29vLY489xu7du/F6vSQSCebMmcOTTz7J5s2bqaqq4vvf/z7bt29n3759UkFSVVVFS0sLTz31FD09PezYsYPvfve7DA0NsXr1apxOJ/feey/5+fls2rSJ6upqFi9eLPdS/f39nD59moceeohvfOMbsnIIXPpZnDrGMjMz0ev1eDwe/vmf/5l169bR2NjIE088QSwWw2w2y7FpNBq5cOECfX19/PznPycSichQtx//+Mfk5ubi9/v5v//3/zIyMsLy5ctZuXIlW7du5dSpU3g8HhKJBEuWLOHuu+9m6dKlnD59mueff57BwUGSySRbtmzhr/7qr9iyZQvNzc38/d//Pbt27eLYsWOyzdXV1SxZsoR/+7d/Q6vV4vf7OXLkCN/61rfo7u6WFVaSyQ+SeIn47nTWVLFnFePGZrNhs9nIzc2VXgMi9j0SifAP//APzJs3j4aGBmbOnMnY2Jgce2+//bZcEzQaDdFolFWrVrFx40YpEE9MTOD1ennooYcIh8NyDG7dupX77ruPoqIiHnzwQU6dOsX4+DgAixcv5u/+7u/YvHkzM2bMAJDJwj7r6/2VogrEnwFSLTYi66zYsKU+gMUmS0zIQCDA0NAQnZ2dZGZm0tnZyb59+0gmkzIGUXxHZJXOyMiQ5ZDEAiB+C2232IwLLZgS8dASwpZwwdFoNDidThwOB8lkktraWubOnUtZWRkAXV1dFBQUSNfR9957jz179tDX10dNTQ2RSIS2tjbeeOMNli1bJss0ifYLAfFGJ3XTJ+6NMgattraWzMxMZs6cicfjobOzk7GxMcbGxti1axfHjx8nNzeXvLw86uvrcTqdad20RPxQ6rlVPl6m6nMx3sVcVAoC2dnZlJaWMmPGDEZHR2WpJ5HEIxwOc/r0aS5cuCAzm4uSXyJ5T2Fh4aQ1JrVNqUJ6avuuRy41vlOzkgolVGZmJlarVSaPCQQC+P1+Oc9EmS0Rm9ze3i5dAm022yQXWhHeIEo/TWXNV/6+0eZl6qY29TqV7qxTKQgikQgTExP4fD55H0T/i9jfQCBAKBSSimT44B4LBazNZsNkMsl7bLFYpFdOdna2DEUQtX1T257arukE3uv5vol7oEyMJCy14j2DwcCCBQtYsGABpaWlvPnmmwwODrJnzx4eeOABaWUUZQbnzp1LdXU19fX1uN1uDh8+zKFDh6ipqWHJkiUYDAZGR0f59a9/jd/vZ3R0FIDBwUH27dvHrl27mD9/PvPnz8dgMDAyMsIf/vAH9u7di16vZ8GCBcyfP59jx47hcrnYuHEj8+bNo7i4eNL+wWq1smLFCs6ePSuVzJs2baKmpgadTkdHRwfbt28nHo+zYcMGmpqaOH/+PN3d3bz33nvS8lxaWorVauWNN95gYGCA/Px8hoeHufnmm2W42caNGydZc1evXk1DQ8OkON7LQZl4LJFI0NzczJkzZ2SbBgcHqaqqoqamhnvuuUeuNeIZH41G0Wg0tLS0SCPGsWPH2L17N8uWLUOj0XD8+HGGh4eprKxEr9dz0003SSVSIpGgrq5OJohbuXIlx48fJ5n8IKHhli1bmDNnDmazmVOnTrF7926MRiNbt26lrq6OCxcu0NPTw1tvvcWJEyeoqKjA7Xbzi1/8gqGhISorK5k5cyY6nU4mRRQC8lR9JJQng4ODvPLKKxgMBt5//32OHj1KRUUF5eXl2O12gsEgr732GuFwGKPRSENDA2+//bb0ups9ezZFRUWEw2EGBgY4ePAgoVBIhhgq50ROTg41NTVEo1HOnj3L3r17aW5uxm63s3btWnw+H4ODgyQSCW677Ta5VxPrmnCtVpWgV4YqEN/ApNsMiAeMckMshGCdTjdJeyosfaJM0d69e3E6nRw/fpx3330Xm80mM9YKS8jY2Bg9PT1cuHCB06dPMzQ0NGlCipgSYV12u92Mj49PioEQbdXpdNjtdjQaDSMjI3R1dVFdXY3T6aSkpEQmpJk7dy6zZ88mFovh8/kwm80YDAaCwSC7d+/m3XffJRwOs2LFCo4cOUJPTw8vv/wyNTU10s1JxNYGAgHOnz+P0+mUSUluVNK53go0Go102RSvnz59mrNnz9Le3i6FIovFQm5uLmNjY1RXV5OXl4fNZsNqtcqHpZrY4dNjqnuczjom6uoqyxCJxHjt7e309PTQ399Pb28vnZ2dRCIRmYugsLCQ/Px8CgsLqampkUKAXq/HaDSi1+tlqaPU8ytdO69npmr/VDFdIq7farVOWfpJWOuHhoZwu90y06n4vqgpnpeXR0lJyaS4UoPBMKnfxfo+lSvw9X4P0gnD6aw+wkIvclwIC08sFiMWixEMBgkEAgwODkqLr4gPD4VCUlGs1+sxmUxSoZGTkyNrwRcVFZGZmSkF40u1e6q23mgKCyXK641EIpO80pRunoWFhbJk1MyZM3G73bz55pucOHGCcDg8SblRUFDAhg0bWLBgARUVFZw/f55Tp07R3d3Ngw8+yL333ovFYmFgYIBdu3YBH8SgApw9e5aDBw9y9OhRHnjgAW655RYsFgv9/f38x3/8B4cOHZIWuqVLl8qxcffdd9PS0iLDJcQ+xmazsWHDBt566y38fj9+v58vfvGLNDY2kpGRwalTp9i3bx+LFy9mxYoV3HLLLbz33nts376d3bt3c+jQIVauXCmV/gcPHqSjo4OcnBysVivLli2jpaUFk8nEfffdh8/nw+12U1FRwR133EFTU9MVl6xSZvlOJpPMnj2bhQsXSgFu3759HDlyhKysLGpra2lqaqKgoEDeT5Hk8fbbb2d8fJxDhw5x/Phx9uzZQ1VVFU6nk56eHlwuFz6fD71ez+bNmzl58iRut5tIJML69etpamqioqKCiooK3n//fTweDy6Xi3vvvVeWy9yzZw/Hjh1j5cqVrFy5kqVLl3Lo0CG2b9/O9u3bOX78OBaLBZfLxSuvvEJhYSHLly9n06ZNmEwmfve73/Huu+/icrmmnFvK/fDAwAD/7//9PyYmJqRxYM2aNVRWVmKz2fB6vXKMCJftN998k2PHjhEMBrn11lulJbitrY1Dhw5d9ByED9b1pqYmNmzYQDgc5o9//CO//e1vOX/+PM3Nzdx5550cPnyYcDhMNBrlS1/6EnV1dWRlZcl2K12mVS4fVSD+DJA6MUScDCAtRAaDAZPJJIVgUX4oPz8ft9vNnj172LNnjzyG2Wxm48aNLFy4kKqqKrRaLWvXrmX//v28+OKLUls5MTEhkyMItxph4T148CADAwOUl5ezevVqmThALAw2m41Zs2ah1Wp55ZVXOHjwII8++ihbtmzhpptuYmhoiP/1v/4XL7zwgnRBicfjbN68mbvvvhudTsfvf/97fD4f9913H9/73vf4+c9/zgsvvMBPf/pTmpqaZJbElpYWjh8/zo4dO7j55pt58sknWb58OfX19cTj8es+LvJySLVAKEs7aDQaZs2axaxZs6RbdGtrK6dOneLkyZP87Gc/Ix6PY7fbqa2tZf369dTW1lJaWnqRUkGMMbi+XWivR6ayyKbblCs9BhYtWsSiRYvke+Pj4wwPDzMwMEBrayvnzp3jwIEDuFwugsEgNptNxkTOnj2b8vJySkpKKC8vn/KeK93WbiQX3+lc2sVv5XWLuFJRvmnZsmXyc9FoFJfLxeDgID09PRw/fpyOjg7279/PyMgIyWQSi8VCVlYWdXV1VFRUyH4vLy+XCsB0KMMorsWQh3RKhenGS7p2x2IxmQXc5XLR2dnJ0NAQLpeLvr4+vF4vExMTRKNRmYTQbrfjdDqZNWsWBQUF5OfnU1paSm5u7mXF96abW6nr37XSx58k4pqV1mAx/oWS3mQysWDBAn72s59x6NAhXC4XRqORgYEBSkpKCAQCsl/1ej33338/a9eupbKyEoAXXniBvr4+8vPzeeKJJ7BarWi1Wqqrq5kzZw5tbW0yLOuXv/wlR44cIRwOs337dl599VVZTzaZTEolv8lkory8nOzsbHQ6HYsWLSI/P18mNhMCsdFopLa2luLiYjo6OohGo2zcuBGAEydO8Pvf/55oNEpPTw+vvfYav/nNbwiFQgwNDQFw4MABGhsbmT17Nv/6r//K5z73Obq6unC5XPI6heC1YcMGXnnlFdk2UbIo1fPuUoiwOfhg3DocDv78z/+cz3/+87z//vvs3LmTd955hz179vDVr36Vf/qnf2LLli0YjUaCwSAlJSXcfPPNPPLIIySTSX7961/Lyh4jIyPk5+dLo4hQ0rW0tExKzPpXf/VXk2KfxXsZGRksWbIEq9XK6dOn2bZtG5FIhPfee48zZ85II4oIyTtz5gxOp1PO97/7u79j9erVNDU1AWC327FYLOzfv3/aOShy7rjdbnbt2kUkEqG0tJRVq1bxs5/9DLPZLEPuxHgRa8LOnTtJJpOsW7eOxx57TPZrPB7nv//3/y4T7Yn5kJHxQX6Xhx9+mKamJiYmJiguLmbbtm14vV78fj8rV66kqKhIKkfXrl17UZuVLtPpFG0q6VEF4hsM5aQWySMeeOABVqxYwZw5c9BoNDQ1NbFp0yY0Gg25ublkZHxQTqS+vp677rqLBQsWyCRZIqlWcXExCxcupL+/H4fDQVlZGZs3b6asrEw+AL75zW+yc+dODhw4QG9vL/fdd5/UuLe0tOBwOGRGx7/927/lnXfekXUWlQkAlC5HDQ0NPPbYY7S2tuL3+8nNzUWv19PQ0MB//a//lfz8fM6fP4/b7Uaj0dDc3MyCBQuYNWsW7e3t3HTTTWRnZ/OFL3wBrVYr2yzKVwgr8NatW4nH4xw/fpyRkREqKyux2+2f2c0KMMlin7qh02q11NTUUFJSwvLly/nCF74gkwZ1dnbywgsvYDAY5BicM2eOFIqU5SlgcpzpZ7WvP21E36du2qfazJtMJoqKisjNzZVlN0RWXVGbV2RU3r17t3w4i3JuIpNsfX09OTk52O32tN4E6YSgG2WcKIWiVGu5IHUzo9fryc/Px+FwUF1dzYIFC2Q4yfj4OC6XC4/HI63Lhw4dYu/evcTjcSwWC3a7HYfDQUlJCaWlpeTl5cl4OKVQktq/6UJalL8/CtLda+X5pnJ7fSTLmwAAIABJREFUVn4/Ho/L5EI+nw+Xy8XQ0JDM5jw6OioTWgmhRbguNzc3k5ubK5URItOtsOQLTwfx91QW96n6KJ0btMpkhIUYPlC69fT08OCDD+J0OmUc/h/+8AcZliXCrYQiR4R2pMsDkjqGhRVNvC5c2fV6PUuXLsVms8nQA5FJWFgnlYKjOF86DwWRC0V4IQjXYnEMsd8xmUwy27wQFO+44w4qKyulEiccDss4Y4/HI131U9uQri2X2/fiukTf/uIXv6C7uxuAr33ta9TU1NDS0kJVVRW/+tWvZMxwdXX1JEWG8L6Ix+MYDAbZvkQiMcnLQtwHpdeG8NRIJpPodLpJ90hkVBbfEcqNpqYmIpGIDAM0GAx84QtfIJlM0t/fDyA91pRczhwU3otz5szhkUce4cCBAzKpmtfrlQqTVK8TYFJt+nTnFdebirJ2tfhRhheIPplK4aF0mVa5fFSB+AZGbJ7uuOMOqqurKSwsJCMjg5KSElatWkVGRgYWi2XSBvdzn/scM2fOJDs7G/hgwlqtVqqrq7n11ltxu90yMVV9ff2kjXRDQwPxeJzS0lJ6e3tpbGyUC2BDQ4OM19XpdKxYsQKHw8Hg4CB1dXWTav6KSSwy5YqHkc/no7a2VpaBsVqtbNiwgd7eXnw+HxqNhrq6OkpKSqQb75o1a+TmUbhUzZ8/n61bt1JTU0NWVpYsK7Vq1SqqqqqkQCy0lDfKBvxqSN18KjfuFotFukwXFxeTl5dHcXEx+fn5dHR0yCyOHR0dBAIBzp49S0FBgUzGlJWVhcPhuOic08XSqXy8pNu0p9tciZALg8EgS4QInE4nHo8Hj8fD4OAgbrdblh0S8bDj4+PSypmVlYXdbpd1ekVcrVCgKT0XUgWgS7X/euFy2i3WIaWrtVinxWZ2ZGQEn8+H1+ulv79fxoGLWNh4PI7H42FsbIy+vj6sViuZmZk4nU4pGIr7oCwFlTr3lVzJfZhqo55q2Z3O1VkI/6nxvKKkkdfrJRQKydJGQpCIx+MYjUZsNpssd2K322U8dk5ODjk5OXL8iWfDdO6Ul3M90/WHysWITX4oFMLlcnHkyBHuv/9+Fi1axJw5c9i1a9ek2FjluBRjXMwVEULQ2dnJrl27qK2txWAwMD4+Tn9/P5FIRApJjY2NHD9+nLa2NkwmE42NjdhsNiKRCB0dHRQWFlJYWAgwKZNwIBBIK9SINgkvvEgkgsfjkZbJqqoqKQwXFhbS3NxMIpFgbGwMr9dLfn4+er2eoaEhtm/fTkZGBqWlpdhsNs6ePSszZldUVMjz6HQ6qfQRyb0uhXJsKhOrZmRk0NPTw8GDB/H7/dx8882UlJTINSEcDk9KOAVclAgOkEoLoTgSrr5C6E1VvKbOK5F/QYwJMWdramrYsWMHZrOZgoICysvLZf6F8fFxiouLZZkuUWmksLBQeiKePHmSjo6OS/aNuNeZmZk0NDSQl5cnY6N37tzJbbfdNilxmRCMAXJycmTixJ6eHux2OxMTE7jd7ovOpbxmpaArXlcKwCaTCY1GI8t1mUwmOc6UygWVK0MViG9AlItTdnY2d9xxx6T3nU4nq1evnvSaTqcjLy+P++67T74mJqAoC7Jy5cppz2m1Wlm8eDGLFy++ZBtra2upra2dsu3i72QySXNzM83NzWmP09TUJF1gBGIBqa+vlwXSxesi8ckXv/jFSd/R6/VTtl3dzKRPSqO06Oh0OkpKSigpKaGlpYVwOExnZydtbW28/fbb7Nmzh1AohFarlRmqZ86cSWZm5kWbTuWDUe37T5909yH1/istiyL2XIkoQ9PW1sa5c+fo6enhzJkz7N69W5brKCwspK6uTrr31tfXy81MOlfYVFdjsV5c72NmOrff1H4Xn8nIyJBZe1NLP0UiEQKBgEw409PTQ3t7O6dOnWJsbIxwOCyziIvyIfX19TIuXIQ8THUP0mWzTncf0rVdeazphGhhOZyYmMDj8dDf38/w8DBDQ0PSjXR0dBS/308kEpHxvQ6Hg6KiIpxOJ/n5+VRXV0sLu0hANt14Sechka4vrvcx92mTbv0PhUKMjIwQi8VoaWlhxYoV5OXlSQVZuvVHJGYSn6mvryc3Nxefz8d//Md/sHnzZkwmE8PDw7S1tclcF8lkkmXLlrFv3z7eeustAoEA1dXVsqrF7t27qa6ulueyWCwYDAZZ31hYa9ONE+GmHQwG6enpoaqqiqysLBYtWiTd8isqKti0aZMssbRv3z6i0SjBYJD29nZ+8pOfkJeXR21tLU6nk5///Ofs3LkTi8VCRUWFVJDp9XoZn5ufn3/J+vGpKC3f8IFwNzg4SFtbG88++yxr166lv7+fzs5OueYIi6249tQM6alWelGjWwhsqXNJfFf0tdKyGwwGicfjZGdns3z5cn7605+SSCQwmUysWrWKc+fOcfLkSU6ePElGxgdJIkVJou3bt6PX63E4HCQSCXbs2MHBgwen9fKAD/bGIo44kUiwfv169u7dyx//+EeefvppFi9eTEVFhWyv0upbVVXF+++/z4EDBzh+/DhVVVV4vV6OHDkiP58u8aSyH1ItwyKkRq/XS8Vyfn6+9GhQVo5Q16YrQxWIb3CEK4dyYiknf+rDJTVeVmjnRJkmoX0VrjHpHmRTbdiUk1OpvUq3KCjfm+qz4r107pTKIuXK18VryoemeD01fk5dTKYmtW9S77vRaJQKiS1btjAxMUFfXx9tbW289tprPPvss4yOjsr4VOEOJ9z6laTGMqt8+kw1N9IJEMLTw2azUV5ezvr16+V7o6OjMlHXmTNnZLIRscl0OBw4nU7Ky8uZN2+eDN/Iz8+ftiayUiC7kebxdNeSbu0VVvzc3Fxyc3NZuHDhpO+Mj4/j9Xo5ffo0XV1d9Pb2cvDgQX7/+9/LREci0VpJSQllZWU0NjaSn59PdnZ22qzy4vxXWnIrEong9/vxer309vbK2r1DQ0N0d3dLS3AsFsNkMmGz2cjKyqKkpIQFCxZIRUxlZaW0cF/KQqYcL8q2Ktt7o4ydaxHRtyIG12g0MmPGDAwGA3a7nXnz5rFgwQIef/xxvvGNb2Cz2aioqCAajUqhNLVqhVKBsmDBAr70pS+RlZXFj370I9544w15bqPRKM8fDoepqKjgS1/6EkVFRTz22GM8//zz8rN5eXk0Njai1+tJJpPMmzeP/fv3s23bNm677Ta+853vsHnzZubNm3eRoHfLLbfgdrs5ePAgLS0tPProo9x1111s2LCBr3/967z66qs8+uijPProowDSc+F73/sev/vd73j99ddxu90888wzzJs3D51Ox9DQEK+88goej4c5c+ZQVVXF/Pnz6erq4oUXXmDx4sV8+ctf5r/9t/8m834o26REWV8+VRj+6le/itVq5dlnn+WnP/0pP/3pT+Vx7r//fm666SaqqqqIRCIyMauYc+K48Xh8UsJWq9WK3++ftE6LvaQynlbQ0tJCa2srr7zyCjfddBOPP/44W7ZsYfPmzXzzm99k27ZtfPvb3+bb3/42AA6Hg+LiYtmXzc3NPPPMM3zjG9/gJz/5CT/4wQ8u6gO9Xj/lWiFy7gjvE5PJxObNm0kkEvz7v/877733nixnmFq+6YknnuCpp57iF7/4Bbfddtuk44rrFufNzMyUnpLZ2dno9XoSiQQ2m0261gvFwOrVqxkcHOTAgQPU19fz1a9+lTvvvJO1a9dOKneq7peuDFUgvsERk078rfyd+jlhQVW+9q1vfYu8vDxZXH06YfFSmn7l61cyUaf77HTvpbNoiOtMjWOdSlOncnmks+wLksmkdN83mUzk5eXh9XqlpcflcrF//34OHTokXZ/E5rusrGxK4VvdrF57TLcGpCqo4E91dkVegkWLFklX16GhIelePTY2xptvvinjN0Wpp5ycHPLy8igrKyMrK0u6kk01HlPPfyONn6nWO0hfbklYeHJycmhsbKSyslL2vSj55Pf7ZSWAQCDAsWPHOH78uIy9dTgc5OfnS4FbZFcWlQwEwqVbeVxh1RWvBQIB6fYsatOLSghz586VpYsyMzNl/XODwYDVap3k3m2z2SZtCqcLwbjUM1Hl40PZvzk5Odx1110yeZ+I0c7NzeVv/uZvOHnyJBMTE+Tl5VFTU8Pw8DA6nQ6z2UxhYSErVqwgFApxyy23yKzH4v7X19fzuc99jsLCQkKhkPzec889x/j4OIlEQgoalZWV3HrrrVitVgYGBohEIhgMBhobG5kzZw4FBQUkk0lyc3NZt24dOp2OtrY2WfZG+UwS645QCmdlZTE8PMySJUukwHbnnXdSV1fH2bNn6enpwWazkZ+fT3l5OTk5OcyaNQuAhoYGGhoaZIjRf/kv/4Xm5mZKSkpkrhORcVpYQFesWHGRp046hCUSkLH34+Pjsrzbhg0bKC4u5u2338bv98s1484776S2tpaMjA/ctR955BHMZrOshavVamloaODrX/86ubm5NDQ04HQ6eeihhxgdHWXevHmyrzZs2MCMGTMIhUKTvDaSySSlpaVSidrX18eMGTNkmM5tt91GTU0Nt99+O/39/dhsNgoKCqioqCArK0tazufNm8d3vvMdLly4wODgIBkZGeTl5aHT6QiHwxQXF2M2m+V9E88QrVZLU1MTmzdvRqfT0dDQgEajYebMmWRkfFBatKamBrvdjtls5q//+q+ZNWsWjY2NABQUFPD5z3+exsZGjhw5QiAQkAriH/7wh5OeVXV1dWzZsoW6ujqqqqpkPHtdXR1/+Zd/yYIFC2hoaABgzpw5hMNhnE4nbrebm266icrKSpLJpHxuxmIxqYhQuTxUgfgzwOU+7JWLkPj7rrvukpsf5UJxJef6MJ+71GcvdZwr2eioC8eHI1VoVf4WMTg2m42SkhLC4TA+n48LFy5w+PBhBgYGcLvdeDwe3G43fX19DAwM4PP55IPZbrfLeEblsZUCj3oPP30u5x4o3eGENUjE54mEIAMDAwwMDDA4OEhfXx99fX2Mj48zMjLC4OCgzACcnZ3N4OCgTM4lcgwIAUkIydO15Urafi0zXftTlVTwJ3dAsRkUxONxWX+3u7ub/v5+3G63LD8UDAZl0rSBgQHsdjtZWVmy/FBmZiZms1m68An3T1HbNxAIMDw8LOssj4+PSyFYp9PJWGaR4Kq0tJTs7GxZfsfhcEgF7XT3L9UNMp0r9/V+z69XlP1utVpZunQpoVCI0tJSqdCwWq1s2rSJ2tpaotEoOTk5VFRU4PV6CYfD6PV6srKyaGpqwmq10tTUJMvPKAVTg8HAjBkzyMvLw2q1otPp+NWvfiXjx4XyJicnB4fDQWlpKd3d3UQiEYxGo6x2IcabOFdeXh4nTpygvr5+UtkbpUdaQUEBCxcupKCggIGBARoaGsjJyQFg7ty5lJWVMX/+fM6fP09WVpasZS2s5dnZ2VKIFu7dq1evlknfhHBYUVGBw+HAYrGQSCQoKyuTyZymG+PCSpmR8UGt3SNHjuBwOFiwYAEGg4FZs2ZRXl6O0+nE6/XK8IrFixdPihPevHmzLGEpzllWVsadd94pv2MymVi/fj3hcJisrCzZrnnz5lFbWyvDHZTtzc7Oprm5mezsbKl8ENc8e/ZsOR66u7tlMjyhcBBGntLSUu644w56e3vp7+9Ho9FQUFCAXq8nFAqRnZ09pZGkurqaNWvWyFwzGo1GxqZHIhEqKiqk6/3nP/958vLypOJCVAowm83SI0EoIH70ox/JHA4ARUVFLFmyRLr5C4twQUEBW7dupaioSCo4SkpK0Ol0FBYWMjQ0xKxZs2TenDfffJPz589LLwrVSnz5ZCSncpxXUVFR+YhITZqRat0NhUJ4vV727dvHvn37uHDhAv39/WRnZ1NfX8+sWbNYunSpdKe73OOqXNtMF4ucjpGREVwuF21tbZw5c0ZucNxuNzqdDqvVSmFhIU1NTVRWVlJeXk51dTVms3lKl7jUkIwb0XqcDmW/p7r6Xcqy4PV6GRoa4ty5c7L0U3d3Nx6PRyakys/Px263Mz4+Ll2hRdZVITzn5uaSnZ0trfxC6M3Nzb0s68ZUMczK/1WuX642J4AYF1qtlqeffprnn3+enp4evvOd71BQUIDL5eKLX/wiK1eu5LbbbuNb3/rWpHKAU4VjwJUrYKf77HRxnqnX/lHGhCrb5PV6+c///E++853vEIlEyMzM5JZbbuHpp5/GarV+6gLVR9F/yhC5TwLlc23nzp289dZb2Gw2brnlFiKRCIcOHeJrX/saDz/8MJ///OdZt27dh1bqj46O0t7ezrp16/D5fJhMJmbOnMkzzzzDnDlzPtSxPyuoArHKtIgFB9TJpPLRIZYd5fhKJpNMTEwQDoelderAgQNSOB4ZGSEvL4/y8nJqampYtmwZ+fn5WCyWtMdN1fiqXB+kehcorRAisUgkEpGZSmOxGB6Ph6GhIZm5uquri0AgwMTEhHS9zMvLo6ioiNmzZ1NQUDBJk5+uDUpFC1zfsciXyu2QLhmQklAoJAXbgYEBRkZG8Hg8DAwM0NfXJ0s9iRrUwnJvMBjwer2MjIzI0ni5ubmUlZXR0tJCRUUFRUVFFBcXy5hfZTIZgTJXRKrS5Hq9JyqTmar83nRu70qBR4RCifEsBOIDBw6wY8cOnnzySelZkEgkyMzM5Otf/zqbNm2alDArIyNjUi1eIO2z5EqUsakx9crPpuZdSJ2X4kc5J8TxhMVxquNcSggUnz916hTvvvsuBw4coLKyUroJK7+fWuInVcGofF/ZJqXQquzbdH2g/O5H0X+p7Us3jlJDBac7d2oG7dRrU2Y4F3uQV199lZdeeolXXnlFeuKEw2GWLl3KQw89xJo1a2S1l6n6YKo+U477WCzG+Pg4P/7xj3G5XGg0GjZu3MjixYux2+1qTPFloArEKtOiuqKqfFykChxKYrGYLHcxNDSEy+WSG3FRizE3N1cKNiKZjjJr6JW4y6tcW6Rz71XWxU4lFArh9/sZHR3F7XbjcrlkuSGv18vExITcPAgXfJvNhsPhICcnh6ysLLKysnA6ndKlUpz7asIyPmmm6pfU8ALl30qBMhwOyzJGY2Nj+Hw+gsEgwWBQljEJhUKynJGyjIooSyJcrzMzM2VMr8iuOzY2hsfjwe/3yzItIkOtsoye+BGWY5vNJpMnpbuu6bgW7ovK5TOV0DvdFjVVKEoVJDMyMhgaGqK9vZ0XXniBwcFBYrEYer2eJUuWsHr1ambOnDlJqaoUTFKFrHTtVZ53umub6ljpzpWuHUphJvV6L+c8U7VLWIkHBwfp7OwkJydHPk/TXa8gVbiaSthMbedUn0t9LfXYV9N/Ux0j9dyXCqlJd+5015aq4M/IyKCtrY2jR4/y2muvyfrZFouFO+64gwULFsh+ns6zJd0+PFVZkkx+kEju6NGjjI+PAzBz5kxyc3On3ROp/AlVIFZRUfnUmUrjKohGo3i9Xg4ePEhbWxvt7e10dXXJJCQzZsxg6dKlsqSKiE0VGt2pjqtyfXG51gD4IGtxKBSiq6uLjo4O+vr66O3tpaurSwrIZrOZsrIyaaWsqamRXgdarVZmHxU/U22CP80xpWxT6oZPaa1Q/sRisUn/C2WCz+djaGiI/v5+vF6vTH4XDoellcJms8laxfn5+ZSVlZGXlyct8JmZmTLzryAWizEyMiJd3EVWca/Xy9jYGJFIRCbpys3NpbKyktLSUpxOp7TkK++DEMKVSpJ0m1Z1rn+2EWMiGo3S19fHyZMnCYfDmEwmVq9eLZN3qcKCyseBGH+RSITjx4/T3d2NRqMhJyeHVatWTfqcOv4+fVSBWEVF5ZpE6W4FXOS+1d/fz5EjRzh58iTHjh2jr68Pu91OcXExS5YskYlIsrOzJx3zct3cVK4fUl2Cp7u3iUSC4eFhBgcHOXfuHCdOnKCvr09m5xQxrgUFBTQ3N1NRUUFZWRnl5eUYjcZLuvQBF7n8fthrS71GuDyXSEC60olY6+HhYTo7O2UYgtfrZXR0VLoOWiwW6XnhdDqpqKigpKREZvXOzc29rDZfjqUqHo8TDAZxuVycOXOGnp4eent7uXDhAh6Ph0gkQjKZJD8/n6KiIkpKSqiurpb1WHNycjCZTFO2I7WkkjrfP3sorWjp3gNVcaJ0vxVzRHWv/Wj4pMeYqIEMkzOIq1waVSBWUVG5ZkldnpT/i7qlImttT08PfX19MvNtRkYGdrsdp9PJvHnzqKysxOl0yqyO6Y6rbpivb6Z6nKUKktFolHA4TDAYlLHGExMTuFwu3G63jHsdGRmRcWEWiwWn00lubi75+flUV1fL8WQ2m6d1GUx9fTqXP+VnL+U6KtydRVI6t9uNz+eTll5lFmdljU+j0Shdm202m7wO4bJsNBrR6/UYDAaZIVXUfBW1WNO191Kk6wsREz4+Pi7vg3DdDgQCjI6O0tvbK13ghcu2aJsImRACfGlpKXa7fZIb7NXcF5UbB6UHkuCjVFrdCFzNfFa5NOkUmh+nck69j1ePKhBfBmoXqahcG6RuYpWuRh6Ph97eXnp6ejh37hyDg4NSCCgoKKCoqEhunkUGXJvNdlF8zeXGr6lc+6QTNlNj8eBPY8nn8zE8PCyTdPX29kqlSygUQqPRYDQapXAsSj3Z7XYpUIqSQaJU3YcViCORiPxRCo1CEBZxvT6fTwrA4jVlMiqz2YzZbMZisWC32yfFTufn58s2G43GS26qLjdub7prnE7gF0qLYDCI3++nq6sLj8cjFRWi7E40GkWj0cjrEiEUWVlZMv7YZrNNel+EUlyOQKzO/xuHVCWIajlT+aRIp0D8uMafKgBfPapAfAnEQFazLauoXFukunilZors7Ozk3LlztLa2snv3bkZHR9FqtRQXF7N27VoaGhpkbUolyiVRXR5vPFLdq+FP7sfpNimhUIjR0VE6OjpobW2lq6uLnp4euru7icfj6PV6HA4HM2fOpKKigsrKSurq6igsLMRoNE7Zhsu1qHq9Xnw+HyMjI3R0dDAwMMDw8DBDQ0MMDAwwMTFBJBIBkLG92dnZVFZWUlxcjNPppKCggJKSElmf+VJ9oyxFJfon3e8Py1Tu4OkyTSvxer24XC4GBwc5deoUnZ2dDA4OMjw8jN/vx2AwYLVaKSoqoqamhtLSUkpLS6mpqZnWzXo6jxQVFRWVa43UEDBV0XP1qALxNHyUdd9UVFQ+WYQiS/yMjIzQ09PDsWPH2L9/P2NjYwDU1dXR3NzMjBkzqKqqSutSrfLZRqkYVWZYFpbkrq4uWltbcblceL1exsfHyc7Oxul0UlRUxKxZsygsLMTpdOJ0OqXyJpFIEAgEpNDr9Xrp6uqS7trDw8OMjo7KZ1FmZiY5OTmTMsHm5eWRk5MjFTtKd7x0PzcCylwAyvjHZDLJ+Pi4VBZcuHCBjo4ORkZG8Pv9hMNhsrKyyMnJkcJyfn6+vE9ms1ndUKqoqFy3xONxNRzgKlEF4ikQ3SLKRRw6dEjWWVQGrauoqFybpLpExmIxgsEgIyMjdHV14Xa78fv9mEwmSkpKKCoqorS0lKKiIunqGo/HJwnV0Wh0kvVMfeh8dkjn8haNRpmYmGB8fFyOJ5/Ph9vtJhqNSktlYWGhTEhVUFCAyWSSZTI8Ho90dw4EAng8nkmxtBqNBpPJhMViISsrS8b+CtdnEd9rNBonCYap3GhjdSoX80QiIfvO7/fj9Xpl37rdbuLxODqdDqvVSl5eHllZWTgcDgoLC3E4HDLzsFL5oUzOJf5PXRtS26KioqLycWMymcjLy6OkpIT6+npycnLS1s1WuTS6T7sB1yLiwSfqsp07d463335bCsTRaPRTbqGKisqlUAoGGo0GvV6PTqdDp9MRiUSIxWJMTEzg8XjweDx0dXWRk5NDSUkJkUiEcDgskxEJV6RUt2xVn/jZIJ2LtbIEkKhbHIlEiMfjxONxWXMXoK+vD6vVSmZmJrm5uVitVqlg8Xg8ss6viA1WnkfURU4kEkQiERknDEhhTJxTKRDf6EmjpnJ71+l08t5oNBrZb/F4nFgsxtjYmHyG9/b2SmWDUFiITOKhUEjGKUejUVmqSmTjFlaYdH2qrgsqKiqfBBaLhby8PMrLyxkZGWH+/Pk4HA6ZVPBGWvM/blQLcQpC05uRkcE//uM/sn37dg4cOMCcOXOk9kXUrVNRUbl+UAoKosasqDMrNtI6nY5wOMz58+fp6uqSlmS73U5RURELFy4kOztbZtoViYtSwyvUh9CNT7pYZBH7ajAY0Ol0k+K6xI9Wq52UbEskvkonzKYKvEqhV6Acc5/1cTdVRlflfVHGJyuFWvG+SF527tw5mXHc5/Ph9/tlEq/S0lIqKipwOp1kZ2djt9ulskxkzVbeM8GN5rquoqLyyaPMQREMBjl9+jTd3d309/fz2GOPcdttt7FkyRLVffoKUS3EKWg0Gnp6enj66af51a9+RWNjIw899BDLly/HZDLJzYyKisr1xVQZblP/TiaT+P1+PB4P3d3dHDt2jMHBQVmvNTs7m+LiYmpra5k1a9aUmYRVbnymck1OFXqm+jvdMab6f6ps1FMd97PMVFmy0wmjqfdGhEoEAgH8fj+jo6O43W56enpwu92MjIzg8/mIx+NEo1FGR0exWq3k5OTgdDpl+MVUGbtTz6mioqJytYgQkb6+Pt5//33+8z//k56eHnp6erj77rulclDNjXBpVIE4BeEi/dprr9HY2MjNN9/MypUrKSsr+7SbpqKicpl82A1nZmYmeXl5FBYWUlxczNDQEC6Xi6GhIRKJBB6Ph3A4zOjoKHa7naysLBknKmIQgUllb64FrqW2fFZRS/tcuyitKbm5uUQiESYmJggGg9TV1UkhWSTpEm7VYlM6ODiI3++nv78fi8WC2WzGZrNht9tljWdR+km4dgMXeQZ8knya51ZRUflocDgcZGZmcuDAAYaHh3njjTdYt24dNpuOIybIAAAgAElEQVRNerWqirjpUV2mU/jd735HW1sb3/72t3n++edZsmQJxcXFjI6OftpNU1FRuUyuduEX3xMu1CLuWCToaW1t5ciRI7S3t9PR0UEsFqOkpITKykrmz59PQ0MDDocDq9UqE3mlJtz5NFGX+08fVSC+dhHhE0r39tRyXIlEgnA4zMjICB6PB5fLxenTp2XZp+HhYcLhMDqdDrPZLJP1iVropaWlMjGayWSSNZFTXeE/KZTJw1RUVK5P9Ho9NpuNbdu28fTTT3Py5ElefvllqqurMZvNqpX4MlAF4hSWL1+OXq8nOzubH/7wh+Tk5BAMBtHr9Z9201RUVC6BEDZisdiH0oamxiKKzbHZbEar1crkRgcPHqS1tZW2tjbOnj2LzWajtLSUGTNmsHTpUkpLSyfFF37aKC1SKioqf0Kj0TA6Osr4+DjBYFAKqnBxnWRlMjVh6RVJ0sbHxxkYGJCln9ra2ujv7ycQCBAOh3E4HGRnZ5OXl0dpaSmVlZUyFtlisUyKff44EecRtasNBoO6LqioXKeIqgXZ2dn8+7//O7/85S9ZtGgR3/zmNykvLyeRSEjPNZX0qL2TQldXF/n5+axatQqDwQCo8T4qKtcyYhNnNBppb2/n7NmztLa2yvn7YTd5Slcj4VIp4gyDwSCBQIBYLIbFYmFsbIz29nZ6e3s5c+YM+fn5WK3WT3WzqWzv0qVLqaqqorCwkEgkoq5tKioK/vjHP9LZ2YnP55OlsWDqEk+pMclCcI5EIkSjUSKRCMlkkszMTAwGA+FwGI1Gw8TEBENDQ/h8Pi5cuIDZbMZsNk8658eJKE+VSCSw2WzcfvvtVFZWymzm6rqgonL9IeZtQUEBlZWVdHR0MDExoSbyu0xUgTiFkZER7HY7xcXFUpuiDiQVlWsbkTna5XJx6tQpWltbKSoqQqfTEY/HP/QcTrcx1mg0GI1GrFYrZrOZzMxMAoGAzDAbDofxer2EQqFJmek/yfVE9EskEqG3t5eCggJycnIoLS0lHA5/4u1RUblWSSaTtLe309PTg0ajwWKxTJkDIDXuNjWjtclkwmq1SndrkW06FotdVL9YeKAIi/QnIRCLGtrj4+O0t7ezYsUKysrKMBgM11SIh4qKypWTlZVFXl4e3d3dsvSfyqVRBeIUwuEwsVhM1iJUN4sqKtcHWq0Wn8+H2+2muLiYDRs2YLFYpFXmo0bE/cEHG2HhPinWDbEB/jQ3mIlEAqPRyMjICL/61a9wu92MjY2pSTZUVP5/xBxIJBIEg0GKi4tZsmQJy5cvZ2Ji4rIVakpBNp2gnM6qLLw3PsmkVmJN8Hq9dHZ28sMf/lCuU+p6oKJyfZORkYHRaMRisUgPFfG6yvSoAnEK4mGlxtKoqFx/ZGRkYDabKS0tZe7cuWRnZxOLxT72GN5r9aGTSCTQarX09/ezZ88e6UauoqIyGfHsNxgM2Gw2HA7HFQnEV3vOT3qvkUgkMJlM0l1alJK81tYuFRWVq0OprFe5fFSBWEVF5YZEWGs/SevLtaZIUyYEU1FRuXI+zjl9LZRZutbWLBUVFZVPA1UgVlFRuaEQ2RYTiQTxeJxIJPKZFQiFhVj0hbr5VVGZHmFdUf7cSNbT1GtTUVG58biR1qxPClUgVlH5CEgnaKgL0qeHSG6j/PmsIq5fHY8qKpcmXZzvjTR3psqQraKiovJZRhWIVVQ+JCKTr1arRaPRTMok+lkWxKZDqUC4ETZlynrFV/Nd+Oj74ZNO1nM5bfkw80FNAvbJkjouxT281gWp1LjcG22t+aS5VvMjXG+o/aiicm2jCsQqKh8SUcIiFAqRSCQwGAxotVr0ej2xWEx9AKZBWc/3WhDYPizieq7UBVFYsj+OfhDC57Uw/q62f5RotVo17vETJHWOKksIXcukjg2ld4TqInzliHCTG2Wt/ii4mmRoH8UaqKKi8vGhmq9UVD4kWq2WUCjE0NAQnZ2djI2NkZGRgdVqVTcRU6DVamWZomtBYLtahMVMq9ViNBqveKOk0WjQ6XQy0+tHhTjup+EqnWqZzsjIQK/XYzabP9Rx9Xr9R95Pn1Uux2VWp9PJ8oPwp7rb4h5cq+uaqO0r0Ol06PV6DAbDNdvma5VkMonBYJDrtNp/lzd3lIhnhHJNVlFRufZQLcQqKleBsJhYLBa++93vcuHCBXw+H5mZmQwPD1NUVMSCBQv42te+xsTEBNFoNK12OFVgERuOdFrk1Aex2PgpNyriwSuOJZIqpQoo4vupyaZEiRFxDNGOqf6/0j5LJBJkZWXxwgsv0NraSk5ODg8//DA6nY6JiYlJG6907buac4pjTWU5Sn1PaRlTur2n3idRvsTlctHX18epU6fYtGkTubm5xGIxvve971FdXU1dXR3z5s3D7/dPuocWi4W33nqLF198kXXr1rFkyRKKiooYHx+/6DpS26AcJ6kurVarle7ubt566y2cTidz58792C0TiURCCr1vvPEGvb29WK1W7rnnHoaHhzlz5gzd3d1s3LjxigR10e6JiQn+4i/+gjVr1rBhwwZKS0uZmJgAkEnDRJ9c6dhUWp2VbtlK92DleFDOD/E55TxTHkuQOqZSr/Fq3JDTuTArlRGpcycajWIymfD7/fzrv/4rq1evpra2lvLycoLBoDyOaOu2bdvYu3cvDzzwAGVlZfT09LB7925uuukm8vPzyczMJBaLXdSW1H77JEgkEuh0OiwWC//8z/9MRUUFtbW1zJ8/nxMnTuB2u5mYmGDt2rVEo9Erct9PtyZPd53TrTXieOnGXOp6JO5hah+mjqF0bYjH42nXsSsR4kS7d+7cic1mo6Kigry8PMLhMCdPnuS5557jb/7mb8jKypJzUJwj3VqpJHUOXQnTZchWPuvS1YBWHiO1nFa6/lE+O/R6PZFIhAsXLvCHP/yB+fPns3HjRoLB4EX9prxOi8WCy+Xi/PnzHD58mFtvvZXKykpCoZAqHKuoXEOoArGKylUiHp6Dg4OUlZWxbt06KisrGRgY4Pz587z77rssXLiQiooKcnJyiMVimM3mSQ/daDQ6aQMlNgomk+mi84lMweJBLlyzBWITEIlEpNXSZDLJLMtisyDcuI1Go9wcCkwmk9wsJBIJafWMxWIkk0n5f+r3rqTPIpEI1dXVmM1mrFYr8MFmRFgQ4/G4tCArC8tfDRqNRloWUzc80WiUeDw+yQoGyHMKi1i6axUu8Xq9nmQyid/v58SJE2zcuFG6yrvdbrmB1Gq12Gw24IP7NDExQSwWo6ioiFWrVlFVVYXJZCIWi6W9/yIjrBBARCml1PsfCoXIyMggGAzS1dVFLBajtrZWeit83GRkZOD3+3G73YTDYTnOhoaGOHz4MHfffbfc9Asl0eWg0+lYv349tbW1WCyWSbVUY7EYBoMBjUZDIpGQ4/9ySCaTUgmTbpMu5pvY7BsMBjkPBcI7IBKJTJnILRKJyGOk3tt4PC7n15UIkOL+izbC5HExMTExSQgzm83o9XoSiQQDAwOEQiHgA8u7mIfK/isvLycWi2G1WjEYDAQCAU6dOsWyZcsmzU/h6aG8XnFfPskMzeIeulwu7HY74+PjaDQavF4vXV1d+Hw+Nm3aNCnj+uUqZcRamopYK5Xz0mQyXXRccf8zMjLSjjfl2q5cj9I9H0R/T9UGIYQpx5ROp5Pr3eUiruXkyZMUFBRQWlqK0WgkHA4TDAbp7+9Hr9djMpnkOqhsixDG04158Zy60jEv5qu4zlSlTygUusiTRDmHld9LbZOyr8V3lX0twgVisRi9vb1UV1fLNimfMQKhyBPPvJGREc6dO8f4+LhqbVdRuQZRBWIVlatEPNDGxsaora2lpaWFxsZGPB4PBoOBAwcOsG/fPjIzM3E6nYTDYQYHB+XmyGq1YrVaL3IbjkajeL1eabXR6XSYTCbi8Tg6nY7MzEySySTBYJBQKMTo6Ki0jmRmZsrNQDQaZWRkBJfLJTcABQUFaLVaYrGYtGgrzz0yMoJOp8NgMKDX6xkbGyMQCDAyMgKAzWYjMzMTu91+xf2l3KAUFRVht9vR6/VoNBoikQihUIjBwUEp4GRmZpKbm/thbhGxWIxQKCSVAdFolPHxcaxWK0ajUVqmfT6fFEadTqf87tjYGCaT6SILTzAYZGxsjIKCAjweDz09PZw7d47+/n6sVisajYZQKEQ4HGZ8fBy3243f78doNGIymTAajSQSCXJycmhqasLhcEhhRaPR4HK5pGeBwWAgKysLg8EwybofDofxer1EIhG5MRX3MxKJ4PF4sFgshMNhKfB83GRkZBAKhQgEAlLwHR4eprOzkzNnztDb24vdbpfKnEttiJUu6S0tLTgcDoxGI8lkEo/Hg9/vJxAIYDKZcDgcUni73M2mVqtldHQU+GDDGw6HZS4ArVZLfn6+nE/xeJxgMIhWq8VgMMhjxGIxJiYm5P0TCpR4PE44HGZiYgKn0yk31F6vF5/PJ13Jc3Nzr9iaKgSKcDiM0WiUAok4vxCsBEIwtFqtRCIRxsfHGRsbw+12y/Fit9uxWCyy//Lz89Hr9VgsFsbGxhgYGODChQv09fVhsVjk3E0mk4yOjhIIBIhEIhiNRsxmM3a7/RMThgUZGRkEAgGCwaDs+56eHtrb2/F4PPT19WEymSYpE6cbg0JwCYfDBAIB4vE40WiUQCCATqfDarWSlZU1ybor5ruw0ubm5k6au0JwjcVi+P1+4ANFpMViQaPREAwGiUajRKNRMjMzJ1l6xfwSc8xgMGAymS7qa5/Px9DQkFTSlJSUTJpzl4O4zra2Nvx+P1VVVWRnZxOLxeTaODY2RjgcJhqNApCTkyPd6oUCIB6P4/P58Pl8wAdCZnZ29lWFP2g0GukZIu5dIBCQykur1SrbNjo6ilarxWq1YrFYLrLi9/f3E4lEADCbzfI+Ku99OBxmdHQUn88nlQp+v5/R0VGpUBLzOhgMMjo6KhXfZrNZKjei0ShjY2MMDQ1JRaGKisq1hSoQq6h8CESMlXjoBYNBcnNzWbRoETqdjqeeeoo5c+ZQX1+P3+/nqaeeorOzk2AwyPz587nzzjupqKgAkJuH4eFhfvnLX3Ly5En0ej15eXlUVlai1+uprq5mw4YNRCIRTpw4wd69e3nnnXewWq3MmzeP9evXM3fuXJLJJL29vbz44oscOnSIWCxGdnY2Dz/8MPX19QwMDPDmm2/ypS99SW5sAf7whz9QWFhIc3MzpaWl7N69m/fee48DBw6g0+koKytj9uzZ3H///VcdS5hMJrHZbNKSotfruXDhAkePHuWZZ54hIyMDh8NBcXExjz/++KSN9+UirAFer5fz58+j1+txu910d3dz+PBh5s6dy8qVK5k5cyatra389re/lQLkE088gcViwefzsXPnTtauXYvD4ZBCUDgc5uzZs+zcuZM777yTt99+m/fee4+uri5eeukl1qxZQ0tLixSkh4aG2L59O++88w7l5eU0NjayefNmotEoRqORvLw8zGazvEaNRsPzzz9PW1sbw8PD5Ofnc9ddd9HQ0EBRURGJREJuVJ955hlGRkbIzc2lpqaGr3zlK5P6+ZOoPZzqHqwUMCYmJnjppZfYu3cvnZ2dfO9732P58uXMnj2bhoYGuam81AZRo9GQn58vhRmNRsPLL7/MsWPH6OnpISMjg5UrV7J48WJWrlx5yeMqLVc7duyQnz958iQdHR2EQiGMRiPf/OY3KS8vJzMzk6GhIQ4cOEBxcTHNzc1yjI2MjHD8+HFWrlzJ2NgYIyMj+Hw++vv76ezspKOjg7/9278lJyeH0dFRtm3bxq5du9DpdBQVFfHlL3+ZiooKjEYjExMT07pRivVmfHyc/v5+jhw5QktLC3V1dVLQ7erqorOzk82bN0/yJtm+fTs1NTVkZ2fjcDgYHh6mu7ubjo4O+vv7WbFiBUuXLuXmm29mfHwco9FIdnY2NptNjvHe3l5++9vfsmjRIubNm8e8efPwer28/fbbvPHGGwwODlJSUsL8+fPZunWrtOZ/WEvxlVgShRUxmUxy/vx53nnnHc6ePcvY2Bg/+clP2LhxI3V1dWRlZU3rpSCOEwqF6O3tZf/+/Xg8HtxuN0eOHCEzM5MlS5Zw9913U1JSgkajYXR0lMOHD/Pcc8/h9/sxm83ccccdrFq1SipF3W43oVCIgYEBtm/fDsC8efNYuXIlFRUV7Nq1i7Nnz+J2u/nCF75Abm6utPhqNBrOnTvHjh072L9/P4WFhTQ2NrJ161by8vLQ6XSMj4+zfft2duzYwfDwMBkZGfzZn/0ZS5Yska66060J4jnkdrvZtm0bp0+fprOzk5GREUKhEDU1NZhMJmw2GwcPHqS1tZXTp0+j0Wj4sz/7M5qbm5kxYwaBQACz2czw8DCvv/46O3bsICMjA6fTyR133MH8+fOxWq2X5Tos5qvBYODUqVPSk2FwcJD3338fs9lMdXU1Dz30EG1tbRw+fJhXX30Vm83G+vXrWb58OVarFa1WSzgcxu/387//9/+mv78fgPr6eh566CEcDgc6nY5YLIZWq+XChQv88Y9/ZNeuXeTk5FBQUEBlZSUGg0F6i1gsFjkXX3nlFUZGRmSYzJ133inbr7RSq6ioXHuoArGKyodACITCQiusg5FIBJ/Ph91uJ5lMcvLkSf7+7/+euro6Fi1aRF5eHu+//z5PPfUUTU1N3HPPPSQSCV588UV27dpFIpFg+fLl6PV6vF4v//Zv/0ZTUxPr169n06ZNHD16VAphf/3Xf82FCxdobW3l8ccf56WXXqKtrY1jx45x4sQJvvWtbxEIBHC5XNJq0t7ezksvvcQ999wjLdSxWIzXX3+d+fPnM3PmTI4cOcJrr72GXq/nH/7hHwiFQrS2thIIBBgYGKC0tFSWmbqczaqwYGVmZvLaa6/R3t5OWVkZGzZs4J133uHVV1/lL//yL7Farfh8Pi5cuEAwGMRms02yOFzueZLJJG63mwMHDvDss8/S0tJCbW0ta9as4bnnnuPw4cMUFRXhcrmora1Fq9XS2trKE088wYMPPojVauXll18mkUiwZMkS5syZQzKZ5OjRo+zfv59jx45x7733otfrgT/FX4s2Go1Gfv/735ORkUFjYyONjY2cOHGCw4cPMzY2xq233srRo0f59a9/zdatW2lqasLn8/F//s//oauri5kzZ7Jq1SrOnj3L+fPnsVgslJWVodFoeP311zl69ChFRUXce++9tLa2cuDAAf7n//yfPPjgg9KCLNwARb981CjdMZUIIUir1Uqro0ajITMzU1qQLtUesQkWroff/e53uf3221m2bBk7duzgyJEjzJgxg69+9aucPHlSup2KcTLd8ZUxmkJoam9v54tf/CJ33XUX8Xiczs5OHn30Uf78z/+cNWvW4PF4ePHFF1m8eDFz586VSrBz587xgx/8gKamJkZHRzl69Cj/43/8DxYuXEhlZSULFy7E4XCwc+dODh06xKlTp9iyZQuJRAK3282TTz7Jl7/8ZZqamigoKJBultONdWE1f+6550gmkxQXF5OVlcWbb77Jtm3b2LlzJzNnzqSkpAStVktnZye/+c1vuPvuu1mxYgXBYJBnn32W/Px8Fi5cyLx589izZw8nTpwAYNGiRezZs4c333yTxx57TN5n0XfidyQS4R//8R/x+/3k5eVxzz33cODAAY4dO8a7777L97//ffR6/YcShsW5lbG10yHGgHBlFQm19Hq99EpRXsdUiPErXGT/5V/+hdzcXGbNmsUjjzzC9u3b2b9/v4yn9fl8nD17lmeeeYb169fjcDgIh8P86Ec/IhAIsGzZMhobG/nKV76C2+3GarVy++23c/LkSd544w1efvll6uvr6e7uxu/3k0wm2bt3L/fffz+33347JpOJH/zgB5w/f55IJMIDDzxAf38/AwMDPP744zz55JMY/7/2zjwuyuve/58ZmIFh32HYZBNUQFFc6o4xwSwmNWbp1TSYmDZp7m2S296E1N7m92rrvcnrXlLb9KY3jS1eYpMmNhlDTLOIGbWJJmLAjSgMgqLCgOwwMDDAzPn9MXMOzzw8MzwDRlzO+/XilQgzz3LW7/d8Nx8fNDY24u2338bmzZsRFRWFnp4edj1PY4mF85RaQqmrfF1dHX7zm98gJycHixYtwsjICP7v//4Pubm52Lx5M5KSklBWVobDhw/jq6++woYNG+Dj44Pu7m68+OKL2LBhAxYuXIhZs2ahr6/P7XPRvlCr1Th58iQOHjyIxsZGrFixAtnZ2Th79izeeecdNDQ0oKurC2q1GgsXLsTBgwfx3nvv4fjx4/jVr36Fjo4O6PV6vPnmm5g2bRrmzp0LhUKBb775Bj/72c9w9913Y+3atdBoNPjzn/+MU6dOoa2tDevWrYPJZEJjYyN27NgBPz8/Nk/Pnz+P119/HW1tbcjMzERSUhJqa2tx6NAhnDt3Dj/4wQ+Y54ZwPeZwONcWXCHmcCaI0IWWJg4CgP7+flRXV+Pw4cNYvHgxuru7cenSJQwMDCA3NxdxcXHMevjZZ5+htrYWFy5cYAk7+vv7cf/99yMjI4O5dH755ZfQaDTMohEaGopZs2YhOjoaERERCA4OhtlsxokTJ9DU1ASTyYTBwUGYTCaEhYUhNjYWCQkJzG3OYrHAYrE4vQ91DaSxZwMDA+jt7UVQUBDCwsIQGBiIgIAAmEwm5oLriZJFhVmlUsncFzUaDUZGRmA2m9Hd3c2St1itVmYR9NQ6LIS6SA8ODiItLQ2LFi1CdHQ0jh07hvr6erS0tOCee+7BzJkzYTKZEBoainfffdfJ6nry5EnExsYiOzsbCoUCZ8+eRXt7O1JSUhAWFobU1FS0t7ejubkZubm5SE5Ohre3NywWC3NTX7lyJbRaLby9vXHmzBl8/fXXWLVqFfr7+9HY2MjcE1taWnDmzBmsXbsW6enpiIqKYkpNVFQUhoeHoVKpEBcXx6y/cXFxTBn84osv0N/fz9paKsHPlYJaPahLujCukSol3t7eyMnJQXNzMzo6OrBy5UokJiayxGNyFD96r4sXL6K7u5u1VV9fH7y8vBAdHc1ieNVqtVMs5XgoFAqWzC06OhqLFy9mLvMJCQk4cuQImpubUVNTg6ioKAwMDDA3Swp1o6RWK+rSOnfuXGRlZSE8PBwdHR2oqqpCY2Mjli1bhpkzZ0KhUKCzsxOnT5/GiRMn4O3tjbi4uHGfeWRkBN7e3oiMjMTIyAguX76MS5cuITQ0FHV1dejs7ERgYCC+/vpr5olRVVXFkp6pVCr09/dj2rRpyMrKwqpVqxAeHo6WlhZcvHgRJ0+exPz589Hf34+WlhYMDg4iMTERqampiIiIQE5ODjIyMhAcHIzjx4+jtbUVSUlJWLlyJdLT06FWq3H8+HF8/PHHqKmpwbRp0xAaGupRbLcQm80Gs9nsUZZxOgbCw8Mxffp0jIyMoLOzE0uWLEF0dDRzbx8Pocv00NAQUlNTsWbNGsydOxcDAwMsLIZWFoiIiMDSpUuRnJyMsLAw2Gw2TJs2DZcvX0ZTUxNT3qKjo5GRkYF58+YhPDwcn332GcrLy+Hv78/GDCEE//M//4Pm5mYWk19dXQ1fX1+sXLkSqampiIqKQkBAAGpqanD06FEkJyfDZrOhs7MTvr6+iI+PR1JSErq6uhAcHCw7hlihUCAwMBDz58/H559/jrCwMOTm5iIlJYWF7xBC8J3vfAcLFixARkYGbDYbTpw4ga6uLtTV1SEmJgYnT55EfX09FixYgFmzZsHX1xc9PT04ffo0Tp48CbVajYyMDNnJpRQKBfr7+zEwMAC1Wo0lS5YgNjYWGo0GXV1d0Ov1WLlyJWbPno3p06fDZrOhoqICNTU1IITg9OnTOH/+PBQKBW677Tanub5r1y5cuHABdXV1iIyMhMFgACEEd911F3JzczEwMICmpiYMDAygurqa5ePYt28fTCYTtFotFi9ejICAAJYf4+DBg1izZg07fLsaHjscDmdicIWYw5kEVGBqamoCYI8nbmtrQ21tLY4fP45//dd/ZZaXkJAQZGZmwt/fH/39/Vi0aBH0ej1LwtXT04P29naEhYXh4YcfZhbH4eFh1NTUoLq6GoBdOYiMjISvry+L40pKSkJCQgLCw8Nx8eJFFjtFY+qCg4MREREBPz8/tLW1AcCYMjjiRF00Pg2wu4VGRkZi5syZzGo3GVdIGltL3ffovbq6upCYmIiIiAjmHjyZ+9DvxsTEYMmSJVi5ciUIIVi5ciUaGxtx/vx5fPe730VERATMZjNSUlLwyiuvMKV/5cqV+N///V/MmjULFosFKpUKdXV16Ovrw7JlyxAeHo6MjAyYzWZUVVVh8eLFiI+PR19fH8xmM+Lj45Gbm4t7773XKbHRO++8g4GBARZnqlar0d3djZaWFrS3t+P+++9HWFgYCCGYOXMmi12kylhKSgqioqLQ2dnJknP5+vrivffec1LYvi2FmHoUDAwMoLW1lSmlgLN7oLe3N3Jzc1FfX4/z589j9erV8Pb2Zoq0J5l+qaI5PDzMYu+pJ0ZMTAxL+Dae27EYq9WK6OhoTJ8+HStWrGAHRTNnzsTevXthMpnwzTff4M4772TzQ6ioU1dO6mpKx1t+fj6ysrJgs9lw+PBh1NTUwGw2Y/Xq1VCpVPDx8UFAQACSkpJw5swZ+Pv74/bbbx83ptVqtUKlUiE4OBjh4eHo7u5GfX09srKy0NDQAG9vbyxcuBBffvkl5syZA39/fxw/fhwJCQnMrdZsNiM/Px/Lli3DsmXLoFAo0NDQAKvViurqaia4j4yMYHh4GMnJyejs7GQW5bS0NIyMjODDDz+EzWZDcnIylixZgoGBAWRlZWFgYAAfffQRvvnmGwQHBzPLtyfWSWHytaamJkRERCAwMJC5Q4/Xp3SdzMjIwPDwMFpaWrBy5UoWo0vXFDnPY7VaERoaikOCrcsAACAASURBVMWLF2P9+vVsfTWbzSgrK0Nvby/8/PwQExODNWvWoLu7m7nV5uTkoK2tDZcvX4ZCoUBPTw+WLl2K1atXIycnBzNmzGAxziqVCrfffjvmzJmDkZER/O53v0NPTw9aW1tx6dIlNDU1IScnB8uXL0d/fz/i4+NhtVoRHByM8vJy+Pj4ICUlhSVBGxoaQmRkJOLi4jA0NCRLIabjLzAwEEuWLMHf/vY3xMXFYeHChZgxYwZ6enpYwsWNGzciPT0d0dHRUCgUKC0txeDgIM6dO4fMzEycOXMGLS0t2LRpE4sv9vf3x3e+8x389a9/hY+PD9atW+dUi328/hgZGUFQUBCio6Nx5513ghDCYofffPNNPP7441izZg3CwsIQEhKCCxcuoLKyEsPDwzh+/DguX76M6dOnY926daw9li5dCr1ej46ODpw6dQppaWloa2vD9OnT8eijj7Kx0tPTg6CgIPz+979ne/PHH3+M+Ph4VlGgo6MDqamp8PLywvbt23Hp0iUEBwdDpVJxhZjDuYbhCjGHMwGEmzeNE+3o6GCCUGZmJh599FFkZmbi448/xsmTJ9HW1oZ/+qd/YkKYRqOBt7c3srOz4evri4MHDyIiIgKJiYmwWq3o7Oxk7n5BQUFO2TX37NmDw4cPw2AwICgoiCXJ6ujowMjICGbPno309HS0t7dj69atAICYmBj89Kc/dbk5U3c6KgQvXLgQfX19OHLkCLZu3QqlUomsrCzk5ubiu9/9LlNmJ+oOSd16qSIQExODHTt2wGKxICoqCpmZmXj66acBwKPsqOJ+stlsLNMyVSz9/f1ZXDYV1mlyqpCQEJbQ7I477sDvfvc7nDt3DsePH0dcXByam5sRGRmJW2+91SnBltlsZsI2dWnNzMxk1hOa4EaYpIuOIx8fH2YJSktLg1KpZAcGNFO2t7c3NBoNent78dZbb+HQoUPo6upi5UAsFouTe7Qwm+5E+gbAGIWBPq+fnx86OztRXV2NP//5z/jJT36C7Oxsp8/Qa3R3dzOPhcuXLzOlZiLjpr+/HzabDRs3boTNZkNlZSWeeeYZqNVqrF27FosXL8bMmTNZKRS5VuLw8HAkJCQwjwI6r+fOnYvq6mr09PQwZVd8yEAPAKiATMebRqNh/X7mzBm0trbCYDDg0UcfZRZPehCUkpLCXGw9URpXrlyJuro6HD58GHPnzkVbWxuys7Px4IMP4r777sOlS5fg7++P8vJyPPbYY0hOToZSqWTjPzw8HIODg1Cr1SwpX0dHBwD7nKOZgGl2XRoDGxcXh5GREdTV1aGlpQVvv/029uzZg76+PuZCL3SD9cRNlN6PZjTu6OjAr3/9a2zYsAFLly5FeHg4S1wm1U5Ct2pCCEsMSOcmnRNyDk2EibDCw8NZtnbqEUDnsM1mQ2NjI6qqqvDaa6+x0Jnh4WFcunQJK1asYF41Xl5eCA0NRUREBEZGRth4i4mJwQ9/+EM2Di0WCyIiIuDj48MOZZqbm3H27Fl8+umnLIEZdQdfunQpIiIiMH36dDz99NP4+OOP8eabb0KhUOCpp55CZmYmoqOjYTabZYUrWK1WDA4OwmKxoK+vDx0dHWwceHt7IyYmBtOmTYNKpUJPTw8Lh6Dte+zYMbS2tuLs2bN48cUX0dXV5dRn/v7+0Gg0sFgs8PPz8yjZV2hoKLOi03ANf39/ZGdnIzExkXky0XHt4+ODzs5O1NfXw8fHB3l5eWyM2mz2UoB5eXk4f/48vvnmGygUCqSmpjIrc2trK4vjprH11LupoaEBDQ0NOHToEH7/+9+zAzKVSoWwsDA2/iezHtMxRtclDodz5eEKMYczQaiyoFAokJ2djdmzZyMnJ4cpPVR48vX1RUxMDNLT03HvvfdCrVbDYrGw+o3BwcHQarU4ePAgU66E5VNo7BTNJNvd3Y1//OMfmDlzJu6//36EhoYCAA4dOoT33nuPlTuJjo5mMYNnz55FfX09duzYge9///tMwaKKCRWSqRBMlZcZM2YgMTERt956KxoaGlBZWYn9+/cjMTERGRkZLAGJp8oNbTe6uVMLbmJiIi5fvozq6mqWMGzGjBmIiory2PInvJfQjZbGJFJrG01WI6zfTAUXHx8f5ObmYmRkBAcPHkR6ejpCQkIwbdo0BAYGspg62jdiZWZkZMSptrO4VJLQ0kizXtPMs1Sppgm+ALvVfu/evejq6kJWVhbuuOMOKJVKGI1GnD17Fn/961/HKMWeCmD0sAYAO0Bwp3hIHVYIlRJvb2/2zrQdaDyiJ88kfAaFQoHVq1ezpE7Hjx/HmTNn0N7ejvj4eKcyMOONTZvNxjw7aEZ3OkbOnj2LoaEhBAcHM+VHqVQyKyU9rKDtTNvLYrGw96MhDqGhoZg7dy6eeuop9Pf3s2zu/v7+8PX1HTfJk/DdqaI9f/58tLa2oqamBu+//z6Cg4MRHx+PsLAwpKSkoKKigrVBRkYGwsLCmAJGxzgtF0PHLn1u+j7i2HgaUkEF//j4eOTk5GDx4sVobm5ma5VKpUJaWhqCg4M9UvTpmAfsniTC+egpCoWCxazTuUrfTQ70c1K13IXrs9VqRXl5Oc6dO4cHHngAc+fOhY+PD/r6+vCnP/0Jvr6+THGjJaloeTnhvWgFAgo9YPH29mahLxkZGVi3bh26urpYJmMfHx8W2gIAy5cvR3p6OoxGIy5cuIA333wTGzZswOLFi5knhZy2E5YTEpeuE5eBE66hIyMjSEpKQmhoKGbMmIGf/exn7J2Fax3NwC1s1/Gg1mShhZ/eW+idQvtMGE9Oldr29nanUmFeXl7skINmpe7v72dzRbhX0vJ59Fn8/f0xZ84czJo1C3PmzEFfXx80Gg18fX3h5eWF1NRUNDY2or6+ftx3EyNcY2g8O21zDodzZeEKMYczSZRKJVOSMjMz2aZFN/+YmBgkJCSgra0NycnJiIyMhEKhYCfv/v7+CA8Px7Rp03Dq1ClcvHgRRqORlZehNWUHBweZG2NTUxPmz5+P2bNnIyIiAm1tbSzRh7e3N7MU22w2zJ07l5Xfef/991lGXRqLSd09qYWSWjINBgMrCzNv3jxERUWhpqYGdXV1MBqNSE9Ph5eXl0f1ZClUSPfy8kJfXx97lqysLCQmJmJgYAD79u3DhQsXkJiY6FG5ECnEtTypciOuRyr8NxX+cnNzcfLkSRw/fhwdHR2IiopCUlISvLy8mFXZx8eHxZfSa4iTPAmVCmGCICoIBwUFITAwEN3d3WhqakJMTAzUajWGh4dRWVkJtVqN9PR0XL58GYODg4iJicGiRYtgNpthtVpRX1/vZCWeiEWCKlvUSqhWq9k4dNWPQkVB2N70OYQKSVdXFwICAjxWiOk1qcJ29uxZFvc7ffp0EEJw5swZliGaZgSX8+7e3t7o7OxEW1sbzp07x+ob9/f3w2AwIDU1FUlJScxFu6+vD729vQgMDGSZpLu6upxcfKlllfZBQkICQkND0dfXh+DgYGRmZrJ61c3NzYiOjmalYeQ8Mx0ztBSO2WzGvn37mMu+RqPB7NmzUVtbi97eXoSGhrJ7mEwm1p50rIvHJjBaH5n2E6293dnZCYvFgqCgIKSkpKCtrQ0ajQZJSUlISkrC8PAwBgcH0dfXh7CwMI8S4gH2dam9vR3BwcFO9WzlIrbiBwQEsNARqpRO5ABPOKaFShhg74/W1lZ0dnZi/vz57GC0qakJQ0NDbC0G4LQ/iJVL4SEKtX4ODw9DqVQiLS2NxabGxsYiMzMThNhrmre3tyMxMZEdZJrNZqSmpiI2NhaRkZF444030N7ejsHBQXbYIAdhvWk6xun7CttDqCjTQ9WYmBiEh4ez2uhz585lSl17ezurzU7XOE9c6YUeKMLxK0yoRkN7hIcaCQkJuHjxIqqqqli5NQDMeuzv74/k5GRotVqWyf3SpUsICgpi2f1plQiaiTojI4O5glMvGZqjgx6mtba2jqkpLfdd6VpEM99rNBruds3hfAtw3wsOZ5IISy5ZrVb09/fDbDYz5SgrKwszZszAgQMHcOzYMbS1tcHLywvHjx/H7t278Y9//AOEECxduhQjIyOoqKjAkSNHmGB9+fJlfPbZZ2htbWXWKepuTBNGlZeX4+jRozh37hyCgoJQW1uLffv24cMPP4TVakVMTAzS0tJYfCmtgdnY2AiLxcIE6traWgwODiIgIAAHDx5EcXEx9uzZA4vFgqSkJCehmgrTE3UBo9ap5uZmfPbZZ6yEELWYR0VFobe3d0IKt/heUm6uwthk+h7U+kUtXCMjI1ixYgWCgoJw6tQpfPrpp0hISMDMmTOZgEOtAR0dHejp6WExqFTAFVp86H2Fp/xU4ImOjkZUVBRaW1tx9OhRtLa2Mle/kpISlJaWsoRJtO4ldec7ceIE9u/fz34njP+U665Khcjh4WGcOHECp06dQnNzM7O2SiFWpuh1qDIFgGWZHh4eRn19PYaHh2XFgYrvQ5MyWSwW7NmzB5988glqamrg4+ODzMxM1i60/eWOGY1GA6PRCL1ej7///e84c+YMTpw4gb/97W84duwYwsLCsHDhQqhUKvT29qK5uRkNDQ0ghOCLL77A3r17ce7cOSa80vrRAJjb6Zw5cxAZGYmOjg688847GB4exsjICFpbW/GnP/2JJSNy19bCtqAKcXR0NGJiYqBSqfDpp58iLS2NxS+uXr0aRqMRNTU1SE5OZqESVEkXI3brpPWVqXuyl5cXNBoNzp8/z/IS3HLLLWhqakJVVRUMBgO0Wi0AoL6+Hn/7299YjLucAy36Xv39/di/fz8uXrwIs9nslKxNDtSqTcd9REQEFAoFjEYj+vr62Lt4Mv6kDs/Eh2o0tpyuWS0tLTh16hSOHDnC6nIDwNDQEHPdptB4fOFcpWOZhk0sXrwYw8PDOH36NPbu3css0FVVVfjjH/+Izs5ONDc348SJE9i5cyeampoQGBiIzMxMZoX1pCIAfUfqEl1bW8v+RseJ+FrUc8FsNiMqKgparRZmsxl/+MMf0N7ezhIolpWV4bPPPkNNTQ0rX+SJ1V6oEAsRHigIvSCEh5sajQYfffQRzp8/z9ZHg8GAw4cPw2q1Yv78+cjMzERfXx9Onz6NgwcPskR0586dw549e1iNZx8fH9x+++2oq6vDgQMHUF9fD7VajYaGBuzfvx+7du1Cd3e303rsyXsKs5x/+eWXuHjxIneZ5nC+JbiFmMOZIHRjnjZtGrRaLUJCQpjVk27IZrMZSUlJCA4Ohp+fH95880386U9/glqthtlsxh133IHY2FgMDQ0hLS0NP/zhD3HkyBH85je/wfbt25kwSC1ONJnOpk2bcOTIETz55JPw8fFBXFwcwsPDWTzlrFmzcOHCBbz++uv46quvMDg4CJVKhR/96EdITk5GYGAgfvCDH+C5555j8VBDQ0NYsWIFZs6cCS8vL/z4xz/Gzp07cfLkSWzcuBEKhQJBQUFIT0/HPffcw5QTodufO4SKp1arZS5/06ZNQ0tLC06ePInHHnuM1ZpVqVTYsGEDNBqNRwmYhPj6+iIsLIydrlNBys/PDxEREax0BlWMqQu7n58fvLy8MDAwgLi4OGRmZmLu3Lm4cOECpk+fDq1WyyztISEhyMjIwOrVq/Hqq69izZo1uOeee6DVahEWFsbi42w2G9RqNUJCQpCQkACVSgV/f39Ww9TX1xdz587Ftm3b8Morr2DXrl0sfnD+/PlYvnw5srKyEB8fj7fffhtfffUV7r77bthsNiQmJmLx4sXIyspipVbCw8MRGhrKkl3JcR328vKC2WzGzp074ePjg1tvvZUlSZJTK5QQgpCQEERHR7OQAaVSiYULF0KpVOI3v/kNmpub2bPSWG2pZ6NjhbospqWlITw8HEFBQbj99tvx2muvYf/+/XjttdfQ2dmJ3Nxc3HPPPUhISPAohnh4eJjVRW5qasLXX3+NoaEh+Pr64vXXX2fWXaVSiYceeojNO5p1HQBWrFgBhcKelI4msBO62SoUCjz++ONYtGgR/vznP6OgoACE2JPJ0Vje4ODgMRms3UEtYNnZ2UxxysnJYXHBOTk5WLp0Kdra2nDbbbcxl1KVSoWYmBj4+/s7uZb7+fkhJCQEUVFRUCqVCAoKglarZQpLamoqnnzySfzbv/0b/Pz8MDw8jEWLFuGFF17AwYMHsXXrVvz2t7+F1WpFZGQkZs+ejZCQEJavwF1fUOGfJtD69a9/jeeffx4LFixgyfXkWs61Wi0iIiIQEBAAm82G9PR0zJ8/H0ajEY8++iiefPJJzJs3DwEBAW4txkIXeWFSQnpwQPMNJCYmghCCO++8EzU1NXj99dfx7rvvMqvhk08+ydydCSFITk5mrsLUjTs+Ph4LFy5ESEgI61eVSoWkpCSWjCokJARbt27FgQMH8MEHH0Cn08FmsyEkJARZWVnw8/Njhx6ffvopXnjhBQwODsJqtWLt2rWYN28eYmJiMDAwwJIluoK2h8ViwcaNG/HJJ5/g/fffh4+PD2655RaEhIQgNDTUyWJMCEF0dDTUajVLCPjYY49h3rx5KC4uxuOPP87miI+PDx5++GEkJCTIUtKF9wkLC4PFYkFgYCA7kPD29kZQUBCSkpJYMkk67/z9/dncorWPw8LC8MMf/hBBQUFQKOzJsjZt2oQlS5YgIyMDhBD85Cc/waFDh1BSUoJdu3axPcLX15dlEQeA+++/H35+fvjiiy/w9NNPIzAwkMWcFxQUMPfwwMBAREZGOrmIu4O6yg8MDODLL7/EW2+9he9973uYNWsWawtXY5fD4XgOV4g5nAkgFBhowpTIyEimuAqxWq3QaDRYtGgRvL29meueRqPBjBkzEBsby2IPtVotli9fDn9/f/T09MDX1xcBAQE4ffo0WltbmWC5YMEChIeHY+7cuSCEICEhgbmfxcTEMKvlI488go6ODibwzp07F76+voiIiMCqVauY4KBWq5kQqdVq2bVWrFiBlJQUtLS0MEE3Li6OZQoWWkzkoFQqYbFYMGPGDERGRsLHxwcqlQozZsyARqNBfX09U1hpEhuhcCO3b6hFIDIyEvPnz8eMGTMQFhbGYvQiIyOxePFimEwmp5iz4OBgfP/732eJrWiiMS8vL/j6+uI73/kOE1qpsEwIQXBwMNatW4empiakpKSwGFeaCZjGlAYEBCA1NRX33Xcf/Pz8kJSUhPXr1yM1NZUlyMnMzERBQQHLEuvt7Y2ZM2ciPj4ew8PD8PHxwdKlS5GQkIDm5mZoNBpWfmtwcBDBwcFQq9W4/fbbodFoEBMTA6vVOq5CS92YNRoN7rvvPnh7e2PatGlO8Z/uBDlqtZw+fTrCw8OhUqlYGa/IyEgsWLAAQ0NDmDFjhpM7LP2uu+sqlUrcf//9SEpKgkajgUajwb333ovW1lb09/cDANLS0pCYmOhUE9mdqzf9LyH27N8hISFYtGgRuru7WRbdxMRE+Pr6sjjzZcuWITY2FvPmzQMAREVFMXd5jUaD2NhYeHt7s8Q+9HsjIyMIDAzErFmzsHnzZhiNRnaPpKQkxMbGMtfi8dqDQg+kwsLCWFhEaGgoU9i8vLxw6623YmBgAElJScx65uvri7Vr1yI1NZUphTabjT17amoqS6Cn0WgQHh4OwO76Pm3aNDz66KNITExESEgIhoeHMXPmTLaW9ff3s0OohIQEj2J26VyLiorCM888g9zcXISGhsrKTk0PtSwWC/Lz8xESEsLmHU1ytn79ely6dImVMRvPjVuhULAEUklJSbjvvvuQkZHhlI8gPT0dBQUFrAa9SqXCpk2bYDab2QGDVqtla4vFYmHJzeh+oVAoMHv2bPj7+yMqKoqtrQDw0EMPMbdni8WC2NhYrFixArGxsWhtbWW1lWmCQC8vL4SHh+PBBx+E0Whkh3bz589HdHS0kwV1vLEF2C3XsbGxyMvLg1arRVJSEgIDA6FSqfDAAw+w5GGAfS9cuHAhc8umybIyMjLwyCOPoLGxkWVIp/WcPSm/Roi9/FVOTg7S0tLY+kLXrPj4eHzve99j+ykh9uzTixYtYsm/aEb5VatWMVdwujcuWbKElbYjxF7Obvny5YiMjERPTw9UKhWL9acH4XQ/zs7ORmhoKGbOnMksx6GhocjOzoa3tzeCg4Mxe/Zs+Pn5ITo6mq0L7qDrMT0o9fHxwcyZM51cxTkczpVDQXgwghNUIPjZz36G9evXM2FHrhWMc3NB3bLo/0ttUlSgp1ZYs9mMgYEBhISEMOsdLR9D3QsjIyPR1NTEMr/u3LkT9fX1SEpKwlNPPYXBwUGWAdRisSAyMpK5Q1KrLY1xa2pqYhmKg4KCmIKjVqthNBphNptZfBXdhGncGs302tnZCavVipCQEPj7+zNBwlOFmLaTMP6MJqVSKpVoa2tj9XvDwsJY7J27+9DnCAoKwgcffIDy8nLExsZiw4YNCAgIcEqMIizvQZ+BntjTHxrnSn/v6+uL0tJSfPLJJ1i7di2WL1/O4jbpukBd2Ts7O5nyLDzBF96XWjVof1HlBQBLoEbHQ19fn1OynMHBQRbXNzIygo6ODlb30sfHh7li0jhFQggCAgLQ2tqK3/3ud4iPj8eiRYuwdOlSdHd3u1Q0pFxDhW3t5+cHo9GI6upqbN++HYWFhZgxYwZzjaZQxYMm1qLxq3T8ebL9CJOf0cRAJpMJXV1d8PPzQ1BQEFQqFbP6u4MqX4GBgXjppZcwNDSE2NhYPP7448xKS2tJ0zFIrUMDAwMwmUxs3qnVanZP4dhSqVRO7Un7TaVSobW1lVlrqUVXGG/uKWKXdeFhDf27sK0tFgubD3TdEsbe0rAM2nfC5+/v72dKIR13hNjjXYXjUaPRsJrYnkIVAbPZjLa2Njz33HN46KGHWKkzV1mmqRIrdOUXeu10dXUxix1tH+GhzNatWxEQEIDly5dj5cqVGBgYYNejXjZ03tI2o0ozXcOGh4fR3d0NjUbDMqoLs1vTtVX8jMK+o+9Cw0Wo8qRWq9l3W1paoFarodFoEBAQwLwiqLfJ5cuX2fe1Wi0L4bHZbCzE49y5cygqKsJTTz2FnJwc+Pv7O4Wo0MNSuicMDg5Co9Gwwxhhgi7hXgiAtTld02iWaqVSifDwcOZ27Ul9atq/dO8QriHULVnYtzabjZVqCwkJYWObhqJ0dXXBZrMhKiqKWXbp/Be+W0tLC4vfDQwMRF9fH2trqpAD9vW5p6eHJeaiawht95GREXZwIffQSzwmJhqmxLmxoXJFaGgo9u3bh7179+LAgQN44403kJWVxfYEjmu4hZjDmQRy4tGo4GQymVgcHrXM9Pf3s5qWX3/9NT755BP09PTgt7/9LZKTkwEAvb292LlzJ/Ly8pCSksLi7Ly9vREQEICgoCBWdgcYjWmmaLVatlhSF1Ua6xUVFcWenybtEgrIZrOZWW2ogEaTpIx3qu+uzcQJaQYHBwGAuabSWMzJ3Ie2Bc0QKhYsaNZQcXIWrVbrFEtMY0YvX76MFStWQKPRMKGWQp+XCl1ii6xYoKEKB1UyhIoyVbTDw8MRGRnJYglpu9FDD6VSyay/VqsVJpOJCcv0unIsw67aTfzsrqDvQzOXC5VsOp6ocBocHMx+Lze2mSJM7kUF74CAAISGhjolgKIJtdwhjB2n16Nzhl6HJpej44QqM9QVVqlUMo8DegAiVA6E7ydsg8HBQURERLB2oHPM01hZd4i9KsR9KGxLseulMIRA+B50fNIkVbTdqMKoUqmYCyxdOyb6Tmq1ms1blUole/5ThUf4vrTfCLG78wsT2smBKqTUBVvYrsL5K8y4HBkZyeapeL0UHsDR55N6FqqMCv9O13gAiIyMZH3S29vrlFW5t7fXyZOFHgpO5PDSYrGwOR4cHMzmHq1KIHxecdZsqgQODg46eftQhdLTZ6L9S78jnmN0XNP2oq7/dE+kCvXQ0BD8/f0REhICAOygWnj4QA99FQp7SSyqwNO2pu+iVCqZJd7LywtRUVFO2ebpeiisRiB37AnfQ/w7DodzZeEKMYczSeSe9NJNjSowwOhGZzabkZWVherqanzxxRd44oknkJKSArPZjNbWViQnJ2PVqlXIyclxEjSlyqLQ+1GEcYnCjZUKCcI4OlfXECrYV+KUUdxmVHATJpu6UqeZrpQvV4IJVXKoZaOyshKDg4OYNWsWi0eWcnmjrrHC67tCqGQIPye0AFABTnhIIfwMfVZ6HbEi6ongJUbO94QCb3d3NytlMl68qCslbTxcfW8iFhPaptTdfGhoCCEhIWhra2PW2vHGn7v7Xq9WHLl9cyX7whU0fpJ6p8gdz1KfoXNmoiVrqOIp9XvxgQKdu/R3Yi8MTw6CxJ8VjkmpNZneR7wWTfZQkc51Ydu6ag8hwvVM+PnJrO3uxoGrRFvCe9M+kfq9eP9ztc7S/xe+D20jV/vtZNdjKY8IDodz5eAKMYdzlRBuZmIlh8bNzp49GwqFAgaDgVkIoqOjkZ2dzWL+hAqHWBiTQqxwCf/f1d/Ev5Nzn8kifJ4rcR+hECfliurqXlT4oMpeUFAQMjIynNzX3Fl15Dy/0HLq6vPj9Y3UZ8SWsckqxq6g1iCqAB8/fhxNTU3Mgu3qma+0UCenjVx9j1o1m5qaWEmoffv2uXTHdXdPT99ros99pZDzvO7mh9Tv5V5X7vPRsmbUi4aGgUz2unLe+0rPnatxOCK+h6t/C9dFT6zkYqXMk76Ws9d4itT9XT2T+PdSBzcT2UPF3x9PceVKLYdz7cIVYg5nCnC1aS9YsACzZ8/GqVOn0NraCo1Gg4iICOTm5sJisYwR1uVsrnKsdZO5xpXkSt1HSqB1Jfy5+/3g4CDS09MBgMWKipVZT67p6jPjfX6iljEq/Hpa/1LOvby9veHr6wulUokvv/zSyRp0vUAIYbGChBAcPXqUC6zXCNRd22azwd/fH2q1etL1yD1xvRYqHOvB6QAAIABJREFUjTfKmBCuhZ4q++I2mIj79ZXE3QHuZD4r9/sT+dxk2uBGGYMczrUKV4g5nGsAKvzRjKqLFy9mblg0bskTJfhmxsvLiyU0oUl/JpMULygo6Ao+3dWFWsZphtTJjh2q9A4NDSEgIACzZ8/GK6+84uQiej0pxMDUW2s50ggtbhqNBv7+/vDx8XHK8vxt3FOtVrOkejQx2o00LmhCuaGhIQQGBo6bwZvD4XBuBrhCzOFcQ1AhkCaZAsa6V3NcQwjBwMAAzp49i4qKCpa8bLIxa5TrrQ+oJbe9vR1NTU0IDQ29otdXKpUskRhwfSrEnGsfmoTv2x5bVqsVDQ0NKCsrw/nz58fNcH+9QQ8YvLy80N/fj/b2dhYzT//O4XCub26U9epqwxViEdej2x/nxoNmOQYmlxDlZoJm+6UlR06fPs1KEU2m/W4Ehbi/v5/VB1Wr1R5neHaFQqFwKk/C4XwbSCV1upLXBuxjmdbybm5udir5dqNBLcQDAwOsbj2Xezic6x9hmBTflz2DK8QiaNkQmtWSw5kKuBLsOVarFdHR0UhLS0NraytqamrY327muUzHUVhYGJKSkhAaGspK5VwJJpq5l8PxhG9rPaQWYKVSiSVLluDSpUu4fPnyDVvqRpgUS6lUIjY2FnFxcU71lTkczvXLyMgIhoeHnUqUccaHK8QikpOTERQUhIqKCtx9993w8fFhJVg4HM61hzCuNS0tDcnJyVi7du1UP9Y1iVqthkKhYPUxrwR8w+Vcz9Dxa7VaMW/ePMybN2+Kn+jqQvNXcDic6xt6cNfY2AiDwYDU1FT4+voyq/GV2vNvVLhCLGLZsmXo7+/H119/jdbWVvj5+cHX1xdDQ0Nc8ONwrnGUSiVUKhXUavVUP8o1B90sqTsVh8NxxsvLi1mLbxY8LcHE4XCuLai3h5+fH5qamnDu3Dm0tbXhnnvuQUBAAPc4lAlXiEWsXr0a9fX12LNnD2pqahAYGIjY2FhWbJ0PKg7n2uVGjfm7UtCNka9jHM5Yblb3f17BgMO5fhGGfZw4cQLnz5/HyMgIlixZgsDAwKl+vOsGBeHS4xhOnz6NH//4x7h06RLuv/9+/PM//zMSExOn+rE4HA6Hw+FwOBwOh9Hd3Y26ujrcc889mDZtGlatWoUXX3yReYPdTF4vE4UrxCIIITCZTKiqqkJRURE6Ozuh0WiwatUqJCYmIigoiA8sDofD4XA4HA6Hc9Wh3hwWiwXnz5/H2bNnUVlZibCwMKxduxb5+flIS0vjZTs9gCvEImjw+dDQEP7yl7+gsrISZ8+eRVBQEEJCQlhsIh9cHA6Hw+FwOBwOZyqw2Wzo6upCf38/hoaGcO+992LZsmWYPXs2AF6xxBO4QixCWJMQAKqqqnDo0CHs2LEDTU1N6O3t5Qm2OBwOh8PhcDgczpSgUCjg7++PxMRE5OTkYN26dbjjjjuY4Y5ahzny4L6/HA6Hw+FwOBwOh8O5KeEWYg6Hw+FwOBwOh8Ph3JRwCzGHw+FwOBwOh8PhcG5KuELM4XA4HA6Hw+FwOJybEq4QczgcDofD4XA4HA7npoQrxBwOh8PhcDgcDofDuSnhCjGHw+FwOBwOh8PhcG5KuELM4XA4HA6Hw+FwOJybEq4QczgcDofD4XA4HA7npoQrxBwOh+MKWzMqd7+MTbEKKGIfw46a3ql+Is4UM1L5MtIUCigUsVizowa2qX6gGwRb8xG8sfsk+qb6QW4qhtBcuRsvb8qGQpGNTTu+4e0/pfSh8uVVUCgUUCgexI7awal+oOsMD9uv9yT2H+++Oo/GuebhCjHHTvNubFIoHAuJux+hENiNypfXQhH7Y+xuGpriF7iS9KJ2/wd47+VNiFWswsuV8kUEW3Mldr+8CbEKBRSKNXj+jaNonoTEbKvdgTUu+2INnt/xHj6obHYhlNvQV/lbrFJk47HdF7jg7im2Juz/xSO4+4NIbKnth+E/TPjF/1XAWSW2oXf/zx39LfETuwkv764UjYERNO/+kYy5Nh/P72938XDCMUo/n41NL+/C/tpe2JqO4GC9TGGq7xvsePljNEv+cQjNlX/B86tiBWNuP2r7RtBX+R521w4CGETtjgclnv9H2N08IrjWJezelOb0mdjn9zvaU859rg28c59FnbUaxfnJyEmKGGcTvVHXyCuJDX01u7CtLAD3rZ+DgKl+nJuGITTvfwkb7/4IYVsOw2r4CVp+8Vcc7XW9U4weBgl+0l5G5ci1utdcA89lq8GONbHjrvf2tTAAuc8egNVQjHxtGpJi1FPxxNcxgvbLvx3L0nzdfzwoDsrzNeDH3ByAK8QcinY93rA2QLc5C8ADKDYMgBAi+LHCZNChMC8bt82Jv0EHjg19tbvx/Kp5eGJvB8Lu+R8YyQE8mytTROs7im0b78Z9z+10KBdl+O9H1mHjtqMTPnVXpm/GXms1ivO1EPeL1fgiluBr/G5+Ph7lJ/tXmCE0lb6E75dMx6svbsCMgCGYOoeRnRErEtiVCLrlRRhN5SjK0wLaLdD3WB191APDq3H46L67sfEX+wRKsTe06/8I0qNHoRZAfjEMVuFc64FBtwV5SEFGvHjsUcVxBvLeOAvM+3fUsu8dxr/PMeKNvGB4LdgDW6QcYaoblX/8GV5ENCKl2mD3T5H77DeY9XIlrISAkHfxWMJJ/Ge6CoF3H0NIjBqAL9I3/w2EtcFmFFf3gJA/Yr3WW3C9BKx/4wwadf8Cbd4voTdaYPyvWxAk+z7XDra6L7GraiXWzA+bzFXQe/DvOOhGAZk8V+Mek2EIzUe3Y+snyfjRpqzrRxnuPYLdB10dVl0f2Jr+jl98/z2kvPr/8MiMAJhNPRjKTkN8gOvd3Tv3WdTReY58bNE3wlr3LHK9XX7lpsdW9yV2xzyHMkOPSKYisDbqsFkLIO+XePNflyEIADCIukOfourhWzE/6MaUtEZpx8HdR66wQmpvv/rb5iBl3OYLw7yQKrx/DR24cqYQwuEw2oi+MJcgv5gYrFJ/HyCGku1E3yP5x+ucHlJdvJlokUUKiquIyePvd5GK4ldISYWR2FvHQozlr5ICLQhSi0jF8CQezVpNivO1LvrFQhp1/0K0yCKbdQ3kRuyZKaFHTwq1WpJXVC5vLAxXkKJUEG2hnvQ4/cExp/AAKTYMSN4jv7haot/aiP6F10TjxkKM+l+SPLdj1EpMFdtInss5LHU9F8/QoyeF2lxSqG8bc48e/RaiLdARo/DXLttA/N0XyF3C+3l6nylngBiKHyCY7HOZyklRYem3+25X4x4Txj5W8zfrSON1tXB1kYqi/yA642QW9anGsS7lbSMVJg8b37Efaa+7fpsKhomx9C1pmclUTorytATazaS4WrBiWqtJcX4WKdBdvHqPOSVYianiVVJ4pd/TWk2K85dI7CcuPm4oIU9I7sGcm40b/fiJ4wm9p7D3L0bkf28J0tjIsKH3i4M4PgIAIzAFpmLmDXdq2YuaHT/BLY8dxW3Fb+MPmydiqQhB7uansSlX67Ceq6Fd+Bj+/T8eAMyd6DFPwkLTZ4ShCqJ+oagRt+7H+I/8Dux4XY+6a9UQdD3RV4Pd//lf+G+sx1MbcmSNBdu5k9hXn4rbFk13nPJTfBEcGQigDZ0mofuwDb0Vn+EvzcvwvWVJzOPCVvsFDjaPAPBFaN4CTPce/Xxf5R+wcfXrQFGxmzGqRMCcFbj3rvFPx21Nf8ev/usghuCHmBD/sV4f/d1okfSjViJofj6eu2UWose0QS4eXjNb1AZChtDSAKwXvLOn95l6+tBoaEL+yok/l635KN7Y+mvsy8j41t7tatxjMtiaSvHM3V/he8/fibjrZUuxNaPyjZfw7D4tsqKvV7NoL2p3b8PW/7Zg81PrMdeNRVgKW92X2FXmh9vuWnD99NuU0YuW+KXIE8tMtgvY/cxjeO5gNra8+Ws8MkOwYvYZYaiaiZVZY312bhyG0Fz5FrY++yUyrvB7euq9owwMxMCuL7nsxOEWYg7FYY0RW7Ks1aRk2wGRxcdEKoryCAACjLUIWY0VRFdUQLSOvyNvC9EZxDajHmIo20YKtGLLJn2OJ+wn8NQ6ChAwS5aVmKpLSIHYqmQyEP27RXarrMv7iqEWVnwLJ97DxKh7wo3FXQ60PaQsaBTaH6N9N1xRRFJp+2u3SJxQ0/YHQd4vid5YR3QFqWOedfy+dFjL6N/p901VpLgga6y10GQgZUUFRAstydtSRoyNOlIgsFBaG3Vks9b5WlbjIbKtIItA+y9E12gRXecuUlTRJbMtLcRY8SEpLsx3PG8+KSwpJ0b2vhftbUDfBSBAHimqGM9GTNtAwgrMxq/4b47vOLV3F6ko+VB6rFBrgpyxNHya6D8f53TcVE6KCl4h5RXbSb6rsUWfPe+XRG+0jHMPx/tIjjXRNZ8ocX4Hj+7j8sLEZPiUFBVkESCfbNE3kEbdE6PtLnsdsRKT4QB5l435LFKw7ZBgjBCHRZv2p5WYDDpSmKcVWdtcrZFdpKLoLucxJu5TWetYDzHo33G8Lwi0BWRbOfVOcXWP0TYas9b16EmhNtVhlfJgTk9ozSWO8Zzq2gNDdF1twaukXDw2xp3PZHSdEK4dhBBmIXVY+a2GYpLP2ov2rcNrSLuF6HuG7Z4XTmuDeE6L+gT5pFBXPfp+bM2i73OZVOg+t1vvTQai171Figo2Oq9npnJSlJcr2/vHaqwgpcWFjufUkrzCnaSCtZtjP3J6B5DUogoi39ZNrzHOXuM03xx7ObEQY8VOibky+uzjyw0UwbWQT7boL5Iu/RaiFazXU/NccqDeaFIeSI79nq0JPcSg20LyJD9r/7zbdc9pLqcyq7PVWE5KCvMJpPZPq5FU6ARzWjyOZb6jy7lA9zI2Bl15SYkYR3aQbj8ZGHWkgI0Fzs0MV4g5DhwLp9C912ok5ds2O7s3CrArLyJhsrqEFGiFAoxVJEjkkkJ9HanWlZCd5WVke75W5HoopShQgeUBUmzoZ/cAE+SpUJpLCoo+JQaTlS264232owpYFiko/BfHc05kA5BigBiKN8pb7F3iENzcKhpU+BYpb9YGotssoZRaG4l+S/5oH1kvkgO6V8hPndx35falo++t1aQ4P9X+fYfgLD4ssRrLyJa8XKZgWBsPEd22fxl7CEPaiL5wCckvribDxs9Jie40MRkFm5/1ItHv/JwYh+3CjSyBzmok5dsKiFagONj7XsLV3K0rs9S1Xbm0j7bX2D4QtJf9psSg20LyJd2NqVDj7lDEE7pIxbZfkuLqHofQ6Erppy7VMoRA2gbjuBFLu6d5cB9JHN9nfWshjQfeJdt+Ojb8w/064hA+tQWkSFdhV6ys1aQ4f6NgfDoELu0Wou8ZIEb9a2SbvpFYjTpSINE/Y9dIQphSMWZOy1zHTNVEV5hPtAVFROcI0bAaikm+07uK72ElpuoPSfHOA0S//QGBMiBuF+fDUNdzeuJrrtsDJKfr6hzKnMQ6Kmc+m04TXfG7pFz/KskXKANj3k38XPnFxGClSovoQNFFP4/2yTZSZugh7FCC7aeOa9NDH8cabG8r54M45752KA/juufTEB3BAQ5d/8cc9I4XGuUOF991sdeMjksLMR54i5SUGyXmiod7DTuoGJ3vxgPFpHBj1tg5dVWfSw6ja530Aby9fbWFetJjbST6ba8RvbHfxXohf90TrmNW4+ekpOQrYrTax53zAZdjngsP2EQKrPuQGCJjLhBCD5/HvRZ9/AnIDnKHtn3t4woxhyvEHIrTyanwx9WCL2ERotcQn8aLYwtNdaTC0ONQPEQL7DiCSnWjnmzbpifGLj0pTLXfmwpCTnGVDguE+4WRCmZakleoswt1gljiycbkWht1ZHP+BGK0hEi10RikFWL7Qi/uP/vmpC0oIdXsueipv1jBldGXTvd6gBRX1zk28UaiL7xr9HoOS4dz7KtDEBRv9MMVpCg1jxSVnyb60hPExK6vJfnFh0hF6ed2QcLRNuML4FSAEsVq0XaTVJrkCzrUuuT0HFYjqSixW2qc29r5O85zzYUSzvpiHOurLCykUVdIntA1ECvrd3fCgEBZdbJCih6R9c948+0JF+0q7z4Sd7YLqOK+NepIwRjhzd06MmD3FHG6jqN9nKxG9mtoC8tIY/WHpORA46hCOmbMuLKaC4Re4ZvIWceogO80pi4SXUGWyIIkvkcPMVTUEZPkAds4h5ASc3riay4ZXdMkFALJ6xp1pMDJkiVnPluJyXCCGEzDkh427g8ATpBG/Wtkm8PqmMraUHgYIqF0OfWJQwlgbepY6wSKrdXwDtkmfCZ6OCsRm7/tBfdx+XbFbWxuAfuBl9R7amUrI064OCyUHv/2/kgtKidd1R8R3bEu6c96tNdQj658skXfKMpD4GpfuhrPJYdRBdtl7DaLf60j1bp3yAF2ICReRzxZ9xzjILWIVHSdJjqdfU8dOw6oPCSWfRzzSs7+I2suEDd5IyTwRHbo0ZNCrRyvLvbAzh6JnJsarhBzCCEuBFpTFSku+Kn0QiG1qToWY/GGLqkwuHAFltzArNQS+CEpK/nUWYhyLMBOi63j9H3chCGOjc3VhjcpV2drA9E98YxIYJvAZWQpZzRxk3BRd7OJjjlVlbBYedSX1LvgJVJW9g4pbRS7NkpsiIQQV6fEVkMxydc+Q7a/+xE5ZrKOPh/WkaISHdE7rm9/ltRxk4/QsT3W5cyx0TudXMt0/R29umMc55PC4tccLnzUzbOIvKs3SHgaUMFD2F9dpKKoQLqfHcKeSysR7SunH6l2sRJT9U5S+EKZw61U7rsKlFWxIEoIkXKjlMRaTYrvesHNvca7jwSulDApS56bdcSujMjwCqAJb4rfIcXFFY6+dfH+rhQPJ/dk+lk56xhVBsZpZ1f3YL+XOoQUP6ebOT2ZNdddCIjUdaWu4NF8dnMAIBr39uvmkaKyj0hJqdRhqLObtR2pPqHjWKjEu1DknBirNNvX7LdIsbuwEBZyMLbtpTxAPD3wE9zIRd+5WEeocqf70P1c8WCvoYcG8hTfq/dcslrPWEa25Eko2GOuvZkU60oEfX5xbDiTJ+seO8R7h5QVvzU6Roxil2PqqSBSDun4Gjc5qNy54IkS6pnsMFxRRFI9OjiW2os5NytcIeYQ1y5sw8T44YeSi6A7xXU0a6Igvs5VDJdsQSWLFGwpZsqQ4y8OBc/xHCYD0eu2k8K8VFHslDR0Y5N2ZxVsAJIKh7sFdNQldXK4cy0UQBUmJwFVQsh15UItZbHypC/pvQpeIMX6i2OEPWm3UeLilNixeW98gbx7jG6gNCNqoSCLt8y2YeNMQgiRdHX21J1Qjku7GAkBhxAyXPEh+VBqTLkQzEQv4xAypC3ShBCJ2C3Hj6ws6EILrrTFU44ic9e4VhV39xn7WbtVd6zrsZQlz/U64hC65PShUUcKkEry8l8SfFb6/V0pHmOtdjLXMUf/ybFMSVoGJ3AIOXZOT27Nlcp3IHldl3g4nz09ANBuJFuKD0jnkhiuIEWp4kNjYZ/0EINeZ49pdlqr6H0dCv8Yy7bo3ZzClhpI6SsfucltQftUyqNJao10kStEFi7WOhcHP/SAoaCwRKCoS8wV2XuNqzXfxe+v2nPJgIUcuMt5QQ+ml5D8lwR5W8ZY5T1b96jnQ17BFoGSLTUORi3EzBrrcH8eazWWeke5c0HaM0uKCckOnljuZSv7nJsBrhBziCsBnZABYtB/JSGEu7YsjSZrECRkKP5wrKAk4XZkbfyUbMkXn5DTk1upBdk5cQ3yCkmxrpToZcYg2oVGV4vtqALilJzDVSKc0S+Tat1OUjqppBsO3JZbotBT2fGFXGYBEbsTuXKDk9uX1E1LMiZKIjbdfnWXSdzGlPSg/SG0gMhqG8HnJJRJyQMR2W7Yzp/3aBOWbG8r6fn8ADkmddPxLMSEkHHjjK2NRP/CCyJB3NW8byOf609LvL+Le8hyIZRyl/bwPmPeyVUMuZSC6mYdke1C6kL5kOxPV2uklHuyvHVMvmVP2gVa0vXRepGUbblrrLXG5Zye3Jrrdq+Rm5TNg/k8do23kMayX5L8MdZz6oI5nvXOeb1y3hvySWHxu0Qn6RXigB5KSVrSxRZuC2ksLZbwuBHixsIlGWohoXTLxW24jIs4ebECOJm9xlXfu9gLrtpzjQf1nhhXqZQ67JHYJz1a9wizBEuFVIyNNR4N9aFhPHmF20mp+HBHAtlzQTIsToqJyA5yritgIvs354aFK8Qcz5UAdwKk1UgqdCWkuNR9Uqqx8ToXiV5XQorGLGjurE8uXHxkYl/Axd+llgoPkiqxrxpJRekBRyzy5JETl8lcyJwEV2l3acnTY7cZkuX05XgWB+l4SZcKrcTJL7XsCYUJeTGrhAlxY8c2zcQrJeDKdSeUkwHc1XfcxTmJs03LsUK7iKkihDjHDQugoQESMYuvvCK9Fki2j8s2FmAqJ0X5IndpT+8jxkUcmvTYcLOOOJS/8dc/6Wt4FKcpKczKWceoIC8jPs6VwDzmmSykUa8jJUXrRO/kbk5Pbs11nUzHcd3xFDWP5vPYddDa+DnRlfzH2PjhcRPpSQnntE/GD9sYxZ0lXKTcmk6QUgmPG2ek3MSF9xG90yTiXz1yl6brvtO+5GZcydlrxrj4unnPq/lcbqEH1o7MyGM600IaDxwidVbiYgxKWFM9Wvfovi866HE53i3EWFFKios/8lCOkT8XXB7Mj8FD2cGoIwUeeT7QvvGkUgXnRoZXkbvpofVQc3HfvGmQU1mR1SEcU3N1ELUlz2D+61Ysu3uGm/qtg6g79CnKtPmOWnG9qCk9idBFsWirmudUl1W6NjJFg5CYEACd6Haq8QrYmvfh589/AMnypg6UgWFIFX/Xdgll/7sDB/Oew4sPpo+tzeoKWzMqPzYi9u48pAcoAdjQV/sx3th/CRMrb+doIzjXqRXcEH21u7Hl+z/GJ7eVYP8r60ZrQtoacGjXIeC2+YKa0Tb0d3ei2S8MwX6jv+s7/jH2nO4BUhdiToqv0/3l9WUnKvaWoTn/dixL85X4+wC6W7rhFxkMP/a7bhwv/QSnh4DU24T1ch1jEfmCGoJ0rNyNh25NcLSDDX2Ndahy2TbjYUNf5f/h2eeOIa/oWTyYTp97EOdOHkW9Nl9mDUPHu8v+vPA7izFvup/E34fQvP8P+F9rmmC8h2Hhgw8hr7kEW7dXoE/qsr1nUb6vHtqHb8V8p5qXQ2jeX4Sfn7sPL6+f5txW5h60mYHU7GkQVoK0nTuJj97/HCf7xCOXts93sChDMPO9p2HefbkwV1/AZcnB3o3KP76Ej25bi4WCZ/P4PmL6u9HSHIjIYMG46zuJ0j2nMIQM3DYnXt464h+CGC1gbuuB2ekPNvTV7MP++kH7P0cu4JjOgs1PrBZcw/GsovHvco3sM8JQFStaa+WsY0r4h4RBCxPaegZFL9CLmg8Oop42o+Q96DPFOupE29BX8xnKQ7OQ0NYqahd3c3pyay69RnZGrGhNcVxXqmZ73xl8sP+8m3XUxXx2rINsTvSdQWl5ABYl9KPK6d2ka4KLHgKNhnPQ3jdPUBuc9okZLd39zs9na8L+n/8Ku5uH0Lv/T3ijdpB9J2DOCtyVasSJhnbRO3kjMISuI904ru/F/LyECaxvAPoq8Mdni8bsY/JqhXej8uW1UMT+HPt7bex627eWoDn/n/FYXoTgPaX2GjjmG/DwQysEtYqH0NJQJzGu5O41AEQ1023Nh6E7cAEQz/er/lxS2GvHf/++PwAFL+G1n6+GVlyOuOnv2FpmQaQSGDl7DDqsxxNrUgTv0YiT+y45z09P1j3HXMbD63FrnHr0vi0NOCEx3m21b+KR+W8By25xyDFykTMXRsD2bpf7nxAPZYfqCuxLXYg5KWYcr7wwvtxlO4e9r+8GNm/GhrkhHrwr54ZlqjVyzhTD4grlnvgLLYqXBZkQCRnN0DzqaqPTfSThXiRMHtJDDPpPSYVxYNSC2VhN9HoDMY1rfRSUtRGWRTDoyJbC1yTqVoqxp+hnJ7c0XsZljJcLBCVJnH7EMYyOxD0ua28K34wm4BCf/FuNpKJU56iTKlF3kwhPik+THpYJl7YlPQ3tIQZ9KSmtOEHKCnOJtrCMXKz43JHEihDZfTmuZYXG/zpcBE0Gotd9RCqqP3KccleTCj3NHil1IixlUaKWuu2kovrzcdw1qaWA9qlEeRLWcJ5kXxXEusqONxaU7Bjj8imsfys13un9sgTlaEa/K2m9oe5vLq3GUvW36bXENUxpPcyxmWwJEYxtURypvYbnZpI/xjoysfs44Rh79vlkbz9daTmpLnOsIxePEf2xLuLe4knIaFI6QcIjh2WIZpEmhM4rqYQzjszEFV85rCqu1khhMpk2ckz3kSPWW+Y6xkIHRus1W40VRFf8lmANdnUPYUZxCzEZDtjdIJm1qY4Y9J/bn9/tnJ7smnuR6ApyJRO+sfHAxorDWlXyuWDseDCfHfHeBbqL9nWntIIYrXSNKSONBrp2yIiBZ0nKGojp2IdER/cHun86lampJrotWxz/tpeMGq1iQOexdMkp6pK/cXPROK7Sgm/R2HjHfKF128fWbvbMLX20vJajzq1EnXDpvcZFciPJuUKI7L2Gxqhu1pFGq5WYDB+RYt0JYpAoSXRVn8tVM9Ks4VLtZqwgpe8WCWqgO/pGMoHXA6S4+hypOOBwP5a97hGHR4ALq35+MaluPEYOsP1TkAWbhUPoZLlLE0JkzAVCnBLTmU4Qne60mzV+IrJDGWk0nBjtQxq3PyZEga5j3DrMGYUrxDctolgwqRqIkggSL9D6k4QQQnqIoew1UvTKIdLYWEFKde/aEyrQzcRJIKbubcJr0OsKlTw5yXqoAD1eZl9XzUCLvTtqEY9RNtzDFNcxSbckYq1kKcTONSklr1tQRN51szGzWDpWB5A9gCMUdiSLAAAEGElEQVSWSUvyCoudhUGn+q9y+1JegpbRNsonhcV6J6F7VFAk0klrJN3DpJ7ZDU5xUW5iouSWgpBMsjbO96h7spt+ZT9uxrvVWEFKi4UxXkJh7YCoLV0kgXP7/CZyrFRPGq0WYqz4UNDvcKp7K/fZXM/Hid9nFGH94kJS7HSIJqwlLmMdYcljaHsWiw5aXMTl0oQ1Tkq9qzWSCmGCecCQs44JkvqwOD3xdVzdQ6jIjq4LLGMze345c3oya+4AMRQXuHCrdL7uaJ+KkDufBQJ6UZnBqdSMU6IfOXXHHVl9x44LUZ9oC0jRu8KwmQ5Soa8iPcJYVKmEWw7s7veeCukWYqzYOfoMeYWkuLRCwj3XhQuq1PXKXx1VjCTHmePtJfcaT+aKJ3KD83y3t6GLEmZX9bkkcFnG0sWhuYv4V/t7iA++5a570nHvozWxhePQfvCxraiYlDc2kIpSHdEJ13IJpV7ipceZC4Qw2c/V3BZfUa7s4EomcKUQWxuIbnPepEtrcm4suELMuQLYT1JTJTfaHmIo20YKPKoNx5k6bta+dAgUkym1xeFwxsVqKCFPeJqf4SZhuKKE/FJOubGJ0KMnhdqJZJf+trgCe42r8mJT/VzXFQ7LcKqU58Coh4CnZaauXSykUfcMyZfhqce5ueAxxJzJM3IWf3/xE6SOiQsDgCCkr74DK7NjERYoJ0KZM6XcNH05hKbdP0ba8/vRC8Aea9WEn764Hul8VeRwvjWUaYuwuKdFOhb+JsbWXIlPkY8XbombWNyw+HpNu/FYGo0DtqG34iBO/FSYM2GKuQJ7jT0Wdh5WZkW6/MxUPNf1hRmGv5dgZ2oa4sfEDSsRkL4S96ycjdQw/ysyLqcWG/pq3sfbjQ+g5KcLJxAXzrmRuf7HN2fqUUYgZWU4yn7xErbtqxUIOjb01R7Ee9uKsCv3EdwhmXSJc01x0/TlEFrOnUVCZACUtmYc/e0v8VbGc/hRLk+uweF8qyhTcGvKZRzrnVi6wRsGWxP2/3wt1uw4iaaju/AXQwzuzNVeMaHM1nIO/0iIRLByCM1HX8NP3krFKz+af+0oAZPda/q+Qcl//hZVm/8Ja67kfnTT7IEUNWJSMqEt+y3+c9te1AqTHPbVYv97r+I/d6Xj+TtSrnOFwYa+mnfxx/JM/OjppWMSnHE43GWac2WwGklF6XZBfBuNyX3LfV1GzrXHTdGXggQiwhhDDofz7WOqIvqKjql+iqmFJq8S53q4UrBkj+JY9muIiew1UvG5E6mrfKWf67pmbC4HsHwlV66U5NRhHU0kONWPwrlmURBCyFQo4hwOh8PhcDgcDofD4Uwl3GmAw+FwOBwOh8PhcDg3JVwh5nA4HA6Hw+FwOBzOTQlXiDkcDofD4XA4HA6Hc1Py/wFFlFZdEzOyrAAAAABJRU5ErkJggg==)"
      ],
      "metadata": {
        "id": "73oN0vCAeNCH"
      }
    },
    {
      "cell_type": "markdown",
      "source": [
        "This model has a special token for newlines, which is why we don’t need\n",
        "the **sent_tokenize() function**"
      ],
      "metadata": {
        "id": "ZvFIEqbFffME"
      }
    },
    {
      "cell_type": "code",
      "source": [
        "!pip install sentencepiece"
      ],
      "metadata": {
        "colab": {
          "base_uri": "https://localhost:8080/"
        },
        "id": "Ely91AsZgO4d",
        "outputId": "0c9ee7a5-3b1e-4d34-c168-3d48f9efc244"
      },
      "execution_count": 23,
      "outputs": [
        {
          "output_type": "stream",
          "name": "stdout",
          "text": [
            "Looking in indexes: https://pypi.org/simple, https://us-python.pkg.dev/colab-wheels/public/simple/\n",
            "Collecting sentencepiece\n",
            "  Downloading sentencepiece-0.1.97-cp37-cp37m-manylinux_2_17_x86_64.manylinux2014_x86_64.whl (1.3 MB)\n",
            "\u001b[K     |████████████████████████████████| 1.3 MB 5.0 MB/s \n",
            "\u001b[?25hInstalling collected packages: sentencepiece\n",
            "Successfully installed sentencepiece-0.1.97\n"
          ]
        }
      ]
    },
    {
      "cell_type": "code",
      "source": [
        "pipe = pipeline(\"summarization\", model=\"google/pegasus-cnn_dailymail\")\n",
        "pipe_out = pipe(sample_text)\n",
        "summaries[\"pegasus\"] = pipe_out[0][\"summary_text\"].replace(\" .<n>\", \".\\n\")"
      ],
      "metadata": {
        "id": "vTpKbNQEe1Q2"
      },
      "execution_count": 18,
      "outputs": []
    },
    {
      "cell_type": "markdown",
      "source": [
        "## Comparing Different Summaries"
      ],
      "metadata": {
        "id": "_lR7xGYWf8cJ"
      }
    },
    {
      "cell_type": "markdown",
      "source": [
        "* GPT-2 - It has not been trained on the dataset\n",
        "* T5,BART and PEGASUS have been fine tuned on the dataset"
      ],
      "metadata": {
        "id": "rMLwyyyolCDZ"
      }
    },
    {
      "cell_type": "code",
      "source": [
        "print(\"GROUND TRUTH\")\n",
        "print(dataset[\"train\"][1][\"highlights\"])\n",
        "print(\"\")\n",
        "for model_name in summaries:\n",
        "  print(model_name.upper())\n",
        "  print(summaries[model_name])\n",
        "  print(\"\")"
      ],
      "metadata": {
        "colab": {
          "base_uri": "https://localhost:8080/"
        },
        "id": "BWBu9cJIf-sV",
        "outputId": "fac7600f-4b89-4a03-988b-8e9d8fd638d8"
      },
      "execution_count": 19,
      "outputs": [
        {
          "output_type": "stream",
          "name": "stdout",
          "text": [
            "GROUND TRUTH\n",
            "Mentally ill inmates in Miami are housed on the \"forgotten floor\"\n",
            "Judge Steven Leifman says most are there as a result of \"avoidable felonies\"\n",
            "While CNN tours facility, patient shouts: \"I am the son of the president\"\n",
            "Leifman says the system is unjust and he's fighting for change .\n",
            "\n",
            "BASELINE\n",
            "Editor's note: In our Behind the Scenes series, CNN correspondents share their experiences in covering news and analyze the stories behind the events.\n",
            "Here, Soledad O'Brien takes users inside a jail where many of the inmates are mentally ill. An inmate housed on the \"forgotten floor,\" where many mentally ill inmates are housed in Miami before trial.\n",
            "MIAMI, Florida (CNN) -- The ninth floor of the Miami-Dade pretrial detention facility is dubbed the \"forgotten floor.\"\n",
            "\n",
            "GPT2\n",
            "\n",
            "-1.\n",
            "The 9th degree refers to a prisoner who is \"forgotten\" because of his illness\n",
            "\n",
            "-2.\n",
            "As this sentence makes no sense, it probably doesn't hold much of a weight.\n",
            "Most inmates on the 9th cannot handle an indefinite term of imprisonment, and only about 20 to 30% are charged with a mental illness.\n",
            "Many are on death's\n",
            "\n",
            "T5\n",
            "mentally ill inmates are housed on the ninth floor of a florida jail .\n",
            "most face drug charges or charges of assaulting an officer .\n",
            "judge says arrests often result from confrontations with police .\n",
            "one-third of all people in Miami-dade county jails are mental ill .\n",
            "\n",
            "BART\n",
            "Mentally ill inmates are housed on the \"forgotten floor\" of Miami-Dade jail.\n",
            "Most often, they face drug charges or charges of assaulting an officer.\n",
            "Judge Steven Leifman says the arrests often result from confrontations with police.\n",
            "He says about one-third of all people in the county jails are mentally ill.\n",
            "\n",
            "PEGASUS\n",
            "Mentally ill inmates in Miami are housed on the \"forgotten floor\"<n>The ninth floor is where they're held until they're ready to appear in court.\n",
            "Most often, they face drug charges or charges of assaulting an officer.\n",
            "They end up on the ninth floor severely mentally disturbed .\n",
            "\n"
          ]
        }
      ]
    },
    {
      "cell_type": "markdown",
      "source": [
        "* summary generated by GPT-2 is quite different from the others.Often the GPT-2\n",
        "model “hallucinates” or invents facts, since it was not explicitly trained to\n",
        "generate truthful summaries.\n",
        "\n",
        "* PEGASUS’s output bearing the most striking\n",
        "resemblance."
      ],
      "metadata": {
        "id": "NlTl2wr_mfFd"
      }
    },
    {
      "cell_type": "markdown",
      "source": [
        "## Measuring the Quality of Generated Text"
      ],
      "metadata": {
        "id": "bWkm9ceUnsH5"
      }
    },
    {
      "cell_type": "markdown",
      "source": [
        "#### BLEU Metric : Bilinguial Evaluation Understudy\n",
        "\n",
        "BLEU is a precision-based metric, which\n",
        "means that when we compare the two texts we count the number of words\n",
        "in the generation that occur in the reference and divide it by the length of\n",
        "the reference."
      ],
      "metadata": {
        "id": "1I1yeEUwnxQF"
      }
    },
    {
      "cell_type": "code",
      "source": [
        "! pip install sacrebleu"
      ],
      "metadata": {
        "colab": {
          "base_uri": "https://localhost:8080/"
        },
        "id": "27qI1fDRobV1",
        "outputId": "969791de-f0c6-4840-92a1-cecf7a5d9b50"
      },
      "execution_count": 21,
      "outputs": [
        {
          "output_type": "stream",
          "name": "stdout",
          "text": [
            "Looking in indexes: https://pypi.org/simple, https://us-python.pkg.dev/colab-wheels/public/simple/\n",
            "Collecting sacrebleu\n",
            "  Downloading sacrebleu-2.3.1-py3-none-any.whl (118 kB)\n",
            "\u001b[K     |████████████████████████████████| 118 kB 5.2 MB/s \n",
            "\u001b[?25hRequirement already satisfied: lxml in /usr/local/lib/python3.7/dist-packages (from sacrebleu) (4.9.1)\n",
            "Collecting colorama\n",
            "  Downloading colorama-0.4.6-py2.py3-none-any.whl (25 kB)\n",
            "Requirement already satisfied: tabulate>=0.8.9 in /usr/local/lib/python3.7/dist-packages (from sacrebleu) (0.8.10)\n",
            "Collecting portalocker\n",
            "  Downloading portalocker-2.6.0-py2.py3-none-any.whl (15 kB)\n",
            "Requirement already satisfied: regex in /usr/local/lib/python3.7/dist-packages (from sacrebleu) (2022.6.2)\n",
            "Requirement already satisfied: numpy>=1.17 in /usr/local/lib/python3.7/dist-packages (from sacrebleu) (1.21.6)\n",
            "Installing collected packages: portalocker, colorama, sacrebleu\n",
            "Successfully installed colorama-0.4.6 portalocker-2.6.0 sacrebleu-2.3.1\n"
          ]
        }
      ]
    },
    {
      "cell_type": "code",
      "source": [
        "from datasets import load_metric\n",
        "bleu_metric = load_metric(\"sacrebleu\")"
      ],
      "metadata": {
        "id": "bbpcm0GWnVLj"
      },
      "execution_count": 22,
      "outputs": []
    },
    {
      "cell_type": "code",
      "source": [
        "import pandas as pd\n",
        "import numpy as np"
      ],
      "metadata": {
        "id": "Su2XPy5HotLm"
      },
      "execution_count": 23,
      "outputs": []
    },
    {
      "cell_type": "code",
      "source": [
        "bleu_metric.add(prediction=\"the the the the the the\", reference=[\"the cat is on the mat\"])\n",
        "results = bleu_metric.compute(smooth_method=\"floor\", smooth_value=0)\n",
        "results[\"precisions\"] = [np.round(p, 2) for p in results[\"precisions\"]]\n",
        "pd.DataFrame.from_dict(results, orient=\"index\", columns=[\"Value\"])"
      ],
      "metadata": {
        "colab": {
          "base_uri": "https://localhost:8080/",
          "height": 269
        },
        "id": "Jj_byFwmolsc",
        "outputId": "e6c31341-82fc-4e91-9f99-260e5649f337"
      },
      "execution_count": 24,
      "outputs": [
        {
          "output_type": "execute_result",
          "data": {
            "text/plain": [
              "                             Value\n",
              "score                          0.0\n",
              "counts                [2, 0, 0, 0]\n",
              "totals                [6, 5, 4, 3]\n",
              "precisions  [33.33, 0.0, 0.0, 0.0]\n",
              "bp                             1.0\n",
              "sys_len                          6\n",
              "ref_len                          6"
            ],
            "text/html": [
              "\n",
              "  <div id=\"df-fbc53113-0ddd-492f-afb7-025d91f3d11e\">\n",
              "    <div class=\"colab-df-container\">\n",
              "      <div>\n",
              "<style scoped>\n",
              "    .dataframe tbody tr th:only-of-type {\n",
              "        vertical-align: middle;\n",
              "    }\n",
              "\n",
              "    .dataframe tbody tr th {\n",
              "        vertical-align: top;\n",
              "    }\n",
              "\n",
              "    .dataframe thead th {\n",
              "        text-align: right;\n",
              "    }\n",
              "</style>\n",
              "<table border=\"1\" class=\"dataframe\">\n",
              "  <thead>\n",
              "    <tr style=\"text-align: right;\">\n",
              "      <th></th>\n",
              "      <th>Value</th>\n",
              "    </tr>\n",
              "  </thead>\n",
              "  <tbody>\n",
              "    <tr>\n",
              "      <th>score</th>\n",
              "      <td>0.0</td>\n",
              "    </tr>\n",
              "    <tr>\n",
              "      <th>counts</th>\n",
              "      <td>[2, 0, 0, 0]</td>\n",
              "    </tr>\n",
              "    <tr>\n",
              "      <th>totals</th>\n",
              "      <td>[6, 5, 4, 3]</td>\n",
              "    </tr>\n",
              "    <tr>\n",
              "      <th>precisions</th>\n",
              "      <td>[33.33, 0.0, 0.0, 0.0]</td>\n",
              "    </tr>\n",
              "    <tr>\n",
              "      <th>bp</th>\n",
              "      <td>1.0</td>\n",
              "    </tr>\n",
              "    <tr>\n",
              "      <th>sys_len</th>\n",
              "      <td>6</td>\n",
              "    </tr>\n",
              "    <tr>\n",
              "      <th>ref_len</th>\n",
              "      <td>6</td>\n",
              "    </tr>\n",
              "  </tbody>\n",
              "</table>\n",
              "</div>\n",
              "      <button class=\"colab-df-convert\" onclick=\"convertToInteractive('df-fbc53113-0ddd-492f-afb7-025d91f3d11e')\"\n",
              "              title=\"Convert this dataframe to an interactive table.\"\n",
              "              style=\"display:none;\">\n",
              "        \n",
              "  <svg xmlns=\"http://www.w3.org/2000/svg\" height=\"24px\"viewBox=\"0 0 24 24\"\n",
              "       width=\"24px\">\n",
              "    <path d=\"M0 0h24v24H0V0z\" fill=\"none\"/>\n",
              "    <path d=\"M18.56 5.44l.94 2.06.94-2.06 2.06-.94-2.06-.94-.94-2.06-.94 2.06-2.06.94zm-11 1L8.5 8.5l.94-2.06 2.06-.94-2.06-.94L8.5 2.5l-.94 2.06-2.06.94zm10 10l.94 2.06.94-2.06 2.06-.94-2.06-.94-.94-2.06-.94 2.06-2.06.94z\"/><path d=\"M17.41 7.96l-1.37-1.37c-.4-.4-.92-.59-1.43-.59-.52 0-1.04.2-1.43.59L10.3 9.45l-7.72 7.72c-.78.78-.78 2.05 0 2.83L4 21.41c.39.39.9.59 1.41.59.51 0 1.02-.2 1.41-.59l7.78-7.78 2.81-2.81c.8-.78.8-2.07 0-2.86zM5.41 20L4 18.59l7.72-7.72 1.47 1.35L5.41 20z\"/>\n",
              "  </svg>\n",
              "      </button>\n",
              "      \n",
              "  <style>\n",
              "    .colab-df-container {\n",
              "      display:flex;\n",
              "      flex-wrap:wrap;\n",
              "      gap: 12px;\n",
              "    }\n",
              "\n",
              "    .colab-df-convert {\n",
              "      background-color: #E8F0FE;\n",
              "      border: none;\n",
              "      border-radius: 50%;\n",
              "      cursor: pointer;\n",
              "      display: none;\n",
              "      fill: #1967D2;\n",
              "      height: 32px;\n",
              "      padding: 0 0 0 0;\n",
              "      width: 32px;\n",
              "    }\n",
              "\n",
              "    .colab-df-convert:hover {\n",
              "      background-color: #E2EBFA;\n",
              "      box-shadow: 0px 1px 2px rgba(60, 64, 67, 0.3), 0px 1px 3px 1px rgba(60, 64, 67, 0.15);\n",
              "      fill: #174EA6;\n",
              "    }\n",
              "\n",
              "    [theme=dark] .colab-df-convert {\n",
              "      background-color: #3B4455;\n",
              "      fill: #D2E3FC;\n",
              "    }\n",
              "\n",
              "    [theme=dark] .colab-df-convert:hover {\n",
              "      background-color: #434B5C;\n",
              "      box-shadow: 0px 1px 3px 1px rgba(0, 0, 0, 0.15);\n",
              "      filter: drop-shadow(0px 1px 2px rgba(0, 0, 0, 0.3));\n",
              "      fill: #FFFFFF;\n",
              "    }\n",
              "  </style>\n",
              "\n",
              "      <script>\n",
              "        const buttonEl =\n",
              "          document.querySelector('#df-fbc53113-0ddd-492f-afb7-025d91f3d11e button.colab-df-convert');\n",
              "        buttonEl.style.display =\n",
              "          google.colab.kernel.accessAllowed ? 'block' : 'none';\n",
              "\n",
              "        async function convertToInteractive(key) {\n",
              "          const element = document.querySelector('#df-fbc53113-0ddd-492f-afb7-025d91f3d11e');\n",
              "          const dataTable =\n",
              "            await google.colab.kernel.invokeFunction('convertToInteractive',\n",
              "                                                     [key], {});\n",
              "          if (!dataTable) return;\n",
              "\n",
              "          const docLinkHtml = 'Like what you see? Visit the ' +\n",
              "            '<a target=\"_blank\" href=https://colab.research.google.com/notebooks/data_table.ipynb>data table notebook</a>'\n",
              "            + ' to learn more about interactive tables.';\n",
              "          element.innerHTML = '';\n",
              "          dataTable['output_type'] = 'display_data';\n",
              "          await google.colab.output.renderOutput(dataTable, element);\n",
              "          const docLink = document.createElement('div');\n",
              "          docLink.innerHTML = docLinkHtml;\n",
              "          element.appendChild(docLink);\n",
              "        }\n",
              "      </script>\n",
              "    </div>\n",
              "  </div>\n",
              "  "
            ]
          },
          "metadata": {},
          "execution_count": 24
        }
      ]
    },
    {
      "cell_type": "markdown",
      "source": [
        "* The BLEU score also works if there are multiple reference translations. This is why\n",
        "reference is passed as a list. \n",
        "* To make the metric smoother for zero counts in the ngrams,\n",
        "BLEU integrates methods to modify the precision calculation. \n",
        "* One method is to\n",
        "add a constant to the numerator. That way, a missing n-gram does not cause the score to\n",
        "automatically go to zero. "
      ],
      "metadata": {
        "id": "t7_OJFVzqlRw"
      }
    },
    {
      "cell_type": "markdown",
      "source": [
        "## ROUGE - Recall Oriented Understudy for Gisting Evaluation\n",
        "\n",
        "ROUGE is a recall based metric which checks how many n grams in the generated text (predicted) also occur in the referrence text (actual)\n",
        "\n",
        "![image.png](data:image/png;base64,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)"
      ],
      "metadata": {
        "id": "QxmtYkwxqtfr"
      }
    },
    {
      "cell_type": "markdown",
      "source": [
        "Comparing the text generated by different models based on the ROUGE metric"
      ],
      "metadata": {
        "id": "IE_Vy5k28-9x"
      }
    },
    {
      "cell_type": "code",
      "source": [
        "! pip install rouge_score"
      ],
      "metadata": {
        "colab": {
          "base_uri": "https://localhost:8080/"
        },
        "id": "SDpSQEY89pp0",
        "outputId": "246aab81-f2a9-42b2-e9a8-d82ba1ed6ca2"
      },
      "execution_count": 26,
      "outputs": [
        {
          "output_type": "stream",
          "name": "stdout",
          "text": [
            "Looking in indexes: https://pypi.org/simple, https://us-python.pkg.dev/colab-wheels/public/simple/\n",
            "Collecting rouge_score\n",
            "  Downloading rouge_score-0.1.2.tar.gz (17 kB)\n",
            "Requirement already satisfied: absl-py in /usr/local/lib/python3.7/dist-packages (from rouge_score) (1.3.0)\n",
            "Requirement already satisfied: nltk in /usr/local/lib/python3.7/dist-packages (from rouge_score) (3.7)\n",
            "Requirement already satisfied: numpy in /usr/local/lib/python3.7/dist-packages (from rouge_score) (1.21.6)\n",
            "Requirement already satisfied: six>=1.14.0 in /usr/local/lib/python3.7/dist-packages (from rouge_score) (1.15.0)\n",
            "Requirement already satisfied: regex>=2021.8.3 in /usr/local/lib/python3.7/dist-packages (from nltk->rouge_score) (2022.6.2)\n",
            "Requirement already satisfied: click in /usr/local/lib/python3.7/dist-packages (from nltk->rouge_score) (7.1.2)\n",
            "Requirement already satisfied: tqdm in /usr/local/lib/python3.7/dist-packages (from nltk->rouge_score) (4.64.1)\n",
            "Requirement already satisfied: joblib in /usr/local/lib/python3.7/dist-packages (from nltk->rouge_score) (1.2.0)\n",
            "Building wheels for collected packages: rouge-score\n",
            "  Building wheel for rouge-score (setup.py) ... \u001b[?25l\u001b[?25hdone\n",
            "  Created wheel for rouge-score: filename=rouge_score-0.1.2-py3-none-any.whl size=24955 sha256=f1f5bcf83dcea1178a1a17fb3530206ccff423e9f559b4b6ce2491e34775277e\n",
            "  Stored in directory: /root/.cache/pip/wheels/84/ac/6b/38096e3c5bf1dc87911e3585875e21a3ac610348e740409c76\n",
            "Successfully built rouge-score\n",
            "Installing collected packages: rouge-score\n",
            "Successfully installed rouge-score-0.1.2\n"
          ]
        }
      ]
    },
    {
      "cell_type": "code",
      "source": [
        "rouge_metric = load_metric(\"rouge\")\n",
        "reference = dataset[\"train\"][1][\"highlights\"]\n",
        "records = []\n",
        "rouge_names = [\"rouge1\", \"rouge2\", \"rougeL\", \"rougeLsum\"]"
      ],
      "metadata": {
        "id": "6oMN4Iyu8jps"
      },
      "execution_count": 27,
      "outputs": []
    },
    {
      "cell_type": "code",
      "source": [
        "for model_name in summaries:\n",
        "  rouge_metric.add(prediction=summaries[model_name], reference=reference)\n",
        "  score = rouge_metric.compute()\n",
        "  rouge_dict = dict((rn, score[rn].mid.fmeasure) for rn in rouge_names)\n",
        "  records.append(rouge_dict)\n",
        "pd.DataFrame.from_records(records, index=summaries.keys())"
      ],
      "metadata": {
        "colab": {
          "base_uri": "https://localhost:8080/",
          "height": 206
        },
        "id": "GMgZ83JX90Sd",
        "outputId": "e6b80a2e-9744-4457-a2ed-0427e8d14a81"
      },
      "execution_count": 28,
      "outputs": [
        {
          "output_type": "execute_result",
          "data": {
            "text/plain": [
              "            rouge1    rouge2    rougeL  rougeLsum\n",
              "baseline  0.365079  0.145161  0.206349   0.285714\n",
              "gpt2      0.275229  0.018692  0.146789   0.275229\n",
              "t5        0.382979  0.130435  0.255319   0.382979\n",
              "bart      0.475248  0.222222  0.316832   0.415842\n",
              "pegasus   0.323232  0.206186  0.282828   0.323232"
            ],
            "text/html": [
              "\n",
              "  <div id=\"df-4c276ae5-259a-4f4f-a02a-80557d5d311d\">\n",
              "    <div class=\"colab-df-container\">\n",
              "      <div>\n",
              "<style scoped>\n",
              "    .dataframe tbody tr th:only-of-type {\n",
              "        vertical-align: middle;\n",
              "    }\n",
              "\n",
              "    .dataframe tbody tr th {\n",
              "        vertical-align: top;\n",
              "    }\n",
              "\n",
              "    .dataframe thead th {\n",
              "        text-align: right;\n",
              "    }\n",
              "</style>\n",
              "<table border=\"1\" class=\"dataframe\">\n",
              "  <thead>\n",
              "    <tr style=\"text-align: right;\">\n",
              "      <th></th>\n",
              "      <th>rouge1</th>\n",
              "      <th>rouge2</th>\n",
              "      <th>rougeL</th>\n",
              "      <th>rougeLsum</th>\n",
              "    </tr>\n",
              "  </thead>\n",
              "  <tbody>\n",
              "    <tr>\n",
              "      <th>baseline</th>\n",
              "      <td>0.365079</td>\n",
              "      <td>0.145161</td>\n",
              "      <td>0.206349</td>\n",
              "      <td>0.285714</td>\n",
              "    </tr>\n",
              "    <tr>\n",
              "      <th>gpt2</th>\n",
              "      <td>0.275229</td>\n",
              "      <td>0.018692</td>\n",
              "      <td>0.146789</td>\n",
              "      <td>0.275229</td>\n",
              "    </tr>\n",
              "    <tr>\n",
              "      <th>t5</th>\n",
              "      <td>0.382979</td>\n",
              "      <td>0.130435</td>\n",
              "      <td>0.255319</td>\n",
              "      <td>0.382979</td>\n",
              "    </tr>\n",
              "    <tr>\n",
              "      <th>bart</th>\n",
              "      <td>0.475248</td>\n",
              "      <td>0.222222</td>\n",
              "      <td>0.316832</td>\n",
              "      <td>0.415842</td>\n",
              "    </tr>\n",
              "    <tr>\n",
              "      <th>pegasus</th>\n",
              "      <td>0.323232</td>\n",
              "      <td>0.206186</td>\n",
              "      <td>0.282828</td>\n",
              "      <td>0.323232</td>\n",
              "    </tr>\n",
              "  </tbody>\n",
              "</table>\n",
              "</div>\n",
              "      <button class=\"colab-df-convert\" onclick=\"convertToInteractive('df-4c276ae5-259a-4f4f-a02a-80557d5d311d')\"\n",
              "              title=\"Convert this dataframe to an interactive table.\"\n",
              "              style=\"display:none;\">\n",
              "        \n",
              "  <svg xmlns=\"http://www.w3.org/2000/svg\" height=\"24px\"viewBox=\"0 0 24 24\"\n",
              "       width=\"24px\">\n",
              "    <path d=\"M0 0h24v24H0V0z\" fill=\"none\"/>\n",
              "    <path d=\"M18.56 5.44l.94 2.06.94-2.06 2.06-.94-2.06-.94-.94-2.06-.94 2.06-2.06.94zm-11 1L8.5 8.5l.94-2.06 2.06-.94-2.06-.94L8.5 2.5l-.94 2.06-2.06.94zm10 10l.94 2.06.94-2.06 2.06-.94-2.06-.94-.94-2.06-.94 2.06-2.06.94z\"/><path d=\"M17.41 7.96l-1.37-1.37c-.4-.4-.92-.59-1.43-.59-.52 0-1.04.2-1.43.59L10.3 9.45l-7.72 7.72c-.78.78-.78 2.05 0 2.83L4 21.41c.39.39.9.59 1.41.59.51 0 1.02-.2 1.41-.59l7.78-7.78 2.81-2.81c.8-.78.8-2.07 0-2.86zM5.41 20L4 18.59l7.72-7.72 1.47 1.35L5.41 20z\"/>\n",
              "  </svg>\n",
              "      </button>\n",
              "      \n",
              "  <style>\n",
              "    .colab-df-container {\n",
              "      display:flex;\n",
              "      flex-wrap:wrap;\n",
              "      gap: 12px;\n",
              "    }\n",
              "\n",
              "    .colab-df-convert {\n",
              "      background-color: #E8F0FE;\n",
              "      border: none;\n",
              "      border-radius: 50%;\n",
              "      cursor: pointer;\n",
              "      display: none;\n",
              "      fill: #1967D2;\n",
              "      height: 32px;\n",
              "      padding: 0 0 0 0;\n",
              "      width: 32px;\n",
              "    }\n",
              "\n",
              "    .colab-df-convert:hover {\n",
              "      background-color: #E2EBFA;\n",
              "      box-shadow: 0px 1px 2px rgba(60, 64, 67, 0.3), 0px 1px 3px 1px rgba(60, 64, 67, 0.15);\n",
              "      fill: #174EA6;\n",
              "    }\n",
              "\n",
              "    [theme=dark] .colab-df-convert {\n",
              "      background-color: #3B4455;\n",
              "      fill: #D2E3FC;\n",
              "    }\n",
              "\n",
              "    [theme=dark] .colab-df-convert:hover {\n",
              "      background-color: #434B5C;\n",
              "      box-shadow: 0px 1px 3px 1px rgba(0, 0, 0, 0.15);\n",
              "      filter: drop-shadow(0px 1px 2px rgba(0, 0, 0, 0.3));\n",
              "      fill: #FFFFFF;\n",
              "    }\n",
              "  </style>\n",
              "\n",
              "      <script>\n",
              "        const buttonEl =\n",
              "          document.querySelector('#df-4c276ae5-259a-4f4f-a02a-80557d5d311d button.colab-df-convert');\n",
              "        buttonEl.style.display =\n",
              "          google.colab.kernel.accessAllowed ? 'block' : 'none';\n",
              "\n",
              "        async function convertToInteractive(key) {\n",
              "          const element = document.querySelector('#df-4c276ae5-259a-4f4f-a02a-80557d5d311d');\n",
              "          const dataTable =\n",
              "            await google.colab.kernel.invokeFunction('convertToInteractive',\n",
              "                                                     [key], {});\n",
              "          if (!dataTable) return;\n",
              "\n",
              "          const docLinkHtml = 'Like what you see? Visit the ' +\n",
              "            '<a target=\"_blank\" href=https://colab.research.google.com/notebooks/data_table.ipynb>data table notebook</a>'\n",
              "            + ' to learn more about interactive tables.';\n",
              "          element.innerHTML = '';\n",
              "          dataTable['output_type'] = 'display_data';\n",
              "          await google.colab.output.renderOutput(dataTable, element);\n",
              "          const docLink = document.createElement('div');\n",
              "          docLink.innerHTML = docLinkHtml;\n",
              "          element.appendChild(docLink);\n",
              "        }\n",
              "      </script>\n",
              "    </div>\n",
              "  </div>\n",
              "  "
            ]
          },
          "metadata": {},
          "execution_count": 28
        }
      ]
    },
    {
      "cell_type": "markdown",
      "source": [
        "* The ROUGE metric in the Datasets library also calculates confidence intervals (by\n",
        "default, the 5th and 95th percentiles). \n",
        "* The average value is stored in the attribute mid\n",
        "and the interval can be retrieved with low and high.\n",
        "\n",
        "* PEGASUS and BART are the best models overall\n",
        "(higher ROUGE scores are better), but T5 is slightly better on ROUGE-1\n",
        "and the LCS scores. "
      ],
      "metadata": {
        "id": "9xBnJVdW-MQx"
      }
    },
    {
      "cell_type": "markdown",
      "source": [
        "## Evaluating PEGASUS on the CNN/DailyMail Dataset"
      ],
      "metadata": {
        "id": "7Ig7426yDn--"
      }
    },
    {
      "cell_type": "code",
      "source": [
        "def evaluate_summaries_baseline(dataset, metric,column_text=\"article\",column_summary=\"highlights\"):\n",
        "  summaries = [three_sentence_summary(text) for text in dataset[column_text]]\n",
        "  metric.add_batch(predictions=summaries,references=dataset[column_summary])\n",
        "  score = metric.compute()\n",
        "  return score"
      ],
      "metadata": {
        "id": "Wea4sTnoDtKk"
      },
      "execution_count": 29,
      "outputs": []
    },
    {
      "cell_type": "code",
      "source": [
        "test_sampled = dataset[\"test\"].shuffle(seed=42).select(range(1000))"
      ],
      "metadata": {
        "id": "Utqq3l4NDrPI"
      },
      "execution_count": 30,
      "outputs": []
    },
    {
      "cell_type": "code",
      "source": [
        "test_sampled"
      ],
      "metadata": {
        "colab": {
          "base_uri": "https://localhost:8080/"
        },
        "id": "du1DYuQnEGRh",
        "outputId": "fad9577b-ee15-4dba-9e9f-facdb832ac01"
      },
      "execution_count": 31,
      "outputs": [
        {
          "output_type": "execute_result",
          "data": {
            "text/plain": [
              "Dataset({\n",
              "    features: ['article', 'highlights', 'id'],\n",
              "    num_rows: 1000\n",
              "})"
            ]
          },
          "metadata": {},
          "execution_count": 31
        }
      ]
    },
    {
      "cell_type": "code",
      "source": [
        "score = evaluate_summaries_baseline(test_sampled, rouge_metric)\n",
        "rouge_dict = dict((rn, score[rn].mid.fmeasure) for rn in rouge_names)"
      ],
      "metadata": {
        "id": "1nAAgzlTEIkh"
      },
      "execution_count": 32,
      "outputs": []
    },
    {
      "cell_type": "code",
      "source": [
        "pd.DataFrame.from_dict(rouge_dict, orient=\"index\", columns=[\"baseline\"]).T"
      ],
      "metadata": {
        "colab": {
          "base_uri": "https://localhost:8080/",
          "height": 81
        },
        "id": "zleanaw1ER6E",
        "outputId": "32849ae0-ec94-4e13-e5b1-f0f9bb4bd93b"
      },
      "execution_count": 33,
      "outputs": [
        {
          "output_type": "execute_result",
          "data": {
            "text/plain": [
              "            rouge1    rouge2    rougeL  rougeLsum\n",
              "baseline  0.389276  0.171296  0.245061   0.354239"
            ],
            "text/html": [
              "\n",
              "  <div id=\"df-e6cc0ffe-2208-4cce-9db1-a6a4b743973e\">\n",
              "    <div class=\"colab-df-container\">\n",
              "      <div>\n",
              "<style scoped>\n",
              "    .dataframe tbody tr th:only-of-type {\n",
              "        vertical-align: middle;\n",
              "    }\n",
              "\n",
              "    .dataframe tbody tr th {\n",
              "        vertical-align: top;\n",
              "    }\n",
              "\n",
              "    .dataframe thead th {\n",
              "        text-align: right;\n",
              "    }\n",
              "</style>\n",
              "<table border=\"1\" class=\"dataframe\">\n",
              "  <thead>\n",
              "    <tr style=\"text-align: right;\">\n",
              "      <th></th>\n",
              "      <th>rouge1</th>\n",
              "      <th>rouge2</th>\n",
              "      <th>rougeL</th>\n",
              "      <th>rougeLsum</th>\n",
              "    </tr>\n",
              "  </thead>\n",
              "  <tbody>\n",
              "    <tr>\n",
              "      <th>baseline</th>\n",
              "      <td>0.389276</td>\n",
              "      <td>0.171296</td>\n",
              "      <td>0.245061</td>\n",
              "      <td>0.354239</td>\n",
              "    </tr>\n",
              "  </tbody>\n",
              "</table>\n",
              "</div>\n",
              "      <button class=\"colab-df-convert\" onclick=\"convertToInteractive('df-e6cc0ffe-2208-4cce-9db1-a6a4b743973e')\"\n",
              "              title=\"Convert this dataframe to an interactive table.\"\n",
              "              style=\"display:none;\">\n",
              "        \n",
              "  <svg xmlns=\"http://www.w3.org/2000/svg\" height=\"24px\"viewBox=\"0 0 24 24\"\n",
              "       width=\"24px\">\n",
              "    <path d=\"M0 0h24v24H0V0z\" fill=\"none\"/>\n",
              "    <path d=\"M18.56 5.44l.94 2.06.94-2.06 2.06-.94-2.06-.94-.94-2.06-.94 2.06-2.06.94zm-11 1L8.5 8.5l.94-2.06 2.06-.94-2.06-.94L8.5 2.5l-.94 2.06-2.06.94zm10 10l.94 2.06.94-2.06 2.06-.94-2.06-.94-.94-2.06-.94 2.06-2.06.94z\"/><path d=\"M17.41 7.96l-1.37-1.37c-.4-.4-.92-.59-1.43-.59-.52 0-1.04.2-1.43.59L10.3 9.45l-7.72 7.72c-.78.78-.78 2.05 0 2.83L4 21.41c.39.39.9.59 1.41.59.51 0 1.02-.2 1.41-.59l7.78-7.78 2.81-2.81c.8-.78.8-2.07 0-2.86zM5.41 20L4 18.59l7.72-7.72 1.47 1.35L5.41 20z\"/>\n",
              "  </svg>\n",
              "      </button>\n",
              "      \n",
              "  <style>\n",
              "    .colab-df-container {\n",
              "      display:flex;\n",
              "      flex-wrap:wrap;\n",
              "      gap: 12px;\n",
              "    }\n",
              "\n",
              "    .colab-df-convert {\n",
              "      background-color: #E8F0FE;\n",
              "      border: none;\n",
              "      border-radius: 50%;\n",
              "      cursor: pointer;\n",
              "      display: none;\n",
              "      fill: #1967D2;\n",
              "      height: 32px;\n",
              "      padding: 0 0 0 0;\n",
              "      width: 32px;\n",
              "    }\n",
              "\n",
              "    .colab-df-convert:hover {\n",
              "      background-color: #E2EBFA;\n",
              "      box-shadow: 0px 1px 2px rgba(60, 64, 67, 0.3), 0px 1px 3px 1px rgba(60, 64, 67, 0.15);\n",
              "      fill: #174EA6;\n",
              "    }\n",
              "\n",
              "    [theme=dark] .colab-df-convert {\n",
              "      background-color: #3B4455;\n",
              "      fill: #D2E3FC;\n",
              "    }\n",
              "\n",
              "    [theme=dark] .colab-df-convert:hover {\n",
              "      background-color: #434B5C;\n",
              "      box-shadow: 0px 1px 3px 1px rgba(0, 0, 0, 0.15);\n",
              "      filter: drop-shadow(0px 1px 2px rgba(0, 0, 0, 0.3));\n",
              "      fill: #FFFFFF;\n",
              "    }\n",
              "  </style>\n",
              "\n",
              "      <script>\n",
              "        const buttonEl =\n",
              "          document.querySelector('#df-e6cc0ffe-2208-4cce-9db1-a6a4b743973e button.colab-df-convert');\n",
              "        buttonEl.style.display =\n",
              "          google.colab.kernel.accessAllowed ? 'block' : 'none';\n",
              "\n",
              "        async function convertToInteractive(key) {\n",
              "          const element = document.querySelector('#df-e6cc0ffe-2208-4cce-9db1-a6a4b743973e');\n",
              "          const dataTable =\n",
              "            await google.colab.kernel.invokeFunction('convertToInteractive',\n",
              "                                                     [key], {});\n",
              "          if (!dataTable) return;\n",
              "\n",
              "          const docLinkHtml = 'Like what you see? Visit the ' +\n",
              "            '<a target=\"_blank\" href=https://colab.research.google.com/notebooks/data_table.ipynb>data table notebook</a>'\n",
              "            + ' to learn more about interactive tables.';\n",
              "          element.innerHTML = '';\n",
              "          dataTable['output_type'] = 'display_data';\n",
              "          await google.colab.output.renderOutput(dataTable, element);\n",
              "          const docLink = document.createElement('div');\n",
              "          docLink.innerHTML = docLinkHtml;\n",
              "          element.appendChild(docLink);\n",
              "        }\n",
              "      </script>\n",
              "    </div>\n",
              "  </div>\n",
              "  "
            ]
          },
          "metadata": {},
          "execution_count": 33
        }
      ]
    },
    {
      "cell_type": "code",
      "source": [
        "from tqdm import tqdm\n",
        "import torch\n",
        "device = \"cuda\" if torch.cuda.is_available() else \"cpu\"\n",
        "def chunks(list_of_elements, batch_size):\n",
        "  \"\"\"Yield successive batch-sized chunks from list_of_elements.\"\"\"\n",
        "  for i in range(0, len(list_of_elements), batch_size):\n",
        "    yield list_of_elements[i : i + batch_size]\n"
      ],
      "metadata": {
        "id": "X2VSQxJMEn9d"
      },
      "execution_count": 34,
      "outputs": []
    },
    {
      "cell_type": "code",
      "source": [
        "def evaluate_summaries_pegasus(dataset, \n",
        "                               metric, \n",
        "                               model, \n",
        "                               tokenizer,\n",
        "                               batch_size=16, \n",
        "                               device=device,\n",
        "                               column_text=\"article\",\n",
        "                               column_summary=\"highlights\"):\n",
        "  article_batches = list(chunks(dataset[column_text], batch_size))\n",
        "  target_batches = list(chunks(dataset[column_summary], batch_size))\n",
        "  for article_batch, target_batch in tqdm(zip(article_batches, target_batches), total=len(article_batches)):\n",
        "    inputs = tokenizer(article_batch, max_length=1024, truncation=True,padding=\"max_length\", return_tensors=\"pt\")\n",
        "    summaries = model.generate(input_ids=inputs[\"input_ids\"].to(device),\n",
        "                               attention_mask=inputs[\"attention_mask\"].to(device),\n",
        "                               length_penalty=0.8, num_beams=8, max_length=128)\n",
        "    decoded_summaries = [tokenizer.decode(s, skip_special_tokens=True,clean_up_tokenization_spaces=True) for s in summaries]\n",
        "    decoded_summaries = [d.replace(\"<n>\", \" \") for d in decoded_summaries]\n",
        "    metric.add_batch(predictions=decoded_summaries,references=target_batch)\n",
        "    score = metric.compute()\n",
        "  return score"
      ],
      "metadata": {
        "id": "xYuwFMcCE8is"
      },
      "execution_count": 35,
      "outputs": []
    },
    {
      "cell_type": "code",
      "source": [
        "from transformers import AutoModelForSeq2SeqLM, AutoTokenizer\n",
        "model_ckpt = \"google/pegasus-cnn_dailymail\"\n",
        "tokenizer = AutoTokenizer.from_pretrained(model_ckpt)\n",
        "model = AutoModelForSeq2SeqLM.from_pretrained(model_ckpt).to(device)\n",
        "score = evaluate_summaries_pegasus(test_sampled, rouge_metric,model, tokenizer, batch_size=8)"
      ],
      "metadata": {
        "colab": {
          "base_uri": "https://localhost:8080/"
        },
        "id": "BINcIgktF76x",
        "outputId": "70903bd6-0bef-4dce-8703-bf22bdab6f03"
      },
      "execution_count": 36,
      "outputs": [
        {
          "output_type": "stream",
          "name": "stderr",
          "text": [
            "100%|██████████| 125/125 [29:34<00:00, 14.19s/it]\n"
          ]
        }
      ]
    },
    {
      "cell_type": "markdown",
      "source": [
        "* **ROUGE** and **BLEU** correlate better with human judgment than loss\n",
        "or accuracy,"
      ],
      "metadata": {
        "id": "XNA_wSIDGegW"
      }
    },
    {
      "cell_type": "code",
      "source": [
        "from transformers import AutoModelForSeq2SeqLM, AutoTokenizer\n",
        "model_ckpt = \"google/pegasus-cnn_dailymail\"\n",
        "tokenizer = AutoTokenizer.from_pretrained(model_ckpt)\n",
        "model = AutoModelForSeq2SeqLM.from_pretrained(model_ckpt).to(device)\n",
        "score = evaluate_summaries_pegasus(test_sampled, rouge_metric,\n",
        "model, tokenizer, batch_size=8)\n",
        "rouge_dict = dict((rn, score[rn].mid.fmeasure) for rn in rouge_names)\n",
        "pd.DataFrame(rouge_dict, index=[\"pegasus\"])"
      ],
      "metadata": {
        "colab": {
          "base_uri": "https://localhost:8080/",
          "height": 98
        },
        "id": "grl5pU3mRD5_",
        "outputId": "215dbf7d-889b-4945-eeeb-389ee318909d"
      },
      "execution_count": 37,
      "outputs": [
        {
          "output_type": "stream",
          "name": "stderr",
          "text": [
            "100%|██████████| 125/125 [29:51<00:00, 14.33s/it]\n"
          ]
        },
        {
          "output_type": "execute_result",
          "data": {
            "text/plain": [
              "           rouge1    rouge2    rougeL  rougeLsum\n",
              "pegasus  0.399064  0.199771  0.312571   0.356463"
            ],
            "text/html": [
              "\n",
              "  <div id=\"df-d8ff0c5f-0390-4168-8dc0-17cdb227d22e\">\n",
              "    <div class=\"colab-df-container\">\n",
              "      <div>\n",
              "<style scoped>\n",
              "    .dataframe tbody tr th:only-of-type {\n",
              "        vertical-align: middle;\n",
              "    }\n",
              "\n",
              "    .dataframe tbody tr th {\n",
              "        vertical-align: top;\n",
              "    }\n",
              "\n",
              "    .dataframe thead th {\n",
              "        text-align: right;\n",
              "    }\n",
              "</style>\n",
              "<table border=\"1\" class=\"dataframe\">\n",
              "  <thead>\n",
              "    <tr style=\"text-align: right;\">\n",
              "      <th></th>\n",
              "      <th>rouge1</th>\n",
              "      <th>rouge2</th>\n",
              "      <th>rougeL</th>\n",
              "      <th>rougeLsum</th>\n",
              "    </tr>\n",
              "  </thead>\n",
              "  <tbody>\n",
              "    <tr>\n",
              "      <th>pegasus</th>\n",
              "      <td>0.399064</td>\n",
              "      <td>0.199771</td>\n",
              "      <td>0.312571</td>\n",
              "      <td>0.356463</td>\n",
              "    </tr>\n",
              "  </tbody>\n",
              "</table>\n",
              "</div>\n",
              "      <button class=\"colab-df-convert\" onclick=\"convertToInteractive('df-d8ff0c5f-0390-4168-8dc0-17cdb227d22e')\"\n",
              "              title=\"Convert this dataframe to an interactive table.\"\n",
              "              style=\"display:none;\">\n",
              "        \n",
              "  <svg xmlns=\"http://www.w3.org/2000/svg\" height=\"24px\"viewBox=\"0 0 24 24\"\n",
              "       width=\"24px\">\n",
              "    <path d=\"M0 0h24v24H0V0z\" fill=\"none\"/>\n",
              "    <path d=\"M18.56 5.44l.94 2.06.94-2.06 2.06-.94-2.06-.94-.94-2.06-.94 2.06-2.06.94zm-11 1L8.5 8.5l.94-2.06 2.06-.94-2.06-.94L8.5 2.5l-.94 2.06-2.06.94zm10 10l.94 2.06.94-2.06 2.06-.94-2.06-.94-.94-2.06-.94 2.06-2.06.94z\"/><path d=\"M17.41 7.96l-1.37-1.37c-.4-.4-.92-.59-1.43-.59-.52 0-1.04.2-1.43.59L10.3 9.45l-7.72 7.72c-.78.78-.78 2.05 0 2.83L4 21.41c.39.39.9.59 1.41.59.51 0 1.02-.2 1.41-.59l7.78-7.78 2.81-2.81c.8-.78.8-2.07 0-2.86zM5.41 20L4 18.59l7.72-7.72 1.47 1.35L5.41 20z\"/>\n",
              "  </svg>\n",
              "      </button>\n",
              "      \n",
              "  <style>\n",
              "    .colab-df-container {\n",
              "      display:flex;\n",
              "      flex-wrap:wrap;\n",
              "      gap: 12px;\n",
              "    }\n",
              "\n",
              "    .colab-df-convert {\n",
              "      background-color: #E8F0FE;\n",
              "      border: none;\n",
              "      border-radius: 50%;\n",
              "      cursor: pointer;\n",
              "      display: none;\n",
              "      fill: #1967D2;\n",
              "      height: 32px;\n",
              "      padding: 0 0 0 0;\n",
              "      width: 32px;\n",
              "    }\n",
              "\n",
              "    .colab-df-convert:hover {\n",
              "      background-color: #E2EBFA;\n",
              "      box-shadow: 0px 1px 2px rgba(60, 64, 67, 0.3), 0px 1px 3px 1px rgba(60, 64, 67, 0.15);\n",
              "      fill: #174EA6;\n",
              "    }\n",
              "\n",
              "    [theme=dark] .colab-df-convert {\n",
              "      background-color: #3B4455;\n",
              "      fill: #D2E3FC;\n",
              "    }\n",
              "\n",
              "    [theme=dark] .colab-df-convert:hover {\n",
              "      background-color: #434B5C;\n",
              "      box-shadow: 0px 1px 3px 1px rgba(0, 0, 0, 0.15);\n",
              "      filter: drop-shadow(0px 1px 2px rgba(0, 0, 0, 0.3));\n",
              "      fill: #FFFFFF;\n",
              "    }\n",
              "  </style>\n",
              "\n",
              "      <script>\n",
              "        const buttonEl =\n",
              "          document.querySelector('#df-d8ff0c5f-0390-4168-8dc0-17cdb227d22e button.colab-df-convert');\n",
              "        buttonEl.style.display =\n",
              "          google.colab.kernel.accessAllowed ? 'block' : 'none';\n",
              "\n",
              "        async function convertToInteractive(key) {\n",
              "          const element = document.querySelector('#df-d8ff0c5f-0390-4168-8dc0-17cdb227d22e');\n",
              "          const dataTable =\n",
              "            await google.colab.kernel.invokeFunction('convertToInteractive',\n",
              "                                                     [key], {});\n",
              "          if (!dataTable) return;\n",
              "\n",
              "          const docLinkHtml = 'Like what you see? Visit the ' +\n",
              "            '<a target=\"_blank\" href=https://colab.research.google.com/notebooks/data_table.ipynb>data table notebook</a>'\n",
              "            + ' to learn more about interactive tables.';\n",
              "          element.innerHTML = '';\n",
              "          dataTable['output_type'] = 'display_data';\n",
              "          await google.colab.output.renderOutput(dataTable, element);\n",
              "          const docLink = document.createElement('div');\n",
              "          docLink.innerHTML = docLinkHtml;\n",
              "          element.appendChild(docLink);\n",
              "        }\n",
              "      </script>\n",
              "    </div>\n",
              "  </div>\n",
              "  "
            ]
          },
          "metadata": {},
          "execution_count": 37
        }
      ]
    },
    {
      "cell_type": "markdown",
      "source": [
        "## Training a Summarization Model"
      ],
      "metadata": {
        "id": "dsdIG2jZRNp0"
      }
    },
    {
      "cell_type": "code",
      "source": [
        "! pip install py7zr"
      ],
      "metadata": {
        "colab": {
          "base_uri": "https://localhost:8080/"
        },
        "id": "KW5j8S_6acN6",
        "outputId": "c128bee0-f7de-4108-93f3-011a33041f90"
      },
      "execution_count": 40,
      "outputs": [
        {
          "output_type": "stream",
          "name": "stdout",
          "text": [
            "Looking in indexes: https://pypi.org/simple, https://us-python.pkg.dev/colab-wheels/public/simple/\n",
            "Collecting py7zr\n",
            "  Downloading py7zr-0.20.0-py3-none-any.whl (64 kB)\n",
            "\u001b[K     |████████████████████████████████| 64 kB 2.8 MB/s \n",
            "\u001b[?25hCollecting multivolumefile>=0.2.3\n",
            "  Downloading multivolumefile-0.2.3-py3-none-any.whl (17 kB)\n",
            "Collecting pybcj>=0.6.0\n",
            "  Downloading pybcj-1.0.1-cp37-cp37m-manylinux_2_17_x86_64.manylinux2014_x86_64.whl (50 kB)\n",
            "\u001b[K     |████████████████████████████████| 50 kB 5.1 MB/s \n",
            "\u001b[?25hCollecting brotli>=1.0.9\n",
            "  Downloading Brotli-1.0.9-cp37-cp37m-manylinux1_x86_64.whl (357 kB)\n",
            "\u001b[K     |████████████████████████████████| 357 kB 11.0 MB/s \n",
            "\u001b[?25hCollecting pyzstd>=0.14.4\n",
            "  Downloading pyzstd-0.15.3-cp37-cp37m-manylinux_2_17_x86_64.manylinux2014_x86_64.whl (379 kB)\n",
            "\u001b[K     |████████████████████████████████| 379 kB 43.4 MB/s \n",
            "\u001b[?25hRequirement already satisfied: importlib-metadata in /usr/local/lib/python3.7/dist-packages (from py7zr) (4.13.0)\n",
            "Collecting inflate64>=0.3.0\n",
            "  Downloading inflate64-0.3.0-cp37-cp37m-manylinux_2_17_x86_64.manylinux2014_x86_64.whl (92 kB)\n",
            "\u001b[K     |████████████████████████████████| 92 kB 12.1 MB/s \n",
            "\u001b[?25hCollecting pycryptodomex>=3.6.6\n",
            "  Downloading pycryptodomex-3.15.0-cp35-abi3-manylinux2010_x86_64.whl (2.3 MB)\n",
            "\u001b[K     |████████████████████████████████| 2.3 MB 44.3 MB/s \n",
            "\u001b[?25hCollecting pyppmd<0.19.0,>=0.18.1\n",
            "  Downloading pyppmd-0.18.3-cp37-cp37m-manylinux_2_17_x86_64.manylinux2014_x86_64.whl (138 kB)\n",
            "\u001b[K     |████████████████████████████████| 138 kB 43.9 MB/s \n",
            "\u001b[?25hRequirement already satisfied: psutil in /usr/local/lib/python3.7/dist-packages (from py7zr) (5.4.8)\n",
            "Collecting texttable\n",
            "  Downloading texttable-1.6.4-py2.py3-none-any.whl (10 kB)\n",
            "Requirement already satisfied: typing-extensions>=3.6.4 in /usr/local/lib/python3.7/dist-packages (from importlib-metadata->py7zr) (4.1.1)\n",
            "Requirement already satisfied: zipp>=0.5 in /usr/local/lib/python3.7/dist-packages (from importlib-metadata->py7zr) (3.9.0)\n",
            "Installing collected packages: texttable, pyzstd, pyppmd, pycryptodomex, pybcj, multivolumefile, inflate64, brotli, py7zr\n",
            "Successfully installed brotli-1.0.9 inflate64-0.3.0 multivolumefile-0.2.3 py7zr-0.20.0 pybcj-1.0.1 pycryptodomex-3.15.0 pyppmd-0.18.3 pyzstd-0.15.3 texttable-1.6.4\n"
          ]
        }
      ]
    },
    {
      "cell_type": "code",
      "source": [
        "dataset_samsum = load_dataset(\"samsum\")\n",
        "split_lengths = [len(dataset_samsum[split])for split in dataset_samsum]\n",
        "print(f\"Split lengths: {split_lengths}\")\n",
        "print(f\"Features: {dataset_samsum['train'].column_names}\")\n",
        "print(\"\\nDialogue:\")\n",
        "print(dataset_samsum[\"test\"][0][\"dialogue\"])\n",
        "print(\"\\nSummary:\")\n",
        "print(dataset_samsum[\"test\"][0][\"summary\"])"
      ],
      "metadata": {
        "colab": {
          "base_uri": "https://localhost:8080/",
          "height": 517,
          "referenced_widgets": [
            "da7f77252b154ed5b368939f556753c0",
            "3b272bd8a41e416aa65cf39ef074a3eb",
            "7082468a30294425a90e7167150bc5e4",
            "4129fc26c0a34e118fa9c88e209ab269",
            "33e073b140d945d89c8e072eacf984f7",
            "19f9eeaa9faf44548650cdc6f76487f0",
            "e9f4de04008e4758863d8d5105db0562",
            "bf40a7036f5b41279542e0f0a7e758bb",
            "d4f591797e324c10a274d7bf50f92d57",
            "dba4c23d4c494f0490623b167ac227ac",
            "60945faf644442ec994595a69aaa1ab8",
            "ce448bc5a58e4f7686e1b0039ad2e3fc",
            "a6f52677c63442ed9ec7d4bd8bfd5e09",
            "01f7fbfbe19242b39d32a0c27f88f64d",
            "e9e4d33f2e9f46f0b36c1d15ec1be757",
            "d837e834e3db423181c1728d6552b95c",
            "dc6510a3814f4c3f8ff0fb2e36a1fd44",
            "85a88080935445f8bbc0240c4d15a193",
            "335bb05d80404494ab3bab63271aa934",
            "83a1f40c233144949169bff25cd3fa20",
            "334f13b326ad4ccf8ae8686003da44c2",
            "34d923dd3a15487da261a2b09225657c",
            "daf1ee815f4746e59fd9d4c673ab0197",
            "234bb7e6af84487b9b4877303d780fdb",
            "c06dd6f6f8604baaa8db79e873080c48",
            "813dd0acc7394bae875777ebf37a086a",
            "27a912cfe0c0415ca23f53c33a66928d",
            "0ef1f28f6bff4f608938ba44d86f4a52",
            "0225244dec034326b0107971575adf07",
            "bbd1b0ba7304416b8ac6515d7fe58d7a",
            "8b1331710e1a471e92c005c7dad5b99f",
            "a7b1e73a13604d1584e2c2930f318188",
            "9376c318c1414b979e39b6ff4dc5c7f8",
            "980fc16ac37845549e38c82c1358cba9",
            "1facf99caff84bf697789d53f73e5008",
            "80ce3470b3d845e68109b0bf076f84fd",
            "be0e50fbfa054371853c4318939d9a44",
            "83893389a513408ca4e437803345c9b7",
            "96b240c945d6495c8fbedd285bb097d2",
            "ec3aa3f0d5044715b2fc4ae338564431",
            "591f6cd508eb47c9850b300407089b3f",
            "207914f485344acb94b3f40f00a7d9c8",
            "2525c5b507564355b3c815538ce09257",
            "92c997926d9c4e9f9a5f879a47f35d31",
            "a5e8e53a73c94eca88c9baeba54783a4",
            "8786b04e0c0b44fa937091ea51b9a039",
            "72c0383f65904ae5a3e0177d4af96bd0",
            "0894b29c1b114bee9463c045c3541c75",
            "0411facd508941a9b236ec821b5029b3",
            "831b16354fc5433ebdac9322da0deb5b",
            "2c55772d10914714b2b8fb8813cd8dd8",
            "a4201ec2888a454a9d4dd8c35bd3beb5",
            "e7355ed268c64a17a5e7e705cb1ac8ac",
            "a2a2827b5d5046f986753cf924a2b00b",
            "1f84fcf9ea094f2f8e9a114317a2853a"
          ]
        },
        "id": "KuVfZCZuRO6C",
        "outputId": "bae73ce9-046d-48cc-c7d6-94b19b15f273"
      },
      "execution_count": 41,
      "outputs": [
        {
          "output_type": "stream",
          "name": "stdout",
          "text": [
            "Downloading and preparing dataset samsum/samsum (download: 2.81 MiB, generated: 10.04 MiB, post-processed: Unknown size, total: 12.85 MiB) to /root/.cache/huggingface/datasets/samsum/samsum/0.0.0/f1d7c6b7353e6de335d444e424dc002ef70d1277109031327bc9cc6af5d3d46e...\n"
          ]
        },
        {
          "output_type": "display_data",
          "data": {
            "text/plain": [
              "Downloading data:   0%|          | 0.00/2.94M [00:00<?, ?B/s]"
            ],
            "application/vnd.jupyter.widget-view+json": {
              "version_major": 2,
              "version_minor": 0,
              "model_id": "da7f77252b154ed5b368939f556753c0"
            }
          },
          "metadata": {}
        },
        {
          "output_type": "display_data",
          "data": {
            "text/plain": [
              "Generating train split:   0%|          | 0/14732 [00:00<?, ? examples/s]"
            ],
            "application/vnd.jupyter.widget-view+json": {
              "version_major": 2,
              "version_minor": 0,
              "model_id": "ce448bc5a58e4f7686e1b0039ad2e3fc"
            }
          },
          "metadata": {}
        },
        {
          "output_type": "display_data",
          "data": {
            "text/plain": [
              "Generating test split:   0%|          | 0/819 [00:00<?, ? examples/s]"
            ],
            "application/vnd.jupyter.widget-view+json": {
              "version_major": 2,
              "version_minor": 0,
              "model_id": "daf1ee815f4746e59fd9d4c673ab0197"
            }
          },
          "metadata": {}
        },
        {
          "output_type": "display_data",
          "data": {
            "text/plain": [
              "Generating validation split:   0%|          | 0/818 [00:00<?, ? examples/s]"
            ],
            "application/vnd.jupyter.widget-view+json": {
              "version_major": 2,
              "version_minor": 0,
              "model_id": "980fc16ac37845549e38c82c1358cba9"
            }
          },
          "metadata": {}
        },
        {
          "output_type": "stream",
          "name": "stdout",
          "text": [
            "Dataset samsum downloaded and prepared to /root/.cache/huggingface/datasets/samsum/samsum/0.0.0/f1d7c6b7353e6de335d444e424dc002ef70d1277109031327bc9cc6af5d3d46e. Subsequent calls will reuse this data.\n"
          ]
        },
        {
          "output_type": "display_data",
          "data": {
            "text/plain": [
              "  0%|          | 0/3 [00:00<?, ?it/s]"
            ],
            "application/vnd.jupyter.widget-view+json": {
              "version_major": 2,
              "version_minor": 0,
              "model_id": "a5e8e53a73c94eca88c9baeba54783a4"
            }
          },
          "metadata": {}
        },
        {
          "output_type": "stream",
          "name": "stdout",
          "text": [
            "Split lengths: [14732, 819, 818]\n",
            "Features: ['id', 'dialogue', 'summary']\n",
            "\n",
            "Dialogue:\n",
            "Hannah: Hey, do you have Betty's number?\n",
            "Amanda: Lemme check\n",
            "Hannah: <file_gif>\n",
            "Amanda: Sorry, can't find it.\n",
            "Amanda: Ask Larry\n",
            "Amanda: He called her last time we were at the park together\n",
            "Hannah: I don't know him well\n",
            "Hannah: <file_gif>\n",
            "Amanda: Don't be shy, he's very nice\n",
            "Hannah: If you say so..\n",
            "Hannah: I'd rather you texted him\n",
            "Amanda: Just text him 🙂\n",
            "Hannah: Urgh.. Alright\n",
            "Hannah: Bye\n",
            "Amanda: Bye bye\n",
            "\n",
            "Summary:\n",
            "Hannah needs Betty's number but Amanda doesn't have it. She needs to contact Larry.\n"
          ]
        }
      ]
    },
    {
      "cell_type": "markdown",
      "source": [
        "## Evaluating PEGASUS on SAMSum"
      ],
      "metadata": {
        "id": "z7G3QCRsSO8y"
      }
    },
    {
      "cell_type": "code",
      "source": [
        "pipe_out = pipe(dataset_samsum[\"test\"][0][\"dialogue\"])\n",
        "print(\"Summary:\")\n",
        "print(pipe_out[0][\"summary_text\"].replace(\" .<n>\", \".\\n\"))"
      ],
      "metadata": {
        "colab": {
          "base_uri": "https://localhost:8080/"
        },
        "id": "ctlb4rdDSQCQ",
        "outputId": "8acf9d9e-6adf-4201-832f-bb36b700c19c"
      },
      "execution_count": 42,
      "outputs": [
        {
          "output_type": "stream",
          "name": "stderr",
          "text": [
            "Your max_length is set to 128, but you input_length is only 122. You might consider decreasing max_length manually, e.g. summarizer('...', max_length=61)\n"
          ]
        },
        {
          "output_type": "stream",
          "name": "stdout",
          "text": [
            "Summary:\n",
            "Amanda: Ask Larry Amanda: He called her last time we were at the park together.\n",
            "Hannah: I'd rather you texted him.\n",
            "Amanda: Just text him .\n"
          ]
        }
      ]
    },
    {
      "cell_type": "code",
      "source": [
        "score = evaluate_summaries_pegasus(dataset_samsum[\"test\"], \n",
        "                                   rouge_metric,\n",
        "                                   model,\n",
        "                                   tokenizer, \n",
        "                                   column_text=\"dialogue\",\n",
        "                                   column_summary=\"summary\", \n",
        "                                   batch_size=8)\n",
        "rouge_dict = dict((rn, score[rn].mid.fmeasure) for rn in rouge_names)\n",
        "pd.DataFrame(rouge_dict, index=[\"pegasus\"])"
      ],
      "metadata": {
        "colab": {
          "base_uri": "https://localhost:8080/",
          "height": 98
        },
        "id": "RoYQlYYpSUnS",
        "outputId": "5ffc41ec-877f-4935-9116-c0afb7620ae9"
      },
      "execution_count": 43,
      "outputs": [
        {
          "output_type": "stream",
          "name": "stderr",
          "text": [
            "100%|██████████| 103/103 [21:50<00:00, 12.72s/it]\n"
          ]
        },
        {
          "output_type": "execute_result",
          "data": {
            "text/plain": [
              "           rouge1    rouge2   rougeL  rougeLsum\n",
              "pegasus  0.191876  0.107458  0.16595    0.16595"
            ],
            "text/html": [
              "\n",
              "  <div id=\"df-3595d231-91a8-48e3-a062-865f0c28a6b8\">\n",
              "    <div class=\"colab-df-container\">\n",
              "      <div>\n",
              "<style scoped>\n",
              "    .dataframe tbody tr th:only-of-type {\n",
              "        vertical-align: middle;\n",
              "    }\n",
              "\n",
              "    .dataframe tbody tr th {\n",
              "        vertical-align: top;\n",
              "    }\n",
              "\n",
              "    .dataframe thead th {\n",
              "        text-align: right;\n",
              "    }\n",
              "</style>\n",
              "<table border=\"1\" class=\"dataframe\">\n",
              "  <thead>\n",
              "    <tr style=\"text-align: right;\">\n",
              "      <th></th>\n",
              "      <th>rouge1</th>\n",
              "      <th>rouge2</th>\n",
              "      <th>rougeL</th>\n",
              "      <th>rougeLsum</th>\n",
              "    </tr>\n",
              "  </thead>\n",
              "  <tbody>\n",
              "    <tr>\n",
              "      <th>pegasus</th>\n",
              "      <td>0.191876</td>\n",
              "      <td>0.107458</td>\n",
              "      <td>0.16595</td>\n",
              "      <td>0.16595</td>\n",
              "    </tr>\n",
              "  </tbody>\n",
              "</table>\n",
              "</div>\n",
              "      <button class=\"colab-df-convert\" onclick=\"convertToInteractive('df-3595d231-91a8-48e3-a062-865f0c28a6b8')\"\n",
              "              title=\"Convert this dataframe to an interactive table.\"\n",
              "              style=\"display:none;\">\n",
              "        \n",
              "  <svg xmlns=\"http://www.w3.org/2000/svg\" height=\"24px\"viewBox=\"0 0 24 24\"\n",
              "       width=\"24px\">\n",
              "    <path d=\"M0 0h24v24H0V0z\" fill=\"none\"/>\n",
              "    <path d=\"M18.56 5.44l.94 2.06.94-2.06 2.06-.94-2.06-.94-.94-2.06-.94 2.06-2.06.94zm-11 1L8.5 8.5l.94-2.06 2.06-.94-2.06-.94L8.5 2.5l-.94 2.06-2.06.94zm10 10l.94 2.06.94-2.06 2.06-.94-2.06-.94-.94-2.06-.94 2.06-2.06.94z\"/><path d=\"M17.41 7.96l-1.37-1.37c-.4-.4-.92-.59-1.43-.59-.52 0-1.04.2-1.43.59L10.3 9.45l-7.72 7.72c-.78.78-.78 2.05 0 2.83L4 21.41c.39.39.9.59 1.41.59.51 0 1.02-.2 1.41-.59l7.78-7.78 2.81-2.81c.8-.78.8-2.07 0-2.86zM5.41 20L4 18.59l7.72-7.72 1.47 1.35L5.41 20z\"/>\n",
              "  </svg>\n",
              "      </button>\n",
              "      \n",
              "  <style>\n",
              "    .colab-df-container {\n",
              "      display:flex;\n",
              "      flex-wrap:wrap;\n",
              "      gap: 12px;\n",
              "    }\n",
              "\n",
              "    .colab-df-convert {\n",
              "      background-color: #E8F0FE;\n",
              "      border: none;\n",
              "      border-radius: 50%;\n",
              "      cursor: pointer;\n",
              "      display: none;\n",
              "      fill: #1967D2;\n",
              "      height: 32px;\n",
              "      padding: 0 0 0 0;\n",
              "      width: 32px;\n",
              "    }\n",
              "\n",
              "    .colab-df-convert:hover {\n",
              "      background-color: #E2EBFA;\n",
              "      box-shadow: 0px 1px 2px rgba(60, 64, 67, 0.3), 0px 1px 3px 1px rgba(60, 64, 67, 0.15);\n",
              "      fill: #174EA6;\n",
              "    }\n",
              "\n",
              "    [theme=dark] .colab-df-convert {\n",
              "      background-color: #3B4455;\n",
              "      fill: #D2E3FC;\n",
              "    }\n",
              "\n",
              "    [theme=dark] .colab-df-convert:hover {\n",
              "      background-color: #434B5C;\n",
              "      box-shadow: 0px 1px 3px 1px rgba(0, 0, 0, 0.15);\n",
              "      filter: drop-shadow(0px 1px 2px rgba(0, 0, 0, 0.3));\n",
              "      fill: #FFFFFF;\n",
              "    }\n",
              "  </style>\n",
              "\n",
              "      <script>\n",
              "        const buttonEl =\n",
              "          document.querySelector('#df-3595d231-91a8-48e3-a062-865f0c28a6b8 button.colab-df-convert');\n",
              "        buttonEl.style.display =\n",
              "          google.colab.kernel.accessAllowed ? 'block' : 'none';\n",
              "\n",
              "        async function convertToInteractive(key) {\n",
              "          const element = document.querySelector('#df-3595d231-91a8-48e3-a062-865f0c28a6b8');\n",
              "          const dataTable =\n",
              "            await google.colab.kernel.invokeFunction('convertToInteractive',\n",
              "                                                     [key], {});\n",
              "          if (!dataTable) return;\n",
              "\n",
              "          const docLinkHtml = 'Like what you see? Visit the ' +\n",
              "            '<a target=\"_blank\" href=https://colab.research.google.com/notebooks/data_table.ipynb>data table notebook</a>'\n",
              "            + ' to learn more about interactive tables.';\n",
              "          element.innerHTML = '';\n",
              "          dataTable['output_type'] = 'display_data';\n",
              "          await google.colab.output.renderOutput(dataTable, element);\n",
              "          const docLink = document.createElement('div');\n",
              "          docLink.innerHTML = docLinkHtml;\n",
              "          element.appendChild(docLink);\n",
              "        }\n",
              "      </script>\n",
              "    </div>\n",
              "  </div>\n",
              "  "
            ]
          },
          "metadata": {},
          "execution_count": 43
        }
      ]
    },
    {
      "cell_type": "markdown",
      "source": [
        "## Fine-Tuning PEGASUS"
      ],
      "metadata": {
        "id": "YfEnkcaDUDoR"
      }
    },
    {
      "cell_type": "markdown",
      "source": [
        "* Before we process the data for training, we have to look at the length distribution of the input and outputs"
      ],
      "metadata": {
        "id": "vNPYQjwoVPaZ"
      }
    },
    {
      "cell_type": "code",
      "source": [
        "import matplotlib.pyplot as plt"
      ],
      "metadata": {
        "id": "3NIIp08cVl5p"
      },
      "execution_count": 38,
      "outputs": []
    },
    {
      "cell_type": "code",
      "source": [
        "d_len = [len(tokenizer.encode(s)) for s in dataset_samsum[\"train\"][\"dialogue\"]]\n",
        "s_len = [len(tokenizer.encode(s)) for s in dataset_samsum[\"train\"][\"summary\"]]"
      ],
      "metadata": {
        "colab": {
          "base_uri": "https://localhost:8080/"
        },
        "id": "QMxFEaJNUGTu",
        "outputId": "fb94d9a1-1407-45ea-f390-a88aee6f0510"
      },
      "execution_count": 44,
      "outputs": [
        {
          "output_type": "stream",
          "name": "stderr",
          "text": [
            "Token indices sequence length is longer than the specified maximum sequence length for this model (1044 > 1024). Running this sequence through the model will result in indexing errors\n"
          ]
        }
      ]
    },
    {
      "cell_type": "code",
      "source": [
        "fig, axes = plt.subplots(1, 2, figsize=(10, 3.5), sharey=True)\n",
        "axes[0].hist(d_len, bins=20, color=\"C0\", edgecolor=\"C0\")\n",
        "axes[0].set_title(\"Dialogue Token Length\")\n",
        "axes[0].set_xlabel(\"Length\")\n",
        "axes[0].set_ylabel(\"Count\")\n",
        "axes[1].hist(s_len, bins=20, color=\"C0\", edgecolor=\"C0\")\n",
        "axes[1].set_title(\"Summary Token Length\")\n",
        "axes[1].set_xlabel(\"Length\")\n",
        "plt.tight_layout()\n",
        "plt.show()"
      ],
      "metadata": {
        "colab": {
          "base_uri": "https://localhost:8080/",
          "height": 261
        },
        "id": "sCv4iOXuV-gz",
        "outputId": "adafc1a5-2130-4e01-99ec-57fd700a372d"
      },
      "execution_count": 45,
      "outputs": [
        {
          "output_type": "display_data",
          "data": {
            "text/plain": [
              "<Figure size 720x252 with 2 Axes>"
            ],
            "image/png": "[encoded data removed]"
          },
          "metadata": {
            "needs_background": "light"
          }
        }
      ]
    },
    {
      "cell_type": "markdown",
      "source": [
        "## Tokenize dataset"
      ],
      "metadata": {
        "id": "hjh8YT5BWCYu"
      }
    },
    {
      "cell_type": "code",
      "source": [
        "def convert_examples_to_features(example_batch):\n",
        "  input_encodings = tokenizer(example_batch[\"dialogue\"], max_length=1024,truncation=True)\n",
        "  with tokenizer.as_target_tokenizer():\n",
        "    target_encodings = tokenizer(example_batch[\"summary\"], max_length=128,truncation=True)\n",
        "  return {\"input_ids\": input_encodings[\"input_ids\"],\n",
        "          \"attention_mask\": input_encodings[\"attention_mask\"],\n",
        "          \"labels\": target_encodings[\"input_ids\"]}"
      ],
      "metadata": {
        "id": "wO7R0eT9WFQU"
      },
      "execution_count": 46,
      "outputs": []
    },
    {
      "cell_type": "markdown",
      "source": [
        "* A new thing in the use of the tokenization step is the\n",
        "**tokenizer.as_target_tokenizer()** context. \n",
        "\n",
        "* Some models require\n",
        "special tokens in the decoder inputs, \n",
        "\n",
        "* so it’s important to differentiate\n",
        "between the tokenization of encoder and decoder inputs. In the with\n",
        "statement (called a context manager), the tokenizer knows that it is\n",
        "tokenizing for the decoder and can process sequences accordingly."
      ],
      "metadata": {
        "id": "r-Q9ALEjXEHl"
      }
    },
    {
      "cell_type": "code",
      "source": [
        "dataset_samsum_pt = dataset_samsum.map(convert_examples_to_features,batched=True)\n",
        "columns = [\"input_ids\", \"labels\", \"attention_mask\"]\n",
        "dataset_samsum_pt.set_format(type=\"torch\", columns=columns)"
      ],
      "metadata": {
        "colab": {
          "base_uri": "https://localhost:8080/",
          "height": 168,
          "referenced_widgets": [
            "938f67a96d524a4dae85bccd7e3b15d9",
            "2fda93bd90f4449d8f88f41d02acddbe",
            "35842879237e4f0fb7a3072a459bcdf3",
            "8d7f37982aba4392954774c1f4b82594",
            "6764d90425bd4e8d9d1308611b3d3149",
            "8210d48996884006a21a2c82481e2658",
            "cdf3807876d940f989cf701071033ea2",
            "74cf68260e6d42f0a529ebc765f5e378",
            "6cc5093180004cbabfaeb1af68759ec0",
            "21505dcf40b24688a774d443562adcbf",
            "885c5830ce6044bda53dc9ff369ad805",
            "dcb7b0793f6540928de5f854b5276a00",
            "ac273147ee204003a5893f494ae0279f",
            "46d39018acb94f88aa2e62f56bd9b353",
            "76717b4233904b3495179eeed56910fd",
            "9fc110a9d7504115a7a66e5012a620eb",
            "e396a865d43646cf9a57c1cb4aa03ee1",
            "f35e431b8fb643a5a2649c1bc280ba2d",
            "53dc256a4aad457ca9054fe973a777d0",
            "83627f153089421fb6c0d65cd6f255c3",
            "dd1afb8d070b4ea084c87d970c8b94c2",
            "2042dc4524184e8a8f17ac2e99311729",
            "28d620dd51a64cc8ad894ff4a01ccb4b",
            "d42888e4f9c744df94ccea3642a34773",
            "1d31ff60b65d489d9b4d8700bd775e14",
            "ed4a00e371a74efe993993ec53c60a0c",
            "5d179f2379dc4efab9b96f784b98a85f",
            "c437ecfc00fc4c5b9de2618825a7eeff",
            "5f6e79bc1c194ee6b2e7efc10d42528e",
            "6d68aba743c640d5af29252f9e7d37f2",
            "084b74e321674a6180d5a27a3596d977",
            "91f309f67cdf402c9f2362516a2557c6",
            "5ca20a881d284c1690b71e6b374ed515"
          ]
        },
        "id": "ALYGTa2ae06j",
        "outputId": "a43d8b0d-e8e4-4f09-9968-fda1a75749dd"
      },
      "execution_count": 47,
      "outputs": [
        {
          "output_type": "display_data",
          "data": {
            "text/plain": [
              "  0%|          | 0/15 [00:00<?, ?ba/s]"
            ],
            "application/vnd.jupyter.widget-view+json": {
              "version_major": 2,
              "version_minor": 0,
              "model_id": "938f67a96d524a4dae85bccd7e3b15d9"
            }
          },
          "metadata": {}
        },
        {
          "output_type": "stream",
          "name": "stderr",
          "text": [
            "/usr/local/lib/python3.7/dist-packages/transformers/tokenization_utils_base.py:3543: UserWarning: `as_target_tokenizer` is deprecated and will be removed in v5 of Transformers. You can tokenize your labels by using the argument `text_target` of the regular `__call__` method (either in the same call as your input texts if you use the same keyword arguments, or in a separate call.\n",
            "  \"`as_target_tokenizer` is deprecated and will be removed in v5 of Transformers. You can tokenize your \"\n"
          ]
        },
        {
          "output_type": "display_data",
          "data": {
            "text/plain": [
              "  0%|          | 0/1 [00:00<?, ?ba/s]"
            ],
            "application/vnd.jupyter.widget-view+json": {
              "version_major": 2,
              "version_minor": 0,
              "model_id": "dcb7b0793f6540928de5f854b5276a00"
            }
          },
          "metadata": {}
        },
        {
          "output_type": "display_data",
          "data": {
            "text/plain": [
              "  0%|          | 0/1 [00:00<?, ?ba/s]"
            ],
            "application/vnd.jupyter.widget-view+json": {
              "version_major": 2,
              "version_minor": 0,
              "model_id": "28d620dd51a64cc8ad894ff4a01ccb4b"
            }
          },
          "metadata": {}
        }
      ]
    },
    {
      "cell_type": "markdown",
      "source": [
        "* when we prepare our batch, we set up the decoder inputs by shifting the\n",
        "labels to the right by one. \n",
        "* After that, we make sure the padding tokens in\n",
        "the labels are ignored by the loss function by setting them to –100. \n",
        "* We actually don’t have to do this manually, though, since the **DataCollatorForSeq2Seq** comes to the rescue and takes care of all these\n",
        "steps for us:"
      ],
      "metadata": {
        "id": "7-sMwP4iX6g_"
      }
    },
    {
      "cell_type": "code",
      "source": [
        "from transformers import DataCollatorForSeq2Seq\n",
        "from transformers import TrainingArguments, Trainer\n",
        "#\n",
        "seq2seq_data_collator = DataCollatorForSeq2Seq(tokenizer, model=model)\n",
        "#\n",
        "training_args = TrainingArguments(output_dir='/content/pegasus-samsum', \n",
        "                                  num_train_epochs=1, \n",
        "                                  warmup_steps=500,\n",
        "                                  per_device_train_batch_size=1, \n",
        "                                  per_device_eval_batch_size=1,\n",
        "                                  weight_decay=0.01, \n",
        "                                  logging_steps=10, \n",
        "                                  push_to_hub=False,\n",
        "                                  evaluation_strategy='steps', \n",
        "                                  eval_steps=500, \n",
        "                                  save_steps=1e6,\n",
        "                                  gradient_accumulation_steps=16)"
      ],
      "metadata": {
        "id": "cJ0GGPd-XyYM"
      },
      "execution_count": 48,
      "outputs": []
    },
    {
      "cell_type": "markdown",
      "source": [
        "* In case push_to_hub = True implement the below step"
      ],
      "metadata": {
        "id": "ipPnPv0kZIVn"
      }
    },
    {
      "cell_type": "code",
      "source": [
        "from huggingface_hub import notebook_login\n",
        "notebook_login()"
      ],
      "metadata": {
        "colab": {
          "base_uri": "https://localhost:8080/",
          "height": 299,
          "referenced_widgets": [
            "57afbd2b686844f5b14174fbca6c0ed5",
            "25430d9f5a3f436691d1d37e9496ad8d",
            "719e03dc525b4839a3a8cebf56d35048",
            "77115cf5f99a40d789bfbf914cafb7b9",
            "54310755a6f146c6825ed0311fb42a5b",
            "0f8c38c88faa4d8d9c05c4ac77576922",
            "6e25d4576a6d457faa791d8e38284f99",
            "a349fdb14fe3441c930226ff319402f1",
            "c40d5ea0da004179a4d0ed2e7e52cc25",
            "869b8fb5625c4590a8494f5b58eb686e",
            "c1f5fd2fe4e14802a7632dc97860fbd0",
            "1180c7c8af334ab39d09be032addde06",
            "f22b3d35b11e4cd18d6fd600c1ca20b2",
            "14b1a4d8f69d4ff08d3150d95538f3a8"
          ]
        },
        "id": "cxfkBqlTZRpG",
        "outputId": "768ff98e-4026-4c2f-a066-1309f93b97b1"
      },
      "execution_count": 49,
      "outputs": [
        {
          "output_type": "display_data",
          "data": {
            "text/plain": [
              "VBox(children=(HTML(value='<center> <img\\nsrc=https://huggingface.co/front/assets/huggingface_logo-noborder.sv…"
            ],
            "application/vnd.jupyter.widget-view+json": {
              "version_major": 2,
              "version_minor": 0,
              "model_id": "57afbd2b686844f5b14174fbca6c0ed5"
            }
          },
          "metadata": {}
        }
      ]
    },
    {
      "cell_type": "markdown",
      "source": [
        "#### initialize the trainer \n",
        "\n",
        "parameters required : \n",
        "* model,\n",
        "* tokenizer, \n",
        "* training arguments,\n",
        "* data collator, \n",
        "* training and\n",
        "* evaluation sets:"
      ],
      "metadata": {
        "id": "CTTgL5ijZnZC"
      }
    },
    {
      "cell_type": "code",
      "source": [
        "trainer = Trainer(model=model, \n",
        "                  args=training_args,\n",
        "                  tokenizer=tokenizer, \n",
        "                  data_collator=seq2seq_data_collator,\n",
        "                  train_dataset=dataset_samsum_pt[\"train\"],\n",
        "                  eval_dataset=dataset_samsum_pt[\"validation\"])"
      ],
      "metadata": {
        "id": "qPHdDpnzZ8TG"
      },
      "execution_count": 50,
      "outputs": []
    },
    {
      "cell_type": "code",
      "source": [
        "trainer.train()"
      ],
      "metadata": {
        "colab": {
          "base_uri": "https://localhost:8080/",
          "height": 286
        },
        "id": "qeRR9uqDZ2lu",
        "outputId": "84c5c40e-57ea-413a-d7e7-0281a8583696"
      },
      "execution_count": null,
      "outputs": [
        {
          "output_type": "stream",
          "name": "stderr",
          "text": [
            "The following columns in the training set don't have a corresponding argument in `PegasusForConditionalGeneration.forward` and have been ignored: summary, dialogue, id. If summary, dialogue, id are not expected by `PegasusForConditionalGeneration.forward`,  you can safely ignore this message.\n",
            "/usr/local/lib/python3.7/dist-packages/transformers/optimization.py:310: FutureWarning: This implementation of AdamW is deprecated and will be removed in a future version. Use the PyTorch implementation torch.optim.AdamW instead, or set `no_deprecation_warning=True` to disable this warning\n",
            "  FutureWarning,\n",
            "***** Running training *****\n",
            "  Num examples = 14732\n",
            "  Num Epochs = 1\n",
            "  Instantaneous batch size per device = 1\n",
            "  Total train batch size (w. parallel, distributed & accumulation) = 16\n",
            "  Gradient Accumulation steps = 16\n",
            "  Total optimization steps = 920\n",
            "You're using a PegasusTokenizerFast tokenizer. Please note that with a fast tokenizer, using the `__call__` method is faster than using a method to encode the text followed by a call to the `pad` method to get a padded encoding.\n"
          ]
        },
        {
          "output_type": "display_data",
          "data": {
            "text/plain": [
              "<IPython.core.display.HTML object>"
            ],
            "text/html": [
              "\n",
              "    <div>\n",
              "      \n",
              "      <progress value='309' max='920' style='width:300px; height:20px; vertical-align: middle;'></progress>\n",
              "      [309/920 15:31 < 30:53, 0.33 it/s, Epoch 0.33/1]\n",
              "    </div>\n",
              "    <table border=\"1\" class=\"dataframe\">\n",
              "  <thead>\n",
              " <tr style=\"text-align: left;\">\n",
              "      <th>Step</th>\n",
              "      <th>Training Loss</th>\n",
              "      <th>Validation Loss</th>\n",
              "    </tr>\n",
              "  </thead>\n",
              "  <tbody>\n",
              "  </tbody>\n",
              "</table><p>"
            ]
          },
          "metadata": {}
        }
      ]
    },
    {
      "cell_type": "markdown",
      "source": [
        "## Evaluate the Model"
      ],
      "metadata": {
        "id": "cePAAE0MaO6a"
      }
    },
    {
      "cell_type": "code",
      "source": [
        "trainer.evaluate()"
      ],
      "metadata": {
        "id": "5u36CFKed2_Z"
      },
      "execution_count": null,
      "outputs": []
    },
    {
      "cell_type": "code",
      "source": [
        "score = evaluate_summaries_pegasus(dataset_samsum[\"test\"],\n",
        "                                   rouge_metric, \n",
        "                                   trainer.model, \n",
        "                                   tokenizer,\n",
        "                                   batch_size=2, \n",
        "                                   column_text=\"dialogue\", \n",
        "                                   column_summary=\"summary\")\n",
        "rouge_dict = dict((rn, score[rn].mid.fmeasure) for rn in rouge_names)\n",
        "pd.DataFrame(rouge_dict, index=[f\"pegasus\"])"
      ],
      "metadata": {
        "id": "T4aKsboJaRqQ"
      },
      "execution_count": null,
      "outputs": []
    },
    {
      "cell_type": "markdown",
      "source": [
        "## Make Inference"
      ],
      "metadata": {
        "id": "qMGNUEfXbLYL"
      }
    },
    {
      "cell_type": "code",
      "source": [
        "custom_dialogue = \"\"\"\\\n",
        "Thom: Hi guys, have you heard of transformers?\n",
        "Lewis: Yes, I used them recently!\n",
        "Leandro: Indeed, there is a great library by Hugging Face.\n",
        "Thom: I know, I helped build it ;)\n",
        "Lewis: Cool, maybe we should write a book about it. What do you think?\n",
        "Leandro: Great idea, how hard can it be?!\n",
        "Thom: I am in!\n",
        "Lewis: Awesome, let's do it together!\n",
        "\"\"\""
      ],
      "metadata": {
        "id": "pH3u2U72bNOo"
      },
      "execution_count": null,
      "outputs": []
    },
    {
      "cell_type": "code",
      "source": [
        "inf_token = convert_examples_to_features(custom_dialogue)"
      ],
      "metadata": {
        "id": "Y2Uz5mkxiHDg"
      },
      "execution_count": null,
      "outputs": []
    },
    {
      "cell_type": "code",
      "source": [
        "trainer.predict()"
      ],
      "metadata": {
        "id": "jJO3oZ32iQq7"
      },
      "execution_count": null,
      "outputs": []
    }
  ],
  "metadata": {
    "accelerator": "GPU",
    "colab": {
      "provenance": [],
      "collapsed_sections": [],
      "authorship_tag": "ABX9TyNQx7EPp+U77R6NKmK/glQT",
      "include_colab_link": true
    },
    "gpuClass": "standard",
    "kernelspec": {
      "display_name": "Python 3",
      "name": "python3"
    },
    "language_info": {
      "name": "python"
    },
    "widgets": {
      "application/vnd.jupyter.widget-state+json": {
        "8e4e40eb34994102ad6a924ed1c1e9f8": {
          "model_module": "@jupyter-widgets/controls",
          "model_name": "HBoxModel",
          "model_module_version": "1.5.0",
          "state": {
            "_dom_classes": [],
            "_model_module": "@jupyter-widgets/controls",
            "_model_module_version": "1.5.0",
            "_model_name": "HBoxModel",
            "_view_count": null,
            "_view_module": "@jupyter-widgets/controls",
            "_view_module_version": "1.5.0",
            "_view_name": "HBoxView",
            "box_style": "",
            "children": [
              "IPY_MODEL_6aa9cc13eef84d298839b428a583bba7",
              "IPY_MODEL_6df20bde32ce481185a3275bb1ec0eb1",
              "IPY_MODEL_a3093a13385d4af596bede6d56db9f9e"
            ],
            "layout": "IPY_MODEL_ebce74821d6241de8a7ad9f68eb006f1"
          }
        },
        "6aa9cc13eef84d298839b428a583bba7": {
          "model_module": "@jupyter-widgets/controls",
          "model_name": "HTMLModel",
          "model_module_version": "1.5.0",
          "state": {
            "_dom_classes": [],
            "_model_module": "@jupyter-widgets/controls",
            "_model_module_version": "1.5.0",
            "_model_name": "HTMLModel",
            "_view_count": null,
            "_view_module": "@jupyter-widgets/controls",
            "_view_module_version": "1.5.0",
            "_view_name": "HTMLView",
            "description": "",
            "description_tooltip": null,
            "layout": "IPY_MODEL_6459c68414d54ca5ab17b98e274e0ab1",
            "placeholder": "​",
            "style": "IPY_MODEL_57ced218772a46ec832ae94961ce231b",
            "value": "100%"
          }
        },
        "6df20bde32ce481185a3275bb1ec0eb1": {
          "model_module": "@jupyter-widgets/controls",
          "model_name": "FloatProgressModel",
          "model_module_version": "1.5.0",
          "state": {
            "_dom_classes": [],
            "_model_module": "@jupyter-widgets/controls",
            "_model_module_version": "1.5.0",
            "_model_name": "FloatProgressModel",
            "_view_count": null,
            "_view_module": "@jupyter-widgets/controls",
            "_view_module_version": "1.5.0",
            "_view_name": "ProgressView",
            "bar_style": "success",
            "description": "",
            "description_tooltip": null,
            "layout": "IPY_MODEL_da3615939fb94fe392f97861f41db96d",
            "max": 3,
            "min": 0,
            "orientation": "horizontal",
            "style": "IPY_MODEL_828848b3713145e887c4f1fcebe54676",
            "value": 3
          }
        },
        "a3093a13385d4af596bede6d56db9f9e": {
          "model_module": "@jupyter-widgets/controls",
          "model_name": "HTMLModel",
          "model_module_version": "1.5.0",
          "state": {
            "_dom_classes": [],
            "_model_module": "@jupyter-widgets/controls",
            "_model_module_version": "1.5.0",
            "_model_name": "HTMLModel",
            "_view_count": null,
            "_view_module": "@jupyter-widgets/controls",
            "_view_module_version": "1.5.0",
            "_view_name": "HTMLView",
            "description": "",
            "description_tooltip": null,
            "layout": "IPY_MODEL_9e305b480a724c49bcd80adea09afb49",
            "placeholder": "​",
            "style": "IPY_MODEL_e8ebe95b43f9434191086eba32463e5e",
            "value": " 3/3 [00:00&lt;00:00,  2.66it/s]"
          }
        },
        "ebce74821d6241de8a7ad9f68eb006f1": {
          "model_module": "@jupyter-widgets/base",
          "model_name": "LayoutModel",
          "model_module_version": "1.2.0",
          "state": {
            "_model_module": "@jupyter-widgets/base",
            "_model_module_version": "1.2.0",
            "_model_name": "LayoutModel",
            "_view_count": null,
            "_view_module": "@jupyter-widgets/base",
            "_view_module_version": "1.2.0",
            "_view_name": "LayoutView",
            "align_content": null,
            "align_items": null,
            "align_self": null,
            "border": null,
            "bottom": null,
            "display": null,
            "flex": null,
            "flex_flow": null,
            "grid_area": null,
            "grid_auto_columns": null,
            "grid_auto_flow": null,
            "grid_auto_rows": null,
            "grid_column": null,
            "grid_gap": null,
            "grid_row": null,
            "grid_template_areas": null,
            "grid_template_columns": null,
            "grid_template_rows": null,
            "height": null,
            "justify_content": null,
            "justify_items": null,
            "left": null,
            "margin": null,
            "max_height": null,
            "max_width": null,
            "min_height": null,
            "min_width": null,
            "object_fit": null,
            "object_position": null,
            "order": null,
            "overflow": null,
            "overflow_x": null,
            "overflow_y": null,
            "padding": null,
            "right": null,
            "top": null,
            "visibility": null,
            "width": null
          }
        },
        "6459c68414d54ca5ab17b98e274e0ab1": {
          "model_module": "@jupyter-widgets/base",
          "model_name": "LayoutModel",
          "model_module_version": "1.2.0",
          "state": {
            "_model_module": "@jupyter-widgets/base",
            "_model_module_version": "1.2.0",
            "_model_name": "LayoutModel",
            "_view_count": null,
            "_view_module": "@jupyter-widgets/base",
            "_view_module_version": "1.2.0",
            "_view_name": "LayoutView",
            "align_content": null,
            "align_items": null,
            "align_self": null,
            "border": null,
            "bottom": null,
            "display": null,
            "flex": null,
            "flex_flow": null,
            "grid_area": null,
            "grid_auto_columns": null,
            "grid_auto_flow": null,
            "grid_auto_rows": null,
            "grid_column": null,
            "grid_gap": null,
            "grid_row": null,
            "grid_template_areas": null,
            "grid_template_columns": null,
            "grid_template_rows": null,
            "height": null,
            "justify_content": null,
            "justify_items": null,
            "left": null,
            "margin": null,
            "max_height": null,
            "max_width": null,
            "min_height": null,
            "min_width": null,
            "object_fit": null,
            "object_position": null,
            "order": null,
            "overflow": null,
            "overflow_x": null,
            "overflow_y": null,
            "padding": null,
            "right": null,
            "top": null,
            "visibility": null,
            "width": null
          }
        },
        "57ced218772a46ec832ae94961ce231b": {
          "model_module": "@jupyter-widgets/controls",
          "model_name": "DescriptionStyleModel",
          "model_module_version": "1.5.0",
          "state": {
            "_model_module": "@jupyter-widgets/controls",
            "_model_module_version": "1.5.0",
            "_model_name": "DescriptionStyleModel",
            "_view_count": null,
            "_view_module": "@jupyter-widgets/base",
            "_view_module_version": "1.2.0",
            "_view_name": "StyleView",
            "description_width": ""
          }
        },
        "da3615939fb94fe392f97861f41db96d": {
          "model_module": "@jupyter-widgets/base",
          "model_name": "LayoutModel",
          "model_module_version": "1.2.0",
          "state": {
            "_model_module": "@jupyter-widgets/base",
            "_model_module_version": "1.2.0",
            "_model_name": "LayoutModel",
            "_view_count": null,
            "_view_module": "@jupyter-widgets/base",
            "_view_module_version": "1.2.0",
            "_view_name": "LayoutView",
            "align_content": null,
            "align_items": null,
            "align_self": null,
            "border": null,
            "bottom": null,
            "display": null,
            "flex": null,
            "flex_flow": null,
            "grid_area": null,
            "grid_auto_columns": null,
            "grid_auto_flow": null,
            "grid_auto_rows": null,
            "grid_column": null,
            "grid_gap": null,
            "grid_row": null,
            "grid_template_areas": null,
            "grid_template_columns": null,
            "grid_template_rows": null,
            "height": null,
            "justify_content": null,
            "justify_items": null,
            "left": null,
            "margin": null,
            "max_height": null,
            "max_width": null,
            "min_height": null,
            "min_width": null,
            "object_fit": null,
            "object_position": null,
            "order": null,
            "overflow": null,
            "overflow_x": null,
            "overflow_y": null,
            "padding": null,
            "right": null,
            "top": null,
            "visibility": null,
            "width": null
          }
        },
        "828848b3713145e887c4f1fcebe54676": {
          "model_module": "@jupyter-widgets/controls",
          "model_name": "ProgressStyleModel",
          "model_module_version": "1.5.0",
          "state": {
            "_model_module": "@jupyter-widgets/controls",
            "_model_module_version": "1.5.0",
            "_model_name": "ProgressStyleModel",
            "_view_count": null,
            "_view_module": "@jupyter-widgets/base",
            "_view_module_version": "1.2.0",
            "_view_name": "StyleView",
            "bar_color": null,
            "description_width": ""
          }
        },
        "9e305b480a724c49bcd80adea09afb49": {
          "model_module": "@jupyter-widgets/base",
          "model_name": "LayoutModel",
          "model_module_version": "1.2.0",
          "state": {
            "_model_module": "@jupyter-widgets/base",
            "_model_module_version": "1.2.0",
            "_model_name": "LayoutModel",
            "_view_count": null,
            "_view_module": "@jupyter-widgets/base",
            "_view_module_version": "1.2.0",
            "_view_name": "LayoutView",
            "align_content": null,
            "align_items": null,
            "align_self": null,
            "border": null,
            "bottom": null,
            "display": null,
            "flex": null,
            "flex_flow": null,
            "grid_area": null,
            "grid_auto_columns": null,
            "grid_auto_flow": null,
            "grid_auto_rows": null,
            "grid_column": null,
            "grid_gap": null,
            "grid_row": null,
            "grid_template_areas": null,
            "grid_template_columns": null,
            "grid_template_rows": null,
            "height": null,
            "justify_content": null,
            "justify_items": null,
            "left": null,
            "margin": null,
            "max_height": null,
            "max_width": null,
            "min_height": null,
            "min_width": null,
            "object_fit": null,
            "object_position": null,
            "order": null,
            "overflow": null,
            "overflow_x": null,
            "overflow_y": null,
            "padding": null,
            "right": null,
            "top": null,
            "visibility": null,
            "width": null
          }
        },
        "e8ebe95b43f9434191086eba32463e5e": {
          "model_module": "@jupyter-widgets/controls",
          "model_name": "DescriptionStyleModel",
          "model_module_version": "1.5.0",
          "state": {
            "_model_module": "@jupyter-widgets/controls",
            "_model_module_version": "1.5.0",
            "_model_name": "DescriptionStyleModel",
            "_view_count": null,
            "_view_module": "@jupyter-widgets/base",
            "_view_module_version": "1.2.0",
            "_view_name": "StyleView",
            "description_width": ""
          }
        },
        "1294f1cee809420895dcebbae7a4fa0e": {
          "model_module": "@jupyter-widgets/controls",
          "model_name": "HBoxModel",
          "model_module_version": "1.5.0",
          "state": {
            "_dom_classes": [],
            "_model_module": "@jupyter-widgets/controls",
            "_model_module_version": "1.5.0",
            "_model_name": "HBoxModel",
            "_view_count": null,
            "_view_module": "@jupyter-widgets/controls",
            "_view_module_version": "1.5.0",
            "_view_name": "HBoxView",
            "box_style": "",
            "children": [
              "IPY_MODEL_de63805f0e7d4e079588f95403eb7019",
              "IPY_MODEL_61db3ea2db854a8abe1651e041467bee",
              "IPY_MODEL_3819456beedb472fa45d857fed4b6d10"
            ],
            "layout": "IPY_MODEL_676a7c3c8e694be59aab51c8db0a8226"
          }
        },
        "de63805f0e7d4e079588f95403eb7019": {
          "model_module": "@jupyter-widgets/controls",
          "model_name": "HTMLModel",
          "model_module_version": "1.5.0",
          "state": {
            "_dom_classes": [],
            "_model_module": "@jupyter-widgets/controls",
            "_model_module_version": "1.5.0",
            "_model_name": "HTMLModel",
            "_view_count": null,
            "_view_module": "@jupyter-widgets/controls",
            "_view_module_version": "1.5.0",
            "_view_name": "HTMLView",
            "description": "",
            "description_tooltip": null,
            "layout": "IPY_MODEL_a7b4b23b902a436688a2f65707fabd4e",
            "placeholder": "​",
            "style": "IPY_MODEL_1eb95564cea04cdb9fc800b1b36b6396",
            "value": ""
          }
        },
        "61db3ea2db854a8abe1651e041467bee": {
          "model_module": "@jupyter-widgets/controls",
          "model_name": "FloatProgressModel",
          "model_module_version": "1.5.0",
          "state": {
            "_dom_classes": [],
            "_model_module": "@jupyter-widgets/controls",
            "_model_module_version": "1.5.0",
            "_model_name": "FloatProgressModel",
            "_view_count": null,
            "_view_module": "@jupyter-widgets/controls",
            "_view_module_version": "1.5.0",
            "_view_name": "ProgressView",
            "bar_style": "success",
            "description": "",
            "description_tooltip": null,
            "layout": "IPY_MODEL_01e36d8f5f8842de937d4a0c4fa1c5b9",
            "max": 1,
            "min": 0,
            "orientation": "horizontal",
            "style": "IPY_MODEL_045fc6100c3043febf46be2d8f117ced",
            "value": 0
          }
        },
        "3819456beedb472fa45d857fed4b6d10": {
          "model_module": "@jupyter-widgets/controls",
          "model_name": "HTMLModel",
          "model_module_version": "1.5.0",
          "state": {
            "_dom_classes": [],
            "_model_module": "@jupyter-widgets/controls",
            "_model_module_version": "1.5.0",
            "_model_name": "HTMLModel",
            "_view_count": null,
            "_view_module": "@jupyter-widgets/controls",
            "_view_module_version": "1.5.0",
            "_view_name": "HTMLView",
            "description": "",
            "description_tooltip": null,
            "layout": "IPY_MODEL_515c247d5d6d4270887c9b473e0d3a17",
            "placeholder": "​",
            "style": "IPY_MODEL_70c8aa48cd4047deafe66561b9ef8588",
            "value": " 0/0 [00:00&lt;?, ?it/s]"
          }
        },
        "676a7c3c8e694be59aab51c8db0a8226": {
          "model_module": "@jupyter-widgets/base",
          "model_name": "LayoutModel",
          "model_module_version": "1.2.0",
          "state": {
            "_model_module": "@jupyter-widgets/base",
            "_model_module_version": "1.2.0",
            "_model_name": "LayoutModel",
            "_view_count": null,
            "_view_module": "@jupyter-widgets/base",
            "_view_module_version": "1.2.0",
            "_view_name": "LayoutView",
            "align_content": null,
            "align_items": null,
            "align_self": null,
            "border": null,
            "bottom": null,
            "display": null,
            "flex": null,
            "flex_flow": null,
            "grid_area": null,
            "grid_auto_columns": null,
            "grid_auto_flow": null,
            "grid_auto_rows": null,
            "grid_column": null,
            "grid_gap": null,
            "grid_row": null,
            "grid_template_areas": null,
            "grid_template_columns": null,
            "grid_template_rows": null,
            "height": null,
            "justify_content": null,
            "justify_items": null,
            "left": null,
            "margin": null,
            "max_height": null,
            "max_width": null,
            "min_height": null,
            "min_width": null,
            "object_fit": null,
            "object_position": null,
            "order": null,
            "overflow": null,
            "overflow_x": null,
            "overflow_y": null,
            "padding": null,
            "right": null,
            "top": null,
            "visibility": null,
            "width": null
          }
        },
        "a7b4b23b902a436688a2f65707fabd4e": {
          "model_module": "@jupyter-widgets/base",
          "model_name": "LayoutModel",
          "model_module_version": "1.2.0",
          "state": {
            "_model_module": "@jupyter-widgets/base",
            "_model_module_version": "1.2.0",
            "_model_name": "LayoutModel",
            "_view_count": null,
            "_view_module": "@jupyter-widgets/base",
            "_view_module_version": "1.2.0",
            "_view_name": "LayoutView",
            "align_content": null,
            "align_items": null,
            "align_self": null,
            "border": null,
            "bottom": null,
            "display": null,
            "flex": null,
            "flex_flow": null,
            "grid_area": null,
            "grid_auto_columns": null,
            "grid_auto_flow": null,
            "grid_auto_rows": null,
            "grid_column": null,
            "grid_gap": null,
            "grid_row": null,
            "grid_template_areas": null,
            "grid_template_columns": null,
            "grid_template_rows": null,
            "height": null,
            "justify_content": null,
            "justify_items": null,
            "left": null,
            "margin": null,
            "max_height": null,
            "max_width": null,
            "min_height": null,
            "min_width": null,
            "object_fit": null,
            "object_position": null,
            "order": null,
            "overflow": null,
            "overflow_x": null,
            "overflow_y": null,
            "padding": null,
            "right": null,
            "top": null,
            "visibility": null,
            "width": null
          }
        },
        "1eb95564cea04cdb9fc800b1b36b6396": {
          "model_module": "@jupyter-widgets/controls",
          "model_name": "DescriptionStyleModel",
          "model_module_version": "1.5.0",
          "state": {
            "_model_module": "@jupyter-widgets/controls",
            "_model_module_version": "1.5.0",
            "_model_name": "DescriptionStyleModel",
            "_view_count": null,
            "_view_module": "@jupyter-widgets/base",
            "_view_module_version": "1.2.0",
            "_view_name": "StyleView",
            "description_width": ""
          }
        },
        "01e36d8f5f8842de937d4a0c4fa1c5b9": {
          "model_module": "@jupyter-widgets/base",
          "model_name": "LayoutModel",
          "model_module_version": "1.2.0",
          "state": {
            "_model_module": "@jupyter-widgets/base",
            "_model_module_version": "1.2.0",
            "_model_name": "LayoutModel",
            "_view_count": null,
            "_view_module": "@jupyter-widgets/base",
            "_view_module_version": "1.2.0",
            "_view_name": "LayoutView",
            "align_content": null,
            "align_items": null,
            "align_self": null,
            "border": null,
            "bottom": null,
            "display": null,
            "flex": null,
            "flex_flow": null,
            "grid_area": null,
            "grid_auto_columns": null,
            "grid_auto_flow": null,
            "grid_auto_rows": null,
            "grid_column": null,
            "grid_gap": null,
            "grid_row": null,
            "grid_template_areas": null,
            "grid_template_columns": null,
            "grid_template_rows": null,
            "height": null,
            "justify_content": null,
            "justify_items": null,
            "left": null,
            "margin": null,
            "max_height": null,
            "max_width": null,
            "min_height": null,
            "min_width": null,
            "object_fit": null,
            "object_position": null,
            "order": null,
            "overflow": null,
            "overflow_x": null,
            "overflow_y": null,
            "padding": null,
            "right": null,
            "top": null,
            "visibility": null,
            "width": "20px"
          }
        },
        "045fc6100c3043febf46be2d8f117ced": {
          "model_module": "@jupyter-widgets/controls",
          "model_name": "ProgressStyleModel",
          "model_module_version": "1.5.0",
          "state": {
            "_model_module": "@jupyter-widgets/controls",
            "_model_module_version": "1.5.0",
            "_model_name": "ProgressStyleModel",
            "_view_count": null,
            "_view_module": "@jupyter-widgets/base",
            "_view_module_version": "1.2.0",
            "_view_name": "StyleView",
            "bar_color": null,
            "description_width": ""
          }
        },
        "515c247d5d6d4270887c9b473e0d3a17": {
          "model_module": "@jupyter-widgets/base",
          "model_name": "LayoutModel",
          "model_module_version": "1.2.0",
          "state": {
            "_model_module": "@jupyter-widgets/base",
            "_model_module_version": "1.2.0",
            "_model_name": "LayoutModel",
            "_view_count": null,
            "_view_module": "@jupyter-widgets/base",
            "_view_module_version": "1.2.0",
            "_view_name": "LayoutView",
            "align_content": null,
            "align_items": null,
            "align_self": null,
            "border": null,
            "bottom": null,
            "display": null,
            "flex": null,
            "flex_flow": null,
            "grid_area": null,
            "grid_auto_columns": null,
            "grid_auto_flow": null,
            "grid_auto_rows": null,
            "grid_column": null,
            "grid_gap": null,
            "grid_row": null,
            "grid_template_areas": null,
            "grid_template_columns": null,
            "grid_template_rows": null,
            "height": null,
            "justify_content": null,
            "justify_items": null,
            "left": null,
            "margin": null,
            "max_height": null,
            "max_width": null,
            "min_height": null,
            "min_width": null,
            "object_fit": null,
            "object_position": null,
            "order": null,
            "overflow": null,
            "overflow_x": null,
            "overflow_y": null,
            "padding": null,
            "right": null,
            "top": null,
            "visibility": null,
            "width": null
          }
        },
        "70c8aa48cd4047deafe66561b9ef8588": {
          "model_module": "@jupyter-widgets/controls",
          "model_name": "DescriptionStyleModel",
          "model_module_version": "1.5.0",
          "state": {
            "_model_module": "@jupyter-widgets/controls",
            "_model_module_version": "1.5.0",
            "_model_name": "DescriptionStyleModel",
            "_view_count": null,
            "_view_module": "@jupyter-widgets/base",
            "_view_module_version": "1.2.0",
            "_view_name": "StyleView",
            "description_width": ""
          }
        },
        "da7f77252b154ed5b368939f556753c0": {
          "model_module": "@jupyter-widgets/controls",
          "model_name": "HBoxModel",
          "model_module_version": "1.5.0",
          "state": {
            "_dom_classes": [],
            "_model_module": "@jupyter-widgets/controls",
            "_model_module_version": "1.5.0",
            "_model_name": "HBoxModel",
            "_view_count": null,
            "_view_module": "@jupyter-widgets/controls",
            "_view_module_version": "1.5.0",
            "_view_name": "HBoxView",
            "box_style": "",
            "children": [
              "IPY_MODEL_3b272bd8a41e416aa65cf39ef074a3eb",
              "IPY_MODEL_7082468a30294425a90e7167150bc5e4",
              "IPY_MODEL_4129fc26c0a34e118fa9c88e209ab269"
            ],
            "layout": "IPY_MODEL_33e073b140d945d89c8e072eacf984f7"
          }
        },
        "3b272bd8a41e416aa65cf39ef074a3eb": {
          "model_module": "@jupyter-widgets/controls",
          "model_name": "HTMLModel",
          "model_module_version": "1.5.0",
          "state": {
            "_dom_classes": [],
            "_model_module": "@jupyter-widgets/controls",
            "_model_module_version": "1.5.0",
            "_model_name": "HTMLModel",
            "_view_count": null,
            "_view_module": "@jupyter-widgets/controls",
            "_view_module_version": "1.5.0",
            "_view_name": "HTMLView",
            "description": "",
            "description_tooltip": null,
            "layout": "IPY_MODEL_19f9eeaa9faf44548650cdc6f76487f0",
            "placeholder": "​",
            "style": "IPY_MODEL_e9f4de04008e4758863d8d5105db0562",
            "value": "Downloading data: 100%"
          }
        },
        "7082468a30294425a90e7167150bc5e4": {
          "model_module": "@jupyter-widgets/controls",
          "model_name": "FloatProgressModel",
          "model_module_version": "1.5.0",
          "state": {
            "_dom_classes": [],
            "_model_module": "@jupyter-widgets/controls",
            "_model_module_version": "1.5.0",
            "_model_name": "FloatProgressModel",
            "_view_count": null,
            "_view_module": "@jupyter-widgets/controls",
            "_view_module_version": "1.5.0",
            "_view_name": "ProgressView",
            "bar_style": "success",
            "description": "",
            "description_tooltip": null,
            "layout": "IPY_MODEL_bf40a7036f5b41279542e0f0a7e758bb",
            "max": 2944100,
            "min": 0,
            "orientation": "horizontal",
            "style": "IPY_MODEL_d4f591797e324c10a274d7bf50f92d57",
            "value": 2944100
          }
        },
        "4129fc26c0a34e118fa9c88e209ab269": {
          "model_module": "@jupyter-widgets/controls",
          "model_name": "HTMLModel",
          "model_module_version": "1.5.0",
          "state": {
            "_dom_classes": [],
            "_model_module": "@jupyter-widgets/controls",
            "_model_module_version": "1.5.0",
            "_model_name": "HTMLModel",
            "_view_count": null,
            "_view_module": "@jupyter-widgets/controls",
            "_view_module_version": "1.5.0",
            "_view_name": "HTMLView",
            "description": "",
            "description_tooltip": null,
            "layout": "IPY_MODEL_dba4c23d4c494f0490623b167ac227ac",
            "placeholder": "​",
            "style": "IPY_MODEL_60945faf644442ec994595a69aaa1ab8",
            "value": " 2.94M/2.94M [00:00&lt;00:00, 12.0MB/s]"
          }
        },
        "33e073b140d945d89c8e072eacf984f7": {
          "model_module": "@jupyter-widgets/base",
          "model_name": "LayoutModel",
          "model_module_version": "1.2.0",
          "state": {
            "_model_module": "@jupyter-widgets/base",
            "_model_module_version": "1.2.0",
            "_model_name": "LayoutModel",
            "_view_count": null,
            "_view_module": "@jupyter-widgets/base",
            "_view_module_version": "1.2.0",
            "_view_name": "LayoutView",
            "align_content": null,
            "align_items": null,
            "align_self": null,
            "border": null,
            "bottom": null,
            "display": null,
            "flex": null,
            "flex_flow": null,
            "grid_area": null,
            "grid_auto_columns": null,
            "grid_auto_flow": null,
            "grid_auto_rows": null,
            "grid_column": null,
            "grid_gap": null,
            "grid_row": null,
            "grid_template_areas": null,
            "grid_template_columns": null,
            "grid_template_rows": null,
            "height": null,
            "justify_content": null,
            "justify_items": null,
            "left": null,
            "margin": null,
            "max_height": null,
            "max_width": null,
            "min_height": null,
            "min_width": null,
            "object_fit": null,
            "object_position": null,
            "order": null,
            "overflow": null,
            "overflow_x": null,
            "overflow_y": null,
            "padding": null,
            "right": null,
            "top": null,
            "visibility": null,
            "width": null
          }
        },
        "19f9eeaa9faf44548650cdc6f76487f0": {
          "model_module": "@jupyter-widgets/base",
          "model_name": "LayoutModel",
          "model_module_version": "1.2.0",
          "state": {
            "_model_module": "@jupyter-widgets/base",
            "_model_module_version": "1.2.0",
            "_model_name": "LayoutModel",
            "_view_count": null,
            "_view_module": "@jupyter-widgets/base",
            "_view_module_version": "1.2.0",
            "_view_name": "LayoutView",
            "align_content": null,
            "align_items": null,
            "align_self": null,
            "border": null,
            "bottom": null,
            "display": null,
            "flex": null,
            "flex_flow": null,
            "grid_area": null,
            "grid_auto_columns": null,
            "grid_auto_flow": null,
            "grid_auto_rows": null,
            "grid_column": null,
            "grid_gap": null,
            "grid_row": null,
            "grid_template_areas": null,
            "grid_template_columns": null,
            "grid_template_rows": null,
            "height": null,
            "justify_content": null,
            "justify_items": null,
            "left": null,
            "margin": null,
            "max_height": null,
            "max_width": null,
            "min_height": null,
            "min_width": null,
            "object_fit": null,
            "object_position": null,
            "order": null,
            "overflow": null,
            "overflow_x": null,
            "overflow_y": null,
            "padding": null,
            "right": null,
            "top": null,
            "visibility": null,
            "width": null
          }
        },
        "e9f4de04008e4758863d8d5105db0562": {
          "model_module": "@jupyter-widgets/controls",
          "model_name": "DescriptionStyleModel",
          "model_module_version": "1.5.0",
          "state": {
            "_model_module": "@jupyter-widgets/controls",
            "_model_module_version": "1.5.0",
            "_model_name": "DescriptionStyleModel",
            "_view_count": null,
            "_view_module": "@jupyter-widgets/base",
            "_view_module_version": "1.2.0",
            "_view_name": "StyleView",
            "description_width": ""
          }
        },
        "bf40a7036f5b41279542e0f0a7e758bb": {
          "model_module": "@jupyter-widgets/base",
          "model_name": "LayoutModel",
          "model_module_version": "1.2.0",
          "state": {
            "_model_module": "@jupyter-widgets/base",
            "_model_module_version": "1.2.0",
            "_model_name": "LayoutModel",
            "_view_count": null,
            "_view_module": "@jupyter-widgets/base",
            "_view_module_version": "1.2.0",
            "_view_name": "LayoutView",
            "align_content": null,
            "align_items": null,
            "align_self": null,
            "border": null,
            "bottom": null,
            "display": null,
            "flex": null,
            "flex_flow": null,
            "grid_area": null,
            "grid_auto_columns": null,
            "grid_auto_flow": null,
            "grid_auto_rows": null,
            "grid_column": null,
            "grid_gap": null,
            "grid_row": null,
            "grid_template_areas": null,
            "grid_template_columns": null,
            "grid_template_rows": null,
            "height": null,
            "justify_content": null,
            "justify_items": null,
            "left": null,
            "margin": null,
            "max_height": null,
            "max_width": null,
            "min_height": null,
            "min_width": null,
            "object_fit": null,
            "object_position": null,
            "order": null,
            "overflow": null,
            "overflow_x": null,
            "overflow_y": null,
            "padding": null,
            "right": null,
            "top": null,
            "visibility": null,
            "width": null
          }
        },
        "d4f591797e324c10a274d7bf50f92d57": {
          "model_module": "@jupyter-widgets/controls",
          "model_name": "ProgressStyleModel",
          "model_module_version": "1.5.0",
          "state": {
            "_model_module": "@jupyter-widgets/controls",
            "_model_module_version": "1.5.0",
            "_model_name": "ProgressStyleModel",
            "_view_count": null,
            "_view_module": "@jupyter-widgets/base",
            "_view_module_version": "1.2.0",
            "_view_name": "StyleView",
            "bar_color": null,
            "description_width": ""
          }
        },
        "dba4c23d4c494f0490623b167ac227ac": {
          "model_module": "@jupyter-widgets/base",
          "model_name": "LayoutModel",
          "model_module_version": "1.2.0",
          "state": {
            "_model_module": "@jupyter-widgets/base",
            "_model_module_version": "1.2.0",
            "_model_name": "LayoutModel",
            "_view_count": null,
            "_view_module": "@jupyter-widgets/base",
            "_view_module_version": "1.2.0",
            "_view_name": "LayoutView",
            "align_content": null,
            "align_items": null,
            "align_self": null,
            "border": null,
            "bottom": null,
            "display": null,
            "flex": null,
            "flex_flow": null,
            "grid_area": null,
            "grid_auto_columns": null,
            "grid_auto_flow": null,
            "grid_auto_rows": null,
            "grid_column": null,
            "grid_gap": null,
            "grid_row": null,
            "grid_template_areas": null,
            "grid_template_columns": null,
            "grid_template_rows": null,
            "height": null,
            "justify_content": null,
            "justify_items": null,
            "left": null,
            "margin": null,
            "max_height": null,
            "max_width": null,
            "min_height": null,
            "min_width": null,
            "object_fit": null,
            "object_position": null,
            "order": null,
            "overflow": null,
            "overflow_x": null,
            "overflow_y": null,
            "padding": null,
            "right": null,
            "top": null,
            "visibility": null,
            "width": null
          }
        },
        "60945faf644442ec994595a69aaa1ab8": {
          "model_module": "@jupyter-widgets/controls",
          "model_name": "DescriptionStyleModel",
          "model_module_version": "1.5.0",
          "state": {
            "_model_module": "@jupyter-widgets/controls",
            "_model_module_version": "1.5.0",
            "_model_name": "DescriptionStyleModel",
            "_view_count": null,
            "_view_module": "@jupyter-widgets/base",
            "_view_module_version": "1.2.0",
            "_view_name": "StyleView",
            "description_width": ""
          }
        },
        "ce448bc5a58e4f7686e1b0039ad2e3fc": {
          "model_module": "@jupyter-widgets/controls",
          "model_name": "HBoxModel",
          "model_module_version": "1.5.0",
          "state": {
            "_dom_classes": [],
            "_model_module": "@jupyter-widgets/controls",
            "_model_module_version": "1.5.0",
            "_model_name": "HBoxModel",
            "_view_count": null,
            "_view_module": "@jupyter-widgets/controls",
            "_view_module_version": "1.5.0",
            "_view_name": "HBoxView",
            "box_style": "",
            "children": [
              "IPY_MODEL_a6f52677c63442ed9ec7d4bd8bfd5e09",
              "IPY_MODEL_01f7fbfbe19242b39d32a0c27f88f64d",
              "IPY_MODEL_e9e4d33f2e9f46f0b36c1d15ec1be757"
            ],
            "layout": "IPY_MODEL_d837e834e3db423181c1728d6552b95c"
          }
        },
        "a6f52677c63442ed9ec7d4bd8bfd5e09": {
          "model_module": "@jupyter-widgets/controls",
          "model_name": "HTMLModel",
          "model_module_version": "1.5.0",
          "state": {
            "_dom_classes": [],
            "_model_module": "@jupyter-widgets/controls",
            "_model_module_version": "1.5.0",
            "_model_name": "HTMLModel",
            "_view_count": null,
            "_view_module": "@jupyter-widgets/controls",
            "_view_module_version": "1.5.0",
            "_view_name": "HTMLView",
            "description": "",
            "description_tooltip": null,
            "layout": "IPY_MODEL_dc6510a3814f4c3f8ff0fb2e36a1fd44",
            "placeholder": "​",
            "style": "IPY_MODEL_85a88080935445f8bbc0240c4d15a193",
            "value": "Generating train split:  98%"
          }
        },
        "01f7fbfbe19242b39d32a0c27f88f64d": {
          "model_module": "@jupyter-widgets/controls",
          "model_name": "FloatProgressModel",
          "model_module_version": "1.5.0",
          "state": {
            "_dom_classes": [],
            "_model_module": "@jupyter-widgets/controls",
            "_model_module_version": "1.5.0",
            "_model_name": "FloatProgressModel",
            "_view_count": null,
            "_view_module": "@jupyter-widgets/controls",
            "_view_module_version": "1.5.0",
            "_view_name": "ProgressView",
            "bar_style": "",
            "description": "",
            "description_tooltip": null,
            "layout": "IPY_MODEL_335bb05d80404494ab3bab63271aa934",
            "max": 14732,
            "min": 0,
            "orientation": "horizontal",
            "style": "IPY_MODEL_83a1f40c233144949169bff25cd3fa20",
            "value": 14732
          }
        },
        "e9e4d33f2e9f46f0b36c1d15ec1be757": {
          "model_module": "@jupyter-widgets/controls",
          "model_name": "HTMLModel",
          "model_module_version": "1.5.0",
          "state": {
            "_dom_classes": [],
            "_model_module": "@jupyter-widgets/controls",
            "_model_module_version": "1.5.0",
            "_model_name": "HTMLModel",
            "_view_count": null,
            "_view_module": "@jupyter-widgets/controls",
            "_view_module_version": "1.5.0",
            "_view_name": "HTMLView",
            "description": "",
            "description_tooltip": null,
            "layout": "IPY_MODEL_334f13b326ad4ccf8ae8686003da44c2",
            "placeholder": "​",
            "style": "IPY_MODEL_34d923dd3a15487da261a2b09225657c",
            "value": " 14377/14732 [00:01&lt;00:00, 16636.02 examples/s]"
          }
        },
        "d837e834e3db423181c1728d6552b95c": {
          "model_module": "@jupyter-widgets/base",
          "model_name": "LayoutModel",
          "model_module_version": "1.2.0",
          "state": {
            "_model_module": "@jupyter-widgets/base",
            "_model_module_version": "1.2.0",
            "_model_name": "LayoutModel",
            "_view_count": null,
            "_view_module": "@jupyter-widgets/base",
            "_view_module_version": "1.2.0",
            "_view_name": "LayoutView",
            "align_content": null,
            "align_items": null,
            "align_self": null,
            "border": null,
            "bottom": null,
            "display": null,
            "flex": null,
            "flex_flow": null,
            "grid_area": null,
            "grid_auto_columns": null,
            "grid_auto_flow": null,
            "grid_auto_rows": null,
            "grid_column": null,
            "grid_gap": null,
            "grid_row": null,
            "grid_template_areas": null,
            "grid_template_columns": null,
            "grid_template_rows": null,
            "height": null,
            "justify_content": null,
            "justify_items": null,
            "left": null,
            "margin": null,
            "max_height": null,
            "max_width": null,
            "min_height": null,
            "min_width": null,
            "object_fit": null,
            "object_position": null,
            "order": null,
            "overflow": null,
            "overflow_x": null,
            "overflow_y": null,
            "padding": null,
            "right": null,
            "top": null,
            "visibility": "hidden",
            "width": null
          }
        },
        "dc6510a3814f4c3f8ff0fb2e36a1fd44": {
          "model_module": "@jupyter-widgets/base",
          "model_name": "LayoutModel",
          "model_module_version": "1.2.0",
          "state": {
            "_model_module": "@jupyter-widgets/base",
            "_model_module_version": "1.2.0",
            "_model_name": "LayoutModel",
            "_view_count": null,
            "_view_module": "@jupyter-widgets/base",
            "_view_module_version": "1.2.0",
            "_view_name": "LayoutView",
            "align_content": null,
            "align_items": null,
            "align_self": null,
            "border": null,
            "bottom": null,
            "display": null,
            "flex": null,
            "flex_flow": null,
            "grid_area": null,
            "grid_auto_columns": null,
            "grid_auto_flow": null,
            "grid_auto_rows": null,
            "grid_column": null,
            "grid_gap": null,
            "grid_row": null,
            "grid_template_areas": null,
            "grid_template_columns": null,
            "grid_template_rows": null,
            "height": null,
            "justify_content": null,
            "justify_items": null,
            "left": null,
            "margin": null,
            "max_height": null,
            "max_width": null,
            "min_height": null,
            "min_width": null,
            "object_fit": null,
            "object_position": null,
            "order": null,
            "overflow": null,
            "overflow_x": null,
            "overflow_y": null,
            "padding": null,
            "right": null,
            "top": null,
            "visibility": null,
            "width": null
          }
        },
        "85a88080935445f8bbc0240c4d15a193": {
          "model_module": "@jupyter-widgets/controls",
          "model_name": "DescriptionStyleModel",
          "model_module_version": "1.5.0",
          "state": {
            "_model_module": "@jupyter-widgets/controls",
            "_model_module_version": "1.5.0",
            "_model_name": "DescriptionStyleModel",
            "_view_count": null,
            "_view_module": "@jupyter-widgets/base",
            "_view_module_version": "1.2.0",
            "_view_name": "StyleView",
            "description_width": ""
          }
        },
        "335bb05d80404494ab3bab63271aa934": {
          "model_module": "@jupyter-widgets/base",
          "model_name": "LayoutModel",
          "model_module_version": "1.2.0",
          "state": {
            "_model_module": "@jupyter-widgets/base",
            "_model_module_version": "1.2.0",
            "_model_name": "LayoutModel",
            "_view_count": null,
            "_view_module": "@jupyter-widgets/base",
            "_view_module_version": "1.2.0",
            "_view_name": "LayoutView",
            "align_content": null,
            "align_items": null,
            "align_self": null,
            "border": null,
            "bottom": null,
            "display": null,
            "flex": null,
            "flex_flow": null,
            "grid_area": null,
            "grid_auto_columns": null,
            "grid_auto_flow": null,
            "grid_auto_rows": null,
            "grid_column": null,
            "grid_gap": null,
            "grid_row": null,
            "grid_template_areas": null,
            "grid_template_columns": null,
            "grid_template_rows": null,
            "height": null,
            "justify_content": null,
            "justify_items": null,
            "left": null,
            "margin": null,
            "max_height": null,
            "max_width": null,
            "min_height": null,
            "min_width": null,
            "object_fit": null,
            "object_position": null,
            "order": null,
            "overflow": null,
            "overflow_x": null,
            "overflow_y": null,
            "padding": null,
            "right": null,
            "top": null,
            "visibility": null,
            "width": null
          }
        },
        "83a1f40c233144949169bff25cd3fa20": {
          "model_module": "@jupyter-widgets/controls",
          "model_name": "ProgressStyleModel",
          "model_module_version": "1.5.0",
          "state": {
            "_model_module": "@jupyter-widgets/controls",
            "_model_module_version": "1.5.0",
            "_model_name": "ProgressStyleModel",
            "_view_count": null,
            "_view_module": "@jupyter-widgets/base",
            "_view_module_version": "1.2.0",
            "_view_name": "StyleView",
            "bar_color": null,
            "description_width": ""
          }
        },
        "334f13b326ad4ccf8ae8686003da44c2": {
          "model_module": "@jupyter-widgets/base",
          "model_name": "LayoutModel",
          "model_module_version": "1.2.0",
          "state": {
            "_model_module": "@jupyter-widgets/base",
            "_model_module_version": "1.2.0",
            "_model_name": "LayoutModel",
            "_view_count": null,
            "_view_module": "@jupyter-widgets/base",
            "_view_module_version": "1.2.0",
            "_view_name": "LayoutView",
            "align_content": null,
            "align_items": null,
            "align_self": null,
            "border": null,
            "bottom": null,
            "display": null,
            "flex": null,
            "flex_flow": null,
            "grid_area": null,
            "grid_auto_columns": null,
            "grid_auto_flow": null,
            "grid_auto_rows": null,
            "grid_column": null,
            "grid_gap": null,
            "grid_row": null,
            "grid_template_areas": null,
            "grid_template_columns": null,
            "grid_template_rows": null,
            "height": null,
            "justify_content": null,
            "justify_items": null,
            "left": null,
            "margin": null,
            "max_height": null,
            "max_width": null,
            "min_height": null,
            "min_width": null,
            "object_fit": null,
            "object_position": null,
            "order": null,
            "overflow": null,
            "overflow_x": null,
            "overflow_y": null,
            "padding": null,
            "right": null,
            "top": null,
            "visibility": null,
            "width": null
          }
        },
        "34d923dd3a15487da261a2b09225657c": {
          "model_module": "@jupyter-widgets/controls",
          "model_name": "DescriptionStyleModel",
          "model_module_version": "1.5.0",
          "state": {
            "_model_module": "@jupyter-widgets/controls",
            "_model_module_version": "1.5.0",
            "_model_name": "DescriptionStyleModel",
            "_view_count": null,
            "_view_module": "@jupyter-widgets/base",
            "_view_module_version": "1.2.0",
            "_view_name": "StyleView",
            "description_width": ""
          }
        },
        "daf1ee815f4746e59fd9d4c673ab0197": {
          "model_module": "@jupyter-widgets/controls",
          "model_name": "HBoxModel",
          "model_module_version": "1.5.0",
          "state": {
            "_dom_classes": [],
            "_model_module": "@jupyter-widgets/controls",
            "_model_module_version": "1.5.0",
            "_model_name": "HBoxModel",
            "_view_count": null,
            "_view_module": "@jupyter-widgets/controls",
            "_view_module_version": "1.5.0",
            "_view_name": "HBoxView",
            "box_style": "",
            "children": [
              "IPY_MODEL_234bb7e6af84487b9b4877303d780fdb",
              "IPY_MODEL_c06dd6f6f8604baaa8db79e873080c48",
              "IPY_MODEL_813dd0acc7394bae875777ebf37a086a"
            ],
            "layout": "IPY_MODEL_27a912cfe0c0415ca23f53c33a66928d"
          }
        },
        "234bb7e6af84487b9b4877303d780fdb": {
          "model_module": "@jupyter-widgets/controls",
          "model_name": "HTMLModel",
          "model_module_version": "1.5.0",
          "state": {
            "_dom_classes": [],
            "_model_module": "@jupyter-widgets/controls",
            "_model_module_version": "1.5.0",
            "_model_name": "HTMLModel",
            "_view_count": null,
            "_view_module": "@jupyter-widgets/controls",
            "_view_module_version": "1.5.0",
            "_view_name": "HTMLView",
            "description": "",
            "description_tooltip": null,
            "layout": "IPY_MODEL_0ef1f28f6bff4f608938ba44d86f4a52",
            "placeholder": "​",
            "style": "IPY_MODEL_0225244dec034326b0107971575adf07",
            "value": "Generating test split:   0%"
          }
        },
        "c06dd6f6f8604baaa8db79e873080c48": {
          "model_module": "@jupyter-widgets/controls",
          "model_name": "FloatProgressModel",
          "model_module_version": "1.5.0",
          "state": {
            "_dom_classes": [],
            "_model_module": "@jupyter-widgets/controls",
            "_model_module_version": "1.5.0",
            "_model_name": "FloatProgressModel",
            "_view_count": null,
            "_view_module": "@jupyter-widgets/controls",
            "_view_module_version": "1.5.0",
            "_view_name": "ProgressView",
            "bar_style": "",
            "description": "",
            "description_tooltip": null,
            "layout": "IPY_MODEL_bbd1b0ba7304416b8ac6515d7fe58d7a",
            "max": 819,
            "min": 0,
            "orientation": "horizontal",
            "style": "IPY_MODEL_8b1331710e1a471e92c005c7dad5b99f",
            "value": 819
          }
        },
        "813dd0acc7394bae875777ebf37a086a": {
          "model_module": "@jupyter-widgets/controls",
          "model_name": "HTMLModel",
          "model_module_version": "1.5.0",
          "state": {
            "_dom_classes": [],
            "_model_module": "@jupyter-widgets/controls",
            "_model_module_version": "1.5.0",
            "_model_name": "HTMLModel",
            "_view_count": null,
            "_view_module": "@jupyter-widgets/controls",
            "_view_module_version": "1.5.0",
            "_view_name": "HTMLView",
            "description": "",
            "description_tooltip": null,
            "layout": "IPY_MODEL_a7b1e73a13604d1584e2c2930f318188",
            "placeholder": "​",
            "style": "IPY_MODEL_9376c318c1414b979e39b6ff4dc5c7f8",
            "value": " 1/819 [00:00&lt;10:53,  1.25 examples/s]"
          }
        },
        "27a912cfe0c0415ca23f53c33a66928d": {
          "model_module": "@jupyter-widgets/base",
          "model_name": "LayoutModel",
          "model_module_version": "1.2.0",
          "state": {
            "_model_module": "@jupyter-widgets/base",
            "_model_module_version": "1.2.0",
            "_model_name": "LayoutModel",
            "_view_count": null,
            "_view_module": "@jupyter-widgets/base",
            "_view_module_version": "1.2.0",
            "_view_name": "LayoutView",
            "align_content": null,
            "align_items": null,
            "align_self": null,
            "border": null,
            "bottom": null,
            "display": null,
            "flex": null,
            "flex_flow": null,
            "grid_area": null,
            "grid_auto_columns": null,
            "grid_auto_flow": null,
            "grid_auto_rows": null,
            "grid_column": null,
            "grid_gap": null,
            "grid_row": null,
            "grid_template_areas": null,
            "grid_template_columns": null,
            "grid_template_rows": null,
            "height": null,
            "justify_content": null,
            "justify_items": null,
            "left": null,
            "margin": null,
            "max_height": null,
            "max_width": null,
            "min_height": null,
            "min_width": null,
            "object_fit": null,
            "object_position": null,
            "order": null,
            "overflow": null,
            "overflow_x": null,
            "overflow_y": null,
            "padding": null,
            "right": null,
            "top": null,
            "visibility": "hidden",
            "width": null
          }
        },
        "0ef1f28f6bff4f608938ba44d86f4a52": {
          "model_module": "@jupyter-widgets/base",
          "model_name": "LayoutModel",
          "model_module_version": "1.2.0",
          "state": {
            "_model_module": "@jupyter-widgets/base",
            "_model_module_version": "1.2.0",
            "_model_name": "LayoutModel",
            "_view_count": null,
            "_view_module": "@jupyter-widgets/base",
            "_view_module_version": "1.2.0",
            "_view_name": "LayoutView",
            "align_content": null,
            "align_items": null,
            "align_self": null,
            "border": null,
            "bottom": null,
            "display": null,
            "flex": null,
            "flex_flow": null,
            "grid_area": null,
            "grid_auto_columns": null,
            "grid_auto_flow": null,
            "grid_auto_rows": null,
            "grid_column": null,
            "grid_gap": null,
            "grid_row": null,
            "grid_template_areas": null,
            "grid_template_columns": null,
            "grid_template_rows": null,
            "height": null,
            "justify_content": null,
            "justify_items": null,
            "left": null,
            "margin": null,
            "max_height": null,
            "max_width": null,
            "min_height": null,
            "min_width": null,
            "object_fit": null,
            "object_position": null,
            "order": null,
            "overflow": null,
            "overflow_x": null,
            "overflow_y": null,
            "padding": null,
            "right": null,
            "top": null,
            "visibility": null,
            "width": null
          }
        },
        "0225244dec034326b0107971575adf07": {
          "model_module": "@jupyter-widgets/controls",
          "model_name": "DescriptionStyleModel",
          "model_module_version": "1.5.0",
          "state": {
            "_model_module": "@jupyter-widgets/controls",
            "_model_module_version": "1.5.0",
            "_model_name": "DescriptionStyleModel",
            "_view_count": null,
            "_view_module": "@jupyter-widgets/base",
            "_view_module_version": "1.2.0",
            "_view_name": "StyleView",
            "description_width": ""
          }
        },
        "bbd1b0ba7304416b8ac6515d7fe58d7a": {
          "model_module": "@jupyter-widgets/base",
          "model_name": "LayoutModel",
          "model_module_version": "1.2.0",
          "state": {
            "_model_module": "@jupyter-widgets/base",
            "_model_module_version": "1.2.0",
            "_model_name": "LayoutModel",
            "_view_count": null,
            "_view_module": "@jupyter-widgets/base",
            "_view_module_version": "1.2.0",
            "_view_name": "LayoutView",
            "align_content": null,
            "align_items": null,
            "align_self": null,
            "border": null,
            "bottom": null,
            "display": null,
            "flex": null,
            "flex_flow": null,
            "grid_area": null,
            "grid_auto_columns": null,
            "grid_auto_flow": null,
            "grid_auto_rows": null,
            "grid_column": null,
            "grid_gap": null,
            "grid_row": null,
            "grid_template_areas": null,
            "grid_template_columns": null,
            "grid_template_rows": null,
            "height": null,
            "justify_content": null,
            "justify_items": null,
            "left": null,
            "margin": null,
            "max_height": null,
            "max_width": null,
            "min_height": null,
            "min_width": null,
            "object_fit": null,
            "object_position": null,
            "order": null,
            "overflow": null,
            "overflow_x": null,
            "overflow_y": null,
            "padding": null,
            "right": null,
            "top": null,
            "visibility": null,
            "width": null
          }
        },
        "8b1331710e1a471e92c005c7dad5b99f": {
          "model_module": "@jupyter-widgets/controls",
          "model_name": "ProgressStyleModel",
          "model_module_version": "1.5.0",
          "state": {
            "_model_module": "@jupyter-widgets/controls",
            "_model_module_version": "1.5.0",
            "_model_name": "ProgressStyleModel",
            "_view_count": null,
            "_view_module": "@jupyter-widgets/base",
            "_view_module_version": "1.2.0",
            "_view_name": "StyleView",
            "bar_color": null,
            "description_width": ""
          }
        },
        "a7b1e73a13604d1584e2c2930f318188": {
          "model_module": "@jupyter-widgets/base",
          "model_name": "LayoutModel",
          "model_module_version": "1.2.0",
          "state": {
            "_model_module": "@jupyter-widgets/base",
            "_model_module_version": "1.2.0",
            "_model_name": "LayoutModel",
            "_view_count": null,
            "_view_module": "@jupyter-widgets/base",
            "_view_module_version": "1.2.0",
            "_view_name": "LayoutView",
            "align_content": null,
            "align_items": null,
            "align_self": null,
            "border": null,
            "bottom": null,
            "display": null,
            "flex": null,
            "flex_flow": null,
            "grid_area": null,
            "grid_auto_columns": null,
            "grid_auto_flow": null,
            "grid_auto_rows": null,
            "grid_column": null,
            "grid_gap": null,
            "grid_row": null,
            "grid_template_areas": null,
            "grid_template_columns": null,
            "grid_template_rows": null,
            "height": null,
            "justify_content": null,
            "justify_items": null,
            "left": null,
            "margin": null,
            "max_height": null,
            "max_width": null,
            "min_height": null,
            "min_width": null,
            "object_fit": null,
            "object_position": null,
            "order": null,
            "overflow": null,
            "overflow_x": null,
            "overflow_y": null,
            "padding": null,
            "right": null,
            "top": null,
            "visibility": null,
            "width": null
          }
        },
        "9376c318c1414b979e39b6ff4dc5c7f8": {
          "model_module": "@jupyter-widgets/controls",
          "model_name": "DescriptionStyleModel",
          "model_module_version": "1.5.0",
          "state": {
            "_model_module": "@jupyter-widgets/controls",
            "_model_module_version": "1.5.0",
            "_model_name": "DescriptionStyleModel",
            "_view_count": null,
            "_view_module": "@jupyter-widgets/base",
            "_view_module_version": "1.2.0",
            "_view_name": "StyleView",
            "description_width": ""
          }
        },
        "980fc16ac37845549e38c82c1358cba9": {
          "model_module": "@jupyter-widgets/controls",
          "model_name": "HBoxModel",
          "model_module_version": "1.5.0",
          "state": {
            "_dom_classes": [],
            "_model_module": "@jupyter-widgets/controls",
            "_model_module_version": "1.5.0",
            "_model_name": "HBoxModel",
            "_view_count": null,
            "_view_module": "@jupyter-widgets/controls",
            "_view_module_version": "1.5.0",
            "_view_name": "HBoxView",
            "box_style": "",
            "children": [
              "IPY_MODEL_1facf99caff84bf697789d53f73e5008",
              "IPY_MODEL_80ce3470b3d845e68109b0bf076f84fd",
              "IPY_MODEL_be0e50fbfa054371853c4318939d9a44"
            ],
            "layout": "IPY_MODEL_83893389a513408ca4e437803345c9b7"
          }
        },
        "1facf99caff84bf697789d53f73e5008": {
          "model_module": "@jupyter-widgets/controls",
          "model_name": "HTMLModel",
          "model_module_version": "1.5.0",
          "state": {
            "_dom_classes": [],
            "_model_module": "@jupyter-widgets/controls",
            "_model_module_version": "1.5.0",
            "_model_name": "HTMLModel",
            "_view_count": null,
            "_view_module": "@jupyter-widgets/controls",
            "_view_module_version": "1.5.0",
            "_view_name": "HTMLView",
            "description": "",
            "description_tooltip": null,
            "layout": "IPY_MODEL_96b240c945d6495c8fbedd285bb097d2",
            "placeholder": "​",
            "style": "IPY_MODEL_ec3aa3f0d5044715b2fc4ae338564431",
            "value": "Generating validation split:   0%"
          }
        },
        "80ce3470b3d845e68109b0bf076f84fd": {
          "model_module": "@jupyter-widgets/controls",
          "model_name": "FloatProgressModel",
          "model_module_version": "1.5.0",
          "state": {
            "_dom_classes": [],
            "_model_module": "@jupyter-widgets/controls",
            "_model_module_version": "1.5.0",
            "_model_name": "FloatProgressModel",
            "_view_count": null,
            "_view_module": "@jupyter-widgets/controls",
            "_view_module_version": "1.5.0",
            "_view_name": "ProgressView",
            "bar_style": "",
            "description": "",
            "description_tooltip": null,
            "layout": "IPY_MODEL_591f6cd508eb47c9850b300407089b3f",
            "max": 818,
            "min": 0,
            "orientation": "horizontal",
            "style": "IPY_MODEL_207914f485344acb94b3f40f00a7d9c8",
            "value": 818
          }
        },
        "be0e50fbfa054371853c4318939d9a44": {
          "model_module": "@jupyter-widgets/controls",
          "model_name": "HTMLModel",
          "model_module_version": "1.5.0",
          "state": {
            "_dom_classes": [],
            "_model_module": "@jupyter-widgets/controls",
            "_model_module_version": "1.5.0",
            "_model_name": "HTMLModel",
            "_view_count": null,
            "_view_module": "@jupyter-widgets/controls",
            "_view_module_version": "1.5.0",
            "_view_name": "HTMLView",
            "description": "",
            "description_tooltip": null,
            "layout": "IPY_MODEL_2525c5b507564355b3c815538ce09257",
            "placeholder": "​",
            "style": "IPY_MODEL_92c997926d9c4e9f9a5f879a47f35d31",
            "value": " 1/818 [00:00&lt;10:13,  1.33 examples/s]"
          }
        },
        "83893389a513408ca4e437803345c9b7": {
          "model_module": "@jupyter-widgets/base",
          "model_name": "LayoutModel",
          "model_module_version": "1.2.0",
          "state": {
            "_model_module": "@jupyter-widgets/base",
            "_model_module_version": "1.2.0",
            "_model_name": "LayoutModel",
            "_view_count": null,
            "_view_module": "@jupyter-widgets/base",
            "_view_module_version": "1.2.0",
            "_view_name": "LayoutView",
            "align_content": null,
            "align_items": null,
            "align_self": null,
            "border": null,
            "bottom": null,
            "display": null,
            "flex": null,
            "flex_flow": null,
            "grid_area": null,
            "grid_auto_columns": null,
            "grid_auto_flow": null,
            "grid_auto_rows": null,
            "grid_column": null,
            "grid_gap": null,
            "grid_row": null,
            "grid_template_areas": null,
            "grid_template_columns": null,
            "grid_template_rows": null,
            "height": null,
            "justify_content": null,
            "justify_items": null,
            "left": null,
            "margin": null,
            "max_height": null,
            "max_width": null,
            "min_height": null,
            "min_width": null,
            "object_fit": null,
            "object_position": null,
            "order": null,
            "overflow": null,
            "overflow_x": null,
            "overflow_y": null,
            "padding": null,
            "right": null,
            "top": null,
            "visibility": "hidden",
            "width": null
          }
        },
        "96b240c945d6495c8fbedd285bb097d2": {
          "model_module": "@jupyter-widgets/base",
          "model_name": "LayoutModel",
          "model_module_version": "1.2.0",
          "state": {
            "_model_module": "@jupyter-widgets/base",
            "_model_module_version": "1.2.0",
            "_model_name": "LayoutModel",
            "_view_count": null,
            "_view_module": "@jupyter-widgets/base",
            "_view_module_version": "1.2.0",
            "_view_name": "LayoutView",
            "align_content": null,
            "align_items": null,
            "align_self": null,
            "border": null,
            "bottom": null,
            "display": null,
            "flex": null,
            "flex_flow": null,
            "grid_area": null,
            "grid_auto_columns": null,
            "grid_auto_flow": null,
            "grid_auto_rows": null,
            "grid_column": null,
            "grid_gap": null,
            "grid_row": null,
            "grid_template_areas": null,
            "grid_template_columns": null,
            "grid_template_rows": null,
            "height": null,
            "justify_content": null,
            "justify_items": null,
            "left": null,
            "margin": null,
            "max_height": null,
            "max_width": null,
            "min_height": null,
            "min_width": null,
            "object_fit": null,
            "object_position": null,
            "order": null,
            "overflow": null,
            "overflow_x": null,
            "overflow_y": null,
            "padding": null,
            "right": null,
            "top": null,
            "visibility": null,
            "width": null
          }
        },
        "ec3aa3f0d5044715b2fc4ae338564431": {
          "model_module": "@jupyter-widgets/controls",
          "model_name": "DescriptionStyleModel",
          "model_module_version": "1.5.0",
          "state": {
            "_model_module": "@jupyter-widgets/controls",
            "_model_module_version": "1.5.0",
            "_model_name": "DescriptionStyleModel",
            "_view_count": null,
            "_view_module": "@jupyter-widgets/base",
            "_view_module_version": "1.2.0",
            "_view_name": "StyleView",
            "description_width": ""
          }
        },
        "591f6cd508eb47c9850b300407089b3f": {
          "model_module": "@jupyter-widgets/base",
          "model_name": "LayoutModel",
          "model_module_version": "1.2.0",
          "state": {
            "_model_module": "@jupyter-widgets/base",
            "_model_module_version": "1.2.0",
            "_model_name": "LayoutModel",
            "_view_count": null,
            "_view_module": "@jupyter-widgets/base",
            "_view_module_version": "1.2.0",
            "_view_name": "LayoutView",
            "align_content": null,
            "align_items": null,
            "align_self": null,
            "border": null,
            "bottom": null,
            "display": null,
            "flex": null,
            "flex_flow": null,
            "grid_area": null,
            "grid_auto_columns": null,
            "grid_auto_flow": null,
            "grid_auto_rows": null,
            "grid_column": null,
            "grid_gap": null,
            "grid_row": null,
            "grid_template_areas": null,
            "grid_template_columns": null,
            "grid_template_rows": null,
            "height": null,
            "justify_content": null,
            "justify_items": null,
            "left": null,
            "margin": null,
            "max_height": null,
            "max_width": null,
            "min_height": null,
            "min_width": null,
            "object_fit": null,
            "object_position": null,
            "order": null,
            "overflow": null,
            "overflow_x": null,
            "overflow_y": null,
            "padding": null,
            "right": null,
            "top": null,
            "visibility": null,
            "width": null
          }
        },
        "207914f485344acb94b3f40f00a7d9c8": {
          "model_module": "@jupyter-widgets/controls",
          "model_name": "ProgressStyleModel",
          "model_module_version": "1.5.0",
          "state": {
            "_model_module": "@jupyter-widgets/controls",
            "_model_module_version": "1.5.0",
            "_model_name": "ProgressStyleModel",
            "_view_count": null,
            "_view_module": "@jupyter-widgets/base",
            "_view_module_version": "1.2.0",
            "_view_name": "StyleView",
            "bar_color": null,
            "description_width": ""
          }
        },
        "2525c5b507564355b3c815538ce09257": {
          "model_module": "@jupyter-widgets/base",
          "model_name": "LayoutModel",
          "model_module_version": "1.2.0",
          "state": {
            "_model_module": "@jupyter-widgets/base",
            "_model_module_version": "1.2.0",
            "_model_name": "LayoutModel",
            "_view_count": null,
            "_view_module": "@jupyter-widgets/base",
            "_view_module_version": "1.2.0",
            "_view_name": "LayoutView",
            "align_content": null,
            "align_items": null,
            "align_self": null,
            "border": null,
            "bottom": null,
            "display": null,
            "flex": null,
            "flex_flow": null,
            "grid_area": null,
            "grid_auto_columns": null,
            "grid_auto_flow": null,
            "grid_auto_rows": null,
            "grid_column": null,
            "grid_gap": null,
            "grid_row": null,
            "grid_template_areas": null,
            "grid_template_columns": null,
            "grid_template_rows": null,
            "height": null,
            "justify_content": null,
            "justify_items": null,
            "left": null,
            "margin": null,
            "max_height": null,
            "max_width": null,
            "min_height": null,
            "min_width": null,
            "object_fit": null,
            "object_position": null,
            "order": null,
            "overflow": null,
            "overflow_x": null,
            "overflow_y": null,
            "padding": null,
            "right": null,
            "top": null,
            "visibility": null,
            "width": null
          }
        },
        "92c997926d9c4e9f9a5f879a47f35d31": {
          "model_module": "@jupyter-widgets/controls",
          "model_name": "DescriptionStyleModel",
          "model_module_version": "1.5.0",
          "state": {
            "_model_module": "@jupyter-widgets/controls",
            "_model_module_version": "1.5.0",
            "_model_name": "DescriptionStyleModel",
            "_view_count": null,
            "_view_module": "@jupyter-widgets/base",
            "_view_module_version": "1.2.0",
            "_view_name": "StyleView",
            "description_width": ""
          }
        },
        "a5e8e53a73c94eca88c9baeba54783a4": {
          "model_module": "@jupyter-widgets/controls",
          "model_name": "HBoxModel",
          "model_module_version": "1.5.0",
          "state": {
            "_dom_classes": [],
            "_model_module": "@jupyter-widgets/controls",
            "_model_module_version": "1.5.0",
            "_model_name": "HBoxModel",
            "_view_count": null,
            "_view_module": "@jupyter-widgets/controls",
            "_view_module_version": "1.5.0",
            "_view_name": "HBoxView",
            "box_style": "",
            "children": [
              "IPY_MODEL_8786b04e0c0b44fa937091ea51b9a039",
              "IPY_MODEL_72c0383f65904ae5a3e0177d4af96bd0",
              "IPY_MODEL_0894b29c1b114bee9463c045c3541c75"
            ],
            "layout": "IPY_MODEL_0411facd508941a9b236ec821b5029b3"
          }
        },
        "8786b04e0c0b44fa937091ea51b9a039": {
          "model_module": "@jupyter-widgets/controls",
          "model_name": "HTMLModel",
          "model_module_version": "1.5.0",
          "state": {
            "_dom_classes": [],
            "_model_module": "@jupyter-widgets/controls",
            "_model_module_version": "1.5.0",
            "_model_name": "HTMLModel",
            "_view_count": null,
            "_view_module": "@jupyter-widgets/controls",
            "_view_module_version": "1.5.0",
            "_view_name": "HTMLView",
            "description": "",
            "description_tooltip": null,
            "layout": "IPY_MODEL_831b16354fc5433ebdac9322da0deb5b",
            "placeholder": "​",
            "style": "IPY_MODEL_2c55772d10914714b2b8fb8813cd8dd8",
            "value": "100%"
          }
        },
        "72c0383f65904ae5a3e0177d4af96bd0": {
          "model_module": "@jupyter-widgets/controls",
          "model_name": "FloatProgressModel",
          "model_module_version": "1.5.0",
          "state": {
            "_dom_classes": [],
            "_model_module": "@jupyter-widgets/controls",
            "_model_module_version": "1.5.0",
            "_model_name": "FloatProgressModel",
            "_view_count": null,
            "_view_module": "@jupyter-widgets/controls",
            "_view_module_version": "1.5.0",
            "_view_name": "ProgressView",
            "bar_style": "success",
            "description": "",
            "description_tooltip": null,
            "layout": "IPY_MODEL_a4201ec2888a454a9d4dd8c35bd3beb5",
            "max": 3,
            "min": 0,
            "orientation": "horizontal",
            "style": "IPY_MODEL_e7355ed268c64a17a5e7e705cb1ac8ac",
            "value": 3
          }
        },
        "0894b29c1b114bee9463c045c3541c75": {
          "model_module": "@jupyter-widgets/controls",
          "model_name": "HTMLModel",
          "model_module_version": "1.5.0",
          "state": {
            "_dom_classes": [],
            "_model_module": "@jupyter-widgets/controls",
            "_model_module_version": "1.5.0",
            "_model_name": "HTMLModel",
            "_view_count": null,
            "_view_module": "@jupyter-widgets/controls",
            "_view_module_version": "1.5.0",
            "_view_name": "HTMLView",
            "description": "",
            "description_tooltip": null,
            "layout": "IPY_MODEL_a2a2827b5d5046f986753cf924a2b00b",
            "placeholder": "​",
            "style": "IPY_MODEL_1f84fcf9ea094f2f8e9a114317a2853a",
            "value": " 3/3 [00:00&lt;00:00, 29.42it/s]"
          }
        },
        "0411facd508941a9b236ec821b5029b3": {
          "model_module": "@jupyter-widgets/base",
          "model_name": "LayoutModel",
          "model_module_version": "1.2.0",
          "state": {
            "_model_module": "@jupyter-widgets/base",
            "_model_module_version": "1.2.0",
            "_model_name": "LayoutModel",
            "_view_count": null,
            "_view_module": "@jupyter-widgets/base",
            "_view_module_version": "1.2.0",
            "_view_name": "LayoutView",
            "align_content": null,
            "align_items": null,
            "align_self": null,
            "border": null,
            "bottom": null,
            "display": null,
            "flex": null,
            "flex_flow": null,
            "grid_area": null,
            "grid_auto_columns": null,
            "grid_auto_flow": null,
            "grid_auto_rows": null,
            "grid_column": null,
            "grid_gap": null,
            "grid_row": null,
            "grid_template_areas": null,
            "grid_template_columns": null,
            "grid_template_rows": null,
            "height": null,
            "justify_content": null,
            "justify_items": null,
            "left": null,
            "margin": null,
            "max_height": null,
            "max_width": null,
            "min_height": null,
            "min_width": null,
            "object_fit": null,
            "object_position": null,
            "order": null,
            "overflow": null,
            "overflow_x": null,
            "overflow_y": null,
            "padding": null,
            "right": null,
            "top": null,
            "visibility": null,
            "width": null
          }
        },
        "831b16354fc5433ebdac9322da0deb5b": {
          "model_module": "@jupyter-widgets/base",
          "model_name": "LayoutModel",
          "model_module_version": "1.2.0",
          "state": {
            "_model_module": "@jupyter-widgets/base",
            "_model_module_version": "1.2.0",
            "_model_name": "LayoutModel",
            "_view_count": null,
            "_view_module": "@jupyter-widgets/base",
            "_view_module_version": "1.2.0",
            "_view_name": "LayoutView",
            "align_content": null,
            "align_items": null,
            "align_self": null,
            "border": null,
            "bottom": null,
            "display": null,
            "flex": null,
            "flex_flow": null,
            "grid_area": null,
            "grid_auto_columns": null,
            "grid_auto_flow": null,
            "grid_auto_rows": null,
            "grid_column": null,
            "grid_gap": null,
            "grid_row": null,
            "grid_template_areas": null,
            "grid_template_columns": null,
            "grid_template_rows": null,
            "height": null,
            "justify_content": null,
            "justify_items": null,
            "left": null,
            "margin": null,
            "max_height": null,
            "max_width": null,
            "min_height": null,
            "min_width": null,
            "object_fit": null,
            "object_position": null,
            "order": null,
            "overflow": null,
            "overflow_x": null,
            "overflow_y": null,
            "padding": null,
            "right": null,
            "top": null,
            "visibility": null,
            "width": null
          }
        },
        "2c55772d10914714b2b8fb8813cd8dd8": {
          "model_module": "@jupyter-widgets/controls",
          "model_name": "DescriptionStyleModel",
          "model_module_version": "1.5.0",
          "state": {
            "_model_module": "@jupyter-widgets/controls",
            "_model_module_version": "1.5.0",
            "_model_name": "DescriptionStyleModel",
            "_view_count": null,
            "_view_module": "@jupyter-widgets/base",
            "_view_module_version": "1.2.0",
            "_view_name": "StyleView",
            "description_width": ""
          }
        },
        "a4201ec2888a454a9d4dd8c35bd3beb5": {
          "model_module": "@jupyter-widgets/base",
          "model_name": "LayoutModel",
          "model_module_version": "1.2.0",
          "state": {
            "_model_module": "@jupyter-widgets/base",
            "_model_module_version": "1.2.0",
            "_model_name": "LayoutModel",
            "_view_count": null,
            "_view_module": "@jupyter-widgets/base",
            "_view_module_version": "1.2.0",
            "_view_name": "LayoutView",
            "align_content": null,
            "align_items": null,
            "align_self": null,
            "border": null,
            "bottom": null,
            "display": null,
            "flex": null,
            "flex_flow": null,
            "grid_area": null,
            "grid_auto_columns": null,
            "grid_auto_flow": null,
            "grid_auto_rows": null,
            "grid_column": null,
            "grid_gap": null,
            "grid_row": null,
            "grid_template_areas": null,
            "grid_template_columns": null,
            "grid_template_rows": null,
            "height": null,
            "justify_content": null,
            "justify_items": null,
            "left": null,
            "margin": null,
            "max_height": null,
            "max_width": null,
            "min_height": null,
            "min_width": null,
            "object_fit": null,
            "object_position": null,
            "order": null,
            "overflow": null,
            "overflow_x": null,
            "overflow_y": null,
            "padding": null,
            "right": null,
            "top": null,
            "visibility": null,
            "width": null
          }
        },
        "e7355ed268c64a17a5e7e705cb1ac8ac": {
          "model_module": "@jupyter-widgets/controls",
          "model_name": "ProgressStyleModel",
          "model_module_version": "1.5.0",
          "state": {
            "_model_module": "@jupyter-widgets/controls",
            "_model_module_version": "1.5.0",
            "_model_name": "ProgressStyleModel",
            "_view_count": null,
            "_view_module": "@jupyter-widgets/base",
            "_view_module_version": "1.2.0",
            "_view_name": "StyleView",
            "bar_color": null,
            "description_width": ""
          }
        },
        "a2a2827b5d5046f986753cf924a2b00b": {
          "model_module": "@jupyter-widgets/base",
          "model_name": "LayoutModel",
          "model_module_version": "1.2.0",
          "state": {
            "_model_module": "@jupyter-widgets/base",
            "_model_module_version": "1.2.0",
            "_model_name": "LayoutModel",
            "_view_count": null,
            "_view_module": "@jupyter-widgets/base",
            "_view_module_version": "1.2.0",
            "_view_name": "LayoutView",
            "align_content": null,
            "align_items": null,
            "align_self": null,
            "border": null,
            "bottom": null,
            "display": null,
            "flex": null,
            "flex_flow": null,
            "grid_area": null,
            "grid_auto_columns": null,
            "grid_auto_flow": null,
            "grid_auto_rows": null,
            "grid_column": null,
            "grid_gap": null,
            "grid_row": null,
            "grid_template_areas": null,
            "grid_template_columns": null,
            "grid_template_rows": null,
            "height": null,
            "justify_content": null,
            "justify_items": null,
            "left": null,
            "margin": null,
            "max_height": null,
            "max_width": null,
            "min_height": null,
            "min_width": null,
            "object_fit": null,
            "object_position": null,
            "order": null,
            "overflow": null,
            "overflow_x": null,
            "overflow_y": null,
            "padding": null,
            "right": null,
            "top": null,
            "visibility": null,
            "width": null
          }
        },
        "1f84fcf9ea094f2f8e9a114317a2853a": {
          "model_module": "@jupyter-widgets/controls",
          "model_name": "DescriptionStyleModel",
          "model_module_version": "1.5.0",
          "state": {
            "_model_module": "@jupyter-widgets/controls",
            "_model_module_version": "1.5.0",
            "_model_name": "DescriptionStyleModel",
            "_view_count": null,
            "_view_module": "@jupyter-widgets/base",
            "_view_module_version": "1.2.0",
            "_view_name": "StyleView",
            "description_width": ""
          }
        },
        "938f67a96d524a4dae85bccd7e3b15d9": {
          "model_module": "@jupyter-widgets/controls",
          "model_name": "HBoxModel",
          "model_module_version": "1.5.0",
          "state": {
            "_dom_classes": [],
            "_model_module": "@jupyter-widgets/controls",
            "_model_module_version": "1.5.0",
            "_model_name": "HBoxModel",
            "_view_count": null,
            "_view_module": "@jupyter-widgets/controls",
            "_view_module_version": "1.5.0",
            "_view_name": "HBoxView",
            "box_style": "",
            "children": [
              "IPY_MODEL_2fda93bd90f4449d8f88f41d02acddbe",
              "IPY_MODEL_35842879237e4f0fb7a3072a459bcdf3",
              "IPY_MODEL_8d7f37982aba4392954774c1f4b82594"
            ],
            "layout": "IPY_MODEL_6764d90425bd4e8d9d1308611b3d3149"
          }
        },
        "2fda93bd90f4449d8f88f41d02acddbe": {
          "model_module": "@jupyter-widgets/controls",
          "model_name": "HTMLModel",
          "model_module_version": "1.5.0",
          "state": {
            "_dom_classes": [],
            "_model_module": "@jupyter-widgets/controls",
            "_model_module_version": "1.5.0",
            "_model_name": "HTMLModel",
            "_view_count": null,
            "_view_module": "@jupyter-widgets/controls",
            "_view_module_version": "1.5.0",
            "_view_name": "HTMLView",
            "description": "",
            "description_tooltip": null,
            "layout": "IPY_MODEL_8210d48996884006a21a2c82481e2658",
            "placeholder": "​",
            "style": "IPY_MODEL_cdf3807876d940f989cf701071033ea2",
            "value": " 93%"
          }
        },
        "35842879237e4f0fb7a3072a459bcdf3": {
          "model_module": "@jupyter-widgets/controls",
          "model_name": "FloatProgressModel",
          "model_module_version": "1.5.0",
          "state": {
            "_dom_classes": [],
            "_model_module": "@jupyter-widgets/controls",
            "_model_module_version": "1.5.0",
            "_model_name": "FloatProgressModel",
            "_view_count": null,
            "_view_module": "@jupyter-widgets/controls",
            "_view_module_version": "1.5.0",
            "_view_name": "ProgressView",
            "bar_style": "danger",
            "description": "",
            "description_tooltip": null,
            "layout": "IPY_MODEL_74cf68260e6d42f0a529ebc765f5e378",
            "max": 15,
            "min": 0,
            "orientation": "horizontal",
            "style": "IPY_MODEL_6cc5093180004cbabfaeb1af68759ec0",
            "value": 14
          }
        },
        "8d7f37982aba4392954774c1f4b82594": {
          "model_module": "@jupyter-widgets/controls",
          "model_name": "HTMLModel",
          "model_module_version": "1.5.0",
          "state": {
            "_dom_classes": [],
            "_model_module": "@jupyter-widgets/controls",
            "_model_module_version": "1.5.0",
            "_model_name": "HTMLModel",
            "_view_count": null,
            "_view_module": "@jupyter-widgets/controls",
            "_view_module_version": "1.5.0",
            "_view_name": "HTMLView",
            "description": "",
            "description_tooltip": null,
            "layout": "IPY_MODEL_21505dcf40b24688a774d443562adcbf",
            "placeholder": "​",
            "style": "IPY_MODEL_885c5830ce6044bda53dc9ff369ad805",
            "value": " 14/15 [00:07&lt;00:00,  2.29ba/s]"
          }
        },
        "6764d90425bd4e8d9d1308611b3d3149": {
          "model_module": "@jupyter-widgets/base",
          "model_name": "LayoutModel",
          "model_module_version": "1.2.0",
          "state": {
            "_model_module": "@jupyter-widgets/base",
            "_model_module_version": "1.2.0",
            "_model_name": "LayoutModel",
            "_view_count": null,
            "_view_module": "@jupyter-widgets/base",
            "_view_module_version": "1.2.0",
            "_view_name": "LayoutView",
            "align_content": null,
            "align_items": null,
            "align_self": null,
            "border": null,
            "bottom": null,
            "display": null,
            "flex": null,
            "flex_flow": null,
            "grid_area": null,
            "grid_auto_columns": null,
            "grid_auto_flow": null,
            "grid_auto_rows": null,
            "grid_column": null,
            "grid_gap": null,
            "grid_row": null,
            "grid_template_areas": null,
            "grid_template_columns": null,
            "grid_template_rows": null,
            "height": null,
            "justify_content": null,
            "justify_items": null,
            "left": null,
            "margin": null,
            "max_height": null,
            "max_width": null,
            "min_height": null,
            "min_width": null,
            "object_fit": null,
            "object_position": null,
            "order": null,
            "overflow": null,
            "overflow_x": null,
            "overflow_y": null,
            "padding": null,
            "right": null,
            "top": null,
            "visibility": null,
            "width": null
          }
        },
        "8210d48996884006a21a2c82481e2658": {
          "model_module": "@jupyter-widgets/base",
          "model_name": "LayoutModel",
          "model_module_version": "1.2.0",
          "state": {
            "_model_module": "@jupyter-widgets/base",
            "_model_module_version": "1.2.0",
            "_model_name": "LayoutModel",
            "_view_count": null,
            "_view_module": "@jupyter-widgets/base",
            "_view_module_version": "1.2.0",
            "_view_name": "LayoutView",
            "align_content": null,
            "align_items": null,
            "align_self": null,
            "border": null,
            "bottom": null,
            "display": null,
            "flex": null,
            "flex_flow": null,
            "grid_area": null,
            "grid_auto_columns": null,
            "grid_auto_flow": null,
            "grid_auto_rows": null,
            "grid_column": null,
            "grid_gap": null,
            "grid_row": null,
            "grid_template_areas": null,
            "grid_template_columns": null,
            "grid_template_rows": null,
            "height": null,
            "justify_content": null,
            "justify_items": null,
            "left": null,
            "margin": null,
            "max_height": null,
            "max_width": null,
            "min_height": null,
            "min_width": null,
            "object_fit": null,
            "object_position": null,
            "order": null,
            "overflow": null,
            "overflow_x": null,
            "overflow_y": null,
            "padding": null,
            "right": null,
            "top": null,
            "visibility": null,
            "width": null
          }
        },
        "cdf3807876d940f989cf701071033ea2": {
          "model_module": "@jupyter-widgets/controls",
          "model_name": "DescriptionStyleModel",
          "model_module_version": "1.5.0",
          "state": {
            "_model_module": "@jupyter-widgets/controls",
            "_model_module_version": "1.5.0",
            "_model_name": "DescriptionStyleModel",
            "_view_count": null,
            "_view_module": "@jupyter-widgets/base",
            "_view_module_version": "1.2.0",
            "_view_name": "StyleView",
            "description_width": ""
          }
        },
        "74cf68260e6d42f0a529ebc765f5e378": {
          "model_module": "@jupyter-widgets/base",
          "model_name": "LayoutModel",
          "model_module_version": "1.2.0",
          "state": {
            "_model_module": "@jupyter-widgets/base",
            "_model_module_version": "1.2.0",
            "_model_name": "LayoutModel",
            "_view_count": null,
            "_view_module": "@jupyter-widgets/base",
            "_view_module_version": "1.2.0",
            "_view_name": "LayoutView",
            "align_content": null,
            "align_items": null,
            "align_self": null,
            "border": null,
            "bottom": null,
            "display": null,
            "flex": null,
            "flex_flow": null,
            "grid_area": null,
            "grid_auto_columns": null,
            "grid_auto_flow": null,
            "grid_auto_rows": null,
            "grid_column": null,
            "grid_gap": null,
            "grid_row": null,
            "grid_template_areas": null,
            "grid_template_columns": null,
            "grid_template_rows": null,
            "height": null,
            "justify_content": null,
            "justify_items": null,
            "left": null,
            "margin": null,
            "max_height": null,
            "max_width": null,
            "min_height": null,
            "min_width": null,
            "object_fit": null,
            "object_position": null,
            "order": null,
            "overflow": null,
            "overflow_x": null,
            "overflow_y": null,
            "padding": null,
            "right": null,
            "top": null,
            "visibility": null,
            "width": null
          }
        },
        "6cc5093180004cbabfaeb1af68759ec0": {
          "model_module": "@jupyter-widgets/controls",
          "model_name": "ProgressStyleModel",
          "model_module_version": "1.5.0",
          "state": {
            "_model_module": "@jupyter-widgets/controls",
            "_model_module_version": "1.5.0",
            "_model_name": "ProgressStyleModel",
            "_view_count": null,
            "_view_module": "@jupyter-widgets/base",
            "_view_module_version": "1.2.0",
            "_view_name": "StyleView",
            "bar_color": null,
            "description_width": ""
          }
        },
        "21505dcf40b24688a774d443562adcbf": {
          "model_module": "@jupyter-widgets/base",
          "model_name": "LayoutModel",
          "model_module_version": "1.2.0",
          "state": {
            "_model_module": "@jupyter-widgets/base",
            "_model_module_version": "1.2.0",
            "_model_name": "LayoutModel",
            "_view_count": null,
            "_view_module": "@jupyter-widgets/base",
            "_view_module_version": "1.2.0",
            "_view_name": "LayoutView",
            "align_content": null,
            "align_items": null,
            "align_self": null,
            "border": null,
            "bottom": null,
            "display": null,
            "flex": null,
            "flex_flow": null,
            "grid_area": null,
            "grid_auto_columns": null,
            "grid_auto_flow": null,
            "grid_auto_rows": null,
            "grid_column": null,
            "grid_gap": null,
            "grid_row": null,
            "grid_template_areas": null,
            "grid_template_columns": null,
            "grid_template_rows": null,
            "height": null,
            "justify_content": null,
            "justify_items": null,
            "left": null,
            "margin": null,
            "max_height": null,
            "max_width": null,
            "min_height": null,
            "min_width": null,
            "object_fit": null,
            "object_position": null,
            "order": null,
            "overflow": null,
            "overflow_x": null,
            "overflow_y": null,
            "padding": null,
            "right": null,
            "top": null,
            "visibility": null,
            "width": null
          }
        },
        "885c5830ce6044bda53dc9ff369ad805": {
          "model_module": "@jupyter-widgets/controls",
          "model_name": "DescriptionStyleModel",
          "model_module_version": "1.5.0",
          "state": {
            "_model_module": "@jupyter-widgets/controls",
            "_model_module_version": "1.5.0",
            "_model_name": "DescriptionStyleModel",
            "_view_count": null,
            "_view_module": "@jupyter-widgets/base",
            "_view_module_version": "1.2.0",
            "_view_name": "StyleView",
            "description_width": ""
          }
        },
        "dcb7b0793f6540928de5f854b5276a00": {
          "model_module": "@jupyter-widgets/controls",
          "model_name": "HBoxModel",
          "model_module_version": "1.5.0",
          "state": {
            "_dom_classes": [],
            "_model_module": "@jupyter-widgets/controls",
            "_model_module_version": "1.5.0",
            "_model_name": "HBoxModel",
            "_view_count": null,
            "_view_module": "@jupyter-widgets/controls",
            "_view_module_version": "1.5.0",
            "_view_name": "HBoxView",
            "box_style": "",
            "children": [
              "IPY_MODEL_ac273147ee204003a5893f494ae0279f",
              "IPY_MODEL_46d39018acb94f88aa2e62f56bd9b353",
              "IPY_MODEL_76717b4233904b3495179eeed56910fd"
            ],
            "layout": "IPY_MODEL_9fc110a9d7504115a7a66e5012a620eb"
          }
        },
        "ac273147ee204003a5893f494ae0279f": {
          "model_module": "@jupyter-widgets/controls",
          "model_name": "HTMLModel",
          "model_module_version": "1.5.0",
          "state": {
            "_dom_classes": [],
            "_model_module": "@jupyter-widgets/controls",
            "_model_module_version": "1.5.0",
            "_model_name": "HTMLModel",
            "_view_count": null,
            "_view_module": "@jupyter-widgets/controls",
            "_view_module_version": "1.5.0",
            "_view_name": "HTMLView",
            "description": "",
            "description_tooltip": null,
            "layout": "IPY_MODEL_e396a865d43646cf9a57c1cb4aa03ee1",
            "placeholder": "​",
            "style": "IPY_MODEL_f35e431b8fb643a5a2649c1bc280ba2d",
            "value": "  0%"
          }
        },
        "46d39018acb94f88aa2e62f56bd9b353": {
          "model_module": "@jupyter-widgets/controls",
          "model_name": "FloatProgressModel",
          "model_module_version": "1.5.0",
          "state": {
            "_dom_classes": [],
            "_model_module": "@jupyter-widgets/controls",
            "_model_module_version": "1.5.0",
            "_model_name": "FloatProgressModel",
            "_view_count": null,
            "_view_module": "@jupyter-widgets/controls",
            "_view_module_version": "1.5.0",
            "_view_name": "ProgressView",
            "bar_style": "danger",
            "description": "",
            "description_tooltip": null,
            "layout": "IPY_MODEL_53dc256a4aad457ca9054fe973a777d0",
            "max": 1,
            "min": 0,
            "orientation": "horizontal",
            "style": "IPY_MODEL_83627f153089421fb6c0d65cd6f255c3",
            "value": 0
          }
        },
        "76717b4233904b3495179eeed56910fd": {
          "model_module": "@jupyter-widgets/controls",
          "model_name": "HTMLModel",
          "model_module_version": "1.5.0",
          "state": {
            "_dom_classes": [],
            "_model_module": "@jupyter-widgets/controls",
            "_model_module_version": "1.5.0",
            "_model_name": "HTMLModel",
            "_view_count": null,
            "_view_module": "@jupyter-widgets/controls",
            "_view_module_version": "1.5.0",
            "_view_name": "HTMLView",
            "description": "",
            "description_tooltip": null,
            "layout": "IPY_MODEL_dd1afb8d070b4ea084c87d970c8b94c2",
            "placeholder": "​",
            "style": "IPY_MODEL_2042dc4524184e8a8f17ac2e99311729",
            "value": " 0/1 [00:00&lt;?, ?ba/s]"
          }
        },
        "9fc110a9d7504115a7a66e5012a620eb": {
          "model_module": "@jupyter-widgets/base",
          "model_name": "LayoutModel",
          "model_module_version": "1.2.0",
          "state": {
            "_model_module": "@jupyter-widgets/base",
            "_model_module_version": "1.2.0",
            "_model_name": "LayoutModel",
            "_view_count": null,
            "_view_module": "@jupyter-widgets/base",
            "_view_module_version": "1.2.0",
            "_view_name": "LayoutView",
            "align_content": null,
            "align_items": null,
            "align_self": null,
            "border": null,
            "bottom": null,
            "display": null,
            "flex": null,
            "flex_flow": null,
            "grid_area": null,
            "grid_auto_columns": null,
            "grid_auto_flow": null,
            "grid_auto_rows": null,
            "grid_column": null,
            "grid_gap": null,
            "grid_row": null,
            "grid_template_areas": null,
            "grid_template_columns": null,
            "grid_template_rows": null,
            "height": null,
            "justify_content": null,
            "justify_items": null,
            "left": null,
            "margin": null,
            "max_height": null,
            "max_width": null,
            "min_height": null,
            "min_width": null,
            "object_fit": null,
            "object_position": null,
            "order": null,
            "overflow": null,
            "overflow_x": null,
            "overflow_y": null,
            "padding": null,
            "right": null,
            "top": null,
            "visibility": null,
            "width": null
          }
        },
        "e396a865d43646cf9a57c1cb4aa03ee1": {
          "model_module": "@jupyter-widgets/base",
          "model_name": "LayoutModel",
          "model_module_version": "1.2.0",
          "state": {
            "_model_module": "@jupyter-widgets/base",
            "_model_module_version": "1.2.0",
            "_model_name": "LayoutModel",
            "_view_count": null,
            "_view_module": "@jupyter-widgets/base",
            "_view_module_version": "1.2.0",
            "_view_name": "LayoutView",
            "align_content": null,
            "align_items": null,
            "align_self": null,
            "border": null,
            "bottom": null,
            "display": null,
            "flex": null,
            "flex_flow": null,
            "grid_area": null,
            "grid_auto_columns": null,
            "grid_auto_flow": null,
            "grid_auto_rows": null,
            "grid_column": null,
            "grid_gap": null,
            "grid_row": null,
            "grid_template_areas": null,
            "grid_template_columns": null,
            "grid_template_rows": null,
            "height": null,
            "justify_content": null,
            "justify_items": null,
            "left": null,
            "margin": null,
            "max_height": null,
            "max_width": null,
            "min_height": null,
            "min_width": null,
            "object_fit": null,
            "object_position": null,
            "order": null,
            "overflow": null,
            "overflow_x": null,
            "overflow_y": null,
            "padding": null,
            "right": null,
            "top": null,
            "visibility": null,
            "width": null
          }
        },
        "f35e431b8fb643a5a2649c1bc280ba2d": {
          "model_module": "@jupyter-widgets/controls",
          "model_name": "DescriptionStyleModel",
          "model_module_version": "1.5.0",
          "state": {
            "_model_module": "@jupyter-widgets/controls",
            "_model_module_version": "1.5.0",
            "_model_name": "DescriptionStyleModel",
            "_view_count": null,
            "_view_module": "@jupyter-widgets/base",
            "_view_module_version": "1.2.0",
            "_view_name": "StyleView",
            "description_width": ""
          }
        },
        "53dc256a4aad457ca9054fe973a777d0": {
          "model_module": "@jupyter-widgets/base",
          "model_name": "LayoutModel",
          "model_module_version": "1.2.0",
          "state": {
            "_model_module": "@jupyter-widgets/base",
            "_model_module_version": "1.2.0",
            "_model_name": "LayoutModel",
            "_view_count": null,
            "_view_module": "@jupyter-widgets/base",
            "_view_module_version": "1.2.0",
            "_view_name": "LayoutView",
            "align_content": null,
            "align_items": null,
            "align_self": null,
            "border": null,
            "bottom": null,
            "display": null,
            "flex": null,
            "flex_flow": null,
            "grid_area": null,
            "grid_auto_columns": null,
            "grid_auto_flow": null,
            "grid_auto_rows": null,
            "grid_column": null,
            "grid_gap": null,
            "grid_row": null,
            "grid_template_areas": null,
            "grid_template_columns": null,
            "grid_template_rows": null,
            "height": null,
            "justify_content": null,
            "justify_items": null,
            "left": null,
            "margin": null,
            "max_height": null,
            "max_width": null,
            "min_height": null,
            "min_width": null,
            "object_fit": null,
            "object_position": null,
            "order": null,
            "overflow": null,
            "overflow_x": null,
            "overflow_y": null,
            "padding": null,
            "right": null,
            "top": null,
            "visibility": null,
            "width": null
          }
        },
        "83627f153089421fb6c0d65cd6f255c3": {
          "model_module": "@jupyter-widgets/controls",
          "model_name": "ProgressStyleModel",
          "model_module_version": "1.5.0",
          "state": {
            "_model_module": "@jupyter-widgets/controls",
            "_model_module_version": "1.5.0",
            "_model_name": "ProgressStyleModel",
            "_view_count": null,
            "_view_module": "@jupyter-widgets/base",
            "_view_module_version": "1.2.0",
            "_view_name": "StyleView",
            "bar_color": null,
            "description_width": ""
          }
        },
        "dd1afb8d070b4ea084c87d970c8b94c2": {
          "model_module": "@jupyter-widgets/base",
          "model_name": "LayoutModel",
          "model_module_version": "1.2.0",
          "state": {
            "_model_module": "@jupyter-widgets/base",
            "_model_module_version": "1.2.0",
            "_model_name": "LayoutModel",
            "_view_count": null,
            "_view_module": "@jupyter-widgets/base",
            "_view_module_version": "1.2.0",
            "_view_name": "LayoutView",
            "align_content": null,
            "align_items": null,
            "align_self": null,
            "border": null,
            "bottom": null,
            "display": null,
            "flex": null,
            "flex_flow": null,
            "grid_area": null,
            "grid_auto_columns": null,
            "grid_auto_flow": null,
            "grid_auto_rows": null,
            "grid_column": null,
            "grid_gap": null,
            "grid_row": null,
            "grid_template_areas": null,
            "grid_template_columns": null,
            "grid_template_rows": null,
            "height": null,
            "justify_content": null,
            "justify_items": null,
            "left": null,
            "margin": null,
            "max_height": null,
            "max_width": null,
            "min_height": null,
            "min_width": null,
            "object_fit": null,
            "object_position": null,
            "order": null,
            "overflow": null,
            "overflow_x": null,
            "overflow_y": null,
            "padding": null,
            "right": null,
            "top": null,
            "visibility": null,
            "width": null
          }
        },
        "2042dc4524184e8a8f17ac2e99311729": {
          "model_module": "@jupyter-widgets/controls",
          "model_name": "DescriptionStyleModel",
          "model_module_version": "1.5.0",
          "state": {
            "_model_module": "@jupyter-widgets/controls",
            "_model_module_version": "1.5.0",
            "_model_name": "DescriptionStyleModel",
            "_view_count": null,
            "_view_module": "@jupyter-widgets/base",
            "_view_module_version": "1.2.0",
            "_view_name": "StyleView",
            "description_width": ""
          }
        },
        "28d620dd51a64cc8ad894ff4a01ccb4b": {
          "model_module": "@jupyter-widgets/controls",
          "model_name": "HBoxModel",
          "model_module_version": "1.5.0",
          "state": {
            "_dom_classes": [],
            "_model_module": "@jupyter-widgets/controls",
            "_model_module_version": "1.5.0",
            "_model_name": "HBoxModel",
            "_view_count": null,
            "_view_module": "@jupyter-widgets/controls",
            "_view_module_version": "1.5.0",
            "_view_name": "HBoxView",
            "box_style": "",
            "children": [
              "IPY_MODEL_d42888e4f9c744df94ccea3642a34773",
              "IPY_MODEL_1d31ff60b65d489d9b4d8700bd775e14",
              "IPY_MODEL_ed4a00e371a74efe993993ec53c60a0c"
            ],
            "layout": "IPY_MODEL_5d179f2379dc4efab9b96f784b98a85f"
          }
        },
        "d42888e4f9c744df94ccea3642a34773": {
          "model_module": "@jupyter-widgets/controls",
          "model_name": "HTMLModel",
          "model_module_version": "1.5.0",
          "state": {
            "_dom_classes": [],
            "_model_module": "@jupyter-widgets/controls",
            "_model_module_version": "1.5.0",
            "_model_name": "HTMLModel",
            "_view_count": null,
            "_view_module": "@jupyter-widgets/controls",
            "_view_module_version": "1.5.0",
            "_view_name": "HTMLView",
            "description": "",
            "description_tooltip": null,
            "layout": "IPY_MODEL_c437ecfc00fc4c5b9de2618825a7eeff",
            "placeholder": "​",
            "style": "IPY_MODEL_5f6e79bc1c194ee6b2e7efc10d42528e",
            "value": "  0%"
          }
        },
        "1d31ff60b65d489d9b4d8700bd775e14": {
          "model_module": "@jupyter-widgets/controls",
          "model_name": "FloatProgressModel",
          "model_module_version": "1.5.0",
          "state": {
            "_dom_classes": [],
            "_model_module": "@jupyter-widgets/controls",
            "_model_module_version": "1.5.0",
            "_model_name": "FloatProgressModel",
            "_view_count": null,
            "_view_module": "@jupyter-widgets/controls",
            "_view_module_version": "1.5.0",
            "_view_name": "ProgressView",
            "bar_style": "danger",
            "description": "",
            "description_tooltip": null,
            "layout": "IPY_MODEL_6d68aba743c640d5af29252f9e7d37f2",
            "max": 1,
            "min": 0,
            "orientation": "horizontal",
            "style": "IPY_MODEL_084b74e321674a6180d5a27a3596d977",
            "value": 0
          }
        },
        "ed4a00e371a74efe993993ec53c60a0c": {
          "model_module": "@jupyter-widgets/controls",
          "model_name": "HTMLModel",
          "model_module_version": "1.5.0",
          "state": {
            "_dom_classes": [],
            "_model_module": "@jupyter-widgets/controls",
            "_model_module_version": "1.5.0",
            "_model_name": "HTMLModel",
            "_view_count": null,
            "_view_module": "@jupyter-widgets/controls",
            "_view_module_version": "1.5.0",
            "_view_name": "HTMLView",
            "description": "",
            "description_tooltip": null,
            "layout": "IPY_MODEL_91f309f67cdf402c9f2362516a2557c6",
            "placeholder": "​",
            "style": "IPY_MODEL_5ca20a881d284c1690b71e6b374ed515",
            "value": " 0/1 [00:00&lt;?, ?ba/s]"
          }
        },
        "5d179f2379dc4efab9b96f784b98a85f": {
          "model_module": "@jupyter-widgets/base",
          "model_name": "LayoutModel",
          "model_module_version": "1.2.0",
          "state": {
            "_model_module": "@jupyter-widgets/base",
            "_model_module_version": "1.2.0",
            "_model_name": "LayoutModel",
            "_view_count": null,
            "_view_module": "@jupyter-widgets/base",
            "_view_module_version": "1.2.0",
            "_view_name": "LayoutView",
            "align_content": null,
            "align_items": null,
            "align_self": null,
            "border": null,
            "bottom": null,
            "display": null,
            "flex": null,
            "flex_flow": null,
            "grid_area": null,
            "grid_auto_columns": null,
            "grid_auto_flow": null,
            "grid_auto_rows": null,
            "grid_column": null,
            "grid_gap": null,
            "grid_row": null,
            "grid_template_areas": null,
            "grid_template_columns": null,
            "grid_template_rows": null,
            "height": null,
            "justify_content": null,
            "justify_items": null,
            "left": null,
            "margin": null,
            "max_height": null,
            "max_width": null,
            "min_height": null,
            "min_width": null,
            "object_fit": null,
            "object_position": null,
            "order": null,
            "overflow": null,
            "overflow_x": null,
            "overflow_y": null,
            "padding": null,
            "right": null,
            "top": null,
            "visibility": null,
            "width": null
          }
        },
        "c437ecfc00fc4c5b9de2618825a7eeff": {
          "model_module": "@jupyter-widgets/base",
          "model_name": "LayoutModel",
          "model_module_version": "1.2.0",
          "state": {
            "_model_module": "@jupyter-widgets/base",
            "_model_module_version": "1.2.0",
            "_model_name": "LayoutModel",
            "_view_count": null,
            "_view_module": "@jupyter-widgets/base",
            "_view_module_version": "1.2.0",
            "_view_name": "LayoutView",
            "align_content": null,
            "align_items": null,
            "align_self": null,
            "border": null,
            "bottom": null,
            "display": null,
            "flex": null,
            "flex_flow": null,
            "grid_area": null,
            "grid_auto_columns": null,
            "grid_auto_flow": null,
            "grid_auto_rows": null,
            "grid_column": null,
            "grid_gap": null,
            "grid_row": null,
            "grid_template_areas": null,
            "grid_template_columns": null,
            "grid_template_rows": null,
            "height": null,
            "justify_content": null,
            "justify_items": null,
            "left": null,
            "margin": null,
            "max_height": null,
            "max_width": null,
            "min_height": null,
            "min_width": null,
            "object_fit": null,
            "object_position": null,
            "order": null,
            "overflow": null,
            "overflow_x": null,
            "overflow_y": null,
            "padding": null,
            "right": null,
            "top": null,
            "visibility": null,
            "width": null
          }
        },
        "5f6e79bc1c194ee6b2e7efc10d42528e": {
          "model_module": "@jupyter-widgets/controls",
          "model_name": "DescriptionStyleModel",
          "model_module_version": "1.5.0",
          "state": {
            "_model_module": "@jupyter-widgets/controls",
            "_model_module_version": "1.5.0",
            "_model_name": "DescriptionStyleModel",
            "_view_count": null,
            "_view_module": "@jupyter-widgets/base",
            "_view_module_version": "1.2.0",
            "_view_name": "StyleView",
            "description_width": ""
          }
        },
        "6d68aba743c640d5af29252f9e7d37f2": {
          "model_module": "@jupyter-widgets/base",
          "model_name": "LayoutModel",
          "model_module_version": "1.2.0",
          "state": {
            "_model_module": "@jupyter-widgets/base",
            "_model_module_version": "1.2.0",
            "_model_name": "LayoutModel",
            "_view_count": null,
            "_view_module": "@jupyter-widgets/base",
            "_view_module_version": "1.2.0",
            "_view_name": "LayoutView",
            "align_content": null,
            "align_items": null,
            "align_self": null,
            "border": null,
            "bottom": null,
            "display": null,
            "flex": null,
            "flex_flow": null,
            "grid_area": null,
            "grid_auto_columns": null,
            "grid_auto_flow": null,
            "grid_auto_rows": null,
            "grid_column": null,
            "grid_gap": null,
            "grid_row": null,
            "grid_template_areas": null,
            "grid_template_columns": null,
            "grid_template_rows": null,
            "height": null,
            "justify_content": null,
            "justify_items": null,
            "left": null,
            "margin": null,
            "max_height": null,
            "max_width": null,
            "min_height": null,
            "min_width": null,
            "object_fit": null,
            "object_position": null,
            "order": null,
            "overflow": null,
            "overflow_x": null,
            "overflow_y": null,
            "padding": null,
            "right": null,
            "top": null,
            "visibility": null,
            "width": null
          }
        },
        "084b74e321674a6180d5a27a3596d977": {
          "model_module": "@jupyter-widgets/controls",
          "model_name": "ProgressStyleModel",
          "model_module_version": "1.5.0",
          "state": {
            "_model_module": "@jupyter-widgets/controls",
            "_model_module_version": "1.5.0",
            "_model_name": "ProgressStyleModel",
            "_view_count": null,
            "_view_module": "@jupyter-widgets/base",
            "_view_module_version": "1.2.0",
            "_view_name": "StyleView",
            "bar_color": null,
            "description_width": ""
          }
        },
        "91f309f67cdf402c9f2362516a2557c6": {
          "model_module": "@jupyter-widgets/base",
          "model_name": "LayoutModel",
          "model_module_version": "1.2.0",
          "state": {
            "_model_module": "@jupyter-widgets/base",
            "_model_module_version": "1.2.0",
            "_model_name": "LayoutModel",
            "_view_count": null,
            "_view_module": "@jupyter-widgets/base",
            "_view_module_version": "1.2.0",
            "_view_name": "LayoutView",
            "align_content": null,
            "align_items": null,
            "align_self": null,
            "border": null,
            "bottom": null,
            "display": null,
            "flex": null,
            "flex_flow": null,
            "grid_area": null,
            "grid_auto_columns": null,
            "grid_auto_flow": null,
            "grid_auto_rows": null,
            "grid_column": null,
            "grid_gap": null,
            "grid_row": null,
            "grid_template_areas": null,
            "grid_template_columns": null,
            "grid_template_rows": null,
            "height": null,
            "justify_content": null,
            "justify_items": null,
            "left": null,
            "margin": null,
            "max_height": null,
            "max_width": null,
            "min_height": null,
            "min_width": null,
            "object_fit": null,
            "object_position": null,
            "order": null,
            "overflow": null,
            "overflow_x": null,
            "overflow_y": null,
            "padding": null,
            "right": null,
            "top": null,
            "visibility": null,
            "width": null
          }
        },
        "5ca20a881d284c1690b71e6b374ed515": {
          "model_module": "@jupyter-widgets/controls",
          "model_name": "DescriptionStyleModel",
          "model_module_version": "1.5.0",
          "state": {
            "_model_module": "@jupyter-widgets/controls",
            "_model_module_version": "1.5.0",
            "_model_name": "DescriptionStyleModel",
            "_view_count": null,
            "_view_module": "@jupyter-widgets/base",
            "_view_module_version": "1.2.0",
            "_view_name": "StyleView",
            "description_width": ""
          }
        },
        "57afbd2b686844f5b14174fbca6c0ed5": {
          "model_module": "@jupyter-widgets/controls",
          "model_name": "VBoxModel",
          "model_module_version": "1.5.0",
          "state": {
            "_dom_classes": [],
            "_model_module": "@jupyter-widgets/controls",
            "_model_module_version": "1.5.0",
            "_model_name": "VBoxModel",
            "_view_count": null,
            "_view_module": "@jupyter-widgets/controls",
            "_view_module_version": "1.5.0",
            "_view_name": "VBoxView",
            "box_style": "",
            "children": [
              "IPY_MODEL_25430d9f5a3f436691d1d37e9496ad8d",
              "IPY_MODEL_719e03dc525b4839a3a8cebf56d35048",
              "IPY_MODEL_77115cf5f99a40d789bfbf914cafb7b9",
              "IPY_MODEL_54310755a6f146c6825ed0311fb42a5b"
            ],
            "layout": "IPY_MODEL_0f8c38c88faa4d8d9c05c4ac77576922"
          }
        },
        "25430d9f5a3f436691d1d37e9496ad8d": {
          "model_module": "@jupyter-widgets/controls",
          "model_name": "HTMLModel",
          "model_module_version": "1.5.0",
          "state": {
            "_dom_classes": [],
            "_model_module": "@jupyter-widgets/controls",
            "_model_module_version": "1.5.0",
            "_model_name": "HTMLModel",
            "_view_count": null,
            "_view_module": "@jupyter-widgets/controls",
            "_view_module_version": "1.5.0",
            "_view_name": "HTMLView",
            "description": "",
            "description_tooltip": null,
            "layout": "IPY_MODEL_6e25d4576a6d457faa791d8e38284f99",
            "placeholder": "​",
            "style": "IPY_MODEL_a349fdb14fe3441c930226ff319402f1",
            "value": "<center> <img\nsrc=https://huggingface.co/front/assets/huggingface_logo-noborder.svg\nalt='Hugging Face'> <br> Copy a token from <a\nhref=\"https://huggingface.co/settings/tokens\" target=\"_blank\">your Hugging Face\ntokens page</a> and paste it below. <br> Immediately click login after copying\nyour token or it might be stored in plain text in this notebook file. </center>"
          }
        },
        "719e03dc525b4839a3a8cebf56d35048": {
          "model_module": "@jupyter-widgets/controls",
          "model_name": "PasswordModel",
          "model_module_version": "1.5.0",
          "state": {
            "_dom_classes": [],
            "_model_module": "@jupyter-widgets/controls",
            "_model_module_version": "1.5.0",
            "_model_name": "PasswordModel",
            "_view_count": null,
            "_view_module": "@jupyter-widgets/controls",
            "_view_module_version": "1.5.0",
            "_view_name": "PasswordView",
            "continuous_update": true,
            "description": "Token:",
            "description_tooltip": null,
            "disabled": false,
            "layout": "IPY_MODEL_c40d5ea0da004179a4d0ed2e7e52cc25",
            "placeholder": "​",
            "style": "IPY_MODEL_869b8fb5625c4590a8494f5b58eb686e",
            "value": ""
          }
        },
        "77115cf5f99a40d789bfbf914cafb7b9": {
          "model_module": "@jupyter-widgets/controls",
          "model_name": "ButtonModel",
          "model_module_version": "1.5.0",
          "state": {
            "_dom_classes": [],
            "_model_module": "@jupyter-widgets/controls",
            "_model_module_version": "1.5.0",
            "_model_name": "ButtonModel",
            "_view_count": null,
            "_view_module": "@jupyter-widgets/controls",
            "_view_module_version": "1.5.0",
            "_view_name": "ButtonView",
            "button_style": "",
            "description": "Login",
            "disabled": false,
            "icon": "",
            "layout": "IPY_MODEL_c1f5fd2fe4e14802a7632dc97860fbd0",
            "style": "IPY_MODEL_1180c7c8af334ab39d09be032addde06",
            "tooltip": ""
          }
        },
        "54310755a6f146c6825ed0311fb42a5b": {
          "model_module": "@jupyter-widgets/controls",
          "model_name": "HTMLModel",
          "model_module_version": "1.5.0",
          "state": {
            "_dom_classes": [],
            "_model_module": "@jupyter-widgets/controls",
            "_model_module_version": "1.5.0",
            "_model_name": "HTMLModel",
            "_view_count": null,
            "_view_module": "@jupyter-widgets/controls",
            "_view_module_version": "1.5.0",
            "_view_name": "HTMLView",
            "description": "",
            "description_tooltip": null,
            "layout": "IPY_MODEL_f22b3d35b11e4cd18d6fd600c1ca20b2",
            "placeholder": "​",
            "style": "IPY_MODEL_14b1a4d8f69d4ff08d3150d95538f3a8",
            "value": "\n<b>Pro Tip:</b> If you don't already have one, you can create a dedicated\n'notebooks' token with 'write' access, that you can then easily reuse for all\nnotebooks. </center>"
          }
        },
        "0f8c38c88faa4d8d9c05c4ac77576922": {
          "model_module": "@jupyter-widgets/base",
          "model_name": "LayoutModel",
          "model_module_version": "1.2.0",
          "state": {
            "_model_module": "@jupyter-widgets/base",
            "_model_module_version": "1.2.0",
            "_model_name": "LayoutModel",
            "_view_count": null,
            "_view_module": "@jupyter-widgets/base",
            "_view_module_version": "1.2.0",
            "_view_name": "LayoutView",
            "align_content": null,
            "align_items": "center",
            "align_self": null,
            "border": null,
            "bottom": null,
            "display": "flex",
            "flex": null,
            "flex_flow": "column",
            "grid_area": null,
            "grid_auto_columns": null,
            "grid_auto_flow": null,
            "grid_auto_rows": null,
            "grid_column": null,
            "grid_gap": null,
            "grid_row": null,
            "grid_template_areas": null,
            "grid_template_columns": null,
            "grid_template_rows": null,
            "height": null,
            "justify_content": null,
            "justify_items": null,
            "left": null,
            "margin": null,
            "max_height": null,
            "max_width": null,
            "min_height": null,
            "min_width": null,
            "object_fit": null,
            "object_position": null,
            "order": null,
            "overflow": null,
            "overflow_x": null,
            "overflow_y": null,
            "padding": null,
            "right": null,
            "top": null,
            "visibility": null,
            "width": "50%"
          }
        },
        "6e25d4576a6d457faa791d8e38284f99": {
          "model_module": "@jupyter-widgets/base",
          "model_name": "LayoutModel",
          "model_module_version": "1.2.0",
          "state": {
            "_model_module": "@jupyter-widgets/base",
            "_model_module_version": "1.2.0",
            "_model_name": "LayoutModel",
            "_view_count": null,
            "_view_module": "@jupyter-widgets/base",
            "_view_module_version": "1.2.0",
            "_view_name": "LayoutView",
            "align_content": null,
            "align_items": null,
            "align_self": null,
            "border": null,
            "bottom": null,
            "display": null,
            "flex": null,
            "flex_flow": null,
            "grid_area": null,
            "grid_auto_columns": null,
            "grid_auto_flow": null,
            "grid_auto_rows": null,
            "grid_column": null,
            "grid_gap": null,
            "grid_row": null,
            "grid_template_areas": null,
            "grid_template_columns": null,
            "grid_template_rows": null,
            "height": null,
            "justify_content": null,
            "justify_items": null,
            "left": null,
            "margin": null,
            "max_height": null,
            "max_width": null,
            "min_height": null,
            "min_width": null,
            "object_fit": null,
            "object_position": null,
            "order": null,
            "overflow": null,
            "overflow_x": null,
            "overflow_y": null,
            "padding": null,
            "right": null,
            "top": null,
            "visibility": null,
            "width": null
          }
        },
        "a349fdb14fe3441c930226ff319402f1": {
          "model_module": "@jupyter-widgets/controls",
          "model_name": "DescriptionStyleModel",
          "model_module_version": "1.5.0",
          "state": {
            "_model_module": "@jupyter-widgets/controls",
            "_model_module_version": "1.5.0",
            "_model_name": "DescriptionStyleModel",
            "_view_count": null,
            "_view_module": "@jupyter-widgets/base",
            "_view_module_version": "1.2.0",
            "_view_name": "StyleView",
            "description_width": ""
          }
        },
        "c40d5ea0da004179a4d0ed2e7e52cc25": {
          "model_module": "@jupyter-widgets/base",
          "model_name": "LayoutModel",
          "model_module_version": "1.2.0",
          "state": {
            "_model_module": "@jupyter-widgets/base",
            "_model_module_version": "1.2.0",
            "_model_name": "LayoutModel",
            "_view_count": null,
            "_view_module": "@jupyter-widgets/base",
            "_view_module_version": "1.2.0",
            "_view_name": "LayoutView",
            "align_content": null,
            "align_items": null,
            "align_self": null,
            "border": null,
            "bottom": null,
            "display": null,
            "flex": null,
            "flex_flow": null,
            "grid_area": null,
            "grid_auto_columns": null,
            "grid_auto_flow": null,
            "grid_auto_rows": null,
            "grid_column": null,
            "grid_gap": null,
            "grid_row": null,
            "grid_template_areas": null,
            "grid_template_columns": null,
            "grid_template_rows": null,
            "height": null,
            "justify_content": null,
            "justify_items": null,
            "left": null,
            "margin": null,
            "max_height": null,
            "max_width": null,
            "min_height": null,
            "min_width": null,
            "object_fit": null,
            "object_position": null,
            "order": null,
            "overflow": null,
            "overflow_x": null,
            "overflow_y": null,
            "padding": null,
            "right": null,
            "top": null,
            "visibility": null,
            "width": null
          }
        },
        "869b8fb5625c4590a8494f5b58eb686e": {
          "model_module": "@jupyter-widgets/controls",
          "model_name": "DescriptionStyleModel",
          "model_module_version": "1.5.0",
          "state": {
            "_model_module": "@jupyter-widgets/controls",
            "_model_module_version": "1.5.0",
            "_model_name": "DescriptionStyleModel",
            "_view_count": null,
            "_view_module": "@jupyter-widgets/base",
            "_view_module_version": "1.2.0",
            "_view_name": "StyleView",
            "description_width": ""
          }
        },
        "c1f5fd2fe4e14802a7632dc97860fbd0": {
          "model_module": "@jupyter-widgets/base",
          "model_name": "LayoutModel",
          "model_module_version": "1.2.0",
          "state": {
            "_model_module": "@jupyter-widgets/base",
            "_model_module_version": "1.2.0",
            "_model_name": "LayoutModel",
            "_view_count": null,
            "_view_module": "@jupyter-widgets/base",
            "_view_module_version": "1.2.0",
            "_view_name": "LayoutView",
            "align_content": null,
            "align_items": null,
            "align_self": null,
            "border": null,
            "bottom": null,
            "display": null,
            "flex": null,
            "flex_flow": null,
            "grid_area": null,
            "grid_auto_columns": null,
            "grid_auto_flow": null,
            "grid_auto_rows": null,
            "grid_column": null,
            "grid_gap": null,
            "grid_row": null,
            "grid_template_areas": null,
            "grid_template_columns": null,
            "grid_template_rows": null,
            "height": null,
            "justify_content": null,
            "justify_items": null,
            "left": null,
            "margin": null,
            "max_height": null,
            "max_width": null,
            "min_height": null,
            "min_width": null,
            "object_fit": null,
            "object_position": null,
            "order": null,
            "overflow": null,
            "overflow_x": null,
            "overflow_y": null,
            "padding": null,
            "right": null,
            "top": null,
            "visibility": null,
            "width": null
          }
        },
        "1180c7c8af334ab39d09be032addde06": {
          "model_module": "@jupyter-widgets/controls",
          "model_name": "ButtonStyleModel",
          "model_module_version": "1.5.0",
          "state": {
            "_model_module": "@jupyter-widgets/controls",
            "_model_module_version": "1.5.0",
            "_model_name": "ButtonStyleModel",
            "_view_count": null,
            "_view_module": "@jupyter-widgets/base",
            "_view_module_version": "1.2.0",
            "_view_name": "StyleView",
            "button_color": null,
            "font_weight": ""
          }
        },
        "f22b3d35b11e4cd18d6fd600c1ca20b2": {
          "model_module": "@jupyter-widgets/base",
          "model_name": "LayoutModel",
          "model_module_version": "1.2.0",
          "state": {
            "_model_module": "@jupyter-widgets/base",
            "_model_module_version": "1.2.0",
            "_model_name": "LayoutModel",
            "_view_count": null,
            "_view_module": "@jupyter-widgets/base",
            "_view_module_version": "1.2.0",
            "_view_name": "LayoutView",
            "align_content": null,
            "align_items": null,
            "align_self": null,
            "border": null,
            "bottom": null,
            "display": null,
            "flex": null,
            "flex_flow": null,
            "grid_area": null,
            "grid_auto_columns": null,
            "grid_auto_flow": null,
            "grid_auto_rows": null,
            "grid_column": null,
            "grid_gap": null,
            "grid_row": null,
            "grid_template_areas": null,
            "grid_template_columns": null,
            "grid_template_rows": null,
            "height": null,
            "justify_content": null,
            "justify_items": null,
            "left": null,
            "margin": null,
            "max_height": null,
            "max_width": null,
            "min_height": null,
            "min_width": null,
            "object_fit": null,
            "object_position": null,
            "order": null,
            "overflow": null,
            "overflow_x": null,
            "overflow_y": null,
            "padding": null,
            "right": null,
            "top": null,
            "visibility": null,
            "width": null
          }
        },
        "14b1a4d8f69d4ff08d3150d95538f3a8": {
          "model_module": "@jupyter-widgets/controls",
          "model_name": "DescriptionStyleModel",
          "model_module_version": "1.5.0",
          "state": {
            "_model_module": "@jupyter-widgets/controls",
            "_model_module_version": "1.5.0",
            "_model_name": "DescriptionStyleModel",
            "_view_count": null,
            "_view_module": "@jupyter-widgets/base",
            "_view_module_version": "1.2.0",
            "_view_name": "StyleView",
            "description_width": ""
          }
        }
      }
    }
  },
  "nbformat": 4,
  "nbformat_minor": 0
}
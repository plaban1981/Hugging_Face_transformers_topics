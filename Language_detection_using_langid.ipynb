{
  "nbformat": 4,
  "nbformat_minor": 0,
  "metadata": {
    "colab": {
      "provenance": [],
      "authorship_tag": "ABX9TyPBy10Fkgb9EYFdTwIFYz/a",
      "include_colab_link": true
    },
    "kernelspec": {
      "name": "python3",
      "display_name": "Python 3"
    },
    "language_info": {
      "name": "python"
    }
  },
  "cells": [
    {
      "cell_type": "markdown",
      "metadata": {
        "id": "view-in-github",
        "colab_type": "text"
      },
      "source": [
        "<a href=\"https://colab.research.google.com/github/plaban1981/Hugging_Face_transformers_topics/blob/main/Language_detection_using_langid.ipynb\" target=\"_parent\"><img src=\"https://colab.research.google.com/assets/colab-badge.svg\" alt=\"Open In Colab\"/></a>"
      ]
    },
    {
      "cell_type": "code",
      "execution_count": null,
      "metadata": {
        "colab": {
          "base_uri": "https://localhost:8080/"
        },
        "id": "QMdViR8999yg",
        "outputId": "95de2c15-dfe1-419d-d070-0e6aaaef480f"
      },
      "outputs": [
        {
          "output_type": "stream",
          "name": "stdout",
          "text": [
            "Looking in indexes: https://pypi.org/simple, https://us-python.pkg.dev/colab-wheels/public/simple/\n",
            "Collecting langid\n",
            "  Downloading langid-1.1.6.tar.gz (1.9 MB)\n",
            "\u001b[2K     \u001b[90m━━━━━━━━━━━━━━━━━━━━━━━━━━━━━━━━━━━━━━━━\u001b[0m \u001b[32m1.9/1.9 MB\u001b[0m \u001b[31m25.1 MB/s\u001b[0m eta \u001b[36m0:00:00\u001b[0m\n",
            "\u001b[?25h  Preparing metadata (setup.py) ... \u001b[?25l\u001b[?25hdone\n",
            "Requirement already satisfied: numpy in /usr/local/lib/python3.9/dist-packages (from langid) (1.22.4)\n",
            "Building wheels for collected packages: langid\n",
            "  Building wheel for langid (setup.py) ... \u001b[?25l\u001b[?25hdone\n",
            "  Created wheel for langid: filename=langid-1.1.6-py3-none-any.whl size=1941188 sha256=06edbda39f493b84e221f8b05f8f8b495c144accca95849433be3af4b693f7c4\n",
            "  Stored in directory: /root/.cache/pip/wheels/93/95/a9/c292c9dd8cadb8f2359f1670ff198a40d47167b0be3236e1c8\n",
            "Successfully built langid\n",
            "Installing collected packages: langid\n",
            "Successfully installed langid-1.1.6\n"
          ]
        }
      ],
      "source": [
        "!pip install langid"
      ]
    },
    {
      "cell_type": "code",
      "source": [
        "import joblib\n",
        "import langid\n",
        "text =  \"\"\"இணையத்தில் எங்கிருந்தாலும் நீங்கள் தேர்வுசெய்யும் மொழியில் தட்டச்சு செய்வதை Google உள்ளீட்டு கருவி எளிதாக்குகிறது. மேலும் அறிக\n",
        "\n",
        "இதை முயற்சிக்க, கீழே உங்கள் மொழி மற்றும் உள்ளீட்டு கருவியைத் தேர்வுசெய்து, தட்டச்சு செய்யத் தொடங்கவும்.\"\"\""
      ],
      "metadata": {
        "id": "lLBZ9g5z-Fti"
      },
      "execution_count": null,
      "outputs": []
    },
    {
      "cell_type": "code",
      "source": [
        "out_lan = langid.classify(text)[0]"
      ],
      "metadata": {
        "id": "-2s4lQug_XVn"
      },
      "execution_count": null,
      "outputs": []
    },
    {
      "cell_type": "code",
      "source": [
        "out_lan"
      ],
      "metadata": {
        "colab": {
          "base_uri": "https://localhost:8080/",
          "height": 36
        },
        "id": "CNZdfGtoGOzl",
        "outputId": "1ab497f0-b774-45c9-f031-2aaee4df44d6"
      },
      "execution_count": null,
      "outputs": [
        {
          "output_type": "execute_result",
          "data": {
            "text/plain": [
              "'ta'"
            ],
            "application/vnd.google.colaboratory.intrinsic+json": {
              "type": "string"
            }
          },
          "metadata": {},
          "execution_count": 28
        }
      ]
    },
    {
      "cell_type": "code",
      "source": [
        "import pandas as pd\n",
        "lang = pd.read_csv(\"Lang.csv\")"
      ],
      "metadata": {
        "id": "rkibIkYX_aLw"
      },
      "execution_count": null,
      "outputs": []
    },
    {
      "cell_type": "code",
      "source": [
        "lang.head()"
      ],
      "metadata": {
        "colab": {
          "base_uri": "https://localhost:8080/",
          "height": 206
        },
        "id": "-faSriLQCmI_",
        "outputId": "ae082d4c-56a1-4326-8038-f0c0e8d9afef"
      },
      "execution_count": null,
      "outputs": [
        {
          "output_type": "execute_result",
          "data": {
            "text/plain": [
              "    Language code\n",
              "0  Abkhazian   ab\n",
              "1       Afar   aa\n",
              "2  Afrikaans   af\n",
              "3       Akan   ak\n",
              "4   Albanian   sq"
            ],
            "text/html": [
              "\n",
              "  <div id=\"df-b9888918-87cb-4096-9326-cc5b091aefe4\">\n",
              "    <div class=\"colab-df-container\">\n",
              "      <div>\n",
              "<style scoped>\n",
              "    .dataframe tbody tr th:only-of-type {\n",
              "        vertical-align: middle;\n",
              "    }\n",
              "\n",
              "    .dataframe tbody tr th {\n",
              "        vertical-align: top;\n",
              "    }\n",
              "\n",
              "    .dataframe thead th {\n",
              "        text-align: right;\n",
              "    }\n",
              "</style>\n",
              "<table border=\"1\" class=\"dataframe\">\n",
              "  <thead>\n",
              "    <tr style=\"text-align: right;\">\n",
              "      <th></th>\n",
              "      <th>Language</th>\n",
              "      <th>code</th>\n",
              "    </tr>\n",
              "  </thead>\n",
              "  <tbody>\n",
              "    <tr>\n",
              "      <th>0</th>\n",
              "      <td>Abkhazian</td>\n",
              "      <td>ab</td>\n",
              "    </tr>\n",
              "    <tr>\n",
              "      <th>1</th>\n",
              "      <td>Afar</td>\n",
              "      <td>aa</td>\n",
              "    </tr>\n",
              "    <tr>\n",
              "      <th>2</th>\n",
              "      <td>Afrikaans</td>\n",
              "      <td>af</td>\n",
              "    </tr>\n",
              "    <tr>\n",
              "      <th>3</th>\n",
              "      <td>Akan</td>\n",
              "      <td>ak</td>\n",
              "    </tr>\n",
              "    <tr>\n",
              "      <th>4</th>\n",
              "      <td>Albanian</td>\n",
              "      <td>sq</td>\n",
              "    </tr>\n",
              "  </tbody>\n",
              "</table>\n",
              "</div>\n",
              "      <button class=\"colab-df-convert\" onclick=\"convertToInteractive('df-b9888918-87cb-4096-9326-cc5b091aefe4')\"\n",
              "              title=\"Convert this dataframe to an interactive table.\"\n",
              "              style=\"display:none;\">\n",
              "        \n",
              "  <svg xmlns=\"http://www.w3.org/2000/svg\" height=\"24px\"viewBox=\"0 0 24 24\"\n",
              "       width=\"24px\">\n",
              "    <path d=\"M0 0h24v24H0V0z\" fill=\"none\"/>\n",
              "    <path d=\"M18.56 5.44l.94 2.06.94-2.06 2.06-.94-2.06-.94-.94-2.06-.94 2.06-2.06.94zm-11 1L8.5 8.5l.94-2.06 2.06-.94-2.06-.94L8.5 2.5l-.94 2.06-2.06.94zm10 10l.94 2.06.94-2.06 2.06-.94-2.06-.94-.94-2.06-.94 2.06-2.06.94z\"/><path d=\"M17.41 7.96l-1.37-1.37c-.4-.4-.92-.59-1.43-.59-.52 0-1.04.2-1.43.59L10.3 9.45l-7.72 7.72c-.78.78-.78 2.05 0 2.83L4 21.41c.39.39.9.59 1.41.59.51 0 1.02-.2 1.41-.59l7.78-7.78 2.81-2.81c.8-.78.8-2.07 0-2.86zM5.41 20L4 18.59l7.72-7.72 1.47 1.35L5.41 20z\"/>\n",
              "  </svg>\n",
              "      </button>\n",
              "      \n",
              "  <style>\n",
              "    .colab-df-container {\n",
              "      display:flex;\n",
              "      flex-wrap:wrap;\n",
              "      gap: 12px;\n",
              "    }\n",
              "\n",
              "    .colab-df-convert {\n",
              "      background-color: #E8F0FE;\n",
              "      border: none;\n",
              "      border-radius: 50%;\n",
              "      cursor: pointer;\n",
              "      display: none;\n",
              "      fill: #1967D2;\n",
              "      height: 32px;\n",
              "      padding: 0 0 0 0;\n",
              "      width: 32px;\n",
              "    }\n",
              "\n",
              "    .colab-df-convert:hover {\n",
              "      background-color: #E2EBFA;\n",
              "      box-shadow: 0px 1px 2px rgba(60, 64, 67, 0.3), 0px 1px 3px 1px rgba(60, 64, 67, 0.15);\n",
              "      fill: #174EA6;\n",
              "    }\n",
              "\n",
              "    [theme=dark] .colab-df-convert {\n",
              "      background-color: #3B4455;\n",
              "      fill: #D2E3FC;\n",
              "    }\n",
              "\n",
              "    [theme=dark] .colab-df-convert:hover {\n",
              "      background-color: #434B5C;\n",
              "      box-shadow: 0px 1px 3px 1px rgba(0, 0, 0, 0.15);\n",
              "      filter: drop-shadow(0px 1px 2px rgba(0, 0, 0, 0.3));\n",
              "      fill: #FFFFFF;\n",
              "    }\n",
              "  </style>\n",
              "\n",
              "      <script>\n",
              "        const buttonEl =\n",
              "          document.querySelector('#df-b9888918-87cb-4096-9326-cc5b091aefe4 button.colab-df-convert');\n",
              "        buttonEl.style.display =\n",
              "          google.colab.kernel.accessAllowed ? 'block' : 'none';\n",
              "\n",
              "        async function convertToInteractive(key) {\n",
              "          const element = document.querySelector('#df-b9888918-87cb-4096-9326-cc5b091aefe4');\n",
              "          const dataTable =\n",
              "            await google.colab.kernel.invokeFunction('convertToInteractive',\n",
              "                                                     [key], {});\n",
              "          if (!dataTable) return;\n",
              "\n",
              "          const docLinkHtml = 'Like what you see? Visit the ' +\n",
              "            '<a target=\"_blank\" href=https://colab.research.google.com/notebooks/data_table.ipynb>data table notebook</a>'\n",
              "            + ' to learn more about interactive tables.';\n",
              "          element.innerHTML = '';\n",
              "          dataTable['output_type'] = 'display_data';\n",
              "          await google.colab.output.renderOutput(dataTable, element);\n",
              "          const docLink = document.createElement('div');\n",
              "          docLink.innerHTML = docLinkHtml;\n",
              "          element.appendChild(docLink);\n",
              "        }\n",
              "      </script>\n",
              "    </div>\n",
              "  </div>\n",
              "  "
            ]
          },
          "metadata": {},
          "execution_count": 7
        }
      ]
    },
    {
      "cell_type": "code",
      "source": [
        "lang.shape"
      ],
      "metadata": {
        "colab": {
          "base_uri": "https://localhost:8080/"
        },
        "id": "zFFTZ_lPCwmx",
        "outputId": "dfae6608-5a83-4d66-847f-b5078d3be464"
      },
      "execution_count": null,
      "outputs": [
        {
          "output_type": "execute_result",
          "data": {
            "text/plain": [
              "(183, 2)"
            ]
          },
          "metadata": {},
          "execution_count": 8
        }
      ]
    },
    {
      "cell_type": "code",
      "source": [
        "code_supported = \"af, am, an, ar, as, az, be, bg, bn, br, bs, ca, cs, cy, da, de, dz, el, en, eo, es, et, eu, fa, fi, fo, fr, ga, gl, gu, he, hi, hr, ht, hu, hy, id, is, it, ja, jv, ka, kk, km, kn, ko, ku, ky, la, lb, lo, lt, lv, mg, mk, ml, mn, mr, ms, mt, nb, ne, nl, nn, no, oc, or, pa, pl, ps, pt, qu, ro, ru, rw, se, si, sk, sl, sq, sr, sv, sw, ta, te, th, tl, tr, ug, uk, ur, vi, vo, wa, xh, zh, zu\""
      ],
      "metadata": {
        "id": "-srDMN6xC_Mc"
      },
      "execution_count": null,
      "outputs": []
    },
    {
      "cell_type": "code",
      "source": [
        "codes =  [ ]\n",
        "for code in code_supported.split(\",\"):\n",
        "  codes.append(code.strip())\n"
      ],
      "metadata": {
        "id": "VXr1Xeg9EGQJ"
      },
      "execution_count": 36,
      "outputs": []
    },
    {
      "cell_type": "code",
      "source": [
        "len(codes)"
      ],
      "metadata": {
        "colab": {
          "base_uri": "https://localhost:8080/"
        },
        "id": "0j1ousmFEPHb",
        "outputId": "364d5a1b-3ab8-4caa-fe7a-83c50f1c22e3"
      },
      "execution_count": 34,
      "outputs": [
        {
          "output_type": "execute_result",
          "data": {
            "text/plain": [
              "97"
            ]
          },
          "metadata": {},
          "execution_count": 34
        }
      ]
    },
    {
      "cell_type": "code",
      "source": [
        "languages_ = [ code_dict[cd] for cd in codes]"
      ],
      "metadata": {
        "id": "E5Ge6fkoTQPU"
      },
      "execution_count": 37,
      "outputs": []
    },
    {
      "cell_type": "code",
      "source": [
        "languages_ "
      ],
      "metadata": {
        "colab": {
          "base_uri": "https://localhost:8080/"
        },
        "id": "QM4k1LluTlxS",
        "outputId": "829c8c1d-ae2a-4e49-fa61-1253c98884f1"
      },
      "execution_count": 38,
      "outputs": [
        {
          "output_type": "execute_result",
          "data": {
            "text/plain": [
              "['Afrikaans',\n",
              " 'Amharic',\n",
              " 'Aragonese',\n",
              " 'Arabic',\n",
              " 'Assamese',\n",
              " 'Azerbaijani',\n",
              " 'Belarusian',\n",
              " 'Bulgarian',\n",
              " 'Bengali',\n",
              " 'Breton',\n",
              " 'Bosnian',\n",
              " 'Catalan, Valencian',\n",
              " 'Czech',\n",
              " 'Welsh',\n",
              " 'Danish',\n",
              " 'German',\n",
              " 'Dzongkha',\n",
              " 'Greek, Modern (1453–)',\n",
              " 'English',\n",
              " 'Esperanto',\n",
              " 'Spanish, Castilian',\n",
              " 'Estonian',\n",
              " 'Basque',\n",
              " 'Persian',\n",
              " 'Finnish',\n",
              " 'Faroese',\n",
              " 'French',\n",
              " 'Irish',\n",
              " 'Galician',\n",
              " 'Gujarati',\n",
              " 'Hebrew',\n",
              " 'Hindi',\n",
              " 'Croatian',\n",
              " 'Haitian, Haitian Creole',\n",
              " 'Hungarian',\n",
              " 'Armenian',\n",
              " 'Indonesian',\n",
              " 'Icelandic',\n",
              " 'Italian',\n",
              " 'Japanese',\n",
              " 'Javanese',\n",
              " 'Georgian',\n",
              " 'Kazakh',\n",
              " 'Central Khmer',\n",
              " 'Kannada',\n",
              " 'Korean',\n",
              " 'Kurdish',\n",
              " 'Kirghiz, Kyrgyz',\n",
              " 'Latin',\n",
              " 'Luxembourgish, Letzeburgesch',\n",
              " 'Lao',\n",
              " 'Lithuanian',\n",
              " 'Latvian',\n",
              " 'Malagasy',\n",
              " 'Macedonian',\n",
              " 'Malayalam',\n",
              " 'Mongolian',\n",
              " 'Marathi',\n",
              " 'Malay',\n",
              " 'Maltese',\n",
              " 'Norwegian Bokmål',\n",
              " 'Nepali',\n",
              " 'Dutch,\\xa0Flemish',\n",
              " 'Norwegian Nynorsk',\n",
              " 'Norwegian',\n",
              " 'Occitan',\n",
              " 'Oriya',\n",
              " 'Punjabi, Panjabi',\n",
              " 'Polish',\n",
              " 'Pashto, Pushto',\n",
              " 'Portuguese',\n",
              " 'Quechua',\n",
              " 'Romanian,\\xa0Moldavian, Moldovan',\n",
              " 'Russian',\n",
              " 'Kinyarwanda',\n",
              " 'Northern Sami',\n",
              " 'Sinhala, Sinhalese',\n",
              " 'Slovak',\n",
              " 'Slovenian',\n",
              " 'Albanian',\n",
              " 'Serbian',\n",
              " 'Swedish',\n",
              " 'Swahili',\n",
              " 'Tamil',\n",
              " 'Telugu',\n",
              " 'Thai',\n",
              " 'Tagalog',\n",
              " 'Turkish',\n",
              " 'Uighur, Uyghur',\n",
              " 'Ukrainian',\n",
              " 'Urdu',\n",
              " 'Vietnamese',\n",
              " 'Volapük',\n",
              " 'Walloon',\n",
              " 'Xhosa',\n",
              " 'Chinese',\n",
              " 'Zulu']"
            ]
          },
          "metadata": {},
          "execution_count": 38
        }
      ]
    },
    {
      "cell_type": "code",
      "source": [
        "lan = lang[lang['code']== 'af']['Language'].values.tolist()[0]"
      ],
      "metadata": {
        "id": "HrWdoHJ6E27v"
      },
      "execution_count": null,
      "outputs": []
    },
    {
      "cell_type": "code",
      "source": [
        "lan"
      ],
      "metadata": {
        "colab": {
          "base_uri": "https://localhost:8080/",
          "height": 36
        },
        "id": "sAxIMSHRFSxu",
        "outputId": "f60cd8c7-ddf5-4920-91b8-433343100811"
      },
      "execution_count": null,
      "outputs": [
        {
          "output_type": "execute_result",
          "data": {
            "text/plain": [
              "'Afrikaans'"
            ],
            "application/vnd.google.colaboratory.intrinsic+json": {
              "type": "string"
            }
          },
          "metadata": {},
          "execution_count": 21
        }
      ]
    },
    {
      "cell_type": "code",
      "source": [
        "l = lang['Language'].values.tolist()\n",
        "c = lang['code'].values.tolist()"
      ],
      "metadata": {
        "id": "EPZ7hfHiFy1g"
      },
      "execution_count": null,
      "outputs": []
    },
    {
      "cell_type": "code",
      "source": [
        "code_dict = {}\n",
        "for k,v in zip(c,l):\n",
        "  code_dict[k] = v"
      ],
      "metadata": {
        "id": "wWTMnoC6ERwE"
      },
      "execution_count": null,
      "outputs": []
    },
    {
      "cell_type": "code",
      "source": [
        "code_dict[out_lan]"
      ],
      "metadata": {
        "colab": {
          "base_uri": "https://localhost:8080/",
          "height": 36
        },
        "id": "n3Wppa7cE9bs",
        "outputId": "6adc9834-baae-47e1-a2da-9b4f51a23030"
      },
      "execution_count": null,
      "outputs": [
        {
          "output_type": "execute_result",
          "data": {
            "text/plain": [
              "'Tamil'"
            ],
            "application/vnd.google.colaboratory.intrinsic+json": {
              "type": "string"
            }
          },
          "metadata": {},
          "execution_count": 29
        }
      ]
    },
    {
      "cell_type": "code",
      "source": [
        "lang_model = langid()"
      ],
      "metadata": {
        "colab": {
          "base_uri": "https://localhost:8080/",
          "height": 165
        },
        "id": "ksfL1SPoIWEj",
        "outputId": "01465939-660a-4ec1-a85c-0d9b1827f916"
      },
      "execution_count": null,
      "outputs": [
        {
          "output_type": "error",
          "ename": "TypeError",
          "evalue": "ignored",
          "traceback": [
            "\u001b[0;31m---------------------------------------------------------------------------\u001b[0m",
            "\u001b[0;31mTypeError\u001b[0m                                 Traceback (most recent call last)",
            "\u001b[0;32m<ipython-input-31-f113d2204fb7>\u001b[0m in \u001b[0;36m<module>\u001b[0;34m\u001b[0m\n\u001b[0;32m----> 1\u001b[0;31m \u001b[0mlang_model\u001b[0m \u001b[0;34m=\u001b[0m \u001b[0mlangid\u001b[0m\u001b[0;34m(\u001b[0m\u001b[0;34m)\u001b[0m\u001b[0;34m\u001b[0m\u001b[0;34m\u001b[0m\u001b[0m\n\u001b[0m",
            "\u001b[0;31mTypeError\u001b[0m: 'module' object is not callable"
          ]
        }
      ]
    },
    {
      "cell_type": "code",
      "source": [
        "joblib.dump('lang.pkl',)"
      ],
      "metadata": {
        "id": "bF5iiyDMGUsj"
      },
      "execution_count": null,
      "outputs": []
    },
    {
      "cell_type": "code",
      "source": [
        "code_dict"
      ],
      "metadata": {
        "colab": {
          "base_uri": "https://localhost:8080/"
        },
        "id": "onNoaKDpHSMD",
        "outputId": "bd1a6e2c-c241-4d92-8552-ba1732efe9ea"
      },
      "execution_count": null,
      "outputs": [
        {
          "output_type": "execute_result",
          "data": {
            "text/plain": [
              "{'ab': 'Abkhazian',\n",
              " 'aa': 'Afar',\n",
              " 'af': 'Afrikaans',\n",
              " 'ak': 'Akan',\n",
              " 'sq': 'Albanian',\n",
              " 'am': 'Amharic',\n",
              " 'ar': 'Arabic',\n",
              " 'an': 'Aragonese',\n",
              " 'hy': 'Armenian',\n",
              " 'as': 'Assamese',\n",
              " 'av': 'Avaric',\n",
              " 'ae': 'Avestan',\n",
              " 'ay': 'Aymara',\n",
              " 'az': 'Azerbaijani',\n",
              " 'bm': 'Bambara',\n",
              " 'ba': 'Bashkir',\n",
              " 'eu': 'Basque',\n",
              " 'be': 'Belarusian',\n",
              " 'bn': 'Bengali',\n",
              " 'bi': 'Bislama',\n",
              " 'bs': 'Bosnian',\n",
              " 'br': 'Breton',\n",
              " 'bg': 'Bulgarian',\n",
              " 'my': 'Burmese',\n",
              " 'ca': 'Catalan, Valencian',\n",
              " 'km': 'Central Khmer',\n",
              " 'ch': 'Chamorro',\n",
              " 'ce': 'Chechen',\n",
              " 'ny': 'Chichewa, Chewa, Nyanja',\n",
              " 'zh': 'Chinese',\n",
              " 'cu': 'Church\\xa0Slavonic, Old Slavonic,\\xa0Old\\xa0Church\\xa0Slavonic',\n",
              " 'cv': 'Chuvash',\n",
              " 'kw': 'Cornish',\n",
              " 'co': 'Corsican',\n",
              " 'cr': 'Cree',\n",
              " 'hr': 'Croatian',\n",
              " 'cs': 'Czech',\n",
              " 'da': 'Danish',\n",
              " 'dv': 'Divehi, Dhivehi, Maldivian',\n",
              " 'nl': 'Dutch,\\xa0Flemish',\n",
              " 'dz': 'Dzongkha',\n",
              " 'en': 'English',\n",
              " 'eo': 'Esperanto',\n",
              " 'et': 'Estonian',\n",
              " 'ee': 'Ewe',\n",
              " 'fo': 'Faroese',\n",
              " 'fj': 'Fijian',\n",
              " 'fi': 'Finnish',\n",
              " 'fr': 'French',\n",
              " 'ff': 'Fulah',\n",
              " 'gd': 'Gaelic, Scottish Gaelic',\n",
              " 'gl': 'Galician',\n",
              " 'lg': 'Ganda',\n",
              " 'ka': 'Georgian',\n",
              " 'de': 'German',\n",
              " 'el': 'Greek, Modern (1453–)',\n",
              " 'gn': 'Guarani',\n",
              " 'gu': 'Gujarati',\n",
              " 'ht': 'Haitian, Haitian Creole',\n",
              " 'ha': 'Hausa',\n",
              " 'he': 'Hebrew',\n",
              " 'hz': 'Herero',\n",
              " 'hi': 'Hindi',\n",
              " 'ho': 'Hiri Motu',\n",
              " 'hu': 'Hungarian',\n",
              " 'is': 'Icelandic',\n",
              " 'io': 'Ido',\n",
              " 'ig': 'Igbo',\n",
              " 'id': 'Indonesian',\n",
              " 'ia': 'Interlingua\\xa0(International Auxiliary Language Association)',\n",
              " 'ie': 'Interlingue, Occidental',\n",
              " 'iu': 'Inuktitut',\n",
              " 'ik': 'Inupiaq',\n",
              " 'ga': 'Irish',\n",
              " 'it': 'Italian',\n",
              " 'ja': 'Japanese',\n",
              " 'jv': 'Javanese',\n",
              " 'kl': 'Kalaallisut, Greenlandic',\n",
              " 'kn': 'Kannada',\n",
              " 'kr': 'Kanuri',\n",
              " 'ks': 'Kashmiri',\n",
              " 'kk': 'Kazakh',\n",
              " 'ki': 'Kikuyu, Gikuyu',\n",
              " 'rw': 'Kinyarwanda',\n",
              " 'ky': 'Kirghiz, Kyrgyz',\n",
              " 'kv': 'Komi',\n",
              " 'kg': 'Kongo',\n",
              " 'ko': 'Korean',\n",
              " 'kj': 'Kuanyama, Kwanyama',\n",
              " 'ku': 'Kurdish',\n",
              " 'lo': 'Lao',\n",
              " 'la': 'Latin',\n",
              " 'lv': 'Latvian',\n",
              " 'li': 'Limburgan, Limburger, Limburgish',\n",
              " 'ln': 'Lingala',\n",
              " 'lt': 'Lithuanian',\n",
              " 'lu': 'Luba-Katanga',\n",
              " 'lb': 'Luxembourgish, Letzeburgesch',\n",
              " 'mk': 'Macedonian',\n",
              " 'mg': 'Malagasy',\n",
              " 'ms': 'Malay',\n",
              " 'ml': 'Malayalam',\n",
              " 'mt': 'Maltese',\n",
              " 'gv': 'Manx',\n",
              " 'mi': 'Maori',\n",
              " 'mr': 'Marathi',\n",
              " 'mh': 'Marshallese',\n",
              " 'mn': 'Mongolian',\n",
              " 'na': 'Nauru',\n",
              " 'nv': 'Navajo, Navaho',\n",
              " 'ng': 'Ndonga',\n",
              " 'ne': 'Nepali',\n",
              " 'nd': 'North Ndebele',\n",
              " 'se': 'Northern Sami',\n",
              " 'no': 'Norwegian',\n",
              " 'nb': 'Norwegian Bokmål',\n",
              " 'nn': 'Norwegian Nynorsk',\n",
              " 'oc': 'Occitan',\n",
              " 'oj': 'Ojibwa',\n",
              " 'or': 'Oriya',\n",
              " 'om': 'Oromo',\n",
              " 'os': 'Ossetian, Ossetic',\n",
              " 'pi': 'Pali',\n",
              " 'ps': 'Pashto, Pushto',\n",
              " 'fa': 'Persian',\n",
              " 'pl': 'Polish',\n",
              " 'pt': 'Portuguese',\n",
              " 'pa': 'Punjabi, Panjabi',\n",
              " 'qu': 'Quechua',\n",
              " 'ro': 'Romanian,\\xa0Moldavian, Moldovan',\n",
              " 'rm': 'Romansh',\n",
              " 'rn': 'Rundi',\n",
              " 'ru': 'Russian',\n",
              " 'sm': 'Samoan',\n",
              " 'sg': 'Sango',\n",
              " 'sa': 'Sanskrit',\n",
              " 'sc': 'Sardinian',\n",
              " 'sr': 'Serbian',\n",
              " 'sn': 'Shona',\n",
              " 'ii': 'Sichuan Yi, Nuosu',\n",
              " 'sd': 'Sindhi',\n",
              " 'si': 'Sinhala, Sinhalese',\n",
              " 'sk': 'Slovak',\n",
              " 'sl': 'Slovenian',\n",
              " 'so': 'Somali',\n",
              " 'nr': 'South Ndebele',\n",
              " 'st': 'Southern Sotho',\n",
              " 'es': 'Spanish, Castilian',\n",
              " 'su': 'Sundanese',\n",
              " 'sw': 'Swahili',\n",
              " 'ss': 'Swati',\n",
              " 'sv': 'Swedish',\n",
              " 'tl': 'Tagalog',\n",
              " 'ty': 'Tahitian',\n",
              " 'tg': 'Tajik',\n",
              " 'ta': 'Tamil',\n",
              " 'tt': 'Tatar',\n",
              " 'te': 'Telugu',\n",
              " 'th': 'Thai',\n",
              " 'bo': 'Tibetan',\n",
              " 'ti': 'Tigrinya',\n",
              " 'to': 'Tonga\\xa0(Tonga Islands)',\n",
              " 'ts': 'Tsonga',\n",
              " 'tn': 'Tswana',\n",
              " 'tr': 'Turkish',\n",
              " 'tk': 'Turkmen',\n",
              " 'tw': 'Twi',\n",
              " 'ug': 'Uighur, Uyghur',\n",
              " 'uk': 'Ukrainian',\n",
              " 'ur': 'Urdu',\n",
              " 'uz': 'Uzbek',\n",
              " 've': 'Venda',\n",
              " 'vi': 'Vietnamese',\n",
              " 'vo': 'Volapük',\n",
              " 'wa': 'Walloon',\n",
              " 'cy': 'Welsh',\n",
              " 'fy': 'Western Frisian',\n",
              " 'wo': 'Wolof',\n",
              " 'xh': 'Xhosa',\n",
              " 'yi': 'Yiddish',\n",
              " 'yo': 'Yoruba',\n",
              " 'za': 'Zhuang, Chuang',\n",
              " 'zu': 'Zulu'}"
            ]
          },
          "metadata": {},
          "execution_count": 30
        }
      ]
    },
    {
      "cell_type": "code",
      "source": [],
      "metadata": {
        "id": "lb3HOahwHWSS"
      },
      "execution_count": null,
      "outputs": []
    }
  ]
}
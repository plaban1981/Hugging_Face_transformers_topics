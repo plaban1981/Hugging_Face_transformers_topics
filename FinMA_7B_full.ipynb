{
  "nbformat": 4,
  "nbformat_minor": 0,
  "metadata": {
    "colab": {
      "provenance": [],
      "machine_shape": "hm",
      "gpuType": "A100",
      "authorship_tag": "ABX9TyMVb8Wm9zQ6KzfscGmrHv1y",
      "include_colab_link": true
    },
    "kernelspec": {
      "name": "python3",
      "display_name": "Python 3"
    },
    "language_info": {
      "name": "python"
    },
    "accelerator": "GPU",
    "widgets": {
      "application/vnd.jupyter.widget-state+json": {
        "6188adeb948d47de964a203c8adf856d": {
          "model_module": "@jupyter-widgets/controls",
          "model_name": "HBoxModel",
          "model_module_version": "1.5.0",
          "state": {
            "_dom_classes": [],
            "_model_module": "@jupyter-widgets/controls",
            "_model_module_version": "1.5.0",
            "_model_name": "HBoxModel",
            "_view_count": null,
            "_view_module": "@jupyter-widgets/controls",
            "_view_module_version": "1.5.0",
            "_view_name": "HBoxView",
            "box_style": "",
            "children": [
              "IPY_MODEL_72aa2e0ea8de4e318ead92d37fb854a0",
              "IPY_MODEL_cdaafc711acc45fdbf756c5390252ccd",
              "IPY_MODEL_5425b167354d41938d3d06b83c5824f6"
            ],
            "layout": "IPY_MODEL_f4d8257fa4eb435aa690e83cf1750428"
          }
        },
        "72aa2e0ea8de4e318ead92d37fb854a0": {
          "model_module": "@jupyter-widgets/controls",
          "model_name": "HTMLModel",
          "model_module_version": "1.5.0",
          "state": {
            "_dom_classes": [],
            "_model_module": "@jupyter-widgets/controls",
            "_model_module_version": "1.5.0",
            "_model_name": "HTMLModel",
            "_view_count": null,
            "_view_module": "@jupyter-widgets/controls",
            "_view_module_version": "1.5.0",
            "_view_name": "HTMLView",
            "description": "",
            "description_tooltip": null,
            "layout": "IPY_MODEL_f9591be098084d9d83d8e3af8e388cb6",
            "placeholder": "​",
            "style": "IPY_MODEL_dd6b17ad2a2241398013d40abaa2c170",
            "value": "Downloading (…)lve/main/config.json: 100%"
          }
        },
        "cdaafc711acc45fdbf756c5390252ccd": {
          "model_module": "@jupyter-widgets/controls",
          "model_name": "FloatProgressModel",
          "model_module_version": "1.5.0",
          "state": {
            "_dom_classes": [],
            "_model_module": "@jupyter-widgets/controls",
            "_model_module_version": "1.5.0",
            "_model_name": "FloatProgressModel",
            "_view_count": null,
            "_view_module": "@jupyter-widgets/controls",
            "_view_module_version": "1.5.0",
            "_view_name": "ProgressView",
            "bar_style": "success",
            "description": "",
            "description_tooltip": null,
            "layout": "IPY_MODEL_0da8dcc277b74f53b51bede399bea368",
            "max": 567,
            "min": 0,
            "orientation": "horizontal",
            "style": "IPY_MODEL_1ee3067388ca4eeab3c705fd3c598926",
            "value": 567
          }
        },
        "5425b167354d41938d3d06b83c5824f6": {
          "model_module": "@jupyter-widgets/controls",
          "model_name": "HTMLModel",
          "model_module_version": "1.5.0",
          "state": {
            "_dom_classes": [],
            "_model_module": "@jupyter-widgets/controls",
            "_model_module_version": "1.5.0",
            "_model_name": "HTMLModel",
            "_view_count": null,
            "_view_module": "@jupyter-widgets/controls",
            "_view_module_version": "1.5.0",
            "_view_name": "HTMLView",
            "description": "",
            "description_tooltip": null,
            "layout": "IPY_MODEL_150969851ea64ebba70feddcf011d007",
            "placeholder": "​",
            "style": "IPY_MODEL_ee31e3de00dd44eaa0758f56a3bb3150",
            "value": " 567/567 [00:00&lt;00:00, 43.3kB/s]"
          }
        },
        "f4d8257fa4eb435aa690e83cf1750428": {
          "model_module": "@jupyter-widgets/base",
          "model_name": "LayoutModel",
          "model_module_version": "1.2.0",
          "state": {
            "_model_module": "@jupyter-widgets/base",
            "_model_module_version": "1.2.0",
            "_model_name": "LayoutModel",
            "_view_count": null,
            "_view_module": "@jupyter-widgets/base",
            "_view_module_version": "1.2.0",
            "_view_name": "LayoutView",
            "align_content": null,
            "align_items": null,
            "align_self": null,
            "border": null,
            "bottom": null,
            "display": null,
            "flex": null,
            "flex_flow": null,
            "grid_area": null,
            "grid_auto_columns": null,
            "grid_auto_flow": null,
            "grid_auto_rows": null,
            "grid_column": null,
            "grid_gap": null,
            "grid_row": null,
            "grid_template_areas": null,
            "grid_template_columns": null,
            "grid_template_rows": null,
            "height": null,
            "justify_content": null,
            "justify_items": null,
            "left": null,
            "margin": null,
            "max_height": null,
            "max_width": null,
            "min_height": null,
            "min_width": null,
            "object_fit": null,
            "object_position": null,
            "order": null,
            "overflow": null,
            "overflow_x": null,
            "overflow_y": null,
            "padding": null,
            "right": null,
            "top": null,
            "visibility": null,
            "width": null
          }
        },
        "f9591be098084d9d83d8e3af8e388cb6": {
          "model_module": "@jupyter-widgets/base",
          "model_name": "LayoutModel",
          "model_module_version": "1.2.0",
          "state": {
            "_model_module": "@jupyter-widgets/base",
            "_model_module_version": "1.2.0",
            "_model_name": "LayoutModel",
            "_view_count": null,
            "_view_module": "@jupyter-widgets/base",
            "_view_module_version": "1.2.0",
            "_view_name": "LayoutView",
            "align_content": null,
            "align_items": null,
            "align_self": null,
            "border": null,
            "bottom": null,
            "display": null,
            "flex": null,
            "flex_flow": null,
            "grid_area": null,
            "grid_auto_columns": null,
            "grid_auto_flow": null,
            "grid_auto_rows": null,
            "grid_column": null,
            "grid_gap": null,
            "grid_row": null,
            "grid_template_areas": null,
            "grid_template_columns": null,
            "grid_template_rows": null,
            "height": null,
            "justify_content": null,
            "justify_items": null,
            "left": null,
            "margin": null,
            "max_height": null,
            "max_width": null,
            "min_height": null,
            "min_width": null,
            "object_fit": null,
            "object_position": null,
            "order": null,
            "overflow": null,
            "overflow_x": null,
            "overflow_y": null,
            "padding": null,
            "right": null,
            "top": null,
            "visibility": null,
            "width": null
          }
        },
        "dd6b17ad2a2241398013d40abaa2c170": {
          "model_module": "@jupyter-widgets/controls",
          "model_name": "DescriptionStyleModel",
          "model_module_version": "1.5.0",
          "state": {
            "_model_module": "@jupyter-widgets/controls",
            "_model_module_version": "1.5.0",
            "_model_name": "DescriptionStyleModel",
            "_view_count": null,
            "_view_module": "@jupyter-widgets/base",
            "_view_module_version": "1.2.0",
            "_view_name": "StyleView",
            "description_width": ""
          }
        },
        "0da8dcc277b74f53b51bede399bea368": {
          "model_module": "@jupyter-widgets/base",
          "model_name": "LayoutModel",
          "model_module_version": "1.2.0",
          "state": {
            "_model_module": "@jupyter-widgets/base",
            "_model_module_version": "1.2.0",
            "_model_name": "LayoutModel",
            "_view_count": null,
            "_view_module": "@jupyter-widgets/base",
            "_view_module_version": "1.2.0",
            "_view_name": "LayoutView",
            "align_content": null,
            "align_items": null,
            "align_self": null,
            "border": null,
            "bottom": null,
            "display": null,
            "flex": null,
            "flex_flow": null,
            "grid_area": null,
            "grid_auto_columns": null,
            "grid_auto_flow": null,
            "grid_auto_rows": null,
            "grid_column": null,
            "grid_gap": null,
            "grid_row": null,
            "grid_template_areas": null,
            "grid_template_columns": null,
            "grid_template_rows": null,
            "height": null,
            "justify_content": null,
            "justify_items": null,
            "left": null,
            "margin": null,
            "max_height": null,
            "max_width": null,
            "min_height": null,
            "min_width": null,
            "object_fit": null,
            "object_position": null,
            "order": null,
            "overflow": null,
            "overflow_x": null,
            "overflow_y": null,
            "padding": null,
            "right": null,
            "top": null,
            "visibility": null,
            "width": null
          }
        },
        "1ee3067388ca4eeab3c705fd3c598926": {
          "model_module": "@jupyter-widgets/controls",
          "model_name": "ProgressStyleModel",
          "model_module_version": "1.5.0",
          "state": {
            "_model_module": "@jupyter-widgets/controls",
            "_model_module_version": "1.5.0",
            "_model_name": "ProgressStyleModel",
            "_view_count": null,
            "_view_module": "@jupyter-widgets/base",
            "_view_module_version": "1.2.0",
            "_view_name": "StyleView",
            "bar_color": null,
            "description_width": ""
          }
        },
        "150969851ea64ebba70feddcf011d007": {
          "model_module": "@jupyter-widgets/base",
          "model_name": "LayoutModel",
          "model_module_version": "1.2.0",
          "state": {
            "_model_module": "@jupyter-widgets/base",
            "_model_module_version": "1.2.0",
            "_model_name": "LayoutModel",
            "_view_count": null,
            "_view_module": "@jupyter-widgets/base",
            "_view_module_version": "1.2.0",
            "_view_name": "LayoutView",
            "align_content": null,
            "align_items": null,
            "align_self": null,
            "border": null,
            "bottom": null,
            "display": null,
            "flex": null,
            "flex_flow": null,
            "grid_area": null,
            "grid_auto_columns": null,
            "grid_auto_flow": null,
            "grid_auto_rows": null,
            "grid_column": null,
            "grid_gap": null,
            "grid_row": null,
            "grid_template_areas": null,
            "grid_template_columns": null,
            "grid_template_rows": null,
            "height": null,
            "justify_content": null,
            "justify_items": null,
            "left": null,
            "margin": null,
            "max_height": null,
            "max_width": null,
            "min_height": null,
            "min_width": null,
            "object_fit": null,
            "object_position": null,
            "order": null,
            "overflow": null,
            "overflow_x": null,
            "overflow_y": null,
            "padding": null,
            "right": null,
            "top": null,
            "visibility": null,
            "width": null
          }
        },
        "ee31e3de00dd44eaa0758f56a3bb3150": {
          "model_module": "@jupyter-widgets/controls",
          "model_name": "DescriptionStyleModel",
          "model_module_version": "1.5.0",
          "state": {
            "_model_module": "@jupyter-widgets/controls",
            "_model_module_version": "1.5.0",
            "_model_name": "DescriptionStyleModel",
            "_view_count": null,
            "_view_module": "@jupyter-widgets/base",
            "_view_module_version": "1.2.0",
            "_view_name": "StyleView",
            "description_width": ""
          }
        },
        "e3eb91d1731c4dd187c413d41ecbf9dd": {
          "model_module": "@jupyter-widgets/controls",
          "model_name": "HBoxModel",
          "model_module_version": "1.5.0",
          "state": {
            "_dom_classes": [],
            "_model_module": "@jupyter-widgets/controls",
            "_model_module_version": "1.5.0",
            "_model_name": "HBoxModel",
            "_view_count": null,
            "_view_module": "@jupyter-widgets/controls",
            "_view_module_version": "1.5.0",
            "_view_name": "HBoxView",
            "box_style": "",
            "children": [
              "IPY_MODEL_5f52957f996340ab946d9b664bd1ddcf",
              "IPY_MODEL_5da569d085e24478bc23b8225a4cce22",
              "IPY_MODEL_1afe7cd7cab94ba28f24ac75fd5872ca"
            ],
            "layout": "IPY_MODEL_029aff7ee0bc4f1ea9c6263d925db23b"
          }
        },
        "5f52957f996340ab946d9b664bd1ddcf": {
          "model_module": "@jupyter-widgets/controls",
          "model_name": "HTMLModel",
          "model_module_version": "1.5.0",
          "state": {
            "_dom_classes": [],
            "_model_module": "@jupyter-widgets/controls",
            "_model_module_version": "1.5.0",
            "_model_name": "HTMLModel",
            "_view_count": null,
            "_view_module": "@jupyter-widgets/controls",
            "_view_module_version": "1.5.0",
            "_view_name": "HTMLView",
            "description": "",
            "description_tooltip": null,
            "layout": "IPY_MODEL_3da5d11ab86d4eda80113dbd3ad5b30a",
            "placeholder": "​",
            "style": "IPY_MODEL_64f53856d9ea4be985e42efe6d92ff6e",
            "value": "Downloading pytorch_model.bin: 100%"
          }
        },
        "5da569d085e24478bc23b8225a4cce22": {
          "model_module": "@jupyter-widgets/controls",
          "model_name": "FloatProgressModel",
          "model_module_version": "1.5.0",
          "state": {
            "_dom_classes": [],
            "_model_module": "@jupyter-widgets/controls",
            "_model_module_version": "1.5.0",
            "_model_name": "FloatProgressModel",
            "_view_count": null,
            "_view_module": "@jupyter-widgets/controls",
            "_view_module_version": "1.5.0",
            "_view_name": "ProgressView",
            "bar_style": "success",
            "description": "",
            "description_tooltip": null,
            "layout": "IPY_MODEL_80bfa66528074e2ebee5fa4f3ce43f8d",
            "max": 26953778121,
            "min": 0,
            "orientation": "horizontal",
            "style": "IPY_MODEL_507b251dc08241d0828a72f9e2435443",
            "value": 26953778121
          }
        },
        "1afe7cd7cab94ba28f24ac75fd5872ca": {
          "model_module": "@jupyter-widgets/controls",
          "model_name": "HTMLModel",
          "model_module_version": "1.5.0",
          "state": {
            "_dom_classes": [],
            "_model_module": "@jupyter-widgets/controls",
            "_model_module_version": "1.5.0",
            "_model_name": "HTMLModel",
            "_view_count": null,
            "_view_module": "@jupyter-widgets/controls",
            "_view_module_version": "1.5.0",
            "_view_name": "HTMLView",
            "description": "",
            "description_tooltip": null,
            "layout": "IPY_MODEL_34e0fbeec768405eac8bf122614e749a",
            "placeholder": "​",
            "style": "IPY_MODEL_fad69b78b8194892a3f75d8437298a7a",
            "value": " 27.0G/27.0G [25:41&lt;00:00, 18.2MB/s]"
          }
        },
        "029aff7ee0bc4f1ea9c6263d925db23b": {
          "model_module": "@jupyter-widgets/base",
          "model_name": "LayoutModel",
          "model_module_version": "1.2.0",
          "state": {
            "_model_module": "@jupyter-widgets/base",
            "_model_module_version": "1.2.0",
            "_model_name": "LayoutModel",
            "_view_count": null,
            "_view_module": "@jupyter-widgets/base",
            "_view_module_version": "1.2.0",
            "_view_name": "LayoutView",
            "align_content": null,
            "align_items": null,
            "align_self": null,
            "border": null,
            "bottom": null,
            "display": null,
            "flex": null,
            "flex_flow": null,
            "grid_area": null,
            "grid_auto_columns": null,
            "grid_auto_flow": null,
            "grid_auto_rows": null,
            "grid_column": null,
            "grid_gap": null,
            "grid_row": null,
            "grid_template_areas": null,
            "grid_template_columns": null,
            "grid_template_rows": null,
            "height": null,
            "justify_content": null,
            "justify_items": null,
            "left": null,
            "margin": null,
            "max_height": null,
            "max_width": null,
            "min_height": null,
            "min_width": null,
            "object_fit": null,
            "object_position": null,
            "order": null,
            "overflow": null,
            "overflow_x": null,
            "overflow_y": null,
            "padding": null,
            "right": null,
            "top": null,
            "visibility": null,
            "width": null
          }
        },
        "3da5d11ab86d4eda80113dbd3ad5b30a": {
          "model_module": "@jupyter-widgets/base",
          "model_name": "LayoutModel",
          "model_module_version": "1.2.0",
          "state": {
            "_model_module": "@jupyter-widgets/base",
            "_model_module_version": "1.2.0",
            "_model_name": "LayoutModel",
            "_view_count": null,
            "_view_module": "@jupyter-widgets/base",
            "_view_module_version": "1.2.0",
            "_view_name": "LayoutView",
            "align_content": null,
            "align_items": null,
            "align_self": null,
            "border": null,
            "bottom": null,
            "display": null,
            "flex": null,
            "flex_flow": null,
            "grid_area": null,
            "grid_auto_columns": null,
            "grid_auto_flow": null,
            "grid_auto_rows": null,
            "grid_column": null,
            "grid_gap": null,
            "grid_row": null,
            "grid_template_areas": null,
            "grid_template_columns": null,
            "grid_template_rows": null,
            "height": null,
            "justify_content": null,
            "justify_items": null,
            "left": null,
            "margin": null,
            "max_height": null,
            "max_width": null,
            "min_height": null,
            "min_width": null,
            "object_fit": null,
            "object_position": null,
            "order": null,
            "overflow": null,
            "overflow_x": null,
            "overflow_y": null,
            "padding": null,
            "right": null,
            "top": null,
            "visibility": null,
            "width": null
          }
        },
        "64f53856d9ea4be985e42efe6d92ff6e": {
          "model_module": "@jupyter-widgets/controls",
          "model_name": "DescriptionStyleModel",
          "model_module_version": "1.5.0",
          "state": {
            "_model_module": "@jupyter-widgets/controls",
            "_model_module_version": "1.5.0",
            "_model_name": "DescriptionStyleModel",
            "_view_count": null,
            "_view_module": "@jupyter-widgets/base",
            "_view_module_version": "1.2.0",
            "_view_name": "StyleView",
            "description_width": ""
          }
        },
        "80bfa66528074e2ebee5fa4f3ce43f8d": {
          "model_module": "@jupyter-widgets/base",
          "model_name": "LayoutModel",
          "model_module_version": "1.2.0",
          "state": {
            "_model_module": "@jupyter-widgets/base",
            "_model_module_version": "1.2.0",
            "_model_name": "LayoutModel",
            "_view_count": null,
            "_view_module": "@jupyter-widgets/base",
            "_view_module_version": "1.2.0",
            "_view_name": "LayoutView",
            "align_content": null,
            "align_items": null,
            "align_self": null,
            "border": null,
            "bottom": null,
            "display": null,
            "flex": null,
            "flex_flow": null,
            "grid_area": null,
            "grid_auto_columns": null,
            "grid_auto_flow": null,
            "grid_auto_rows": null,
            "grid_column": null,
            "grid_gap": null,
            "grid_row": null,
            "grid_template_areas": null,
            "grid_template_columns": null,
            "grid_template_rows": null,
            "height": null,
            "justify_content": null,
            "justify_items": null,
            "left": null,
            "margin": null,
            "max_height": null,
            "max_width": null,
            "min_height": null,
            "min_width": null,
            "object_fit": null,
            "object_position": null,
            "order": null,
            "overflow": null,
            "overflow_x": null,
            "overflow_y": null,
            "padding": null,
            "right": null,
            "top": null,
            "visibility": null,
            "width": null
          }
        },
        "507b251dc08241d0828a72f9e2435443": {
          "model_module": "@jupyter-widgets/controls",
          "model_name": "ProgressStyleModel",
          "model_module_version": "1.5.0",
          "state": {
            "_model_module": "@jupyter-widgets/controls",
            "_model_module_version": "1.5.0",
            "_model_name": "ProgressStyleModel",
            "_view_count": null,
            "_view_module": "@jupyter-widgets/base",
            "_view_module_version": "1.2.0",
            "_view_name": "StyleView",
            "bar_color": null,
            "description_width": ""
          }
        },
        "34e0fbeec768405eac8bf122614e749a": {
          "model_module": "@jupyter-widgets/base",
          "model_name": "LayoutModel",
          "model_module_version": "1.2.0",
          "state": {
            "_model_module": "@jupyter-widgets/base",
            "_model_module_version": "1.2.0",
            "_model_name": "LayoutModel",
            "_view_count": null,
            "_view_module": "@jupyter-widgets/base",
            "_view_module_version": "1.2.0",
            "_view_name": "LayoutView",
            "align_content": null,
            "align_items": null,
            "align_self": null,
            "border": null,
            "bottom": null,
            "display": null,
            "flex": null,
            "flex_flow": null,
            "grid_area": null,
            "grid_auto_columns": null,
            "grid_auto_flow": null,
            "grid_auto_rows": null,
            "grid_column": null,
            "grid_gap": null,
            "grid_row": null,
            "grid_template_areas": null,
            "grid_template_columns": null,
            "grid_template_rows": null,
            "height": null,
            "justify_content": null,
            "justify_items": null,
            "left": null,
            "margin": null,
            "max_height": null,
            "max_width": null,
            "min_height": null,
            "min_width": null,
            "object_fit": null,
            "object_position": null,
            "order": null,
            "overflow": null,
            "overflow_x": null,
            "overflow_y": null,
            "padding": null,
            "right": null,
            "top": null,
            "visibility": null,
            "width": null
          }
        },
        "fad69b78b8194892a3f75d8437298a7a": {
          "model_module": "@jupyter-widgets/controls",
          "model_name": "DescriptionStyleModel",
          "model_module_version": "1.5.0",
          "state": {
            "_model_module": "@jupyter-widgets/controls",
            "_model_module_version": "1.5.0",
            "_model_name": "DescriptionStyleModel",
            "_view_count": null,
            "_view_module": "@jupyter-widgets/base",
            "_view_module_version": "1.2.0",
            "_view_name": "StyleView",
            "description_width": ""
          }
        },
        "8d4f7fcd88684d7aa6ffe3d3ab8345c1": {
          "model_module": "@jupyter-widgets/controls",
          "model_name": "HBoxModel",
          "model_module_version": "1.5.0",
          "state": {
            "_dom_classes": [],
            "_model_module": "@jupyter-widgets/controls",
            "_model_module_version": "1.5.0",
            "_model_name": "HBoxModel",
            "_view_count": null,
            "_view_module": "@jupyter-widgets/controls",
            "_view_module_version": "1.5.0",
            "_view_name": "HBoxView",
            "box_style": "",
            "children": [
              "IPY_MODEL_92bd8218355b4859b15b1043f37a861b",
              "IPY_MODEL_e49824f510ee4203a28cef1a05310f11",
              "IPY_MODEL_1a10d22ad39d4f839bfa1f9b1ee2fb11"
            ],
            "layout": "IPY_MODEL_74533cc9062e41c98148d38a59bb7457"
          }
        },
        "92bd8218355b4859b15b1043f37a861b": {
          "model_module": "@jupyter-widgets/controls",
          "model_name": "HTMLModel",
          "model_module_version": "1.5.0",
          "state": {
            "_dom_classes": [],
            "_model_module": "@jupyter-widgets/controls",
            "_model_module_version": "1.5.0",
            "_model_name": "HTMLModel",
            "_view_count": null,
            "_view_module": "@jupyter-widgets/controls",
            "_view_module_version": "1.5.0",
            "_view_name": "HTMLView",
            "description": "",
            "description_tooltip": null,
            "layout": "IPY_MODEL_303161859b844fffa988163a917292f5",
            "placeholder": "​",
            "style": "IPY_MODEL_bb17315c7a044d3eb8ac832b74b488b0",
            "value": "Downloading (…)neration_config.json: 100%"
          }
        },
        "e49824f510ee4203a28cef1a05310f11": {
          "model_module": "@jupyter-widgets/controls",
          "model_name": "FloatProgressModel",
          "model_module_version": "1.5.0",
          "state": {
            "_dom_classes": [],
            "_model_module": "@jupyter-widgets/controls",
            "_model_module_version": "1.5.0",
            "_model_name": "FloatProgressModel",
            "_view_count": null,
            "_view_module": "@jupyter-widgets/controls",
            "_view_module_version": "1.5.0",
            "_view_name": "ProgressView",
            "bar_style": "success",
            "description": "",
            "description_tooltip": null,
            "layout": "IPY_MODEL_09bb239ce993426c832f885f80fcf60f",
            "max": 132,
            "min": 0,
            "orientation": "horizontal",
            "style": "IPY_MODEL_5d1f9f2f85b645709aec8a6539a7c619",
            "value": 132
          }
        },
        "1a10d22ad39d4f839bfa1f9b1ee2fb11": {
          "model_module": "@jupyter-widgets/controls",
          "model_name": "HTMLModel",
          "model_module_version": "1.5.0",
          "state": {
            "_dom_classes": [],
            "_model_module": "@jupyter-widgets/controls",
            "_model_module_version": "1.5.0",
            "_model_name": "HTMLModel",
            "_view_count": null,
            "_view_module": "@jupyter-widgets/controls",
            "_view_module_version": "1.5.0",
            "_view_name": "HTMLView",
            "description": "",
            "description_tooltip": null,
            "layout": "IPY_MODEL_1f1a7474b3d54c98aa48c67eaedaf46c",
            "placeholder": "​",
            "style": "IPY_MODEL_bbd85671b1d0460bbde7f8654c982d0f",
            "value": " 132/132 [00:00&lt;00:00, 11.9kB/s]"
          }
        },
        "74533cc9062e41c98148d38a59bb7457": {
          "model_module": "@jupyter-widgets/base",
          "model_name": "LayoutModel",
          "model_module_version": "1.2.0",
          "state": {
            "_model_module": "@jupyter-widgets/base",
            "_model_module_version": "1.2.0",
            "_model_name": "LayoutModel",
            "_view_count": null,
            "_view_module": "@jupyter-widgets/base",
            "_view_module_version": "1.2.0",
            "_view_name": "LayoutView",
            "align_content": null,
            "align_items": null,
            "align_self": null,
            "border": null,
            "bottom": null,
            "display": null,
            "flex": null,
            "flex_flow": null,
            "grid_area": null,
            "grid_auto_columns": null,
            "grid_auto_flow": null,
            "grid_auto_rows": null,
            "grid_column": null,
            "grid_gap": null,
            "grid_row": null,
            "grid_template_areas": null,
            "grid_template_columns": null,
            "grid_template_rows": null,
            "height": null,
            "justify_content": null,
            "justify_items": null,
            "left": null,
            "margin": null,
            "max_height": null,
            "max_width": null,
            "min_height": null,
            "min_width": null,
            "object_fit": null,
            "object_position": null,
            "order": null,
            "overflow": null,
            "overflow_x": null,
            "overflow_y": null,
            "padding": null,
            "right": null,
            "top": null,
            "visibility": null,
            "width": null
          }
        },
        "303161859b844fffa988163a917292f5": {
          "model_module": "@jupyter-widgets/base",
          "model_name": "LayoutModel",
          "model_module_version": "1.2.0",
          "state": {
            "_model_module": "@jupyter-widgets/base",
            "_model_module_version": "1.2.0",
            "_model_name": "LayoutModel",
            "_view_count": null,
            "_view_module": "@jupyter-widgets/base",
            "_view_module_version": "1.2.0",
            "_view_name": "LayoutView",
            "align_content": null,
            "align_items": null,
            "align_self": null,
            "border": null,
            "bottom": null,
            "display": null,
            "flex": null,
            "flex_flow": null,
            "grid_area": null,
            "grid_auto_columns": null,
            "grid_auto_flow": null,
            "grid_auto_rows": null,
            "grid_column": null,
            "grid_gap": null,
            "grid_row": null,
            "grid_template_areas": null,
            "grid_template_columns": null,
            "grid_template_rows": null,
            "height": null,
            "justify_content": null,
            "justify_items": null,
            "left": null,
            "margin": null,
            "max_height": null,
            "max_width": null,
            "min_height": null,
            "min_width": null,
            "object_fit": null,
            "object_position": null,
            "order": null,
            "overflow": null,
            "overflow_x": null,
            "overflow_y": null,
            "padding": null,
            "right": null,
            "top": null,
            "visibility": null,
            "width": null
          }
        },
        "bb17315c7a044d3eb8ac832b74b488b0": {
          "model_module": "@jupyter-widgets/controls",
          "model_name": "DescriptionStyleModel",
          "model_module_version": "1.5.0",
          "state": {
            "_model_module": "@jupyter-widgets/controls",
            "_model_module_version": "1.5.0",
            "_model_name": "DescriptionStyleModel",
            "_view_count": null,
            "_view_module": "@jupyter-widgets/base",
            "_view_module_version": "1.2.0",
            "_view_name": "StyleView",
            "description_width": ""
          }
        },
        "09bb239ce993426c832f885f80fcf60f": {
          "model_module": "@jupyter-widgets/base",
          "model_name": "LayoutModel",
          "model_module_version": "1.2.0",
          "state": {
            "_model_module": "@jupyter-widgets/base",
            "_model_module_version": "1.2.0",
            "_model_name": "LayoutModel",
            "_view_count": null,
            "_view_module": "@jupyter-widgets/base",
            "_view_module_version": "1.2.0",
            "_view_name": "LayoutView",
            "align_content": null,
            "align_items": null,
            "align_self": null,
            "border": null,
            "bottom": null,
            "display": null,
            "flex": null,
            "flex_flow": null,
            "grid_area": null,
            "grid_auto_columns": null,
            "grid_auto_flow": null,
            "grid_auto_rows": null,
            "grid_column": null,
            "grid_gap": null,
            "grid_row": null,
            "grid_template_areas": null,
            "grid_template_columns": null,
            "grid_template_rows": null,
            "height": null,
            "justify_content": null,
            "justify_items": null,
            "left": null,
            "margin": null,
            "max_height": null,
            "max_width": null,
            "min_height": null,
            "min_width": null,
            "object_fit": null,
            "object_position": null,
            "order": null,
            "overflow": null,
            "overflow_x": null,
            "overflow_y": null,
            "padding": null,
            "right": null,
            "top": null,
            "visibility": null,
            "width": null
          }
        },
        "5d1f9f2f85b645709aec8a6539a7c619": {
          "model_module": "@jupyter-widgets/controls",
          "model_name": "ProgressStyleModel",
          "model_module_version": "1.5.0",
          "state": {
            "_model_module": "@jupyter-widgets/controls",
            "_model_module_version": "1.5.0",
            "_model_name": "ProgressStyleModel",
            "_view_count": null,
            "_view_module": "@jupyter-widgets/base",
            "_view_module_version": "1.2.0",
            "_view_name": "StyleView",
            "bar_color": null,
            "description_width": ""
          }
        },
        "1f1a7474b3d54c98aa48c67eaedaf46c": {
          "model_module": "@jupyter-widgets/base",
          "model_name": "LayoutModel",
          "model_module_version": "1.2.0",
          "state": {
            "_model_module": "@jupyter-widgets/base",
            "_model_module_version": "1.2.0",
            "_model_name": "LayoutModel",
            "_view_count": null,
            "_view_module": "@jupyter-widgets/base",
            "_view_module_version": "1.2.0",
            "_view_name": "LayoutView",
            "align_content": null,
            "align_items": null,
            "align_self": null,
            "border": null,
            "bottom": null,
            "display": null,
            "flex": null,
            "flex_flow": null,
            "grid_area": null,
            "grid_auto_columns": null,
            "grid_auto_flow": null,
            "grid_auto_rows": null,
            "grid_column": null,
            "grid_gap": null,
            "grid_row": null,
            "grid_template_areas": null,
            "grid_template_columns": null,
            "grid_template_rows": null,
            "height": null,
            "justify_content": null,
            "justify_items": null,
            "left": null,
            "margin": null,
            "max_height": null,
            "max_width": null,
            "min_height": null,
            "min_width": null,
            "object_fit": null,
            "object_position": null,
            "order": null,
            "overflow": null,
            "overflow_x": null,
            "overflow_y": null,
            "padding": null,
            "right": null,
            "top": null,
            "visibility": null,
            "width": null
          }
        },
        "bbd85671b1d0460bbde7f8654c982d0f": {
          "model_module": "@jupyter-widgets/controls",
          "model_name": "DescriptionStyleModel",
          "model_module_version": "1.5.0",
          "state": {
            "_model_module": "@jupyter-widgets/controls",
            "_model_module_version": "1.5.0",
            "_model_name": "DescriptionStyleModel",
            "_view_count": null,
            "_view_module": "@jupyter-widgets/base",
            "_view_module_version": "1.2.0",
            "_view_name": "StyleView",
            "description_width": ""
          }
        },
        "793e70a522284e7ab9a61e8ef4a4670f": {
          "model_module": "@jupyter-widgets/controls",
          "model_name": "HBoxModel",
          "model_module_version": "1.5.0",
          "state": {
            "_dom_classes": [],
            "_model_module": "@jupyter-widgets/controls",
            "_model_module_version": "1.5.0",
            "_model_name": "HBoxModel",
            "_view_count": null,
            "_view_module": "@jupyter-widgets/controls",
            "_view_module_version": "1.5.0",
            "_view_name": "HBoxView",
            "box_style": "",
            "children": [
              "IPY_MODEL_4c8beacdfdc947068cc5eb409dec5a57",
              "IPY_MODEL_e6dc1c68b1d146889c429fdcfa953ef0",
              "IPY_MODEL_c0087730d9d84165a886ee9c76656c01"
            ],
            "layout": "IPY_MODEL_e1920ca6d0974dec940bd46456161868"
          }
        },
        "4c8beacdfdc947068cc5eb409dec5a57": {
          "model_module": "@jupyter-widgets/controls",
          "model_name": "HTMLModel",
          "model_module_version": "1.5.0",
          "state": {
            "_dom_classes": [],
            "_model_module": "@jupyter-widgets/controls",
            "_model_module_version": "1.5.0",
            "_model_name": "HTMLModel",
            "_view_count": null,
            "_view_module": "@jupyter-widgets/controls",
            "_view_module_version": "1.5.0",
            "_view_name": "HTMLView",
            "description": "",
            "description_tooltip": null,
            "layout": "IPY_MODEL_344bdcfc52b7418abbe19cba0ecbb695",
            "placeholder": "​",
            "style": "IPY_MODEL_f4099f5b6461444ebbaf348078f64dab",
            "value": "Downloading tokenizer.model: 100%"
          }
        },
        "e6dc1c68b1d146889c429fdcfa953ef0": {
          "model_module": "@jupyter-widgets/controls",
          "model_name": "FloatProgressModel",
          "model_module_version": "1.5.0",
          "state": {
            "_dom_classes": [],
            "_model_module": "@jupyter-widgets/controls",
            "_model_module_version": "1.5.0",
            "_model_name": "FloatProgressModel",
            "_view_count": null,
            "_view_module": "@jupyter-widgets/controls",
            "_view_module_version": "1.5.0",
            "_view_name": "ProgressView",
            "bar_style": "success",
            "description": "",
            "description_tooltip": null,
            "layout": "IPY_MODEL_5d48201b1c5c417080ecd273c4a16915",
            "max": 499723,
            "min": 0,
            "orientation": "horizontal",
            "style": "IPY_MODEL_3490a8dc33954bbe83d34a319deaeeb7",
            "value": 499723
          }
        },
        "c0087730d9d84165a886ee9c76656c01": {
          "model_module": "@jupyter-widgets/controls",
          "model_name": "HTMLModel",
          "model_module_version": "1.5.0",
          "state": {
            "_dom_classes": [],
            "_model_module": "@jupyter-widgets/controls",
            "_model_module_version": "1.5.0",
            "_model_name": "HTMLModel",
            "_view_count": null,
            "_view_module": "@jupyter-widgets/controls",
            "_view_module_version": "1.5.0",
            "_view_name": "HTMLView",
            "description": "",
            "description_tooltip": null,
            "layout": "IPY_MODEL_d8baf0c4367e4c9cb395d10218152c98",
            "placeholder": "​",
            "style": "IPY_MODEL_f3e26afca88a4049acbdc91da7f9c842",
            "value": " 500k/500k [00:00&lt;00:00, 561kB/s]"
          }
        },
        "e1920ca6d0974dec940bd46456161868": {
          "model_module": "@jupyter-widgets/base",
          "model_name": "LayoutModel",
          "model_module_version": "1.2.0",
          "state": {
            "_model_module": "@jupyter-widgets/base",
            "_model_module_version": "1.2.0",
            "_model_name": "LayoutModel",
            "_view_count": null,
            "_view_module": "@jupyter-widgets/base",
            "_view_module_version": "1.2.0",
            "_view_name": "LayoutView",
            "align_content": null,
            "align_items": null,
            "align_self": null,
            "border": null,
            "bottom": null,
            "display": null,
            "flex": null,
            "flex_flow": null,
            "grid_area": null,
            "grid_auto_columns": null,
            "grid_auto_flow": null,
            "grid_auto_rows": null,
            "grid_column": null,
            "grid_gap": null,
            "grid_row": null,
            "grid_template_areas": null,
            "grid_template_columns": null,
            "grid_template_rows": null,
            "height": null,
            "justify_content": null,
            "justify_items": null,
            "left": null,
            "margin": null,
            "max_height": null,
            "max_width": null,
            "min_height": null,
            "min_width": null,
            "object_fit": null,
            "object_position": null,
            "order": null,
            "overflow": null,
            "overflow_x": null,
            "overflow_y": null,
            "padding": null,
            "right": null,
            "top": null,
            "visibility": null,
            "width": null
          }
        },
        "344bdcfc52b7418abbe19cba0ecbb695": {
          "model_module": "@jupyter-widgets/base",
          "model_name": "LayoutModel",
          "model_module_version": "1.2.0",
          "state": {
            "_model_module": "@jupyter-widgets/base",
            "_model_module_version": "1.2.0",
            "_model_name": "LayoutModel",
            "_view_count": null,
            "_view_module": "@jupyter-widgets/base",
            "_view_module_version": "1.2.0",
            "_view_name": "LayoutView",
            "align_content": null,
            "align_items": null,
            "align_self": null,
            "border": null,
            "bottom": null,
            "display": null,
            "flex": null,
            "flex_flow": null,
            "grid_area": null,
            "grid_auto_columns": null,
            "grid_auto_flow": null,
            "grid_auto_rows": null,
            "grid_column": null,
            "grid_gap": null,
            "grid_row": null,
            "grid_template_areas": null,
            "grid_template_columns": null,
            "grid_template_rows": null,
            "height": null,
            "justify_content": null,
            "justify_items": null,
            "left": null,
            "margin": null,
            "max_height": null,
            "max_width": null,
            "min_height": null,
            "min_width": null,
            "object_fit": null,
            "object_position": null,
            "order": null,
            "overflow": null,
            "overflow_x": null,
            "overflow_y": null,
            "padding": null,
            "right": null,
            "top": null,
            "visibility": null,
            "width": null
          }
        },
        "f4099f5b6461444ebbaf348078f64dab": {
          "model_module": "@jupyter-widgets/controls",
          "model_name": "DescriptionStyleModel",
          "model_module_version": "1.5.0",
          "state": {
            "_model_module": "@jupyter-widgets/controls",
            "_model_module_version": "1.5.0",
            "_model_name": "DescriptionStyleModel",
            "_view_count": null,
            "_view_module": "@jupyter-widgets/base",
            "_view_module_version": "1.2.0",
            "_view_name": "StyleView",
            "description_width": ""
          }
        },
        "5d48201b1c5c417080ecd273c4a16915": {
          "model_module": "@jupyter-widgets/base",
          "model_name": "LayoutModel",
          "model_module_version": "1.2.0",
          "state": {
            "_model_module": "@jupyter-widgets/base",
            "_model_module_version": "1.2.0",
            "_model_name": "LayoutModel",
            "_view_count": null,
            "_view_module": "@jupyter-widgets/base",
            "_view_module_version": "1.2.0",
            "_view_name": "LayoutView",
            "align_content": null,
            "align_items": null,
            "align_self": null,
            "border": null,
            "bottom": null,
            "display": null,
            "flex": null,
            "flex_flow": null,
            "grid_area": null,
            "grid_auto_columns": null,
            "grid_auto_flow": null,
            "grid_auto_rows": null,
            "grid_column": null,
            "grid_gap": null,
            "grid_row": null,
            "grid_template_areas": null,
            "grid_template_columns": null,
            "grid_template_rows": null,
            "height": null,
            "justify_content": null,
            "justify_items": null,
            "left": null,
            "margin": null,
            "max_height": null,
            "max_width": null,
            "min_height": null,
            "min_width": null,
            "object_fit": null,
            "object_position": null,
            "order": null,
            "overflow": null,
            "overflow_x": null,
            "overflow_y": null,
            "padding": null,
            "right": null,
            "top": null,
            "visibility": null,
            "width": null
          }
        },
        "3490a8dc33954bbe83d34a319deaeeb7": {
          "model_module": "@jupyter-widgets/controls",
          "model_name": "ProgressStyleModel",
          "model_module_version": "1.5.0",
          "state": {
            "_model_module": "@jupyter-widgets/controls",
            "_model_module_version": "1.5.0",
            "_model_name": "ProgressStyleModel",
            "_view_count": null,
            "_view_module": "@jupyter-widgets/base",
            "_view_module_version": "1.2.0",
            "_view_name": "StyleView",
            "bar_color": null,
            "description_width": ""
          }
        },
        "d8baf0c4367e4c9cb395d10218152c98": {
          "model_module": "@jupyter-widgets/base",
          "model_name": "LayoutModel",
          "model_module_version": "1.2.0",
          "state": {
            "_model_module": "@jupyter-widgets/base",
            "_model_module_version": "1.2.0",
            "_model_name": "LayoutModel",
            "_view_count": null,
            "_view_module": "@jupyter-widgets/base",
            "_view_module_version": "1.2.0",
            "_view_name": "LayoutView",
            "align_content": null,
            "align_items": null,
            "align_self": null,
            "border": null,
            "bottom": null,
            "display": null,
            "flex": null,
            "flex_flow": null,
            "grid_area": null,
            "grid_auto_columns": null,
            "grid_auto_flow": null,
            "grid_auto_rows": null,
            "grid_column": null,
            "grid_gap": null,
            "grid_row": null,
            "grid_template_areas": null,
            "grid_template_columns": null,
            "grid_template_rows": null,
            "height": null,
            "justify_content": null,
            "justify_items": null,
            "left": null,
            "margin": null,
            "max_height": null,
            "max_width": null,
            "min_height": null,
            "min_width": null,
            "object_fit": null,
            "object_position": null,
            "order": null,
            "overflow": null,
            "overflow_x": null,
            "overflow_y": null,
            "padding": null,
            "right": null,
            "top": null,
            "visibility": null,
            "width": null
          }
        },
        "f3e26afca88a4049acbdc91da7f9c842": {
          "model_module": "@jupyter-widgets/controls",
          "model_name": "DescriptionStyleModel",
          "model_module_version": "1.5.0",
          "state": {
            "_model_module": "@jupyter-widgets/controls",
            "_model_module_version": "1.5.0",
            "_model_name": "DescriptionStyleModel",
            "_view_count": null,
            "_view_module": "@jupyter-widgets/base",
            "_view_module_version": "1.2.0",
            "_view_name": "StyleView",
            "description_width": ""
          }
        },
        "1e146440e2e54a969d3946c9c663ee03": {
          "model_module": "@jupyter-widgets/controls",
          "model_name": "HBoxModel",
          "model_module_version": "1.5.0",
          "state": {
            "_dom_classes": [],
            "_model_module": "@jupyter-widgets/controls",
            "_model_module_version": "1.5.0",
            "_model_name": "HBoxModel",
            "_view_count": null,
            "_view_module": "@jupyter-widgets/controls",
            "_view_module_version": "1.5.0",
            "_view_name": "HBoxView",
            "box_style": "",
            "children": [
              "IPY_MODEL_b58bc18f61a3472d911e389fa5d69cb1",
              "IPY_MODEL_b500879d386f43a8a5c5642fb6bd0694",
              "IPY_MODEL_319f47817a9d425c95670a5368b6d17b"
            ],
            "layout": "IPY_MODEL_c769a7a58c1548a0b866a023c5db6fb3"
          }
        },
        "b58bc18f61a3472d911e389fa5d69cb1": {
          "model_module": "@jupyter-widgets/controls",
          "model_name": "HTMLModel",
          "model_module_version": "1.5.0",
          "state": {
            "_dom_classes": [],
            "_model_module": "@jupyter-widgets/controls",
            "_model_module_version": "1.5.0",
            "_model_name": "HTMLModel",
            "_view_count": null,
            "_view_module": "@jupyter-widgets/controls",
            "_view_module_version": "1.5.0",
            "_view_name": "HTMLView",
            "description": "",
            "description_tooltip": null,
            "layout": "IPY_MODEL_4ec1993257d847d8bbba2f84b7f8c577",
            "placeholder": "​",
            "style": "IPY_MODEL_39b2607db7af4e71b8dc6f68b93215f8",
            "value": "Downloading (…)cial_tokens_map.json: 100%"
          }
        },
        "b500879d386f43a8a5c5642fb6bd0694": {
          "model_module": "@jupyter-widgets/controls",
          "model_name": "FloatProgressModel",
          "model_module_version": "1.5.0",
          "state": {
            "_dom_classes": [],
            "_model_module": "@jupyter-widgets/controls",
            "_model_module_version": "1.5.0",
            "_model_name": "FloatProgressModel",
            "_view_count": null,
            "_view_module": "@jupyter-widgets/controls",
            "_view_module_version": "1.5.0",
            "_view_name": "ProgressView",
            "bar_style": "success",
            "description": "",
            "description_tooltip": null,
            "layout": "IPY_MODEL_142236720c1041799545d94c95738ed4",
            "max": 399,
            "min": 0,
            "orientation": "horizontal",
            "style": "IPY_MODEL_fea7d0e82a004b7a84693ad9a3101052",
            "value": 399
          }
        },
        "319f47817a9d425c95670a5368b6d17b": {
          "model_module": "@jupyter-widgets/controls",
          "model_name": "HTMLModel",
          "model_module_version": "1.5.0",
          "state": {
            "_dom_classes": [],
            "_model_module": "@jupyter-widgets/controls",
            "_model_module_version": "1.5.0",
            "_model_name": "HTMLModel",
            "_view_count": null,
            "_view_module": "@jupyter-widgets/controls",
            "_view_module_version": "1.5.0",
            "_view_name": "HTMLView",
            "description": "",
            "description_tooltip": null,
            "layout": "IPY_MODEL_6a2a4ae0ddd6424bac9c33b8cdf1e80b",
            "placeholder": "​",
            "style": "IPY_MODEL_cc9541f102034e4da8ef54d387f4f2ee",
            "value": " 399/399 [00:00&lt;00:00, 32.6kB/s]"
          }
        },
        "c769a7a58c1548a0b866a023c5db6fb3": {
          "model_module": "@jupyter-widgets/base",
          "model_name": "LayoutModel",
          "model_module_version": "1.2.0",
          "state": {
            "_model_module": "@jupyter-widgets/base",
            "_model_module_version": "1.2.0",
            "_model_name": "LayoutModel",
            "_view_count": null,
            "_view_module": "@jupyter-widgets/base",
            "_view_module_version": "1.2.0",
            "_view_name": "LayoutView",
            "align_content": null,
            "align_items": null,
            "align_self": null,
            "border": null,
            "bottom": null,
            "display": null,
            "flex": null,
            "flex_flow": null,
            "grid_area": null,
            "grid_auto_columns": null,
            "grid_auto_flow": null,
            "grid_auto_rows": null,
            "grid_column": null,
            "grid_gap": null,
            "grid_row": null,
            "grid_template_areas": null,
            "grid_template_columns": null,
            "grid_template_rows": null,
            "height": null,
            "justify_content": null,
            "justify_items": null,
            "left": null,
            "margin": null,
            "max_height": null,
            "max_width": null,
            "min_height": null,
            "min_width": null,
            "object_fit": null,
            "object_position": null,
            "order": null,
            "overflow": null,
            "overflow_x": null,
            "overflow_y": null,
            "padding": null,
            "right": null,
            "top": null,
            "visibility": null,
            "width": null
          }
        },
        "4ec1993257d847d8bbba2f84b7f8c577": {
          "model_module": "@jupyter-widgets/base",
          "model_name": "LayoutModel",
          "model_module_version": "1.2.0",
          "state": {
            "_model_module": "@jupyter-widgets/base",
            "_model_module_version": "1.2.0",
            "_model_name": "LayoutModel",
            "_view_count": null,
            "_view_module": "@jupyter-widgets/base",
            "_view_module_version": "1.2.0",
            "_view_name": "LayoutView",
            "align_content": null,
            "align_items": null,
            "align_self": null,
            "border": null,
            "bottom": null,
            "display": null,
            "flex": null,
            "flex_flow": null,
            "grid_area": null,
            "grid_auto_columns": null,
            "grid_auto_flow": null,
            "grid_auto_rows": null,
            "grid_column": null,
            "grid_gap": null,
            "grid_row": null,
            "grid_template_areas": null,
            "grid_template_columns": null,
            "grid_template_rows": null,
            "height": null,
            "justify_content": null,
            "justify_items": null,
            "left": null,
            "margin": null,
            "max_height": null,
            "max_width": null,
            "min_height": null,
            "min_width": null,
            "object_fit": null,
            "object_position": null,
            "order": null,
            "overflow": null,
            "overflow_x": null,
            "overflow_y": null,
            "padding": null,
            "right": null,
            "top": null,
            "visibility": null,
            "width": null
          }
        },
        "39b2607db7af4e71b8dc6f68b93215f8": {
          "model_module": "@jupyter-widgets/controls",
          "model_name": "DescriptionStyleModel",
          "model_module_version": "1.5.0",
          "state": {
            "_model_module": "@jupyter-widgets/controls",
            "_model_module_version": "1.5.0",
            "_model_name": "DescriptionStyleModel",
            "_view_count": null,
            "_view_module": "@jupyter-widgets/base",
            "_view_module_version": "1.2.0",
            "_view_name": "StyleView",
            "description_width": ""
          }
        },
        "142236720c1041799545d94c95738ed4": {
          "model_module": "@jupyter-widgets/base",
          "model_name": "LayoutModel",
          "model_module_version": "1.2.0",
          "state": {
            "_model_module": "@jupyter-widgets/base",
            "_model_module_version": "1.2.0",
            "_model_name": "LayoutModel",
            "_view_count": null,
            "_view_module": "@jupyter-widgets/base",
            "_view_module_version": "1.2.0",
            "_view_name": "LayoutView",
            "align_content": null,
            "align_items": null,
            "align_self": null,
            "border": null,
            "bottom": null,
            "display": null,
            "flex": null,
            "flex_flow": null,
            "grid_area": null,
            "grid_auto_columns": null,
            "grid_auto_flow": null,
            "grid_auto_rows": null,
            "grid_column": null,
            "grid_gap": null,
            "grid_row": null,
            "grid_template_areas": null,
            "grid_template_columns": null,
            "grid_template_rows": null,
            "height": null,
            "justify_content": null,
            "justify_items": null,
            "left": null,
            "margin": null,
            "max_height": null,
            "max_width": null,
            "min_height": null,
            "min_width": null,
            "object_fit": null,
            "object_position": null,
            "order": null,
            "overflow": null,
            "overflow_x": null,
            "overflow_y": null,
            "padding": null,
            "right": null,
            "top": null,
            "visibility": null,
            "width": null
          }
        },
        "fea7d0e82a004b7a84693ad9a3101052": {
          "model_module": "@jupyter-widgets/controls",
          "model_name": "ProgressStyleModel",
          "model_module_version": "1.5.0",
          "state": {
            "_model_module": "@jupyter-widgets/controls",
            "_model_module_version": "1.5.0",
            "_model_name": "ProgressStyleModel",
            "_view_count": null,
            "_view_module": "@jupyter-widgets/base",
            "_view_module_version": "1.2.0",
            "_view_name": "StyleView",
            "bar_color": null,
            "description_width": ""
          }
        },
        "6a2a4ae0ddd6424bac9c33b8cdf1e80b": {
          "model_module": "@jupyter-widgets/base",
          "model_name": "LayoutModel",
          "model_module_version": "1.2.0",
          "state": {
            "_model_module": "@jupyter-widgets/base",
            "_model_module_version": "1.2.0",
            "_model_name": "LayoutModel",
            "_view_count": null,
            "_view_module": "@jupyter-widgets/base",
            "_view_module_version": "1.2.0",
            "_view_name": "LayoutView",
            "align_content": null,
            "align_items": null,
            "align_self": null,
            "border": null,
            "bottom": null,
            "display": null,
            "flex": null,
            "flex_flow": null,
            "grid_area": null,
            "grid_auto_columns": null,
            "grid_auto_flow": null,
            "grid_auto_rows": null,
            "grid_column": null,
            "grid_gap": null,
            "grid_row": null,
            "grid_template_areas": null,
            "grid_template_columns": null,
            "grid_template_rows": null,
            "height": null,
            "justify_content": null,
            "justify_items": null,
            "left": null,
            "margin": null,
            "max_height": null,
            "max_width": null,
            "min_height": null,
            "min_width": null,
            "object_fit": null,
            "object_position": null,
            "order": null,
            "overflow": null,
            "overflow_x": null,
            "overflow_y": null,
            "padding": null,
            "right": null,
            "top": null,
            "visibility": null,
            "width": null
          }
        },
        "cc9541f102034e4da8ef54d387f4f2ee": {
          "model_module": "@jupyter-widgets/controls",
          "model_name": "DescriptionStyleModel",
          "model_module_version": "1.5.0",
          "state": {
            "_model_module": "@jupyter-widgets/controls",
            "_model_module_version": "1.5.0",
            "_model_name": "DescriptionStyleModel",
            "_view_count": null,
            "_view_module": "@jupyter-widgets/base",
            "_view_module_version": "1.2.0",
            "_view_name": "StyleView",
            "description_width": ""
          }
        },
        "78e89f1f8e324cd98adc103be38a1db7": {
          "model_module": "@jupyter-widgets/controls",
          "model_name": "HBoxModel",
          "model_module_version": "1.5.0",
          "state": {
            "_dom_classes": [],
            "_model_module": "@jupyter-widgets/controls",
            "_model_module_version": "1.5.0",
            "_model_name": "HBoxModel",
            "_view_count": null,
            "_view_module": "@jupyter-widgets/controls",
            "_view_module_version": "1.5.0",
            "_view_name": "HBoxView",
            "box_style": "",
            "children": [
              "IPY_MODEL_00d6a33b67574263b6deb2243c7020a7",
              "IPY_MODEL_c418c3166e054ae4bcd987c8eaddd7b9",
              "IPY_MODEL_c259b8367d124af3bb708eda320474c3"
            ],
            "layout": "IPY_MODEL_32f5166faf8748eabfec23bd58c24a53"
          }
        },
        "00d6a33b67574263b6deb2243c7020a7": {
          "model_module": "@jupyter-widgets/controls",
          "model_name": "HTMLModel",
          "model_module_version": "1.5.0",
          "state": {
            "_dom_classes": [],
            "_model_module": "@jupyter-widgets/controls",
            "_model_module_version": "1.5.0",
            "_model_name": "HTMLModel",
            "_view_count": null,
            "_view_module": "@jupyter-widgets/controls",
            "_view_module_version": "1.5.0",
            "_view_name": "HTMLView",
            "description": "",
            "description_tooltip": null,
            "layout": "IPY_MODEL_1fef73fcbdcf44d099f5b1b798cfe79a",
            "placeholder": "​",
            "style": "IPY_MODEL_5b39b7123ab34a2d90308fb004147ccf",
            "value": "Downloading (…)okenizer_config.json: 100%"
          }
        },
        "c418c3166e054ae4bcd987c8eaddd7b9": {
          "model_module": "@jupyter-widgets/controls",
          "model_name": "FloatProgressModel",
          "model_module_version": "1.5.0",
          "state": {
            "_dom_classes": [],
            "_model_module": "@jupyter-widgets/controls",
            "_model_module_version": "1.5.0",
            "_model_name": "FloatProgressModel",
            "_view_count": null,
            "_view_module": "@jupyter-widgets/controls",
            "_view_module_version": "1.5.0",
            "_view_name": "ProgressView",
            "bar_style": "success",
            "description": "",
            "description_tooltip": null,
            "layout": "IPY_MODEL_54ecbc66e59f44c0a0a856edd634b444",
            "max": 736,
            "min": 0,
            "orientation": "horizontal",
            "style": "IPY_MODEL_c3a18cfe25614568bfb94288619c1073",
            "value": 736
          }
        },
        "c259b8367d124af3bb708eda320474c3": {
          "model_module": "@jupyter-widgets/controls",
          "model_name": "HTMLModel",
          "model_module_version": "1.5.0",
          "state": {
            "_dom_classes": [],
            "_model_module": "@jupyter-widgets/controls",
            "_model_module_version": "1.5.0",
            "_model_name": "HTMLModel",
            "_view_count": null,
            "_view_module": "@jupyter-widgets/controls",
            "_view_module_version": "1.5.0",
            "_view_name": "HTMLView",
            "description": "",
            "description_tooltip": null,
            "layout": "IPY_MODEL_c0b96c9328414cf994383add62bf038e",
            "placeholder": "​",
            "style": "IPY_MODEL_238ac10210614a28875c57c0092ec30f",
            "value": " 736/736 [00:00&lt;00:00, 57.5kB/s]"
          }
        },
        "32f5166faf8748eabfec23bd58c24a53": {
          "model_module": "@jupyter-widgets/base",
          "model_name": "LayoutModel",
          "model_module_version": "1.2.0",
          "state": {
            "_model_module": "@jupyter-widgets/base",
            "_model_module_version": "1.2.0",
            "_model_name": "LayoutModel",
            "_view_count": null,
            "_view_module": "@jupyter-widgets/base",
            "_view_module_version": "1.2.0",
            "_view_name": "LayoutView",
            "align_content": null,
            "align_items": null,
            "align_self": null,
            "border": null,
            "bottom": null,
            "display": null,
            "flex": null,
            "flex_flow": null,
            "grid_area": null,
            "grid_auto_columns": null,
            "grid_auto_flow": null,
            "grid_auto_rows": null,
            "grid_column": null,
            "grid_gap": null,
            "grid_row": null,
            "grid_template_areas": null,
            "grid_template_columns": null,
            "grid_template_rows": null,
            "height": null,
            "justify_content": null,
            "justify_items": null,
            "left": null,
            "margin": null,
            "max_height": null,
            "max_width": null,
            "min_height": null,
            "min_width": null,
            "object_fit": null,
            "object_position": null,
            "order": null,
            "overflow": null,
            "overflow_x": null,
            "overflow_y": null,
            "padding": null,
            "right": null,
            "top": null,
            "visibility": null,
            "width": null
          }
        },
        "1fef73fcbdcf44d099f5b1b798cfe79a": {
          "model_module": "@jupyter-widgets/base",
          "model_name": "LayoutModel",
          "model_module_version": "1.2.0",
          "state": {
            "_model_module": "@jupyter-widgets/base",
            "_model_module_version": "1.2.0",
            "_model_name": "LayoutModel",
            "_view_count": null,
            "_view_module": "@jupyter-widgets/base",
            "_view_module_version": "1.2.0",
            "_view_name": "LayoutView",
            "align_content": null,
            "align_items": null,
            "align_self": null,
            "border": null,
            "bottom": null,
            "display": null,
            "flex": null,
            "flex_flow": null,
            "grid_area": null,
            "grid_auto_columns": null,
            "grid_auto_flow": null,
            "grid_auto_rows": null,
            "grid_column": null,
            "grid_gap": null,
            "grid_row": null,
            "grid_template_areas": null,
            "grid_template_columns": null,
            "grid_template_rows": null,
            "height": null,
            "justify_content": null,
            "justify_items": null,
            "left": null,
            "margin": null,
            "max_height": null,
            "max_width": null,
            "min_height": null,
            "min_width": null,
            "object_fit": null,
            "object_position": null,
            "order": null,
            "overflow": null,
            "overflow_x": null,
            "overflow_y": null,
            "padding": null,
            "right": null,
            "top": null,
            "visibility": null,
            "width": null
          }
        },
        "5b39b7123ab34a2d90308fb004147ccf": {
          "model_module": "@jupyter-widgets/controls",
          "model_name": "DescriptionStyleModel",
          "model_module_version": "1.5.0",
          "state": {
            "_model_module": "@jupyter-widgets/controls",
            "_model_module_version": "1.5.0",
            "_model_name": "DescriptionStyleModel",
            "_view_count": null,
            "_view_module": "@jupyter-widgets/base",
            "_view_module_version": "1.2.0",
            "_view_name": "StyleView",
            "description_width": ""
          }
        },
        "54ecbc66e59f44c0a0a856edd634b444": {
          "model_module": "@jupyter-widgets/base",
          "model_name": "LayoutModel",
          "model_module_version": "1.2.0",
          "state": {
            "_model_module": "@jupyter-widgets/base",
            "_model_module_version": "1.2.0",
            "_model_name": "LayoutModel",
            "_view_count": null,
            "_view_module": "@jupyter-widgets/base",
            "_view_module_version": "1.2.0",
            "_view_name": "LayoutView",
            "align_content": null,
            "align_items": null,
            "align_self": null,
            "border": null,
            "bottom": null,
            "display": null,
            "flex": null,
            "flex_flow": null,
            "grid_area": null,
            "grid_auto_columns": null,
            "grid_auto_flow": null,
            "grid_auto_rows": null,
            "grid_column": null,
            "grid_gap": null,
            "grid_row": null,
            "grid_template_areas": null,
            "grid_template_columns": null,
            "grid_template_rows": null,
            "height": null,
            "justify_content": null,
            "justify_items": null,
            "left": null,
            "margin": null,
            "max_height": null,
            "max_width": null,
            "min_height": null,
            "min_width": null,
            "object_fit": null,
            "object_position": null,
            "order": null,
            "overflow": null,
            "overflow_x": null,
            "overflow_y": null,
            "padding": null,
            "right": null,
            "top": null,
            "visibility": null,
            "width": null
          }
        },
        "c3a18cfe25614568bfb94288619c1073": {
          "model_module": "@jupyter-widgets/controls",
          "model_name": "ProgressStyleModel",
          "model_module_version": "1.5.0",
          "state": {
            "_model_module": "@jupyter-widgets/controls",
            "_model_module_version": "1.5.0",
            "_model_name": "ProgressStyleModel",
            "_view_count": null,
            "_view_module": "@jupyter-widgets/base",
            "_view_module_version": "1.2.0",
            "_view_name": "StyleView",
            "bar_color": null,
            "description_width": ""
          }
        },
        "c0b96c9328414cf994383add62bf038e": {
          "model_module": "@jupyter-widgets/base",
          "model_name": "LayoutModel",
          "model_module_version": "1.2.0",
          "state": {
            "_model_module": "@jupyter-widgets/base",
            "_model_module_version": "1.2.0",
            "_model_name": "LayoutModel",
            "_view_count": null,
            "_view_module": "@jupyter-widgets/base",
            "_view_module_version": "1.2.0",
            "_view_name": "LayoutView",
            "align_content": null,
            "align_items": null,
            "align_self": null,
            "border": null,
            "bottom": null,
            "display": null,
            "flex": null,
            "flex_flow": null,
            "grid_area": null,
            "grid_auto_columns": null,
            "grid_auto_flow": null,
            "grid_auto_rows": null,
            "grid_column": null,
            "grid_gap": null,
            "grid_row": null,
            "grid_template_areas": null,
            "grid_template_columns": null,
            "grid_template_rows": null,
            "height": null,
            "justify_content": null,
            "justify_items": null,
            "left": null,
            "margin": null,
            "max_height": null,
            "max_width": null,
            "min_height": null,
            "min_width": null,
            "object_fit": null,
            "object_position": null,
            "order": null,
            "overflow": null,
            "overflow_x": null,
            "overflow_y": null,
            "padding": null,
            "right": null,
            "top": null,
            "visibility": null,
            "width": null
          }
        },
        "238ac10210614a28875c57c0092ec30f": {
          "model_module": "@jupyter-widgets/controls",
          "model_name": "DescriptionStyleModel",
          "model_module_version": "1.5.0",
          "state": {
            "_model_module": "@jupyter-widgets/controls",
            "_model_module_version": "1.5.0",
            "_model_name": "DescriptionStyleModel",
            "_view_count": null,
            "_view_module": "@jupyter-widgets/base",
            "_view_module_version": "1.2.0",
            "_view_name": "StyleView",
            "description_width": ""
          }
        }
      }
    }
  },
  "cells": [
    {
      "cell_type": "markdown",
      "metadata": {
        "id": "view-in-github",
        "colab_type": "text"
      },
      "source": [
        "<a href=\"https://colab.research.google.com/github/plaban1981/Hugging_Face_transformers_topics/blob/main/FinMA_7B_full.ipynb\" target=\"_parent\"><img src=\"https://colab.research.google.com/assets/colab-badge.svg\" alt=\"Open In Colab\"/></a>"
      ]
    },
    {
      "cell_type": "code",
      "execution_count": null,
      "metadata": {
        "colab": {
          "base_uri": "https://localhost:8080/"
        },
        "id": "IyVkkbp-MpoT",
        "outputId": "cec91369-5491-48af-d26f-5cff0ce58504"
      },
      "outputs": [
        {
          "output_type": "stream",
          "name": "stdout",
          "text": [
            "Thu Jul 13 10:12:07 2023       \n",
            "+-----------------------------------------------------------------------------+\n",
            "| NVIDIA-SMI 525.105.17   Driver Version: 525.105.17   CUDA Version: 12.0     |\n",
            "|-------------------------------+----------------------+----------------------+\n",
            "| GPU  Name        Persistence-M| Bus-Id        Disp.A | Volatile Uncorr. ECC |\n",
            "| Fan  Temp  Perf  Pwr:Usage/Cap|         Memory-Usage | GPU-Util  Compute M. |\n",
            "|                               |                      |               MIG M. |\n",
            "|===============================+======================+======================|\n",
            "|   0  NVIDIA A100-SXM...  Off  | 00000000:00:04.0 Off |                    0 |\n",
            "| N/A   37C    P0    44W / 400W |      0MiB / 40960MiB |      0%      Default |\n",
            "|                               |                      |             Disabled |\n",
            "+-------------------------------+----------------------+----------------------+\n",
            "                                                                               \n",
            "+-----------------------------------------------------------------------------+\n",
            "| Processes:                                                                  |\n",
            "|  GPU   GI   CI        PID   Type   Process name                  GPU Memory |\n",
            "|        ID   ID                                                   Usage      |\n",
            "|=============================================================================|\n",
            "|  No running processes found                                                 |\n",
            "+-----------------------------------------------------------------------------+\n"
          ]
        }
      ],
      "source": [
        "! nvidia-smi"
      ]
    },
    {
      "cell_type": "markdown",
      "source": [
        "* https://huggingface.co/datasets/ChanceFocus/FLUPE/viewer/ChanceFocus--FLUPE/train?row=123008"
      ],
      "metadata": {
        "id": "Zku1eCgyjBDl"
      }
    },
    {
      "cell_type": "markdown",
      "source": [
        "## FinMA-7B-full\n",
        "FinMA-7B-full is a comprehensive financial large language model (LLM) developed as part of the PIXIU project. It is designed to understand complex financial language and concepts, and is fine-tuned to follow natural language instructions, enhancing its performance in downstream financial tasks. Specifically, FinMA-7B-full is trained with the full instruction data from the PIXIU dataset, covering both NLP and prediction tasks. This makes it a more comprehensive model capable of handling a wider range of financial tasks.\n",
        "\n",
        "##Other Models in the PIXIU Project\n",
        "In addition to FinMA-7B-full, the PIXIU project includes two other models: FinMA-7B-NLP and FinMA-30B.\n",
        "\n",
        "FinMA-7B-NLP: This model is trained only on the NLP tasks of the PIXIU dataset, making it specialized for tasks such as sentiment analysis, news headline classification, named entity recognition, and question answering.\n",
        "\n",
        "FinMA-30B: This model is a larger version of FinMA, fine-tuned on the LLaMA-30B model. Like FinMA-7B-NLP, it is trained with the NLP instruction data."
      ],
      "metadata": {
        "id": "6lpiHVAvjC1Z"
      }
    },
    {
      "cell_type": "code",
      "source": [
        "!pip install -qU pip"
      ],
      "metadata": {
        "id": "4wsH6iF0NV6j"
      },
      "execution_count": null,
      "outputs": []
    },
    {
      "cell_type": "code",
      "source": [
        "!pip install -qU sentencepiece"
      ],
      "metadata": {
        "colab": {
          "base_uri": "https://localhost:8080/"
        },
        "id": "StACsT5lWZw7",
        "outputId": "876ebe27-8fef-47d7-c8f8-e97ecf3bd888"
      },
      "execution_count": null,
      "outputs": [
        {
          "output_type": "stream",
          "name": "stdout",
          "text": [
            "\u001b[?25l     \u001b[90m━━━━━━━━━━━━━━━━━━━━━━━━━━━━━━━━━━━━━━━━\u001b[0m \u001b[32m0.0/1.3 MB\u001b[0m \u001b[31m?\u001b[0m eta \u001b[36m-:--:--\u001b[0m\r\u001b[2K     \u001b[90m━━━━━━━━━━━━━━━━━━━━━━━━━━━━━━━━━━━━━━━━\u001b[0m \u001b[32m1.3/1.3 MB\u001b[0m \u001b[31m65.3 MB/s\u001b[0m eta \u001b[36m0:00:00\u001b[0m\n",
            "\u001b[?25h"
          ]
        }
      ]
    },
    {
      "cell_type": "code",
      "source": [
        "!pip install -qU transformers[sentencepiece]"
      ],
      "metadata": {
        "colab": {
          "base_uri": "https://localhost:8080/"
        },
        "id": "cliZf151Xx2U",
        "outputId": "c6b85b6b-afe6-46ea-db86-a4f1050d03a4"
      },
      "execution_count": null,
      "outputs": [
        {
          "output_type": "stream",
          "name": "stdout",
          "text": [
            "\u001b[2K     \u001b[90m━━━━━━━━━━━━━━━━━━━━━━━━━━━━━━━━━━━━━━━━\u001b[0m \u001b[32m7.2/7.2 MB\u001b[0m \u001b[31m99.0 MB/s\u001b[0m eta \u001b[36m0:00:00\u001b[0m\n",
            "\u001b[2K     \u001b[90m━━━━━━━━━━━━━━━━━━━━━━━━━━━━━━━━━━━━━━\u001b[0m \u001b[32m268.8/268.8 kB\u001b[0m \u001b[31m31.5 MB/s\u001b[0m eta \u001b[36m0:00:00\u001b[0m\n",
            "\u001b[2K     \u001b[90m━━━━━━━━━━━━━━━━━━━━━━━━━━━━━━━━━━━━━━━━\u001b[0m \u001b[32m7.8/7.8 MB\u001b[0m \u001b[31m113.7 MB/s\u001b[0m eta \u001b[36m0:00:00\u001b[0m\n",
            "\u001b[2K     \u001b[90m━━━━━━━━━━━━━━━━━━━━━━━━━━━━━━━━━━━━━━━━\u001b[0m \u001b[32m1.3/1.3 MB\u001b[0m \u001b[31m78.1 MB/s\u001b[0m eta \u001b[36m0:00:00\u001b[0m\n",
            "\u001b[?25h"
          ]
        }
      ]
    },
    {
      "cell_type": "code",
      "source": [
        "!pip install -U git+https://github.com/huggingface/transformers@de9255de27abfcae4a1f816b904915f0b1e23cd9\n",
        "!pip install -qU einops\n",
        "!pip install -qU bitsandbytes --progress-bar off\n",
        "!pip install -qU git+https://github.com/huggingface/peft\n",
        "!pip install git+https://github.com/huggingface/accelerate\n",
        "!pip install -qqq datasets==2.12.0\n",
        "!pip install -qqq -U loralib"
      ],
      "metadata": {
        "colab": {
          "base_uri": "https://localhost:8080/"
        },
        "id": "2uhXjbzIM_ms",
        "outputId": "e7e9a4ed-1d18-45c5-c0ad-d4bf6a602297"
      },
      "execution_count": null,
      "outputs": [
        {
          "output_type": "stream",
          "name": "stdout",
          "text": [
            "Collecting git+https://github.com/huggingface/transformers@de9255de27abfcae4a1f816b904915f0b1e23cd9\n",
            "  Cloning https://github.com/huggingface/transformers (to revision de9255de27abfcae4a1f816b904915f0b1e23cd9) to /tmp/pip-req-build-fau5sw90\n",
            "  Running command git clone --filter=blob:none --quiet https://github.com/huggingface/transformers /tmp/pip-req-build-fau5sw90\n",
            "  Running command git rev-parse -q --verify 'sha^de9255de27abfcae4a1f816b904915f0b1e23cd9'\n",
            "  Running command git fetch -q https://github.com/huggingface/transformers de9255de27abfcae4a1f816b904915f0b1e23cd9\n",
            "  Running command git checkout -q de9255de27abfcae4a1f816b904915f0b1e23cd9\n",
            "  Resolved https://github.com/huggingface/transformers to commit de9255de27abfcae4a1f816b904915f0b1e23cd9\n",
            "  Installing build dependencies ... \u001b[?25l\u001b[?25hdone\n",
            "  Getting requirements to build wheel ... \u001b[?25l\u001b[?25hdone\n",
            "  Preparing metadata (pyproject.toml) ... \u001b[?25l\u001b[?25hdone\n",
            "Requirement already satisfied: filelock in /usr/local/lib/python3.10/dist-packages (from transformers==4.30.0.dev0) (3.12.2)\n",
            "Requirement already satisfied: huggingface-hub<1.0,>=0.14.1 in /usr/local/lib/python3.10/dist-packages (from transformers==4.30.0.dev0) (0.16.4)\n",
            "Requirement already satisfied: numpy>=1.17 in /usr/local/lib/python3.10/dist-packages (from transformers==4.30.0.dev0) (1.22.4)\n",
            "Requirement already satisfied: packaging>=20.0 in /usr/local/lib/python3.10/dist-packages (from transformers==4.30.0.dev0) (23.1)\n",
            "Requirement already satisfied: pyyaml>=5.1 in /usr/local/lib/python3.10/dist-packages (from transformers==4.30.0.dev0) (6.0)\n",
            "Requirement already satisfied: regex!=2019.12.17 in /usr/local/lib/python3.10/dist-packages (from transformers==4.30.0.dev0) (2022.10.31)\n",
            "Requirement already satisfied: requests in /usr/local/lib/python3.10/dist-packages (from transformers==4.30.0.dev0) (2.27.1)\n",
            "Requirement already satisfied: tokenizers!=0.11.3,<0.14,>=0.11.1 in /usr/local/lib/python3.10/dist-packages (from transformers==4.30.0.dev0) (0.13.3)\n",
            "Requirement already satisfied: safetensors>=0.2.1 in /usr/local/lib/python3.10/dist-packages (from transformers==4.30.0.dev0) (0.3.1)\n",
            "Requirement already satisfied: tqdm>=4.27 in /usr/local/lib/python3.10/dist-packages (from transformers==4.30.0.dev0) (4.65.0)\n",
            "Requirement already satisfied: fsspec in /usr/local/lib/python3.10/dist-packages (from huggingface-hub<1.0,>=0.14.1->transformers==4.30.0.dev0) (2023.6.0)\n",
            "Requirement already satisfied: typing-extensions>=3.7.4.3 in /usr/local/lib/python3.10/dist-packages (from huggingface-hub<1.0,>=0.14.1->transformers==4.30.0.dev0) (4.7.1)\n",
            "Requirement already satisfied: urllib3<1.27,>=1.21.1 in /usr/local/lib/python3.10/dist-packages (from requests->transformers==4.30.0.dev0) (1.26.16)\n",
            "Requirement already satisfied: certifi>=2017.4.17 in /usr/local/lib/python3.10/dist-packages (from requests->transformers==4.30.0.dev0) (2023.5.7)\n",
            "Requirement already satisfied: charset-normalizer~=2.0.0 in /usr/local/lib/python3.10/dist-packages (from requests->transformers==4.30.0.dev0) (2.0.12)\n",
            "Requirement already satisfied: idna<4,>=2.5 in /usr/local/lib/python3.10/dist-packages (from requests->transformers==4.30.0.dev0) (3.4)\n",
            "Building wheels for collected packages: transformers\n",
            "  Building wheel for transformers (pyproject.toml) ... \u001b[?25l\u001b[?25hdone\n",
            "  Created wheel for transformers: filename=transformers-4.30.0.dev0-py3-none-any.whl size=7128533 sha256=e10ab6bc9343fa4b4d933387cd12820b1d35b970c90d9804733c78d609f2b2d0\n",
            "  Stored in directory: /root/.cache/pip/wheels/2a/26/b5/4452a388839f80723ac7d072a45ea6716ce5603db98005244f\n",
            "Successfully built transformers\n",
            "Installing collected packages: transformers\n",
            "  Attempting uninstall: transformers\n",
            "    Found existing installation: transformers 4.30.2\n",
            "    Uninstalling transformers-4.30.2:\n",
            "      Successfully uninstalled transformers-4.30.2\n",
            "Successfully installed transformers-4.30.0.dev0\n",
            "\u001b[2K     \u001b[90m━━━━━━━━━━━━━━━━━━━━━━━━━━━━━━━━━━━━━━━━\u001b[0m \u001b[32m42.2/42.2 kB\u001b[0m \u001b[31m4.8 MB/s\u001b[0m eta \u001b[36m0:00:00\u001b[0m\n",
            "\u001b[?25h  Installing build dependencies ... \u001b[?25l\u001b[?25hdone\n",
            "  Getting requirements to build wheel ... \u001b[?25l\u001b[?25hdone\n",
            "  Preparing metadata (pyproject.toml) ... \u001b[?25l\u001b[?25hdone\n",
            "\u001b[2K     \u001b[90m━━━━━━━━━━━━━━━━━━━━━━━━━━━━━━━━━━━━━━\u001b[0m \u001b[32m227.6/227.6 kB\u001b[0m \u001b[31m17.7 MB/s\u001b[0m eta \u001b[36m0:00:00\u001b[0m\n",
            "\u001b[?25h  Building wheel for peft (pyproject.toml) ... \u001b[?25l\u001b[?25hdone\n",
            "Collecting git+https://github.com/huggingface/accelerate\n",
            "  Cloning https://github.com/huggingface/accelerate to /tmp/pip-req-build-ms_5tn40\n",
            "  Running command git clone --filter=blob:none --quiet https://github.com/huggingface/accelerate /tmp/pip-req-build-ms_5tn40\n",
            "  Resolved https://github.com/huggingface/accelerate to commit e7150b0b1595cbc8d91894e3eacfd74e78f966c2\n",
            "  Installing build dependencies ... \u001b[?25l\u001b[?25hdone\n",
            "  Getting requirements to build wheel ... \u001b[?25l\u001b[?25hdone\n",
            "  Preparing metadata (pyproject.toml) ... \u001b[?25l\u001b[?25hdone\n",
            "Requirement already satisfied: numpy>=1.17 in /usr/local/lib/python3.10/dist-packages (from accelerate==0.21.0.dev0) (1.22.4)\n",
            "Requirement already satisfied: packaging>=20.0 in /usr/local/lib/python3.10/dist-packages (from accelerate==0.21.0.dev0) (23.1)\n",
            "Requirement already satisfied: psutil in /usr/local/lib/python3.10/dist-packages (from accelerate==0.21.0.dev0) (5.9.5)\n",
            "Requirement already satisfied: pyyaml in /usr/local/lib/python3.10/dist-packages (from accelerate==0.21.0.dev0) (6.0)\n",
            "Requirement already satisfied: torch>=1.10.0 in /usr/local/lib/python3.10/dist-packages (from accelerate==0.21.0.dev0) (2.0.1+cu118)\n",
            "Requirement already satisfied: filelock in /usr/local/lib/python3.10/dist-packages (from torch>=1.10.0->accelerate==0.21.0.dev0) (3.12.2)\n",
            "Requirement already satisfied: typing-extensions in /usr/local/lib/python3.10/dist-packages (from torch>=1.10.0->accelerate==0.21.0.dev0) (4.7.1)\n",
            "Requirement already satisfied: sympy in /usr/local/lib/python3.10/dist-packages (from torch>=1.10.0->accelerate==0.21.0.dev0) (1.11.1)\n",
            "Requirement already satisfied: networkx in /usr/local/lib/python3.10/dist-packages (from torch>=1.10.0->accelerate==0.21.0.dev0) (3.1)\n",
            "Requirement already satisfied: jinja2 in /usr/local/lib/python3.10/dist-packages (from torch>=1.10.0->accelerate==0.21.0.dev0) (3.1.2)\n",
            "Requirement already satisfied: triton==2.0.0 in /usr/local/lib/python3.10/dist-packages (from torch>=1.10.0->accelerate==0.21.0.dev0) (2.0.0)\n",
            "Requirement already satisfied: cmake in /usr/local/lib/python3.10/dist-packages (from triton==2.0.0->torch>=1.10.0->accelerate==0.21.0.dev0) (3.25.2)\n",
            "Requirement already satisfied: lit in /usr/local/lib/python3.10/dist-packages (from triton==2.0.0->torch>=1.10.0->accelerate==0.21.0.dev0) (16.0.6)\n",
            "Requirement already satisfied: MarkupSafe>=2.0 in /usr/local/lib/python3.10/dist-packages (from jinja2->torch>=1.10.0->accelerate==0.21.0.dev0) (2.1.3)\n",
            "Requirement already satisfied: mpmath>=0.19 in /usr/local/lib/python3.10/dist-packages (from sympy->torch>=1.10.0->accelerate==0.21.0.dev0) (1.3.0)\n",
            "Building wheels for collected packages: accelerate\n",
            "  Building wheel for accelerate (pyproject.toml) ... \u001b[?25l\u001b[?25hdone\n",
            "  Created wheel for accelerate: filename=accelerate-0.21.0.dev0-py3-none-any.whl size=244201 sha256=30f49622fc3162b67adb9c4a19fc4e2c32f218deab698b776b9d34224fd20e94\n",
            "  Stored in directory: /tmp/pip-ephem-wheel-cache-byhq_vcm/wheels/f6/c7/9d/1b8a5ca8353d9307733bc719107acb67acdc95063bba749f26\n",
            "Successfully built accelerate\n",
            "Installing collected packages: accelerate\n",
            "  Attempting uninstall: accelerate\n",
            "    Found existing installation: accelerate 0.20.3\n",
            "    Uninstalling accelerate-0.20.3:\n",
            "      Successfully uninstalled accelerate-0.20.3\n",
            "Successfully installed accelerate-0.21.0.dev0\n",
            "\u001b[2K     \u001b[90m━━━━━━━━━━━━━━━━━━━━━━━━━━━━━━━━━━━━━━\u001b[0m \u001b[32m474.6/474.6 kB\u001b[0m \u001b[31m27.6 MB/s\u001b[0m eta \u001b[36m0:00:00\u001b[0m\n",
            "\u001b[2K     \u001b[90m━━━━━━━━━━━━━━━━━━━━━━━━━━━━━━━━━━━━━━\u001b[0m \u001b[32m110.5/110.5 kB\u001b[0m \u001b[31m14.4 MB/s\u001b[0m eta \u001b[36m0:00:00\u001b[0m\n",
            "\u001b[2K     \u001b[90m━━━━━━━━━━━━━━━━━━━━━━━━━━━━━━━━━━━━━━\u001b[0m \u001b[32m212.5/212.5 kB\u001b[0m \u001b[31m24.2 MB/s\u001b[0m eta \u001b[36m0:00:00\u001b[0m\n",
            "\u001b[2K     \u001b[90m━━━━━━━━━━━━━━━━━━━━━━━━━━━━━━━━━━━━━━\u001b[0m \u001b[32m134.3/134.3 kB\u001b[0m \u001b[31m17.5 MB/s\u001b[0m eta \u001b[36m0:00:00\u001b[0m\n",
            "\u001b[?25h"
          ]
        }
      ]
    },
    {
      "cell_type": "code",
      "source": [
        "from transformers import LlamaTokenizer, LlamaForCausalLM,AutoConfig, AutoTokenizer, BitsAndBytesConfig,AutoModelForCausalLM\n",
        "import torch\n",
        "import gc\n"
      ],
      "metadata": {
        "id": "Q3XQ8mGvOSj9",
        "colab": {
          "base_uri": "https://localhost:8080/"
        },
        "outputId": "3b82501f-c5e5-42d2-fd9e-61a5a14aa3b1"
      },
      "execution_count": null,
      "outputs": [
        {
          "output_type": "stream",
          "name": "stdout",
          "text": [
            "\n",
            "===================================BUG REPORT===================================\n",
            "Welcome to bitsandbytes. For bug reports, please run\n",
            "\n",
            "python -m bitsandbytes\n",
            "\n",
            " and submit this information together with your error trace to: https://github.com/TimDettmers/bitsandbytes/issues\n",
            "================================================================================\n",
            "bin /usr/local/lib/python3.10/dist-packages/bitsandbytes/libbitsandbytes_cuda118.so\n",
            "CUDA_SETUP: WARNING! libcudart.so not found in any environmental path. Searching in backup paths...\n",
            "CUDA SETUP: CUDA runtime path found: /usr/local/cuda/lib64/libcudart.so.11.0\n",
            "CUDA SETUP: Highest compute capability among GPUs detected: 8.0\n",
            "CUDA SETUP: Detected CUDA version 118\n",
            "CUDA SETUP: Loading binary /usr/local/lib/python3.10/dist-packages/bitsandbytes/libbitsandbytes_cuda118.so...\n"
          ]
        },
        {
          "output_type": "stream",
          "name": "stderr",
          "text": [
            "/usr/local/lib/python3.10/dist-packages/bitsandbytes/cuda_setup/main.py:149: UserWarning: /usr/lib64-nvidia did not contain ['libcudart.so', 'libcudart.so.11.0', 'libcudart.so.12.0'] as expected! Searching further paths...\n",
            "  warn(msg)\n",
            "/usr/local/lib/python3.10/dist-packages/bitsandbytes/cuda_setup/main.py:149: UserWarning: WARNING: The following directories listed in your path were found to be non-existent: {PosixPath('/sys/fs/cgroup/memory.events /var/colab/cgroup/jupyter-children/memory.events')}\n",
            "  warn(msg)\n",
            "/usr/local/lib/python3.10/dist-packages/bitsandbytes/cuda_setup/main.py:149: UserWarning: WARNING: The following directories listed in your path were found to be non-existent: {PosixPath('http'), PosixPath('8013'), PosixPath('//172.28.0.1')}\n",
            "  warn(msg)\n",
            "/usr/local/lib/python3.10/dist-packages/bitsandbytes/cuda_setup/main.py:149: UserWarning: WARNING: The following directories listed in your path were found to be non-existent: {PosixPath('--logtostderr --listen_host=172.28.0.12 --target_host=172.28.0.12 --tunnel_background_save_url=https'), PosixPath('//colab.research.google.com/tun/m/cc48301118ce562b961b3c22d803539adc1e0c19/gpu-a100-s-3mymsey15fndb --tunnel_background_save_delay=10s --tunnel_periodic_background_save_frequency=30m0s --enable_output_coalescing=true --output_coalescing_required=true')}\n",
            "  warn(msg)\n",
            "/usr/local/lib/python3.10/dist-packages/bitsandbytes/cuda_setup/main.py:149: UserWarning: WARNING: The following directories listed in your path were found to be non-existent: {PosixPath('/env/python')}\n",
            "  warn(msg)\n",
            "/usr/local/lib/python3.10/dist-packages/bitsandbytes/cuda_setup/main.py:149: UserWarning: WARNING: The following directories listed in your path were found to be non-existent: {PosixPath('module'), PosixPath('//ipykernel.pylab.backend_inline')}\n",
            "  warn(msg)\n",
            "/usr/local/lib/python3.10/dist-packages/bitsandbytes/cuda_setup/main.py:149: UserWarning: Found duplicate ['libcudart.so', 'libcudart.so.11.0', 'libcudart.so.12.0'] files: {PosixPath('/usr/local/cuda/lib64/libcudart.so.11.0'), PosixPath('/usr/local/cuda/lib64/libcudart.so')}.. We'll flip a coin and try one of these, in order to fail forward.\n",
            "Either way, this might cause trouble in the future:\n",
            "If you get `CUDA error: invalid device function` errors, the above might be the cause and the solution is to make sure only one ['libcudart.so', 'libcudart.so.11.0', 'libcudart.so.12.0'] in the paths that we search based on your env.\n",
            "  warn(msg)\n"
          ]
        }
      ]
    },
    {
      "cell_type": "markdown",
      "source": [
        "![image.png](data:image/png;base64,iVBORw0KGgoAAAANSUhEUgAAAhMAAAChCAYAAAB9Pj1zAAAAAXNSR0IArs4c6QAAAARnQU1BAACxjwv8YQUAAAAJcEhZcwAAEnQAABJ0Ad5mH3gAACwySURBVHhe7d0PeBTVvTfwLwiu/AuihmpLrkXSFoxWTFvp8lhdXgqhSIJK2FpzQyWNlRQssXkUzKvE6CXG1iiWUF4hpZqYx7LkVpO0mHjLm63lIbVK5FVWq6xecdPqzaqQ5V9WgvOeM382s5v9lwwqge8HNrszO7M7u/ubc34zc+bMMEUAERER0SAN1++JiIiIBoXJBBEREVnCZIKIiIgsYTJBREREljCZICIiIkuYTBAREZElTCaIiIjIEiYTREREZAmTCSIiIrKEyQQRERFZwmSCiIiILGEyQURERJYwmSAiIiJLmEwQERGRJUwmiIiIyBImE0RERGQJkwkiIiKyhMkEERERWcJkgoiIiCxhMkFERESWMJkgIiIiS5hMEBERkSVMJoiIiMgSJhNERERkCZMJIiIisoTJBBEREVnCZIKIiIgsYTJBREREljCZICIiIkuYTBARDRkBuCvzkF3SBL8+JjE/XAWX4JIC1wDmIRqYASYTQXibK1C0YAamXSKC85JpmOEsRs3O0ztEOyrlZ424XTYD2csq0PR6QJ+qP199rpj2Wmx4TR8Rwd9QoL3Wojr49HFRfeBCgfq+BXB9oI+jpPh31qDYaYrXBUWoaPYg0KtPoIv6G4em94rIN3SgQj4Xq2B+uUKdt+Jlfbgfff6I27SZ2SiqbIInZjgF0V4+TUxbhKYD+qgIxmeYVt5uWt4oxDJq30eFWBr6woXWb9PtW3NFPLjQEWV9D77fAe8HPejRh4lOBQNIJoKisMrG3JUuBK5cgYdq61Ff+xBuvehtVC25BtnrO+IXYAN2qmXTWShVP7N+e/BWTOmsQ/GCXFFxRPvkHjQ9LotqH6r/lKDIfqUGTTESDsm3wwW3/piSJeN1LmYsqcLbFzlRvlmP12+IuFqZjdyHo8VrxG8sp5/SibqVc5FdeZLje36p6X3q8dAtU9D5VDGyF4kK/og+jVnAja1PyiVoxbM74q8RwSdr0Roj4VCTkj/VneR1lU6GjIJ1oXjYcncWbDvLkPv9bFSFlS8pyHrsDbxR70SaPoboVJB8MrHfhYpNXmSWNaD+gXzkXG2H/eocFD7WjOayDHgerYBrvz7taSkNmepn1m/ZhVj3bANKJnlR85vG/gnPa264OjNQWJCF4FONaI9ZettgG+2Dy+3RhyP0akmJbbRNH0HJCO6sQJ6IV8cDz6P5sRI4Z+vxWtWA5l864NuUh4qdkT9KxG+sxreI95+mw7vpJMf3pEzT+9iR89N1aH66BGlv16D6uf7JQuAvz6IJThFPaXA/3RJ7T5aIE5tIOJ7bGWMXx4FW1IqkhPF06kmd2hcPjtwSUb68gC03BLDhliI0cY8kneKSTyb8PnWXaGZGujZsku5wIuvyILz/8IutQbkrthitEWWZZ+O1YrxpF+0H7diwbC6mq7v1pmOuPGTwlla4a7trZ2C13Bx3r8YMMU1Bg6mADXjgujcXMy4z5t2AdtPT2uGDArheMb3HZTOQe28TfL2ionnLhTJj17fcnbi+Hf6I3d5JGZEB+3xx7/ZGFO5i6+8P1fBd6UT+8h8g62gdtu6Itf86HytuS4PvcVfUhCP4NxeqO9PENPn6GEosAPc2sfU9uhArfth/+y3t+lvFtx5EnTuZnfw2ZC7OR4aI/raX4u8RsOxyO7LEndsbmSr40PhEK2w/XoiShWKLVO7Jel1/KtJVK7BCxGTrE41REw7f9lqRamSJeLLrY+iUNSIVjtXlcB51o2qbsbERfY+tf+cGFM2ZLso9vUyrbII32h6uEG3P3SWXiXLytN4IpM9L8slEqthqE3d1Tzf1r3gvdmJjYzPKs1KRed0KsX3XFLFl5EVHiyjasq+HY4IYFFtHxd/PQ/XHWbhf3a13P7I+rkPxvGxsEIVk5u17sGe3eD1Z3tnL0bx7D9Zlp6qvhCMdqFiUjbI3M1HymDFvNfJmiQQmbNduO8oKK+D7Xik21m5B5U1p8NQX499vzkX2jS7YnA9hixx/Qwrcj+Zh1bODqSgC6OwUd5PGiyrHJNiBlm1BOH40D2kTsvDDPKBpu1tMHZ09pxCZIuGofT5yCpGUtIpK8cpC5LDsHwAv9u4QdzfMRMYIbUyYEXaUvvMO3rknyS91jA169H22DnSqCUDa+Ii9BvvdaHzFhvzr7LBdnoXCy31w7YixJ0ssadZN+bBFPXTmhdvVIZKSJci6SB9Fp7YxdswT5YdvmxuxfvHA9mJcs6Qa/vn3a4dJ7suC/6lizL1+AzwxNpJ8DUXI2wQUPrERzov1kUQWJJ9MXJyPR3/pAJ4RgXtNASoa2uH1R9mUnuaAc5KoPNtNx5j3t6NRFGw5WXakiEG/eyuajtpR/khJ6HBJye9EUIvCrrpVbC2OSUHKhImwyTJV/Jk4QQyr5avIptffgZpgIbb8rjS061rOmy8SmIrfm1e3icivbkBlnkNMI5bpnnpszBUr0ct+ODbXozTXGF+J0svF1mBr+8DaZgT98DxZjFXbAcfPcsSWa5/Ajq2oO5qF62fLKsgGe5Yo3MUWYWPULQAvOkcvxBK5NflMS/gyiKRraz2QdctCHh8diGAAgaPiXsTRydiZH/R6RGoqKvkLZPR+NoJ+D+ruWoVWOLA82xxNgGd7DTomrcDC6XIoHQ5nZsw9Wfi7D4HvOrFiUpS2Oq+1oua1NKy40Y7x+ig61dmQMkbcdXb3ladh/HA/04Sg2Oh69I4c9RCJPbsE9Y85gber0RKlLZavoQBz72qH/Ze/Rem3T8YaQjSgBpiiMM3dghf/uA75GbLgy8PcGdMwbaZILMyt3UdkiC1yUfXVt4UKO/9LbehAFv6XXSuMU1LTxCrSCY/HVHWOcaBSbC2+cYfc/xFDrwctT/mQ9qOFsMsVzDAmEzNni5XkJY+pMp6C9MnmFUWslOfJ+yzM+o55fDoy5AbqiURto2uQqx6S0W/TZiD7Vx7YVzdj403mqj4A9/amvr0wgu27C5E/ugONO6PteAZ6TqRoW5NuF1pMCYe2SzofP5ybAr/Pq4+lhA50xW5TMECB11woK69DcMpyLLSfxIJ3kzzTpy+eps3IRoXHjtJGkVSLZDxExLz7aRnzjtBelrTZTjiOilh5KUr1clSME+tgzm2ZEW119ENvlxciSyTPPp9Mj2joS0HqJBGXPg9eN7WrsM2uxDvvvIGSK/URuu5XqvATmUhUPI8tudxEoZNnQMmElHJpDko3v4g33ngRz28uhzO9AzWytftdraGKPONa2dK4Dm1qSRZAx1/dwPwfmCrXFdhYkAJX0Qzt+N69NXC97EMwUbuFD73wii1O36+ywwpi2W6iqFmfJgm2aLu+EzK39K9EvizwryrBQz/NCN/63d+I2u025C92qHthVCMysfC2NHQ83hRzV6WRcNQ06VMYDS9/PA9qHXZCG01JmDAxyp4c/VizOW76nSkUkTCK2/SFq9Foc2Lj70qQeRJzibCzOSry1eW1/+IhFF4e/iZam5lMFM437a24cB6unx9E3bbYh860hMN06ExveJnpdIj0WQhGSURoCLLB/rONKExxoWimiNc5RSjb5EJHZ5Tf96MWVNy1AV7YMe9qJhJ0cg04mQixpSJ9dj7Ka/fgLw844G0oxmbj3PpL5XFdwPWXDgQD7XhOVPRZWebKNRWOe5qx58XnUX+3ExP9LlQ4r8X061ejNYlWy+ZTqMJut2uHUT4b5pb+TpTcmQW4N4jPHL7S+nY2Qh7gqVsiG6L2VUrZj4pt5U4X3LFOAdUTjtDu6zfk2SDaLumTWYedEWwpSBkt7o8ETLuGU2C/3YiVUrWhY3+Rp4Y24Pldb+CNP1Yiy7S3wCZf2yrz2Rw3laBkvginX29GR1g4BdGxwyX/omyWOcmZjuLt4unmZ+GOdQqomnD0NcQM7HxObXi5ZD4rkaElAP/74i6yXZZZqgOlz+7Bi/9Vj9LFE9G1rQK510xHdmnfBp7qtXbgtgasy27H6pV18A6m0TlRDEkmEwG4/yMb2Qtr1DM6IqXNngeHKPK87xqhmw77jRkIbmuB+y+70CQKsR9c3VfNBwMBBAJBkY+I6XILUf5/nseetnLYX3eh+Ok4Lez1Lc7A+Cl9BbH5dqU8fPL5SPnBCpRM8oWfFmrsTbih3FQhGbd1asO56j/E7lAoQ2+I2dIe0M8GKUSOSMpooDIwc7GIhGfa0B5q0W5D2pVGrGRG2XMhRZ4amon0CyMjKg1pV4k78SNGOzAW6OoSf9MwfkAJRwpybitBWmcNqptNxb+xN6FoY5R4kgmReH57rAM6+qGzV0QC+7ZxNsgSZOl7B2mIOODGs2JjLG2xI6xdVkhvEIEDojw9YUPqFDucPy3Hxv+SG3h2eH5fjNpX9OkkeznKczORc9865LxZhp+d9L6B6EyWZDKRgoypqfC8Jiu6/uEX/Ef/BmrydNHMoy6sus8VdohDTUzunY7pC2rCWxpfbMcsUXHG3ftqy8TMXJvYet+MpvD90wiKrLsj1j7fz8KIDOSreyfKUG30V6DuTbAh/0f5pgrJuOXAqSdY4VufJhdrDTHr1hegSlQibHg5WDbYF69AukjMKta39+vt0ppUZH43HWiXlbQ+ytDrQ0tDk9iKdMLxdX1csi7P1/ZO3Fcdaueg7U1wwJmfFSWe8tWzhDr+4I7ZPsSmNsT0oOauO1DzCvdyDTkinlyyUe5oB0oWR00lgKNurPnWdGRvCj+AmvbdWSL5CCJoPjwqfvxz5P2ELPzvBxzwrV8d0SEW0eAlfZgj9fpyrJvfjZq8Gci7tw5NO9vRvlNUno8WI3dFHTC7EoVXm4qqix1YeKXMmkWlaD7EIR45blmO9M4q5BVsCL1OXekdqHhNVMRXGytNCtIuFq/39xa4dohp3pKZgtja+nm5KF6bUHxzEWqa5bztaNpUhOyFBagWW2mf56qh7Z0Iou5RlyjQ9QZuo/MxT21131/61U5kRD0F1GBsTXagQ294SYN06XL8tioLXZvycE1BGer0WGlvrkPZkgLUiJI187sZprhMXnqeiPUpHShbmI3iTU19r1uQjdXudBQ+Uhj9lNS49L0TIj6qGmR6oO1NgGMeZl2oTRFOJEyz8+P3nqo3xPSJeDIaXtKpy/8PPUbFzd1QgYJr5mJ1ezqWP7EROVFjQEhxYMnt6fA9moe89Xos7qjD6pUV8IiySG6gRZN6w0N4aLYPNb+oMu29Ixq85NtMjEhDzroX8PzmFUjdX4c1S0TwikK5YrsfU35ejxc2OpEWVoCmwbFYniYRfohDsl1ZguaWdXCObtRfpwjV3ikoqX8B5aGERBSWP1mH/G90oOrWPBS16mcziK2+LW31KP2mH5vv1pZh7Z9tcNa+gC03fX6HOVTG3olXKlDT8oLat4Tt3+chM1ZFIndDipW7tTV2wzmtIaa4Nxpe0qCl3bARL/xRxlkHqtVYEbf76uBNzce6P76IhsjGs8kak4nS515E/c+noPOJVdrr3l2NjtG3ithsHvzpdvreiY4Ha+DeK/uWELnE/Fkx+7iw2WeJlDNO76mC2hBT3IcaXtIpy7OlWIslcSt6pB22nHI0/LkZJXHjSSTFdzTj+cecSGlao82/shreb5SgXh46jjlrKnIeeAiOj2tQUBql7yCiARqmCPrjk0xsqZdPR57/IeypzhnUFiARERGd+gZ/NkciR9rVLfXwQxxERER0ujn5ycQBL9p3uFCxtAh1Fy3HrTzuT0REdFo7+cnEu60ounU1XCecWFdzkjv6ISIiolPOZ9hmgoiIiM4En12bCSIiIjojMJkgIiIiS5hMEBERkSUDSyZ6/WhfX4TsmfpFrOQVP9e3D7zDkwOtKL5MXrCoIuq1PqKT/VZMw7Ty2Ne2kIJvuVDmnIFpcvkum4Hckhq0R3S9bXyOud/SLpw0bWYuyho8SXW77Nl4rX6xpchb4s8SeL0JFcvmYro+z/Q5eSje1P/78zcURLy2vE3H3GUVaHr98+wzfGgLvG6KBfX729A/FqKJGh+my+wnY38dci/JRZ3pkvJxxVknvpDPIefdVIxcY10X61J2tPj7wIUCdbnCb/LqlRXNya1TJAQ8cN2bN7AyaSDlqPF76q8/fVExapIKIpOBxPQBL9zy/dbHWbLeADzNVSheopWJBQ0xlkcue30ZihZo60CFcUHJeCJiX4tHxv5nSjbATMrx95SthVOVyZk3K2u3tSm7/rpLaXtqlTJn8mRlamGj0qVPlliP0naPeB0x3+TJa5Xd+tiEetqUNZOvUapf1Yej8VSry3NFfrXSKJZv159rlVXfF+/zffE+h/VpTJ+juklMY/occx7ZLZYuvt0Pitf73lJlzSMPKw+H3VqU9/Rponlv21Jlqrpsa5Ra9X3blK0PLlWuypDf31blveP6hEKXmHby5AXKWn351FvTZmXldfJ7m6NUe/QJKTY9FubctrkvFuT3l7FGaTNiIapupeXncrpFoThv/PXNyhXitRY9sU+fJrF9TyxQJi9vFK+WjDjrxBfxOQ7vVtbK9SZjgbLyka1KmxF/N16hxt/al0xryftblaXiNRc80NgXq39tVDb/fIEa73N+s1efkGLSv++p161UNuvrfOMji7TvL2aZNJBytEeUW3PU327VUzIW2pTaO7XhsN8ygWRiutvbpmz+xSI1ztRlezDGkh3eq1QvlvF5lbL0nlo1tnf7oiyLr0UrwzMXhWJx38f6czEZsb9A/7zG9zlVWbotXiktMPYHLelkovtPK8WX2b8y3/fEIm18khVcT8fDonBcqixdmsxK0Ke7aZmoxKuVvaZKN5xcucRrRk7jrVUWiR926TYt3elpWxP9c/xWrCiTVyotcUv/LmWrXO4HdunDSXpXW4ZrxHzdEcvf89JatbJY9FRfkGvJxFJl6/v6CMPhNmWVmHbyPW0xChjSxIgFfeU3f9f9iHhZIKZZ1mQOBFkYXyMKmDXKrmS++OOioPxe5GvEFnud+CI+R4+y6z5ZSS1Vat/VRxmMRNw8v74sxvrVRyz7nfLziKSHwRrX3t+I32TyMqUxrJI0koXoZdKAylGRkF4TGQvyt5Tzxi1TTZKJaT0WrrhRJEV/FknFzeL1oyYT+mcTG3m74q0ix/cptTf239hKKEbsq++ZIb6rmK/F2Lci6cMc3lebxN8s2CMuHJOekSn++tB9VBuOq1dewXADUspKceuArqroR8szrci8LSfOBZQC6PqnuLs2A+nmaaZkQC6h26tdWzE4Nh3Lby9F1jR1MCT9m/I6In50xz2K0I3gR0Da+QPriMuzXV663YHlhXakRCy/7dv5EKPRsb095tUfQ8aIzyIvtPDPrpjX9iDJg93PiN/pR47weLnQjnnyu/776zG/P/+rbWLuHFx/rfk3tiHz2iz1Co0dkVcKjWZPI6o/zseSZDpsi7tOfAGfI+DG1ieDsP10BfIv1scZRqTBWZAv5q9DW8L96jZkXCWD1YeuA9oYisYPz0tizXfMgj3s8vDi+7tClkmB/mXrAMtR36u7xK8QceFA8VsuXCJ+y04X3G/p4+JJJqYn2FH6whvY85/rUDg7Aymx+hja70J1fTpKN5TCHuflgn+rQ8UrTmxcF3ndpwQO+ETsZ2DmpeGxr36fR73wfqiPisTYtyTpZCJz9Tt4551StWI2Cx6WR6EcSJ+kDcfjrS9DVbAQpTeli697APa3wOXOxMKr412Q24bx48TdO13o0kZoggH1OFnGRVpgpYjKu+SOrPCEQ/C/Ky8klorxcYJbrtg+eYXGjs0omjNdPT6W+Di0H293iMLi8lnIjHrlPxGk9eK7rRcrjD4mpt4u+OVijhs/sO/vTOPvhEcUwFNSJ+ojDGlIk0nkIZEUaiP68b0rL6Y/EamRcZCWDntSSXMQ7X+qAxbPS6rDtrjrxBfxOd7ei1Zx5/xujEte20tFOfAOSmU9l0DX+zJjScH40dowRZMK5xax/m9x9rugW/cRPzA6HekX6CN0Ay1H/Wos2PpV7jYRCxmywuuKXXppkoxpW5qoBxIvkdftQsckB9K6NpjK0QJU7DBvTon3bK1DcH4GbM+VhdovyLYeda8k2JQaPV6sIR74wioC/fsUz0wMS9pMGPuWWDubo9cL1/o62LJ/iHmxLpFr+KAJFb/yIP/+gfeK6WkSW/bzl2BhZLYYRr+0eXsZyn4vKnfZ+KXXD3dlBepG52BFTuxrJgZeq8Oq+9xIv30JHPGSiQ9EVivuut4XIXnL/ah/rBzOdC/q7pqLvCf1q5r2041uGdTni2RHGzE4QR/ca+9AVWc6lt/C653EdaJHf9CfTSaRbq8oQmMIxihYxXwybL3vJmi0dqAVtU9OxIob7YkL+kTrxBfwOYLdWvJtGzvAldSsNwjfjjLc8agv8TpF0R1xo07ERvryheFXIR5EOZpykawcgwhEhsQYm5rA+D5MUDkPJKYTCqLT6wE6RSKxrA1pt61Dfe0WlF7diZpb56J4u7EsPvheFXfby5D3eBfm3b1FTLcO+We1omxRLja8rk0V1aVOlMy2oWZNBdr1PQOB1+vU7y39TiccMT4EY98aC8lEEB0P/wxlbzrw0N1ZCSq3AFofXIV2+0NYEeuXjKXXA/c2H3LmJ65A5aXN66uz4Cmdi2lfvwSXfH0GCrZPQvkf1iGrXzbagQqj9e3CMnTeJIL19sz4K8uFTmx5bQ/2PLsOpXk5sGfno3xLMypF4HaUV6M16jqp780YMDdWzzS1Ep52LQqeBAq31KPkSuurNH02AjufQ+skUWBFHA7sz8I68RkKfBgzPYnLfdeMvlj9+jRce6vYki1IYp2i/np9cBVr1zaqLDBvJQ8uZtIz54nt8TpsfT68gPJud4lSRiQbo+O/VvIxnQz9cDQcqGxpQGmuA/arHciv+C0qHUE0VdZBu6C+Xm5OKkT9sxtRmG0X0+Wg5HdbUDjJi6rHW8UUsaQiZ10DSibUIM84m2OBLOPr0XBrjL0OAmPfmkEnE76GIuRtEpXbExuRk2CvRNBdheLmDJSuzum3Ky+R4N9c6rG6H85OnOIFX65CwV2tmHhTObbU1quZbMk3OlC2vCyUofZJh1Odph7rxHLZfl+EgvUdamYa15gUbavQYBxLQxN2Rz32mIK0KCthR6UefKFb5OldGSh8TFs+7bZFFCwpqCuYg6JnBhf09FnzofEJvW2PPiYWK+vEZynlgigH26KcAhd5Gl9GgdzC7IvXLb8sRMrvCzCnuAk+nh46AHIj7SdY3W5H5e/C9z4MOmYu17bUW+/Ow+p6N9p3ulFXmo3cpwMiyQAmToxXtiYf0wPimIdZ5kPjohydle0AOnfD84E+Tpo/D/Yx+mNpjB3zbhBfSvNudS9xVCIZa1qVh6q37SjRy9AtDzhFGV+A4q2xD0kz9q0ZVDLhayjA3Ls64Kj6LUq/nSD3Cnagak0d0u4sR/4UfVzStONmE29zwp4oxZONkn6xAd4bNqKhIh+Oq7VMdvkWkf2OrkPBryP7p0hBujqNHTk/XYeGaie86+9ATbzdZ7Gox6FjGY/x8pD3R0F0ayNU6TcawbcOhVEz/lSkf0dbPu3mgPOeemzMC6L13hq0J8x6zmBnnaM/6E89/OVIVwvRqGwxAk3MJ7/y9K/GKcbfdsP1ShaWzE/Q+iXZdeIL+By28SJZFvdaWyjdBDtWGIXlPVn6yHCpU82xaocjtxT11fkIbl+Fmr8xWJMjEolKUck/ZcNysZHmNFe2lspRuaXejEpRCbc9WIC8ZavQllKC5vuz0CVKrvR4G4PJxvRJkCrKUblHItYROkNamixtoxy20QWeq0Dx9nSUu+qxXN2jIeIxrxINjy2E+97VcMXoJ4Oxb82Ak4ngyxX4yV3tsP+yGRtvSBxg/u3VqOkEvL/KDsvucjfJZ2uQK4crYzSPPdCKrfViy9+RRE78oQe7xfvYr8gI37U0Ih2ZIvaCT8rW7SIRaq1C1aOt/Y4126ZmqA3Tdr8Z+5i4Ou8mN/pN8YEXsolTdKm40pEJvNaIdlML+pSv9wVf+vn6yISMFsk++PrtaaGQ1EnIGA20+yJ/ZfG9vSHu4jRgTfuqLKi86Iz8kX3yN06L26DKs70Gnvk/gCNWAy9d0uvEF/E5Lp0Jp3jOtcOUfNvSkGkUlt9MvlLR1qkgfB8kOCZPqr69vQ0oidhIs1SOSmPS4XygAS/ufQfv7H0RW1Y7EHi5CcFJM5ERp/F8sjGdPLGR9HXx2f7u7bfVHuiSjctEha5+9DSkyxMi3vL2K2+7/LIg7d+g1OD1yGaUmciISLpsGZlwoANtL8Uo4xn7lgwomQi+VYeiW+pgu11sIecm98WmfGeFvgUefiudL5/NQqkcvjF640jf9lq0XlmInGSO1U2YqG6lvf1+RBPeXi88L4l7fSvunEMebFi/Ge6IU+OCng64xRTf+kbsLc/xJ3zYUFmNlrB5g2hvEcE7Oh+zYixn2vxbkTO6AxWVLou7vYLw/D+ZtsRpkUxCBmYutiH4TDs85u9bbmWJr8/xvcyY7W9SM2eJYsiN5/5mLgSCcG+vE79xFuyxTsULtsP1eBfyb0rUfmgg68QX8DlsdjiXpyNYX4GqdmsFYfAfHjXJTrsg8SHKM53fXSY20mLv7bVSjkYjy/IqEa85q/NjH74YQEwPRMbVTtiO1qE2rA2HHy0NTcCVs2BX95Skwj5bbIS5a+Ay7y0OdqDxaR9sP54Vc7m1Bqc+dEZscGnxaIu9d5Gxb43e30Rivq3K0ozJyuTFDystod6+zLd9Ws9ob9YqizKvUFbF7/1J60kybmcr76kdlsTtmCfC3t/IXt2mKose0Hsu+2ujUp0f0XOZ0cOZuQfMbWuVRWpPlKaePKN9DtlxS8S8yfas1vPSw8oC+R7XrVQe1nsk3PXnrcrDRm9pd7aE3jtqD5jsVXBgvFpHYXF7QxUR23bPVcoV1202ddxjdG4zsN7zev66RpmabKdWMURdJz7nz6E6/p7SuFyuN1coN+u9E6rzP7VGuTlTvHfGImWzR/+gesc94b0AimkfX6nG++TvJ9kp0hnM6Ljuql/U6uVWxK3jPfFrRtc/ZqLFgtSjvNchXkuWOWoPlVOVBQl6/LUW03oHf1E7repWWu4U8RWKzRg9corydrPs7TVU3jYqD6u9Zi5Vtvr0aaJ93o9blJVq7C0L9SgqezlWy99EHWAx9gct6WRCq+Bk4Ma66QH95mbxRYoC6w+RvYKFS5hMvCp7bYvsFS6RHmVf01pl2XVXqZWuDIg5t61VGj0RiU33XqXxwWXKHBkcYrqp9kXKysd3KV3mHz7W5zi8L2zeK0TArm3aF3elDHl/l7L5FzeH5pVdyS64bY1S+9fw94j+XU9VrrpuAO9FSs+bW5U1i82xUK3sCvuqRUF0tyg4vv+wstv8pR7vUnb9Ojw+1myL9713iwJosnLNr60lebHWic/vc5gc71b2hq1LMtZvVlY+0qjsNa9OeoHaF6fGey1Qlj3YqOyL2+U3SdrvHue2dGvMyxVETSaixYJRuWfOEWXOWmXrS7Fe0WA1puMlE0JYbIqybfFKpbYjygaoKG+33rNIveyAUZ63hfVOGePzdoWXtVHL+FgY+4MyTP7Rd1KcUjzrr0W2txR7Hju5u9iITroDTSj6VhUu++NfsPxSfRzRUMaYpgE6ZZMJIiIiGhosdFpFRERExGSCiIiILGIyQURERJYk3WYiGAzC7/fj2LFj+hg63Y0aNQqpqamwxepN8RTFWD3zMFZpqBiqsZpI0slEZ2cnxo4di3PPPVcfQ6e7gwcP4vDhw5g0KYnry59CGKtnHsYqDRVDNVYTSfowh8ycGfBnFvl7D8UtJsbqmYexSkPFUI3VRNhmgoiIiCxhMkFERESWMJkgIiIiS5hMEBERkSVMJoiIiMgSJhNERERkCZMJIiIisoTJBBEREVnCZIKIiIgsYTJBREREljCZICIiIkuYTBAREZElTCaIiIjIEiYTREREZAmTCSIiIrKEyQQRERFZwmSCiIiILGEyQURERJYwmSAiIiJLmEwQERGRJUwmiIiIyBImE0RERGQJkwkiIiKyhMkEERERWcJkgoiIiCxhMkFERESWMJkgIiIiS5hMEBERkSVMJoiIiMgSJhNERERkCZMJIiIisoTJBBEREVnCZIKIiIgsYTJBREREljCZICIiIkuYTBAREZElTCaIiIjIEiYTREREZAmTCSIiIrKEyQQRERFZwmSCiIiILGEyQURERJYwmSAiIiJLmEwQERGRJUwmiIiIyBImE0RERGQJkwkiIiKyhMkEERERWcJkgoiIiCxhMkFERESWMJkgIiIiS5hMEBERkSVMJoiIiMgSJhNERERkCZMJIiIisoTJBBEREVnCZIKIiIgsYTJBREREljCZICIiIkuYTBAREZElwxRBfxzXvn378LWvfU0fojPFUPzdGatnpqEaq+d9+QIYhbC5OFb0seq4YepD/flhUcaFTycGtDv1ryZsOklMax6nPox8TdMrRI4bJv6p40yvIxnjTnz6KboOf4RzzxmHc0ba9GcH55Pe4zgUPIJzR6XgrOHaNnDP8SAO9hxC6pjzwsYdOBbAxLHnh8aZl23YsGEI9BzG8RO9OH/MufpYbb7eT09grG20OmzMI6c3fHTkIEaeNQIp54zVxwBHPjmGs4YNVz/fp2Kew8GjGDXyHDHdWerzxncg5zn7rJE4oXwqpvsU446efdqVUUwmKC4mEzRUDNVY3XN0n3ikVVpGRRx6LMnK+tPI8fr0pspeMuaRz/Y9Jyv9T/XHcnw4Yx7jvUPvKxjjtMfavWSM197HNI86v3ygiMq5F/v8+/GVlC9h3Dlj1KcH66iotGWlnHbuRSJJ0CrqQz1H8K9DXZhy3r9hhF55HxKJwj8DXUg/X44boY6T5Hchkx+p69BHONYbxMUTvqwOSzLB+OTEcVwwZoI6LD+POZGQ9h/4F0aNOBsTx12gjwE+PtotkoQRIgkZg09F4vDhkQNq4mAkT70iafF+9B4uGpeKMWePhkgl1GTiB1+ayWSCzixMJmioGKqxenf7Y+pjWdmp9Zesp8UDtTJTH2vPaU8a05mfV8doz6l3wzBcn1adWp1Oqxwjp1WHzOP12Yzx2mM5rf582GOjwtWnDVtuWX0ramUrK1fbWWer8w6U9vpQK/rDnxzFhFEpoeUInvhETQLOH32u+LzaXohg7ydqQnHemL5xkjk5OCJeR+6ZkHs5DD0iuZCV/OiRo/Qx/R08FlD3TMikwHDseA+GDx+ufj75HkeOH8U5I2wYMVxLZIzvYMKo8WK+URgpEqGRZ43Ewq9cy2SCzixMJmioGKqxet5XUvWhOMJK6f5bzYnEnT6iBjiZr33i0xNqpT7Q14wkqyn5LzJBkAmAsadCijZdJHUacZNJgEEOS/GWU+55kM+bp4mcTw5HvoZcRmN51OfELP/je5/JBJ1ZmEzQUMFYpaHidPzdY6dvRERERElgMkFERESWMJkgIiIiS5hMEBERkSVsgHmKkD+D7NDkkxOfIHj8E/VUKP+Rj3H0eI/auYrxM8lzq+VpTaljz4M8/UttKa2emtXXori75zBGDD9LPRXJcPDYIfW0prHyXGfxWt3HAhh7zhicPXyk+rx87wPHutXTnmTnKrIFsmwVHfQfYaM2GhLYAJOGitPxdx9QMvGv4QfEHMbpMMPUykalv4R6Uo7xWN6HpjWG9R7T5LA+b9+wRh1Wp9UeG89rw/rzWp3Z93zY+4g/UecVj/XnpNDz5mn15VP/6ffaf21YVrCSrIxD0+mvpU4l7mUlLjsskT2jyWFZ2cvOU2SvaDIJkM+PHD5CrfhlwiDJ3teO9fao50ibyXOYZccv42xGj2uKSCaO4rgYd97o8fo44/3l4msfTj4vEwz5XgZ5jvaIYdqyyc8hl0+eDy0TDEm+Rq9yQu3NTS6z9ooKFn556J0PLWPVP/KQPnR6URPBHpEInj0m9NsNloyto5/0qB0KGefuH5fn8wePYvyoFDVZlWScyvP5z1PP59dXoAgynuTrjT9nnD5GztcrlveEGmexaOfujwxLfOX6IHsvlOPlGnZMDNtGnK3GpiS/g4+OHBDLOE5NfA2px8cxmaAh4YxPJv7T93/1Ib0C0ytirXjpSy603tZMyYZgfhv5MOw5/XFoGv211Yf6H1GViwd9yYh83qjU9UHtsV7YaY/1e2NYpS2XNtz33JHgMdhGigJLFGLac33TqcPytULD6lyh8bJzOjlS/pMFvEwc5B4EOSwLaXketCxQT4iCVU0uxLBMHD4+dlAU0BPUc7FlASp7R5Odn8ge1Wxielnxy8RDfk71Y4n3kRW+7KJVvobam5p4rC6Tugjqgon3F+8lxhvJipFkGM/LZZZCw4KsJMbYxmjLIZZnmFhOOduPp2QPyQK66V8v6EOnF9nl7/4D/8SXxl2g7mWyQvYq+PHRg7gwZWIo8ZSJxP8c+hAXn/eV0DiZSPyz+3+QfsHFYQmMjB8jtuQ8stL/qpjPILs/lt0gG90Wm6c3/PfHner6cqGpV8GDx7rFe+u9Cop5Doj1RCbURuIgk+W3uv4bk869MCx5yfnyNUwmaEg4o5OJzs5OvHpgH/Yfel+tZGShEPqnlg/yvm9Y3qu74OU4dbw2LjSdPo18PHy4GBBLIYeNedRXVKdTpxL/+qY3xkWdRjwOva/8p05mPNaG9SHtsfgjK15ZQH9ZFKqy0JKdmcjK9SyxJS/JBEO+pnaT8w0PjZOvY0wv/orC71M1URhtG6UWnjJRkHsYZL/uo84+R31OFuIfHPKr3ax+b/J31IJUbvWNE4WneW/CF+3gwYM4fPgwJk2apI8ZGmSsdnz4BvZ1v6ePOX0MuWRCJLSyh0Lp5CYT7+rJhLbX7mvj/w2ZF0wbkrE6duxYnHtu33Ui6PQ2VMvVRJJOJoLBIPx+P44dO6aPodPdqFGjkJqaCpvN2kV6Pm+M1TMPY5WGiqEaq4kknUwQERERRcNTQ4mIiMgSJhNERERkCZMJIiIisoTJBBEREVnCZIKIiIgsYTJBREREljCZICIiIkuYTBAREZElTCaIiIjIEiYTREREZAmTCSIiIrKEyQQRERFZwmSCiIiILAD+P1C0U02EdZaLAAAAAElFTkSuQmCC)"
      ],
      "metadata": {
        "id": "LKp8r9pZSV1_"
      }
    },
    {
      "cell_type": "code",
      "source": [
        "gc.collect()\n",
        "torch.cuda.empty_cache()"
      ],
      "metadata": {
        "id": "ysbG6i5aWdG9"
      },
      "execution_count": null,
      "outputs": []
    },
    {
      "cell_type": "code",
      "source": [
        "model_name=\"ChanceFocus/finma-7b-full\"\n",
        "config = AutoConfig.from_pretrained(model_name, trust_remote_code=True)\n",
        "model = LlamaForCausalLM.from_pretrained(model_name,\n",
        "                                                quantization_config=BitsAndBytesConfig(load_in_4bit=True),\n",
        "                                                trust_remote_code=True,\n",
        "                                                load_in_4bit=True,\n",
        "                                                #torch_dtype=torch.bfloat16, # additional option to lower RAM consumtion\n",
        "                                                #device_map={\"\": 0}\n",
        "                                                 device_map=\"auto\")\n",
        "\n",
        "tokenizer = LlamaTokenizer.from_pretrained(\"ChanceFocus/finma-7b-full\")"
      ],
      "metadata": {
        "colab": {
          "base_uri": "https://localhost:8080/",
          "height": 226,
          "referenced_widgets": [
            "6188adeb948d47de964a203c8adf856d",
            "72aa2e0ea8de4e318ead92d37fb854a0",
            "cdaafc711acc45fdbf756c5390252ccd",
            "5425b167354d41938d3d06b83c5824f6",
            "f4d8257fa4eb435aa690e83cf1750428",
            "f9591be098084d9d83d8e3af8e388cb6",
            "dd6b17ad2a2241398013d40abaa2c170",
            "0da8dcc277b74f53b51bede399bea368",
            "1ee3067388ca4eeab3c705fd3c598926",
            "150969851ea64ebba70feddcf011d007",
            "ee31e3de00dd44eaa0758f56a3bb3150",
            "e3eb91d1731c4dd187c413d41ecbf9dd",
            "5f52957f996340ab946d9b664bd1ddcf",
            "5da569d085e24478bc23b8225a4cce22",
            "1afe7cd7cab94ba28f24ac75fd5872ca",
            "029aff7ee0bc4f1ea9c6263d925db23b",
            "3da5d11ab86d4eda80113dbd3ad5b30a",
            "64f53856d9ea4be985e42efe6d92ff6e",
            "80bfa66528074e2ebee5fa4f3ce43f8d",
            "507b251dc08241d0828a72f9e2435443",
            "34e0fbeec768405eac8bf122614e749a",
            "fad69b78b8194892a3f75d8437298a7a",
            "8d4f7fcd88684d7aa6ffe3d3ab8345c1",
            "92bd8218355b4859b15b1043f37a861b",
            "e49824f510ee4203a28cef1a05310f11",
            "1a10d22ad39d4f839bfa1f9b1ee2fb11",
            "74533cc9062e41c98148d38a59bb7457",
            "303161859b844fffa988163a917292f5",
            "bb17315c7a044d3eb8ac832b74b488b0",
            "09bb239ce993426c832f885f80fcf60f",
            "5d1f9f2f85b645709aec8a6539a7c619",
            "1f1a7474b3d54c98aa48c67eaedaf46c",
            "bbd85671b1d0460bbde7f8654c982d0f",
            "793e70a522284e7ab9a61e8ef4a4670f",
            "4c8beacdfdc947068cc5eb409dec5a57",
            "e6dc1c68b1d146889c429fdcfa953ef0",
            "c0087730d9d84165a886ee9c76656c01",
            "e1920ca6d0974dec940bd46456161868",
            "344bdcfc52b7418abbe19cba0ecbb695",
            "f4099f5b6461444ebbaf348078f64dab",
            "5d48201b1c5c417080ecd273c4a16915",
            "3490a8dc33954bbe83d34a319deaeeb7",
            "d8baf0c4367e4c9cb395d10218152c98",
            "f3e26afca88a4049acbdc91da7f9c842",
            "1e146440e2e54a969d3946c9c663ee03",
            "b58bc18f61a3472d911e389fa5d69cb1",
            "b500879d386f43a8a5c5642fb6bd0694",
            "319f47817a9d425c95670a5368b6d17b",
            "c769a7a58c1548a0b866a023c5db6fb3",
            "4ec1993257d847d8bbba2f84b7f8c577",
            "39b2607db7af4e71b8dc6f68b93215f8",
            "142236720c1041799545d94c95738ed4",
            "fea7d0e82a004b7a84693ad9a3101052",
            "6a2a4ae0ddd6424bac9c33b8cdf1e80b",
            "cc9541f102034e4da8ef54d387f4f2ee",
            "78e89f1f8e324cd98adc103be38a1db7",
            "00d6a33b67574263b6deb2243c7020a7",
            "c418c3166e054ae4bcd987c8eaddd7b9",
            "c259b8367d124af3bb708eda320474c3",
            "32f5166faf8748eabfec23bd58c24a53",
            "1fef73fcbdcf44d099f5b1b798cfe79a",
            "5b39b7123ab34a2d90308fb004147ccf",
            "54ecbc66e59f44c0a0a856edd634b444",
            "c3a18cfe25614568bfb94288619c1073",
            "c0b96c9328414cf994383add62bf038e",
            "238ac10210614a28875c57c0092ec30f"
          ]
        },
        "id": "PjwyrCh4Olmb",
        "outputId": "954adb71-9e97-4285-f9a8-06396f8c0b94"
      },
      "execution_count": null,
      "outputs": [
        {
          "output_type": "display_data",
          "data": {
            "text/plain": [
              "Downloading (…)lve/main/config.json:   0%|          | 0.00/567 [00:00<?, ?B/s]"
            ],
            "application/vnd.jupyter.widget-view+json": {
              "version_major": 2,
              "version_minor": 0,
              "model_id": "6188adeb948d47de964a203c8adf856d"
            }
          },
          "metadata": {}
        },
        {
          "output_type": "stream",
          "name": "stderr",
          "text": [
            "The argument `trust_remote_code` is to be used with Auto classes. It has no effect here and is ignored.\n"
          ]
        },
        {
          "output_type": "display_data",
          "data": {
            "text/plain": [
              "Downloading pytorch_model.bin:   0%|          | 0.00/27.0G [00:00<?, ?B/s]"
            ],
            "application/vnd.jupyter.widget-view+json": {
              "version_major": 2,
              "version_minor": 0,
              "model_id": "e3eb91d1731c4dd187c413d41ecbf9dd"
            }
          },
          "metadata": {}
        },
        {
          "output_type": "display_data",
          "data": {
            "text/plain": [
              "Downloading (…)neration_config.json:   0%|          | 0.00/132 [00:00<?, ?B/s]"
            ],
            "application/vnd.jupyter.widget-view+json": {
              "version_major": 2,
              "version_minor": 0,
              "model_id": "8d4f7fcd88684d7aa6ffe3d3ab8345c1"
            }
          },
          "metadata": {}
        },
        {
          "output_type": "display_data",
          "data": {
            "text/plain": [
              "Downloading tokenizer.model:   0%|          | 0.00/500k [00:00<?, ?B/s]"
            ],
            "application/vnd.jupyter.widget-view+json": {
              "version_major": 2,
              "version_minor": 0,
              "model_id": "793e70a522284e7ab9a61e8ef4a4670f"
            }
          },
          "metadata": {}
        },
        {
          "output_type": "display_data",
          "data": {
            "text/plain": [
              "Downloading (…)cial_tokens_map.json:   0%|          | 0.00/399 [00:00<?, ?B/s]"
            ],
            "application/vnd.jupyter.widget-view+json": {
              "version_major": 2,
              "version_minor": 0,
              "model_id": "1e146440e2e54a969d3946c9c663ee03"
            }
          },
          "metadata": {}
        },
        {
          "output_type": "display_data",
          "data": {
            "text/plain": [
              "Downloading (…)okenizer_config.json:   0%|          | 0.00/736 [00:00<?, ?B/s]"
            ],
            "application/vnd.jupyter.widget-view+json": {
              "version_major": 2,
              "version_minor": 0,
              "model_id": "78e89f1f8e324cd98adc103be38a1db7"
            }
          },
          "metadata": {}
        }
      ]
    },
    {
      "cell_type": "markdown",
      "source": [
        "![image.png](data:image/png;base64,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)"
      ],
      "metadata": {
        "id": "82UjwTP8Uk57"
      }
    },
    {
      "cell_type": "markdown",
      "source": [
        "![image.png](data:image/png;base64,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)"
      ],
      "metadata": {
        "id": "Cvj_xNR95QGn"
      }
    },
    {
      "cell_type": "code",
      "source": [
        "context  =\"\"\"What sentiment is conveyed in the provided sentence from a financial news report? Your options are positive, negative, or neutral. As an illustration, 'The company's recent investment in renewable energy has yielded impressive returns.' would be labeled as positive.\n",
        "New product launches in Finland will more than double from 2005 .\n",
        "###Response:\n",
        "\"\"\""
      ],
      "metadata": {
        "id": "g3RGIl7Rdrgx"
      },
      "execution_count": null,
      "outputs": []
    },
    {
      "cell_type": "code",
      "source": [
        "device = \"cuda\" if torch.cuda.is_available() else \"cpu\"\n",
        "input_ids = tokenizer(context, return_tensors=\"pt\").input_ids.to(device)\n",
        "outputs = model.generate(input_ids, max_length=500)"
      ],
      "metadata": {
        "id": "3lZX8lJeRBtt"
      },
      "execution_count": null,
      "outputs": []
    },
    {
      "cell_type": "code",
      "source": [
        "response = tokenizer.decode(outputs[0])\n",
        "print(response)"
      ],
      "metadata": {
        "colab": {
          "base_uri": "https://localhost:8080/"
        },
        "id": "39C0ghR1eSsM",
        "outputId": "b4cdaf89-dd14-4627-d642-eaee03adb9be"
      },
      "execution_count": null,
      "outputs": [
        {
          "output_type": "stream",
          "name": "stdout",
          "text": [
            " ⁇  What sentiment is conveyed in the provided sentence from a financial news report? Your options are positive, negative, or neutral. As an illustration, 'The company's recent investment in renewable energy has yielded impressive returns.' would be labeled as positive.\n",
            "New product launches in Finland will more than double from 2005 .\n",
            "###Response:\n",
            " positive\n"
          ]
        }
      ]
    },
    {
      "cell_type": "code",
      "source": [
        "context = \"\"\"In the context of this series of interconnected finance-related queries and the additional information provided by the pretext, table data, and posttext from a company's financial filings, please provide a response to the final question. This may require extracting information from the context and performing mathematical calculations. Please take into account the information provided in the preceding questions and their answers when formulating your response:\\nContext: for purposes of determining entergy corporation's relative performance for the 2006-2008 period , the committee used the philadelphia utility index as the peer group . based on market data and the recommendation of management , the committee compared entergy corporation's total shareholder return against the total shareholder return of the companies that comprised the philadelphia utility index . based on a comparison of entergy corporation's performance relative to the philadelphia utility index as described above , the committee concluded that entergy corporation had exceeded the performance targets for the 2006-2008 performance cycle with entergy finishing in the first quartile which resulted in a payment of 250% ( 250 % ) of target ( the maximum amount payable ) . each performance unit was then automatically converted into cash at the rate of $ 83.13 per unit , the closing price of entergy corporation common stock on the last trading day of the performance cycle ( december 31 , 2008 ) , plus dividend equivalents accrued over the three-year performance cycle . see the 2008 option exercises and stock vested table for the amount paid to each of the named executive officers for the 2006-2008 performance unit cycle . stock options the personnel committee and in the case of the named executive officers ( other than mr . leonard , mr . denault and mr . smith ) , entergy's chief executive officer and the named executive officer's supervisor consider several factors in determining the amount of stock options it will grant under entergy's equity ownership plans to the named executive officers , including : individual performance ; prevailing market practice in stock option grants ; the targeted long-term value created by the use of stock options ; the number of participants eligible for stock options , and the resulting \\\"burn rate\\\" ( i.e. , the number of stock options authorized divided by the total number of shares outstanding ) to assess the potential dilutive effect ; and the committee's assessment of other elements of compensation provided to the named executive officer for stock option awards to the named executive officers ( other than mr . leonard ) , the committee's assessment of individual performance of each named executive officer done in consultation with entergy corporation's chief executive officer is the most important factor in determining the number of options awarded . the following table sets forth the number of stock options granted to each named executive officer in 2008 . the exercise price for each option was $ 108.20 , which was the closing fair market value of entergy corporation common stock on the date of grant. . <table class='wikitable'><tr><td>1</td><td>named exeutive officer</td><td>stock options</td></tr><tr><td>2</td><td>j . wayne leonard</td><td>175000</td></tr><tr><td>3</td><td>leo p . denault</td><td>50000</td></tr><tr><td>4</td><td>richard j . smith</td><td>35000</td></tr><tr><td>5</td><td>e . renae conley</td><td>15600</td></tr><tr><td>6</td><td>hugh t . mcdonald</td><td>7000</td></tr><tr><td>7</td><td>haley fisackerly</td><td>5000</td></tr><tr><td>8</td><td>joseph f . domino</td><td>7000</td></tr><tr><td>9</td><td>roderick k . west</td><td>8000</td></tr><tr><td>10</td><td>theodore h . bunting jr .</td><td>18000</td></tr><tr><td>11</td><td>carolyn shanks</td><td>7000</td></tr></table> the option grants awarded to the named executive officers ( other than mr . leonard and mr . lewis ) ranged in amount between 5000 and 50000 shares . mr . lewis did not receive any stock option awards in 2008 . in the case of mr . leonard , who received 175000 stock options , the committee took special note of his performance as entergy corporation's chief executive officer . among other things , the committee noted that .\\nQuestion: what is the sum of stock options for leo p. denault by the exercise price?\n",
        "Answer:\"\"\""
      ],
      "metadata": {
        "id": "0N39SpgVgmLz"
      },
      "execution_count": null,
      "outputs": []
    },
    {
      "cell_type": "code",
      "source": [
        "context"
      ],
      "metadata": {
        "colab": {
          "base_uri": "https://localhost:8080/",
          "height": 123
        },
        "id": "gMjNP-iXhGai",
        "outputId": "3bfe1284-8293-4f5e-f563-e8d287225d28"
      },
      "execution_count": null,
      "outputs": [
        {
          "output_type": "execute_result",
          "data": {
            "text/plain": [
              "'In the context of this series of interconnected finance-related queries and the additional information provided by the pretext, table data, and posttext from a company\\'s financial filings, please provide a response to the final question. This may require extracting information from the context and performing mathematical calculations. Please take into account the information provided in the preceding questions and their answers when formulating your response:\\nContext: for purposes of determining entergy corporation\\'s relative performance for the 2006-2008 period , the committee used the philadelphia utility index as the peer group . based on market data and the recommendation of management , the committee compared entergy corporation\\'s total shareholder return against the total shareholder return of the companies that comprised the philadelphia utility index . based on a comparison of entergy corporation\\'s performance relative to the philadelphia utility index as described above , the committee concluded that entergy corporation had exceeded the performance targets for the 2006-2008 performance cycle with entergy finishing in the first quartile which resulted in a payment of 250% ( 250 % ) of target ( the maximum amount payable ) . each performance unit was then automatically converted into cash at the rate of $ 83.13 per unit , the closing price of entergy corporation common stock on the last trading day of the performance cycle ( december 31 , 2008 ) , plus dividend equivalents accrued over the three-year performance cycle . see the 2008 option exercises and stock vested table for the amount paid to each of the named executive officers for the 2006-2008 performance unit cycle . stock options the personnel committee and in the case of the named executive officers ( other than mr . leonard , mr . denault and mr . smith ) , entergy\\'s chief executive officer and the named executive officer\\'s supervisor consider several factors in determining the amount of stock options it will grant under entergy\\'s equity ownership plans to the named executive officers , including : individual performance ; prevailing market practice in stock option grants ; the targeted long-term value created by the use of stock options ; the number of participants eligible for stock options , and the resulting \"burn rate\" ( i.e. , the number of stock options authorized divided by the total number of shares outstanding ) to assess the potential dilutive effect ; and the committee\\'s assessment of other elements of compensation provided to the named executive officer for stock option awards to the named executive officers ( other than mr . leonard ) , the committee\\'s assessment of individual performance of each named executive officer done in consultation with entergy corporation\\'s chief executive officer is the most important factor in determining the number of options awarded . the following table sets forth the number of stock options granted to each named executive officer in 2008 . the exercise price for each option was $ 108.20 , which was the closing fair market value of entergy corporation common stock on the date of grant. . <table class=\\'wikitable\\'><tr><td>1</td><td>named exeutive officer</td><td>stock options</td></tr><tr><td>2</td><td>j . wayne leonard</td><td>175000</td></tr><tr><td>3</td><td>leo p . denault</td><td>50000</td></tr><tr><td>4</td><td>richard j . smith</td><td>35000</td></tr><tr><td>5</td><td>e . renae conley</td><td>15600</td></tr><tr><td>6</td><td>hugh t . mcdonald</td><td>7000</td></tr><tr><td>7</td><td>haley fisackerly</td><td>5000</td></tr><tr><td>8</td><td>joseph f . domino</td><td>7000</td></tr><tr><td>9</td><td>roderick k . west</td><td>8000</td></tr><tr><td>10</td><td>theodore h . bunting jr .</td><td>18000</td></tr><tr><td>11</td><td>carolyn shanks</td><td>7000</td></tr></table> the option grants awarded to the named executive officers ( other than mr . leonard and mr . lewis ) ranged in amount between 5000 and 50000 shares . mr . lewis did not receive any stock option awards in 2008 . in the case of mr . leonard , who received 175000 stock options , the committee took special note of his performance as entergy corporation\\'s chief executive officer . among other things , the committee noted that .\\nQuestion: what is the sum of stock options for leo p. denault by the exercise price?\\nAnswer:'"
            ],
            "application/vnd.google.colaboratory.intrinsic+json": {
              "type": "string"
            }
          },
          "metadata": {},
          "execution_count": 19
        }
      ]
    },
    {
      "cell_type": "code",
      "source": [
        "%%time\n",
        "input_ids = tokenizer(context, return_tensors=\"pt\").input_ids.to(device)\n",
        "outputs = model.generate(input_ids, max_length=2000)\n",
        "response = tokenizer.decode(outputs[0])\n",
        "print(response)"
      ],
      "metadata": {
        "colab": {
          "base_uri": "https://localhost:8080/"
        },
        "id": "HynMWzXQeVL-",
        "outputId": "3b6cad71-2a70-420a-bf1a-b689c4733b49"
      },
      "execution_count": null,
      "outputs": [
        {
          "output_type": "stream",
          "name": "stdout",
          "text": [
            " ⁇  In the context of this series of interconnected finance-related queries and the additional information provided by the pretext, table data, and posttext from a company's financial filings, please provide a response to the final question. This may require extracting information from the context and performing mathematical calculations. Please take into account the information provided in the preceding questions and their answers when formulating your response:\n",
            "Context: for purposes of determining entergy corporation's relative performance for the 2006-2008 period , the committee used the philadelphia utility index as the peer group . based on market data and the recommendation of management , the committee compared entergy corporation's total shareholder return against the total shareholder return of the companies that comprised the philadelphia utility index . based on a comparison of entergy corporation's performance relative to the philadelphia utility index as described above , the committee concluded that entergy corporation had exceeded the performance targets for the 2006-2008 performance cycle with entergy finishing in the first quartile which resulted in a payment of 250% ( 250 % ) of target ( the maximum amount payable ) . each performance unit was then automatically converted into cash at the rate of $ 83.13 per unit , the closing price of entergy corporation common stock on the last trading day of the performance cycle ( december 31 , 2008 ) , plus dividend equivalents accrued over the three-year performance cycle . see the 2008 option exercises and stock vested table for the amount paid to each of the named executive officers for the 2006-2008 performance unit cycle . stock options the personnel committee and in the case of the named executive officers ( other than mr . leonard , mr . denault and mr . smith ) , entergy's chief executive officer and the named executive officer's supervisor consider several factors in determining the amount of stock options it will grant under entergy's equity ownership plans to the named executive officers , including : individual performance ; prevailing market practice in stock option grants ; the targeted long-term value created by the use of stock options ; the number of participants eligible for stock options , and the resulting \"burn rate\" ( i.e. , the number of stock options authorized divided by the total number of shares outstanding ) to assess the potential dilutive effect ; and the committee's assessment of other elements of compensation provided to the named executive officer for stock option awards to the named executive officers ( other than mr . leonard ) , the committee's assessment of individual performance of each named executive officer done in consultation with entergy corporation's chief executive officer is the most important factor in determining the number of options awarded . the following table sets forth the number of stock options granted to each named executive officer in 2008 . the exercise price for each option was $ 108.20 , which was the closing fair market value of entergy corporation common stock on the date of grant. . <table class='wikitable'><tr><td>1</td><td>named exeutive officer</td><td>stock options</td></tr><tr><td>2</td><td>j . wayne leonard</td><td>175000</td></tr><tr><td>3</td><td>leo p . denault</td><td>50000</td></tr><tr><td>4</td><td>richard j . smith</td><td>35000</td></tr><tr><td>5</td><td>e . renae conley</td><td>15600</td></tr><tr><td>6</td><td>hugh t . mcdonald</td><td>7000</td></tr><tr><td>7</td><td>haley fisackerly</td><td>5000</td></tr><tr><td>8</td><td>joseph f . domino</td><td>7000</td></tr><tr><td>9</td><td>roderick k . west</td><td>8000</td></tr><tr><td>10</td><td>theodore h . bunting jr .</td><td>18000</td></tr><tr><td>11</td><td>carolyn shanks</td><td>7000</td></tr></table> the option grants awarded to the named executive officers ( other than mr . leonard and mr . lewis ) ranged in amount between 5000 and 50000 shares . mr . lewis did not receive any stock option awards in 2008 . in the case of mr . leonard , who received 175000 stock options , the committee took special note of his performance as entergy corporation's chief executive officer . among other things , the committee noted that .\n",
            "Question: what is the sum of stock options for leo p. denault by the exercise price?\n",
            "Answer: 5410000.0\n",
            "CPU times: user 12.5 s, sys: 0 ns, total: 12.5 s\n",
            "Wall time: 12.5 s\n"
          ]
        }
      ]
    },
    {
      "cell_type": "code",
      "source": [
        "context = \"\"\"In the context of this series of interconnected finance-related queries and the additional information provided by the pretext, table data, and posttext from a company's financial filings, please provide a response to the final question. This may require extracting information from the context and performing mathematical calculations. Please take into account the information provided in the preceding questions and their answers when formulating your response:\\nContext: 74 2012 ppg annual report and form 10-k 25 . separation and merger transaction on january , 28 , 2013 , the company completed the previously announced separation of its commodity chemicals business and merger of its wholly-owned subsidiary , eagle spinco inc. , with a subsidiary of georgia gulf corporation in a tax efficient reverse morris trust transaction ( the 201ctransaction 201d ) . pursuant to the merger , eagle spinco , the entity holding ppg's former commodity chemicals business , is now a wholly-owned subsidiary of georgia gulf . the closing of the merger followed the expiration of the related exchange offer and the satisfaction of certain other conditions . the combined company formed by uniting georgia gulf with ppg's former commodity chemicals business is named axiall corporation ( 201caxiall 201d ) . ppg holds no ownership interest in axiall . ppg received the necessary ruling from the internal revenue service and as a result this transaction was generally tax free to ppg and its shareholders . under the terms of the exchange offer , 35249104 shares of eagle spinco common stock were available for distribution in exchange for shares of ppg common stock accepted in the offer . following the merger , each share of eagle spinco common stock automatically converted into the right to receive one share of axiall corporation common stock . accordingly , ppg shareholders who tendered their shares of ppg common stock as part of this offer received 3.2562 shares of axiall common stock for each share of ppg common stock accepted for exchange . ppg was able to accept the maximum of 10825227 shares of ppg common stock for exchange in the offer , and thereby , reduced its outstanding shares by approximately 7% ( 7 % ) . under the terms of the transaction , ppg received $ 900 million of cash and 35.2 million shares of axiall common stock ( market value of $ 1.8 billion on january 25 , 2013 ) which was distributed to ppg shareholders by the exchange offer as described above . the cash consideration is subject to customary post-closing adjustment , including a working capital adjustment . in the transaction , ppg transferred environmental remediation liabilities , defined benefit pension plan assets and liabilities and other post-employment benefit liabilities related to the commodity chemicals business to axiall . ppg will report a gain on the transaction reflecting the excess of the sum of the cash proceeds received and the cost ( closing stock price on january 25 , 2013 ) of the ppg shares tendered and accepted in the exchange for the 35.2 million shares of axiall common stock over the net book value of the net assets of ppg's former commodity chemicals business . the transaction will also result in a net partial settlement loss associated with the spin out and termination of defined benefit pension liabilities and the transfer of other post-retirement benefit liabilities under the terms of the transaction . during 2012 , the company incurred $ 21 million of pretax expense , primarily for professional services , related to the transaction . additional transaction-related expenses will be incurred in 2013 . ppg will report the results of its commodity chemicals business for january 2013 and a net gain on the transaction as results from discontinued operations when it reports its results for the quarter ending march 31 , 2013 . in the ppg results for prior periods , presented for comparative purposes beginning with the first quarter 2013 , the results of its former commodity chemicals business will be reclassified from continuing operations and presented as the results from discontinued operations . the net sales and income before income taxes of the commodity chemicals business that will be reclassified and reported as discontinued operations are presented in the table below for the years ended december 31 , 2012 , 2011 and 2010: . <table class='wikitable'><tr><td>1</td><td>millions</td><td>year-ended 2012</td><td>year-ended 2011</td><td>year-ended 2010</td></tr><tr><td>2</td><td>net sales</td><td>$ 1700</td><td>$ 1741</td><td>$ 1441</td></tr><tr><td>3</td><td>income before income taxes</td><td>$ 368</td><td>$ 376</td><td>$ 187</td></tr></table> income before income taxes for the year ended december 31 , 2012 , 2011 and 2010 is $ 4 million lower , $ 6 million higher and $ 2 million lower , respectively , than segment earnings for the ppg commodity chemicals segment reported for these periods . these differences are due to the inclusion of certain gains , losses and expenses associated with the chlor-alkali and derivatives business that were not reported in the ppg commodity chemicals segment earnings in accordance with the accounting guidance on segment reporting . table of contents notes to the consolidated financial statements .\\nQuestion: what was the total market value of the received shares of axiall common stock under the terms of the transaction, in billions?\n",
        "Answer:\"\"\"\n",
        "\n",
        "context"
      ],
      "metadata": {
        "colab": {
          "base_uri": "https://localhost:8080/",
          "height": 123
        },
        "id": "TkxsggcKohWq",
        "outputId": "21af41a7-aca2-453f-bf4c-aaefc572fd80"
      },
      "execution_count": null,
      "outputs": [
        {
          "output_type": "execute_result",
          "data": {
            "text/plain": [
              "\"In the context of this series of interconnected finance-related queries and the additional information provided by the pretext, table data, and posttext from a company's financial filings, please provide a response to the final question. This may require extracting information from the context and performing mathematical calculations. Please take into account the information provided in the preceding questions and their answers when formulating your response:\\nContext: 74 2012 ppg annual report and form 10-k 25 . separation and merger transaction on january , 28 , 2013 , the company completed the previously announced separation of its commodity chemicals business and merger of its wholly-owned subsidiary , eagle spinco inc. , with a subsidiary of georgia gulf corporation in a tax efficient reverse morris trust transaction ( the 201ctransaction 201d ) . pursuant to the merger , eagle spinco , the entity holding ppg's former commodity chemicals business , is now a wholly-owned subsidiary of georgia gulf . the closing of the merger followed the expiration of the related exchange offer and the satisfaction of certain other conditions . the combined company formed by uniting georgia gulf with ppg's former commodity chemicals business is named axiall corporation ( 201caxiall 201d ) . ppg holds no ownership interest in axiall . ppg received the necessary ruling from the internal revenue service and as a result this transaction was generally tax free to ppg and its shareholders . under the terms of the exchange offer , 35249104 shares of eagle spinco common stock were available for distribution in exchange for shares of ppg common stock accepted in the offer . following the merger , each share of eagle spinco common stock automatically converted into the right to receive one share of axiall corporation common stock . accordingly , ppg shareholders who tendered their shares of ppg common stock as part of this offer received 3.2562 shares of axiall common stock for each share of ppg common stock accepted for exchange . ppg was able to accept the maximum of 10825227 shares of ppg common stock for exchange in the offer , and thereby , reduced its outstanding shares by approximately 7% ( 7 % ) . under the terms of the transaction , ppg received $ 900 million of cash and 35.2 million shares of axiall common stock ( market value of $ 1.8 billion on january 25 , 2013 ) which was distributed to ppg shareholders by the exchange offer as described above . the cash consideration is subject to customary post-closing adjustment , including a working capital adjustment . in the transaction , ppg transferred environmental remediation liabilities , defined benefit pension plan assets and liabilities and other post-employment benefit liabilities related to the commodity chemicals business to axiall . ppg will report a gain on the transaction reflecting the excess of the sum of the cash proceeds received and the cost ( closing stock price on january 25 , 2013 ) of the ppg shares tendered and accepted in the exchange for the 35.2 million shares of axiall common stock over the net book value of the net assets of ppg's former commodity chemicals business . the transaction will also result in a net partial settlement loss associated with the spin out and termination of defined benefit pension liabilities and the transfer of other post-retirement benefit liabilities under the terms of the transaction . during 2012 , the company incurred $ 21 million of pretax expense , primarily for professional services , related to the transaction . additional transaction-related expenses will be incurred in 2013 . ppg will report the results of its commodity chemicals business for january 2013 and a net gain on the transaction as results from discontinued operations when it reports its results for the quarter ending march 31 , 2013 . in the ppg results for prior periods , presented for comparative purposes beginning with the first quarter 2013 , the results of its former commodity chemicals business will be reclassified from continuing operations and presented as the results from discontinued operations . the net sales and income before income taxes of the commodity chemicals business that will be reclassified and reported as discontinued operations are presented in the table below for the years ended december 31 , 2012 , 2011 and 2010: . <table class='wikitable'><tr><td>1</td><td>millions</td><td>year-ended 2012</td><td>year-ended 2011</td><td>year-ended 2010</td></tr><tr><td>2</td><td>net sales</td><td>$ 1700</td><td>$ 1741</td><td>$ 1441</td></tr><tr><td>3</td><td>income before income taxes</td><td>$ 368</td><td>$ 376</td><td>$ 187</td></tr></table> income before income taxes for the year ended december 31 , 2012 , 2011 and 2010 is $ 4 million lower , $ 6 million higher and $ 2 million lower , respectively , than segment earnings for the ppg commodity chemicals segment reported for these periods . these differences are due to the inclusion of certain gains , losses and expenses associated with the chlor-alkali and derivatives business that were not reported in the ppg commodity chemicals segment earnings in accordance with the accounting guidance on segment reporting . table of contents notes to the consolidated financial statements .\\nQuestion: what was the total market value of the received shares of axiall common stock under the terms of the transaction, in billions?\\nAnswer:\""
            ],
            "application/vnd.google.colaboratory.intrinsic+json": {
              "type": "string"
            }
          },
          "metadata": {},
          "execution_count": 23
        }
      ]
    },
    {
      "cell_type": "code",
      "source": [
        "%%time\n",
        "input_ids = tokenizer(context, return_tensors=\"pt\").input_ids.to(device)\n",
        "outputs = model.generate(input_ids, max_length=2000)\n",
        "response = tokenizer.decode(outputs[0],skip_special_tokens=True)\n",
        "print(response)"
      ],
      "metadata": {
        "colab": {
          "base_uri": "https://localhost:8080/"
        },
        "id": "LzBWPkCnonH4",
        "outputId": "63ffa821-b1df-4539-92e9-d2701b2adb8e"
      },
      "execution_count": null,
      "outputs": [
        {
          "output_type": "stream",
          "name": "stdout",
          "text": [
            "In the context of this series of interconnected finance-related queries and the additional information provided by the pretext, table data, and posttext from a company's financial filings, please provide a response to the final question. This may require extracting information from the context and performing mathematical calculations. Please take into account the information provided in the preceding questions and their answers when formulating your response:\n",
            "Context: 74 2012 ppg annual report and form 10-k 25 . separation and merger transaction on january , 28 , 2013 , the company completed the previously announced separation of its commodity chemicals business and merger of its wholly-owned subsidiary , eagle spinco inc. , with a subsidiary of georgia gulf corporation in a tax efficient reverse morris trust transaction ( the 201ctransaction 201d ) . pursuant to the merger , eagle spinco , the entity holding ppg's former commodity chemicals business , is now a wholly-owned subsidiary of georgia gulf . the closing of the merger followed the expiration of the related exchange offer and the satisfaction of certain other conditions . the combined company formed by uniting georgia gulf with ppg's former commodity chemicals business is named axiall corporation ( 201caxiall 201d ) . ppg holds no ownership interest in axiall . ppg received the necessary ruling from the internal revenue service and as a result this transaction was generally tax free to ppg and its shareholders . under the terms of the exchange offer , 35249104 shares of eagle spinco common stock were available for distribution in exchange for shares of ppg common stock accepted in the offer . following the merger , each share of eagle spinco common stock automatically converted into the right to receive one share of axiall corporation common stock . accordingly , ppg shareholders who tendered their shares of ppg common stock as part of this offer received 3.2562 shares of axiall common stock for each share of ppg common stock accepted for exchange . ppg was able to accept the maximum of 10825227 shares of ppg common stock for exchange in the offer , and thereby , reduced its outstanding shares by approximately 7% ( 7 % ) . under the terms of the transaction , ppg received $ 900 million of cash and 35.2 million shares of axiall common stock ( market value of $ 1.8 billion on january 25 , 2013 ) which was distributed to ppg shareholders by the exchange offer as described above . the cash consideration is subject to customary post-closing adjustment , including a working capital adjustment . in the transaction , ppg transferred environmental remediation liabilities , defined benefit pension plan assets and liabilities and other post-employment benefit liabilities related to the commodity chemicals business to axiall . ppg will report a gain on the transaction reflecting the excess of the sum of the cash proceeds received and the cost ( closing stock price on january 25 , 2013 ) of the ppg shares tendered and accepted in the exchange for the 35.2 million shares of axiall common stock over the net book value of the net assets of ppg's former commodity chemicals business . the transaction will also result in a net partial settlement loss associated with the spin out and termination of defined benefit pension liabilities and the transfer of other post-retirement benefit liabilities under the terms of the transaction . during 2012 , the company incurred $ 21 million of pretax expense , primarily for professional services , related to the transaction . additional transaction-related expenses will be incurred in 2013 . ppg will report the results of its commodity chemicals business for january 2013 and a net gain on the transaction as results from discontinued operations when it reports its results for the quarter ending march 31 , 2013 . in the ppg results for prior periods , presented for comparative purposes beginning with the first quarter 2013 , the results of its former commodity chemicals business will be reclassified from continuing operations and presented as the results from discontinued operations . the net sales and income before income taxes of the commodity chemicals business that will be reclassified and reported as discontinued operations are presented in the table below for the years ended december 31 , 2012 , 2011 and 2010: . <table class='wikitable'><tr><td>1</td><td>millions</td><td>year-ended 2012</td><td>year-ended 2011</td><td>year-ended 2010</td></tr><tr><td>2</td><td>net sales</td><td>$ 1700</td><td>$ 1741</td><td>$ 1441</td></tr><tr><td>3</td><td>income before income taxes</td><td>$ 368</td><td>$ 376</td><td>$ 187</td></tr></table> income before income taxes for the year ended december 31 , 2012 , 2011 and 2010 is $ 4 million lower , $ 6 million higher and $ 2 million lower , respectively , than segment earnings for the ppg commodity chemicals segment reported for these periods . these differences are due to the inclusion of certain gains , losses and expenses associated with the chlor-alkali and derivatives business that were not reported in the ppg commodity chemicals segment earnings in accordance with the accounting guidance on segment reporting . table of contents notes to the consolidated financial statements .\n",
            "Question: what was the total market value of the received shares of axiall common stock under the terms of the transaction, in billions?\n",
            "Answer: 1.8\n",
            "CPU times: user 7.25 s, sys: 0 ns, total: 7.25 s\n",
            "Wall time: 7.23 s\n"
          ]
        }
      ]
    },
    {
      "cell_type": "code",
      "source": [
        "context = \"\"\"Explain the concept of ESOP in detail.\n",
        "###Response:\"\"\""
      ],
      "metadata": {
        "id": "5ahuVe6I2iVB"
      },
      "execution_count": null,
      "outputs": []
    },
    {
      "cell_type": "code",
      "source": [
        "%%time\n",
        "input_ids = tokenizer(context, return_tensors=\"pt\").input_ids.to(device)\n",
        "outputs = model.generate(input_ids, max_length=2000)\n",
        "response = tokenizer.decode(outputs[0],skip_special_tokens=True)\n",
        "print(response)"
      ],
      "metadata": {
        "colab": {
          "base_uri": "https://localhost:8080/"
        },
        "id": "stk6p7l52og6",
        "outputId": "f86c5dc7-120d-4909-c216-59b25693e72a"
      },
      "execution_count": null,
      "outputs": [
        {
          "output_type": "stream",
          "name": "stdout",
          "text": [
            "Explain the concept of ESOP in detail.\n",
            "###Response: Employee Stock Ownership Plan (ESOP) is a type of employee benefit plan that is designed to provide employees with an ownership interest in the company. The plan is funded by the company, and the employees become the owners of the company's stock. The employees then have the right to vote on certain matters affecting the company, such as the election of directors, and they also have the right to receive a portion of the company's profits in the form of dividends.\n",
            "\n",
            "ESOPs are often used as a way for companies to give their employees a stake in the company's success. The plan can also be used as a way to attract and retain top talent, as employees are more likely to be motivated by the opportunity to become part owners of the company.\n",
            "\n",
            "In an ESOP, the company contributes shares of its own stock to an employee trust, which is then held by the employees. The employees then have the right to receive dividends and to vote on certain matters affecting the company. The company also has the right to repurchase the shares from the trust at a later date.\n",
            "\n",
            "ESOPs can be a powerful tool for companies looking to create a more engaged and motivated workforce. However, they also come with certain risks and responsibilities, including the need to ensure that the plan is properly funded and that the company has the ability to repurchase the shares from the trust.\n",
            "CPU times: user 1min 8s, sys: 3.24 ms, total: 1min 8s\n",
            "Wall time: 1min 8s\n"
          ]
        }
      ]
    },
    {
      "cell_type": "code",
      "source": [
        "def generate_response(context):\n",
        "  input_ids = tokenizer(context, return_tensors=\"pt\").input_ids.to(device)\n",
        "  outputs = model.generate(input_ids, max_length=2000)\n",
        "  response = tokenizer.decode(outputs[0],skip_special_tokens=True)\n",
        "  return response.split('###RESPONSE:')[-1]\n"
      ],
      "metadata": {
        "id": "ehE4vXxO5Wat"
      },
      "execution_count": 8,
      "outputs": []
    },
    {
      "cell_type": "code",
      "source": [
        "device = \"cuda\" if torch.cuda.is_available() else \"cpu\""
      ],
      "metadata": {
        "id": "UImaryrX6AbA"
      },
      "execution_count": 5,
      "outputs": []
    },
    {
      "cell_type": "code",
      "source": [
        "%%time\n",
        "context = \"Explain the concept of dividend in detail.###RESPONSE:\"\n",
        "res = generate_response(context)\n",
        "print(res)"
      ],
      "metadata": {
        "colab": {
          "base_uri": "https://localhost:8080/"
        },
        "id": "bjZ4p3hv5qr9",
        "outputId": "29585a38-894d-48a2-d386-d2fff25a5daa"
      },
      "execution_count": 11,
      "outputs": [
        {
          "output_type": "stream",
          "name": "stdout",
          "text": [
            "\n",
            "Dividend is a payment made by a company to its shareholders, usually in the form of cash or additional shares. The company may choose to pay dividends in cash or in the form of additional shares, known as a stock dividend. The frequency of dividend payments can vary, and some companies may pay dividends on a quarterly, monthly, or annual basis.\n",
            "\n",
            "Dividends can be either cash or stock.\n",
            "\n",
            "Cash dividends are payments made in cash to shareholders.\n",
            "\n",
            "Stock dividends are payments made in the form of additional shares of stock.\n",
            "CPU times: user 22.2 s, sys: 0 ns, total: 22.2 s\n",
            "Wall time: 22.2 s\n"
          ]
        }
      ]
    },
    {
      "cell_type": "code",
      "source": [],
      "metadata": {
        "id": "fxc6Mk5V6aXK"
      },
      "execution_count": null,
      "outputs": []
    },
    {
      "cell_type": "code",
      "source": [],
      "metadata": {
        "id": "CwHJyg8l541l"
      },
      "execution_count": null,
      "outputs": []
    }
  ]
}
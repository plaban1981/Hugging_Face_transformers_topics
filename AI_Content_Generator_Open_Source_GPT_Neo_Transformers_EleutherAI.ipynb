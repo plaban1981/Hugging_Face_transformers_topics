{
  "nbformat": 4,
  "nbformat_minor": 0,
  "metadata": {
    "colab": {
      "provenance": [],
      "machine_shape": "hm",
      "authorship_tag": "ABX9TyMN7HqRDcahJApcVrvNvZ61",
      "include_colab_link": true
    },
    "kernelspec": {
      "name": "python3",
      "display_name": "Python 3"
    },
    "language_info": {
      "name": "python"
    },
    "accelerator": "GPU",
    "gpuClass": "standard",
    "widgets": {
      "application/vnd.jupyter.widget-state+json": {
        "5466795d31154474b0dc956ce7ab2671": {
          "model_module": "@jupyter-widgets/controls",
          "model_name": "HBoxModel",
          "model_module_version": "1.5.0",
          "state": {
            "_dom_classes": [],
            "_model_module": "@jupyter-widgets/controls",
            "_model_module_version": "1.5.0",
            "_model_name": "HBoxModel",
            "_view_count": null,
            "_view_module": "@jupyter-widgets/controls",
            "_view_module_version": "1.5.0",
            "_view_name": "HBoxView",
            "box_style": "",
            "children": [
              "IPY_MODEL_029801139c9e4d358f17df18fb5cc335",
              "IPY_MODEL_f36dc78470ea40479e7876bd08b73518",
              "IPY_MODEL_a1dfe7b7e91a483588d65007e950e5fc"
            ],
            "layout": "IPY_MODEL_50ad9153eceb4ec4a251bf83d2056a3e"
          }
        },
        "029801139c9e4d358f17df18fb5cc335": {
          "model_module": "@jupyter-widgets/controls",
          "model_name": "HTMLModel",
          "model_module_version": "1.5.0",
          "state": {
            "_dom_classes": [],
            "_model_module": "@jupyter-widgets/controls",
            "_model_module_version": "1.5.0",
            "_model_name": "HTMLModel",
            "_view_count": null,
            "_view_module": "@jupyter-widgets/controls",
            "_view_module_version": "1.5.0",
            "_view_name": "HTMLView",
            "description": "",
            "description_tooltip": null,
            "layout": "IPY_MODEL_23c3cc1c2e354b0f9ad00b50951fc780",
            "placeholder": "​",
            "style": "IPY_MODEL_041f950026ae43228322e4a5542de572",
            "value": "Downloading (…)okenizer_config.json: 100%"
          }
        },
        "f36dc78470ea40479e7876bd08b73518": {
          "model_module": "@jupyter-widgets/controls",
          "model_name": "FloatProgressModel",
          "model_module_version": "1.5.0",
          "state": {
            "_dom_classes": [],
            "_model_module": "@jupyter-widgets/controls",
            "_model_module_version": "1.5.0",
            "_model_name": "FloatProgressModel",
            "_view_count": null,
            "_view_module": "@jupyter-widgets/controls",
            "_view_module_version": "1.5.0",
            "_view_name": "ProgressView",
            "bar_style": "success",
            "description": "",
            "description_tooltip": null,
            "layout": "IPY_MODEL_7bb733e4c266421883979c010b468113",
            "max": 200,
            "min": 0,
            "orientation": "horizontal",
            "style": "IPY_MODEL_bdd10650dd344a04b9ecab3591781f32",
            "value": 200
          }
        },
        "a1dfe7b7e91a483588d65007e950e5fc": {
          "model_module": "@jupyter-widgets/controls",
          "model_name": "HTMLModel",
          "model_module_version": "1.5.0",
          "state": {
            "_dom_classes": [],
            "_model_module": "@jupyter-widgets/controls",
            "_model_module_version": "1.5.0",
            "_model_name": "HTMLModel",
            "_view_count": null,
            "_view_module": "@jupyter-widgets/controls",
            "_view_module_version": "1.5.0",
            "_view_name": "HTMLView",
            "description": "",
            "description_tooltip": null,
            "layout": "IPY_MODEL_33a0ecc6a0084a87bf5405a5daa10a43",
            "placeholder": "​",
            "style": "IPY_MODEL_c8beef32276945b2ba4e02137272f160",
            "value": " 200/200 [00:00&lt;00:00, 8.60kB/s]"
          }
        },
        "50ad9153eceb4ec4a251bf83d2056a3e": {
          "model_module": "@jupyter-widgets/base",
          "model_name": "LayoutModel",
          "model_module_version": "1.2.0",
          "state": {
            "_model_module": "@jupyter-widgets/base",
            "_model_module_version": "1.2.0",
            "_model_name": "LayoutModel",
            "_view_count": null,
            "_view_module": "@jupyter-widgets/base",
            "_view_module_version": "1.2.0",
            "_view_name": "LayoutView",
            "align_content": null,
            "align_items": null,
            "align_self": null,
            "border": null,
            "bottom": null,
            "display": null,
            "flex": null,
            "flex_flow": null,
            "grid_area": null,
            "grid_auto_columns": null,
            "grid_auto_flow": null,
            "grid_auto_rows": null,
            "grid_column": null,
            "grid_gap": null,
            "grid_row": null,
            "grid_template_areas": null,
            "grid_template_columns": null,
            "grid_template_rows": null,
            "height": null,
            "justify_content": null,
            "justify_items": null,
            "left": null,
            "margin": null,
            "max_height": null,
            "max_width": null,
            "min_height": null,
            "min_width": null,
            "object_fit": null,
            "object_position": null,
            "order": null,
            "overflow": null,
            "overflow_x": null,
            "overflow_y": null,
            "padding": null,
            "right": null,
            "top": null,
            "visibility": null,
            "width": null
          }
        },
        "23c3cc1c2e354b0f9ad00b50951fc780": {
          "model_module": "@jupyter-widgets/base",
          "model_name": "LayoutModel",
          "model_module_version": "1.2.0",
          "state": {
            "_model_module": "@jupyter-widgets/base",
            "_model_module_version": "1.2.0",
            "_model_name": "LayoutModel",
            "_view_count": null,
            "_view_module": "@jupyter-widgets/base",
            "_view_module_version": "1.2.0",
            "_view_name": "LayoutView",
            "align_content": null,
            "align_items": null,
            "align_self": null,
            "border": null,
            "bottom": null,
            "display": null,
            "flex": null,
            "flex_flow": null,
            "grid_area": null,
            "grid_auto_columns": null,
            "grid_auto_flow": null,
            "grid_auto_rows": null,
            "grid_column": null,
            "grid_gap": null,
            "grid_row": null,
            "grid_template_areas": null,
            "grid_template_columns": null,
            "grid_template_rows": null,
            "height": null,
            "justify_content": null,
            "justify_items": null,
            "left": null,
            "margin": null,
            "max_height": null,
            "max_width": null,
            "min_height": null,
            "min_width": null,
            "object_fit": null,
            "object_position": null,
            "order": null,
            "overflow": null,
            "overflow_x": null,
            "overflow_y": null,
            "padding": null,
            "right": null,
            "top": null,
            "visibility": null,
            "width": null
          }
        },
        "041f950026ae43228322e4a5542de572": {
          "model_module": "@jupyter-widgets/controls",
          "model_name": "DescriptionStyleModel",
          "model_module_version": "1.5.0",
          "state": {
            "_model_module": "@jupyter-widgets/controls",
            "_model_module_version": "1.5.0",
            "_model_name": "DescriptionStyleModel",
            "_view_count": null,
            "_view_module": "@jupyter-widgets/base",
            "_view_module_version": "1.2.0",
            "_view_name": "StyleView",
            "description_width": ""
          }
        },
        "7bb733e4c266421883979c010b468113": {
          "model_module": "@jupyter-widgets/base",
          "model_name": "LayoutModel",
          "model_module_version": "1.2.0",
          "state": {
            "_model_module": "@jupyter-widgets/base",
            "_model_module_version": "1.2.0",
            "_model_name": "LayoutModel",
            "_view_count": null,
            "_view_module": "@jupyter-widgets/base",
            "_view_module_version": "1.2.0",
            "_view_name": "LayoutView",
            "align_content": null,
            "align_items": null,
            "align_self": null,
            "border": null,
            "bottom": null,
            "display": null,
            "flex": null,
            "flex_flow": null,
            "grid_area": null,
            "grid_auto_columns": null,
            "grid_auto_flow": null,
            "grid_auto_rows": null,
            "grid_column": null,
            "grid_gap": null,
            "grid_row": null,
            "grid_template_areas": null,
            "grid_template_columns": null,
            "grid_template_rows": null,
            "height": null,
            "justify_content": null,
            "justify_items": null,
            "left": null,
            "margin": null,
            "max_height": null,
            "max_width": null,
            "min_height": null,
            "min_width": null,
            "object_fit": null,
            "object_position": null,
            "order": null,
            "overflow": null,
            "overflow_x": null,
            "overflow_y": null,
            "padding": null,
            "right": null,
            "top": null,
            "visibility": null,
            "width": null
          }
        },
        "bdd10650dd344a04b9ecab3591781f32": {
          "model_module": "@jupyter-widgets/controls",
          "model_name": "ProgressStyleModel",
          "model_module_version": "1.5.0",
          "state": {
            "_model_module": "@jupyter-widgets/controls",
            "_model_module_version": "1.5.0",
            "_model_name": "ProgressStyleModel",
            "_view_count": null,
            "_view_module": "@jupyter-widgets/base",
            "_view_module_version": "1.2.0",
            "_view_name": "StyleView",
            "bar_color": null,
            "description_width": ""
          }
        },
        "33a0ecc6a0084a87bf5405a5daa10a43": {
          "model_module": "@jupyter-widgets/base",
          "model_name": "LayoutModel",
          "model_module_version": "1.2.0",
          "state": {
            "_model_module": "@jupyter-widgets/base",
            "_model_module_version": "1.2.0",
            "_model_name": "LayoutModel",
            "_view_count": null,
            "_view_module": "@jupyter-widgets/base",
            "_view_module_version": "1.2.0",
            "_view_name": "LayoutView",
            "align_content": null,
            "align_items": null,
            "align_self": null,
            "border": null,
            "bottom": null,
            "display": null,
            "flex": null,
            "flex_flow": null,
            "grid_area": null,
            "grid_auto_columns": null,
            "grid_auto_flow": null,
            "grid_auto_rows": null,
            "grid_column": null,
            "grid_gap": null,
            "grid_row": null,
            "grid_template_areas": null,
            "grid_template_columns": null,
            "grid_template_rows": null,
            "height": null,
            "justify_content": null,
            "justify_items": null,
            "left": null,
            "margin": null,
            "max_height": null,
            "max_width": null,
            "min_height": null,
            "min_width": null,
            "object_fit": null,
            "object_position": null,
            "order": null,
            "overflow": null,
            "overflow_x": null,
            "overflow_y": null,
            "padding": null,
            "right": null,
            "top": null,
            "visibility": null,
            "width": null
          }
        },
        "c8beef32276945b2ba4e02137272f160": {
          "model_module": "@jupyter-widgets/controls",
          "model_name": "DescriptionStyleModel",
          "model_module_version": "1.5.0",
          "state": {
            "_model_module": "@jupyter-widgets/controls",
            "_model_module_version": "1.5.0",
            "_model_name": "DescriptionStyleModel",
            "_view_count": null,
            "_view_module": "@jupyter-widgets/base",
            "_view_module_version": "1.2.0",
            "_view_name": "StyleView",
            "description_width": ""
          }
        },
        "b2e598aa8cf74d4eb076b066d4a6d03b": {
          "model_module": "@jupyter-widgets/controls",
          "model_name": "HBoxModel",
          "model_module_version": "1.5.0",
          "state": {
            "_dom_classes": [],
            "_model_module": "@jupyter-widgets/controls",
            "_model_module_version": "1.5.0",
            "_model_name": "HBoxModel",
            "_view_count": null,
            "_view_module": "@jupyter-widgets/controls",
            "_view_module_version": "1.5.0",
            "_view_name": "HBoxView",
            "box_style": "",
            "children": [
              "IPY_MODEL_52ff5b531c7a48eda73ee3d69bf382a7",
              "IPY_MODEL_85bc0717c5054accbe7e0039c7bfd60c",
              "IPY_MODEL_68912acb4fcc489e8134663967e26bc7"
            ],
            "layout": "IPY_MODEL_279cc2946adb438395bce50454bd67cc"
          }
        },
        "52ff5b531c7a48eda73ee3d69bf382a7": {
          "model_module": "@jupyter-widgets/controls",
          "model_name": "HTMLModel",
          "model_module_version": "1.5.0",
          "state": {
            "_dom_classes": [],
            "_model_module": "@jupyter-widgets/controls",
            "_model_module_version": "1.5.0",
            "_model_name": "HTMLModel",
            "_view_count": null,
            "_view_module": "@jupyter-widgets/controls",
            "_view_module_version": "1.5.0",
            "_view_name": "HTMLView",
            "description": "",
            "description_tooltip": null,
            "layout": "IPY_MODEL_d88bbf07256e49d9b95ac988be86bc36",
            "placeholder": "​",
            "style": "IPY_MODEL_4fdb600ccb734e778fd21959e3c7b676",
            "value": "Downloading (…)lve/main/config.json: 100%"
          }
        },
        "85bc0717c5054accbe7e0039c7bfd60c": {
          "model_module": "@jupyter-widgets/controls",
          "model_name": "FloatProgressModel",
          "model_module_version": "1.5.0",
          "state": {
            "_dom_classes": [],
            "_model_module": "@jupyter-widgets/controls",
            "_model_module_version": "1.5.0",
            "_model_name": "FloatProgressModel",
            "_view_count": null,
            "_view_module": "@jupyter-widgets/controls",
            "_view_module_version": "1.5.0",
            "_view_name": "ProgressView",
            "bar_style": "success",
            "description": "",
            "description_tooltip": null,
            "layout": "IPY_MODEL_01272b9304b84b6f90a34c8b3b837306",
            "max": 1455,
            "min": 0,
            "orientation": "horizontal",
            "style": "IPY_MODEL_ab30c182b4e741eebfe3c7edb58b59a8",
            "value": 1455
          }
        },
        "68912acb4fcc489e8134663967e26bc7": {
          "model_module": "@jupyter-widgets/controls",
          "model_name": "HTMLModel",
          "model_module_version": "1.5.0",
          "state": {
            "_dom_classes": [],
            "_model_module": "@jupyter-widgets/controls",
            "_model_module_version": "1.5.0",
            "_model_name": "HTMLModel",
            "_view_count": null,
            "_view_module": "@jupyter-widgets/controls",
            "_view_module_version": "1.5.0",
            "_view_name": "HTMLView",
            "description": "",
            "description_tooltip": null,
            "layout": "IPY_MODEL_6608703218ec4d6cbf95badfeff6010d",
            "placeholder": "​",
            "style": "IPY_MODEL_83f2c67fe4044fa1987c3b10b7ad708b",
            "value": " 1.46k/1.46k [00:00&lt;00:00, 72.2kB/s]"
          }
        },
        "279cc2946adb438395bce50454bd67cc": {
          "model_module": "@jupyter-widgets/base",
          "model_name": "LayoutModel",
          "model_module_version": "1.2.0",
          "state": {
            "_model_module": "@jupyter-widgets/base",
            "_model_module_version": "1.2.0",
            "_model_name": "LayoutModel",
            "_view_count": null,
            "_view_module": "@jupyter-widgets/base",
            "_view_module_version": "1.2.0",
            "_view_name": "LayoutView",
            "align_content": null,
            "align_items": null,
            "align_self": null,
            "border": null,
            "bottom": null,
            "display": null,
            "flex": null,
            "flex_flow": null,
            "grid_area": null,
            "grid_auto_columns": null,
            "grid_auto_flow": null,
            "grid_auto_rows": null,
            "grid_column": null,
            "grid_gap": null,
            "grid_row": null,
            "grid_template_areas": null,
            "grid_template_columns": null,
            "grid_template_rows": null,
            "height": null,
            "justify_content": null,
            "justify_items": null,
            "left": null,
            "margin": null,
            "max_height": null,
            "max_width": null,
            "min_height": null,
            "min_width": null,
            "object_fit": null,
            "object_position": null,
            "order": null,
            "overflow": null,
            "overflow_x": null,
            "overflow_y": null,
            "padding": null,
            "right": null,
            "top": null,
            "visibility": null,
            "width": null
          }
        },
        "d88bbf07256e49d9b95ac988be86bc36": {
          "model_module": "@jupyter-widgets/base",
          "model_name": "LayoutModel",
          "model_module_version": "1.2.0",
          "state": {
            "_model_module": "@jupyter-widgets/base",
            "_model_module_version": "1.2.0",
            "_model_name": "LayoutModel",
            "_view_count": null,
            "_view_module": "@jupyter-widgets/base",
            "_view_module_version": "1.2.0",
            "_view_name": "LayoutView",
            "align_content": null,
            "align_items": null,
            "align_self": null,
            "border": null,
            "bottom": null,
            "display": null,
            "flex": null,
            "flex_flow": null,
            "grid_area": null,
            "grid_auto_columns": null,
            "grid_auto_flow": null,
            "grid_auto_rows": null,
            "grid_column": null,
            "grid_gap": null,
            "grid_row": null,
            "grid_template_areas": null,
            "grid_template_columns": null,
            "grid_template_rows": null,
            "height": null,
            "justify_content": null,
            "justify_items": null,
            "left": null,
            "margin": null,
            "max_height": null,
            "max_width": null,
            "min_height": null,
            "min_width": null,
            "object_fit": null,
            "object_position": null,
            "order": null,
            "overflow": null,
            "overflow_x": null,
            "overflow_y": null,
            "padding": null,
            "right": null,
            "top": null,
            "visibility": null,
            "width": null
          }
        },
        "4fdb600ccb734e778fd21959e3c7b676": {
          "model_module": "@jupyter-widgets/controls",
          "model_name": "DescriptionStyleModel",
          "model_module_version": "1.5.0",
          "state": {
            "_model_module": "@jupyter-widgets/controls",
            "_model_module_version": "1.5.0",
            "_model_name": "DescriptionStyleModel",
            "_view_count": null,
            "_view_module": "@jupyter-widgets/base",
            "_view_module_version": "1.2.0",
            "_view_name": "StyleView",
            "description_width": ""
          }
        },
        "01272b9304b84b6f90a34c8b3b837306": {
          "model_module": "@jupyter-widgets/base",
          "model_name": "LayoutModel",
          "model_module_version": "1.2.0",
          "state": {
            "_model_module": "@jupyter-widgets/base",
            "_model_module_version": "1.2.0",
            "_model_name": "LayoutModel",
            "_view_count": null,
            "_view_module": "@jupyter-widgets/base",
            "_view_module_version": "1.2.0",
            "_view_name": "LayoutView",
            "align_content": null,
            "align_items": null,
            "align_self": null,
            "border": null,
            "bottom": null,
            "display": null,
            "flex": null,
            "flex_flow": null,
            "grid_area": null,
            "grid_auto_columns": null,
            "grid_auto_flow": null,
            "grid_auto_rows": null,
            "grid_column": null,
            "grid_gap": null,
            "grid_row": null,
            "grid_template_areas": null,
            "grid_template_columns": null,
            "grid_template_rows": null,
            "height": null,
            "justify_content": null,
            "justify_items": null,
            "left": null,
            "margin": null,
            "max_height": null,
            "max_width": null,
            "min_height": null,
            "min_width": null,
            "object_fit": null,
            "object_position": null,
            "order": null,
            "overflow": null,
            "overflow_x": null,
            "overflow_y": null,
            "padding": null,
            "right": null,
            "top": null,
            "visibility": null,
            "width": null
          }
        },
        "ab30c182b4e741eebfe3c7edb58b59a8": {
          "model_module": "@jupyter-widgets/controls",
          "model_name": "ProgressStyleModel",
          "model_module_version": "1.5.0",
          "state": {
            "_model_module": "@jupyter-widgets/controls",
            "_model_module_version": "1.5.0",
            "_model_name": "ProgressStyleModel",
            "_view_count": null,
            "_view_module": "@jupyter-widgets/base",
            "_view_module_version": "1.2.0",
            "_view_name": "StyleView",
            "bar_color": null,
            "description_width": ""
          }
        },
        "6608703218ec4d6cbf95badfeff6010d": {
          "model_module": "@jupyter-widgets/base",
          "model_name": "LayoutModel",
          "model_module_version": "1.2.0",
          "state": {
            "_model_module": "@jupyter-widgets/base",
            "_model_module_version": "1.2.0",
            "_model_name": "LayoutModel",
            "_view_count": null,
            "_view_module": "@jupyter-widgets/base",
            "_view_module_version": "1.2.0",
            "_view_name": "LayoutView",
            "align_content": null,
            "align_items": null,
            "align_self": null,
            "border": null,
            "bottom": null,
            "display": null,
            "flex": null,
            "flex_flow": null,
            "grid_area": null,
            "grid_auto_columns": null,
            "grid_auto_flow": null,
            "grid_auto_rows": null,
            "grid_column": null,
            "grid_gap": null,
            "grid_row": null,
            "grid_template_areas": null,
            "grid_template_columns": null,
            "grid_template_rows": null,
            "height": null,
            "justify_content": null,
            "justify_items": null,
            "left": null,
            "margin": null,
            "max_height": null,
            "max_width": null,
            "min_height": null,
            "min_width": null,
            "object_fit": null,
            "object_position": null,
            "order": null,
            "overflow": null,
            "overflow_x": null,
            "overflow_y": null,
            "padding": null,
            "right": null,
            "top": null,
            "visibility": null,
            "width": null
          }
        },
        "83f2c67fe4044fa1987c3b10b7ad708b": {
          "model_module": "@jupyter-widgets/controls",
          "model_name": "DescriptionStyleModel",
          "model_module_version": "1.5.0",
          "state": {
            "_model_module": "@jupyter-widgets/controls",
            "_model_module_version": "1.5.0",
            "_model_name": "DescriptionStyleModel",
            "_view_count": null,
            "_view_module": "@jupyter-widgets/base",
            "_view_module_version": "1.2.0",
            "_view_name": "StyleView",
            "description_width": ""
          }
        },
        "ac617b8f8c064ecfa8a3bf7e8ad5faf4": {
          "model_module": "@jupyter-widgets/controls",
          "model_name": "HBoxModel",
          "model_module_version": "1.5.0",
          "state": {
            "_dom_classes": [],
            "_model_module": "@jupyter-widgets/controls",
            "_model_module_version": "1.5.0",
            "_model_name": "HBoxModel",
            "_view_count": null,
            "_view_module": "@jupyter-widgets/controls",
            "_view_module_version": "1.5.0",
            "_view_name": "HBoxView",
            "box_style": "",
            "children": [
              "IPY_MODEL_75d03488e2084c90b30f97457ccb240d",
              "IPY_MODEL_98837106e5094599aaeb57c7cba52855",
              "IPY_MODEL_992202571eb04463a8fe7a8c2e22620c"
            ],
            "layout": "IPY_MODEL_1986d6611b764381a6eade539ecc3003"
          }
        },
        "75d03488e2084c90b30f97457ccb240d": {
          "model_module": "@jupyter-widgets/controls",
          "model_name": "HTMLModel",
          "model_module_version": "1.5.0",
          "state": {
            "_dom_classes": [],
            "_model_module": "@jupyter-widgets/controls",
            "_model_module_version": "1.5.0",
            "_model_name": "HTMLModel",
            "_view_count": null,
            "_view_module": "@jupyter-widgets/controls",
            "_view_module_version": "1.5.0",
            "_view_name": "HTMLView",
            "description": "",
            "description_tooltip": null,
            "layout": "IPY_MODEL_e15b766d1bdb4c06ade361ae58db581a",
            "placeholder": "​",
            "style": "IPY_MODEL_54a7935f96a7496981d81e2535d5d918",
            "value": "Downloading (…)olve/main/vocab.json: 100%"
          }
        },
        "98837106e5094599aaeb57c7cba52855": {
          "model_module": "@jupyter-widgets/controls",
          "model_name": "FloatProgressModel",
          "model_module_version": "1.5.0",
          "state": {
            "_dom_classes": [],
            "_model_module": "@jupyter-widgets/controls",
            "_model_module_version": "1.5.0",
            "_model_name": "FloatProgressModel",
            "_view_count": null,
            "_view_module": "@jupyter-widgets/controls",
            "_view_module_version": "1.5.0",
            "_view_name": "ProgressView",
            "bar_style": "success",
            "description": "",
            "description_tooltip": null,
            "layout": "IPY_MODEL_9ff8cc53adbe44e79222c400d6704eec",
            "max": 798156,
            "min": 0,
            "orientation": "horizontal",
            "style": "IPY_MODEL_45f38f2600f24111a48058162a86a23d",
            "value": 798156
          }
        },
        "992202571eb04463a8fe7a8c2e22620c": {
          "model_module": "@jupyter-widgets/controls",
          "model_name": "HTMLModel",
          "model_module_version": "1.5.0",
          "state": {
            "_dom_classes": [],
            "_model_module": "@jupyter-widgets/controls",
            "_model_module_version": "1.5.0",
            "_model_name": "HTMLModel",
            "_view_count": null,
            "_view_module": "@jupyter-widgets/controls",
            "_view_module_version": "1.5.0",
            "_view_name": "HTMLView",
            "description": "",
            "description_tooltip": null,
            "layout": "IPY_MODEL_d0f044f5beae4c20a595ffea87eefb10",
            "placeholder": "​",
            "style": "IPY_MODEL_6445cdf0f3724f78b5ef20a4a73a54d0",
            "value": " 798k/798k [00:01&lt;00:00, 717kB/s]"
          }
        },
        "1986d6611b764381a6eade539ecc3003": {
          "model_module": "@jupyter-widgets/base",
          "model_name": "LayoutModel",
          "model_module_version": "1.2.0",
          "state": {
            "_model_module": "@jupyter-widgets/base",
            "_model_module_version": "1.2.0",
            "_model_name": "LayoutModel",
            "_view_count": null,
            "_view_module": "@jupyter-widgets/base",
            "_view_module_version": "1.2.0",
            "_view_name": "LayoutView",
            "align_content": null,
            "align_items": null,
            "align_self": null,
            "border": null,
            "bottom": null,
            "display": null,
            "flex": null,
            "flex_flow": null,
            "grid_area": null,
            "grid_auto_columns": null,
            "grid_auto_flow": null,
            "grid_auto_rows": null,
            "grid_column": null,
            "grid_gap": null,
            "grid_row": null,
            "grid_template_areas": null,
            "grid_template_columns": null,
            "grid_template_rows": null,
            "height": null,
            "justify_content": null,
            "justify_items": null,
            "left": null,
            "margin": null,
            "max_height": null,
            "max_width": null,
            "min_height": null,
            "min_width": null,
            "object_fit": null,
            "object_position": null,
            "order": null,
            "overflow": null,
            "overflow_x": null,
            "overflow_y": null,
            "padding": null,
            "right": null,
            "top": null,
            "visibility": null,
            "width": null
          }
        },
        "e15b766d1bdb4c06ade361ae58db581a": {
          "model_module": "@jupyter-widgets/base",
          "model_name": "LayoutModel",
          "model_module_version": "1.2.0",
          "state": {
            "_model_module": "@jupyter-widgets/base",
            "_model_module_version": "1.2.0",
            "_model_name": "LayoutModel",
            "_view_count": null,
            "_view_module": "@jupyter-widgets/base",
            "_view_module_version": "1.2.0",
            "_view_name": "LayoutView",
            "align_content": null,
            "align_items": null,
            "align_self": null,
            "border": null,
            "bottom": null,
            "display": null,
            "flex": null,
            "flex_flow": null,
            "grid_area": null,
            "grid_auto_columns": null,
            "grid_auto_flow": null,
            "grid_auto_rows": null,
            "grid_column": null,
            "grid_gap": null,
            "grid_row": null,
            "grid_template_areas": null,
            "grid_template_columns": null,
            "grid_template_rows": null,
            "height": null,
            "justify_content": null,
            "justify_items": null,
            "left": null,
            "margin": null,
            "max_height": null,
            "max_width": null,
            "min_height": null,
            "min_width": null,
            "object_fit": null,
            "object_position": null,
            "order": null,
            "overflow": null,
            "overflow_x": null,
            "overflow_y": null,
            "padding": null,
            "right": null,
            "top": null,
            "visibility": null,
            "width": null
          }
        },
        "54a7935f96a7496981d81e2535d5d918": {
          "model_module": "@jupyter-widgets/controls",
          "model_name": "DescriptionStyleModel",
          "model_module_version": "1.5.0",
          "state": {
            "_model_module": "@jupyter-widgets/controls",
            "_model_module_version": "1.5.0",
            "_model_name": "DescriptionStyleModel",
            "_view_count": null,
            "_view_module": "@jupyter-widgets/base",
            "_view_module_version": "1.2.0",
            "_view_name": "StyleView",
            "description_width": ""
          }
        },
        "9ff8cc53adbe44e79222c400d6704eec": {
          "model_module": "@jupyter-widgets/base",
          "model_name": "LayoutModel",
          "model_module_version": "1.2.0",
          "state": {
            "_model_module": "@jupyter-widgets/base",
            "_model_module_version": "1.2.0",
            "_model_name": "LayoutModel",
            "_view_count": null,
            "_view_module": "@jupyter-widgets/base",
            "_view_module_version": "1.2.0",
            "_view_name": "LayoutView",
            "align_content": null,
            "align_items": null,
            "align_self": null,
            "border": null,
            "bottom": null,
            "display": null,
            "flex": null,
            "flex_flow": null,
            "grid_area": null,
            "grid_auto_columns": null,
            "grid_auto_flow": null,
            "grid_auto_rows": null,
            "grid_column": null,
            "grid_gap": null,
            "grid_row": null,
            "grid_template_areas": null,
            "grid_template_columns": null,
            "grid_template_rows": null,
            "height": null,
            "justify_content": null,
            "justify_items": null,
            "left": null,
            "margin": null,
            "max_height": null,
            "max_width": null,
            "min_height": null,
            "min_width": null,
            "object_fit": null,
            "object_position": null,
            "order": null,
            "overflow": null,
            "overflow_x": null,
            "overflow_y": null,
            "padding": null,
            "right": null,
            "top": null,
            "visibility": null,
            "width": null
          }
        },
        "45f38f2600f24111a48058162a86a23d": {
          "model_module": "@jupyter-widgets/controls",
          "model_name": "ProgressStyleModel",
          "model_module_version": "1.5.0",
          "state": {
            "_model_module": "@jupyter-widgets/controls",
            "_model_module_version": "1.5.0",
            "_model_name": "ProgressStyleModel",
            "_view_count": null,
            "_view_module": "@jupyter-widgets/base",
            "_view_module_version": "1.2.0",
            "_view_name": "StyleView",
            "bar_color": null,
            "description_width": ""
          }
        },
        "d0f044f5beae4c20a595ffea87eefb10": {
          "model_module": "@jupyter-widgets/base",
          "model_name": "LayoutModel",
          "model_module_version": "1.2.0",
          "state": {
            "_model_module": "@jupyter-widgets/base",
            "_model_module_version": "1.2.0",
            "_model_name": "LayoutModel",
            "_view_count": null,
            "_view_module": "@jupyter-widgets/base",
            "_view_module_version": "1.2.0",
            "_view_name": "LayoutView",
            "align_content": null,
            "align_items": null,
            "align_self": null,
            "border": null,
            "bottom": null,
            "display": null,
            "flex": null,
            "flex_flow": null,
            "grid_area": null,
            "grid_auto_columns": null,
            "grid_auto_flow": null,
            "grid_auto_rows": null,
            "grid_column": null,
            "grid_gap": null,
            "grid_row": null,
            "grid_template_areas": null,
            "grid_template_columns": null,
            "grid_template_rows": null,
            "height": null,
            "justify_content": null,
            "justify_items": null,
            "left": null,
            "margin": null,
            "max_height": null,
            "max_width": null,
            "min_height": null,
            "min_width": null,
            "object_fit": null,
            "object_position": null,
            "order": null,
            "overflow": null,
            "overflow_x": null,
            "overflow_y": null,
            "padding": null,
            "right": null,
            "top": null,
            "visibility": null,
            "width": null
          }
        },
        "6445cdf0f3724f78b5ef20a4a73a54d0": {
          "model_module": "@jupyter-widgets/controls",
          "model_name": "DescriptionStyleModel",
          "model_module_version": "1.5.0",
          "state": {
            "_model_module": "@jupyter-widgets/controls",
            "_model_module_version": "1.5.0",
            "_model_name": "DescriptionStyleModel",
            "_view_count": null,
            "_view_module": "@jupyter-widgets/base",
            "_view_module_version": "1.2.0",
            "_view_name": "StyleView",
            "description_width": ""
          }
        },
        "ee9f11806b5a495ebe7d2466b0009195": {
          "model_module": "@jupyter-widgets/controls",
          "model_name": "HBoxModel",
          "model_module_version": "1.5.0",
          "state": {
            "_dom_classes": [],
            "_model_module": "@jupyter-widgets/controls",
            "_model_module_version": "1.5.0",
            "_model_name": "HBoxModel",
            "_view_count": null,
            "_view_module": "@jupyter-widgets/controls",
            "_view_module_version": "1.5.0",
            "_view_name": "HBoxView",
            "box_style": "",
            "children": [
              "IPY_MODEL_97fccf02a9934570a505a776b2a98f0b",
              "IPY_MODEL_253c1d3544354882b9b39daa4d05c9a9",
              "IPY_MODEL_f044b220df9e41cb9afcbef9f59eb92a"
            ],
            "layout": "IPY_MODEL_220a0260707a4b6f87bef7ffb3a92049"
          }
        },
        "97fccf02a9934570a505a776b2a98f0b": {
          "model_module": "@jupyter-widgets/controls",
          "model_name": "HTMLModel",
          "model_module_version": "1.5.0",
          "state": {
            "_dom_classes": [],
            "_model_module": "@jupyter-widgets/controls",
            "_model_module_version": "1.5.0",
            "_model_name": "HTMLModel",
            "_view_count": null,
            "_view_module": "@jupyter-widgets/controls",
            "_view_module_version": "1.5.0",
            "_view_name": "HTMLView",
            "description": "",
            "description_tooltip": null,
            "layout": "IPY_MODEL_3a5d3b61c4ea45f997aef109d8b103d7",
            "placeholder": "​",
            "style": "IPY_MODEL_e368682e1fcf4eec98a007a0e2b0b48d",
            "value": "Downloading (…)olve/main/merges.txt: 100%"
          }
        },
        "253c1d3544354882b9b39daa4d05c9a9": {
          "model_module": "@jupyter-widgets/controls",
          "model_name": "FloatProgressModel",
          "model_module_version": "1.5.0",
          "state": {
            "_dom_classes": [],
            "_model_module": "@jupyter-widgets/controls",
            "_model_module_version": "1.5.0",
            "_model_name": "FloatProgressModel",
            "_view_count": null,
            "_view_module": "@jupyter-widgets/controls",
            "_view_module_version": "1.5.0",
            "_view_name": "ProgressView",
            "bar_style": "success",
            "description": "",
            "description_tooltip": null,
            "layout": "IPY_MODEL_babae6bc31d7411cbf46ecb9d698e27a",
            "max": 456356,
            "min": 0,
            "orientation": "horizontal",
            "style": "IPY_MODEL_6ba08684e3c64c6dbbb9e56dc93e1e57",
            "value": 456356
          }
        },
        "f044b220df9e41cb9afcbef9f59eb92a": {
          "model_module": "@jupyter-widgets/controls",
          "model_name": "HTMLModel",
          "model_module_version": "1.5.0",
          "state": {
            "_dom_classes": [],
            "_model_module": "@jupyter-widgets/controls",
            "_model_module_version": "1.5.0",
            "_model_name": "HTMLModel",
            "_view_count": null,
            "_view_module": "@jupyter-widgets/controls",
            "_view_module_version": "1.5.0",
            "_view_name": "HTMLView",
            "description": "",
            "description_tooltip": null,
            "layout": "IPY_MODEL_cbf9e58376d748fd80004c9174185def",
            "placeholder": "​",
            "style": "IPY_MODEL_6afabd620bc44f349a35af102a4b8263",
            "value": " 456k/456k [00:01&lt;00:00, 410kB/s]"
          }
        },
        "220a0260707a4b6f87bef7ffb3a92049": {
          "model_module": "@jupyter-widgets/base",
          "model_name": "LayoutModel",
          "model_module_version": "1.2.0",
          "state": {
            "_model_module": "@jupyter-widgets/base",
            "_model_module_version": "1.2.0",
            "_model_name": "LayoutModel",
            "_view_count": null,
            "_view_module": "@jupyter-widgets/base",
            "_view_module_version": "1.2.0",
            "_view_name": "LayoutView",
            "align_content": null,
            "align_items": null,
            "align_self": null,
            "border": null,
            "bottom": null,
            "display": null,
            "flex": null,
            "flex_flow": null,
            "grid_area": null,
            "grid_auto_columns": null,
            "grid_auto_flow": null,
            "grid_auto_rows": null,
            "grid_column": null,
            "grid_gap": null,
            "grid_row": null,
            "grid_template_areas": null,
            "grid_template_columns": null,
            "grid_template_rows": null,
            "height": null,
            "justify_content": null,
            "justify_items": null,
            "left": null,
            "margin": null,
            "max_height": null,
            "max_width": null,
            "min_height": null,
            "min_width": null,
            "object_fit": null,
            "object_position": null,
            "order": null,
            "overflow": null,
            "overflow_x": null,
            "overflow_y": null,
            "padding": null,
            "right": null,
            "top": null,
            "visibility": null,
            "width": null
          }
        },
        "3a5d3b61c4ea45f997aef109d8b103d7": {
          "model_module": "@jupyter-widgets/base",
          "model_name": "LayoutModel",
          "model_module_version": "1.2.0",
          "state": {
            "_model_module": "@jupyter-widgets/base",
            "_model_module_version": "1.2.0",
            "_model_name": "LayoutModel",
            "_view_count": null,
            "_view_module": "@jupyter-widgets/base",
            "_view_module_version": "1.2.0",
            "_view_name": "LayoutView",
            "align_content": null,
            "align_items": null,
            "align_self": null,
            "border": null,
            "bottom": null,
            "display": null,
            "flex": null,
            "flex_flow": null,
            "grid_area": null,
            "grid_auto_columns": null,
            "grid_auto_flow": null,
            "grid_auto_rows": null,
            "grid_column": null,
            "grid_gap": null,
            "grid_row": null,
            "grid_template_areas": null,
            "grid_template_columns": null,
            "grid_template_rows": null,
            "height": null,
            "justify_content": null,
            "justify_items": null,
            "left": null,
            "margin": null,
            "max_height": null,
            "max_width": null,
            "min_height": null,
            "min_width": null,
            "object_fit": null,
            "object_position": null,
            "order": null,
            "overflow": null,
            "overflow_x": null,
            "overflow_y": null,
            "padding": null,
            "right": null,
            "top": null,
            "visibility": null,
            "width": null
          }
        },
        "e368682e1fcf4eec98a007a0e2b0b48d": {
          "model_module": "@jupyter-widgets/controls",
          "model_name": "DescriptionStyleModel",
          "model_module_version": "1.5.0",
          "state": {
            "_model_module": "@jupyter-widgets/controls",
            "_model_module_version": "1.5.0",
            "_model_name": "DescriptionStyleModel",
            "_view_count": null,
            "_view_module": "@jupyter-widgets/base",
            "_view_module_version": "1.2.0",
            "_view_name": "StyleView",
            "description_width": ""
          }
        },
        "babae6bc31d7411cbf46ecb9d698e27a": {
          "model_module": "@jupyter-widgets/base",
          "model_name": "LayoutModel",
          "model_module_version": "1.2.0",
          "state": {
            "_model_module": "@jupyter-widgets/base",
            "_model_module_version": "1.2.0",
            "_model_name": "LayoutModel",
            "_view_count": null,
            "_view_module": "@jupyter-widgets/base",
            "_view_module_version": "1.2.0",
            "_view_name": "LayoutView",
            "align_content": null,
            "align_items": null,
            "align_self": null,
            "border": null,
            "bottom": null,
            "display": null,
            "flex": null,
            "flex_flow": null,
            "grid_area": null,
            "grid_auto_columns": null,
            "grid_auto_flow": null,
            "grid_auto_rows": null,
            "grid_column": null,
            "grid_gap": null,
            "grid_row": null,
            "grid_template_areas": null,
            "grid_template_columns": null,
            "grid_template_rows": null,
            "height": null,
            "justify_content": null,
            "justify_items": null,
            "left": null,
            "margin": null,
            "max_height": null,
            "max_width": null,
            "min_height": null,
            "min_width": null,
            "object_fit": null,
            "object_position": null,
            "order": null,
            "overflow": null,
            "overflow_x": null,
            "overflow_y": null,
            "padding": null,
            "right": null,
            "top": null,
            "visibility": null,
            "width": null
          }
        },
        "6ba08684e3c64c6dbbb9e56dc93e1e57": {
          "model_module": "@jupyter-widgets/controls",
          "model_name": "ProgressStyleModel",
          "model_module_version": "1.5.0",
          "state": {
            "_model_module": "@jupyter-widgets/controls",
            "_model_module_version": "1.5.0",
            "_model_name": "ProgressStyleModel",
            "_view_count": null,
            "_view_module": "@jupyter-widgets/base",
            "_view_module_version": "1.2.0",
            "_view_name": "StyleView",
            "bar_color": null,
            "description_width": ""
          }
        },
        "cbf9e58376d748fd80004c9174185def": {
          "model_module": "@jupyter-widgets/base",
          "model_name": "LayoutModel",
          "model_module_version": "1.2.0",
          "state": {
            "_model_module": "@jupyter-widgets/base",
            "_model_module_version": "1.2.0",
            "_model_name": "LayoutModel",
            "_view_count": null,
            "_view_module": "@jupyter-widgets/base",
            "_view_module_version": "1.2.0",
            "_view_name": "LayoutView",
            "align_content": null,
            "align_items": null,
            "align_self": null,
            "border": null,
            "bottom": null,
            "display": null,
            "flex": null,
            "flex_flow": null,
            "grid_area": null,
            "grid_auto_columns": null,
            "grid_auto_flow": null,
            "grid_auto_rows": null,
            "grid_column": null,
            "grid_gap": null,
            "grid_row": null,
            "grid_template_areas": null,
            "grid_template_columns": null,
            "grid_template_rows": null,
            "height": null,
            "justify_content": null,
            "justify_items": null,
            "left": null,
            "margin": null,
            "max_height": null,
            "max_width": null,
            "min_height": null,
            "min_width": null,
            "object_fit": null,
            "object_position": null,
            "order": null,
            "overflow": null,
            "overflow_x": null,
            "overflow_y": null,
            "padding": null,
            "right": null,
            "top": null,
            "visibility": null,
            "width": null
          }
        },
        "6afabd620bc44f349a35af102a4b8263": {
          "model_module": "@jupyter-widgets/controls",
          "model_name": "DescriptionStyleModel",
          "model_module_version": "1.5.0",
          "state": {
            "_model_module": "@jupyter-widgets/controls",
            "_model_module_version": "1.5.0",
            "_model_name": "DescriptionStyleModel",
            "_view_count": null,
            "_view_module": "@jupyter-widgets/base",
            "_view_module_version": "1.2.0",
            "_view_name": "StyleView",
            "description_width": ""
          }
        },
        "7e24970b9c5045aaaa0a36bac5e8fcaa": {
          "model_module": "@jupyter-widgets/controls",
          "model_name": "HBoxModel",
          "model_module_version": "1.5.0",
          "state": {
            "_dom_classes": [],
            "_model_module": "@jupyter-widgets/controls",
            "_model_module_version": "1.5.0",
            "_model_name": "HBoxModel",
            "_view_count": null,
            "_view_module": "@jupyter-widgets/controls",
            "_view_module_version": "1.5.0",
            "_view_name": "HBoxView",
            "box_style": "",
            "children": [
              "IPY_MODEL_e334e4b319c54bde9c2ed1c5ac26e483",
              "IPY_MODEL_f13158f36a374992972ad82830ca08a4",
              "IPY_MODEL_0ef2d8f9815c4a6dbe4ef6fd1993c317"
            ],
            "layout": "IPY_MODEL_4f7d4c81ba8f406283e98e641f96ba42"
          }
        },
        "e334e4b319c54bde9c2ed1c5ac26e483": {
          "model_module": "@jupyter-widgets/controls",
          "model_name": "HTMLModel",
          "model_module_version": "1.5.0",
          "state": {
            "_dom_classes": [],
            "_model_module": "@jupyter-widgets/controls",
            "_model_module_version": "1.5.0",
            "_model_name": "HTMLModel",
            "_view_count": null,
            "_view_module": "@jupyter-widgets/controls",
            "_view_module_version": "1.5.0",
            "_view_name": "HTMLView",
            "description": "",
            "description_tooltip": null,
            "layout": "IPY_MODEL_98c10f3d96854c39b904857635838502",
            "placeholder": "​",
            "style": "IPY_MODEL_878fa03f5a9c4843940b6763af7b6a94",
            "value": "Downloading (…)cial_tokens_map.json: 100%"
          }
        },
        "f13158f36a374992972ad82830ca08a4": {
          "model_module": "@jupyter-widgets/controls",
          "model_name": "FloatProgressModel",
          "model_module_version": "1.5.0",
          "state": {
            "_dom_classes": [],
            "_model_module": "@jupyter-widgets/controls",
            "_model_module_version": "1.5.0",
            "_model_name": "FloatProgressModel",
            "_view_count": null,
            "_view_module": "@jupyter-widgets/controls",
            "_view_module_version": "1.5.0",
            "_view_name": "ProgressView",
            "bar_style": "success",
            "description": "",
            "description_tooltip": null,
            "layout": "IPY_MODEL_4c3ecea38ca24d6d93789250580328dc",
            "max": 90,
            "min": 0,
            "orientation": "horizontal",
            "style": "IPY_MODEL_df333872d21c4e7f9899e5bf001772d2",
            "value": 90
          }
        },
        "0ef2d8f9815c4a6dbe4ef6fd1993c317": {
          "model_module": "@jupyter-widgets/controls",
          "model_name": "HTMLModel",
          "model_module_version": "1.5.0",
          "state": {
            "_dom_classes": [],
            "_model_module": "@jupyter-widgets/controls",
            "_model_module_version": "1.5.0",
            "_model_name": "HTMLModel",
            "_view_count": null,
            "_view_module": "@jupyter-widgets/controls",
            "_view_module_version": "1.5.0",
            "_view_name": "HTMLView",
            "description": "",
            "description_tooltip": null,
            "layout": "IPY_MODEL_c29563deda3f430fb6b462fca438a3b9",
            "placeholder": "​",
            "style": "IPY_MODEL_6693e803875c41d497b8eef55ca5771f",
            "value": " 90.0/90.0 [00:00&lt;00:00, 5.68kB/s]"
          }
        },
        "4f7d4c81ba8f406283e98e641f96ba42": {
          "model_module": "@jupyter-widgets/base",
          "model_name": "LayoutModel",
          "model_module_version": "1.2.0",
          "state": {
            "_model_module": "@jupyter-widgets/base",
            "_model_module_version": "1.2.0",
            "_model_name": "LayoutModel",
            "_view_count": null,
            "_view_module": "@jupyter-widgets/base",
            "_view_module_version": "1.2.0",
            "_view_name": "LayoutView",
            "align_content": null,
            "align_items": null,
            "align_self": null,
            "border": null,
            "bottom": null,
            "display": null,
            "flex": null,
            "flex_flow": null,
            "grid_area": null,
            "grid_auto_columns": null,
            "grid_auto_flow": null,
            "grid_auto_rows": null,
            "grid_column": null,
            "grid_gap": null,
            "grid_row": null,
            "grid_template_areas": null,
            "grid_template_columns": null,
            "grid_template_rows": null,
            "height": null,
            "justify_content": null,
            "justify_items": null,
            "left": null,
            "margin": null,
            "max_height": null,
            "max_width": null,
            "min_height": null,
            "min_width": null,
            "object_fit": null,
            "object_position": null,
            "order": null,
            "overflow": null,
            "overflow_x": null,
            "overflow_y": null,
            "padding": null,
            "right": null,
            "top": null,
            "visibility": null,
            "width": null
          }
        },
        "98c10f3d96854c39b904857635838502": {
          "model_module": "@jupyter-widgets/base",
          "model_name": "LayoutModel",
          "model_module_version": "1.2.0",
          "state": {
            "_model_module": "@jupyter-widgets/base",
            "_model_module_version": "1.2.0",
            "_model_name": "LayoutModel",
            "_view_count": null,
            "_view_module": "@jupyter-widgets/base",
            "_view_module_version": "1.2.0",
            "_view_name": "LayoutView",
            "align_content": null,
            "align_items": null,
            "align_self": null,
            "border": null,
            "bottom": null,
            "display": null,
            "flex": null,
            "flex_flow": null,
            "grid_area": null,
            "grid_auto_columns": null,
            "grid_auto_flow": null,
            "grid_auto_rows": null,
            "grid_column": null,
            "grid_gap": null,
            "grid_row": null,
            "grid_template_areas": null,
            "grid_template_columns": null,
            "grid_template_rows": null,
            "height": null,
            "justify_content": null,
            "justify_items": null,
            "left": null,
            "margin": null,
            "max_height": null,
            "max_width": null,
            "min_height": null,
            "min_width": null,
            "object_fit": null,
            "object_position": null,
            "order": null,
            "overflow": null,
            "overflow_x": null,
            "overflow_y": null,
            "padding": null,
            "right": null,
            "top": null,
            "visibility": null,
            "width": null
          }
        },
        "878fa03f5a9c4843940b6763af7b6a94": {
          "model_module": "@jupyter-widgets/controls",
          "model_name": "DescriptionStyleModel",
          "model_module_version": "1.5.0",
          "state": {
            "_model_module": "@jupyter-widgets/controls",
            "_model_module_version": "1.5.0",
            "_model_name": "DescriptionStyleModel",
            "_view_count": null,
            "_view_module": "@jupyter-widgets/base",
            "_view_module_version": "1.2.0",
            "_view_name": "StyleView",
            "description_width": ""
          }
        },
        "4c3ecea38ca24d6d93789250580328dc": {
          "model_module": "@jupyter-widgets/base",
          "model_name": "LayoutModel",
          "model_module_version": "1.2.0",
          "state": {
            "_model_module": "@jupyter-widgets/base",
            "_model_module_version": "1.2.0",
            "_model_name": "LayoutModel",
            "_view_count": null,
            "_view_module": "@jupyter-widgets/base",
            "_view_module_version": "1.2.0",
            "_view_name": "LayoutView",
            "align_content": null,
            "align_items": null,
            "align_self": null,
            "border": null,
            "bottom": null,
            "display": null,
            "flex": null,
            "flex_flow": null,
            "grid_area": null,
            "grid_auto_columns": null,
            "grid_auto_flow": null,
            "grid_auto_rows": null,
            "grid_column": null,
            "grid_gap": null,
            "grid_row": null,
            "grid_template_areas": null,
            "grid_template_columns": null,
            "grid_template_rows": null,
            "height": null,
            "justify_content": null,
            "justify_items": null,
            "left": null,
            "margin": null,
            "max_height": null,
            "max_width": null,
            "min_height": null,
            "min_width": null,
            "object_fit": null,
            "object_position": null,
            "order": null,
            "overflow": null,
            "overflow_x": null,
            "overflow_y": null,
            "padding": null,
            "right": null,
            "top": null,
            "visibility": null,
            "width": null
          }
        },
        "df333872d21c4e7f9899e5bf001772d2": {
          "model_module": "@jupyter-widgets/controls",
          "model_name": "ProgressStyleModel",
          "model_module_version": "1.5.0",
          "state": {
            "_model_module": "@jupyter-widgets/controls",
            "_model_module_version": "1.5.0",
            "_model_name": "ProgressStyleModel",
            "_view_count": null,
            "_view_module": "@jupyter-widgets/base",
            "_view_module_version": "1.2.0",
            "_view_name": "StyleView",
            "bar_color": null,
            "description_width": ""
          }
        },
        "c29563deda3f430fb6b462fca438a3b9": {
          "model_module": "@jupyter-widgets/base",
          "model_name": "LayoutModel",
          "model_module_version": "1.2.0",
          "state": {
            "_model_module": "@jupyter-widgets/base",
            "_model_module_version": "1.2.0",
            "_model_name": "LayoutModel",
            "_view_count": null,
            "_view_module": "@jupyter-widgets/base",
            "_view_module_version": "1.2.0",
            "_view_name": "LayoutView",
            "align_content": null,
            "align_items": null,
            "align_self": null,
            "border": null,
            "bottom": null,
            "display": null,
            "flex": null,
            "flex_flow": null,
            "grid_area": null,
            "grid_auto_columns": null,
            "grid_auto_flow": null,
            "grid_auto_rows": null,
            "grid_column": null,
            "grid_gap": null,
            "grid_row": null,
            "grid_template_areas": null,
            "grid_template_columns": null,
            "grid_template_rows": null,
            "height": null,
            "justify_content": null,
            "justify_items": null,
            "left": null,
            "margin": null,
            "max_height": null,
            "max_width": null,
            "min_height": null,
            "min_width": null,
            "object_fit": null,
            "object_position": null,
            "order": null,
            "overflow": null,
            "overflow_x": null,
            "overflow_y": null,
            "padding": null,
            "right": null,
            "top": null,
            "visibility": null,
            "width": null
          }
        },
        "6693e803875c41d497b8eef55ca5771f": {
          "model_module": "@jupyter-widgets/controls",
          "model_name": "DescriptionStyleModel",
          "model_module_version": "1.5.0",
          "state": {
            "_model_module": "@jupyter-widgets/controls",
            "_model_module_version": "1.5.0",
            "_model_name": "DescriptionStyleModel",
            "_view_count": null,
            "_view_module": "@jupyter-widgets/base",
            "_view_module_version": "1.2.0",
            "_view_name": "StyleView",
            "description_width": ""
          }
        },
        "fcbac789c31f4fb49cb94ecaf733e7d1": {
          "model_module": "@jupyter-widgets/controls",
          "model_name": "HBoxModel",
          "model_module_version": "1.5.0",
          "state": {
            "_dom_classes": [],
            "_model_module": "@jupyter-widgets/controls",
            "_model_module_version": "1.5.0",
            "_model_name": "HBoxModel",
            "_view_count": null,
            "_view_module": "@jupyter-widgets/controls",
            "_view_module_version": "1.5.0",
            "_view_name": "HBoxView",
            "box_style": "",
            "children": [
              "IPY_MODEL_b92fdc09e2ab4e068d1960e51f601954",
              "IPY_MODEL_50597da959074152b4c64ecebcc5211b",
              "IPY_MODEL_eedebf98e1e14f079124307a4f2cfd90"
            ],
            "layout": "IPY_MODEL_8d61b369953445e3a29bb0f4e76ec21d"
          }
        },
        "b92fdc09e2ab4e068d1960e51f601954": {
          "model_module": "@jupyter-widgets/controls",
          "model_name": "HTMLModel",
          "model_module_version": "1.5.0",
          "state": {
            "_dom_classes": [],
            "_model_module": "@jupyter-widgets/controls",
            "_model_module_version": "1.5.0",
            "_model_name": "HTMLModel",
            "_view_count": null,
            "_view_module": "@jupyter-widgets/controls",
            "_view_module_version": "1.5.0",
            "_view_name": "HTMLView",
            "description": "",
            "description_tooltip": null,
            "layout": "IPY_MODEL_1edc7dfd975e4a6d9bbc8f5088aa1d78",
            "placeholder": "​",
            "style": "IPY_MODEL_c0feaeb048b949b29e68844aa3ff9d62",
            "value": "Downloading (…)&quot;pytorch_model.bin&quot;;: 100%"
          }
        },
        "50597da959074152b4c64ecebcc5211b": {
          "model_module": "@jupyter-widgets/controls",
          "model_name": "FloatProgressModel",
          "model_module_version": "1.5.0",
          "state": {
            "_dom_classes": [],
            "_model_module": "@jupyter-widgets/controls",
            "_model_module_version": "1.5.0",
            "_model_name": "FloatProgressModel",
            "_view_count": null,
            "_view_module": "@jupyter-widgets/controls",
            "_view_module_version": "1.5.0",
            "_view_name": "ProgressView",
            "bar_style": "success",
            "description": "",
            "description_tooltip": null,
            "layout": "IPY_MODEL_24be14b49dca475287912ef331d2afac",
            "max": 10672498931,
            "min": 0,
            "orientation": "horizontal",
            "style": "IPY_MODEL_5a141bb610a04d4f876234855c8e9aaa",
            "value": 10672498931
          }
        },
        "eedebf98e1e14f079124307a4f2cfd90": {
          "model_module": "@jupyter-widgets/controls",
          "model_name": "HTMLModel",
          "model_module_version": "1.5.0",
          "state": {
            "_dom_classes": [],
            "_model_module": "@jupyter-widgets/controls",
            "_model_module_version": "1.5.0",
            "_model_name": "HTMLModel",
            "_view_count": null,
            "_view_module": "@jupyter-widgets/controls",
            "_view_module_version": "1.5.0",
            "_view_name": "HTMLView",
            "description": "",
            "description_tooltip": null,
            "layout": "IPY_MODEL_56d2410c063c48468736335bcee14e98",
            "placeholder": "​",
            "style": "IPY_MODEL_b350aebb0c1e4a78bdc35274efca6f36",
            "value": " 10.7G/10.7G [01:06&lt;00:00, 169MB/s]"
          }
        },
        "8d61b369953445e3a29bb0f4e76ec21d": {
          "model_module": "@jupyter-widgets/base",
          "model_name": "LayoutModel",
          "model_module_version": "1.2.0",
          "state": {
            "_model_module": "@jupyter-widgets/base",
            "_model_module_version": "1.2.0",
            "_model_name": "LayoutModel",
            "_view_count": null,
            "_view_module": "@jupyter-widgets/base",
            "_view_module_version": "1.2.0",
            "_view_name": "LayoutView",
            "align_content": null,
            "align_items": null,
            "align_self": null,
            "border": null,
            "bottom": null,
            "display": null,
            "flex": null,
            "flex_flow": null,
            "grid_area": null,
            "grid_auto_columns": null,
            "grid_auto_flow": null,
            "grid_auto_rows": null,
            "grid_column": null,
            "grid_gap": null,
            "grid_row": null,
            "grid_template_areas": null,
            "grid_template_columns": null,
            "grid_template_rows": null,
            "height": null,
            "justify_content": null,
            "justify_items": null,
            "left": null,
            "margin": null,
            "max_height": null,
            "max_width": null,
            "min_height": null,
            "min_width": null,
            "object_fit": null,
            "object_position": null,
            "order": null,
            "overflow": null,
            "overflow_x": null,
            "overflow_y": null,
            "padding": null,
            "right": null,
            "top": null,
            "visibility": null,
            "width": null
          }
        },
        "1edc7dfd975e4a6d9bbc8f5088aa1d78": {
          "model_module": "@jupyter-widgets/base",
          "model_name": "LayoutModel",
          "model_module_version": "1.2.0",
          "state": {
            "_model_module": "@jupyter-widgets/base",
            "_model_module_version": "1.2.0",
            "_model_name": "LayoutModel",
            "_view_count": null,
            "_view_module": "@jupyter-widgets/base",
            "_view_module_version": "1.2.0",
            "_view_name": "LayoutView",
            "align_content": null,
            "align_items": null,
            "align_self": null,
            "border": null,
            "bottom": null,
            "display": null,
            "flex": null,
            "flex_flow": null,
            "grid_area": null,
            "grid_auto_columns": null,
            "grid_auto_flow": null,
            "grid_auto_rows": null,
            "grid_column": null,
            "grid_gap": null,
            "grid_row": null,
            "grid_template_areas": null,
            "grid_template_columns": null,
            "grid_template_rows": null,
            "height": null,
            "justify_content": null,
            "justify_items": null,
            "left": null,
            "margin": null,
            "max_height": null,
            "max_width": null,
            "min_height": null,
            "min_width": null,
            "object_fit": null,
            "object_position": null,
            "order": null,
            "overflow": null,
            "overflow_x": null,
            "overflow_y": null,
            "padding": null,
            "right": null,
            "top": null,
            "visibility": null,
            "width": null
          }
        },
        "c0feaeb048b949b29e68844aa3ff9d62": {
          "model_module": "@jupyter-widgets/controls",
          "model_name": "DescriptionStyleModel",
          "model_module_version": "1.5.0",
          "state": {
            "_model_module": "@jupyter-widgets/controls",
            "_model_module_version": "1.5.0",
            "_model_name": "DescriptionStyleModel",
            "_view_count": null,
            "_view_module": "@jupyter-widgets/base",
            "_view_module_version": "1.2.0",
            "_view_name": "StyleView",
            "description_width": ""
          }
        },
        "24be14b49dca475287912ef331d2afac": {
          "model_module": "@jupyter-widgets/base",
          "model_name": "LayoutModel",
          "model_module_version": "1.2.0",
          "state": {
            "_model_module": "@jupyter-widgets/base",
            "_model_module_version": "1.2.0",
            "_model_name": "LayoutModel",
            "_view_count": null,
            "_view_module": "@jupyter-widgets/base",
            "_view_module_version": "1.2.0",
            "_view_name": "LayoutView",
            "align_content": null,
            "align_items": null,
            "align_self": null,
            "border": null,
            "bottom": null,
            "display": null,
            "flex": null,
            "flex_flow": null,
            "grid_area": null,
            "grid_auto_columns": null,
            "grid_auto_flow": null,
            "grid_auto_rows": null,
            "grid_column": null,
            "grid_gap": null,
            "grid_row": null,
            "grid_template_areas": null,
            "grid_template_columns": null,
            "grid_template_rows": null,
            "height": null,
            "justify_content": null,
            "justify_items": null,
            "left": null,
            "margin": null,
            "max_height": null,
            "max_width": null,
            "min_height": null,
            "min_width": null,
            "object_fit": null,
            "object_position": null,
            "order": null,
            "overflow": null,
            "overflow_x": null,
            "overflow_y": null,
            "padding": null,
            "right": null,
            "top": null,
            "visibility": null,
            "width": null
          }
        },
        "5a141bb610a04d4f876234855c8e9aaa": {
          "model_module": "@jupyter-widgets/controls",
          "model_name": "ProgressStyleModel",
          "model_module_version": "1.5.0",
          "state": {
            "_model_module": "@jupyter-widgets/controls",
            "_model_module_version": "1.5.0",
            "_model_name": "ProgressStyleModel",
            "_view_count": null,
            "_view_module": "@jupyter-widgets/base",
            "_view_module_version": "1.2.0",
            "_view_name": "StyleView",
            "bar_color": null,
            "description_width": ""
          }
        },
        "56d2410c063c48468736335bcee14e98": {
          "model_module": "@jupyter-widgets/base",
          "model_name": "LayoutModel",
          "model_module_version": "1.2.0",
          "state": {
            "_model_module": "@jupyter-widgets/base",
            "_model_module_version": "1.2.0",
            "_model_name": "LayoutModel",
            "_view_count": null,
            "_view_module": "@jupyter-widgets/base",
            "_view_module_version": "1.2.0",
            "_view_name": "LayoutView",
            "align_content": null,
            "align_items": null,
            "align_self": null,
            "border": null,
            "bottom": null,
            "display": null,
            "flex": null,
            "flex_flow": null,
            "grid_area": null,
            "grid_auto_columns": null,
            "grid_auto_flow": null,
            "grid_auto_rows": null,
            "grid_column": null,
            "grid_gap": null,
            "grid_row": null,
            "grid_template_areas": null,
            "grid_template_columns": null,
            "grid_template_rows": null,
            "height": null,
            "justify_content": null,
            "justify_items": null,
            "left": null,
            "margin": null,
            "max_height": null,
            "max_width": null,
            "min_height": null,
            "min_width": null,
            "object_fit": null,
            "object_position": null,
            "order": null,
            "overflow": null,
            "overflow_x": null,
            "overflow_y": null,
            "padding": null,
            "right": null,
            "top": null,
            "visibility": null,
            "width": null
          }
        },
        "b350aebb0c1e4a78bdc35274efca6f36": {
          "model_module": "@jupyter-widgets/controls",
          "model_name": "DescriptionStyleModel",
          "model_module_version": "1.5.0",
          "state": {
            "_model_module": "@jupyter-widgets/controls",
            "_model_module_version": "1.5.0",
            "_model_name": "DescriptionStyleModel",
            "_view_count": null,
            "_view_module": "@jupyter-widgets/base",
            "_view_module_version": "1.2.0",
            "_view_name": "StyleView",
            "description_width": ""
          }
        }
      }
    }
  },
  "cells": [
    {
      "cell_type": "markdown",
      "metadata": {
        "id": "view-in-github",
        "colab_type": "text"
      },
      "source": [
        "<a href=\"https://colab.research.google.com/github/plaban1981/Hugging_Face_transformers_topics/blob/main/AI_Content_Generator_Open_Source_GPT_Neo_Transformers_EleutherAI.ipynb\" target=\"_parent\"><img src=\"https://colab.research.google.com/assets/colab-badge.svg\" alt=\"Open In Colab\"/></a>"
      ]
    },
    {
      "cell_type": "code",
      "execution_count": null,
      "metadata": {
        "colab": {
          "base_uri": "https://localhost:8080/"
        },
        "id": "JeH5tw3igWVv",
        "outputId": "c38d294d-d70b-42b6-f335-57b902f67797"
      },
      "outputs": [
        {
          "output_type": "stream",
          "name": "stdout",
          "text": [
            "Looking in indexes: https://pypi.org/simple, https://us-python.pkg.dev/colab-wheels/public/simple/\n",
            "Collecting transformers\n",
            "  Downloading transformers-4.26.1-py3-none-any.whl (6.3 MB)\n",
            "\u001b[2K     \u001b[90m━━━━━━━━━━━━━━━━━━━━━━━━━━━━━━━━━━━━━━━━\u001b[0m \u001b[32m6.3/6.3 MB\u001b[0m \u001b[31m106.6 MB/s\u001b[0m eta \u001b[36m0:00:00\u001b[0m\n",
            "\u001b[?25hRequirement already satisfied: requests in /usr/local/lib/python3.8/dist-packages (from transformers) (2.25.1)\n",
            "Collecting huggingface-hub<1.0,>=0.11.0\n",
            "  Downloading huggingface_hub-0.12.1-py3-none-any.whl (190 kB)\n",
            "\u001b[2K     \u001b[90m━━━━━━━━━━━━━━━━━━━━━━━━━━━━━━━━━━━━━━\u001b[0m \u001b[32m190.3/190.3 KB\u001b[0m \u001b[31m25.9 MB/s\u001b[0m eta \u001b[36m0:00:00\u001b[0m\n",
            "\u001b[?25hRequirement already satisfied: numpy>=1.17 in /usr/local/lib/python3.8/dist-packages (from transformers) (1.21.6)\n",
            "Requirement already satisfied: filelock in /usr/local/lib/python3.8/dist-packages (from transformers) (3.9.0)\n",
            "Requirement already satisfied: packaging>=20.0 in /usr/local/lib/python3.8/dist-packages (from transformers) (23.0)\n",
            "Collecting tokenizers!=0.11.3,<0.14,>=0.11.1\n",
            "  Downloading tokenizers-0.13.2-cp38-cp38-manylinux_2_17_x86_64.manylinux2014_x86_64.whl (7.6 MB)\n",
            "\u001b[2K     \u001b[90m━━━━━━━━━━━━━━━━━━━━━━━━━━━━━━━━━━━━━━━━\u001b[0m \u001b[32m7.6/7.6 MB\u001b[0m \u001b[31m113.8 MB/s\u001b[0m eta \u001b[36m0:00:00\u001b[0m\n",
            "\u001b[?25hRequirement already satisfied: pyyaml>=5.1 in /usr/local/lib/python3.8/dist-packages (from transformers) (6.0)\n",
            "Requirement already satisfied: regex!=2019.12.17 in /usr/local/lib/python3.8/dist-packages (from transformers) (2022.6.2)\n",
            "Requirement already satisfied: tqdm>=4.27 in /usr/local/lib/python3.8/dist-packages (from transformers) (4.64.1)\n",
            "Requirement already satisfied: typing-extensions>=3.7.4.3 in /usr/local/lib/python3.8/dist-packages (from huggingface-hub<1.0,>=0.11.0->transformers) (4.5.0)\n",
            "Requirement already satisfied: urllib3<1.27,>=1.21.1 in /usr/local/lib/python3.8/dist-packages (from requests->transformers) (1.24.3)\n",
            "Requirement already satisfied: certifi>=2017.4.17 in /usr/local/lib/python3.8/dist-packages (from requests->transformers) (2022.12.7)\n",
            "Requirement already satisfied: idna<3,>=2.5 in /usr/local/lib/python3.8/dist-packages (from requests->transformers) (2.10)\n",
            "Requirement already satisfied: chardet<5,>=3.0.2 in /usr/local/lib/python3.8/dist-packages (from requests->transformers) (4.0.0)\n",
            "Installing collected packages: tokenizers, huggingface-hub, transformers\n",
            "Successfully installed huggingface-hub-0.12.1 tokenizers-0.13.2 transformers-4.26.1\n"
          ]
        }
      ],
      "source": [
        "!pip install transformers"
      ]
    },
    {
      "cell_type": "markdown",
      "source": [
        "## GPT-Neo 2.7B\n",
        "\n",
        "GPT-Neo 2.7B is a language model designed to generate text based on the patterns and relationships it learns from its training data. However, due to the vast amount of data it was trained on, the text generated by GPT-Neo 2.7B can sometimes appear random or unpredictable.\n",
        "\n",
        "####Here are some tips that might help reduce the randomness of the text generated by GPT-Neo 2.7B:\n",
        "\n",
        "* Provide more context: GPT-Neo 2.7B generates text based on the context it is given. By providing more specific and relevant context, you can guide the model to generate more accurate and coherent text. For example, if you're generating text about a specific topic, provide as much relevant information about that topic as possible.\n",
        "\n",
        "* Fine-tune the model: Fine-tuning is the process of training a pre-trained model on a specific dataset or task. By fine-tuning GPT-Neo 2.7B on a specific dataset or task, you can tailor the model to generate text that is more relevant to that particular domain. This can help reduce the randomness of the text generated by the model.\n",
        "\n",
        "* Use prompt engineering: Prompt engineering is the process of designing a prompt or starting point for the model that encourages it to generate text that is relevant to a specific topic or context. By designing a prompt that is specific and relevant to the task at hand, you can guide the model to generate text that is less random and more coherent.\n",
        "\n",
        "* Increase the length of generated text: Sometimes the text generated by GPT-Neo 2.7B might appear random simply because it is too short. By generating longer texts, you can give the model more opportunities to establish coherence and relevance.\n",
        "\n",
        "* Use top-k sampling: Top-k sampling is a technique that limits the number of choices the model can make when generating text. By limiting the number of choices, you can guide the model to generate more relevant and coherent text. Experiment with different values of k to find the optimal value for your use case.\n",
        "\n",
        "It's important to keep in mind that GPT-Neo 2.7B is a probabilistic model and is inherently stochastic, meaning it may still produce some degree of randomness even when these techniques are applied. However, these techniques can help reduce the randomness and increase the coherence of the text generated by the model.\n",
        "\n",
        "\n",
        "\n"
      ],
      "metadata": {
        "id": "dFjlpZhyAygu"
      }
    },
    {
      "cell_type": "code",
      "source": [
        "from transformers import AutoTokenizer, AutoModelForCausalLM\n",
        "\n",
        "tokenizer = AutoTokenizer.from_pretrained(\"EleutherAI/gpt-neo-2.7B\")\n",
        "model = AutoModelForCausalLM.from_pretrained(\"EleutherAI/gpt-neo-2.7B\")"
      ],
      "metadata": {
        "colab": {
          "base_uri": "https://localhost:8080/",
          "height": 209,
          "referenced_widgets": [
            "5466795d31154474b0dc956ce7ab2671",
            "029801139c9e4d358f17df18fb5cc335",
            "f36dc78470ea40479e7876bd08b73518",
            "a1dfe7b7e91a483588d65007e950e5fc",
            "50ad9153eceb4ec4a251bf83d2056a3e",
            "23c3cc1c2e354b0f9ad00b50951fc780",
            "041f950026ae43228322e4a5542de572",
            "7bb733e4c266421883979c010b468113",
            "bdd10650dd344a04b9ecab3591781f32",
            "33a0ecc6a0084a87bf5405a5daa10a43",
            "c8beef32276945b2ba4e02137272f160",
            "b2e598aa8cf74d4eb076b066d4a6d03b",
            "52ff5b531c7a48eda73ee3d69bf382a7",
            "85bc0717c5054accbe7e0039c7bfd60c",
            "68912acb4fcc489e8134663967e26bc7",
            "279cc2946adb438395bce50454bd67cc",
            "d88bbf07256e49d9b95ac988be86bc36",
            "4fdb600ccb734e778fd21959e3c7b676",
            "01272b9304b84b6f90a34c8b3b837306",
            "ab30c182b4e741eebfe3c7edb58b59a8",
            "6608703218ec4d6cbf95badfeff6010d",
            "83f2c67fe4044fa1987c3b10b7ad708b",
            "ac617b8f8c064ecfa8a3bf7e8ad5faf4",
            "75d03488e2084c90b30f97457ccb240d",
            "98837106e5094599aaeb57c7cba52855",
            "992202571eb04463a8fe7a8c2e22620c",
            "1986d6611b764381a6eade539ecc3003",
            "e15b766d1bdb4c06ade361ae58db581a",
            "54a7935f96a7496981d81e2535d5d918",
            "9ff8cc53adbe44e79222c400d6704eec",
            "45f38f2600f24111a48058162a86a23d",
            "d0f044f5beae4c20a595ffea87eefb10",
            "6445cdf0f3724f78b5ef20a4a73a54d0",
            "ee9f11806b5a495ebe7d2466b0009195",
            "97fccf02a9934570a505a776b2a98f0b",
            "253c1d3544354882b9b39daa4d05c9a9",
            "f044b220df9e41cb9afcbef9f59eb92a",
            "220a0260707a4b6f87bef7ffb3a92049",
            "3a5d3b61c4ea45f997aef109d8b103d7",
            "e368682e1fcf4eec98a007a0e2b0b48d",
            "babae6bc31d7411cbf46ecb9d698e27a",
            "6ba08684e3c64c6dbbb9e56dc93e1e57",
            "cbf9e58376d748fd80004c9174185def",
            "6afabd620bc44f349a35af102a4b8263",
            "7e24970b9c5045aaaa0a36bac5e8fcaa",
            "e334e4b319c54bde9c2ed1c5ac26e483",
            "f13158f36a374992972ad82830ca08a4",
            "0ef2d8f9815c4a6dbe4ef6fd1993c317",
            "4f7d4c81ba8f406283e98e641f96ba42",
            "98c10f3d96854c39b904857635838502",
            "878fa03f5a9c4843940b6763af7b6a94",
            "4c3ecea38ca24d6d93789250580328dc",
            "df333872d21c4e7f9899e5bf001772d2",
            "c29563deda3f430fb6b462fca438a3b9",
            "6693e803875c41d497b8eef55ca5771f",
            "fcbac789c31f4fb49cb94ecaf733e7d1",
            "b92fdc09e2ab4e068d1960e51f601954",
            "50597da959074152b4c64ecebcc5211b",
            "eedebf98e1e14f079124307a4f2cfd90",
            "8d61b369953445e3a29bb0f4e76ec21d",
            "1edc7dfd975e4a6d9bbc8f5088aa1d78",
            "c0feaeb048b949b29e68844aa3ff9d62",
            "24be14b49dca475287912ef331d2afac",
            "5a141bb610a04d4f876234855c8e9aaa",
            "56d2410c063c48468736335bcee14e98",
            "b350aebb0c1e4a78bdc35274efca6f36"
          ]
        },
        "id": "J16CkLGovEe-",
        "outputId": "1b21d76d-4782-4cb7-8dc0-39abd1cd93d7"
      },
      "execution_count": null,
      "outputs": [
        {
          "output_type": "display_data",
          "data": {
            "text/plain": [
              "Downloading (…)okenizer_config.json:   0%|          | 0.00/200 [00:00<?, ?B/s]"
            ],
            "application/vnd.jupyter.widget-view+json": {
              "version_major": 2,
              "version_minor": 0,
              "model_id": "5466795d31154474b0dc956ce7ab2671"
            }
          },
          "metadata": {}
        },
        {
          "output_type": "display_data",
          "data": {
            "text/plain": [
              "Downloading (…)lve/main/config.json:   0%|          | 0.00/1.46k [00:00<?, ?B/s]"
            ],
            "application/vnd.jupyter.widget-view+json": {
              "version_major": 2,
              "version_minor": 0,
              "model_id": "b2e598aa8cf74d4eb076b066d4a6d03b"
            }
          },
          "metadata": {}
        },
        {
          "output_type": "display_data",
          "data": {
            "text/plain": [
              "Downloading (…)olve/main/vocab.json:   0%|          | 0.00/798k [00:00<?, ?B/s]"
            ],
            "application/vnd.jupyter.widget-view+json": {
              "version_major": 2,
              "version_minor": 0,
              "model_id": "ac617b8f8c064ecfa8a3bf7e8ad5faf4"
            }
          },
          "metadata": {}
        },
        {
          "output_type": "display_data",
          "data": {
            "text/plain": [
              "Downloading (…)olve/main/merges.txt:   0%|          | 0.00/456k [00:00<?, ?B/s]"
            ],
            "application/vnd.jupyter.widget-view+json": {
              "version_major": 2,
              "version_minor": 0,
              "model_id": "ee9f11806b5a495ebe7d2466b0009195"
            }
          },
          "metadata": {}
        },
        {
          "output_type": "display_data",
          "data": {
            "text/plain": [
              "Downloading (…)cial_tokens_map.json:   0%|          | 0.00/90.0 [00:00<?, ?B/s]"
            ],
            "application/vnd.jupyter.widget-view+json": {
              "version_major": 2,
              "version_minor": 0,
              "model_id": "7e24970b9c5045aaaa0a36bac5e8fcaa"
            }
          },
          "metadata": {}
        },
        {
          "output_type": "display_data",
          "data": {
            "text/plain": [
              "Downloading (…)\"pytorch_model.bin\";:   0%|          | 0.00/10.7G [00:00<?, ?B/s]"
            ],
            "application/vnd.jupyter.widget-view+json": {
              "version_major": 2,
              "version_minor": 0,
              "model_id": "fcbac789c31f4fb49cb94ecaf733e7d1"
            }
          },
          "metadata": {}
        }
      ]
    },
    {
      "cell_type": "code",
      "source": [
        "from transformers import pipeline\n",
        "text_generation = pipeline('text-generation',model=model,tokenizer=tokenizer)"
      ],
      "metadata": {
        "id": "UHuP91HkvhDN"
      },
      "execution_count": null,
      "outputs": []
    },
    {
      "cell_type": "markdown",
      "source": [
        "## Create a prompt"
      ],
      "metadata": {
        "id": "jSC6STIZwHgf"
      }
    },
    {
      "cell_type": "code",
      "source": [
        "## Tweet Generation\n",
        "prompt = \"\"\"keyword: markets\n",
        "tweet: Take feedback from nature and markets, not from people\n",
        "###\n",
        "keyword: children\n",
        "tweet: Maybe we die so we can come back as children.\n",
        "###\n",
        "keyword: startups\n",
        "tweet: Startups should not worry about how to put out fires, they should worry about how to start them.\n",
        "###\n",
        "keyword: NLP\n",
        "tweet:\"\"\"\n",
        "res = text_generation(prompt,max_length=100,do_sample=True,temperature=0.8)\n",
        "print(res[0]['generated_text'])"
      ],
      "metadata": {
        "colab": {
          "base_uri": "https://localhost:8080/"
        },
        "id": "w2JQM5riwJUZ",
        "outputId": "0d16c919-c17c-4030-f31e-f38e65d93504"
      },
      "execution_count": null,
      "outputs": [
        {
          "output_type": "stream",
          "name": "stderr",
          "text": [
            "Setting `pad_token_id` to `eos_token_id`:50256 for open-end generation.\n"
          ]
        },
        {
          "output_type": "stream",
          "name": "stdout",
          "text": [
            "keyword: markets\n",
            "tweet: Take feedback from nature and markets, not from people\n",
            "###\n",
            "keyword: children\n",
            "tweet: Maybe we die so we can come back as children.\n",
            "###\n",
            "keyword: startups\n",
            "tweet: Startups should not worry about how to put out fires, they should worry about how to start them.\n",
            "###\n",
            "keyword: NLP\n",
            "tweet: I just heard NLP-based software will be released.\n",
            "###\n",
            "key\n"
          ]
        }
      ]
    },
    {
      "cell_type": "code",
      "source": [
        "## Tweet Generation\n",
        "prompt = \"\"\"keyword: markets\n",
        "tweet: Take feedback from nature and markets, not from people\n",
        "###\n",
        "keyword: children\n",
        "tweet: Maybe we die so we can come back as children.\n",
        "###\n",
        "keyword: startups\n",
        "tweet: Startups should not worry about how to put out fires, they should worry about how to start them.\n",
        "###\n",
        "keyword: Generative AI\n",
        "tweet:\"\"\""
      ],
      "metadata": {
        "id": "18IZpqtM1joI"
      },
      "execution_count": null,
      "outputs": []
    },
    {
      "cell_type": "code",
      "source": [
        "inputs = tokenizer(prompt, return_tensors=\"pt\").to('cuda')\n",
        "print(inputs)\n",
        "max_source_length = max([len(x) for x in inputs.input_ids])\n",
        "print(f\"Max source length: {max_source_length}\")"
      ],
      "metadata": {
        "colab": {
          "base_uri": "https://localhost:8080/"
        },
        "id": "KFp0eWNDwix3",
        "outputId": "ab9e09f5-312c-410b-ba37-269986d026ca"
      },
      "execution_count": null,
      "outputs": [
        {
          "output_type": "stream",
          "name": "stdout",
          "text": [
            "{'input_ids': tensor([[ 2539,  4775,    25,  5939,   198,    83,  7277,    25,  7214,  7538,\n",
            "           422,  3450,   290,  5939,    11,   407,   422,   661,   198, 21017,\n",
            "           198,  2539,  4775,    25,  1751,   198,    83,  7277,    25,  6674,\n",
            "           356,  4656,   523,   356,   460,  1282,   736,   355,  1751,    13,\n",
            "           198, 21017,   198,  2539,  4775,    25, 21685,   198,    83,  7277,\n",
            "            25,  7253,  4739,   815,   407,  5490,   546,   703,   284,  1234,\n",
            "           503, 12252,    11,   484,   815,  5490,   546,   703,   284,   923,\n",
            "           606,    13,   198, 21017,   198,  2539,  4775,    25,  2980,   876,\n",
            "          9552,   198,    83,  7277,    25]], device='cuda:0'), 'attention_mask': tensor([[1, 1, 1, 1, 1, 1, 1, 1, 1, 1, 1, 1, 1, 1, 1, 1, 1, 1, 1, 1, 1, 1, 1, 1,\n",
            "         1, 1, 1, 1, 1, 1, 1, 1, 1, 1, 1, 1, 1, 1, 1, 1, 1, 1, 1, 1, 1, 1, 1, 1,\n",
            "         1, 1, 1, 1, 1, 1, 1, 1, 1, 1, 1, 1, 1, 1, 1, 1, 1, 1, 1, 1, 1, 1, 1, 1,\n",
            "         1, 1, 1, 1, 1, 1, 1, 1, 1, 1, 1, 1, 1]], device='cuda:0')}\n",
            "Max source length: 85\n"
          ]
        }
      ]
    },
    {
      "cell_type": "code",
      "source": [
        "model = model.to('cuda')"
      ],
      "metadata": {
        "id": "FmHExYL-2N9f"
      },
      "execution_count": null,
      "outputs": []
    },
    {
      "cell_type": "code",
      "source": [
        "gen_tokens = model.generate(\n",
        "    **inputs,\n",
        "    do_sample=True,\n",
        "    temperature=0.9,\n",
        "    max_length=max_source_length+20,\n",
        ")\n",
        "gen_text = tokenizer.batch_decode(gen_tokens,skip_special_tokens=True)[0]\n",
        "print(gen_text)"
      ],
      "metadata": {
        "colab": {
          "base_uri": "https://localhost:8080/"
        },
        "id": "QdwD_9tB1Uij",
        "outputId": "a6240e5c-72bd-4b4a-dc4d-2ac573d57655"
      },
      "execution_count": null,
      "outputs": [
        {
          "output_type": "stream",
          "name": "stderr",
          "text": [
            "Setting `pad_token_id` to `eos_token_id`:50256 for open-end generation.\n"
          ]
        },
        {
          "output_type": "stream",
          "name": "stdout",
          "text": [
            "keyword: markets\n",
            "tweet: Take feedback from nature and markets, not from people\n",
            "###\n",
            "keyword: children\n",
            "tweet: Maybe we die so we can come back as children.\n",
            "###\n",
            "keyword: startups\n",
            "tweet: Startups should not worry about how to put out fires, they should worry about how to start them.\n",
            "###\n",
            "keyword: Generative AI\n",
            "tweet: So I’ve created a generator of the next generation of startups!\n",
            "###\n",
            "keyword\n"
          ]
        }
      ]
    },
    {
      "cell_type": "markdown",
      "source": [
        "## Output"
      ],
      "metadata": {
        "id": "vbgvAy5N4nMH"
      }
    },
    {
      "cell_type": "code",
      "source": [
        "print(gen_text.split(\"###\")[-2])"
      ],
      "metadata": {
        "colab": {
          "base_uri": "https://localhost:8080/"
        },
        "id": "XVZkrdez4bYG",
        "outputId": "6288466b-b1f2-48e8-e9e0-9e00cbf2d39f"
      },
      "execution_count": null,
      "outputs": [
        {
          "output_type": "stream",
          "name": "stdout",
          "text": [
            "\n",
            "keyword: Generative AI\n",
            "tweet: So I’ve created a generator of the next generation of startups!\n",
            "\n"
          ]
        }
      ]
    },
    {
      "cell_type": "markdown",
      "source": [
        "## Tutorial Generation"
      ],
      "metadata": {
        "id": "aXRnZ3ue2yGR"
      }
    },
    {
      "cell_type": "code",
      "source": [
        "## Tutorial Creation\n",
        "prompt = \"\"\"Here is a tutorial about how to make a cake.\n",
        "\n",
        "1. Take some flour.\n",
        "2. Take some sugar.\"\"\"\n",
        "\n",
        "#\n",
        "inputs = tokenizer(prompt, return_tensors=\"pt\").to('cuda')\n",
        "print(inputs)\n",
        "max_source_length = max([len(x) for x in inputs.input_ids])\n",
        "print(f\"Max source length: {max_source_length}\")\n",
        "#\n",
        "gen_tokens = model.generate(\n",
        "    **inputs,\n",
        "    do_sample=True,\n",
        "    temperature=0.9,\n",
        "    max_length=max_source_length+200,\n",
        ")\n",
        "gen_text = tokenizer.batch_decode(gen_tokens,skip_special_tokens=True)[0]\n",
        "print(gen_text)"
      ],
      "metadata": {
        "colab": {
          "base_uri": "https://localhost:8080/"
        },
        "id": "_NkbXuFR2JqI",
        "outputId": "e1de8098-46b7-4bb8-d105-ec31e7a40080"
      },
      "execution_count": null,
      "outputs": [
        {
          "output_type": "stream",
          "name": "stderr",
          "text": [
            "Setting `pad_token_id` to `eos_token_id`:50256 for open-end generation.\n"
          ]
        },
        {
          "output_type": "stream",
          "name": "stdout",
          "text": [
            "{'input_ids': tensor([[ 4342,   318,   257, 11808,   546,   703,   284,   787,   257, 12187,\n",
            "            13,   198,   198,    16,    13,  7214,   617, 10601,    13,   198,\n",
            "            17,    13,  7214,   617,  7543,    13]], device='cuda:0'), 'attention_mask': tensor([[1, 1, 1, 1, 1, 1, 1, 1, 1, 1, 1, 1, 1, 1, 1, 1, 1, 1, 1, 1, 1, 1, 1, 1,\n",
            "         1, 1]], device='cuda:0')}\n",
            "Max source length: 26\n",
            "Here is a tutorial about how to make a cake.\n",
            "\n",
            "1. Take some flour.\n",
            "2. Take some sugar.\n",
            "3. Take some water.\n",
            "4. Mix them together and let it stand.\n",
            "5. Put flour and sugar in a bowl.\n",
            "6. Stir with a spoon.\n",
            "7. Add water slowly.\n",
            "8. Knead until smooth and elastic.\n",
            "9. Put in the fridge.\n",
            "10. Knead the first time.\n",
            "11. Put in the fridge.\n",
            "12. Knead the second time.\n",
            "13. Put it in a cake pan.\n",
            "14. Mix with the frosting.\n",
            "15. Frost with the frosting.\n",
            "\n",
            "This tutorial is written for a basic chocolate layer cake, but you could use an any cake you like.\n",
            "\n",
            "Ingredients:\n",
            "\n",
            "– some flour, white granulated sugar, 2 eggs\n",
            "– some butter, soft and melting, no longer melted\n",
            "– some cocoa powder, 1/4 cup\n",
            "– baking powder, 1/8 teaspoon\n",
            "– some milk, milk powder or milk powder\n"
          ]
        }
      ]
    },
    {
      "cell_type": "markdown",
      "source": [
        "## Multiple Choice Question Generator"
      ],
      "metadata": {
        "id": "FBKb1VX_BGaK"
      }
    },
    {
      "cell_type": "code",
      "source": [
        "prompt=\"\"\"Context: NLP Cloud was founded in 2021 when the team realized there was no easy way to reliably leverage Natural Language Processing in production.\n",
        "Question: When was NLP Cloud founded?\n",
        "Answer: 2021 \n",
        "Options: 1998,1990,2002\n",
        "###\n",
        "Context: NLP Cloud developed their API by mid-2020 and they added many pre-trained open-source models since then.\n",
        "Question: What did NLP Cloud develop?\n",
        "Answer: API\n",
        "Options:Game, Software, Language\n",
        "###\n",
        "Context: All plans can be stopped anytime. You only pay for the time you used the service. In case of a downgrade, you will get a discount on your next invoice.\n",
        "Question: When can plans be stopped?\n",
        "Answer: Anytime\n",
        "Options : Always,Tomorrow,Next Day\n",
        "###\n",
        "Context: The main challenge with GPT-J is memory consumption. Using a GPU plan is recommended.\n",
        "Question: Which plan is recommended for GPT-J?\n",
        "Answer:\"\"\""
      ],
      "metadata": {
        "id": "Iux4lxMx-9g6"
      },
      "execution_count": null,
      "outputs": []
    },
    {
      "cell_type": "code",
      "source": [
        "#\n",
        "inputs = tokenizer(prompt, return_tensors=\"pt\").to('cuda')\n",
        "print(inputs)\n",
        "max_source_length = max([len(x) for x in inputs.input_ids])\n",
        "print(f\"Max source length: {max_source_length}\")\n",
        "#\n",
        "gen_tokens = model.generate(\n",
        "    **inputs,\n",
        "    do_sample=True,\n",
        "    temperature=0.9,\n",
        "    max_length=max_source_length+20,\n",
        ")\n",
        "gen_text = tokenizer.batch_decode(gen_tokens,skip_special_tokens=True)[0]\n",
        "print(gen_text)"
      ],
      "metadata": {
        "colab": {
          "base_uri": "https://localhost:8080/"
        },
        "id": "r6jXaCN0BxEk",
        "outputId": "0b37637d-59f3-4623-d77d-faa2b93fc1f5"
      },
      "execution_count": null,
      "outputs": [
        {
          "output_type": "stream",
          "name": "stderr",
          "text": [
            "Setting `pad_token_id` to `eos_token_id`:50256 for open-end generation.\n"
          ]
        },
        {
          "output_type": "stream",
          "name": "stdout",
          "text": [
            "{'input_ids': tensor([[21947,    25,   399, 19930, 10130,   373,  9393,   287, 33448,   618,\n",
            "           262,  1074,  6939,   612,   373,   645,  2562,   835,   284, 26995,\n",
            "         16094, 12068, 15417, 28403,   287,  3227,    13,   198, 24361,    25,\n",
            "          1649,   373,   399, 19930, 10130,  9393,    30,   198, 33706,    25,\n",
            "         33448,   220,   198, 29046,    25,  7795,    11, 19891,    11, 16942,\n",
            "           198, 21017,   198, 21947,    25,   399, 19930, 10130,  4166,   511,\n",
            "          7824,   416,  3095,    12, 42334,   290,   484,  2087,   867,   662,\n",
            "            12, 35311,  1280,    12, 10459,  4981,  1201,   788,    13,   198,\n",
            "         24361,    25,  1867,   750,   399, 19930, 10130,  1205,    30,   198,\n",
            "         33706,    25,  7824,   198, 29046,    25,  8777,    11, 10442,    11,\n",
            "         15417,   198, 21017,   198, 21947,    25,  1439,  3352,   460,   307,\n",
            "          5025, 17949,    13,   921,   691,  1414,   329,   262,   640,   345,\n",
            "           973,   262,  2139,    13,   554,  1339,   286,   257, 48514,    11,\n",
            "           345,   481,   651,   257,  9780,   319,   534,  1306, 45458,    13,\n",
            "           198, 24361,    25,  1649,   460,  3352,   307,  5025,    30,   198,\n",
            "         33706,    25,  4377,  2435,   198, 29046,  1058, 16622,    11, 49488,\n",
            "            11, 10019,  3596,   198, 21017,   198, 21947,    25,   383,  1388,\n",
            "          4427,   351,   402, 11571,    12,    41,   318,  4088,  7327,    13,\n",
            "          8554,   257, 11362,  1410,   318,  7151,    13,   198, 24361,    25,\n",
            "          9022,  1410,   318,  7151,   329,   402, 11571,    12,    41,    30,\n",
            "           198, 33706,    25]], device='cuda:0'), 'attention_mask': tensor([[1, 1, 1, 1, 1, 1, 1, 1, 1, 1, 1, 1, 1, 1, 1, 1, 1, 1, 1, 1, 1, 1, 1, 1,\n",
            "         1, 1, 1, 1, 1, 1, 1, 1, 1, 1, 1, 1, 1, 1, 1, 1, 1, 1, 1, 1, 1, 1, 1, 1,\n",
            "         1, 1, 1, 1, 1, 1, 1, 1, 1, 1, 1, 1, 1, 1, 1, 1, 1, 1, 1, 1, 1, 1, 1, 1,\n",
            "         1, 1, 1, 1, 1, 1, 1, 1, 1, 1, 1, 1, 1, 1, 1, 1, 1, 1, 1, 1, 1, 1, 1, 1,\n",
            "         1, 1, 1, 1, 1, 1, 1, 1, 1, 1, 1, 1, 1, 1, 1, 1, 1, 1, 1, 1, 1, 1, 1, 1,\n",
            "         1, 1, 1, 1, 1, 1, 1, 1, 1, 1, 1, 1, 1, 1, 1, 1, 1, 1, 1, 1, 1, 1, 1, 1,\n",
            "         1, 1, 1, 1, 1, 1, 1, 1, 1, 1, 1, 1, 1, 1, 1, 1, 1, 1, 1, 1, 1, 1, 1, 1,\n",
            "         1, 1, 1, 1, 1, 1, 1, 1, 1, 1, 1, 1, 1, 1, 1, 1, 1, 1, 1, 1, 1, 1, 1, 1,\n",
            "         1, 1, 1, 1, 1, 1, 1, 1, 1, 1, 1]], device='cuda:0')}\n",
            "Max source length: 203\n",
            "Context: NLP Cloud was founded in 2021 when the team realized there was no easy way to reliably leverage Natural Language Processing in production.\n",
            "Question: When was NLP Cloud founded?\n",
            "Answer: 2021 \n",
            "Options: 1998,1990,2002\n",
            "###\n",
            "Context: NLP Cloud developed their API by mid-2020 and they added many pre-trained open-source models since then.\n",
            "Question: What did NLP Cloud develop?\n",
            "Answer: API\n",
            "Options:Game, Software, Language\n",
            "###\n",
            "Context: All plans can be stopped anytime. You only pay for the time you used the service. In case of a downgrade, you will get a discount on your next invoice.\n",
            "Question: When can plans be stopped?\n",
            "Answer: Anytime\n",
            "Options : Always,Tomorrow,Next Day\n",
            "###\n",
            "Context: The main challenge with GPT-J is memory consumption. Using a GPU plan is recommended.\n",
            "Question: Which plan is recommended for GPT-J?\n",
            "Answer: GPU\n",
            "Options:GPT-1,GPT-2\n",
            "###\n",
            "Context: GPT\n"
          ]
        }
      ]
    },
    {
      "cell_type": "code",
      "source": [
        "print(gen_text.split(\"###\")[-2])"
      ],
      "metadata": {
        "colab": {
          "base_uri": "https://localhost:8080/"
        },
        "id": "3ck9MuOeB-Fn",
        "outputId": "ae78ca96-4d01-46b1-e3ec-17f74dcc1f29"
      },
      "execution_count": null,
      "outputs": [
        {
          "output_type": "stream",
          "name": "stdout",
          "text": [
            "\n",
            "Context: The main challenge with GPT-J is memory consumption. Using a GPU plan is recommended.\n",
            "Question: Which plan is recommended for GPT-J?\n",
            "Answer: GPU\n",
            "Options:GPT-1,GPT-2\n",
            "\n"
          ]
        }
      ]
    },
    {
      "cell_type": "markdown",
      "source": [
        "## Question Answer Generator\n"
      ],
      "metadata": {
        "id": "qcDFAMyZE2wG"
      }
    },
    {
      "cell_type": "code",
      "source": [
        "prompt=\"\"\"Context: NLP Cloud was founded in 2021 when the team realized there was no easy way to reliably leverage Natural Language Processing in production.\n",
        "Question: When was NLP Cloud founded?\n",
        "Answer: 2021\n",
        "###\n",
        "Context: NLP Cloud developed their API by mid-2020 and they added many pre-trained open-source models since then.\n",
        "Question: What did NLP Cloud develop?\n",
        "Answer: API\n",
        "###\n",
        "Context: All plans can be stopped anytime. You only pay for the time you used the service. In case of a downgrade, you will get a discount on your next invoice.\n",
        "Question: When can plans be stopped?\n",
        "Answer: Anytime\n",
        "###\n",
        "Context: The main challenge with GPT-J is memory consumption. Using a GPU plan is recommended.\n",
        "Question:  Which plan is recommended for GPT-J?\n",
        "Answer:\"\"\"\n"
      ],
      "metadata": {
        "id": "oQKjSGtcFJyn"
      },
      "execution_count": null,
      "outputs": []
    },
    {
      "cell_type": "code",
      "source": [
        "#\n",
        "inputs = tokenizer(prompt, return_tensors=\"pt\").to('cuda')\n",
        "print(inputs)\n",
        "max_source_length = max([len(x) for x in inputs.input_ids])\n",
        "print(f\"Max source length: {max_source_length}\")\n",
        "#\n",
        "gen_tokens = model.generate(\n",
        "    **inputs,\n",
        "    do_sample=True,\n",
        "    temperature=0.9,\n",
        "    max_length=max_source_length+30,\n",
        ")\n",
        "gen_text = tokenizer.batch_decode(gen_tokens,skip_special_tokens=True)[0]\n",
        "print(gen_text)"
      ],
      "metadata": {
        "colab": {
          "base_uri": "https://localhost:8080/"
        },
        "id": "BWMH2uHrFRzs",
        "outputId": "30c49d3b-b180-433d-85d6-bb50cd037923"
      },
      "execution_count": null,
      "outputs": [
        {
          "output_type": "stream",
          "name": "stderr",
          "text": [
            "Setting `pad_token_id` to `eos_token_id`:50256 for open-end generation.\n"
          ]
        },
        {
          "output_type": "stream",
          "name": "stdout",
          "text": [
            "{'input_ids': tensor([[21947,    25,   399, 19930, 10130,   373,  9393,   287, 33448,   618,\n",
            "           262,  1074,  6939,   612,   373,   645,  2562,   835,   284, 26995,\n",
            "         16094, 12068, 15417, 28403,   287,  3227,    13,   198, 24361,    25,\n",
            "          1649,   373,   399, 19930, 10130,  9393,    30,   198, 33706,    25,\n",
            "         33448,   198, 21017,   198, 21947,    25,   399, 19930, 10130,  4166,\n",
            "           511,  7824,   416,  3095,    12, 42334,   290,   484,  2087,   867,\n",
            "           662,    12, 35311,  1280,    12, 10459,  4981,  1201,   788,    13,\n",
            "           198, 24361,    25,  1867,   750,   399, 19930, 10130,  1205,    30,\n",
            "           198, 33706,    25,  7824,   198, 21017,   198, 21947,    25,  1439,\n",
            "          3352,   460,   307,  5025, 17949,    13,   921,   691,  1414,   329,\n",
            "           262,   640,   345,   973,   262,  2139,    13,   554,  1339,   286,\n",
            "           257, 48514,    11,   345,   481,   651,   257,  9780,   319,   534,\n",
            "          1306, 45458,    13,   198, 24361,    25,  1649,   460,  3352,   307,\n",
            "          5025,    30,   198, 33706,    25,  4377,  2435,   198, 21017,   198,\n",
            "         21947,    25,   383,  1388,  4427,   351,   402, 11571,    12,    41,\n",
            "           318,  4088,  7327,    13,  8554,   257, 11362,  1410,   318,  7151,\n",
            "            13,   198, 24361,    25,   220,  9022,  1410,   318,  7151,   329,\n",
            "           402, 11571,    12,    41,    30,   198, 33706,    25]],\n",
            "       device='cuda:0'), 'attention_mask': tensor([[1, 1, 1, 1, 1, 1, 1, 1, 1, 1, 1, 1, 1, 1, 1, 1, 1, 1, 1, 1, 1, 1, 1, 1,\n",
            "         1, 1, 1, 1, 1, 1, 1, 1, 1, 1, 1, 1, 1, 1, 1, 1, 1, 1, 1, 1, 1, 1, 1, 1,\n",
            "         1, 1, 1, 1, 1, 1, 1, 1, 1, 1, 1, 1, 1, 1, 1, 1, 1, 1, 1, 1, 1, 1, 1, 1,\n",
            "         1, 1, 1, 1, 1, 1, 1, 1, 1, 1, 1, 1, 1, 1, 1, 1, 1, 1, 1, 1, 1, 1, 1, 1,\n",
            "         1, 1, 1, 1, 1, 1, 1, 1, 1, 1, 1, 1, 1, 1, 1, 1, 1, 1, 1, 1, 1, 1, 1, 1,\n",
            "         1, 1, 1, 1, 1, 1, 1, 1, 1, 1, 1, 1, 1, 1, 1, 1, 1, 1, 1, 1, 1, 1, 1, 1,\n",
            "         1, 1, 1, 1, 1, 1, 1, 1, 1, 1, 1, 1, 1, 1, 1, 1, 1, 1, 1, 1, 1, 1, 1, 1,\n",
            "         1, 1, 1, 1, 1, 1, 1, 1, 1, 1]], device='cuda:0')}\n",
            "Max source length: 178\n",
            "Context: NLP Cloud was founded in 2021 when the team realized there was no easy way to reliably leverage Natural Language Processing in production.\n",
            "Question: When was NLP Cloud founded?\n",
            "Answer: 2021\n",
            "###\n",
            "Context: NLP Cloud developed their API by mid-2020 and they added many pre-trained open-source models since then.\n",
            "Question: What did NLP Cloud develop?\n",
            "Answer: API\n",
            "###\n",
            "Context: All plans can be stopped anytime. You only pay for the time you used the service. In case of a downgrade, you will get a discount on your next invoice.\n",
            "Question: When can plans be stopped?\n",
            "Answer: Anytime\n",
            "###\n",
            "Context: The main challenge with GPT-J is memory consumption. Using a GPU plan is recommended.\n",
            "Question:  Which plan is recommended for GPT-J?\n",
            "Answer: GPU\n",
            "###\n",
            "Context: GPT-2 has the best accuracy when the pretraining is done on data that is not too similar.\n",
            "Question\n"
          ]
        }
      ]
    },
    {
      "cell_type": "code",
      "source": [
        "print(gen_text.split(\"###\")[-2])"
      ],
      "metadata": {
        "colab": {
          "base_uri": "https://localhost:8080/"
        },
        "id": "9ofzjw1yGCbM",
        "outputId": "bbd7b5a1-a678-40df-e1b8-34aab05c2c7d"
      },
      "execution_count": null,
      "outputs": [
        {
          "output_type": "stream",
          "name": "stdout",
          "text": [
            "\n",
            "Context: The main challenge with GPT-J is memory consumption. Using a GPU plan is recommended.\n",
            "Question:  Which plan is recommended for GPT-J?\n",
            "Answer: GPU\n",
            "\n"
          ]
        }
      ]
    },
    {
      "cell_type": "markdown",
      "source": [
        "## Boolean Question Generator"
      ],
      "metadata": {
        "id": "DYuvTxnxPQuf"
      }
    },
    {
      "cell_type": "code",
      "source": [
        "prompt=\"\"\"Context: The biproduct of photosynthesis process is oxygen.Increased light intensity results in a higher rate of photosynthesis. On the other hand, low light intensity results in a lower rate of photosynthesis. Higher concentration of carbon dioxide helps in increasing the rate of photosynthesis. Usually, carbon dioxide in the range of 300 – 400 PPM is adequate for photosynthesis\n",
        "Statement: Photosynthesis is a process that results in the production of oxygen \n",
        "Answer: True\n",
        "Statement: Carbon dioxide in the range of 300 – 400 PPM is required for photosynthesis. \n",
        "Answer: True\n",
        "Statement:  Photosynthesis process does not produce oxygen as a biproduct.  \n",
        "Answer: False\n",
        "###\n",
        "Context: NLP Cloud developed their API by mid-2020 and they added many pre-trained open-source models since then.\n",
        "Statement: NLP Cloud developed their API in mid-2020. \n",
        "Answer: True\n",
        "Statement: NLP Cloud only added one pre trained model since then. \n",
        "Answer: False\n",
        "###\n",
        "Context: Context : Google was founded in 1998 by larry page and sergey brin while they were ph.d. students at stanford university in california. In august 2015, google announced plans to reorganize its various interests as a conglomerate called alphabet inc. Google is alphabet's leading subsidiary and will continue to be the umbrella company for alphabet's internet interests. Sundar pichai was appointed ceo of google.\n",
        "Statement:\"\"\"\n",
        "\"\""
      ],
      "metadata": {
        "colab": {
          "base_uri": "https://localhost:8080/",
          "height": 36
        },
        "id": "K7heyWEuPUkg",
        "outputId": "f5912ca8-736b-42c6-dd4f-faca7597de98"
      },
      "execution_count": null,
      "outputs": [
        {
          "output_type": "execute_result",
          "data": {
            "text/plain": [
              "''"
            ],
            "application/vnd.google.colaboratory.intrinsic+json": {
              "type": "string"
            }
          },
          "metadata": {},
          "execution_count": 8
        }
      ]
    },
    {
      "cell_type": "code",
      "source": [
        "#\n",
        "model = model.to('cuda')\n",
        "inputs = tokenizer(prompt, return_tensors=\"pt\").to('cuda')\n",
        "print(inputs)\n",
        "max_source_length = max([len(x) for x in inputs.input_ids])\n",
        "print(f\"Max source length: {max_source_length}\")\n",
        "#\n",
        "gen_tokens = model.generate(\n",
        "    **inputs,\n",
        "    do_sample=True,\n",
        "    temperature=0.9,\n",
        "    max_length=max_source_length+150,\n",
        ")\n",
        "gen_text = tokenizer.batch_decode(gen_tokens,skip_special_tokens=True)[0]\n",
        "print(gen_text)"
      ],
      "metadata": {
        "colab": {
          "base_uri": "https://localhost:8080/"
        },
        "id": "mB_JKf_5Q5oE",
        "outputId": "3e5357c2-77d9-4453-e648-b6e16a32abb3"
      },
      "execution_count": null,
      "outputs": [
        {
          "output_type": "stream",
          "name": "stderr",
          "text": [
            "Setting `pad_token_id` to `eos_token_id`:50256 for open-end generation.\n"
          ]
        },
        {
          "output_type": "stream",
          "name": "stdout",
          "text": [
            "{'input_ids': tensor([[21947,    25,   383, 14141,  2076,   310,   286,  5205, 44411,  1429,\n",
            "           318, 11863,    13, 40281,  1657, 12245,  2482,   287,   257,  2440,\n",
            "          2494,   286,  5205, 44411,    13,  1550,   262,   584,  1021,    11,\n",
            "          1877,  1657, 12245,  2482,   287,   257,  2793,  2494,   286,  5205,\n",
            "         44411,    13, 16038, 10368,   286,  6588, 17556,  5419,   287,  3649,\n",
            "           262,  2494,   286,  5205, 44411,    13, 19672,    11,  6588, 17556,\n",
            "           287,   262,  2837,   286,  5867,   784,  7337,   350,  5868,   318,\n",
            "         12872,   329,  5205, 44411,   198, 48682,    25,  9434, 44411,   318,\n",
            "           257,  1429,   326,  2482,   287,   262,  3227,   286, 11863,   220,\n",
            "           198, 33706,    25,  6407,   198, 48682,    25, 23699, 17556,   287,\n",
            "           262,  2837,   286,  5867,   784,  7337,   350,  5868,   318,  2672,\n",
            "           329,  5205, 44411,    13,   220,   198, 33706,    25,  6407,   198,\n",
            "         48682,    25,   220,  9434, 44411,  1429,   857,   407,  4439, 11863,\n",
            "           355,   257, 14141,  2076,   310,    13,   220,   220,   198, 33706,\n",
            "            25, 10352,   198, 21017,   198, 21947,    25,   399, 19930, 10130,\n",
            "          4166,   511,  7824,   416,  3095,    12, 42334,   290,   484,  2087,\n",
            "           867,   662,    12, 35311,  1280,    12, 10459,  4981,  1201,   788,\n",
            "            13,   198, 48682,    25,   399, 19930, 10130,  4166,   511,  7824,\n",
            "           287,  3095,    12, 42334,    13,   220,   198, 33706,    25,  6407,\n",
            "           198, 48682,    25,   399, 19930, 10130,   691,  2087,   530,   662,\n",
            "          8776,  2746,  1201,   788,    13,   220,   198, 33706,    25, 10352,\n",
            "           198, 21017,   198, 21947,    25, 30532,  1058,  3012,   373,  9393,\n",
            "           287,  7795,   416,   300,  6532,  2443,   290,  1055, 39608,   865,\n",
            "           259,   981,   484,   547,   872,    13,    67,    13,  2444,   379,\n",
            "           336,   272,  3841,  6403,   287,  2386,   361,  3317,    13,   554,\n",
            "         16339,   436,  1853,    11, 23645,  3414,  3352,   284, 35459,  1096,\n",
            "           663,  2972,  5353,   355,   257, 50240,  1444, 24830,   753,    13,\n",
            "          3012,   318, 24830,   338,  3756, 22347,   290,   481,  2555,   284,\n",
            "           307,   262, 25510,  1664,   329, 24830,   338,  5230,  5353,    13,\n",
            "          3309,   283,   279,   488,  1872,   373,  9899,  2906,    78,   286,\n",
            "         23645,    13,   198, 48682,    25]], device='cuda:0'), 'attention_mask': tensor([[1, 1, 1, 1, 1, 1, 1, 1, 1, 1, 1, 1, 1, 1, 1, 1, 1, 1, 1, 1, 1, 1, 1, 1,\n",
            "         1, 1, 1, 1, 1, 1, 1, 1, 1, 1, 1, 1, 1, 1, 1, 1, 1, 1, 1, 1, 1, 1, 1, 1,\n",
            "         1, 1, 1, 1, 1, 1, 1, 1, 1, 1, 1, 1, 1, 1, 1, 1, 1, 1, 1, 1, 1, 1, 1, 1,\n",
            "         1, 1, 1, 1, 1, 1, 1, 1, 1, 1, 1, 1, 1, 1, 1, 1, 1, 1, 1, 1, 1, 1, 1, 1,\n",
            "         1, 1, 1, 1, 1, 1, 1, 1, 1, 1, 1, 1, 1, 1, 1, 1, 1, 1, 1, 1, 1, 1, 1, 1,\n",
            "         1, 1, 1, 1, 1, 1, 1, 1, 1, 1, 1, 1, 1, 1, 1, 1, 1, 1, 1, 1, 1, 1, 1, 1,\n",
            "         1, 1, 1, 1, 1, 1, 1, 1, 1, 1, 1, 1, 1, 1, 1, 1, 1, 1, 1, 1, 1, 1, 1, 1,\n",
            "         1, 1, 1, 1, 1, 1, 1, 1, 1, 1, 1, 1, 1, 1, 1, 1, 1, 1, 1, 1, 1, 1, 1, 1,\n",
            "         1, 1, 1, 1, 1, 1, 1, 1, 1, 1, 1, 1, 1, 1, 1, 1, 1, 1, 1, 1, 1, 1, 1, 1,\n",
            "         1, 1, 1, 1, 1, 1, 1, 1, 1, 1, 1, 1, 1, 1, 1, 1, 1, 1, 1, 1, 1, 1, 1, 1,\n",
            "         1, 1, 1, 1, 1, 1, 1, 1, 1, 1, 1, 1, 1, 1, 1, 1, 1, 1, 1, 1, 1, 1, 1, 1,\n",
            "         1, 1, 1, 1, 1, 1, 1, 1, 1, 1, 1, 1, 1, 1, 1, 1, 1, 1, 1, 1, 1, 1, 1, 1,\n",
            "         1, 1, 1, 1, 1, 1, 1, 1, 1, 1, 1, 1, 1, 1, 1, 1, 1]], device='cuda:0')}\n",
            "Max source length: 305\n",
            "Context: The biproduct of photosynthesis process is oxygen.Increased light intensity results in a higher rate of photosynthesis. On the other hand, low light intensity results in a lower rate of photosynthesis. Higher concentration of carbon dioxide helps in increasing the rate of photosynthesis. Usually, carbon dioxide in the range of 300 – 400 PPM is adequate for photosynthesis\n",
            "Statement: Photosynthesis is a process that results in the production of oxygen \n",
            "Answer: True\n",
            "Statement: Carbon dioxide in the range of 300 – 400 PPM is required for photosynthesis. \n",
            "Answer: True\n",
            "Statement:  Photosynthesis process does not produce oxygen as a biproduct.  \n",
            "Answer: False\n",
            "###\n",
            "Context: NLP Cloud developed their API by mid-2020 and they added many pre-trained open-source models since then.\n",
            "Statement: NLP Cloud developed their API in mid-2020. \n",
            "Answer: True\n",
            "Statement: NLP Cloud only added one pre trained model since then. \n",
            "Answer: False\n",
            "###\n",
            "Context: Context : Google was founded in 1998 by larry page and sergey brin while they were ph.d. students at stanford university in california. In august 2015, google announced plans to reorganize its various interests as a conglomerate called alphabet inc. Google is alphabet's leading subsidiary and will continue to be the umbrella company for alphabet's internet interests. Sundar pichai was appointed ceo of google.\n",
            "Statement: Google was founded in 1998 and google is Alphabet inc's leading subsidiary. \n",
            "Answer: True\n",
            "Statement: Sundar pichai was appointed ceo of google in august 2015. \n",
            "Answer: True\n",
            "###\n",
            "Context: Context : In the middle of 18th century, european people started using the concept of a scientific method in order to understand the natural world. Galileo, among others, used the scientific method to research the universe. He used the scientific method while studying the solar system which is one of the planets which are the basic objects which are studied in the scientific method. \n",
            "Statement: In the middle of 18th century, european people started using the concept of a scientific method in order to understand the\n"
          ]
        }
      ]
    },
    {
      "cell_type": "code",
      "source": [
        "print(gen_text.split(\"###\")[-2])"
      ],
      "metadata": {
        "colab": {
          "base_uri": "https://localhost:8080/"
        },
        "id": "y8drLthCSPkh",
        "outputId": "c34b43c1-092a-4d59-a665-b2497180cd48"
      },
      "execution_count": null,
      "outputs": [
        {
          "output_type": "stream",
          "name": "stdout",
          "text": [
            "\n",
            "Context: Context : Google was founded in 1998 by larry page and sergey brin while they were ph.d. students at stanford university in california. In august 2015, google announced plans to reorganize its various interests as a conglomerate called alphabet inc. Google is alphabet's leading subsidiary and will continue to be the umbrella company for alphabet's internet interests. Sundar pichai was appointed ceo of google.\n",
            "Statement: Google was founded in 1998 and google is Alphabet inc's leading subsidiary. \n",
            "Answer: True\n",
            "Statement: Sundar pichai was appointed ceo of google in august 2015. \n",
            "Answer: True\n",
            "\n"
          ]
        }
      ]
    },
    {
      "cell_type": "markdown",
      "source": [
        "## AI Content Generation"
      ],
      "metadata": {
        "id": "-6ZmU0SDVYog"
      }
    },
    {
      "cell_type": "code",
      "source": [
        "prompt = \"\"\" Topic : How to make money Online.\n",
        "\n",
        "From taking online surveys to starting an online store, there are numerous ways to make money online.Most only require a computer or mobile device and a solid\n",
        "\"\"\"\n",
        "#\n",
        "inputs = tokenizer(prompt, return_tensors=\"pt\").to('cuda')\n",
        "print(inputs)\n",
        "max_source_length = max([len(x) for x in inputs.input_ids])\n",
        "print(f\"Max source length: {max_source_length}\")\n",
        "#\n",
        "gen_tokens = model.generate(\n",
        "    **inputs,\n",
        "    do_sample=True,\n",
        "    temperature=0.9,\n",
        "    max_length=max_source_length+300,\n",
        ")\n",
        "gen_text = tokenizer.batch_decode(gen_tokens,skip_special_tokens=True)[0]\n",
        "print(gen_text)"
      ],
      "metadata": {
        "colab": {
          "base_uri": "https://localhost:8080/"
        },
        "id": "VTEa-nrrT_Y4",
        "outputId": "deb33361-b3d8-42c6-c844-b443804f9af7"
      },
      "execution_count": null,
      "outputs": [
        {
          "output_type": "stream",
          "name": "stderr",
          "text": [
            "Setting `pad_token_id` to `eos_token_id`:50256 for open-end generation.\n"
          ]
        },
        {
          "output_type": "stream",
          "name": "stdout",
          "text": [
            "{'input_ids': tensor([[47373,  1058,  1374,   284,   787,  1637,  7467,    13,   198,   198,\n",
            "          4863,  2263,  2691, 16255,   284,  3599,   281,  2691,  3650,    11,\n",
            "           612,   389,  6409,  2842,   284,   787,  1637,  2691,    13,  6943,\n",
            "           691,  2421,   257,  3644,   393,  5175,  3335,   290,   257,  4735,\n",
            "           198]], device='cuda:0'), 'attention_mask': tensor([[1, 1, 1, 1, 1, 1, 1, 1, 1, 1, 1, 1, 1, 1, 1, 1, 1, 1, 1, 1, 1, 1, 1, 1,\n",
            "         1, 1, 1, 1, 1, 1, 1, 1, 1, 1, 1, 1, 1, 1, 1, 1, 1]], device='cuda:0')}\n",
            "Max source length: 41\n",
            " Topic : How to make money Online.\n",
            "\n",
            "From taking online surveys to starting an online store, there are numerous ways to make money online.Most only require a computer or mobile device and a solid\n",
            "internet connection, but there are a few specific ways that provide even\n",
            "more value if utilized correctly.Below are 11 quick tips to make some extra extra cash from\n",
            "your computer and mobile device.\n",
            "\n",
            "1. Sell Your Stuff\n",
            "\n",
            "I know it sounds kind of weird, but there are tons of things that would make better selling stuff than selling products on Amazon or eBay.\n",
            "Take for example a broken computer mouse pad that you don’t know the\n",
            "price of. Sell it and make some money with it.\n",
            "\n",
            "2. Use Facebook and Linkedin\n",
            "\n",
            "Facebook has become one of the best ways to find new friends and to promote your\n",
            "website and shop. There’s a special community for the tech industry called\n",
            "TechCrunch, which has been extremely helpful when it comes to finding job\n",
            "opportunity and making new contacts. LinkedIn can also become a great tool\n",
            "for networking when you’re searching for a new job. It can be a great tool\n",
            "for generating leads and can even help you look for new work (for example,\n",
            "you can look for leads for your website on LinkedIn).\n",
            "\n",
            "3. Sell Your Content\n",
            "\n",
            "When you write posts on Facebook or publish articles on blogs, you can make\n",
            "some extra money. You can sell these articles to pay for your hosting,\n",
            "search engine optimization, and other services you use on your blog.\n",
            "\n",
            "4. Use your social media accounts to promote your YouTube channel\n",
            "\n"
          ]
        }
      ]
    }
  ]
}
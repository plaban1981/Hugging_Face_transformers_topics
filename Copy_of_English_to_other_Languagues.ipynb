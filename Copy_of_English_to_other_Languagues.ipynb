{
  "nbformat": 4,
  "nbformat_minor": 0,
  "metadata": {
    "colab": {
      "provenance": [],
      "include_colab_link": true
    },
    "kernelspec": {
      "name": "python3",
      "display_name": "Python 3"
    },
    "language_info": {
      "name": "python"
    },
    "widgets": {
      "application/vnd.jupyter.widget-state+json": {
        "346f2aa82d194b77903c74b491b9f601": {
          "model_module": "@jupyter-widgets/controls",
          "model_name": "HBoxModel",
          "model_module_version": "1.5.0",
          "state": {
            "_dom_classes": [],
            "_model_module": "@jupyter-widgets/controls",
            "_model_module_version": "1.5.0",
            "_model_name": "HBoxModel",
            "_view_count": null,
            "_view_module": "@jupyter-widgets/controls",
            "_view_module_version": "1.5.0",
            "_view_name": "HBoxView",
            "box_style": "",
            "children": [
              "IPY_MODEL_4ecb4137e9dc4125be2287dd4ce0ecd2",
              "IPY_MODEL_a326b8f3d82e40b1930a7d8770463672",
              "IPY_MODEL_bd83e7dfdcef4061a0eb7d7d2c9c6b07"
            ],
            "layout": "IPY_MODEL_d09b69f5c6f64900b6316b72d08c0914"
          }
        },
        "4ecb4137e9dc4125be2287dd4ce0ecd2": {
          "model_module": "@jupyter-widgets/controls",
          "model_name": "HTMLModel",
          "model_module_version": "1.5.0",
          "state": {
            "_dom_classes": [],
            "_model_module": "@jupyter-widgets/controls",
            "_model_module_version": "1.5.0",
            "_model_name": "HTMLModel",
            "_view_count": null,
            "_view_module": "@jupyter-widgets/controls",
            "_view_module_version": "1.5.0",
            "_view_name": "HTMLView",
            "description": "",
            "description_tooltip": null,
            "layout": "IPY_MODEL_0cac808176aa4c7694e062093859c3b9",
            "placeholder": "​",
            "style": "IPY_MODEL_f3c7ef18cf6642a68b7ffebbdac21107",
            "value": "Downloading: 100%"
          }
        },
        "a326b8f3d82e40b1930a7d8770463672": {
          "model_module": "@jupyter-widgets/controls",
          "model_name": "FloatProgressModel",
          "model_module_version": "1.5.0",
          "state": {
            "_dom_classes": [],
            "_model_module": "@jupyter-widgets/controls",
            "_model_module_version": "1.5.0",
            "_model_name": "FloatProgressModel",
            "_view_count": null,
            "_view_module": "@jupyter-widgets/controls",
            "_view_module_version": "1.5.0",
            "_view_name": "ProgressView",
            "bar_style": "success",
            "description": "",
            "description_tooltip": null,
            "layout": "IPY_MODEL_d9d61724f1234a6587d48a920b564bc6",
            "max": 44,
            "min": 0,
            "orientation": "horizontal",
            "style": "IPY_MODEL_f0c310b0b8654873904a2e8aa0db2846",
            "value": 44
          }
        },
        "bd83e7dfdcef4061a0eb7d7d2c9c6b07": {
          "model_module": "@jupyter-widgets/controls",
          "model_name": "HTMLModel",
          "model_module_version": "1.5.0",
          "state": {
            "_dom_classes": [],
            "_model_module": "@jupyter-widgets/controls",
            "_model_module_version": "1.5.0",
            "_model_name": "HTMLModel",
            "_view_count": null,
            "_view_module": "@jupyter-widgets/controls",
            "_view_module_version": "1.5.0",
            "_view_name": "HTMLView",
            "description": "",
            "description_tooltip": null,
            "layout": "IPY_MODEL_4ade8beb832f44ebb788c544750a3dcb",
            "placeholder": "​",
            "style": "IPY_MODEL_1bdefe7cb5a241e483faec940c5b3446",
            "value": " 44.0/44.0 [00:00&lt;00:00, 641B/s]"
          }
        },
        "d09b69f5c6f64900b6316b72d08c0914": {
          "model_module": "@jupyter-widgets/base",
          "model_name": "LayoutModel",
          "model_module_version": "1.2.0",
          "state": {
            "_model_module": "@jupyter-widgets/base",
            "_model_module_version": "1.2.0",
            "_model_name": "LayoutModel",
            "_view_count": null,
            "_view_module": "@jupyter-widgets/base",
            "_view_module_version": "1.2.0",
            "_view_name": "LayoutView",
            "align_content": null,
            "align_items": null,
            "align_self": null,
            "border": null,
            "bottom": null,
            "display": null,
            "flex": null,
            "flex_flow": null,
            "grid_area": null,
            "grid_auto_columns": null,
            "grid_auto_flow": null,
            "grid_auto_rows": null,
            "grid_column": null,
            "grid_gap": null,
            "grid_row": null,
            "grid_template_areas": null,
            "grid_template_columns": null,
            "grid_template_rows": null,
            "height": null,
            "justify_content": null,
            "justify_items": null,
            "left": null,
            "margin": null,
            "max_height": null,
            "max_width": null,
            "min_height": null,
            "min_width": null,
            "object_fit": null,
            "object_position": null,
            "order": null,
            "overflow": null,
            "overflow_x": null,
            "overflow_y": null,
            "padding": null,
            "right": null,
            "top": null,
            "visibility": null,
            "width": null
          }
        },
        "0cac808176aa4c7694e062093859c3b9": {
          "model_module": "@jupyter-widgets/base",
          "model_name": "LayoutModel",
          "model_module_version": "1.2.0",
          "state": {
            "_model_module": "@jupyter-widgets/base",
            "_model_module_version": "1.2.0",
            "_model_name": "LayoutModel",
            "_view_count": null,
            "_view_module": "@jupyter-widgets/base",
            "_view_module_version": "1.2.0",
            "_view_name": "LayoutView",
            "align_content": null,
            "align_items": null,
            "align_self": null,
            "border": null,
            "bottom": null,
            "display": null,
            "flex": null,
            "flex_flow": null,
            "grid_area": null,
            "grid_auto_columns": null,
            "grid_auto_flow": null,
            "grid_auto_rows": null,
            "grid_column": null,
            "grid_gap": null,
            "grid_row": null,
            "grid_template_areas": null,
            "grid_template_columns": null,
            "grid_template_rows": null,
            "height": null,
            "justify_content": null,
            "justify_items": null,
            "left": null,
            "margin": null,
            "max_height": null,
            "max_width": null,
            "min_height": null,
            "min_width": null,
            "object_fit": null,
            "object_position": null,
            "order": null,
            "overflow": null,
            "overflow_x": null,
            "overflow_y": null,
            "padding": null,
            "right": null,
            "top": null,
            "visibility": null,
            "width": null
          }
        },
        "f3c7ef18cf6642a68b7ffebbdac21107": {
          "model_module": "@jupyter-widgets/controls",
          "model_name": "DescriptionStyleModel",
          "model_module_version": "1.5.0",
          "state": {
            "_model_module": "@jupyter-widgets/controls",
            "_model_module_version": "1.5.0",
            "_model_name": "DescriptionStyleModel",
            "_view_count": null,
            "_view_module": "@jupyter-widgets/base",
            "_view_module_version": "1.2.0",
            "_view_name": "StyleView",
            "description_width": ""
          }
        },
        "d9d61724f1234a6587d48a920b564bc6": {
          "model_module": "@jupyter-widgets/base",
          "model_name": "LayoutModel",
          "model_module_version": "1.2.0",
          "state": {
            "_model_module": "@jupyter-widgets/base",
            "_model_module_version": "1.2.0",
            "_model_name": "LayoutModel",
            "_view_count": null,
            "_view_module": "@jupyter-widgets/base",
            "_view_module_version": "1.2.0",
            "_view_name": "LayoutView",
            "align_content": null,
            "align_items": null,
            "align_self": null,
            "border": null,
            "bottom": null,
            "display": null,
            "flex": null,
            "flex_flow": null,
            "grid_area": null,
            "grid_auto_columns": null,
            "grid_auto_flow": null,
            "grid_auto_rows": null,
            "grid_column": null,
            "grid_gap": null,
            "grid_row": null,
            "grid_template_areas": null,
            "grid_template_columns": null,
            "grid_template_rows": null,
            "height": null,
            "justify_content": null,
            "justify_items": null,
            "left": null,
            "margin": null,
            "max_height": null,
            "max_width": null,
            "min_height": null,
            "min_width": null,
            "object_fit": null,
            "object_position": null,
            "order": null,
            "overflow": null,
            "overflow_x": null,
            "overflow_y": null,
            "padding": null,
            "right": null,
            "top": null,
            "visibility": null,
            "width": null
          }
        },
        "f0c310b0b8654873904a2e8aa0db2846": {
          "model_module": "@jupyter-widgets/controls",
          "model_name": "ProgressStyleModel",
          "model_module_version": "1.5.0",
          "state": {
            "_model_module": "@jupyter-widgets/controls",
            "_model_module_version": "1.5.0",
            "_model_name": "ProgressStyleModel",
            "_view_count": null,
            "_view_module": "@jupyter-widgets/base",
            "_view_module_version": "1.2.0",
            "_view_name": "StyleView",
            "bar_color": null,
            "description_width": ""
          }
        },
        "4ade8beb832f44ebb788c544750a3dcb": {
          "model_module": "@jupyter-widgets/base",
          "model_name": "LayoutModel",
          "model_module_version": "1.2.0",
          "state": {
            "_model_module": "@jupyter-widgets/base",
            "_model_module_version": "1.2.0",
            "_model_name": "LayoutModel",
            "_view_count": null,
            "_view_module": "@jupyter-widgets/base",
            "_view_module_version": "1.2.0",
            "_view_name": "LayoutView",
            "align_content": null,
            "align_items": null,
            "align_self": null,
            "border": null,
            "bottom": null,
            "display": null,
            "flex": null,
            "flex_flow": null,
            "grid_area": null,
            "grid_auto_columns": null,
            "grid_auto_flow": null,
            "grid_auto_rows": null,
            "grid_column": null,
            "grid_gap": null,
            "grid_row": null,
            "grid_template_areas": null,
            "grid_template_columns": null,
            "grid_template_rows": null,
            "height": null,
            "justify_content": null,
            "justify_items": null,
            "left": null,
            "margin": null,
            "max_height": null,
            "max_width": null,
            "min_height": null,
            "min_width": null,
            "object_fit": null,
            "object_position": null,
            "order": null,
            "overflow": null,
            "overflow_x": null,
            "overflow_y": null,
            "padding": null,
            "right": null,
            "top": null,
            "visibility": null,
            "width": null
          }
        },
        "1bdefe7cb5a241e483faec940c5b3446": {
          "model_module": "@jupyter-widgets/controls",
          "model_name": "DescriptionStyleModel",
          "model_module_version": "1.5.0",
          "state": {
            "_model_module": "@jupyter-widgets/controls",
            "_model_module_version": "1.5.0",
            "_model_name": "DescriptionStyleModel",
            "_view_count": null,
            "_view_module": "@jupyter-widgets/base",
            "_view_module_version": "1.2.0",
            "_view_name": "StyleView",
            "description_width": ""
          }
        },
        "a4c41c44a81146fd864e338b45009684": {
          "model_module": "@jupyter-widgets/controls",
          "model_name": "HBoxModel",
          "model_module_version": "1.5.0",
          "state": {
            "_dom_classes": [],
            "_model_module": "@jupyter-widgets/controls",
            "_model_module_version": "1.5.0",
            "_model_name": "HBoxModel",
            "_view_count": null,
            "_view_module": "@jupyter-widgets/controls",
            "_view_module_version": "1.5.0",
            "_view_name": "HBoxView",
            "box_style": "",
            "children": [
              "IPY_MODEL_00585fcf8924459a94928701dda61cb6",
              "IPY_MODEL_2ff6b528ea524e0f8abdd25fadea2309",
              "IPY_MODEL_e4ce0889c9fd4bb4841b12b95c1cb33d"
            ],
            "layout": "IPY_MODEL_ef889e9c7b0d48c0a5d956c1378f4051"
          }
        },
        "00585fcf8924459a94928701dda61cb6": {
          "model_module": "@jupyter-widgets/controls",
          "model_name": "HTMLModel",
          "model_module_version": "1.5.0",
          "state": {
            "_dom_classes": [],
            "_model_module": "@jupyter-widgets/controls",
            "_model_module_version": "1.5.0",
            "_model_name": "HTMLModel",
            "_view_count": null,
            "_view_module": "@jupyter-widgets/controls",
            "_view_module_version": "1.5.0",
            "_view_name": "HTMLView",
            "description": "",
            "description_tooltip": null,
            "layout": "IPY_MODEL_ded721ec406e4de6be37b34799971582",
            "placeholder": "​",
            "style": "IPY_MODEL_1631c611b7a14195977399a4a4c4f8bf",
            "value": "Downloading: 100%"
          }
        },
        "2ff6b528ea524e0f8abdd25fadea2309": {
          "model_module": "@jupyter-widgets/controls",
          "model_name": "FloatProgressModel",
          "model_module_version": "1.5.0",
          "state": {
            "_dom_classes": [],
            "_model_module": "@jupyter-widgets/controls",
            "_model_module_version": "1.5.0",
            "_model_name": "FloatProgressModel",
            "_view_count": null,
            "_view_module": "@jupyter-widgets/controls",
            "_view_module_version": "1.5.0",
            "_view_name": "ProgressView",
            "bar_style": "success",
            "description": "",
            "description_tooltip": null,
            "layout": "IPY_MODEL_0a165ed4b7a54e6a80bf70124f879d3d",
            "max": 1395,
            "min": 0,
            "orientation": "horizontal",
            "style": "IPY_MODEL_3b60fd839aa24e03ba30de461c2f7126",
            "value": 1395
          }
        },
        "e4ce0889c9fd4bb4841b12b95c1cb33d": {
          "model_module": "@jupyter-widgets/controls",
          "model_name": "HTMLModel",
          "model_module_version": "1.5.0",
          "state": {
            "_dom_classes": [],
            "_model_module": "@jupyter-widgets/controls",
            "_model_module_version": "1.5.0",
            "_model_name": "HTMLModel",
            "_view_count": null,
            "_view_module": "@jupyter-widgets/controls",
            "_view_module_version": "1.5.0",
            "_view_name": "HTMLView",
            "description": "",
            "description_tooltip": null,
            "layout": "IPY_MODEL_a0910e2178c2426f82bf5bfa4c30843d",
            "placeholder": "​",
            "style": "IPY_MODEL_827422d4afc54cf0865d2e35dd518999",
            "value": " 1.40k/1.40k [00:00&lt;00:00, 18.6kB/s]"
          }
        },
        "ef889e9c7b0d48c0a5d956c1378f4051": {
          "model_module": "@jupyter-widgets/base",
          "model_name": "LayoutModel",
          "model_module_version": "1.2.0",
          "state": {
            "_model_module": "@jupyter-widgets/base",
            "_model_module_version": "1.2.0",
            "_model_name": "LayoutModel",
            "_view_count": null,
            "_view_module": "@jupyter-widgets/base",
            "_view_module_version": "1.2.0",
            "_view_name": "LayoutView",
            "align_content": null,
            "align_items": null,
            "align_self": null,
            "border": null,
            "bottom": null,
            "display": null,
            "flex": null,
            "flex_flow": null,
            "grid_area": null,
            "grid_auto_columns": null,
            "grid_auto_flow": null,
            "grid_auto_rows": null,
            "grid_column": null,
            "grid_gap": null,
            "grid_row": null,
            "grid_template_areas": null,
            "grid_template_columns": null,
            "grid_template_rows": null,
            "height": null,
            "justify_content": null,
            "justify_items": null,
            "left": null,
            "margin": null,
            "max_height": null,
            "max_width": null,
            "min_height": null,
            "min_width": null,
            "object_fit": null,
            "object_position": null,
            "order": null,
            "overflow": null,
            "overflow_x": null,
            "overflow_y": null,
            "padding": null,
            "right": null,
            "top": null,
            "visibility": null,
            "width": null
          }
        },
        "ded721ec406e4de6be37b34799971582": {
          "model_module": "@jupyter-widgets/base",
          "model_name": "LayoutModel",
          "model_module_version": "1.2.0",
          "state": {
            "_model_module": "@jupyter-widgets/base",
            "_model_module_version": "1.2.0",
            "_model_name": "LayoutModel",
            "_view_count": null,
            "_view_module": "@jupyter-widgets/base",
            "_view_module_version": "1.2.0",
            "_view_name": "LayoutView",
            "align_content": null,
            "align_items": null,
            "align_self": null,
            "border": null,
            "bottom": null,
            "display": null,
            "flex": null,
            "flex_flow": null,
            "grid_area": null,
            "grid_auto_columns": null,
            "grid_auto_flow": null,
            "grid_auto_rows": null,
            "grid_column": null,
            "grid_gap": null,
            "grid_row": null,
            "grid_template_areas": null,
            "grid_template_columns": null,
            "grid_template_rows": null,
            "height": null,
            "justify_content": null,
            "justify_items": null,
            "left": null,
            "margin": null,
            "max_height": null,
            "max_width": null,
            "min_height": null,
            "min_width": null,
            "object_fit": null,
            "object_position": null,
            "order": null,
            "overflow": null,
            "overflow_x": null,
            "overflow_y": null,
            "padding": null,
            "right": null,
            "top": null,
            "visibility": null,
            "width": null
          }
        },
        "1631c611b7a14195977399a4a4c4f8bf": {
          "model_module": "@jupyter-widgets/controls",
          "model_name": "DescriptionStyleModel",
          "model_module_version": "1.5.0",
          "state": {
            "_model_module": "@jupyter-widgets/controls",
            "_model_module_version": "1.5.0",
            "_model_name": "DescriptionStyleModel",
            "_view_count": null,
            "_view_module": "@jupyter-widgets/base",
            "_view_module_version": "1.2.0",
            "_view_name": "StyleView",
            "description_width": ""
          }
        },
        "0a165ed4b7a54e6a80bf70124f879d3d": {
          "model_module": "@jupyter-widgets/base",
          "model_name": "LayoutModel",
          "model_module_version": "1.2.0",
          "state": {
            "_model_module": "@jupyter-widgets/base",
            "_model_module_version": "1.2.0",
            "_model_name": "LayoutModel",
            "_view_count": null,
            "_view_module": "@jupyter-widgets/base",
            "_view_module_version": "1.2.0",
            "_view_name": "LayoutView",
            "align_content": null,
            "align_items": null,
            "align_self": null,
            "border": null,
            "bottom": null,
            "display": null,
            "flex": null,
            "flex_flow": null,
            "grid_area": null,
            "grid_auto_columns": null,
            "grid_auto_flow": null,
            "grid_auto_rows": null,
            "grid_column": null,
            "grid_gap": null,
            "grid_row": null,
            "grid_template_areas": null,
            "grid_template_columns": null,
            "grid_template_rows": null,
            "height": null,
            "justify_content": null,
            "justify_items": null,
            "left": null,
            "margin": null,
            "max_height": null,
            "max_width": null,
            "min_height": null,
            "min_width": null,
            "object_fit": null,
            "object_position": null,
            "order": null,
            "overflow": null,
            "overflow_x": null,
            "overflow_y": null,
            "padding": null,
            "right": null,
            "top": null,
            "visibility": null,
            "width": null
          }
        },
        "3b60fd839aa24e03ba30de461c2f7126": {
          "model_module": "@jupyter-widgets/controls",
          "model_name": "ProgressStyleModel",
          "model_module_version": "1.5.0",
          "state": {
            "_model_module": "@jupyter-widgets/controls",
            "_model_module_version": "1.5.0",
            "_model_name": "ProgressStyleModel",
            "_view_count": null,
            "_view_module": "@jupyter-widgets/base",
            "_view_module_version": "1.2.0",
            "_view_name": "StyleView",
            "bar_color": null,
            "description_width": ""
          }
        },
        "a0910e2178c2426f82bf5bfa4c30843d": {
          "model_module": "@jupyter-widgets/base",
          "model_name": "LayoutModel",
          "model_module_version": "1.2.0",
          "state": {
            "_model_module": "@jupyter-widgets/base",
            "_model_module_version": "1.2.0",
            "_model_name": "LayoutModel",
            "_view_count": null,
            "_view_module": "@jupyter-widgets/base",
            "_view_module_version": "1.2.0",
            "_view_name": "LayoutView",
            "align_content": null,
            "align_items": null,
            "align_self": null,
            "border": null,
            "bottom": null,
            "display": null,
            "flex": null,
            "flex_flow": null,
            "grid_area": null,
            "grid_auto_columns": null,
            "grid_auto_flow": null,
            "grid_auto_rows": null,
            "grid_column": null,
            "grid_gap": null,
            "grid_row": null,
            "grid_template_areas": null,
            "grid_template_columns": null,
            "grid_template_rows": null,
            "height": null,
            "justify_content": null,
            "justify_items": null,
            "left": null,
            "margin": null,
            "max_height": null,
            "max_width": null,
            "min_height": null,
            "min_width": null,
            "object_fit": null,
            "object_position": null,
            "order": null,
            "overflow": null,
            "overflow_x": null,
            "overflow_y": null,
            "padding": null,
            "right": null,
            "top": null,
            "visibility": null,
            "width": null
          }
        },
        "827422d4afc54cf0865d2e35dd518999": {
          "model_module": "@jupyter-widgets/controls",
          "model_name": "DescriptionStyleModel",
          "model_module_version": "1.5.0",
          "state": {
            "_model_module": "@jupyter-widgets/controls",
            "_model_module_version": "1.5.0",
            "_model_name": "DescriptionStyleModel",
            "_view_count": null,
            "_view_module": "@jupyter-widgets/base",
            "_view_module_version": "1.2.0",
            "_view_name": "StyleView",
            "description_width": ""
          }
        },
        "84e85e0dc91e482e8e6e3ed391da05e9": {
          "model_module": "@jupyter-widgets/controls",
          "model_name": "HBoxModel",
          "model_module_version": "1.5.0",
          "state": {
            "_dom_classes": [],
            "_model_module": "@jupyter-widgets/controls",
            "_model_module_version": "1.5.0",
            "_model_name": "HBoxModel",
            "_view_count": null,
            "_view_module": "@jupyter-widgets/controls",
            "_view_module_version": "1.5.0",
            "_view_name": "HBoxView",
            "box_style": "",
            "children": [
              "IPY_MODEL_713371c68b104351ab4ea68da5761e52",
              "IPY_MODEL_4754b6966e60417d83b589baeaba70da",
              "IPY_MODEL_c832271752764695a10f5baee64ff3dc"
            ],
            "layout": "IPY_MODEL_350e84e9a5b6482eb216d693c7030489"
          }
        },
        "713371c68b104351ab4ea68da5761e52": {
          "model_module": "@jupyter-widgets/controls",
          "model_name": "HTMLModel",
          "model_module_version": "1.5.0",
          "state": {
            "_dom_classes": [],
            "_model_module": "@jupyter-widgets/controls",
            "_model_module_version": "1.5.0",
            "_model_name": "HTMLModel",
            "_view_count": null,
            "_view_module": "@jupyter-widgets/controls",
            "_view_module_version": "1.5.0",
            "_view_name": "HTMLView",
            "description": "",
            "description_tooltip": null,
            "layout": "IPY_MODEL_5f7adf5764f84b19b87dd891f3df3c49",
            "placeholder": "​",
            "style": "IPY_MODEL_8f5fa1c3f2424e36a05c10392b3b0c57",
            "value": "Downloading: 100%"
          }
        },
        "4754b6966e60417d83b589baeaba70da": {
          "model_module": "@jupyter-widgets/controls",
          "model_name": "FloatProgressModel",
          "model_module_version": "1.5.0",
          "state": {
            "_dom_classes": [],
            "_model_module": "@jupyter-widgets/controls",
            "_model_module_version": "1.5.0",
            "_model_name": "FloatProgressModel",
            "_view_count": null,
            "_view_module": "@jupyter-widgets/controls",
            "_view_module_version": "1.5.0",
            "_view_name": "ProgressView",
            "bar_style": "success",
            "description": "",
            "description_tooltip": null,
            "layout": "IPY_MODEL_9ad351c90e2d44b590fa8ae0a44df0fd",
            "max": 790473,
            "min": 0,
            "orientation": "horizontal",
            "style": "IPY_MODEL_82e2351de17941a3b396a85b5baefc2b",
            "value": 790473
          }
        },
        "c832271752764695a10f5baee64ff3dc": {
          "model_module": "@jupyter-widgets/controls",
          "model_name": "HTMLModel",
          "model_module_version": "1.5.0",
          "state": {
            "_dom_classes": [],
            "_model_module": "@jupyter-widgets/controls",
            "_model_module_version": "1.5.0",
            "_model_name": "HTMLModel",
            "_view_count": null,
            "_view_module": "@jupyter-widgets/controls",
            "_view_module_version": "1.5.0",
            "_view_name": "HTMLView",
            "description": "",
            "description_tooltip": null,
            "layout": "IPY_MODEL_6aa0fe2994ce491c9ee585bb8f3d04b9",
            "placeholder": "​",
            "style": "IPY_MODEL_8a7df8813bf94d8e9cc9861df4d46df0",
            "value": " 790k/790k [00:00&lt;00:00, 2.10MB/s]"
          }
        },
        "350e84e9a5b6482eb216d693c7030489": {
          "model_module": "@jupyter-widgets/base",
          "model_name": "LayoutModel",
          "model_module_version": "1.2.0",
          "state": {
            "_model_module": "@jupyter-widgets/base",
            "_model_module_version": "1.2.0",
            "_model_name": "LayoutModel",
            "_view_count": null,
            "_view_module": "@jupyter-widgets/base",
            "_view_module_version": "1.2.0",
            "_view_name": "LayoutView",
            "align_content": null,
            "align_items": null,
            "align_self": null,
            "border": null,
            "bottom": null,
            "display": null,
            "flex": null,
            "flex_flow": null,
            "grid_area": null,
            "grid_auto_columns": null,
            "grid_auto_flow": null,
            "grid_auto_rows": null,
            "grid_column": null,
            "grid_gap": null,
            "grid_row": null,
            "grid_template_areas": null,
            "grid_template_columns": null,
            "grid_template_rows": null,
            "height": null,
            "justify_content": null,
            "justify_items": null,
            "left": null,
            "margin": null,
            "max_height": null,
            "max_width": null,
            "min_height": null,
            "min_width": null,
            "object_fit": null,
            "object_position": null,
            "order": null,
            "overflow": null,
            "overflow_x": null,
            "overflow_y": null,
            "padding": null,
            "right": null,
            "top": null,
            "visibility": null,
            "width": null
          }
        },
        "5f7adf5764f84b19b87dd891f3df3c49": {
          "model_module": "@jupyter-widgets/base",
          "model_name": "LayoutModel",
          "model_module_version": "1.2.0",
          "state": {
            "_model_module": "@jupyter-widgets/base",
            "_model_module_version": "1.2.0",
            "_model_name": "LayoutModel",
            "_view_count": null,
            "_view_module": "@jupyter-widgets/base",
            "_view_module_version": "1.2.0",
            "_view_name": "LayoutView",
            "align_content": null,
            "align_items": null,
            "align_self": null,
            "border": null,
            "bottom": null,
            "display": null,
            "flex": null,
            "flex_flow": null,
            "grid_area": null,
            "grid_auto_columns": null,
            "grid_auto_flow": null,
            "grid_auto_rows": null,
            "grid_column": null,
            "grid_gap": null,
            "grid_row": null,
            "grid_template_areas": null,
            "grid_template_columns": null,
            "grid_template_rows": null,
            "height": null,
            "justify_content": null,
            "justify_items": null,
            "left": null,
            "margin": null,
            "max_height": null,
            "max_width": null,
            "min_height": null,
            "min_width": null,
            "object_fit": null,
            "object_position": null,
            "order": null,
            "overflow": null,
            "overflow_x": null,
            "overflow_y": null,
            "padding": null,
            "right": null,
            "top": null,
            "visibility": null,
            "width": null
          }
        },
        "8f5fa1c3f2424e36a05c10392b3b0c57": {
          "model_module": "@jupyter-widgets/controls",
          "model_name": "DescriptionStyleModel",
          "model_module_version": "1.5.0",
          "state": {
            "_model_module": "@jupyter-widgets/controls",
            "_model_module_version": "1.5.0",
            "_model_name": "DescriptionStyleModel",
            "_view_count": null,
            "_view_module": "@jupyter-widgets/base",
            "_view_module_version": "1.2.0",
            "_view_name": "StyleView",
            "description_width": ""
          }
        },
        "9ad351c90e2d44b590fa8ae0a44df0fd": {
          "model_module": "@jupyter-widgets/base",
          "model_name": "LayoutModel",
          "model_module_version": "1.2.0",
          "state": {
            "_model_module": "@jupyter-widgets/base",
            "_model_module_version": "1.2.0",
            "_model_name": "LayoutModel",
            "_view_count": null,
            "_view_module": "@jupyter-widgets/base",
            "_view_module_version": "1.2.0",
            "_view_name": "LayoutView",
            "align_content": null,
            "align_items": null,
            "align_self": null,
            "border": null,
            "bottom": null,
            "display": null,
            "flex": null,
            "flex_flow": null,
            "grid_area": null,
            "grid_auto_columns": null,
            "grid_auto_flow": null,
            "grid_auto_rows": null,
            "grid_column": null,
            "grid_gap": null,
            "grid_row": null,
            "grid_template_areas": null,
            "grid_template_columns": null,
            "grid_template_rows": null,
            "height": null,
            "justify_content": null,
            "justify_items": null,
            "left": null,
            "margin": null,
            "max_height": null,
            "max_width": null,
            "min_height": null,
            "min_width": null,
            "object_fit": null,
            "object_position": null,
            "order": null,
            "overflow": null,
            "overflow_x": null,
            "overflow_y": null,
            "padding": null,
            "right": null,
            "top": null,
            "visibility": null,
            "width": null
          }
        },
        "82e2351de17941a3b396a85b5baefc2b": {
          "model_module": "@jupyter-widgets/controls",
          "model_name": "ProgressStyleModel",
          "model_module_version": "1.5.0",
          "state": {
            "_model_module": "@jupyter-widgets/controls",
            "_model_module_version": "1.5.0",
            "_model_name": "ProgressStyleModel",
            "_view_count": null,
            "_view_module": "@jupyter-widgets/base",
            "_view_module_version": "1.2.0",
            "_view_name": "StyleView",
            "bar_color": null,
            "description_width": ""
          }
        },
        "6aa0fe2994ce491c9ee585bb8f3d04b9": {
          "model_module": "@jupyter-widgets/base",
          "model_name": "LayoutModel",
          "model_module_version": "1.2.0",
          "state": {
            "_model_module": "@jupyter-widgets/base",
            "_model_module_version": "1.2.0",
            "_model_name": "LayoutModel",
            "_view_count": null,
            "_view_module": "@jupyter-widgets/base",
            "_view_module_version": "1.2.0",
            "_view_name": "LayoutView",
            "align_content": null,
            "align_items": null,
            "align_self": null,
            "border": null,
            "bottom": null,
            "display": null,
            "flex": null,
            "flex_flow": null,
            "grid_area": null,
            "grid_auto_columns": null,
            "grid_auto_flow": null,
            "grid_auto_rows": null,
            "grid_column": null,
            "grid_gap": null,
            "grid_row": null,
            "grid_template_areas": null,
            "grid_template_columns": null,
            "grid_template_rows": null,
            "height": null,
            "justify_content": null,
            "justify_items": null,
            "left": null,
            "margin": null,
            "max_height": null,
            "max_width": null,
            "min_height": null,
            "min_width": null,
            "object_fit": null,
            "object_position": null,
            "order": null,
            "overflow": null,
            "overflow_x": null,
            "overflow_y": null,
            "padding": null,
            "right": null,
            "top": null,
            "visibility": null,
            "width": null
          }
        },
        "8a7df8813bf94d8e9cc9861df4d46df0": {
          "model_module": "@jupyter-widgets/controls",
          "model_name": "DescriptionStyleModel",
          "model_module_version": "1.5.0",
          "state": {
            "_model_module": "@jupyter-widgets/controls",
            "_model_module_version": "1.5.0",
            "_model_name": "DescriptionStyleModel",
            "_view_count": null,
            "_view_module": "@jupyter-widgets/base",
            "_view_module_version": "1.2.0",
            "_view_name": "StyleView",
            "description_width": ""
          }
        },
        "cc2a0b418c7f4b2c8b07edfe60572fdf": {
          "model_module": "@jupyter-widgets/controls",
          "model_name": "HBoxModel",
          "model_module_version": "1.5.0",
          "state": {
            "_dom_classes": [],
            "_model_module": "@jupyter-widgets/controls",
            "_model_module_version": "1.5.0",
            "_model_name": "HBoxModel",
            "_view_count": null,
            "_view_module": "@jupyter-widgets/controls",
            "_view_module_version": "1.5.0",
            "_view_name": "HBoxView",
            "box_style": "",
            "children": [
              "IPY_MODEL_8ede3910287a4f12adbd53492bbdffd1",
              "IPY_MODEL_ce62458029494d9dbc23cb94f7e0fd51",
              "IPY_MODEL_29dd816726cf4e5b87f9a7de31d8bdc0"
            ],
            "layout": "IPY_MODEL_def2011fde964ecb952d1b6de8bb6fc2"
          }
        },
        "8ede3910287a4f12adbd53492bbdffd1": {
          "model_module": "@jupyter-widgets/controls",
          "model_name": "HTMLModel",
          "model_module_version": "1.5.0",
          "state": {
            "_dom_classes": [],
            "_model_module": "@jupyter-widgets/controls",
            "_model_module_version": "1.5.0",
            "_model_name": "HTMLModel",
            "_view_count": null,
            "_view_module": "@jupyter-widgets/controls",
            "_view_module_version": "1.5.0",
            "_view_name": "HTMLView",
            "description": "",
            "description_tooltip": null,
            "layout": "IPY_MODEL_abb0a3e71c154049a0c6e7ff762e3f1c",
            "placeholder": "​",
            "style": "IPY_MODEL_cb69b89c3f81419387b51bcb757aeb2f",
            "value": "Downloading: 100%"
          }
        },
        "ce62458029494d9dbc23cb94f7e0fd51": {
          "model_module": "@jupyter-widgets/controls",
          "model_name": "FloatProgressModel",
          "model_module_version": "1.5.0",
          "state": {
            "_dom_classes": [],
            "_model_module": "@jupyter-widgets/controls",
            "_model_module_version": "1.5.0",
            "_model_name": "FloatProgressModel",
            "_view_count": null,
            "_view_module": "@jupyter-widgets/controls",
            "_view_module_version": "1.5.0",
            "_view_name": "ProgressView",
            "bar_style": "success",
            "description": "",
            "description_tooltip": null,
            "layout": "IPY_MODEL_0e61d632524947b1935c571ee001e262",
            "max": 706659,
            "min": 0,
            "orientation": "horizontal",
            "style": "IPY_MODEL_edaf981717ff42e1823129c102767198",
            "value": 706659
          }
        },
        "29dd816726cf4e5b87f9a7de31d8bdc0": {
          "model_module": "@jupyter-widgets/controls",
          "model_name": "HTMLModel",
          "model_module_version": "1.5.0",
          "state": {
            "_dom_classes": [],
            "_model_module": "@jupyter-widgets/controls",
            "_model_module_version": "1.5.0",
            "_model_name": "HTMLModel",
            "_view_count": null,
            "_view_module": "@jupyter-widgets/controls",
            "_view_module_version": "1.5.0",
            "_view_name": "HTMLView",
            "description": "",
            "description_tooltip": null,
            "layout": "IPY_MODEL_539b7bade61f456488e78ade2e492fe2",
            "placeholder": "​",
            "style": "IPY_MODEL_d15d497d710b4ddf8683752daa823fa7",
            "value": " 707k/707k [00:00&lt;00:00, 609kB/s]"
          }
        },
        "def2011fde964ecb952d1b6de8bb6fc2": {
          "model_module": "@jupyter-widgets/base",
          "model_name": "LayoutModel",
          "model_module_version": "1.2.0",
          "state": {
            "_model_module": "@jupyter-widgets/base",
            "_model_module_version": "1.2.0",
            "_model_name": "LayoutModel",
            "_view_count": null,
            "_view_module": "@jupyter-widgets/base",
            "_view_module_version": "1.2.0",
            "_view_name": "LayoutView",
            "align_content": null,
            "align_items": null,
            "align_self": null,
            "border": null,
            "bottom": null,
            "display": null,
            "flex": null,
            "flex_flow": null,
            "grid_area": null,
            "grid_auto_columns": null,
            "grid_auto_flow": null,
            "grid_auto_rows": null,
            "grid_column": null,
            "grid_gap": null,
            "grid_row": null,
            "grid_template_areas": null,
            "grid_template_columns": null,
            "grid_template_rows": null,
            "height": null,
            "justify_content": null,
            "justify_items": null,
            "left": null,
            "margin": null,
            "max_height": null,
            "max_width": null,
            "min_height": null,
            "min_width": null,
            "object_fit": null,
            "object_position": null,
            "order": null,
            "overflow": null,
            "overflow_x": null,
            "overflow_y": null,
            "padding": null,
            "right": null,
            "top": null,
            "visibility": null,
            "width": null
          }
        },
        "abb0a3e71c154049a0c6e7ff762e3f1c": {
          "model_module": "@jupyter-widgets/base",
          "model_name": "LayoutModel",
          "model_module_version": "1.2.0",
          "state": {
            "_model_module": "@jupyter-widgets/base",
            "_model_module_version": "1.2.0",
            "_model_name": "LayoutModel",
            "_view_count": null,
            "_view_module": "@jupyter-widgets/base",
            "_view_module_version": "1.2.0",
            "_view_name": "LayoutView",
            "align_content": null,
            "align_items": null,
            "align_self": null,
            "border": null,
            "bottom": null,
            "display": null,
            "flex": null,
            "flex_flow": null,
            "grid_area": null,
            "grid_auto_columns": null,
            "grid_auto_flow": null,
            "grid_auto_rows": null,
            "grid_column": null,
            "grid_gap": null,
            "grid_row": null,
            "grid_template_areas": null,
            "grid_template_columns": null,
            "grid_template_rows": null,
            "height": null,
            "justify_content": null,
            "justify_items": null,
            "left": null,
            "margin": null,
            "max_height": null,
            "max_width": null,
            "min_height": null,
            "min_width": null,
            "object_fit": null,
            "object_position": null,
            "order": null,
            "overflow": null,
            "overflow_x": null,
            "overflow_y": null,
            "padding": null,
            "right": null,
            "top": null,
            "visibility": null,
            "width": null
          }
        },
        "cb69b89c3f81419387b51bcb757aeb2f": {
          "model_module": "@jupyter-widgets/controls",
          "model_name": "DescriptionStyleModel",
          "model_module_version": "1.5.0",
          "state": {
            "_model_module": "@jupyter-widgets/controls",
            "_model_module_version": "1.5.0",
            "_model_name": "DescriptionStyleModel",
            "_view_count": null,
            "_view_module": "@jupyter-widgets/base",
            "_view_module_version": "1.2.0",
            "_view_name": "StyleView",
            "description_width": ""
          }
        },
        "0e61d632524947b1935c571ee001e262": {
          "model_module": "@jupyter-widgets/base",
          "model_name": "LayoutModel",
          "model_module_version": "1.2.0",
          "state": {
            "_model_module": "@jupyter-widgets/base",
            "_model_module_version": "1.2.0",
            "_model_name": "LayoutModel",
            "_view_count": null,
            "_view_module": "@jupyter-widgets/base",
            "_view_module_version": "1.2.0",
            "_view_name": "LayoutView",
            "align_content": null,
            "align_items": null,
            "align_self": null,
            "border": null,
            "bottom": null,
            "display": null,
            "flex": null,
            "flex_flow": null,
            "grid_area": null,
            "grid_auto_columns": null,
            "grid_auto_flow": null,
            "grid_auto_rows": null,
            "grid_column": null,
            "grid_gap": null,
            "grid_row": null,
            "grid_template_areas": null,
            "grid_template_columns": null,
            "grid_template_rows": null,
            "height": null,
            "justify_content": null,
            "justify_items": null,
            "left": null,
            "margin": null,
            "max_height": null,
            "max_width": null,
            "min_height": null,
            "min_width": null,
            "object_fit": null,
            "object_position": null,
            "order": null,
            "overflow": null,
            "overflow_x": null,
            "overflow_y": null,
            "padding": null,
            "right": null,
            "top": null,
            "visibility": null,
            "width": null
          }
        },
        "edaf981717ff42e1823129c102767198": {
          "model_module": "@jupyter-widgets/controls",
          "model_name": "ProgressStyleModel",
          "model_module_version": "1.5.0",
          "state": {
            "_model_module": "@jupyter-widgets/controls",
            "_model_module_version": "1.5.0",
            "_model_name": "ProgressStyleModel",
            "_view_count": null,
            "_view_module": "@jupyter-widgets/base",
            "_view_module_version": "1.2.0",
            "_view_name": "StyleView",
            "bar_color": null,
            "description_width": ""
          }
        },
        "539b7bade61f456488e78ade2e492fe2": {
          "model_module": "@jupyter-widgets/base",
          "model_name": "LayoutModel",
          "model_module_version": "1.2.0",
          "state": {
            "_model_module": "@jupyter-widgets/base",
            "_model_module_version": "1.2.0",
            "_model_name": "LayoutModel",
            "_view_count": null,
            "_view_module": "@jupyter-widgets/base",
            "_view_module_version": "1.2.0",
            "_view_name": "LayoutView",
            "align_content": null,
            "align_items": null,
            "align_self": null,
            "border": null,
            "bottom": null,
            "display": null,
            "flex": null,
            "flex_flow": null,
            "grid_area": null,
            "grid_auto_columns": null,
            "grid_auto_flow": null,
            "grid_auto_rows": null,
            "grid_column": null,
            "grid_gap": null,
            "grid_row": null,
            "grid_template_areas": null,
            "grid_template_columns": null,
            "grid_template_rows": null,
            "height": null,
            "justify_content": null,
            "justify_items": null,
            "left": null,
            "margin": null,
            "max_height": null,
            "max_width": null,
            "min_height": null,
            "min_width": null,
            "object_fit": null,
            "object_position": null,
            "order": null,
            "overflow": null,
            "overflow_x": null,
            "overflow_y": null,
            "padding": null,
            "right": null,
            "top": null,
            "visibility": null,
            "width": null
          }
        },
        "d15d497d710b4ddf8683752daa823fa7": {
          "model_module": "@jupyter-widgets/controls",
          "model_name": "DescriptionStyleModel",
          "model_module_version": "1.5.0",
          "state": {
            "_model_module": "@jupyter-widgets/controls",
            "_model_module_version": "1.5.0",
            "_model_name": "DescriptionStyleModel",
            "_view_count": null,
            "_view_module": "@jupyter-widgets/base",
            "_view_module_version": "1.2.0",
            "_view_name": "StyleView",
            "description_width": ""
          }
        },
        "439fc6f048c144cdbff4f36a567cac97": {
          "model_module": "@jupyter-widgets/controls",
          "model_name": "HBoxModel",
          "model_module_version": "1.5.0",
          "state": {
            "_dom_classes": [],
            "_model_module": "@jupyter-widgets/controls",
            "_model_module_version": "1.5.0",
            "_model_name": "HBoxModel",
            "_view_count": null,
            "_view_module": "@jupyter-widgets/controls",
            "_view_module_version": "1.5.0",
            "_view_name": "HBoxView",
            "box_style": "",
            "children": [
              "IPY_MODEL_b29b97cf4e5e46fe9f5a9b3d139e1165",
              "IPY_MODEL_3d0f9d146f814522a25dc5f23556e5bc",
              "IPY_MODEL_85acd1b23ab54c7bab968bb0068b244f"
            ],
            "layout": "IPY_MODEL_45daa4acba2e46559d8fa8ac01a9d492"
          }
        },
        "b29b97cf4e5e46fe9f5a9b3d139e1165": {
          "model_module": "@jupyter-widgets/controls",
          "model_name": "HTMLModel",
          "model_module_version": "1.5.0",
          "state": {
            "_dom_classes": [],
            "_model_module": "@jupyter-widgets/controls",
            "_model_module_version": "1.5.0",
            "_model_name": "HTMLModel",
            "_view_count": null,
            "_view_module": "@jupyter-widgets/controls",
            "_view_module_version": "1.5.0",
            "_view_name": "HTMLView",
            "description": "",
            "description_tooltip": null,
            "layout": "IPY_MODEL_f1a5ce90287942488f5b0203d0586a8c",
            "placeholder": "​",
            "style": "IPY_MODEL_6448e94b929f421b9582bc74dbdab81a",
            "value": "Downloading: 100%"
          }
        },
        "3d0f9d146f814522a25dc5f23556e5bc": {
          "model_module": "@jupyter-widgets/controls",
          "model_name": "FloatProgressModel",
          "model_module_version": "1.5.0",
          "state": {
            "_dom_classes": [],
            "_model_module": "@jupyter-widgets/controls",
            "_model_module_version": "1.5.0",
            "_model_name": "FloatProgressModel",
            "_view_count": null,
            "_view_module": "@jupyter-widgets/controls",
            "_view_module_version": "1.5.0",
            "_view_name": "ProgressView",
            "bar_style": "success",
            "description": "",
            "description_tooltip": null,
            "layout": "IPY_MODEL_bb708916953f4aa18af2382388621ca9",
            "max": 1419970,
            "min": 0,
            "orientation": "horizontal",
            "style": "IPY_MODEL_f9b6a372a72f46f6998faed7d58aaa47",
            "value": 1419970
          }
        },
        "85acd1b23ab54c7bab968bb0068b244f": {
          "model_module": "@jupyter-widgets/controls",
          "model_name": "HTMLModel",
          "model_module_version": "1.5.0",
          "state": {
            "_dom_classes": [],
            "_model_module": "@jupyter-widgets/controls",
            "_model_module_version": "1.5.0",
            "_model_name": "HTMLModel",
            "_view_count": null,
            "_view_module": "@jupyter-widgets/controls",
            "_view_module_version": "1.5.0",
            "_view_name": "HTMLView",
            "description": "",
            "description_tooltip": null,
            "layout": "IPY_MODEL_a35ff2a0b0fd4398a8a5e9e2eee0c362",
            "placeholder": "​",
            "style": "IPY_MODEL_b411a5130b70473bba295d5097ce8894",
            "value": " 1.42M/1.42M [00:00&lt;00:00, 2.39MB/s]"
          }
        },
        "45daa4acba2e46559d8fa8ac01a9d492": {
          "model_module": "@jupyter-widgets/base",
          "model_name": "LayoutModel",
          "model_module_version": "1.2.0",
          "state": {
            "_model_module": "@jupyter-widgets/base",
            "_model_module_version": "1.2.0",
            "_model_name": "LayoutModel",
            "_view_count": null,
            "_view_module": "@jupyter-widgets/base",
            "_view_module_version": "1.2.0",
            "_view_name": "LayoutView",
            "align_content": null,
            "align_items": null,
            "align_self": null,
            "border": null,
            "bottom": null,
            "display": null,
            "flex": null,
            "flex_flow": null,
            "grid_area": null,
            "grid_auto_columns": null,
            "grid_auto_flow": null,
            "grid_auto_rows": null,
            "grid_column": null,
            "grid_gap": null,
            "grid_row": null,
            "grid_template_areas": null,
            "grid_template_columns": null,
            "grid_template_rows": null,
            "height": null,
            "justify_content": null,
            "justify_items": null,
            "left": null,
            "margin": null,
            "max_height": null,
            "max_width": null,
            "min_height": null,
            "min_width": null,
            "object_fit": null,
            "object_position": null,
            "order": null,
            "overflow": null,
            "overflow_x": null,
            "overflow_y": null,
            "padding": null,
            "right": null,
            "top": null,
            "visibility": null,
            "width": null
          }
        },
        "f1a5ce90287942488f5b0203d0586a8c": {
          "model_module": "@jupyter-widgets/base",
          "model_name": "LayoutModel",
          "model_module_version": "1.2.0",
          "state": {
            "_model_module": "@jupyter-widgets/base",
            "_model_module_version": "1.2.0",
            "_model_name": "LayoutModel",
            "_view_count": null,
            "_view_module": "@jupyter-widgets/base",
            "_view_module_version": "1.2.0",
            "_view_name": "LayoutView",
            "align_content": null,
            "align_items": null,
            "align_self": null,
            "border": null,
            "bottom": null,
            "display": null,
            "flex": null,
            "flex_flow": null,
            "grid_area": null,
            "grid_auto_columns": null,
            "grid_auto_flow": null,
            "grid_auto_rows": null,
            "grid_column": null,
            "grid_gap": null,
            "grid_row": null,
            "grid_template_areas": null,
            "grid_template_columns": null,
            "grid_template_rows": null,
            "height": null,
            "justify_content": null,
            "justify_items": null,
            "left": null,
            "margin": null,
            "max_height": null,
            "max_width": null,
            "min_height": null,
            "min_width": null,
            "object_fit": null,
            "object_position": null,
            "order": null,
            "overflow": null,
            "overflow_x": null,
            "overflow_y": null,
            "padding": null,
            "right": null,
            "top": null,
            "visibility": null,
            "width": null
          }
        },
        "6448e94b929f421b9582bc74dbdab81a": {
          "model_module": "@jupyter-widgets/controls",
          "model_name": "DescriptionStyleModel",
          "model_module_version": "1.5.0",
          "state": {
            "_model_module": "@jupyter-widgets/controls",
            "_model_module_version": "1.5.0",
            "_model_name": "DescriptionStyleModel",
            "_view_count": null,
            "_view_module": "@jupyter-widgets/base",
            "_view_module_version": "1.2.0",
            "_view_name": "StyleView",
            "description_width": ""
          }
        },
        "bb708916953f4aa18af2382388621ca9": {
          "model_module": "@jupyter-widgets/base",
          "model_name": "LayoutModel",
          "model_module_version": "1.2.0",
          "state": {
            "_model_module": "@jupyter-widgets/base",
            "_model_module_version": "1.2.0",
            "_model_name": "LayoutModel",
            "_view_count": null,
            "_view_module": "@jupyter-widgets/base",
            "_view_module_version": "1.2.0",
            "_view_name": "LayoutView",
            "align_content": null,
            "align_items": null,
            "align_self": null,
            "border": null,
            "bottom": null,
            "display": null,
            "flex": null,
            "flex_flow": null,
            "grid_area": null,
            "grid_auto_columns": null,
            "grid_auto_flow": null,
            "grid_auto_rows": null,
            "grid_column": null,
            "grid_gap": null,
            "grid_row": null,
            "grid_template_areas": null,
            "grid_template_columns": null,
            "grid_template_rows": null,
            "height": null,
            "justify_content": null,
            "justify_items": null,
            "left": null,
            "margin": null,
            "max_height": null,
            "max_width": null,
            "min_height": null,
            "min_width": null,
            "object_fit": null,
            "object_position": null,
            "order": null,
            "overflow": null,
            "overflow_x": null,
            "overflow_y": null,
            "padding": null,
            "right": null,
            "top": null,
            "visibility": null,
            "width": null
          }
        },
        "f9b6a372a72f46f6998faed7d58aaa47": {
          "model_module": "@jupyter-widgets/controls",
          "model_name": "ProgressStyleModel",
          "model_module_version": "1.5.0",
          "state": {
            "_model_module": "@jupyter-widgets/controls",
            "_model_module_version": "1.5.0",
            "_model_name": "ProgressStyleModel",
            "_view_count": null,
            "_view_module": "@jupyter-widgets/base",
            "_view_module_version": "1.2.0",
            "_view_name": "StyleView",
            "bar_color": null,
            "description_width": ""
          }
        },
        "a35ff2a0b0fd4398a8a5e9e2eee0c362": {
          "model_module": "@jupyter-widgets/base",
          "model_name": "LayoutModel",
          "model_module_version": "1.2.0",
          "state": {
            "_model_module": "@jupyter-widgets/base",
            "_model_module_version": "1.2.0",
            "_model_name": "LayoutModel",
            "_view_count": null,
            "_view_module": "@jupyter-widgets/base",
            "_view_module_version": "1.2.0",
            "_view_name": "LayoutView",
            "align_content": null,
            "align_items": null,
            "align_self": null,
            "border": null,
            "bottom": null,
            "display": null,
            "flex": null,
            "flex_flow": null,
            "grid_area": null,
            "grid_auto_columns": null,
            "grid_auto_flow": null,
            "grid_auto_rows": null,
            "grid_column": null,
            "grid_gap": null,
            "grid_row": null,
            "grid_template_areas": null,
            "grid_template_columns": null,
            "grid_template_rows": null,
            "height": null,
            "justify_content": null,
            "justify_items": null,
            "left": null,
            "margin": null,
            "max_height": null,
            "max_width": null,
            "min_height": null,
            "min_width": null,
            "object_fit": null,
            "object_position": null,
            "order": null,
            "overflow": null,
            "overflow_x": null,
            "overflow_y": null,
            "padding": null,
            "right": null,
            "top": null,
            "visibility": null,
            "width": null
          }
        },
        "b411a5130b70473bba295d5097ce8894": {
          "model_module": "@jupyter-widgets/controls",
          "model_name": "DescriptionStyleModel",
          "model_module_version": "1.5.0",
          "state": {
            "_model_module": "@jupyter-widgets/controls",
            "_model_module_version": "1.5.0",
            "_model_name": "DescriptionStyleModel",
            "_view_count": null,
            "_view_module": "@jupyter-widgets/base",
            "_view_module_version": "1.2.0",
            "_view_name": "StyleView",
            "description_width": ""
          }
        },
        "28e2440e39f3493db652efdfb762ccb1": {
          "model_module": "@jupyter-widgets/controls",
          "model_name": "HBoxModel",
          "model_module_version": "1.5.0",
          "state": {
            "_dom_classes": [],
            "_model_module": "@jupyter-widgets/controls",
            "_model_module_version": "1.5.0",
            "_model_name": "HBoxModel",
            "_view_count": null,
            "_view_module": "@jupyter-widgets/controls",
            "_view_module_version": "1.5.0",
            "_view_name": "HBoxView",
            "box_style": "",
            "children": [
              "IPY_MODEL_8b364904fccb4f2ea67bd7fe9775b54f",
              "IPY_MODEL_03c88ae76cb6481cb746be4d6469069a",
              "IPY_MODEL_fb804585f74c47a7a0a66d6b62f4fe4d"
            ],
            "layout": "IPY_MODEL_c9ee99d8be3b483ea061399caba85111"
          }
        },
        "8b364904fccb4f2ea67bd7fe9775b54f": {
          "model_module": "@jupyter-widgets/controls",
          "model_name": "HTMLModel",
          "model_module_version": "1.5.0",
          "state": {
            "_dom_classes": [],
            "_model_module": "@jupyter-widgets/controls",
            "_model_module_version": "1.5.0",
            "_model_name": "HTMLModel",
            "_view_count": null,
            "_view_module": "@jupyter-widgets/controls",
            "_view_module_version": "1.5.0",
            "_view_name": "HTMLView",
            "description": "",
            "description_tooltip": null,
            "layout": "IPY_MODEL_6359d43f995e4f53ae723584309391f5",
            "placeholder": "​",
            "style": "IPY_MODEL_9a22a6948f174161b537a3fa9db45401",
            "value": "Downloading: 100%"
          }
        },
        "03c88ae76cb6481cb746be4d6469069a": {
          "model_module": "@jupyter-widgets/controls",
          "model_name": "FloatProgressModel",
          "model_module_version": "1.5.0",
          "state": {
            "_dom_classes": [],
            "_model_module": "@jupyter-widgets/controls",
            "_model_module_version": "1.5.0",
            "_model_name": "FloatProgressModel",
            "_view_count": null,
            "_view_module": "@jupyter-widgets/controls",
            "_view_module_version": "1.5.0",
            "_view_name": "ProgressView",
            "bar_style": "success",
            "description": "",
            "description_tooltip": null,
            "layout": "IPY_MODEL_2c53b55bf736445894e9270de46c050f",
            "max": 310258677,
            "min": 0,
            "orientation": "horizontal",
            "style": "IPY_MODEL_84da565be09a413093f3536395c98645",
            "value": 310258677
          }
        },
        "fb804585f74c47a7a0a66d6b62f4fe4d": {
          "model_module": "@jupyter-widgets/controls",
          "model_name": "HTMLModel",
          "model_module_version": "1.5.0",
          "state": {
            "_dom_classes": [],
            "_model_module": "@jupyter-widgets/controls",
            "_model_module_version": "1.5.0",
            "_model_name": "HTMLModel",
            "_view_count": null,
            "_view_module": "@jupyter-widgets/controls",
            "_view_module_version": "1.5.0",
            "_view_name": "HTMLView",
            "description": "",
            "description_tooltip": null,
            "layout": "IPY_MODEL_5f31247fe7d248ce9e1d3e3741c951b1",
            "placeholder": "​",
            "style": "IPY_MODEL_32c4ddb1a82f47dbb4f92283172be84d",
            "value": " 310M/310M [00:08&lt;00:00, 64.9MB/s]"
          }
        },
        "c9ee99d8be3b483ea061399caba85111": {
          "model_module": "@jupyter-widgets/base",
          "model_name": "LayoutModel",
          "model_module_version": "1.2.0",
          "state": {
            "_model_module": "@jupyter-widgets/base",
            "_model_module_version": "1.2.0",
            "_model_name": "LayoutModel",
            "_view_count": null,
            "_view_module": "@jupyter-widgets/base",
            "_view_module_version": "1.2.0",
            "_view_name": "LayoutView",
            "align_content": null,
            "align_items": null,
            "align_self": null,
            "border": null,
            "bottom": null,
            "display": null,
            "flex": null,
            "flex_flow": null,
            "grid_area": null,
            "grid_auto_columns": null,
            "grid_auto_flow": null,
            "grid_auto_rows": null,
            "grid_column": null,
            "grid_gap": null,
            "grid_row": null,
            "grid_template_areas": null,
            "grid_template_columns": null,
            "grid_template_rows": null,
            "height": null,
            "justify_content": null,
            "justify_items": null,
            "left": null,
            "margin": null,
            "max_height": null,
            "max_width": null,
            "min_height": null,
            "min_width": null,
            "object_fit": null,
            "object_position": null,
            "order": null,
            "overflow": null,
            "overflow_x": null,
            "overflow_y": null,
            "padding": null,
            "right": null,
            "top": null,
            "visibility": null,
            "width": null
          }
        },
        "6359d43f995e4f53ae723584309391f5": {
          "model_module": "@jupyter-widgets/base",
          "model_name": "LayoutModel",
          "model_module_version": "1.2.0",
          "state": {
            "_model_module": "@jupyter-widgets/base",
            "_model_module_version": "1.2.0",
            "_model_name": "LayoutModel",
            "_view_count": null,
            "_view_module": "@jupyter-widgets/base",
            "_view_module_version": "1.2.0",
            "_view_name": "LayoutView",
            "align_content": null,
            "align_items": null,
            "align_self": null,
            "border": null,
            "bottom": null,
            "display": null,
            "flex": null,
            "flex_flow": null,
            "grid_area": null,
            "grid_auto_columns": null,
            "grid_auto_flow": null,
            "grid_auto_rows": null,
            "grid_column": null,
            "grid_gap": null,
            "grid_row": null,
            "grid_template_areas": null,
            "grid_template_columns": null,
            "grid_template_rows": null,
            "height": null,
            "justify_content": null,
            "justify_items": null,
            "left": null,
            "margin": null,
            "max_height": null,
            "max_width": null,
            "min_height": null,
            "min_width": null,
            "object_fit": null,
            "object_position": null,
            "order": null,
            "overflow": null,
            "overflow_x": null,
            "overflow_y": null,
            "padding": null,
            "right": null,
            "top": null,
            "visibility": null,
            "width": null
          }
        },
        "9a22a6948f174161b537a3fa9db45401": {
          "model_module": "@jupyter-widgets/controls",
          "model_name": "DescriptionStyleModel",
          "model_module_version": "1.5.0",
          "state": {
            "_model_module": "@jupyter-widgets/controls",
            "_model_module_version": "1.5.0",
            "_model_name": "DescriptionStyleModel",
            "_view_count": null,
            "_view_module": "@jupyter-widgets/base",
            "_view_module_version": "1.2.0",
            "_view_name": "StyleView",
            "description_width": ""
          }
        },
        "2c53b55bf736445894e9270de46c050f": {
          "model_module": "@jupyter-widgets/base",
          "model_name": "LayoutModel",
          "model_module_version": "1.2.0",
          "state": {
            "_model_module": "@jupyter-widgets/base",
            "_model_module_version": "1.2.0",
            "_model_name": "LayoutModel",
            "_view_count": null,
            "_view_module": "@jupyter-widgets/base",
            "_view_module_version": "1.2.0",
            "_view_name": "LayoutView",
            "align_content": null,
            "align_items": null,
            "align_self": null,
            "border": null,
            "bottom": null,
            "display": null,
            "flex": null,
            "flex_flow": null,
            "grid_area": null,
            "grid_auto_columns": null,
            "grid_auto_flow": null,
            "grid_auto_rows": null,
            "grid_column": null,
            "grid_gap": null,
            "grid_row": null,
            "grid_template_areas": null,
            "grid_template_columns": null,
            "grid_template_rows": null,
            "height": null,
            "justify_content": null,
            "justify_items": null,
            "left": null,
            "margin": null,
            "max_height": null,
            "max_width": null,
            "min_height": null,
            "min_width": null,
            "object_fit": null,
            "object_position": null,
            "order": null,
            "overflow": null,
            "overflow_x": null,
            "overflow_y": null,
            "padding": null,
            "right": null,
            "top": null,
            "visibility": null,
            "width": null
          }
        },
        "84da565be09a413093f3536395c98645": {
          "model_module": "@jupyter-widgets/controls",
          "model_name": "ProgressStyleModel",
          "model_module_version": "1.5.0",
          "state": {
            "_model_module": "@jupyter-widgets/controls",
            "_model_module_version": "1.5.0",
            "_model_name": "ProgressStyleModel",
            "_view_count": null,
            "_view_module": "@jupyter-widgets/base",
            "_view_module_version": "1.2.0",
            "_view_name": "StyleView",
            "bar_color": null,
            "description_width": ""
          }
        },
        "5f31247fe7d248ce9e1d3e3741c951b1": {
          "model_module": "@jupyter-widgets/base",
          "model_name": "LayoutModel",
          "model_module_version": "1.2.0",
          "state": {
            "_model_module": "@jupyter-widgets/base",
            "_model_module_version": "1.2.0",
            "_model_name": "LayoutModel",
            "_view_count": null,
            "_view_module": "@jupyter-widgets/base",
            "_view_module_version": "1.2.0",
            "_view_name": "LayoutView",
            "align_content": null,
            "align_items": null,
            "align_self": null,
            "border": null,
            "bottom": null,
            "display": null,
            "flex": null,
            "flex_flow": null,
            "grid_area": null,
            "grid_auto_columns": null,
            "grid_auto_flow": null,
            "grid_auto_rows": null,
            "grid_column": null,
            "grid_gap": null,
            "grid_row": null,
            "grid_template_areas": null,
            "grid_template_columns": null,
            "grid_template_rows": null,
            "height": null,
            "justify_content": null,
            "justify_items": null,
            "left": null,
            "margin": null,
            "max_height": null,
            "max_width": null,
            "min_height": null,
            "min_width": null,
            "object_fit": null,
            "object_position": null,
            "order": null,
            "overflow": null,
            "overflow_x": null,
            "overflow_y": null,
            "padding": null,
            "right": null,
            "top": null,
            "visibility": null,
            "width": null
          }
        },
        "32c4ddb1a82f47dbb4f92283172be84d": {
          "model_module": "@jupyter-widgets/controls",
          "model_name": "DescriptionStyleModel",
          "model_module_version": "1.5.0",
          "state": {
            "_model_module": "@jupyter-widgets/controls",
            "_model_module_version": "1.5.0",
            "_model_name": "DescriptionStyleModel",
            "_view_count": null,
            "_view_module": "@jupyter-widgets/base",
            "_view_module_version": "1.2.0",
            "_view_name": "StyleView",
            "description_width": ""
          }
        }
      }
    }
  },
  "cells": [
    {
      "cell_type": "markdown",
      "metadata": {
        "id": "view-in-github",
        "colab_type": "text"
      },
      "source": [
        "<a href=\"https://colab.research.google.com/github/plaban1981/Hugging_Face_transformers_topics/blob/main/Copy_of_English_to_other_Languagues.ipynb\" target=\"_parent\"><img src=\"https://colab.research.google.com/assets/colab-badge.svg\" alt=\"Open In Colab\"/></a>"
      ]
    },
    {
      "cell_type": "code",
      "metadata": {
        "id": "3f0vgh99HKmk",
        "colab": {
          "base_uri": "https://localhost:8080/"
        },
        "outputId": "d13fc60d-fd0a-4444-bd97-7d609d18ad64"
      },
      "source": [
        "\n",
        "!pip install transformers --upgrade\n",
        "!pip install mosestokenizer\n",
        "!pip install sentencepiece"
      ],
      "execution_count": null,
      "outputs": [
        {
          "output_type": "stream",
          "name": "stdout",
          "text": [
            "Looking in indexes: https://pypi.org/simple, https://us-python.pkg.dev/colab-wheels/public/simple/\n",
            "Collecting transformers\n",
            "  Downloading transformers-4.25.1-py3-none-any.whl (5.8 MB)\n",
            "\u001b[K     |████████████████████████████████| 5.8 MB 4.9 MB/s \n",
            "\u001b[?25hRequirement already satisfied: numpy>=1.17 in /usr/local/lib/python3.8/dist-packages (from transformers) (1.21.6)\n",
            "Requirement already satisfied: requests in /usr/local/lib/python3.8/dist-packages (from transformers) (2.23.0)\n",
            "Requirement already satisfied: filelock in /usr/local/lib/python3.8/dist-packages (from transformers) (3.8.2)\n",
            "Collecting huggingface-hub<1.0,>=0.10.0\n",
            "  Downloading huggingface_hub-0.11.1-py3-none-any.whl (182 kB)\n",
            "\u001b[K     |████████████████████████████████| 182 kB 32.8 MB/s \n",
            "\u001b[?25hRequirement already satisfied: packaging>=20.0 in /usr/local/lib/python3.8/dist-packages (from transformers) (21.3)\n",
            "Requirement already satisfied: pyyaml>=5.1 in /usr/local/lib/python3.8/dist-packages (from transformers) (6.0)\n",
            "Requirement already satisfied: tqdm>=4.27 in /usr/local/lib/python3.8/dist-packages (from transformers) (4.64.1)\n",
            "Requirement already satisfied: regex!=2019.12.17 in /usr/local/lib/python3.8/dist-packages (from transformers) (2022.6.2)\n",
            "Collecting tokenizers!=0.11.3,<0.14,>=0.11.1\n",
            "  Downloading tokenizers-0.13.2-cp38-cp38-manylinux_2_17_x86_64.manylinux2014_x86_64.whl (7.6 MB)\n",
            "\u001b[K     |████████████████████████████████| 7.6 MB 38.3 MB/s \n",
            "\u001b[?25hRequirement already satisfied: typing-extensions>=3.7.4.3 in /usr/local/lib/python3.8/dist-packages (from huggingface-hub<1.0,>=0.10.0->transformers) (4.4.0)\n",
            "Requirement already satisfied: pyparsing!=3.0.5,>=2.0.2 in /usr/local/lib/python3.8/dist-packages (from packaging>=20.0->transformers) (3.0.9)\n",
            "Requirement already satisfied: urllib3!=1.25.0,!=1.25.1,<1.26,>=1.21.1 in /usr/local/lib/python3.8/dist-packages (from requests->transformers) (1.24.3)\n",
            "Requirement already satisfied: chardet<4,>=3.0.2 in /usr/local/lib/python3.8/dist-packages (from requests->transformers) (3.0.4)\n",
            "Requirement already satisfied: idna<3,>=2.5 in /usr/local/lib/python3.8/dist-packages (from requests->transformers) (2.10)\n",
            "Requirement already satisfied: certifi>=2017.4.17 in /usr/local/lib/python3.8/dist-packages (from requests->transformers) (2022.12.7)\n",
            "Installing collected packages: tokenizers, huggingface-hub, transformers\n",
            "Successfully installed huggingface-hub-0.11.1 tokenizers-0.13.2 transformers-4.25.1\n",
            "Looking in indexes: https://pypi.org/simple, https://us-python.pkg.dev/colab-wheels/public/simple/\n",
            "Collecting mosestokenizer\n",
            "  Downloading mosestokenizer-1.2.1.tar.gz (37 kB)\n",
            "Collecting docopt\n",
            "  Downloading docopt-0.6.2.tar.gz (25 kB)\n",
            "Collecting openfile\n",
            "  Downloading openfile-0.0.7-py3-none-any.whl (2.4 kB)\n",
            "Collecting uctools\n",
            "  Downloading uctools-1.3.0.tar.gz (4.6 kB)\n",
            "Collecting toolwrapper\n",
            "  Downloading toolwrapper-2.1.0.tar.gz (3.2 kB)\n",
            "Building wheels for collected packages: mosestokenizer, docopt, toolwrapper, uctools\n",
            "  Building wheel for mosestokenizer (setup.py) ... \u001b[?25l\u001b[?25hdone\n",
            "  Created wheel for mosestokenizer: filename=mosestokenizer-1.2.1-py3-none-any.whl size=49188 sha256=392b6bd147a742bd98c2f7df29933a696a244b3d368bb09dac83a949b6b8ea50\n",
            "  Stored in directory: /root/.cache/pip/wheels/2d/27/27/305fce91cfd9842c4613aa1cbb4c8470322f3c22c50d8f3fd2\n",
            "  Building wheel for docopt (setup.py) ... \u001b[?25l\u001b[?25hdone\n",
            "  Created wheel for docopt: filename=docopt-0.6.2-py2.py3-none-any.whl size=13723 sha256=fd8889c071669b1fe5eb741d8bd1af3cb3d3ba10ba949d7942969315c787c161\n",
            "  Stored in directory: /root/.cache/pip/wheels/56/ea/58/ead137b087d9e326852a851351d1debf4ada529b6ac0ec4e8c\n",
            "  Building wheel for toolwrapper (setup.py) ... \u001b[?25l\u001b[?25hdone\n",
            "  Created wheel for toolwrapper: filename=toolwrapper-2.1.0-py3-none-any.whl size=3353 sha256=f40152540ce726784dfde42188038d201d3f3ac01ecaaf3444c3e084f120ea87\n",
            "  Stored in directory: /root/.cache/pip/wheels/1b/b8/9a/8996bde8158351e5c4564eeb6672137b9be465cb1c674b1a8b\n",
            "  Building wheel for uctools (setup.py) ... \u001b[?25l\u001b[?25hdone\n",
            "  Created wheel for uctools: filename=uctools-1.3.0-py3-none-any.whl size=6162 sha256=3bf97b8db586d1abcd3adca55c00a6af859a7b254369d77b2759f652f407bfe9\n",
            "  Stored in directory: /root/.cache/pip/wheels/60/4b/a5/df174aa13cc8afc6a8198372d57b967667e2e5b49a0b23e790\n",
            "Successfully built mosestokenizer docopt toolwrapper uctools\n",
            "Installing collected packages: uctools, toolwrapper, openfile, docopt, mosestokenizer\n",
            "Successfully installed docopt-0.6.2 mosestokenizer-1.2.1 openfile-0.0.7 toolwrapper-2.1.0 uctools-1.3.0\n",
            "Looking in indexes: https://pypi.org/simple, https://us-python.pkg.dev/colab-wheels/public/simple/\n",
            "Collecting sentencepiece\n",
            "  Downloading sentencepiece-0.1.97-cp38-cp38-manylinux_2_17_x86_64.manylinux2014_x86_64.whl (1.3 MB)\n",
            "\u001b[K     |████████████████████████████████| 1.3 MB 5.3 MB/s \n",
            "\u001b[?25hInstalling collected packages: sentencepiece\n",
            "Successfully installed sentencepiece-0.1.97\n"
          ]
        }
      ]
    },
    {
      "cell_type": "code",
      "source": [
        "mosestokenizer-1.2.1"
      ],
      "metadata": {
        "id": "DguNT4ZBU0pm"
      },
      "execution_count": null,
      "outputs": []
    },
    {
      "cell_type": "code",
      "metadata": {
        "colab": {
          "base_uri": "https://localhost:8080/"
        },
        "id": "0ErT_ayxHe0B",
        "outputId": "d89d0cdf-66e2-4fd8-8b03-afacea60270b"
      },
      "source": [
        "!pip list | grep transformer"
      ],
      "execution_count": null,
      "outputs": [
        {
          "output_type": "stream",
          "name": "stdout",
          "text": [
            "transformers                  4.25.1\n"
          ]
        }
      ]
    },
    {
      "cell_type": "code",
      "metadata": {
        "colab": {
          "base_uri": "https://localhost:8080/",
          "height": 264,
          "referenced_widgets": [
            "346f2aa82d194b77903c74b491b9f601",
            "4ecb4137e9dc4125be2287dd4ce0ecd2",
            "a326b8f3d82e40b1930a7d8770463672",
            "bd83e7dfdcef4061a0eb7d7d2c9c6b07",
            "d09b69f5c6f64900b6316b72d08c0914",
            "0cac808176aa4c7694e062093859c3b9",
            "f3c7ef18cf6642a68b7ffebbdac21107",
            "d9d61724f1234a6587d48a920b564bc6",
            "f0c310b0b8654873904a2e8aa0db2846",
            "4ade8beb832f44ebb788c544750a3dcb",
            "1bdefe7cb5a241e483faec940c5b3446",
            "a4c41c44a81146fd864e338b45009684",
            "00585fcf8924459a94928701dda61cb6",
            "2ff6b528ea524e0f8abdd25fadea2309",
            "e4ce0889c9fd4bb4841b12b95c1cb33d",
            "ef889e9c7b0d48c0a5d956c1378f4051",
            "ded721ec406e4de6be37b34799971582",
            "1631c611b7a14195977399a4a4c4f8bf",
            "0a165ed4b7a54e6a80bf70124f879d3d",
            "3b60fd839aa24e03ba30de461c2f7126",
            "a0910e2178c2426f82bf5bfa4c30843d",
            "827422d4afc54cf0865d2e35dd518999",
            "84e85e0dc91e482e8e6e3ed391da05e9",
            "713371c68b104351ab4ea68da5761e52",
            "4754b6966e60417d83b589baeaba70da",
            "c832271752764695a10f5baee64ff3dc",
            "350e84e9a5b6482eb216d693c7030489",
            "5f7adf5764f84b19b87dd891f3df3c49",
            "8f5fa1c3f2424e36a05c10392b3b0c57",
            "9ad351c90e2d44b590fa8ae0a44df0fd",
            "82e2351de17941a3b396a85b5baefc2b",
            "6aa0fe2994ce491c9ee585bb8f3d04b9",
            "8a7df8813bf94d8e9cc9861df4d46df0",
            "cc2a0b418c7f4b2c8b07edfe60572fdf",
            "8ede3910287a4f12adbd53492bbdffd1",
            "ce62458029494d9dbc23cb94f7e0fd51",
            "29dd816726cf4e5b87f9a7de31d8bdc0",
            "def2011fde964ecb952d1b6de8bb6fc2",
            "abb0a3e71c154049a0c6e7ff762e3f1c",
            "cb69b89c3f81419387b51bcb757aeb2f",
            "0e61d632524947b1935c571ee001e262",
            "edaf981717ff42e1823129c102767198",
            "539b7bade61f456488e78ade2e492fe2",
            "d15d497d710b4ddf8683752daa823fa7",
            "439fc6f048c144cdbff4f36a567cac97",
            "b29b97cf4e5e46fe9f5a9b3d139e1165",
            "3d0f9d146f814522a25dc5f23556e5bc",
            "85acd1b23ab54c7bab968bb0068b244f",
            "45daa4acba2e46559d8fa8ac01a9d492",
            "f1a5ce90287942488f5b0203d0586a8c",
            "6448e94b929f421b9582bc74dbdab81a",
            "bb708916953f4aa18af2382388621ca9",
            "f9b6a372a72f46f6998faed7d58aaa47",
            "a35ff2a0b0fd4398a8a5e9e2eee0c362",
            "b411a5130b70473bba295d5097ce8894",
            "28e2440e39f3493db652efdfb762ccb1",
            "8b364904fccb4f2ea67bd7fe9775b54f",
            "03c88ae76cb6481cb746be4d6469069a",
            "fb804585f74c47a7a0a66d6b62f4fe4d",
            "c9ee99d8be3b483ea061399caba85111",
            "6359d43f995e4f53ae723584309391f5",
            "9a22a6948f174161b537a3fa9db45401",
            "2c53b55bf736445894e9270de46c050f",
            "84da565be09a413093f3536395c98645",
            "5f31247fe7d248ce9e1d3e3741c951b1",
            "32c4ddb1a82f47dbb4f92283172be84d"
          ]
        },
        "id": "abEUT9nLUVJ5",
        "outputId": "b8f4cb53-c203-464e-a54a-b3bd07331b0a"
      },
      "source": [
        "from transformers import AutoTokenizer, AutoModelForSeq2SeqLM\n",
        "  \n",
        "tokenizer = AutoTokenizer.from_pretrained(\"Helsinki-NLP/opus-mt-en-mul\")\n",
        "\n",
        "model = AutoModelForSeq2SeqLM.from_pretrained(\"Helsinki-NLP/opus-mt-en-mul\")"
      ],
      "execution_count": null,
      "outputs": [
        {
          "output_type": "display_data",
          "data": {
            "text/plain": [
              "Downloading:   0%|          | 0.00/44.0 [00:00<?, ?B/s]"
            ],
            "application/vnd.jupyter.widget-view+json": {
              "version_major": 2,
              "version_minor": 0,
              "model_id": "346f2aa82d194b77903c74b491b9f601"
            }
          },
          "metadata": {}
        },
        {
          "output_type": "display_data",
          "data": {
            "text/plain": [
              "Downloading:   0%|          | 0.00/1.40k [00:00<?, ?B/s]"
            ],
            "application/vnd.jupyter.widget-view+json": {
              "version_major": 2,
              "version_minor": 0,
              "model_id": "a4c41c44a81146fd864e338b45009684"
            }
          },
          "metadata": {}
        },
        {
          "output_type": "display_data",
          "data": {
            "text/plain": [
              "Downloading:   0%|          | 0.00/790k [00:00<?, ?B/s]"
            ],
            "application/vnd.jupyter.widget-view+json": {
              "version_major": 2,
              "version_minor": 0,
              "model_id": "84e85e0dc91e482e8e6e3ed391da05e9"
            }
          },
          "metadata": {}
        },
        {
          "output_type": "display_data",
          "data": {
            "text/plain": [
              "Downloading:   0%|          | 0.00/707k [00:00<?, ?B/s]"
            ],
            "application/vnd.jupyter.widget-view+json": {
              "version_major": 2,
              "version_minor": 0,
              "model_id": "cc2a0b418c7f4b2c8b07edfe60572fdf"
            }
          },
          "metadata": {}
        },
        {
          "output_type": "display_data",
          "data": {
            "text/plain": [
              "Downloading:   0%|          | 0.00/1.42M [00:00<?, ?B/s]"
            ],
            "application/vnd.jupyter.widget-view+json": {
              "version_major": 2,
              "version_minor": 0,
              "model_id": "439fc6f048c144cdbff4f36a567cac97"
            }
          },
          "metadata": {}
        },
        {
          "output_type": "stream",
          "name": "stderr",
          "text": [
            "/usr/local/lib/python3.8/dist-packages/transformers/models/marian/tokenization_marian.py:194: UserWarning: Recommended: pip install sacremoses.\n",
            "  warnings.warn(\"Recommended: pip install sacremoses.\")\n"
          ]
        },
        {
          "output_type": "display_data",
          "data": {
            "text/plain": [
              "Downloading:   0%|          | 0.00/310M [00:00<?, ?B/s]"
            ],
            "application/vnd.jupyter.widget-view+json": {
              "version_major": 2,
              "version_minor": 0,
              "model_id": "28e2440e39f3493db652efdfb762ccb1"
            }
          },
          "metadata": {}
        }
      ]
    },
    {
      "cell_type": "markdown",
      "metadata": {
        "id": "0WnUrGAXgQYD"
      },
      "source": [
        "### Language Codes"
      ]
    },
    {
      "cell_type": "code",
      "metadata": {
        "colab": {
          "base_uri": "https://localhost:8080/"
        },
        "id": "73H7pmmT_UFV",
        "outputId": "6fa648d0-c750-4e83-9bb8-ad6594a87f24"
      },
      "source": [
        "!wget https://raw.githubusercontent.com/haliaeetus/iso-639/master/data/iso_639-2.csv"
      ],
      "execution_count": null,
      "outputs": [
        {
          "output_type": "stream",
          "name": "stdout",
          "text": [
            "--2023-01-03 14:05:01--  https://raw.githubusercontent.com/haliaeetus/iso-639/master/data/iso_639-2.csv\n",
            "Resolving raw.githubusercontent.com (raw.githubusercontent.com)... 185.199.108.133, 185.199.109.133, 185.199.110.133, ...\n",
            "Connecting to raw.githubusercontent.com (raw.githubusercontent.com)|185.199.108.133|:443... connected.\n",
            "HTTP request sent, awaiting response... 200 OK\n",
            "Length: 27882 (27K) [text/plain]\n",
            "Saving to: ‘iso_639-2.csv’\n",
            "\n",
            "\riso_639-2.csv         0%[                    ]       0  --.-KB/s               \riso_639-2.csv       100%[===================>]  27.23K  --.-KB/s    in 0.002s  \n",
            "\n",
            "2023-01-03 14:05:01 (17.1 MB/s) - ‘iso_639-2.csv’ saved [27882/27882]\n",
            "\n"
          ]
        }
      ]
    },
    {
      "cell_type": "code",
      "metadata": {
        "colab": {
          "base_uri": "https://localhost:8080/",
          "height": 424
        },
        "id": "zLsA5JI2vYxZ",
        "outputId": "930df002-111b-4b5f-dc02-b3ed64320ea5"
      },
      "source": [
        "import pandas as pd\n",
        "langcodes=pd.read_csv(\"/content/iso_639-2.csv\")\n",
        "langcodes.rename(columns = {'639-2':'alpha3','639-2/B':'alpha3b','639-1':'alpha2'}, inplace = True)\n",
        "langcodes=langcodes[langcodes.columns[:4]]\n",
        "langcodes"
      ],
      "execution_count": null,
      "outputs": [
        {
          "output_type": "execute_result",
          "data": {
            "text/plain": [
              "    alpha3 alpha3b alpha2                             en\n",
              "0      aar     NaN     aa                           Afar\n",
              "1      abk     NaN     ab                      Abkhazian\n",
              "2      ace     NaN    NaN                       Achinese\n",
              "3      ach     NaN    NaN                          Acoli\n",
              "4      ada     NaN    NaN                        Adangme\n",
              "..     ...     ...    ...                            ...\n",
              "500    mkd     mac     mk                     Macedonian\n",
              "501    mri     mao     mi                          Maori\n",
              "502    msa     may     ms                          Malay\n",
              "503    ron     rum     ro  Romanian; Moldavian; Moldovan\n",
              "504    slk     slo     sk                         Slovak\n",
              "\n",
              "[505 rows x 4 columns]"
            ],
            "text/html": [
              "\n",
              "  <div id=\"df-390dd98d-4c5c-4656-bb3f-77c3b513e138\">\n",
              "    <div class=\"colab-df-container\">\n",
              "      <div>\n",
              "<style scoped>\n",
              "    .dataframe tbody tr th:only-of-type {\n",
              "        vertical-align: middle;\n",
              "    }\n",
              "\n",
              "    .dataframe tbody tr th {\n",
              "        vertical-align: top;\n",
              "    }\n",
              "\n",
              "    .dataframe thead th {\n",
              "        text-align: right;\n",
              "    }\n",
              "</style>\n",
              "<table border=\"1\" class=\"dataframe\">\n",
              "  <thead>\n",
              "    <tr style=\"text-align: right;\">\n",
              "      <th></th>\n",
              "      <th>alpha3</th>\n",
              "      <th>alpha3b</th>\n",
              "      <th>alpha2</th>\n",
              "      <th>en</th>\n",
              "    </tr>\n",
              "  </thead>\n",
              "  <tbody>\n",
              "    <tr>\n",
              "      <th>0</th>\n",
              "      <td>aar</td>\n",
              "      <td>NaN</td>\n",
              "      <td>aa</td>\n",
              "      <td>Afar</td>\n",
              "    </tr>\n",
              "    <tr>\n",
              "      <th>1</th>\n",
              "      <td>abk</td>\n",
              "      <td>NaN</td>\n",
              "      <td>ab</td>\n",
              "      <td>Abkhazian</td>\n",
              "    </tr>\n",
              "    <tr>\n",
              "      <th>2</th>\n",
              "      <td>ace</td>\n",
              "      <td>NaN</td>\n",
              "      <td>NaN</td>\n",
              "      <td>Achinese</td>\n",
              "    </tr>\n",
              "    <tr>\n",
              "      <th>3</th>\n",
              "      <td>ach</td>\n",
              "      <td>NaN</td>\n",
              "      <td>NaN</td>\n",
              "      <td>Acoli</td>\n",
              "    </tr>\n",
              "    <tr>\n",
              "      <th>4</th>\n",
              "      <td>ada</td>\n",
              "      <td>NaN</td>\n",
              "      <td>NaN</td>\n",
              "      <td>Adangme</td>\n",
              "    </tr>\n",
              "    <tr>\n",
              "      <th>...</th>\n",
              "      <td>...</td>\n",
              "      <td>...</td>\n",
              "      <td>...</td>\n",
              "      <td>...</td>\n",
              "    </tr>\n",
              "    <tr>\n",
              "      <th>500</th>\n",
              "      <td>mkd</td>\n",
              "      <td>mac</td>\n",
              "      <td>mk</td>\n",
              "      <td>Macedonian</td>\n",
              "    </tr>\n",
              "    <tr>\n",
              "      <th>501</th>\n",
              "      <td>mri</td>\n",
              "      <td>mao</td>\n",
              "      <td>mi</td>\n",
              "      <td>Maori</td>\n",
              "    </tr>\n",
              "    <tr>\n",
              "      <th>502</th>\n",
              "      <td>msa</td>\n",
              "      <td>may</td>\n",
              "      <td>ms</td>\n",
              "      <td>Malay</td>\n",
              "    </tr>\n",
              "    <tr>\n",
              "      <th>503</th>\n",
              "      <td>ron</td>\n",
              "      <td>rum</td>\n",
              "      <td>ro</td>\n",
              "      <td>Romanian; Moldavian; Moldovan</td>\n",
              "    </tr>\n",
              "    <tr>\n",
              "      <th>504</th>\n",
              "      <td>slk</td>\n",
              "      <td>slo</td>\n",
              "      <td>sk</td>\n",
              "      <td>Slovak</td>\n",
              "    </tr>\n",
              "  </tbody>\n",
              "</table>\n",
              "<p>505 rows × 4 columns</p>\n",
              "</div>\n",
              "      <button class=\"colab-df-convert\" onclick=\"convertToInteractive('df-390dd98d-4c5c-4656-bb3f-77c3b513e138')\"\n",
              "              title=\"Convert this dataframe to an interactive table.\"\n",
              "              style=\"display:none;\">\n",
              "        \n",
              "  <svg xmlns=\"http://www.w3.org/2000/svg\" height=\"24px\"viewBox=\"0 0 24 24\"\n",
              "       width=\"24px\">\n",
              "    <path d=\"M0 0h24v24H0V0z\" fill=\"none\"/>\n",
              "    <path d=\"M18.56 5.44l.94 2.06.94-2.06 2.06-.94-2.06-.94-.94-2.06-.94 2.06-2.06.94zm-11 1L8.5 8.5l.94-2.06 2.06-.94-2.06-.94L8.5 2.5l-.94 2.06-2.06.94zm10 10l.94 2.06.94-2.06 2.06-.94-2.06-.94-.94-2.06-.94 2.06-2.06.94z\"/><path d=\"M17.41 7.96l-1.37-1.37c-.4-.4-.92-.59-1.43-.59-.52 0-1.04.2-1.43.59L10.3 9.45l-7.72 7.72c-.78.78-.78 2.05 0 2.83L4 21.41c.39.39.9.59 1.41.59.51 0 1.02-.2 1.41-.59l7.78-7.78 2.81-2.81c.8-.78.8-2.07 0-2.86zM5.41 20L4 18.59l7.72-7.72 1.47 1.35L5.41 20z\"/>\n",
              "  </svg>\n",
              "      </button>\n",
              "      \n",
              "  <style>\n",
              "    .colab-df-container {\n",
              "      display:flex;\n",
              "      flex-wrap:wrap;\n",
              "      gap: 12px;\n",
              "    }\n",
              "\n",
              "    .colab-df-convert {\n",
              "      background-color: #E8F0FE;\n",
              "      border: none;\n",
              "      border-radius: 50%;\n",
              "      cursor: pointer;\n",
              "      display: none;\n",
              "      fill: #1967D2;\n",
              "      height: 32px;\n",
              "      padding: 0 0 0 0;\n",
              "      width: 32px;\n",
              "    }\n",
              "\n",
              "    .colab-df-convert:hover {\n",
              "      background-color: #E2EBFA;\n",
              "      box-shadow: 0px 1px 2px rgba(60, 64, 67, 0.3), 0px 1px 3px 1px rgba(60, 64, 67, 0.15);\n",
              "      fill: #174EA6;\n",
              "    }\n",
              "\n",
              "    [theme=dark] .colab-df-convert {\n",
              "      background-color: #3B4455;\n",
              "      fill: #D2E3FC;\n",
              "    }\n",
              "\n",
              "    [theme=dark] .colab-df-convert:hover {\n",
              "      background-color: #434B5C;\n",
              "      box-shadow: 0px 1px 3px 1px rgba(0, 0, 0, 0.15);\n",
              "      filter: drop-shadow(0px 1px 2px rgba(0, 0, 0, 0.3));\n",
              "      fill: #FFFFFF;\n",
              "    }\n",
              "  </style>\n",
              "\n",
              "      <script>\n",
              "        const buttonEl =\n",
              "          document.querySelector('#df-390dd98d-4c5c-4656-bb3f-77c3b513e138 button.colab-df-convert');\n",
              "        buttonEl.style.display =\n",
              "          google.colab.kernel.accessAllowed ? 'block' : 'none';\n",
              "\n",
              "        async function convertToInteractive(key) {\n",
              "          const element = document.querySelector('#df-390dd98d-4c5c-4656-bb3f-77c3b513e138');\n",
              "          const dataTable =\n",
              "            await google.colab.kernel.invokeFunction('convertToInteractive',\n",
              "                                                     [key], {});\n",
              "          if (!dataTable) return;\n",
              "\n",
              "          const docLinkHtml = 'Like what you see? Visit the ' +\n",
              "            '<a target=\"_blank\" href=https://colab.research.google.com/notebooks/data_table.ipynb>data table notebook</a>'\n",
              "            + ' to learn more about interactive tables.';\n",
              "          element.innerHTML = '';\n",
              "          dataTable['output_type'] = 'display_data';\n",
              "          await google.colab.output.renderOutput(dataTable, element);\n",
              "          const docLink = document.createElement('div');\n",
              "          docLink.innerHTML = docLinkHtml;\n",
              "          element.appendChild(docLink);\n",
              "        }\n",
              "      </script>\n",
              "    </div>\n",
              "  </div>\n",
              "  "
            ]
          },
          "metadata": {},
          "execution_count": 6
        }
      ]
    },
    {
      "cell_type": "code",
      "source": [
        "langcodes[langcodes['en']=='German']"
      ],
      "metadata": {
        "id": "LwzxdU5xXybY",
        "outputId": "8b728914-223f-4ed7-d017-214c3f623c19",
        "colab": {
          "base_uri": "https://localhost:8080/",
          "height": 112
        }
      },
      "execution_count": null,
      "outputs": [
        {
          "output_type": "execute_result",
          "data": {
            "text/plain": [
              "    alpha3 alpha3b alpha2      en\n",
              "109    deu     ger     de  German\n",
              "493    deu     ger     de  German"
            ],
            "text/html": [
              "\n",
              "  <div id=\"df-36686e02-9018-4a87-b52a-1b8b3606ae88\">\n",
              "    <div class=\"colab-df-container\">\n",
              "      <div>\n",
              "<style scoped>\n",
              "    .dataframe tbody tr th:only-of-type {\n",
              "        vertical-align: middle;\n",
              "    }\n",
              "\n",
              "    .dataframe tbody tr th {\n",
              "        vertical-align: top;\n",
              "    }\n",
              "\n",
              "    .dataframe thead th {\n",
              "        text-align: right;\n",
              "    }\n",
              "</style>\n",
              "<table border=\"1\" class=\"dataframe\">\n",
              "  <thead>\n",
              "    <tr style=\"text-align: right;\">\n",
              "      <th></th>\n",
              "      <th>alpha3</th>\n",
              "      <th>alpha3b</th>\n",
              "      <th>alpha2</th>\n",
              "      <th>en</th>\n",
              "    </tr>\n",
              "  </thead>\n",
              "  <tbody>\n",
              "    <tr>\n",
              "      <th>109</th>\n",
              "      <td>deu</td>\n",
              "      <td>ger</td>\n",
              "      <td>de</td>\n",
              "      <td>German</td>\n",
              "    </tr>\n",
              "    <tr>\n",
              "      <th>493</th>\n",
              "      <td>deu</td>\n",
              "      <td>ger</td>\n",
              "      <td>de</td>\n",
              "      <td>German</td>\n",
              "    </tr>\n",
              "  </tbody>\n",
              "</table>\n",
              "</div>\n",
              "      <button class=\"colab-df-convert\" onclick=\"convertToInteractive('df-36686e02-9018-4a87-b52a-1b8b3606ae88')\"\n",
              "              title=\"Convert this dataframe to an interactive table.\"\n",
              "              style=\"display:none;\">\n",
              "        \n",
              "  <svg xmlns=\"http://www.w3.org/2000/svg\" height=\"24px\"viewBox=\"0 0 24 24\"\n",
              "       width=\"24px\">\n",
              "    <path d=\"M0 0h24v24H0V0z\" fill=\"none\"/>\n",
              "    <path d=\"M18.56 5.44l.94 2.06.94-2.06 2.06-.94-2.06-.94-.94-2.06-.94 2.06-2.06.94zm-11 1L8.5 8.5l.94-2.06 2.06-.94-2.06-.94L8.5 2.5l-.94 2.06-2.06.94zm10 10l.94 2.06.94-2.06 2.06-.94-2.06-.94-.94-2.06-.94 2.06-2.06.94z\"/><path d=\"M17.41 7.96l-1.37-1.37c-.4-.4-.92-.59-1.43-.59-.52 0-1.04.2-1.43.59L10.3 9.45l-7.72 7.72c-.78.78-.78 2.05 0 2.83L4 21.41c.39.39.9.59 1.41.59.51 0 1.02-.2 1.41-.59l7.78-7.78 2.81-2.81c.8-.78.8-2.07 0-2.86zM5.41 20L4 18.59l7.72-7.72 1.47 1.35L5.41 20z\"/>\n",
              "  </svg>\n",
              "      </button>\n",
              "      \n",
              "  <style>\n",
              "    .colab-df-container {\n",
              "      display:flex;\n",
              "      flex-wrap:wrap;\n",
              "      gap: 12px;\n",
              "    }\n",
              "\n",
              "    .colab-df-convert {\n",
              "      background-color: #E8F0FE;\n",
              "      border: none;\n",
              "      border-radius: 50%;\n",
              "      cursor: pointer;\n",
              "      display: none;\n",
              "      fill: #1967D2;\n",
              "      height: 32px;\n",
              "      padding: 0 0 0 0;\n",
              "      width: 32px;\n",
              "    }\n",
              "\n",
              "    .colab-df-convert:hover {\n",
              "      background-color: #E2EBFA;\n",
              "      box-shadow: 0px 1px 2px rgba(60, 64, 67, 0.3), 0px 1px 3px 1px rgba(60, 64, 67, 0.15);\n",
              "      fill: #174EA6;\n",
              "    }\n",
              "\n",
              "    [theme=dark] .colab-df-convert {\n",
              "      background-color: #3B4455;\n",
              "      fill: #D2E3FC;\n",
              "    }\n",
              "\n",
              "    [theme=dark] .colab-df-convert:hover {\n",
              "      background-color: #434B5C;\n",
              "      box-shadow: 0px 1px 3px 1px rgba(0, 0, 0, 0.15);\n",
              "      filter: drop-shadow(0px 1px 2px rgba(0, 0, 0, 0.3));\n",
              "      fill: #FFFFFF;\n",
              "    }\n",
              "  </style>\n",
              "\n",
              "      <script>\n",
              "        const buttonEl =\n",
              "          document.querySelector('#df-36686e02-9018-4a87-b52a-1b8b3606ae88 button.colab-df-convert');\n",
              "        buttonEl.style.display =\n",
              "          google.colab.kernel.accessAllowed ? 'block' : 'none';\n",
              "\n",
              "        async function convertToInteractive(key) {\n",
              "          const element = document.querySelector('#df-36686e02-9018-4a87-b52a-1b8b3606ae88');\n",
              "          const dataTable =\n",
              "            await google.colab.kernel.invokeFunction('convertToInteractive',\n",
              "                                                     [key], {});\n",
              "          if (!dataTable) return;\n",
              "\n",
              "          const docLinkHtml = 'Like what you see? Visit the ' +\n",
              "            '<a target=\"_blank\" href=https://colab.research.google.com/notebooks/data_table.ipynb>data table notebook</a>'\n",
              "            + ' to learn more about interactive tables.';\n",
              "          element.innerHTML = '';\n",
              "          dataTable['output_type'] = 'display_data';\n",
              "          await google.colab.output.renderOutput(dataTable, element);\n",
              "          const docLink = document.createElement('div');\n",
              "          docLink.innerHTML = docLinkHtml;\n",
              "          element.appendChild(docLink);\n",
              "        }\n",
              "      </script>\n",
              "    </div>\n",
              "  </div>\n",
              "  "
            ]
          },
          "metadata": {},
          "execution_count": 29
        }
      ]
    },
    {
      "cell_type": "code",
      "source": [
        "lang_df = langcodes[['alpha3','en']].drop_duplicates()"
      ],
      "metadata": {
        "id": "lqMfk6D8X_Gn"
      },
      "execution_count": null,
      "outputs": []
    },
    {
      "cell_type": "code",
      "source": [
        "lang_df[lang_df['en']=='Oriya']"
      ],
      "metadata": {
        "id": "yMBaLrAPYL5a",
        "outputId": "8f25ace1-4072-481e-9b07-97d04e9355ef",
        "colab": {
          "base_uri": "https://localhost:8080/",
          "height": 81
        }
      },
      "execution_count": null,
      "outputs": [
        {
          "output_type": "execute_result",
          "data": {
            "text/plain": [
              "    alpha3     en\n",
              "330    ori  Oriya"
            ],
            "text/html": [
              "\n",
              "  <div id=\"df-c6dc1e3c-be56-4c7c-a4b5-6b80a73469a3\">\n",
              "    <div class=\"colab-df-container\">\n",
              "      <div>\n",
              "<style scoped>\n",
              "    .dataframe tbody tr th:only-of-type {\n",
              "        vertical-align: middle;\n",
              "    }\n",
              "\n",
              "    .dataframe tbody tr th {\n",
              "        vertical-align: top;\n",
              "    }\n",
              "\n",
              "    .dataframe thead th {\n",
              "        text-align: right;\n",
              "    }\n",
              "</style>\n",
              "<table border=\"1\" class=\"dataframe\">\n",
              "  <thead>\n",
              "    <tr style=\"text-align: right;\">\n",
              "      <th></th>\n",
              "      <th>alpha3</th>\n",
              "      <th>en</th>\n",
              "    </tr>\n",
              "  </thead>\n",
              "  <tbody>\n",
              "    <tr>\n",
              "      <th>330</th>\n",
              "      <td>ori</td>\n",
              "      <td>Oriya</td>\n",
              "    </tr>\n",
              "  </tbody>\n",
              "</table>\n",
              "</div>\n",
              "      <button class=\"colab-df-convert\" onclick=\"convertToInteractive('df-c6dc1e3c-be56-4c7c-a4b5-6b80a73469a3')\"\n",
              "              title=\"Convert this dataframe to an interactive table.\"\n",
              "              style=\"display:none;\">\n",
              "        \n",
              "  <svg xmlns=\"http://www.w3.org/2000/svg\" height=\"24px\"viewBox=\"0 0 24 24\"\n",
              "       width=\"24px\">\n",
              "    <path d=\"M0 0h24v24H0V0z\" fill=\"none\"/>\n",
              "    <path d=\"M18.56 5.44l.94 2.06.94-2.06 2.06-.94-2.06-.94-.94-2.06-.94 2.06-2.06.94zm-11 1L8.5 8.5l.94-2.06 2.06-.94-2.06-.94L8.5 2.5l-.94 2.06-2.06.94zm10 10l.94 2.06.94-2.06 2.06-.94-2.06-.94-.94-2.06-.94 2.06-2.06.94z\"/><path d=\"M17.41 7.96l-1.37-1.37c-.4-.4-.92-.59-1.43-.59-.52 0-1.04.2-1.43.59L10.3 9.45l-7.72 7.72c-.78.78-.78 2.05 0 2.83L4 21.41c.39.39.9.59 1.41.59.51 0 1.02-.2 1.41-.59l7.78-7.78 2.81-2.81c.8-.78.8-2.07 0-2.86zM5.41 20L4 18.59l7.72-7.72 1.47 1.35L5.41 20z\"/>\n",
              "  </svg>\n",
              "      </button>\n",
              "      \n",
              "  <style>\n",
              "    .colab-df-container {\n",
              "      display:flex;\n",
              "      flex-wrap:wrap;\n",
              "      gap: 12px;\n",
              "    }\n",
              "\n",
              "    .colab-df-convert {\n",
              "      background-color: #E8F0FE;\n",
              "      border: none;\n",
              "      border-radius: 50%;\n",
              "      cursor: pointer;\n",
              "      display: none;\n",
              "      fill: #1967D2;\n",
              "      height: 32px;\n",
              "      padding: 0 0 0 0;\n",
              "      width: 32px;\n",
              "    }\n",
              "\n",
              "    .colab-df-convert:hover {\n",
              "      background-color: #E2EBFA;\n",
              "      box-shadow: 0px 1px 2px rgba(60, 64, 67, 0.3), 0px 1px 3px 1px rgba(60, 64, 67, 0.15);\n",
              "      fill: #174EA6;\n",
              "    }\n",
              "\n",
              "    [theme=dark] .colab-df-convert {\n",
              "      background-color: #3B4455;\n",
              "      fill: #D2E3FC;\n",
              "    }\n",
              "\n",
              "    [theme=dark] .colab-df-convert:hover {\n",
              "      background-color: #434B5C;\n",
              "      box-shadow: 0px 1px 3px 1px rgba(0, 0, 0, 0.15);\n",
              "      filter: drop-shadow(0px 1px 2px rgba(0, 0, 0, 0.3));\n",
              "      fill: #FFFFFF;\n",
              "    }\n",
              "  </style>\n",
              "\n",
              "      <script>\n",
              "        const buttonEl =\n",
              "          document.querySelector('#df-c6dc1e3c-be56-4c7c-a4b5-6b80a73469a3 button.colab-df-convert');\n",
              "        buttonEl.style.display =\n",
              "          google.colab.kernel.accessAllowed ? 'block' : 'none';\n",
              "\n",
              "        async function convertToInteractive(key) {\n",
              "          const element = document.querySelector('#df-c6dc1e3c-be56-4c7c-a4b5-6b80a73469a3');\n",
              "          const dataTable =\n",
              "            await google.colab.kernel.invokeFunction('convertToInteractive',\n",
              "                                                     [key], {});\n",
              "          if (!dataTable) return;\n",
              "\n",
              "          const docLinkHtml = 'Like what you see? Visit the ' +\n",
              "            '<a target=\"_blank\" href=https://colab.research.google.com/notebooks/data_table.ipynb>data table notebook</a>'\n",
              "            + ' to learn more about interactive tables.';\n",
              "          element.innerHTML = '';\n",
              "          dataTable['output_type'] = 'display_data';\n",
              "          await google.colab.output.renderOutput(dataTable, element);\n",
              "          const docLink = document.createElement('div');\n",
              "          docLink.innerHTML = docLinkHtml;\n",
              "          element.appendChild(docLink);\n",
              "        }\n",
              "      </script>\n",
              "    </div>\n",
              "  </div>\n",
              "  "
            ]
          },
          "metadata": {},
          "execution_count": 33
        }
      ]
    },
    {
      "cell_type": "code",
      "source": [
        "lang_df.shape"
      ],
      "metadata": {
        "id": "ZJ4V73F7hKBB",
        "outputId": "756bd720-3975-4e9a-eff8-66fee6b71a7f",
        "colab": {
          "base_uri": "https://localhost:8080/"
        }
      },
      "execution_count": null,
      "outputs": [
        {
          "output_type": "execute_result",
          "data": {
            "text/plain": [
              "(485, 2)"
            ]
          },
          "metadata": {},
          "execution_count": 34
        }
      ]
    },
    {
      "cell_type": "code",
      "source": [
        "en = list(lang_df['en'])\n",
        "code = list(lang_df['alpha3'])"
      ],
      "metadata": {
        "id": "A4TfgsvtoJIt"
      },
      "execution_count": null,
      "outputs": []
    },
    {
      "cell_type": "code",
      "source": [
        "lang_dict = {}\n",
        "for k,v in zip(en,code):\n",
        "  lang_dict[k] = v"
      ],
      "metadata": {
        "id": "EzMg3fidok1P"
      },
      "execution_count": null,
      "outputs": []
    },
    {
      "cell_type": "code",
      "source": [
        "lang_dict['German']"
      ],
      "metadata": {
        "id": "4w_WHoUUo04-",
        "outputId": "90692b72-f1b6-45e9-874f-7e58ef13af05",
        "colab": {
          "base_uri": "https://localhost:8080/",
          "height": 35
        }
      },
      "execution_count": null,
      "outputs": [
        {
          "output_type": "execute_result",
          "data": {
            "text/plain": [
              "'deu'"
            ],
            "application/vnd.google.colaboratory.intrinsic+json": {
              "type": "string"
            }
          },
          "metadata": {},
          "execution_count": 42
        }
      ]
    },
    {
      "cell_type": "code",
      "source": [
        "print(lang_dict)"
      ],
      "metadata": {
        "id": "wWyluxWAo5ow",
        "outputId": "fa25661b-5697-4f76-d2b3-fd232dcda4b3",
        "colab": {
          "base_uri": "https://localhost:8080/"
        }
      },
      "execution_count": null,
      "outputs": [
        {
          "output_type": "stream",
          "name": "stdout",
          "text": [
            "{'Afar': 'aar', 'Abkhazian': 'abk', 'Achinese': 'ace', 'Acoli': 'ach', 'Adangme': 'ada', 'Adyghe; Adygei': 'ady', 'Afro-Asiatic languages': 'afa', 'Afrihili': 'afh', 'Afrikaans': 'afr', 'Ainu': 'ain', 'Akan': 'aka', 'Akkadian': 'akk', 'Albanian': 'sqi', 'Aleut': 'ale', 'Algonquian languages': 'alg', 'Southern Altai': 'alt', 'Amharic': 'amh', 'English, Old (ca.450-1100)': 'ang', 'Angika': 'anp', 'Apache languages': 'apa', 'Arabic': 'ara', 'Official Aramaic (700-300 BCE); Imperial Aramaic (700-300 BCE)': 'arc', 'Aragonese': 'arg', 'Armenian': 'hye', 'Mapudungun; Mapuche': 'arn', 'Arapaho': 'arp', 'Artificial languages': 'art', 'Arawak': 'arw', 'Assamese': 'asm', 'Asturian; Bable; Leonese; Asturleonese': 'ast', 'Athapascan languages': 'ath', 'Australian languages': 'aus', 'Avaric': 'ava', 'Avestan': 'ave', 'Awadhi': 'awa', 'Aymara': 'aym', 'Azerbaijani': 'aze', 'Banda languages': 'bad', 'Bamileke languages': 'bai', 'Bashkir': 'bak', 'Baluchi': 'bal', 'Bambara': 'bam', 'Balinese': 'ban', 'Basque': 'eus', 'Basa': 'bas', 'Baltic languages': 'bat', 'Beja; Bedawiyet': 'bej', 'Belarusian': 'bel', 'Bemba': 'bem', 'Bengali': 'ben', 'Berber languages': 'ber', 'Bhojpuri': 'bho', 'Bihari languages': 'bih', 'Bikol': 'bik', 'Bini; Edo': 'bin', 'Bislama': 'bis', 'Siksika': 'bla', 'Bantu languages': 'bnt', 'Tibetan': 'bod', 'Bosnian': 'bos', 'Braj': 'bra', 'Breton': 'bre', 'Batak languages': 'btk', 'Buriat': 'bua', 'Buginese': 'bug', 'Bulgarian': 'bul', 'Burmese': 'mya', 'Blin; Bilin': 'byn', 'Caddo': 'cad', 'Central American Indian languages': 'cai', 'Galibi Carib': 'car', 'Catalan; Valencian': 'cat', 'Caucasian languages': 'cau', 'Cebuano': 'ceb', 'Celtic languages': 'cel', 'Czech': 'ces', 'Chamorro': 'cha', 'Chibcha': 'chb', 'Chechen': 'che', 'Chagatai': 'chg', 'Chinese': 'zho', 'Chuukese': 'chk', 'Mari': 'chm', 'Chinook jargon': 'chn', 'Choctaw': 'cho', 'Chipewyan; Dene Suline': 'chp', 'Cherokee': 'chr', 'Church Slavic; Old Slavonic; Church Slavonic; Old Bulgarian; Old Church Slavonic': 'chu', 'Chuvash': 'chv', 'Cheyenne': 'chy', 'Chamic languages': 'cmc', 'Coptic': 'cop', 'Cornish': 'cor', 'Corsican': 'cos', 'Creoles and pidgins, English based': 'cpe', 'Creoles and pidgins, French-based': 'cpf', 'Creoles and pidgins, Portuguese-based': 'cpp', 'Cree': 'cre', 'Crimean Tatar; Crimean Turkish': 'crh', 'Creoles and pidgins': 'crp', 'Kashubian': 'csb', 'Cushitic languages': 'cus', 'Welsh': 'cym', 'Dakota': 'dak', 'Danish': 'dan', 'Dargwa': 'dar', 'Land Dayak languages': 'day', 'Delaware': 'del', 'Slave (Athapascan)': 'den', 'German': 'deu', 'Dogrib': 'dgr', 'Dinka': 'din', 'Divehi; Dhivehi; Maldivian': 'div', 'Dogri': 'doi', 'Dravidian languages': 'dra', 'Lower Sorbian': 'dsb', 'Duala': 'dua', 'Dutch, Middle (ca.1050-1350)': 'dum', 'Dutch; Flemish': 'nld', 'Dyula': 'dyu', 'Dzongkha': 'dzo', 'Efik': 'efi', 'Egyptian (Ancient)': 'egy', 'Ekajuk': 'eka', 'Greek, Modern (1453-)': 'ell', 'Elamite': 'elx', 'English': 'eng', 'English, Middle (1100-1500)': 'enm', 'Esperanto': 'epo', 'Estonian': 'est', 'Ewe': 'ewe', 'Ewondo': 'ewo', 'Fang': 'fan', 'Faroese': 'fao', 'Persian': 'fas', 'Fanti': 'fat', 'Fijian': 'fij', 'Filipino; Pilipino': 'fil', 'Finnish': 'fin', 'Finno-Ugrian languages': 'fiu', 'Fon': 'fon', 'French': 'fra', 'French, Middle (ca.1400-1600)': 'frm', 'French, Old (842-ca.1400)': 'fro', 'Northern Frisian': 'frr', 'Eastern Frisian': 'frs', 'Western Frisian': 'fry', 'Fulah': 'ful', 'Friulian': 'fur', 'Ga': 'gaa', 'Gayo': 'gay', 'Gbaya': 'gba', 'Germanic languages': 'gem', 'Georgian': 'kat', 'Geez': 'gez', 'Gilbertese': 'gil', 'Gaelic; Scottish Gaelic': 'gla', 'Irish': 'gle', 'Galician': 'glg', 'Manx': 'glv', 'German, Middle High (ca.1050-1500)': 'gmh', 'German, Old High (ca.750-1050)': 'goh', 'Gondi': 'gon', 'Gorontalo': 'gor', 'Gothic': 'got', 'Grebo': 'grb', 'Greek, Ancient (to 1453)': 'grc', 'Guarani': 'grn', 'Swiss German; Alemannic; Alsatian': 'gsw', 'Gujarati': 'guj', \"Gwich'in\": 'gwi', 'Haida': 'hai', 'Haitian; Haitian Creole': 'hat', 'Hausa': 'hau', 'Hawaiian': 'haw', 'Hebrew': 'heb', 'Herero': 'her', 'Hiligaynon': 'hil', 'Himachali languages; Western Pahari languages': 'him', 'Hindi': 'hin', 'Hittite': 'hit', 'Hmong; Mong': 'hmn', 'Hiri Motu': 'hmo', 'Croatian': 'hrv', 'Upper Sorbian': 'hsb', 'Hungarian': 'hun', 'Hupa': 'hup', 'Iban': 'iba', 'Igbo': 'ibo', 'Icelandic': 'isl', 'Ido': 'ido', 'Sichuan Yi; Nuosu': 'iii', 'Ijo languages': 'ijo', 'Inuktitut': 'iku', 'Interlingue; Occidental': 'ile', 'Iloko': 'ilo', 'Interlingua (International Auxiliary Language Association)': 'ina', 'Indic languages': 'inc', 'Indonesian': 'ind', 'Indo-European languages': 'ine', 'Ingush': 'inh', 'Inupiaq': 'ipk', 'Iranian languages': 'ira', 'Iroquoian languages': 'iro', 'Italian': 'ita', 'Javanese': 'jav', 'Lojban': 'jbo', 'Japanese': 'jpn', 'Judeo-Persian': 'jpr', 'Judeo-Arabic': 'jrb', 'Kara-Kalpak': 'kaa', 'Kabyle': 'kab', 'Kachin; Jingpho': 'kac', 'Kalaallisut; Greenlandic': 'kal', 'Kamba': 'kam', 'Kannada': 'kan', 'Karen languages': 'kar', 'Kashmiri': 'kas', 'Kanuri': 'kau', 'Kawi': 'kaw', 'Kazakh': 'kaz', 'Kabardian': 'kbd', 'Khasi': 'kha', 'Khoisan languages': 'khi', 'Central Khmer': 'khm', 'Khotanese; Sakan': 'kho', 'Kikuyu; Gikuyu': 'kik', 'Kinyarwanda': 'kin', 'Kirghiz; Kyrgyz': 'kir', 'Kimbundu': 'kmb', 'Konkani': 'kok', 'Komi': 'kom', 'Kongo': 'kon', 'Korean': 'kor', 'Kosraean': 'kos', 'Kpelle': 'kpe', 'Karachay-Balkar': 'krc', 'Karelian': 'krl', 'Kru languages': 'kro', 'Kurukh': 'kru', 'Kuanyama; Kwanyama': 'kua', 'Kumyk': 'kum', 'Kurdish': 'kur', 'Kutenai': 'kut', 'Ladino': 'lad', 'Lahnda': 'lah', 'Lamba': 'lam', 'Lao': 'lao', 'Latin': 'lat', 'Latvian': 'lav', 'Lezghian': 'lez', 'Limburgan; Limburger; Limburgish': 'lim', 'Lingala': 'lin', 'Lithuanian': 'lit', 'Mongo': 'lol', 'Lozi': 'loz', 'Luxembourgish; Letzeburgesch': 'ltz', 'Luba-Lulua': 'lua', 'Luba-Katanga': 'lub', 'Ganda': 'lug', 'Luiseno': 'lui', 'Lunda': 'lun', 'Luo (Kenya and Tanzania)': 'luo', 'Lushai': 'lus', 'Macedonian': 'mkd', 'Madurese': 'mad', 'Magahi': 'mag', 'Marshallese': 'mah', 'Maithili': 'mai', 'Makasar': 'mak', 'Malayalam': 'mal', 'Mandingo': 'man', 'Maori': 'mri', 'Austronesian languages': 'map', 'Marathi': 'mar', 'Masai': 'mas', 'Malay': 'msa', 'Moksha': 'mdf', 'Mandar': 'mdr', 'Mende': 'men', 'Irish, Middle (900-1200)': 'mga', \"Mi'kmaq; Micmac\": 'mic', 'Minangkabau': 'min', 'Uncoded languages': 'mis', 'Mon-Khmer languages': 'mkh', 'Malagasy': 'mlg', 'Maltese': 'mlt', 'Manchu': 'mnc', 'Manipuri': 'mni', 'Manobo languages': 'mno', 'Mohawk': 'moh', 'Mongolian': 'mon', 'Mossi': 'mos', 'Multiple languages': 'mul', 'Munda languages': 'mun', 'Creek': 'mus', 'Mirandese': 'mwl', 'Marwari': 'mwr', 'Mayan languages': 'myn', 'Erzya': 'myv', 'Nahuatl languages': 'nah', 'North American Indian languages': 'nai', 'Neapolitan': 'nap', 'Nauru': 'nau', 'Navajo; Navaho': 'nav', 'Ndebele, South; South Ndebele': 'nbl', 'Ndebele, North; North Ndebele': 'nde', 'Ndonga': 'ndo', 'Low German; Low Saxon; German, Low; Saxon, Low': 'nds', 'Nepali': 'nep', 'Nepal Bhasa; Newari': 'new', 'Nias': 'nia', 'Niger-Kordofanian languages': 'nic', 'Niuean': 'niu', 'Norwegian Nynorsk; Nynorsk, Norwegian': 'nno', 'Bokmål, Norwegian; Norwegian Bokmål': 'nob', 'Nogai': 'nog', 'Norse, Old': 'non', 'Norwegian': 'nor', \"N'Ko\": 'nqo', 'Pedi; Sepedi; Northern Sotho': 'nso', 'Nubian languages': 'nub', 'Classical Newari; Old Newari; Classical Nepal Bhasa': 'nwc', 'Chichewa; Chewa; Nyanja': 'nya', 'Nyamwezi': 'nym', 'Nyankole': 'nyn', 'Nyoro': 'nyo', 'Nzima': 'nzi', 'Occitan (post 1500)': 'oci', 'Ojibwa': 'oji', 'Oriya': 'ori', 'Oromo': 'orm', 'Osage': 'osa', 'Ossetian; Ossetic': 'oss', 'Turkish, Ottoman (1500-1928)': 'ota', 'Otomian languages': 'oto', 'Papuan languages': 'paa', 'Pangasinan': 'pag', 'Pahlavi': 'pal', 'Pampanga; Kapampangan': 'pam', 'Panjabi; Punjabi': 'pan', 'Papiamento': 'pap', 'Palauan': 'pau', 'Persian, Old (ca.600-400 B.C.)': 'peo', 'Philippine languages': 'phi', 'Phoenician': 'phn', 'Pali': 'pli', 'Polish': 'pol', 'Pohnpeian': 'pon', 'Portuguese': 'por', 'Prakrit languages': 'pra', 'Provençal, Old (to 1500); Occitan, Old (to 1500)': 'pro', 'Pushto; Pashto': 'pus', 'Quechua': 'que', 'Rajasthani': 'raj', 'Rapanui': 'rap', 'Rarotongan; Cook Islands Maori': 'rar', 'Romance languages': 'roa', 'Romansh': 'roh', 'Romany': 'rom', 'Romanian; Moldavian; Moldovan': 'ron', 'Rundi': 'run', 'Aromanian; Arumanian; Macedo-Romanian': 'rup', 'Russian': 'rus', 'Sandawe': 'sad', 'Sango': 'sag', 'Yakut': 'sah', 'South American Indian languages': 'sai', 'Salishan languages': 'sal', 'Samaritan Aramaic': 'sam', 'Sanskrit': 'san', 'Sasak': 'sas', 'Santali': 'sat', 'Sicilian': 'scn', 'Scots': 'sco', 'Selkup': 'sel', 'Semitic languages': 'sem', 'Irish, Old (to 900)': 'sga', 'Sign Languages': 'sgn', 'Shan': 'shn', 'Sidamo': 'sid', 'Sinhala; Sinhalese': 'sin', 'Siouan languages': 'sio', 'Sino-Tibetan languages': 'sit', 'Slavic languages': 'sla', 'Slovak': 'slk', 'Slovenian': 'slv', 'Southern Sami': 'sma', 'Northern Sami': 'sme', 'Sami languages': 'smi', 'Lule Sami': 'smj', 'Inari Sami': 'smn', 'Samoan': 'smo', 'Skolt Sami': 'sms', 'Shona': 'sna', 'Sindhi': 'snd', 'Soninke': 'snk', 'Sogdian': 'sog', 'Somali': 'som', 'Songhai languages': 'son', 'Sotho, Southern': 'sot', 'Spanish; Castilian': 'spa', 'Sardinian': 'srd', 'Sranan Tongo': 'srn', 'Serbian': 'srp', 'Serer': 'srr', 'Nilo-Saharan languages': 'ssa', 'Swati': 'ssw', 'Sukuma': 'suk', 'Sundanese': 'sun', 'Susu': 'sus', 'Sumerian': 'sux', 'Swahili': 'swa', 'Swedish': 'swe', 'Classical Syriac': 'syc', 'Syriac': 'syr', 'Tahitian': 'tah', 'Tai languages': 'tai', 'Tamil': 'tam', 'Tatar': 'tat', 'Telugu': 'tel', 'Timne': 'tem', 'Tereno': 'ter', 'Tetum': 'tet', 'Tajik': 'tgk', 'Tagalog': 'tgl', 'Thai': 'tha', 'Tigre': 'tig', 'Tigrinya': 'tir', 'Tiv': 'tiv', 'Tokelau': 'tkl', 'Klingon; tlhIngan-Hol': 'tlh', 'Tlingit': 'tli', 'Tamashek': 'tmh', 'Tonga (Nyasa)': 'tog', 'Tonga (Tonga Islands)': 'ton', 'Tok Pisin': 'tpi', 'Tsimshian': 'tsi', 'Tswana': 'tsn', 'Tsonga': 'tso', 'Turkmen': 'tuk', 'Tumbuka': 'tum', 'Tupi languages': 'tup', 'Turkish': 'tur', 'Altaic languages': 'tut', 'Tuvalu': 'tvl', 'Twi': 'twi', 'Tuvinian': 'tyv', 'Udmurt': 'udm', 'Ugaritic': 'uga', 'Uighur; Uyghur': 'uig', 'Ukrainian': 'ukr', 'Umbundu': 'umb', 'Undetermined': 'und', 'Urdu': 'urd', 'Uzbek': 'uzb', 'Vai': 'vai', 'Venda': 'ven', 'Vietnamese': 'vie', 'Volapük': 'vol', 'Votic': 'vot', 'Wakashan languages': 'wak', 'Wolaitta; Wolaytta': 'wal', 'Waray': 'war', 'Washo': 'was', 'Sorbian languages': 'wen', 'Walloon': 'wln', 'Wolof': 'wol', 'Kalmyk; Oirat': 'xal', 'Xhosa': 'xho', 'Yao': 'yao', 'Yapese': 'yap', 'Yiddish': 'yid', 'Yoruba': 'yor', 'Yupik languages': 'ypk', 'Zapotec': 'zap', 'Blissymbols; Blissymbolics; Bliss': 'zbl', 'Zenaga': 'zen', 'Standard Moroccan Tamazight': 'zgh', 'Zhuang; Chuang': 'zha', 'Zande languages': 'znd', 'Zulu': 'zul', 'Zuni': 'zun', 'No linguistic content; Not applicable': 'zxx', 'Zaza; Dimili; Dimli; Kirdki; Kirmanjki; Zazaki': 'zza'}\n"
          ]
        }
      ]
    },
    {
      "cell_type": "code",
      "source": [
        "lang_dict['French']"
      ],
      "metadata": {
        "id": "bFp64HMIpWrI",
        "outputId": "1cff5d56-0a12-4db8-fd95-9c9143eb66d6",
        "colab": {
          "base_uri": "https://localhost:8080/",
          "height": 35
        }
      },
      "execution_count": null,
      "outputs": [
        {
          "output_type": "execute_result",
          "data": {
            "text/plain": [
              "'fra'"
            ],
            "application/vnd.google.colaboratory.intrinsic+json": {
              "type": "string"
            }
          },
          "metadata": {},
          "execution_count": 46
        }
      ]
    },
    {
      "cell_type": "code",
      "metadata": {
        "id": "IFvuq074X6rI"
      },
      "source": [
        "codes=[i.replace(\"<<\",\"\") for i in tokenizer.supported_language_codes ]\n",
        "supported_lang=[i.replace(\">>\",\"\") for i in codes ]"
      ],
      "execution_count": null,
      "outputs": []
    },
    {
      "cell_type": "code",
      "source": [
        " len(codes)"
      ],
      "metadata": {
        "id": "tuzXXfrQYUU6",
        "outputId": "9a5f5cb7-8912-40ee-e1d7-ef1af46dd552",
        "colab": {
          "base_uri": "https://localhost:8080/"
        }
      },
      "execution_count": null,
      "outputs": [
        {
          "output_type": "execute_result",
          "data": {
            "text/plain": [
              "194"
            ]
          },
          "metadata": {},
          "execution_count": 36
        }
      ]
    },
    {
      "cell_type": "code",
      "source": [
        "print(codes)"
      ],
      "metadata": {
        "id": "5HtbAus0ntUH",
        "outputId": "b13d6700-47e9-4215-de9f-a710984c0035",
        "colab": {
          "base_uri": "https://localhost:8080/"
        }
      },
      "execution_count": null,
      "outputs": [
        {
          "output_type": "stream",
          "name": "stdout",
          "text": [
            "['>>ewe', '>>sna', '>>lin', '>>toi_Latn', '>>ceb', '>>oss', '>>run', '>>mfe', '>>ilo', '>>zlm_Latn', '>>pes', '>>smo', '>>hil', '>>niu', '>>sag', '>>fij', '>>cmn_Hans', '>>nya', '>>tso', '>>war', '>>gil', '>>hau_Latn', '>>umb', '>>glv', '>>tvl', '>>ton', '>>zul', '>>kal', '>>pag', '>>cmn_Hant', '>>pus', '>>abk', '>>pap', '>>hat', '>>mkd', '>>tuk_Latn', '>>yor', '>>tuk', '>>sqi', '>>tir', '>>mlg', '>>tur', '>>ido_Latn', '>>mai', '>>ibo', '>>srp_Cyrl', '>>srp_Latn', '>>kir_Cyrl', '>>heb', '>>bos_Latn', '>>bak', '>>ast', '>>som', '>>tah', '>>chv', '>>kek_Latn', '>>lug', '>>vie', '>>wln', '>>isl', '>>hye', '>>mah', '>>yue_Hant', '>>crh_Latn', '>>amh', '>>nds', '>>pan_Guru', '>>xho', '>>ukr', '>>cat', '>>afr', '>>tat', '>>guj', '>>jpn', '>>mon', '>>eus', '>>nob', '>>glg', '>>ind', '>>sin', '>>cym', '>>zho_Hant', '>>zho_Hans', '>>tgk_Cyrl', '>>aze_Latn', '>>ltz', '>>bod', '>>asm', '>>tel', '>>urd', '>>kaz_Cyrl', '>>lat_Latn', '>>gla', '>>kan', '>>bul', '>>kin', '>>ina_Latn', '>>ron', '>>spa', '>>csb_Latn', '>>iba', '>>tha', '>>nno', '>>hrv', '>>fry', '>>bre', '>>mar', '>>sme', '>>swe', '>>deu', '>>jav', '>>snd_Arab', '>>ben', '>>cmn', '>>ces', '>>ita', '>>fin', '>>por', '>>hin', '>>hun', '>>mal', '>>pol', '>>fra', '>>nld', '>>epo', '>>slv', '>>hsb', '>>kur_Latn', '>>ori', '>>tam', '>>bel', '>>dan', '>>ara', '>>mya', '>>rus', '>>mri', '>>est', '>>uzb_Latn', '>>lao', '>>yid', '>>uzb_Cyrl', '>>uig_Arab', '>>lit', '>>zho', '>>lav', '>>ell', '>>kat', '>>gle', '>>mlt', '>>khm', '>>oci', '>>kur_Arab', '>>ang_Latn', '>>kaz_Latn', '>>wol', '>>sun', '>>chr', '>>tat_Latn', '>>mhr', '>>tyv', '>>rom', '>>cha', '>>kab', '>>nav', '>>arg', '>>khm_Latn', '>>bul_Latn', '>>udm', '>>quc', '>>cor', '>>san_Deva', '>>fao', '>>bel_Latn', '>>jbo_Latn', '>>yue', '>>grn', '>>sco', '>>arq', '>>ltg', '>>yue_Hans', '>>min', '>>nan', '>>bam_Latn', '>>ido', '>>ile_Latn', '>>wuu', '>>crh', '>>tlh_Latn', '>>lzh', '>>jbo', '>>lzh_Hans', '>>vol_Latn', '>>lfn_Latn', '>>arz']\n"
          ]
        }
      ]
    },
    {
      "cell_type": "code",
      "source": [
        "len(supported_lang)"
      ],
      "metadata": {
        "id": "r7bJhxMIjwUZ",
        "outputId": "ce48252f-c551-427d-94bc-570d88517fdc",
        "colab": {
          "base_uri": "https://localhost:8080/"
        }
      },
      "execution_count": null,
      "outputs": [
        {
          "output_type": "execute_result",
          "data": {
            "text/plain": [
              "194"
            ]
          },
          "metadata": {},
          "execution_count": 37
        }
      ]
    },
    {
      "cell_type": "code",
      "source": [
        "supported_lang"
      ],
      "metadata": {
        "colab": {
          "base_uri": "https://localhost:8080/"
        },
        "id": "2YI7IawC83M3",
        "outputId": "1e808f6c-40b8-48fe-a60c-07585fda3c4a"
      },
      "execution_count": null,
      "outputs": [
        {
          "output_type": "execute_result",
          "data": {
            "text/plain": [
              "['ewe',\n",
              " 'sna',\n",
              " 'lin',\n",
              " 'toi_Latn',\n",
              " 'ceb',\n",
              " 'oss',\n",
              " 'run',\n",
              " 'mfe',\n",
              " 'ilo',\n",
              " 'zlm_Latn',\n",
              " 'pes',\n",
              " 'smo',\n",
              " 'hil',\n",
              " 'niu',\n",
              " 'sag',\n",
              " 'fij',\n",
              " 'cmn_Hans',\n",
              " 'nya',\n",
              " 'tso',\n",
              " 'war',\n",
              " 'gil',\n",
              " 'hau_Latn',\n",
              " 'umb',\n",
              " 'glv',\n",
              " 'tvl',\n",
              " 'ton',\n",
              " 'zul',\n",
              " 'kal',\n",
              " 'pag',\n",
              " 'cmn_Hant',\n",
              " 'pus',\n",
              " 'abk',\n",
              " 'pap',\n",
              " 'hat',\n",
              " 'mkd',\n",
              " 'tuk_Latn',\n",
              " 'yor',\n",
              " 'tuk',\n",
              " 'sqi',\n",
              " 'tir',\n",
              " 'mlg',\n",
              " 'tur',\n",
              " 'ido_Latn',\n",
              " 'mai',\n",
              " 'ibo',\n",
              " 'srp_Cyrl',\n",
              " 'srp_Latn',\n",
              " 'kir_Cyrl',\n",
              " 'heb',\n",
              " 'bos_Latn',\n",
              " 'bak',\n",
              " 'ast',\n",
              " 'som',\n",
              " 'tah',\n",
              " 'chv',\n",
              " 'kek_Latn',\n",
              " 'lug',\n",
              " 'vie',\n",
              " 'wln',\n",
              " 'isl',\n",
              " 'hye',\n",
              " 'mah',\n",
              " 'yue_Hant',\n",
              " 'crh_Latn',\n",
              " 'amh',\n",
              " 'nds',\n",
              " 'pan_Guru',\n",
              " 'xho',\n",
              " 'ukr',\n",
              " 'cat',\n",
              " 'afr',\n",
              " 'tat',\n",
              " 'guj',\n",
              " 'jpn',\n",
              " 'mon',\n",
              " 'eus',\n",
              " 'nob',\n",
              " 'glg',\n",
              " 'ind',\n",
              " 'sin',\n",
              " 'cym',\n",
              " 'zho_Hant',\n",
              " 'zho_Hans',\n",
              " 'tgk_Cyrl',\n",
              " 'aze_Latn',\n",
              " 'ltz',\n",
              " 'bod',\n",
              " 'asm',\n",
              " 'tel',\n",
              " 'urd',\n",
              " 'kaz_Cyrl',\n",
              " 'lat_Latn',\n",
              " 'gla',\n",
              " 'kan',\n",
              " 'bul',\n",
              " 'kin',\n",
              " 'ina_Latn',\n",
              " 'ron',\n",
              " 'spa',\n",
              " 'csb_Latn',\n",
              " 'iba',\n",
              " 'tha',\n",
              " 'nno',\n",
              " 'hrv',\n",
              " 'fry',\n",
              " 'bre',\n",
              " 'mar',\n",
              " 'sme',\n",
              " 'swe',\n",
              " 'deu',\n",
              " 'jav',\n",
              " 'snd_Arab',\n",
              " 'ben',\n",
              " 'cmn',\n",
              " 'ces',\n",
              " 'ita',\n",
              " 'fin',\n",
              " 'por',\n",
              " 'hin',\n",
              " 'hun',\n",
              " 'mal',\n",
              " 'pol',\n",
              " 'fra',\n",
              " 'nld',\n",
              " 'epo',\n",
              " 'slv',\n",
              " 'hsb',\n",
              " 'kur_Latn',\n",
              " 'ori',\n",
              " 'tam',\n",
              " 'bel',\n",
              " 'dan',\n",
              " 'ara',\n",
              " 'mya',\n",
              " 'rus',\n",
              " 'mri',\n",
              " 'est',\n",
              " 'uzb_Latn',\n",
              " 'lao',\n",
              " 'yid',\n",
              " 'uzb_Cyrl',\n",
              " 'uig_Arab',\n",
              " 'lit',\n",
              " 'zho',\n",
              " 'lav',\n",
              " 'ell',\n",
              " 'kat',\n",
              " 'gle',\n",
              " 'mlt',\n",
              " 'khm',\n",
              " 'oci',\n",
              " 'kur_Arab',\n",
              " 'ang_Latn',\n",
              " 'kaz_Latn',\n",
              " 'wol',\n",
              " 'sun',\n",
              " 'chr',\n",
              " 'tat_Latn',\n",
              " 'mhr',\n",
              " 'tyv',\n",
              " 'rom',\n",
              " 'cha',\n",
              " 'kab',\n",
              " 'nav',\n",
              " 'arg',\n",
              " 'khm_Latn',\n",
              " 'bul_Latn',\n",
              " 'udm',\n",
              " 'quc',\n",
              " 'cor',\n",
              " 'san_Deva',\n",
              " 'fao',\n",
              " 'bel_Latn',\n",
              " 'jbo_Latn',\n",
              " 'yue',\n",
              " 'grn',\n",
              " 'sco',\n",
              " 'arq',\n",
              " 'ltg',\n",
              " 'yue_Hans',\n",
              " 'min',\n",
              " 'nan',\n",
              " 'bam_Latn',\n",
              " 'ido',\n",
              " 'ile_Latn',\n",
              " 'wuu',\n",
              " 'crh',\n",
              " 'tlh_Latn',\n",
              " 'lzh',\n",
              " 'jbo',\n",
              " 'lzh_Hans',\n",
              " 'vol_Latn',\n",
              " 'lfn_Latn',\n",
              " 'arz']"
            ]
          },
          "metadata": {},
          "execution_count": 9
        }
      ]
    },
    {
      "cell_type": "code",
      "source": [
        "len(supported_lang)"
      ],
      "metadata": {
        "colab": {
          "base_uri": "https://localhost:8080/"
        },
        "id": "JIgV9Se086ww",
        "outputId": "22025546-775e-434c-d621-d739bb391e93"
      },
      "execution_count": null,
      "outputs": [
        {
          "output_type": "execute_result",
          "data": {
            "text/plain": [
              "194"
            ]
          },
          "metadata": {},
          "execution_count": 10
        }
      ]
    },
    {
      "cell_type": "code",
      "metadata": {
        "id": "2eBsUpH4YMSs"
      },
      "source": [
        "langz=list(set(langcodes['alpha3'].tolist()) & set(supported_lang))\n",
        "lang_names=langcodes[langcodes.alpha3.isin(langz)]['en'].tolist()\n",
        "lang_names=lang_names[:138]"
      ],
      "execution_count": null,
      "outputs": []
    },
    {
      "cell_type": "code",
      "source": [
        "print(langz)"
      ],
      "metadata": {
        "id": "sJVZk2nfL4qu",
        "outputId": "8d04824f-75c5-43fd-856f-f989cd726d17",
        "colab": {
          "base_uri": "https://localhost:8080/"
        }
      },
      "execution_count": null,
      "outputs": [
        {
          "output_type": "stream",
          "name": "stdout",
          "text": [
            "['mai', 'gla', 'sna', 'tha', 'pus', 'bak', 'mlt', 'grn', 'abk', 'bul', 'dan', 'ind', 'pol', 'glv', 'war', 'lao', 'sqi', 'ltz', 'gle', 'mah', 'chr', 'spa', 'ukr', 'xho', 'pag', 'glg', 'hsb', 'min', 'ast', 'nya', 'mon', 'niu', 'slv', 'bod', 'ces', 'khm', 'kan', 'tyv', 'ell', 'hil', 'ton', 'ita', 'yid', 'tvl', 'tir', 'mar', 'zul', 'ben', 'mal', 'tur', 'nld', 'ilo', 'yor', 'guj', 'bre', 'hat', 'heb', 'jav', 'som', 'mkd', 'sco', 'nav', 'mlg', 'nob', 'eus', 'ibo', 'ori', 'gil', 'lug', 'umb', 'asm', 'jpn', 'kab', 'fra', 'tuk', 'bel', 'epo', 'sun', 'fry', 'por', 'tel', 'hrv', 'urd', 'udm', 'arg', 'iba', 'mri', 'kat', 'lit', 'sag', 'est', 'kal', 'ceb', 'isl', 'rom', 'rus', 'cha', 'fij', 'deu', 'fin', 'amh', 'hun', 'tam', 'crh', 'ewe', 'lin', 'vie', 'afr', 'run', 'tso', 'sin', 'tat', 'cat', 'lav', 'smo', 'hin', 'swe', 'nds', 'cym', 'chv', 'wol', 'fao', 'ido', 'ara', 'hye', 'kin', 'nno', 'tah', 'oci', 'pap', 'zho', 'mya', 'sme', 'wln', 'cor', 'ron', 'oss', 'jbo']\n"
          ]
        }
      ]
    },
    {
      "cell_type": "code",
      "source": [
        "print(lang_names)"
      ],
      "metadata": {
        "colab": {
          "base_uri": "https://localhost:8080/"
        },
        "id": "26r2bV5I8_ps",
        "outputId": "879e9632-2974-4677-986e-ba85d5fdaa05"
      },
      "execution_count": null,
      "outputs": [
        {
          "output_type": "stream",
          "name": "stdout",
          "text": [
            "['Abkhazian', 'Afrikaans', 'Albanian', 'Amharic', 'Arabic', 'Aragonese', 'Armenian', 'Assamese', 'Asturian; Bable; Leonese; Asturleonese', 'Bashkir', 'Basque', 'Belarusian', 'Bengali', 'Tibetan', 'Breton', 'Bulgarian', 'Burmese', 'Catalan; Valencian', 'Cebuano', 'Czech', 'Chamorro', 'Chinese', 'Cherokee', 'Chuvash', 'Cornish', 'Crimean Tatar; Crimean Turkish', 'Welsh', 'Danish', 'German', 'Dutch; Flemish', 'Greek, Modern (1453-)', 'Esperanto', 'Estonian', 'Ewe', 'Faroese', 'Fijian', 'Finnish', 'French', 'Western Frisian', 'Georgian', 'Gilbertese', 'Gaelic; Scottish Gaelic', 'Irish', 'Galician', 'Manx', 'Guarani', 'Gujarati', 'Haitian; Haitian Creole', 'Hebrew', 'Hiligaynon', 'Hindi', 'Croatian', 'Upper Sorbian', 'Hungarian', 'Iban', 'Igbo', 'Icelandic', 'Ido', 'Iloko', 'Indonesian', 'Italian', 'Javanese', 'Lojban', 'Japanese', 'Kabyle', 'Kalaallisut; Greenlandic', 'Kannada', 'Central Khmer', 'Kinyarwanda', 'Lao', 'Latvian', 'Lingala', 'Lithuanian', 'Luxembourgish; Letzeburgesch', 'Ganda', 'Macedonian', 'Marshallese', 'Maithili', 'Malayalam', 'Maori', 'Marathi', 'Minangkabau', 'Malagasy', 'Maltese', 'Mongolian', 'Navajo; Navaho', 'Low German; Low Saxon; German, Low; Saxon, Low', 'Niuean', 'Norwegian Nynorsk; Nynorsk, Norwegian', 'Bokmål, Norwegian; Norwegian Bokmål', 'Chichewa; Chewa; Nyanja', 'Occitan (post 1500)', 'Oriya', 'Ossetian; Ossetic', 'Pangasinan', 'Papiamento', 'Polish', 'Portuguese', 'Pushto; Pashto', 'Romany', 'Romanian; Moldavian; Moldovan', 'Rundi', 'Russian', 'Sango', 'Scots', 'Sinhala; Sinhalese', 'Slovenian', 'Northern Sami', 'Samoan', 'Shona', 'Somali', 'Spanish; Castilian', 'Sundanese', 'Swedish', 'Tahitian', 'Tamil', 'Tatar', 'Telugu', 'Thai', 'Tigrinya', 'Tonga (Tonga Islands)', 'Tsonga', 'Turkmen', 'Turkish', 'Tuvalu', 'Tuvinian', 'Udmurt', 'Ukrainian', 'Umbundu', 'Urdu', 'Vietnamese', 'Waray', 'Walloon', 'Wolof', 'Xhosa', 'Yiddish', 'Yoruba', 'Zulu']\n"
          ]
        }
      ]
    },
    {
      "cell_type": "code",
      "source": [
        "len(langz)"
      ],
      "metadata": {
        "id": "PgUKSBfEN4IX",
        "outputId": "59cdbeb4-775e-48cd-e7c0-b7a3e26e0938",
        "colab": {
          "base_uri": "https://localhost:8080/"
        }
      },
      "execution_count": null,
      "outputs": [
        {
          "output_type": "execute_result",
          "data": {
            "text/plain": [
              "138"
            ]
          },
          "metadata": {},
          "execution_count": 19
        }
      ]
    },
    {
      "cell_type": "code",
      "source": [
        "len(lang_names)"
      ],
      "metadata": {
        "id": "SoRBqGhnN7eY",
        "outputId": "bed6894f-eef0-400a-a663-75eb97583009",
        "colab": {
          "base_uri": "https://localhost:8080/"
        }
      },
      "execution_count": null,
      "outputs": [
        {
          "output_type": "execute_result",
          "data": {
            "text/plain": [
              "138"
            ]
          },
          "metadata": {},
          "execution_count": 20
        }
      ]
    },
    {
      "cell_type": "code",
      "source": [
        "'oriya'.capitalize()"
      ],
      "metadata": {
        "id": "qMRFF8cnOBw6",
        "outputId": "dd575e25-fca7-41b1-f210-e99a47980287",
        "colab": {
          "base_uri": "https://localhost:8080/",
          "height": 35
        }
      },
      "execution_count": null,
      "outputs": [
        {
          "output_type": "execute_result",
          "data": {
            "text/plain": [
              "'Oriya'"
            ],
            "application/vnd.google.colaboratory.intrinsic+json": {
              "type": "string"
            }
          },
          "metadata": {},
          "execution_count": 22
        }
      ]
    },
    {
      "cell_type": "markdown",
      "metadata": {
        "id": "2H_fhrxsIcXG"
      },
      "source": [
        "### Translate English Sentences to other Languages"
      ]
    },
    {
      "cell_type": "code",
      "metadata": {
        "colab": {
          "base_uri": "https://localhost:8080/",
          "height": 137
        },
        "id": "KwiuTxI7H_ll",
        "outputId": "58bdf4e7-ff1d-47f0-cc84-217d85ed37df"
      },
      "source": [
        "\n",
        "\n",
        "english_text = \"you can see a models\\u2019s supported language codes\" #@param {type:\"string\"}\n",
        "target_language = \"French\" #@param ['Abkhazian', 'Afrikaans', 'Albanian', 'Amharic', 'Arabic', 'Aragonese', 'Armenian', 'Assamese', 'Asturian; Bable; Leonese; Asturleonese', 'Bashkir', 'Basque', 'Belarusian', 'Bengali', 'Tibetan', 'Breton', 'Bulgarian', 'Burmese', 'Catalan; Valencian', 'Cebuano', 'Czech', 'Chamorro', 'Chinese', 'Cherokee', 'Chuvash', 'Cornish', 'Crimean Tatar; Crimean Turkish', 'Welsh', 'Danish', 'German', 'Dutch; Flemish', 'Greek, Modern (1453-)', 'Esperanto', 'Estonian', 'Ewe', 'Faroese', 'Fijian', 'Finnish', 'French', 'Western Frisian', 'Georgian', 'Gilbertese', 'Gaelic; Scottish Gaelic', 'Irish', 'Galician', 'Manx', 'Guarani', 'Gujarati', 'Haitian; Haitian Creole', 'Hebrew', 'Hiligaynon', 'Hindi', 'Croatian', 'Upper Sorbian', 'Hungarian', 'Iban', 'Igbo', 'Icelandic', 'Ido', 'Iloko', 'Indonesian', 'Italian', 'Javanese', 'Lojban', 'Japanese', 'Kabyle', 'Kalaallisut; Greenlandic', 'Kannada', 'Central Khmer', 'Kinyarwanda', 'Lao', 'Latvian', 'Lingala', 'Lithuanian', 'Luxembourgish; Letzeburgesch', 'Ganda', 'Macedonian', 'Marshallese', 'Maithili', 'Malayalam', 'Maori', 'Marathi', 'Minangkabau', 'Malagasy', 'Maltese', 'Mongolian', 'Navajo; Navaho', 'Low German; Low Saxon; German, Low; Saxon, Low', 'Niuean', 'Norwegian Nynorsk; Nynorsk, Norwegian', 'Bokmål, Norwegian; Norwegian Bokmål', 'Chichewa; Chewa; Nyanja', 'Occitan (post 1500)', 'Oriya', 'Ossetian; Ossetic', 'Pangasinan', 'Papiamento', 'Polish', 'Portuguese', 'Pushto; Pashto', 'Romany', 'Romanian; Moldavian; Moldovan', 'Rundi', 'Russian', 'Sango', 'Scots', 'Sinhala; Sinhalese', 'Slovenian', 'Northern Sami', 'Samoan', 'Shona', 'Somali', 'Spanish; Castilian', 'Sundanese', 'Swedish', 'Tahitian', 'Tamil', 'Tatar', 'Telugu', 'Thai', 'Tigrinya', 'Tonga (Tonga Islands)', 'Tsonga', 'Turkmen', 'Turkish', 'Tuvalu', 'Tuvinian', 'Udmurt', 'Ukrainian', 'Umbundu', 'Urdu', 'Vietnamese', 'Waray', 'Walloon', 'Wolof', 'Xhosa', 'Yiddish', 'Yoruba', 'Zulu']\n",
        "#stopw=[\";\",\",\",\"(\"]\n",
        "if( ';'in target_language):\n",
        "  target_language=target_language[:target_language.index(';') + len(\";\")-1]\n",
        "  target_language = langcodes[langcodes.en.str.contains(target_language)]['alpha3'].tolist()[0]\n",
        "else:\n",
        "  target_language = langcodes[langcodes.en.isin([target_language.capitalize()])]['alpha3'].tolist()[0]\n",
        "print(target_language)\n",
        "src_txt = f'>>{target_language}<< {english_text}'\n",
        "translated = model.generate(**tokenizer(src_txt,return_tensors='pt'))\n",
        "target_text=''.join([tokenizer.decode(t, skip_special_tokens=True) for t in translated])\n",
        "\n",
        "\n",
        "md(\"##{} \".format(target_text))"
      ],
      "execution_count": null,
      "outputs": [
        {
          "output_type": "stream",
          "name": "stdout",
          "text": [
            "fra\n"
          ]
        },
        {
          "output_type": "stream",
          "name": "stderr",
          "text": [
            "/usr/local/lib/python3.8/dist-packages/transformers/generation/utils.py:1387: UserWarning: Neither `max_length` nor `max_new_tokens` has been set, `max_length` will default to 512 (`self.config.max_length`). Controlling `max_length` via the config is deprecated and `max_length` will be removed from the config in v5 of Transformers -- we recommend using `max_new_tokens` to control the maximum length of the generation.\n",
            "  warnings.warn(\n"
          ]
        },
        {
          "output_type": "execute_result",
          "data": {
            "text/plain": [
              "<IPython.core.display.Markdown object>"
            ],
            "text/markdown": "##Vous pouvez voir les codes linguistiques appuyés d'un modèle "
          },
          "metadata": {},
          "execution_count": 47
        }
      ]
    },
    {
      "cell_type": "code",
      "source": [
        "if( ';'in target_language):\n",
        "  target_language=target_language[:target_language.index(';') + len(\";\")-1]\n",
        "  target_language = langcodes[langcodes.en.str.contains(target_language)]['alpha3'].tolist()[0]\n",
        "else:\n",
        "  target_language = langcodes[langcodes.en.isin([target_language.capitalize()])]['alpha3'].tolist()[0]"
      ],
      "metadata": {
        "id": "w-fPecBZRDxT"
      },
      "execution_count": null,
      "outputs": []
    },
    {
      "cell_type": "code",
      "source": [
        "lang_dict = {}\n",
        "for name,code in zip(lang_names,langz):\n",
        "  lang_dict[name] = code\n",
        "print(lang_dict)"
      ],
      "metadata": {
        "id": "YU3GW03EM-2M",
        "outputId": "b4f8d53a-2b33-464d-ee20-2e1d129eab53",
        "colab": {
          "base_uri": "https://localhost:8080/"
        }
      },
      "execution_count": null,
      "outputs": [
        {
          "output_type": "stream",
          "name": "stdout",
          "text": [
            "{'Abkhazian': 'mai', 'Afrikaans': 'gla', 'Albanian': 'sna', 'Amharic': 'tha', 'Arabic': 'pus', 'Aragonese': 'bak', 'Armenian': 'mlt', 'Assamese': 'grn', 'Asturian; Bable; Leonese; Asturleonese': 'abk', 'Bashkir': 'bul', 'Basque': 'dan', 'Belarusian': 'ind', 'Bengali': 'pol', 'Tibetan': 'glv', 'Breton': 'war', 'Bulgarian': 'lao', 'Burmese': 'sqi', 'Catalan; Valencian': 'ltz', 'Cebuano': 'gle', 'Czech': 'mah', 'Chamorro': 'chr', 'Chinese': 'spa', 'Cherokee': 'ukr', 'Chuvash': 'xho', 'Cornish': 'pag', 'Crimean Tatar; Crimean Turkish': 'glg', 'Welsh': 'hsb', 'Danish': 'min', 'German': 'ast', 'Dutch; Flemish': 'nya', 'Greek, Modern (1453-)': 'mon', 'Esperanto': 'niu', 'Estonian': 'slv', 'Ewe': 'bod', 'Faroese': 'ces', 'Fijian': 'khm', 'Finnish': 'kan', 'French': 'tyv', 'Western Frisian': 'ell', 'Georgian': 'hil', 'Gilbertese': 'ton', 'Gaelic; Scottish Gaelic': 'ita', 'Irish': 'yid', 'Galician': 'tvl', 'Manx': 'tir', 'Guarani': 'mar', 'Gujarati': 'zul', 'Haitian; Haitian Creole': 'ben', 'Hebrew': 'mal', 'Hiligaynon': 'tur', 'Hindi': 'nld', 'Croatian': 'ilo', 'Upper Sorbian': 'yor', 'Hungarian': 'guj', 'Iban': 'bre', 'Igbo': 'hat', 'Icelandic': 'heb', 'Ido': 'jav', 'Iloko': 'som', 'Indonesian': 'mkd', 'Italian': 'sco', 'Javanese': 'nav', 'Lojban': 'mlg', 'Japanese': 'nob', 'Kabyle': 'eus', 'Kalaallisut; Greenlandic': 'ibo', 'Kannada': 'ori', 'Central Khmer': 'gil', 'Kinyarwanda': 'lug', 'Lao': 'umb', 'Latvian': 'asm', 'Lingala': 'jpn', 'Lithuanian': 'kab', 'Luxembourgish; Letzeburgesch': 'fra', 'Ganda': 'tuk', 'Macedonian': 'bel', 'Marshallese': 'epo', 'Maithili': 'sun', 'Malayalam': 'fry', 'Maori': 'por', 'Marathi': 'tel', 'Minangkabau': 'hrv', 'Malagasy': 'urd', 'Maltese': 'udm', 'Mongolian': 'arg', 'Navajo; Navaho': 'iba', 'Low German; Low Saxon; German, Low; Saxon, Low': 'mri', 'Niuean': 'kat', 'Norwegian Nynorsk; Nynorsk, Norwegian': 'lit', 'Bokmål, Norwegian; Norwegian Bokmål': 'sag', 'Chichewa; Chewa; Nyanja': 'est', 'Occitan (post 1500)': 'kal', 'Oriya': 'ceb', 'Ossetian; Ossetic': 'isl', 'Pangasinan': 'rom', 'Papiamento': 'rus', 'Polish': 'cha', 'Portuguese': 'fij', 'Pushto; Pashto': 'deu', 'Romany': 'fin', 'Romanian; Moldavian; Moldovan': 'amh', 'Rundi': 'hun', 'Russian': 'tam', 'Sango': 'crh', 'Scots': 'ewe', 'Sinhala; Sinhalese': 'lin', 'Slovenian': 'vie', 'Northern Sami': 'afr', 'Samoan': 'run', 'Shona': 'tso', 'Somali': 'sin', 'Spanish; Castilian': 'tat', 'Sundanese': 'cat', 'Swedish': 'lav', 'Tahitian': 'smo', 'Tamil': 'hin', 'Tatar': 'swe', 'Telugu': 'nds', 'Thai': 'cym', 'Tigrinya': 'chv', 'Tonga (Tonga Islands)': 'wol', 'Tsonga': 'fao', 'Turkmen': 'ido', 'Turkish': 'ara', 'Tuvalu': 'hye', 'Tuvinian': 'kin', 'Udmurt': 'nno', 'Ukrainian': 'tah', 'Umbundu': 'oci', 'Urdu': 'pap', 'Vietnamese': 'zho', 'Waray': 'mya', 'Walloon': 'sme', 'Wolof': 'wln', 'Xhosa': 'cor', 'Yiddish': 'ron', 'Yoruba': 'oss', 'Zulu': 'jbo'}\n"
          ]
        }
      ]
    },
    {
      "cell_type": "markdown",
      "source": [
        "#@title Translate with Transformers\n",
        "from IPython.display import Markdown as md\n",
        "english_text = \"you can see a models\\u2019s supported language codes\" #@param {type:\"string\"}\n",
        "target_language = \"Tamil\" #@param ['Abkhazian', 'Afrikaans', 'Albanian', 'Amharic', 'Arabic', 'Aragonese', 'Armenian', 'Assamese', 'Asturian; Bable; Leonese; Asturleonese', 'Bashkir', 'Basque', 'Belarusian', 'Bengali', 'Tibetan', 'Breton', 'Bulgarian', 'Burmese', 'Catalan; Valencian', 'Cebuano', 'Czech', 'Chamorro', 'Chinese', 'Cherokee', 'Chuvash', 'Cornish', 'Crimean Tatar; Crimean Turkish', 'Welsh', 'Danish', 'German', 'Dutch; Flemish', 'Greek, Modern (1453-)', 'Esperanto', 'Estonian', 'Ewe', 'Faroese', 'Fijian', 'Finnish', 'French', 'Western Frisian', 'Georgian', 'Gilbertese', 'Gaelic; Scottish Gaelic', 'Irish', 'Galician', 'Manx', 'Guarani', 'Gujarati', 'Haitian; Haitian Creole', 'Hebrew', 'Hiligaynon', 'Hindi', 'Croatian', 'Upper Sorbian', 'Hungarian', 'Iban', 'Igbo', 'Icelandic', 'Ido', 'Iloko', 'Indonesian', 'Italian', 'Javanese', 'Lojban', 'Japanese', 'Kabyle', 'Kalaallisut; Greenlandic', 'Kannada', 'Central Khmer', 'Kinyarwanda', 'Lao', 'Latvian', 'Lingala', 'Lithuanian', 'Luxembourgish; Letzeburgesch', 'Ganda', 'Macedonian', 'Marshallese', 'Maithili', 'Malayalam', 'Maori', 'Marathi', 'Minangkabau', 'Malagasy', 'Maltese', 'Mongolian', 'Navajo; Navaho', 'Low German; Low Saxon; German, Low; Saxon, Low', 'Niuean', 'Norwegian Nynorsk; Nynorsk, Norwegian', 'Bokmål, Norwegian; Norwegian Bokmål', 'Chichewa; Chewa; Nyanja', 'Occitan (post 1500)', 'Oriya', 'Ossetian; Ossetic', 'Pangasinan', 'Papiamento', 'Polish', 'Portuguese', 'Pushto; Pashto', 'Romany', 'Romanian; Moldavian; Moldovan', 'Rundi', 'Russian', 'Sango', 'Scots', 'Sinhala; Sinhalese', 'Slovenian', 'Northern Sami', 'Samoan', 'Shona', 'Somali', 'Spanish; Castilian', 'Sundanese', 'Swedish', 'Tahitian', 'Tamil', 'Tatar', 'Telugu', 'Thai', 'Tigrinya', 'Tonga (Tonga Islands)', 'Tsonga', 'Turkmen', 'Turkish', 'Tuvalu', 'Tuvinian', 'Udmurt', 'Ukrainian', 'Umbundu', 'Urdu', 'Vietnamese', 'Waray', 'Walloon', 'Wolof', 'Xhosa', 'Yiddish', 'Yoruba', 'Zulu']\n",
        "#stopw=[\";\",\",\",\"(\"]\n",
        "if( ';'in target_language):\n",
        "  target_language=target_language[:target_language.index(';') + len(\";\")-1]\n",
        "  target_language = langcodes[langcodes.en.str.contains(target_language)]['alpha3'].tolist()[0]\n",
        "else:\n",
        "  target_language = langcodes[langcodes.en.isin([target_language.capitalize()])]['alpha3'].tolist()[0]\n",
        "\n",
        "src_txt = f'>>{target_language}<< {english_text}'\n",
        "translated = model.generate(**tokenizer(src_txt,return_tensors='pt'))\n",
        "target_text=''.join([tokenizer.decode(t, skip_special_tokens=True) for t in translated])\n",
        "\n",
        "\n",
        "md(\"##{} \".format(target_text))"
      ],
      "metadata": {
        "id": "YgAEZckS5EXb"
      }
    }
  ]
}
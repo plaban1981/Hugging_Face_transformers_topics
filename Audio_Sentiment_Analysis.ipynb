{
  "nbformat": 4,
  "nbformat_minor": 0,
  "metadata": {
    "colab": {
      "provenance": [],
      "authorship_tag": "ABX9TyPUElSAObLEEcT41wvNg+Xg",
      "include_colab_link": true
    },
    "kernelspec": {
      "name": "python3",
      "display_name": "Python 3"
    },
    "language_info": {
      "name": "python"
    },
    "accelerator": "GPU",
    "gpuClass": "standard"
  },
  "cells": [
    {
      "cell_type": "markdown",
      "metadata": {
        "id": "view-in-github",
        "colab_type": "text"
      },
      "source": [
        "<a href=\"https://colab.research.google.com/github/plaban1981/Hugging_Face_transformers_topics/blob/main/Audio_Sentiment_Analysis.ipynb\" target=\"_parent\"><img src=\"https://colab.research.google.com/assets/colab-badge.svg\" alt=\"Open In Colab\"/></a>"
      ]
    },
    {
      "cell_type": "code",
      "execution_count": 1,
      "metadata": {
        "colab": {
          "base_uri": "https://localhost:8080/"
        },
        "id": "nlpFb86DiaW8",
        "outputId": "f03f9203-bdce-4fe2-e34f-69841fee6254"
      },
      "outputs": [
        {
          "output_type": "stream",
          "name": "stdout",
          "text": [
            "\u001b[K     |████████████████████████████████| 5.8 MB 23.2 MB/s \n",
            "\u001b[K     |████████████████████████████████| 7.6 MB 52.9 MB/s \n",
            "\u001b[K     |████████████████████████████████| 182 kB 64.4 MB/s \n",
            "\u001b[?25h"
          ]
        }
      ],
      "source": [
        "!pip install -q transformers"
      ]
    },
    {
      "cell_type": "code",
      "source": [
        "! pip install git+https://github.com/openai/whisper.git "
      ],
      "metadata": {
        "colab": {
          "base_uri": "https://localhost:8080/"
        },
        "id": "J4_xJEhViy15",
        "outputId": "a9947e64-cf18-4d60-c639-25a69b9e8dd8"
      },
      "execution_count": 2,
      "outputs": [
        {
          "output_type": "stream",
          "name": "stdout",
          "text": [
            "Looking in indexes: https://pypi.org/simple, https://us-python.pkg.dev/colab-wheels/public/simple/\n",
            "Collecting git+https://github.com/openai/whisper.git\n",
            "  Cloning https://github.com/openai/whisper.git to /tmp/pip-req-build-2p6dku4n\n",
            "  Running command git clone -q https://github.com/openai/whisper.git /tmp/pip-req-build-2p6dku4n\n",
            "Requirement already satisfied: numpy in /usr/local/lib/python3.8/dist-packages (from whisper==1.0) (1.21.6)\n",
            "Requirement already satisfied: torch in /usr/local/lib/python3.8/dist-packages (from whisper==1.0) (1.12.1+cu113)\n",
            "Requirement already satisfied: tqdm in /usr/local/lib/python3.8/dist-packages (from whisper==1.0) (4.64.1)\n",
            "Requirement already satisfied: more-itertools in /usr/local/lib/python3.8/dist-packages (from whisper==1.0) (9.0.0)\n",
            "Requirement already satisfied: transformers>=4.19.0 in /usr/local/lib/python3.8/dist-packages (from whisper==1.0) (4.25.1)\n",
            "Collecting ffmpeg-python==0.2.0\n",
            "  Downloading ffmpeg_python-0.2.0-py3-none-any.whl (25 kB)\n",
            "Requirement already satisfied: future in /usr/local/lib/python3.8/dist-packages (from ffmpeg-python==0.2.0->whisper==1.0) (0.16.0)\n",
            "Requirement already satisfied: tokenizers!=0.11.3,<0.14,>=0.11.1 in /usr/local/lib/python3.8/dist-packages (from transformers>=4.19.0->whisper==1.0) (0.13.2)\n",
            "Requirement already satisfied: pyyaml>=5.1 in /usr/local/lib/python3.8/dist-packages (from transformers>=4.19.0->whisper==1.0) (6.0)\n",
            "Requirement already satisfied: filelock in /usr/local/lib/python3.8/dist-packages (from transformers>=4.19.0->whisper==1.0) (3.8.0)\n",
            "Requirement already satisfied: huggingface-hub<1.0,>=0.10.0 in /usr/local/lib/python3.8/dist-packages (from transformers>=4.19.0->whisper==1.0) (0.11.1)\n",
            "Requirement already satisfied: requests in /usr/local/lib/python3.8/dist-packages (from transformers>=4.19.0->whisper==1.0) (2.23.0)\n",
            "Requirement already satisfied: regex!=2019.12.17 in /usr/local/lib/python3.8/dist-packages (from transformers>=4.19.0->whisper==1.0) (2022.6.2)\n",
            "Requirement already satisfied: packaging>=20.0 in /usr/local/lib/python3.8/dist-packages (from transformers>=4.19.0->whisper==1.0) (21.3)\n",
            "Requirement already satisfied: typing-extensions>=3.7.4.3 in /usr/local/lib/python3.8/dist-packages (from huggingface-hub<1.0,>=0.10.0->transformers>=4.19.0->whisper==1.0) (4.1.1)\n",
            "Requirement already satisfied: pyparsing!=3.0.5,>=2.0.2 in /usr/local/lib/python3.8/dist-packages (from packaging>=20.0->transformers>=4.19.0->whisper==1.0) (3.0.9)\n",
            "Requirement already satisfied: chardet<4,>=3.0.2 in /usr/local/lib/python3.8/dist-packages (from requests->transformers>=4.19.0->whisper==1.0) (3.0.4)\n",
            "Requirement already satisfied: urllib3!=1.25.0,!=1.25.1,<1.26,>=1.21.1 in /usr/local/lib/python3.8/dist-packages (from requests->transformers>=4.19.0->whisper==1.0) (1.24.3)\n",
            "Requirement already satisfied: certifi>=2017.4.17 in /usr/local/lib/python3.8/dist-packages (from requests->transformers>=4.19.0->whisper==1.0) (2022.9.24)\n",
            "Requirement already satisfied: idna<3,>=2.5 in /usr/local/lib/python3.8/dist-packages (from requests->transformers>=4.19.0->whisper==1.0) (2.10)\n",
            "Building wheels for collected packages: whisper\n",
            "  Building wheel for whisper (setup.py) ... \u001b[?25l\u001b[?25hdone\n",
            "  Created wheel for whisper: filename=whisper-1.0-py3-none-any.whl size=1175257 sha256=900b31f4db87088f91535a81cb89d27f600cf4fbcc9591940656095d35054a12\n",
            "  Stored in directory: /tmp/pip-ephem-wheel-cache-37ek7omo/wheels/a7/70/18/b7693c07b1d18b3dafb328f5d0496aa0d41a9c09ef332fd8e6\n",
            "Successfully built whisper\n",
            "Installing collected packages: ffmpeg-python, whisper\n",
            "Successfully installed ffmpeg-python-0.2.0 whisper-1.0\n"
          ]
        }
      ]
    },
    {
      "cell_type": "code",
      "source": [
        "import transformers\n",
        "transformers.__version__"
      ],
      "metadata": {
        "colab": {
          "base_uri": "https://localhost:8080/",
          "height": 36
        },
        "id": "m92DOPAEiyMV",
        "outputId": "4f135f2e-e833-49f6-aa8c-273a9f8a2f99"
      },
      "execution_count": 3,
      "outputs": [
        {
          "output_type": "execute_result",
          "data": {
            "text/plain": [
              "'4.25.1'"
            ],
            "application/vnd.google.colaboratory.intrinsic+json": {
              "type": "string"
            }
          },
          "metadata": {},
          "execution_count": 3
        }
      ]
    },
    {
      "cell_type": "code",
      "source": [
        "from google.colab import drive\n",
        "drive.mount(\"/content/drive\")"
      ],
      "metadata": {
        "colab": {
          "base_uri": "https://localhost:8080/"
        },
        "id": "yFafUFnCi3cL",
        "outputId": "5f732311-09c8-4bd5-9a91-fed82e9e5782"
      },
      "execution_count": 5,
      "outputs": [
        {
          "output_type": "stream",
          "name": "stdout",
          "text": [
            "Mounted at /content/drive\n"
          ]
        }
      ]
    },
    {
      "cell_type": "markdown",
      "source": [
        "## Download youtube video"
      ],
      "metadata": {
        "id": "zmN1M1gB2LxH"
      }
    },
    {
      "cell_type": "code",
      "source": [
        "! pip install youtube-dl"
      ],
      "metadata": {
        "colab": {
          "base_uri": "https://localhost:8080/"
        },
        "id": "ry1tE2hC2RI8",
        "outputId": "0409ac2a-ee02-4361-887a-529fd652a86f"
      },
      "execution_count": 15,
      "outputs": [
        {
          "output_type": "stream",
          "name": "stdout",
          "text": [
            "Looking in indexes: https://pypi.org/simple, https://us-python.pkg.dev/colab-wheels/public/simple/\n",
            "Collecting youtube-dl\n",
            "  Downloading youtube_dl-2021.12.17-py2.py3-none-any.whl (1.9 MB)\n",
            "\u001b[K     |████████████████████████████████| 1.9 MB 27.6 MB/s \n",
            "\u001b[?25hInstalling collected packages: youtube-dl\n",
            "Successfully installed youtube-dl-2021.12.17\n"
          ]
        }
      ]
    },
    {
      "cell_type": "code",
      "source": [
        "from __future__ import unicode_literals\n",
        "import youtube_dl\n",
        "\n",
        "\n",
        "ydl_opts = {\n",
        "    'format': 'bestaudio/best',\n",
        "    'postprocessors': [{\n",
        "        'key': 'FFmpegExtractAudio',\n",
        "        'preferredcodec': 'wav',\n",
        "        'preferredquality': '192',\n",
        "    }],\n",
        "    'outtmpl':\".\" + '/video.%(ext)s',\n",
        "}\n",
        "with youtube_dl.YoutubeDL(ydl_opts) as ydl:\n",
        "    ydl.download(['https://www.youtube.com/watch?v=srSNZlbhCwk&t=3s'])\n",
        "    \n",
        "absolute_path = \"video.wav\" #file name of your downloaded audio"
      ],
      "metadata": {
        "colab": {
          "base_uri": "https://localhost:8080/"
        },
        "id": "GOHt86zj2bIT",
        "outputId": "b90ce98a-3172-4380-b590-68b696af2a9f"
      },
      "execution_count": 16,
      "outputs": [
        {
          "output_type": "stream",
          "name": "stdout",
          "text": [
            "[youtube] srSNZlbhCwk: Downloading webpage\n",
            "[download] Destination: ./video.webm\n",
            "[download] 100% of 763.32KiB in 00:17\n",
            "[ffmpeg] Destination: ./video.wav\n",
            "Deleting original file ./video.webm (pass -k to keep)\n"
          ]
        }
      ]
    },
    {
      "cell_type": "code",
      "source": [],
      "metadata": {
        "id": "vMM_OFYJ2O3W"
      },
      "execution_count": null,
      "outputs": []
    },
    {
      "cell_type": "markdown",
      "source": [
        "## Transcribe text from Audio"
      ],
      "metadata": {
        "id": "de7JA09ei9xN"
      }
    },
    {
      "cell_type": "code",
      "source": [
        "import whisper\n",
        "model = whisper.load_model(\"large\")\n",
        "options = dict(language='en', beam_size=5, best_of=5)\n",
        "#transcribe_options = dict(task=\"transcribe\", **options)\n",
        "translate_options = dict(task=\"translate\", **options)\n",
        "translation = model.transcribe(\"/content/video.wav\", **translate_options)"
      ],
      "metadata": {
        "id": "x7XYvXwPk7kH"
      },
      "execution_count": 1,
      "outputs": []
    },
    {
      "cell_type": "code",
      "source": [
        "translation"
      ],
      "metadata": {
        "colab": {
          "base_uri": "https://localhost:8080/"
        },
        "id": "S29zdo7q6nYL",
        "outputId": "5b5c116b-1824-422c-9af2-be37e7f20238"
      },
      "execution_count": 3,
      "outputs": [
        {
          "output_type": "execute_result",
          "data": {
            "text/plain": [
              "{'text': \" This happened when I was 12 years old, I went to my grandmother's house with my mom My uncle had a computer at that time, which had a lot of games, so I started playing games as soon as I went there It was night and everyone went to attend the wedding in a nearby village except me Because I wanted to play games on the computer, then my uncle called me that his car has been punctured There is a tire in the house, we are close, come with the tire When I went to him, I saw that a strange thing was sitting, I asked him who are you Then he showed his face, which was very scary, then I noticed that he was just up to the stomach I ran immediately from there, but I fainted while running, when my eyes opened, I was at my grandmother's house I still don't know what it was\",\n",
              " 'segments': [{'id': 0,\n",
              "   'seek': 0,\n",
              "   'start': 0.0,\n",
              "   'end': 5.4,\n",
              "   'text': \" This happened when I was 12 years old, I went to my grandmother's house with my mom\",\n",
              "   'tokens': [639,\n",
              "    2011,\n",
              "    562,\n",
              "    286,\n",
              "    390,\n",
              "    2272,\n",
              "    924,\n",
              "    1331,\n",
              "    11,\n",
              "    286,\n",
              "    1437,\n",
              "    281,\n",
              "    452,\n",
              "    14317,\n",
              "    311,\n",
              "    1782,\n",
              "    365,\n",
              "    452,\n",
              "    1225],\n",
              "   'temperature': 0.0,\n",
              "   'avg_logprob': -0.3603224073137556,\n",
              "   'compression_ratio': 1.6905660377358491,\n",
              "   'no_speech_prob': 0.05138559639453888},\n",
              "  {'id': 1,\n",
              "   'seek': 0,\n",
              "   'start': 5.4,\n",
              "   'end': 11.4,\n",
              "   'text': ' My uncle had a computer at that time, which had a lot of games, so I started playing games as soon as I went there',\n",
              "   'tokens': [1222,\n",
              "    9153,\n",
              "    632,\n",
              "    257,\n",
              "    3820,\n",
              "    412,\n",
              "    300,\n",
              "    565,\n",
              "    11,\n",
              "    597,\n",
              "    632,\n",
              "    257,\n",
              "    688,\n",
              "    295,\n",
              "    2813,\n",
              "    11,\n",
              "    370,\n",
              "    286,\n",
              "    1409,\n",
              "    2433,\n",
              "    2813,\n",
              "    382,\n",
              "    2321,\n",
              "    382,\n",
              "    286,\n",
              "    1437,\n",
              "    456],\n",
              "   'temperature': 0.0,\n",
              "   'avg_logprob': -0.3603224073137556,\n",
              "   'compression_ratio': 1.6905660377358491,\n",
              "   'no_speech_prob': 0.05138559639453888},\n",
              "  {'id': 2,\n",
              "   'seek': 0,\n",
              "   'start': 11.4,\n",
              "   'end': 16.6,\n",
              "   'text': ' It was night and everyone went to attend the wedding in a nearby village except me',\n",
              "   'tokens': [467,\n",
              "    390,\n",
              "    1818,\n",
              "    293,\n",
              "    1518,\n",
              "    1437,\n",
              "    281,\n",
              "    6888,\n",
              "    264,\n",
              "    8523,\n",
              "    294,\n",
              "    257,\n",
              "    11184,\n",
              "    7288,\n",
              "    3993,\n",
              "    385],\n",
              "   'temperature': 0.0,\n",
              "   'avg_logprob': -0.3603224073137556,\n",
              "   'compression_ratio': 1.6905660377358491,\n",
              "   'no_speech_prob': 0.05138559639453888},\n",
              "  {'id': 3,\n",
              "   'seek': 0,\n",
              "   'start': 16.6,\n",
              "   'end': 22.5,\n",
              "   'text': ' Because I wanted to play games on the computer, then my uncle called me that his car has been punctured',\n",
              "   'tokens': [1436,\n",
              "    286,\n",
              "    1415,\n",
              "    281,\n",
              "    862,\n",
              "    2813,\n",
              "    322,\n",
              "    264,\n",
              "    3820,\n",
              "    11,\n",
              "    550,\n",
              "    452,\n",
              "    9153,\n",
              "    1219,\n",
              "    385,\n",
              "    300,\n",
              "    702,\n",
              "    1032,\n",
              "    575,\n",
              "    668,\n",
              "    27006,\n",
              "    3831],\n",
              "   'temperature': 0.0,\n",
              "   'avg_logprob': -0.3603224073137556,\n",
              "   'compression_ratio': 1.6905660377358491,\n",
              "   'no_speech_prob': 0.05138559639453888},\n",
              "  {'id': 4,\n",
              "   'seek': 0,\n",
              "   'start': 22.5,\n",
              "   'end': 26.400000000000002,\n",
              "   'text': ' There is a tire in the house, we are close, come with the tire',\n",
              "   'tokens': [821,\n",
              "    307,\n",
              "    257,\n",
              "    11756,\n",
              "    294,\n",
              "    264,\n",
              "    1782,\n",
              "    11,\n",
              "    321,\n",
              "    366,\n",
              "    1998,\n",
              "    11,\n",
              "    808,\n",
              "    365,\n",
              "    264,\n",
              "    11756],\n",
              "   'temperature': 0.0,\n",
              "   'avg_logprob': -0.3603224073137556,\n",
              "   'compression_ratio': 1.6905660377358491,\n",
              "   'no_speech_prob': 0.05138559639453888},\n",
              "  {'id': 5,\n",
              "   'seek': 2640,\n",
              "   'start': 26.4,\n",
              "   'end': 32.199999999999996,\n",
              "   'text': ' When I went to him, I saw that a strange thing was sitting, I asked him who are you',\n",
              "   'tokens': [1133,\n",
              "    286,\n",
              "    1437,\n",
              "    281,\n",
              "    796,\n",
              "    11,\n",
              "    286,\n",
              "    1866,\n",
              "    300,\n",
              "    257,\n",
              "    5861,\n",
              "    551,\n",
              "    390,\n",
              "    3798,\n",
              "    11,\n",
              "    286,\n",
              "    2351,\n",
              "    796,\n",
              "    567,\n",
              "    366,\n",
              "    291],\n",
              "   'temperature': 0.0,\n",
              "   'avg_logprob': -0.30966191011316635,\n",
              "   'compression_ratio': 1.5679611650485437,\n",
              "   'no_speech_prob': 2.2244217689149082e-05},\n",
              "  {'id': 6,\n",
              "   'seek': 2640,\n",
              "   'start': 32.199999999999996,\n",
              "   'end': 37.6,\n",
              "   'text': ' Then he showed his face, which was very scary, then I noticed that he was just up to the stomach',\n",
              "   'tokens': [1396,\n",
              "    415,\n",
              "    4712,\n",
              "    702,\n",
              "    1851,\n",
              "    11,\n",
              "    597,\n",
              "    390,\n",
              "    588,\n",
              "    6958,\n",
              "    11,\n",
              "    550,\n",
              "    286,\n",
              "    5694,\n",
              "    300,\n",
              "    415,\n",
              "    390,\n",
              "    445,\n",
              "    493,\n",
              "    281,\n",
              "    264,\n",
              "    9665],\n",
              "   'temperature': 0.0,\n",
              "   'avg_logprob': -0.30966191011316635,\n",
              "   'compression_ratio': 1.5679611650485437,\n",
              "   'no_speech_prob': 2.2244217689149082e-05},\n",
              "  {'id': 7,\n",
              "   'seek': 2640,\n",
              "   'start': 37.6,\n",
              "   'end': 43.4,\n",
              "   'text': \" I ran immediately from there, but I fainted while running, when my eyes opened, I was at my grandmother's house\",\n",
              "   'tokens': [286,\n",
              "    5872,\n",
              "    4258,\n",
              "    490,\n",
              "    456,\n",
              "    11,\n",
              "    457,\n",
              "    286,\n",
              "    21104,\n",
              "    292,\n",
              "    1339,\n",
              "    2614,\n",
              "    11,\n",
              "    562,\n",
              "    452,\n",
              "    2575,\n",
              "    5625,\n",
              "    11,\n",
              "    286,\n",
              "    390,\n",
              "    412,\n",
              "    452,\n",
              "    14317,\n",
              "    311,\n",
              "    1782],\n",
              "   'temperature': 0.0,\n",
              "   'avg_logprob': -0.30966191011316635,\n",
              "   'compression_ratio': 1.5679611650485437,\n",
              "   'no_speech_prob': 2.2244217689149082e-05},\n",
              "  {'id': 8,\n",
              "   'seek': 4340,\n",
              "   'start': 43.4,\n",
              "   'end': 56.8,\n",
              "   'text': \" I still don't know what it was\",\n",
              "   'tokens': [50364, 286, 920, 500, 380, 458, 437, 309, 390, 51034],\n",
              "   'temperature': 0.0,\n",
              "   'avg_logprob': -0.4710715033791282,\n",
              "   'compression_ratio': 0.7894736842105263,\n",
              "   'no_speech_prob': 0.0032498794607818127}],\n",
              " 'language': 'en'}"
            ]
          },
          "metadata": {},
          "execution_count": 3
        }
      ]
    },
    {
      "cell_type": "code",
      "source": [
        "translation['text']"
      ],
      "metadata": {
        "colab": {
          "base_uri": "https://localhost:8080/",
          "height": 122
        },
        "id": "fQltOyu3nkuX",
        "outputId": "529f7ae3-c89d-457f-86de-daa8ea09f1e3"
      },
      "execution_count": 4,
      "outputs": [
        {
          "output_type": "execute_result",
          "data": {
            "text/plain": [
              "\" This happened when I was 12 years old, I went to my grandmother's house with my mom My uncle had a computer at that time, which had a lot of games, so I started playing games as soon as I went there It was night and everyone went to attend the wedding in a nearby village except me Because I wanted to play games on the computer, then my uncle called me that his car has been punctured There is a tire in the house, we are close, come with the tire When I went to him, I saw that a strange thing was sitting, I asked him who are you Then he showed his face, which was very scary, then I noticed that he was just up to the stomach I ran immediately from there, but I fainted while running, when my eyes opened, I was at my grandmother's house I still don't know what it was\""
            ],
            "application/vnd.google.colaboratory.intrinsic+json": {
              "type": "string"
            }
          },
          "metadata": {},
          "execution_count": 4
        }
      ]
    },
    {
      "cell_type": "code",
      "source": [
        "import joblib\n",
        "joblib.dump(model,'whisper')"
      ],
      "metadata": {
        "colab": {
          "base_uri": "https://localhost:8080/"
        },
        "id": "SBNCFY71qkyU",
        "outputId": "2087b108-73a3-4422-960e-9c11d820409c"
      },
      "execution_count": 14,
      "outputs": [
        {
          "output_type": "execute_result",
          "data": {
            "text/plain": [
              "['whisper']"
            ]
          },
          "metadata": {},
          "execution_count": 14
        }
      ]
    },
    {
      "cell_type": "markdown",
      "source": [
        "## Zeroshot classification using transformers"
      ],
      "metadata": {
        "id": "eDepRUm9i4SQ"
      }
    },
    {
      "cell_type": "markdown",
      "source": [
        "https://www.section.io/engineering-education/how-to-implement-zero-shot-classification-using-python/#:~:text=Zero-shot%20classification%20is%20a%20technique%20that%20allows%20us,topic%2C%20emotion%2C%20or%20event%20described%20by%20the%20label."
      ],
      "metadata": {
        "id": "XZlQV8hrptCC"
      }
    },
    {
      "cell_type": "code",
      "source": [
        "from transformers import pipeline\n",
        "classifier_pipeline = pipeline (\"zero-shot-classification\", model = \"facebook/bart-large-mnli\")"
      ],
      "metadata": {
        "id": "8JAjDgGOi8N1"
      },
      "execution_count": 6,
      "outputs": []
    },
    {
      "cell_type": "code",
      "source": [
        "label_candidate = ['Positive', 'Negative', 'Neutral']\n",
        "classifier_pipeline (translation['text'], label_candidate)"
      ],
      "metadata": {
        "colab": {
          "base_uri": "https://localhost:8080/"
        },
        "id": "nm2kB9C_pb_N",
        "outputId": "a63c8ddd-2339-4cb4-9bbc-5c26bebaba3e"
      },
      "execution_count": 7,
      "outputs": [
        {
          "output_type": "execute_result",
          "data": {
            "text/plain": [
              "{'sequence': \" This happened when I was 12 years old, I went to my grandmother's house with my mom My uncle had a computer at that time, which had a lot of games, so I started playing games as soon as I went there It was night and everyone went to attend the wedding in a nearby village except me Because I wanted to play games on the computer, then my uncle called me that his car has been punctured There is a tire in the house, we are close, come with the tire When I went to him, I saw that a strange thing was sitting, I asked him who are you Then he showed his face, which was very scary, then I noticed that he was just up to the stomach I ran immediately from there, but I fainted while running, when my eyes opened, I was at my grandmother's house I still don't know what it was\",\n",
              " 'labels': ['Negative', 'Neutral', 'Positive'],\n",
              " 'scores': [0.6785243153572083, 0.19358287751674652, 0.12789280712604523]}"
            ]
          },
          "metadata": {},
          "execution_count": 7
        }
      ]
    },
    {
      "cell_type": "markdown",
      "source": [
        "## Yout"
      ],
      "metadata": {
        "id": "PvcfYlKIsPqA"
      }
    }
  ]
}
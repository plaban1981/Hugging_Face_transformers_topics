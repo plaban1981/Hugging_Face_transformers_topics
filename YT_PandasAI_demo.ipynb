{
  "nbformat": 4,
  "nbformat_minor": 0,
  "metadata": {
    "colab": {
      "provenance": [],
      "include_colab_link": true
    },
    "kernelspec": {
      "name": "python3",
      "display_name": "Python 3"
    },
    "language_info": {
      "name": "python"
    }
  },
  "cells": [
    {
      "cell_type": "markdown",
      "metadata": {
        "id": "view-in-github",
        "colab_type": "text"
      },
      "source": [
        "<a href=\"https://colab.research.google.com/github/plaban1981/Hugging_Face_transformers_topics/blob/main/YT_PandasAI_demo.ipynb\" target=\"_parent\"><img src=\"https://colab.research.google.com/assets/colab-badge.svg\" alt=\"Open In Colab\"/></a>"
      ]
    },
    {
      "cell_type": "markdown",
      "source": [
        "#PandasAI\n",
        "\n",
        "Pandas AI is a Python library that adds generative artificial intelligence capabilities to Pandas, the popular data analysis and manipulation tool.\n",
        "\n",
        "Here is a very simple demo about how it work!"
      ],
      "metadata": {
        "id": "8OnF6qsbDG1t"
      }
    },
    {
      "cell_type": "markdown",
      "source": [
        "First of all we install the dependencies:"
      ],
      "metadata": {
        "id": "-VQE9nGwDaiG"
      }
    },
    {
      "cell_type": "code",
      "execution_count": null,
      "metadata": {
        "id": "qtqSnCgwDDCg",
        "colab": {
          "base_uri": "https://localhost:8080/"
        },
        "outputId": "f4ee4ed4-9753-4e89-997e-5f80287fee6c"
      },
      "outputs": [
        {
          "output_type": "stream",
          "name": "stdout",
          "text": [
            "\u001b[2K     \u001b[90m━━━━━━━━━━━━━━━━━━━━━━━━━━━━━━━━━━━━━━━━\u001b[0m \u001b[32m12.3/12.3 MB\u001b[0m \u001b[31m91.8 MB/s\u001b[0m eta \u001b[36m0:00:00\u001b[0m\n",
            "\u001b[2K     \u001b[90m━━━━━━━━━━━━━━━━━━━━━━━━━━━━━━━━━━━━━━\u001b[0m \u001b[32m122.2/122.2 kB\u001b[0m \u001b[31m14.0 MB/s\u001b[0m eta \u001b[36m0:00:00\u001b[0m\n",
            "\u001b[2K     \u001b[90m━━━━━━━━━━━━━━━━━━━━━━━━━━━━━━━━━━━━━━\u001b[0m \u001b[32m797.7/797.7 kB\u001b[0m \u001b[31m61.3 MB/s\u001b[0m eta \u001b[36m0:00:00\u001b[0m\n",
            "\u001b[2K     \u001b[90m━━━━━━━━━━━━━━━━━━━━━━━━━━━━━━━━━━━━━━━━\u001b[0m \u001b[32m72.0/72.0 kB\u001b[0m \u001b[31m10.3 MB/s\u001b[0m eta \u001b[36m0:00:00\u001b[0m\n",
            "\u001b[2K     \u001b[90m━━━━━━━━━━━━━━━━━━━━━━━━━━━━━━━━━━━━━━\u001b[0m \u001b[32m113.3/113.3 kB\u001b[0m \u001b[31m16.3 MB/s\u001b[0m eta \u001b[36m0:00:00\u001b[0m\n",
            "\u001b[2K     \u001b[90m━━━━━━━━━━━━━━━━━━━━━━━━━━━━━━━━━━━━━━━━\u001b[0m \u001b[32m1.6/1.6 MB\u001b[0m \u001b[31m73.9 MB/s\u001b[0m eta \u001b[36m0:00:00\u001b[0m\n",
            "\u001b[2K     \u001b[90m━━━━━━━━━━━━━━━━━━━━━━━━━━━━━━━━━━━━━━━━\u001b[0m \u001b[32m1.0/1.0 MB\u001b[0m \u001b[31m47.2 MB/s\u001b[0m eta \u001b[36m0:00:00\u001b[0m\n",
            "\u001b[2K     \u001b[90m━━━━━━━━━━━━━━━━━━━━━━━━━━━━━━━━━━━━━━\u001b[0m \u001b[32m114.5/114.5 kB\u001b[0m \u001b[31m11.0 MB/s\u001b[0m eta \u001b[36m0:00:00\u001b[0m\n",
            "\u001b[2K     \u001b[90m━━━━━━━━━━━━━━━━━━━━━━━━━━━━━━━━━━━━━━\u001b[0m \u001b[32m268.8/268.8 kB\u001b[0m \u001b[31m28.4 MB/s\u001b[0m eta \u001b[36m0:00:00\u001b[0m\n",
            "\u001b[2K     \u001b[90m━━━━━━━━━━━━━━━━━━━━━━━━━━━━━━━━━━━━━━\u001b[0m \u001b[32m149.6/149.6 kB\u001b[0m \u001b[31m19.1 MB/s\u001b[0m eta \u001b[36m0:00:00\u001b[0m\n",
            "\u001b[?25h\u001b[31mERROR: pip's dependency resolver does not currently take into account all the packages that are installed. This behaviour is the source of the following dependency conflicts.\n",
            "google-colab 1.0.0 requires ipython==7.34.0, but you have ipython 8.13.2 which is incompatible.\n",
            "google-colab 1.0.0 requires pandas==1.5.3, but you have pandas 2.0.1 which is incompatible.\u001b[0m\u001b[31m\n",
            "\u001b[0m"
          ]
        }
      ],
      "source": [
        "!pip -q install --upgrade pandas pandasai"
      ]
    },
    {
      "cell_type": "markdown",
      "source": [
        "Now we import the dependencies:"
      ],
      "metadata": {
        "id": "DrrlU4QqDmxl"
      }
    },
    {
      "cell_type": "code",
      "source": [
        "import pandas as pd\n",
        "import pandasai as pdai\n",
        "from pandasai import PandasAI\n",
        "from pandasai.llm.openai import OpenAI\n",
        "from pandasai.llm.starcoder import Starcoder\n",
        "from pandasai.llm.open_assistant import OpenAssistant\n",
        "from pandasai.llm.google_palm import GooglePalm"
      ],
      "metadata": {
        "id": "ohPMkz4zDqxz"
      },
      "execution_count": null,
      "outputs": []
    },
    {
      "cell_type": "markdown",
      "source": [
        "We create a dataframe using pandas:"
      ],
      "metadata": {
        "id": "JAO_SzlyDr5x"
      }
    },
    {
      "cell_type": "code",
      "source": [
        "df = pd.DataFrame({\n",
        "    \"country\": [\"United States\", \"United Kingdom\", \"France\", \"Germany\", \"Italy\", \"Spain\", \"Canada\", \"Australia\", \"Japan\", \"China\"],\n",
        "    \"gdp\": [21400000, 2940000, 2830000, 3870000, 2160000, 1350000, 1780000, 1320000, 516000, 14000000],\n",
        "    \"happiness_index\": [7.3, 7.2, 6.5, 7.0, 6.0, 6.3, 7.3, 7.3, 5.9, 5.0]\n",
        "})"
      ],
      "metadata": {
        "id": "nyRo07nqD08l"
      },
      "execution_count": null,
      "outputs": []
    },
    {
      "cell_type": "markdown",
      "source": [
        "We instanciate the llm (in this case OpenAI). Remember to change the API key with you OpenAI api key."
      ],
      "metadata": {
        "id": "WRKWFWSGD1tB"
      }
    },
    {
      "cell_type": "code",
      "source": [
        "OPENAI_API_KEY = \"\" #insert your API Key\n",
        "llm = OpenAI(api_token=OPENAI_API_KEY)"
      ],
      "metadata": {
        "id": "MhByl8oxEJFH"
      },
      "execution_count": null,
      "outputs": []
    },
    {
      "cell_type": "markdown",
      "source": [
        "Then we instantiate PandasAI with the provided large language model and we run it, passing the dataframe and the prompt"
      ],
      "metadata": {
        "id": "aeTOQettEfWT"
      }
    },
    {
      "cell_type": "code",
      "source": [
        "pandas_ai = PandasAI(llm)"
      ],
      "metadata": {
        "id": "HZnx0V18EkzS"
      },
      "execution_count": null,
      "outputs": []
    },
    {
      "cell_type": "code",
      "source": [
        "pandas_ai.run(df, prompt='Which are the 5 happiest countries?')"
      ],
      "metadata": {
        "colab": {
          "base_uri": "https://localhost:8080/",
          "height": 35
        },
        "id": "tJRoDnLfMAQ7",
        "outputId": "29f4b197-5272-4ab2-c486-4b75e6ef4538"
      },
      "execution_count": null,
      "outputs": [
        {
          "output_type": "execute_result",
          "data": {
            "text/plain": [
              "'According to the data, the top 5 happiest countries are the United States, Canada, Australia, United Kingdom, and Germany.'"
            ],
            "application/vnd.google.colaboratory.intrinsic+json": {
              "type": "string"
            }
          },
          "metadata": {},
          "execution_count": 88
        }
      ]
    },
    {
      "cell_type": "markdown",
      "source": [
        "You can also show a chart, for example:"
      ],
      "metadata": {
        "id": "D2BzTCNBb3-6"
      }
    },
    {
      "cell_type": "code",
      "source": [
        "pandas_ai.run(df, \"Plot the histogram of countries showing for each the gpd, using different colors for each bar\")"
      ],
      "metadata": {
        "id": "XsCB5S4Nb9QK",
        "colab": {
          "base_uri": "https://localhost:8080/",
          "height": 587
        },
        "outputId": "e21e6816-27b2-4b8e-ae47-894070ad08cc"
      },
      "execution_count": null,
      "outputs": [
        {
          "output_type": "display_data",
          "data": {
            "text/plain": [
              "<Figure size 640x480 with 1 Axes>"
            ],
            "image/png": "[encoded data removed]"
          },
          "metadata": {}
        },
        {
          "output_type": "execute_result",
          "data": {
            "text/plain": [
              "'Can you create a histogram that displays the GDP of different countries, with each bar being a different color?'"
            ],
            "application/vnd.google.colaboratory.intrinsic+json": {
              "type": "string"
            }
          },
          "metadata": {},
          "execution_count": 6
        }
      ]
    },
    {
      "cell_type": "code",
      "source": [
        "pandas_ai.run(df, \"Plot a pie chart of countries showing for each the gpd\")"
      ],
      "metadata": {
        "colab": {
          "base_uri": "https://localhost:8080/",
          "height": 424
        },
        "id": "RAXlmpdrFuRn",
        "outputId": "debb9742-9f3b-4e6f-dbdd-4cfbee46f6c6"
      },
      "execution_count": null,
      "outputs": [
        {
          "output_type": "display_data",
          "data": {
            "text/plain": [
              "<Figure size 640x480 with 1 Axes>"
            ],
            "image/png": "[encoded data removed]"
          },
          "metadata": {}
        },
        {
          "output_type": "execute_result",
          "data": {
            "text/plain": [
              "'Sure, I can help you with that! We can create a pie chart that displays the GDP of different countries. Would you like me to proceed with that?'"
            ],
            "application/vnd.google.colaboratory.intrinsic+json": {
              "type": "string"
            }
          },
          "metadata": {},
          "execution_count": 7
        }
      ]
    },
    {
      "cell_type": "markdown",
      "source": [
        "## with CSV\n",
        "\n",
        "https://github.com/datasciencedojo/datasets/blob/master/titanic.csv"
      ],
      "metadata": {
        "id": "TiYwYP5dI_Ap"
      }
    },
    {
      "cell_type": "code",
      "source": [
        "df = pd.read_csv(\"/content/titanic.csv\")"
      ],
      "metadata": {
        "id": "XvTwGM-CJBH2"
      },
      "execution_count": null,
      "outputs": []
    },
    {
      "cell_type": "code",
      "source": [
        "pandas_ai.run(df, prompt='How many people died?')"
      ],
      "metadata": {
        "colab": {
          "base_uri": "https://localhost:8080/",
          "height": 35
        },
        "id": "ThC6yhGyJBRJ",
        "outputId": "7e4606b2-eae5-4771-8e33-22970a6f5f4e"
      },
      "execution_count": null,
      "outputs": [
        {
          "output_type": "execute_result",
          "data": {
            "text/plain": [
              "'According to the data provided, 549 people died.'"
            ],
            "application/vnd.google.colaboratory.intrinsic+json": {
              "type": "string"
            }
          },
          "metadata": {},
          "execution_count": 27
        }
      ]
    },
    {
      "cell_type": "code",
      "source": [
        "pandas_ai.run(df, prompt='Show me the ratio of males to female that died?')"
      ],
      "metadata": {
        "colab": {
          "base_uri": "https://localhost:8080/",
          "height": 35
        },
        "id": "-d9xN8x5MKH-",
        "outputId": "428b1b9d-2c43-47af-9bae-f1c526e2e942"
      },
      "execution_count": null,
      "outputs": [
        {
          "output_type": "execute_result",
          "data": {
            "text/plain": [
              "'Out of all the people who died, there were about 5.78 times more males than females.'"
            ],
            "application/vnd.google.colaboratory.intrinsic+json": {
              "type": "string"
            }
          },
          "metadata": {},
          "execution_count": 28
        }
      ]
    },
    {
      "cell_type": "code",
      "source": [
        "pandas_ai.run(df, prompt='What ws the average age of those who survived?')"
      ],
      "metadata": {
        "colab": {
          "base_uri": "https://localhost:8080/",
          "height": 35
        },
        "id": "zWM0RUl3MSyZ",
        "outputId": "23da43c1-b741-4167-cfb6-9ed7749941f2"
      },
      "execution_count": null,
      "outputs": [
        {
          "output_type": "execute_result",
          "data": {
            "text/plain": [
              "'On average, the survivors were around 28 years old.'"
            ],
            "application/vnd.google.colaboratory.intrinsic+json": {
              "type": "string"
            }
          },
          "metadata": {},
          "execution_count": 29
        }
      ]
    },
    {
      "cell_type": "code",
      "source": [
        "average_age_survived = df[df['Survived'] == 1]['Age'].mean()\n",
        "print(average_age_survived)"
      ],
      "metadata": {
        "colab": {
          "base_uri": "https://localhost:8080/"
        },
        "id": "cS8GIpa5Ownr",
        "outputId": "2d207074-ea05-4496-f2f6-521750c59e7f"
      },
      "execution_count": null,
      "outputs": [
        {
          "output_type": "stream",
          "name": "stdout",
          "text": [
            "28.343689655172415\n"
          ]
        }
      ]
    },
    {
      "cell_type": "code",
      "source": [
        "pandas_ai.run(df, prompt='What is the pandas command to get the average age of those who died')"
      ],
      "metadata": {
        "colab": {
          "base_uri": "https://localhost:8080/",
          "height": 35
        },
        "id": "n14S5AAQMoSJ",
        "outputId": "a8d58299-d588-4602-a9f5-b73ad7e8734e"
      },
      "execution_count": null,
      "outputs": [
        {
          "output_type": "execute_result",
          "data": {
            "text/plain": [
              "'The average age of those who died can be obtained using the pandas command and it is 30.63 years.'"
            ],
            "application/vnd.google.colaboratory.intrinsic+json": {
              "type": "string"
            }
          },
          "metadata": {},
          "execution_count": 30
        }
      ]
    },
    {
      "cell_type": "code",
      "source": [
        "average_age_died = df[df['Survived'] == 0]['Age'].mean()\n",
        "print(average_age_died)"
      ],
      "metadata": {
        "colab": {
          "base_uri": "https://localhost:8080/"
        },
        "id": "w7JyMojfMwkh",
        "outputId": "d7576df9-44f9-49e9-bdfa-ca0efd437dff"
      },
      "execution_count": null,
      "outputs": [
        {
          "output_type": "stream",
          "name": "stdout",
          "text": [
            "30.62617924528302\n"
          ]
        }
      ]
    },
    {
      "cell_type": "code",
      "source": [
        "# trying to get output as DF\n",
        "\n",
        "pandas_ai = PandasAI(llm, conversational=False)\n",
        "new_df = pandas_ai.run(df, prompt='Please give me a dataframe of those whose ticket cost more than 50 pounds',is_conversational_answer=False)\n",
        "\n",
        "print(new_df)"
      ],
      "metadata": {
        "colab": {
          "base_uri": "https://localhost:8080/"
        },
        "id": "vKQUz19cQxXk",
        "outputId": "02d46c0c-8c6c-4ac1-9824-65bdd8c5e0a5"
      },
      "execution_count": null,
      "outputs": [
        {
          "output_type": "stream",
          "name": "stdout",
          "text": [
            "     PassengerId  Survived  Pclass   \n",
            "1              2         1       1  \\\n",
            "3              4         1       1   \n",
            "6              7         0       1   \n",
            "27            28         0       1   \n",
            "31            32         1       1   \n",
            "..           ...       ...     ...   \n",
            "856          857         1       1   \n",
            "863          864         0       3   \n",
            "867          868         0       1   \n",
            "871          872         1       1   \n",
            "879          880         1       1   \n",
            "\n",
            "                                                  Name     Sex   Age  SibSp   \n",
            "1    Cumings, Mrs. John Bradley (Florence Briggs Th...  female  38.0      1  \\\n",
            "3         Futrelle, Mrs. Jacques Heath (Lily May Peel)  female  35.0      1   \n",
            "6                              McCarthy, Mr. Timothy J    male  54.0      0   \n",
            "27                      Fortune, Mr. Charles Alexander    male  19.0      3   \n",
            "31      Spencer, Mrs. William Augustus (Marie Eugenie)  female   NaN      1   \n",
            "..                                                 ...     ...   ...    ...   \n",
            "856         Wick, Mrs. George Dennick (Mary Hitchcock)  female  45.0      1   \n",
            "863                  Sage, Miss. Dorothy Edith \"Dolly\"  female   NaN      8   \n",
            "867               Roebling, Mr. Washington Augustus II    male  31.0      0   \n",
            "871   Beckwith, Mrs. Richard Leonard (Sallie Monypeny)  female  47.0      1   \n",
            "879      Potter, Mrs. Thomas Jr (Lily Alexenia Wilson)  female  56.0      0   \n",
            "\n",
            "     Parch    Ticket      Fare        Cabin Embarked  \n",
            "1        0  PC 17599   71.2833          C85        C  \n",
            "3        0    113803   53.1000         C123        S  \n",
            "6        0     17463   51.8625          E46        S  \n",
            "27       2     19950  263.0000  C23 C25 C27        S  \n",
            "31       0  PC 17569  146.5208          B78        C  \n",
            "..     ...       ...       ...          ...      ...  \n",
            "856      1     36928  164.8667          NaN        S  \n",
            "863      2  CA. 2343   69.5500          NaN        S  \n",
            "867      0  PC 17590   50.4958          A24        S  \n",
            "871      1     11751   52.5542          D35        S  \n",
            "879      1     11767   83.1583          C50        C  \n",
            "\n",
            "[160 rows x 12 columns]\n",
            "\n"
          ]
        }
      ]
    },
    {
      "cell_type": "code",
      "source": [
        "new_df.head()"
      ],
      "metadata": {
        "colab": {
          "base_uri": "https://localhost:8080/",
          "height": 166
        },
        "id": "bmhqHAK6d4sV",
        "outputId": "3b1de2d7-872d-4eca-d5b8-5196cfc79a75"
      },
      "execution_count": null,
      "outputs": [
        {
          "output_type": "error",
          "ename": "AttributeError",
          "evalue": "ignored",
          "traceback": [
            "\u001b[0;31m---------------------------------------------------------------------------\u001b[0m",
            "\u001b[0;31mAttributeError\u001b[0m                            Traceback (most recent call last)",
            "\u001b[0;32m<ipython-input-77-58ad22e406d5>\u001b[0m in \u001b[0;36m<cell line: 1>\u001b[0;34m()\u001b[0m\n\u001b[0;32m----> 1\u001b[0;31m \u001b[0mnew_df\u001b[0m\u001b[0;34m.\u001b[0m\u001b[0mhead\u001b[0m\u001b[0;34m(\u001b[0m\u001b[0;34m)\u001b[0m\u001b[0;34m\u001b[0m\u001b[0;34m\u001b[0m\u001b[0m\n\u001b[0m",
            "\u001b[0;31mAttributeError\u001b[0m: 'str' object has no attribute 'head'"
          ]
        }
      ]
    },
    {
      "cell_type": "markdown",
      "source": [
        "## Show Code"
      ],
      "metadata": {
        "id": "fe6Jj548TNMW"
      }
    },
    {
      "cell_type": "code",
      "source": [
        "pandas_ai = PandasAI(llm, conversational=True, verbose=True)"
      ],
      "metadata": {
        "id": "SFVLahmtUZQ0"
      },
      "execution_count": null,
      "outputs": []
    },
    {
      "cell_type": "code",
      "source": [
        "pandas_ai.run(df,\n",
        "              prompt='What is the pandas command to get the average age of those who died',\n",
        "              show_code=True,\n",
        "              is_conversational_answer=True)"
      ],
      "metadata": {
        "colab": {
          "base_uri": "https://localhost:8080/",
          "height": 261
        },
        "id": "wZgdV22JTPWf",
        "outputId": "d8f8023c-77be-477f-ca25-9614d32bc497"
      },
      "execution_count": null,
      "outputs": [
        {
          "output_type": "stream",
          "name": "stdout",
          "text": [
            "Running PandasAI with openai LLM...\n",
            "\n",
            "Code generated:\n",
            "```\n",
            "df[df['Survived']==0]['Age'].mean()\n",
            "```\n",
            "\n",
            "Code running:\n",
            "```\n",
            "df[df['Survived'] == 0]['Age'].mean()\n",
            "```\n",
            "Answer: 30.62617924528302\n",
            "Conversational answer: The average age of those who died can be obtained using the pandas command and it is 30.63 years.\n"
          ]
        },
        {
          "output_type": "execute_result",
          "data": {
            "text/plain": [
              "'The average age of those who died can be obtained using the pandas command and it is 30.63 years.'"
            ],
            "application/vnd.google.colaboratory.intrinsic+json": {
              "type": "string"
            }
          },
          "metadata": {},
          "execution_count": 42
        }
      ]
    },
    {
      "cell_type": "code",
      "source": [
        "pandas_ai.run(df, prompt='Make plot of died versus survived for peopl under 30',show_code=True)"
      ],
      "metadata": {
        "colab": {
          "base_uri": "https://localhost:8080/",
          "height": 1000
        },
        "id": "N_f3rcT-W0sW",
        "outputId": "5140c2f3-7aec-4774-8619-6ce790da80f1"
      },
      "execution_count": null,
      "outputs": [
        {
          "output_type": "stream",
          "name": "stdout",
          "text": [
            "Running PandasAI with openai LLM...\n"
          ]
        },
        {
          "output_type": "display_data",
          "data": {
            "text/plain": [
              "<Figure size 640x480 with 1 Axes>"
            ],
            "image/png": "[encoded data removed]"
          },
          "metadata": {}
        },
        {
          "output_type": "stream",
          "name": "stdout",
          "text": [
            "\n",
            "Code generated:\n",
            "```\n",
            "import matplotlib.pyplot as plt\n",
            "\n",
            "# filter dataframe to include only people under 30\n",
            "df_under_30 = df[df['Age'] < 30]\n",
            "\n",
            "# group by Survived column and count values\n",
            "survival_counts = df_under_30.groupby('Survived').size()\n",
            "\n",
            "# create bar plot\n",
            "plt.bar(['Died', 'Survived'], survival_counts)\n",
            "plt.title('Survival of People Under 30')\n",
            "plt.xlabel('Survival')\n",
            "plt.ylabel('Count')\n",
            "plt.show()\n",
            "```\n",
            "\n",
            "Code running:\n",
            "```\n",
            "df_under_30 = df[df['Age'] < 30]\n",
            "survival_counts = df_under_30.groupby('Survived').size()\n",
            "plt.bar(['Died', 'Survived'], survival_counts)\n",
            "plt.title('Survival of People Under 30')\n",
            "plt.xlabel('Survival')\n",
            "plt.ylabel('Count')\n",
            "plt.show()\n",
            "```\n",
            "Answer: \n",
            "Conversational answer: Sure, I can create a plot that shows the number of people who survived and died on the Titanic, specifically for those under 30 years old.\n"
          ]
        },
        {
          "output_type": "execute_result",
          "data": {
            "text/plain": [
              "'Sure, I can create a plot that shows the number of people who survived and died on the Titanic, specifically for those under 30 years old.'"
            ],
            "application/vnd.google.colaboratory.intrinsic+json": {
              "type": "string"
            }
          },
          "metadata": {},
          "execution_count": 54
        }
      ]
    },
    {
      "cell_type": "code",
      "source": [
        "pandas_ai.run(df, prompt='Make plot of died versus survived for peopl under 30 (red vs blue)',show_code=True)"
      ],
      "metadata": {
        "colab": {
          "base_uri": "https://localhost:8080/",
          "height": 1000
        },
        "id": "k_2hP6VbXZn-",
        "outputId": "ca264ccd-6395-4677-dc66-b0d7d4ee6726"
      },
      "execution_count": null,
      "outputs": [
        {
          "output_type": "stream",
          "name": "stdout",
          "text": [
            "Running PandasAI with openai LLM...\n"
          ]
        },
        {
          "output_type": "display_data",
          "data": {
            "text/plain": [
              "<Figure size 640x480 with 1 Axes>"
            ],
            "image/png": "[encoded data removed]"
          },
          "metadata": {}
        },
        {
          "output_type": "stream",
          "name": "stdout",
          "text": [
            "\n",
            "Code generated:\n",
            "```\n",
            "import matplotlib.pyplot as plt\n",
            "\n",
            "# filter dataframe to include only passengers under 30 years old\n",
            "df_under_30 = df[df['Age'] < 30]\n",
            "\n",
            "# create a bar plot of survived vs died for passengers under 30\n",
            "plt.bar(['Died', 'Survived'], df_under_30['Survived'].value_counts(), color=['red', 'blue'])\n",
            "plt.title('Survival of Passengers Under 30')\n",
            "plt.xlabel('Outcome')\n",
            "plt.ylabel('Number of Passengers')\n",
            "plt.show()\n",
            "```\n",
            "\n",
            "Code running:\n",
            "```\n",
            "df_under_30 = df[df['Age'] < 30]\n",
            "plt.bar(['Died', 'Survived'], df_under_30['Survived'].value_counts(), color\n",
            "    =['red', 'blue'])\n",
            "plt.title('Survival of Passengers Under 30')\n",
            "plt.xlabel('Outcome')\n",
            "plt.ylabel('Number of Passengers')\n",
            "plt.show()\n",
            "```\n",
            "Answer: \n",
            "Conversational answer: Sure, I can create a plot that shows the number of people who survived and died under the age of 30. We can use different colors to represent the two categories, such as blue for those who survived and red for those who didn't.\n"
          ]
        },
        {
          "output_type": "execute_result",
          "data": {
            "text/plain": [
              "\"Sure, I can create a plot that shows the number of people who survived and died under the age of 30. We can use different colors to represent the two categories, such as blue for those who survived and red for those who didn't.\""
            ],
            "application/vnd.google.colaboratory.intrinsic+json": {
              "type": "string"
            }
          },
          "metadata": {},
          "execution_count": 55
        }
      ]
    },
    {
      "cell_type": "code",
      "source": [
        "pandas_ai.run(df, prompt='How many people on the Titanic were called \"Eugene\" ',show_code=True)"
      ],
      "metadata": {
        "colab": {
          "base_uri": "https://localhost:8080/",
          "height": 417
        },
        "id": "bnJ9dO5PXqDU",
        "outputId": "188da4eb-bf61-4ab0-ce3b-a2d6e05377dc"
      },
      "execution_count": null,
      "outputs": [
        {
          "output_type": "stream",
          "name": "stdout",
          "text": [
            "Running PandasAI with openai LLM...\n",
            "\n",
            "Code generated:\n",
            "```\n",
            "# First, we need to check if the \"Name\" column contains the name \"Eugene\"\n",
            "df[df[\"Name\"].str.contains(\"Eugene\")]\n",
            "\n",
            "# Then, we can count the number of rows in the resulting dataframe\n",
            "num_eugenes = len(df[df[\"Name\"].str.contains(\"Eugene\")])\n",
            "\n",
            "print(num_eugenes)\n",
            "```\n",
            "\n",
            "Code running:\n",
            "```\n",
            "df[df['Name'].str.contains('Eugene')]\n",
            "num_eugenes = len(df[df['Name'].str.contains('Eugene')])\n",
            "print(num_eugenes)\n",
            "```\n",
            "Answer: 3\n",
            "\n",
            "Conversational answer: There were only three people on the Titanic who went by the name \"Eugene.\"\n"
          ]
        },
        {
          "output_type": "execute_result",
          "data": {
            "text/plain": [
              "'There were only three people on the Titanic who went by the name \"Eugene.\"'"
            ],
            "application/vnd.google.colaboratory.intrinsic+json": {
              "type": "string"
            }
          },
          "metadata": {},
          "execution_count": 56
        }
      ]
    },
    {
      "cell_type": "code",
      "source": [
        "## currently no memory\n",
        "pandas_ai.run(df, prompt='Show me their names',show_code=True)"
      ],
      "metadata": {
        "colab": {
          "base_uri": "https://localhost:8080/",
          "height": 574
        },
        "id": "gVmFxV5GYA8V",
        "outputId": "f56bbf9a-025a-470c-ebbf-c98382e82649"
      },
      "execution_count": null,
      "outputs": [
        {
          "output_type": "stream",
          "name": "stdout",
          "text": [
            "Running PandasAI with openai LLM...\n",
            "\n",
            "Code generated:\n",
            "```\n",
            "df['Name']\n",
            "```\n",
            "\n",
            "Code running:\n",
            "```\n",
            "df['Name']\n",
            "```\n",
            "Answer: 0                                Braund, Mr. Owen Harris\n",
            "1      Cumings, Mrs. John Bradley (Florence Briggs Th...\n",
            "2                                 Heikkinen, Miss. Laina\n",
            "3           Futrelle, Mrs. Jacques Heath (Lily May Peel)\n",
            "4                               Allen, Mr. William Henry\n",
            "                             ...                        \n",
            "886                                Montvila, Rev. Juozas\n",
            "887                         Graham, Miss. Margaret Edith\n",
            "888             Johnston, Miss. Catherine Helen \"Carrie\"\n",
            "889                                Behr, Mr. Karl Howell\n",
            "890                                  Dooley, Mr. Patrick\n",
            "Name: Name, Length: 891, dtype: object\n",
            "Conversational answer: Sure, here are the names of the passengers: \n",
            "- Braund, Mr. Owen Harris\n",
            "- Cumings, Mrs. John Bradley (Florence Briggs Th...)\n",
            "- Heikkinen, Miss. Laina\n",
            "- Futrelle, Mrs. Jacques Heath (Lily May Peel)\n",
            "- Allen, Mr. William Henry\n",
            "- and so on...\n"
          ]
        },
        {
          "output_type": "execute_result",
          "data": {
            "text/plain": [
              "'Sure, here are the names of the passengers: \\n- Braund, Mr. Owen Harris\\n- Cumings, Mrs. John Bradley (Florence Briggs Th...)\\n- Heikkinen, Miss. Laina\\n- Futrelle, Mrs. Jacques Heath (Lily May Peel)\\n- Allen, Mr. William Henry\\n- and so on...'"
            ],
            "application/vnd.google.colaboratory.intrinsic+json": {
              "type": "string"
            }
          },
          "metadata": {},
          "execution_count": 57
        }
      ]
    },
    {
      "cell_type": "code",
      "source": [
        "pandas_ai.run(df, prompt='Show me the full names of peopled \"Eugene\" on the titanic ',show_code=True)"
      ],
      "metadata": {
        "colab": {
          "base_uri": "https://localhost:8080/",
          "height": 504
        },
        "id": "KUDJeIQDYLjh",
        "outputId": "7839aefc-190b-47e7-c897-86c51274bfc0"
      },
      "execution_count": null,
      "outputs": [
        {
          "output_type": "stream",
          "name": "stdout",
          "text": [
            "Running PandasAI with openai LLM...\n",
            "\n",
            "Code generated:\n",
            "```\n",
            "# First, we need to filter the dataframe to only include rows where the Name column contains \"Eugene\"\n",
            "eugene_df = df[df['Name'].str.contains('Eugene')]\n",
            "\n",
            "# Then, we can extract the full names from the Name column\n",
            "full_names = eugene_df['Name'].tolist()\n",
            "\n",
            "# Finally, we can print out the full names\n",
            "for name in full_names:\n",
            "    print(name)\n",
            "```\n",
            "\n",
            "Code running:\n",
            "```\n",
            "eugene_df = df[df['Name'].str.contains('Eugene')]\n",
            "full_names = eugene_df['Name'].tolist()\n",
            "for name in full_names:\n",
            "    print(name)\n",
            "```\n",
            "Answer: Rice, Master. Eugene\n",
            "Williams, Mr. Charles Eugene\n",
            "Daly, Mr. Eugene Patrick\n",
            "\n",
            "Conversational answer: Sure! There were three people named Eugene on the Titanic. Their full names were Master Eugene Rice, Mr. Charles Eugene Williams, and Mr. Eugene Patrick Daly.\n"
          ]
        },
        {
          "output_type": "execute_result",
          "data": {
            "text/plain": [
              "'Sure! There were three people named Eugene on the Titanic. Their full names were Master Eugene Rice, Mr. Charles Eugene Williams, and Mr. Eugene Patrick Daly.'"
            ],
            "application/vnd.google.colaboratory.intrinsic+json": {
              "type": "string"
            }
          },
          "metadata": {},
          "execution_count": 58
        }
      ]
    },
    {
      "cell_type": "code",
      "source": [
        "# trying to get output as DF\n",
        "\n",
        "new_df = pandas_ai.run(df, prompt='Please give me a dataframe of those whose ticket cost more than 50 pounds',\n",
        "                       is_conversational_answer=False,\n",
        "                       show_code=True)\n",
        "\n"
      ],
      "metadata": {
        "colab": {
          "base_uri": "https://localhost:8080/"
        },
        "id": "DMJYU5_ueE3X",
        "outputId": "79d1c312-7201-47eb-c3b7-00955ae1e3be"
      },
      "execution_count": null,
      "outputs": [
        {
          "output_type": "stream",
          "name": "stdout",
          "text": [
            "Running PandasAI with openai LLM...\n",
            "\n",
            "Code generated:\n",
            "```\n",
            "df_expensive_tickets = df[df['Fare'] > 50]\n",
            "print(df_expensive_tickets)\n",
            "```\n",
            "\n",
            "Code running:\n",
            "```\n",
            "df_expensive_tickets = df[df['Fare'] > 50]\n",
            "print(df_expensive_tickets)\n",
            "```\n",
            "Answer:      PassengerId  Survived  Pclass   \n",
            "1              2         1       1  \\\n",
            "3              4         1       1   \n",
            "6              7         0       1   \n",
            "27            28         0       1   \n",
            "31            32         1       1   \n",
            "..           ...       ...     ...   \n",
            "856          857         1       1   \n",
            "863          864         0       3   \n",
            "867          868         0       1   \n",
            "871          872         1       1   \n",
            "879          880         1       1   \n",
            "\n",
            "                                                  Name     Sex   Age  SibSp   \n",
            "1    Cumings, Mrs. John Bradley (Florence Briggs Th...  female  38.0      1  \\\n",
            "3         Futrelle, Mrs. Jacques Heath (Lily May Peel)  female  35.0      1   \n",
            "6                              McCarthy, Mr. Timothy J    male  54.0      0   \n",
            "27                      Fortune, Mr. Charles Alexander    male  19.0      3   \n",
            "31      Spencer, Mrs. William Augustus (Marie Eugenie)  female   NaN      1   \n",
            "..                                                 ...     ...   ...    ...   \n",
            "856         Wick, Mrs. George Dennick (Mary Hitchcock)  female  45.0      1   \n",
            "863                  Sage, Miss. Dorothy Edith \"Dolly\"  female   NaN      8   \n",
            "867               Roebling, Mr. Washington Augustus II    male  31.0      0   \n",
            "871   Beckwith, Mrs. Richard Leonard (Sallie Monypeny)  female  47.0      1   \n",
            "879      Potter, Mrs. Thomas Jr (Lily Alexenia Wilson)  female  56.0      0   \n",
            "\n",
            "     Parch    Ticket      Fare        Cabin Embarked  \n",
            "1        0  PC 17599   71.2833          C85        C  \n",
            "3        0    113803   53.1000         C123        S  \n",
            "6        0     17463   51.8625          E46        S  \n",
            "27       2     19950  263.0000  C23 C25 C27        S  \n",
            "31       0  PC 17569  146.5208          B78        C  \n",
            "..     ...       ...       ...          ...      ...  \n",
            "856      1     36928  164.8667          NaN        S  \n",
            "863      2  CA. 2343   69.5500          NaN        S  \n",
            "867      0  PC 17590   50.4958          A24        S  \n",
            "871      1     11751   52.5542          D35        S  \n",
            "879      1     11767   83.1583          C50        C  \n",
            "\n",
            "[160 rows x 12 columns]\n",
            "\n"
          ]
        }
      ]
    },
    {
      "cell_type": "code",
      "source": [
        "new_df = df_expensive_tickets = df[df['Fare'] > 50]\n",
        "new_df.head()"
      ],
      "metadata": {
        "colab": {
          "base_uri": "https://localhost:8080/",
          "height": 206
        },
        "id": "wA06DutdeXSl",
        "outputId": "06a28bee-f55e-4b1f-c134-e671f43bf7b6"
      },
      "execution_count": null,
      "outputs": [
        {
          "output_type": "execute_result",
          "data": {
            "text/plain": [
              "    PassengerId  Survived  Pclass   \n",
              "1             2         1       1  \\\n",
              "3             4         1       1   \n",
              "6             7         0       1   \n",
              "27           28         0       1   \n",
              "31           32         1       1   \n",
              "\n",
              "                                                 Name     Sex   Age  SibSp   \n",
              "1   Cumings, Mrs. John Bradley (Florence Briggs Th...  female  38.0      1  \\\n",
              "3        Futrelle, Mrs. Jacques Heath (Lily May Peel)  female  35.0      1   \n",
              "6                             McCarthy, Mr. Timothy J    male  54.0      0   \n",
              "27                     Fortune, Mr. Charles Alexander    male  19.0      3   \n",
              "31     Spencer, Mrs. William Augustus (Marie Eugenie)  female   NaN      1   \n",
              "\n",
              "    Parch    Ticket      Fare        Cabin Embarked  \n",
              "1       0  PC 17599   71.2833          C85        C  \n",
              "3       0    113803   53.1000         C123        S  \n",
              "6       0     17463   51.8625          E46        S  \n",
              "27      2     19950  263.0000  C23 C25 C27        S  \n",
              "31      0  PC 17569  146.5208          B78        C  "
            ],
            "text/html": [
              "\n",
              "  <div id=\"df-ba4bcaf2-43fc-444a-ae3e-988c6852e87b\">\n",
              "    <div class=\"colab-df-container\">\n",
              "      <div>\n",
              "<style scoped>\n",
              "    .dataframe tbody tr th:only-of-type {\n",
              "        vertical-align: middle;\n",
              "    }\n",
              "\n",
              "    .dataframe tbody tr th {\n",
              "        vertical-align: top;\n",
              "    }\n",
              "\n",
              "    .dataframe thead th {\n",
              "        text-align: right;\n",
              "    }\n",
              "</style>\n",
              "<table border=\"1\" class=\"dataframe\">\n",
              "  <thead>\n",
              "    <tr style=\"text-align: right;\">\n",
              "      <th></th>\n",
              "      <th>PassengerId</th>\n",
              "      <th>Survived</th>\n",
              "      <th>Pclass</th>\n",
              "      <th>Name</th>\n",
              "      <th>Sex</th>\n",
              "      <th>Age</th>\n",
              "      <th>SibSp</th>\n",
              "      <th>Parch</th>\n",
              "      <th>Ticket</th>\n",
              "      <th>Fare</th>\n",
              "      <th>Cabin</th>\n",
              "      <th>Embarked</th>\n",
              "    </tr>\n",
              "  </thead>\n",
              "  <tbody>\n",
              "    <tr>\n",
              "      <th>1</th>\n",
              "      <td>2</td>\n",
              "      <td>1</td>\n",
              "      <td>1</td>\n",
              "      <td>Cumings, Mrs. John Bradley (Florence Briggs Th...</td>\n",
              "      <td>female</td>\n",
              "      <td>38.0</td>\n",
              "      <td>1</td>\n",
              "      <td>0</td>\n",
              "      <td>PC 17599</td>\n",
              "      <td>71.2833</td>\n",
              "      <td>C85</td>\n",
              "      <td>C</td>\n",
              "    </tr>\n",
              "    <tr>\n",
              "      <th>3</th>\n",
              "      <td>4</td>\n",
              "      <td>1</td>\n",
              "      <td>1</td>\n",
              "      <td>Futrelle, Mrs. Jacques Heath (Lily May Peel)</td>\n",
              "      <td>female</td>\n",
              "      <td>35.0</td>\n",
              "      <td>1</td>\n",
              "      <td>0</td>\n",
              "      <td>113803</td>\n",
              "      <td>53.1000</td>\n",
              "      <td>C123</td>\n",
              "      <td>S</td>\n",
              "    </tr>\n",
              "    <tr>\n",
              "      <th>6</th>\n",
              "      <td>7</td>\n",
              "      <td>0</td>\n",
              "      <td>1</td>\n",
              "      <td>McCarthy, Mr. Timothy J</td>\n",
              "      <td>male</td>\n",
              "      <td>54.0</td>\n",
              "      <td>0</td>\n",
              "      <td>0</td>\n",
              "      <td>17463</td>\n",
              "      <td>51.8625</td>\n",
              "      <td>E46</td>\n",
              "      <td>S</td>\n",
              "    </tr>\n",
              "    <tr>\n",
              "      <th>27</th>\n",
              "      <td>28</td>\n",
              "      <td>0</td>\n",
              "      <td>1</td>\n",
              "      <td>Fortune, Mr. Charles Alexander</td>\n",
              "      <td>male</td>\n",
              "      <td>19.0</td>\n",
              "      <td>3</td>\n",
              "      <td>2</td>\n",
              "      <td>19950</td>\n",
              "      <td>263.0000</td>\n",
              "      <td>C23 C25 C27</td>\n",
              "      <td>S</td>\n",
              "    </tr>\n",
              "    <tr>\n",
              "      <th>31</th>\n",
              "      <td>32</td>\n",
              "      <td>1</td>\n",
              "      <td>1</td>\n",
              "      <td>Spencer, Mrs. William Augustus (Marie Eugenie)</td>\n",
              "      <td>female</td>\n",
              "      <td>NaN</td>\n",
              "      <td>1</td>\n",
              "      <td>0</td>\n",
              "      <td>PC 17569</td>\n",
              "      <td>146.5208</td>\n",
              "      <td>B78</td>\n",
              "      <td>C</td>\n",
              "    </tr>\n",
              "  </tbody>\n",
              "</table>\n",
              "</div>\n",
              "      <button class=\"colab-df-convert\" onclick=\"convertToInteractive('df-ba4bcaf2-43fc-444a-ae3e-988c6852e87b')\"\n",
              "              title=\"Convert this dataframe to an interactive table.\"\n",
              "              style=\"display:none;\">\n",
              "        \n",
              "  <svg xmlns=\"http://www.w3.org/2000/svg\" height=\"24px\"viewBox=\"0 0 24 24\"\n",
              "       width=\"24px\">\n",
              "    <path d=\"M0 0h24v24H0V0z\" fill=\"none\"/>\n",
              "    <path d=\"M18.56 5.44l.94 2.06.94-2.06 2.06-.94-2.06-.94-.94-2.06-.94 2.06-2.06.94zm-11 1L8.5 8.5l.94-2.06 2.06-.94-2.06-.94L8.5 2.5l-.94 2.06-2.06.94zm10 10l.94 2.06.94-2.06 2.06-.94-2.06-.94-.94-2.06-.94 2.06-2.06.94z\"/><path d=\"M17.41 7.96l-1.37-1.37c-.4-.4-.92-.59-1.43-.59-.52 0-1.04.2-1.43.59L10.3 9.45l-7.72 7.72c-.78.78-.78 2.05 0 2.83L4 21.41c.39.39.9.59 1.41.59.51 0 1.02-.2 1.41-.59l7.78-7.78 2.81-2.81c.8-.78.8-2.07 0-2.86zM5.41 20L4 18.59l7.72-7.72 1.47 1.35L5.41 20z\"/>\n",
              "  </svg>\n",
              "      </button>\n",
              "      \n",
              "  <style>\n",
              "    .colab-df-container {\n",
              "      display:flex;\n",
              "      flex-wrap:wrap;\n",
              "      gap: 12px;\n",
              "    }\n",
              "\n",
              "    .colab-df-convert {\n",
              "      background-color: #E8F0FE;\n",
              "      border: none;\n",
              "      border-radius: 50%;\n",
              "      cursor: pointer;\n",
              "      display: none;\n",
              "      fill: #1967D2;\n",
              "      height: 32px;\n",
              "      padding: 0 0 0 0;\n",
              "      width: 32px;\n",
              "    }\n",
              "\n",
              "    .colab-df-convert:hover {\n",
              "      background-color: #E2EBFA;\n",
              "      box-shadow: 0px 1px 2px rgba(60, 64, 67, 0.3), 0px 1px 3px 1px rgba(60, 64, 67, 0.15);\n",
              "      fill: #174EA6;\n",
              "    }\n",
              "\n",
              "    [theme=dark] .colab-df-convert {\n",
              "      background-color: #3B4455;\n",
              "      fill: #D2E3FC;\n",
              "    }\n",
              "\n",
              "    [theme=dark] .colab-df-convert:hover {\n",
              "      background-color: #434B5C;\n",
              "      box-shadow: 0px 1px 3px 1px rgba(0, 0, 0, 0.15);\n",
              "      filter: drop-shadow(0px 1px 2px rgba(0, 0, 0, 0.3));\n",
              "      fill: #FFFFFF;\n",
              "    }\n",
              "  </style>\n",
              "\n",
              "      <script>\n",
              "        const buttonEl =\n",
              "          document.querySelector('#df-ba4bcaf2-43fc-444a-ae3e-988c6852e87b button.colab-df-convert');\n",
              "        buttonEl.style.display =\n",
              "          google.colab.kernel.accessAllowed ? 'block' : 'none';\n",
              "\n",
              "        async function convertToInteractive(key) {\n",
              "          const element = document.querySelector('#df-ba4bcaf2-43fc-444a-ae3e-988c6852e87b');\n",
              "          const dataTable =\n",
              "            await google.colab.kernel.invokeFunction('convertToInteractive',\n",
              "                                                     [key], {});\n",
              "          if (!dataTable) return;\n",
              "\n",
              "          const docLinkHtml = 'Like what you see? Visit the ' +\n",
              "            '<a target=\"_blank\" href=https://colab.research.google.com/notebooks/data_table.ipynb>data table notebook</a>'\n",
              "            + ' to learn more about interactive tables.';\n",
              "          element.innerHTML = '';\n",
              "          dataTable['output_type'] = 'display_data';\n",
              "          await google.colab.output.renderOutput(dataTable, element);\n",
              "          const docLink = document.createElement('div');\n",
              "          docLink.innerHTML = docLinkHtml;\n",
              "          element.appendChild(docLink);\n",
              "        }\n",
              "      </script>\n",
              "    </div>\n",
              "  </div>\n",
              "  "
            ]
          },
          "metadata": {},
          "execution_count": 83
        }
      ]
    },
    {
      "cell_type": "markdown",
      "source": [
        "## Privacy Enforced\n",
        "\n",
        "In order to generate the Python code to run, we take the dataframe head, we randomize it (using random generation for sensitive data and shuffling for non-sensitive data) and send just the head.\n",
        "\n"
      ],
      "metadata": {
        "id": "66heZygwIvEY"
      }
    },
    {
      "cell_type": "code",
      "source": [
        "pdai.helpers.anonymizer.anonymize_dataframe_head(df,force_conversion=True)"
      ],
      "metadata": {
        "colab": {
          "base_uri": "https://localhost:8080/",
          "height": 206
        },
        "id": "LgkIHuI_YtC2",
        "outputId": "590a2c78-90fe-4b91-d4c3-40103d9c24d8"
      },
      "execution_count": null,
      "outputs": [
        {
          "output_type": "execute_result",
          "data": {
            "text/plain": [
              "   PassengerId  Survived  Pclass   \n",
              "0            4         0       3  \\\n",
              "1            3         1       3   \n",
              "2            5         1       1   \n",
              "3            4         1       1   \n",
              "4            5         1       1   \n",
              "\n",
              "                                                Name     Sex   Age  SibSp   \n",
              "0  Cumings, Mrs. John Bradley (Florence Briggs Th...    male  35.0      0  \\\n",
              "1       Futrelle, Mrs. Jacques Heath (Lily May Peel)  female  26.0      0   \n",
              "2                             Heikkinen, Miss. Laina  female  35.0      0   \n",
              "3                           Allen, Mr. William Henry    male  35.0      1   \n",
              "4                            Braund, Mr. Owen Harris  female  26.0      1   \n",
              "\n",
              "   Parch            Ticket    Fare Cabin Embarked  \n",
              "0      0          PC 17599   8.050   nan        S  \n",
              "1      0            113803   7.925   nan        S  \n",
              "2      0         A/5 21171  53.100   nan        S  \n",
              "3      0  STON/O2. 3101282   7.250  C123        S  \n",
              "4      0            373450   8.050   C85        C  "
            ],
            "text/html": [
              "\n",
              "  <div id=\"df-db317b7f-38c2-440d-98a1-676252b1d765\">\n",
              "    <div class=\"colab-df-container\">\n",
              "      <div>\n",
              "<style scoped>\n",
              "    .dataframe tbody tr th:only-of-type {\n",
              "        vertical-align: middle;\n",
              "    }\n",
              "\n",
              "    .dataframe tbody tr th {\n",
              "        vertical-align: top;\n",
              "    }\n",
              "\n",
              "    .dataframe thead th {\n",
              "        text-align: right;\n",
              "    }\n",
              "</style>\n",
              "<table border=\"1\" class=\"dataframe\">\n",
              "  <thead>\n",
              "    <tr style=\"text-align: right;\">\n",
              "      <th></th>\n",
              "      <th>PassengerId</th>\n",
              "      <th>Survived</th>\n",
              "      <th>Pclass</th>\n",
              "      <th>Name</th>\n",
              "      <th>Sex</th>\n",
              "      <th>Age</th>\n",
              "      <th>SibSp</th>\n",
              "      <th>Parch</th>\n",
              "      <th>Ticket</th>\n",
              "      <th>Fare</th>\n",
              "      <th>Cabin</th>\n",
              "      <th>Embarked</th>\n",
              "    </tr>\n",
              "  </thead>\n",
              "  <tbody>\n",
              "    <tr>\n",
              "      <th>0</th>\n",
              "      <td>4</td>\n",
              "      <td>0</td>\n",
              "      <td>3</td>\n",
              "      <td>Cumings, Mrs. John Bradley (Florence Briggs Th...</td>\n",
              "      <td>male</td>\n",
              "      <td>35.0</td>\n",
              "      <td>0</td>\n",
              "      <td>0</td>\n",
              "      <td>PC 17599</td>\n",
              "      <td>8.050</td>\n",
              "      <td>nan</td>\n",
              "      <td>S</td>\n",
              "    </tr>\n",
              "    <tr>\n",
              "      <th>1</th>\n",
              "      <td>3</td>\n",
              "      <td>1</td>\n",
              "      <td>3</td>\n",
              "      <td>Futrelle, Mrs. Jacques Heath (Lily May Peel)</td>\n",
              "      <td>female</td>\n",
              "      <td>26.0</td>\n",
              "      <td>0</td>\n",
              "      <td>0</td>\n",
              "      <td>113803</td>\n",
              "      <td>7.925</td>\n",
              "      <td>nan</td>\n",
              "      <td>S</td>\n",
              "    </tr>\n",
              "    <tr>\n",
              "      <th>2</th>\n",
              "      <td>5</td>\n",
              "      <td>1</td>\n",
              "      <td>1</td>\n",
              "      <td>Heikkinen, Miss. Laina</td>\n",
              "      <td>female</td>\n",
              "      <td>35.0</td>\n",
              "      <td>0</td>\n",
              "      <td>0</td>\n",
              "      <td>A/5 21171</td>\n",
              "      <td>53.100</td>\n",
              "      <td>nan</td>\n",
              "      <td>S</td>\n",
              "    </tr>\n",
              "    <tr>\n",
              "      <th>3</th>\n",
              "      <td>4</td>\n",
              "      <td>1</td>\n",
              "      <td>1</td>\n",
              "      <td>Allen, Mr. William Henry</td>\n",
              "      <td>male</td>\n",
              "      <td>35.0</td>\n",
              "      <td>1</td>\n",
              "      <td>0</td>\n",
              "      <td>STON/O2. 3101282</td>\n",
              "      <td>7.250</td>\n",
              "      <td>C123</td>\n",
              "      <td>S</td>\n",
              "    </tr>\n",
              "    <tr>\n",
              "      <th>4</th>\n",
              "      <td>5</td>\n",
              "      <td>1</td>\n",
              "      <td>1</td>\n",
              "      <td>Braund, Mr. Owen Harris</td>\n",
              "      <td>female</td>\n",
              "      <td>26.0</td>\n",
              "      <td>1</td>\n",
              "      <td>0</td>\n",
              "      <td>373450</td>\n",
              "      <td>8.050</td>\n",
              "      <td>C85</td>\n",
              "      <td>C</td>\n",
              "    </tr>\n",
              "  </tbody>\n",
              "</table>\n",
              "</div>\n",
              "      <button class=\"colab-df-convert\" onclick=\"convertToInteractive('df-db317b7f-38c2-440d-98a1-676252b1d765')\"\n",
              "              title=\"Convert this dataframe to an interactive table.\"\n",
              "              style=\"display:none;\">\n",
              "        \n",
              "  <svg xmlns=\"http://www.w3.org/2000/svg\" height=\"24px\"viewBox=\"0 0 24 24\"\n",
              "       width=\"24px\">\n",
              "    <path d=\"M0 0h24v24H0V0z\" fill=\"none\"/>\n",
              "    <path d=\"M18.56 5.44l.94 2.06.94-2.06 2.06-.94-2.06-.94-.94-2.06-.94 2.06-2.06.94zm-11 1L8.5 8.5l.94-2.06 2.06-.94-2.06-.94L8.5 2.5l-.94 2.06-2.06.94zm10 10l.94 2.06.94-2.06 2.06-.94-2.06-.94-.94-2.06-.94 2.06-2.06.94z\"/><path d=\"M17.41 7.96l-1.37-1.37c-.4-.4-.92-.59-1.43-.59-.52 0-1.04.2-1.43.59L10.3 9.45l-7.72 7.72c-.78.78-.78 2.05 0 2.83L4 21.41c.39.39.9.59 1.41.59.51 0 1.02-.2 1.41-.59l7.78-7.78 2.81-2.81c.8-.78.8-2.07 0-2.86zM5.41 20L4 18.59l7.72-7.72 1.47 1.35L5.41 20z\"/>\n",
              "  </svg>\n",
              "      </button>\n",
              "      \n",
              "  <style>\n",
              "    .colab-df-container {\n",
              "      display:flex;\n",
              "      flex-wrap:wrap;\n",
              "      gap: 12px;\n",
              "    }\n",
              "\n",
              "    .colab-df-convert {\n",
              "      background-color: #E8F0FE;\n",
              "      border: none;\n",
              "      border-radius: 50%;\n",
              "      cursor: pointer;\n",
              "      display: none;\n",
              "      fill: #1967D2;\n",
              "      height: 32px;\n",
              "      padding: 0 0 0 0;\n",
              "      width: 32px;\n",
              "    }\n",
              "\n",
              "    .colab-df-convert:hover {\n",
              "      background-color: #E2EBFA;\n",
              "      box-shadow: 0px 1px 2px rgba(60, 64, 67, 0.3), 0px 1px 3px 1px rgba(60, 64, 67, 0.15);\n",
              "      fill: #174EA6;\n",
              "    }\n",
              "\n",
              "    [theme=dark] .colab-df-convert {\n",
              "      background-color: #3B4455;\n",
              "      fill: #D2E3FC;\n",
              "    }\n",
              "\n",
              "    [theme=dark] .colab-df-convert:hover {\n",
              "      background-color: #434B5C;\n",
              "      box-shadow: 0px 1px 3px 1px rgba(0, 0, 0, 0.15);\n",
              "      filter: drop-shadow(0px 1px 2px rgba(0, 0, 0, 0.3));\n",
              "      fill: #FFFFFF;\n",
              "    }\n",
              "  </style>\n",
              "\n",
              "      <script>\n",
              "        const buttonEl =\n",
              "          document.querySelector('#df-db317b7f-38c2-440d-98a1-676252b1d765 button.colab-df-convert');\n",
              "        buttonEl.style.display =\n",
              "          google.colab.kernel.accessAllowed ? 'block' : 'none';\n",
              "\n",
              "        async function convertToInteractive(key) {\n",
              "          const element = document.querySelector('#df-db317b7f-38c2-440d-98a1-676252b1d765');\n",
              "          const dataTable =\n",
              "            await google.colab.kernel.invokeFunction('convertToInteractive',\n",
              "                                                     [key], {});\n",
              "          if (!dataTable) return;\n",
              "\n",
              "          const docLinkHtml = 'Like what you see? Visit the ' +\n",
              "            '<a target=\"_blank\" href=https://colab.research.google.com/notebooks/data_table.ipynb>data table notebook</a>'\n",
              "            + ' to learn more about interactive tables.';\n",
              "          element.innerHTML = '';\n",
              "          dataTable['output_type'] = 'display_data';\n",
              "          await google.colab.output.renderOutput(dataTable, element);\n",
              "          const docLink = document.createElement('div');\n",
              "          docLink.innerHTML = docLinkHtml;\n",
              "          element.appendChild(docLink);\n",
              "        }\n",
              "      </script>\n",
              "    </div>\n",
              "  </div>\n",
              "  "
            ]
          },
          "metadata": {},
          "execution_count": 67
        }
      ]
    },
    {
      "cell_type": "markdown",
      "source": [
        "Also, if you want to enforce further your privacy you can instantiate PandasAI with enforce_privacy = True which will not send the head (but just column names) to the LLM"
      ],
      "metadata": {
        "id": "UsdLd0cJagUD"
      }
    },
    {
      "cell_type": "code",
      "source": [
        "pandas_ai = PandasAI(llm, verbose=True, conversational=False, enforce_privacy=True)"
      ],
      "metadata": {
        "id": "OPdIYi1nJNGn"
      },
      "execution_count": null,
      "outputs": []
    },
    {
      "cell_type": "code",
      "source": [
        "pandas_ai.run(df, prompt='How many females over 55 survived?',anonymize_df=True )"
      ],
      "metadata": {
        "colab": {
          "base_uri": "https://localhost:8080/",
          "height": 504
        },
        "id": "9sYMTclEJNN_",
        "outputId": "f9e7d2c8-cea9-4cf3-a86d-ba65ced118b0"
      },
      "execution_count": null,
      "outputs": [
        {
          "output_type": "stream",
          "name": "stdout",
          "text": [
            "Running PandasAI with openai LLM...\n",
            "\n",
            "Code generated:\n",
            "```\n",
            "import pandas as pd\n",
            "\n",
            "# read the csv file into a pandas dataframe\n",
            "df = pd.read_csv('filename.csv')\n",
            "\n",
            "# filter the dataframe to include only females over 55 who survived\n",
            "female_over_55_survived = df[(df['Sex'] == 'female') & (df['Age'] > 55) & (df['Survived'] == 1)]\n",
            "\n",
            "# count the number of rows in the filtered dataframe\n",
            "count = len(female_over_55_survived)\n",
            "\n",
            "print(count)\n",
            "```\n",
            "\n",
            "Code running:\n",
            "```\n",
            "female_over_55_survived = df[(df['Sex'] == 'female') & (df['Age'] > 55) & (\n",
            "    df['Survived'] == 1)]\n",
            "count = len(female_over_55_survived)\n",
            "print(count)\n",
            "```\n",
            "Answer: 8\n",
            "\n"
          ]
        },
        {
          "output_type": "execute_result",
          "data": {
            "text/plain": [
              "'8\\n'"
            ],
            "application/vnd.google.colaboratory.intrinsic+json": {
              "type": "string"
            }
          },
          "metadata": {},
          "execution_count": 46
        }
      ]
    },
    {
      "cell_type": "code",
      "source": [
        "pandas_ai.run(df, prompt='Show the names of the females over 55 who survived',show_code=True)"
      ],
      "metadata": {
        "colab": {
          "base_uri": "https://localhost:8080/",
          "height": 626
        },
        "id": "16smkceHS0xp",
        "outputId": "d1a6dba5-ebac-4e09-8f2d-f9670de3a31f"
      },
      "execution_count": null,
      "outputs": [
        {
          "output_type": "stream",
          "name": "stdout",
          "text": [
            "Running PandasAI with openai LLM...\n",
            "\n",
            "Code generated:\n",
            "```\n",
            "import pandas as pd\n",
            "\n",
            "# read the csv file into a pandas dataframe\n",
            "df = pd.read_csv('filename.csv')\n",
            "\n",
            "# filter the dataframe to include only females over 55 who survived\n",
            "result = df[(df['Sex'] == 'female') & (df['Age'] > 55) & (df['Survived'] == 1)]['Name']\n",
            "\n",
            "# print the names of the females over 55 who survived\n",
            "print(result)\n",
            "```\n",
            "\n",
            "Code running:\n",
            "```\n",
            "result = df[(df['Sex'] == 'female') & (df['Age'] > 55) & (df['Survived'] == 1)\n",
            "    ]['Name']\n",
            "print(result)\n",
            "```\n",
            "Answer: 11                             Bonnell, Miss. Elizabeth\n",
            "195                                Lurette, Miss. Elise\n",
            "268       Graham, Mrs. William Thompson (Edith Junkins)\n",
            "275                   Andrews, Miss. Kornelia Theodosia\n",
            "366    Warren, Mrs. Frank Manley (Anna Sophia Atkinson)\n",
            "483                              Turkula, Mrs. (Hedwig)\n",
            "829           Stone, Mrs. George Nelson (Martha Evelyn)\n",
            "879       Potter, Mrs. Thomas Jr (Lily Alexenia Wilson)\n",
            "Name: Name, dtype: object\n",
            "\n"
          ]
        },
        {
          "output_type": "execute_result",
          "data": {
            "text/plain": [
              "'11                             Bonnell, Miss. Elizabeth\\n195                                Lurette, Miss. Elise\\n268       Graham, Mrs. William Thompson (Edith Junkins)\\n275                   Andrews, Miss. Kornelia Theodosia\\n366    Warren, Mrs. Frank Manley (Anna Sophia Atkinson)\\n483                              Turkula, Mrs. (Hedwig)\\n829           Stone, Mrs. George Nelson (Martha Evelyn)\\n879       Potter, Mrs. Thomas Jr (Lily Alexenia Wilson)\\nName: Name, dtype: object\\n'"
            ],
            "application/vnd.google.colaboratory.intrinsic+json": {
              "type": "string"
            }
          },
          "metadata": {},
          "execution_count": 45
        }
      ]
    },
    {
      "cell_type": "code",
      "source": [],
      "metadata": {
        "id": "9Z3PskIzWwlj"
      },
      "execution_count": null,
      "outputs": []
    },
    {
      "cell_type": "markdown",
      "source": [
        "## Using Starcoder"
      ],
      "metadata": {
        "id": "zKWqB4f2GFnc"
      }
    },
    {
      "cell_type": "code",
      "source": [
        "# Starcoder\n",
        "starcoder_llm = Starcoder(api_token=\"\") #API key goes here"
      ],
      "metadata": {
        "id": "PF6RQTLfF2Qr"
      },
      "execution_count": null,
      "outputs": []
    },
    {
      "cell_type": "code",
      "source": [
        "pandas_ai = PandasAI(starcoder_llm)\n",
        "pandas_ai.run(df, prompt='How many males over 55 survived?')"
      ],
      "metadata": {
        "colab": {
          "base_uri": "https://localhost:8080/",
          "height": 35
        },
        "id": "_g64xBdsGbdK",
        "outputId": "d50e7560-a57e-46e4-8956-6da7d453d6bc"
      },
      "execution_count": null,
      "outputs": [
        {
          "output_type": "execute_result",
          "data": {
            "text/plain": [
              "'Unfortunately, I was not able to answer your question. Please try again. If the problem persists, try rephrasing your question.'"
            ],
            "application/vnd.google.colaboratory.intrinsic+json": {
              "type": "string"
            }
          },
          "metadata": {},
          "execution_count": 49
        }
      ]
    },
    {
      "cell_type": "code",
      "source": [
        "pandas_ai.run(df, prompt='What is the average age?')"
      ],
      "metadata": {
        "colab": {
          "base_uri": "https://localhost:8080/",
          "height": 35
        },
        "id": "f3oqDsrXWge9",
        "outputId": "0bf02693-c9d0-477c-cf0e-547a37e20f35"
      },
      "execution_count": null,
      "outputs": [
        {
          "output_type": "execute_result",
          "data": {
            "text/plain": [
              "'Unfortunately, I was not able to answer your question. Please try again. If the problem persists, try rephrasing your question.'"
            ],
            "application/vnd.google.colaboratory.intrinsic+json": {
              "type": "string"
            }
          },
          "metadata": {},
          "execution_count": 50
        }
      ]
    },
    {
      "cell_type": "markdown",
      "source": [
        "## Using PaLM"
      ],
      "metadata": {
        "id": "ns2EQagsJrdl"
      }
    },
    {
      "cell_type": "code",
      "source": [
        "# PaLM\n",
        "palm_llm = Starcoder(api_token=\"\") #API key goes here"
      ],
      "metadata": {
        "id": "ze9GpJ1PH_oY"
      },
      "execution_count": null,
      "outputs": []
    },
    {
      "cell_type": "code",
      "source": [
        "pandas_ai = PandasAI(palm_llm)\n",
        "pandas_ai.run(df, prompt='How many people died on the titanic?')"
      ],
      "metadata": {
        "colab": {
          "base_uri": "https://localhost:8080/",
          "height": 35
        },
        "id": "d6leYfGmLrFx",
        "outputId": "8104fcb3-7ecb-4128-d48c-0122301c767f"
      },
      "execution_count": null,
      "outputs": [
        {
          "output_type": "execute_result",
          "data": {
            "text/plain": [
              "'Unfortunately, I was not able to answer your question. Please try again. If the problem persists, try rephrasing your question.'"
            ],
            "application/vnd.google.colaboratory.intrinsic+json": {
              "type": "string"
            }
          },
          "metadata": {},
          "execution_count": 52
        }
      ]
    },
    {
      "cell_type": "code",
      "source": [],
      "metadata": {
        "id": "1I_GP3gXL2pM"
      },
      "execution_count": null,
      "outputs": []
    }
  ]
}
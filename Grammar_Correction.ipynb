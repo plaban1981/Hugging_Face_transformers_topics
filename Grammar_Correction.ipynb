{
  "nbformat": 4,
  "nbformat_minor": 0,
  "metadata": {
    "colab": {
      "name": "Grammar_Correction.ipynb",
      "provenance": [],
      "authorship_tag": "ABX9TyPWtxWRyvBm9dC8uW93NRHj",
      "include_colab_link": true
    },
    "kernelspec": {
      "name": "python3",
      "display_name": "Python 3"
    },
    "language_info": {
      "name": "python"
    },
    "accelerator": "GPU",
    "gpuClass": "standard",
    "widgets": {
      "application/vnd.jupyter.widget-state+json": {
        "5beb5a275d1c4448b6be40662f39009e": {
          "model_module": "@jupyter-widgets/controls",
          "model_name": "HBoxModel",
          "model_module_version": "1.5.0",
          "state": {
            "_dom_classes": [],
            "_model_module": "@jupyter-widgets/controls",
            "_model_module_version": "1.5.0",
            "_model_name": "HBoxModel",
            "_view_count": null,
            "_view_module": "@jupyter-widgets/controls",
            "_view_module_version": "1.5.0",
            "_view_name": "HBoxView",
            "box_style": "",
            "children": [
              "IPY_MODEL_1f0359f1355442a8a737b37aa1408fc1",
              "IPY_MODEL_d3855911eef248adb659f05a8da31394",
              "IPY_MODEL_30fab765cdf24e289583daf322646dcc"
            ],
            "layout": "IPY_MODEL_6c0b6ed211524e90aa0d4712f936c362"
          }
        },
        "1f0359f1355442a8a737b37aa1408fc1": {
          "model_module": "@jupyter-widgets/controls",
          "model_name": "HTMLModel",
          "model_module_version": "1.5.0",
          "state": {
            "_dom_classes": [],
            "_model_module": "@jupyter-widgets/controls",
            "_model_module_version": "1.5.0",
            "_model_name": "HTMLModel",
            "_view_count": null,
            "_view_module": "@jupyter-widgets/controls",
            "_view_module_version": "1.5.0",
            "_view_name": "HTMLView",
            "description": "",
            "description_tooltip": null,
            "layout": "IPY_MODEL_ba60103e25fe4a15999104ea34db5d56",
            "placeholder": "​",
            "style": "IPY_MODEL_1b55872512b548f5b4a110982f5bee33",
            "value": "Downloading config.json: 100%"
          }
        },
        "d3855911eef248adb659f05a8da31394": {
          "model_module": "@jupyter-widgets/controls",
          "model_name": "FloatProgressModel",
          "model_module_version": "1.5.0",
          "state": {
            "_dom_classes": [],
            "_model_module": "@jupyter-widgets/controls",
            "_model_module_version": "1.5.0",
            "_model_name": "FloatProgressModel",
            "_view_count": null,
            "_view_module": "@jupyter-widgets/controls",
            "_view_module_version": "1.5.0",
            "_view_name": "ProgressView",
            "bar_style": "success",
            "description": "",
            "description_tooltip": null,
            "layout": "IPY_MODEL_9ea05917ae864749b3ef530664e5b459",
            "max": 1416,
            "min": 0,
            "orientation": "horizontal",
            "style": "IPY_MODEL_9c3e7b37f78d48489a8300e259ea66a9",
            "value": 1416
          }
        },
        "30fab765cdf24e289583daf322646dcc": {
          "model_module": "@jupyter-widgets/controls",
          "model_name": "HTMLModel",
          "model_module_version": "1.5.0",
          "state": {
            "_dom_classes": [],
            "_model_module": "@jupyter-widgets/controls",
            "_model_module_version": "1.5.0",
            "_model_name": "HTMLModel",
            "_view_count": null,
            "_view_module": "@jupyter-widgets/controls",
            "_view_module_version": "1.5.0",
            "_view_name": "HTMLView",
            "description": "",
            "description_tooltip": null,
            "layout": "IPY_MODEL_a11596747bed4926b7bf4e2aba52ce59",
            "placeholder": "​",
            "style": "IPY_MODEL_5c18ac26e2f84202bd3969b001bfd5ec",
            "value": " 1.38k/1.38k [00:00&lt;00:00, 40.2kB/s]"
          }
        },
        "6c0b6ed211524e90aa0d4712f936c362": {
          "model_module": "@jupyter-widgets/base",
          "model_name": "LayoutModel",
          "model_module_version": "1.2.0",
          "state": {
            "_model_module": "@jupyter-widgets/base",
            "_model_module_version": "1.2.0",
            "_model_name": "LayoutModel",
            "_view_count": null,
            "_view_module": "@jupyter-widgets/base",
            "_view_module_version": "1.2.0",
            "_view_name": "LayoutView",
            "align_content": null,
            "align_items": null,
            "align_self": null,
            "border": null,
            "bottom": null,
            "display": null,
            "flex": null,
            "flex_flow": null,
            "grid_area": null,
            "grid_auto_columns": null,
            "grid_auto_flow": null,
            "grid_auto_rows": null,
            "grid_column": null,
            "grid_gap": null,
            "grid_row": null,
            "grid_template_areas": null,
            "grid_template_columns": null,
            "grid_template_rows": null,
            "height": null,
            "justify_content": null,
            "justify_items": null,
            "left": null,
            "margin": null,
            "max_height": null,
            "max_width": null,
            "min_height": null,
            "min_width": null,
            "object_fit": null,
            "object_position": null,
            "order": null,
            "overflow": null,
            "overflow_x": null,
            "overflow_y": null,
            "padding": null,
            "right": null,
            "top": null,
            "visibility": null,
            "width": null
          }
        },
        "ba60103e25fe4a15999104ea34db5d56": {
          "model_module": "@jupyter-widgets/base",
          "model_name": "LayoutModel",
          "model_module_version": "1.2.0",
          "state": {
            "_model_module": "@jupyter-widgets/base",
            "_model_module_version": "1.2.0",
            "_model_name": "LayoutModel",
            "_view_count": null,
            "_view_module": "@jupyter-widgets/base",
            "_view_module_version": "1.2.0",
            "_view_name": "LayoutView",
            "align_content": null,
            "align_items": null,
            "align_self": null,
            "border": null,
            "bottom": null,
            "display": null,
            "flex": null,
            "flex_flow": null,
            "grid_area": null,
            "grid_auto_columns": null,
            "grid_auto_flow": null,
            "grid_auto_rows": null,
            "grid_column": null,
            "grid_gap": null,
            "grid_row": null,
            "grid_template_areas": null,
            "grid_template_columns": null,
            "grid_template_rows": null,
            "height": null,
            "justify_content": null,
            "justify_items": null,
            "left": null,
            "margin": null,
            "max_height": null,
            "max_width": null,
            "min_height": null,
            "min_width": null,
            "object_fit": null,
            "object_position": null,
            "order": null,
            "overflow": null,
            "overflow_x": null,
            "overflow_y": null,
            "padding": null,
            "right": null,
            "top": null,
            "visibility": null,
            "width": null
          }
        },
        "1b55872512b548f5b4a110982f5bee33": {
          "model_module": "@jupyter-widgets/controls",
          "model_name": "DescriptionStyleModel",
          "model_module_version": "1.5.0",
          "state": {
            "_model_module": "@jupyter-widgets/controls",
            "_model_module_version": "1.5.0",
            "_model_name": "DescriptionStyleModel",
            "_view_count": null,
            "_view_module": "@jupyter-widgets/base",
            "_view_module_version": "1.2.0",
            "_view_name": "StyleView",
            "description_width": ""
          }
        },
        "9ea05917ae864749b3ef530664e5b459": {
          "model_module": "@jupyter-widgets/base",
          "model_name": "LayoutModel",
          "model_module_version": "1.2.0",
          "state": {
            "_model_module": "@jupyter-widgets/base",
            "_model_module_version": "1.2.0",
            "_model_name": "LayoutModel",
            "_view_count": null,
            "_view_module": "@jupyter-widgets/base",
            "_view_module_version": "1.2.0",
            "_view_name": "LayoutView",
            "align_content": null,
            "align_items": null,
            "align_self": null,
            "border": null,
            "bottom": null,
            "display": null,
            "flex": null,
            "flex_flow": null,
            "grid_area": null,
            "grid_auto_columns": null,
            "grid_auto_flow": null,
            "grid_auto_rows": null,
            "grid_column": null,
            "grid_gap": null,
            "grid_row": null,
            "grid_template_areas": null,
            "grid_template_columns": null,
            "grid_template_rows": null,
            "height": null,
            "justify_content": null,
            "justify_items": null,
            "left": null,
            "margin": null,
            "max_height": null,
            "max_width": null,
            "min_height": null,
            "min_width": null,
            "object_fit": null,
            "object_position": null,
            "order": null,
            "overflow": null,
            "overflow_x": null,
            "overflow_y": null,
            "padding": null,
            "right": null,
            "top": null,
            "visibility": null,
            "width": null
          }
        },
        "9c3e7b37f78d48489a8300e259ea66a9": {
          "model_module": "@jupyter-widgets/controls",
          "model_name": "ProgressStyleModel",
          "model_module_version": "1.5.0",
          "state": {
            "_model_module": "@jupyter-widgets/controls",
            "_model_module_version": "1.5.0",
            "_model_name": "ProgressStyleModel",
            "_view_count": null,
            "_view_module": "@jupyter-widgets/base",
            "_view_module_version": "1.2.0",
            "_view_name": "StyleView",
            "bar_color": null,
            "description_width": ""
          }
        },
        "a11596747bed4926b7bf4e2aba52ce59": {
          "model_module": "@jupyter-widgets/base",
          "model_name": "LayoutModel",
          "model_module_version": "1.2.0",
          "state": {
            "_model_module": "@jupyter-widgets/base",
            "_model_module_version": "1.2.0",
            "_model_name": "LayoutModel",
            "_view_count": null,
            "_view_module": "@jupyter-widgets/base",
            "_view_module_version": "1.2.0",
            "_view_name": "LayoutView",
            "align_content": null,
            "align_items": null,
            "align_self": null,
            "border": null,
            "bottom": null,
            "display": null,
            "flex": null,
            "flex_flow": null,
            "grid_area": null,
            "grid_auto_columns": null,
            "grid_auto_flow": null,
            "grid_auto_rows": null,
            "grid_column": null,
            "grid_gap": null,
            "grid_row": null,
            "grid_template_areas": null,
            "grid_template_columns": null,
            "grid_template_rows": null,
            "height": null,
            "justify_content": null,
            "justify_items": null,
            "left": null,
            "margin": null,
            "max_height": null,
            "max_width": null,
            "min_height": null,
            "min_width": null,
            "object_fit": null,
            "object_position": null,
            "order": null,
            "overflow": null,
            "overflow_x": null,
            "overflow_y": null,
            "padding": null,
            "right": null,
            "top": null,
            "visibility": null,
            "width": null
          }
        },
        "5c18ac26e2f84202bd3969b001bfd5ec": {
          "model_module": "@jupyter-widgets/controls",
          "model_name": "DescriptionStyleModel",
          "model_module_version": "1.5.0",
          "state": {
            "_model_module": "@jupyter-widgets/controls",
            "_model_module_version": "1.5.0",
            "_model_name": "DescriptionStyleModel",
            "_view_count": null,
            "_view_module": "@jupyter-widgets/base",
            "_view_module_version": "1.2.0",
            "_view_name": "StyleView",
            "description_width": ""
          }
        },
        "364a5ab403b54fa0a636b382448abb8e": {
          "model_module": "@jupyter-widgets/controls",
          "model_name": "HBoxModel",
          "model_module_version": "1.5.0",
          "state": {
            "_dom_classes": [],
            "_model_module": "@jupyter-widgets/controls",
            "_model_module_version": "1.5.0",
            "_model_name": "HBoxModel",
            "_view_count": null,
            "_view_module": "@jupyter-widgets/controls",
            "_view_module_version": "1.5.0",
            "_view_name": "HBoxView",
            "box_style": "",
            "children": [
              "IPY_MODEL_b512f64d48d94a97a1038aec4e340558",
              "IPY_MODEL_3ae40c636ddf49689a9e8ac0448c3ea1",
              "IPY_MODEL_aaec5f7efda14f2d8a7c4ba33d371010"
            ],
            "layout": "IPY_MODEL_08a8a2e5c01946fcb0ce62e06baa65ce"
          }
        },
        "b512f64d48d94a97a1038aec4e340558": {
          "model_module": "@jupyter-widgets/controls",
          "model_name": "HTMLModel",
          "model_module_version": "1.5.0",
          "state": {
            "_dom_classes": [],
            "_model_module": "@jupyter-widgets/controls",
            "_model_module_version": "1.5.0",
            "_model_name": "HTMLModel",
            "_view_count": null,
            "_view_module": "@jupyter-widgets/controls",
            "_view_module_version": "1.5.0",
            "_view_name": "HTMLView",
            "description": "",
            "description_tooltip": null,
            "layout": "IPY_MODEL_f3880eda7c9640aab79bbb4b940f1127",
            "placeholder": "​",
            "style": "IPY_MODEL_6f247e6930ad48199be7152ee7fe89b7",
            "value": "Downloading pytorch_model.bin: 100%"
          }
        },
        "3ae40c636ddf49689a9e8ac0448c3ea1": {
          "model_module": "@jupyter-widgets/controls",
          "model_name": "FloatProgressModel",
          "model_module_version": "1.5.0",
          "state": {
            "_dom_classes": [],
            "_model_module": "@jupyter-widgets/controls",
            "_model_module_version": "1.5.0",
            "_model_name": "FloatProgressModel",
            "_view_count": null,
            "_view_module": "@jupyter-widgets/controls",
            "_view_module_version": "1.5.0",
            "_view_name": "ProgressView",
            "bar_style": "success",
            "description": "",
            "description_tooltip": null,
            "layout": "IPY_MODEL_32f02bfd65b1439e87e60833fb172066",
            "max": 891730879,
            "min": 0,
            "orientation": "horizontal",
            "style": "IPY_MODEL_a16e4dd44d7640549d4d8dece191c520",
            "value": 891730879
          }
        },
        "aaec5f7efda14f2d8a7c4ba33d371010": {
          "model_module": "@jupyter-widgets/controls",
          "model_name": "HTMLModel",
          "model_module_version": "1.5.0",
          "state": {
            "_dom_classes": [],
            "_model_module": "@jupyter-widgets/controls",
            "_model_module_version": "1.5.0",
            "_model_name": "HTMLModel",
            "_view_count": null,
            "_view_module": "@jupyter-widgets/controls",
            "_view_module_version": "1.5.0",
            "_view_name": "HTMLView",
            "description": "",
            "description_tooltip": null,
            "layout": "IPY_MODEL_f753fd9353ef41dc8d81db04d74aafc4",
            "placeholder": "​",
            "style": "IPY_MODEL_c5cd9b7874ba4ca7947e42c13888ed1b",
            "value": " 850M/850M [00:44&lt;00:00, 22.5MB/s]"
          }
        },
        "08a8a2e5c01946fcb0ce62e06baa65ce": {
          "model_module": "@jupyter-widgets/base",
          "model_name": "LayoutModel",
          "model_module_version": "1.2.0",
          "state": {
            "_model_module": "@jupyter-widgets/base",
            "_model_module_version": "1.2.0",
            "_model_name": "LayoutModel",
            "_view_count": null,
            "_view_module": "@jupyter-widgets/base",
            "_view_module_version": "1.2.0",
            "_view_name": "LayoutView",
            "align_content": null,
            "align_items": null,
            "align_self": null,
            "border": null,
            "bottom": null,
            "display": null,
            "flex": null,
            "flex_flow": null,
            "grid_area": null,
            "grid_auto_columns": null,
            "grid_auto_flow": null,
            "grid_auto_rows": null,
            "grid_column": null,
            "grid_gap": null,
            "grid_row": null,
            "grid_template_areas": null,
            "grid_template_columns": null,
            "grid_template_rows": null,
            "height": null,
            "justify_content": null,
            "justify_items": null,
            "left": null,
            "margin": null,
            "max_height": null,
            "max_width": null,
            "min_height": null,
            "min_width": null,
            "object_fit": null,
            "object_position": null,
            "order": null,
            "overflow": null,
            "overflow_x": null,
            "overflow_y": null,
            "padding": null,
            "right": null,
            "top": null,
            "visibility": null,
            "width": null
          }
        },
        "f3880eda7c9640aab79bbb4b940f1127": {
          "model_module": "@jupyter-widgets/base",
          "model_name": "LayoutModel",
          "model_module_version": "1.2.0",
          "state": {
            "_model_module": "@jupyter-widgets/base",
            "_model_module_version": "1.2.0",
            "_model_name": "LayoutModel",
            "_view_count": null,
            "_view_module": "@jupyter-widgets/base",
            "_view_module_version": "1.2.0",
            "_view_name": "LayoutView",
            "align_content": null,
            "align_items": null,
            "align_self": null,
            "border": null,
            "bottom": null,
            "display": null,
            "flex": null,
            "flex_flow": null,
            "grid_area": null,
            "grid_auto_columns": null,
            "grid_auto_flow": null,
            "grid_auto_rows": null,
            "grid_column": null,
            "grid_gap": null,
            "grid_row": null,
            "grid_template_areas": null,
            "grid_template_columns": null,
            "grid_template_rows": null,
            "height": null,
            "justify_content": null,
            "justify_items": null,
            "left": null,
            "margin": null,
            "max_height": null,
            "max_width": null,
            "min_height": null,
            "min_width": null,
            "object_fit": null,
            "object_position": null,
            "order": null,
            "overflow": null,
            "overflow_x": null,
            "overflow_y": null,
            "padding": null,
            "right": null,
            "top": null,
            "visibility": null,
            "width": null
          }
        },
        "6f247e6930ad48199be7152ee7fe89b7": {
          "model_module": "@jupyter-widgets/controls",
          "model_name": "DescriptionStyleModel",
          "model_module_version": "1.5.0",
          "state": {
            "_model_module": "@jupyter-widgets/controls",
            "_model_module_version": "1.5.0",
            "_model_name": "DescriptionStyleModel",
            "_view_count": null,
            "_view_module": "@jupyter-widgets/base",
            "_view_module_version": "1.2.0",
            "_view_name": "StyleView",
            "description_width": ""
          }
        },
        "32f02bfd65b1439e87e60833fb172066": {
          "model_module": "@jupyter-widgets/base",
          "model_name": "LayoutModel",
          "model_module_version": "1.2.0",
          "state": {
            "_model_module": "@jupyter-widgets/base",
            "_model_module_version": "1.2.0",
            "_model_name": "LayoutModel",
            "_view_count": null,
            "_view_module": "@jupyter-widgets/base",
            "_view_module_version": "1.2.0",
            "_view_name": "LayoutView",
            "align_content": null,
            "align_items": null,
            "align_self": null,
            "border": null,
            "bottom": null,
            "display": null,
            "flex": null,
            "flex_flow": null,
            "grid_area": null,
            "grid_auto_columns": null,
            "grid_auto_flow": null,
            "grid_auto_rows": null,
            "grid_column": null,
            "grid_gap": null,
            "grid_row": null,
            "grid_template_areas": null,
            "grid_template_columns": null,
            "grid_template_rows": null,
            "height": null,
            "justify_content": null,
            "justify_items": null,
            "left": null,
            "margin": null,
            "max_height": null,
            "max_width": null,
            "min_height": null,
            "min_width": null,
            "object_fit": null,
            "object_position": null,
            "order": null,
            "overflow": null,
            "overflow_x": null,
            "overflow_y": null,
            "padding": null,
            "right": null,
            "top": null,
            "visibility": null,
            "width": null
          }
        },
        "a16e4dd44d7640549d4d8dece191c520": {
          "model_module": "@jupyter-widgets/controls",
          "model_name": "ProgressStyleModel",
          "model_module_version": "1.5.0",
          "state": {
            "_model_module": "@jupyter-widgets/controls",
            "_model_module_version": "1.5.0",
            "_model_name": "ProgressStyleModel",
            "_view_count": null,
            "_view_module": "@jupyter-widgets/base",
            "_view_module_version": "1.2.0",
            "_view_name": "StyleView",
            "bar_color": null,
            "description_width": ""
          }
        },
        "f753fd9353ef41dc8d81db04d74aafc4": {
          "model_module": "@jupyter-widgets/base",
          "model_name": "LayoutModel",
          "model_module_version": "1.2.0",
          "state": {
            "_model_module": "@jupyter-widgets/base",
            "_model_module_version": "1.2.0",
            "_model_name": "LayoutModel",
            "_view_count": null,
            "_view_module": "@jupyter-widgets/base",
            "_view_module_version": "1.2.0",
            "_view_name": "LayoutView",
            "align_content": null,
            "align_items": null,
            "align_self": null,
            "border": null,
            "bottom": null,
            "display": null,
            "flex": null,
            "flex_flow": null,
            "grid_area": null,
            "grid_auto_columns": null,
            "grid_auto_flow": null,
            "grid_auto_rows": null,
            "grid_column": null,
            "grid_gap": null,
            "grid_row": null,
            "grid_template_areas": null,
            "grid_template_columns": null,
            "grid_template_rows": null,
            "height": null,
            "justify_content": null,
            "justify_items": null,
            "left": null,
            "margin": null,
            "max_height": null,
            "max_width": null,
            "min_height": null,
            "min_width": null,
            "object_fit": null,
            "object_position": null,
            "order": null,
            "overflow": null,
            "overflow_x": null,
            "overflow_y": null,
            "padding": null,
            "right": null,
            "top": null,
            "visibility": null,
            "width": null
          }
        },
        "c5cd9b7874ba4ca7947e42c13888ed1b": {
          "model_module": "@jupyter-widgets/controls",
          "model_name": "DescriptionStyleModel",
          "model_module_version": "1.5.0",
          "state": {
            "_model_module": "@jupyter-widgets/controls",
            "_model_module_version": "1.5.0",
            "_model_name": "DescriptionStyleModel",
            "_view_count": null,
            "_view_module": "@jupyter-widgets/base",
            "_view_module_version": "1.2.0",
            "_view_name": "StyleView",
            "description_width": ""
          }
        },
        "a3a2586d9e5246e2b370a85630133312": {
          "model_module": "@jupyter-widgets/controls",
          "model_name": "HBoxModel",
          "model_module_version": "1.5.0",
          "state": {
            "_dom_classes": [],
            "_model_module": "@jupyter-widgets/controls",
            "_model_module_version": "1.5.0",
            "_model_name": "HBoxModel",
            "_view_count": null,
            "_view_module": "@jupyter-widgets/controls",
            "_view_module_version": "1.5.0",
            "_view_name": "HBoxView",
            "box_style": "",
            "children": [
              "IPY_MODEL_1d20906d71b3449aaaeb997b1f7752b0",
              "IPY_MODEL_c1dee4cc727e4e16bf302380ef37464f",
              "IPY_MODEL_81059b7820ea4fbcb27edada2454cc29"
            ],
            "layout": "IPY_MODEL_6af173fa8d564cee9aa14545134b8a07"
          }
        },
        "1d20906d71b3449aaaeb997b1f7752b0": {
          "model_module": "@jupyter-widgets/controls",
          "model_name": "HTMLModel",
          "model_module_version": "1.5.0",
          "state": {
            "_dom_classes": [],
            "_model_module": "@jupyter-widgets/controls",
            "_model_module_version": "1.5.0",
            "_model_name": "HTMLModel",
            "_view_count": null,
            "_view_module": "@jupyter-widgets/controls",
            "_view_module_version": "1.5.0",
            "_view_name": "HTMLView",
            "description": "",
            "description_tooltip": null,
            "layout": "IPY_MODEL_1fa0576f37c54bfd9ec3ae3897a976d7",
            "placeholder": "​",
            "style": "IPY_MODEL_fafaa3eef14148b183d3ce45e23c87eb",
            "value": "Downloading tokenizer_config.json: 100%"
          }
        },
        "c1dee4cc727e4e16bf302380ef37464f": {
          "model_module": "@jupyter-widgets/controls",
          "model_name": "FloatProgressModel",
          "model_module_version": "1.5.0",
          "state": {
            "_dom_classes": [],
            "_model_module": "@jupyter-widgets/controls",
            "_model_module_version": "1.5.0",
            "_model_name": "FloatProgressModel",
            "_view_count": null,
            "_view_module": "@jupyter-widgets/controls",
            "_view_module_version": "1.5.0",
            "_view_name": "ProgressView",
            "bar_style": "success",
            "description": "",
            "description_tooltip": null,
            "layout": "IPY_MODEL_8ad4457f3b564229967415197163a64d",
            "max": 1923,
            "min": 0,
            "orientation": "horizontal",
            "style": "IPY_MODEL_d229c18b52044963a012547641d8dc1d",
            "value": 1923
          }
        },
        "81059b7820ea4fbcb27edada2454cc29": {
          "model_module": "@jupyter-widgets/controls",
          "model_name": "HTMLModel",
          "model_module_version": "1.5.0",
          "state": {
            "_dom_classes": [],
            "_model_module": "@jupyter-widgets/controls",
            "_model_module_version": "1.5.0",
            "_model_name": "HTMLModel",
            "_view_count": null,
            "_view_module": "@jupyter-widgets/controls",
            "_view_module_version": "1.5.0",
            "_view_name": "HTMLView",
            "description": "",
            "description_tooltip": null,
            "layout": "IPY_MODEL_552f46a7536442fbaf01b8dec81e85d9",
            "placeholder": "​",
            "style": "IPY_MODEL_082bbf25c5c44a05afe4c6a0e96624b7",
            "value": " 1.88k/1.88k [00:00&lt;00:00, 47.4kB/s]"
          }
        },
        "6af173fa8d564cee9aa14545134b8a07": {
          "model_module": "@jupyter-widgets/base",
          "model_name": "LayoutModel",
          "model_module_version": "1.2.0",
          "state": {
            "_model_module": "@jupyter-widgets/base",
            "_model_module_version": "1.2.0",
            "_model_name": "LayoutModel",
            "_view_count": null,
            "_view_module": "@jupyter-widgets/base",
            "_view_module_version": "1.2.0",
            "_view_name": "LayoutView",
            "align_content": null,
            "align_items": null,
            "align_self": null,
            "border": null,
            "bottom": null,
            "display": null,
            "flex": null,
            "flex_flow": null,
            "grid_area": null,
            "grid_auto_columns": null,
            "grid_auto_flow": null,
            "grid_auto_rows": null,
            "grid_column": null,
            "grid_gap": null,
            "grid_row": null,
            "grid_template_areas": null,
            "grid_template_columns": null,
            "grid_template_rows": null,
            "height": null,
            "justify_content": null,
            "justify_items": null,
            "left": null,
            "margin": null,
            "max_height": null,
            "max_width": null,
            "min_height": null,
            "min_width": null,
            "object_fit": null,
            "object_position": null,
            "order": null,
            "overflow": null,
            "overflow_x": null,
            "overflow_y": null,
            "padding": null,
            "right": null,
            "top": null,
            "visibility": null,
            "width": null
          }
        },
        "1fa0576f37c54bfd9ec3ae3897a976d7": {
          "model_module": "@jupyter-widgets/base",
          "model_name": "LayoutModel",
          "model_module_version": "1.2.0",
          "state": {
            "_model_module": "@jupyter-widgets/base",
            "_model_module_version": "1.2.0",
            "_model_name": "LayoutModel",
            "_view_count": null,
            "_view_module": "@jupyter-widgets/base",
            "_view_module_version": "1.2.0",
            "_view_name": "LayoutView",
            "align_content": null,
            "align_items": null,
            "align_self": null,
            "border": null,
            "bottom": null,
            "display": null,
            "flex": null,
            "flex_flow": null,
            "grid_area": null,
            "grid_auto_columns": null,
            "grid_auto_flow": null,
            "grid_auto_rows": null,
            "grid_column": null,
            "grid_gap": null,
            "grid_row": null,
            "grid_template_areas": null,
            "grid_template_columns": null,
            "grid_template_rows": null,
            "height": null,
            "justify_content": null,
            "justify_items": null,
            "left": null,
            "margin": null,
            "max_height": null,
            "max_width": null,
            "min_height": null,
            "min_width": null,
            "object_fit": null,
            "object_position": null,
            "order": null,
            "overflow": null,
            "overflow_x": null,
            "overflow_y": null,
            "padding": null,
            "right": null,
            "top": null,
            "visibility": null,
            "width": null
          }
        },
        "fafaa3eef14148b183d3ce45e23c87eb": {
          "model_module": "@jupyter-widgets/controls",
          "model_name": "DescriptionStyleModel",
          "model_module_version": "1.5.0",
          "state": {
            "_model_module": "@jupyter-widgets/controls",
            "_model_module_version": "1.5.0",
            "_model_name": "DescriptionStyleModel",
            "_view_count": null,
            "_view_module": "@jupyter-widgets/base",
            "_view_module_version": "1.2.0",
            "_view_name": "StyleView",
            "description_width": ""
          }
        },
        "8ad4457f3b564229967415197163a64d": {
          "model_module": "@jupyter-widgets/base",
          "model_name": "LayoutModel",
          "model_module_version": "1.2.0",
          "state": {
            "_model_module": "@jupyter-widgets/base",
            "_model_module_version": "1.2.0",
            "_model_name": "LayoutModel",
            "_view_count": null,
            "_view_module": "@jupyter-widgets/base",
            "_view_module_version": "1.2.0",
            "_view_name": "LayoutView",
            "align_content": null,
            "align_items": null,
            "align_self": null,
            "border": null,
            "bottom": null,
            "display": null,
            "flex": null,
            "flex_flow": null,
            "grid_area": null,
            "grid_auto_columns": null,
            "grid_auto_flow": null,
            "grid_auto_rows": null,
            "grid_column": null,
            "grid_gap": null,
            "grid_row": null,
            "grid_template_areas": null,
            "grid_template_columns": null,
            "grid_template_rows": null,
            "height": null,
            "justify_content": null,
            "justify_items": null,
            "left": null,
            "margin": null,
            "max_height": null,
            "max_width": null,
            "min_height": null,
            "min_width": null,
            "object_fit": null,
            "object_position": null,
            "order": null,
            "overflow": null,
            "overflow_x": null,
            "overflow_y": null,
            "padding": null,
            "right": null,
            "top": null,
            "visibility": null,
            "width": null
          }
        },
        "d229c18b52044963a012547641d8dc1d": {
          "model_module": "@jupyter-widgets/controls",
          "model_name": "ProgressStyleModel",
          "model_module_version": "1.5.0",
          "state": {
            "_model_module": "@jupyter-widgets/controls",
            "_model_module_version": "1.5.0",
            "_model_name": "ProgressStyleModel",
            "_view_count": null,
            "_view_module": "@jupyter-widgets/base",
            "_view_module_version": "1.2.0",
            "_view_name": "StyleView",
            "bar_color": null,
            "description_width": ""
          }
        },
        "552f46a7536442fbaf01b8dec81e85d9": {
          "model_module": "@jupyter-widgets/base",
          "model_name": "LayoutModel",
          "model_module_version": "1.2.0",
          "state": {
            "_model_module": "@jupyter-widgets/base",
            "_model_module_version": "1.2.0",
            "_model_name": "LayoutModel",
            "_view_count": null,
            "_view_module": "@jupyter-widgets/base",
            "_view_module_version": "1.2.0",
            "_view_name": "LayoutView",
            "align_content": null,
            "align_items": null,
            "align_self": null,
            "border": null,
            "bottom": null,
            "display": null,
            "flex": null,
            "flex_flow": null,
            "grid_area": null,
            "grid_auto_columns": null,
            "grid_auto_flow": null,
            "grid_auto_rows": null,
            "grid_column": null,
            "grid_gap": null,
            "grid_row": null,
            "grid_template_areas": null,
            "grid_template_columns": null,
            "grid_template_rows": null,
            "height": null,
            "justify_content": null,
            "justify_items": null,
            "left": null,
            "margin": null,
            "max_height": null,
            "max_width": null,
            "min_height": null,
            "min_width": null,
            "object_fit": null,
            "object_position": null,
            "order": null,
            "overflow": null,
            "overflow_x": null,
            "overflow_y": null,
            "padding": null,
            "right": null,
            "top": null,
            "visibility": null,
            "width": null
          }
        },
        "082bbf25c5c44a05afe4c6a0e96624b7": {
          "model_module": "@jupyter-widgets/controls",
          "model_name": "DescriptionStyleModel",
          "model_module_version": "1.5.0",
          "state": {
            "_model_module": "@jupyter-widgets/controls",
            "_model_module_version": "1.5.0",
            "_model_name": "DescriptionStyleModel",
            "_view_count": null,
            "_view_module": "@jupyter-widgets/base",
            "_view_module_version": "1.2.0",
            "_view_name": "StyleView",
            "description_width": ""
          }
        },
        "edd89125fb254eee88bf18f40a7ba508": {
          "model_module": "@jupyter-widgets/controls",
          "model_name": "HBoxModel",
          "model_module_version": "1.5.0",
          "state": {
            "_dom_classes": [],
            "_model_module": "@jupyter-widgets/controls",
            "_model_module_version": "1.5.0",
            "_model_name": "HBoxModel",
            "_view_count": null,
            "_view_module": "@jupyter-widgets/controls",
            "_view_module_version": "1.5.0",
            "_view_name": "HBoxView",
            "box_style": "",
            "children": [
              "IPY_MODEL_e2e710f64acc48e4bcb20c39c774e402",
              "IPY_MODEL_162ba289ab2741c9a929b94e62051a9f",
              "IPY_MODEL_08c5215df62944f5a92ca760d2636e91"
            ],
            "layout": "IPY_MODEL_be1225f63c594143b741606f3a36fb5b"
          }
        },
        "e2e710f64acc48e4bcb20c39c774e402": {
          "model_module": "@jupyter-widgets/controls",
          "model_name": "HTMLModel",
          "model_module_version": "1.5.0",
          "state": {
            "_dom_classes": [],
            "_model_module": "@jupyter-widgets/controls",
            "_model_module_version": "1.5.0",
            "_model_name": "HTMLModel",
            "_view_count": null,
            "_view_module": "@jupyter-widgets/controls",
            "_view_module_version": "1.5.0",
            "_view_name": "HTMLView",
            "description": "",
            "description_tooltip": null,
            "layout": "IPY_MODEL_ecd24f199f9645fd859ce0320eb40c39",
            "placeholder": "​",
            "style": "IPY_MODEL_9f8e3179d9a242a5b28490dae4032c6d",
            "value": "Downloading spiece.model: 100%"
          }
        },
        "162ba289ab2741c9a929b94e62051a9f": {
          "model_module": "@jupyter-widgets/controls",
          "model_name": "FloatProgressModel",
          "model_module_version": "1.5.0",
          "state": {
            "_dom_classes": [],
            "_model_module": "@jupyter-widgets/controls",
            "_model_module_version": "1.5.0",
            "_model_name": "FloatProgressModel",
            "_view_count": null,
            "_view_module": "@jupyter-widgets/controls",
            "_view_module_version": "1.5.0",
            "_view_name": "ProgressView",
            "bar_style": "success",
            "description": "",
            "description_tooltip": null,
            "layout": "IPY_MODEL_0ecec971b9ec4d28bcae3c792efb8c2f",
            "max": 791656,
            "min": 0,
            "orientation": "horizontal",
            "style": "IPY_MODEL_5b0cf3c0f9cd453b98ff3e9ae4773e36",
            "value": 791656
          }
        },
        "08c5215df62944f5a92ca760d2636e91": {
          "model_module": "@jupyter-widgets/controls",
          "model_name": "HTMLModel",
          "model_module_version": "1.5.0",
          "state": {
            "_dom_classes": [],
            "_model_module": "@jupyter-widgets/controls",
            "_model_module_version": "1.5.0",
            "_model_name": "HTMLModel",
            "_view_count": null,
            "_view_module": "@jupyter-widgets/controls",
            "_view_module_version": "1.5.0",
            "_view_name": "HTMLView",
            "description": "",
            "description_tooltip": null,
            "layout": "IPY_MODEL_87b2a8d583344fbf9d4b84c1faf50ce9",
            "placeholder": "​",
            "style": "IPY_MODEL_eea428e9d7eb44f895b480323f288895",
            "value": " 773k/773k [00:00&lt;00:00, 1.03MB/s]"
          }
        },
        "be1225f63c594143b741606f3a36fb5b": {
          "model_module": "@jupyter-widgets/base",
          "model_name": "LayoutModel",
          "model_module_version": "1.2.0",
          "state": {
            "_model_module": "@jupyter-widgets/base",
            "_model_module_version": "1.2.0",
            "_model_name": "LayoutModel",
            "_view_count": null,
            "_view_module": "@jupyter-widgets/base",
            "_view_module_version": "1.2.0",
            "_view_name": "LayoutView",
            "align_content": null,
            "align_items": null,
            "align_self": null,
            "border": null,
            "bottom": null,
            "display": null,
            "flex": null,
            "flex_flow": null,
            "grid_area": null,
            "grid_auto_columns": null,
            "grid_auto_flow": null,
            "grid_auto_rows": null,
            "grid_column": null,
            "grid_gap": null,
            "grid_row": null,
            "grid_template_areas": null,
            "grid_template_columns": null,
            "grid_template_rows": null,
            "height": null,
            "justify_content": null,
            "justify_items": null,
            "left": null,
            "margin": null,
            "max_height": null,
            "max_width": null,
            "min_height": null,
            "min_width": null,
            "object_fit": null,
            "object_position": null,
            "order": null,
            "overflow": null,
            "overflow_x": null,
            "overflow_y": null,
            "padding": null,
            "right": null,
            "top": null,
            "visibility": null,
            "width": null
          }
        },
        "ecd24f199f9645fd859ce0320eb40c39": {
          "model_module": "@jupyter-widgets/base",
          "model_name": "LayoutModel",
          "model_module_version": "1.2.0",
          "state": {
            "_model_module": "@jupyter-widgets/base",
            "_model_module_version": "1.2.0",
            "_model_name": "LayoutModel",
            "_view_count": null,
            "_view_module": "@jupyter-widgets/base",
            "_view_module_version": "1.2.0",
            "_view_name": "LayoutView",
            "align_content": null,
            "align_items": null,
            "align_self": null,
            "border": null,
            "bottom": null,
            "display": null,
            "flex": null,
            "flex_flow": null,
            "grid_area": null,
            "grid_auto_columns": null,
            "grid_auto_flow": null,
            "grid_auto_rows": null,
            "grid_column": null,
            "grid_gap": null,
            "grid_row": null,
            "grid_template_areas": null,
            "grid_template_columns": null,
            "grid_template_rows": null,
            "height": null,
            "justify_content": null,
            "justify_items": null,
            "left": null,
            "margin": null,
            "max_height": null,
            "max_width": null,
            "min_height": null,
            "min_width": null,
            "object_fit": null,
            "object_position": null,
            "order": null,
            "overflow": null,
            "overflow_x": null,
            "overflow_y": null,
            "padding": null,
            "right": null,
            "top": null,
            "visibility": null,
            "width": null
          }
        },
        "9f8e3179d9a242a5b28490dae4032c6d": {
          "model_module": "@jupyter-widgets/controls",
          "model_name": "DescriptionStyleModel",
          "model_module_version": "1.5.0",
          "state": {
            "_model_module": "@jupyter-widgets/controls",
            "_model_module_version": "1.5.0",
            "_model_name": "DescriptionStyleModel",
            "_view_count": null,
            "_view_module": "@jupyter-widgets/base",
            "_view_module_version": "1.2.0",
            "_view_name": "StyleView",
            "description_width": ""
          }
        },
        "0ecec971b9ec4d28bcae3c792efb8c2f": {
          "model_module": "@jupyter-widgets/base",
          "model_name": "LayoutModel",
          "model_module_version": "1.2.0",
          "state": {
            "_model_module": "@jupyter-widgets/base",
            "_model_module_version": "1.2.0",
            "_model_name": "LayoutModel",
            "_view_count": null,
            "_view_module": "@jupyter-widgets/base",
            "_view_module_version": "1.2.0",
            "_view_name": "LayoutView",
            "align_content": null,
            "align_items": null,
            "align_self": null,
            "border": null,
            "bottom": null,
            "display": null,
            "flex": null,
            "flex_flow": null,
            "grid_area": null,
            "grid_auto_columns": null,
            "grid_auto_flow": null,
            "grid_auto_rows": null,
            "grid_column": null,
            "grid_gap": null,
            "grid_row": null,
            "grid_template_areas": null,
            "grid_template_columns": null,
            "grid_template_rows": null,
            "height": null,
            "justify_content": null,
            "justify_items": null,
            "left": null,
            "margin": null,
            "max_height": null,
            "max_width": null,
            "min_height": null,
            "min_width": null,
            "object_fit": null,
            "object_position": null,
            "order": null,
            "overflow": null,
            "overflow_x": null,
            "overflow_y": null,
            "padding": null,
            "right": null,
            "top": null,
            "visibility": null,
            "width": null
          }
        },
        "5b0cf3c0f9cd453b98ff3e9ae4773e36": {
          "model_module": "@jupyter-widgets/controls",
          "model_name": "ProgressStyleModel",
          "model_module_version": "1.5.0",
          "state": {
            "_model_module": "@jupyter-widgets/controls",
            "_model_module_version": "1.5.0",
            "_model_name": "ProgressStyleModel",
            "_view_count": null,
            "_view_module": "@jupyter-widgets/base",
            "_view_module_version": "1.2.0",
            "_view_name": "StyleView",
            "bar_color": null,
            "description_width": ""
          }
        },
        "87b2a8d583344fbf9d4b84c1faf50ce9": {
          "model_module": "@jupyter-widgets/base",
          "model_name": "LayoutModel",
          "model_module_version": "1.2.0",
          "state": {
            "_model_module": "@jupyter-widgets/base",
            "_model_module_version": "1.2.0",
            "_model_name": "LayoutModel",
            "_view_count": null,
            "_view_module": "@jupyter-widgets/base",
            "_view_module_version": "1.2.0",
            "_view_name": "LayoutView",
            "align_content": null,
            "align_items": null,
            "align_self": null,
            "border": null,
            "bottom": null,
            "display": null,
            "flex": null,
            "flex_flow": null,
            "grid_area": null,
            "grid_auto_columns": null,
            "grid_auto_flow": null,
            "grid_auto_rows": null,
            "grid_column": null,
            "grid_gap": null,
            "grid_row": null,
            "grid_template_areas": null,
            "grid_template_columns": null,
            "grid_template_rows": null,
            "height": null,
            "justify_content": null,
            "justify_items": null,
            "left": null,
            "margin": null,
            "max_height": null,
            "max_width": null,
            "min_height": null,
            "min_width": null,
            "object_fit": null,
            "object_position": null,
            "order": null,
            "overflow": null,
            "overflow_x": null,
            "overflow_y": null,
            "padding": null,
            "right": null,
            "top": null,
            "visibility": null,
            "width": null
          }
        },
        "eea428e9d7eb44f895b480323f288895": {
          "model_module": "@jupyter-widgets/controls",
          "model_name": "DescriptionStyleModel",
          "model_module_version": "1.5.0",
          "state": {
            "_model_module": "@jupyter-widgets/controls",
            "_model_module_version": "1.5.0",
            "_model_name": "DescriptionStyleModel",
            "_view_count": null,
            "_view_module": "@jupyter-widgets/base",
            "_view_module_version": "1.2.0",
            "_view_name": "StyleView",
            "description_width": ""
          }
        },
        "7e83be4e21094059b49b7f98a5a44c66": {
          "model_module": "@jupyter-widgets/controls",
          "model_name": "HBoxModel",
          "model_module_version": "1.5.0",
          "state": {
            "_dom_classes": [],
            "_model_module": "@jupyter-widgets/controls",
            "_model_module_version": "1.5.0",
            "_model_name": "HBoxModel",
            "_view_count": null,
            "_view_module": "@jupyter-widgets/controls",
            "_view_module_version": "1.5.0",
            "_view_name": "HBoxView",
            "box_style": "",
            "children": [
              "IPY_MODEL_e17968a2289b443888ec93a11f06214c",
              "IPY_MODEL_5ab874a7e17f49ae94341e432cc30fc7",
              "IPY_MODEL_bbbfb0b3c981402cb13c9843528ff9e9"
            ],
            "layout": "IPY_MODEL_8b0425e0fdd843cf86085d51386976a7"
          }
        },
        "e17968a2289b443888ec93a11f06214c": {
          "model_module": "@jupyter-widgets/controls",
          "model_name": "HTMLModel",
          "model_module_version": "1.5.0",
          "state": {
            "_dom_classes": [],
            "_model_module": "@jupyter-widgets/controls",
            "_model_module_version": "1.5.0",
            "_model_name": "HTMLModel",
            "_view_count": null,
            "_view_module": "@jupyter-widgets/controls",
            "_view_module_version": "1.5.0",
            "_view_name": "HTMLView",
            "description": "",
            "description_tooltip": null,
            "layout": "IPY_MODEL_858b5508b9fb46358c399f98918c87fb",
            "placeholder": "​",
            "style": "IPY_MODEL_303f2508a3c14980b6f28d92fe621b6e",
            "value": "Downloading tokenizer.json: 100%"
          }
        },
        "5ab874a7e17f49ae94341e432cc30fc7": {
          "model_module": "@jupyter-widgets/controls",
          "model_name": "FloatProgressModel",
          "model_module_version": "1.5.0",
          "state": {
            "_dom_classes": [],
            "_model_module": "@jupyter-widgets/controls",
            "_model_module_version": "1.5.0",
            "_model_name": "FloatProgressModel",
            "_view_count": null,
            "_view_module": "@jupyter-widgets/controls",
            "_view_module_version": "1.5.0",
            "_view_name": "ProgressView",
            "bar_style": "success",
            "description": "",
            "description_tooltip": null,
            "layout": "IPY_MODEL_b9ccc05924ac488299a283e878d5c01d",
            "max": 1387438,
            "min": 0,
            "orientation": "horizontal",
            "style": "IPY_MODEL_a7c1fc7212534b609191fded5c76e006",
            "value": 1387438
          }
        },
        "bbbfb0b3c981402cb13c9843528ff9e9": {
          "model_module": "@jupyter-widgets/controls",
          "model_name": "HTMLModel",
          "model_module_version": "1.5.0",
          "state": {
            "_dom_classes": [],
            "_model_module": "@jupyter-widgets/controls",
            "_model_module_version": "1.5.0",
            "_model_name": "HTMLModel",
            "_view_count": null,
            "_view_module": "@jupyter-widgets/controls",
            "_view_module_version": "1.5.0",
            "_view_name": "HTMLView",
            "description": "",
            "description_tooltip": null,
            "layout": "IPY_MODEL_69c81f2d4cbf41968be46c48aad487cc",
            "placeholder": "​",
            "style": "IPY_MODEL_cb6e69b503fb4f64916314fe6043f537",
            "value": " 1.32M/1.32M [00:01&lt;00:00, 1.40MB/s]"
          }
        },
        "8b0425e0fdd843cf86085d51386976a7": {
          "model_module": "@jupyter-widgets/base",
          "model_name": "LayoutModel",
          "model_module_version": "1.2.0",
          "state": {
            "_model_module": "@jupyter-widgets/base",
            "_model_module_version": "1.2.0",
            "_model_name": "LayoutModel",
            "_view_count": null,
            "_view_module": "@jupyter-widgets/base",
            "_view_module_version": "1.2.0",
            "_view_name": "LayoutView",
            "align_content": null,
            "align_items": null,
            "align_self": null,
            "border": null,
            "bottom": null,
            "display": null,
            "flex": null,
            "flex_flow": null,
            "grid_area": null,
            "grid_auto_columns": null,
            "grid_auto_flow": null,
            "grid_auto_rows": null,
            "grid_column": null,
            "grid_gap": null,
            "grid_row": null,
            "grid_template_areas": null,
            "grid_template_columns": null,
            "grid_template_rows": null,
            "height": null,
            "justify_content": null,
            "justify_items": null,
            "left": null,
            "margin": null,
            "max_height": null,
            "max_width": null,
            "min_height": null,
            "min_width": null,
            "object_fit": null,
            "object_position": null,
            "order": null,
            "overflow": null,
            "overflow_x": null,
            "overflow_y": null,
            "padding": null,
            "right": null,
            "top": null,
            "visibility": null,
            "width": null
          }
        },
        "858b5508b9fb46358c399f98918c87fb": {
          "model_module": "@jupyter-widgets/base",
          "model_name": "LayoutModel",
          "model_module_version": "1.2.0",
          "state": {
            "_model_module": "@jupyter-widgets/base",
            "_model_module_version": "1.2.0",
            "_model_name": "LayoutModel",
            "_view_count": null,
            "_view_module": "@jupyter-widgets/base",
            "_view_module_version": "1.2.0",
            "_view_name": "LayoutView",
            "align_content": null,
            "align_items": null,
            "align_self": null,
            "border": null,
            "bottom": null,
            "display": null,
            "flex": null,
            "flex_flow": null,
            "grid_area": null,
            "grid_auto_columns": null,
            "grid_auto_flow": null,
            "grid_auto_rows": null,
            "grid_column": null,
            "grid_gap": null,
            "grid_row": null,
            "grid_template_areas": null,
            "grid_template_columns": null,
            "grid_template_rows": null,
            "height": null,
            "justify_content": null,
            "justify_items": null,
            "left": null,
            "margin": null,
            "max_height": null,
            "max_width": null,
            "min_height": null,
            "min_width": null,
            "object_fit": null,
            "object_position": null,
            "order": null,
            "overflow": null,
            "overflow_x": null,
            "overflow_y": null,
            "padding": null,
            "right": null,
            "top": null,
            "visibility": null,
            "width": null
          }
        },
        "303f2508a3c14980b6f28d92fe621b6e": {
          "model_module": "@jupyter-widgets/controls",
          "model_name": "DescriptionStyleModel",
          "model_module_version": "1.5.0",
          "state": {
            "_model_module": "@jupyter-widgets/controls",
            "_model_module_version": "1.5.0",
            "_model_name": "DescriptionStyleModel",
            "_view_count": null,
            "_view_module": "@jupyter-widgets/base",
            "_view_module_version": "1.2.0",
            "_view_name": "StyleView",
            "description_width": ""
          }
        },
        "b9ccc05924ac488299a283e878d5c01d": {
          "model_module": "@jupyter-widgets/base",
          "model_name": "LayoutModel",
          "model_module_version": "1.2.0",
          "state": {
            "_model_module": "@jupyter-widgets/base",
            "_model_module_version": "1.2.0",
            "_model_name": "LayoutModel",
            "_view_count": null,
            "_view_module": "@jupyter-widgets/base",
            "_view_module_version": "1.2.0",
            "_view_name": "LayoutView",
            "align_content": null,
            "align_items": null,
            "align_self": null,
            "border": null,
            "bottom": null,
            "display": null,
            "flex": null,
            "flex_flow": null,
            "grid_area": null,
            "grid_auto_columns": null,
            "grid_auto_flow": null,
            "grid_auto_rows": null,
            "grid_column": null,
            "grid_gap": null,
            "grid_row": null,
            "grid_template_areas": null,
            "grid_template_columns": null,
            "grid_template_rows": null,
            "height": null,
            "justify_content": null,
            "justify_items": null,
            "left": null,
            "margin": null,
            "max_height": null,
            "max_width": null,
            "min_height": null,
            "min_width": null,
            "object_fit": null,
            "object_position": null,
            "order": null,
            "overflow": null,
            "overflow_x": null,
            "overflow_y": null,
            "padding": null,
            "right": null,
            "top": null,
            "visibility": null,
            "width": null
          }
        },
        "a7c1fc7212534b609191fded5c76e006": {
          "model_module": "@jupyter-widgets/controls",
          "model_name": "ProgressStyleModel",
          "model_module_version": "1.5.0",
          "state": {
            "_model_module": "@jupyter-widgets/controls",
            "_model_module_version": "1.5.0",
            "_model_name": "ProgressStyleModel",
            "_view_count": null,
            "_view_module": "@jupyter-widgets/base",
            "_view_module_version": "1.2.0",
            "_view_name": "StyleView",
            "bar_color": null,
            "description_width": ""
          }
        },
        "69c81f2d4cbf41968be46c48aad487cc": {
          "model_module": "@jupyter-widgets/base",
          "model_name": "LayoutModel",
          "model_module_version": "1.2.0",
          "state": {
            "_model_module": "@jupyter-widgets/base",
            "_model_module_version": "1.2.0",
            "_model_name": "LayoutModel",
            "_view_count": null,
            "_view_module": "@jupyter-widgets/base",
            "_view_module_version": "1.2.0",
            "_view_name": "LayoutView",
            "align_content": null,
            "align_items": null,
            "align_self": null,
            "border": null,
            "bottom": null,
            "display": null,
            "flex": null,
            "flex_flow": null,
            "grid_area": null,
            "grid_auto_columns": null,
            "grid_auto_flow": null,
            "grid_auto_rows": null,
            "grid_column": null,
            "grid_gap": null,
            "grid_row": null,
            "grid_template_areas": null,
            "grid_template_columns": null,
            "grid_template_rows": null,
            "height": null,
            "justify_content": null,
            "justify_items": null,
            "left": null,
            "margin": null,
            "max_height": null,
            "max_width": null,
            "min_height": null,
            "min_width": null,
            "object_fit": null,
            "object_position": null,
            "order": null,
            "overflow": null,
            "overflow_x": null,
            "overflow_y": null,
            "padding": null,
            "right": null,
            "top": null,
            "visibility": null,
            "width": null
          }
        },
        "cb6e69b503fb4f64916314fe6043f537": {
          "model_module": "@jupyter-widgets/controls",
          "model_name": "DescriptionStyleModel",
          "model_module_version": "1.5.0",
          "state": {
            "_model_module": "@jupyter-widgets/controls",
            "_model_module_version": "1.5.0",
            "_model_name": "DescriptionStyleModel",
            "_view_count": null,
            "_view_module": "@jupyter-widgets/base",
            "_view_module_version": "1.2.0",
            "_view_name": "StyleView",
            "description_width": ""
          }
        },
        "04f0b9f3e251413cb60011dcfe776d59": {
          "model_module": "@jupyter-widgets/controls",
          "model_name": "HBoxModel",
          "model_module_version": "1.5.0",
          "state": {
            "_dom_classes": [],
            "_model_module": "@jupyter-widgets/controls",
            "_model_module_version": "1.5.0",
            "_model_name": "HBoxModel",
            "_view_count": null,
            "_view_module": "@jupyter-widgets/controls",
            "_view_module_version": "1.5.0",
            "_view_name": "HBoxView",
            "box_style": "",
            "children": [
              "IPY_MODEL_b7bf65ec49664ab8ba95d35e9b1ef778",
              "IPY_MODEL_63d942aff35746f5afbdff76fb5b1b88",
              "IPY_MODEL_9c8dbdb6bf66449fafc3730fb5876cd3"
            ],
            "layout": "IPY_MODEL_4f894d108cc9449fa31dc91caa760477"
          }
        },
        "b7bf65ec49664ab8ba95d35e9b1ef778": {
          "model_module": "@jupyter-widgets/controls",
          "model_name": "HTMLModel",
          "model_module_version": "1.5.0",
          "state": {
            "_dom_classes": [],
            "_model_module": "@jupyter-widgets/controls",
            "_model_module_version": "1.5.0",
            "_model_name": "HTMLModel",
            "_view_count": null,
            "_view_module": "@jupyter-widgets/controls",
            "_view_module_version": "1.5.0",
            "_view_name": "HTMLView",
            "description": "",
            "description_tooltip": null,
            "layout": "IPY_MODEL_920332d020ad4c8fb952cff8d3aa8278",
            "placeholder": "​",
            "style": "IPY_MODEL_ab19a0bf01af4809b9db5c741544ec4f",
            "value": "Downloading special_tokens_map.json: 100%"
          }
        },
        "63d942aff35746f5afbdff76fb5b1b88": {
          "model_module": "@jupyter-widgets/controls",
          "model_name": "FloatProgressModel",
          "model_module_version": "1.5.0",
          "state": {
            "_dom_classes": [],
            "_model_module": "@jupyter-widgets/controls",
            "_model_module_version": "1.5.0",
            "_model_name": "FloatProgressModel",
            "_view_count": null,
            "_view_module": "@jupyter-widgets/controls",
            "_view_module_version": "1.5.0",
            "_view_name": "ProgressView",
            "bar_style": "success",
            "description": "",
            "description_tooltip": null,
            "layout": "IPY_MODEL_d0284cb8e23b4d3a96d582d27ae22a80",
            "max": 1786,
            "min": 0,
            "orientation": "horizontal",
            "style": "IPY_MODEL_3769ae99197c4391860b8bc75d372e6f",
            "value": 1786
          }
        },
        "9c8dbdb6bf66449fafc3730fb5876cd3": {
          "model_module": "@jupyter-widgets/controls",
          "model_name": "HTMLModel",
          "model_module_version": "1.5.0",
          "state": {
            "_dom_classes": [],
            "_model_module": "@jupyter-widgets/controls",
            "_model_module_version": "1.5.0",
            "_model_name": "HTMLModel",
            "_view_count": null,
            "_view_module": "@jupyter-widgets/controls",
            "_view_module_version": "1.5.0",
            "_view_name": "HTMLView",
            "description": "",
            "description_tooltip": null,
            "layout": "IPY_MODEL_ff0169ff405942b287be592844473573",
            "placeholder": "​",
            "style": "IPY_MODEL_361399071d864869b654e6da3f4d5200",
            "value": " 1.74k/1.74k [00:00&lt;00:00, 42.3kB/s]"
          }
        },
        "4f894d108cc9449fa31dc91caa760477": {
          "model_module": "@jupyter-widgets/base",
          "model_name": "LayoutModel",
          "model_module_version": "1.2.0",
          "state": {
            "_model_module": "@jupyter-widgets/base",
            "_model_module_version": "1.2.0",
            "_model_name": "LayoutModel",
            "_view_count": null,
            "_view_module": "@jupyter-widgets/base",
            "_view_module_version": "1.2.0",
            "_view_name": "LayoutView",
            "align_content": null,
            "align_items": null,
            "align_self": null,
            "border": null,
            "bottom": null,
            "display": null,
            "flex": null,
            "flex_flow": null,
            "grid_area": null,
            "grid_auto_columns": null,
            "grid_auto_flow": null,
            "grid_auto_rows": null,
            "grid_column": null,
            "grid_gap": null,
            "grid_row": null,
            "grid_template_areas": null,
            "grid_template_columns": null,
            "grid_template_rows": null,
            "height": null,
            "justify_content": null,
            "justify_items": null,
            "left": null,
            "margin": null,
            "max_height": null,
            "max_width": null,
            "min_height": null,
            "min_width": null,
            "object_fit": null,
            "object_position": null,
            "order": null,
            "overflow": null,
            "overflow_x": null,
            "overflow_y": null,
            "padding": null,
            "right": null,
            "top": null,
            "visibility": null,
            "width": null
          }
        },
        "920332d020ad4c8fb952cff8d3aa8278": {
          "model_module": "@jupyter-widgets/base",
          "model_name": "LayoutModel",
          "model_module_version": "1.2.0",
          "state": {
            "_model_module": "@jupyter-widgets/base",
            "_model_module_version": "1.2.0",
            "_model_name": "LayoutModel",
            "_view_count": null,
            "_view_module": "@jupyter-widgets/base",
            "_view_module_version": "1.2.0",
            "_view_name": "LayoutView",
            "align_content": null,
            "align_items": null,
            "align_self": null,
            "border": null,
            "bottom": null,
            "display": null,
            "flex": null,
            "flex_flow": null,
            "grid_area": null,
            "grid_auto_columns": null,
            "grid_auto_flow": null,
            "grid_auto_rows": null,
            "grid_column": null,
            "grid_gap": null,
            "grid_row": null,
            "grid_template_areas": null,
            "grid_template_columns": null,
            "grid_template_rows": null,
            "height": null,
            "justify_content": null,
            "justify_items": null,
            "left": null,
            "margin": null,
            "max_height": null,
            "max_width": null,
            "min_height": null,
            "min_width": null,
            "object_fit": null,
            "object_position": null,
            "order": null,
            "overflow": null,
            "overflow_x": null,
            "overflow_y": null,
            "padding": null,
            "right": null,
            "top": null,
            "visibility": null,
            "width": null
          }
        },
        "ab19a0bf01af4809b9db5c741544ec4f": {
          "model_module": "@jupyter-widgets/controls",
          "model_name": "DescriptionStyleModel",
          "model_module_version": "1.5.0",
          "state": {
            "_model_module": "@jupyter-widgets/controls",
            "_model_module_version": "1.5.0",
            "_model_name": "DescriptionStyleModel",
            "_view_count": null,
            "_view_module": "@jupyter-widgets/base",
            "_view_module_version": "1.2.0",
            "_view_name": "StyleView",
            "description_width": ""
          }
        },
        "d0284cb8e23b4d3a96d582d27ae22a80": {
          "model_module": "@jupyter-widgets/base",
          "model_name": "LayoutModel",
          "model_module_version": "1.2.0",
          "state": {
            "_model_module": "@jupyter-widgets/base",
            "_model_module_version": "1.2.0",
            "_model_name": "LayoutModel",
            "_view_count": null,
            "_view_module": "@jupyter-widgets/base",
            "_view_module_version": "1.2.0",
            "_view_name": "LayoutView",
            "align_content": null,
            "align_items": null,
            "align_self": null,
            "border": null,
            "bottom": null,
            "display": null,
            "flex": null,
            "flex_flow": null,
            "grid_area": null,
            "grid_auto_columns": null,
            "grid_auto_flow": null,
            "grid_auto_rows": null,
            "grid_column": null,
            "grid_gap": null,
            "grid_row": null,
            "grid_template_areas": null,
            "grid_template_columns": null,
            "grid_template_rows": null,
            "height": null,
            "justify_content": null,
            "justify_items": null,
            "left": null,
            "margin": null,
            "max_height": null,
            "max_width": null,
            "min_height": null,
            "min_width": null,
            "object_fit": null,
            "object_position": null,
            "order": null,
            "overflow": null,
            "overflow_x": null,
            "overflow_y": null,
            "padding": null,
            "right": null,
            "top": null,
            "visibility": null,
            "width": null
          }
        },
        "3769ae99197c4391860b8bc75d372e6f": {
          "model_module": "@jupyter-widgets/controls",
          "model_name": "ProgressStyleModel",
          "model_module_version": "1.5.0",
          "state": {
            "_model_module": "@jupyter-widgets/controls",
            "_model_module_version": "1.5.0",
            "_model_name": "ProgressStyleModel",
            "_view_count": null,
            "_view_module": "@jupyter-widgets/base",
            "_view_module_version": "1.2.0",
            "_view_name": "StyleView",
            "bar_color": null,
            "description_width": ""
          }
        },
        "ff0169ff405942b287be592844473573": {
          "model_module": "@jupyter-widgets/base",
          "model_name": "LayoutModel",
          "model_module_version": "1.2.0",
          "state": {
            "_model_module": "@jupyter-widgets/base",
            "_model_module_version": "1.2.0",
            "_model_name": "LayoutModel",
            "_view_count": null,
            "_view_module": "@jupyter-widgets/base",
            "_view_module_version": "1.2.0",
            "_view_name": "LayoutView",
            "align_content": null,
            "align_items": null,
            "align_self": null,
            "border": null,
            "bottom": null,
            "display": null,
            "flex": null,
            "flex_flow": null,
            "grid_area": null,
            "grid_auto_columns": null,
            "grid_auto_flow": null,
            "grid_auto_rows": null,
            "grid_column": null,
            "grid_gap": null,
            "grid_row": null,
            "grid_template_areas": null,
            "grid_template_columns": null,
            "grid_template_rows": null,
            "height": null,
            "justify_content": null,
            "justify_items": null,
            "left": null,
            "margin": null,
            "max_height": null,
            "max_width": null,
            "min_height": null,
            "min_width": null,
            "object_fit": null,
            "object_position": null,
            "order": null,
            "overflow": null,
            "overflow_x": null,
            "overflow_y": null,
            "padding": null,
            "right": null,
            "top": null,
            "visibility": null,
            "width": null
          }
        },
        "361399071d864869b654e6da3f4d5200": {
          "model_module": "@jupyter-widgets/controls",
          "model_name": "DescriptionStyleModel",
          "model_module_version": "1.5.0",
          "state": {
            "_model_module": "@jupyter-widgets/controls",
            "_model_module_version": "1.5.0",
            "_model_name": "DescriptionStyleModel",
            "_view_count": null,
            "_view_module": "@jupyter-widgets/base",
            "_view_module_version": "1.2.0",
            "_view_name": "StyleView",
            "description_width": ""
          }
        }
      }
    }
  },
  "cells": [
    {
      "cell_type": "markdown",
      "metadata": {
        "id": "view-in-github",
        "colab_type": "text"
      },
      "source": [
        "<a href=\"https://colab.research.google.com/github/plaban1981/Hugging_Face_transformers_topics/blob/main/Grammar_Correction.ipynb\" target=\"_parent\"><img src=\"https://colab.research.google.com/assets/colab-badge.svg\" alt=\"Open In Colab\"/></a>"
      ]
    },
    {
      "cell_type": "code",
      "execution_count": 1,
      "metadata": {
        "colab": {
          "base_uri": "https://localhost:8080/"
        },
        "id": "bbl-CVUFiOx7",
        "outputId": "816d89c3-3ca6-4146-da16-537cbcb95df4"
      },
      "outputs": [
        {
          "output_type": "stream",
          "name": "stdout",
          "text": [
            "Looking in indexes: https://pypi.org/simple, https://us-python.pkg.dev/colab-wheels/public/simple/\n",
            "Collecting transformers\n",
            "  Downloading transformers-4.21.2-py3-none-any.whl (4.7 MB)\n",
            "\u001b[K     |████████████████████████████████| 4.7 MB 4.1 MB/s \n",
            "\u001b[?25hRequirement already satisfied: numpy>=1.17 in /usr/local/lib/python3.7/dist-packages (from transformers) (1.21.6)\n",
            "Requirement already satisfied: tqdm>=4.27 in /usr/local/lib/python3.7/dist-packages (from transformers) (4.64.0)\n",
            "Requirement already satisfied: importlib-metadata in /usr/local/lib/python3.7/dist-packages (from transformers) (4.12.0)\n",
            "Requirement already satisfied: regex!=2019.12.17 in /usr/local/lib/python3.7/dist-packages (from transformers) (2022.6.2)\n",
            "Requirement already satisfied: requests in /usr/local/lib/python3.7/dist-packages (from transformers) (2.23.0)\n",
            "Collecting tokenizers!=0.11.3,<0.13,>=0.11.1\n",
            "  Downloading tokenizers-0.12.1-cp37-cp37m-manylinux_2_12_x86_64.manylinux2010_x86_64.whl (6.6 MB)\n",
            "\u001b[K     |████████████████████████████████| 6.6 MB 28.1 MB/s \n",
            "\u001b[?25hRequirement already satisfied: filelock in /usr/local/lib/python3.7/dist-packages (from transformers) (3.8.0)\n",
            "Collecting huggingface-hub<1.0,>=0.1.0\n",
            "  Downloading huggingface_hub-0.9.1-py3-none-any.whl (120 kB)\n",
            "\u001b[K     |████████████████████████████████| 120 kB 43.9 MB/s \n",
            "\u001b[?25hRequirement already satisfied: packaging>=20.0 in /usr/local/lib/python3.7/dist-packages (from transformers) (21.3)\n",
            "Requirement already satisfied: pyyaml>=5.1 in /usr/local/lib/python3.7/dist-packages (from transformers) (6.0)\n",
            "Requirement already satisfied: typing-extensions>=3.7.4.3 in /usr/local/lib/python3.7/dist-packages (from huggingface-hub<1.0,>=0.1.0->transformers) (4.1.1)\n",
            "Requirement already satisfied: pyparsing!=3.0.5,>=2.0.2 in /usr/local/lib/python3.7/dist-packages (from packaging>=20.0->transformers) (3.0.9)\n",
            "Requirement already satisfied: zipp>=0.5 in /usr/local/lib/python3.7/dist-packages (from importlib-metadata->transformers) (3.8.1)\n",
            "Requirement already satisfied: chardet<4,>=3.0.2 in /usr/local/lib/python3.7/dist-packages (from requests->transformers) (3.0.4)\n",
            "Requirement already satisfied: idna<3,>=2.5 in /usr/local/lib/python3.7/dist-packages (from requests->transformers) (2.10)\n",
            "Requirement already satisfied: certifi>=2017.4.17 in /usr/local/lib/python3.7/dist-packages (from requests->transformers) (2022.6.15)\n",
            "Requirement already satisfied: urllib3!=1.25.0,!=1.25.1,<1.26,>=1.21.1 in /usr/local/lib/python3.7/dist-packages (from requests->transformers) (1.24.3)\n",
            "Installing collected packages: tokenizers, huggingface-hub, transformers\n",
            "Successfully installed huggingface-hub-0.9.1 tokenizers-0.12.1 transformers-4.21.2\n"
          ]
        }
      ],
      "source": [
        "!pip install transformers"
      ]
    },
    {
      "cell_type": "code",
      "source": [
        "pip install happytransformer"
      ],
      "metadata": {
        "colab": {
          "base_uri": "https://localhost:8080/"
        },
        "id": "nKQi6J7wjiaP",
        "outputId": "30a8c10b-f4a8-442c-c6a9-074ae6cc064a"
      },
      "execution_count": 4,
      "outputs": [
        {
          "output_type": "stream",
          "name": "stdout",
          "text": [
            "Looking in indexes: https://pypi.org/simple, https://us-python.pkg.dev/colab-wheels/public/simple/\n",
            "Collecting happytransformer\n",
            "  Downloading happytransformer-2.4.1-py3-none-any.whl (45 kB)\n",
            "\u001b[K     |████████████████████████████████| 45 kB 1.7 MB/s \n",
            "\u001b[?25hRequirement already satisfied: transformers>=4.4.0 in /usr/local/lib/python3.7/dist-packages (from happytransformer) (4.21.2)\n",
            "Requirement already satisfied: tqdm>=4.43 in /usr/local/lib/python3.7/dist-packages (from happytransformer) (4.64.0)\n",
            "Requirement already satisfied: torch>=1.0 in /usr/local/lib/python3.7/dist-packages (from happytransformer) (1.12.1+cu113)\n",
            "Collecting sentencepiece\n",
            "  Downloading sentencepiece-0.1.97-cp37-cp37m-manylinux_2_17_x86_64.manylinux2014_x86_64.whl (1.3 MB)\n",
            "\u001b[K     |████████████████████████████████| 1.3 MB 6.8 MB/s \n",
            "\u001b[?25hCollecting datasets>=1.6.0\n",
            "  Downloading datasets-2.4.0-py3-none-any.whl (365 kB)\n",
            "\u001b[K     |████████████████████████████████| 365 kB 44.4 MB/s \n",
            "\u001b[?25hRequirement already satisfied: protobuf in /usr/local/lib/python3.7/dist-packages (from happytransformer) (3.17.3)\n",
            "Collecting responses<0.19\n",
            "  Downloading responses-0.18.0-py3-none-any.whl (38 kB)\n",
            "Requirement already satisfied: huggingface-hub<1.0.0,>=0.1.0 in /usr/local/lib/python3.7/dist-packages (from datasets>=1.6.0->happytransformer) (0.9.1)\n",
            "Requirement already satisfied: requests>=2.19.0 in /usr/local/lib/python3.7/dist-packages (from datasets>=1.6.0->happytransformer) (2.23.0)\n",
            "Requirement already satisfied: pyarrow>=6.0.0 in /usr/local/lib/python3.7/dist-packages (from datasets>=1.6.0->happytransformer) (6.0.1)\n",
            "Requirement already satisfied: fsspec[http]>=2021.11.1 in /usr/local/lib/python3.7/dist-packages (from datasets>=1.6.0->happytransformer) (2022.7.1)\n",
            "Collecting multiprocess\n",
            "  Downloading multiprocess-0.70.13-py37-none-any.whl (115 kB)\n",
            "\u001b[K     |████████████████████████████████| 115 kB 49.0 MB/s \n",
            "\u001b[?25hRequirement already satisfied: pandas in /usr/local/lib/python3.7/dist-packages (from datasets>=1.6.0->happytransformer) (1.3.5)\n",
            "Requirement already satisfied: packaging in /usr/local/lib/python3.7/dist-packages (from datasets>=1.6.0->happytransformer) (21.3)\n",
            "Requirement already satisfied: aiohttp in /usr/local/lib/python3.7/dist-packages (from datasets>=1.6.0->happytransformer) (3.8.1)\n",
            "Requirement already satisfied: numpy>=1.17 in /usr/local/lib/python3.7/dist-packages (from datasets>=1.6.0->happytransformer) (1.21.6)\n",
            "Requirement already satisfied: importlib-metadata in /usr/local/lib/python3.7/dist-packages (from datasets>=1.6.0->happytransformer) (4.12.0)\n",
            "Requirement already satisfied: dill<0.3.6 in /usr/local/lib/python3.7/dist-packages (from datasets>=1.6.0->happytransformer) (0.3.5.1)\n",
            "Collecting xxhash\n",
            "  Downloading xxhash-3.0.0-cp37-cp37m-manylinux_2_17_x86_64.manylinux2014_x86_64.whl (212 kB)\n",
            "\u001b[K     |████████████████████████████████| 212 kB 49.5 MB/s \n",
            "\u001b[?25hRequirement already satisfied: pyyaml>=5.1 in /usr/local/lib/python3.7/dist-packages (from huggingface-hub<1.0.0,>=0.1.0->datasets>=1.6.0->happytransformer) (6.0)\n",
            "Requirement already satisfied: typing-extensions>=3.7.4.3 in /usr/local/lib/python3.7/dist-packages (from huggingface-hub<1.0.0,>=0.1.0->datasets>=1.6.0->happytransformer) (4.1.1)\n",
            "Requirement already satisfied: filelock in /usr/local/lib/python3.7/dist-packages (from huggingface-hub<1.0.0,>=0.1.0->datasets>=1.6.0->happytransformer) (3.8.0)\n",
            "Requirement already satisfied: pyparsing!=3.0.5,>=2.0.2 in /usr/local/lib/python3.7/dist-packages (from packaging->datasets>=1.6.0->happytransformer) (3.0.9)\n",
            "Requirement already satisfied: urllib3!=1.25.0,!=1.25.1,<1.26,>=1.21.1 in /usr/local/lib/python3.7/dist-packages (from requests>=2.19.0->datasets>=1.6.0->happytransformer) (1.24.3)\n",
            "Requirement already satisfied: chardet<4,>=3.0.2 in /usr/local/lib/python3.7/dist-packages (from requests>=2.19.0->datasets>=1.6.0->happytransformer) (3.0.4)\n",
            "Requirement already satisfied: idna<3,>=2.5 in /usr/local/lib/python3.7/dist-packages (from requests>=2.19.0->datasets>=1.6.0->happytransformer) (2.10)\n",
            "Requirement already satisfied: certifi>=2017.4.17 in /usr/local/lib/python3.7/dist-packages (from requests>=2.19.0->datasets>=1.6.0->happytransformer) (2022.6.15)\n",
            "Collecting urllib3!=1.25.0,!=1.25.1,<1.26,>=1.21.1\n",
            "  Downloading urllib3-1.25.11-py2.py3-none-any.whl (127 kB)\n",
            "\u001b[K     |████████████████████████████████| 127 kB 49.7 MB/s \n",
            "\u001b[?25hRequirement already satisfied: tokenizers!=0.11.3,<0.13,>=0.11.1 in /usr/local/lib/python3.7/dist-packages (from transformers>=4.4.0->happytransformer) (0.12.1)\n",
            "Requirement already satisfied: regex!=2019.12.17 in /usr/local/lib/python3.7/dist-packages (from transformers>=4.4.0->happytransformer) (2022.6.2)\n",
            "Requirement already satisfied: async-timeout<5.0,>=4.0.0a3 in /usr/local/lib/python3.7/dist-packages (from aiohttp->datasets>=1.6.0->happytransformer) (4.0.2)\n",
            "Requirement already satisfied: charset-normalizer<3.0,>=2.0 in /usr/local/lib/python3.7/dist-packages (from aiohttp->datasets>=1.6.0->happytransformer) (2.1.0)\n",
            "Requirement already satisfied: attrs>=17.3.0 in /usr/local/lib/python3.7/dist-packages (from aiohttp->datasets>=1.6.0->happytransformer) (22.1.0)\n",
            "Requirement already satisfied: multidict<7.0,>=4.5 in /usr/local/lib/python3.7/dist-packages (from aiohttp->datasets>=1.6.0->happytransformer) (6.0.2)\n",
            "Requirement already satisfied: frozenlist>=1.1.1 in /usr/local/lib/python3.7/dist-packages (from aiohttp->datasets>=1.6.0->happytransformer) (1.3.1)\n",
            "Requirement already satisfied: yarl<2.0,>=1.0 in /usr/local/lib/python3.7/dist-packages (from aiohttp->datasets>=1.6.0->happytransformer) (1.8.1)\n",
            "Requirement already satisfied: aiosignal>=1.1.2 in /usr/local/lib/python3.7/dist-packages (from aiohttp->datasets>=1.6.0->happytransformer) (1.2.0)\n",
            "Requirement already satisfied: asynctest==0.13.0 in /usr/local/lib/python3.7/dist-packages (from aiohttp->datasets>=1.6.0->happytransformer) (0.13.0)\n",
            "Requirement already satisfied: zipp>=0.5 in /usr/local/lib/python3.7/dist-packages (from importlib-metadata->datasets>=1.6.0->happytransformer) (3.8.1)\n",
            "Requirement already satisfied: python-dateutil>=2.7.3 in /usr/local/lib/python3.7/dist-packages (from pandas->datasets>=1.6.0->happytransformer) (2.8.2)\n",
            "Requirement already satisfied: pytz>=2017.3 in /usr/local/lib/python3.7/dist-packages (from pandas->datasets>=1.6.0->happytransformer) (2022.2.1)\n",
            "Requirement already satisfied: six>=1.5 in /usr/local/lib/python3.7/dist-packages (from python-dateutil>=2.7.3->pandas->datasets>=1.6.0->happytransformer) (1.15.0)\n",
            "Installing collected packages: urllib3, xxhash, responses, multiprocess, sentencepiece, datasets, happytransformer\n",
            "  Attempting uninstall: urllib3\n",
            "    Found existing installation: urllib3 1.24.3\n",
            "    Uninstalling urllib3-1.24.3:\n",
            "      Successfully uninstalled urllib3-1.24.3\n",
            "Successfully installed datasets-2.4.0 happytransformer-2.4.1 multiprocess-0.70.13 responses-0.18.0 sentencepiece-0.1.97 urllib3-1.25.11 xxhash-3.0.0\n"
          ]
        }
      ]
    },
    {
      "cell_type": "markdown",
      "source": [
        "## Model"
      ],
      "metadata": {
        "id": "NUBe1_wSjcQu"
      }
    },
    {
      "cell_type": "code",
      "source": [
        "from happytransformer import HappyTextToText, TTSettings"
      ],
      "metadata": {
        "id": "_F2xTKNWiYuv"
      },
      "execution_count": 5,
      "outputs": []
    },
    {
      "cell_type": "code",
      "source": [
        "happy_tt = HappyTextToText(\"T5\", \"vennify/t5-base-grammar-correction\")"
      ],
      "metadata": {
        "colab": {
          "base_uri": "https://localhost:8080/",
          "height": 209,
          "referenced_widgets": [
            "5beb5a275d1c4448b6be40662f39009e",
            "1f0359f1355442a8a737b37aa1408fc1",
            "d3855911eef248adb659f05a8da31394",
            "30fab765cdf24e289583daf322646dcc",
            "6c0b6ed211524e90aa0d4712f936c362",
            "ba60103e25fe4a15999104ea34db5d56",
            "1b55872512b548f5b4a110982f5bee33",
            "9ea05917ae864749b3ef530664e5b459",
            "9c3e7b37f78d48489a8300e259ea66a9",
            "a11596747bed4926b7bf4e2aba52ce59",
            "5c18ac26e2f84202bd3969b001bfd5ec",
            "364a5ab403b54fa0a636b382448abb8e",
            "b512f64d48d94a97a1038aec4e340558",
            "3ae40c636ddf49689a9e8ac0448c3ea1",
            "aaec5f7efda14f2d8a7c4ba33d371010",
            "08a8a2e5c01946fcb0ce62e06baa65ce",
            "f3880eda7c9640aab79bbb4b940f1127",
            "6f247e6930ad48199be7152ee7fe89b7",
            "32f02bfd65b1439e87e60833fb172066",
            "a16e4dd44d7640549d4d8dece191c520",
            "f753fd9353ef41dc8d81db04d74aafc4",
            "c5cd9b7874ba4ca7947e42c13888ed1b",
            "a3a2586d9e5246e2b370a85630133312",
            "1d20906d71b3449aaaeb997b1f7752b0",
            "c1dee4cc727e4e16bf302380ef37464f",
            "81059b7820ea4fbcb27edada2454cc29",
            "6af173fa8d564cee9aa14545134b8a07",
            "1fa0576f37c54bfd9ec3ae3897a976d7",
            "fafaa3eef14148b183d3ce45e23c87eb",
            "8ad4457f3b564229967415197163a64d",
            "d229c18b52044963a012547641d8dc1d",
            "552f46a7536442fbaf01b8dec81e85d9",
            "082bbf25c5c44a05afe4c6a0e96624b7",
            "edd89125fb254eee88bf18f40a7ba508",
            "e2e710f64acc48e4bcb20c39c774e402",
            "162ba289ab2741c9a929b94e62051a9f",
            "08c5215df62944f5a92ca760d2636e91",
            "be1225f63c594143b741606f3a36fb5b",
            "ecd24f199f9645fd859ce0320eb40c39",
            "9f8e3179d9a242a5b28490dae4032c6d",
            "0ecec971b9ec4d28bcae3c792efb8c2f",
            "5b0cf3c0f9cd453b98ff3e9ae4773e36",
            "87b2a8d583344fbf9d4b84c1faf50ce9",
            "eea428e9d7eb44f895b480323f288895",
            "7e83be4e21094059b49b7f98a5a44c66",
            "e17968a2289b443888ec93a11f06214c",
            "5ab874a7e17f49ae94341e432cc30fc7",
            "bbbfb0b3c981402cb13c9843528ff9e9",
            "8b0425e0fdd843cf86085d51386976a7",
            "858b5508b9fb46358c399f98918c87fb",
            "303f2508a3c14980b6f28d92fe621b6e",
            "b9ccc05924ac488299a283e878d5c01d",
            "a7c1fc7212534b609191fded5c76e006",
            "69c81f2d4cbf41968be46c48aad487cc",
            "cb6e69b503fb4f64916314fe6043f537",
            "04f0b9f3e251413cb60011dcfe776d59",
            "b7bf65ec49664ab8ba95d35e9b1ef778",
            "63d942aff35746f5afbdff76fb5b1b88",
            "9c8dbdb6bf66449fafc3730fb5876cd3",
            "4f894d108cc9449fa31dc91caa760477",
            "920332d020ad4c8fb952cff8d3aa8278",
            "ab19a0bf01af4809b9db5c741544ec4f",
            "d0284cb8e23b4d3a96d582d27ae22a80",
            "3769ae99197c4391860b8bc75d372e6f",
            "ff0169ff405942b287be592844473573",
            "361399071d864869b654e6da3f4d5200"
          ]
        },
        "id": "38DTsde-j3To",
        "outputId": "22b7d983-9a2d-4296-b57e-b68f348706fc"
      },
      "execution_count": 6,
      "outputs": [
        {
          "output_type": "display_data",
          "data": {
            "text/plain": [
              "Downloading config.json:   0%|          | 0.00/1.38k [00:00<?, ?B/s]"
            ],
            "application/vnd.jupyter.widget-view+json": {
              "version_major": 2,
              "version_minor": 0,
              "model_id": "5beb5a275d1c4448b6be40662f39009e"
            }
          },
          "metadata": {}
        },
        {
          "output_type": "display_data",
          "data": {
            "text/plain": [
              "Downloading pytorch_model.bin:   0%|          | 0.00/850M [00:00<?, ?B/s]"
            ],
            "application/vnd.jupyter.widget-view+json": {
              "version_major": 2,
              "version_minor": 0,
              "model_id": "364a5ab403b54fa0a636b382448abb8e"
            }
          },
          "metadata": {}
        },
        {
          "output_type": "display_data",
          "data": {
            "text/plain": [
              "Downloading tokenizer_config.json:   0%|          | 0.00/1.88k [00:00<?, ?B/s]"
            ],
            "application/vnd.jupyter.widget-view+json": {
              "version_major": 2,
              "version_minor": 0,
              "model_id": "a3a2586d9e5246e2b370a85630133312"
            }
          },
          "metadata": {}
        },
        {
          "output_type": "display_data",
          "data": {
            "text/plain": [
              "Downloading spiece.model:   0%|          | 0.00/773k [00:00<?, ?B/s]"
            ],
            "application/vnd.jupyter.widget-view+json": {
              "version_major": 2,
              "version_minor": 0,
              "model_id": "edd89125fb254eee88bf18f40a7ba508"
            }
          },
          "metadata": {}
        },
        {
          "output_type": "display_data",
          "data": {
            "text/plain": [
              "Downloading tokenizer.json:   0%|          | 0.00/1.32M [00:00<?, ?B/s]"
            ],
            "application/vnd.jupyter.widget-view+json": {
              "version_major": 2,
              "version_minor": 0,
              "model_id": "7e83be4e21094059b49b7f98a5a44c66"
            }
          },
          "metadata": {}
        },
        {
          "output_type": "display_data",
          "data": {
            "text/plain": [
              "Downloading special_tokens_map.json:   0%|          | 0.00/1.74k [00:00<?, ?B/s]"
            ],
            "application/vnd.jupyter.widget-view+json": {
              "version_major": 2,
              "version_minor": 0,
              "model_id": "04f0b9f3e251413cb60011dcfe776d59"
            }
          },
          "metadata": {}
        }
      ]
    },
    {
      "cell_type": "markdown",
      "source": [
        "## Text to Text Settings\n",
        "\n",
        "A class called TTSettings() is used to control which algorithm is used and its settings. It is passed to the “args” parameter for HappyTextToText.generate_text().\n",
        "\n",
        "![image.png](data:image/png;base64,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)"
      ],
      "metadata": {
        "id": "6gsKaFBukGU7"
      }
    },
    {
      "cell_type": "markdown",
      "source": [
        "## First Input"
      ],
      "metadata": {
        "id": "vd7OrpFjl0e_"
      }
    },
    {
      "cell_type": "code",
      "source": [
        "beam_settings =  TTSettings(num_beams=5, min_length=1, max_length=100)\n",
        "input_text_1 = \"grammar: I I wants to go to market.\""
      ],
      "metadata": {
        "id": "s6mudPl_lDB5"
      },
      "execution_count": 7,
      "outputs": []
    },
    {
      "cell_type": "markdown",
      "source": [
        "## Generate output"
      ],
      "metadata": {
        "id": "0z1_Q9MxlY7o"
      }
    },
    {
      "cell_type": "code",
      "source": [
        "output_text_1 = happy_tt.generate_text(input_text_1, args=beam_settings)\n",
        "print(output_text_1.text)"
      ],
      "metadata": {
        "colab": {
          "base_uri": "https://localhost:8080/"
        },
        "id": "SjyuGDw6lXvo",
        "outputId": "0eda85d2-46db-4866-ba30-55fe350b5d1d"
      },
      "execution_count": 8,
      "outputs": [
        {
          "output_type": "stream",
          "name": "stdout",
          "text": [
            "I want to go to market.\n"
          ]
        }
      ]
    },
    {
      "cell_type": "markdown",
      "source": [
        "## Second Input"
      ],
      "metadata": {
        "id": "UXuuR697l3X8"
      }
    },
    {
      "cell_type": "code",
      "source": [
        "input_text_2 = \"grammar: Ramesh and I goes to the market \"\n",
        "output_text_1 = happy_tt.generate_text(input_text_2, args=beam_settings)\n",
        "print(output_text_1.text)"
      ],
      "metadata": {
        "colab": {
          "base_uri": "https://localhost:8080/"
        },
        "id": "Lp8kAoY4l5rh",
        "outputId": "c7d5627f-fdc4-48d4-f842-6141c38cc5aa"
      },
      "execution_count": 10,
      "outputs": [
        {
          "output_type": "stream",
          "name": "stdout",
          "text": [
            "Ramesh and I go to the market.\n"
          ]
        }
      ]
    },
    {
      "cell_type": "code",
      "source": [
        "happy_tt.save(\"/content/grammar\")"
      ],
      "metadata": {
        "id": "4iGFA6ksw233"
      },
      "execution_count": 12,
      "outputs": []
    },
    {
      "cell_type": "code",
      "source": [
        "model = HappyTextToText(model_type=\"T5\", model_name=\"vennify/t5-base-grammar-correction\", load_path=\"/content/grammar\")"
      ],
      "metadata": {
        "id": "Lqg_CMKizmen"
      },
      "execution_count": 16,
      "outputs": []
    },
    {
      "cell_type": "code",
      "source": [
        "input_text3 = \"grammar: I eats rice\"\n",
        "output = model.generate_text(input_text3,args=beam_settings)\n",
        "print(output.text)"
      ],
      "metadata": {
        "colab": {
          "base_uri": "https://localhost:8080/"
        },
        "id": "GrUKKy-I2CZ9",
        "outputId": "0167ae2f-5518-4ab1-b9c4-4c27fff4a190"
      },
      "execution_count": 18,
      "outputs": [
        {
          "output_type": "stream",
          "name": "stdout",
          "text": [
            "I eat rice.\n"
          ]
        }
      ]
    },
    {
      "cell_type": "markdown",
      "source": [
        "## Sample Text"
      ],
      "metadata": {
        "id": "cHl1pXhV250L"
      }
    },
    {
      "cell_type": "code",
      "source": [
        "%%writefile sample.txt\n",
        "\"grammar: I eats rice\""
      ],
      "metadata": {
        "colab": {
          "base_uri": "https://localhost:8080/"
        },
        "id": "0m_oF-9g27aS",
        "outputId": "e2e432aa-46f3-4da9-dd93-940e2ba4a52f"
      },
      "execution_count": 23,
      "outputs": [
        {
          "output_type": "stream",
          "name": "stdout",
          "text": [
            "Overwriting sample.txt\n"
          ]
        }
      ]
    },
    {
      "cell_type": "code",
      "source": [
        "json.__version__"
      ],
      "metadata": {
        "colab": {
          "base_uri": "https://localhost:8080/",
          "height": 36
        },
        "id": "20JmriHs7jA3",
        "outputId": "cbb5a105-0960-4bc3-faf3-6c8e0c4efd54"
      },
      "execution_count": 27,
      "outputs": [
        {
          "output_type": "execute_result",
          "data": {
            "text/plain": [
              "'2.0.9'"
            ],
            "application/vnd.google.colaboratory.intrinsic+json": {
              "type": "string"
            }
          },
          "metadata": {},
          "execution_count": 27
        }
      ]
    },
    {
      "cell_type": "code",
      "source": [
        "from google.colab import drive\n",
        "drive.mount(\"/content/drive\")"
      ],
      "metadata": {
        "colab": {
          "base_uri": "https://localhost:8080/"
        },
        "id": "VkNe57ze765u",
        "outputId": "a3aecc8b-5485-4fc9-9ee9-04db7e2e269f"
      },
      "execution_count": 28,
      "outputs": [
        {
          "output_type": "stream",
          "name": "stdout",
          "text": [
            "Mounted at /content/drive\n"
          ]
        }
      ]
    },
    {
      "cell_type": "code",
      "source": [
        "import shutil\n",
        "shutil.move(\"/content/grammar\",\"/content/drive/MyDrive/AFW\")"
      ],
      "metadata": {
        "colab": {
          "base_uri": "https://localhost:8080/",
          "height": 36
        },
        "id": "0jKXcqQO8sCc",
        "outputId": "4a6d62f8-187a-44b9-863d-3fe7dea4cf75"
      },
      "execution_count": 29,
      "outputs": [
        {
          "output_type": "execute_result",
          "data": {
            "text/plain": [
              "'/content/drive/MyDrive/AFW/grammar'"
            ],
            "application/vnd.google.colaboratory.intrinsic+json": {
              "type": "string"
            }
          },
          "metadata": {},
          "execution_count": 29
        }
      ]
    },
    {
      "cell_type": "markdown",
      "source": [
        "## Inference Script"
      ],
      "metadata": {
        "id": "AjT63ZpE68ob"
      }
    },
    {
      "cell_type": "code",
      "source": [
        "from happytransformer import HappyTextToText, TTSettings\n",
        "import json\n",
        "import re\n",
        "def preprocess_function(input_data,content_type = None ):\n",
        "    with open(input_data,\"r\") as f:\n",
        "      data = f.read()\n",
        "    print(data)\n",
        "    return data\n",
        "\n",
        "#\n",
        "def predict_function(input_data, model): \n",
        "    beam_settings =  TTSettings(num_beams=5, min_length=1, max_length=100)\n",
        "    return model.generate_text(input_data, args=beam_settings)\n",
        "#\n",
        "def model_load_function(model_file):\n",
        "    # load model\n",
        "    model = HappyTextToText(model_type=\"T5\", \n",
        "                            model_name=\"vennify/t5-base-grammar-correction\", \n",
        "                            load_path=model_file)\n",
        "    return model\n",
        "#\n",
        "def postprocess_function(predictions,content_type = None ):\n",
        "    output = predictions.text\n",
        "    \n",
        "    return json.dumps({\"response\": \"Text Generated  : {}\".format(output)})\n",
        "\n",
        "if __name__ == \"__main__\":\n",
        "    data_path = \"/content/sample.txt\"\n",
        "    input_data = preprocess_function(data_path)\n",
        "    model_file = \"/content/grammar\"\n",
        "    model = model_load_function(model_file)\n",
        "    predictions = predict_function(input_data, model)\n",
        "    output = postprocess_function(predictions)\n",
        "    print(output)"
      ],
      "metadata": {
        "colab": {
          "base_uri": "https://localhost:8080/"
        },
        "id": "JjmWL88-zWvB",
        "outputId": "7bc35799-2b38-4eac-811c-4649bfd4d948"
      },
      "execution_count": 24,
      "outputs": [
        {
          "output_type": "stream",
          "name": "stdout",
          "text": [
            "\"grammar: I eats rice\"\n",
            "\n",
            "{\"response\": \"Text Generated  : I eat rice.\"}\n"
          ]
        }
      ]
    },
    {
      "cell_type": "markdown",
      "source": [
        "## Fine-Tune a Transformer Model for Grammar Correction"
      ],
      "metadata": {
        "id": "gsCA229Wm8Um"
      }
    },
    {
      "cell_type": "markdown",
      "source": [
        "https://www.vennify.ai/fine-tune-grammar-correction/"
      ],
      "metadata": {
        "id": "nJ8TnZ_yuITe"
      }
    },
    {
      "cell_type": "code",
      "source": [],
      "metadata": {
        "id": "XkAVViuvmXNT"
      },
      "execution_count": null,
      "outputs": []
    }
  ]
}